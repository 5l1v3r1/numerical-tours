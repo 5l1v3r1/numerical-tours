{
 "metadata": {
  "name": "",
  "signature": "sha256:904cf6924529e3a1819e738a829a058aef9d48beca630f1a412150e413b81d97"
 },
 "nbformat": 3,
 "nbformat_minor": 0,
 "worksheets": [
  {
   "cells": [
    {
     "cell_type": "heading",
     "level": 1,
     "metadata": {},
     "source": [
      "Le traitement num\u00e9rique des images"
     ]
    },
    {
     "cell_type": "markdown",
     "metadata": {},
     "source": [
      "Cette page reprend\n",
      "[l'article publi\u00e9 sur le site web Images des math\u00e9matiques](<http://images.math.cnrs.fr/Le-traitement-numerique-des-images.html).\n",
      "\n",
      "Les appareils num\u00e9riques photographient de mani\u00e8re tr\u00e8s pr\u00e9cise le monde\n",
      "qui nous entoure. L'utilisateur souhaite pouvoir stocker avec un encombrement\n",
      "minimal ses photos sur son disque dur. Il souhaite \u00e9galement pouvoir les retoucher\n",
      "afin d'am\u00e9liorer leur qualit\u00e9. Cet article pr\u00e9sente les outils math\u00e9matiques et\n",
      "informatiques qui permettent d'effectuer ces diff\u00e9rentes t\u00e2ches.\n",
      "\n",
      "\n",
      "Cet article pr\u00e9sente quelques concepts du [traitement](http://fr.wikipedia.org/wiki/Traitement_d'images)\n",
      "math\u00e9matique des\n",
      "images num\u00e9riques. Ces traitements permettent de stocker plus facilement\n",
      "les images et d'am\u00e9liorer leur qualit\u00e9. Les math\u00e9matiques utilis\u00e9es dans\n",
      "cet article correspondent au niveau de la classe de troisi\u00e8me. Les mots\n",
      "cl\u00e9s en rouge pointent vers les pages [Wikip\u00e9dia](http://fr.wikipedia.org/)\n",
      "correspondantes. Ils sont\n",
      "repris \u00e0 la fin de l'article dans un glossaire.\n",
      "\n",
      "_Mot clefs :_ image, bits, carr\u00e9, racine carr\u00e9e, inverse, logarithme, moyenne, m\u00e9diane."
     ]
    },
    {
     "cell_type": "markdown",
     "metadata": {},
     "source": [
      "*Important:* You need to download the file `nt_toolbox.py` from the \n",
      "root of the github repository. $\\newcommand{\\dotp}[2]{\\langle #1, #2 \\rangle}\n",
      "\\newcommand{\\enscond}[2]{\\lbrace #1, #2 \\rbrace}\n",
      "\\newcommand{\\pd}[2]{ \\frac{ \\partial #1}{\\partial #2} }\n",
      "\\newcommand{\\umin}[1]{\\underset{#1}{\\min}\\;}\n",
      "\\newcommand{\\umax}[1]{\\underset{#1}{\\max}\\;}\n",
      "\\newcommand{\\umin}[1]{\\underset{#1}{\\min}\\;}\n",
      "\\newcommand{\\uargmin}[1]{\\underset{#1}{argmin}\\;}\n",
      "\\newcommand{\\norm}[1]{\\|#1\\|}\n",
      "\\newcommand{\\abs}[1]{\\left|#1\\right|}\n",
      "\\newcommand{\\choice}[1]{ \\left\\{  \\begin{array}{l} #1 \\end{array} \\right. }\n",
      "\\newcommand{\\pa}[1]{\\left(#1\\right)}\n",
      "\\newcommand{\\diag}[1]{{diag}\\left( #1 \\right)}\n",
      "\\newcommand{\\qandq}{\\quad\\text{and}\\quad}\n",
      "\\newcommand{\\qwhereq}{\\quad\\text{where}\\quad}\n",
      "\\newcommand{\\qifq}{ \\quad \\text{if} \\quad }\n",
      "\\newcommand{\\qarrq}{ \\quad \\Longrightarrow \\quad }\n",
      "\\newcommand{\\ZZ}{\\mathbb{Z}}\n",
      "\\newcommand{\\CC}{\\mathbb{C}}\n",
      "\\newcommand{\\RR}{\\mathbb{R}}\n",
      "\\newcommand{\\EE}{\\mathbb{E}}\n",
      "\\newcommand{\\Zz}{\\mathcal{Z}}\n",
      "\\newcommand{\\Ww}{\\mathcal{W}}\n",
      "\\newcommand{\\Vv}{\\mathcal{V}}\n",
      "\\newcommand{\\Nn}{\\mathcal{N}}\n",
      "\\newcommand{\\NN}{\\mathcal{N}}\n",
      "\\newcommand{\\Hh}{\\mathcal{H}}\n",
      "\\newcommand{\\Bb}{\\mathcal{B}}\n",
      "\\newcommand{\\Ee}{\\mathcal{E}}\n",
      "\\newcommand{\\Cc}{\\mathcal{C}}\n",
      "\\newcommand{\\Gg}{\\mathcal{G}}\n",
      "\\newcommand{\\Ss}{\\mathcal{S}}\n",
      "\\newcommand{\\Pp}{\\mathcal{P}}\n",
      "\\newcommand{\\Ff}{\\mathcal{F}}\n",
      "\\newcommand{\\Xx}{\\mathcal{X}}\n",
      "\\newcommand{\\Mm}{\\mathcal{M}}\n",
      "\\newcommand{\\Ii}{\\mathcal{I}}\n",
      "\\newcommand{\\Dd}{\\mathcal{D}}\n",
      "\\newcommand{\\Ll}{\\mathcal{L}}\n",
      "\\newcommand{\\Tt}{\\mathcal{T}}\n",
      "\\newcommand{\\si}{\\sigma}\n",
      "\\newcommand{\\al}{\\alpha}\n",
      "\\newcommand{\\la}{\\lambda}\n",
      "\\newcommand{\\ga}{\\gamma}\n",
      "\\newcommand{\\Ga}{\\Gamma}\n",
      "\\newcommand{\\La}{\\Lambda}\n",
      "\\newcommand{\\si}{\\sigma}\n",
      "\\newcommand{\\Si}{\\Sigma}\n",
      "\\newcommand{\\be}{\\beta}\n",
      "\\newcommand{\\de}{\\delta}\n",
      "\\newcommand{\\De}{\\Delta}\n",
      "\\renewcommand{\\phi}{\\varphi}\n",
      "\\renewcommand{\\th}{\\theta}\n",
      "\\newcommand{\\om}{\\omega}\n",
      "\\newcommand{\\Om}{\\Omega}$"
     ]
    },
    {
     "cell_type": "code",
     "collapsed": false,
     "input": [
      "from __future__ import division\n",
      "from nt_toolbox import *\n",
      "%pylab inline\n",
      "%matplotlib inline\n",
      "%load_ext autoreload\n",
      "%autoreload 2"
     ],
     "language": "python",
     "metadata": {},
     "outputs": [
      {
       "output_type": "stream",
       "stream": "stdout",
       "text": [
        "Populating the interactive namespace from numpy and matplotlib\n",
        "The autoreload extension is already loaded. To reload it, use:\n",
        "  %reload_ext autoreload\n"
       ]
      },
      {
       "output_type": "stream",
       "stream": "stderr",
       "text": [
        "WARNING: pylab import has clobbered these variables: ['pylab', 'f']\n",
        "`%matplotlib` prevents importing * from pylab and numpy\n"
       ]
      }
     ],
     "prompt_number": 10
    },
    {
     "cell_type": "heading",
     "level": 2,
     "metadata": {},
     "source": [
      "Les pixels d'une image"
     ]
    },
    {
     "cell_type": "markdown",
     "metadata": {},
     "source": [
      "Une [image num\u00e9rique](http://fr.wikipedia.org/wiki/Image_num%C3%A9rique)\n",
      "en niveaux de gris est un tableau de valeurs. Chaque\n",
      "case de ce tableau, qui stocke une valeur, se nomme un [pixel](http://fr.wikipedia.org/wiki/Pixel).\n",
      "En notant $n$ le nombre de lignes et $p$ le nombre de colonnes de l'image,\n",
      "on manipule ainsi un tableau de $n \\times p$ pixels.\n",
      "\n",
      "\n",
      "\n",
      "La figure ci-dessous montre une visualisation d'un tableau carr\u00e9 avec\n",
      "$n=p=240$, ce qui repr\u00e9sente  $240\\times 240$=57600 pixels. Les\n",
      "[appareils photos num\u00e9riques](http://fr.wikipedia.org/wiki/Appareil_photographique_num%C3%A9rique)\n",
      "peuvent enregistrer des images beaucoup plus grandes,\n",
      "avec plusieurs [millions de pixels](http://en.wikipedia.org/wiki/Gigapixel_image)."
     ]
    },
    {
     "cell_type": "code",
     "collapsed": false,
     "input": [
      "n = 256\n",
      "name = 'data/flowers.png'\n",
      "name = 'data/hibiscus.bmp'\n",
      "f = matplotlib.imread(name);\n",
      "imageplot(f)"
     ],
     "language": "python",
     "metadata": {},
     "outputs": [
      {
       "ename": "NameError",
       "evalue": "name 'matplotlib' is not defined",
       "output_type": "pyerr",
       "traceback": [
        "\u001b[0;31m---------------------------------------------------------------------------\u001b[0m\n\u001b[0;31mNameError\u001b[0m                                 Traceback (most recent call last)",
        "\u001b[0;32m<ipython-input-3-923678b3890c>\u001b[0m in \u001b[0;36m<module>\u001b[0;34m()\u001b[0m\n\u001b[1;32m      2\u001b[0m \u001b[0mname\u001b[0m \u001b[0;34m=\u001b[0m \u001b[0;34m'data/flowers.png'\u001b[0m\u001b[0;34m\u001b[0m\u001b[0m\n\u001b[1;32m      3\u001b[0m \u001b[0mname\u001b[0m \u001b[0;34m=\u001b[0m \u001b[0;34m'data/hibiscus.bmp'\u001b[0m\u001b[0;34m\u001b[0m\u001b[0m\n\u001b[0;32m----> 4\u001b[0;31m \u001b[0mf\u001b[0m \u001b[0;34m=\u001b[0m \u001b[0mmatplotlib\u001b[0m\u001b[0;34m.\u001b[0m\u001b[0mimread\u001b[0m\u001b[0;34m(\u001b[0m\u001b[0mname\u001b[0m\u001b[0;34m)\u001b[0m\u001b[0;34m;\u001b[0m\u001b[0;34m\u001b[0m\u001b[0m\n\u001b[0m\u001b[1;32m      5\u001b[0m \u001b[0mimageplot\u001b[0m\u001b[0;34m(\u001b[0m\u001b[0mf\u001b[0m\u001b[0;34m)\u001b[0m\u001b[0;34m\u001b[0m\u001b[0m\n",
        "\u001b[0;31mNameError\u001b[0m: name 'matplotlib' is not defined"
       ]
      }
     ],
     "prompt_number": 3
    },
    {
     "cell_type": "markdown",
     "metadata": {},
     "source": [
      "Les valeurs des pixels sont enregistr\u00e9es dans [l'ordinateur](http://fr.wikipedia.org/wiki/Ordinateur) ou\n",
      "[l'appareil photo num\u00e9rique](http://fr.wikipedia.org/wiki/Appareil_photographique_num%C3%A9rique)\n",
      "sous forme\n",
      "de [nombres entiers](http://fr.wikipedia.org/wiki/Entier_relatif) entre 0 et 255,\n",
      "ce qui fait 256 valeurs possibles pour chaque pixel.\n",
      "\n",
      "La valeur 0 correspond au noir, et la valeur 255 correspond au blanc. Les\n",
      "valeurs interm\u00e9diaires correspondent \u00e0 des [niveaux de gris](http://fr.wikipedia.org/wiki/Niveau_de_gris)\n",
      "allant du noir au blanc.\n",
      "\n",
      "La figure ci-dessous montre un sous-tableau de $6 \\times 6$ pixels extrait de\n",
      "l'image pr\u00e9c\u00e9dente. On peut voir \u00e0 la fois les valeurs qui composent le tableau et les niveaux de gris qui permettent d'afficher l'image \u00e0 l'\u00e9cran."
     ]
    },
    {
     "cell_type": "code",
     "collapsed": false,
     "input": [
      "selx = 19: 24\n",
      "sely = 62: 67\n",
      "\n",
      "image(f(selx, sely)*255); axis image; axis off\n",
      "disp(floor(255*f(selx, sely)))"
     ],
     "language": "python",
     "metadata": {},
     "outputs": []
    },
    {
     "cell_type": "markdown",
     "metadata": {},
     "source": [
      "Les valeurs de l'images extraite sont:\n",
      "$$\n",
      "\\left[\n",
      "\\begin{array}{ccc}\n",
      "  43    &43   & 43  &  41  &  40 &   39 \\\\\n",
      "  48    &49   & 46  &  42 &   44  &  43\\\\\n",
      "  110   & 79  &  54 &   47  &  48 &   45\\\\\n",
      "  190   &192  & 190  & 153  &  99 &   54\\\\\n",
      "  150   &166  & 189 &  203  & 183 &  170\\\\\n",
      "  131   &140  & 145 &  161  & 165 &  178\\\\\n",
      "\\end{array}\n",
      "\\right]\n",
      "$$"
     ]
    },
    {
     "cell_type": "heading",
     "level": 2,
     "metadata": {},
     "source": [
      "Stocker une image"
     ]
    },
    {
     "cell_type": "markdown",
     "metadata": {},
     "source": [
      "Stocker de grandes images sur le [disque dur](http://fr.wikipedia.org/wiki/Disque_dur)\n",
      "d'un ordinateur prend\n",
      "beaucoup de place. Les nombres entiers sont stock\u00e9s\n",
      "en [\u00e9criture binaire](http://fr.wikipedia.org/wiki/Syst%C3%A8me_binaire),\n",
      "c'est-\u00e0-dire sous la forme d'une succession\n",
      "de 0 et de 1. Chaque 0 et chaque 1 se stocke sur une unit\u00e9 \u00e9l\u00e9mentaire\n",
      "de stockage, appel\u00e9e [bit](http://fr.wikipedia.org/wiki/Bit).\n",
      "\n",
      "\n",
      "Pour obtenir l'\u00e9criture binaire d'un pixel ayant comme valeur 179,\n",
      "il faut d\u00e9composer cette valeur comme somme de puissances de deux.\n",
      "On obtient ainsi\n",
      "$$ 179=2^7+2^5+2^4+2+1, $$\n",
      "o\u00f9 l'on a pris soin d'ordonner les puissances de deux par ordre\n",
      "d\u00e9croissant. Afin de faire mieux appara\u00eetre l'\u00e9criture binaire,\n",
      "on ajoute \"$1 \\times$\" devant chaque puissance qui appara\u00eet dans l'\u00e9criture,\n",
      "et \"$0\\times$\" devant les puissances qui n'apparaissent pas\n",
      "$$ 179=1 \\times 2^7 + 0 \\times 26 + 1 \\times 2^5 + 1 \\times 24 +\n",
      "  0 \\times 2^3 + 0 \\times 22 + 1 \\times 2^1 + 1 \\times 2^0. $$\n",
      "\n",
      "\n",
      "Avec une telle \u00e9criture,\n",
      "la valeur de chaque pixel, qui est un nombre entre 0 et 255, n\u00e9cessite\n",
      "$$ \\log_2(256) = 8 \\text{ bits}. $$\n",
      "La fonction $\\log_2$ est le logarithme en base 2, et ce calcul exprime\n",
      "le fait que\n",
      "$$ 256=2^8 = 2 \\times 2 \\times 2 \\times 2 \\times 2 \\times 2 \\times 2 \\times 2.  $$\n",
      "L'\u00e9criture binaire de la valeur 179 du pixel est ainsi $(1,0,1,1,0,0,1,1)$,\n",
      "o\u00f9 chaque 1 et chaque 0 correspond au facteur multiplicatif qui appara\u00eet devant chaque puissance.\n",
      "\n",
      "\n",
      "On peut \u00e9crire toute valeur entre 0 et 255 de cet mani\u00e8re,\n",
      "ce qui n\u00e9cessite d'utilisation de 8 bits. Il y a en effet\n",
      "256 valeurs possibles, et $256=2^8$. Pour stocker l'image compl\u00e8te, on a donc besoin de\n",
      "$$ n \\times p \\times 8 \\text{ bits}. $$\n",
      "\n",
      "\n",
      "Pour stocker l'image compl\u00e8te, on a donc besoin de\n",
      "$$ n \\times p \\times 8  \\text{ bits}. $$\n",
      "Pour l'image montr\u00e9e aux figure pr\u00e9c\u00e9dentes, on a ainsi besoin de\n",
      "$$ 256 \\times 256 \\times 8 = 524288 \\text{ bits}. $$\n",
      "\n",
      "\n",
      "Pour l'image montr\u00e9e \u00e0 la premi\u00e8re figure, on a ainsi besoin de\n",
      "$$ 240 \\times 240 \\times 8 = 460800 \\text{ bits.} $$\n",
      "On utilise le plus souvent [l'octet](http://fr.wikipedia.org/wiki/Octet) (8 bits) comme unit\u00e9,\n",
      "de sorte que cette image n\u00e9cessite 57,6ko (kilo octets)."
     ]
    },
    {
     "cell_type": "heading",
     "level": 2,
     "metadata": {},
     "source": [
      "La r\u00e9solution d'une image"
     ]
    },
    {
     "cell_type": "markdown",
     "metadata": {},
     "source": [
      "Afin de r\u00e9duire la place de stockage d'une image, on peut r\u00e9duire sa\n",
      "[r\u00e9solution](http://fr.wikipedia.org/wiki/R%C3%A9solution_(imagerie_num%C3%A9rique)),\n",
      "c'est-\u00e0-dire diminuer le nombre de pixels.\n",
      "\n",
      "\n",
      "La fa\u00e7on la plus simple d'effectuer cette r\u00e9duction consiste \u00e0 supprimer des lignes et des colonnes dans l'image de d\u00e9part.\n",
      "\n",
      "\n",
      "La figure suivante montre ce que l'on obtient si l'on retient une ligne sur 4 et une colonne sur 4."
     ]
    },
    {
     "cell_type": "code",
     "collapsed": false,
     "input": [
      "sub = lambda f, k: f(1: k: end, 1: k: end)"
     ],
     "language": "python",
     "metadata": {},
     "outputs": []
    },
    {
     "cell_type": "code",
     "collapsed": false,
     "input": [
      "imageplot(sub(f, 4))"
     ],
     "language": "python",
     "metadata": {},
     "outputs": []
    },
    {
     "cell_type": "markdown",
     "metadata": {},
     "source": [
      "On a ainsi divis\u00e9 par $4 \\times 4 = 16$ le nombre de pixels de l'image,\n",
      "et donc \u00e9galement r\u00e9duit par 16 le nombre de bit n\u00e9cessaire pour stocker l'image sur\n",
      "un disque dur.\n",
      "\n",
      "\n",
      "La figure suivante montre les r\u00e9sultats obtenus en enlevant de plus en\n",
      "plus de lignes et de colonnes. Bien entendu, la qualit\u00e9 de l'image se\n",
      "d\u00e9grade vite."
     ]
    },
    {
     "cell_type": "code",
     "collapsed": false,
     "input": [
      "klist = [2 4 8 16]\n",
      "\n",
      "for i in 1: length(klist):\n",
      "    k = klist(i)\n",
      "    imageplot(clamp(sub(f, k)), ['1 ligne/ colonne sur ' num2str(k)], 2, 2, i)"
     ],
     "language": "python",
     "metadata": {},
     "outputs": []
    },
    {
     "cell_type": "heading",
     "level": 2,
     "metadata": {},
     "source": [
      "Quantifier une image"
     ]
    },
    {
     "cell_type": "markdown",
     "metadata": {},
     "source": [
      "Une autre fa\u00e7on de r\u00e9duire la place m\u00e9moire n\u00e9cessaire pour le stockage\n",
      "consiste \u00e0 utiliser moins de nombres entirers pour chaque valeur.\n",
      "\n",
      "\n",
      "On peut par exemple utiliser uniquement des nombres entier entre 0 et 3,\n",
      "ce qui donnera une image avec uniquement 4 niveau de gris.\n",
      "\n",
      "\n",
      "On peut effectuer une conversion de l'image d'origine vers une image avec\n",
      "3 niveau de valeurs en effectuant les remplacements:\n",
      "\n",
      "\n",
      "- les valeurs dans $0,1,\\ldots,63$ sont remplac\u00e9es par la valeur 0,\n",
      "\n",
      "- les valeurs dans $64,1,\\ldots,127$ sont remplac\u00e9es par la valeur 1,\n",
      "\n",
      "- les valeurs dans $128,1,\\ldots,191$ sont remplac\u00e9es par la valeur 2,\n",
      "\n",
      "- les valeurs dans $192,\\ldots,255$ sont remplac\u00e9es par la valeur 3.\n",
      "\n",
      "\n",
      "Une telle op\u00e9ration se nomme [quantification](http://fr.wikipedia.org/wiki/Quantification_(signal)).\n",
      "\n",
      "\n",
      "La figure suivante montre l'image r\u00e9sultante avec 4 niveaux de couleurs.\n",
      "Les 4 valeurs sont affich\u00e9es en utilisant 4 niveaux de gris allant du noir\n",
      "au blanc."
     ]
    },
    {
     "cell_type": "code",
     "collapsed": false,
     "input": [
      "quant = lambda f, q: (round(q*rescale(f, 1e-3, 1-1e-3)-1/ 2) + 1/ 2)/ q\n",
      "\n",
      "imageplot(quant(f, 4), '4 niveaux de gris')"
     ],
     "language": "python",
     "metadata": {},
     "outputs": []
    },
    {
     "cell_type": "markdown",
     "metadata": {},
     "source": [
      "Nous avons d\u00e9j\u00e0 vu que l'on pouvait repr\u00e9senter toute valeur entre 0 et\n",
      "255 \u00e0 l'aide de 8 bits en utilisant l'\u00e9criture binaire. De fa\\c{c}on similaire,\n",
      "on v\u00e9rifie que toute valeur entre 0 et 3 peut se repr\u00e9senter \u00e0 l'aide de 2 bits.\n",
      "On obtient ainsi une r\u00e9duction d'un facteur 8/2=4 de la place\n",
      "[m\u00e9moire](http://fr.wikipedia.org/wiki/M%C3%A9moire_(informatique)) n\u00e9cessaire\n",
      "pour le stockage de l'image sur un disque dur.\n",
      "\n",
      "\n",
      "La figure suivante montre les r\u00e9sultats obtenus en utilisant de moins en\n",
      "moins de niveaux de gris."
     ]
    },
    {
     "cell_type": "code",
     "collapsed": false,
     "input": [
      "qlist = [16, 4, 3, 2]\n",
      "\n",
      "for i in 1: length(qlist):\n",
      "    q = qlist(i)\n",
      "    f1 = quant(f, q); f1(1) = 0; f1(2) = 1\n",
      "    imageplot(f1, [num2str(q) ' niveaux de gris'], 2, 2, i)"
     ],
     "language": "python",
     "metadata": {},
     "outputs": []
    },
    {
     "cell_type": "markdown",
     "metadata": {},
     "source": [
      "Tout comme pour la r\u00e9duction du nombre de pixels, la r\u00e9duction du nombre\n",
      "de niveaux de gris influe beaucoup sur la qualit\u00e9 de l'image.\n",
      "Afin de r\u00e9duire au maximum la taille d'une image sans modifier sa qualit\u00e9,\n",
      "on utilise des m\u00e9thodes plus complexes de\n",
      "[compression d'image](http://fr.wikipedia.org/wiki/Compression_d%27image). La m\u00e9thode\n",
      "la plus efficace s'appelle\n",
      "[JPEG-2000](http://fr.wikipedia.org/wiki/Jpeg_2000).\n",
      "Elle utilise la th\u00e9orie des [ondelettes](http://fr.wikipedia.org/wiki/Ondelettes).\n",
      "Pour en savoir plus \u00e0 ce sujet, vous pouvez consuler cet\n",
      "[article d'Erwan Le\n",
      "Pennec](http://images.math.cnrs.fr/Compression-d-image.html)."
     ]
    },
    {
     "cell_type": "heading",
     "level": 2,
     "metadata": {},
     "source": [
      "Enlever le bruit par moyennes locales"
     ]
    },
    {
     "cell_type": "markdown",
     "metadata": {},
     "source": [
      "Les images sont parfois de mauvaise qualit\u00e9. Un exemple typique de d\u00e9faut\n",
      "est le [bruit](http://fr.wikipedia.org/wiki/Bruit_num%C3%A9rique)\n",
      "qui apparait quand une photo est\n",
      "[sous-expos\u00e9e](http://fr.wikipedia.org/wiki/Exposition_(photographie)), c'est-\u00e0-dire\n",
      "qu'il n'y a pas assez de luminosit\u00e9. Ce bruit se manifeste par de petites\n",
      "flucturation [al\u00e9atoires](http://fr.wikipedia.org/wiki/Suite_al%C3%A9atoire)\n",
      "des niveaux de gris. La figure ci-dessous montre\n",
      "une image bruit\u00e9e."
     ]
    },
    {
     "cell_type": "code",
     "collapsed": false,
     "input": [
      "name = 'boat'\n",
      "f = rescale(load_image(name, n))\n",
      "sigma = .08\n",
      "f = f + randn(n)*sigma\n",
      "\n",
      "imageplot(f)"
     ],
     "language": "python",
     "metadata": {},
     "outputs": []
    },
    {
     "cell_type": "markdown",
     "metadata": {},
     "source": [
      "Afin d'enlever le bruit dans les images, il convient de faire subir une\n",
      "modification aux valeurs de pixels.\n",
      "L'op\u00e9ration la plus simple consiste \u00e0 remplacer la valeur\n",
      "$a$ de chaque pixel par la [moyenne](http://fr.wikipedia.org/wiki/Moyenne) de\n",
      "$a$ et des 8 valeurs $b,c,d,e,f,g,h,i$ des 8 pixels voisins de a.\n",
      "\n",
      "Les valeurs des pixels sont positionn\u00e9es comme suit :\n",
      "$$\n",
      "\\left[\n",
      "\\begin{array}{ccc}\n",
      "      g & c & h \\\\\n",
      "      b & a & d \\\\\n",
      "      f & e & i\n",
      "\\end{array}\n",
      "\\right]\n",
      "  =\n",
      "\\left[\n",
      "\\begin{array}{ccc}\n",
      "      79 & 54 & 47 \\\\\n",
      "      192 & 190 & 153 \\\\\n",
      "      166 & 189 & 203\n",
      "\\end{array}\n",
      "\\right]\n",
      "$$\n",
      "\n",
      "On obtient ainsi une image modifi\u00e9e en rempla\\c{c}ant a par\n",
      "$$ \\frac{a+b+c+d+e+f+g+h+i}{9} $$\n",
      "puisque l'on fait la moyenne de 9 valeurs.\n",
      "Dans notre exemple, cette moyenne vaut\n",
      "$$ \\frac{190+192+79+54+47+153+203+189+166}{9} \\approx 141,4. $$\n",
      "En effectuant cette op\u00e9ration pour chaque pixel, on supprime une partie\n",
      "du bruit, car ce bruit est constitu\u00e9 de fluctuations al\u00e9atoires, qui sont\n",
      "diminu\u00e9es par un calcul de moyennes. La figure ci-dessous montre l'effet d'un tel calcul.\n",
      "\n",
      "\n",
      "La figure ci-dessous montre l'effet d'un tel moyennage."
     ]
    },
    {
     "cell_type": "code",
     "collapsed": false,
     "input": [
      "filt_moy = lambda f, k: perform_convolution(f, ones(2*k + 1)/ (2*k + 1)^2, 'sym')\n",
      "\n",
      "imageplot(clamp(f), 'Image bruit\u00e9e', 1, 2, 1)\n",
      "imageplot(clamp(filt_moy(f, 1)), 'Image moyenn\u00e9e', 1, 2, 2)"
     ],
     "language": "python",
     "metadata": {},
     "outputs": []
    },
    {
     "cell_type": "markdown",
     "metadata": {},
     "source": [
      "Tout le bruit n'a pas \u00e9t\u00e9 enlev\u00e9 par cette op\u00e9ration. Afin d'enlever plus\n",
      "de bruit, on peut moyenner plus de valeurs autour de chaque pixel.\n",
      "La figure suivante montre le r\u00e9sultat obtenu en moyennant de plus en plus\n",
      "de valeurs."
     ]
    },
    {
     "cell_type": "code",
     "collapsed": false,
     "input": [
      "klist = [1 2 3 4]\n",
      "\n",
      "for i in 1: length(klist):\n",
      "    k = klist(i)\n",
      "    f1 = filt_moy(f, k)\n",
      "    imageplot(clamp(f1), ['Moyenne de ' num2str((2*k + 1)^2) ' pixels'], 2, 2, i)"
     ],
     "language": "python",
     "metadata": {},
     "outputs": []
    },
    {
     "cell_type": "markdown",
     "metadata": {},
     "source": [
      "Le moyennage des pixels est tr\u00e8s efficace pour enlever le bruit dans les\n",
      "images, malheureusement il d\u00e9truit \u00e9galement une grande partie de\n",
      "l'information de l'image. on peut en effet s'appercevoir que les images\n",
      "obtenues par moyennage sont [floues](http://fr.wikipedia.org/wiki/Flou,_nettet%C3%A9_et_contraste). Ceci est en particulier visible pr\u00e8s\n",
      "des contours, qui ne sont pas nets."
     ]
    },
    {
     "cell_type": "heading",
     "level": 2,
     "metadata": {},
     "source": [
      "Enlever le bruit par m\u00e9diane"
     ]
    },
    {
     "cell_type": "markdown",
     "metadata": {},
     "source": [
      "Afin de r\u00e9duire ce flou, il faut remplacer le moyennage par une op\u00e9ration\n",
      "un peu plus complexe, que l'on nomme [mediane](http://fr.wikipedia.org/wiki/M%C3%A9diane).\n",
      "\n",
      "\n",
      "Etant donn\u00e9 la valeur $a$ d'un pixel, et les valeurs\n",
      "$b,c,d,e,f,g,h,i$, on commence par les classer\n",
      "par [croissant](http://fr.wikipedia.org/wiki/Ordre_croissant ordre).\n",
      "\n",
      "\n",
      "Dans l'exemple du voisinage de 9 pixels utilis\u00e9 \u00e0 la section pr\u00e9c\u00e9dente,\n",
      "on obtient les 9 valeurs class\u00e9es\n",
      "$$ 47,54,79,153,166,189,190,192,203. $$\n",
      "La m\u00e9diane des neuf valeurs $a,b,c,d,e,f,g,h,i$\n",
      "est la $5^\\text{e}$ valeur de ce classement (c'est-\u00e0-dire la\n",
      "valeur centrale de ce classement).\n",
      "\n",
      "\n",
      "Dans notre cas, la m\u00e9diane est donc 166. Notez que ce nombre est en g\u00e9n\u00e9ral\n",
      "diff\u00e9rent de la moyenne, qui vaut, pour notre exemple 141,4.\n",
      "\n",
      "\n",
      "La figure ci-dessous compare le d\u00e9bruitage obtenu en effectuant la\n",
      "moyenne et la m\u00e9diane de 9 pixels voisins."
     ]
    },
    {
     "cell_type": "code",
     "collapsed": false,
     "input": [
      "filt_med = lambda f, k: perform_median_filtering(f, k)\n",
      "\n",
      "imageplot(clamp(filt_moy(f, 1)), 'Moyenne de 9 nombres', 1, 2, 1)\n",
      "imageplot(clamp(filt_med(f, 1)), 'M\u00e9diane de 9 nombres', 1, 2, 2)"
     ],
     "language": "python",
     "metadata": {},
     "outputs": []
    },
    {
     "cell_type": "markdown",
     "metadata": {},
     "source": [
      "Afin d'enlever plus de bruit, il suffit de calculer la m\u00e9diane sur un\n",
      "nombre plus grand de pixels voisins, comme montr\u00e9 \u00e0 la figure suivante."
     ]
    },
    {
     "cell_type": "code",
     "collapsed": false,
     "input": [
      "klist = [1 2 3 4]\n",
      "\n",
      "for i in 1: length(klist):\n",
      "    k = klist(i)\n",
      "    f1 = filt_med(f, k)\n",
      "    imageplot(clamp(f1), ['M\u00e9diane de ' num2str((2*k + 1)^2) ' pixels'], 2, 2, i)"
     ],
     "language": "python",
     "metadata": {},
     "outputs": []
    },
    {
     "cell_type": "markdown",
     "metadata": {},
     "source": [
      "On constate que cette m\u00e9thode est plus performante que le calcul de\n",
      "moyennes, car les images r\u00e9sultantes sont moins floues. Cependant, tout comme\n",
      "avec le calcul de moyennes, si l'on prend des voisinages trop grands, on perd\n",
      "aussi de l'information de l'image, en particulier les bords des objets sont d\u00e9grad\u00e9s."
     ]
    },
    {
     "cell_type": "heading",
     "level": 2,
     "metadata": {},
     "source": [
      "D\u00e9tecter les bords des objets"
     ]
    },
    {
     "cell_type": "markdown",
     "metadata": {},
     "source": [
      "Affin de localiser des objets dans les images, il est n\u00e9cessaire de\n",
      "d\u00e9tecter les [bords](http://fr.wikipedia.org/wiki/D%C3%A9tection_de_contours)\n",
      "de ces objets. Ces bords correspondent \u00e0 des\n",
      "zones de l'image o\u00f9 les valeurs des pixels changent rapidement. C'est le\n",
      "cas par exemple lorsque l'on passe de la coque du bateau (qui est sombre,\n",
      "donc avec des valeurs petites) \u00e0 la mer (qui est claire, donc avec des\n",
      "valeurs grandes).\n",
      "\n",
      "\n",
      "Afin de quantifier combien un pixel avec une valeur $a$ est un bord,\n",
      "on prend en compte les valeurs $b,c,d,e$ de ses quatre voisins (deux\n",
      "horizontallement et deux verticalements). Dans le cas consid\u00e9r\u00e9\n",
      "pr\u00e9c\u00e9demment, on obtient :\n",
      "$$\n",
      "\\left[\n",
      "\\begin{array}{ccc}\n",
      "       & c &  \\\\\n",
      "      b & a & d \\\\\n",
      "       & e &\n",
      "\\end{array}\n",
      "\\right]\n",
      "  =\n",
      "\\left[\n",
      "\\begin{array}{ccc}\n",
      "       & 54 &  \\\\\n",
      "      192 & 190 & 153 \\\\\n",
      "       & 189 &\n",
      "\\end{array}\n",
      "\\right]\n",
      "$$\n",
      "\n",
      "\n",
      "Notons que l'on utilise ici seulement 4 voisins, ce qui est diff\u00e9rent du\n",
      "calcul de moyennes et de m\u00e9dianes o\u00f9 l'on utilisait 8 voisins.\n",
      "Ceci est important afin de d\u00e9tecter aussi pr\u00e9cis\u00e9ment que possible les bords des objets.\n",
      "\n",
      "\n",
      "On calcule une valeur $\\ell$ suivant la formule\n",
      "$$ \\ell = \\sqrt{ (b-d)^2 + (c-e)^2 }.  $$\n",
      "Dans notre exemple, on obtient donc\n",
      "$$ \\ell= \\sqrt{ (192 - 153)^2 + (189 - 54)^2 } = \\sqrt{19746} \\approx 140,5. $$\n",
      "\n",
      "\n",
      "On peut remarquer que si $\\ell=0$, alors on a $b=c$\n",
      "et $d=e$. Au contraire, si\n",
      "$\\ell$ est grand, ceci signifie que les pixels voisins ont des valeurs tr\u00e8s\n",
      "diff\u00e9rentes, le pixel consid\u00e9r\u00e9 est donc probablement sur le bord d'un objet.\n",
      "\n",
      "\n",
      "La figure suivante montre l'image obtenue en calculant la valeur $\\ell$\n",
      "associ\u00e9e \u00e0 chaque pixel. On a affich\u00e9 ces valeurs avec du noir quand\n",
      "$\\ell=0$,  du blanc quand $\\ell$ est grand,\n",
      "et on a utilis\u00e9 des niveaux de gris interm\u00e9diaire pour les valeurs entre 0 et 1."
     ]
    },
    {
     "cell_type": "code",
     "collapsed": false,
     "input": [
      "n = 256\n",
      "name = 'hibiscus'\n",
      "f = load_image(name, n)\n",
      "f = rescale(sum(f, 3))"
     ],
     "language": "python",
     "metadata": {},
     "outputs": []
    },
    {
     "cell_type": "code",
     "collapsed": false,
     "input": [
      "s1 = [1 1: n-1]; s2 = [2: n n]\n",
      "edge = lambda f: sqrt((f(s1, : ) - f(s2, : )).^2 + (f(: , s1) - f(: , s2)).^2)"
     ],
     "language": "python",
     "metadata": {},
     "outputs": []
    },
    {
     "cell_type": "code",
     "collapsed": false,
     "input": [
      "imageplot(f, 'Image', 1, 2, 1)\n",
      "imageplot(edge(f), 'Carte de l', 1, 2, 2)"
     ],
     "language": "python",
     "metadata": {},
     "outputs": []
    },
    {
     "cell_type": "markdown",
     "metadata": {},
     "source": [
      "On peut voir que dans l'image de droite, les contours des objets\n",
      "ressortent en blanc, car ils correspondent aux grandes valeurs de $\\ell$."
     ]
    },
    {
     "cell_type": "heading",
     "level": 2,
     "metadata": {},
     "source": [
      "Les images couleurs"
     ]
    },
    {
     "cell_type": "markdown",
     "metadata": {},
     "source": [
      "Une [couleur](http://fr.wikipedia.org/wiki/Couleur image)\n",
      "est en r\u00e9alit\u00e9 compos\u00e9e de trois images ind\u00e9pendantes,\n",
      "afin de repr\u00e9senter le\n",
      "[rouge, le vert, et le bleu](http://fr.wikipedia.org/wiki/Rouge_vert_bleu).\n",
      "Chacune de ces trois\n",
      "image s'appelle un [canal](http://fr.wikipedia.org/wiki/Codage_informatique_des_couleurs).\n",
      "Cette repr\u00e9sentation en rouge, vert et bleu mime le fonctionnement du\n",
      "syst\u00e8me visuel humain.\n",
      "\n",
      "\n",
      "La figure suivante montre une image couleur, qui est d\u00e9compos\u00e9e en ses\n",
      "trois canaux constitutifs."
     ]
    },
    {
     "cell_type": "code",
     "collapsed": false,
     "input": [
      "name = 'hibiscus'\n",
      "f = rescale(load_image(name, n))"
     ],
     "language": "python",
     "metadata": {},
     "outputs": []
    },
    {
     "cell_type": "code",
     "collapsed": false,
     "input": [
      "f1 = cat(3, f(: , : , 1), zeros(n), zeros(n))\n",
      "f2 = cat(3, zeros(n), f(: , : , 2), zeros(n))\n",
      "f3 = cat(3, zeros(n), zeros(n), f(: , : , 3))"
     ],
     "language": "python",
     "metadata": {},
     "outputs": []
    },
    {
     "cell_type": "code",
     "collapsed": false,
     "input": [
      "imageplot({f f1 f2 f3}, ...\n",
      "        {'Image couleur' 'Canal rouge' 'Canal vert' 'Canal bleu'}, 2, 2)"
     ],
     "language": "python",
     "metadata": {},
     "outputs": []
    },
    {
     "cell_type": "markdown",
     "metadata": {},
     "source": [
      "Chaque pixel de l'image couleur contient ainsi trois nombres $ (r,v,b) $,\n",
      "chacun \u00e9tant un nombre entier entre 0 et 255.\n",
      "Si le pixel est \u00e9gal \u00e0 $(r,v,b)=(255,0,0)$, il ne contient que de l'information\n",
      "rouge, et est affich\u00e9 comme du rouge.\n",
      "De fa\\c{c}on similaire, les pixels valant $(0,255,0)$ et $(0,0,255)$ sont\n",
      "respectivement affich\u00e9s vert et bleu.\n",
      "\n",
      "\n",
      "On peut afficher \u00e0 l'\u00e9cran une image couleur \u00e0\n",
      "partir de ses trois canaux $(r,v,b)$ en utilisant les r\u00e8gles de la\n",
      "[additive des couleurs](http://fr.wikipedia.org/wiki/Synth%C3%A8se_additive synth\u00e8se).\n",
      "La figure suivante montre les r\u00e8gles de composition\n",
      "cette synth\u00e8se additive des couleurs.\n",
      "Par exemple un pixel avec les valeurs\n",
      "$(r,v,b)=(255,0,255)$ est un m\u00e9lange de rouge et de vert, il est donc\n",
      "affich\u00e9 comme du jaune.\n",
      "\n",
      "\n",
      "On peut calculer une image en niveau de gris \u00e0 partir d'une image couleur\n",
      "en moyennant les trois cannaux. On calcule donc une valeur\n",
      "$$ a = \\frac{r+v+b}{3} $$\n",
      "qui s'appelle la [luminance](http://fr.wikipedia.org/wiki/Luminance) de la couleur.\n",
      "\n",
      "\n",
      "La figure suivante montre le passage d'une image couleur \u00e0 une image de luminance en\n",
      "niveau de gris."
     ]
    },
    {
     "cell_type": "code",
     "collapsed": false,
     "input": [
      "imageplot({f sum(f, 3)}, {'Couleur' 'Luminance'})"
     ],
     "language": "python",
     "metadata": {},
     "outputs": []
    },
    {
     "cell_type": "markdown",
     "metadata": {},
     "source": [
      "Une autre repr\u00e9sentation courante pour les images couleurs utilise\n",
      "comme couleurs de base le cyan, le magenta et le jaune. On calcule\n",
      "les trois nombres $(c,m,j)$ correspondant \u00e0 chacun de ces trois canaux \u00e0\n",
      "partir des canaux rouge, vert et bleu $(r,v,b)$ comme suit\n",
      "$$ c=255-r, \\quad m=255-v, \\quad j=255-b. $$\n",
      "Par exemple, un pixel de bleu pur\n",
      "$(r,v,b)=(0,0,255)$ va devenir\n",
      "$ (c,m,j)=(255,255,0) $. La figure suivante montre les trois canaux\n",
      "$(c,m,j)$ d'une image couleur."
     ]
    },
    {
     "cell_type": "code",
     "collapsed": false,
     "input": [
      "g = 1-f\n",
      "f1 = cat(3, f(: , : , 1),     f(: , : , 2)*0 + 1, f(: , : , 3)*0 + 1)\n",
      "f2 = cat(3, f(: , : , 1)*0 + 1, f(: , : , 2)    , f(: , : , 3)*0 + 1)\n",
      "f3 = cat(3, f(: , : , 1)*0 + 1, f(: , : , 2)*0 + 1, f(: , : , 3))"
     ],
     "language": "python",
     "metadata": {},
     "outputs": []
    },
    {
     "cell_type": "code",
     "collapsed": false,
     "input": [
      "imageplot({f f1 f2 f3}, ...\n",
      "        {'Image couleur' 'Canal cyan' 'Canal magenta' 'Canal jaune'}, 2, 2)"
     ],
     "language": "python",
     "metadata": {},
     "outputs": []
    },
    {
     "cell_type": "markdown",
     "metadata": {},
     "source": [
      "Afin d'afficher une image couleur \u00e0 l'\u00e9cran \u00e0 partir des trois canaux\n",
      "$(c,m,j)$, on doit utiliser la synth\u00e8se soustractive des\n",
      "couleurs. La figure suivante montre les r\u00e8gles de composition\n",
      "cette synth\u00e8se soustractive. Notons que ces r\u00e8gles sont celles que\n",
      "l'on utilise en peinture, lorsque l'on m\u00e9lange des pigments color\u00e9s. Le cyan,\n",
      "le magenta et le jaune sont appel\u00e9s couleurs primaires.\n",
      "\n",
      "\n",
      "\n",
      "On peut donc stocker sur un disque dur une image couleur en stockant les\n",
      "trois canaux, correspondant aux valeurs $(r,g,b)$ ou $(c,m,j)$.\n",
      "On peut modifier les images couleur tout comme les images en niveaux de\n",
      "gris. La fa\\c{c}on la plus simple de proc\u00e9der consiste \u00e0 appliquer la modification\n",
      "\u00e0 chacun des canaux."
     ]
    },
    {
     "cell_type": "heading",
     "level": 2,
     "metadata": {},
     "source": [
      "Changer le contraste d'une image"
     ]
    },
    {
     "cell_type": "markdown",
     "metadata": {},
     "source": [
      "Il est possible de faire subir diff\u00e9rentes modifications \u00e0 l'image afin de\n",
      "changer son [contraste](http://fr.wikipedia.org/wiki/Contraste)."
     ]
    },
    {
     "cell_type": "code",
     "collapsed": false,
     "input": [
      "name = 'hibiscus'\n",
      "f = rescale(load_image(name, n))\n",
      "f = rescale(sum(f, 3))"
     ],
     "language": "python",
     "metadata": {},
     "outputs": []
    },
    {
     "cell_type": "markdown",
     "metadata": {},
     "source": [
      "Un exemple simple consiste \u00e0 remplacer chaque valeur $a$ d'un pixel\n",
      "d'une image par $255-a$ ce qui correspond \u00e0 la couleur oppos\u00e9e. Le blanc\n",
      "devient noir et vice-et-versa, ce qui donne un effet similaire \u00e0 celui\n",
      "des [n\u00e9gatifs](http://fr.wikipedia.org/wiki/Film_n%C3%A9gatif)\n",
      "[d'appareils photos argentiques](http://fr.wikipedia.org/wiki/Argentique)."
     ]
    },
    {
     "cell_type": "code",
     "collapsed": false,
     "input": [
      "imageplot(-f)"
     ],
     "language": "python",
     "metadata": {},
     "outputs": []
    },
    {
     "cell_type": "markdown",
     "metadata": {},
     "source": [
      "Sans aller jusqu'\u00e0 des modifications aussi extr\u00eames, on peut assombrir une image\n",
      "en rempl\\c{c}ant la valeur $a$ de chaque pixel par son\n",
      "[carr\u00e9](http://fr.wikipedia.org/wiki/Carr%C3%A9_(alg%C3%A8bre)) $a^2 = a \\times a$.\n",
      "\n",
      "\n",
      "Ce faisant, les valeurs r\u00e9sultantes ne sont\n",
      "plus dans $0,\\ldots,255$ mais dans $0,\\ldots,255^2=65025$. Afin\n",
      "d'afficher l'image \u00e0 l'\u00e9cran on va donc utiliser des niveaux de gris\n",
      "allant du noir pour 0 au blanc pour 65025."
     ]
    },
    {
     "cell_type": "code",
     "collapsed": false,
     "input": [
      "imageplot(f.^2, 'Carr\u00e9')"
     ],
     "language": "python",
     "metadata": {},
     "outputs": []
    },
    {
     "cell_type": "markdown",
     "metadata": {},
     "source": [
      "Afin d'\u00e9claircir l'image, on peut remplacer chaque valeur $a$ par\n",
      "sa _racine carr\u00e9e_ $b = \\sqrt{a}$. Cette valeur $b$ est un nombre, qui n'est plus\n",
      "n\u00e9cessairement entier, qui satisfait $b \\times b = a$.\n",
      "\n",
      "\n",
      "La figure suivante montre l'\u00e9claircissement obtenu.\n",
      "Les valeurs de l'image \u00e9claircie sont dant\n",
      "$0,\\ldots,\\sqrt{255} \\approx 16$, et on utilise donc des niveaux\n",
      "de gris allant du noir (pour 0) au blanc (pour 16)."
     ]
    },
    {
     "cell_type": "code",
     "collapsed": false,
     "input": [
      "imageplot(sqrt(f), 'Remplacement de a par sqrt(a)')"
     ],
     "language": "python",
     "metadata": {},
     "outputs": []
    },
    {
     "cell_type": "markdown",
     "metadata": {},
     "source": [
      "On pourra noter que l'on a\n",
      "$$ \\sqrt{a} \\times \\sqrt{a} = a\n",
      "\\quad\\text{et}\\quad \\sqrt{a \\times a}=a $$\n",
      "de sorte que si l'on r\u00e9alise un \u00e9clairsissement suivit d'un\n",
      "assombrissement (ou dans le sens inverse) on retrouve l'image d'origine.\n",
      "Ces deux op\u00e9rations sont\n",
      "[inverses](http://fr.wikipedia.org/wiki/Inverse) l'une de l'autre.\n",
      "\n",
      "\n",
      "On peut \u00e9galement changer le contraste d'une image couleur en changeant sa\n",
      "composante de luminance."
     ]
    },
    {
     "cell_type": "code",
     "collapsed": false,
     "input": [
      "name = 'hibiscus'\n",
      "f = rescale(load_image(name, n))"
     ],
     "language": "python",
     "metadata": {},
     "outputs": []
    },
    {
     "cell_type": "code",
     "collapsed": false,
     "input": [
      "m = lambda f: repmat(mean(f, 3), [1 1 3])\n",
      "contrast = lambda f, gamma: clamp(m(f).^gamma + f-m(f))"
     ],
     "language": "python",
     "metadata": {},
     "outputs": []
    },
    {
     "cell_type": "code",
     "collapsed": false,
     "input": [
      "gamma_list = [.5 .75 1 1.5 2 3]\n",
      "\n",
      "for i in 1: length(gamma_list):\n",
      "    subplot(2, 3, i)\n",
      "    image(contrast(f, gamma_list(i))); axis image; axis off\n",
      "    title(['\\gamma = ' num2str(gamma_list(i))])\n",
      "    colormap jet(256)"
     ],
     "language": "python",
     "metadata": {},
     "outputs": []
    },
    {
     "cell_type": "heading",
     "level": 2,
     "metadata": {},
     "source": [
      "Transformations g\u00e9om\u00e9triques"
     ]
    },
    {
     "cell_type": "markdown",
     "metadata": {},
     "source": [
      "Une image est un tableau de nombres, avec $n$ lignes et $p$\n",
      "colonnes. Il est donc facile d'effectuer\n",
      "certaines [transformations g\u00e9om\u00e9triques](http://fr.wikipedia.org/wiki/Transformation_g%C3%A9om%C3%A9trique)\n",
      "sur l'image.\n",
      "\n",
      "\n",
      "Les valeurs des pixels qui composent ce tableau (not\u00e9 $A$) peuvent \u00eatre\n",
      "repr\u00e9sent\u00e9es sous la forme $ A = ( a_{i,j} )_{i,j} $\n",
      "ou l'index $i$ d\u00e9crit l'ensemble des nombres $ \\{1,\\ldots,n\\} $\n",
      "(les entiers entre 1 et n) et l'index\n",
      "$j$ les nombres $ \\{1,\\ldots,p\\} $.\n",
      "One dit que $a_{i,j}$ est la valeur du pixel \u00e0 la position $(i,j)$.\n",
      "\n",
      "\n",
      "Le tableau de pixels ainsi index\u00e9 peut se repr\u00e9senter sous la fa\\c{c}on\n",
      "suivante\n",
      "$$\n",
      "A =\n",
      "\\begin{pmatrix}\n",
      "a_{1,1} &           &           &   & a_{1,p}\\\\\n",
      "       &           &  \\vdots   &   &  \\\\\n",
      "\t   &           & a_{i-1,j} &   & \\\\\n",
      "\\ldots & a_{i,j-1} & a_{i,j}   & a_{i,j+1} & \\ldots\\\\\n",
      "\t   &           & a_{i+1,j} &   & \\\\\n",
      "       &           &  \\vdots   &   &  \\\\\n",
      "a_{n,1} &           &           &   & a_{n,p}\\\\\n",
      "\\end{pmatrix}\n",
      "$$\n",
      "ce qui montre que le pixel en haut \u00e0 gauche de l'image correspond \u00e0 la\n",
      "valeur $a_{1,1}$. Ceci correspond \u00e0 la repr\u00e9sentation de l'image sous\n",
      "forme d'une [matrice](http://fr.wikipedia.org/wiki/Matrice_(math%C3%A9matiques)).\n",
      "\n",
      "\n",
      "Si l'on \u00e9change le r\u00f4le des lignes et des colonnes, on d\u00e9finit un autre\n",
      "tableau $B$ avec $p$ lignes et $n$ colonnes. La formule qui d\u00e9finit\n",
      "le tableau $B = ( b_{j,i} )_{i,j}$ est\n",
      "$$ b_{j,i} = a_{i,j}. $$\n",
      "Ceci correspond \u00e0 la [transposition](http://fr.wikipedia.org/wiki/Matrice_transpos%C3%A9e) de la matrice correspondant \u00e0 l'image.\n",
      "\n",
      "\n",
      "Pour une image couleur, on effectue cette modification sur chacune de ses\n",
      "trois composantes couleur R, V et B.\n",
      "\n",
      "\n",
      "La figure suivante montre l'image correspondant au tableau $A$ et\n",
      "l'image correspondant au tableau $B$. On peut constater que la\n",
      "modification correspond \u00e0 faire sur l'image une\n",
      "[sym\u00e9trie](http://fr.wikipedia.org/wiki/Sym%C3%A9trie_(transformation_g%C3%A9om%C3%A9trique)) par rapport \u00e0\n",
      "la [diagonale](http://fr.wikipedia.org/wiki/Diagonale)\n",
      "qui joint le coin haut/gauche au coin bas/droite."
     ]
    },
    {
     "cell_type": "code",
     "collapsed": false,
     "input": [
      "A = rescale(load_image('flowers', 512))\n",
      "B = permute(A, [2 1 3])\n",
      "\n",
      "imageplot({A B}, {'Image A' 'Image B'}, 1, 2, 1)"
     ],
     "language": "python",
     "metadata": {},
     "outputs": []
    },
    {
     "cell_type": "markdown",
     "metadata": {},
     "source": [
      "On peut \u00e9galement effectuer une [rotation](http://fr.wikipedia.org/wiki/Rotation)\n",
      "d'un quart de tour dans le sens d'une montre \u00e0\n",
      "l'image. Ceci est effectu\u00e9 en d\u00e9finissant une image $C = (c_{i,j})_{j,i}$ de\n",
      "$p$ lignes et $n$\n",
      "colonnes dont le tableau\n",
      "de nombre est calcul\u00e9 par\n",
      "$$ c_{j,i} =  a_{n-i+1,j}.$$"
     ]
    },
    {
     "cell_type": "code",
     "collapsed": false,
     "input": [
      "C = A\n",
      "C = C(end: -1: 1, : , : ); C = permute(C, [2 1 3])\n",
      "\n",
      "imageplot({A C}, {'Image A' 'Image C'}, 1, 2, 1)"
     ],
     "language": "python",
     "metadata": {},
     "outputs": []
    },
    {
     "cell_type": "heading",
     "level": 2,
     "metadata": {},
     "source": [
      "Fondu entres deux images"
     ]
    },
    {
     "cell_type": "markdown",
     "metadata": {},
     "source": [
      "On souhaite effectuer une [transition entre deux images](http://fr.wikipedia.org/wiki/Fondu)\n",
      "$A$ et $B$ de m\u00eame\n",
      "taille. On suppose donc que chaque image a le m\u00eame nombre $n$ de lignes\n",
      "et le m\u00eame nombre $p$ de colonnes.\n",
      "\n",
      "\n",
      "La figure ci-dessous montre les deux images entre lesquelles on souhaite\n",
      "calculer une transition."
     ]
    },
    {
     "cell_type": "code",
     "collapsed": false,
     "input": [
      "A = rescale(load_image('flowers', 512))\n",
      "B = rescale(load_image('hibiscus', 512))\n",
      "\n",
      "imageplot({A B}, {'Image A', 'Image B'})"
     ],
     "language": "python",
     "metadata": {},
     "outputs": []
    },
    {
     "cell_type": "markdown",
     "metadata": {},
     "source": [
      "One note $A = (a_{i,j})_{i,j}$ les pixels de l'image $A$ et\n",
      "$B = (b_{i,j})_{i,j}$ les pixels de l'image $B$.\n",
      "\n",
      "\n",
      "Pour une valeur $t$ fix\u00e9e entre $0$ et $1$, on d\u00e9finit l'image\n",
      "$C = (c_{i,j})_{i,j}$ comme\n",
      "$$ c_{i,j}  = (1-t) a_{i,j} + t b_{i,j}.$$\n",
      "Il s'agit de la formule d'une\n",
      "[interpolation lin\u00e9aire](http://fr.wikipedia.org/wiki/Interpolation_lin%C3%A9aire)\n",
      "entre les deux images.\n",
      "\n",
      "\n",
      "Si l'image est une image couleur, on applique cette formule \u00e0 chacun des\n",
      "canaux R, V et B.\n",
      "\n",
      "\n",
      "On peut constater que pour $t=0$, l'image $C$ est \u00e9gale \u00e0 l'image\n",
      "$A$. Pour $t=1$, l'image $c$ est \u00e9gale \u00e0 l'image\n",
      "$B$. Lorsque la valeur $t$ progresse de 0 \u00e0 1, on obtient ainsi un\n",
      "effet de fondu, puisque l'image, qui au d\u00e9part est proche de l'image $A$\n",
      "ressemble de plus en plus \u00e0 l'image $B$.\n",
      "\n",
      "\n",
      "La figure suivante montre 5 valeurs de $t$ r\u00e9parties entre 0 et 1."
     ]
    },
    {
     "cell_type": "code",
     "collapsed": false,
     "input": [
      "p = 6\n",
      "t = linspace(0, 1, p)\n",
      "\n",
      "for i in 1: p:\n",
      "    imageplot(t(i)*A + (1-t(i))*B, ['t = ' num2str(t(i), 2)], 2, p/ 2, i)"
     ],
     "language": "python",
     "metadata": {},
     "outputs": []
    },
    {
     "cell_type": "heading",
     "level": 2,
     "metadata": {},
     "source": [
      "Conclusion"
     ]
    },
    {
     "cell_type": "markdown",
     "metadata": {},
     "source": [
      "Cet article n'a fait qu'effleurer l'immense liste des traitements que l'on\n",
      "peut faire subir \u00e0 une image. Le traitement math\u00e9matique des images est un domaine\n",
      "tr\u00e8s actif, o\u00f9 les avanc\u00e9es th\u00e9oriques se concr\u00e9tisent sous la forme d'algorithmes\n",
      "rapides de calcul qui ont des applications importantes pour la manipulation des contenus\n",
      "num\u00e9riques.\n",
      "\n",
      "\n",
      "Les personnes int\u00e9ress\u00e9es pourront consulter le site web\n",
      "[A Numerical Tour of Signal Processing](http://www.numerical-tours.com/)\n",
      "pour de nombreux exemples de traitements d'images. On y\n",
      "trouve \u00e9galement des liens vers d'autres ressources disponibles en ligne."
     ]
    },
    {
     "cell_type": "heading",
     "level": 2,
     "metadata": {},
     "source": [
      "Glossaire"
     ]
    },
    {
     "cell_type": "markdown",
     "metadata": {},
     "source": [
      "- *Al\u00e9atoire* : valeur impr\u00e9visible souvent due au hazard, comme par exemple le bruit qui perturbe les images de mauvaises qualit\u00e9s.\n",
      "\n",
      "- *Bit* : unit\u00e9 \u00e9lementaire de stockage de l'information sous forme de 0 et de 1 dans un ordinateur.\n",
      "\n",
      "- *Canal* : une des trois images \u00e9l\u00e9mentaires qui composent une image couleur.\n",
      "\n",
      "- *Bords* : zone d'une image o\u00f9 les valeurs des pixels varient beaucoup, qui correspond aux contours des objets qui forment l'image.\n",
      "\n",
      "- *Bruit* : petites perturbations qui d\u00e9gradent la qualit\u00e9 d'une image.\n",
      "\n",
      "- *Carr\u00e9* : le carr\u00e9 $b$ d'une valeur $a$ est $a \\times a$. Il est not\u00e9 $a^2$.\n",
      "\n",
      "- *Contraste* : quantit\u00e9 informelle qui indique la diff\u00e9rence entre les zones claires et les zones sombres d'une image.\n",
      "\n",
      "- *Compression d'image* : m\u00e9thode permettant de r\u00e9duire la place m\u00e9moire n\u00e9cessaire au stockage sur le disque dur d'une image.\n",
      "\n",
      "- *Ecriture binaire* : \u00e9criture de valeurs num\u00e9riques \u00e0 l'aide uniquement de 0 et de 1.\n",
      "\n",
      "- *Flou* : d\u00e9gradation d'une image qui rend les contours des objets peu net, et donc difficile \u00e0 localiser pr\u00e9cis\u00e9ment.\n",
      "\n",
      "- *Fondu* : interpolation lin\u00e9aire entre deux images.\n",
      "\n",
      "- *Image couleur* : ensemble de trois images en niveau de gris, qui peut \u00eatre affich\u00e9 \u00e0 l'\u00e9cran en couleur.\n",
      "\n",
      "- *Image num\u00e9rique* : tableau de valeurs que l'on peut afficher \u00e0 l'\u00e9cran en assignant un niveau de gris \u00e0 chaque valeur.\n",
      "\n",
      "- *Inverse* : op\u00e9ration ramenant une image dans son \u00e9tat d'origine.\n",
      "\n",
      "- *JPEG-2000* : m\u00e9thode r\u00e9cente de compression d'images qui utilise une transformation en ondelettes.\n",
      "\n",
      "- *Luminance* : moyenne des diff\u00e9rents canaux d'une image, qui indique la puissance lumineuse du pixel.\n",
      "\n",
      "- *Matrice* : tableau de valeurs, repr\u00e9sent\u00e9 sous la forme $(a_{i,j})_{i,j}$.\n",
      "\n",
      "- *M\u00e9diane* : valeur centrale lorsque l'on classe par ordre croissant un ensemble de valeurs.\n",
      "\n",
      "- *Moyenne* : la moyenne d'un ensemble de valeurs est leur somme divis\u00e9e par leur nombre.\n",
      "\n",
      "- *Niveaux de gris* : nuances de gris utilis\u00e9es pour afficher \u00e0 l'\u00e9cran une image num\u00e9rique.\n",
      "\n",
      "- *Nombres entiers* : nombres 0, 1, 2, 3, 4 ...\n",
      "\n",
      "- *Octet* : ensemble de huit bits cons\u00e9cutifs.\n",
      "\n",
      "- *Ondelettes* : transformation de l'image qui est utilis\u00e9e par la m\u00e9thode JPEG-2000 de compression d'images.\n",
      "\n",
      "- *Ordre croissant* : classement d'un ensemble de valeurs de la plus petite \u00e0 la plus grande.\n",
      "\n",
      "- *Pixel* : une case dans un tableau de valeurs correspondant \u00e0 une image num\u00e9rique.\n",
      "\n",
      "- *Quantification* : proc\u00e9d\u00e9 consistant \u00e0 r\u00e9duire l'ensemble des valeurs possibles d'une image num\u00e9rique.\n",
      "\n",
      "- *Racine carr\u00e9e* : la racine carr\u00e9e $b$ d'une valeur positive $a$ est la valeur positive $b$ v\u00e9rifiant $a=b \\times b$. On la note $\\sqrt{a}$.\n",
      "\n",
      "- *R\u00e9solution* : taille d'une image (nombre de pixels).\n",
      "\n",
      "- *Sous-expos\u00e9e* : photographie d'une sc\u00e8ne trop sombre pour laquelle l'objectif photographique n'est pas rest\u00e9 assez longtemps ouvert.\n",
      "\n",
      "- *Synth\u00e8se additive* : r\u00e8gle permettant de construire une couleur quelconque \u00e0 partir des trois couleurs rouge, vert et bleu. C'est la r\u00e8gle qui r\u00e9git le m\u00e9lange des couleurs de faisceaux lumineux utilis\u00e9s pour l'\u00e9clairage d'un mur blanc.\n",
      "\n",
      "- *Synth\u00e8se soustractive* : r\u00e8gle permettant de construire une couleur quelconque \u00e0 partir des trois couleurs cyan, magenta et jaune. C'est la r\u00e8gle qui r\u00e9git le m\u00e9lange des couleurs en peinture."
     ]
    },
    {
     "cell_type": "code",
     "collapsed": false,
     "input": [],
     "language": "python",
     "metadata": {},
     "outputs": []
    }
   ],
   "metadata": {}
  }
 ]
}