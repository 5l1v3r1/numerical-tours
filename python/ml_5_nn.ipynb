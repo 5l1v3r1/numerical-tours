{
 "cells": [
  {
   "cell_type": "markdown",
   "metadata": {
    "deletable": true,
    "editable": true
   },
   "source": [
    "Neural Networks\n",
    "===============\n",
    "\n",
    "*Important:* Please read the [installation page](http://gpeyre.github.io/numerical-tours/installation_python/) for details about how to install the toolboxes.\n",
    "$\\newcommand{\\dotp}[2]{\\langle #1, #2 \\rangle}$\n",
    "$\\newcommand{\\enscond}[2]{\\lbrace #1, #2 \\rbrace}$\n",
    "$\\newcommand{\\pd}[2]{ \\frac{ \\partial #1}{\\partial #2} }$\n",
    "$\\newcommand{\\umin}[1]{\\underset{#1}{\\min}\\;}$\n",
    "$\\newcommand{\\umax}[1]{\\underset{#1}{\\max}\\;}$\n",
    "$\\newcommand{\\umin}[1]{\\underset{#1}{\\min}\\;}$\n",
    "$\\newcommand{\\uargmin}[1]{\\underset{#1}{argmin}\\;}$\n",
    "$\\newcommand{\\norm}[1]{\\|#1\\|}$\n",
    "$\\newcommand{\\abs}[1]{\\left|#1\\right|}$\n",
    "$\\newcommand{\\choice}[1]{ \\left\\{  \\begin{array}{l} #1 \\end{array} \\right. }$\n",
    "$\\newcommand{\\pa}[1]{\\left(#1\\right)}$\n",
    "$\\newcommand{\\diag}[1]{{diag}\\left( #1 \\right)}$\n",
    "$\\newcommand{\\qandq}{\\quad\\text{and}\\quad}$\n",
    "$\\newcommand{\\qwhereq}{\\quad\\text{where}\\quad}$\n",
    "$\\newcommand{\\qifq}{ \\quad \\text{if} \\quad }$\n",
    "$\\newcommand{\\qarrq}{ \\quad \\Longrightarrow \\quad }$\n",
    "$\\newcommand{\\ZZ}{\\mathbb{Z}}$\n",
    "$\\newcommand{\\CC}{\\mathbb{C}}$\n",
    "$\\newcommand{\\RR}{\\mathbb{R}}$\n",
    "$\\newcommand{\\EE}{\\mathbb{E}}$\n",
    "$\\newcommand{\\Zz}{\\mathcal{Z}}$\n",
    "$\\newcommand{\\Ww}{\\mathcal{W}}$\n",
    "$\\newcommand{\\Vv}{\\mathcal{V}}$\n",
    "$\\newcommand{\\Nn}{\\mathcal{N}}$\n",
    "$\\newcommand{\\NN}{\\mathcal{N}}$\n",
    "$\\newcommand{\\Hh}{\\mathcal{H}}$\n",
    "$\\newcommand{\\Bb}{\\mathcal{B}}$\n",
    "$\\newcommand{\\Ee}{\\mathcal{E}}$\n",
    "$\\newcommand{\\Cc}{\\mathcal{C}}$\n",
    "$\\newcommand{\\Gg}{\\mathcal{G}}$\n",
    "$\\newcommand{\\Ss}{\\mathcal{S}}$\n",
    "$\\newcommand{\\Pp}{\\mathcal{P}}$\n",
    "$\\newcommand{\\Ff}{\\mathcal{F}}$\n",
    "$\\newcommand{\\Xx}{\\mathcal{X}}$\n",
    "$\\newcommand{\\Mm}{\\mathcal{M}}$\n",
    "$\\newcommand{\\Ii}{\\mathcal{I}}$\n",
    "$\\newcommand{\\Dd}{\\mathcal{D}}$\n",
    "$\\newcommand{\\Ll}{\\mathcal{L}}$\n",
    "$\\newcommand{\\Tt}{\\mathcal{T}}$\n",
    "$\\newcommand{\\si}{\\sigma}$\n",
    "$\\newcommand{\\al}{\\alpha}$\n",
    "$\\newcommand{\\la}{\\lambda}$\n",
    "$\\newcommand{\\ga}{\\gamma}$\n",
    "$\\newcommand{\\Ga}{\\Gamma}$\n",
    "$\\newcommand{\\La}{\\Lambda}$\n",
    "$\\newcommand{\\si}{\\sigma}$\n",
    "$\\newcommand{\\Si}{\\Sigma}$\n",
    "$\\newcommand{\\be}{\\beta}$\n",
    "$\\newcommand{\\de}{\\delta}$\n",
    "$\\newcommand{\\De}{\\Delta}$\n",
    "$\\newcommand{\\phi}{\\varphi}$\n",
    "$\\newcommand{\\th}{\\theta}$\n",
    "$\\newcommand{\\om}{\\omega}$\n",
    "$\\newcommand{\\Om}{\\Omega}$\n",
    "$\\newcommand{\\eqdef}{\\equiv}$"
   ]
  },
  {
   "cell_type": "markdown",
   "metadata": {
    "deletable": true,
    "editable": true
   },
   "source": [
    "This tour details fully connected multi-layers neural netorks."
   ]
  },
  {
   "cell_type": "markdown",
   "metadata": {
    "deletable": true,
    "editable": true
   },
   "source": [
    "We recommend that after doing this Numerical Tours, you apply it to your\n",
    "own data, for instance using a dataset from <https://www.csie.ntu.edu.tw/~cjlin/libsvmtools/datasets/ LibSVM>.\n",
    "\n",
    "\n",
    "_Disclaimer:_ these machine learning tours are intended to be\n",
    "overly-simplistic implementations and applications of baseline machine learning methods.\n",
    "For more advanced uses and implementations, we recommend\n",
    "to use a state-of-the-art library, the most well known being\n",
    "<http://scikit-learn.org/ Scikit-Learn>"
   ]
  },
  {
   "cell_type": "code",
   "execution_count": 1,
   "metadata": {
    "collapsed": false,
    "deletable": true,
    "editable": true
   },
   "outputs": [
    {
     "name": "stdout",
     "output_type": "stream",
     "text": [
      "Populating the interactive namespace from numpy and matplotlib\n"
     ]
    },
    {
     "name": "stderr",
     "output_type": "stream",
     "text": [
      "/Users/gpeyre/anaconda/envs/p34/lib/python3.4/site-packages/IPython/core/magics/pylab.py:161: UserWarning: pylab import has clobbered these variables: ['pylab']\n",
      "`%matplotlib` prevents importing * from pylab and numpy\n",
      "  \"\\n`%matplotlib` prevents importing * from pylab and numpy\"\n"
     ]
    }
   ],
   "source": [
    "from nt_toolbox.general import *\n",
    "from nt_toolbox.signal import *\n",
    "%pylab inline\n",
    "# %matplotlib inline\n",
    "%load_ext autoreload\n",
    "%autoreload 2"
   ]
  },
  {
   "cell_type": "code",
   "execution_count": 2,
   "metadata": {
    "collapsed": true
   },
   "outputs": [],
   "source": [
    "#  convert to a column vector\n",
    "def MakeCol(y): return y.reshape(-1,1)\n",
    "#  convert to a row vector\n",
    "def MakeRow(y): return y.reshape(1,-1)"
   ]
  },
  {
   "cell_type": "markdown",
   "metadata": {
    "deletable": true,
    "editable": true
   },
   "source": [
    "Dataset Generation\n",
    "------------------\n",
    "Build a synthetic data set for classification\n",
    "\n",
    "\n",
    "Generate Data"
   ]
  },
  {
   "cell_type": "code",
   "execution_count": 3,
   "metadata": {
    "collapsed": false,
    "deletable": true,
    "editable": true
   },
   "outputs": [],
   "source": [
    "n0 = 100 # number of points per class\n",
    "p = 2   # dimensionality\n",
    "k = 3   # number of classes\n",
    "n = n0*k # Total number of points\n",
    "x = zeros((p,n))\n",
    "y = zeros((1,n))\n",
    "for j in arange(0,k):\n",
    "    I = arange(n0*(j-1),n0*j)\n",
    "    r = linspace(0.0,1,n0) # radius\n",
    "    t = linspace(j*4,(j+1)*4,n0) + random.randn(1,n0)*0.2 # angle\n",
    "    x[0,I] = r*sin(t)\n",
    "    x[1,I] = r*cos(t)\n",
    "    y[0,I] = j"
   ]
  },
  {
   "cell_type": "markdown",
   "metadata": {
    "deletable": true,
    "editable": true
   },
   "source": [
    "Display."
   ]
  },
  {
   "cell_type": "code",
   "execution_count": 4,
   "metadata": {
    "collapsed": false,
    "deletable": true,
    "editable": true
   },
   "outputs": [
    {
     "data": {
      "image/png": "[encoded data removed]",
      "text/plain": [
       "<matplotlib.figure.Figure at 0x117f93f98>"
      ]
     },
     "metadata": {},
     "output_type": "display_data"
    }
   ],
   "source": [
    "col = array( [ [1,0,0], [0,1,0], [0,0,1], [0,0,0], [0,1,1], [1,0,1], [1,1,0], [1,.5,.5], [.5,1,.5], [.5,.5,1]  ] ).transpose()\n",
    "clf\n",
    "for j in arange(0,k):\n",
    "    I = find(y==j)\n",
    "    plot(x[0,I], x[1,I], '.', color=col[:,j])\n",
    "axis('equal')\n",
    "axis('off');"
   ]
  },
  {
   "cell_type": "markdown",
   "metadata": {
    "deletable": true,
    "editable": true
   },
   "source": [
    "Class probability matrix."
   ]
  },
  {
   "cell_type": "code",
   "execution_count": 5,
   "metadata": {
    "collapsed": false,
    "deletable": true,
    "editable": true
   },
   "outputs": [],
   "source": [
    "U = tile( MakeCol(arange(1,k+1)), (1,n) )\n",
    "Y = double( U == tile( y+1, (k,1) ) )"
   ]
  },
  {
   "cell_type": "markdown",
   "metadata": {
    "deletable": true,
    "editable": true
   },
   "source": [
    "Building the Network\n",
    "--------------------\n",
    "We setup the network. It is parameterized by the dimensions of the layers.\n",
    "\n",
    "\n",
    "The network is composed of $R$ layers, and operate by initialyzing $x_0=x$ and then iterating\n",
    "$$ \\forall r=0,\\ldots,R, \\quad x_{r+1} \\eqdef \\rho(A_r x_r + b_r).  $$\n",
    "Here $\\rho : \\RR \\mapsto \\RR$ is a non-linear activation function which\n",
    "operate coordinate by coordinate. The intermediate variables are $x_r \\in \\RR^{d_r}$\n",
    "with $(d_0,d_{L+1})=(p,k)$. The matrices have size $A_r \\in \\RR^{d_{r+1} \\times d_r}$\n",
    "while the biases have size $b_r \\in \\RR^{d_{r+1}}$.\n",
    "\n",
    "\n",
    "The final value is obtained by comparing the predicted value $x_{R+1}$\n",
    "to the data $y$ using some loss function\n",
    "$$ \\ell \\eqdef \\Ll(x_{R+1},y). $$\n",
    "\n",
    "\n",
    "Load the loss and its gradient.\n",
    "Here we use a multi-class logistic loss\n",
    "$$ \\Ll(z,y) \\eqdef \\log \\sum_{i=1}^k e^{z_i} - \\dotp{z}{y}.  $$\n",
    "\n",
    "\n",
    "Note that in practice the computation is done in parallel over an array\n",
    "$x$ of size $(p,n)$ of $n$ points in $\\RR^p$, where the class\n",
    "probability to predict is an array $y$ of size $k,n$ where $k$ is\n",
    "the number of classes.\n",
    "\n",
    "Useful helpers."
   ]
  },
  {
   "cell_type": "code",
   "execution_count": 6,
   "metadata": {
    "collapsed": true
   },
   "outputs": [],
   "source": [
    "def dotp(x,y): return x.flatten().dot( y.flatten().transpose() )\n",
    "def max2(S): return tile( S.max(axis=1,keepdims=1), (1,S.shape[1]) )"
   ]
  },
  {
   "cell_type": "markdown",
   "metadata": {
    "deletable": true,
    "editable": true
   },
   "source": [
    "Stabilized log-sum-exp"
   ]
  },
  {
   "cell_type": "code",
   "execution_count": 7,
   "metadata": {
    "collapsed": false,
    "deletable": true,
    "editable": true
   },
   "outputs": [],
   "source": [
    "def LSE0(S): return log( exp(S).sum(axis=1,keepdims=1))\n",
    "def LSE(S): return LSE0( S-max2(S) ) + S.max(axis=1,keepdims=1)"
   ]
  },
  {
   "cell_type": "markdown",
   "metadata": {
    "deletable": true,
    "editable": true
   },
   "source": [
    "stabilized soft-max"
   ]
  },
  {
   "cell_type": "code",
   "execution_count": 8,
   "metadata": {
    "collapsed": false,
    "deletable": true,
    "editable": true
   },
   "outputs": [],
   "source": [
    "def SM0(S): return exp(S) / tile( exp(S).sum(axis=1,keepdims=1), (1, S.shape[1]) )\n",
    "def SM(S): return SM0(S-max2(S))"
   ]
  },
  {
   "cell_type": "markdown",
   "metadata": {
    "deletable": true,
    "editable": true
   },
   "source": [
    "Energy, $y$ being a target probability distribution"
   ]
  },
  {
   "cell_type": "code",
   "execution_count": 9,
   "metadata": {
    "collapsed": false,
    "deletable": true,
    "editable": true
   },
   "outputs": [],
   "source": [
    "def lossF(z,y): return LSE(z.transpose()).sum() - dotp(z,y)"
   ]
  },
  {
   "cell_type": "markdown",
   "metadata": {
    "deletable": true,
    "editable": true
   },
   "source": [
    "gradient"
   ]
  },
  {
   "cell_type": "code",
   "execution_count": 10,
   "metadata": {
    "collapsed": false,
    "deletable": true,
    "editable": true
   },
   "outputs": [],
   "source": [
    "def lossG(z,y): return SM(z.transpose()).transpose() -  y"
   ]
  },
  {
   "cell_type": "markdown",
   "metadata": {
    "deletable": true,
    "editable": true
   },
   "source": [
    "Load the activation function. Here we use an atan sigmoid function."
   ]
  },
  {
   "cell_type": "code",
   "execution_count": 11,
   "metadata": {
    "collapsed": false,
    "deletable": true,
    "editable": true
   },
   "outputs": [],
   "source": [
    "def rhoF(u): return arctan(u)\n",
    "def rhoG(u): return 1/(1+u**2)"
   ]
  },
  {
   "cell_type": "markdown",
   "metadata": {
    "deletable": true,
    "editable": true
   },
   "source": [
    "Display the activation."
   ]
  },
  {
   "cell_type": "code",
   "execution_count": 12,
   "metadata": {
    "collapsed": false,
    "deletable": true,
    "editable": true
   },
   "outputs": [
    {
     "data": {
      "image/png": "[encoded data removed]",
      "text/plain": [
       "<matplotlib.figure.Figure at 0x117f93748>"
      ]
     },
     "metadata": {},
     "output_type": "display_data"
    }
   ],
   "source": [
    "t = linspace(-5,5,201)\n",
    "clf;\n",
    "plot(t, rhoF(t))\n",
    "axis('tight');"
   ]
  },
  {
   "cell_type": "markdown",
   "metadata": {
    "deletable": true,
    "editable": true
   },
   "source": [
    "Dimensions $d_r$ of the layers."
   ]
  },
  {
   "cell_type": "code",
   "execution_count": 13,
   "metadata": {
    "collapsed": false,
    "deletable": true,
    "editable": true
   },
   "outputs": [],
   "source": [
    "D = array([p,15,k]) # here a single hidden layer"
   ]
  },
  {
   "cell_type": "markdown",
   "metadata": {
    "deletable": true,
    "editable": true
   },
   "source": [
    "Initialize the layers randomly."
   ]
  },
  {
   "cell_type": "code",
   "execution_count": 14,
   "metadata": {
    "collapsed": false,
    "deletable": true,
    "editable": true
   },
   "outputs": [],
   "source": [
    "R = D.size-1 \n",
    "A = []\n",
    "b = [] \n",
    "for r in arange(0,R):\n",
    "    A.append(randn(D[r+1],D[r]))\n",
    "    b.append(randn(D[r+1],1))"
   ]
  },
  {
   "cell_type": "markdown",
   "metadata": {
    "deletable": true,
    "editable": true
   },
   "source": [
    "Evaluate the network.\n",
    "Bookkeep the intermediate results: this is crucial for the computation of\n",
    "the gradient."
   ]
  },
  {
   "cell_type": "code",
   "execution_count": 15,
   "metadata": {
    "collapsed": false,
    "deletable": true,
    "editable": true
   },
   "outputs": [],
   "source": [
    "def ForwardNN(A,b,Z):\n",
    "    X = []\n",
    "    X.append(Z)\n",
    "    for r in arange(0,R):\n",
    "        X.append( rhoF( A[r].dot(X[r]) + tile(b[r],[1,Z.shape[1]]) ) )\n",
    "    return X\n",
    "X = ForwardNN(A,b,x)\n",
    "L = lossF(X[R],Y)"
   ]
  },
  {
   "cell_type": "markdown",
   "metadata": {
    "deletable": true,
    "editable": true
   },
   "source": [
    "Network Optimization\n",
    "--------------------\n",
    "The network parameters are optimized by minimizing the non-convex\n",
    "empirical loss minimization through gradient descent.\n",
    "\n",
    "\n",
    "Initialize the gradient as\n",
    "$$ \\nabla_{x_{R+1}} \\ell = \\nabla \\Ll(x_{R+1},y) $$"
   ]
  },
  {
   "cell_type": "code",
   "execution_count": 16,
   "metadata": {
    "collapsed": false,
    "deletable": true,
    "editable": true
   },
   "outputs": [],
   "source": [
    "gx = lossG(X[R],Y)"
   ]
  },
  {
   "cell_type": "markdown",
   "metadata": {
    "deletable": true,
    "editable": true
   },
   "source": [
    "The successive gradient with respect to the intermediate variables $x_r$\n",
    "are solutions of a backward recursion, which\n",
    "corresponds to the celebrated backpropagation algorithm.\n",
    "$$ \\forall r=R,\\ldots,1, \\quad\n",
    "      \\nabla_{x_{r}} \\ell = A_r^\\top M_r $$\n",
    "where we denoted\n",
    "$$ M_r \\eqdef \\rho'(A_r x_r + b_r ) \\odot \\nabla_{x_{r+1}} \\ell, $$\n",
    "where $\\odot$ is entry-wise multiplications.\n",
    "\n",
    "\n",
    "From these gradients with respect to the intermediate layers variables, the\n",
    "gradient with respect to the network  paramters are retrieved as\n",
    "$$ \\nabla_{A_r} \\ell = M_r x_r^\\top, \\qandq\n",
    "    \\nabla_{b_r} \\ell = M_r 1_n.  $$\n",
    "\n",
    "\n",
    "Perform the back-propagation."
   ]
  },
  {
   "cell_type": "code",
   "execution_count": 17,
   "metadata": {
    "collapsed": false,
    "deletable": true,
    "editable": true
   },
   "outputs": [],
   "source": [
    "def BackwardNN(A,b,X):\n",
    "    gA = [] # gradient with respect to A\n",
    "    gb = [] # gradient with respect to b\n",
    "    for r in arange(0,R):\n",
    "        gA.append([]) \n",
    "        gb.append([])\n",
    "    gx = lossG(X[R],Y) # initialize the gradient\n",
    "    for r in arange(R-1,-1,-1):\n",
    "        M = rhoG( A[r].dot(X[r]) + tile(b[r],[1,n]) ) * gx\n",
    "        # nabla_X[r] \n",
    "        gx = A[r].transpose().dot(M)\n",
    "        # nabla_A[r]\n",
    "        gA[r] =  M.dot(X[r].transpose())\n",
    "        # nabla_b[r]\n",
    "        gb[r] =  MakeCol(M.sum(axis=1))\n",
    "    return [gA,gb]"
   ]
  },
  {
   "cell_type": "markdown",
   "metadata": {
    "deletable": true,
    "editable": true
   },
   "source": [
    "__Exercise 1__\n",
    "\n",
    "Implement the gradient descent."
   ]
  },
  {
   "cell_type": "code",
   "execution_count": 18,
   "metadata": {
    "collapsed": false,
    "deletable": true,
    "editable": true
   },
   "outputs": [
    {
     "data": {
      "image/png": "[encoded data removed]",
      "text/plain": [
       "<matplotlib.figure.Figure at 0x11c273cc0>"
      ]
     },
     "metadata": {},
     "output_type": "display_data"
    }
   ],
   "source": [
    "run -i nt_solutions/ml_5_nn/exo1"
   ]
  },
  {
   "cell_type": "code",
   "execution_count": 19,
   "metadata": {
    "collapsed": false,
    "deletable": true,
    "editable": true
   },
   "outputs": [],
   "source": [
    "## Insert your code here."
   ]
  },
  {
   "cell_type": "markdown",
   "metadata": {
    "deletable": true,
    "editable": true
   },
   "source": [
    "Grid for evaluation."
   ]
  },
  {
   "cell_type": "code",
   "execution_count": 20,
   "metadata": {
    "collapsed": false,
    "deletable": true,
    "editable": true
   },
   "outputs": [],
   "source": [
    "q = 100;\n",
    "t = linspace(-1,1,q)\n",
    "[Yg,Xg] = meshgrid(t,t)\n",
    "Z = np.vstack([Xg.flatten(), Yg.flatten()])"
   ]
  },
  {
   "cell_type": "markdown",
   "metadata": {
    "deletable": true,
    "editable": true
   },
   "source": [
    "Classification maps"
   ]
  },
  {
   "cell_type": "code",
   "execution_count": 21,
   "metadata": {
    "collapsed": false,
    "deletable": true,
    "editable": true
   },
   "outputs": [],
   "source": [
    "V = ForwardNN(A,b,Z)\n",
    "U = reshape(SM(V[R].transpose()), [q,q,k] )"
   ]
  },
  {
   "cell_type": "markdown",
   "metadata": {
    "deletable": true,
    "editable": true
   },
   "source": [
    "Turn it into color."
   ]
  },
  {
   "cell_type": "code",
   "execution_count": 22,
   "metadata": {
    "collapsed": false,
    "deletable": true,
    "editable": true
   },
   "outputs": [],
   "source": [
    "R = zeros((q,q,3))\n",
    "for i in arange(0,k):\n",
    "    for a in arange(0,3):\n",
    "        R[:,:,a] = R[:,:,a] + U[:,:,i] * col[a,i]"
   ]
  },
  {
   "cell_type": "markdown",
   "metadata": {
    "deletable": true,
    "editable": true
   },
   "source": [
    "Final display of points and class probability."
   ]
  },
  {
   "cell_type": "code",
   "execution_count": 23,
   "metadata": {
    "collapsed": false,
    "deletable": true,
    "editable": true
   },
   "outputs": [
    {
     "data": {
      "image/png": "[encoded data removed]",
      "text/plain": [
       "<matplotlib.figure.Figure at 0x11c437630>"
      ]
     },
     "metadata": {},
     "output_type": "display_data"
    }
   ],
   "source": [
    "M=1\n",
    "clf\n",
    "imshow(R.transpose((1, 0, 2)), origin=\"lower\", extent=[-M,M,-M,M])\n",
    "for i in arange(0,k):\n",
    "    I = find(y==i+1)\n",
    "    plot(x[0,I], x[1,I], '.', color=col[:,i]*.8)\n",
    "axis('off');"
   ]
  },
  {
   "cell_type": "markdown",
   "metadata": {
    "deletable": true,
    "editable": true
   },
   "source": [
    "__Exercise 2__\n",
    "\n",
    "Check the influence of the number of layers"
   ]
  },
  {
   "cell_type": "code",
   "execution_count": 24,
   "metadata": {
    "collapsed": false,
    "deletable": true,
    "editable": true
   },
   "outputs": [
    {
     "data": {
      "image/png": "[encoded data removed]",
      "text/plain": [
       "<matplotlib.figure.Figure at 0x11c426b70>"
      ]
     },
     "metadata": {},
     "output_type": "display_data"
    }
   ],
   "source": [
    "run -i nt_solutions/ml_5_nn/exo2"
   ]
  },
  {
   "cell_type": "code",
   "execution_count": 25,
   "metadata": {
    "collapsed": false,
    "deletable": true,
    "editable": true
   },
   "outputs": [],
   "source": [
    "## Insert your code here."
   ]
  }
 ],
 "metadata": {
  "kernelspec": {
   "display_name": "Python 3",
   "language": "python",
   "name": "python3"
  },
  "language_info": {
   "codemirror_mode": {
    "name": "ipython",
    "version": 3
   },
   "file_extension": ".py",
   "mimetype": "text/x-python",
   "name": "python",
   "nbconvert_exporter": "python",
   "pygments_lexer": "ipython3",
   "version": "3.4.5"
  }
 },
 "nbformat": 4,
 "nbformat_minor": 0
}
