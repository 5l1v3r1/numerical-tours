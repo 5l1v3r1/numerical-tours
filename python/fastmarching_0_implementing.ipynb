{
 "metadata": {
  "name": "",
  "signature": "sha256:506dbda5179188900d8e8122336638dcd6e7738bba1ab4b8241954247d568b18"
 },
 "nbformat": 3,
 "nbformat_minor": 0,
 "worksheets": [
  {
   "cells": [
    {
     "cell_type": "markdown",
     "metadata": {},
     "source": [
      "Dijkstra and Fast Marching Algorithms\n",
      "=====================================\n",
      "$\\newcommand{\\dotp}[2]{\\langle #1, #2 \\rangle}\n",
      "\\newcommand{\\enscond}[2]{\\lbrace #1, #2 \\rbrace}\n",
      "\\newcommand{\\pd}[2]{ \\frac{ \\partial #1}{\\partial #2} }\n",
      "\\newcommand{\\umin}[1]{\\underset{#1}{\\min}\\;}\n",
      "\\newcommand{\\umax}[1]{\\underset{#1}{\\max}\\;}\n",
      "\\newcommand{\\umin}[1]{\\underset{#1}{\\min}\\;}\n",
      "\\newcommand{\\uargmin}[1]{\\underset{#1}{argmin}\\;}\n",
      "\\newcommand{\\norm}[1]{\\|#1\\|}\n",
      "\\newcommand{\\abs}[1]{\\left|#1\\right|}\n",
      "\\newcommand{\\choice}[1]{ \\left\\{  \\begin{array}{l} #1 \\end{array} \\right. }\n",
      "\\newcommand{\\pa}[1]{\\left(#1\\right)}\n",
      "\\newcommand{\\diag}[1]{{diag}\\left( #1 \\right)}\n",
      "\\newcommand{\\qandq}{\\quad\\text{and}\\quad}\n",
      "\\newcommand{\\qwhereq}{\\quad\\text{where}\\quad}\n",
      "\\newcommand{\\qifq}{ \\quad \\text{if} \\quad }\n",
      "\\newcommand{\\qarrq}{ \\quad \\Longrightarrow \\quad }\n",
      "\\newcommand{\\ZZ}{\\mathbb{Z}}\n",
      "\\newcommand{\\CC}{\\mathbb{C}}\n",
      "\\newcommand{\\RR}{\\mathbb{R}}\n",
      "\\newcommand{\\EE}{\\mathbb{E}}\n",
      "\\newcommand{\\Zz}{\\mathcal{Z}}\n",
      "\\newcommand{\\Ww}{\\mathcal{W}}\n",
      "\\newcommand{\\Vv}{\\mathcal{V}}\n",
      "\\newcommand{\\Nn}{\\mathcal{N}}\n",
      "\\newcommand{\\NN}{\\mathcal{N}}\n",
      "\\newcommand{\\Hh}{\\mathcal{H}}\n",
      "\\newcommand{\\Bb}{\\mathcal{B}}\n",
      "\\newcommand{\\Ee}{\\mathcal{E}}\n",
      "\\newcommand{\\Cc}{\\mathcal{C}}\n",
      "\\newcommand{\\Gg}{\\mathcal{G}}\n",
      "\\newcommand{\\Ss}{\\mathcal{S}}\n",
      "\\newcommand{\\Pp}{\\mathcal{P}}\n",
      "\\newcommand{\\Ff}{\\mathcal{F}}\n",
      "\\newcommand{\\Xx}{\\mathcal{X}}\n",
      "\\newcommand{\\Mm}{\\mathcal{M}}\n",
      "\\newcommand{\\Ii}{\\mathcal{I}}\n",
      "\\newcommand{\\Dd}{\\mathcal{D}}\n",
      "\\newcommand{\\Ll}{\\mathcal{L}}\n",
      "\\newcommand{\\Tt}{\\mathcal{T}}\n",
      "\\newcommand{\\si}{\\sigma}\n",
      "\\newcommand{\\al}{\\alpha}\n",
      "\\newcommand{\\la}{\\lambda}\n",
      "\\newcommand{\\ga}{\\gamma}\n",
      "\\newcommand{\\Ga}{\\Gamma}\n",
      "\\newcommand{\\La}{\\Lambda}\n",
      "\\newcommand{\\si}{\\sigma}\n",
      "\\newcommand{\\Si}{\\Sigma}\n",
      "\\newcommand{\\be}{\\beta}\n",
      "\\newcommand{\\de}{\\delta}\n",
      "\\newcommand{\\De}{\\Delta}\n",
      "\\renewcommand{\\phi}{\\varphi}\n",
      "\\renewcommand{\\th}{\\theta}\n",
      "\\newcommand{\\om}{\\omega}\n",
      "\\newcommand{\\Om}{\\Omega}\n",
      "$"
     ]
    },
    {
     "cell_type": "markdown",
     "metadata": {},
     "source": [
      "This numerical tours details the implementations\n",
      "of Dijkstra and Fast Marching algorithms in 2-D.\n",
      "\n",
      "\n",
      "The implementation are performed in Matlab, and are hence quite slow."
     ]
    },
    {
     "cell_type": "code",
     "collapsed": false,
     "input": [
      "from __future__ import division\n",
      "from nt_toolbox import *\n",
      "from perform_dijstra_fm import *\n",
      "%pylab inline\n",
      "%matplotlib inline\n",
      "%load_ext autoreload\n",
      "%autoreload 2"
     ],
     "language": "python",
     "metadata": {},
     "outputs": [
      {
       "output_type": "stream",
       "stream": "stdout",
       "text": [
        "Populating the interactive namespace from numpy and matplotlib\n"
       ]
      },
      {
       "output_type": "stream",
       "stream": "stderr",
       "text": [
        "WARNING: pylab import has clobbered these variables: ['pylab']\n",
        "`%matplotlib` prevents importing * from pylab and numpy\n"
       ]
      }
     ],
     "prompt_number": 2
    },
    {
     "cell_type": "markdown",
     "metadata": {},
     "source": [
      "Installation\n",
      "------------\n",
      "You need to download [numerical_tours](https://github.com/gpeyre/numerical-tours/archive/master.zip)\n",
      "and install the IPython [notebook](http://ipython.org/install.html) to run the code."
     ]
    },
    {
     "cell_type": "markdown",
     "metadata": {},
     "source": [
      "Navigating on the Grid\n",
      "----------------------\n",
      "We use a cartesian grid of size $n \\times n$, and defines operators to navigate in the grid.\n",
      "\n",
      "\n",
      "We use a singe index $i \\in \\{1,\\ldots,n^2\\}$ to index a position on\n",
      "the 2-D grid.\n",
      "\n",
      "\n",
      "Size of the grid."
     ]
    },
    {
     "cell_type": "code",
     "collapsed": false,
     "input": [
      "n = 40"
     ],
     "language": "python",
     "metadata": {},
     "outputs": [],
     "prompt_number": 3
    },
    {
     "cell_type": "markdown",
     "metadata": {},
     "source": [
      "The four displacement vector to go to the four neightbors."
     ]
    },
    {
     "cell_type": "code",
     "collapsed": false,
     "input": [
      "neigh = array([[1, -1, 0, 0], [0, 0,  1, -1]])"
     ],
     "language": "python",
     "metadata": {},
     "outputs": [],
     "prompt_number": 4
    },
    {
     "cell_type": "markdown",
     "metadata": {},
     "source": [
      "For simplicity of implementation, we use periodic boundary conditions."
     ]
    },
    {
     "cell_type": "code",
     "collapsed": false,
     "input": [
      "boundary = lambda x: mod(x,n)"
     ],
     "language": "python",
     "metadata": {},
     "outputs": [],
     "prompt_number": 5
    },
    {
     "cell_type": "markdown",
     "metadata": {},
     "source": [
      "For a given grid index |k|, and a given neighboring index k in ${1,2,3,4}$,\n",
      "|Neigh(k,i)| gives the corresponding grid neighboring index."
     ]
    },
    {
     "cell_type": "code",
     "collapsed": false,
     "input": [
      "ind2sub1 = lambda k: [int( (k-np.fmod(k,n))/n ), np.fmod(k,n)]\n",
      "sub2ind1 = lambda u: int( u[0]*n + u[1] )\n",
      "Neigh = lambda k,i: sub2ind1(boundary(ind2sub1(k) + neigh[:,i]))"
     ],
     "language": "python",
     "metadata": {},
     "outputs": [],
     "prompt_number": 6
    },
    {
     "cell_type": "markdown",
     "metadata": {},
     "source": [
      "Check that these functions are indeed bijections."
     ]
    },
    {
     "cell_type": "code",
     "collapsed": false,
     "input": [
      "print( ind2sub1( sub2ind1([13, 27]) ) )\n",
      "print( sub2ind1( ind2sub1(134) ) )"
     ],
     "language": "python",
     "metadata": {},
     "outputs": [
      {
       "output_type": "stream",
       "stream": "stdout",
       "text": [
        "[13, 27]\n",
        "134\n"
       ]
      }
     ],
     "prompt_number": 9
    },
    {
     "cell_type": "markdown",
     "metadata": {},
     "source": [
      "Dikstra Algorithm\n",
      "-----------------\n",
      "The Dijkstra algorithm compute the geodesic distance on a graph.\n",
      "We use here a graph whose nodes are the pixels, and whose edges defines the\n",
      "usual 4-connectity relationship.\n",
      "\n",
      "\n",
      "In the following, we use the notation $i \\sim j$ to indicate that an\n",
      "index $j$ is a neighbor of $i$ on the graph defined by the discrete\n",
      "grid.\n",
      "\n",
      "\n",
      "The metric $W(x)$. We use here a constant metric."
     ]
    },
    {
     "cell_type": "code",
     "collapsed": false,
     "input": [
      "W = ones( (n,n) )"
     ],
     "language": "python",
     "metadata": {},
     "outputs": [],
     "prompt_number": 10
    },
    {
     "cell_type": "markdown",
     "metadata": {},
     "source": [
      "Set $\\Ss = \\{x_0\\}$ of initial points."
     ]
    },
    {
     "cell_type": "code",
     "collapsed": false,
     "input": [
      "x0 = [n/2, n/2]"
     ],
     "language": "python",
     "metadata": {},
     "outputs": [],
     "prompt_number": 11
    },
    {
     "cell_type": "markdown",
     "metadata": {},
     "source": [
      "Initialize the stack of available indexes."
     ]
    },
    {
     "cell_type": "code",
     "collapsed": false,
     "input": [
      "I = [sub2ind1(x0)]"
     ],
     "language": "python",
     "metadata": {},
     "outputs": [],
     "prompt_number": 12
    },
    {
     "cell_type": "markdown",
     "metadata": {},
     "source": [
      "Initialize the distance to $+\\infty$, excepted for the boundary conditions."
     ]
    },
    {
     "cell_type": "code",
     "collapsed": false,
     "input": [
      "D = ones( (n,n) ) + inf\n",
      "u = ind2sub1(I)\n",
      "D[u[0],u[1]] = 0"
     ],
     "language": "python",
     "metadata": {},
     "outputs": [],
     "prompt_number": 13
    },
    {
     "cell_type": "markdown",
     "metadata": {},
     "source": [
      "Initialize the state to 0 (unexplored), excepted for the boundary point $\\Ss$ (indexed by |I|)\n",
      "to $1$ (front)."
     ]
    },
    {
     "cell_type": "code",
     "collapsed": false,
     "input": [
      "S = zeros( (n,n) )\n",
      "S[u[0],u[1]] = 1"
     ],
     "language": "python",
     "metadata": {},
     "outputs": [],
     "prompt_number": 14
    },
    {
     "cell_type": "markdown",
     "metadata": {},
     "source": [
      "Define a callbabk to use a 1-D indexing on a 2-D array."
     ]
    },
    {
     "cell_type": "code",
     "collapsed": false,
     "input": [
      "extract   = lambda x,I: x[I]\n",
      "extract1d = lambda x,I: extract(x.flatten(),I)"
     ],
     "language": "python",
     "metadata": {},
     "outputs": [],
     "prompt_number": 15
    },
    {
     "cell_type": "markdown",
     "metadata": {},
     "source": [
      "The first step of each iteration of the method is\n",
      "to pop the from stack the element $i$ with smallest current distance $D_i$."
     ]
    },
    {
     "cell_type": "code",
     "collapsed": false,
     "input": [
      "j = np.argsort( extract1d(D,I)  )\n",
      "if np.ndim(j)==0:\n",
      "    j = [j]   # make sure that j is a list a not a singleton\n",
      "j = j[0]\n",
      "i = I[j]         \n",
      "a = I.pop(j)"
     ],
     "language": "python",
     "metadata": {},
     "outputs": [],
     "prompt_number": 17
    },
    {
     "cell_type": "markdown",
     "metadata": {},
     "source": [
      "We update its state $S$ to be dead (-1)."
     ]
    },
    {
     "cell_type": "code",
     "collapsed": false,
     "input": [
      "u = ind2sub1(i);\n",
      "S[u[0],u[1]] = -1"
     ],
     "language": "python",
     "metadata": {},
     "outputs": [],
     "prompt_number": 18
    },
    {
     "cell_type": "markdown",
     "metadata": {},
     "source": [
      "Retrieve the list of the neighbors that are not dead and add to I those that are not yet in it."
     ]
    },
    {
     "cell_type": "code",
     "collapsed": false,
     "input": [
      "J = [] \n",
      "for k in np.arange(0,4):\n",
      "    j = Neigh(i,k)\n",
      "    if extract1d(S,j)!=-1:\n",
      "        # add to the list of point to update\n",
      "        J.append(j)           \n",
      "        if extract1d(S,j)==0:\n",
      "            # add to the front\n",
      "            u = ind2sub1(j)\n",
      "            S[u[0],u[1]] = 1\n",
      "            I.append(j)"
     ],
     "language": "python",
     "metadata": {},
     "outputs": [],
     "prompt_number": 19
    },
    {
     "cell_type": "code",
     "collapsed": false,
     "input": [
      "imageplot(S)"
     ],
     "language": "python",
     "metadata": {},
     "outputs": [
      {
       "metadata": {},
       "output_type": "display_data",
       "png": "[encoded data removed]",
       "text": [
        "<matplotlib.figure.Figure at 0x105f21a50>"
       ]
      }
     ],
     "prompt_number": 20
    },
    {
     "cell_type": "markdown",
     "metadata": {},
     "source": [
      "Update neighbor values.\n",
      "For each neightbo $j$ of $i$, perform the update,\n",
      "assuming the length of the edge between $j$ and $k$ is $W_j$.\n",
      "$$ D_j \\leftarrow \\umin{k \\sim j} D_k + W_j. $$"
     ]
    },
    {
     "cell_type": "code",
     "collapsed": false,
     "input": [
      "DNeigh = lambda D,k: extract1d(D,Neigh(j,k))\n",
      "for j in J:\n",
      "    dx = min(DNeigh(D,0), DNeigh(D,1))\n",
      "    dy = min(DNeigh(D,2), DNeigh(D,3))\n",
      "    u = ind2sub1(j)\n",
      "    w = extract1d(W,j);\n",
      "    D[u[0],u[1]] = min(dx + w, dy + w)"
     ],
     "language": "python",
     "metadata": {},
     "outputs": [],
     "prompt_number": 21
    },
    {
     "cell_type": "markdown",
     "metadata": {},
     "source": [
      "__Exercise 1__\n",
      "\n",
      "Implement the Dijkstra algorithm by iterating these step while the\n",
      "stack |I| is non empty.\n",
      "Display from time to time the front that propagates."
     ]
    },
    {
     "cell_type": "code",
     "collapsed": false,
     "input": [
      "run -i nt_solutions/fastmarching_0_implementing/exo1"
     ],
     "language": "python",
     "metadata": {},
     "outputs": [
      {
       "metadata": {},
       "output_type": "display_data",
       "png": "[encoded data removed]",
       "text": [
        "<matplotlib.figure.Figure at 0x10b0baf10>"
       ]
      }
     ],
     "prompt_number": 53
    },
    {
     "cell_type": "code",
     "collapsed": false,
     "input": [
      "## Insert your code here."
     ],
     "language": "python",
     "metadata": {},
     "outputs": []
    },
    {
     "cell_type": "markdown",
     "metadata": {},
     "source": [
      "Display the geodesic distance map using a cosine modulation to make the\n",
      "level set appears more clearly."
     ]
    },
    {
     "cell_type": "code",
     "collapsed": false,
     "input": [
      "displ = lambda D: cos(2*pi*5*D/max(D.flatten()) )\n",
      "imageplot(displ(D))\n",
      "set_cmap('jet')"
     ],
     "language": "python",
     "metadata": {},
     "outputs": [
      {
       "metadata": {},
       "output_type": "display_data",
       "png": "[encoded data removed]",
       "text": [
        "<matplotlib.figure.Figure at 0x10a7cd690>"
       ]
      }
     ],
     "prompt_number": 55
    },
    {
     "cell_type": "markdown",
     "metadata": {},
     "source": [
      "Fast Marching\n",
      "-------------\n",
      "The Dijstra algorithm suffers from a strong metrization problem, and it\n",
      "actually computes the $\\ell^1$ distance on the grid.\n",
      "\n",
      "\n",
      "The Fast Marching algorithm replace the graph update by a local\n",
      "resolution of the Eikonal equation. This reduces significantly the grid\n",
      "bias, and can be shown to converge to the underlying geodesic distance\n",
      "when the grid step size tends to zero.\n",
      "\n",
      "\n",
      "Over a continuous domain, the distance map $D(x)$ to a set of seed\n",
      "points $ \\Ss $ is the unique solution in the viscosity sense\n",
      "$$ \\forall x \\notin \\Ss, \\quad \\norm{\\nabla D(x)} = W(x)\n",
      "      \\qandq\n",
      "    \\forall y \\in \\Ss, \\quad D(y) = 0. $$\n",
      "\n",
      "\n",
      "The equation is then discretized on a grid of $n \\times n$ pixel, and a\n",
      "solution $ (D_{k,\\ell})_{k,\\ell=1}^n \\in \\RR^{n \\times n} $ is found by using\n",
      "an upwind finite difference approximation, that is faithful to the\n",
      "viscosity solution\n",
      "$$ \\forall (k,\\ell) \\notin \\tilde \\Ss,  \\quad\n",
      "     \\norm{ (\\nabla D)_{k,\\ell} } = W_{k,\\ell}\n",
      "  \\qandq\n",
      "  \\forall (k,\\ell) \\notin \\tilde \\Ss, \\quad D_{k,\\ell}=0,\n",
      "$$\n",
      "where $\\tilde \\Ss$ is the set of discrete starting points (defined here\n",
      "by |x0|).\n",
      "\n",
      "\n",
      "To be consisten with the viscosity solution, one needs to use a\n",
      "non-linear upwind gradient derivative. This corresponds to computing\n",
      "the norm of the gradient as\n",
      "$$ \\norm{ (\\nabla D)_{k,\\ell} }^2 =\n",
      "      \\max( D_{k+1,\\ell}-D_{k,\\ell}, D_{k-1,\\ell}-D_{k,\\ell}, 0 )^2 +\n",
      "      \\max( D_{k,\\ell+1}-D_{k,\\ell}, D_{k,\\ell-1}-D_{k,\\ell}, 0 )^2.\n",
      "$$\n",
      "\n",
      "\n",
      "A each step of the FM propagation, one update $ D_{k,\\ell} \\leftarrow d $\n",
      "by solving the eikonal equation with respect to $D_{k,\\ell}$ alone.\n",
      "This is equivalent to solving the quadratic equation\n",
      "$$ (d-d_x)^2 + (d-d_y)^2 = w^2 \\qwhereq w=W_{k,\\ell}. $$\n",
      "and where\n",
      "$$ d_x = \\min(D_{k+1,\\ell},D_{k-1,\\ell}) \\qandq\n",
      "   d_y = \\min(D_{k,\\ell+1},D_{k,\\ell-1}). $$\n",
      "\n",
      "\n",
      "The update is thus defined as\n",
      "$$\n",
      "      d = \\choice{\n",
      "          \\frac{d_x+d_y+ \\sqrt{\\De}}{2} \\quad\\text{when}\\quad \\De \\geq 0, \\\\\n",
      "          \\min(d_x,d_y)+w \\quad \\text{otherwise.}\n",
      "      }\n",
      "      \\qwhereq\n",
      "      \\De = 2 w^2 - (d_x-d_y)^2.\n",
      "$$\n",
      "\n",
      "\n",
      "Note that in the case where $\\De<0$, one has to use the Dijkstra\n",
      "update.\n",
      "\n",
      "\n",
      "Once the Dijstra algorithm is implemented, the implementation of the Fast\n",
      "Marching is trivial. It just corresponds to replacing the graph udpate"
     ]
    },
    {
     "cell_type": "code",
     "collapsed": false,
     "input": [
      "D(j) = min(dx + W(j), dy + W(j))"
     ],
     "language": "python",
     "metadata": {},
     "outputs": []
    },
    {
     "cell_type": "markdown",
     "metadata": {},
     "source": [
      "by the eikonal update."
     ]
    },
    {
     "cell_type": "code",
     "collapsed": false,
     "input": [
      "Delta = 2*W(j) - (dx-dy)^2\n",
      "if Delta >= 0\n",
      "    D(j) = (dx + dy + sqrt(Delta))/ 2\n",
      "else\n",
      "    D(j) = min(dx + W(j), dy + W(j))"
     ],
     "language": "python",
     "metadata": {},
     "outputs": []
    },
    {
     "cell_type": "markdown",
     "metadata": {},
     "source": [
      "__Exercise 2__\n",
      "\n",
      "Implement the Fast Marching algorithm.\n",
      "Display from time to time the front that propagates."
     ]
    },
    {
     "cell_type": "code",
     "collapsed": false,
     "input": [
      "solutions.exo2()"
     ],
     "language": "python",
     "metadata": {},
     "outputs": []
    },
    {
     "cell_type": "code",
     "collapsed": false,
     "input": [
      "## Insert your code here."
     ],
     "language": "python",
     "metadata": {},
     "outputs": []
    },
    {
     "cell_type": "markdown",
     "metadata": {},
     "source": [
      "Display the geodesic distance map using a cosine modulation to make the\n",
      "level set appears more clearly."
     ]
    },
    {
     "cell_type": "code",
     "collapsed": false,
     "input": [
      "imageplot(displ(D))\n",
      "colormap jet(256)"
     ],
     "language": "python",
     "metadata": {},
     "outputs": []
    },
    {
     "cell_type": "markdown",
     "metadata": {},
     "source": [
      "Computation of Geodesic Paths\n",
      "-----------------------------\n",
      "We use a more complicated, non-constant metric, with a bump in the\n",
      "middle."
     ]
    },
    {
     "cell_type": "code",
     "collapsed": false,
     "input": [
      "n = 100\n",
      "x = linspace(-1, 1, n)\n",
      "[Y, X] = meshgrid(x, x)\n",
      "sigma = .2\n",
      "W = 1 + 8 * exp(-(X.^2 + Y.^2)/ (2*sigma^2))"
     ],
     "language": "python",
     "metadata": {},
     "outputs": []
    },
    {
     "cell_type": "markdown",
     "metadata": {},
     "source": [
      "Display it."
     ]
    },
    {
     "cell_type": "code",
     "collapsed": false,
     "input": [
      "imageplot(W)"
     ],
     "language": "python",
     "metadata": {},
     "outputs": []
    },
    {
     "cell_type": "markdown",
     "metadata": {},
     "source": [
      "Starting points."
     ]
    },
    {
     "cell_type": "code",
     "collapsed": false,
     "input": [
      "x0 = round([.1; .1]*n); %  [.8; .8]]*n)"
     ],
     "language": "python",
     "metadata": {},
     "outputs": []
    },
    {
     "cell_type": "markdown",
     "metadata": {},
     "source": [
      "__Exercise 3__\n",
      "\n",
      "Compute the distance map to these starting point using the FM algorithm."
     ]
    },
    {
     "cell_type": "code",
     "collapsed": false,
     "input": [
      "solutions.exo3()"
     ],
     "language": "python",
     "metadata": {},
     "outputs": []
    },
    {
     "cell_type": "code",
     "collapsed": false,
     "input": [
      "## Insert your code here."
     ],
     "language": "python",
     "metadata": {},
     "outputs": []
    },
    {
     "cell_type": "markdown",
     "metadata": {},
     "source": [
      "Once the geodesic distance map to $\\Ss$\n",
      "has been computed, the geodesic curve between any point $x_1$ and $\\Ss$\n",
      "extracted through gradient descent\n",
      "$$ \\ga'(t) = - \\eta_t \\nabla D(\\ga(t)) \\qandq \\ga(0)=x_1 $$\n",
      "where $\\eta_t>0$ controls the parameterization speed of the resulting\n",
      "curve.\n",
      "\n",
      "\n",
      "To obtain unit speed parameterization, one can use $\\eta_t =\n",
      "\\norm{\\nabla D(\\ga(t))}^{-1}$ (one need to be careful when\n",
      "$\\ga$ approaches $\\Ss$ since $D$ is not smooth on $\\Ss$).\n",
      "\n",
      "\n",
      "Compute the gradient $G_0(x) = \\nabla D(x) \\in \\RR^2$ of the distance map.\n",
      "Use centered differences."
     ]
    },
    {
     "cell_type": "code",
     "collapsed": false,
     "input": [
      "options.order = 2\n",
      "G0 = grad(D, options)"
     ],
     "language": "python",
     "metadata": {},
     "outputs": []
    },
    {
     "cell_type": "markdown",
     "metadata": {},
     "source": [
      "Normalize the gradient to obtained $G(x) = G_0(x)/\\norm{G_0(x)}$, in order to have unit speed geodesic curve (parameterized\n",
      "by arc length)."
     ]
    },
    {
     "cell_type": "code",
     "collapsed": false,
     "input": [
      "G = G0 ./ repmat(sqrt(sum(G0.^2, 3)), [1 1 2])"
     ],
     "language": "python",
     "metadata": {},
     "outputs": []
    },
    {
     "cell_type": "markdown",
     "metadata": {},
     "source": [
      "The geodesic is then numerically computed using a discretized gradient\n",
      "descent, which defines a discret curve $ (\\ga_k)_k $ using\n",
      "$$ \\ga_{k+1} = \\ga_k - \\tau G(\\ga_k) $$\n",
      "where $\\ga_k \\in \\RR^2$ is an approximation of $\\ga(t)$ at time\n",
      "$t=k\\tau$, and the step size $\\tau>0$ should be small enough.\n",
      "\n",
      "\n",
      "Step size $\\tau$ for the gradient descent."
     ]
    },
    {
     "cell_type": "code",
     "collapsed": false,
     "input": [
      "tau = .8"
     ],
     "language": "python",
     "metadata": {},
     "outputs": []
    },
    {
     "cell_type": "markdown",
     "metadata": {},
     "source": [
      "Initialize the path with the ending point."
     ]
    },
    {
     "cell_type": "code",
     "collapsed": false,
     "input": [
      "x1 = round([.9; .88]*n)\n",
      "gamma = x1"
     ],
     "language": "python",
     "metadata": {},
     "outputs": []
    },
    {
     "cell_type": "markdown",
     "metadata": {},
     "source": [
      "Define a shortcut to interpolate $G$ at a 2-D points.\n",
      "_Warning:_ the |interp2| switches the role of the axis ..."
     ]
    },
    {
     "cell_type": "code",
     "collapsed": false,
     "input": [
      "Geval = lambda G, x: [interp2(1: n, 1: n, G(: , : , 1), x(2), x(1)); ...\n",
      "             interp2(1: n, 1: n, G(: , : , 2), x(2), x(1))]"
     ],
     "language": "python",
     "metadata": {},
     "outputs": []
    },
    {
     "cell_type": "markdown",
     "metadata": {},
     "source": [
      "Compute the gradient at the last point in the path, using interpolation."
     ]
    },
    {
     "cell_type": "code",
     "collapsed": false,
     "input": [
      "g = Geval(G, gamma(: , end))"
     ],
     "language": "python",
     "metadata": {},
     "outputs": []
    },
    {
     "cell_type": "markdown",
     "metadata": {},
     "source": [
      "Perform the descent and add the new point to the path."
     ]
    },
    {
     "cell_type": "code",
     "collapsed": false,
     "input": [
      "gamma(: , end + 1) = gamma(: , end) - tau*g"
     ],
     "language": "python",
     "metadata": {},
     "outputs": []
    },
    {
     "cell_type": "markdown",
     "metadata": {},
     "source": [
      "__Exercise 4__\n",
      "\n",
      "Perform the full geodesic path extraction by iterating the gradient\n",
      "descent. You must be very careful when the path become close to\n",
      "$x_0$, because the distance function is not differentiable at this\n",
      "point. You must stop the iteration when the path is close to $x_0$."
     ]
    },
    {
     "cell_type": "code",
     "collapsed": false,
     "input": [
      "solutions.exo4()"
     ],
     "language": "python",
     "metadata": {},
     "outputs": []
    },
    {
     "cell_type": "code",
     "collapsed": false,
     "input": [
      "## Insert your code here."
     ],
     "language": "python",
     "metadata": {},
     "outputs": []
    },
    {
     "cell_type": "markdown",
     "metadata": {},
     "source": [
      "Display the geodesic curve."
     ]
    },
    {
     "cell_type": "code",
     "collapsed": false,
     "input": [
      "clf; hold on\n",
      "imageplot(W); colormap gray(256)\n",
      "h = plot(gamma(2, : ), gamma(1, : ), '.b'); set(h, 'LineWidth', 2)\n",
      "h = plot(x0(2), x0(1), '.r'); set(h, 'MarkerSize', 25)\n",
      "h = plot(x1(2), x1(1), '.b'); set(h, 'MarkerSize', 25)\n",
      "axis ij"
     ],
     "language": "python",
     "metadata": {},
     "outputs": []
    }
   ],
   "metadata": {}
  }
 ]
}