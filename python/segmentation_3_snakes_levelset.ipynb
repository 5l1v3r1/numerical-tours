{
 "cells": [
  {
   "cell_type": "markdown",
   "metadata": {},
   "source": [
    "Active Contours using Level Sets\n",
    "================================\n",
    "\n",
    "*Important:* Please read the [installation page](http://gpeyre.github.io/numerical-tours/installation_python/) for details about how to install the toolboxes.\n",
    "$\\newcommand{\\dotp}[2]{\\langle #1, #2 \\rangle}$\n",
    "$\\newcommand{\\enscond}[2]{\\lbrace #1, #2 \\rbrace}$\n",
    "$\\newcommand{\\pd}[2]{ \\frac{ \\partial #1}{\\partial #2} }$\n",
    "$\\newcommand{\\umin}[1]{\\underset{#1}{\\min}\\;}$\n",
    "$\\newcommand{\\umax}[1]{\\underset{#1}{\\max}\\;}$\n",
    "$\\newcommand{\\umin}[1]{\\underset{#1}{\\min}\\;}$\n",
    "$\\newcommand{\\uargmin}[1]{\\underset{#1}{argmin}\\;}$\n",
    "$\\newcommand{\\norm}[1]{\\|#1\\|}$\n",
    "$\\newcommand{\\abs}[1]{\\left|#1\\right|}$\n",
    "$\\newcommand{\\choice}[1]{ \\left\\{  \\begin{array}{l} #1 \\end{array} \\right. }$\n",
    "$\\newcommand{\\pa}[1]{\\left(#1\\right)}$\n",
    "$\\newcommand{\\diag}[1]{{diag}\\left( #1 \\right)}$\n",
    "$\\newcommand{\\qandq}{\\quad\\text{and}\\quad}$\n",
    "$\\newcommand{\\qwhereq}{\\quad\\text{where}\\quad}$\n",
    "$\\newcommand{\\qifq}{ \\quad \\text{if} \\quad }$\n",
    "$\\newcommand{\\qarrq}{ \\quad \\Longrightarrow \\quad }$\n",
    "$\\newcommand{\\ZZ}{\\mathbb{Z}}$\n",
    "$\\newcommand{\\CC}{\\mathbb{C}}$\n",
    "$\\newcommand{\\RR}{\\mathbb{R}}$\n",
    "$\\newcommand{\\EE}{\\mathbb{E}}$\n",
    "$\\newcommand{\\Zz}{\\mathcal{Z}}$\n",
    "$\\newcommand{\\Ww}{\\mathcal{W}}$\n",
    "$\\newcommand{\\Vv}{\\mathcal{V}}$\n",
    "$\\newcommand{\\Nn}{\\mathcal{N}}$\n",
    "$\\newcommand{\\NN}{\\mathcal{N}}$\n",
    "$\\newcommand{\\Hh}{\\mathcal{H}}$\n",
    "$\\newcommand{\\Bb}{\\mathcal{B}}$\n",
    "$\\newcommand{\\Ee}{\\mathcal{E}}$\n",
    "$\\newcommand{\\Cc}{\\mathcal{C}}$\n",
    "$\\newcommand{\\Gg}{\\mathcal{G}}$\n",
    "$\\newcommand{\\Ss}{\\mathcal{S}}$\n",
    "$\\newcommand{\\Pp}{\\mathcal{P}}$\n",
    "$\\newcommand{\\Ff}{\\mathcal{F}}$\n",
    "$\\newcommand{\\Xx}{\\mathcal{X}}$\n",
    "$\\newcommand{\\Mm}{\\mathcal{M}}$\n",
    "$\\newcommand{\\Ii}{\\mathcal{I}}$\n",
    "$\\newcommand{\\Dd}{\\mathcal{D}}$\n",
    "$\\newcommand{\\Ll}{\\mathcal{L}}$\n",
    "$\\newcommand{\\Tt}{\\mathcal{T}}$\n",
    "$\\newcommand{\\si}{\\sigma}$\n",
    "$\\newcommand{\\al}{\\alpha}$\n",
    "$\\newcommand{\\la}{\\lambda}$\n",
    "$\\newcommand{\\ga}{\\gamma}$\n",
    "$\\newcommand{\\Ga}{\\Gamma}$\n",
    "$\\newcommand{\\La}{\\Lambda}$\n",
    "$\\newcommand{\\si}{\\sigma}$\n",
    "$\\newcommand{\\Si}{\\Sigma}$\n",
    "$\\newcommand{\\be}{\\beta}$\n",
    "$\\newcommand{\\de}{\\delta}$\n",
    "$\\newcommand{\\De}{\\Delta}$\n",
    "$\\newcommand{\\phi}{\\varphi}$\n",
    "$\\newcommand{\\th}{\\theta}$\n",
    "$\\newcommand{\\om}{\\omega}$\n",
    "$\\newcommand{\\Om}{\\Omega}$"
   ]
  },
  {
   "cell_type": "markdown",
   "metadata": {},
   "source": [
    "This tour explores image segementation using level set methods."
   ]
  },
  {
   "cell_type": "code",
   "execution_count": 1,
   "metadata": {
    "collapsed": false
   },
   "outputs": [],
   "source": [
    "from __future__ import division\n",
    "\n",
    "import numpy as np\n",
    "import scipy as scp\n",
    "import pylab as pyl\n",
    "import matplotlib.pyplot as plt\n",
    "\n",
    "from nt_toolbox.general import *\n",
    "from nt_toolbox.signal import *\n",
    "\n",
    "import warnings\n",
    "warnings.filterwarnings('ignore')\n",
    "\n",
    "%matplotlib inline\n",
    "%load_ext autoreload\n",
    "%autoreload 2"
   ]
  },
  {
   "cell_type": "markdown",
   "metadata": {},
   "source": [
    "Managing level set functions\n",
    "----------------------------\n",
    "In the level set formalism, the evolution of some curve $ (\\ga(t))_{t=0}^1 $\n",
    "is computed by evolving the\n",
    "zero level of a function $\\phi : \\RR^2 \\rightarrow \\RR $\n",
    "$$ \\enscond{\\ga(s)}{ s \\in [0,1] } = \\enscond{x \\in \\RR^2}{\\phi(x)=0}. $$\n",
    "This corresponds to replacing the parameteric representation $\\ga$ of\n",
    "the curve by an implicit representation. This requires an additional\n",
    "dimension (and hence more storage) but ease the handling of topological\n",
    "change of the curve during the evolution.\n",
    "\n",
    "\n",
    "Discretazion size $n \\times n$ of the domain $[0,1]^2$."
   ]
  },
  {
   "cell_type": "code",
   "execution_count": 2,
   "metadata": {
    "collapsed": false
   },
   "outputs": [],
   "source": [
    "n = 200\n",
    "Y,X = np.meshgrid(np.arange(1,n+1), np.arange(1,n+1))"
   ]
  },
  {
   "cell_type": "markdown",
   "metadata": {},
   "source": [
    "One can create a circular shape by using the signed distance function to\n",
    "a circle\n",
    "$$ \\phi_1(x) = \\sqrt{ (x_1-c_1)^2 + (x_2-c_2)^2 } - r $$\n",
    "where $r>0$ is the radius and $c \\in \\RR^2$ the center.\n",
    "\n",
    "\n",
    "Radius $r$."
   ]
  },
  {
   "cell_type": "code",
   "execution_count": 3,
   "metadata": {
    "collapsed": false
   },
   "outputs": [],
   "source": [
    "r = n/3."
   ]
  },
  {
   "cell_type": "markdown",
   "metadata": {},
   "source": [
    "Center $c$."
   ]
  },
  {
   "cell_type": "code",
   "execution_count": 4,
   "metadata": {
    "collapsed": false
   },
   "outputs": [],
   "source": [
    "c = np.array([r,r]) + 10"
   ]
  },
  {
   "cell_type": "markdown",
   "metadata": {},
   "source": [
    "Distance function $\\phi_1$."
   ]
  },
  {
   "cell_type": "code",
   "execution_count": 5,
   "metadata": {
    "collapsed": false
   },
   "outputs": [],
   "source": [
    "phi1 = np.sqrt((X-c[0])**2 + (Y-c[1])**2) - r"
   ]
  },
  {
   "cell_type": "markdown",
   "metadata": {},
   "source": [
    "__Exercise 1__\n",
    "\n",
    "Load a square shape $\\phi_2$ at a different position for the center."
   ]
  },
  {
   "cell_type": "code",
   "execution_count": 6,
   "metadata": {
    "collapsed": false
   },
   "outputs": [],
   "source": [
    "run -i nt_solutions/segmentation_3_snakes_levelset/exo1"
   ]
  },
  {
   "cell_type": "code",
   "execution_count": 7,
   "metadata": {
    "collapsed": false
   },
   "outputs": [],
   "source": [
    "## Insert your code here."
   ]
  },
  {
   "cell_type": "markdown",
   "metadata": {},
   "source": [
    "Display the curves associated to $\\phi_1$ and $\\phi_2$."
   ]
  },
  {
   "cell_type": "code",
   "execution_count": 8,
   "metadata": {
    "collapsed": false,
    "scrolled": true
   },
   "outputs": [
    {
     "data": {
      "image/png": "[encoded data removed]",
      "text/plain": [
       "<matplotlib.figure.Figure at 0x2c87e3c4240>"
      ]
     },
     "metadata": {},
     "output_type": "display_data"
    }
   ],
   "source": [
    "from nt_toolbox.plot_levelset import *\n",
    "plt.figure(figsize = (10,5))\n",
    "\n",
    "plt.subplot(1,2,1)\n",
    "plot_levelset(phi1)\n",
    "\n",
    "plt.subplot(1,2,2)\n",
    "plot_levelset(phi2)"
   ]
  },
  {
   "cell_type": "markdown",
   "metadata": {},
   "source": [
    "__Exercise 2__\n",
    "\n",
    "Compute the intersection and the union of the two shapes.\n",
    "Store the union in $\\phi_0$ (phi0)\n",
    "that we will use in the remaining part of the tour."
   ]
  },
  {
   "cell_type": "code",
   "execution_count": 9,
   "metadata": {
    "collapsed": false
   },
   "outputs": [
    {
     "data": {
      "image/png": "[encoded data removed]",
      "text/plain": [
       "<matplotlib.figure.Figure at 0x2c87b8f2be0>"
      ]
     },
     "metadata": {},
     "output_type": "display_data"
    }
   ],
   "source": [
    "run -i nt_solutions/segmentation_3_snakes_levelset/exo2"
   ]
  },
  {
   "cell_type": "code",
   "execution_count": 10,
   "metadata": {
    "collapsed": false
   },
   "outputs": [],
   "source": [
    "## Insert your code here."
   ]
  },
  {
   "cell_type": "markdown",
   "metadata": {},
   "source": [
    "Mean Curvature Motion.\n",
    "----------------------\n",
    "The mean curvature motion corresponds to the minimizing flow of the\n",
    "length of the curve\n",
    "$$ \\int_0^1 \\norm{\\ga'(s)} d s. $$\n",
    "\n",
    "\n",
    "\n",
    "It is implemeted in a level set formalism by a familly $\\phi_t$ of\n",
    "level set function parameterized by an artificial time $t \\geq 0$, that\n",
    "satisfies the following PDE\n",
    "$$ \\pd{\\phi_t}{t} = -G(\\phi_t)\n",
    "  \\qwhereq G(\\phi) = -\\norm{\\nabla \\phi} \\text{div}\n",
    "      \\pa{  \\frac{\\nabla \\phi}{\\norm{\\nabla \\phi}} }  $$\n",
    "and where $\\nabla \\phi_t(x) \\in \\RR^2$ is the spacial gradient.\n",
    "\n",
    "\n",
    "This flow is computed using a gradient descent\n",
    "$\\phi^{(0)} = \\phi_0$ and\n",
    "$$ \\phi^{(\\ell+1)} = \\phi^{(\\ell)} - \\tau G(\\phi^{(\\ell)}), $$\n",
    "where $\\tau>0$ is small enough time step.\n",
    "\n",
    "\n",
    "Maximum time of the evolution $0 \\leq t \\leq t_{\\max}$."
   ]
  },
  {
   "cell_type": "code",
   "execution_count": 11,
   "metadata": {
    "collapsed": false
   },
   "outputs": [],
   "source": [
    "Tmax = 200"
   ]
  },
  {
   "cell_type": "markdown",
   "metadata": {},
   "source": [
    "Time step $\\tau>0$ (should be small)."
   ]
  },
  {
   "cell_type": "code",
   "execution_count": 12,
   "metadata": {
    "collapsed": false
   },
   "outputs": [],
   "source": [
    "tau = .5"
   ]
  },
  {
   "cell_type": "markdown",
   "metadata": {},
   "source": [
    "Number of iterations."
   ]
  },
  {
   "cell_type": "code",
   "execution_count": 13,
   "metadata": {
    "collapsed": false
   },
   "outputs": [],
   "source": [
    "niter = int(Tmax/tau)"
   ]
  },
  {
   "cell_type": "markdown",
   "metadata": {},
   "source": [
    "Initial shape $\\phi^{(0)}$ at $t=0$."
   ]
  },
  {
   "cell_type": "code",
   "execution_count": 14,
   "metadata": {
    "collapsed": false
   },
   "outputs": [],
   "source": [
    "phi = np.copy(phi0)"
   ]
  },
  {
   "cell_type": "markdown",
   "metadata": {},
   "source": [
    "We now compute the right hand side of the evolution equation.\n",
    "\n",
    "\n",
    "Compute the gradient $\\nabla \\phi$. We use centered differences for the discretization of the gradient."
   ]
  },
  {
   "cell_type": "code",
   "execution_count": 15,
   "metadata": {
    "collapsed": false
   },
   "outputs": [],
   "source": [
    "from nt_toolbox.grad import *\n",
    "g0 = grad(phi, order=2)"
   ]
  },
  {
   "cell_type": "markdown",
   "metadata": {},
   "source": [
    "Norm $\\norm{\\nabla \\phi}$ of the gradient."
   ]
  },
  {
   "cell_type": "code",
   "execution_count": 16,
   "metadata": {
    "collapsed": false
   },
   "outputs": [],
   "source": [
    "eps = np.finfo(float).eps\n",
    "d = np.maximum(eps*np.ones([n,n]), np.sqrt(np.sum(g0**2, 2)))"
   ]
  },
  {
   "cell_type": "markdown",
   "metadata": {},
   "source": [
    "Normalized gradient."
   ]
  },
  {
   "cell_type": "code",
   "execution_count": 17,
   "metadata": {
    "collapsed": false
   },
   "outputs": [],
   "source": [
    "g = g0/np.repeat(d[:,:,np.newaxis], 2, 2)"
   ]
  },
  {
   "cell_type": "markdown",
   "metadata": {},
   "source": [
    "The curvature term."
   ]
  },
  {
   "cell_type": "code",
   "execution_count": 18,
   "metadata": {
    "collapsed": false
   },
   "outputs": [],
   "source": [
    "from nt_toolbox.div import *\n",
    "K = - d*div(g[:,:,0], g[:,:,1], order=2)"
   ]
  },
  {
   "cell_type": "markdown",
   "metadata": {},
   "source": [
    "Perform one step of the gradient descent."
   ]
  },
  {
   "cell_type": "code",
   "execution_count": 19,
   "metadata": {
    "collapsed": false
   },
   "outputs": [],
   "source": [
    "phi = phi - tau*K"
   ]
  },
  {
   "cell_type": "markdown",
   "metadata": {},
   "source": [
    "__Exercise 3__\n",
    "\n",
    "Implement the mean curvature motion."
   ]
  },
  {
   "cell_type": "code",
   "execution_count": 20,
   "metadata": {
    "collapsed": false
   },
   "outputs": [
    {
     "data": {
      "image/png": "[encoded data removed]",
      "text/plain": [
       "<matplotlib.figure.Figure at 0x2c87e410da0>"
      ]
     },
     "metadata": {},
     "output_type": "display_data"
    }
   ],
   "source": [
    "run -i nt_solutions/segmentation_3_snakes_levelset/exo3"
   ]
  },
  {
   "cell_type": "code",
   "execution_count": 21,
   "metadata": {
    "collapsed": false
   },
   "outputs": [],
   "source": [
    "## Insert your code here."
   ]
  },
  {
   "cell_type": "markdown",
   "metadata": {},
   "source": [
    "Levelset Re-distancing\n",
    "----------------------\n",
    "During PDE resolution, a level set function $\\phi$ might become\n",
    "ill-conditionned, so that the zero crossing is not sharp enough.\n",
    "The quality of the level set function is restored by computing the\n",
    "signed distance function to the zero level set.\n",
    "\n",
    "\n",
    "\n",
    "This corresponds to first extracting the zero level set\n",
    "$$ \\Cc = \\enscond{x \\in \\RR^2 }{\\phi(x)=0},  $$\n",
    "and then solving the following eikonal equation PDE on $\\tilde \\phi$\n",
    "(in viscosity sense)\n",
    "$$ \\norm{\\nabla \\tilde \\phi(x)} = 1\n",
    "      \\qandq \\forall y \\in \\Cc, \\tilde\\phi(y)=0. $$\n",
    "The one can replace $\\phi$ by $\\text{sign}(\\phi(x))\\tilde \\phi(x)$\n",
    "which is the signed distance function to $\\Cc$.\n",
    "\n",
    "\n",
    "We set $\\phi=\\phi_0^3$ so that they are both valid level set function\n",
    "of the same curve, but $\\phi$ is not the signed distance function."
   ]
  },
  {
   "cell_type": "code",
   "execution_count": 22,
   "metadata": {
    "collapsed": false
   },
   "outputs": [],
   "source": [
    "phi = phi0**3"
   ]
  },
  {
   "cell_type": "markdown",
   "metadata": {},
   "source": [
    "Solve the eikonal PDE using the Fast Marching algorithm. You have to install the package scikit-fmm (skfmm) to run this function (pip install scikit_fmm in the console)."
   ]
  },
  {
   "cell_type": "code",
   "execution_count": 23,
   "metadata": {
    "collapsed": false,
    "scrolled": true
   },
   "outputs": [
    {
     "ename": "ImportError",
     "evalue": "No module named 'skfmm'",
     "output_type": "error",
     "traceback": [
      "\u001b[1;31m---------------------------------------------------------------------------\u001b[0m",
      "\u001b[1;31mImportError\u001b[0m                               Traceback (most recent call last)",
      "\u001b[1;32mC:\\Users\\Sandrine\\Desktop\\numerical-tours-master\\python\\nt_solutions\\segmentation_3_snakes_levelset\\exo3.py\u001b[0m in \u001b[0;36m<module>\u001b[1;34m()\u001b[0m\n\u001b[1;32m----> 1\u001b[1;33m \u001b[1;32mfrom\u001b[0m \u001b[0mnt_toolbox\u001b[0m\u001b[1;33m.\u001b[0m\u001b[0mperform_redistancing\u001b[0m \u001b[1;32mimport\u001b[0m \u001b[1;33m*\u001b[0m\u001b[1;33m\u001b[0m\u001b[0m\n\u001b[0m\u001b[0;32m      2\u001b[0m \u001b[0mphi1\u001b[0m \u001b[1;33m=\u001b[0m \u001b[0mperform_redistancing\u001b[0m\u001b[1;33m(\u001b[0m\u001b[0mphi0\u001b[0m\u001b[1;33m)\u001b[0m\u001b[1;33m\u001b[0m\u001b[0m\n",
      "\u001b[1;32mC:\\Users\\Sandrine\\Desktop\\numerical-tours-master\\python\\nt_toolbox\\perform_redistancing.py\u001b[0m in \u001b[0;36m<module>\u001b[1;34m()\u001b[0m\n\u001b[0;32m      1\u001b[0m \u001b[1;32mimport\u001b[0m \u001b[0mnumpy\u001b[0m \u001b[1;32mas\u001b[0m \u001b[0mnp\u001b[0m\u001b[1;33m\u001b[0m\u001b[0m\n\u001b[1;32m----> 2\u001b[1;33m \u001b[1;32mfrom\u001b[0m \u001b[0mnt_toolbox\u001b[0m\u001b[1;33m.\u001b[0m\u001b[0mperform_fast_marching\u001b[0m \u001b[1;32mimport\u001b[0m \u001b[1;33m*\u001b[0m\u001b[1;33m\u001b[0m\u001b[0m\n\u001b[0m\u001b[0;32m      3\u001b[0m \u001b[1;33m\u001b[0m\u001b[0m\n\u001b[0;32m      4\u001b[0m \u001b[1;33m\u001b[0m\u001b[0m\n\u001b[0;32m      5\u001b[0m \u001b[1;32mdef\u001b[0m \u001b[0mperform_redistancing\u001b[0m\u001b[1;33m(\u001b[0m\u001b[0mD\u001b[0m\u001b[1;33m)\u001b[0m\u001b[1;33m:\u001b[0m\u001b[1;33m\u001b[0m\u001b[0m\n",
      "\u001b[1;32mC:\\Users\\Sandrine\\Desktop\\numerical-tours-master\\python\\nt_toolbox\\perform_fast_marching.py\u001b[0m in \u001b[0;36m<module>\u001b[1;34m()\u001b[0m\n\u001b[0;32m      1\u001b[0m \u001b[1;32mimport\u001b[0m \u001b[0mnumpy\u001b[0m \u001b[1;32mas\u001b[0m \u001b[0mnp\u001b[0m\u001b[1;33m\u001b[0m\u001b[0m\n\u001b[1;32m----> 2\u001b[1;33m \u001b[1;32mimport\u001b[0m \u001b[0mskfmm\u001b[0m \u001b[1;32mas\u001b[0m \u001b[0mfmm\u001b[0m\u001b[1;33m\u001b[0m\u001b[0m\n\u001b[0m\u001b[0;32m      3\u001b[0m \u001b[1;33m\u001b[0m\u001b[0m\n\u001b[0;32m      4\u001b[0m \u001b[1;32mdef\u001b[0m \u001b[0mperform_fast_marching\u001b[0m\u001b[1;33m(\u001b[0m\u001b[0mD\u001b[0m\u001b[1;33m,\u001b[0m\u001b[0mstart_points\u001b[0m\u001b[1;33m)\u001b[0m\u001b[1;33m:\u001b[0m\u001b[1;33m\u001b[0m\u001b[0m\n\u001b[0;32m      5\u001b[0m     \"\"\"\n",
      "\u001b[1;31mImportError\u001b[0m: No module named 'skfmm'"
     ]
    }
   ],
   "source": [
    "from nt_toolbox.perform_redistancing import *\n",
    "phi1 = perform_redistancing(phi0)"
   ]
  },
  {
   "cell_type": "markdown",
   "metadata": {},
   "source": [
    "Display the level sets."
   ]
  },
  {
   "cell_type": "code",
   "execution_count": null,
   "metadata": {
    "collapsed": false
   },
   "outputs": [],
   "source": [
    "plt.figure(figsize=(10,5))\n",
    "\n",
    "plt.subplot(1,2,1)\n",
    "plot_levelset(phi)\n",
    "plt.title(\"Before redistancing\")\n",
    "\n",
    "plt.subplot(1,2,2)\n",
    "plot_levelset(phi1)\n",
    "plt.title(\"After redistancing\")\n",
    "\n",
    "plt.show()"
   ]
  },
  {
   "cell_type": "markdown",
   "metadata": {},
   "source": [
    "Edge-based Segmentation with Geodesic Active Contour\n",
    "----------------------------------------------------\n",
    "Geodesic active contours compute loval minimum of a weighted geodesic\n",
    "distance that attract the curve toward the features of the background\n",
    "image.\n",
    "\n",
    "\n",
    "_Note:_ these active contours should not be confounded with the geodesic shortest paths,\n",
    "that are globally minimizing geodesics between two points.\n",
    "Here the active contour is a close curve progressively decreasing a\n",
    "weighted geodesic length that is only a local minimum\n",
    "(the global minimum would be a single point).\n",
    "\n",
    "\n",
    "Size of the image."
   ]
  },
  {
   "cell_type": "code",
   "execution_count": null,
   "metadata": {
    "collapsed": false
   },
   "outputs": [],
   "source": [
    "n = 200"
   ]
  },
  {
   "cell_type": "markdown",
   "metadata": {},
   "source": [
    "First we load an image $f_0 \\in \\RR^{n \\times n}$ to segment."
   ]
  },
  {
   "cell_type": "code",
   "execution_count": null,
   "metadata": {
    "collapsed": false
   },
   "outputs": [],
   "source": [
    "f0 = rescale(load_image(\"nt_toolbox/data/cortex.bmp\", n))"
   ]
  },
  {
   "cell_type": "markdown",
   "metadata": {},
   "source": [
    "Given a background image $f_0$ to segment, one needs to compute\n",
    "an edge-stopping function $W$.\n",
    "It should be small in area of high gradient, and high in area of large gradient.\n",
    "\n",
    "\n",
    "We use here\n",
    "$$ W(x) = \\al + \\frac{\\be}{\\epsilon + d(x) }\n",
    "      \\qwhereq d = \\norm{\\nabla f_0} \\star h_a, $$\n",
    "and where $h_a$ is a blurring kernel of size $a>0$.\n",
    "\n",
    "\n",
    "Compute the magnitude of the gradient $d_0(x) = \\norm{\\nabla f_0(x)}$."
   ]
  },
  {
   "cell_type": "code",
   "execution_count": null,
   "metadata": {
    "collapsed": false
   },
   "outputs": [],
   "source": [
    "g = grad(f0, order=2)\n",
    "d0 = np.sqrt(np.sum(g**2, 2))"
   ]
  },
  {
   "cell_type": "markdown",
   "metadata": {},
   "source": [
    "Blur size $a$."
   ]
  },
  {
   "cell_type": "code",
   "execution_count": null,
   "metadata": {
    "collapsed": false
   },
   "outputs": [],
   "source": [
    "a = 5"
   ]
  },
  {
   "cell_type": "markdown",
   "metadata": {},
   "source": [
    "Compute the blurring $d = d_0 \\star h_a$."
   ]
  },
  {
   "cell_type": "code",
   "execution_count": null,
   "metadata": {
    "collapsed": false,
    "scrolled": false
   },
   "outputs": [],
   "source": [
    "from nt_toolbox.perform_blurring import *\n",
    "d = perform_blurring(d0, np.asarray([a]),bound=\"per\")"
   ]
  },
  {
   "cell_type": "markdown",
   "metadata": {},
   "source": [
    "Parameter $\\epsilon>0$."
   ]
  },
  {
   "cell_type": "code",
   "execution_count": null,
   "metadata": {
    "collapsed": false
   },
   "outputs": [],
   "source": [
    "epsilon = 1e-1"
   ]
  },
  {
   "cell_type": "markdown",
   "metadata": {},
   "source": [
    "We set the $\\al$ and $\\be$ parameters to adjust the overall values of $W$\n",
    "(equivalently we use the function rescale)."
   ]
  },
  {
   "cell_type": "code",
   "execution_count": null,
   "metadata": {
    "collapsed": false
   },
   "outputs": [],
   "source": [
    "W = 1./(epsilon + d)\n",
    "W = rescale(-d, 0.1, 1)"
   ]
  },
  {
   "cell_type": "markdown",
   "metadata": {},
   "source": [
    "Display it."
   ]
  },
  {
   "cell_type": "code",
   "execution_count": null,
   "metadata": {
    "collapsed": false
   },
   "outputs": [],
   "source": [
    "plt.figure(figsize=(10,5))\n",
    "imageplot(f0, \"Image to segment\", [1,2,1])\n",
    "imageplot(W, \"Weight\", [1,2,2])"
   ]
  },
  {
   "cell_type": "markdown",
   "metadata": {},
   "source": [
    "__Exercise 4__\n",
    "\n",
    "Compute an initial shape $\\phi_0$ at time $t=0$,\n",
    "for instance a centered square."
   ]
  },
  {
   "cell_type": "code",
   "execution_count": null,
   "metadata": {
    "collapsed": false
   },
   "outputs": [],
   "source": [
    "run -i nt_solutions/segmentation_3_snakes_levelset/exo4"
   ]
  },
  {
   "cell_type": "code",
   "execution_count": null,
   "metadata": {
    "collapsed": false
   },
   "outputs": [],
   "source": [
    "## Insert your code here."
   ]
  },
  {
   "cell_type": "markdown",
   "metadata": {},
   "source": [
    "Display it."
   ]
  },
  {
   "cell_type": "code",
   "execution_count": null,
   "metadata": {
    "collapsed": false
   },
   "outputs": [],
   "source": [
    "plt.figure(figsize=(5,5))\n",
    "plot_levelset(phi0, 0, f0)"
   ]
  },
  {
   "cell_type": "markdown",
   "metadata": {},
   "source": [
    "The geodesic active contour minimizes a weighted length of curve\n",
    "$$ \\umin{\\ga} \\int_0^1 \\norm{\\ga'(s)} W(\\ga(s)) d s $$\n",
    "\n",
    "\n",
    "The level set implementation of the gradient descent of this energy reads\n",
    "$$ \\pd{\\phi_t}{t} = G(\\phi_t)\n",
    "  \\qwhereq G(\\phi) = -\\norm{\\nabla \\phi} \\text{div}\\pa{\n",
    "          W \\frac{\\nabla \\phi}{\\norm{\\nabla \\phi}}\n",
    "  } $$\n",
    "\n",
    "\n",
    "This is implemented using a gradient descent scheme.\n",
    "$$ \\phi^{(\\ell+1)} = \\phi^{(\\ell)} - \\tau G(\\phi^{(\\ell)}), $$\n",
    "where $\\tau>0$ is small enough.\n",
    "\n",
    "\n",
    "Gradient step size $\\tau>0$."
   ]
  },
  {
   "cell_type": "code",
   "execution_count": null,
   "metadata": {
    "collapsed": false
   },
   "outputs": [],
   "source": [
    "tau = .4"
   ]
  },
  {
   "cell_type": "markdown",
   "metadata": {},
   "source": [
    "Final time and number of iteration of the algorithm."
   ]
  },
  {
   "cell_type": "code",
   "execution_count": null,
   "metadata": {
    "collapsed": false
   },
   "outputs": [],
   "source": [
    "Tmax = 1500\n",
    "niter = int(Tmax/tau)"
   ]
  },
  {
   "cell_type": "markdown",
   "metadata": {},
   "source": [
    "Initial distance function $\\phi^{(0)}=\\phi_0$."
   ]
  },
  {
   "cell_type": "code",
   "execution_count": null,
   "metadata": {
    "collapsed": false
   },
   "outputs": [],
   "source": [
    "phi = np.copy(phi0)"
   ]
  },
  {
   "cell_type": "markdown",
   "metadata": {},
   "source": [
    "Note that we can re-write the gradient of the energy as\n",
    "$$ G(\\phi) = -W \\norm{\\nabla \\phi} \\text{div} \\pa{ \\frac{\\nabla \\phi}{\\norm{\\nabla \\phi}}  } - \\dotp{\\nabla W}{\\nabla \\phi} $$\n",
    "\n",
    "\n",
    "Pre-compute once for all $\\nabla W$."
   ]
  },
  {
   "cell_type": "code",
   "execution_count": null,
   "metadata": {
    "collapsed": false
   },
   "outputs": [],
   "source": [
    "gW = grad(W, order=2)"
   ]
  },
  {
   "cell_type": "markdown",
   "metadata": {},
   "source": [
    "__Exercise 5__\n",
    "\n",
    "Compute and store in G the gradient $G(\\phi)$ (right hand side of the PDE)\n",
    "using the current value of the distance function $\\phi$."
   ]
  },
  {
   "cell_type": "code",
   "execution_count": null,
   "metadata": {
    "collapsed": false
   },
   "outputs": [],
   "source": [
    "run -i nt_solutions/segmentation_3_snakes_levelset/exo5"
   ]
  },
  {
   "cell_type": "code",
   "execution_count": null,
   "metadata": {
    "collapsed": false
   },
   "outputs": [],
   "source": [
    "## Insert your code here."
   ]
  },
  {
   "cell_type": "markdown",
   "metadata": {},
   "source": [
    "Do the descent step."
   ]
  },
  {
   "cell_type": "code",
   "execution_count": null,
   "metadata": {
    "collapsed": false
   },
   "outputs": [],
   "source": [
    "phi = phi - tau*G"
   ]
  },
  {
   "cell_type": "markdown",
   "metadata": {},
   "source": [
    "Once in a while (e.g. every 30 iterations), perform re-distancing of $\\phi$."
   ]
  },
  {
   "cell_type": "code",
   "execution_count": null,
   "metadata": {
    "collapsed": false
   },
   "outputs": [],
   "source": [
    "phi = perform_redistancing(phi)"
   ]
  },
  {
   "cell_type": "markdown",
   "metadata": {},
   "source": [
    "__Exercise 6__\n",
    "\n",
    "Implement the geodesic active contours gradient descent.\n",
    "Do not forget to do the re-distancing."
   ]
  },
  {
   "cell_type": "code",
   "execution_count": null,
   "metadata": {
    "collapsed": false
   },
   "outputs": [],
   "source": [
    "run -i nt_solutions/segmentation_3_snakes_levelset/exo6"
   ]
  },
  {
   "cell_type": "code",
   "execution_count": null,
   "metadata": {
    "collapsed": false
   },
   "outputs": [],
   "source": [
    "## Insert your code here."
   ]
  },
  {
   "cell_type": "markdown",
   "metadata": {},
   "source": [
    "Region-based Segmentation with Chan-Vese \n",
    "-----------------------------------------\n",
    "Chan-Vese active contours corresponds to a region-based energy\n",
    "that looks for a piecewise constant approximation of the image.\n",
    "\n",
    "\n",
    "The energy to be minimized is\n",
    "$$ \\umin{\\phi}\n",
    "      L(\\phi) +\n",
    "      \\la \\int_{\\phi(x)>0} \\abs{f_0(x)-c_1}^2 d x   +\n",
    "      \\la \\int_{\\phi(x)<0} \\abs{f_0(x)-c_2}^2 d x\n",
    "$$\n",
    "where $L$ is the length of the zero level set of $\\phi$.\n",
    "Note that here $(c_1,c_2) \\in \\RR^2$ are assumed to be known."
   ]
  },
  {
   "cell_type": "markdown",
   "metadata": {},
   "source": [
    "__Exercise 7__\n",
    "\n",
    "Compute an initial level set function $\\phi_0$, stored in phi0,\n",
    "for instance many small circles."
   ]
  },
  {
   "cell_type": "code",
   "execution_count": null,
   "metadata": {
    "collapsed": false
   },
   "outputs": [],
   "source": [
    "run -i nt_solutions/segmentation_3_snakes_levelset/exo7"
   ]
  },
  {
   "cell_type": "code",
   "execution_count": null,
   "metadata": {
    "collapsed": false
   },
   "outputs": [],
   "source": [
    "## Insert your code here."
   ]
  },
  {
   "cell_type": "markdown",
   "metadata": {},
   "source": [
    "Parameter $\\la$"
   ]
  },
  {
   "cell_type": "code",
   "execution_count": null,
   "metadata": {
    "collapsed": false
   },
   "outputs": [],
   "source": [
    "lambd = 2"
   ]
  },
  {
   "cell_type": "markdown",
   "metadata": {},
   "source": [
    "Values for $c_1,c_2$"
   ]
  },
  {
   "cell_type": "code",
   "execution_count": null,
   "metadata": {
    "collapsed": false
   },
   "outputs": [],
   "source": [
    "c1 = .7\n",
    "c2 = 0"
   ]
  },
  {
   "cell_type": "markdown",
   "metadata": {},
   "source": [
    "Step size."
   ]
  },
  {
   "cell_type": "code",
   "execution_count": null,
   "metadata": {
    "collapsed": false
   },
   "outputs": [],
   "source": [
    "tau = .5"
   ]
  },
  {
   "cell_type": "markdown",
   "metadata": {},
   "source": [
    "Number of iterations."
   ]
  },
  {
   "cell_type": "code",
   "execution_count": null,
   "metadata": {
    "collapsed": false
   },
   "outputs": [],
   "source": [
    "Tmax = 100\n",
    "niter = int(Tmax/ tau)"
   ]
  },
  {
   "cell_type": "markdown",
   "metadata": {},
   "source": [
    "Initial distance function $\\phi_0$ at time $t=0$."
   ]
  },
  {
   "cell_type": "code",
   "execution_count": null,
   "metadata": {
    "collapsed": false
   },
   "outputs": [],
   "source": [
    "phi = np.copy(phi0)"
   ]
  },
  {
   "cell_type": "markdown",
   "metadata": {},
   "source": [
    "The minimizing flow for the CV energy reads\n",
    "$$ \\pd{\\phi_t}{t} = - G(\\phi_t) $$\n",
    "where\n",
    "$$ G(\\phi) =\n",
    "- W \\norm{\\nabla \\phi} \\text{div}\\pa{\n",
    "\t\\frac{\\nabla \\phi}{\\norm{\\nabla \\phi}}\n",
    "} + \\la (f_0-c_1)^2 - \\la (f_0-c_2)^2. $$"
   ]
  },
  {
   "cell_type": "markdown",
   "metadata": {},
   "source": [
    "__Exercise 8__\n",
    "\n",
    "Compute this gradient $G(\\phi)$ using the current value of the distance function\n",
    "(phi$.\n",
    "radient"
   ]
  },
  {
   "cell_type": "code",
   "execution_count": null,
   "metadata": {
    "collapsed": false
   },
   "outputs": [],
   "source": [
    "run -i nt_solutions/segmentation_3_snakes_levelset/exo8"
   ]
  },
  {
   "cell_type": "code",
   "execution_count": null,
   "metadata": {
    "collapsed": false
   },
   "outputs": [],
   "source": [
    "## Insert your code here."
   ]
  },
  {
   "cell_type": "markdown",
   "metadata": {},
   "source": [
    "Do a descent step."
   ]
  },
  {
   "cell_type": "code",
   "execution_count": null,
   "metadata": {
    "collapsed": false
   },
   "outputs": [],
   "source": [
    "phi = phi + tau*G"
   ]
  },
  {
   "cell_type": "markdown",
   "metadata": {},
   "source": [
    "__Exercise 9__\n",
    "\n",
    "Implement the full gradient descent."
   ]
  },
  {
   "cell_type": "code",
   "execution_count": null,
   "metadata": {
    "collapsed": false
   },
   "outputs": [],
   "source": [
    "run -i nt_solutions/segmentation_3_snakes_levelset/exo9"
   ]
  },
  {
   "cell_type": "code",
   "execution_count": null,
   "metadata": {
    "collapsed": false
   },
   "outputs": [],
   "source": [
    "## Insert your code here."
   ]
  }
 ],
 "metadata": {
  "anaconda-cloud": {},
  "kernelspec": {
   "display_name": "Python [Root]",
   "language": "python",
   "name": "Python [Root]"
  },
  "language_info": {
   "codemirror_mode": {
    "name": "ipython",
    "version": 3
   },
   "file_extension": ".py",
   "mimetype": "text/x-python",
   "name": "python",
   "nbconvert_exporter": "python",
   "pygments_lexer": "ipython3",
   "version": "3.5.2"
  }
 },
 "nbformat": 4,
 "nbformat_minor": 0
}
