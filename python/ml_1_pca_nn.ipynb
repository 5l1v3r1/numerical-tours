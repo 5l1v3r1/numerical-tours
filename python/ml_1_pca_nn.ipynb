{
 "cells": [
  {
   "cell_type": "markdown",
   "metadata": {
    "deletable": true,
    "editable": true
   },
   "source": [
    "PCA, Nearest-Neighbors Classification and Clustering\n",
    "====================================================\n",
    "\n",
    "*Important:* Please read the [installation page](http://gpeyre.github.io/numerical-tours/installation_python/) for details about how to install the toolboxes.\n",
    "$\\newcommand{\\dotp}[2]{\\langle #1, #2 \\rangle}$\n",
    "$\\newcommand{\\enscond}[2]{\\lbrace #1, #2 \\rbrace}$\n",
    "$\\newcommand{\\pd}[2]{ \\frac{ \\partial #1}{\\partial #2} }$\n",
    "$\\newcommand{\\umin}[1]{\\underset{#1}{\\min}\\;}$\n",
    "$\\newcommand{\\umax}[1]{\\underset{#1}{\\max}\\;}$\n",
    "$\\newcommand{\\umin}[1]{\\underset{#1}{\\min}\\;}$\n",
    "$\\newcommand{\\uargmin}[1]{\\underset{#1}{argmin}\\;}$\n",
    "$\\newcommand{\\norm}[1]{\\|#1\\|}$\n",
    "$\\newcommand{\\abs}[1]{\\left|#1\\right|}$\n",
    "$\\newcommand{\\choice}[1]{ \\left\\{  \\begin{array}{l} #1 \\end{array} \\right. }$\n",
    "$\\newcommand{\\pa}[1]{\\left(#1\\right)}$\n",
    "$\\newcommand{\\diag}[1]{{diag}\\left( #1 \\right)}$\n",
    "$\\newcommand{\\qandq}{\\quad\\text{and}\\quad}$\n",
    "$\\newcommand{\\qwhereq}{\\quad\\text{where}\\quad}$\n",
    "$\\newcommand{\\qifq}{ \\quad \\text{if} \\quad }$\n",
    "$\\newcommand{\\qarrq}{ \\quad \\Longrightarrow \\quad }$\n",
    "$\\newcommand{\\ZZ}{\\mathbb{Z}}$\n",
    "$\\newcommand{\\CC}{\\mathbb{C}}$\n",
    "$\\newcommand{\\RR}{\\mathbb{R}}$\n",
    "$\\newcommand{\\EE}{\\mathbb{E}}$\n",
    "$\\newcommand{\\Zz}{\\mathcal{Z}}$\n",
    "$\\newcommand{\\Ww}{\\mathcal{W}}$\n",
    "$\\newcommand{\\Vv}{\\mathcal{V}}$\n",
    "$\\newcommand{\\Nn}{\\mathcal{N}}$\n",
    "$\\newcommand{\\NN}{\\mathcal{N}}$\n",
    "$\\newcommand{\\Hh}{\\mathcal{H}}$\n",
    "$\\newcommand{\\Bb}{\\mathcal{B}}$\n",
    "$\\newcommand{\\Ee}{\\mathcal{E}}$\n",
    "$\\newcommand{\\Cc}{\\mathcal{C}}$\n",
    "$\\newcommand{\\Gg}{\\mathcal{G}}$\n",
    "$\\newcommand{\\Ss}{\\mathcal{S}}$\n",
    "$\\newcommand{\\Pp}{\\mathcal{P}}$\n",
    "$\\newcommand{\\Ff}{\\mathcal{F}}$\n",
    "$\\newcommand{\\Xx}{\\mathcal{X}}$\n",
    "$\\newcommand{\\Mm}{\\mathcal{M}}$\n",
    "$\\newcommand{\\Ii}{\\mathcal{I}}$\n",
    "$\\newcommand{\\Dd}{\\mathcal{D}}$\n",
    "$\\newcommand{\\Ll}{\\mathcal{L}}$\n",
    "$\\newcommand{\\Tt}{\\mathcal{T}}$\n",
    "$\\newcommand{\\si}{\\sigma}$\n",
    "$\\newcommand{\\al}{\\alpha}$\n",
    "$\\newcommand{\\la}{\\lambda}$\n",
    "$\\newcommand{\\ga}{\\gamma}$\n",
    "$\\newcommand{\\Ga}{\\Gamma}$\n",
    "$\\newcommand{\\La}{\\Lambda}$\n",
    "$\\newcommand{\\si}{\\sigma}$\n",
    "$\\newcommand{\\Si}{\\Sigma}$\n",
    "$\\newcommand{\\be}{\\beta}$\n",
    "$\\newcommand{\\de}{\\delta}$\n",
    "$\\newcommand{\\De}{\\Delta}$\n",
    "$\\newcommand{\\phi}{\\varphi}$\n",
    "$\\newcommand{\\th}{\\theta}$\n",
    "$\\newcommand{\\om}{\\omega}$\n",
    "$\\newcommand{\\Om}{\\Omega}$\n",
    "$\\newcommand{\\eqdef}{\\equiv}$"
   ]
  },
  {
   "cell_type": "markdown",
   "metadata": {
    "deletable": true,
    "editable": true
   },
   "source": [
    "This tour details [Principal Component Analysis](https://en.wikipedia.org/wiki/Principal_component_analysis) (dimentionality reduction), supervised classification using nearest neighbors\n",
    "and unsupervised [clustering](https://en.wikipedia.org/wiki/Unsupervised_learning) using [$k$-means](https://en.wikipedia.org/wiki/K-means_clustering).\n",
    "\n",
    "\n",
    "We recommend that after doing this Numerical Tours, you apply it to your\n",
    "own data, for instance using a dataset from [LibSVM](https://www.csie.ntu.edu.tw/~cjlin/libsvmtools/datasets/).\n",
    "\n",
    "\n",
    "_Disclaimer:_ these machine learning tours are intended to be\n",
    "overly-simplistic implementations and applications of baseline machine learning methods.\n",
    "For more advanced uses and implementations, we recommend\n",
    "to use a state-of-the-art library, the most well known being\n",
    "[Scikit-Learn](http://scikit-learn.org/)."
   ]
  },
  {
   "cell_type": "code",
   "execution_count": 1,
   "metadata": {
    "collapsed": false,
    "deletable": true,
    "editable": true
   },
   "outputs": [
    {
     "name": "stdout",
     "output_type": "stream",
     "text": [
      "Populating the interactive namespace from numpy and matplotlib\n"
     ]
    },
    {
     "name": "stderr",
     "output_type": "stream",
     "text": [
      "/Users/gpeyre/anaconda/envs/p34/lib/python3.4/site-packages/IPython/core/magics/pylab.py:161: UserWarning: pylab import has clobbered these variables: ['pylab']\n",
      "`%matplotlib` prevents importing * from pylab and numpy\n",
      "  \"\\n`%matplotlib` prevents importing * from pylab and numpy\"\n"
     ]
    }
   ],
   "source": [
    "from nt_toolbox.general import *\n",
    "from nt_toolbox.signal import *\n",
    "%pylab inline\n",
    "%matplotlib inline\n",
    "%load_ext autoreload\n",
    "%autoreload 2"
   ]
  },
  {
   "cell_type": "markdown",
   "metadata": {},
   "source": [
    "Usefull function to convert to a column vector."
   ]
  },
  {
   "cell_type": "code",
   "execution_count": 2,
   "metadata": {
    "collapsed": true
   },
   "outputs": [],
   "source": [
    "def MakeCol(y): return y.reshape(-1,1)\n",
    "def MakeRow(y): return y.reshape(1,-1)"
   ]
  },
  {
   "cell_type": "markdown",
   "metadata": {
    "deletable": true,
    "editable": true
   },
   "source": [
    "Dataset Loading\n",
    "---------------\n",
    "We use here the famous\n",
    "[IRIS dataset](https://en.wikipedia.org/wiki/Iris_flower_data_set) of Fisher.\n",
    "The data set consists of 50 samples from each of three species of Iris (Iris setosa, Iris virginica and Iris versicolor).\n",
    " Four features were measured from each sample: the length and the width of the sepals and petals, in centimetres.\n",
    "\n",
    "\n",
    "Helpers."
   ]
  },
  {
   "cell_type": "markdown",
   "metadata": {
    "deletable": true,
    "editable": true
   },
   "source": [
    "Load the dataset."
   ]
  },
  {
   "cell_type": "code",
   "execution_count": 3,
   "metadata": {
    "collapsed": false,
    "deletable": true,
    "editable": true
   },
   "outputs": [],
   "source": [
    "from scipy import io\n",
    "name = 'iris'\n",
    "U = io.loadmat('nt_toolbox/data/ml-' + name)\n",
    "A = U['A']"
   ]
  },
  {
   "cell_type": "markdown",
   "metadata": {
    "deletable": true,
    "editable": true
   },
   "source": [
    "Randomly permute it."
   ]
  },
  {
   "cell_type": "code",
   "execution_count": 4,
   "metadata": {
    "collapsed": false,
    "deletable": true,
    "editable": true
   },
   "outputs": [],
   "source": [
    "A = A[random.permutation(A.shape[0]),:]"
   ]
  },
  {
   "cell_type": "markdown",
   "metadata": {
    "deletable": true,
    "editable": true
   },
   "source": [
    "Separate the features $ (x_i)_{i=1}^n $from the class information.\n",
    "The feature are stored as the row of a matrix $X \\in \\RR^{n \\times p}$\n",
    "Be sure to start the class at index 1."
   ]
  },
  {
   "cell_type": "code",
   "execution_count": 5,
   "metadata": {
    "collapsed": false,
    "deletable": true,
    "editable": true
   },
   "outputs": [],
   "source": [
    "X = A[:,0:-1]\n",
    "y = MakeCol( A[:,-1] )\n",
    "y = y-y.min()+1"
   ]
  },
  {
   "cell_type": "markdown",
   "metadata": {
    "deletable": true,
    "editable": true
   },
   "source": [
    "$n$ is the number of samples, $p$ is the dimensionality of the features,\n",
    "$k$ is the number of classes."
   ]
  },
  {
   "cell_type": "code",
   "execution_count": 6,
   "metadata": {
    "collapsed": false,
    "deletable": true,
    "editable": true
   },
   "outputs": [
    {
     "name": "stdout",
     "output_type": "stream",
     "text": [
      "150 4 3\n"
     ]
    }
   ],
   "source": [
    "[n,p] = X.shape\n",
    "k = int( y.max() )\n",
    "print(n,p,k)"
   ]
  },
  {
   "cell_type": "code",
   "execution_count": 7,
   "metadata": {
    "collapsed": false
   },
   "outputs": [
    {
     "data": {
      "image/png": "[encoded data removed]",
      "text/plain": [
       "<matplotlib.figure.Figure at 0x118732860>"
      ]
     },
     "metadata": {},
     "output_type": "display_data"
    }
   ],
   "source": [
    "pmax = min(p,8)\n",
    "kdisp = 0\n",
    "clf\n",
    "for i in arange(0,pmax):\n",
    "    for j in arange(0,pmax):\n",
    "        kdisp = kdisp + 1\n",
    "        subplot(pmax,pmax,kdisp)\n",
    "        if i==j:\n",
    "            hist(X[:,i],6)\n",
    "            axis('tight')\n",
    "        else:\n",
    "            for m in arange(1,k+1):\n",
    "                I = find(y==m)\n",
    "                plot(X[I,j],X[I,i], '.')\n",
    "        axis('tight')\n",
    "        tick_params(axis='x', labelbottom='off')\n",
    "        tick_params(axis='y', labelleft='off')"
   ]
  },
  {
   "cell_type": "markdown",
   "metadata": {
    "deletable": true,
    "editable": true
   },
   "source": [
    "Dimenionality Reduction and PCA\n",
    "-------------------------------\n",
    "In order to display in 2-D or 3-D the data, [dimensionality reduction](https://en.wikipedia.org/wiki/Dimensionality_reduction)\n",
    "is needed.\n",
    "The simplest method is the [Principal Component Analysis](https://en.wikipedia.org/wiki/Principal_component_analysis) (PCA),\n",
    "which perform an\n",
    "orthogonal linear projection on the principal axsis (eigenvector) of the\n",
    "covariance matrix.\n",
    "\n",
    "\n",
    "Compute [empirical mean](https://en.wikipedia.org/wiki/Sample_mean_and_covariance)\n",
    "$$    m = \\frac{1}{n} \\sum_{i=1}^n x_i \\in \\RR^p $$\n",
    "and [covariance](https://en.wikipedia.org/wiki/Sample_mean_and_covariance)\n",
    "$$ C = \\frac{1}{n} \\sum_{i=1}^n (x_i-m) (x_i-m)^\\top \\in \\RR^{p \\times p}. $$\n",
    "Denoting $\\tilde X = X - 1_p m^\\top $, one has $C=\\tilde X^\\top\n",
    "\\tilde X$."
   ]
  },
  {
   "cell_type": "code",
   "execution_count": 8,
   "metadata": {
    "collapsed": false,
    "deletable": true,
    "editable": true
   },
   "outputs": [],
   "source": [
    "def Xm(X): return X-X.mean(axis=0)\n",
    "def Cov(X): return Xm(X).transpose().dot( Xm(X) )"
   ]
  },
  {
   "cell_type": "markdown",
   "metadata": {
    "deletable": true,
    "editable": true
   },
   "source": [
    "Display the covariance matrix."
   ]
  },
  {
   "cell_type": "code",
   "execution_count": 9,
   "metadata": {
    "collapsed": false,
    "deletable": true,
    "editable": true
   },
   "outputs": [
    {
     "data": {
      "image/png": "[encoded data removed]",
      "text/plain": [
       "<matplotlib.figure.Figure at 0x118725eb8>"
      ]
     },
     "metadata": {},
     "output_type": "display_data"
    }
   ],
   "source": [
    "clf\n",
    "imshow(Cov(X));"
   ]
  },
  {
   "cell_type": "markdown",
   "metadata": {
    "deletable": true,
    "editable": true
   },
   "source": [
    "Compute PCA ortho-basis using the\n",
    "[SVD decomposition](https://en.wikipedia.org/wiki/Singular_value_decomposition)\n",
    "$$ \\tilde X = U \\text{diag}(d) V  $$\n",
    "where $U \\in \\RR^{n \\times p}$ and $V \\in \\RR^{p \\times p}$ have\n",
    "orthonormal columns. $V$ are the principal directions of variance\n",
    " and\n",
    "are order by decreasing variances."
   ]
  },
  {
   "cell_type": "code",
   "execution_count": 10,
   "metadata": {
    "collapsed": false,
    "deletable": true,
    "editable": true
   },
   "outputs": [],
   "source": [
    "U, D, V = np.linalg.svd(X)"
   ]
  },
  {
   "cell_type": "markdown",
   "metadata": {
    "deletable": true,
    "editable": true
   },
   "source": [
    "Compute the feature in the PCA basis, $z_i=V^\\top (x_i-m) $, stored in matrix\n",
    "format as $Z=\\tilde X V$."
   ]
  },
  {
   "cell_type": "code",
   "execution_count": 11,
   "metadata": {
    "collapsed": false,
    "deletable": true,
    "editable": true
   },
   "outputs": [],
   "source": [
    "Z = Xm(X).dot( transpose(V))"
   ]
  },
  {
   "cell_type": "markdown",
   "metadata": {
    "deletable": true,
    "editable": true
   },
   "source": [
    "Plot the singular values of the covariances, which corresponds to the standard deviation of the data\n",
    "along the principal directions."
   ]
  },
  {
   "cell_type": "code",
   "execution_count": 12,
   "metadata": {
    "collapsed": false,
    "deletable": true,
    "editable": true
   },
   "outputs": [
    {
     "data": {
      "image/png": "[encoded data removed]",
      "text/plain": [
       "<matplotlib.figure.Figure at 0x11cba6e80>"
      ]
     },
     "metadata": {},
     "output_type": "display_data"
    }
   ],
   "source": [
    "clf; \n",
    "plot(D, '.-')\n",
    "axis('tight');"
   ]
  },
  {
   "cell_type": "markdown",
   "metadata": {
    "deletable": true,
    "editable": true
   },
   "source": [
    "The first dimensions of the $z_i$ are the optimal way to linearly\n",
    "embed the data in a low dimensional space.\n",
    "This can be used for display in 2-D using the first two dimension."
   ]
  },
  {
   "cell_type": "code",
   "execution_count": 13,
   "metadata": {
    "collapsed": false,
    "deletable": true,
    "editable": true
   },
   "outputs": [
    {
     "data": {
      "image/png": "[encoded data removed]",
      "text/plain": [
       "<matplotlib.figure.Figure at 0x11cdc4f60>"
      ]
     },
     "metadata": {},
     "output_type": "display_data"
    }
   ],
   "source": [
    "clf\n",
    "for i in arange(1,k+1):\n",
    "    I = find(y==i)\n",
    "    plot(Z[I,0], Z[I,1], '.', label=str(i))\n",
    "axis('tight') \n",
    "axis('equal')\n",
    "legend();"
   ]
  },
  {
   "cell_type": "markdown",
   "metadata": {
    "deletable": true,
    "editable": true
   },
   "source": [
    "Similar display in 3-D."
   ]
  },
  {
   "cell_type": "code",
   "execution_count": 14,
   "metadata": {
    "collapsed": false,
    "deletable": true,
    "editable": true
   },
   "outputs": [
    {
     "data": {
      "image/png": "[encoded data removed]",
      "text/plain": [
       "<matplotlib.figure.Figure at 0x11cd699e8>"
      ]
     },
     "metadata": {},
     "output_type": "display_data"
    }
   ],
   "source": [
    "from mpl_toolkits.mplot3d import Axes3D\n",
    "fig = pyplot.figure()\n",
    "ax = Axes3D(fig)\n",
    "clf\n",
    "for i in arange(1,k+1):\n",
    "    I = find(y==i)\n",
    "    ax.scatter(Z[I,0], Z[I,1], Z[I,2], '.', label=str(i))\n",
    "axis('tight') \n",
    "axis('equal')\n",
    "legend();"
   ]
  },
  {
   "cell_type": "markdown",
   "metadata": {
    "deletable": true,
    "editable": true
   },
   "source": [
    "Supervised Learning: Nearest Neighbor Classification\n",
    "----------------------------------------------------\n",
    "Probably the simplest method for supervised classification is [Nearest\n",
    "Neighbor](https://en.wikipedia.org/wiki/K-nearest_neighbors_algorithm) ($R$-NN), where $R$ is a parameter indexing the number of neighbor.\n",
    "Increasing $R$ is important to cope with noise and obtain smoother\n",
    "decision boundary, and hence better generalization performance.\n",
    "\n",
    "\n",
    "The class predicted for a point $x$ is the one which is the most\n",
    "represented among the $R$ points $(x_i)_i$ which are the closed to\n",
    "$x$.\n",
    "\n",
    "\n",
    "\n",
    "Split into training and testing."
   ]
  },
  {
   "cell_type": "code",
   "execution_count": 15,
   "metadata": {
    "collapsed": false,
    "deletable": true,
    "editable": true
   },
   "outputs": [],
   "source": [
    "n0 = round(.5*n)\n",
    "n1 = n-n0\n",
    "X0 = X[0:n0,:]  \n",
    "y0 = y[0:n0]\n",
    "X1 = X[n0:,:] \n",
    "y1 = y[n0:]"
   ]
  },
  {
   "cell_type": "markdown",
   "metadata": {
    "deletable": true,
    "editable": true
   },
   "source": [
    "Macro to compute pairwise squared Euclidean distance matrix."
   ]
  },
  {
   "cell_type": "code",
   "execution_count": 16,
   "metadata": {
    "collapsed": false,
    "deletable": true,
    "editable": true
   },
   "outputs": [],
   "source": [
    "from sklearn.metrics.pairwise import pairwise_distances\n",
    "def DistPoint(X,x): return pairwise_distances(X,MakeRow(x))"
   ]
  },
  {
   "cell_type": "markdown",
   "metadata": {
    "deletable": true,
    "editable": true
   },
   "source": [
    "Compute Euclidean distance between some $x$\n",
    "and all other $x_{1,j}$ in the training set."
   ]
  },
  {
   "cell_type": "code",
   "execution_count": 17,
   "metadata": {
    "collapsed": false,
    "deletable": true,
    "editable": true
   },
   "outputs": [],
   "source": [
    "i = 0 \n",
    "x = X1[i,:]  # could be any point\n",
    "D = DistPoint(X0,x)"
   ]
  },
  {
   "cell_type": "markdown",
   "metadata": {
    "deletable": true,
    "editable": true
   },
   "source": [
    "Sort the distance and generate the list of sorted classes $ y_\\sigma = (y_{\\si(i)})_i$. This\n",
    "generate an indexing $\\si$ (a permutation of $\\{1,\\ldots,n\\}$) such that\n",
    "$$ \\norm{x-x_{\\si(1)}} \\leq \\norm{x-x_{\\si(2)}} \\leq \\ldots \\leq \\norm{x-x_{\\si(n)}}. $$"
   ]
  },
  {
   "cell_type": "code",
   "execution_count": 18,
   "metadata": {
    "collapsed": false,
    "deletable": true,
    "editable": true
   },
   "outputs": [],
   "source": [
    "I = argsort(D.flatten())\n",
    "ys = y[I]"
   ]
  },
  {
   "cell_type": "markdown",
   "metadata": {},
   "source": [
    "Function to compute the histogram of classes."
   ]
  },
  {
   "cell_type": "code",
   "execution_count": 19,
   "metadata": {
    "collapsed": false
   },
   "outputs": [],
   "source": [
    "def myhist(u): \n",
    "    q = u.shape[1]\n",
    "    h = zeros((k,q))\n",
    "    for i in arange(0,k):\n",
    "        for j in arange(0,q):\n",
    "            h[i,j] = sum(u[:,j]==i+1)\n",
    "    return h"
   ]
  },
  {
   "cell_type": "markdown",
   "metadata": {
    "deletable": true,
    "editable": true
   },
   "source": [
    "For a given $R$, one can compute the histogram of class apparition\n",
    "$$ h_\\ell \\eqdef \\frac{1}{R} \\enscond{ i }{ \\si(i) \\in \\{1,\\ldots,R\\} }\n",
    "  = \\sharp \\si^{-1}( \\{1,\\ldots,R\\} ). $$\n",
    "The decision class for $x$ is then the maximum of the histogram\n",
    "$$ c(x) \\eqdef \\text{argmax}_{\\ell} h_\\ell $$"
   ]
  },
  {
   "cell_type": "code",
   "execution_count": 21,
   "metadata": {
    "collapsed": false,
    "deletable": true,
    "editable": true
   },
   "outputs": [
    {
     "name": "stdout",
     "output_type": "stream",
     "text": [
      "c(x)=2, true class=2\n"
     ]
    }
   ],
   "source": [
    "R = 5\n",
    "h = myhist(ys[0:R,:]) / R\n",
    "c = argmax(h)+1\n",
    "print( 'c(x)=' + str(c) + ', true class=' + str(int(y1[i])) )"
   ]
  },
  {
   "cell_type": "markdown",
   "metadata": {
    "deletable": true,
    "editable": true
   },
   "source": [
    "Display the histigram $(h_\\ell)_\\ell$ of reparttion of class indexes as $R$ grows."
   ]
  },
  {
   "cell_type": "code",
   "execution_count": 22,
   "metadata": {
    "collapsed": false,
    "deletable": true,
    "editable": true
   },
   "outputs": [
    {
     "data": {
      "image/png": "[encoded data removed]",
      "text/plain": [
       "<matplotlib.figure.Figure at 0x11d6d46a0>"
      ]
     },
     "metadata": {},
     "output_type": "display_data"
    }
   ],
   "source": [
    "Rlist = ( array([.05, .1, .5, 1])*n0 ).round()\n",
    "clf\n",
    "for i in arange(0,Rlist.size):\n",
    "    R = int( Rlist[i] )\n",
    "    h = myhist(ys[0:R,:]) / R\n",
    "    subplot(Rlist.size,1,i+1)\n",
    "    bar(arange(1,k+1), h)"
   ]
  },
  {
   "cell_type": "markdown",
   "metadata": {
    "deletable": true,
    "editable": true
   },
   "source": [
    "__Exercise 1__\n",
    "\n",
    "Perform the NN classification for all the points in the test set, and for varying $R$.\n",
    "Show how the classification score $S$ (number of correctly classified points)\n",
    "evolves with $R$\n",
    "lot(1:Rmax, S, '.-', 'MarkerSize', ms);"
   ]
  },
  {
   "cell_type": "code",
   "execution_count": 24,
   "metadata": {
    "collapsed": false,
    "deletable": true,
    "editable": true
   },
   "outputs": [
    {
     "data": {
      "image/png": "[encoded data removed]",
      "text/plain": [
       "<matplotlib.figure.Figure at 0x11d6c6c18>"
      ]
     },
     "metadata": {},
     "output_type": "display_data"
    }
   ],
   "source": [
    "run -i nt_solutions/ml_1_pca_nn/exo1"
   ]
  },
  {
   "cell_type": "code",
   "execution_count": 25,
   "metadata": {
    "collapsed": false,
    "deletable": true,
    "editable": true
   },
   "outputs": [],
   "source": [
    "## Insert your code here."
   ]
  },
  {
   "cell_type": "markdown",
   "metadata": {
    "deletable": true,
    "editable": true
   },
   "source": [
    "__Exercise 2__\n",
    "\n",
    "Display, as a function of the position in 2-D PCA space, the class output by\n",
    "the $R$-NN method when applied in 2-D.\n",
    "ounding boxes\n",
    "est for different R"
   ]
  },
  {
   "cell_type": "code",
   "execution_count": 26,
   "metadata": {
    "collapsed": false,
    "deletable": true,
    "editable": true
   },
   "outputs": [],
   "source": [
    "## Insert your code here."
   ]
  },
  {
   "cell_type": "markdown",
   "metadata": {
    "deletable": true,
    "editable": true
   },
   "source": [
    "Unsupervised Learning: $k$-means\n",
    "----------------------------------\n",
    "In an [un-supervised setting](https://en.wikipedia.org/wiki/Unsupervised_learning), the class information $y$ is not\n",
    "available. The basic problem is then to recover class information from\n",
    "the knowledge of $x$ only. This corresponds to the [clustering problem](https://en.wikipedia.org/wiki/Cluster_analysis)."
   ]
  },
  {
   "cell_type": "markdown",
   "metadata": {
    "deletable": true,
    "editable": true
   },
   "source": [
    "The most basic algorithm is the <https://en.wikipedia.org/wiki/K-means_clustering $k$-means>, which tries to recover the\n",
    "class index $\\bar y_i=\\ell$ from the distance $ \\norm{x_i-c_\\ell} $\n",
    "between the feature point $x_i$ and the class centroid $c_\\ell$\n",
    "(which are the unknown of the problem).\n",
    "\n",
    "\n",
    "It does so by minimizing the following non-convex energy\n",
    "  $$ \\umin{ (c_\\ell)_\\ell } \\sum_i \\umin{\\ell} \\norm{x_i-c_\\ell}^2   $$\n",
    "\n",
    "\n",
    "We first initialize the class centroids $ (c_\\ell)_\\ell $ at random among the points.\n",
    "They are stored in as the row of a matrix $ C \\in \\RR^{k \\times p} $."
   ]
  },
  {
   "cell_type": "code",
   "execution_count": 27,
   "metadata": {
    "collapsed": false,
    "deletable": true,
    "editable": true
   },
   "outputs": [],
   "source": [
    "I = random.permutation(n)\n",
    "I = I[0:k]\n",
    "C = X[I,:]"
   ]
  },
  {
   "cell_type": "markdown",
   "metadata": {
    "deletable": true,
    "editable": true
   },
   "source": [
    "The $k$-means algorithm iterate between first determining the class of\n",
    "each point using the distance to the centroids\n",
    "  $$ \\forall i \\in \\{1,\\ldots,n\\}, \\quad \\bar y_i \\leftarrow\n",
    "          \\uargmin{\\ell} \\norm{x_i-c_\\ell}. $$"
   ]
  },
  {
   "cell_type": "code",
   "execution_count": 28,
   "metadata": {
    "collapsed": false,
    "deletable": true,
    "editable": true
   },
   "outputs": [],
   "source": [
    "D = pairwise_distances(X,C)\n",
    "yb = argmin(D, axis=1)"
   ]
  },
  {
   "cell_type": "markdown",
   "metadata": {
    "deletable": true,
    "editable": true
   },
   "source": [
    "Display the centroids and the classes using colors.\n",
    "This correspodns to a Voronoi diagram segmentation in the high\n",
    "dimensional space, but here the display is done in 2D."
   ]
  },
  {
   "cell_type": "code",
   "execution_count": 29,
   "metadata": {
    "collapsed": false,
    "deletable": true,
    "editable": true
   },
   "outputs": [
    {
     "data": {
      "image/png": "[encoded data removed]",
      "text/plain": [
       "<matplotlib.figure.Figure at 0x11cc319b0>"
      ]
     },
     "metadata": {},
     "output_type": "display_data"
    }
   ],
   "source": [
    "clf\n",
    "for i in arange(0,k):\n",
    "    I = find(yb==i);\n",
    "    plot(Z[I,0], Z[I,1], '.')\n",
    "CV = (C-mean(X,axis=0)).dot( transpose(V) )\n",
    "for i in arange(0,k):\n",
    "    plot(CV[i,0], CV[i,1], 'ok')\n",
    "axis('tight')\n",
    "axis('equal')\n",
    "axis('off');"
   ]
  },
  {
   "cell_type": "markdown",
   "metadata": {
    "deletable": true,
    "editable": true
   },
   "source": [
    "The second step of the $k$-means algorithm is to update the centroids\n",
    "position to be the mean of the points inside each class\n",
    " $$ \\forall \\ell \\in \\{1,\\ldots,k\\}, \\quad c_\\ell \\leftarrow\n",
    "      \\frac{ \\sum_{i:y_i=\\ell} x_i }{ \\sharp \\{i:y_i=\\ell\\} }. $$"
   ]
  },
  {
   "cell_type": "code",
   "execution_count": 30,
   "metadata": {
    "collapsed": false,
    "deletable": true,
    "editable": true
   },
   "outputs": [],
   "source": [
    "for l in arange(0,k):\n",
    "    C[l,:] = mean( X[yb==l,:], axis=0 )"
   ]
  },
  {
   "cell_type": "markdown",
   "metadata": {
    "deletable": true,
    "editable": true
   },
   "source": [
    "__Exercise 3__\n",
    "\n",
    "Peform several step of the $k$-means algorithm.\n",
    "nit"
   ]
  },
  {
   "cell_type": "code",
   "execution_count": 31,
   "metadata": {
    "collapsed": false,
    "deletable": true,
    "editable": true
   },
   "outputs": [
    {
     "data": {
      "image/png": "[encoded data removed]",
      "text/plain": [
       "<matplotlib.figure.Figure at 0x11c2b5860>"
      ]
     },
     "metadata": {},
     "output_type": "display_data"
    }
   ],
   "source": [
    "run -i nt_solutions/ml_1_pca_nn/exo3"
   ]
  },
  {
   "cell_type": "code",
   "execution_count": 32,
   "metadata": {
    "collapsed": false,
    "deletable": true,
    "editable": true
   },
   "outputs": [],
   "source": [
    "## Insert your code here."
   ]
  },
  {
   "cell_type": "markdown",
   "metadata": {
    "deletable": true,
    "editable": true
   },
   "source": [
    "Display the histogram of (true, i.e. according to $y$) class  inside\n",
    "each estimated class (i.e. according to $\\bar y$)."
   ]
  },
  {
   "cell_type": "code",
   "execution_count": 33,
   "metadata": {
    "collapsed": false,
    "deletable": true,
    "editable": true
   },
   "outputs": [
    {
     "data": {
      "image/png": "[encoded data removed]",
      "text/plain": [
       "<matplotlib.figure.Figure at 0x11c351eb8>"
      ]
     },
     "metadata": {},
     "output_type": "display_data"
    }
   ],
   "source": [
    "clf\n",
    "for l in arange(1,k+1):\n",
    "    I = find(yb==l-1);\n",
    "    h = myhist(y[I])\n",
    "    h = h/h.sum()\n",
    "    subplot(k,1,l)\n",
    "    bar(arange(1,k+1),h)"
   ]
  },
  {
   "cell_type": "markdown",
   "metadata": {
    "deletable": true,
    "editable": true
   },
   "source": [
    "__Exercise 4__\n",
    "\n",
    "Implement better initialization strategies such as farthest point sampling or\n",
    "<https://en.wikipedia.org/wiki/K-means%2B%2B $k$-means++>."
   ]
  },
  {
   "cell_type": "code",
   "execution_count": 34,
   "metadata": {
    "collapsed": false,
    "deletable": true,
    "editable": true
   },
   "outputs": [],
   "source": [
    "run -i nt_solutions/ml_1_pca_nn/exo4"
   ]
  },
  {
   "cell_type": "code",
   "execution_count": 35,
   "metadata": {
    "collapsed": false,
    "deletable": true,
    "editable": true
   },
   "outputs": [],
   "source": [
    "## Insert your code here."
   ]
  },
  {
   "cell_type": "raw",
   "metadata": {
    "deletable": true,
    "editable": true
   },
   "source": [
    "<script>\n",
    "  $(document).ready(function(){\n",
    "      $('div.prompt').hide();\n",
    "  });\n",
    "</script>"
   ]
  }
 ],
 "metadata": {
  "kernelspec": {
   "display_name": "Python 3",
   "language": "python",
   "name": "python3"
  },
  "language_info": {
   "codemirror_mode": {
    "name": "ipython",
    "version": 3
   },
   "file_extension": ".py",
   "mimetype": "text/x-python",
   "name": "python",
   "nbconvert_exporter": "python",
   "pygments_lexer": "ipython3",
   "version": "3.4.5"
  }
 },
 "nbformat": 4,
 "nbformat_minor": 0
}
