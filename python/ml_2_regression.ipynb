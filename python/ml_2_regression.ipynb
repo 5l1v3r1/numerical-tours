{
 "cells": [
  {
   "cell_type": "markdown",
   "metadata": {},
   "source": [
    "Linear Regression\n",
    "====================================\n",
    "\n",
    "*Important:* Please read the [installation page](http://gpeyre.github.io/numerical-tours/installation_python/) for details about how to install the toolboxes.\n",
    "$\\newcommand{\\dotp}[2]{\\langle #1, #2 \\rangle}$\n",
    "$\\newcommand{\\enscond}[2]{\\lbrace #1, #2 \\rbrace}$\n",
    "$\\newcommand{\\pd}[2]{ \\frac{ \\partial #1}{\\partial #2} }$\n",
    "$\\newcommand{\\umin}[1]{\\underset{#1}{\\min}\\;}$\n",
    "$\\newcommand{\\umax}[1]{\\underset{#1}{\\max}\\;}$\n",
    "$\\newcommand{\\umin}[1]{\\underset{#1}{\\min}\\;}$\n",
    "$\\newcommand{\\uargmin}[1]{\\underset{#1}{argmin}\\;}$\n",
    "$\\newcommand{\\norm}[1]{\\|#1\\|}$\n",
    "$\\newcommand{\\abs}[1]{\\left|#1\\right|}$\n",
    "$\\newcommand{\\choice}[1]{ \\left\\{  \\begin{array}{l} #1 \\end{array} \\right. }$\n",
    "$\\newcommand{\\pa}[1]{\\left(#1\\right)}$\n",
    "$\\newcommand{\\diag}[1]{{diag}\\left( #1 \\right)}$\n",
    "$\\newcommand{\\qandq}{\\quad\\text{and}\\quad}$\n",
    "$\\newcommand{\\qwhereq}{\\quad\\text{where}\\quad}$\n",
    "$\\newcommand{\\qifq}{ \\quad \\text{if} \\quad }$\n",
    "$\\newcommand{\\qarrq}{ \\quad \\Longrightarrow \\quad }$\n",
    "$\\newcommand{\\ZZ}{\\mathbb{Z}}$\n",
    "$\\newcommand{\\CC}{\\mathbb{C}}$\n",
    "$\\newcommand{\\RR}{\\mathbb{R}}$\n",
    "$\\newcommand{\\EE}{\\mathbb{E}}$\n",
    "$\\newcommand{\\Zz}{\\mathcal{Z}}$\n",
    "$\\newcommand{\\Ww}{\\mathcal{W}}$\n",
    "$\\newcommand{\\Vv}{\\mathcal{V}}$\n",
    "$\\newcommand{\\Nn}{\\mathcal{N}}$\n",
    "$\\newcommand{\\NN}{\\mathcal{N}}$\n",
    "$\\newcommand{\\Hh}{\\mathcal{H}}$\n",
    "$\\newcommand{\\Bb}{\\mathcal{B}}$\n",
    "$\\newcommand{\\Ee}{\\mathcal{E}}$\n",
    "$\\newcommand{\\Cc}{\\mathcal{C}}$\n",
    "$\\newcommand{\\Gg}{\\mathcal{G}}$\n",
    "$\\newcommand{\\Ss}{\\mathcal{S}}$\n",
    "$\\newcommand{\\Pp}{\\mathcal{P}}$\n",
    "$\\newcommand{\\Ff}{\\mathcal{F}}$\n",
    "$\\newcommand{\\Xx}{\\mathcal{X}}$\n",
    "$\\newcommand{\\Mm}{\\mathcal{M}}$\n",
    "$\\newcommand{\\Ii}{\\mathcal{I}}$\n",
    "$\\newcommand{\\Dd}{\\mathcal{D}}$\n",
    "$\\newcommand{\\Ll}{\\mathcal{L}}$\n",
    "$\\newcommand{\\Tt}{\\mathcal{T}}$\n",
    "$\\newcommand{\\si}{\\sigma}$\n",
    "$\\newcommand{\\al}{\\alpha}$\n",
    "$\\newcommand{\\la}{\\lambda}$\n",
    "$\\newcommand{\\ga}{\\gamma}$\n",
    "$\\newcommand{\\Ga}{\\Gamma}$\n",
    "$\\newcommand{\\La}{\\Lambda}$\n",
    "$\\newcommand{\\si}{\\sigma}$\n",
    "$\\newcommand{\\Si}{\\Sigma}$\n",
    "$\\newcommand{\\be}{\\beta}$\n",
    "$\\newcommand{\\de}{\\delta}$\n",
    "$\\newcommand{\\De}{\\Delta}$\n",
    "$\\newcommand{\\phi}{\\varphi}$\n",
    "$\\newcommand{\\th}{\\theta}$\n",
    "$\\newcommand{\\om}{\\omega}$\n",
    "$\\newcommand{\\Om}{\\Omega}$\n",
    "$\\newcommand{\\eqdef}{\\equiv}$"
   ]
  },
  {
   "cell_type": "markdown",
   "metadata": {},
   "source": [
    "This tour studies linear regression method in conjunction with\n",
    "regularization.\n",
    "It contrasts ridge regression and the Lasso."
   ]
  },
  {
   "cell_type": "markdown",
   "metadata": {},
   "source": [
    "We recommend that after doing this Numerical Tours, you apply it to your\n",
    "own data, for instance using a dataset from [LibSVM](https://www.csie.ntu.edu.tw/~cjlin/libsvmtools/datasets/).\n",
    "\n",
    "_Disclaimer:_ these machine learning tours are intended to be\n",
    "overly-simplistic implementations and applications of baseline machine learning methods.\n",
    "For more advanced uses and implementations, we recommend\n",
    "to use a state-of-the-art library, the most well known being\n",
    "[Scikit-Learn](http://scikit-learn.org/). "
   ]
  },
  {
   "cell_type": "code",
   "execution_count": 1,
   "metadata": {},
   "outputs": [],
   "source": [
    "%matplotlib inline\n",
    "import numpy as np\n",
    "import matplotlib.pyplot as plt\n",
    "%load_ext autoreload\n",
    "%autoreload 2"
   ]
  },
  {
   "cell_type": "markdown",
   "metadata": {},
   "source": [
    "Usefull functions to convert to a column/row vectors."
   ]
  },
  {
   "cell_type": "code",
   "execution_count": 2,
   "metadata": {},
   "outputs": [],
   "source": [
    "#  convert to a column vector\n",
    "def MakeCol(y): return y.reshape(-1,1)\n",
    "#  convert to a row vector\n",
    "def MakeRow(y): return y.reshape(1,-1)\n",
    "# find non zero/true elements\n",
    "def find(x): return np.nonzero(x)[0]"
   ]
  },
  {
   "cell_type": "markdown",
   "metadata": {},
   "source": [
    "Dataset Loading\n",
    "---------------\n",
    "We test the method on the prostate dataset in $n=97$ samples with\n",
    "features $x_i \\in \\RR^p$ in dimension $p=8$. The goal is to predict the price value\n",
    "$y_i \\in \\RR$."
   ]
  },
  {
   "cell_type": "markdown",
   "metadata": {},
   "source": [
    "Load the dataset."
   ]
  },
  {
   "cell_type": "code",
   "execution_count": 3,
   "metadata": {},
   "outputs": [],
   "source": [
    "from scipy import io\n",
    "name = 'prostate';\n",
    "Data = io.loadmat('nt_toolbox/data/ml-' + name)\n",
    "Ay = Data['A']\n",
    "class_names = Data['class_names']"
   ]
  },
  {
   "cell_type": "markdown",
   "metadata": {},
   "source": [
    "Randomly permute it."
   ]
  },
  {
   "cell_type": "code",
   "execution_count": 4,
   "metadata": {},
   "outputs": [],
   "source": [
    "Ay = Ay[np.random.permutation(Ay.shape[0]),:]"
   ]
  },
  {
   "cell_type": "markdown",
   "metadata": {},
   "source": [
    "Separate the features $X$ from the data $y$ to predict information."
   ]
  },
  {
   "cell_type": "code",
   "execution_count": null,
   "metadata": {},
   "outputs": [],
   "source": [
    "A_full = Ay[:,0:-2];\n",
    "y_full = MakeCol( Ay[:,-2] )\n",
    "c = MakeCol( Ay[:,-1] )"
   ]
  },
  {
   "cell_type": "markdown",
   "metadata": {},
   "source": [
    "Split into training and testing."
   ]
  },
  {
   "cell_type": "code",
   "execution_count": null,
   "metadata": {},
   "outputs": [],
   "source": [
    "I0 = find(c==1) # train\n",
    "I1 = find(c==0) # test\n",
    "n = I0.size\n",
    "n1 = n-n\n",
    "A = A_full[I0,:]\n",
    "y = y_full[I0]\n",
    "A1 = A_full[I1,:]\n",
    "y1 = y_full[I1]"
   ]
  },
  {
   "cell_type": "markdown",
   "metadata": {},
   "source": [
    "$n$ is the total number of samples, $p$ is the dimensionality of the features,"
   ]
  },
  {
   "cell_type": "code",
   "execution_count": null,
   "metadata": {},
   "outputs": [
    {
     "name": "stdout",
     "output_type": "stream",
     "text": [
      "67 8\n"
     ]
    }
   ],
   "source": [
    "[n,p] = A.shape\n",
    "print(n,p)"
   ]
  },
  {
   "cell_type": "markdown",
   "metadata": {},
   "source": [
    "Normalize the features by the mean and std of the *training* set.\n",
    "This is optional."
   ]
  },
  {
   "cell_type": "code",
   "execution_count": null,
   "metadata": {},
   "outputs": [],
   "source": [
    "mA = A.mean(axis=0)\n",
    "sA = A.std(axis=0)\n",
    "A = (A-mA)/sA\n",
    "A1 = (A1-mA)/sA"
   ]
  },
  {
   "cell_type": "markdown",
   "metadata": {},
   "source": [
    "Remove the mean (computed from the *test* set) to avoid introducing a bias term and a constant regressor.\n",
    "This is optional."
   ]
  },
  {
   "cell_type": "code",
   "execution_count": null,
   "metadata": {},
   "outputs": [],
   "source": [
    "m = y.mean()\n",
    "y = y-m\n",
    "y1 = y1-m"
   ]
  },
  {
   "cell_type": "markdown",
   "metadata": {},
   "source": [
    "Dimenionality Reduction and PCA\n",
    "-------------------------------\n",
    "In order to display in 2-D or 3-D the data, dimensionality reduction is needed.\n",
    "The simplest method is the principal components analysis (PCA), which performs an\n",
    "orthogonal linear projection on the principal axes (eigenvectors) of the\n",
    "covariance matrix.\n",
    "\n",
    "Display the covariance matrix of the training set."
   ]
  },
  {
   "cell_type": "code",
   "execution_count": null,
   "metadata": {},
   "outputs": [
    {
     "data": {
      "image/png": "[encoded data removed]",
      "text/plain": [
       "<Figure size 432x288 with 1 Axes>"
      ]
     },
     "metadata": {
      "needs_background": "light"
     },
     "output_type": "display_data"
    }
   ],
   "source": [
    "C = A.transpose().dot(A)\n",
    "plt.imshow(C);"
   ]
  },
  {
   "cell_type": "code",
   "execution_count": null,
   "metadata": {},
   "outputs": [
    {
     "data": {
      "image/png": "[encoded data removed]",
      "text/plain": [
       "<Figure size 432x288 with 1 Axes>"
      ]
     },
     "metadata": {
      "needs_background": "light"
     },
     "output_type": "display_data"
    }
   ],
   "source": [
    "u = A.transpose().dot(y)\n",
    "plt.clf\n",
    "plt.bar(np.arange(1,p+1),u.flatten())\n",
    "plt.axis('tight');"
   ]
  },
  {
   "cell_type": "markdown",
   "metadata": {},
   "source": [
    "Compute PCA ortho-basis and\n",
    "the feature in the PCA basis."
   ]
  },
  {
   "cell_type": "code",
   "execution_count": null,
   "metadata": {},
   "outputs": [],
   "source": [
    "U, s, V = np.linalg.svd(A)\n",
    "Ar = A.dot( V.transpose() )"
   ]
  },
  {
   "cell_type": "markdown",
   "metadata": {},
   "source": [
    "Plot sqrt of the eigenvalues."
   ]
  },
  {
   "cell_type": "code",
   "execution_count": null,
   "metadata": {},
   "outputs": [
    {
     "data": {
      "image/png": "[encoded data removed]",
      "text/plain": [
       "<Figure size 432x288 with 1 Axes>"
      ]
     },
     "metadata": {
      "needs_background": "light"
     },
     "output_type": "display_data"
    }
   ],
   "source": [
    "plt.plot(s, '.-');"
   ]
  },
  {
   "cell_type": "markdown",
   "metadata": {},
   "source": [
    "Display the features."
   ]
  },
  {
   "cell_type": "code",
   "execution_count": null,
   "metadata": {},
   "outputs": [],
   "source": [
    "pmax = min(p,8)\n",
    "k = 0\n",
    "plt.clf\n",
    "for i in np.arange(0,pmax):\n",
    "    for j in np.arange(0,pmax):\n",
    "        k = k+1\n",
    "        plt.subplot(pmax,pmax,k)\n",
    "        if i==j:\n",
    "            plt.hist(A[:,i],6)\n",
    "            plt.axis('tight')\n",
    "        else:\n",
    "            plt.plot(A[:,j],A[:,i], '.')\n",
    "        plt.axis('tight')\n",
    "        if i==1:\n",
    "            plt.title(class_names[0][j][0])\n",
    "        plt.tick_params(axis='x', labelbottom=False)\n",
    "        plt.tick_params(axis='y', labelleft=False)"
   ]
  },
  {
   "cell_type": "markdown",
   "metadata": {},
   "source": [
    "Display the points cloud of feature vectors in 2-D PCA space."
   ]
  },
  {
   "cell_type": "code",
   "execution_count": null,
   "metadata": {},
   "outputs": [],
   "source": [
    "plt.plot(Ar[:,0], Ar[:,1], '.')\n",
    "plt.axis('equal');"
   ]
  },
  {
   "cell_type": "markdown",
   "metadata": {},
   "source": [
    "1D plot of the function to regress along the main eigenvector axes."
   ]
  },
  {
   "cell_type": "code",
   "execution_count": null,
   "metadata": {},
   "outputs": [],
   "source": [
    "plt.clf\n",
    "for i in np.arange(0,3):\n",
    "    plt.subplot(3,1,i+1)\n",
    "    plt.plot(Ar[:,i], y, '.')\n",
    "    plt.axis('tight')"
   ]
  },
  {
   "cell_type": "markdown",
   "metadata": {},
   "source": [
    "Linear Regression\n",
    "-----------------\n",
    "We look for a linear relationship\n",
    "  $ y_i \\approx \\dotp{x}{a_i} $\n",
    "written in matrix format\n",
    "  $ y= A x $\n",
    "where the rows of $A \\in \\RR^{n \\times p}$ stores the features $a_i \\in \\RR^p$.\n",
    "\n",
    "\n",
    "Since here $n > p$, this is an over-determined system, which can\n",
    "solved in the least square sense\n",
    "  $$ \\umin{ x }  \\norm{Ax-y}^2 $$\n",
    "whose solution is given using the Moore-Penrose pseudo-inverse\n",
    "  $$ x = (A^\\top A)^{-1} A^\\top y $$\n",
    "\n",
    "\n",
    "Compute the least square solution."
   ]
  },
  {
   "cell_type": "code",
   "execution_count": null,
   "metadata": {},
   "outputs": [],
   "source": [
    "x = np.linalg.solve( A.transpose().dot(A), A.transpose().dot(y) )"
   ]
  },
  {
   "cell_type": "markdown",
   "metadata": {},
   "source": [
    "Prediction (along 1st eigenvector)."
   ]
  },
  {
   "cell_type": "code",
   "execution_count": null,
   "metadata": {},
   "outputs": [],
   "source": [
    "plt.clf\n",
    "plt.plot( A1.dot(x), '.-' )\n",
    "plt.plot( y1, '.-' )\n",
    "plt.axis('tight')\n",
    "plt.legend(('$y_1$', '$X_1 w$'));"
   ]
  },
  {
   "cell_type": "markdown",
   "metadata": {},
   "source": [
    "Mean-square error on testing set."
   ]
  },
  {
   "cell_type": "code",
   "execution_count": null,
   "metadata": {},
   "outputs": [],
   "source": [
    "E = np.linalg.norm(A1.dot(x)-y1) / np.linalg.norm(y1)\n",
    "print(( 'Relative prediction error: ' + str(E) ) );"
   ]
  },
  {
   "cell_type": "markdown",
   "metadata": {},
   "source": [
    "Although this is not an effective method to solve this problem (a more efficient approach is to use for instance conjugate gradient), one can do a gradient descent to minimize the function\n",
    "$$ \n",
    "    \\min_x f(x) = \\frac{1}{2}\\norm{A x-y}^2.\n",
    "$$"
   ]
  },
  {
   "cell_type": "code",
   "execution_count": null,
   "metadata": {},
   "outputs": [],
   "source": [
    "def f(x): return 1/2*np.linalg.norm(A.dot(x)-y)**2"
   ]
  },
  {
   "cell_type": "markdown",
   "metadata": {},
   "source": [
    "The gradient of $f$ is\n",
    "$$\n",
    "    \\nabla f(x) = A^\\top (Ax - y).\n",
    "$$"
   ]
  },
  {
   "cell_type": "code",
   "execution_count": null,
   "metadata": {},
   "outputs": [],
   "source": [
    "def Gradf(x): return A.transpose().dot(A.dot(x)-y)"
   ]
  },
  {
   "cell_type": "markdown",
   "metadata": {},
   "source": [
    "The maxium step size allowable by the gradient descent is \n",
    "$$\n",
    "    \\tau \\leq \\tau_\\max \\eqdef \\frac{2}{\\norm{AA^\\top}_{op}}\n",
    "$$\n",
    "where $\\norm{\\cdot}_{op}$ is the maximum singular eigenvalue."
   ]
  },
  {
   "cell_type": "code",
   "execution_count": null,
   "metadata": {},
   "outputs": [],
   "source": [
    "tau = 1/np.linalg.norm(A,2)**2"
   ]
  },
  {
   "cell_type": "markdown",
   "metadata": {},
   "source": [
    "Initialize the algorithm to $x=0$."
   ]
  },
  {
   "cell_type": "code",
   "execution_count": null,
   "metadata": {},
   "outputs": [],
   "source": [
    "x = np.zeros((p,1))"
   ]
  },
  {
   "cell_type": "markdown",
   "metadata": {},
   "source": [
    "One step of gradient descent reads:\n",
    "$$  x \\leftarrow x - \\tau \\nabla f(x). $$"
   ]
  },
  {
   "cell_type": "code",
   "execution_count": null,
   "metadata": {},
   "outputs": [],
   "source": [
    "x = x - tau*Gradf(x)"
   ]
  },
  {
   "cell_type": "code",
   "execution_count": null,
   "metadata": {},
   "outputs": [],
   "source": [
    "tau_mult = [.1, .5, 1, 1.8]"
   ]
  },
  {
   "cell_type": "markdown",
   "metadata": {},
   "source": [
    "__Exercise 0:__ Display the evolution of the training error $f(x)$ as a function of the number of iterations. Test for diffetent values of $\\tau$."
   ]
  },
  {
   "cell_type": "code",
   "execution_count": null,
   "metadata": {},
   "outputs": [],
   "source": [
    "run -i nt_solutions/ml_2_regression/exo0"
   ]
  },
  {
   "cell_type": "markdown",
   "metadata": {},
   "source": [
    "The optimal step size to minimize a quadratic function $\\dotp{C w}{w}$ is\n",
    "$$\n",
    "\\tau_{\\text{opt}} = \\frac{2}{\\sigma_\\min(C) + \\sigma_\\max(C)}\n",
    "$$"
   ]
  },
  {
   "cell_type": "code",
   "execution_count": null,
   "metadata": {},
   "outputs": [],
   "source": [
    "C = A.transpose().dot(A)\n",
    "tau_opt = 2 / ( np.linalg.norm(C,2) + np.linalg.norm(C,-2) )\n",
    "print(( 'Optimal tau = ' + str( tau_opt * np.linalg.norm(A,2)**2 ) ) + ' / |AA^T|' );"
   ]
  },
  {
   "cell_type": "markdown",
   "metadata": {},
   "source": [
    "Stochastic Gradient Method\n",
    "=======\n",
    "\n",
    "We use SGD (which is *not* actually a descent algorithm) to minimize the quadratic risk\n",
    "$$ \\umin{x} f(x) \\eqdef \\frac{1}{n} \\sum_{i=1}^n f_i(x) = \\frac{1}{n} \\sum_{i=1}^n \\frac{1}{2} ( \\dotp{x}{a_i}-y_i )^2 $$\n",
    "where we used\n",
    "$$ f_i(x) \\eqdef \\frac{1}{2} ( \\dotp{x}{a_i}-y_i )^2$$\n",
    "The algorithm reads\n",
    "$$ x_{k+1} = x_k - \\tau_k \\nabla f_{i_k}(x_k)$$\n",
    "where at each iteration $i_k$ is drawn in $\\{1,\\ldots,n\\}$ uniformly at random.\n"
   ]
  },
  {
   "cell_type": "code",
   "execution_count": null,
   "metadata": {},
   "outputs": [],
   "source": [
    "x = np.zeros((p,1))"
   ]
  },
  {
   "cell_type": "markdown",
   "metadata": {},
   "source": [
    "Draw $i_k$ are random. "
   ]
  },
  {
   "cell_type": "code",
   "execution_count": null,
   "metadata": {},
   "outputs": [],
   "source": [
    "ik = int( np.floor(np.random.rand()*n) )"
   ]
  },
  {
   "cell_type": "markdown",
   "metadata": {},
   "source": [
    "Compute $\\nabla f_{i_k}(x)$."
   ]
  },
  {
   "cell_type": "code",
   "execution_count": null,
   "metadata": {},
   "outputs": [],
   "source": [
    "gk = (A[ik,:].dot(x)-y[ik]) * A[ik,:].transpose()"
   ]
  },
  {
   "cell_type": "markdown",
   "metadata": {},
   "source": [
    "Set the step size $\\tau_k$ (for convergence is should converge to 0) and perform the update."
   ]
  },
  {
   "cell_type": "code",
   "execution_count": null,
   "metadata": {},
   "outputs": [],
   "source": [
    "tauk = 1/np.linalg.norm(A,2)**2\n",
    "x = x - tauk * gk"
   ]
  },
  {
   "cell_type": "markdown",
   "metadata": {},
   "source": [
    "__Exercise SGD1:__ Test different *fixed* step size $\\tau_k=\\tau$. "
   ]
  },
  {
   "cell_type": "code",
   "execution_count": null,
   "metadata": {},
   "outputs": [],
   "source": [
    "run -i nt_solutions/ml_2_regression/exo_sgd1.py"
   ]
  },
  {
   "cell_type": "markdown",
   "metadata": {},
   "source": [
    "__Exercise SGD2:__ Average on different runs to see the impact of the step size."
   ]
  },
  {
   "cell_type": "code",
   "execution_count": null,
   "metadata": {},
   "outputs": [],
   "source": [
    "run -i nt_solutions/ml_2_regression/exo_sgd2.py"
   ]
  },
  {
   "cell_type": "markdown",
   "metadata": {},
   "source": [
    "__Exercise SGD3:__ Use a decaying step size $\\tau_k=\\frac{\\tau_0}{1+k/k_0}$."
   ]
  },
  {
   "cell_type": "code",
   "execution_count": null,
   "metadata": {},
   "outputs": [],
   "source": [
    "run -i nt_solutions/ml_2_regression/exo_sgd3.py"
   ]
  },
  {
   "cell_type": "markdown",
   "metadata": {},
   "source": [
    "__Exercise SGD4:__ Use a decaying step size $\\tau_k=\\frac{\\tau_0}{1+\\sqrt{k/k_0}}$ and average the iteration $\\frac{1}{K}\\sum_{k<K}x_k$."
   ]
  },
  {
   "cell_type": "code",
   "execution_count": null,
   "metadata": {},
   "outputs": [],
   "source": [
    "run -i nt_solutions/ml_2_regression/exo_sgd4.py"
   ]
  },
  {
   "cell_type": "markdown",
   "metadata": {},
   "source": [
    "\n",
    "Ridge Regularization\n",
    "=======\n",
    "\n",
    "Regularization is obtained by introducing a penalty. It is often called\n",
    "ridge regression, and is defined as\n",
    "  $$ \\umin{ x }  \\norm{Ax-y}^2 + \\lambda \\norm{x}^2 $$\n",
    "where $\\lambda>0$ is the regularization parameter.\n",
    "\n",
    "\n",
    "The solution is given using the following equivalent formula\n",
    "  $$ x = (A^\\top A + \\lambda \\text{Id}_p )^{-1} A^\\top y, $$\n",
    "  $$ x = A^\\top ( AA^\\top + \\lambda \\text{Id}_n)^{-1} y, $$\n",
    "When $p<n$ (which is the case here), the first formula should be\n",
    "prefered.\n",
    "\n",
    "\n",
    "In contrast, when the dimensionality $p$ of the feature is very\n",
    "large and there is little data, the second is faster. Furthermore, this\n",
    "second expression is generalizable to Kernel Hilbert space setting,\n",
    "corresponding possibly to $p=+\\infty$ for some kernels."
   ]
  },
  {
   "cell_type": "code",
   "execution_count": null,
   "metadata": {},
   "outputs": [],
   "source": [
    "Lambda = .2*np.linalg.norm(A)**2;\n",
    "x = np.linalg.solve( A.transpose().dot(A) + Lambda*np.eye(p), A.transpose().dot(y) )\n",
    "u = np.linalg.solve( A.dot(A.transpose()) + Lambda*np.eye(n), y )\n",
    "x1 = A.transpose().dot( u )\n",
    "print( ('Error (should be 0): ' + str( np.linalg.norm(x-x1)/np.linalg.norm(x) ) ) )"
   ]
  },
  {
   "cell_type": "markdown",
   "metadata": {},
   "source": [
    "__Exercise 1:__ Display the evolution of the test error $E$ as a function of $\\lambda$."
   ]
  },
  {
   "cell_type": "code",
   "execution_count": null,
   "metadata": {},
   "outputs": [],
   "source": [
    "run -i nt_solutions/ml_2_regression/exo1"
   ]
  },
  {
   "cell_type": "markdown",
   "metadata": {},
   "source": [
    "__Exercise 2:__ Display the regularization path, i.e. the evolution of $w$ as a function\n",
    "of $\\lambda$."
   ]
  },
  {
   "cell_type": "code",
   "execution_count": null,
   "metadata": {},
   "outputs": [],
   "source": [
    "run -i nt_solutions/ml_2_regression/exo2"
   ]
  },
  {
   "cell_type": "markdown",
   "metadata": {},
   "source": [
    "Sparse Regularization\n",
    "---------------------\n",
    "In order to perform feature selection (i.e. select a subsect of the\n",
    "features which are the most predictive), one needs to replace the\n",
    "$\\ell^2$ regularization penalty by a sparsity inducing regularizer. The\n",
    "most well known is the $\\ell^1$ norm\n",
    "$$ \\norm{x}_1 \\eqdef \\sum_i \\abs{x_i} . $$\n",
    "\n",
    "\n",
    "The energy to minimize is\n",
    "$$ \\umin{x} f(x) \\eqdef \\frac{1}{2}\\norm{Ax-y}^2 + \\lambda \\norm{x}_1. $$"
   ]
  },
  {
   "cell_type": "code",
   "execution_count": null,
   "metadata": {},
   "outputs": [],
   "source": [
    "def f(x,Lambda): return 1/2*np.linalg.norm(A.dot(x)-y)**2 + Lambda*np.linalg.norm(x,1)"
   ]
  },
  {
   "cell_type": "markdown",
   "metadata": {},
   "source": [
    "The simplest iterative algorithm to perform the minimization is the\n",
    "so-called iterative soft thresholding (ISTA), aka proximal gradient aka\n",
    "forward-backward.\n",
    "\n",
    "\n",
    "It performs first a gradient step (forward) of the smooth part $\\frac{1}{2}\\norm{X w-y}^2$ of the\n",
    "functional and then a proximal step (backward) step which account for the\n",
    "$\\ell^1$ penalty and induce sparsity. This proximal step is the soft-thresholding operator\n",
    "$$ \\Ss_s(x) \\eqdef \\max( \\abs{x}-\\lambda,0 ) \\text{sign}(x).  $$"
   ]
  },
  {
   "cell_type": "code",
   "execution_count": null,
   "metadata": {},
   "outputs": [],
   "source": [
    "def Soft(x,s): return np.maximum( abs(x)-s, np.zeros(x.shape)  ) * np.sign(x)"
   ]
  },
  {
   "cell_type": "markdown",
   "metadata": {},
   "source": [
    "The ISTA algorithm reads\n",
    "$$ x_{k+1} \\eqdef \\Ss_{\\la\\tau}( x_k - \\tau A^\\top ( A x_k - y )  ), $$\n",
    "where, to ensure convergence, the step size should verify $ 0 < \\tau <\n",
    "2/\\norm{A}^2  $ where $\\norm{A}$ is the operator norm.\n",
    "\n",
    "\n",
    "Display the soft thresholding operator."
   ]
  },
  {
   "cell_type": "code",
   "execution_count": null,
   "metadata": {},
   "outputs": [],
   "source": [
    "t = np.linspace(-5,5,201)\n",
    "plt.clf\n",
    "plt.plot(t,Soft(t,2)) \n",
    "plt.axis('tight');"
   ]
  },
  {
   "cell_type": "markdown",
   "metadata": {},
   "source": [
    "Descent step size."
   ]
  },
  {
   "cell_type": "code",
   "execution_count": null,
   "metadata": {},
   "outputs": [],
   "source": [
    "tau = 1.5/np.linalg.norm(A,2)**2"
   ]
  },
  {
   "cell_type": "markdown",
   "metadata": {},
   "source": [
    "Choose a regularization parameter $\\la$."
   ]
  },
  {
   "cell_type": "code",
   "execution_count": null,
   "metadata": {},
   "outputs": [],
   "source": [
    "lmax = abs( A.transpose().dot(y) ).max()\n",
    "Lambda = lmax /10"
   ]
  },
  {
   "cell_type": "markdown",
   "metadata": {},
   "source": [
    "Initialization $w_0$."
   ]
  },
  {
   "cell_type": "code",
   "execution_count": null,
   "metadata": {},
   "outputs": [],
   "source": [
    "x = np.zeros((p,1))"
   ]
  },
  {
   "cell_type": "markdown",
   "metadata": {},
   "source": [
    "A single ISTA step."
   ]
  },
  {
   "cell_type": "code",
   "execution_count": null,
   "metadata": {},
   "outputs": [],
   "source": [
    "C = A.transpose().dot(A)\n",
    "u = A.transpose().dot(y)\n",
    "def ISTA(x,Lambda,tau): return Soft( x-tau*( C.dot(x)-u ), Lambda*tau )\n",
    "x = ISTA(x,Lambda,tau)"
   ]
  },
  {
   "cell_type": "markdown",
   "metadata": {},
   "source": [
    "__Exercise 3:__ Implement the ISTA algorithm, display the convergence of the energy."
   ]
  },
  {
   "cell_type": "code",
   "execution_count": null,
   "metadata": {},
   "outputs": [],
   "source": [
    "run -i nt_solutions/ml_2_regression/exo3"
   ]
  },
  {
   "cell_type": "markdown",
   "metadata": {},
   "source": [
    "__Exercise 4:__ Compute the test error along the full regularization path. You can start by large $\\lambda$ and use a warm restart procedure to reduce the computation time. Compute the classification error.\n",
    "ind optimal lambda isplay error evolution."
   ]
  },
  {
   "cell_type": "code",
   "execution_count": null,
   "metadata": {},
   "outputs": [],
   "source": [
    "run -i nt_solutions/ml_2_regression/exo4"
   ]
  },
  {
   "cell_type": "markdown",
   "metadata": {},
   "source": [
    "__Exercise 5:__ Display the regularization path, i.e. the evolution of $w$ as a function\n",
    "of $\\lambda$."
   ]
  },
  {
   "cell_type": "code",
   "execution_count": null,
   "metadata": {},
   "outputs": [],
   "source": [
    "run -i nt_solutions/ml_2_regression/exo5"
   ]
  },
  {
   "cell_type": "markdown",
   "metadata": {},
   "source": [
    "__Exercise 6:__ Compare the optimal weights for ridge and lasso."
   ]
  },
  {
   "cell_type": "code",
   "execution_count": null,
   "metadata": {},
   "outputs": [],
   "source": [
    "run -i nt_solutions/ml_2_regression/exo8"
   ]
  },
  {
   "cell_type": "markdown",
   "metadata": {},
   "source": [
    "<script>\n",
    "  $(document).ready(function(){\n",
    "      $('div.prompt').hide();\n",
    "  });\n",
    "</script>"
   ]
  },
  {
   "cell_type": "raw",
   "metadata": {},
   "source": [
    "<script>\n",
    "  $(document).ready(function(){\n",
    "      $('div.prompt').hide();\n",
    "  });\n",
    "</script>"
   ]
  }
 ],
 "metadata": {
  "kernelspec": {
   "display_name": "Python 3",
   "language": "python",
   "name": "python3"
  },
  "language_info": {
   "codemirror_mode": {
    "name": "ipython",
    "version": 3
   },
   "file_extension": ".py",
   "mimetype": "text/x-python",
   "name": "python",
   "nbconvert_exporter": "python",
   "pygments_lexer": "ipython3",
   "version": "3.7.1"
  }
 },
 "nbformat": 4,
 "nbformat_minor": 1
}
