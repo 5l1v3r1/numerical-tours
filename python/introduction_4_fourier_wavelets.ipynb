{
 "cells": [
  {
   "cell_type": "markdown",
   "metadata": {},
   "source": [
    "Image Approximation with Fourier and Wavelets\n",
    "=============================================\n",
    "\n",
    "*Important:* Please read the [installation page](http://gpeyre.github.io/numerical-tours/installation_python/) for details about how to install the toolboxes.\n",
    "$\\newcommand{\\dotp}[2]{\\langle #1, #2 \\rangle}$\n",
    "$\\newcommand{\\enscond}[2]{\\lbrace #1, #2 \\rbrace}$\n",
    "$\\newcommand{\\pd}[2]{ \\frac{ \\partial #1}{\\partial #2} }$\n",
    "$\\newcommand{\\umin}[1]{\\underset{#1}{\\min}\\;}$\n",
    "$\\newcommand{\\umax}[1]{\\underset{#1}{\\max}\\;}$\n",
    "$\\newcommand{\\umin}[1]{\\underset{#1}{\\min}\\;}$\n",
    "$\\newcommand{\\uargmin}[1]{\\underset{#1}{argmin}\\;}$\n",
    "$\\newcommand{\\norm}[1]{\\|#1\\|}$\n",
    "$\\newcommand{\\abs}[1]{\\left|#1\\right|}$\n",
    "$\\newcommand{\\choice}[1]{ \\left\\{  \\begin{array}{l} #1 \\end{array} \\right. }$\n",
    "$\\newcommand{\\pa}[1]{\\left(#1\\right)}$\n",
    "$\\newcommand{\\diag}[1]{{diag}\\left( #1 \\right)}$\n",
    "$\\newcommand{\\qandq}{\\quad\\text{and}\\quad}$\n",
    "$\\newcommand{\\qwhereq}{\\quad\\text{where}\\quad}$\n",
    "$\\newcommand{\\qifq}{ \\quad \\text{if} \\quad }$\n",
    "$\\newcommand{\\qarrq}{ \\quad \\Longrightarrow \\quad }$\n",
    "$\\newcommand{\\ZZ}{\\mathbb{Z}}$\n",
    "$\\newcommand{\\CC}{\\mathbb{C}}$\n",
    "$\\newcommand{\\RR}{\\mathbb{R}}$\n",
    "$\\newcommand{\\EE}{\\mathbb{E}}$\n",
    "$\\newcommand{\\Zz}{\\mathcal{Z}}$\n",
    "$\\newcommand{\\Ww}{\\mathcal{W}}$\n",
    "$\\newcommand{\\Vv}{\\mathcal{V}}$\n",
    "$\\newcommand{\\Nn}{\\mathcal{N}}$\n",
    "$\\newcommand{\\NN}{\\mathcal{N}}$\n",
    "$\\newcommand{\\Hh}{\\mathcal{H}}$\n",
    "$\\newcommand{\\Bb}{\\mathcal{B}}$\n",
    "$\\newcommand{\\Ee}{\\mathcal{E}}$\n",
    "$\\newcommand{\\Cc}{\\mathcal{C}}$\n",
    "$\\newcommand{\\Gg}{\\mathcal{G}}$\n",
    "$\\newcommand{\\Ss}{\\mathcal{S}}$\n",
    "$\\newcommand{\\Pp}{\\mathcal{P}}$\n",
    "$\\newcommand{\\Ff}{\\mathcal{F}}$\n",
    "$\\newcommand{\\Xx}{\\mathcal{X}}$\n",
    "$\\newcommand{\\Mm}{\\mathcal{M}}$\n",
    "$\\newcommand{\\Ii}{\\mathcal{I}}$\n",
    "$\\newcommand{\\Dd}{\\mathcal{D}}$\n",
    "$\\newcommand{\\Ll}{\\mathcal{L}}$\n",
    "$\\newcommand{\\Tt}{\\mathcal{T}}$\n",
    "$\\newcommand{\\si}{\\sigma}$\n",
    "$\\newcommand{\\al}{\\alpha}$\n",
    "$\\newcommand{\\la}{\\lambda}$\n",
    "$\\newcommand{\\ga}{\\gamma}$\n",
    "$\\newcommand{\\Ga}{\\Gamma}$\n",
    "$\\newcommand{\\La}{\\Lambda}$\n",
    "$\\newcommand{\\si}{\\sigma}$\n",
    "$\\newcommand{\\Si}{\\Sigma}$\n",
    "$\\newcommand{\\be}{\\beta}$\n",
    "$\\newcommand{\\de}{\\delta}$\n",
    "$\\newcommand{\\De}{\\Delta}$\n",
    "$\\newcommand{\\phi}{\\varphi}$\n",
    "$\\newcommand{\\th}{\\theta}$\n",
    "$\\newcommand{\\om}{\\omega}$\n",
    "$\\newcommand{\\Om}{\\Omega}$"
   ]
  },
  {
   "cell_type": "markdown",
   "metadata": {},
   "source": [
    "This numerical tour overviews the use of Fourier and wavelets for image\n",
    "approximation."
   ]
  },
  {
   "cell_type": "code",
   "execution_count": 1,
   "metadata": {
    "collapsed": false
   },
   "outputs": [],
   "source": [
    "from __future__ import division\n",
    "\n",
    "import numpy as np\n",
    "import scipy as scp\n",
    "import pylab as pyl\n",
    "import matplotlib.pyplot as plt\n",
    "\n",
    "from nt_toolbox.general import *\n",
    "from nt_toolbox.signal import *\n",
    "#from nt_solutions import introduction_4_fourier_wavelets as solutions\n",
    "\n",
    "import warnings\n",
    "warnings.filterwarnings('ignore')\n",
    "\n",
    "%matplotlib inline\n",
    "%load_ext autoreload\n",
    "%autoreload 2"
   ]
  },
  {
   "cell_type": "markdown",
   "metadata": {},
   "source": [
    "*Note:* to measure the error of an image $f$ with its\n",
    "approximation $f_M$, we use the SNR measure, defined as\n",
    "\n",
    "$$ \\text{SNR}(f,f_M) = -20\\log_{10} \\pa{ \\frac{ \\norm{f-f_M} }{ \\norm{f} } },  $$\n",
    "\n",
    "which is a quantity expressed in decibels (dB).\n",
    "The higer the SNR, the better the quality.\n",
    "\n",
    "Image Loading and Displaying\n",
    "----------------------------\n",
    "\n",
    "\n",
    "First we load an image $ f \\in \\RR^N $ of $ N = N_0 \\times N_0 $ pixels."
   ]
  },
  {
   "cell_type": "code",
   "execution_count": 2,
   "metadata": {
    "collapsed": false
   },
   "outputs": [
    {
     "ename": "FileNotFoundError",
     "evalue": "[Errno 2] No such file or directory: 'toolbox_signal/lena.bmp'",
     "output_type": "error",
     "traceback": [
      "\u001b[0;31m---------------------------------------------------------------------------\u001b[0m",
      "\u001b[0;31mFileNotFoundError\u001b[0m                         Traceback (most recent call last)",
      "\u001b[0;32m<ipython-input-2-bf28aadbb3d4>\u001b[0m in \u001b[0;36m<module>\u001b[0;34m()\u001b[0m\n\u001b[1;32m      1\u001b[0m \u001b[0mn0\u001b[0m \u001b[0;34m=\u001b[0m \u001b[0;36m512\u001b[0m\u001b[0;34m\u001b[0m\u001b[0m\n\u001b[0;32m----> 2\u001b[0;31m \u001b[0mf\u001b[0m \u001b[0;34m=\u001b[0m \u001b[0mrescale\u001b[0m\u001b[0;34m(\u001b[0m\u001b[0mload_image\u001b[0m\u001b[0;34m(\u001b[0m\u001b[0;34m\"toolbox_signal/lena.bmp\"\u001b[0m\u001b[0;34m,\u001b[0m \u001b[0mn0\u001b[0m\u001b[0;34m)\u001b[0m\u001b[0;34m)\u001b[0m\u001b[0;34m\u001b[0m\u001b[0m\n\u001b[0m",
      "\u001b[0;32m/Users/gabrielpeyre/Dropbox/github/numerical-tours/python/nt_toolbox/signal.py\u001b[0m in \u001b[0;36mload_image\u001b[0;34m(name, n, flatten, resc, grayscale)\u001b[0m\n\u001b[1;32m    109\u001b[0m         \u001b[0;32mand\u001b[0m \u001b[0mresize\u001b[0m \u001b[0mit\u001b[0m \u001b[0mto\u001b[0m \u001b[0msize\u001b[0m \u001b[0mn\u001b[0m \u001b[0mx\u001b[0m \u001b[0mn\u001b[0m\u001b[0;34m.\u001b[0m\u001b[0;34m\u001b[0m\u001b[0m\n\u001b[1;32m    110\u001b[0m     \"\"\"\n\u001b[0;32m--> 111\u001b[0;31m     \u001b[0mf\u001b[0m \u001b[0;34m=\u001b[0m \u001b[0mplt\u001b[0m\u001b[0;34m.\u001b[0m\u001b[0mimread\u001b[0m\u001b[0;34m(\u001b[0m\u001b[0mname\u001b[0m\u001b[0;34m)\u001b[0m\u001b[0;34m\u001b[0m\u001b[0m\n\u001b[0m\u001b[1;32m    112\u001b[0m     \u001b[0;31m# turn into normalized grayscale image\u001b[0m\u001b[0;34m\u001b[0m\u001b[0;34m\u001b[0m\u001b[0m\n\u001b[1;32m    113\u001b[0m     \u001b[0;32mif\u001b[0m \u001b[0mgrayscale\u001b[0m \u001b[0;34m==\u001b[0m \u001b[0;36m1\u001b[0m\u001b[0;34m:\u001b[0m\u001b[0;34m\u001b[0m\u001b[0m\n",
      "\u001b[0;32m/Users/gabrielpeyre/anaconda/lib/python3.4/site-packages/matplotlib/pyplot.py\u001b[0m in \u001b[0;36mimread\u001b[0;34m(*args, **kwargs)\u001b[0m\n\u001b[1;32m   2208\u001b[0m \u001b[0;34m@\u001b[0m\u001b[0mdocstring\u001b[0m\u001b[0;34m.\u001b[0m\u001b[0mcopy_dedent\u001b[0m\u001b[0;34m(\u001b[0m\u001b[0m_imread\u001b[0m\u001b[0;34m)\u001b[0m\u001b[0;34m\u001b[0m\u001b[0m\n\u001b[1;32m   2209\u001b[0m \u001b[0;32mdef\u001b[0m \u001b[0mimread\u001b[0m\u001b[0;34m(\u001b[0m\u001b[0;34m*\u001b[0m\u001b[0margs\u001b[0m\u001b[0;34m,\u001b[0m \u001b[0;34m**\u001b[0m\u001b[0mkwargs\u001b[0m\u001b[0;34m)\u001b[0m\u001b[0;34m:\u001b[0m\u001b[0;34m\u001b[0m\u001b[0m\n\u001b[0;32m-> 2210\u001b[0;31m     \u001b[0;32mreturn\u001b[0m \u001b[0m_imread\u001b[0m\u001b[0;34m(\u001b[0m\u001b[0;34m*\u001b[0m\u001b[0margs\u001b[0m\u001b[0;34m,\u001b[0m \u001b[0;34m**\u001b[0m\u001b[0mkwargs\u001b[0m\u001b[0;34m)\u001b[0m\u001b[0;34m\u001b[0m\u001b[0m\n\u001b[0m\u001b[1;32m   2211\u001b[0m \u001b[0;34m\u001b[0m\u001b[0m\n\u001b[1;32m   2212\u001b[0m \u001b[0;34m\u001b[0m\u001b[0m\n",
      "\u001b[0;32m/Users/gabrielpeyre/anaconda/lib/python3.4/site-packages/matplotlib/image.py\u001b[0m in \u001b[0;36mimread\u001b[0;34m(fname, format)\u001b[0m\n\u001b[1;32m   1248\u001b[0m \u001b[0;34m\u001b[0m\u001b[0m\n\u001b[1;32m   1249\u001b[0m     \u001b[0;32mif\u001b[0m \u001b[0mext\u001b[0m \u001b[0;32mnot\u001b[0m \u001b[0;32min\u001b[0m \u001b[0mhandlers\u001b[0m\u001b[0;34m:\u001b[0m\u001b[0;34m\u001b[0m\u001b[0m\n\u001b[0;32m-> 1250\u001b[0;31m         \u001b[0mim\u001b[0m \u001b[0;34m=\u001b[0m \u001b[0mpilread\u001b[0m\u001b[0;34m(\u001b[0m\u001b[0mfname\u001b[0m\u001b[0;34m)\u001b[0m\u001b[0;34m\u001b[0m\u001b[0m\n\u001b[0m\u001b[1;32m   1251\u001b[0m         \u001b[0;32mif\u001b[0m \u001b[0mim\u001b[0m \u001b[0;32mis\u001b[0m \u001b[0;32mNone\u001b[0m\u001b[0;34m:\u001b[0m\u001b[0;34m\u001b[0m\u001b[0m\n\u001b[1;32m   1252\u001b[0m             raise ValueError('Only know how to handle extensions: %s; '\n",
      "\u001b[0;32m/Users/gabrielpeyre/anaconda/lib/python3.4/site-packages/matplotlib/image.py\u001b[0m in \u001b[0;36mpilread\u001b[0;34m(fname)\u001b[0m\n\u001b[1;32m   1227\u001b[0m         \u001b[0;32mif\u001b[0m \u001b[0mcbook\u001b[0m\u001b[0;34m.\u001b[0m\u001b[0mis_string_like\u001b[0m\u001b[0;34m(\u001b[0m\u001b[0mfname\u001b[0m\u001b[0;34m)\u001b[0m\u001b[0;34m:\u001b[0m\u001b[0;34m\u001b[0m\u001b[0m\n\u001b[1;32m   1228\u001b[0m             \u001b[0;31m# force close the file after reading the image\u001b[0m\u001b[0;34m\u001b[0m\u001b[0;34m\u001b[0m\u001b[0m\n\u001b[0;32m-> 1229\u001b[0;31m             \u001b[0;32mwith\u001b[0m \u001b[0mopen\u001b[0m\u001b[0;34m(\u001b[0m\u001b[0mfname\u001b[0m\u001b[0;34m,\u001b[0m \u001b[0;34m\"rb\"\u001b[0m\u001b[0;34m)\u001b[0m \u001b[0;32mas\u001b[0m \u001b[0mfh\u001b[0m\u001b[0;34m:\u001b[0m\u001b[0;34m\u001b[0m\u001b[0m\n\u001b[0m\u001b[1;32m   1230\u001b[0m                 \u001b[0mimage\u001b[0m \u001b[0;34m=\u001b[0m \u001b[0mImage\u001b[0m\u001b[0;34m.\u001b[0m\u001b[0mopen\u001b[0m\u001b[0;34m(\u001b[0m\u001b[0mfh\u001b[0m\u001b[0;34m)\u001b[0m\u001b[0;34m\u001b[0m\u001b[0m\n\u001b[1;32m   1231\u001b[0m                 \u001b[0;32mreturn\u001b[0m \u001b[0mpil_to_array\u001b[0m\u001b[0;34m(\u001b[0m\u001b[0mimage\u001b[0m\u001b[0;34m)\u001b[0m\u001b[0;34m\u001b[0m\u001b[0m\n",
      "\u001b[0;31mFileNotFoundError\u001b[0m: [Errno 2] No such file or directory: 'toolbox_signal/lena.bmp'"
     ]
    }
   ],
   "source": [
    "n0 = 512\n",
    "f = rescale(load_image(\"toolbox_signal/lena.bmp\", n0))"
   ]
  },
  {
   "cell_type": "markdown",
   "metadata": {},
   "source": [
    "Display the original image."
   ]
  },
  {
   "cell_type": "code",
   "execution_count": null,
   "metadata": {
    "collapsed": false
   },
   "outputs": [],
   "source": [
    "plt.figure(figsize = (5,5))\n",
    "imageplot(f, 'Image f')"
   ]
  },
  {
   "cell_type": "markdown",
   "metadata": {},
   "source": [
    "Display a zoom in the middle."
   ]
  },
  {
   "cell_type": "code",
   "execution_count": null,
   "metadata": {
    "collapsed": false
   },
   "outputs": [],
   "source": [
    "plt.figure(figsize = (5,5))\n",
    "imageplot(f[n0//2 - 32:n0//2 + 32,n0//2 - 32:n0//2 + 32], 'Zoom')"
   ]
  },
  {
   "cell_type": "markdown",
   "metadata": {},
   "source": [
    "An image is a 2D array, it can be modified as a matrix."
   ]
  },
  {
   "cell_type": "code",
   "execution_count": null,
   "metadata": {
    "collapsed": false
   },
   "outputs": [],
   "source": [
    "plt.figure(figsize = (8,8))\n",
    "imageplot(-f, '-f', [1, 2, 1])\n",
    "imageplot(f[::-1,], 'Flipped', [1, 2, 2])"
   ]
  },
  {
   "cell_type": "markdown",
   "metadata": {},
   "source": [
    "Blurring is achieved by computing a convolution $f \\star h$ with a kernel $h$.\n",
    "\n",
    "\n",
    "Compute the low pass kernel."
   ]
  },
  {
   "cell_type": "code",
   "execution_count": null,
   "metadata": {
    "collapsed": false
   },
   "outputs": [],
   "source": [
    "k = 9; #size of the kernel\n",
    "h = np.ones([k,k])\n",
    "h = h/np.sum(h) #normalize"
   ]
  },
  {
   "cell_type": "markdown",
   "metadata": {},
   "source": [
    "Compute the convolution $f \\star h$."
   ]
  },
  {
   "cell_type": "code",
   "execution_count": null,
   "metadata": {
    "collapsed": false
   },
   "outputs": [],
   "source": [
    "from scipy import signal\n",
    "fh = signal.convolve2d(f, h, boundary = \"symm\")"
   ]
  },
  {
   "cell_type": "markdown",
   "metadata": {},
   "source": [
    "Display."
   ]
  },
  {
   "cell_type": "code",
   "execution_count": null,
   "metadata": {
    "collapsed": false
   },
   "outputs": [],
   "source": [
    "plt.figure(figsize = (5,5))\n",
    "imageplot(fh, 'Blurred image')"
   ]
  },
  {
   "cell_type": "markdown",
   "metadata": {},
   "source": [
    "Fourier Transform\n",
    "-----------------\n",
    "The Fourier orthonormal basis is defined as\n",
    "$$ \\psi_m(k) = \\frac{1}{\\sqrt{N}}e^{\\frac{2i\\pi}{N_0} \\dotp{m}{k} } $$\n",
    "where $0 \\leq k_1,k_2 < N_0$ are position indexes,\n",
    "and $0 \\leq m_1,m_2 < N_0$ are frequency indexes.\n",
    "\n",
    "\n",
    "The Fourier transform $\\hat f$ is the projection of the image on this Fourier\n",
    "basis\n",
    "\n",
    "$$ \\hat f(m) = \\dotp{f}{\\psi_m}. $$\n",
    "\n",
    "\n",
    "The Fourier transform is computed in $ O(N \\log(N)) $ operation using the FFT algorithm\n",
    "(Fast Fourier Transform).\n",
    "Note the normalization by $\\sqrt{N}=N_0$ to make the transform orthonormal."
   ]
  },
  {
   "cell_type": "code",
   "execution_count": null,
   "metadata": {
    "collapsed": false
   },
   "outputs": [],
   "source": [
    "F = pyl.fft2(f)/n0"
   ]
  },
  {
   "cell_type": "markdown",
   "metadata": {},
   "source": [
    "We check this conservation of the energy."
   ]
  },
  {
   "cell_type": "code",
   "execution_count": null,
   "metadata": {
    "collapsed": false
   },
   "outputs": [],
   "source": [
    "from pylab import linalg\n",
    "\n",
    "print(\"Energy of Image:   %f\" %linalg.norm(f))\n",
    "print(\"Energy of Fourier: %f\" %linalg.norm(F))"
   ]
  },
  {
   "cell_type": "markdown",
   "metadata": {},
   "source": [
    "Compute the logarithm of the Fourier magnitude $ \\log\\left(\\abs{\\hat f(m)} +\n",
    "\\epsilon\\right) $, for some small $\\epsilon$."
   ]
  },
  {
   "cell_type": "code",
   "execution_count": null,
   "metadata": {
    "collapsed": false
   },
   "outputs": [],
   "source": [
    "L = pyl.fftshift(np.log(abs(F) + 1e-1))"
   ]
  },
  {
   "cell_type": "markdown",
   "metadata": {},
   "source": [
    "Display. Note that we use the function fftshift to put the 0 low frequency in the\n",
    "middle."
   ]
  },
  {
   "cell_type": "code",
   "execution_count": null,
   "metadata": {
    "collapsed": false
   },
   "outputs": [],
   "source": [
    "plt.figure(figsize = (5,5))\n",
    "imageplot(L, 'Log(Fourier transform)')"
   ]
  },
  {
   "cell_type": "markdown",
   "metadata": {},
   "source": [
    "Linear Fourier Approximation\n",
    "----------------------------\n",
    "An approximation is obtained by retaining a certain set of index $I_M$\n",
    "\n",
    "$$ f_M = \\sum_{ m \\in I_M } \\dotp{f}{\\psi_m} \\psi_m. $$\n",
    "\n",
    "\n",
    "Linear approximation is obtained by retaining a *fixed* set $I_M$\n",
    "of $M = \\abs{I_M}$ coefficients. The important point is that $I_M$\n",
    "does not depend on the image $f$ to be approximated.\n",
    "\n",
    "\n",
    "For the Fourier transform, a low pass linear approximation\n",
    "is obtained by keeping only the frequencies within a square.\n",
    "\n",
    "$$ I_M = \\enscond{m=(m_1,m_2)}{ -q/2 \\leq m_1,m_2 < q/2 } $$\n",
    "where $ q = \\sqrt{M} $.\n",
    "\n",
    "\n",
    "This can be achieved by computing the Fourier transform,\n",
    "setting to zero the $N-M$ coefficients outside the square $I_M$\n",
    "and then inverting the Fourier transform.\n",
    "\n",
    "\n",
    "Number $M$ of kept coefficients."
   ]
  },
  {
   "cell_type": "code",
   "execution_count": null,
   "metadata": {
    "collapsed": false
   },
   "outputs": [],
   "source": [
    "M = n0**2//64"
   ]
  },
  {
   "cell_type": "markdown",
   "metadata": {},
   "source": [
    "__Exercise 1__\n",
    "\n",
    "Perform the linear Fourier approximation with $M$ coefficients.\n",
    "Store the result in the variable $f_M$."
   ]
  },
  {
   "cell_type": "code",
   "execution_count": null,
   "metadata": {
    "collapsed": false
   },
   "outputs": [],
   "source": [
    "#solutions.exo1()"
   ]
  },
  {
   "cell_type": "code",
   "execution_count": null,
   "metadata": {
    "collapsed": false
   },
   "outputs": [],
   "source": [
    "## Insert your code here.\n",
    "q = int(np.sqrt(M))\n",
    "F = pyl.fftshift(pyl.fft2(f))\n",
    "Sel = np.zeros([n0,n0])\n",
    "\n",
    "Sel[n0//2 - q//2:n0//2 + q//2, n0//2 - q//2:n0//2 + q//2] = 1\n",
    "F_zeros = np.multiply(F,Sel)\n",
    "\n",
    "fM = np.real(pyl.ifft2(pyl.fftshift(F_zeros)))\n",
    "plt.figure(figsize = (5,5))\n",
    "imageplot(clamp(fM), \"Linear, Fourier, SNR = %.1f dB\" %snr(f, fM))"
   ]
  },
  {
   "cell_type": "markdown",
   "metadata": {},
   "source": [
    "Compare two 1D profile (lines of the image).\n",
    "This shows the strong ringing artifact of the linea approximation."
   ]
  },
  {
   "cell_type": "code",
   "execution_count": null,
   "metadata": {
    "collapsed": false
   },
   "outputs": [],
   "source": [
    "plt.figure(figsize=(7,6))\n",
    "\n",
    "plt.subplot(2, 1, 1)\n",
    "plt.plot(f[: , n0//2])\n",
    "plt.xlim(0,n0)\n",
    "plt.title('f')\n",
    "\n",
    "plt.subplot(2, 1, 2)\n",
    "plt.plot(fM[: , n0//2])\n",
    "plt.xlim(0,n0)\n",
    "plt.title('f_M')\n",
    "\n",
    "plt.show()"
   ]
  },
  {
   "cell_type": "markdown",
   "metadata": {},
   "source": [
    "Non-linear Fourier Approximation\n",
    "--------------------------------\n",
    "Non-linear approximation is obtained by keeping the $M$ largest\n",
    "coefficients. This is equivalently computed using a thresholding of the\n",
    "coefficients\n",
    "$$ I_M = \\enscond{m}{ \\abs{\\dotp{f}{\\psi_m}}>T }. $$\n",
    "\n",
    "\n",
    "Set a threshold $T>0$."
   ]
  },
  {
   "cell_type": "code",
   "execution_count": null,
   "metadata": {
    "collapsed": false
   },
   "outputs": [],
   "source": [
    "T = .2"
   ]
  },
  {
   "cell_type": "markdown",
   "metadata": {},
   "source": [
    "Compute the Fourier transform."
   ]
  },
  {
   "cell_type": "code",
   "execution_count": null,
   "metadata": {
    "collapsed": false
   },
   "outputs": [],
   "source": [
    "F = pyl.fft2(f)/n0"
   ]
  },
  {
   "cell_type": "markdown",
   "metadata": {},
   "source": [
    "Do the hard thresholding."
   ]
  },
  {
   "cell_type": "code",
   "execution_count": null,
   "metadata": {
    "collapsed": false
   },
   "outputs": [],
   "source": [
    "FT = np.multiply(F,(abs(F) > T))"
   ]
  },
  {
   "cell_type": "markdown",
   "metadata": {},
   "source": [
    "Display. Note that we use the function fftshift to put the 0 low frequency in the\n",
    "middle."
   ]
  },
  {
   "cell_type": "code",
   "execution_count": null,
   "metadata": {
    "collapsed": false
   },
   "outputs": [],
   "source": [
    "L = pyl.fftshift(np.log(abs(FT) + 1e-1))\n",
    "plt.figure(figsize = (5,5))\n",
    "imageplot(L, 'thresholded Log(Fourier transform)')"
   ]
  },
  {
   "cell_type": "markdown",
   "metadata": {},
   "source": [
    "Inverse Fourier transform to obtain $f_M$."
   ]
  },
  {
   "cell_type": "code",
   "execution_count": null,
   "metadata": {
    "collapsed": false
   },
   "outputs": [],
   "source": [
    "fM = np.real(pyl.ifft2(FT)*n0)"
   ]
  },
  {
   "cell_type": "markdown",
   "metadata": {},
   "source": [
    "Display."
   ]
  },
  {
   "cell_type": "code",
   "execution_count": null,
   "metadata": {
    "collapsed": false
   },
   "outputs": [],
   "source": [
    "plt.figure(figsize = (5,5))\n",
    "imageplot(clamp(fM), \"Linear, Fourier, SNR = %.1f dB\" %snr(f, fM))"
   ]
  },
  {
   "cell_type": "markdown",
   "metadata": {},
   "source": [
    "Given a $T$, the number of coefficients is obtained by counting the\n",
    "non-thresholded coefficients $ \\abs{I_M} $."
   ]
  },
  {
   "cell_type": "code",
   "execution_count": null,
   "metadata": {
    "collapsed": false
   },
   "outputs": [],
   "source": [
    "m = np.sum(FT != 0)\n",
    "print('M/N = 1/%d'  %(n0**2/m))"
   ]
  },
  {
   "cell_type": "markdown",
   "metadata": {},
   "source": [
    "__Exercise 2__\n",
    "\n",
    "Compute the value of the threshold $T$ so that the number of\n",
    "coefficients is $M$. Display the corresponding approximation\n",
    "$f_M$."
   ]
  },
  {
   "cell_type": "code",
   "execution_count": null,
   "metadata": {
    "collapsed": false
   },
   "outputs": [],
   "source": [
    "#solutions.exo2()"
   ]
  },
  {
   "cell_type": "code",
   "execution_count": null,
   "metadata": {
    "collapsed": false
   },
   "outputs": [],
   "source": [
    "## Insert your code here.\n",
    "F = pyl.fft2(f)\n",
    "a = np.sort(np.ravel(abs(F)))[::-1] #sort a 1D copy of F in descending order\n",
    "T = a[M]\n",
    "FT = np.multiply(F,(abs(F) > T))\n",
    "fM = np.real(pyl.ifft2(FT))\n",
    "plt.figure(figsize = (5,5))\n",
    "imageplot(clamp(fM), \"Non-linear, Fourier, SNR = %.1f dB\" %snr(f, fM))"
   ]
  },
  {
   "cell_type": "markdown",
   "metadata": {},
   "source": [
    "Wavelet Transform\n",
    "-----------------\n",
    "A wavelet basis $ \\Bb = \\{ \\psi_m \\}_m $\n",
    "is obtained over the continuous domain by translating and\n",
    "dilating three mother wavelet functions $ \\{\\psi^V,\\psi^H,\\psi^D\\} $.\n",
    "\n",
    "\n",
    "Each wavelet atom is defined as\n",
    "$$ \\psi_m(x) = \\psi_{j,n}^k(x) = \\frac{1}{2^j}\\psi^k\\pa{ \\frac{x-2^j n}{2^j} } $$\n",
    "\n",
    "The scale (size of the support) is $2^j$ and the position is\n",
    "$2^j(n_1,n_2)$. The index is $ m=(k,j,n) $ for $\\{ j \\leq 0 \\}$.\n",
    "\n",
    "\n",
    "The wavelet transform computes all the inner products\n",
    "$ \\{ \\dotp{f}{\\psi_{j,n}^k} \\}_{k,j,n} $.\n",
    "\n",
    "\n",
    "Set the minimum scale for the transform to be 0."
   ]
  },
  {
   "cell_type": "code",
   "execution_count": null,
   "metadata": {
    "collapsed": false
   },
   "outputs": [],
   "source": [
    "Jmin = 0"
   ]
  },
  {
   "cell_type": "markdown",
   "metadata": {},
   "source": [
    "Perform the wavelet transform,  $f_w$ stores all the wavelet coefficients."
   ]
  },
  {
   "cell_type": "code",
   "execution_count": null,
   "metadata": {
    "collapsed": false
   },
   "outputs": [],
   "source": [
    "from nt_toolbox.perform_wavelet_transf import *\n",
    "\n",
    "fw = perform_wavelet_transf(f, Jmin, + 1)"
   ]
  },
  {
   "cell_type": "markdown",
   "metadata": {},
   "source": [
    "Display the transformed coefficients."
   ]
  },
  {
   "cell_type": "code",
   "execution_count": null,
   "metadata": {
    "collapsed": false
   },
   "outputs": [],
   "source": [
    "plt.figure(figsize=(10,10))\n",
    "\n",
    "plot_wavelet(fw)\n",
    "plt.title('Wavelet coefficients')\n",
    "\n",
    "plt.show()"
   ]
  },
  {
   "cell_type": "markdown",
   "metadata": {},
   "source": [
    "Wavelet Approximation\n",
    "---------------------\n",
    "Linear wavelet approximation with $M=2^{-j_0}$ coefficients is obtained\n",
    "by keeping only the coarse scale (large support) wavelets:\n",
    "\n",
    "$$ I_M = \\enscond{(k,j,n)}{ j \\geq j_0 }. $$\n",
    "\n",
    "\n",
    "It corresponds to setting to zero all the coefficients excepted those\n",
    "that are on the upper left corner of $f_w$."
   ]
  },
  {
   "cell_type": "markdown",
   "metadata": {},
   "source": [
    "__Exercise 3__\n",
    "\n",
    "Perform linear approximation with $M$ wavelet coefficients."
   ]
  },
  {
   "cell_type": "code",
   "execution_count": null,
   "metadata": {
    "collapsed": false
   },
   "outputs": [],
   "source": [
    "#solutions.exo3()"
   ]
  },
  {
   "cell_type": "code",
   "execution_count": null,
   "metadata": {
    "collapsed": false
   },
   "outputs": [],
   "source": [
    "## Insert your code here.\n",
    "q = int(np.sqrt(M))\n",
    "fw = perform_wavelet_transf(f, Jmin, +1)\n",
    "fw1 = np.zeros([n0, n0])\n",
    "fw1[:q, :q] = fw[:q, :q]\n",
    "fM = perform_wavelet_transf(fw1, Jmin, -1)\n",
    "plt.figure(figsize=(5,5))\n",
    "imageplot(clamp(fM),  \"Linear, Wavelets, SNR = %.1f dB\" %snr(f, fM))"
   ]
  },
  {
   "cell_type": "markdown",
   "metadata": {},
   "source": [
    "A non-linear approximation is obtained by keeping the $M$ largest wavelet\n",
    "coefficients.\n",
    "\n",
    "\n",
    "As already said, this is equivalently computed by a non-linear hard\n",
    "thresholding.\n",
    "\n",
    "\n",
    "Select a threshold."
   ]
  },
  {
   "cell_type": "code",
   "execution_count": null,
   "metadata": {
    "collapsed": false
   },
   "outputs": [],
   "source": [
    "T = .15"
   ]
  },
  {
   "cell_type": "markdown",
   "metadata": {},
   "source": [
    "Perform hard thresholding."
   ]
  },
  {
   "cell_type": "code",
   "execution_count": null,
   "metadata": {
    "collapsed": false
   },
   "outputs": [],
   "source": [
    "fwT = np.multiply(fw,(abs(fw) > T))"
   ]
  },
  {
   "cell_type": "markdown",
   "metadata": {},
   "source": [
    "Display the thresholded coefficients."
   ]
  },
  {
   "cell_type": "code",
   "execution_count": null,
   "metadata": {
    "collapsed": false
   },
   "outputs": [],
   "source": [
    "plt.figure(figsize=(15,15))\n",
    "\n",
    "plt.subplot(1, 2, 1)\n",
    "plot_wavelet(fw)\n",
    "plt.title('Original coefficients')\n",
    "\n",
    "plt.subplot(1, 2, 2)\n",
    "plot_wavelet(fwT)\n",
    "plt.title('Thresholded coefficients')\n",
    "\n",
    "plt.show()"
   ]
  },
  {
   "cell_type": "markdown",
   "metadata": {},
   "source": [
    "Perform reconstruction."
   ]
  },
  {
   "cell_type": "code",
   "execution_count": null,
   "metadata": {
    "collapsed": false
   },
   "outputs": [],
   "source": [
    "fM = perform_wavelet_transf(fwT, Jmin, -1)"
   ]
  },
  {
   "cell_type": "markdown",
   "metadata": {},
   "source": [
    "Display approximation."
   ]
  },
  {
   "cell_type": "code",
   "execution_count": null,
   "metadata": {
    "collapsed": false
   },
   "outputs": [],
   "source": [
    "plt.figure(figsize=(5,5))\n",
    "imageplot(clamp(fM), \"Approximation, SNR,  = %.1f dB\" %snr(f, fM))"
   ]
  },
  {
   "cell_type": "markdown",
   "metadata": {},
   "source": [
    "__Exercise 4__\n",
    "\n",
    "Perform non-linear approximation with $M$ wavelet coefficients by\n",
    "chosing the correct value for $T$. Store the result in the variable\n",
    "$f_M$."
   ]
  },
  {
   "cell_type": "code",
   "execution_count": null,
   "metadata": {
    "collapsed": false
   },
   "outputs": [],
   "source": [
    "#solutions.exo4()"
   ]
  },
  {
   "cell_type": "code",
   "execution_count": null,
   "metadata": {
    "collapsed": false
   },
   "outputs": [],
   "source": [
    "## Insert your code here.\n",
    "\n",
    "fw = perform_wavelet_transf(f, Jmin, +1)\n",
    "a = np.sort(np.ravel(abs(fw)))[::-1] #sort a 1D copy of fw in descending order\n",
    "T = a[M]\n",
    "fw1 = np.multiply(fw,(abs(fw) > T))\n",
    "fM = perform_wavelet_transf(fw1, Jmin, -1)\n",
    "plt.figure(figsize=(5,5))\n",
    "imageplot(clamp(fM), \"Non-linear, Wavelets, SNR = %.1f dB\" %snr(f, fM))"
   ]
  },
  {
   "cell_type": "markdown",
   "metadata": {},
   "source": [
    "Compare two 1D profile (lines of the image).\n",
    "Note how the ringing artifacts are reduced compared to the Fourier\n",
    "approximation."
   ]
  },
  {
   "cell_type": "code",
   "execution_count": null,
   "metadata": {
    "collapsed": false
   },
   "outputs": [],
   "source": [
    "plt.figure(figsize=(7,6))\n",
    "\n",
    "plt.subplot(2, 1, 1)\n",
    "plt.plot(f[:,n0//2])\n",
    "plt.title('f')\n",
    "\n",
    "plt.subplot(2, 1, 2)\n",
    "plt.plot(fM[:,n0//2])\n",
    "plt.title('f_M')\n",
    "\n",
    "plt.show()"
   ]
  }
 ],
 "metadata": {
  "anaconda-cloud": {},
  "kernelspec": {
   "display_name": "Python 3",
   "language": "python",
   "name": "python3"
  },
  "language_info": {
   "codemirror_mode": {
    "name": "ipython",
    "version": 3
   },
   "file_extension": ".py",
   "mimetype": "text/x-python",
   "name": "python",
   "nbconvert_exporter": "python",
   "pygments_lexer": "ipython3",
   "version": "3.4.5"
  }
 },
 "nbformat": 4,
 "nbformat_minor": 0
}
