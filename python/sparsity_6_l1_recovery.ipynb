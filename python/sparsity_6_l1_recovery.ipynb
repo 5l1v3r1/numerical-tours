{
 "cells": [
  {
   "cell_type": "markdown",
   "metadata": {},
   "source": [
    "Performance of Sparse Recovery Using L1 Minimization\n",
    "====================================================\n",
    "\n",
    "*Important:* Please read the [installation page](http://gpeyre.github.io/numerical-tours/installation_python/) for details about how to install the toolboxes.\n",
    "$\\newcommand{\\dotp}[2]{\\langle #1, #2 \\rangle}$\n",
    "$\\newcommand{\\enscond}[2]{\\lbrace #1, #2 \\rbrace}$\n",
    "$\\newcommand{\\pd}[2]{ \\frac{ \\partial #1}{\\partial #2} }$\n",
    "$\\newcommand{\\umin}[1]{\\underset{#1}{\\min}\\;}$\n",
    "$\\newcommand{\\umax}[1]{\\underset{#1}{\\max}\\;}$\n",
    "$\\newcommand{\\umin}[1]{\\underset{#1}{\\min}\\;}$\n",
    "$\\newcommand{\\uargmin}[1]{\\underset{#1}{argmin}\\;}$\n",
    "$\\newcommand{\\norm}[1]{\\|#1\\|}$\n",
    "$\\newcommand{\\abs}[1]{\\left|#1\\right|}$\n",
    "$\\newcommand{\\choice}[1]{ \\left\\{  \\begin{array}{l} #1 \\end{array} \\right. }$\n",
    "$\\newcommand{\\pa}[1]{\\left(#1\\right)}$\n",
    "$\\newcommand{\\diag}[1]{{diag}\\left( #1 \\right)}$\n",
    "$\\newcommand{\\qandq}{\\quad\\text{and}\\quad}$\n",
    "$\\newcommand{\\qwhereq}{\\quad\\text{where}\\quad}$\n",
    "$\\newcommand{\\qifq}{ \\quad \\text{if} \\quad }$\n",
    "$\\newcommand{\\qarrq}{ \\quad \\Longrightarrow \\quad }$\n",
    "$\\newcommand{\\ZZ}{\\mathbb{Z}}$\n",
    "$\\newcommand{\\CC}{\\mathbb{C}}$\n",
    "$\\newcommand{\\RR}{\\mathbb{R}}$\n",
    "$\\newcommand{\\EE}{\\mathbb{E}}$\n",
    "$\\newcommand{\\Zz}{\\mathcal{Z}}$\n",
    "$\\newcommand{\\Ww}{\\mathcal{W}}$\n",
    "$\\newcommand{\\Vv}{\\mathcal{V}}$\n",
    "$\\newcommand{\\Nn}{\\mathcal{N}}$\n",
    "$\\newcommand{\\NN}{\\mathcal{N}}$\n",
    "$\\newcommand{\\Hh}{\\mathcal{H}}$\n",
    "$\\newcommand{\\Bb}{\\mathcal{B}}$\n",
    "$\\newcommand{\\Ee}{\\mathcal{E}}$\n",
    "$\\newcommand{\\Cc}{\\mathcal{C}}$\n",
    "$\\newcommand{\\Gg}{\\mathcal{G}}$\n",
    "$\\newcommand{\\Ss}{\\mathcal{S}}$\n",
    "$\\newcommand{\\Pp}{\\mathcal{P}}$\n",
    "$\\newcommand{\\Ff}{\\mathcal{F}}$\n",
    "$\\newcommand{\\Xx}{\\mathcal{X}}$\n",
    "$\\newcommand{\\Mm}{\\mathcal{M}}$\n",
    "$\\newcommand{\\Ii}{\\mathcal{I}}$\n",
    "$\\newcommand{\\Dd}{\\mathcal{D}}$\n",
    "$\\newcommand{\\Ll}{\\mathcal{L}}$\n",
    "$\\newcommand{\\Tt}{\\mathcal{T}}$\n",
    "$\\newcommand{\\si}{\\sigma}$\n",
    "$\\newcommand{\\al}{\\alpha}$\n",
    "$\\newcommand{\\la}{\\lambda}$\n",
    "$\\newcommand{\\ga}{\\gamma}$\n",
    "$\\newcommand{\\Ga}{\\Gamma}$\n",
    "$\\newcommand{\\La}{\\Lambda}$\n",
    "$\\newcommand{\\si}{\\sigma}$\n",
    "$\\newcommand{\\Si}{\\Sigma}$\n",
    "$\\newcommand{\\be}{\\beta}$\n",
    "$\\newcommand{\\de}{\\delta}$\n",
    "$\\newcommand{\\De}{\\Delta}$\n",
    "$\\newcommand{\\phi}{\\varphi}$\n",
    "$\\newcommand{\\th}{\\theta}$\n",
    "$\\newcommand{\\om}{\\omega}$\n",
    "$\\newcommand{\\Om}{\\Omega}$"
   ]
  },
  {
   "cell_type": "markdown",
   "metadata": {},
   "source": [
    "This tour explores theoritical garantees for the performance of recovery\n",
    "using $\\ell^1$ minimization."
   ]
  },
  {
   "cell_type": "code",
   "execution_count": 1,
   "metadata": {
    "collapsed": false
   },
   "outputs": [],
   "source": [
    "from __future__ import division\n",
    "\n",
    "import numpy as np\n",
    "import scipy as scp\n",
    "import pylab as pyl\n",
    "import matplotlib.pyplot as plt\n",
    "\n",
    "from nt_toolbox.general import *\n",
    "from nt_toolbox.signal import *\n",
    "#from nt_solutions import sparsity_6_l1_recovery as solutions\n",
    "\n",
    "import warnings\n",
    "warnings.filterwarnings('ignore')\n",
    "\n",
    "%matplotlib inline\n",
    "%load_ext autoreload\n",
    "%autoreload 2"
   ]
  },
  {
   "cell_type": "markdown",
   "metadata": {},
   "source": [
    "Sparse $\\ell^1$ Recovery\n",
    "--------------------------\n",
    "We consider the inverse problem of estimating an unknown signal $x_0 \\in\n",
    "\\RR^N$ from noisy measurements $y=\\Phi x_0 + w \\in \\RR^P$ where $\\Phi \\in \\RR^{P \\times N}$\n",
    "is a measurement matrix with $P \\leq N$, and $w$ is some noise.\n",
    "\n",
    "\n",
    "This tour is focused on recovery using $\\ell^1$ minimization\n",
    "$$ x^\\star \\in \\uargmin{x \\in \\RR^N} \\frac{1}{2}\\norm{y-\\Phi x}^2 + \\la \\normu{x}. $$\n",
    "\n",
    "\n",
    "Where there is no noise, we consider the problem $ \\Pp(y) $\n",
    "$$ x^\\star \\in \\uargmin{\\Phi x = y} \\normu{x}. $$\n",
    "\n",
    "\n",
    "We are not concerned here about the actual way to solve this convex\n",
    "problem (see the other numerical tours on sparse regularization) but\n",
    "rather on the theoritical analysis of wether $x^\\star$ is close to\n",
    "$x_0$.\n",
    "\n",
    "\n",
    "More precisely, we consider the following three key properties\n",
    "\n",
    "\n",
    "* *Noiseless identifiability*: $x_0$ is the unique solution of $\n",
    "\\Pp(y) $ for $y=\\Phi x_0$.\n",
    "* *Robustess to small noise*: one has $\\norm{x^\\star - x_0} =\n",
    "O(\\norm{w})$ for $y=\\Phi x_0+w$ if $\\norm{w}$ is smaller than\n",
    "an arbitrary small constant that depends on $x_0$ if $\\la$ is well chosen according to $\\norm{w}$.\n",
    "* *Robustess to bounded noise:* same as above, but $\\norm{w}$ can be\n",
    "arbitrary.\n",
    "\n",
    "\n",
    "\n",
    "\n",
    "Note that noise robustness implies identifiability, but the converse\n",
    "is not true in general.\n",
    "\n",
    "\n",
    "Coherence Criteria\n",
    "------------------\n",
    "The simplest criteria for identifiality are based on the coherence of the\n",
    "matrix $\\Phi$ and depends only on the sparsity $\\norm{x_0}_0$ of the\n",
    "original signal. This criteria is thus not very precise and gives very pessimistic\n",
    "bounds.\n",
    "\n",
    "\n",
    "The coherence of the matrix $\\Phi = ( \\phi_i )_{i=1}^N \\in \\RR^{P \\times\n",
    "N}$ with unit norm colum $\\norm{\\phi_i}=1$ is\n",
    "$$ \\mu(\\Phi) = \\umax{i \\neq j} \\abs{\\dotp{\\phi_i}{\\phi_j}}. $$\n",
    "\n",
    "\n",
    "\n",
    "Compute the correlation matrix (remove the diagonal of 1's)."
   ]
  },
  {
   "cell_type": "code",
   "execution_count": 2,
   "metadata": {
    "collapsed": false
   },
   "outputs": [],
   "source": [
    "remove_diag = lambda C: C-np.diag(np.diag(C))\n",
    "Correlation = lambda Phi: remove_diag(abs(np.dot(np.transpose(Phi),Phi)))"
   ]
  },
  {
   "cell_type": "markdown",
   "metadata": {},
   "source": [
    "Compute the coherence $\\mu(\\Phi)$."
   ]
  },
  {
   "cell_type": "code",
   "execution_count": 3,
   "metadata": {
    "collapsed": false
   },
   "outputs": [],
   "source": [
    "mu = lambda Phi: np.max(Correlation(Phi))"
   ]
  },
  {
   "cell_type": "markdown",
   "metadata": {},
   "source": [
    "The condition\n",
    "$$ \\normz{x_0} < \\frac{1}{2}\\pa{1 + \\frac{1}{\\mu(\\Phi)}} $$\n",
    "implies that $x_0$ is identifiable, and also implies to robustess to small and bounded noise.\n",
    "\n",
    "\n",
    "Equivalently, this condition can be written as $\\text{Coh}(\\normz{x_0})<1$\n",
    "where\n",
    "$$ \\text{Coh}(k) = \\frac{k \\mu(\\Phi)}{ 1 - (k-1)\\mu(\\Phi) } $$"
   ]
  },
  {
   "cell_type": "code",
   "execution_count": 4,
   "metadata": {
    "collapsed": false
   },
   "outputs": [],
   "source": [
    "Coh = lambda Phi, k: (k*mu(Phi))/(1 - (k-1)*mu(Phi))"
   ]
  },
  {
   "cell_type": "markdown",
   "metadata": {},
   "source": [
    "Generate a matrix with random unit columns in $\\RR^P$."
   ]
  },
  {
   "cell_type": "code",
   "execution_count": 5,
   "metadata": {
    "collapsed": false
   },
   "outputs": [],
   "source": [
    "from numpy import random\n",
    "\n",
    "normalize = lambda Phi:  Phi/np.tile(np.sqrt(np.sum(Phi**2,0)), (np.shape(Phi)[0],1))\n",
    "PhiRand = lambda P, N: normalize(random.randn(P, N))\n",
    "Phi = PhiRand(250, 1000)"
   ]
  },
  {
   "cell_type": "markdown",
   "metadata": {},
   "source": [
    "Compute the coherence and the maximum possible sparsity to ensure\n",
    "recovery using the coherence bound."
   ]
  },
  {
   "cell_type": "code",
   "execution_count": 6,
   "metadata": {
    "collapsed": false
   },
   "outputs": [
    {
     "name": "stdout",
     "output_type": "stream",
     "text": [
      "Coherence:    0.29\n",
      "Sparsity max: 2\n"
     ]
    }
   ],
   "source": [
    "c = mu(Phi)\n",
    "print(\"Coherence:    %.2f\" %c)\n",
    "print(\"Sparsity max: %d\" %np.floor(1/2*(1 + 1/c)))"
   ]
  },
  {
   "cell_type": "markdown",
   "metadata": {},
   "source": [
    "__Exercise 1__\n",
    "\n",
    "Display how the average coherence of a random matrix\n",
    "decays with the redundancy $\\eta = P/N$ of\n",
    "the matrix $\\Phi$. Can you derive an empirical law between\n",
    "$P$ and the maximal sparsity?"
   ]
  },
  {
   "cell_type": "code",
   "execution_count": 7,
   "metadata": {
    "collapsed": false
   },
   "outputs": [],
   "source": [
    "#solutions.exo1()"
   ]
  },
  {
   "cell_type": "code",
   "execution_count": 8,
   "metadata": {
    "collapsed": false
   },
   "outputs": [
    {
     "data": {
      "image/png": "[encoded data removed]",
      "text/plain": [
       "<matplotlib.figure.Figure at 0x3d25be0>"
      ]
     },
     "metadata": {},
     "output_type": "display_data"
    }
   ],
   "source": [
    "## Insert your code here.\n",
    "\n",
    "eta_list = np.linspace(.1, 1, 10)\n",
    "ntrials = 20\n",
    "mu_mean = []\n",
    "mu_std = []\n",
    "N = 500\n",
    "for i in range(len(eta_list)):\n",
    "    eta = eta_list[i]\n",
    "    P = np.round(eta*N)\n",
    "    c = []\n",
    "    \n",
    "    for k in range(ntrials):\n",
    "        c = c + [mu(PhiRand(P, N))]\n",
    "        \n",
    "    mu_mean = mu_mean + [np.mean(c)]\n",
    "    mu_std = mu_std + [np.std(c)]\n",
    "    \n",
    "k_mean = 1/2*(1 + 1/np.asarray(mu_mean))\n",
    "\n",
    "plt.figure(figsize = (10,7))\n",
    "\n",
    "plt.subplot(2,1,1)\n",
    "plt.plot(eta_list, mu_mean, linewidth=2)\n",
    "plt.xlabel(\"$\\eta$\")\n",
    "plt.ylabel(\"$mu$\")\n",
    "\n",
    "plt.subplot(2,1,2)\n",
    "plt.plot(np.log10(eta_list), np.log10(k_mean), linewidth=2)\n",
    "plt.xlabel(\"$\\log_{10}(\\eta)$\")\n",
    "plt.ylabel(\"$\\log_{10}(1/ 2(1 + 1/ \\mu))$\")\n",
    "\n",
    "plt.show()"
   ]
  },
  {
   "cell_type": "markdown",
   "metadata": {},
   "source": [
    "Support and Sign-based Criteria\n",
    "-------------------------------\n",
    "In the following we will consider the support\n",
    "$$ \\text{supp}(x_0) = \\enscond{i}{x_0(i) \\neq 0} $$\n",
    "of the vector $x_0$. The co-support is its complementary $I^c$."
   ]
  },
  {
   "cell_type": "code",
   "execution_count": 9,
   "metadata": {
    "collapsed": false
   },
   "outputs": [],
   "source": [
    "supp   = lambda s: np.where(abs(s) > 1e-5)[0]\n",
    "cosupp = lambda s: np.where(abs(s) < 1e-5)[0]"
   ]
  },
  {
   "cell_type": "markdown",
   "metadata": {},
   "source": [
    "Given some support $ I \\subset \\{0,\\ldots,N-1\\} $, we will denote as\n",
    "$ \\Phi = (\\phi_m)_{m \\in I} \\in \\RR^{N \\times \\abs{I}}$ the\n",
    "sub-matrix extracted from $\\Phi$ using the columns indexed by $I$.\n",
    "\n",
    "\n",
    "J.J. Fuchs introduces a criteria $F$ for identifiability that depends on the\n",
    "sign of $x_0$.\n",
    "\n",
    "\n",
    "J.J. Fuchs. _Recovery of exact sparse representations in the presence of\n",
    "bounded noise._ IEEE Trans. Inform. Theory, 51(10), p. 3601-3608, 2005\n",
    "\n",
    "\n",
    "Under the condition that $\\Phi_I$ has full rank, the $F$ measure\n",
    "of a sign vector $s \\in \\{+1,0,-1\\}^N$ with $\\text{supp}(s)=I$ reads\n",
    "$$ \\text{F}(s) = \\norm{ \\Psi_I s_I }_\\infty\n",
    "      \\qwhereq \\Psi_I = \\Phi_{I^c}^* \\Phi_I^{+,*} $$\n",
    "where $ A^+ = (A^* A)^{-1} A^* $ is the pseudo inverse of a\n",
    "matrix $A$.\n",
    "\n",
    "\n",
    "The condition\n",
    "$$ \\text{F}(\\text{sign}(x_0))<1 $$\n",
    "implies that $x_0$ is identifiable, and also implies to robustess to\n",
    "small noise. It does not however imply robustess to a bounded noise.\n",
    "\n",
    "\n",
    "Compute $\\Psi_I$ matrix."
   ]
  },
  {
   "cell_type": "code",
   "execution_count": 10,
   "metadata": {
    "collapsed": false
   },
   "outputs": [],
   "source": [
    "from numpy import linalg\n",
    "\n",
    "PsiI = lambda Phi,I: np.dot(np.transpose(Phi[:,np.setdiff1d(np.arange(0,np.shape(Phi)[1]), I)]),np.transpose(linalg.pinv(Phi[:,I])))"
   ]
  },
  {
   "cell_type": "markdown",
   "metadata": {},
   "source": [
    "Compute $\\text{F}(s)$."
   ]
  },
  {
   "cell_type": "code",
   "execution_count": 11,
   "metadata": {
    "collapsed": false
   },
   "outputs": [],
   "source": [
    "F = lambda Phi,s: linalg.norm(np.dot(PsiI(Phi, supp(s)),s[supp(s)]), np.float(\"inf\"))"
   ]
  },
  {
   "cell_type": "markdown",
   "metadata": {},
   "source": [
    "The Exact Recovery Criterion (ERC) of a support $I$,\n",
    "introduced by Tropp in\n",
    "\n",
    "\n",
    "J. A. Tropp. _Just relax: Convex programming methods for identifying\n",
    "sparse signals._ IEEE Trans. Inform. Theory, vol. 52, num. 3, pp. 1030-1051, Mar. 2006.\n",
    "\n",
    "\n",
    "Under the condition that $\\Phi_I$ has full rank, this condition reads\n",
    "$$ \\text{ERC}(I) = \\norm{\\Psi_{I}}_{\\infty,\\infty}\n",
    "      =  \\umax{j \\in I^c} \\norm{ \\Phi_I^+ \\phi_j }_1. $$\n",
    "where $\\norm{A}_{\\infty,\\infty}$ is the $\\ell^\\infty-\\ell^\\infty$\n",
    "operator norm of a matrix $A$."
   ]
  },
  {
   "cell_type": "code",
   "execution_count": 12,
   "metadata": {
    "collapsed": false
   },
   "outputs": [],
   "source": [
    "erc = lambda Phi, I: linalg.norm(PsiI(Phi, I), np.float(\"inf\"))"
   ]
  },
  {
   "cell_type": "markdown",
   "metadata": {},
   "source": [
    "The condition\n",
    "$$ \\text{ERC}(\\text{supp}(x_0))<1 $$\n",
    "implies that $x_0$ is identifiable, and also implies to robustess to\n",
    "small and bounded noise.\n",
    "\n",
    "\n",
    "One can prove that the ERC is the maximum of the F criterion for all signs of the given\n",
    "support\n",
    "$$ \\text{ERC}(I) = \\umax{ s, \\text{supp}(s) \\subset I } \\text{F}(s). $$\n",
    "\n",
    "\n",
    "The weak-ERC is an approximation of the ERC using only the correlation\n",
    "matrix\n",
    "$$ \\text{w-ERC}(I) = \\frac{\n",
    "      \\umax{j \\in I^c} \\sum_{i \\in I} \\abs{\\dotp{\\phi_i}{\\phi_j}}\n",
    " }{\n",
    "      1-\\umax{j \\in I} \\sum_{i \\neq j \\in I} \\abs{\\dotp{\\phi_i}{\\phi_j}}\n",
    " }$$"
   ]
  },
  {
   "cell_type": "code",
   "execution_count": 13,
   "metadata": {
    "collapsed": false
   },
   "outputs": [],
   "source": [
    "g = lambda C,I: np.sum(C[:,I], 1)\n",
    "werc_g = lambda g,I,J: np.max(g[J])/(1-np.max(g[I]))\n",
    "werc = lambda Phi,I: werc_g(g(Correlation(Phi), I), I, np.setdiff1d(np.arange(0,np.shape(Phi)[1]), I))"
   ]
  },
  {
   "cell_type": "markdown",
   "metadata": {},
   "source": [
    "One has, if $\\text{w-ERC}(I)>0$,  for $ I = \\text{supp}(s) $,\n",
    "$$ \\text{F}(s) \\leq \\text{ERC}(I) \\leq \\text{w-ERC}(I) \\leq\n",
    "      \\text{Coh}(\\abs{I}). $$\n",
    "\n",
    "\n",
    "This shows in particular that the condition\n",
    "$$ \\text{w-ERC}(\\text{supp}(x_0))<1 $$\n",
    "implies identifiability and robustess to small and bounded noise."
   ]
  },
  {
   "cell_type": "markdown",
   "metadata": {},
   "source": [
    "__Exercise 2__\n",
    "\n",
    "Show that this inequality holds on a given matrix.\n",
    "What can you conclude about the sharpness of these criteria ?"
   ]
  },
  {
   "cell_type": "code",
   "execution_count": 14,
   "metadata": {
    "collapsed": false
   },
   "outputs": [],
   "source": [
    "#solutions.exo2()"
   ]
  },
  {
   "cell_type": "code",
   "execution_count": 15,
   "metadata": {
    "collapsed": false
   },
   "outputs": [
    {
     "name": "stdout",
     "output_type": "stream",
     "text": [
      "N = 2000, P = 1990, |I| = 6\n",
      "F(s)     = 0.18\n",
      "ERC(I)   = 0.27\n",
      "w-ERC(s) = 0.30\n",
      "Coh(|s|) = 1.62\n"
     ]
    }
   ],
   "source": [
    "## Insert your code here.\n",
    "\n",
    "N = 2000\n",
    "P = N-10\n",
    "Phi = PhiRand(N, P)\n",
    "s = np.zeros(N)\n",
    "s[:6] = 1\n",
    "I = supp(s)\n",
    "k = len(I)\n",
    "\n",
    "print(\"N = %d, P = %d, |I| = %d\" %(N,P,k))\n",
    "print(\"F(s)     = %.2f\"  %F(Phi, s))\n",
    "print(\"ERC(I)   = %.2f\"  %erc(Phi, I))\n",
    "print(\"w-ERC(s) = %.2f\" %werc(Phi, I))\n",
    "print(\"Coh(|s|) = %.2f\" %Coh(Phi, k))"
   ]
  },
  {
   "cell_type": "markdown",
   "metadata": {},
   "source": [
    "__Exercise 3__\n",
    "\n",
    "For a given matrix $\\Phi$ generated using PhiRand, draw as a function of the sparsity $k$\n",
    "the probability that a random sign vector $s$ of sparsity\n",
    "$\\norm{s}_0=k$ satisfies the conditions $\\text{F}(x_0)<1$,\n",
    "$\\text{ERC}(x_0)<1$ and $\\text{w-ERC}(x_0)<1$"
   ]
  },
  {
   "cell_type": "code",
   "execution_count": 16,
   "metadata": {
    "collapsed": false
   },
   "outputs": [],
   "source": [
    "#solutions.exo3()"
   ]
  },
  {
   "cell_type": "code",
   "execution_count": 17,
   "metadata": {
    "collapsed": false
   },
   "outputs": [
    {
     "data": {
      "image/png": "[encoded data removed]",
      "text/plain": [
       "<matplotlib.figure.Figure at 0x87b7940>"
      ]
     },
     "metadata": {},
     "output_type": "display_data"
    }
   ],
   "source": [
    "## Insert your code here.\n",
    "\n",
    "N = 600\n",
    "P = N/2\n",
    "Phi = PhiRand(P, N)\n",
    "klist = np.round(np.linspace(1, P/7., 20))\n",
    "ntrials = 60\n",
    "proba = np.zeros([len(klist),3])\n",
    "\n",
    "for i in range(len(klist)):\n",
    "    proba[i,:3] = 0\n",
    "    k = klist[i]\n",
    "    for j in range(ntrials):\n",
    "        s = np.zeros(N)\n",
    "        I = random.permutation(N)\n",
    "        I = I[:k]\n",
    "        s[I] = np.sign(random.randn(k, 1))\n",
    "        proba[i, 0] = proba[i, 0] + (F(Phi, s) < 1)\n",
    "        proba[i, 1] = proba[i, 1] + (erc(Phi, I) < 1)\n",
    "        proba[i, 2] = proba[i, 2] + (werc(Phi, I) > 0)*(werc(Phi, I) < 1)\n",
    "        \n",
    "plt.figure(figsize = (8,5))\n",
    "plt.plot(klist, proba/ntrials, linewidth=2)\n",
    "plt.xlabel(\"k\")\n",
    "plt.legend(['F <1', 'ERC <1', 'w-ERC <1'])\n",
    "plt.title(\"N = %d, P = %d\" %(N,P))\n",
    "plt.show()"
   ]
  },
  {
   "cell_type": "markdown",
   "metadata": {},
   "source": [
    "Restricted Isometry Criteria\n",
    "----------------------------\n",
    "The restricted isometry constants $\\de_k^1,\\de_k^2$ of a matrix $\\Phi$ are the\n",
    "smallest $\\de^1,\\de^2$ that satisfy\n",
    "$$ \\forall x \\in \\RR^N, \\quad \\norm{x}_0 \\leq k \\qarrq\n",
    "      (1-\\de^1)\\norm{x}^2 \\leq \\norm{\\Phi x}^2 \\leq (1+\\de^2)\\norm{x}^2.  $$\n",
    "\n",
    "\n",
    "E. Candes shows in\n",
    "\n",
    "\n",
    "E. J. Cand s. _The restricted isometry property and its implications for\n",
    "compressed sensing_. Compte Rendus de l'Academie des Sciences, Paris, Serie I, 346 589-592\n",
    "\n",
    "\n",
    "that if\n",
    "$$ \\de_{2k} \\leq \\sqrt{2}-1 ,$$\n",
    "then $\\norm{x_0} \\leq k$ implies identifiability as well as robustness to small and bounded noise.\n",
    "\n",
    "\n",
    "The stability constant $\\la^1(A), \\la^2(A)$ of a matrix\n",
    "$A = \\Phi_I$ extracted from $\\Phi$ is the smallest $\\tilde \\la_1,\\tilde \\la_2$ such that\n",
    "$$ \\forall \\al \\in \\RR^{\\abs{I}}, \\quad\n",
    "      (1-\\tilde\\la_1)\\norm{\\al}^2 \\leq \\norm{A \\al}^2 \\leq (1+\\tilde \\la_2)\\norm{\\al}^2.  $$\n",
    "\n",
    "\n",
    "These constants $\\la^1(A), \\la^2(A)$ are easily computed from the\n",
    "largest and smallest eigenvalues of $A^* A \\in \\RR^{\\abs{I} \\times \\abs{I}}$"
   ]
  },
  {
   "cell_type": "code",
   "execution_count": 18,
   "metadata": {
    "collapsed": false
   },
   "outputs": [],
   "source": [
    "minmax = lambda v: (1-np.min(v), max(v)-1)\n",
    "ric = lambda A: minmax(linalg.eig(np.dot(np.transpose(A),A))[0])"
   ]
  },
  {
   "cell_type": "markdown",
   "metadata": {},
   "source": [
    "The restricted isometry constant of $\\Phi$ are computed as the largest\n",
    "stability constants of extracted matrices\n",
    "$$ \\de^\\ell_k = \\umax{ \\abs{I}=k } \\la^\\ell( \\Phi_I ).  $$\n",
    "\n",
    "\n",
    "The eigenvalues of $\\Phi$ are essentially contained in the\n",
    "interval $ [a,b] $ where $a=(1-\\sqrt{\\be})^2$ and $b=(1+\\sqrt{\\be})^2$\n",
    "with $\\beta = k/P$\n",
    "More precisely, as $k=\\be P$ tends to infinity, the distribution of the\n",
    "eigenvalues tends to the Marcenko-Pastur law\n",
    "$ f_\\be(\\la) = \\frac{1}{2\\pi \\be \\la}\\sqrt{ (\\la-b)^+ (a-\\la)^+ }. $"
   ]
  },
  {
   "cell_type": "markdown",
   "metadata": {},
   "source": [
    "__Exercise 4__\n",
    "\n",
    "Display, for an increasing value of $k$ the histogram of repartition\n",
    "of the eigenvalues $A^* A$ where $A$ is a Gaussian matrix of size $(P,k)$ and\n",
    "variance $1/P$. For this, accumulate the eigenvalues for many\n",
    "realizations of $A$."
   ]
  },
  {
   "cell_type": "code",
   "execution_count": 19,
   "metadata": {
    "collapsed": false
   },
   "outputs": [],
   "source": [
    "#solutions.exo4()"
   ]
  },
  {
   "cell_type": "code",
   "execution_count": 20,
   "metadata": {
    "collapsed": false
   },
   "outputs": [
    {
     "data": {
      "image/png": "[encoded data removed]",
      "text/plain": [
       "<matplotlib.figure.Figure at 0xb4a58d0>"
      ]
     },
     "metadata": {},
     "output_type": "display_data"
    },
    {
     "data": {
      "image/png": "[encoded data removed]",
      "text/plain": [
       "<matplotlib.figure.Figure at 0xb543f98>"
      ]
     },
     "metadata": {},
     "output_type": "display_data"
    },
    {
     "data": {
      "image/png": "[encoded data removed]",
      "text/plain": [
       "<matplotlib.figure.Figure at 0xb899c50>"
      ]
     },
     "metadata": {},
     "output_type": "display_data"
    }
   ],
   "source": [
    "## Insert your code here.\n",
    "\n",
    "klist = [10, 30, 50]\n",
    "P = 200\n",
    "ntrials = 200\n",
    "tmin = 0\n",
    "tmax = 2.5\n",
    "q = 50\n",
    "t = np.linspace(tmin, tmax, q)\n",
    "t1 = np.linspace(tmin, tmax, 1000)\n",
    "dt = (tmax-tmin)/q\n",
    "\n",
    "for j in range(len(klist)):\n",
    "    k = klist[j]\n",
    "    \n",
    "    # simulation    \n",
    "    v = []\n",
    "    for i in range(ntrials):\n",
    "        v = v + [linalg.svd(random.randn(P, k)/np.sqrt(P))[1]**2]\n",
    "    \n",
    "    plt.figure(figsize = (10,10))\n",
    "    plt.subplot(len(klist),1,j+1)\n",
    "    h = np.histogram(v, t)[0]\n",
    "    h = h/np.sum(h)/dt\n",
    "    plt.bar(t[:-1], h, width = 1/20, color = \"darkblue\", edgecolor=\"black\")\n",
    "    \n",
    "    # theoritical law\n",
    "    beta = k/P\n",
    "    a = (1 - np.sqrt(beta))**2\n",
    "    b = (1 + np.sqrt(beta))**2\n",
    "    z = np.sqrt(np.maximum(t1-a, np.zeros(len(t1)))*np.maximum(b-t1, np.zeros(len(t1))))/(2*np.pi*beta*t1)\n",
    "    \n",
    "    plt.plot(t1, z, 'r', linewidth=3)\n",
    "    plt.xlim(tmin, tmax)\n",
    "    plt.ylim(0, max(h)*1.05)\n",
    "    plt.title(\"P = %d, k = %d\" %(P,k))\n",
    "    \n",
    "    plt.show()"
   ]
  },
  {
   "cell_type": "markdown",
   "metadata": {},
   "source": [
    "__Exercise 5__\n",
    "\n",
    "Estimate numerically lower bound on $\\de_k^1,\\de_k^2$ by Monte-Carlo\n",
    "sampling of sub-matrices."
   ]
  },
  {
   "cell_type": "code",
   "execution_count": 21,
   "metadata": {
    "collapsed": false
   },
   "outputs": [],
   "source": [
    "#solutions.exo5()"
   ]
  },
  {
   "cell_type": "code",
   "execution_count": 22,
   "metadata": {
    "collapsed": false
   },
   "outputs": [
    {
     "data": {
      "image/png": "[encoded data removed]",
      "text/plain": [
       "<matplotlib.figure.Figure at 0x895de10>"
      ]
     },
     "metadata": {},
     "output_type": "display_data"
    }
   ],
   "source": [
    "## Insert your code here.\n",
    "\n",
    "N = 600\n",
    "P = N/2\n",
    "Phi = PhiRand(P, N)\n",
    "klist = np.round(np.linspace(1, P/15., 10))\n",
    "ntrials = 2000\n",
    "rip_val = np.zeros([len(klist),2])\n",
    "\n",
    "for i in range(len(klist)):\n",
    "    rip_val[i,:2] = 0\n",
    "    k = klist[i]\n",
    "    for j in range(ntrials):\n",
    "        I = random.permutation(N)\n",
    "        I = I[:k]\n",
    "        a,b = ric(Phi[:,I])\n",
    "        rip_val[i,:2] = np.maximum(rip_val[i,:2] , [a,b])\n",
    "            \n",
    "plt.figure(figsize = (8,5))\n",
    "\n",
    "plt.plot(klist, rip_val, linewidth=2)\n",
    "plt.plot(klist, klist*0 + np.sqrt(2)-1, 'r--', linewidth=2)\n",
    "plt.legend([\"$\\delta^2_k$\",\"$\\delta^2_k$\",\"0.41\"])\n",
    "plt.xlabel('k')\n",
    "plt.title(\"N = %d, P = %d\" %(N,P))\n",
    "\n",
    "plt.show()"
   ]
  },
  {
   "cell_type": "markdown",
   "metadata": {},
   "source": [
    "Sparse Spikes Deconvolution\n",
    "---------------------------\n",
    "We now consider a convolution dictionary $ \\Phi $.\n",
    "Such a dictionary is used with sparse regulariz\n",
    "\n",
    "\n",
    "Second derivative of Gaussian kernel $g$ with a given variance $\\si^2$."
   ]
  },
  {
   "cell_type": "code",
   "execution_count": 23,
   "metadata": {
    "collapsed": false
   },
   "outputs": [],
   "source": [
    "sigma = 6\n",
    "g = lambda x: (1-x**2/sigma**2)*np.exp(-x**2/(2*sigma**2))"
   ]
  },
  {
   "cell_type": "markdown",
   "metadata": {},
   "source": [
    "Create a matrix $\\Phi$ so that $\\Phi x = g \\star x$ with periodic\n",
    "boundary conditions."
   ]
  },
  {
   "cell_type": "code",
   "execution_count": 24,
   "metadata": {
    "collapsed": false
   },
   "outputs": [],
   "source": [
    "P = 1024\n",
    "[Y, X] = np.meshgrid(np.arange(0,P), np.arange(0,P))\n",
    "Phi = normalize(g((X - Y + P/2.)%P-P/2.))"
   ]
  },
  {
   "cell_type": "markdown",
   "metadata": {},
   "source": [
    "To improve the conditionning of the dictionary, we sub-sample its atoms,\n",
    "so that $ P = \\eta N > N $."
   ]
  },
  {
   "cell_type": "code",
   "execution_count": 25,
   "metadata": {
    "collapsed": false
   },
   "outputs": [],
   "source": [
    "eta = 2\n",
    "N = P/eta\n",
    "Phi = Phi[:,::eta]"
   ]
  },
  {
   "cell_type": "markdown",
   "metadata": {},
   "source": [
    "Plot the correlation function associated to the filter.\n",
    "Can you determine the value of the coherence $\\mu(\\Phi)$?"
   ]
  },
  {
   "cell_type": "code",
   "execution_count": 26,
   "metadata": {
    "collapsed": false
   },
   "outputs": [
    {
     "data": {
      "image/png": "[encoded data removed]",
      "text/plain": [
       "<matplotlib.figure.Figure at 0x87c18d0>"
      ]
     },
     "metadata": {},
     "output_type": "display_data"
    }
   ],
   "source": [
    "c = np.dot(np.transpose(Phi),Phi)\n",
    "c = np.abs(c[:,np.shape(c)[1]/2])\n",
    "\n",
    "plt.figure(figsize=(8,5))\n",
    "plt.plot(c[len(c)/2 - 50:len(c)/2 + 50], '.-')\n",
    "plt.show()"
   ]
  },
  {
   "cell_type": "markdown",
   "metadata": {},
   "source": [
    "Create a data a sparse $x_0$ with two diracs of opposite signes with spacing $d$."
   ]
  },
  {
   "cell_type": "code",
   "execution_count": 27,
   "metadata": {
    "collapsed": false
   },
   "outputs": [],
   "source": [
    "twosparse = lambda d: np.roll(np.concatenate(([1.], np.zeros(d), [-1.], np.zeros(N-d-2))), int(N/2 - d/2))"
   ]
  },
  {
   "cell_type": "markdown",
   "metadata": {},
   "source": [
    "Display $x_0$ and $\\Phi x_0$."
   ]
  },
  {
   "cell_type": "code",
   "execution_count": 28,
   "metadata": {
    "collapsed": false
   },
   "outputs": [
    {
     "data": {
      "image/png": "[encoded data removed]",
      "text/plain": [
       "<matplotlib.figure.Figure at 0xb4e84a8>"
      ]
     },
     "metadata": {},
     "output_type": "display_data"
    }
   ],
   "source": [
    "x0 = twosparse(50)\n",
    "\n",
    "plt.figure(figsize=(10,7))\n",
    "plt.subplot(2, 1, 1)\n",
    "plt.plot(x0, 'r', linewidth=2)\n",
    "plt.subplot(2, 1, 2)\n",
    "plt.plot(Phi*x0, 'b', linewidth=2)\n",
    "plt.show()"
   ]
  },
  {
   "cell_type": "markdown",
   "metadata": {},
   "source": [
    "__Exercise 6__\n",
    "\n",
    "Plot the evolution of the criteria F, ERC and Coh as a function of $d$.\n",
    "Do the same plot for other signs patterns for $x_0$.\n",
    "Do the same plot for a Dirac comb with a varying spacing $d$."
   ]
  },
  {
   "cell_type": "code",
   "execution_count": 29,
   "metadata": {
    "collapsed": false
   },
   "outputs": [],
   "source": [
    "#solutions.exo6()"
   ]
  },
  {
   "cell_type": "code",
   "execution_count": 30,
   "metadata": {
    "collapsed": false
   },
   "outputs": [
    {
     "data": {
      "image/png": "[encoded data removed]",
      "text/plain": [
       "<matplotlib.figure.Figure at 0xd30be48>"
      ]
     },
     "metadata": {},
     "output_type": "display_data"
    }
   ],
   "source": [
    "## Insert your code here.\n",
    "\n",
    "g = lambda C,I: np.sum(C[:,I], 1)\n",
    "\n",
    "plt.figure(figsize=(8,5))\n",
    "dlist = np.arange(1,N/20)\n",
    "criter = np.zeros([len(dlist),3])\n",
    "\n",
    "for i in range(len(dlist)):\n",
    "    s = twosparse(dlist[i])\n",
    "    I = (supp(s))\n",
    "    criter[i,:] = [F(Phi, s), erc(Phi,I), werc(Phi,I)]\n",
    "    \n",
    "criter[criter < 0] = np.float(\"inf\")\n",
    "\n",
    "plt.plot(dlist, criter, linewidth=2)\n",
    "plt.plot(dlist, dlist*0 + 1, 'k--', linewidth=2)\n",
    "plt.xlim(1,np.max(dlist))\n",
    "plt.ylim(np.min(criter), np.max(criter))\n",
    "plt.xlabel(\"d\")\n",
    "plt.legend([\"F\", \"ERC\", \"w-ERC\"])\n",
    "           \n",
    "plt.show()"
   ]
  }
 ],
 "metadata": {
  "anaconda-cloud": {},
  "kernelspec": {
   "display_name": "Python [Root]",
   "language": "python",
   "name": "Python [Root]"
  },
  "language_info": {
   "codemirror_mode": {
    "name": "ipython",
    "version": 2
   },
   "file_extension": ".py",
   "mimetype": "text/x-python",
   "name": "python",
   "nbconvert_exporter": "python",
   "pygments_lexer": "ipython2",
   "version": "2.7.12"
  }
 },
 "nbformat": 4,
 "nbformat_minor": 0
}
