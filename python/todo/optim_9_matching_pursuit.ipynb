{
  "metadata": {
    "name": ""
  }, 
  "nbformat": 3, 
  "nbformat_minor": 0, 
  "worksheets": [
    {
      "cells": [
        {
          "cell_type": "heading", 
          "level": 1, 
          "metadata": {}, 
          "source": [
            "Matching Pursuits"
          ]
        }, 
        {
          "cell_type": "markdown", 
          "metadata": {}, 
          "source": [
            "This numerical tour explores the use of Matching Pursuits to solve\n", 
            "sparse optimization problems..\n", 
            "\n", 
            ""
          ]
        }, 
        {
          "cell_type": "markdown", 
          "metadata": {}, 
          "source": [
            "*Important:* You need to download the file `nt_toolbox.py` from the \n", 
            "root of the github repository.\n", 
            "$\\newcommand{\\dotp}[2]{\\langle #1, #2 \\rangle}\n", 
            "\\newcommand{\\enscond}[2]{\\lbrace #1, #2 \\rbrace}\n", 
            "\\newcommand{\\pd}[2]{ \\frac{ \\partial #1}{\\partial #2} }\n", 
            "\\newcommand{\\umin}[1]{\\underset{#1}{\\min}\\;}\n", 
            "\\newcommand{\\norm}[1]{\\|#1\\|}\n", 
            "\\newcommand{\\abs}[1]{\\left|#1\\right|}\n", 
            "\\newcommand{\\choice}[1]{ \\left\\{  \\begin{array}{l} #1 \\end{array} \\right. }\n", 
            "\\newcommand{\\pa}[1]{\\left(#1\\right)}\n", 
            "\\newcommand{\\qandq}{\\quad\\text{and}\\quad}\n", 
            "\\newcommand{\\qwhereq}{\\quad\\text{where}\\quad}\n", 
            "\\newcommand{\\qifq}{ \\quad \\text{if} \\quad }\n", 
            "\\newcommand{\\qarrq}{ \\quad \\Longrightarrow \\quad }\n", 
            "\\newcommand{\\ZZ}{\\mathbb{Z}}\n", 
            "\\newcommand{\\RR}{\\mathbb{R}}\n", 
            "\\newcommand{\\Nn}{\\mathcal{N}}\n", 
            "\\newcommand{\\Hh}{\\mathcal{H}}\n", 
            "\\newcommand{\\Bb}{\\mathcal{B}}\n", 
            "\\newcommand{\\EE}{\\mathbb{E}}\n", 
            "\\newcommand{\\CC}{\\mathbb{C}}\n", 
            "\\newcommand{\\si}{\\sigma}\n", 
            "\\newcommand{\\al}{\\alpha}\n", 
            "\\newcommand{\\la}{\\lambda}\n", 
            "\\newcommand{\\ga}{\\gamma}\n", 
            "\\newcommand{\\Ga}{\\Gamma}\n", 
            "\\newcommand{\\La}{\\Lambda}\n", 
            "\\newcommand{\\si}{\\sigma}\n", 
            "\\newcommand{\\Si}{\\Sigma}\n", 
            "\\newcommand{\\be}{\\beta}\n", 
            "\\newcommand{\\de}{\\delta}\n", 
            "\\newcommand{\\De}{\\Delta}\n", 
            "\\renewcommand{\\phi}{\\varphi}\n", 
            "\\renewcommand{\\th}{\\theta}\n", 
            "\\newcommand{\\om}{\\omega}\n", 
            "\\newcommand{\\Om}{\\Omega}\n", 
            "$"
          ]
        }, 
        {
          "cell_type": "code", 
          "collapsed": false, 
          "input": [
            "from nt_toolbox import *", 
            "%matplotlib inline", 
            "%load_ext autoreload", 
            "%autoreload 2"
          ], 
          "language": "python", 
          "outputs": []
        }, 
        {
          "cell_type": "heading", 
          "level": 2, 
          "metadata": {}, 
          "source": [
            "Sparse Regularization\n"
          ]
        }, 
        {
          "cell_type": "markdown", 
          "metadata": {}, 
          "source": [
            "We consider the following linear inverse problem\n", 
            "$$ y = \\Phi x_0 + w  \\in \\RR^P$$\n", 
            "where $x_0 \\in \\RR^N$ is the (unknown) signal to recover, $w \\in\n", 
            "\\RR^P$ is a noise vector, and $\\Phi \\in \\RR^{P \\times N}$ models the\n", 
            "acquisition device.\n", 
            "\n", 
            "\n", 
            "Size of the problem.\n", 
            ""
          ]
        }, 
        {
          "cell_type": "code", 
          "collapsed": false, 
          "input": [
            "N = 200\n", 
            "P = round(N/4)"
          ], 
          "language": "python", 
          "outputs": []
        }, 
        {
          "cell_type": "markdown", 
          "metadata": {}, 
          "source": [
            "\n", 
            "\n", 
            "We consider here a simple compressed sensing scenario where the operator\n", 
            "$\\Phi$ is a realization of a Gaussian random matrix.\n", 
            ""
          ]
        }, 
        {
          "cell_type": "code", 
          "collapsed": false, 
          "input": [
            "Phi = randn(P,N)"
          ], 
          "language": "python", 
          "outputs": []
        }, 
        {
          "cell_type": "markdown", 
          "metadata": {}, 
          "source": [
            "\n", 
            "\n", 
            "For simplicity of the exposition of the algorithm, we normalize the\n", 
            "columns of the operator.\n", 
            ""
          ]
        }, 
        {
          "cell_type": "code", 
          "collapsed": false, 
          "input": [
            "Phi = Phi ./ repmat( sqrt(sum(Phi.^2)), [P 1] )"
          ], 
          "language": "python", 
          "outputs": []
        }, 
        {
          "cell_type": "markdown", 
          "metadata": {}, 
          "source": [
            "\n", 
            "\n", 
            "Sparsity of the input data.\n", 
            ""
          ]
        }, 
        {
          "cell_type": "code", 
          "collapsed": false, 
          "input": [
            "s = round(P/5)"
          ], 
          "language": "python", 
          "outputs": []
        }, 
        {
          "cell_type": "markdown", 
          "metadata": {}, 
          "source": [
            "\n", 
            "\n", 
            "Sparse vector.\n", 
            ""
          ]
        }, 
        {
          "cell_type": "code", 
          "collapsed": false, 
          "input": [
            "I = randperm(N); I = I(1:s)\n", 
            "x0 = zeros(N,1); x0(I) = sign(randn(s,1))"
          ], 
          "language": "python", 
          "outputs": []
        }, 
        {
          "cell_type": "markdown", 
          "metadata": {}, 
          "source": [
            "\n", 
            "\n", 
            "Noise level.\n", 
            ""
          ]
        }, 
        {
          "cell_type": "code", 
          "collapsed": false, 
          "input": [
            "sigma = 0.05 * norm(Phi*x0)/sqrt(P)"
          ], 
          "language": "python", 
          "outputs": []
        }, 
        {
          "cell_type": "markdown", 
          "metadata": {}, 
          "source": [
            "\n", 
            "\n", 
            "Measurements $y=\\Phi x_0 + w$.\n", 
            ""
          ]
        }, 
        {
          "cell_type": "code", 
          "collapsed": false, 
          "input": [
            "y = Phi*x0 + sigma*randn(P,1)"
          ], 
          "language": "python", 
          "outputs": []
        }, 
        {
          "cell_type": "markdown", 
          "metadata": {}, 
          "source": [
            "\n", 
            "\n", 
            "In the following, we define the $\\ell^0$ pseudo-norm the counting\n", 
            "measure\n", 
            "$$ \\norm{x}_0 = \\abs{\\enscond{i \\in \\{1,\\ldots,N\\}}{x_i \\neq 0}}. $$\n", 
            "\n", 
            "\n", 
            "To recover an approximation of the signal $x_0$, we use $\\ell^0$\n", 
            "sparse optimization, which requires to solve either the sparsity\n", 
            "constraint problem\n", 
            "$$ \\umin{\\norm{x}_0 \\leq s} \\norm{y-\\Phi x}, \\qquad \\Ss(s) $$\n", 
            "or the $\\ell^2$-error constraint problem\n", 
            "$$ \\umin{\\norm{y-\\Phi x} \\leq \\epsilon} \\norm{x}_0, \\qquad \\Ll(\\epsilon)  $$\n", 
            "Note that these are non-convex optimization problems.\n", 
            "\n", 
            "\n", 
            "One needs to set-up either the sparsity parameter $s \\in \\NN$ or the\n", 
            "error contraint $\\epsilon \\geq 0$. These parameters should be\n", 
            "tuned in accordance to the noise level, and when there is not noise,\n", 
            "$w=0$, one should set $ \\epsilon=0 $ and solve the problem\n", 
            "$$ \\umin{\\Phi x = y} \\norm{x}_0.  $$\n", 
            "\n", 
            "\n", 
            "In the special case where $ \\Phi \\in \\RR^{N \\times N} $ is an\n", 
            "orthogonal basis, i.e. $N=P$ and $ \\Phi \\Phi^* = \\text{Id}_N $, one\n", 
            "can compute in closed form the solution to problems $(\\Ss(s))$ and $(\\Ll(\\epsilon))$\n", 
            "using the hard thresholding operator\n", 
            "$$ x = \\Phi \\circ S_T \\circ \\Phi^* (y)\n", 
            "\\qwhereq\n", 
            "  S_T(u)_i = \\choice{\n", 
            "      u_i \\qifq \\abs{u_i}>T, \\\\\n", 
            "      0 \\quad \\text{otherwise}.\n", 
            "  } $$\n", 
            "where the threshold $T \\geq 0$ should be selected so that\n", 
            "either $\\norm{x}_0=s$ or $ \\norm{y-\\Phi x}=\\epsilon $.\n", 
            "\n", 
            "\n", 
            "In the general case howeve, both problems $(\\Ss(s))$ and\n", 
            "$(\\Ll(\\epsilon))$ are NP-hard to solve, see for instance:\n", 
            "\n", 
            "\n", 
            "S. Mallat and G. Davis, and M. Avelaneda,\n", 
            "_Adaptive Greedy Approximations_,\n", 
            "Jour. of Constructive Approximation, vol. 13, No. 1, pp. 57-98, 1997.\n", 
            "\n", 
            "\n", 
            "One thus needs to use alternative strategies to compute approximate solutions.\n", 
            "\n", 
            "\n", 
            "A first line of methods consists in replacing the $\\ell^0$ non-convex\n", 
            "pseudo-norm by its natural convexification, the $\\ell^1$ norm. Other\n", 
            "numerical tours are devoted to this class of methods.\n", 
            "\n", 
            "\n", 
            "Another line of method develop heuristic greedy optimization schemes,\n", 
            "that are usually called Matching Pursuit algorithms. We describe here two\n", 
            "of such methods.\n", 
            "\n", 
            ""
          ]
        }, 
        {
          "cell_type": "heading", 
          "level": 2, 
          "metadata": {}, 
          "source": [
            "Matching Pursuit\n"
          ]
        }, 
        {
          "cell_type": "markdown", 
          "metadata": {}, 
          "source": [
            "Matching pursuit is a greedy procedure that progressively identify the\n", 
            "location of the spikes by looking at atoms that maximaly correlated with\n", 
            "the current residual.\n", 
            "\n", 
            "\n", 
            "This algorithm is introduced in\n", 
            "\n", 
            "\n", 
            "S. Mallat and S. Zhang,\n", 
            "_Matching Pursuits With Time-Frequency Dictionaries_,\n", 
            "IEEE Transactions on Signal Processing, December 1993.\n", 
            "\n", 
            "\n", 
            "The algorithm is initialized with $x^{(0)}=0$.\n", 
            ""
          ]
        }, 
        {
          "cell_type": "code", 
          "collapsed": false, 
          "input": [
            "x = zeros(N,1)"
          ], 
          "language": "python", 
          "outputs": []
        }, 
        {
          "cell_type": "markdown", 
          "metadata": {}, 
          "source": [
            "\n", 
            "\n", 
            "The vector is updated from step $\\ell$\n", 
            "to step $\\ell+1$ as\n", 
            "$$ x^{(\\ell+1)} = x^{(\\ell)} + \\mu $$\n", 
            "by adding a 1-sparse vector $\\mu$ that minimizes the\n", 
            "error decay\n", 
            "$$ \\umin{\\norm{\\mu}_0 = 1} \\norm{ y - \\Phi (x^{(\\ell)} + \\mu) }.  $$\n", 
            "\n", 
            "\n", 
            "This update is computed in closed form as\n", 
            "$$ \\mu = c_i \\de_i $$\n", 
            "where the correlation vector is\n", 
            "$$ c = \\Phi^* (y-\\Phi x^{(\\ell)}) \\in \\RR^N $$\n", 
            "and where $\\de_i$ is the Dirac at position $i$ that maximizes the\n", 
            "absolute correlation\n", 
            "$$ \\umax{ i } \\abs{c_i}  $$\n", 
            "\n", 
            "\n", 
            "Compute the correlation.\n", 
            ""
          ]
        }, 
        {
          "cell_type": "code", 
          "collapsed": false, 
          "input": [
            "c = Phi'*(y-Phi*x)"
          ], 
          "language": "python", 
          "outputs": []
        }, 
        {
          "cell_type": "markdown", 
          "metadata": {}, 
          "source": [
            "\n", 
            "\n", 
            "Display the correlation.\n", 
            ""
          ]
        }, 
        {
          "cell_type": "code", 
          "collapsed": false, 
          "input": [
            "\n", 
            "stem( abs(c), 'b.' )\n", 
            "axis tight"
          ], 
          "language": "python", 
          "outputs": []
        }, 
        {
          "cell_type": "markdown", 
          "metadata": {}, 
          "source": [
            "\n", 
            "\n", 
            "Extract the coefficient with maximal correlation\n", 
            ""
          ]
        }, 
        {
          "cell_type": "code", 
          "collapsed": false, 
          "input": [
            "[~,i] = max(abs(c))"
          ], 
          "language": "python", 
          "outputs": []
        }, 
        {
          "cell_type": "markdown", 
          "metadata": {}, 
          "source": [
            "\n", 
            "\n", 
            "Update the coefficients\n", 
            ""
          ]
        }, 
        {
          "cell_type": "code", 
          "collapsed": false, 
          "input": [
            "x(i) = x(i) + c(i)"
          ], 
          "language": "python", 
          "outputs": []
        }, 
        {
          "cell_type": "heading", 
          "level": 3, 
          "metadata": {}, 
          "source": [
            "Exercise 1"
          ]
        }, 
        {
          "cell_type": "markdown", 
          "metadata": {}, 
          "source": [
            "\n", 
            "Perform the Matching pursuit. Record the evolution of the solution $x^{(\\ell)}$\n", 
            "as well as the maximum correlation $ \\la^{(\\ell)} = \\abs{c_i} $.\n", 
            "Display the decay of the error $ E(\\ell) = \\norm{y-\\Phi x^{(\\ell)}}. $\n", 
            "\n", 
            "\n", 
            "\n", 
            "\n", 
            "\n", 
            "\n", 
            "\n", 
            "\n", 
            "\n", 
            "\n", 
            "\n", 
            "\n", 
            "\n", 
            "\n", 
            ""
          ]
        }, 
        {
          "cell_type": "code", 
          "collapsed": false, 
          "input": [
            "## Insert your code here."
          ], 
          "language": "python", 
          "outputs": []
        }, 
        {
          "cell_type": "markdown", 
          "metadata": {}, 
          "source": [
            "\n", 
            "\n", 
            "\n", 
            "One can shows that the error $\\norm{y-\\Phi x^{(\\ell)}}$ converges toward zero\n", 
            "when $\\ell$ increases.\n", 
            "\n", 
            "\n", 
            "\n", 
            "Display the signal to recover and the signal recovered with a large number of iterations\n", 
            "(thus corresponding to $\\epsilon=0$).\n", 
            "Note how the noise impacts the recovered vector.\n", 
            ""
          ]
        }, 
        {
          "cell_type": "code", 
          "collapsed": false, 
          "input": [
            "\n", 
            "subplot(2,1,1)\n", 
            "x1 = x0; x1(x1==0) = NaN; stem(x1, 'b.'); axis tight\n", 
            "subplot(2,1,2)\n", 
            "x1 = x; x1(x1==0) = NaN; stem(x1, 'b.'); axis tight"
          ], 
          "language": "python", 
          "outputs": []
        }, 
        {
          "cell_type": "markdown", 
          "metadata": {}, 
          "source": [
            "\n", 
            "\n", 
            "Display the evolution of each entry of $x^{(\\ell)}$ (different colors) with\n", 
            "$\\norm{y-\\Phi x^{(\\ell)}}$. We display the evolution of the correct components (those indexed\n", 
            "by the support $I$ of $x_0$) in color, and the wrong components (indexed by\n", 
            "$J=I^c$) in black.\n", 
            ""
          ]
        }, 
        {
          "cell_type": "code", 
          "collapsed": false, 
          "input": [
            "\n", 
            "I = find(x0~=0); J = setdiff(1:N,I)\n", 
            "clf; hold on\n", 
            "h = plot(E, X(I,:)', '-'); set(h, 'LineWidth', 2)\n", 
            "h = plot(E, X(J,:)', 'k-'); set(h, 'LineWidth', 2)\n", 
            "axis tight; box on"
          ], 
          "language": "python", 
          "outputs": []
        }, 
        {
          "cell_type": "markdown", 
          "metadata": {}, 
          "source": [
            "\n", 
            ""
          ]
        }, 
        {
          "cell_type": "heading", 
          "level": 2, 
          "metadata": {}, 
          "source": [
            "Orthogonal Matching Pursuit\n"
          ]
        }, 
        {
          "cell_type": "markdown", 
          "metadata": {}, 
          "source": [
            "Orthogonal matching pursuit improves over matching pursuit by\n", 
            "reducing the error using an orthogonal projection.\n", 
            "\n", 
            "\n", 
            "This algorithm is introduced in:\n", 
            "\n", 
            "\n", 
            "Y. Pati, R. Rezaiifar, P. Krishnaprasad,\n", 
            "_Orthogonal Matching Pursuit : recursive function approximation with application to wavelet decomposition_,\n", 
            "Asilomar Conf. on Signals, Systems and Comput., 1993\n", 
            "\n", 
            "\n", 
            "At an iteration $\\ell$ of the algorithm, one computes a standard MP step\n", 
            "$$ \\tilde x = x^{(\\ell)} + \\mu $$\n", 
            "and the next iteration is computed by projecting $\\tilde x$ on the\n", 
            "known support\n", 
            "$$ x^{(\\ell+1)} = \\uargmin{ I(x)=I(\\tilde x) } \\norm{y-\\Phi x}  $$\n", 
            "where $I(x)$ is the support of the solution\n", 
            "$$ I(x) = \\enscond{ i \\in \\{1,\\ldots,N\\} }{ x_i \\neq 0 }. $$\n", 
            "\n", 
            "\n", 
            "This $\\ell^2$ minimization can be solved in closed form as\n", 
            "$$ x^{(\\ell+1)}_I = \\Phi_I^+ y\n", 
            "   \\qwhereq  A^+ = (A^*A)^{-1} A^* \\qandq I = I(\\tilde x), $$\n", 
            "where we used the shorthand notation $x_I = (x_i)_{i \\in I} \\in\n", 
            "\\RR^{\\abs{I}}$ and $\\Phi_I \\in \\RR^{P \\times \\abs{I}}$\n", 
            "is the sub-matrix obtained by extracting from $\\Phi$ the columns\n", 
            "indexed by $I$.\n", 
            "\n", 
            "\n", 
            "Perform one step of matching pursuit.\n", 
            ""
          ]
        }, 
        {
          "cell_type": "code", 
          "collapsed": false, 
          "input": [
            "c = Phi'*(y-Phi*x)\n", 
            "[~,i] = max(abs(c))\n", 
            "x(i) = x(i) + c(i)"
          ], 
          "language": "python", 
          "outputs": []
        }, 
        {
          "cell_type": "markdown", 
          "metadata": {}, 
          "source": [
            "\n", 
            "\n", 
            "Perform $\\ell^2$ projection.\n", 
            ""
          ]
        }, 
        {
          "cell_type": "code", 
          "collapsed": false, 
          "input": [
            "I = find(x~=0)\n", 
            "x(I) = pinv(Phi(:,I))*y"
          ], 
          "language": "python", 
          "outputs": []
        }, 
        {
          "cell_type": "markdown", 
          "metadata": {}, 
          "source": [
            "\n", 
            "\n", 
            "Note that the algorithm stops after $P$ steps, providing a zero error,\n", 
            "$\\Phi x^{(P)} = y$.\n", 
            ""
          ]
        }, 
        {
          "cell_type": "heading", 
          "level": 3, 
          "metadata": {}, 
          "source": [
            "Exercise 2"
          ]
        }, 
        {
          "cell_type": "markdown", 
          "metadata": {}, 
          "source": [
            "\n", 
            "Perform the Orthogonal Matching Pursuit algorithm,\n", 
            "and compare it with the Matching Pursuit.\n", 
            "--- MP --- %\n", 
            "\n", 
            "\n", 
            "\n", 
            "\n", 
            "\n", 
            "\n", 
            "\n", 
            "\n", 
            "\n", 
            "\n", 
            "\n", 
            "--- OMP --- %\n", 
            "\n", 
            "\n", 
            "\n", 
            "\n", 
            "\n", 
            "\n", 
            "\n", 
            "\n", 
            "\n", 
            "\n", 
            "\n", 
            "\n", 
            "\n", 
            "\n", 
            "display\n", 
            "\n", 
            "\n", 
            "\n", 
            "\n", 
            "\n", 
            "\n", 
            "\n", 
            "\n", 
            "\n", 
            ""
          ]
        }, 
        {
          "cell_type": "code", 
          "collapsed": false, 
          "input": [
            "## Insert your code here."
          ], 
          "language": "python", 
          "outputs": []
        }, 
        {
          "cell_type": "markdown", 
          "metadata": {}, 
          "source": [
            "\n", 
            "\n", 
            "\n", 
            "Display the signal recovered by OMP.\n", 
            ""
          ]
        }
      ]
    }
  ]
}