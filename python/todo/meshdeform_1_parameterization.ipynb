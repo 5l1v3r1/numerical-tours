{
  "metadata": {
    "name": ""
  }, 
  "nbformat": 3, 
  "nbformat_minor": 0, 
  "worksheets": [
    {
      "cells": [
        {
          "cell_type": "heading", 
          "level": 1, 
          "metadata": {}, 
          "source": [
            "Mesh Parameterization"
          ]
        }, 
        {
          "cell_type": "markdown", 
          "metadata": {}, 
          "source": [
            "This tour explores 2-D parameterization of 3D surfaces using linear methods.\n", 
            "\n", 
            "\n", 
            "A  review paper for mesh parameterization can be found in:\n", 
            "\n", 
            "\n", 
            "M.S. Floater and K. Hormann,\n", 
            "_Surface Parameterization: a Tutorial and Survey_\n", 
            "in Advances in multiresolution for geometric modelling, p. 157-186, 2005.\n", 
            "\n", 
            "\n", 
            "See also:\n", 
            "\n", 
            "\n", 
            "K. Hormann,  K. Polthier and A. Sheffer\n", 
            "_Mesh parameterization: theory and practice,_\n", 
            "Siggraph Asia Course Notes\n", 
            ""
          ]
        }, 
        {
          "cell_type": "markdown", 
          "metadata": {}, 
          "source": [
            "*Important:* You need to download the file `nt_toolbox.py` from the \n", 
            "root of the github repository.\n", 
            "$\\newcommand{\\dotp}[2]{\\langle #1, #2 \\rangle}\n", 
            "\\newcommand{\\enscond}[2]{\\lbrace #1, #2 \\rbrace}\n", 
            "\\newcommand{\\pd}[2]{ \\frac{ \\partial #1}{\\partial #2} }\n", 
            "\\newcommand{\\umin}[1]{\\underset{#1}{\\min}\\;}\n", 
            "\\newcommand{\\norm}[1]{\\|#1\\|}\n", 
            "\\newcommand{\\abs}[1]{\\left|#1\\right|}\n", 
            "\\newcommand{\\choice}[1]{ \\left\\{  \\begin{array}{l} #1 \\end{array} \\right. }\n", 
            "\\newcommand{\\pa}[1]{\\left(#1\\right)}\n", 
            "\\newcommand{\\qandq}{\\quad\\text{and}\\quad}\n", 
            "\\newcommand{\\qwhereq}{\\quad\\text{where}\\quad}\n", 
            "\\newcommand{\\qifq}{ \\quad \\text{if} \\quad }\n", 
            "\\newcommand{\\qarrq}{ \\quad \\Longrightarrow \\quad }\n", 
            "\\newcommand{\\ZZ}{\\mathbb{Z}}\n", 
            "\\newcommand{\\RR}{\\mathbb{R}}\n", 
            "\\newcommand{\\Nn}{\\mathcal{N}}\n", 
            "\\newcommand{\\Hh}{\\mathcal{H}}\n", 
            "\\newcommand{\\Bb}{\\mathcal{B}}\n", 
            "\\newcommand{\\EE}{\\mathbb{E}}\n", 
            "\\newcommand{\\CC}{\\mathbb{C}}\n", 
            "\\newcommand{\\si}{\\sigma}\n", 
            "\\newcommand{\\al}{\\alpha}\n", 
            "\\newcommand{\\la}{\\lambda}\n", 
            "\\newcommand{\\ga}{\\gamma}\n", 
            "\\newcommand{\\Ga}{\\Gamma}\n", 
            "\\newcommand{\\La}{\\Lambda}\n", 
            "\\newcommand{\\si}{\\sigma}\n", 
            "\\newcommand{\\Si}{\\Sigma}\n", 
            "\\newcommand{\\be}{\\beta}\n", 
            "\\newcommand{\\de}{\\delta}\n", 
            "\\newcommand{\\De}{\\Delta}\n", 
            "\\renewcommand{\\phi}{\\varphi}\n", 
            "\\renewcommand{\\th}{\\theta}\n", 
            "\\newcommand{\\om}{\\omega}\n", 
            "\\newcommand{\\Om}{\\Omega}\n", 
            "$"
          ]
        }, 
        {
          "cell_type": "code", 
          "collapsed": false, 
          "input": [
            "from nt_toolbox import *", 
            "%matplotlib inline", 
            "%load_ext autoreload", 
            "%autoreload 2"
          ], 
          "language": "python", 
          "outputs": []
        }, 
        {
          "cell_type": "markdown", 
          "metadata": {}, 
          "source": [
            "\n", 
            "CMT"
          ]
        }, 
        {
          "cell_type": "code", 
          "collapsed": false, 
          "input": [
            "rep = '../results/mesh_parameterization/'\n", 
            "if not(isdir(rep))\n", 
            "    mkdir(rep)\n", 
            ""
          ], 
          "language": "python", 
          "outputs": []
        }, 
        {
          "cell_type": "markdown", 
          "metadata": {}, 
          "source": [
            "CMT\n", 
            ""
          ]
        }, 
        {
          "cell_type": "heading", 
          "level": 2, 
          "metadata": {}, 
          "source": [
            "Conformal Laplacian\n"
          ]
        }, 
        {
          "cell_type": "markdown", 
          "metadata": {}, 
          "source": [
            "The conformal Laplacian uses the cotan weights to obtain an accurate\n", 
            "discretization of the Laplace Beltrami Laplacian.\n", 
            "\n", 
            "\n", 
            "They where first introduces as a linear finite element approximation of the\n", 
            "Laplace-Beltrami operator in:\n", 
            "\n", 
            "\n", 
            "U. Pinkall and K. Polthier,\n", 
            "_Computing discrete minimal surfaces and their conjugates_\n", 
            "Experimental Mathematics, 2(1):15-36, 1993.\n", 
            "\n", 
            "\n", 
            "First load a mesh. The faces are stored in a matrix $F = (f_j)_{j=1}^m \\in \\RR^{3 \\times m}$\n", 
            "of $m$ faces $f_j \\in \\{1,\\ldots,n\\}^3$. The position of the vertices are\n", 
            "stored in a matrix $X  = (x_i)_{i=1}^n \\in \\RR^{3 \\times n}$ of $n$ triplets of points\n", 
            "$x_k \\in \\RR^3$\n", 
            ""
          ]
        }, 
        {
          "cell_type": "code", 
          "collapsed": false, 
          "input": [
            "name = 'nefertiti'\n", 
            "[X,F] = read_mesh(name)\n", 
            "n = size(X,2)\n", 
            "clear options; options.name = name"
          ], 
          "language": "python", 
          "outputs": []
        }, 
        {
          "cell_type": "markdown", 
          "metadata": {}, 
          "source": [
            "\n", 
            "\n", 
            "In order to perform mesh parameterization, it is important that this mesh\n", 
            "has the topology of a disk, i.e. it should have a single B.\n", 
            "\n", 
            "\n", 
            "First we compute the boundary $B = (i_1,\\ldots,i_p)$ of the mesh.\n", 
            "By definition, for the edges $(i_k,i_{k+1})$, there is a single adjacent face $\n", 
            "(i_k,i_{k+1},\\ell) $.\n", 
            ""
          ]
        }, 
        {
          "cell_type": "code", 
          "collapsed": false, 
          "input": [
            "options.verb = 0\n", 
            "B = compute_boundary(F, options)"
          ], 
          "language": "python", 
          "outputs": []
        }, 
        {
          "cell_type": "markdown", 
          "metadata": {}, 
          "source": [
            "\n", 
            "\n", 
            "Length of the boundary.\n", 
            ""
          ]
        }, 
        {
          "cell_type": "code", 
          "collapsed": false, 
          "input": [
            "p = length(B)"
          ], 
          "language": "python", 
          "outputs": []
        }, 
        {
          "cell_type": "markdown", 
          "metadata": {}, 
          "source": [
            "\n", 
            "\n", 
            "Display the boundary.\n", 
            ""
          ]
        }, 
        {
          "cell_type": "code", 
          "collapsed": false, 
          "input": [
            "clf; hold on\n", 
            "plot_mesh(X,F,options)\n", 
            "shading('faceted')\n", 
            "hh = plot3( X(1,B),X(2,B),X(3,B), 'r' )\n", 
            "set_linewidth(hh,4)"
          ], 
          "language": "python", 
          "outputs": []
        }, 
        {
          "cell_type": "markdown", 
          "metadata": {}, 
          "source": [
            "\n", 
            "\n", 
            "\n", 
            "The conformal Laplacian weight matrix $W \\in \\RR^{n \\times n}$ is\n", 
            "defined as\n", 
            "$$ W_{i,j} =\n", 
            "      \\choice{\n", 
            "          \\text{cotan}(\\al_{i,j}) + \\text{cotan}(\\be_{i,j})\n", 
            "          \\qifq i \\sim j \\\\\n", 
            "          \\quad 0 \\quad \\text{otherwise}.\n", 
            "      }\n", 
            "$$\n", 
            "Here, $i \\times j$ means that there exists two faces\n", 
            "$ (i,j,k) $ and $ (i,j,\\ell) $ in the mesh (note that for B\n", 
            "faces, one has $k=\\ell$).\n", 
            "\n", 
            "\n", 
            "The angles are the angles centered as $k$ and $\\ell$, i.e.\n", 
            "$$ \\al_{i,j} = \\widehat{x_i x_k x_j }\n", 
            "  \\qandq\n", 
            "  \\be_{i,j} = \\widehat{x_i x_\\ell x_j }. $$\n", 
            "\n", 
            "\n", 
            "Compute the conformal 'cotan' weights.\n", 
            "Note that each angle $\\alpha$ in the mesh contributes with\n", 
            "$1/\\text{tan}(\\alpha)$ to the weight of the opposite edge.\n", 
            "We compute $\\alpha$ as\n", 
            "$$ \\alpha = \\text{acos}\\pa{ \\frac{\\dotp{u}{v}}{\\norm{u}\\norm{v}} } $$\n", 
            "where $u \\in \\RR^3, v \\in \\RR^3$ are the edges of the adjacent vertices\n", 
            "that defines $\\al$.\n", 
            ""
          ]
        }, 
        {
          "cell_type": "code", 
          "collapsed": false, 
          "input": [
            "W = make_sparse(n,n)\n", 
            "for i in 1:3:\n", 
            "   i2 = mod(i  ,3)+1\n", 
            "   i3 = mod(i+1,3)+1\n", 
            "   u = X(:,F(i2,:)) - X(:,F(i,:))\n", 
            "   v = X(:,F(i3,:)) - X(:,F(i,:))\n", 
            "   % normalize the vectors   \n", 
            "   u = u ./ repmat( sqrt(sum(u.^2,1)), [3 1] )\n", 
            "   v = v ./ repmat( sqrt(sum(v.^2,1)), [3 1] )\n", 
            "   % compute angles\n", 
            "   alpha = 1 ./ tan( acos(sum(u.*v,1)) )\n", 
            "   alpha = max(alpha, 1e-2); % avoid degeneracy\n", 
            "   W = W + make_sparse(F(i2,:),F(i3,:), alpha, n, n )\n", 
            "   W = W + make_sparse(F(i3,:),F(i2,:), alpha, n, n )\n", 
            ""
          ], 
          "language": "python", 
          "outputs": []
        }, 
        {
          "cell_type": "markdown", 
          "metadata": {}, 
          "source": [
            "\n", 
            "\n", 
            "Compute the symmetric Laplacian matrix\n", 
            "$$ L = D-W\n", 
            "  \\qwhereq D = \\diag_i\\pa{\\sum_j W_{i,j}}. $$\n", 
            ""
          ]
        }, 
        {
          "cell_type": "code", 
          "collapsed": false, 
          "input": [
            "d = full( sum(W,1) )\n", 
            "D = spdiags(d(:), 0, n,n)\n", 
            "L = D - W"
          ], 
          "language": "python", 
          "outputs": []
        }, 
        {
          "cell_type": "heading", 
          "level": 2, 
          "metadata": {}, 
          "source": [
            "Fixed Boundary Harmonic Parameterization\n"
          ]
        }, 
        {
          "cell_type": "markdown", 
          "metadata": {}, 
          "source": [
            "The problem of mesh parameterization corresponds to finding\n", 
            "2-D locations $(y_i = (y_i^1,y_i^2) \\in \\RR^2$\n", 
            "for each original vertex, where $ Y = (y_i)_{i=1}^n \\in \\RR^{2 \\times n} $\n", 
            "denotes the flattened positions.\n", 
            "\n", 
            "\n", 
            "The goal is for this parameterization to be valid, i.e. the 2-D\n", 
            "mesh obtained by replacing $X$ by $Y$ but keeping the same face connectivity $F$\n", 
            "should not contained flipped faces (all face should have the same orientation in the plane).\n", 
            "\n", 
            "\n", 
            "\n", 
            "We consider here a linear methods, that finds the parameterization, that\n", 
            "impose that the coordinates are harmonic inside the domain, and have\n", 
            "fixed position on the boundary (Dirichlet conditions)\n", 
            "$$ \\forall s=1,2, \\quad \\forall i \\notin B, \\quad (L y^s)_i = 0,\n", 
            "\\qandq \\forall j \\in B, \\quad y^s_j = z_j^s. $$\n", 
            "\n", 
            "\n", 
            "In order for this method to define a valid parameterization, it is\n", 
            "necessary that the fixed position $ z_j = (z^1_j,z^2_j) \\in \\RR^2 $\n", 
            "are consecutive points along a convex polygon.\n", 
            "\n", 
            "\n", 
            "Compute the fixed positions $Z=(z_j)_j$ for the vertices on $B$.\n", 
            "Here we use a circle.\n", 
            ""
          ]
        }, 
        {
          "cell_type": "code", 
          "collapsed": false, 
          "input": [
            "p = length(B)\n", 
            "t = linspace(0,2*pi(),p+1); t(p+1) = []\n", 
            "Z = [cos(t); sin(t)]"
          ], 
          "language": "python", 
          "outputs": []
        }, 
        {
          "cell_type": "markdown", 
          "metadata": {}, 
          "source": [
            "\n", 
            "\n", 
            "Computing the parameterization requires to solve two independent linear\n", 
            "system\n", 
            "$$ \\forall s=1,2, \\quad  L_1 y^s = r^s $$\n", 
            "where $L_1$ is a modified Laplacian, the is obtained from $L$ by\n", 
            "$$ \\choice{\n", 
            "      \\forall i \\notin B, \\quad (L_0)_{i,j} = L_{i,j} \\\\\n", 
            "      \\forall i \\in B, \\quad (L_0)_{i,i}=1, \\\\\n", 
            "      \\forall i \\in B, \\forall j \\neq i, \\quad (L_0)_{i,i}=0,\n", 
            "  } $$\n", 
            "i.e. replacing each row indexed by $B$ by a 1 on the diagonal.\n", 
            ""
          ]
        }, 
        {
          "cell_type": "code", 
          "collapsed": false, 
          "input": [
            "L1 = L\n", 
            "L1(B,:) = 0\n", 
            "for i in 1:length(B):\n", 
            "    L1(B(i),B(i)) = 1\n", 
            ""
          ], 
          "language": "python", 
          "outputs": []
        }, 
        {
          "cell_type": "markdown", 
          "metadata": {}, 
          "source": [
            "\n", 
            "\n", 
            "Set up the right hand size $R$ with the fixed position.\n", 
            ""
          ]
        }, 
        {
          "cell_type": "code", 
          "collapsed": false, 
          "input": [
            "R = zeros(2, n)\n", 
            "R(:,B) = Z"
          ], 
          "language": "python", 
          "outputs": []
        }, 
        {
          "cell_type": "markdown", 
          "metadata": {}, 
          "source": [
            "\n", 
            "\n", 
            "Solve the two linear systems.\n", 
            "For Scilab user: this might take some time ...\n", 
            ""
          ]
        }, 
        {
          "cell_type": "code", 
          "collapsed": false, 
          "input": [
            "if using_matlab()\n", 
            "    Y = (L1 \\ R')'\n", 
            "else\n", 
            "    options.maxit = 300\n", 
            "    Y(1,:) = perform_cg(L1,R(1,:)',options)'\n", 
            "    Y(2,:) = perform_cg(L1,R(2,:)',options)'\n", 
            ""
          ], 
          "language": "python", 
          "outputs": []
        }, 
        {
          "cell_type": "markdown", 
          "metadata": {}, 
          "source": [
            "\n", 
            "\n", 
            "Display the parameterization.\n", 
            ""
          ]
        }, 
        {
          "cell_type": "code", 
          "collapsed": false, 
          "input": [
            "\n", 
            "options.lighting = 0\n", 
            "plot_mesh([Y;zeros(1,n)],F)\n", 
            "shading('faceted')"
          ], 
          "language": "python", 
          "outputs": []
        }, 
        {
          "cell_type": "markdown", 
          "metadata": {}, 
          "source": [
            "\n", 
            ""
          ]
        }, 
        {
          "cell_type": "heading", 
          "level": 2, 
          "metadata": {}, 
          "source": [
            "Mesh Parameterization on a Square\n"
          ]
        }, 
        {
          "cell_type": "markdown", 
          "metadata": {}, 
          "source": [
            "One can perform a fixed B parameterization on a square.\n", 
            "This is useful to compute a geometry image (a color image storring the\n", 
            "position of the vertices).\n", 
            ""
          ]
        }, 
        {
          "cell_type": "heading", 
          "level": 3, 
          "metadata": {}, 
          "source": [
            "Exercise 1"
          ]
        }, 
        {
          "cell_type": "markdown", 
          "metadata": {}, 
          "source": [
            "\n", 
            "Compute the fixed positions $Z$ of the points indexed by $B$ that are along a\n", 
            "square. Warning: $p$ is not divisible by 4.\n", 
            "\n", 
            "\n", 
            "\n", 
            "\n", 
            "\n", 
            "\n", 
            "\n", 
            "\n", 
            "\n", 
            "\n", 
            "\n", 
            "\n", 
            "\n", 
            "\n", 
            ""
          ]
        }, 
        {
          "cell_type": "code", 
          "collapsed": false, 
          "input": [
            "## Insert your code here."
          ], 
          "language": "python", 
          "outputs": []
        }, 
        {
          "cell_type": "markdown", 
          "metadata": {}, 
          "source": [
            "\n", 
            ""
          ]
        }, 
        {
          "cell_type": "heading", 
          "level": 3, 
          "metadata": {}, 
          "source": [
            "Exercise 2"
          ]
        }, 
        {
          "cell_type": "markdown", 
          "metadata": {}, 
          "source": [
            "\n", 
            "Compute the parameterization $Y$ on a square.\n", 
            "\n", 
            "\n", 
            "\n", 
            "\n", 
            "\n", 
            "\n", 
            "\n", 
            "\n", 
            "\n", 
            "\n", 
            "\n", 
            ""
          ]
        }, 
        {
          "cell_type": "code", 
          "collapsed": false, 
          "input": [
            "## Insert your code here."
          ], 
          "language": "python", 
          "outputs": []
        }, 
        {
          "cell_type": "markdown", 
          "metadata": {}, 
          "source": [
            "\n", 
            ""
          ]
        }, 
        {
          "cell_type": "heading", 
          "level": 3, 
          "metadata": {}, 
          "source": [
            "Exercise 3"
          ]
        }, 
        {
          "cell_type": "markdown", 
          "metadata": {}, 
          "source": [
            "\n", 
            "Shift the $B$ positions so that the eyes of the model are approximately\n", 
            "horizontal.\n", 
            "\n", 
            "\n", 
            "\n", 
            "solve\n", 
            "\n", 
            "\n", 
            "\n", 
            ""
          ]
        }, 
        {
          "cell_type": "code", 
          "collapsed": false, 
          "input": [
            "## Insert your code here."
          ], 
          "language": "python", 
          "outputs": []
        }, 
        {
          "cell_type": "markdown", 
          "metadata": {}, 
          "source": [
            "\n", 
            "\n", 
            ""
          ]
        }, 
        {
          "cell_type": "heading", 
          "level": 2, 
          "metadata": {}, 
          "source": [
            "Re-align the Texture\n"
          ]
        }, 
        {
          "cell_type": "markdown", 
          "metadata": {}, 
          "source": [
            "To map correctly a real image on the surface, the texture needs to be aligned.\n", 
            "We use here a simple affine mapping to map the eye and mouth of the image\n", 
            "on the corresponding locaiton on the surface.\n", 
            "\n", 
            "\n", 
            "Load a texture image $T$.\n", 
            ""
          ]
        }, 
        {
          "cell_type": "code", 
          "collapsed": false, 
          "input": [
            "n1 = 256\n", 
            "T = load_image('lena', n1)\n", 
            "T = T(n1:-1:1,:)"
          ], 
          "language": "python", 
          "outputs": []
        }, 
        {
          "cell_type": "markdown", 
          "metadata": {}, 
          "source": [
            "\n", 
            "\n", 
            "Display the texture on the mesh, using the parametrization of the mesh as\n", 
            "texture coordinates.\n", 
            ""
          ]
        }, 
        {
          "cell_type": "code", 
          "collapsed": false, 
          "input": [
            "options.texture = T\n", 
            "options.texture_coords = Y\n", 
            "\n", 
            "plot_mesh(X,F,options)\n", 
            "zoom(1.5)"
          ], 
          "language": "python", 
          "outputs": []
        }, 
        {
          "cell_type": "markdown", 
          "metadata": {}, 
          "source": [
            "\n", 
            "\n", 
            "Position $(u_1,u_2,u_3)$ of the eyes and the mouth in the texture.\n", 
            ""
          ]
        }, 
        {
          "cell_type": "code", 
          "collapsed": false, 
          "input": [
            "u1 = [247;266]*n1/512\n", 
            "u2 = [247;328]*n1/512\n", 
            "u3 = [161;301]*n1/512"
          ], 
          "language": "python", 
          "outputs": []
        }, 
        {
          "cell_type": "markdown", 
          "metadata": {}, 
          "source": [
            "\n", 
            "\n", 
            "Display.\n", 
            ""
          ]
        }, 
        {
          "cell_type": "code", 
          "collapsed": false, 
          "input": [
            "clf; hold('on')\n", 
            "if using_matlab()\n", 
            "    imageplot(T)\n", 
            "else\n", 
            "    imageplot(T(n1:-1:1,:))\n", 
            "\n", 
            "h = plot([u1(2) u2(2) u3(2) u1(2)], [u1(1) u2(1) u3(1) u1(1)], '.-b')\n", 
            "if using_matlab()\n", 
            "    set(h, 'LineWidth', 2)\n", 
            "    set(h, 'MarkerSize', 20)\n", 
            ""
          ], 
          "language": "python", 
          "outputs": []
        }, 
        {
          "cell_type": "markdown", 
          "metadata": {}, 
          "source": [
            "\n", 
            "\n", 
            "Positions $(v_1,v_2,v_3)$ of the eyes and the mouth on the parameteric domain\n", 
            ""
          ]
        }, 
        {
          "cell_type": "code", 
          "collapsed": false, 
          "input": [
            "v1 = [310;125]*n1/512\n", 
            "v2 = [315;350]*n1/512\n", 
            "v3 = [105;232]*n1/512"
          ], 
          "language": "python", 
          "outputs": []
        }, 
        {
          "cell_type": "markdown", 
          "metadata": {}, 
          "source": [
            "\n", 
            "\n", 
            "Display.\n", 
            ""
          ]
        }, 
        {
          "cell_type": "code", 
          "collapsed": false, 
          "input": [
            "clf; hold('on')\n", 
            "plot_graph(W, Y'*(n1-1)+1, 'b')\n", 
            "h = plot([v1(2) v2(2) v3(2) v1(2)], [v1(1) v2(1) v3(1) v1(1)], '.-r')\n", 
            "axis('off'); axis('equal')\n", 
            "if using_matlab()\n", 
            "    set(h, 'LineWidth', 2)\n", 
            "    set(h, 'MarkerSize', 20)\n", 
            ""
          ], 
          "language": "python", 
          "outputs": []
        }, 
        {
          "cell_type": "markdown", 
          "metadata": {}, 
          "source": [
            "\n", 
            "\n", 
            "\n", 
            "Apply a similitude to the image so that the mouth and the eye have the correct position in parametric domain.\n", 
            ""
          ]
        }, 
        {
          "cell_type": "code", 
          "collapsed": false, 
          "input": [
            "T1 = perform_image_similitude(T','affine',(u1-1)/n1,(v1-1)/n1,(u2-1)/n1,(v2-1)/n1,(u3-1)/n1,(v3-1)/n1)'"
          ], 
          "language": "python", 
          "outputs": []
        }, 
        {
          "cell_type": "markdown", 
          "metadata": {}, 
          "source": [
            "\n", 
            "\n", 
            "Display the mesh with the image overlaid.\n", 
            ""
          ]
        }, 
        {
          "cell_type": "code", 
          "collapsed": false, 
          "input": [
            "clf; hold on\n", 
            "if using_matlab()\n", 
            "    imageplot(T1)\n", 
            "else\n", 
            "    imageplot(T1(n1:-1:1,:))\n", 
            "\n", 
            "plot_graph(W, Y'*(n1-1)+1, 'b')\n", 
            "h = plot([v1(2) v2(2) v3(2) v1(2)], [v1(1) v2(1) v3(1) v1(1)], '.-r')\n", 
            "axis('off'); axis('equal')\n", 
            "if using_matlab()\n", 
            "    set(h, 'LineWidth', 2)\n", 
            "    set(h, 'MarkerSize', 20)\n", 
            ""
          ], 
          "language": "python", 
          "outputs": []
        }, 
        {
          "cell_type": "markdown", 
          "metadata": {}, 
          "source": [
            "\n", 
            "\n", 
            "Display the texture mapped mesh.\n", 
            ""
          ]
        }, 
        {
          "cell_type": "code", 
          "collapsed": false, 
          "input": [
            "options.texture = T1\n", 
            "\n", 
            "plot_mesh(X,F,options)\n", 
            "zoom(1.5)"
          ], 
          "language": "python", 
          "outputs": []
        }, 
        {
          "cell_type": "heading", 
          "level": 2, 
          "metadata": {}, 
          "source": [
            "Geometry Images\n"
          ]
        }, 
        {
          "cell_type": "markdown", 
          "metadata": {}, 
          "source": [
            "We use this parameterization to interpolate the mesh on a regular grid.\n", 
            "This creates a so-called geometry image.\n", 
            ""
          ]
        }, 
        {
          "cell_type": "code", 
          "collapsed": false, 
          "input": [
            "q = 64\n", 
            "M = zeros(q,q,3)\n", 
            "for i in 1:3:\n", 
            "    M(:,:,i) = compute_triang_interp(F,Y,X(i,:), q)\n", 
            ""
          ], 
          "language": "python", 
          "outputs": []
        }, 
        {
          "cell_type": "markdown", 
          "metadata": {}, 
          "source": [
            "\n", 
            "\n", 
            "Display the re-interpolated mesh as an image.\n", 
            ""
          ]
        }, 
        {
          "cell_type": "code", 
          "collapsed": false, 
          "input": [
            "\n", 
            "imageplot(M)"
          ], 
          "language": "python", 
          "outputs": []
        }, 
        {
          "cell_type": "markdown", 
          "metadata": {}, 
          "source": [
            "\n", 
            "\n", 
            "Display the re-interpolated mesh as a surface.\n", 
            ""
          ]
        }, 
        {
          "cell_type": "code", 
          "collapsed": false, 
          "input": [
            "C = ones(q,q)*0.8; % color\n", 
            "\n", 
            "colormap(gray(256))\n", 
            "surf(M(:,:,1), M(:,:,2), M(:,:,3), C )\n", 
            "view(-40,70)\n", 
            "zoom(1.5)\n", 
            "axis tight; axis square; axis off\n", 
            "camlight local;  shading faceted"
          ], 
          "language": "python", 
          "outputs": []
        }, 
        {
          "cell_type": "markdown", 
          "metadata": {}, 
          "source": [
            "\n", 
            "\n", 
            "Compute a checkboard texture.\n", 
            ""
          ]
        }, 
        {
          "cell_type": "code", 
          "collapsed": false, 
          "input": [
            "[V,U] = meshgrid(1:32,1:32)\n", 
            "T = mod(V+U,2)"
          ], 
          "language": "python", 
          "outputs": []
        }, 
        {
          "cell_type": "markdown", 
          "metadata": {}, 
          "source": [
            "\n", 
            "\n", 
            "Display the texture on the surface.\n", 
            ""
          ]
        }, 
        {
          "cell_type": "code", 
          "collapsed": false, 
          "input": [
            "\n", 
            "colormap(gray(256))\n", 
            "plot_surf_texture(M, T)\n", 
            "view(-40,70); zoom(1.5)\n", 
            "axis tight; axis square; axis off\n", 
            "camlight"
          ], 
          "language": "python", 
          "outputs": []
        }, 
        {
          "cell_type": "markdown", 
          "metadata": {}, 
          "source": [
            "\n", 
            ""
          ]
        }, 
        {
          "cell_type": "heading", 
          "level": 2, 
          "metadata": {}, 
          "source": [
            "Boundary Free Parameterization\n"
          ]
        }, 
        {
          "cell_type": "markdown", 
          "metadata": {}, 
          "source": [
            "Instead of fixing the positions of the points indexed by $B$ on a closed convex curve,\n", 
            "it is possible to set the boundary free and impose Neumann boundary\n", 
            "conditions.\n", 
            "\n", 
            "\n", 
            "This was proposed in:\n", 
            "\n", 
            "\n", 
            "Mathieu Desbrun, Mark Meyer and Pierre Alliez,\n", 
            "_Intrinsic Parameterizations of Surface Meshes,_\n", 
            "In EUROGRAPHICS 2002\n", 
            "\n", 
            "\n", 
            "To remove the translation and rotation degree of freedom, one needs to\n", 
            "impose the position of two vertices.\n", 
            "\n", 
            "\n", 
            "\n", 
            "Set up a $ (2n,2n) $ linear systeme for the X/Y position of the vertices in\n", 
            "the plane.\n", 
            ""
          ]
        }, 
        {
          "cell_type": "code", 
          "collapsed": false, 
          "input": [
            "A = make_sparse(2*n,2*n)\n", 
            "A(1:n,1:n) = L\n", 
            "A(n+1:2*n,n+1:2*n) = L"
          ], 
          "language": "python", 
          "outputs": []
        }, 
        {
          "cell_type": "markdown", 
          "metadata": {}, 
          "source": [
            "\n", 
            "\n", 
            "Add the neumann boundary conditions to the system.\n", 
            ""
          ]
        }, 
        {
          "cell_type": "code", 
          "collapsed": false, 
          "input": [
            "for s  in  1:p:\n", 
            "    s1 = mod(s-2,p)+1\n", 
            "    s2 = mod(s,p)+1\n", 
            "    i = B(s)\n", 
            "    i1 = B(s1)\n", 
            "    i2 = B(s2)\n", 
            "    A(i,[i1 i2]+n) = [1, -1]\n", 
            "    A(i+n,[i1 i2]) = [-1, +1]\n", 
            ""
          ], 
          "language": "python", 
          "outputs": []
        }, 
        {
          "cell_type": "markdown", 
          "metadata": {}, 
          "source": [
            "\n", 
            "\n", 
            "Select two pinned vertices.\n", 
            ""
          ]
        }, 
        {
          "cell_type": "code", 
          "collapsed": false, 
          "input": [
            "i1 = B(1)\n", 
            "i2 = B(round(p/2))"
          ], 
          "language": "python", 
          "outputs": []
        }, 
        {
          "cell_type": "markdown", 
          "metadata": {}, 
          "source": [
            "\n", 
            "\n", 
            "Set up the pinned vertices in the system.\n", 
            ""
          ]
        }, 
        {
          "cell_type": "code", 
          "collapsed": false, 
          "input": [
            "A(i1,:) = 0;  A(i1+n,:) = 0\n", 
            "A(i1,i1) = 1; A(i1+n,i1+n) = 1\n", 
            "A(i2,:) = 0;  A(i2+n,:) = 0\n", 
            "A(i2,i2) = 1; A(i2+n,i2+n) = 1"
          ], 
          "language": "python", 
          "outputs": []
        }, 
        {
          "cell_type": "markdown", 
          "metadata": {}, 
          "source": [
            "\n", 
            "\n", 
            "Set up the right hand side of the system.\n", 
            ""
          ]
        }, 
        {
          "cell_type": "code", 
          "collapsed": false, 
          "input": [
            "y = zeros(2*n,1)\n", 
            "y([i1 i2]) = [0 1]\n", 
            "y([i1 i2]+n) = [0 0]"
          ], 
          "language": "python", 
          "outputs": []
        }, 
        {
          "cell_type": "markdown", 
          "metadata": {}, 
          "source": [
            "\n", 
            "\n", 
            "Solve for the position.\n", 
            ""
          ]
        }, 
        {
          "cell_type": "code", 
          "collapsed": false, 
          "input": [
            "if using_matlab()\n", 
            "    Y = reshape(A\\y, [n 2])'\n", 
            "else\n", 
            "    options.maxit = 300\n", 
            "    Y = reshape( perform_cg(A,y,options), [n 2])'\n", 
            "\n", 
            "Y = Y - repmat(min(Y,[],2), [1 n])\n", 
            "Y = Y/max(Y(:))"
          ], 
          "language": "python", 
          "outputs": []
        }, 
        {
          "cell_type": "markdown", 
          "metadata": {}, 
          "source": [
            "\n", 
            "\n", 
            "Display.\n", 
            ""
          ]
        }, 
        {
          "cell_type": "code", 
          "collapsed": false, 
          "input": [
            "\n", 
            "plot_mesh([Y;zeros(1,n)],F)\n", 
            "shading faceted; axis tight"
          ], 
          "language": "python", 
          "outputs": []
        }, 
        {
          "cell_type": "heading", 
          "level": 3, 
          "metadata": {}, 
          "source": [
            "Exercise 4"
          ]
        }, 
        {
          "cell_type": "markdown", 
          "metadata": {}, 
          "source": [
            "\n", 
            "Compute a geometry image from the boundary free parameterization\n", 
            "and use it to map a checkboard texture.\n", 
            "\n", 
            "\n", 
            "\n", 
            "\n", 
            "\n", 
            "\n", 
            "\n", 
            "\n", 
            "\n", 
            "\n", 
            "\n", 
            "\n", 
            ""
          ]
        }, 
        {
          "cell_type": "code", 
          "collapsed": false, 
          "input": [
            "## Insert your code here."
          ], 
          "language": "python", 
          "outputs": []
        }, 
        {
          "cell_type": "markdown", 
          "metadata": {}, 
          "source": [
            "\n", 
            "\n", 
            ""
          ]
        }, 
        {
          "cell_type": "heading", 
          "level": 2, 
          "metadata": {}, 
          "source": [
            "Parameterization of a Larger Mesh\n"
          ]
        }, 
        {
          "cell_type": "markdown", 
          "metadata": {}, 
          "source": [
            "One can parameterize a larger mesh, having a large area/perimeter of\n", 
            "B distortion. This usually procudes poor quality parameterization,\n", 
            "with a large distortion.\n", 
            "\n", 
            "\n", 
            "Load a mesh.\n", 
            ""
          ]
        }, 
        {
          "cell_type": "code", 
          "collapsed": false, 
          "input": [
            "name = 'david-head'\n", 
            "[X,F] = read_mesh(name)\n", 
            "n = size(X,2)\n", 
            "clear options; options.name = name"
          ], 
          "language": "python", 
          "outputs": []
        }, 
        {
          "cell_type": "markdown", 
          "metadata": {}, 
          "source": [
            "\n", 
            "\n", 
            "Display the mesh.\n", 
            ""
          ]
        }, 
        {
          "cell_type": "code", 
          "collapsed": false, 
          "input": [
            "\n", 
            "options.lighting = 1\n", 
            "plot_mesh(X,F,options)\n", 
            "shading faceted"
          ], 
          "language": "python", 
          "outputs": []
        }, 
        {
          "cell_type": "markdown", 
          "metadata": {}, 
          "source": [
            "\n", 
            ""
          ]
        }, 
        {
          "cell_type": "heading", 
          "level": 3, 
          "metadata": {}, 
          "source": [
            "Exercise 5"
          ]
        }, 
        {
          "cell_type": "markdown", 
          "metadata": {}, 
          "source": [
            "\n", 
            "Compute the Laplacian $L$ of the mesh, the boundary $B$ and the modified\n", 
            "Laplacian $L_1$.\n", 
            "\n", 
            "\n", 
            "\n", 
            "\n", 
            "\n", 
            "\n", 
            "\n", 
            "\n", 
            "\n", 
            "\n", 
            "\n", 
            "\n", 
            "\n", 
            "\n", 
            "\n", 
            "\n", 
            "Compute the symmetric Laplacian matrix.\n", 
            "\n", 
            "\n", 
            "\n", 
            "\n", 
            "\n", 
            "\n", 
            "\n", 
            "\n", 
            "\n", 
            "\n", 
            "\n", 
            ""
          ]
        }, 
        {
          "cell_type": "code", 
          "collapsed": false, 
          "input": [
            "## Insert your code here."
          ], 
          "language": "python", 
          "outputs": []
        }, 
        {
          "cell_type": "markdown", 
          "metadata": {}, 
          "source": [
            "\n", 
            "\n", 
            "\n", 
            "Display the boundary.\n", 
            ""
          ]
        }, 
        {
          "cell_type": "code", 
          "collapsed": false, 
          "input": [
            "\n", 
            "hold on\n", 
            "plot_mesh(X, F,options)\n", 
            "hh = plot3( X(1,B),X(2,B),X(3,B), 'r' )\n", 
            "set_linewidth(hh,3)\n", 
            "view(-150,-30)"
          ], 
          "language": "python", 
          "outputs": []
        }, 
        {
          "cell_type": "heading", 
          "level": 3, 
          "metadata": {}, 
          "source": [
            "Exercise 6"
          ]
        }, 
        {
          "cell_type": "markdown", 
          "metadata": {}, 
          "source": [
            "\n", 
            "Perform the parameterization of the mesh on a circle.\n", 
            "\n", 
            "\n", 
            "\n", 
            "\n", 
            "\n", 
            "\n", 
            "\n", 
            "\n", 
            "\n", 
            "\n", 
            "\n", 
            "\n", 
            "\n", 
            "\n", 
            "\n", 
            "\n", 
            "\n", 
            "\n", 
            ""
          ]
        }, 
        {
          "cell_type": "code", 
          "collapsed": false, 
          "input": [
            "## Insert your code here."
          ], 
          "language": "python", 
          "outputs": []
        }, 
        {
          "cell_type": "markdown", 
          "metadata": {}, 
          "source": [
            "\n", 
            "\n", 
            ""
          ]
        }, 
        {
          "cell_type": "heading", 
          "level": 3, 
          "metadata": {}, 
          "source": [
            "Exercise 7"
          ]
        }, 
        {
          "cell_type": "markdown", 
          "metadata": {}, 
          "source": [
            "\n", 
            "Display a high frequency function defined on the parameteric domain on\n", 
            "the mesh. What do you observe ?\n", 
            "\n", 
            "\n", 
            "Display the function on the 2D parameteric domain.\n", 
            "\n", 
            "\n", 
            "\n", 
            "\n", 
            "\n", 
            "\n", 
            "\n", 
            "\n", 
            "\n", 
            "\n", 
            "\n", 
            ""
          ]
        }, 
        {
          "cell_type": "code", 
          "collapsed": false, 
          "input": [
            "## Insert your code here."
          ], 
          "language": "python", 
          "outputs": []
        }
      ]
    }
  ]
}