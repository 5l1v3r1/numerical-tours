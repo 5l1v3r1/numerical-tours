{
  "metadata": {
    "name": ""
  }, 
  "nbformat": 3, 
  "nbformat_minor": 0, 
  "worksheets": [
    {
      "cells": [
        {
          "cell_type": "heading", 
          "level": 1, 
          "metadata": {}, 
          "source": [
            "2-D Haar Wavelets"
          ]
        }, 
        {
          "cell_type": "markdown", 
          "metadata": {}, 
          "source": [
            "This numerical tour explores 2-D multiresolution analysis with the Haar transform.\n", 
            "It was introduced in 1910 by Haar  <#biblio [Haar1910]>\n", 
            "and is arguably the first example of wavelet basis.\n", 
            ""
          ]
        }, 
        {
          "cell_type": "markdown", 
          "metadata": {}, 
          "source": [
            "*Important:* You need to download the file `nt_toolbox.py` from the \n", 
            "root of the github repository.\n", 
            "$\\newcommand{\\dotp}[2]{\\langle #1, #2 \\rangle}\n", 
            "\\newcommand{\\enscond}[2]{\\lbrace #1, #2 \\rbrace}\n", 
            "\\newcommand{\\pd}[2]{ \\frac{ \\partial #1}{\\partial #2} }\n", 
            "\\newcommand{\\umin}[1]{\\underset{#1}{\\min}\\;}\n", 
            "\\newcommand{\\norm}[1]{\\|#1\\|}\n", 
            "\\newcommand{\\abs}[1]{\\left|#1\\right|}\n", 
            "\\newcommand{\\choice}[1]{ \\left\\{  \\begin{array}{l} #1 \\end{array} \\right. }\n", 
            "\\newcommand{\\pa}[1]{\\left(#1\\right)}\n", 
            "\\newcommand{\\qandq}{\\quad\\text{and}\\quad}\n", 
            "\\newcommand{\\qwhereq}{\\quad\\text{where}\\quad}\n", 
            "\\newcommand{\\qifq}{ \\quad \\text{if} \\quad }\n", 
            "\\newcommand{\\qarrq}{ \\quad \\Longrightarrow \\quad }\n", 
            "\\newcommand{\\ZZ}{\\mathbb{Z}}\n", 
            "\\newcommand{\\RR}{\\mathbb{R}}\n", 
            "\\newcommand{\\Nn}{\\mathcal{N}}\n", 
            "\\newcommand{\\Hh}{\\mathcal{H}}\n", 
            "\\newcommand{\\Bb}{\\mathcal{B}}\n", 
            "\\newcommand{\\EE}{\\mathbb{E}}\n", 
            "\\newcommand{\\CC}{\\mathbb{C}}\n", 
            "\\newcommand{\\si}{\\sigma}\n", 
            "\\newcommand{\\al}{\\alpha}\n", 
            "\\newcommand{\\la}{\\lambda}\n", 
            "\\newcommand{\\ga}{\\gamma}\n", 
            "\\newcommand{\\Ga}{\\Gamma}\n", 
            "\\newcommand{\\La}{\\Lambda}\n", 
            "\\newcommand{\\si}{\\sigma}\n", 
            "\\newcommand{\\Si}{\\Sigma}\n", 
            "\\newcommand{\\be}{\\beta}\n", 
            "\\newcommand{\\de}{\\delta}\n", 
            "\\newcommand{\\De}{\\Delta}\n", 
            "\\renewcommand{\\phi}{\\varphi}\n", 
            "\\renewcommand{\\th}{\\theta}\n", 
            "\\newcommand{\\om}{\\omega}\n", 
            "\\newcommand{\\Om}{\\Omega}\n", 
            "$"
          ]
        }, 
        {
          "cell_type": "code", 
          "collapsed": false, 
          "input": [
            "from nt_toolbox import *", 
            "%matplotlib inline", 
            "%load_ext autoreload", 
            "%autoreload 2"
          ], 
          "language": "python", 
          "outputs": []
        }, 
        {
          "cell_type": "heading", 
          "level": 2, 
          "metadata": {}, 
          "source": [
            "Forward 2-D Haar transform\n"
          ]
        }, 
        {
          "cell_type": "markdown", 
          "metadata": {}, 
          "source": [
            "The Haar transform is the simplest orthogonal wavelet transform. It is\n", 
            "computed by iterating difference and averaging between odd and even\n", 
            "samples of the signal. Since we are in 2-D, we need to compute the average\n", 
            "and difference in the horizontal and then in the vertical direction (or\n", 
            "in the reverse order, it does not mind).\n", 
            "\n", 
            "\n", 
            "Size $N=n\\times n$ of the image.\n", 
            ""
          ]
        }, 
        {
          "cell_type": "code", 
          "collapsed": false, 
          "input": [
            "n = 256\n", 
            "N = n*n"
          ], 
          "language": "python", 
          "outputs": []
        }, 
        {
          "cell_type": "markdown", 
          "metadata": {}, 
          "source": [
            "\n", 
            "\n", 
            "First we load an image.\n", 
            ""
          ]
        }, 
        {
          "cell_type": "code", 
          "collapsed": false, 
          "input": [
            "name = 'hibiscus'\n", 
            "f = load_image(name,n)\n", 
            "f = rescale( sum(f,3) )"
          ], 
          "language": "python", 
          "outputs": []
        }, 
        {
          "cell_type": "markdown", 
          "metadata": {}, 
          "source": [
            "\n", 
            "\n", 
            "\n", 
            "The Haar transform operates over $J = \\log_2(n)-1$ scales.\n", 
            "It computes a series of coarse scale and fine scale coefficients\n", 
            "$a_j, d_j^H, d_j^V, d_j^D \\in \\RR^{n_j \\times n_j}$ where $N_j=2^j$.\n", 
            ""
          ]
        }, 
        {
          "cell_type": "code", 
          "collapsed": false, 
          "input": [
            "J = log2(n)-1"
          ], 
          "language": "python", 
          "outputs": []
        }, 
        {
          "cell_type": "markdown", 
          "metadata": {}, 
          "source": [
            "\n", 
            "\n", 
            "The forward Haar transform computes\n", 
            "$$\\Hh(f) = (d_j^\\om)_{j=0,\\ldots,J}^{\\om=H,V,D} \\cup \\{a_0\\} . $$\n", 
            "Note that the set of coarse scale coefficients $(a_j)_{j>0}$ are not\n", 
            "stored.\n", 
            "\n", 
            "\n", 
            "This transform is orthogonal, meaning $ \\Hh \\circ \\Hh^* = \\text{Id} $,\n", 
            "and that there is the following conservation of energy\n", 
            "$$ \\sum_i \\abs{f_i}^2 = \\norm{f}^2 = \\norm{\\Hh f}^2 = \\sum_{j,\\om} \\norm{d_j^\\om}^2 + \\abs{a_0}^2. $$\n", 
            "\n", 
            "\n", 
            "One initilizes the algorithm with $a_{J+1}=f$.\n", 
            "\n", 
            "\n", 
            "The first step apply a vertical transformtion, which corresponds to applying a 1-D\n", 
            "Haar transform on each column, i.e.\n", 
            "it computes $\\tilde d_{j},\\tilde a_j$ from $a_{j+1}$ as, for all\n", 
            "$\\ell=0,\\ldots,2^{j+1}-1$ and $k=0,\\ldots,2^j-1$,\n", 
            "$$\n", 
            "      \\tilde a_j[k,\\ell] = \\frac{a_{j+1}[2k,\\ell] + a_{j+1}[2k+1,\\ell]}{\\sqrt{2}}\n", 
            "  \\qandq\n", 
            "      \\tilde d_j[k,\\ell] = \\frac{a_{j+1}[2k,\\ell] - a_{j+1}[2k+1,\\ell]}{\\sqrt{2}}. $$\n", 
            "\n", 
            "\n", 
            "\n", 
            "Shortcut to compute $\\tilde a_j, \\tilde d_j$ from $a_{j+1}$.\n", 
            "\n", 
            ""
          ]
        }, 
        {
          "cell_type": "code", 
          "collapsed": false, 
          "input": [
            "haarV = lambda a: [   a(1:2:length(a),:) + a(2:2:length(a),:)\n", 
            "                    a(1:2:length(a),:) - a(2:2:length(a),:) ]/sqrt(2)"
          ], 
          "language": "python", 
          "outputs": []
        }, 
        {
          "cell_type": "markdown", 
          "metadata": {}, 
          "source": [
            "\n", 
            "\n", 
            "\n", 
            "Display the result of the vertical transform.\n", 
            ""
          ]
        }, 
        {
          "cell_type": "code", 
          "collapsed": false, 
          "input": [
            "\n", 
            "imageplot(f,'Original image',1,2,1)\n", 
            "imageplot(haarV(f),'Vertical transform',1,2,2)"
          ], 
          "language": "python", 
          "outputs": []
        }, 
        {
          "cell_type": "markdown", 
          "metadata": {}, 
          "source": [
            "\n", 
            "\n", 
            "One then apply the same 1-D horizontal transform to both $\\tilde a_j,\n", 
            "\\tilde d_j$ to obtain the resulting matrices at scale $j$,\n", 
            "i.e. to compute $a_j,d_j^H,d_j^V,d_j^D$ as,\n", 
            "for all $\\ell, k =0,\\ldots,2^j-1$,\n", 
            "$$\n", 
            "      a_j[k,\\ell] = \\frac{\\tilde a_{j}[k,2\\ell] + \\tilde a_{j}[k,2\\ell+1]}{\\sqrt{2}}\n", 
            "  \\qandq\n", 
            "      d_j^H[k,\\ell] = \\frac{\\tilde a_{j}[k,2\\ell] - \\tilde a_{j}[k,2\\ell+1]}{\\sqrt{2}}. $$\n", 
            "$$\n", 
            "      d_j^V[k,\\ell] = \\frac{\\tilde d_{j}[k,2\\ell] + \\tilde d_{j}[k,2\\ell+1]}{\\sqrt{2}}\n", 
            "  \\qandq\n", 
            "      d_j^D[k,\\ell] = \\frac{\\tilde d_{j}[k,2\\ell] - \\tilde d_{j}[k,2\\ell+1]}{\\sqrt{2}}. $$\n", 
            "\n", 
            "\n", 
            "Shortcut for the vertical transform.\n", 
            ""
          ]
        }, 
        {
          "cell_type": "code", 
          "collapsed": false, 
          "input": [
            "haarH = lambda a: haarV(a')'"
          ], 
          "language": "python", 
          "outputs": []
        }, 
        {
          "cell_type": "markdown", 
          "metadata": {}, 
          "source": [
            "\n", 
            "\n", 
            "Shortcut for one step of Haar transform.\n", 
            ""
          ]
        }, 
        {
          "cell_type": "code", 
          "collapsed": false, 
          "input": [
            "haar = lambda a: haarH(haarV(a))"
          ], 
          "language": "python", 
          "outputs": []
        }, 
        {
          "cell_type": "markdown", 
          "metadata": {}, 
          "source": [
            "\n", 
            "\n", 
            "\n", 
            "Display the result of the first step of the algorithm.\n", 
            ""
          ]
        }, 
        {
          "cell_type": "code", 
          "collapsed": false, 
          "input": [
            "\n", 
            "imageplot(f,'Original image',1,2,1)\n", 
            "subplot(1,2,2)\n", 
            "plot_wavelet(haar(f),log2(n)-1); title('Transformed')"
          ], 
          "language": "python", 
          "outputs": []
        }, 
        {
          "cell_type": "markdown", 
          "metadata": {}, 
          "source": [
            "\n", 
            "\n", 
            "The output of the forward transform is stored in the variable |fw|.\n", 
            "At a given iteration indexed by a scale |j|, it will store in |fw(1:2^(j+1),1:2^(j+1))|\n", 
            "the variable $a_{j+1}$.\n", 
            "\n", 
            "\n", 
            "Initializes the algorithm at scale $j=J$.\n", 
            ""
          ]
        }, 
        {
          "cell_type": "code", 
          "collapsed": false, 
          "input": [
            "j = J"
          ], 
          "language": "python", 
          "outputs": []
        }, 
        {
          "cell_type": "markdown", 
          "metadata": {}, 
          "source": [
            "\n", 
            "\n", 
            "Initialize |fw| to the full signal.\n", 
            ""
          ]
        }, 
        {
          "cell_type": "code", 
          "collapsed": false, 
          "input": [
            "fw = f"
          ], 
          "language": "python", 
          "outputs": []
        }, 
        {
          "cell_type": "markdown", 
          "metadata": {}, 
          "source": [
            "\n", 
            "\n", 
            "At iteration indexed by $j$,\n", 
            "select the sub-part of the signal containing $a_{j+1}$,\n", 
            "and apply it the Haar operator.\n", 
            ""
          ]
        }, 
        {
          "cell_type": "code", 
          "collapsed": false, 
          "input": [
            "fw(1:2^(j+1),1:2^(j+1)) = haar(fw(1:2^(j+1),1:2^(j+1)))"
          ], 
          "language": "python", 
          "outputs": []
        }, 
        {
          "cell_type": "heading", 
          "level": 3, 
          "metadata": {}, 
          "source": [
            "Exercise 1"
          ]
        }, 
        {
          "cell_type": "markdown", 
          "metadata": {}, 
          "source": [
            "\n", 
            "Implement a full wavelet transform that extract iteratively wavelet\n", 
            "coefficients, by repeating these steps. Take care of choosing the\n", 
            "correct number of steps.\n", 
            "\n", 
            "\n", 
            "\n", 
            "\n", 
            "\n", 
            "\n", 
            "\n", 
            "\n", 
            "\n", 
            "\n", 
            "\n", 
            "\n", 
            "\n", 
            ""
          ]
        }, 
        {
          "cell_type": "code", 
          "collapsed": false, 
          "input": [
            "## Insert your code here."
          ], 
          "language": "python", 
          "outputs": []
        }, 
        {
          "cell_type": "markdown", 
          "metadata": {}, 
          "source": [
            "\n", 
            "\n", 
            "\n", 
            "Check that the transform is\n", 
            "orthogonal, which means that the energy of the coefficient is the same\n", 
            "as the energy of the signal.\n", 
            ""
          ]
        }, 
        {
          "cell_type": "code", 
          "collapsed": false, 
          "input": [
            "fprintf('Should be 0: %.3f.\\n', (norm(f(:))-norm(fw(:)))/norm(f(:)))"
          ], 
          "language": "python", 
          "outputs": []
        }, 
        {
          "cell_type": "markdown", 
          "metadata": {}, 
          "source": [
            "\n", 
            "\n", 
            "Display the wavelet coefficients.\n", 
            ""
          ]
        }, 
        {
          "cell_type": "code", 
          "collapsed": false, 
          "input": [
            "\n", 
            "subplot(1,2,1)\n", 
            "imageplot(f); title('Original')\n", 
            "subplot(1,2,2)\n", 
            "plot_wavelet(fw, 1); title('Transformed')"
          ], 
          "language": "python", 
          "outputs": []
        }, 
        {
          "cell_type": "heading", 
          "level": 2, 
          "metadata": {}, 
          "source": [
            "Inverse 2-D Haar transform.\n"
          ]
        }, 
        {
          "cell_type": "markdown", 
          "metadata": {}, 
          "source": [
            "The backward transform computes a signal $f_1 = \\Hh^*(h)$ from a set of\n", 
            "coefficients $  h = (d_j^\\om)_{j,\\om} \\cup \\{a_0\\} $\n", 
            "\n", 
            "\n", 
            "If $h = \\Hh(f)$ are the coefficients of an image $f$, one recovers\n", 
            "$ f_1 = f $.\n", 
            "\n", 
            "\n", 
            "\n", 
            "The inverse transform starts from $j=0$, and computes $a_{j+1}$\n", 
            "from the knowledge of $a_j,d_j$ by first inverting the horizontal\n", 
            "transform, for all $k,\\ell = 0,\\ldots,2^j-1$,\n", 
            "$$\n", 
            "      \\tilde a_{j}[k,2\\ell] = \\frac{ a_j[k,\\ell] + a_j^H[k,\\ell] }{\\sqrt{2}}\n", 
            "      \\qandq\n", 
            "      \\tilde a_{j}[k,2\\ell+1] = \\frac{ a_j[k,\\ell] - a_j^H[k,\\ell] }{\\sqrt{2}}\n", 
            "$$\n", 
            "$$\n", 
            "      \\tilde d_{j}[k,2\\ell] = \\frac{ d_j^V[k,\\ell] + d_j^D[k,\\ell] }{\\sqrt{2}}\n", 
            "      \\qandq\n", 
            "      \\tilde d_{j}[k,2\\ell+1] = \\frac{ d_j^V[k,\\ell] - d_j^D[k,\\ell]\n", 
            "      }{\\sqrt{2}}.\n", 
            "$$\n", 
            ""
          ]
        }, 
        {
          "cell_type": "code", 
          "collapsed": false, 
          "input": [
            "ihaarV = lambda a,d: assign( zeros(2*size(a,1),size(a,2)), ...\n", 
            "        [1:2:2*size(a,1), 2:2:2*size(a,1)], [a+d; a-d]/sqrt(2), 1 )"
          ], 
          "language": "python", 
          "outputs": []
        }, 
        {
          "cell_type": "markdown", 
          "metadata": {}, 
          "source": [
            "\n", 
            "\n", 
            "Then one invert the vertical transform, for all $k = 0,\\ldots,2^j-1$ and for\n", 
            "all $\\ell=0,\\ldots,2^{j+1}-1$\n", 
            "$$\n", 
            "       a_{j}[2k,\\ell] = \\frac{ \\tilde a_j[k,\\ell] + \\tilde d_j[k,\\ell] }{\\sqrt{2}}\n", 
            "      \\qandq\n", 
            "       a_{j}[2k+1,\\ell] = \\frac{ \\tilde a_j[k,\\ell] - \\tilde d_j[k,\\ell] }{\\sqrt{2}}\n", 
            "$$\n", 
            ""
          ]
        }, 
        {
          "cell_type": "code", 
          "collapsed": false, 
          "input": [
            "ihaarH = lambda a,d: ihaarV(a',d')'"
          ], 
          "language": "python", 
          "outputs": []
        }, 
        {
          "cell_type": "markdown", 
          "metadata": {}, 
          "source": [
            "\n", 
            "\n", 
            "Shortcut to invert horizontal and then vertical transforms. This defines\n", 
            "the invert of the Haar transform.\n", 
            ""
          ]
        }, 
        {
          "cell_type": "code", 
          "collapsed": false, 
          "input": [
            "ihaar = lambda a,dH,dV,dD: ihaarV( ihaarH(a,dH), ihaarH(dV,dD) )"
          ], 
          "language": "python", 
          "outputs": []
        }, 
        {
          "cell_type": "markdown", 
          "metadata": {}, 
          "source": [
            "\n", 
            "\n", 
            "Initialize the signal to recover $f_1$ as the transformed coefficient, and\n", 
            "select the smallest possible scale $j=0$.\n", 
            ""
          ]
        }, 
        {
          "cell_type": "code", 
          "collapsed": false, 
          "input": [
            "f1 = fw\n", 
            "j = 0"
          ], 
          "language": "python", 
          "outputs": []
        }, 
        {
          "cell_type": "markdown", 
          "metadata": {}, 
          "source": [
            "\n", 
            "\n", 
            "Apply one step of inverse transform.\n", 
            ""
          ]
        }, 
        {
          "cell_type": "code", 
          "collapsed": false, 
          "input": [
            "s = 1:2^j; t = 2^j+1:2^(j+1); u = 1:2^(j+1)\n", 
            "f1(u,u) = ihaar(f1(s,s),f1(s,t),f1(t,s),f1(t,t))"
          ], 
          "language": "python", 
          "outputs": []
        }, 
        {
          "cell_type": "heading", 
          "level": 3, 
          "metadata": {}, 
          "source": [
            "Exercise 2"
          ]
        }, 
        {
          "cell_type": "markdown", 
          "metadata": {}, 
          "source": [
            "\n", 
            "Write the inverse wavelet transform that computes $f_1$ from\n", 
            "coefficients |fW|.\n", 
            "\n", 
            "\n", 
            "\n", 
            "\n", 
            "\n", 
            "\n", 
            "\n", 
            "\n", 
            "\n", 
            "\n", 
            "\n", 
            "\n", 
            ""
          ]
        }, 
        {
          "cell_type": "code", 
          "collapsed": false, 
          "input": [
            "## Insert your code here."
          ], 
          "language": "python", 
          "outputs": []
        }, 
        {
          "cell_type": "markdown", 
          "metadata": {}, 
          "source": [
            "\n", 
            "\n", 
            "\n", 
            "Check that we recover exactly the original image.\n", 
            ""
          ]
        }, 
        {
          "cell_type": "code", 
          "collapsed": false, 
          "input": [
            "fprintf('Should be 0: %.3f.\\n', (norm(f-f1))/norm(f))"
          ], 
          "language": "python", 
          "outputs": []
        }, 
        {
          "cell_type": "markdown", 
          "metadata": {}, 
          "source": [
            "\n", 
            ""
          ]
        }, 
        {
          "cell_type": "heading", 
          "level": 2, 
          "metadata": {}, 
          "source": [
            "Haar Linear Approximation\n"
          ]
        }, 
        {
          "cell_type": "markdown", 
          "metadata": {}, 
          "source": [
            "Linear approximation is obtained by setting to zeros the\n", 
            "Haar coefficient coefficients above a certain scale $j$.\n", 
            "\n", 
            "\n", 
            "Cut-off scale.\n", 
            ""
          ]
        }, 
        {
          "cell_type": "code", 
          "collapsed": false, 
          "input": [
            "j = J-1"
          ], 
          "language": "python", 
          "outputs": []
        }, 
        {
          "cell_type": "markdown", 
          "metadata": {}, 
          "source": [
            "\n", 
            "\n", 
            "Set to zero fine scale coefficients.\n", 
            ""
          ]
        }, 
        {
          "cell_type": "code", 
          "collapsed": false, 
          "input": [
            "fw1 = zeros(n); fw1(1:2^j,1:2^j) = fw(1:2^j,1:2^j)"
          ], 
          "language": "python", 
          "outputs": []
        }, 
        {
          "cell_type": "markdown", 
          "metadata": {}, 
          "source": [
            "\n", 
            "\n", 
            "Computing the signal $f_1$ corresponding to these coefficients |fw1|\n", 
            "computes the orthogonal projection on the space of images that are\n", 
            "constant on disjoint squares of length $N/2^j \\times N/2^j$.\n", 
            ""
          ]
        }, 
        {
          "cell_type": "heading", 
          "level": 3, 
          "metadata": {}, 
          "source": [
            "Exercise 3"
          ]
        }, 
        {
          "cell_type": "markdown", 
          "metadata": {}, 
          "source": [
            "\n", 
            "Display the reconstructed signal obtained from |fw1|, for a decreasing cut-off scale $j$.\n", 
            "\n", 
            "\n", 
            "\n", 
            "\n", 
            "\n", 
            "\n", 
            "\n", 
            "\n", 
            "\n", 
            "\n", 
            "\n", 
            ""
          ]
        }, 
        {
          "cell_type": "code", 
          "collapsed": false, 
          "input": [
            "## Insert your code here."
          ], 
          "language": "python", 
          "outputs": []
        }, 
        {
          "cell_type": "markdown", 
          "metadata": {}, 
          "source": [
            "\n", 
            ""
          ]
        }, 
        {
          "cell_type": "heading", 
          "level": 2, 
          "metadata": {}, 
          "source": [
            "Haar Non-linear Approximation\n"
          ]
        }, 
        {
          "cell_type": "markdown", 
          "metadata": {}, 
          "source": [
            "Non-linear approximation is obtained by thresholding low amplitude\n", 
            "wavelet coefficients.\n", 
            "It is defined as\n", 
            "$$ f_T = \\Hh^* \\circ S_T \\circ \\Hh(f) $$\n", 
            "where $S_T$ is the hard tresholding operator\n", 
            "$$ S_T(x)_i = \\choice{\n", 
            "      x_i \\qifq \\abs{x_i}>T, \\\\\n", 
            "      0 \\quad \\text{otherwise}.\n", 
            "  }. $$\n", 
            ""
          ]
        }, 
        {
          "cell_type": "code", 
          "collapsed": false, 
          "input": [
            "S = lambda x,T:  x .* (abs(x)>T)"
          ], 
          "language": "python", 
          "outputs": []
        }, 
        {
          "cell_type": "markdown", 
          "metadata": {}, 
          "source": [
            "\n", 
            "\n", 
            "Set the threshold value.\n", 
            ""
          ]
        }, 
        {
          "cell_type": "code", 
          "collapsed": false, 
          "input": [
            "T = .1"
          ], 
          "language": "python", 
          "outputs": []
        }, 
        {
          "cell_type": "markdown", 
          "metadata": {}, 
          "source": [
            "\n", 
            "\n", 
            "Threshold the coefficients.\n", 
            ""
          ]
        }, 
        {
          "cell_type": "code", 
          "collapsed": false, 
          "input": [
            "fwT = S(fw,T)"
          ], 
          "language": "python", 
          "outputs": []
        }, 
        {
          "cell_type": "markdown", 
          "metadata": {}, 
          "source": [
            "\n", 
            "\n", 
            "Display the coefficients before and after thresholding.\n", 
            ""
          ]
        }, 
        {
          "cell_type": "code", 
          "collapsed": false, 
          "input": [
            "\n", 
            "subplot(1,2,1)\n", 
            "plot_wavelet(fw); axis('tight'); title('Original coefficients')\n", 
            "subplot(1,2,2)\n", 
            "plot_wavelet(fwT); axis('tight'); title('Thresholded coefficients')"
          ], 
          "language": "python", 
          "outputs": []
        }, 
        {
          "cell_type": "heading", 
          "level": 3, 
          "metadata": {}, 
          "source": [
            "Exercise 4"
          ]
        }, 
        {
          "cell_type": "markdown", 
          "metadata": {}, 
          "source": [
            "\n", 
            "Find the threshold $T$ so that the number of remaining coefficients in\n", 
            "|fwT| is a fixed number $m$. Use this threshold to compute |fwT| and then display\n", 
            "the corresponding approximation $f_1$ of $f$. Try for an increasing number $m$ of coeffiients.\n", 
            "\n", 
            "\n", 
            "\n", 
            "\n", 
            "\n", 
            "\n", 
            "\n", 
            "\n", 
            "\n", 
            "\n", 
            "\n", 
            "\n", 
            "\n", 
            "\n", 
            "\n", 
            "\n", 
            "\n", 
            "\n", 
            ""
          ]
        }, 
        {
          "cell_type": "code", 
          "collapsed": false, 
          "input": [
            "## Insert your code here."
          ], 
          "language": "python", 
          "outputs": []
        }, 
        {
          "cell_type": "markdown", 
          "metadata": {}, 
          "source": [
            "\n", 
            ""
          ]
        }, 
        {
          "cell_type": "heading", 
          "level": 2, 
          "metadata": {}, 
          "source": [
            "Bibliography\n"
          ]
        }
      ]
    }
  ]
}