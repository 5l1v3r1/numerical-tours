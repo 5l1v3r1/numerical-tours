{
  "metadata": {
    "name": ""
  }, 
  "nbformat": 3, 
  "nbformat_minor": 0, 
  "worksheets": [
    {
      "cells": [
        {
          "cell_type": "heading", 
          "level": 1, 
          "metadata": {}, 
          "source": [
            "Shape From Shading"
          ]
        }, 
        {
          "cell_type": "markdown", 
          "metadata": {}, 
          "source": [
            "This tour explores the resolution of the shape from shading inverse\n", 
            "problem using Fast Marching.\n", 
            ""
          ]
        }, 
        {
          "cell_type": "markdown", 
          "metadata": {}, 
          "source": [
            "*Important:* You need to download the file `nt_toolbox.py` from the \n", 
            "root of the github repository.\n", 
            "$\\newcommand{\\dotp}[2]{\\langle #1, #2 \\rangle}\n", 
            "\\newcommand{\\enscond}[2]{\\lbrace #1, #2 \\rbrace}\n", 
            "\\newcommand{\\pd}[2]{ \\frac{ \\partial #1}{\\partial #2} }\n", 
            "\\newcommand{\\umin}[1]{\\underset{#1}{\\min}\\;}\n", 
            "\\newcommand{\\norm}[1]{\\|#1\\|}\n", 
            "\\newcommand{\\abs}[1]{\\left|#1\\right|}\n", 
            "\\newcommand{\\choice}[1]{ \\left\\{  \\begin{array}{l} #1 \\end{array} \\right. }\n", 
            "\\newcommand{\\pa}[1]{\\left(#1\\right)}\n", 
            "\\newcommand{\\qandq}{\\quad\\text{and}\\quad}\n", 
            "\\newcommand{\\qwhereq}{\\quad\\text{where}\\quad}\n", 
            "\\newcommand{\\qifq}{ \\quad \\text{if} \\quad }\n", 
            "\\newcommand{\\qarrq}{ \\quad \\Longrightarrow \\quad }\n", 
            "\\newcommand{\\ZZ}{\\mathbb{Z}}\n", 
            "\\newcommand{\\RR}{\\mathbb{R}}\n", 
            "\\newcommand{\\Nn}{\\mathcal{N}}\n", 
            "\\newcommand{\\Hh}{\\mathcal{H}}\n", 
            "\\newcommand{\\Bb}{\\mathcal{B}}\n", 
            "\\newcommand{\\EE}{\\mathbb{E}}\n", 
            "\\newcommand{\\CC}{\\mathbb{C}}\n", 
            "\\newcommand{\\si}{\\sigma}\n", 
            "\\newcommand{\\al}{\\alpha}\n", 
            "\\newcommand{\\la}{\\lambda}\n", 
            "\\newcommand{\\ga}{\\gamma}\n", 
            "\\newcommand{\\Ga}{\\Gamma}\n", 
            "\\newcommand{\\La}{\\Lambda}\n", 
            "\\newcommand{\\si}{\\sigma}\n", 
            "\\newcommand{\\Si}{\\Sigma}\n", 
            "\\newcommand{\\be}{\\beta}\n", 
            "\\newcommand{\\de}{\\delta}\n", 
            "\\newcommand{\\De}{\\Delta}\n", 
            "\\renewcommand{\\phi}{\\varphi}\n", 
            "\\renewcommand{\\th}{\\theta}\n", 
            "\\newcommand{\\om}{\\omega}\n", 
            "\\newcommand{\\Om}{\\Omega}\n", 
            "$"
          ]
        }, 
        {
          "cell_type": "code", 
          "collapsed": false, 
          "input": [
            "from nt_toolbox import *", 
            "%matplotlib inline", 
            "%load_ext autoreload", 
            "%autoreload 2"
          ], 
          "language": "python", 
          "outputs": []
        }, 
        {
          "cell_type": "heading", 
          "level": 2, 
          "metadata": {}, 
          "source": [
            "Forward Image Formation\n"
          ]
        }, 
        {
          "cell_type": "markdown", 
          "metadata": {}, 
          "source": [
            "We consider here a simplified imaging system where the camera performs an\n", 
            "orthogonal projection and the lighting is orthogonal to the camera focal\n", 
            "plane and is at infinity. We also assume that the surface is perfectly\n", 
            "diffuse (Lambertian).\n", 
            "\n", 
            "\n", 
            "For more information about the shape from shading problem, including more\n", 
            "complicated settings, one can read the review paper\n", 
            "\n", 
            "\n", 
            "_Shape From Shading_, Emmanuel Prados, Olivier Faugeras\n", 
            "Handbook of Mathematical Models in Computer Vision,\n", 
            "Springer, page 375-388, 2006.\n", 
            "\n", 
            "\n", 
            "The shape use in this tour is taken from\n", 
            "\n", 
            "\n", 
            "_Shape from Shading: A Survey_, Ruo Zhang, Ping-Sing Tsai, James Edwin, Cryer\n", 
            "and Mubarak Shah, IEEE Trans. on PAMI, Vol. 21, No. 8, 1999.\n", 
            "\n", 
            "\n", 
            "\n", 
            "Load a surface as a 2D height field, i.e. it is defined using an image $f(x,y)$.\n", 
            ""
          ]
        }, 
        {
          "cell_type": "code", 
          "collapsed": false, 
          "input": [
            "name = 'mozart'\n", 
            "f = load_image(name)\n", 
            "n = size(f,1)"
          ], 
          "language": "python", 
          "outputs": []
        }, 
        {
          "cell_type": "markdown", 
          "metadata": {}, 
          "source": [
            "\n", 
            "\n", 
            "Height $h>0$ of the surface.\n", 
            ""
          ]
        }, 
        {
          "cell_type": "code", 
          "collapsed": false, 
          "input": [
            "h = n*.4"
          ], 
          "language": "python", 
          "outputs": []
        }, 
        {
          "cell_type": "markdown", 
          "metadata": {}, 
          "source": [
            "\n", 
            "\n", 
            "Final rescale surface $(x,y,f(x,y)) \\in \\RR^3$.\n", 
            ""
          ]
        }, 
        {
          "cell_type": "code", 
          "collapsed": false, 
          "input": [
            "f = rescale(f,0,h)"
          ], 
          "language": "python", 
          "outputs": []
        }, 
        {
          "cell_type": "markdown", 
          "metadata": {}, 
          "source": [
            "\n", 
            "\n", 
            "Display the image.\n", 
            ""
          ]
        }, 
        {
          "cell_type": "code", 
          "collapsed": false, 
          "input": [
            "\n", 
            "imageplot(f)"
          ], 
          "language": "python", 
          "outputs": []
        }, 
        {
          "cell_type": "markdown", 
          "metadata": {}, 
          "source": [
            "\n", 
            "\n", 
            "Display as a 3-D surface.\n", 
            ""
          ]
        }, 
        {
          "cell_type": "code", 
          "collapsed": false, 
          "input": [
            "\n", 
            "surf(f)\n", 
            "colormap(gray(256))\n", 
            "shading interp\n", 
            "axis equal\n", 
            "view(110,45)\n", 
            "axis('off')\n", 
            "camlight"
          ], 
          "language": "python", 
          "outputs": []
        }, 
        {
          "cell_type": "markdown", 
          "metadata": {}, 
          "source": [
            "\n", 
            "\n", 
            "Compute the normal to the surface $ (x,y,f(x,y)) $.\n", 
            "The tangent vectors are $ (1,0,\\pd{f}{x}(x,y)) $ and $\n", 
            "(0,1,\\pd{f}{y}(x,y)) $\n", 
            "and the normal is thus\n", 
            "$$ N(x,y) = \\frac{N_0(x,y)}{\\norm{N_0(x,y)}} \\in \\RR^3\n", 
            "  \\qwhereq N_0(x,y) = \\pa{\\pd{f}{x}(x,y), \\pd{f}{y}(x,y), 1}.   $$\n", 
            "\n", 
            "\n", 
            "Compute $N_0$, the un-normalized normal, using centered finite differences.\n", 
            ""
          ]
        }, 
        {
          "cell_type": "code", 
          "collapsed": false, 
          "input": [
            "options.order = 2\n", 
            "N0 = cat(3, -grad(f,options), ones(n))"
          ], 
          "language": "python", 
          "outputs": []
        }, 
        {
          "cell_type": "markdown", 
          "metadata": {}, 
          "source": [
            "\n", 
            "\n", 
            "Compute the normalized normal $N$.\n", 
            ""
          ]
        }, 
        {
          "cell_type": "code", 
          "collapsed": false, 
          "input": [
            "s = sqrt( sum(N0.^2,3) )\n", 
            "N = N0 ./ repmat( s, [1 1 3] )"
          ], 
          "language": "python", 
          "outputs": []
        }, 
        {
          "cell_type": "markdown", 
          "metadata": {}, 
          "source": [
            "\n", 
            "\n", 
            "Display the normal map as a color image.\n", 
            ""
          ]
        }, 
        {
          "cell_type": "code", 
          "collapsed": false, 
          "input": [
            "\n", 
            "imageplot(N)"
          ], 
          "language": "python", 
          "outputs": []
        }, 
        {
          "cell_type": "markdown", 
          "metadata": {}, 
          "source": [
            "\n", 
            "\n", 
            "We compute the shaded image obtained by an infinite light coming from\n", 
            "a given direction $d \\in \\RR^3$.\n", 
            ""
          ]
        }, 
        {
          "cell_type": "code", 
          "collapsed": false, 
          "input": [
            "d = [0 0 1]"
          ], 
          "language": "python", 
          "outputs": []
        }, 
        {
          "cell_type": "markdown", 
          "metadata": {}, 
          "source": [
            "\n", 
            "\n", 
            "We use a Labertian reflectance model to determine the luminance\n", 
            "$$ L(x,y) = (\\dotp{N(x,y)}{ d })_+\n", 
            "      \\qwhereq (\\al)_+ = \\max(\\al,0). $$\n", 
            ""
          ]
        }, 
        {
          "cell_type": "code", 
          "collapsed": false, 
          "input": [
            "L = max(0, sum( N .* repmat(reshape(d,[1 1 3]), [n n 1]),3 ) )"
          ], 
          "language": "python", 
          "outputs": []
        }, 
        {
          "cell_type": "markdown", 
          "metadata": {}, 
          "source": [
            "\n", 
            "\n", 
            "Display the lit surface.\n", 
            ""
          ]
        }, 
        {
          "cell_type": "code", 
          "collapsed": false, 
          "input": [
            "vmin = .3\n", 
            "\n", 
            "imageplot(max(L,vmin))"
          ], 
          "language": "python", 
          "outputs": []
        }, 
        {
          "cell_type": "heading", 
          "level": 3, 
          "metadata": {}, 
          "source": [
            "Exercise 1"
          ]
        }, 
        {
          "cell_type": "markdown", 
          "metadata": {}, 
          "source": [
            "\n", 
            "Display the surface with several light directions $d \\in \\RR^3$.\n", 
            "\n", 
            "\n", 
            "\n", 
            "\n", 
            "\n", 
            "\n", 
            "\n", 
            "\n", 
            ""
          ]
        }, 
        {
          "cell_type": "code", 
          "collapsed": false, 
          "input": [
            "## Insert your code here."
          ], 
          "language": "python", 
          "outputs": []
        }, 
        {
          "cell_type": "markdown", 
          "metadata": {}, 
          "source": [
            "\n", 
            ""
          ]
        }, 
        {
          "cell_type": "heading", 
          "level": 2, 
          "metadata": {}, 
          "source": [
            "Eikonal Shape From Shading\n"
          ]
        }, 
        {
          "cell_type": "markdown", 
          "metadata": {}, 
          "source": [
            "For a vertical ligthing direction $d=(0,0,1)$, the forward imaging\n", 
            "operator reads\n", 
            "$$ L(x,y) = \\frac{1}{ \\sqrt{ \\norm{ \\nabla f(x,y) }^2+1 } }. $$\n", 
            "\n", 
            "\n", 
            "Compute the luminance map for $d=(0,0,1)$.\n", 
            ""
          ]
        }, 
        {
          "cell_type": "code", 
          "collapsed": false, 
          "input": [
            "d = [0 0 1]\n", 
            "L = sum( N .* repmat(reshape(d,[1 1 3]), [n n 1]),3 )"
          ], 
          "language": "python", 
          "outputs": []
        }, 
        {
          "cell_type": "markdown", 
          "metadata": {}, 
          "source": [
            "\n", 
            "\n", 
            "The height field $f$ can thus, in theory, be recovered by solving the\n", 
            "following Eikonal equation:\n", 
            "$$ \\norm{ \\nabla f(x,y) } = W(x,y)\n", 
            "      \\qwhereq W(x,y) = \\sqrt{ 1/L(x,y)^2 - 1 } $$\n", 
            "With additional boundary conditon\n", 
            "$$ \\forall i \\in I, \\quad f( p_i) = f_i $$\n", 
            "For a set of well chosen grid points $ p_i \\in \\RR^2  $.\n", 
            "\n", 
            "\n", 
            "The issue is that this equation is ill-posed (several solution) due to\n", 
            "the singular points $ (q_j)_{j \\in J} $ where $ L(q_j) $\n", 
            "is close to 1, so that $W(q_j)$ is close to 0.\n", 
            "A way to regularize the inversion is thus\n", 
            "to choose the boundary condition points $p_i$ to be the singular points\n", 
            "$q_j$.\n", 
            "\n", 
            "\n", 
            "Set a tolerance $\\epsilon>0$.\n", 
            ""
          ]
        }, 
        {
          "cell_type": "code", 
          "collapsed": false, 
          "input": [
            "epsilon = 1e-9"
          ], 
          "language": "python", 
          "outputs": []
        }, 
        {
          "cell_type": "markdown", 
          "metadata": {}, 
          "source": [
            "\n", 
            "\n", 
            "We show in white the location of singular points $q_j$,\n", 
            "that satisfies $L(q_j)>1-\\epsilon$.\n", 
            ""
          ]
        }, 
        {
          "cell_type": "code", 
          "collapsed": false, 
          "input": [
            "\n", 
            "imageplot(L>1-epsilon)"
          ], 
          "language": "python", 
          "outputs": []
        }, 
        {
          "cell_type": "markdown", 
          "metadata": {}, 
          "source": [
            "\n", 
            "\n", 
            "Compute the Eikonal speed $W$(right hand side of the equation).\n", 
            ""
          ]
        }, 
        {
          "cell_type": "code", 
          "collapsed": false, 
          "input": [
            "W = sqrt(1./L.^2-1)"
          ], 
          "language": "python", 
          "outputs": []
        }, 
        {
          "cell_type": "markdown", 
          "metadata": {}, 
          "source": [
            "\n", 
            "\n", 
            "To avoid too much ill-posedness, we threshold it.\n", 
            ""
          ]
        }, 
        {
          "cell_type": "code", 
          "collapsed": false, 
          "input": [
            "W = max(W,epsilon)"
          ], 
          "language": "python", 
          "outputs": []
        }, 
        {
          "cell_type": "markdown", 
          "metadata": {}, 
          "source": [
            "\n", 
            "\n", 
            "Display the speed.\n", 
            ""
          ]
        }, 
        {
          "cell_type": "code", 
          "collapsed": false, 
          "input": [
            "\n", 
            "imageplot(min(W,3))"
          ], 
          "language": "python", 
          "outputs": []
        }, 
        {
          "cell_type": "markdown", 
          "metadata": {}, 
          "source": [
            "\n", 
            "\n", 
            "We use here a single point $ p $.\n", 
            "Select the tip of the nose as base point $p$.\n", 
            ""
          ]
        }, 
        {
          "cell_type": "code", 
          "collapsed": false, 
          "input": [
            "p = [140;120]"
          ], 
          "language": "python", 
          "outputs": []
        }, 
        {
          "cell_type": "markdown", 
          "metadata": {}, 
          "source": [
            "\n", 
            "\n", 
            "Solve the Eikonal equation, assuming $f(p)=0$.\n", 
            ""
          ]
        }, 
        {
          "cell_type": "code", 
          "collapsed": false, 
          "input": [
            "[f1,S] = perform_fast_marching(1./W, p)"
          ], 
          "language": "python", 
          "outputs": []
        }, 
        {
          "cell_type": "markdown", 
          "metadata": {}, 
          "source": [
            "\n", 
            "\n", 
            "Rescale the height.\n", 
            ""
          ]
        }, 
        {
          "cell_type": "code", 
          "collapsed": false, 
          "input": [
            "f1 = -f1*n"
          ], 
          "language": "python", 
          "outputs": []
        }, 
        {
          "cell_type": "markdown", 
          "metadata": {}, 
          "source": [
            "\n", 
            "\n", 
            "Display as a 3D surface.\n", 
            ""
          ]
        }, 
        {
          "cell_type": "code", 
          "collapsed": false, 
          "input": [
            "\n", 
            "hold on\n", 
            "surf(f1)\n", 
            "h = plot3(p(2), p(1), f1(p(1),p(2)), 'r.')\n", 
            "set(h, 'MarkerSize', 30)\n", 
            "colormap(gray(256))\n", 
            "shading interp\n", 
            "axis('equal')\n", 
            "view(110,45)\n", 
            "axis('off')\n", 
            "camlight"
          ], 
          "language": "python", 
          "outputs": []
        }, 
        {
          "cell_type": "heading", 
          "level": 3, 
          "metadata": {}, 
          "source": [
            "Exercise 2"
          ]
        }, 
        {
          "cell_type": "markdown", 
          "metadata": {}, 
          "source": [
            "\n", 
            "Try to reconstruct the image starting from other base points.\n", 
            "What do you observe ?\n", 
            "\n", 
            "\n", 
            "\n", 
            "\n", 
            "\n", 
            "\n", 
            "\n", 
            "\n", 
            "\n", 
            "\n", 
            "\n", 
            "\n", 
            "\n", 
            "\n", 
            "\n", 
            "\n", 
            ""
          ]
        }, 
        {
          "cell_type": "code", 
          "collapsed": false, 
          "input": [
            "## Insert your code here."
          ], 
          "language": "python", 
          "outputs": []
        }, 
        {
          "cell_type": "markdown", 
          "metadata": {}, 
          "source": [
            "\n", 
            ""
          ]
        }, 
        {
          "cell_type": "heading", 
          "level": 3, 
          "metadata": {}, 
          "source": [
            "Exercise 3"
          ]
        }, 
        {
          "cell_type": "markdown", 
          "metadata": {}, 
          "source": [
            "\n", 
            "Try to improve the quality of the reconstruction by selecting several\n", 
            "points, and imposing their height."
          ]
        }, 
        {
          "cell_type": "code", 
          "collapsed": false, 
          "input": [
            "## Insert your code here."
          ], 
          "language": "python", 
          "outputs": []
        }
      ]
    }
  ]
}