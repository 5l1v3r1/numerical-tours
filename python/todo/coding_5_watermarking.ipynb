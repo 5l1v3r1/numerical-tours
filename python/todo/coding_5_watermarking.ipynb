{
  "metadata": {
    "name": ""
  }, 
  "nbformat": 3, 
  "nbformat_minor": 0, 
  "worksheets": [
    {
      "cells": [
        {
          "cell_type": "heading", 
          "level": 1, 
          "metadata": {}, 
          "source": [
            "Wavelet Domain Image Watermarking"
          ]
        }, 
        {
          "cell_type": "markdown", 
          "metadata": {}, 
          "source": [
            "This numerical tour explores robust watermarking  over the wavelet\n", 
            "domain.\n", 
            "\n", 
            "\n", 
            "Many thanks to Patrick Bas and Teddy Furon for their useful advices on digital image\n", 
            "watermarking.\n", 
            ""
          ]
        }, 
        {
          "cell_type": "markdown", 
          "metadata": {}, 
          "source": [
            "*Important:* You need to download the file `nt_toolbox.py` from the \n", 
            "root of the github repository.\n", 
            "$\\newcommand{\\dotp}[2]{\\langle #1, #2 \\rangle}\n", 
            "\\newcommand{\\enscond}[2]{\\lbrace #1, #2 \\rbrace}\n", 
            "\\newcommand{\\pd}[2]{ \\frac{ \\partial #1}{\\partial #2} }\n", 
            "\\newcommand{\\umin}[1]{\\underset{#1}{\\min}\\;}\n", 
            "\\newcommand{\\norm}[1]{\\|#1\\|}\n", 
            "\\newcommand{\\abs}[1]{\\left|#1\\right|}\n", 
            "\\newcommand{\\choice}[1]{ \\left\\{  \\begin{array}{l} #1 \\end{array} \\right. }\n", 
            "\\newcommand{\\pa}[1]{\\left(#1\\right)}\n", 
            "\\newcommand{\\qandq}{\\quad\\text{and}\\quad}\n", 
            "\\newcommand{\\qwhereq}{\\quad\\text{where}\\quad}\n", 
            "\\newcommand{\\qifq}{ \\quad \\text{if} \\quad }\n", 
            "\\newcommand{\\qarrq}{ \\quad \\Longrightarrow \\quad }\n", 
            "\\newcommand{\\ZZ}{\\mathbb{Z}}\n", 
            "\\newcommand{\\RR}{\\mathbb{R}}\n", 
            "\\newcommand{\\Nn}{\\mathcal{N}}\n", 
            "\\newcommand{\\Hh}{\\mathcal{H}}\n", 
            "\\newcommand{\\Bb}{\\mathcal{B}}\n", 
            "\\newcommand{\\EE}{\\mathbb{E}}\n", 
            "\\newcommand{\\CC}{\\mathbb{C}}\n", 
            "\\newcommand{\\si}{\\sigma}\n", 
            "\\newcommand{\\al}{\\alpha}\n", 
            "\\newcommand{\\la}{\\lambda}\n", 
            "\\newcommand{\\ga}{\\gamma}\n", 
            "\\newcommand{\\Ga}{\\Gamma}\n", 
            "\\newcommand{\\La}{\\Lambda}\n", 
            "\\newcommand{\\si}{\\sigma}\n", 
            "\\newcommand{\\Si}{\\Sigma}\n", 
            "\\newcommand{\\be}{\\beta}\n", 
            "\\newcommand{\\de}{\\delta}\n", 
            "\\newcommand{\\De}{\\Delta}\n", 
            "\\renewcommand{\\phi}{\\varphi}\n", 
            "\\renewcommand{\\th}{\\theta}\n", 
            "\\newcommand{\\om}{\\omega}\n", 
            "\\newcommand{\\Om}{\\Omega}\n", 
            "$"
          ]
        }, 
        {
          "cell_type": "code", 
          "collapsed": false, 
          "input": [
            "from nt_toolbox import *", 
            "%matplotlib inline", 
            "%load_ext autoreload", 
            "%autoreload 2"
          ], 
          "language": "python", 
          "outputs": []
        }, 
        {
          "cell_type": "heading", 
          "level": 2, 
          "metadata": {}, 
          "source": [
            "Digital Image Watermarking\n"
          ]
        }, 
        {
          "cell_type": "markdown", 
          "metadata": {}, 
          "source": [
            "Digital media watermarking is a popular image forensic problem. It\n", 
            "requires to embed a signature into a sound, image, video, 3D mesh, etc.\n", 
            "\n", 
            "\n", 
            "An good source of information regarding digital watermarking is the book\n", 
            "\n", 
            "\n", 
            "_Digital Watermarking and Steganography, 2nd Ed_,\n", 
            "Ingemar J. Cox, Matthew L. Miller, Jeffrey Bloom,\n", 
            "Morgan Kaufmann, 2007.\n", 
            "\n", 
            "\n", 
            "One can also visit the <http://bows2.gipsa-lab.inpg.fr/ BOWS-2> challenge\n", 
            "homepage for a state of the art digital watermarking implementation.\n", 
            "\n", 
            "\n", 
            "We consider here a robust watermarking embedding, i.e. the goal\n", 
            "is to embed a watermark that is both impercevable and difficult to remove\n", 
            "(by attack such as compression, denoising, adding noise, blurring, etc).\n", 
            "\n", 
            "\n", 
            "This is somehow conflicting goals since impercevable information is likely\n", 
            "to be removed by an efficient compression or denoising algorithm.\n", 
            "An efficient watermarking scheme should thus use more clever tools than\n", 
            "state of the art denoising/compression algorithms.\n", 
            "\n", 
            "\n", 
            "Note also that we perform here \"0 bit\" watermarking, i.e. we do not\n", 
            "embed a meaningful message within the watermarking. We are only\n", 
            "interested in testing the presence of a given watermark.\n", 
            "\n", 
            "\n", 
            "Here we bench a wavelet method for the embedding of a single\n", 
            "watermark. We check how much the watermark can be detected after\n", 
            "various attack.\n", 
            "Depending on a probability of false alarm, we compute the\n", 
            "probability of detecting the watermark.\n", 
            "\n", 
            ""
          ]
        }, 
        {
          "cell_type": "heading", 
          "level": 2, 
          "metadata": {}, 
          "source": [
            "Watermark Embedding\n"
          ]
        }, 
        {
          "cell_type": "markdown", 
          "metadata": {}, 
          "source": [
            "A watermark is computed as a weighted random vector that is added to the\n", 
            "wavelet coefficient.\n", 
            "\n", 
            "\n", 
            "The weighting of the watermark vector takes into account the amplitude of\n", 
            "the host coefficient in order to reduce visual distortion. This also\n", 
            "increases the robustness to denoising and compression attacks.\n", 
            "\n", 
            "\n", 
            "\n", 
            "Load an image $f \\in \\RR^N$ of $N = n \\times n$ pixels.\n", 
            ""
          ]
        }, 
        {
          "cell_type": "code", 
          "collapsed": false, 
          "input": [
            "n = 256\n", 
            "name = 'hibiscus'\n", 
            "f = load_image(name, n)\n", 
            "f = rescale(sum(f,3))"
          ], 
          "language": "python", 
          "outputs": []
        }, 
        {
          "cell_type": "markdown", 
          "metadata": {}, 
          "source": [
            "\n", 
            "\n", 
            "Display the original image.\n", 
            ""
          ]
        }, 
        {
          "cell_type": "code", 
          "collapsed": false, 
          "input": [
            "\n", 
            "imageplot(f)"
          ], 
          "language": "python", 
          "outputs": []
        }, 
        {
          "cell_type": "markdown", 
          "metadata": {}, 
          "source": [
            "\n", 
            "\n", 
            "Shortcut for the wavelet transform $\\Psi : f \\in \\RR^N \\mapsto a \\in \\RR^N$\n", 
            "that maps an image $f$ to wavelet coefficients $a$.\n", 
            "We note its inverse $\\Psi^{-1}$ using the shortcut |PsiS|.\n", 
            ""
          ]
        }, 
        {
          "cell_type": "code", 
          "collapsed": false, 
          "input": [
            "Jmin = log2(n)-2\n", 
            "Psi  = lambda f: perform_wavelet_transf(f, Jmin, +1)\n", 
            "PsiS = lambda a: perform_wavelet_transf(a, Jmin, -1)"
          ], 
          "language": "python", 
          "outputs": []
        }, 
        {
          "cell_type": "markdown", 
          "metadata": {}, 
          "source": [
            "\n", 
            "\n", 
            "Compute the wavelet coefficients.\n", 
            ""
          ]
        }, 
        {
          "cell_type": "code", 
          "collapsed": false, 
          "input": [
            "a = Psi(f)"
          ], 
          "language": "python", 
          "outputs": []
        }, 
        {
          "cell_type": "markdown", 
          "metadata": {}, 
          "source": [
            "\n", 
            "\n", 
            "Display the wavelet coefficients.\n", 
            ""
          ]
        }, 
        {
          "cell_type": "code", 
          "collapsed": false, 
          "input": [
            "\n", 
            "plot_wavelet(a,Jmin)"
          ], 
          "language": "python", 
          "outputs": []
        }, 
        {
          "cell_type": "markdown", 
          "metadata": {}, 
          "source": [
            "\n", 
            "\n", 
            "The coefficients to be watermarked $x_0 \\in \\RR^P $ is only a subset\n", 
            "$ x_0 = (a_i)_{i \\in I} $ of the total set of coefficients, where\n", 
            "$\\abs{I}=P$.\n", 
            "\n", 
            "\n", 
            "We select here only the fine scale wavelets.\n", 
            ""
          ]
        }, 
        {
          "cell_type": "code", 
          "collapsed": false, 
          "input": [
            "A = ones(n); A(1:2^Jmin,1:2^Jmin) = 0\n", 
            "I = find(A(:))\n", 
            "P = length(I)"
          ], 
          "language": "python", 
          "outputs": []
        }, 
        {
          "cell_type": "markdown", 
          "metadata": {}, 
          "source": [
            "\n", 
            "\n", 
            "Extract the coefficients $x_0$.\n", 
            ""
          ]
        }, 
        {
          "cell_type": "code", 
          "collapsed": false, 
          "input": [
            "x0 = a(I)"
          ], 
          "language": "python", 
          "outputs": []
        }, 
        {
          "cell_type": "markdown", 
          "metadata": {}, 
          "source": [
            "\n", 
            "\n", 
            "The watermarking is embedded using a multiplicative rule as\n", 
            "$$ x_i = (x_0)_i + \\rho \\abs{ (x_0)_i } w_i  $$\n", 
            "where $w$ is a random Gaussian vector and\n", 
            "where $\\rho > 0$ is a constant that ensure that $\\norm{x_0-x}$ is a given\n", 
            "deviation value.\n", 
            "\n", 
            "\n", 
            "Generate the base watermark vector $w \\in \\RR^P$.\n", 
            ""
          ]
        }, 
        {
          "cell_type": "code", 
          "collapsed": false, 
          "input": [
            "w = randn(P,1)"
          ], 
          "language": "python", 
          "outputs": []
        }, 
        {
          "cell_type": "markdown", 
          "metadata": {}, 
          "source": [
            "\n", 
            "\n", 
            "Target embedding PSNR (should be quite large for the embedding to be\n", 
            "unoticeable).\n", 
            ""
          ]
        }, 
        {
          "cell_type": "code", 
          "collapsed": false, 
          "input": [
            "psnr_embedding = 50"
          ], 
          "language": "python", 
          "outputs": []
        }, 
        {
          "cell_type": "markdown", 
          "metadata": {}, 
          "source": [
            "\n", 
            ""
          ]
        }, 
        {
          "cell_type": "heading", 
          "level": 3, 
          "metadata": {}, 
          "source": [
            "Exercise 1"
          ]
        }, 
        {
          "cell_type": "markdown", 
          "metadata": {}, 
          "source": [
            "\n", 
            "Compute |rho| so that |PSNR(y,x0,1)=snr_embedding|.\n", 
            "\n", 
            ""
          ]
        }, 
        {
          "cell_type": "code", 
          "collapsed": false, 
          "input": [
            "## Insert your code here."
          ], 
          "language": "python", 
          "outputs": []
        }, 
        {
          "cell_type": "markdown", 
          "metadata": {}, 
          "source": [
            "\n", 
            ""
          ]
        }, 
        {
          "cell_type": "heading", 
          "level": 3, 
          "metadata": {}, 
          "source": [
            "Exercise 2"
          ]
        }, 
        {
          "cell_type": "markdown", 
          "metadata": {}, 
          "source": [
            "\n", 
            "According to you, for which PSNR the watermark becomes unoticeable?"
          ]
        }, 
        {
          "cell_type": "code", 
          "collapsed": false, 
          "input": [
            "## Insert your code here."
          ], 
          "language": "python", 
          "outputs": []
        }, 
        {
          "cell_type": "markdown", 
          "metadata": {}, 
          "source": [
            "\n", 
            "\n", 
            "\n", 
            "Perform the embedding $x=x_0+\\rho\\abs{x_0}w$.\n", 
            ""
          ]
        }, 
        {
          "cell_type": "code", 
          "collapsed": false, 
          "input": [
            "x = x0 + rho*abs(x0).*w"
          ], 
          "language": "python", 
          "outputs": []
        }, 
        {
          "cell_type": "markdown", 
          "metadata": {}, 
          "source": [
            "\n", 
            "\n", 
            "The distortion of the embedding is measured using the PSNR\n", 
            "$$ \\text{PSNR}(x,x0) = -20 \\log_{10}( \\norm{x-x0}/\\sqrt{P} ). $$\n", 
            "\n", 
            "\n", 
            "Check the PSNR of embedding.\n", 
            ""
          ]
        }, 
        {
          "cell_type": "code", 
          "collapsed": false, 
          "input": [
            "disp(['PSNR(x,x0) = ' num2str(psnr(x,x0,1), 3) 'dB.'])"
          ], 
          "language": "python", 
          "outputs": []
        }, 
        {
          "cell_type": "markdown", 
          "metadata": {}, 
          "source": [
            "\n", 
            "\n", 
            "Given the watermarked coefficients $x \\in \\RR^P$,\n", 
            "a watermarked image $f_1 \\in \\RR^N$ is reconstructed\n", 
            "using the inverse wavelet transform $\\Psi^{-1}$ as\n", 
            "$$ f_1 = \\Psi^{-1}(a_1) \\qwhereq\n", 
            "  (a_1)_i = \\choice{ x_i \\qifq i \\in I, \\\\ a_i \\quad\\text{otherwise.} }$$\n", 
            "\n", 
            "\n", 
            "Compute the image with the watermark embedded.\n", 
            ""
          ]
        }, 
        {
          "cell_type": "code", 
          "collapsed": false, 
          "input": [
            "a1 = a; a1(I) = x\n", 
            "f1 = PsiS(a1)"
          ], 
          "language": "python", 
          "outputs": []
        }, 
        {
          "cell_type": "markdown", 
          "metadata": {}, 
          "source": [
            "\n", 
            "\n", 
            "Display the watermark $ \\delta = \\Psi^{-1}(a-a_1) = f - f_1 $ over the\n", 
            "spacial domain (with contrast boosting).\n", 
            ""
          ]
        }, 
        {
          "cell_type": "code", 
          "collapsed": false, 
          "input": [
            "delta = f-f1\n", 
            "\n", 
            "imageplot( clamp(delta/std(delta(:)),-3,3) )"
          ], 
          "language": "python", 
          "outputs": []
        }, 
        {
          "cell_type": "heading", 
          "level": 2, 
          "metadata": {}, 
          "source": [
            "Watermark Detection\n"
          ]
        }, 
        {
          "cell_type": "markdown", 
          "metadata": {}, 
          "source": [
            "The watermark is detected (or not detected) from an input vector $y \\in \\RR^P$\n", 
            "using a detector function $C(y,w) \\in \\RR$ where $w \\in \\RR^P$ is the\n", 
            "base watermark vector. Usually, a large value of $C$ means that $y$\n", 
            "is likely to come from a watermarked content.\n", 
            "\n", 
            "\n", 
            "The detection is carried over by a simple thresholding, and the watermark\n", 
            "is declared to be present if\n", 
            "$$ C(y,w)>T  $$\n", 
            "where $T \\in \\RR$ is a threshold that should be set to guarantee a\n", 
            "given  probability of false alarms (i.e. ratio of contents declared to be\n", 
            "watermarked whereas they were not watermarked).\n", 
            "\n", 
            "\n", 
            "The detection corresponds to an hypothesis testing. One assumes that $y=A(x)$\n", 
            "is obtained by attacking some vector $x$, and one has the following\n", 
            "alternative depending on wether the content $x$ is watermarked or not:\n", 
            "$$ \\choice{ (\\Hh_0) \\quad x=x_0+\\rho\\abs{x_0}w, \\\\ (\\Hh_1) \\quad x=x_0. } $$\n", 
            "\n", 
            "\n", 
            "The two important quantities to monitor is the probability of false alarms\n", 
            "$$ p_{\\text{FA}} = \\PP_w\\pa{ C(y,w)>T \\:\\vert\\: \\Hh_1 } $$\n", 
            "and the probability of true positives\n", 
            "$$ p_{\\text{TP}} = \\PP_w\\pa{ C(y,w)>T \\:\\vert\\: \\Hh_0 }. $$\n", 
            "Note that here $\\PP_w$ refers to the probability of an event with respect to\n", 
            "the randomization of $w$.\n", 
            "\n", 
            "\n", 
            "The goal is to design a watermarking scheme (i.e. an embedding strategy\n", 
            "and a detection strategy) in order to maximize $p_{\\text{TP}}$\n", 
            "for a given $p_{\\text{FA}}$.\n", 
            "\n", 
            "\n", 
            "The simplest detector is a normalized correlation\n", 
            "$$ C(y,w) = \\frac{\\dotp{y}{w}}{\\norm{y}\\norm{w}}. $$\n", 
            ""
          ]
        }, 
        {
          "cell_type": "code", 
          "collapsed": false, 
          "input": [
            "C = lambda y,w: sum(w.*y)./sqrt( sum(w.^2).*sum(y.^2) )"
          ], 
          "language": "python", 
          "outputs": []
        }, 
        {
          "cell_type": "markdown", 
          "metadata": {}, 
          "source": [
            "\n", 
            "\n", 
            "To estimate easily the probability of false alarm, we make the asumption\n", 
            "that $y$ is close enough to $x_0$ to estimate $p_{\\text{FA}}$ on\n", 
            "the clean original signal\n", 
            "$$ p_{\\text{FA}} \\approx \\PP_w( C(x_0,w)>T ) $$\n", 
            ""
          ]
        }, 
        {
          "cell_type": "heading", 
          "level": 3, 
          "metadata": {}, 
          "source": [
            "Exercise 3"
          ]
        }, 
        {
          "cell_type": "markdown", 
          "metadata": {}, 
          "source": [
            "\n", 
            "Using a Monte Carlo simulation (generation of the order of $10^3$\n", 
            "watermarks, display the histogram of the repartition of $C(x_0,w)$.\n", 
            "Compute the variance $\\sigma_0^2$ of this distribution.\n", 
            "\n", 
            "\n", 
            "\n", 
            "\n", 
            "\n", 
            "\n", 
            "\n", 
            "\n", 
            "\n", 
            "\n", 
            ""
          ]
        }, 
        {
          "cell_type": "code", 
          "collapsed": false, 
          "input": [
            "## Insert your code here."
          ], 
          "language": "python", 
          "outputs": []
        }, 
        {
          "cell_type": "markdown", 
          "metadata": {}, 
          "source": [
            "\n", 
            "\n", 
            "\n", 
            "We make another approximation : we approximate this density probability\n", 
            "with a Gaussian density of mean 0 and variance $\\si_0^2$. Under this\n", 
            "assumption, one has\n", 
            "$$ p_{\\text{FA}} \\approx 1 - G_{\\si_0}(T)\n", 
            " = 1 - \\frac{1}{2} \\pa{ 1 + \\text{erf}\\pa{\\frac{T}{\\sqrt{2} \\si_0}} } $$\n", 
            "where $G_{\\si_0}$ is the cumulative density function of the Gaussian of\n", 
            "variance $\\si_0^2$.\n", 
            "\n", 
            "\n", 
            "Hence one can use the threshold\n", 
            "$$ T = \\sqrt{2} \\sigma_0 \\text{erf}^{-1}(1-2 p_{\\text{FA}}) $$\n", 
            "This is an example of determination of threshold $T$ given a value of\n", 
            "$ p_{\\text{FA}} $.\n", 
            ""
          ]
        }, 
        {
          "cell_type": "code", 
          "collapsed": false, 
          "input": [
            "pfa = 1e-3\n", 
            "T = sqrt(2)/2 * sigma0 * erfinv(1-2*pfa)"
          ], 
          "language": "python", 
          "outputs": []
        }, 
        {
          "cell_type": "markdown", 
          "metadata": {}, 
          "source": [
            "\n", 
            "\n", 
            "Actually, it is possible to compute exactly this probability of false\n", 
            "alarm as\n", 
            "$$ p_{\\text{FA}} = 1 - B(T^2 ; 1/2, (P-1)/2),  $$\n", 
            "where $B$ is the incomplete beta function (use |betainc| function) and $P$ is the dimension.\n", 
            ""
          ]
        }, 
        {
          "cell_type": "heading", 
          "level": 3, 
          "metadata": {}, 
          "source": [
            "Exercise 4"
          ]
        }, 
        {
          "cell_type": "markdown", 
          "metadata": {}, 
          "source": [
            "\n", 
            "Compare, for various values of $T$ the estimation obtained by\n", 
            "the Gaussian approximation with the true value obtained with the\n", 
            "incomplete beta function."
          ]
        }, 
        {
          "cell_type": "code", 
          "collapsed": false, 
          "input": [
            "## Insert your code here."
          ], 
          "language": "python", 
          "outputs": []
        }, 
        {
          "cell_type": "markdown", 
          "metadata": {}, 
          "source": [
            "\n", 
            "\n", 
            ""
          ]
        }, 
        {
          "cell_type": "heading", 
          "level": 2, 
          "metadata": {}, 
          "source": [
            "Quantization Attack\n"
          ]
        }, 
        {
          "cell_type": "markdown", 
          "metadata": {}, 
          "source": [
            "A compression attack is simulated by quantizing the wavelet coefficients.\n", 
            "We consider here a dead zone quantization attack.\n", 
            "\n", 
            "\n", 
            "Quantization step $\\tau$ (the larger, the more aggressive the compression.\n", 
            ""
          ]
        }, 
        {
          "cell_type": "code", 
          "collapsed": false, 
          "input": [
            "tau = .2"
          ], 
          "language": "python", 
          "outputs": []
        }, 
        {
          "cell_type": "markdown", 
          "metadata": {}, 
          "source": [
            "\n", 
            "\n", 
            "A quantization attack reads:\n", 
            "$$ A() = \\text{sign}(v) (\\abs{v} + 1/2)  \\tau\n", 
            " \\qwhereq v = \\lfloor \\frac{\\abs{x}}{\\tau} \\rfloor \\text{sign}(x)  $$\n", 
            "\n", 
            "\n", 
            "Quantization/Dequantization operators, and attack operator.\n", 
            ""
          ]
        }, 
        {
          "cell_type": "code", 
          "collapsed": false, 
          "input": [
            "Quant = lambda x: floor(abs(x/tau)).*sign(x)\n", 
            "DeQuant = lambda v: sign(v) .* (abs(v)+.5) * tau\n", 
            "A = lambda x: DeQuant(Quant(x))"
          ], 
          "language": "python", 
          "outputs": []
        }, 
        {
          "cell_type": "markdown", 
          "metadata": {}, 
          "source": [
            "\n", 
            "\n", 
            "Display it.\n", 
            ""
          ]
        }, 
        {
          "cell_type": "code", 
          "collapsed": false, 
          "input": [
            "t = linspace(-2,2,500)\n", 
            "plot(t, A(t))\n", 
            "axis('equal')"
          ], 
          "language": "python", 
          "outputs": []
        }, 
        {
          "cell_type": "markdown", 
          "metadata": {}, 
          "source": [
            "\n", 
            "\n", 
            "Attacked watermarked signal\n", 
            ""
          ]
        }, 
        {
          "cell_type": "code", 
          "collapsed": false, 
          "input": [
            "y = A(x)"
          ], 
          "language": "python", 
          "outputs": []
        }, 
        {
          "cell_type": "markdown", 
          "metadata": {}, 
          "source": [
            "\n", 
            "\n", 
            "Display the attacked image.\n", 
            ""
          ]
        }, 
        {
          "cell_type": "code", 
          "collapsed": false, 
          "input": [
            "a1 = a; a1(I) = y\n", 
            "f1 = PsiS(a1)"
          ], 
          "language": "python", 
          "outputs": []
        }, 
        {
          "cell_type": "markdown", 
          "metadata": {}, 
          "source": [
            "\n", 
            "\n", 
            "Display the watermarked image.\n", 
            ""
          ]
        }, 
        {
          "cell_type": "code", 
          "collapsed": false, 
          "input": [
            "\n", 
            "imageplot(clamp(f1))"
          ], 
          "language": "python", 
          "outputs": []
        }, 
        {
          "cell_type": "markdown", 
          "metadata": {}, 
          "source": [
            "\n", 
            "\n", 
            "Compute the detection $C(y,w)$.\n", 
            ""
          ]
        }, 
        {
          "cell_type": "code", 
          "collapsed": false, 
          "input": [
            "disp(['C(y,w) = ' num2str(C(y,w), 2) '.'])"
          ], 
          "language": "python", 
          "outputs": []
        }, 
        {
          "cell_type": "markdown", 
          "metadata": {}, 
          "source": [
            "\n", 
            "\n", 
            "The probability of true positive is\n", 
            "$$ p_{\\text{TP}} = \\PP_w\\pa{ C(A(x_0 + \\rho\\abs{x_0}w),w)>T  }. $$\n", 
            ""
          ]
        }, 
        {
          "cell_type": "heading", 
          "level": 3, 
          "metadata": {}, 
          "source": [
            "Exercise 5"
          ]
        }, 
        {
          "cell_type": "markdown", 
          "metadata": {}, 
          "source": [
            "\n", 
            "Compute, by Monte Carlo sampling (i.e. draw at random many $w$)\n", 
            "the distribution of $C(A(x),w)$ for $x = x_0 + \\rho \\abs{x_0} w$. Store the different realization of\n", 
            "$C(A(x),w)$ in a vector |c|.\n", 
            "_Note:_ the value of $\\rho$ should\n", 
            "be recomputed for each $w$.\n", 
            "\n", 
            "\n", 
            "\n", 
            "\n", 
            "\n", 
            "\n", 
            "\n", 
            "\n", 
            "\n", 
            ""
          ]
        }, 
        {
          "cell_type": "code", 
          "collapsed": false, 
          "input": [
            "## Insert your code here."
          ], 
          "language": "python", 
          "outputs": []
        }, 
        {
          "cell_type": "markdown", 
          "metadata": {}, 
          "source": [
            "\n", 
            ""
          ]
        }, 
        {
          "cell_type": "heading", 
          "level": 3, 
          "metadata": {}, 
          "source": [
            "Exercise 6"
          ]
        }, 
        {
          "cell_type": "markdown", 
          "metadata": {}, 
          "source": [
            "\n", 
            "Compute, for a varying value of $ p_{\\text{FA}} $, the corresponding\n", 
            "value of $ p_{\\text{TP}} $. Display the resulting curve (ROC curve).\n", 
            "This computation should be performed experimentally\n", 
            "using e.g. 1000 random sampling.\n", 
            "\n", 
            "\n", 
            "\n", 
            "\n", 
            "\n", 
            "\n", 
            "\n", 
            "\n", 
            "\n", 
            "\n", 
            "\n", 
            ""
          ]
        }, 
        {
          "cell_type": "code", 
          "collapsed": false, 
          "input": [
            "## Insert your code here."
          ], 
          "language": "python", 
          "outputs": []
        }, 
        {
          "cell_type": "markdown", 
          "metadata": {}, 
          "source": [
            "\n", 
            ""
          ]
        }, 
        {
          "cell_type": "heading", 
          "level": 3, 
          "metadata": {}, 
          "source": [
            "Exercise 7"
          ]
        }, 
        {
          "cell_type": "markdown", 
          "metadata": {}, 
          "source": [
            "\n", 
            "Try different attack strengths, by changing the value of $\\tau$.\n", 
            "For a $p_{\\text{FA}}=10^{-6}$, determine the value of $\\tau$\n", 
            "for witch $p_{\\text{TP}}$ drops bellow $0.2$."
          ]
        }, 
        {
          "cell_type": "code", 
          "collapsed": false, 
          "input": [
            "## Insert your code here."
          ], 
          "language": "python", 
          "outputs": []
        }, 
        {
          "cell_type": "markdown", 
          "metadata": {}, 
          "source": [
            "\n", 
            "\n", 
            ""
          ]
        }, 
        {
          "cell_type": "heading", 
          "level": 3, 
          "metadata": {}, 
          "source": [
            "Exercise 8"
          ]
        }, 
        {
          "cell_type": "markdown", 
          "metadata": {}, 
          "source": [
            "\n", 
            "Try different attacks, for instance on the image itself (blurring,\n", 
            "denoising, etc.)."
          ]
        }, 
        {
          "cell_type": "code", 
          "collapsed": false, 
          "input": [
            "## Insert your code here."
          ], 
          "language": "python", 
          "outputs": []
        }
      ]
    }
  ]
}