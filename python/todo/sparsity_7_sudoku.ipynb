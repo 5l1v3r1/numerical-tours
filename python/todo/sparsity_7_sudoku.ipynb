{
  "metadata": {
    "name": ""
  }, 
  "nbformat": 3, 
  "nbformat_minor": 0, 
  "worksheets": [
    {
      "cells": [
        {
          "cell_type": "heading", 
          "level": 1, 
          "metadata": {}, 
          "source": [
            "Sudoku using POCS and Sparsity"
          ]
        }, 
        {
          "cell_type": "markdown", 
          "metadata": {}, 
          "source": [
            "This numerical tour explores the use of numerical schemes to solve the\n", 
            "Sudoku game.\n", 
            "\n", 
            "\n", 
            "This tour was written by <http://lcav.epfl.ch/~lu/ Yue M. Lu> and\n", 
            "<http://www.ceremade.dauphine.fr/~peyre/ Gabriel Peyr>.\n", 
            "\n", 
            "\n", 
            "The idea of encoding the Sudoku rule using a higer dimensional lifting,\n", 
            "linear constraints and binary constraint is explained in:\n", 
            "\n", 
            "\n", 
            "Andrew C. Bartlett, Amy N. Langville,\n", 
            "_An Integer Programming Model for the Sudoku Problem,_\n", 
            "The Journal of Online Mathematics and Its Applications, Volume 8. May 2008.\n", 
            "\n", 
            "\n", 
            "The idea of removing the binary constraint and using sparsity constraint\n", 
            "is exposed in:\n", 
            "\n", 
            "\n", 
            "P. Babu, K. Pelckmans, P. Stoica, and J. Li,\n", 
            "_Linear Systems, Sparse Solutions, and Sudoku_,\n", 
            "IEEE Signal Processing Letters, vol. 17, no. 1, pp. 40-42, 2010.\n", 
            "\n", 
            "\n", 
            "This tour elaborarates on these two ideas. In particular it explains\n", 
            "why $L^1$ minimization is equivalent to a POCS (projection on convex sets)\n", 
            "method to find a feasible point inside a convex polytope.\n", 
            ""
          ]
        }, 
        {
          "cell_type": "markdown", 
          "metadata": {}, 
          "source": [
            "*Important:* You need to download the file `nt_toolbox.py` from the \n", 
            "root of the github repository.\n", 
            "$\\newcommand{\\dotp}[2]{\\langle #1, #2 \\rangle}\n", 
            "\\newcommand{\\enscond}[2]{\\lbrace #1, #2 \\rbrace}\n", 
            "\\newcommand{\\pd}[2]{ \\frac{ \\partial #1}{\\partial #2} }\n", 
            "\\newcommand{\\umin}[1]{\\underset{#1}{\\min}\\;}\n", 
            "\\newcommand{\\norm}[1]{\\|#1\\|}\n", 
            "\\newcommand{\\abs}[1]{\\left|#1\\right|}\n", 
            "\\newcommand{\\choice}[1]{ \\left\\{  \\begin{array}{l} #1 \\end{array} \\right. }\n", 
            "\\newcommand{\\pa}[1]{\\left(#1\\right)}\n", 
            "\\newcommand{\\qandq}{\\quad\\text{and}\\quad}\n", 
            "\\newcommand{\\qwhereq}{\\quad\\text{where}\\quad}\n", 
            "\\newcommand{\\qifq}{ \\quad \\text{if} \\quad }\n", 
            "\\newcommand{\\qarrq}{ \\quad \\Longrightarrow \\quad }\n", 
            "\\newcommand{\\ZZ}{\\mathbb{Z}}\n", 
            "\\newcommand{\\RR}{\\mathbb{R}}\n", 
            "\\newcommand{\\Nn}{\\mathcal{N}}\n", 
            "\\newcommand{\\Hh}{\\mathcal{H}}\n", 
            "\\newcommand{\\Bb}{\\mathcal{B}}\n", 
            "\\newcommand{\\EE}{\\mathbb{E}}\n", 
            "\\newcommand{\\CC}{\\mathbb{C}}\n", 
            "\\newcommand{\\si}{\\sigma}\n", 
            "\\newcommand{\\al}{\\alpha}\n", 
            "\\newcommand{\\la}{\\lambda}\n", 
            "\\newcommand{\\ga}{\\gamma}\n", 
            "\\newcommand{\\Ga}{\\Gamma}\n", 
            "\\newcommand{\\La}{\\Lambda}\n", 
            "\\newcommand{\\si}{\\sigma}\n", 
            "\\newcommand{\\Si}{\\Sigma}\n", 
            "\\newcommand{\\be}{\\beta}\n", 
            "\\newcommand{\\de}{\\delta}\n", 
            "\\newcommand{\\De}{\\Delta}\n", 
            "\\renewcommand{\\phi}{\\varphi}\n", 
            "\\renewcommand{\\th}{\\theta}\n", 
            "\\newcommand{\\om}{\\omega}\n", 
            "\\newcommand{\\Om}{\\Omega}\n", 
            "$"
          ]
        }, 
        {
          "cell_type": "code", 
          "collapsed": false, 
          "input": [
            "from nt_toolbox import *", 
            "%matplotlib inline", 
            "%load_ext autoreload", 
            "%autoreload 2"
          ], 
          "language": "python", 
          "outputs": []
        }, 
        {
          "cell_type": "markdown", 
          "metadata": {}, 
          "source": [
            "\n", 
            ""
          ]
        }, 
        {
          "cell_type": "heading", 
          "level": 2, 
          "metadata": {}, 
          "source": [
            "Game Encoding and Decoding\n"
          ]
        }, 
        {
          "cell_type": "markdown", 
          "metadata": {}, 
          "source": [
            "The basic idea is to use a higher dimensional space of size |(n,n,n)| to represent\n", 
            "a Sudoku matrix of size |(n,n)|. In this space, the arrays are\n", 
            "constrained\n", 
            "to have binary entries.\n", 
            "\n", 
            "\n", 
            "Size of the Sudoku. This number must be a square.\n", 
            ""
          ]
        }, 
        {
          "cell_type": "code", 
          "collapsed": false, 
          "input": [
            "n = 9"
          ], 
          "language": "python", 
          "outputs": []
        }, 
        {
          "cell_type": "markdown", 
          "metadata": {}, 
          "source": [
            "\n", 
            "\n", 
            "Create a random integer matrix with entries in 1...9.\n", 
            ""
          ]
        }, 
        {
          "cell_type": "code", 
          "collapsed": false, 
          "input": [
            "x = floor(rand(n)*n)+1"
          ], 
          "language": "python", 
          "outputs": []
        }, 
        {
          "cell_type": "markdown", 
          "metadata": {}, 
          "source": [
            "\n", 
            "\n", 
            "Comparison matrix used for encoding to binary format.\n", 
            ""
          ]
        }, 
        {
          "cell_type": "code", 
          "collapsed": false, 
          "input": [
            "U = repmat( reshape(1:n, [1 1 n]), n,n )"
          ], 
          "language": "python", 
          "outputs": []
        }, 
        {
          "cell_type": "markdown", 
          "metadata": {}, 
          "source": [
            "\n", 
            "\n", 
            "Encoding in binary format.\n", 
            ""
          ]
        }, 
        {
          "cell_type": "code", 
          "collapsed": false, 
          "input": [
            "encode = lambda x: double( repmat(x, [1 1 n])==U )\n", 
            "X = encode(x)"
          ], 
          "language": "python", 
          "outputs": []
        }, 
        {
          "cell_type": "markdown", 
          "metadata": {}, 
          "source": [
            "\n", 
            "\n", 
            "The resulting matrix has binary entries and\n", 
            "has size |(n,n,n)|. One has |x(i,j)=k| if |X(i,j,k)=1| and |X(i,j,l)=0|\n", 
            "for |l~=k|.\n", 
            "\n", 
            "\n", 
            "Decoding from binary format. One use a |min| to be able to recover even\n", 
            "if the matrix |X| is not binary (because of computation errors).\n", 
            ""
          ]
        }, 
        {
          "cell_type": "code", 
          "collapsed": false, 
          "input": [
            "[tmp,x1] = min( abs(X-1), [], 3 )"
          ], 
          "language": "python", 
          "outputs": []
        }, 
        {
          "cell_type": "markdown", 
          "metadata": {}, 
          "source": [
            "\n", 
            "\n", 
            "Show that decoding is ok.\n", 
            ""
          ]
        }, 
        {
          "cell_type": "code", 
          "collapsed": false, 
          "input": [
            "disp(['Should be 0: ' num2str(norm(x-x1,'fro')) '.'])"
          ], 
          "language": "python", 
          "outputs": []
        }, 
        {
          "cell_type": "heading", 
          "level": 2, 
          "metadata": {}, 
          "source": [
            "Encoding Constraints\n"
          ]
        }, 
        {
          "cell_type": "markdown", 
          "metadata": {}, 
          "source": [
            "For |X| to be a valid encoded matrix, it should be binary and satifies\n", 
            "that each |X(i,j,:)| contains only a single |1|, which can be represented\n", 
            "using a linear contraint |Aenc*X(:)=1|.\n", 
            "\n", 
            "\n", 
            "Now we construct one encoding constraint.\n", 
            ""
          ]
        }, 
        {
          "cell_type": "code", 
          "collapsed": false, 
          "input": [
            "i = 4; j = 4\n", 
            "Z = zeros(n,n,n)\n", 
            "Z(i,j,:) = 1"
          ], 
          "language": "python", 
          "outputs": []
        }, 
        {
          "cell_type": "markdown", 
          "metadata": {}, 
          "source": [
            "\n", 
            "\n", 
            "Add this constraint to the encoding constraint matrix.\n", 
            ""
          ]
        }, 
        {
          "cell_type": "code", 
          "collapsed": false, 
          "input": [
            "Aenc = []\n", 
            "Aenc(end+1,:) = Z(:)'"
          ], 
          "language": "python", 
          "outputs": []
        }, 
        {
          "cell_type": "markdown", 
          "metadata": {}, 
          "source": [
            "\n", 
            "\n", 
            "Show that constraint is satisfied.\n", 
            ""
          ]
        }, 
        {
          "cell_type": "code", 
          "collapsed": false, 
          "input": [
            "disp(['Should be 1: ' num2str(Aenc*X(:)) '.'])"
          ], 
          "language": "python", 
          "outputs": []
        }, 
        {
          "cell_type": "heading", 
          "level": 3, 
          "metadata": {}, 
          "source": [
            "Exercise 1"
          ]
        }, 
        {
          "cell_type": "markdown", 
          "metadata": {}, 
          "source": [
            "\n", 
            "Build the encoding matrix |Aenc|. Display it.\n", 
            "\n", 
            "\n", 
            "\n", 
            "\n", 
            "\n", 
            "\n", 
            "\n", 
            "\n", 
            "\n", 
            ""
          ]
        }, 
        {
          "cell_type": "code", 
          "collapsed": false, 
          "input": [
            "## Insert your code here."
          ], 
          "language": "python", 
          "outputs": []
        }, 
        {
          "cell_type": "markdown", 
          "metadata": {}, 
          "source": [
            "\n", 
            "\n", 
            "\n", 
            "Show that constraint |Aenc*X(:)=1| is satisfied.\n", 
            ""
          ]
        }, 
        {
          "cell_type": "code", 
          "collapsed": false, 
          "input": [
            "disp(['Should be 0: ' num2str(norm(Aenc*X(:)-1)) '.'])"
          ], 
          "language": "python", 
          "outputs": []
        }, 
        {
          "cell_type": "heading", 
          "level": 2, 
          "metadata": {}, 
          "source": [
            "Sudoku Rules Constraints\n"
          ]
        }, 
        {
          "cell_type": "markdown", 
          "metadata": {}, 
          "source": [
            "In a Sudoku valid matrix |x|, each column, row and sub-square of |x| should\n", 
            "contains all the values in 0...n. This can be encoded on the high dimensional |X| using linear\n", 
            "constraints |Arow*X=1|, |Acol*X=1| and |Ablock*X=1|.\n", 
            "\n", 
            "\n", 
            "A valid Sudoku matrix.\n", 
            ""
          ]
        }, 
        {
          "cell_type": "code", 
          "collapsed": false, 
          "input": [
            "x = [8 1 9 6 7 4 3 2 5\n", 
            "     5 6 3 2 8 1 9 4 7\n", 
            "     7 4 2 5 9 3 6 8 1\n", 
            "     6 3 8 9 4 5 1 7 2\n", 
            "     9 7 1 3 2 8 4 5 6\n", 
            "     2 5 4 1 6 7 8 9 3\n", 
            "     1 8 5 7 3 9 2 6 4\n", 
            "     3 9 6 4 5 2 7 1 8\n", 
            "     4 2 7 8 1 6 5 3 9]\n"
          ], 
          "language": "python", 
          "outputs": []
        }, 
        {
          "cell_type": "markdown", 
          "metadata": {}, 
          "source": [
            "\n", 
            "\n", 
            "Encode it in binary format.\n", 
            ""
          ]
        }, 
        {
          "cell_type": "code", 
          "collapsed": false, 
          "input": [
            "X = encode(x)"
          ], 
          "language": "python", 
          "outputs": []
        }, 
        {
          "cell_type": "markdown", 
          "metadata": {}, 
          "source": [
            "\n", 
            "\n", 
            "Select the index of the entries of a row.\n", 
            ""
          ]
        }, 
        {
          "cell_type": "code", 
          "collapsed": false, 
          "input": [
            "i=3; k=5\n", 
            "Z = zeros(n,n,n)\n", 
            "Z(i,:,k) = 1"
          ], 
          "language": "python", 
          "outputs": []
        }, 
        {
          "cell_type": "markdown", 
          "metadata": {}, 
          "source": [
            "\n", 
            "\n", 
            "Fill the first entries of the row matrix.\n", 
            ""
          ]
        }, 
        {
          "cell_type": "code", 
          "collapsed": false, 
          "input": [
            "Arow = []\n", 
            "Arow(end+1,:) = Z(:)'"
          ], 
          "language": "python", 
          "outputs": []
        }, 
        {
          "cell_type": "markdown", 
          "metadata": {}, 
          "source": [
            "\n", 
            "\n", 
            "Show that constraint is satisfied.\n", 
            ""
          ]
        }, 
        {
          "cell_type": "code", 
          "collapsed": false, 
          "input": [
            "disp(['Should be 1: ' num2str(Arow*X(:)) '.'])"
          ], 
          "language": "python", 
          "outputs": []
        }, 
        {
          "cell_type": "heading", 
          "level": 3, 
          "metadata": {}, 
          "source": [
            "Exercise 2"
          ]
        }, 
        {
          "cell_type": "markdown", 
          "metadata": {}, 
          "source": [
            "\n", 
            "Build the full row matrix |Arow|. Display it.\n", 
            "\n", 
            "\n", 
            "\n", 
            "\n", 
            "\n", 
            "\n", 
            "\n", 
            "\n", 
            "\n", 
            ""
          ]
        }, 
        {
          "cell_type": "code", 
          "collapsed": false, 
          "input": [
            "## Insert your code here."
          ], 
          "language": "python", 
          "outputs": []
        }, 
        {
          "cell_type": "markdown", 
          "metadata": {}, 
          "source": [
            "\n", 
            "\n", 
            "\n", 
            "Show that constraint |Arow*X(:)=1| is satisfied.\n", 
            ""
          ]
        }, 
        {
          "cell_type": "code", 
          "collapsed": false, 
          "input": [
            "disp(['Should be 0: ' num2str(norm(Arow*X(:)-1)) '.'])"
          ], 
          "language": "python", 
          "outputs": []
        }, 
        {
          "cell_type": "heading", 
          "level": 3, 
          "metadata": {}, 
          "source": [
            "Exercise 3"
          ]
        }, 
        {
          "cell_type": "markdown", 
          "metadata": {}, 
          "source": [
            "\n", 
            "Build the full column matrix |Acol|. Display it.\n", 
            "\n", 
            "\n", 
            "\n", 
            "\n", 
            "\n", 
            "\n", 
            "\n", 
            "\n", 
            "\n", 
            ""
          ]
        }, 
        {
          "cell_type": "code", 
          "collapsed": false, 
          "input": [
            "## Insert your code here."
          ], 
          "language": "python", 
          "outputs": []
        }, 
        {
          "cell_type": "markdown", 
          "metadata": {}, 
          "source": [
            "\n", 
            "\n", 
            "\n", 
            "Show that constraint |Acol*X(:)=1| is satisfied.\n", 
            ""
          ]
        }, 
        {
          "cell_type": "code", 
          "collapsed": false, 
          "input": [
            "disp(['Should be 0: ' num2str(norm(Acol*X(:)-1)) '.'])"
          ], 
          "language": "python", 
          "outputs": []
        }, 
        {
          "cell_type": "markdown", 
          "metadata": {}, 
          "source": [
            "\n", 
            "\n", 
            "Now we proceed to block constraints.\n", 
            "\n", 
            "\n", 
            "Size of a block.\n", 
            ""
          ]
        }, 
        {
          "cell_type": "code", 
          "collapsed": false, 
          "input": [
            "p = sqrt(n)"
          ], 
          "language": "python", 
          "outputs": []
        }, 
        {
          "cell_type": "markdown", 
          "metadata": {}, 
          "source": [
            "\n", 
            "\n", 
            "The upper left square should contain\n", 
            "all numbers in |{1,...,n}|.\n", 
            ""
          ]
        }, 
        {
          "cell_type": "code", 
          "collapsed": false, 
          "input": [
            "k = 1\n", 
            "Z = zeros(n,n,n)\n", 
            "Z(1:p,1:p,k) = 1"
          ], 
          "language": "python", 
          "outputs": []
        }, 
        {
          "cell_type": "markdown", 
          "metadata": {}, 
          "source": [
            "\n", 
            "\n", 
            "Add it as the first row of the block constraint matrix.\n", 
            ""
          ]
        }, 
        {
          "cell_type": "code", 
          "collapsed": false, 
          "input": [
            "Ablock = []\n", 
            "Ablock(end+1,:) = Z(:)'"
          ], 
          "language": "python", 
          "outputs": []
        }, 
        {
          "cell_type": "markdown", 
          "metadata": {}, 
          "source": [
            "\n", 
            "\n", 
            "\n", 
            "Show that constraint is satisfied.\n", 
            ""
          ]
        }, 
        {
          "cell_type": "code", 
          "collapsed": false, 
          "input": [
            "disp(['Should be 1: ' num2str(Ablock*X(:)) '.'])"
          ], 
          "language": "python", 
          "outputs": []
        }, 
        {
          "cell_type": "heading", 
          "level": 3, 
          "metadata": {}, 
          "source": [
            "Exercise 4"
          ]
        }, 
        {
          "cell_type": "markdown", 
          "metadata": {}, 
          "source": [
            "\n", 
            "Create the full block matrix. Display it.\n", 
            "\n", 
            "\n", 
            "\n", 
            "\n", 
            "\n", 
            "\n", 
            "\n", 
            "\n", 
            "\n", 
            "\n", 
            "\n", 
            ""
          ]
        }, 
        {
          "cell_type": "code", 
          "collapsed": false, 
          "input": [
            "## Insert your code here."
          ], 
          "language": "python", 
          "outputs": []
        }, 
        {
          "cell_type": "markdown", 
          "metadata": {}, 
          "source": [
            "\n", 
            "\n", 
            "\n", 
            "Show that constraint |Ablock*X(:)=1| is satisfied.\n", 
            ""
          ]
        }, 
        {
          "cell_type": "code", 
          "collapsed": false, 
          "input": [
            "disp(['Should be 0: ' num2str(norm(Ablock*X(:)-1)) '.'])"
          ], 
          "language": "python", 
          "outputs": []
        }, 
        {
          "cell_type": "heading", 
          "level": 2, 
          "metadata": {}, 
          "source": [
            "Inpainting Constraint\n"
          ]
        }, 
        {
          "cell_type": "markdown", 
          "metadata": {}, 
          "source": [
            "A Sudoku game asks to fill the missing entries of a partial\n", 
            "Sudoku matrix |x1| to obtain a full Sudoku matrix |x|.\n", 
            "\n", 
            "\n", 
            "The fact that for each available entry |(i,j)| on must have\n", 
            "|x(i,j)=x1(i,j)| can be encoded using a linear constraint.\n", 
            "\n", 
            "\n", 
            "Load a Sudoku with missing entries, that are represented as 0.\n", 
            "This is an easy grid.\n", 
            ""
          ]
        }, 
        {
          "cell_type": "code", 
          "collapsed": false, 
          "input": [
            "x1 = [0 1 0 0 0 0 3 0 0\n", 
            "     0 0 3 0 8 0 0 4 0\n", 
            "     7 0 2 0 0 3 0 0 1\n", 
            "     0 3 0 9 4 0 1 0 0\n", 
            "     9 0 0 0 0 0 0 0 6\n", 
            "     0 0 4 0 6 7 0 9 0\n", 
            "     1 0 0 7 0 0 2 0 4\n", 
            "     0 9 0 0 5 0 7 0 0\n", 
            "     0 0 7 0 0 0 0 3 0]"
          ], 
          "language": "python", 
          "outputs": []
        }, 
        {
          "cell_type": "markdown", 
          "metadata": {}, 
          "source": [
            "\n", 
            "\n", 
            "\n", 
            "Retrieve the indexes of the available entries.\n", 
            ""
          ]
        }, 
        {
          "cell_type": "code", 
          "collapsed": false, 
          "input": [
            "[I,J] = ind2sub( [n n], find(x1(:)~=0) )\n", 
            "v = x1(x1(:)~=0)"
          ], 
          "language": "python", 
          "outputs": []
        }, 
        {
          "cell_type": "markdown", 
          "metadata": {}, 
          "source": [
            "\n", 
            "\n", 
            "Create a vector corresponding to the constraint that |x1(I(i),J(i))==v(i)|.\n", 
            ""
          ]
        }, 
        {
          "cell_type": "code", 
          "collapsed": false, 
          "input": [
            "i = 1\n", 
            "Z = zeros(n,n,n)\n", 
            "Z(I(i), J(i), v(i)) = 1"
          ], 
          "language": "python", 
          "outputs": []
        }, 
        {
          "cell_type": "markdown", 
          "metadata": {}, 
          "source": [
            "\n", 
            "\n", 
            "Fill the first entries of the row matrix.\n", 
            ""
          ]
        }, 
        {
          "cell_type": "code", 
          "collapsed": false, 
          "input": [
            "Ainp = []\n", 
            "Ainp(end+1,:) = Z(:)'"
          ], 
          "language": "python", 
          "outputs": []
        }, 
        {
          "cell_type": "heading", 
          "level": 3, 
          "metadata": {}, 
          "source": [
            "Exercise 5"
          ]
        }, 
        {
          "cell_type": "markdown", 
          "metadata": {}, 
          "source": [
            "\n", 
            "Build the full inpainting matrix |Ainp|. Display it.\n", 
            "\n", 
            "\n", 
            "\n", 
            "\n", 
            "\n", 
            "\n", 
            "\n", 
            ""
          ]
        }, 
        {
          "cell_type": "code", 
          "collapsed": false, 
          "input": [
            "## Insert your code here."
          ], 
          "language": "python", 
          "outputs": []
        }, 
        {
          "cell_type": "markdown", 
          "metadata": {}, 
          "source": [
            "\n", 
            "\n", 
            "\n", 
            "Show that constraint |Ainp*X1(:)=1| is satisfied.\n", 
            ""
          ]
        }, 
        {
          "cell_type": "code", 
          "collapsed": false, 
          "input": [
            "X1 = encode(x1)\n", 
            "disp(['Should be 0: ' num2str(norm(Ainp*X1(:)-1)) '.'])"
          ], 
          "language": "python", 
          "outputs": []
        }, 
        {
          "cell_type": "heading", 
          "level": 2, 
          "metadata": {}, 
          "source": [
            "Solving the Sudoku by Binary Integer Programming\n"
          ]
        }, 
        {
          "cell_type": "markdown", 
          "metadata": {}, 
          "source": [
            "The whole set of constraints can be written |A*X(:)=1|, where the matrix\n", 
            "|A| is defined as a concatenation of all the constraint matrices.\n", 
            ""
          ]
        }, 
        {
          "cell_type": "code", 
          "collapsed": false, 
          "input": [
            "A = [Aenc; Arow; Acol; Ablock; Ainp]"
          ], 
          "language": "python", 
          "outputs": []
        }, 
        {
          "cell_type": "markdown", 
          "metadata": {}, 
          "source": [
            "\n", 
            "\n", 
            "Pre-compute the pseudo-inverse of A.\n", 
            ""
          ]
        }, 
        {
          "cell_type": "code", 
          "collapsed": false, 
          "input": [
            "pA = pinv(A)"
          ], 
          "language": "python", 
          "outputs": []
        }, 
        {
          "cell_type": "markdown", 
          "metadata": {}, 
          "source": [
            "\n", 
            "\n", 
            "If the Sudoku game has an unique solution |x|, then the corresponding\n", 
            "lifted vector |X| is the only solution to |A*X(:)=1| under the constraint that |X| is binary.\n", 
            "\n", 
            "\n", 
            "This is the idea proposed in:\n", 
            "\n", 
            "\n", 
            "Andrew C. Bartlett, Amy N. Langville,\n", 
            "_An Integer Programming Model for the Sudoku Problem,_\n", 
            "The Journal of Online Mathematics and Its Applications, Volume 8. May 2008.\n", 
            "\n", 
            "\n", 
            "Unfortunately, solving a linear system under binary constraints is\n", 
            "difficult, in fact solving a general integer program is known to be NP-hard.\n", 
            "It means that such a method is very slow to solve Sudoku for large\n", 
            "|n|.\n", 
            "\n", 
            "\n", 
            "One can use branch-and-bounbs methods to solve the binary integer\n", 
            "program, but this might be slow. One can use for instance the\n", 
            "command |bintprog| of Matlab (optimization toolbox), with\n", 
            "an arbitrary objective function (since one wants to solve a feasability\n", 
            "problem,\n", 
            "no objective is needed).\n", 
            ""
          ]
        }, 
        {
          "cell_type": "heading", 
          "level": 3, 
          "metadata": {}, 
          "source": [
            "Exercise 6"
          ]
        }, 
        {
          "cell_type": "markdown", 
          "metadata": {}, 
          "source": [
            "\n", 
            "Implement the Soduku solver using an interger linear programming\n", 
            "algorithm."
          ]
        }, 
        {
          "cell_type": "code", 
          "collapsed": false, 
          "input": [
            "## Insert your code here."
          ], 
          "language": "python", 
          "outputs": []
        }, 
        {
          "cell_type": "markdown", 
          "metadata": {}, 
          "source": [
            "\n", 
            ""
          ]
        }, 
        {
          "cell_type": "heading", 
          "level": 2, 
          "metadata": {}, 
          "source": [
            "Removing the Binary Constraint\n"
          ]
        }, 
        {
          "cell_type": "markdown", 
          "metadata": {}, 
          "source": [
            "If one removes the binary constraint, one simply wants to\n", 
            "compute a solution to\n", 
            "the linear system |A*X(:)=1|. But unfortunately it has an infinite number of\n", 
            "solutions (and the set of solutions is not bounded).\n", 
            "\n", 
            "\n", 
            "It is thus unlikely that chosing a solution at random will work, but\n", 
            "let's try it by projecting\n", 
            "any vector on the constraint |A*X(:)=1|.\n", 
            "\n", 
            "\n", 
            "First define the orthogonal projector on the constraint |{X \\ A*X(:)=1}|.\n", 
            ""
          ]
        }, 
        {
          "cell_type": "code", 
          "collapsed": false, 
          "input": [
            "projector = lambda u: reshape( u(:) - pA*(A*u(:)-1), [n n n])"
          ], 
          "language": "python", 
          "outputs": []
        }, 
        {
          "cell_type": "markdown", 
          "metadata": {}, 
          "source": [
            "\n", 
            "\n", 
            "We project an arbitrary vector (that does not satisfy the constraint) onto the\n", 
            "constraint |A*X(:)=1|.\n", 
            ""
          ]
        }, 
        {
          "cell_type": "code", 
          "collapsed": false, 
          "input": [
            "Xproj = projector( zeros(n,n,n) )"
          ], 
          "language": "python", 
          "outputs": []
        }, 
        {
          "cell_type": "markdown", 
          "metadata": {}, 
          "source": [
            "\n", 
            "\n", 
            "Check that |Xproj| projects onto itself because it satisfies the constraints.\n", 
            ""
          ]
        }, 
        {
          "cell_type": "code", 
          "collapsed": false, 
          "input": [
            "d = projector(Xproj)-Xproj\n", 
            "disp(['Should be 0: ' num2str(norm(d(:), 'fro')) '.'])"
          ], 
          "language": "python", 
          "outputs": []
        }, 
        {
          "cell_type": "markdown", 
          "metadata": {}, 
          "source": [
            "\n", 
            "\n", 
            "Plot the histogrtam of the entries of |Xproj|. As you can see, they are not\n", 
            "binary, meaning that the binary constraint is violated.\n", 
            ""
          ]
        }, 
        {
          "cell_type": "code", 
          "collapsed": false, 
          "input": [
            "\n", 
            "hist(Xproj(:), 30)\n", 
            "axis('tight')"
          ], 
          "language": "python", 
          "outputs": []
        }, 
        {
          "cell_type": "markdown", 
          "metadata": {}, 
          "source": [
            "\n", 
            "\n", 
            "It is thus not a\n", 
            "solution to the Sudoku problem.\n", 
            "We emphasize this by counting\n", 
            "the number of violated constraints after decoding / re-encoding.\n", 
            ""
          ]
        }, 
        {
          "cell_type": "code", 
          "collapsed": false, 
          "input": [
            "[tmp,xproj] = min( abs(Xproj-1), [], 3 )\n", 
            "Xproj1 = encode(xproj)\n", 
            "disp(['Number of violated constraints: ' num2str(sum(A*Xproj1(:)~=1)) '.'])"
          ], 
          "language": "python", 
          "outputs": []
        }, 
        {
          "cell_type": "heading", 
          "level": 2, 
          "metadata": {}, 
          "source": [
            "Solving the Sudoku by Projection on Convex Sets\n"
          ]
        }, 
        {
          "cell_type": "markdown", 
          "metadata": {}, 
          "source": [
            "A way to improve the quality of the result is to find a vector that\n", 
            "satisfies both |A*X(:)=1| and |0<=X<=1|. Note that this last constraint\n", 
            "can be modified to |X>=0| because of the fact that the entries of |X(i,j,:)|\n", 
            "must sum to 1 because of |A*X(:)|.\n", 
            "\n", 
            "\n", 
            "A way to find a point inside this polytope\n", 
            "|P = {X \\ A*X(:)=1 and X>=0}| is to start from a random initial guess.\n", 
            ""
          ]
        }, 
        {
          "cell_type": "code", 
          "collapsed": false, 
          "input": [
            "Xproj = zeros(n,n,n)"
          ], 
          "language": "python", 
          "outputs": []
        }, 
        {
          "cell_type": "markdown", 
          "metadata": {}, 
          "source": [
            "\n", 
            "\n", 
            "And iteratively project on each constraint. This corresponds to the POCS\n", 
            "algorithm to find a feasible point into the (non empty) intersection of\n", 
            "convex sets.\n", 
            ""
          ]
        }, 
        {
          "cell_type": "code", 
          "collapsed": false, 
          "input": [
            "Xproj = max( projector(Xproj),0 )"
          ], 
          "language": "python", 
          "outputs": []
        }, 
        {
          "cell_type": "heading", 
          "level": 3, 
          "metadata": {}, 
          "source": [
            "Exercise 7"
          ]
        }, 
        {
          "cell_type": "markdown", 
          "metadata": {}, 
          "source": [
            "\n", 
            "Perform iterative projections (POCS) on the two constraints |A*Xproj(:)=1| and\n", 
            "|Xproj>=0|. Display the decay of the error |norm(A*Xproj(:)-1)| in logarithmic scale.\n", 
            "\n", 
            "\n", 
            "\n", 
            "\n", 
            "\n", 
            "\n", 
            "\n", 
            "\n", 
            "\n", 
            ""
          ]
        }, 
        {
          "cell_type": "code", 
          "collapsed": false, 
          "input": [
            "## Insert your code here."
          ], 
          "language": "python", 
          "outputs": []
        }, 
        {
          "cell_type": "markdown", 
          "metadata": {}, 
          "source": [
            "\n", 
            "\n", 
            "\n", 
            "Display the histogram of the recovered values.\n", 
            ""
          ]
        }, 
        {
          "cell_type": "code", 
          "collapsed": false, 
          "input": [
            "\n", 
            "hist(Xproj(:), 30)\n", 
            "axis('tight')"
          ], 
          "language": "python", 
          "outputs": []
        }, 
        {
          "cell_type": "markdown", 
          "metadata": {}, 
          "source": [
            "\n", 
            "\n", 
            "As you can see, the resulting vector is (nearly, up to convergence errors of the POCS)\n", 
            "a binary one, meaning that it is\n", 
            "actually the (unique) solution to the Sudoku problem.\n", 
            "\n", 
            "\n", 
            "We check this by counting the number of violated constraints\n", 
            "after decoding and re-encoding.\n", 
            ""
          ]
        }, 
        {
          "cell_type": "code", 
          "collapsed": false, 
          "input": [
            "[tmp,xproj] = min( abs(Xproj-1), [], 3 )\n", 
            "Xproj1 = encode(xproj)\n", 
            "disp(['Number of violated constraints: ' num2str(sum(A*Xproj1(:)~=1)) '.'])"
          ], 
          "language": "python", 
          "outputs": []
        }, 
        {
          "cell_type": "heading", 
          "level": 3, 
          "metadata": {}, 
          "source": [
            "Exercise 8"
          ]
        }, 
        {
          "cell_type": "markdown", 
          "metadata": {}, 
          "source": [
            "\n", 
            "Prove (numerically) that for this grid, the polytope of constraints\n", 
            "|P={X \\ A*X(:)=1 and X>=0}| is actually reduced to a singleton, which is\n", 
            "the solution of the Sudoku problem."
          ]
        }, 
        {
          "cell_type": "code", 
          "collapsed": false, 
          "input": [
            "## Insert your code here."
          ], 
          "language": "python", 
          "outputs": []
        }, 
        {
          "cell_type": "markdown", 
          "metadata": {}, 
          "source": [
            "\n", 
            "\n", 
            "\n", 
            "Unfortunately, this is not always the case.\n", 
            "For more difficult grids, |P| might not be reduced to a singleton.\n", 
            "\n", 
            "\n", 
            "This is a difficult grid.\n", 
            ""
          ]
        }, 
        {
          "cell_type": "code", 
          "collapsed": false, 
          "input": [
            "x1 = [0 0 3 0 0 9 0 8 1\n", 
            "     0 0 0 2 0 0 0 6 0\n", 
            "     5 0 0 0 1 0 7 0 0\n", 
            "     8 9 0 0 0 0 0 0 0\n", 
            "     0 0 5 6 0 1 2 0 0\n", 
            "     0 0 0 0 0 0 0 3 7\n", 
            "     0 0 9 0 2 0 0 0 8\n", 
            "     0 7 0 0 0 4 0 0 0\n", 
            "     2 5 0 8 0 0 6 0 0]"
          ], 
          "language": "python", 
          "outputs": []
        }, 
        {
          "cell_type": "heading", 
          "level": 3, 
          "metadata": {}, 
          "source": [
            "Exercise 9"
          ]
        }, 
        {
          "cell_type": "markdown", 
          "metadata": {}, 
          "source": [
            "\n", 
            "Try the iterative projection on convexs set (POCS) method on this grid\n", 
            "(remember that you need to re-define |A| and |pA|).\n", 
            "What is your conclusion ?\n", 
            "fill the constraint matrix\n", 
            "\n", 
            "\n", 
            "\n", 
            "\n", 
            "\n", 
            "\n", 
            "\n", 
            "\n", 
            "\n", 
            "\n", 
            "POCS\n", 
            "\n", 
            "\n", 
            "\n", 
            "\n", 
            "\n", 
            "\n", 
            "\n", 
            "\n", 
            "\n", 
            "Check wether this is a valid solution.\n", 
            "\n", 
            "\n", 
            ""
          ]
        }, 
        {
          "cell_type": "code", 
          "collapsed": false, 
          "input": [
            "## Insert your code here."
          ], 
          "language": "python", 
          "outputs": []
        }, 
        {
          "cell_type": "markdown", 
          "metadata": {}, 
          "source": [
            "\n", 
            ""
          ]
        }, 
        {
          "cell_type": "heading", 
          "level": 2, 
          "metadata": {}, 
          "source": [
            "Decoding Using L1 Sparsity\n"
          ]
        }, 
        {
          "cell_type": "markdown", 
          "metadata": {}, 
          "source": [
            "The true solution has exactly |n^2| non zero entries, while a\n", 
            "feasible point within the convex polytope |P| is usually not as sparse.\n", 
            "\n", 
            "\n", 
            "Compute the sparsity of a projected vector.\n", 
            ""
          ]
        }, 
        {
          "cell_type": "code", 
          "collapsed": false, 
          "input": [
            "Xproj = projector( zeros(n,n,n) )\n", 
            "disp(['Sparsity: ' num2str(sum(Xproj(:)~=0)) ' (optimal: ' num2str(n*n) ').'])"
          ], 
          "language": "python", 
          "outputs": []
        }, 
        {
          "cell_type": "markdown", 
          "metadata": {}, 
          "source": [
            "\n", 
            "\n", 
            "One can prove that any solution to |A*X(:)=1| has more\n", 
            "than |n^2| non zeros, and that the true Sudoku solution is the unique\n", 
            "solution to |A*X(:)=1| with |n^2| entries.\n", 
            "\n", 
            "\n", 
            "One can thus (in principle) solve the Sudoku by finding the solution to\n", 
            "|A*X(:)=1| with minimal L0 norm.\n", 
            "\n", 
            "\n", 
            "Unfortunately, solving this problem is known to be in some sense NP-hard.\n", 
            "\n", 
            "\n", 
            "A classical method to approximate the solution to the minimum L0 norm\n", 
            "problem it to replace it by a minimum L1 norm solution, which can be\n", 
            "computed with polynomial time algorithms.\n", 
            "\n", 
            "\n", 
            "\n", 
            "This idea is put forward in:\n", 
            "\n", 
            "\n", 
            "P. Babu, K. Pelckmans, P. Stoica, and J. Li,\n", 
            "_Linear Systems, Sparse Solutions, and Sudoku_,\n", 
            "IEEE Signal Processing Letters, vol. 17, no. 1, pp. 40-42, 2010.\n", 
            "\n", 
            "\n", 
            "\n", 
            "The L1 norm of the Sudoku solution is |n^2|.\n", 
            "The L1 norm of a projected vector is usually larger.\n", 
            ""
          ]
        }, 
        {
          "cell_type": "code", 
          "collapsed": false, 
          "input": [
            "disp(['L1 norm: ' num2str(norm(Xproj(:),1)) ' (optimal: ' num2str(n*n) ').'])"
          ], 
          "language": "python", 
          "outputs": []
        }, 
        {
          "cell_type": "markdown", 
          "metadata": {}, 
          "source": [
            "\n", 
            "\n", 
            "Unfortunately, all the vectors in the (bouned) polytope |A*X(:)=1| and |X>=0|\n", 
            "has the same L1 norm, equal to |81|.\n", 
            "\n", 
            "\n", 
            "This shows that the L1 minimization has the same properties as the POCS\n", 
            "algorithm. They work if and only if the polytope is reduced to a single\n", 
            "point.\n", 
            "\n", 
            "\n", 
            "\n", 
            "Nevertheless, one can compute the solution with minimum L1 norm which corresponds\n", 
            "to the Basis pursuit\n", 
            "problem. This problem is equivalent to a linear program, and can be\n", 
            "solved using standard interior points method (other algorithms, such as\n", 
            "Douglas-Rachford could be used as well).\n", 
            "\n", 
            "\n", 
            "Define a shortcut for the resolution of basis pursuit.\n", 
            ""
          ]
        }, 
        {
          "cell_type": "code", 
          "collapsed": false, 
          "input": [
            "solvel1 = lambda A: reshape(perform_solve_bp(A, ones(size(A,1),1), n^3, 30, 0, 1e-10), [n n n])"
          ], 
          "language": "python", 
          "outputs": []
        }, 
        {
          "cell_type": "markdown", 
          "metadata": {}, 
          "source": [
            "\n", 
            "\n", 
            "Solve the L1 minimization.\n", 
            ""
          ]
        }, 
        {
          "cell_type": "code", 
          "collapsed": false, 
          "input": [
            "Xbp = solvel1(A)"
          ], 
          "language": "python", 
          "outputs": []
        }, 
        {
          "cell_type": "markdown", 
          "metadata": {}, 
          "source": [
            "\n", 
            "\n", 
            "Compute the L1 norm of the solution, to check that it is indeed equal to the minimal possible L1 norm |n^2|.\n", 
            ""
          ]
        }, 
        {
          "cell_type": "code", 
          "collapsed": false, 
          "input": [
            "disp(['L1 norm: ' num2str(norm(Xbp(:),1)) ' (optimal: ' num2str(n*n) ').'])"
          ], 
          "language": "python", 
          "outputs": []
        }, 
        {
          "cell_type": "markdown", 
          "metadata": {}, 
          "source": [
            "\n", 
            "\n", 
            "Unfortunately, on this difficult problem, similarely to POCS, the L1\n", 
            "method does not works.\n", 
            ""
          ]
        }, 
        {
          "cell_type": "code", 
          "collapsed": false, 
          "input": [
            "[tmp,xbp] = min( abs(Xbp-1), [], 3 )\n", 
            "Xbp1 = encode(xbp)\n", 
            "disp(['Number of violated constraints: ' num2str(sum(A*Xbp1(:)~=1)) '.'])"
          ], 
          "language": "python", 
          "outputs": []
        }, 
        {
          "cell_type": "heading", 
          "level": 2, 
          "metadata": {}, 
          "source": [
            "Decoding Using more Aggressive Sparsity\n"
          ]
        }, 
        {
          "cell_type": "markdown", 
          "metadata": {}, 
          "source": [
            "Since the L1 norm does not perform better than POCS, it is tempting to\n", 
            "use a more agressive sparsity measure, like |L^alpha| norm for |alpha<1|.\n", 
            "\n", 
            "\n", 
            "This leads to non-convex problems, and one can compute a (not necessarily\n", 
            "globally optimal) local minimum.\n", 
            "\n", 
            "\n", 
            "An algorithm to find a local minimum of the energy is the reweighted L1\n", 
            "minimization, described in:\n", 
            "\n", 
            "\n", 
            "E. J. Cands, M. Wakin and S. Boyd,\n", 
            "_Enhancing sparsity by reweighted l1 minimization_,\n", 
            "J. Fourier Anal. Appl., 14 877-905.\n", 
            "\n", 
            "\n", 
            "This idea is introduced in the paper:\n", 
            "\n", 
            "\n", 
            "P. Babu, K. Pelckmans, P. Stoica, and J. Li,\n", 
            "_Linear Systems, Sparse Solutions, and Sudoku_,\n", 
            "IEEE Signal Processing Letters, vol. 17, no. 1, pp. 40-42, 2010.\n", 
            "\n", 
            "\n", 
            "At each iteration of the algorithm, one minimizes\n", 
            "\n", 
            "\n", 
            "\n", 
            "$$min \\sum 1/u_k  |x_k|$$  subject to  $$A x=1$$\n", 
            "\n", 
            "\n", 
            "\n", 
            "The weights are then updated as\n", 
            "\n", 
            "\n", 
            "\n", 
            "$$u_k=|x_k|^{1-\\alpha} + \\epsilon$$\n", 
            "\n", 
            "\n", 
            "\n", 
            "The weighted L1 minimization can be recasted as a traditional L1 minimization\n", 
            "using a change of variables.\n", 
            "\n", 
            "\n", 
            "\n", 
            "$$min |y|_1$$ subject to $$A diag(u) y=1$$ and $$x_k = y_k u_k$$\n", 
            "\n", 
            "\n", 
            "\n", 
            "Set the target |alpha|, that should be in |0<=alpha<=1|.\n", 
            ""
          ]
        }, 
        {
          "cell_type": "code", 
          "collapsed": false, 
          "input": [
            "alpha = 0"
          ], 
          "language": "python", 
          "outputs": []
        }, 
        {
          "cell_type": "markdown", 
          "metadata": {}, 
          "source": [
            "\n", 
            "\n", 
            "Set the regularisation parameter |epsilon|, that avoids a division by\n", 
            "zero.\n", 
            ""
          ]
        }, 
        {
          "cell_type": "code", 
          "collapsed": false, 
          "input": [
            "epsilon = 0.1"
          ], 
          "language": "python", 
          "outputs": []
        }, 
        {
          "cell_type": "markdown", 
          "metadata": {}, 
          "source": [
            "\n", 
            "\n", 
            "Initial set of weights.\n", 
            ""
          ]
        }, 
        {
          "cell_type": "code", 
          "collapsed": false, 
          "input": [
            "u = ones(n,n,n)"
          ], 
          "language": "python", 
          "outputs": []
        }, 
        {
          "cell_type": "markdown", 
          "metadata": {}, 
          "source": [
            "\n", 
            "\n", 
            "Solve the weighted L1 minimization.\n", 
            ""
          ]
        }, 
        {
          "cell_type": "code", 
          "collapsed": false, 
          "input": [
            "Xrw = solvel1( A*diag(u(:)) ) .* u"
          ], 
          "language": "python", 
          "outputs": []
        }, 
        {
          "cell_type": "markdown", 
          "metadata": {}, 
          "source": [
            "\n", 
            "\n", 
            "Update the weights.\n", 
            ""
          ]
        }, 
        {
          "cell_type": "code", 
          "collapsed": false, 
          "input": [
            "u = (abs(Xrw).^(1-alpha)+epsilon)"
          ], 
          "language": "python", 
          "outputs": []
        }, 
        {
          "cell_type": "heading", 
          "level": 3, 
          "metadata": {}, 
          "source": [
            "Exercise 10"
          ]
        }, 
        {
          "cell_type": "markdown", 
          "metadata": {}, 
          "source": [
            "\n", 
            "Compute the solution using the reweighted L1 minimization.\n", 
            "Track the evolution of the number of invalidated constraints as the\n", 
            "algorithm iterates.\n", 
            "\n", 
            "\n", 
            "\n", 
            "\n", 
            "\n", 
            "\n", 
            "\n", 
            "\n", 
            "\n", 
            "\n", 
            "\n", 
            "\n", 
            "\n", 
            ""
          ]
        }, 
        {
          "cell_type": "code", 
          "collapsed": false, 
          "input": [
            "## Insert your code here."
          ], 
          "language": "python", 
          "outputs": []
        }, 
        {
          "cell_type": "markdown", 
          "metadata": {}, 
          "source": [
            "\n", 
            "\n", 
            "\n", 
            "Display the histogram.\n", 
            ""
          ]
        }, 
        {
          "cell_type": "code", 
          "collapsed": false, 
          "input": [
            "hist(Xrw(:), 30)"
          ], 
          "language": "python", 
          "outputs": []
        }, 
        {
          "cell_type": "markdown", 
          "metadata": {}, 
          "source": [
            "\n", 
            "\n", 
            "While reweighting L1 works for reasonnably complicated Sudoku, it might\n", 
            "fail on very difficult one.\n", 
            "\n", 
            "\n", 
            "This is the _Al Escargot_ puzzle, believed to be the hardest Sudoku\n", 
            "available.\n", 
            ""
          ]
        }, 
        {
          "cell_type": "code", 
          "collapsed": false, 
          "input": [
            "x1 = [1 0 0 0 0 7 0 9 0\n", 
            "      0 3 0 0 2 0 0 0 8\n", 
            "      0 0 9 6 0 0 5 0 0\n", 
            "      0 0 5 3 0 0 9 0 0\n", 
            "      0 1 0 0 8 0 0 0 2\n", 
            "      6 0 0 0 0 4 0 0 0\n", 
            "      3 0 0 0 0 0 0 1 0\n", 
            "      0 4 0 0 0 0 0 0 7\n", 
            "      0 0 7 0 0 0 3 0 0]"
          ], 
          "language": "python", 
          "outputs": []
        }, 
        {
          "cell_type": "heading", 
          "level": 3, 
          "metadata": {}, 
          "source": [
            "Exercise 11"
          ]
        }, 
        {
          "cell_type": "markdown", 
          "metadata": {}, 
          "source": [
            "\n", 
            "Try reweighted L1 on this puzzle.\n", 
            "fill matrix.\n", 
            "\n", 
            "\n", 
            "\n", 
            "\n", 
            "\n", 
            "\n", 
            "\n", 
            "\n", 
            "solve\n", 
            "\n", 
            "\n", 
            "\n", 
            "\n", 
            "\n", 
            "\n", 
            "\n", 
            "\n", 
            "\n", 
            "\n", 
            "\n", 
            "\n", 
            "\n", 
            "\n", 
            "\n", 
            "\n", 
            ""
          ]
        }, 
        {
          "cell_type": "code", 
          "collapsed": false, 
          "input": [
            "## Insert your code here."
          ], 
          "language": "python", 
          "outputs": []
        }, 
        {
          "cell_type": "markdown", 
          "metadata": {}, 
          "source": [
            "\n", 
            ""
          ]
        }, 
        {
          "cell_type": "heading", 
          "level": 3, 
          "metadata": {}, 
          "source": [
            "Exercise 12"
          ]
        }, 
        {
          "cell_type": "markdown", 
          "metadata": {}, 
          "source": [
            "\n", 
            "Try other sparsity-enforcing minimization methods, such as Orthogonal\n", 
            "Matching Pursuit (OMP), or iterative hard thresholding."
          ]
        }, 
        {
          "cell_type": "code", 
          "collapsed": false, 
          "input": [
            "## Insert your code here."
          ], 
          "language": "python", 
          "outputs": []
        }, 
        {
          "cell_type": "markdown", 
          "metadata": {}, 
          "source": [
            "\n", 
            ""
          ]
        }, 
        {
          "cell_type": "heading", 
          "level": 3, 
          "metadata": {}, 
          "source": [
            "Exercise 13"
          ]
        }, 
        {
          "cell_type": "markdown", 
          "metadata": {}, 
          "source": [
            "\n", 
            "Try the different methods of this tour on a large number of Sudokus."
          ]
        }, 
        {
          "cell_type": "code", 
          "collapsed": false, 
          "input": [
            "## Insert your code here."
          ], 
          "language": "python", 
          "outputs": []
        }, 
        {
          "cell_type": "markdown", 
          "metadata": {}, 
          "source": [
            "\n", 
            ""
          ]
        }, 
        {
          "cell_type": "heading", 
          "level": 3, 
          "metadata": {}, 
          "source": [
            "Exercise 14"
          ]
        }, 
        {
          "cell_type": "markdown", 
          "metadata": {}, 
          "source": [
            "\n", 
            "Try the different methods of this tour on larger Sudokus, for |n=4,5,6|."
          ]
        }, 
        {
          "cell_type": "code", 
          "collapsed": false, 
          "input": [
            "## Insert your code here."
          ], 
          "language": "python", 
          "outputs": []
        }
      ]
    }
  ]
}