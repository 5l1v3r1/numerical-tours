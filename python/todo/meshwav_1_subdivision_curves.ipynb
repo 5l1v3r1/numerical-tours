{
  "metadata": {
    "name": ""
  }, 
  "nbformat": 3, 
  "nbformat_minor": 0, 
  "worksheets": [
    {
      "cells": [
        {
          "cell_type": "heading", 
          "level": 1, 
          "metadata": {}, 
          "source": [
            "Subdivision Curves"
          ]
        }, 
        {
          "cell_type": "markdown", 
          "metadata": {}, 
          "source": [
            "Subdvision methods progressively refine a discrete curve and\n", 
            "converge to a smooth curve. This allows to perform an\n", 
            "interpolation or approximation of a given coarse dataset.\n", 
            ""
          ]
        }, 
        {
          "cell_type": "markdown", 
          "metadata": {}, 
          "source": [
            "*Important:* You need to download the file `nt_toolbox.py` from the \n", 
            "root of the github repository.\n", 
            "$\\newcommand{\\dotp}[2]{\\langle #1, #2 \\rangle}\n", 
            "\\newcommand{\\enscond}[2]{\\lbrace #1, #2 \\rbrace}\n", 
            "\\newcommand{\\pd}[2]{ \\frac{ \\partial #1}{\\partial #2} }\n", 
            "\\newcommand{\\umin}[1]{\\underset{#1}{\\min}\\;}\n", 
            "\\newcommand{\\norm}[1]{\\|#1\\|}\n", 
            "\\newcommand{\\abs}[1]{\\left|#1\\right|}\n", 
            "\\newcommand{\\choice}[1]{ \\left\\{  \\begin{array}{l} #1 \\end{array} \\right. }\n", 
            "\\newcommand{\\pa}[1]{\\left(#1\\right)}\n", 
            "\\newcommand{\\qandq}{\\quad\\text{and}\\quad}\n", 
            "\\newcommand{\\qwhereq}{\\quad\\text{where}\\quad}\n", 
            "\\newcommand{\\qifq}{ \\quad \\text{if} \\quad }\n", 
            "\\newcommand{\\qarrq}{ \\quad \\Longrightarrow \\quad }\n", 
            "\\newcommand{\\ZZ}{\\mathbb{Z}}\n", 
            "\\newcommand{\\RR}{\\mathbb{R}}\n", 
            "\\newcommand{\\Nn}{\\mathcal{N}}\n", 
            "\\newcommand{\\Hh}{\\mathcal{H}}\n", 
            "\\newcommand{\\Bb}{\\mathcal{B}}\n", 
            "\\newcommand{\\EE}{\\mathbb{E}}\n", 
            "\\newcommand{\\CC}{\\mathbb{C}}\n", 
            "\\newcommand{\\si}{\\sigma}\n", 
            "\\newcommand{\\al}{\\alpha}\n", 
            "\\newcommand{\\la}{\\lambda}\n", 
            "\\newcommand{\\ga}{\\gamma}\n", 
            "\\newcommand{\\Ga}{\\Gamma}\n", 
            "\\newcommand{\\La}{\\Lambda}\n", 
            "\\newcommand{\\si}{\\sigma}\n", 
            "\\newcommand{\\Si}{\\Sigma}\n", 
            "\\newcommand{\\be}{\\beta}\n", 
            "\\newcommand{\\de}{\\delta}\n", 
            "\\newcommand{\\De}{\\Delta}\n", 
            "\\renewcommand{\\phi}{\\varphi}\n", 
            "\\renewcommand{\\th}{\\theta}\n", 
            "\\newcommand{\\om}{\\omega}\n", 
            "\\newcommand{\\Om}{\\Omega}\n", 
            "$"
          ]
        }, 
        {
          "cell_type": "code", 
          "collapsed": false, 
          "input": [
            "from nt_toolbox import *", 
            "%matplotlib inline", 
            "%load_ext autoreload", 
            "%autoreload 2"
          ], 
          "language": "python", 
          "outputs": []
        }, 
        {
          "cell_type": "heading", 
          "level": 2, 
          "metadata": {}, 
          "source": [
            "Curve Subdivision \n"
          ]
        }, 
        {
          "cell_type": "markdown", 
          "metadata": {}, 
          "source": [
            "Starting from an initial set of control points (which can be seen as a\n", 
            "coarse curve), subdivision produces a smooth 2-D curve.\n", 
            "\n", 
            "\n", 
            "Shortcut to plot a periodic curve.\n", 
            ""
          ]
        }, 
        {
          "cell_type": "code", 
          "collapsed": false, 
          "input": [
            "ms = 20; lw = 1.5\n", 
            "myplot = lambda f,c: plot(f([1:end 1]), c, 'LineWidth', lw, 'MarkerSize', ms)\n", 
            "myaxis = lambda rho: axis([-rho 1+rho -rho 1+rho], 'off')"
          ], 
          "language": "python", 
          "outputs": []
        }, 
        {
          "cell_type": "markdown", 
          "metadata": {}, 
          "source": [
            "\n", 
            "\n", 
            "We represent a dicretized curve of $N$ points as a vector of complex numbers $f \\in \\CC^N$.\n", 
            "Since we consider periodic boundary conditions, we assume the vectors\n", 
            "have periodic boundary conditions.\n", 
            "\n", 
            "\n", 
            "Define the initial coarse set of control points$f_0 \\in \\CC^{N_0}$.\n", 
            ""
          ]
        }, 
        {
          "cell_type": "code", 
          "collapsed": false, 
          "input": [
            "f0 =    [0.11 0.18 0.26 0.36 0.59 0.64 0.80 0.89 0.58 0.22 0.18 0.30 0.58 0.43 0.42]' + ...\n", 
            "   1i * [0.91 0.55 0.91 0.58 0.78 0.51 0.81 0.56 0.10 0.16 0.35 0.42 0.40 0.24 0.31]'"
          ], 
          "language": "python", 
          "outputs": []
        }, 
        {
          "cell_type": "markdown", 
          "metadata": {}, 
          "source": [
            "\n", 
            "\n", 
            "Rescale it to fit in a box.\n", 
            ""
          ]
        }, 
        {
          "cell_type": "code", 
          "collapsed": false, 
          "input": [
            "f0 = rescale(real(f0),.01,.99) + 1i * rescale(imag(f0),.01,.99)"
          ], 
          "language": "python", 
          "outputs": []
        }, 
        {
          "cell_type": "markdown", 
          "metadata": {}, 
          "source": [
            "\n", 
            "\n", 
            "Display it.\n", 
            ""
          ]
        }, 
        {
          "cell_type": "code", 
          "collapsed": false, 
          "input": [
            "clf; myplot(f0, 'k.-')\n", 
            "myaxis(0)"
          ], 
          "language": "python", 
          "outputs": []
        }, 
        {
          "cell_type": "markdown", 
          "metadata": {}, 
          "source": [
            "\n", 
            "\n", 
            "\n", 
            "One subdivision step reads\n", 
            "$$ f_{j+1} = (f_j \\uparrow 2) \\star h. $$\n", 
            "This produces discrete curves $f_j \\in \\CC^{N_j}$ where $N_j = N_0\n", 
            "2^j$.\n", 
            "\n", 
            "\n", 
            "Here $\\uparrow 2$ is the up-sampling operator\n", 
            "$$ (f \\uparrow 2)_{2i}=f_i \\qandq (f \\uparrow 2)_{2i+1} = 0.  $$\n", 
            "\n", 
            "\n", 
            "Recall that the periodic discrete convolution is defined as\n", 
            "$$ (f \\star h)_i = \\sum_j f_j h_{i-j}, $$\n", 
            "where the filter $h$ is zero-padded to reach the same size as $f$.\n", 
            "\n", 
            "\n", 
            "The low pass filter (subdivision kernel) $h \\in \\CC^K$ should\n", 
            "satisfies\n", 
            "$$\\sum_i h_i = 2 . $$\n", 
            "This ensure that the center of gravity of the curve stays constant\n", 
            "$$ \\frac{1}{N_j} \\sum_{i=1}^{N_j} f_{j,i} =\n", 
            "  \\frac{1}{N_0} \\sum_{i=1}^{N_0} f_{0,i}.$$\n", 
            "\n", 
            "\n", 
            "Define the subdivision operator that maps $f_j$ to $f_{j+1}$.\n", 
            ""
          ]
        }, 
        {
          "cell_type": "code", 
          "collapsed": false, 
          "input": [
            "subdivide = lambda f,h: cconv( upsampling(f), h)"
          ], 
          "language": "python", 
          "outputs": []
        }, 
        {
          "cell_type": "markdown", 
          "metadata": {}, 
          "source": [
            "\n", 
            "\n", 
            "We use here the kernel\n", 
            "$$ h = \\frac{1}{8}[1, 4, 6, 4, 1]. $$\n", 
            "It produced a cubic B-spline interpolation.\n", 
            ""
          ]
        }, 
        {
          "cell_type": "code", 
          "collapsed": false, 
          "input": [
            "h = [1 4 6 4 1]\n", 
            "h = 2*h/sum(h(:))"
          ], 
          "language": "python", 
          "outputs": []
        }, 
        {
          "cell_type": "markdown", 
          "metadata": {}, 
          "source": [
            "\n", 
            "\n", 
            "Initilize the subdivision with $f_0$ at scale $j=0$.\n", 
            ""
          ]
        }, 
        {
          "cell_type": "code", 
          "collapsed": false, 
          "input": [
            "f = f0"
          ], 
          "language": "python", 
          "outputs": []
        }, 
        {
          "cell_type": "markdown", 
          "metadata": {}, 
          "source": [
            "\n", 
            "\n", 
            "Perform one step.\n", 
            ""
          ]
        }, 
        {
          "cell_type": "code", 
          "collapsed": false, 
          "input": [
            "f = subdivide(f,h)"
          ], 
          "language": "python", 
          "outputs": []
        }, 
        {
          "cell_type": "markdown", 
          "metadata": {}, 
          "source": [
            "\n", 
            "\n", 
            "Display the original and filtered discrete curves.\n", 
            ""
          ]
        }, 
        {
          "cell_type": "code", 
          "collapsed": false, 
          "input": [
            "clf; hold on\n", 
            "myplot(f, 'k.-')\n", 
            "myplot(f0, 'r.--')\n", 
            "myaxis(0)"
          ], 
          "language": "python", 
          "outputs": []
        }, 
        {
          "cell_type": "heading", 
          "level": 3, 
          "metadata": {}, 
          "source": [
            "Exercise 1"
          ]
        }, 
        {
          "cell_type": "markdown", 
          "metadata": {}, 
          "source": [
            "\n", 
            "Perform several step of subdivision. Display the different curves.\n", 
            "\n", 
            "\n", 
            "\n", 
            "\n", 
            "\n", 
            "\n", 
            "\n", 
            "\n", 
            "\n", 
            "\n", 
            ""
          ]
        }, 
        {
          "cell_type": "code", 
          "collapsed": false, 
          "input": [
            "## Insert your code here."
          ], 
          "language": "python", 
          "outputs": []
        }, 
        {
          "cell_type": "markdown", 
          "metadata": {}, 
          "source": [
            "\n", 
            "\n", 
            "\n", 
            "Under some restriction on the kernel $h$, one can show that\n", 
            "these discrete curves converges (e.g. in Hausdorff distance) toward a\n", 
            "smooth limit curve $f^\\star : [0,1] \\rightarrow \\CC$.\n", 
            "\n", 
            "\n", 
            "We do not details here sufficient condition to ensure convergence and\n", 
            "smoothness of the limitting curve. The interested reader can have a look\n", 
            "at <#biblio [DynLevin02]> for a review of theoritical guarantees for\n", 
            "subdivision.\n", 
            "\n", 
            "\n", 
            "The limit curve $f^\\star$ is a weighted average of the initial\n", 
            "points $f_0 = (f_{0,i})_{i=0}^{N_0-1} \\in \\CC^{N_0}$ using a continuous\n", 
            "scaling function $\\phi : [0,1] \\rightarrow \\RR$\n", 
            "$$ f^\\star(t) = \\sum_{i=0}^{N_0-1} f_{0,i} \\phi(t-i/N_0).  $$\n", 
            "The continuous kernel $\\phi$ is a low-pass function which as a compact\n", 
            "support of width $K/N_0$. The control point $f_{0,i}$ thus only\n", 
            "influences the final curve $f^\\star$ around $t=i/N_0$.\n", 
            "\n", 
            "\n", 
            "The scaling function $\\phi$ can be computed as the limit of the sub-division\n", 
            "process $f_j$ when starting from $f_0 = \\delta = [1,0,\\ldots,0]$,\n", 
            "which is the Dirac vector.\n", 
            ""
          ]
        }, 
        {
          "cell_type": "heading", 
          "level": 3, 
          "metadata": {}, 
          "source": [
            "Exercise 2"
          ]
        }, 
        {
          "cell_type": "markdown", 
          "metadata": {}, 
          "source": [
            "\n", 
            "Compute the scaling function $\\phi$\n", 
            "associated to the subdivision.\n", 
            "\n", 
            "\n", 
            "\n", 
            "\n", 
            "\n", 
            "\n", 
            ""
          ]
        }, 
        {
          "cell_type": "code", 
          "collapsed": false, 
          "input": [
            "## Insert your code here."
          ], 
          "language": "python", 
          "outputs": []
        }, 
        {
          "cell_type": "markdown", 
          "metadata": {}, 
          "source": [
            "\n", 
            ""
          ]
        }, 
        {
          "cell_type": "heading", 
          "level": 3, 
          "metadata": {}, 
          "source": [
            "Exercise 3"
          ]
        }, 
        {
          "cell_type": "markdown", 
          "metadata": {}, 
          "source": [
            "\n", 
            "Test with different configurations of control points.\n", 
            "\n", 
            "\n", 
            "\n", 
            "\n", 
            "\n", 
            "\n", 
            "\n", 
            "\n", 
            "\n", 
            "\n", 
            ""
          ]
        }, 
        {
          "cell_type": "code", 
          "collapsed": false, 
          "input": [
            "## Insert your code here."
          ], 
          "language": "python", 
          "outputs": []
        }, 
        {
          "cell_type": "markdown", 
          "metadata": {}, 
          "source": [
            "\n", 
            ""
          ]
        }, 
        {
          "cell_type": "heading", 
          "level": 2, 
          "metadata": {}, 
          "source": [
            "Quadratic B-splines\n"
          ]
        }, 
        {
          "cell_type": "markdown", 
          "metadata": {}, 
          "source": [
            "We consider here the Chaikin \"corner cutting\"\n", 
            "scheme <#biblio [Chaikin74]>.\n", 
            "\n", 
            "\n", 
            "For a weight $w>1$, it corresponds to the following kernel:\n", 
            "$$ h = \\frac{1}{1+w}[1, w, w, 1]. $$\n", 
            "The weight is a tension parameter that controls the properties of the\n", 
            "interpolation.\n", 
            ""
          ]
        }, 
        {
          "cell_type": "code", 
          "collapsed": false, 
          "input": [
            "hcc = lambda w: [1 w w 1]/(1+w)"
          ], 
          "language": "python", 
          "outputs": []
        }, 
        {
          "cell_type": "markdown", 
          "metadata": {}, 
          "source": [
            "\n", 
            "\n", 
            "For $w=3$, the scaling function $\\phi$ is a quadratic B-spline.\n", 
            "\n", 
            ""
          ]
        }, 
        {
          "cell_type": "heading", 
          "level": 3, 
          "metadata": {}, 
          "source": [
            "Exercise 4"
          ]
        }, 
        {
          "cell_type": "markdown", 
          "metadata": {}, 
          "source": [
            "\n", 
            "Test the corner-cutting for $w=3$.\n", 
            "\n", 
            "\n", 
            "\n", 
            "\n", 
            "\n", 
            "\n", 
            "\n", 
            "\n", 
            "\n", 
            "\n", 
            ""
          ]
        }, 
        {
          "cell_type": "code", 
          "collapsed": false, 
          "input": [
            "## Insert your code here."
          ], 
          "language": "python", 
          "outputs": []
        }, 
        {
          "cell_type": "markdown", 
          "metadata": {}, 
          "source": [
            "\n", 
            ""
          ]
        }, 
        {
          "cell_type": "heading", 
          "level": 3, 
          "metadata": {}, 
          "source": [
            "Exercise 5"
          ]
        }, 
        {
          "cell_type": "markdown", 
          "metadata": {}, 
          "source": [
            "\n", 
            "Test the corner-cutting for vaious values of $w$.\n", 
            "\n", 
            "\n", 
            "\n", 
            "\n", 
            "\n", 
            "\n", 
            "\n", 
            "\n", 
            "\n", 
            "\n", 
            "\n", 
            "\n", 
            "\n", 
            "\n", 
            "\n", 
            "\n", 
            "\n", 
            ""
          ]
        }, 
        {
          "cell_type": "code", 
          "collapsed": false, 
          "input": [
            "## Insert your code here."
          ], 
          "language": "python", 
          "outputs": []
        }, 
        {
          "cell_type": "markdown", 
          "metadata": {}, 
          "source": [
            "\n", 
            ""
          ]
        }, 
        {
          "cell_type": "heading", 
          "level": 2, 
          "metadata": {}, 
          "source": [
            "Interpolating Subdivision\n"
          ]
        }, 
        {
          "cell_type": "markdown", 
          "metadata": {}, 
          "source": [
            "Interpolating schemes keeps unchange the set of point at the previous\n", 
            "level, and only smooth the position of the added points.\n", 
            "\n", 
            "\n", 
            "A subdivision is interpolating if the kernel satisfies\n", 
            "$$ h(0)=1 \\qandq \\forall i \\neq 0, \\quad h(2i)=0. $$\n", 
            "\n", 
            "\n", 
            "We consider the four-point interpolation kernel\n", 
            "proposed in <#biblio [DynLevGre87]>:\n", 
            "$$ h = [-w, 0, 1/2+w, 1, 1/2+w, -w] $$\n", 
            "where $w>0$ is a tension parameter.\n", 
            ""
          ]
        }, 
        {
          "cell_type": "code", 
          "collapsed": false, 
          "input": [
            "h4pt = lambda w: [-w, 0, 1/2+w, 1, 1/2+w, 0, -w]"
          ], 
          "language": "python", 
          "outputs": []
        }, 
        {
          "cell_type": "markdown", 
          "metadata": {}, 
          "source": [
            "\n", 
            "\n", 
            "One usually choose $w=1/16$ wich corresponds to\n", 
            "cubic B-spline interpolation.\n", 
            "It can be shown to produce $C^1$ curves\n", 
            "for $ w \\in [0, (\\sqrt{5}-1)/8 \\approx 0.154] $, see <#biblio [DynGreLev91]>.\n", 
            ""
          ]
        }, 
        {
          "cell_type": "heading", 
          "level": 3, 
          "metadata": {}, 
          "source": [
            "Exercise 6"
          ]
        }, 
        {
          "cell_type": "markdown", 
          "metadata": {}, 
          "source": [
            "\n", 
            "Perform the interpolating subdivision\n", 
            "for $w=1/16$.\n", 
            "\n", 
            "\n", 
            "\n", 
            "\n", 
            "\n", 
            "\n", 
            "\n", 
            "\n", 
            "\n", 
            "\n", 
            "\n", 
            "\n", 
            ""
          ]
        }, 
        {
          "cell_type": "code", 
          "collapsed": false, 
          "input": [
            "## Insert your code here."
          ], 
          "language": "python", 
          "outputs": []
        }, 
        {
          "cell_type": "markdown", 
          "metadata": {}, 
          "source": [
            "\n", 
            ""
          ]
        }, 
        {
          "cell_type": "heading", 
          "level": 3, 
          "metadata": {}, 
          "source": [
            "Exercise 7"
          ]
        }, 
        {
          "cell_type": "markdown", 
          "metadata": {}, 
          "source": [
            "\n", 
            "Test the influence of $w$.\n", 
            "\n", 
            "\n", 
            "\n", 
            "\n", 
            "\n", 
            "\n", 
            "\n", 
            "\n", 
            "\n", 
            "\n", 
            "\n", 
            "\n", 
            "\n", 
            "\n", 
            "\n", 
            "\n", 
            "\n", 
            ""
          ]
        }, 
        {
          "cell_type": "code", 
          "collapsed": false, 
          "input": [
            "## Insert your code here."
          ], 
          "language": "python", 
          "outputs": []
        }, 
        {
          "cell_type": "markdown", 
          "metadata": {}, 
          "source": [
            "\n", 
            ""
          ]
        }, 
        {
          "cell_type": "heading", 
          "level": 3, 
          "metadata": {}, 
          "source": [
            "Exercise 8"
          ]
        }, 
        {
          "cell_type": "markdown", 
          "metadata": {}, 
          "source": [
            "\n", 
            "Compare the result of the quadratic B-spline, cubic B-spline,\n", 
            "and 4-points interpolating.\n", 
            "\n", 
            "\n", 
            "\n", 
            "\n", 
            "\n", 
            "\n", 
            "\n", 
            "\n", 
            "\n", 
            "\n", 
            "\n", 
            "\n", 
            "\n", 
            "\n", 
            "\n", 
            "\n", 
            "\n", 
            "\n", 
            ""
          ]
        }, 
        {
          "cell_type": "code", 
          "collapsed": false, 
          "input": [
            "## Insert your code here."
          ], 
          "language": "python", 
          "outputs": []
        }, 
        {
          "cell_type": "markdown", 
          "metadata": {}, 
          "source": [
            "\n", 
            "\n", 
            "\n", 
            "\n", 
            "The 4-point scheme for $w=1/16$ is generalized to $2k$-point schemes of\n", 
            "Deslauriers-Dubuc\n", 
            "<#biblio [DeslDub89]>. This corresponds to computing a polynomial\n", 
            "interpolation of degree $2k-1$, which generalizes the cubic interpolation.\n", 
            "Using larger $k$ leads to smoother interpolation, at the price of a\n", 
            "larger interpolation kernel.\n", 
            "\n", 
            "\n", 
            "We give here the odd coefficients of the filters.\n", 
            ""
          ]
        }, 
        {
          "cell_type": "code", 
          "collapsed": false, 
          "input": [
            "H = {   [0.5000 0.5000], ...\n", 
            "        [-0.0625, 0.5625, 0.5625, -0.0625], ...\n", 
            "        [0.0117, -0.0977, 0.5859, 0.5859, -0.0977, 0.0117], ...\n", 
            "        [-0.0024, 0.0239, -0.1196, 0.5981, 0.5981, -0.1196, 0.0239, -0.0024] }\n", 
            "hdd = lambda k: assign(assign(zeros(4*k-1,1),1:2:4*k-1,H{k}), 2*k, 1)"
          ], 
          "language": "python", 
          "outputs": []
        }, 
        {
          "cell_type": "heading", 
          "level": 3, 
          "metadata": {}, 
          "source": [
            "Exercise 9"
          ]
        }, 
        {
          "cell_type": "markdown", 
          "metadata": {}, 
          "source": [
            "\n", 
            "Display the scaling function associated to these Deslauriers-Dubuc filters.\n", 
            "\n", 
            "\n", 
            "\n", 
            "\n", 
            "\n", 
            "\n", 
            "\n", 
            "\n", 
            "\n", 
            "\n", 
            "\n", 
            ""
          ]
        }, 
        {
          "cell_type": "code", 
          "collapsed": false, 
          "input": [
            "## Insert your code here."
          ], 
          "language": "python", 
          "outputs": []
        }, 
        {
          "cell_type": "markdown", 
          "metadata": {}, 
          "source": [
            "\n", 
            "\n", 
            ""
          ]
        }, 
        {
          "cell_type": "heading", 
          "level": 2, 
          "metadata": {}, 
          "source": [
            "Curve Approximation\n"
          ]
        }, 
        {
          "cell_type": "markdown", 
          "metadata": {}, 
          "source": [
            "Given an input, complicated curve $g : [0,1] \\rightarrow \\CC$, it is possible to approximate is by\n", 
            "sampling the curve, and then subdividing it. It corresponds to a low pass\n", 
            "filtering approximation.\n", 
            "\n", 
            "\n", 
            "Load an initial random curve, which is a high resolution curve $g$.\n", 
            ""
          ]
        }, 
        {
          "cell_type": "code", 
          "collapsed": false, 
          "input": [
            "options.bound = 'per'\n", 
            "n = 1024*2\n", 
            "sigma = n/8\n", 
            "F = perform_blurring(randn(n,1),sigma,options) + 1i*perform_blurring(randn(n,1),sigma,options)\n", 
            "F = rescale(real(F),.01,.99) + 1i * rescale(imag(F),.01,.99)"
          ], 
          "language": "python", 
          "outputs": []
        }, 
        {
          "cell_type": "markdown", 
          "metadata": {}, 
          "source": [
            "\n", 
            "\n", 
            "Display it.\n", 
            ""
          ]
        }, 
        {
          "cell_type": "code", 
          "collapsed": false, 
          "input": [
            "clf; myplot(F, 'k')\n", 
            "myaxis(0)"
          ], 
          "language": "python", 
          "outputs": []
        }, 
        {
          "cell_type": "markdown", 
          "metadata": {}, 
          "source": [
            "\n", 
            "\n", 
            "Load an interpolating subvision mask.\n", 
            ""
          ]
        }, 
        {
          "cell_type": "code", 
          "collapsed": false, 
          "input": [
            "h = [-1, 0, 9, 1, 9, 0, -1]/16\n", 
            "h((end+1)/2)=1"
          ], 
          "language": "python", 
          "outputs": []
        }, 
        {
          "cell_type": "heading", 
          "level": 3, 
          "metadata": {}, 
          "source": [
            "Exercise 10"
          ]
        }, 
        {
          "cell_type": "markdown", 
          "metadata": {}, 
          "source": [
            "\n", 
            "Perform an approximation $f$ of the curve using a uniform sampling with $N_0=20$\n", 
            "points.\n", 
            "\n", 
            "\n", 
            "\n", 
            "\n", 
            "\n", 
            "\n", 
            "\n", 
            "\n", 
            "\n", 
            "\n", 
            "\n", 
            "\n", 
            "\n", 
            ""
          ]
        }, 
        {
          "cell_type": "code", 
          "collapsed": false, 
          "input": [
            "## Insert your code here."
          ], 
          "language": "python", 
          "outputs": []
        }, 
        {
          "cell_type": "markdown", 
          "metadata": {}, 
          "source": [
            "\n", 
            "\n", 
            "\n", 
            "To quantify the quality of the approximation, we use an averaged\n", 
            "Hausdorff distance.\n", 
            "The distance between two sets of points $X$ and\n", 
            "$Y$ is\n", 
            "$$ d(X,Y) = d_0(X,Y)+d_0(Y,X) \\qwhereq\n", 
            "      d_0(X,Y)^2 = \\frac{1}{\\abs{X}} \\sum_{x \\in X} \\umin{y \\in Y} \\norm{x-y}^2. $$\n", 
            "\n", 
            "\n", 
            "Compute the pairwise distances matrix $D_{i,j} = \\norm{f_i-g_j}^2$ between points.\n", 
            ""
          ]
        }, 
        {
          "cell_type": "code", 
          "collapsed": false, 
          "input": [
            "dist = lambda f,g: abs( repmat(f, [1 length(g)]) - repmat(transpose(g), [length(f) 1]) )"
          ], 
          "language": "python", 
          "outputs": []
        }, 
        {
          "cell_type": "markdown", 
          "metadata": {}, 
          "source": [
            "\n", 
            "\n", 
            "Compute the Hausdorff distance.\n", 
            ""
          ]
        }, 
        {
          "cell_type": "code", 
          "collapsed": false, 
          "input": [
            "hausdorff = lambda f,g: sqrt( mean(min(dist(f,g)).^2) )\n", 
            "hausdorff = lambda f,g: hausdorff(f,g) + hausdorff(g,f)"
          ], 
          "language": "python", 
          "outputs": []
        }, 
        {
          "cell_type": "heading", 
          "level": 3, 
          "metadata": {}, 
          "source": [
            "Exercise 11"
          ]
        }, 
        {
          "cell_type": "markdown", 
          "metadata": {}, 
          "source": [
            "\n", 
            "Display the decay of the Hausdorff approximation error as the number $N_0$ of\n", 
            "sampling points increases.\n", 
            "\n", 
            "\n", 
            "\n", 
            "\n", 
            "\n", 
            "\n", 
            "\n", 
            "\n", 
            "\n", 
            "\n", 
            "\n", 
            "\n", 
            "\n", 
            "\n", 
            "\n", 
            "\n", 
            "\n", 
            "\n", 
            "\n", 
            "\n", 
            "\n", 
            ""
          ]
        }, 
        {
          "cell_type": "code", 
          "collapsed": false, 
          "input": [
            "## Insert your code here."
          ], 
          "language": "python", 
          "outputs": []
        }, 
        {
          "cell_type": "markdown", 
          "metadata": {}, 
          "source": [
            "\n", 
            "\n", 
            ""
          ]
        }, 
        {
          "cell_type": "heading", 
          "level": 2, 
          "metadata": {}, 
          "source": [
            "3-D Curve Subdivision\n"
          ]
        }, 
        {
          "cell_type": "markdown", 
          "metadata": {}, 
          "source": [
            "It is possible to construct 3-D curves by subdivision.\n", 
            ""
          ]
        }, 
        {
          "cell_type": "heading", 
          "level": 3, 
          "metadata": {}, 
          "source": [
            "Exercise 12"
          ]
        }, 
        {
          "cell_type": "markdown", 
          "metadata": {}, 
          "source": [
            "\n", 
            "Perform curve subdivision in 3D space.\n", 
            "control mesh.\n", 
            "\n", 
            "\n", 
            "\n", 
            "\n", 
            "\n", 
            "\n", 
            "\n", 
            "\n", 
            "\n", 
            "\n", 
            "\n", 
            "\n", 
            "\n", 
            "\n", 
            "\n", 
            "\n", 
            "\n", 
            "\n", 
            "\n", 
            "\n", 
            "\n", 
            "\n", 
            "\n", 
            "\n", 
            ""
          ]
        }, 
        {
          "cell_type": "code", 
          "collapsed": false, 
          "input": [
            "## Insert your code here."
          ], 
          "language": "python", 
          "outputs": []
        }, 
        {
          "cell_type": "markdown", 
          "metadata": {}, 
          "source": [
            "\n", 
            ""
          ]
        }, 
        {
          "cell_type": "heading", 
          "level": 2, 
          "metadata": {}, 
          "source": [
            "Bibliography\n"
          ]
        }
      ]
    }
  ]
}