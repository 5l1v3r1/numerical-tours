{
  "metadata": {
    "name": ""
  }, 
  "nbformat": 3, 
  "nbformat_minor": 0, 
  "worksheets": [
    {
      "cells": [
        {
          "cell_type": "heading", 
          "level": 1, 
          "metadata": {}, 
          "source": [
            "Non Local Means"
          ]
        }, 
        {
          "cell_type": "markdown", 
          "metadata": {}, 
          "source": [
            "This numerical tour study image denoising using\n", 
            "non-local means. This algorithm has been\n", 
            "introduced for denoising purposes in <#biblio [BuaCoMoA05]>\n", 
            ""
          ]
        }, 
        {
          "cell_type": "markdown", 
          "metadata": {}, 
          "source": [
            "*Important:* You need to download the file `nt_toolbox.py` from the \n", 
            "root of the github repository.\n", 
            "$\\newcommand{\\dotp}[2]{\\langle #1, #2 \\rangle}\n", 
            "\\newcommand{\\enscond}[2]{\\lbrace #1, #2 \\rbrace}\n", 
            "\\newcommand{\\pd}[2]{ \\frac{ \\partial #1}{\\partial #2} }\n", 
            "\\newcommand{\\umin}[1]{\\underset{#1}{\\min}\\;}\n", 
            "\\newcommand{\\norm}[1]{\\|#1\\|}\n", 
            "\\newcommand{\\abs}[1]{\\left|#1\\right|}\n", 
            "\\newcommand{\\choice}[1]{ \\left\\{  \\begin{array}{l} #1 \\end{array} \\right. }\n", 
            "\\newcommand{\\pa}[1]{\\left(#1\\right)}\n", 
            "\\newcommand{\\qandq}{\\quad\\text{and}\\quad}\n", 
            "\\newcommand{\\qwhereq}{\\quad\\text{where}\\quad}\n", 
            "\\newcommand{\\qifq}{ \\quad \\text{if} \\quad }\n", 
            "\\newcommand{\\qarrq}{ \\quad \\Longrightarrow \\quad }\n", 
            "\\newcommand{\\ZZ}{\\mathbb{Z}}\n", 
            "\\newcommand{\\RR}{\\mathbb{R}}\n", 
            "\\newcommand{\\Nn}{\\mathcal{N}}\n", 
            "\\newcommand{\\Hh}{\\mathcal{H}}\n", 
            "\\newcommand{\\Bb}{\\mathcal{B}}\n", 
            "\\newcommand{\\EE}{\\mathbb{E}}\n", 
            "\\newcommand{\\CC}{\\mathbb{C}}\n", 
            "\\newcommand{\\si}{\\sigma}\n", 
            "\\newcommand{\\al}{\\alpha}\n", 
            "\\newcommand{\\la}{\\lambda}\n", 
            "\\newcommand{\\ga}{\\gamma}\n", 
            "\\newcommand{\\Ga}{\\Gamma}\n", 
            "\\newcommand{\\La}{\\Lambda}\n", 
            "\\newcommand{\\si}{\\sigma}\n", 
            "\\newcommand{\\Si}{\\Sigma}\n", 
            "\\newcommand{\\be}{\\beta}\n", 
            "\\newcommand{\\de}{\\delta}\n", 
            "\\newcommand{\\De}{\\Delta}\n", 
            "\\renewcommand{\\phi}{\\varphi}\n", 
            "\\renewcommand{\\th}{\\theta}\n", 
            "\\newcommand{\\om}{\\omega}\n", 
            "\\newcommand{\\Om}{\\Omega}\n", 
            "$"
          ]
        }, 
        {
          "cell_type": "code", 
          "collapsed": false, 
          "input": [
            "from nt_toolbox import *", 
            "%matplotlib inline", 
            "%load_ext autoreload", 
            "%autoreload 2"
          ], 
          "language": "python", 
          "outputs": []
        }, 
        {
          "cell_type": "heading", 
          "level": 2, 
          "metadata": {}, 
          "source": [
            "Patches in Images\n"
          ]
        }, 
        {
          "cell_type": "markdown", 
          "metadata": {}, 
          "source": [
            "This numerical tour is dedicated to the study of the structure of patches\n", 
            "in images.\n", 
            "\n", 
            "\n", 
            "Size $N = n \\times n$ of the image.\n", 
            ""
          ]
        }, 
        {
          "cell_type": "code", 
          "collapsed": false, 
          "input": [
            "n = 128"
          ], 
          "language": "python", 
          "outputs": []
        }, 
        {
          "cell_type": "markdown", 
          "metadata": {}, 
          "source": [
            "\n", 
            "\n", 
            "We load a noisy image $f_0\\in \\RR^N$.\n", 
            ""
          ]
        }, 
        {
          "cell_type": "code", 
          "collapsed": false, 
          "input": [
            "c = [100 200]\n", 
            "f0 = load_image('lena')\n", 
            "f0 = rescale( crop(f0,n, c) )"
          ], 
          "language": "python", 
          "outputs": []
        }, 
        {
          "cell_type": "markdown", 
          "metadata": {}, 
          "source": [
            "\n", 
            "\n", 
            "Display $f_0$.\n", 
            ""
          ]
        }, 
        {
          "cell_type": "code", 
          "collapsed": false, 
          "input": [
            "\n", 
            "imageplot(f0)"
          ], 
          "language": "python", 
          "outputs": []
        }, 
        {
          "cell_type": "markdown", 
          "metadata": {}, 
          "source": [
            "\n", 
            "\n", 
            "Noise level $\\si$.\n", 
            ""
          ]
        }, 
        {
          "cell_type": "code", 
          "collapsed": false, 
          "input": [
            "sigma = .04"
          ], 
          "language": "python", 
          "outputs": []
        }, 
        {
          "cell_type": "markdown", 
          "metadata": {}, 
          "source": [
            "\n", 
            "\n", 
            "Generate a noisy image $f=f_0+\\epsilon$ where $\\epsilon \\times\n", 
            "\\Nn(0,\\si^2\\text{Id}_N)$.\n", 
            ""
          ]
        }, 
        {
          "cell_type": "code", 
          "collapsed": false, 
          "input": [
            "f = f0 + randn(n,n)*sigma"
          ], 
          "language": "python", 
          "outputs": []
        }, 
        {
          "cell_type": "markdown", 
          "metadata": {}, 
          "source": [
            "\n", 
            "\n", 
            "\n", 
            "Display $f$.\n", 
            ""
          ]
        }, 
        {
          "cell_type": "code", 
          "collapsed": false, 
          "input": [
            "\n", 
            "imageplot(clamp(f))"
          ], 
          "language": "python", 
          "outputs": []
        }, 
        {
          "cell_type": "markdown", 
          "metadata": {}, 
          "source": [
            "\n", 
            "\n", 
            "We denote $w$ to be the half width of the patches,\n", 
            "and $w_1=2w+1$ the full width.\n", 
            ""
          ]
        }, 
        {
          "cell_type": "code", 
          "collapsed": false, 
          "input": [
            "w = 3\n", 
            "w1 = 2*w+1"
          ], 
          "language": "python", 
          "outputs": []
        }, 
        {
          "cell_type": "markdown", 
          "metadata": {}, 
          "source": [
            "\n", 
            "\n", 
            "We set up large $(n,n,w_1,w_1)$ matrices to index the the X and Y\n", 
            "position of the pixel to extract.\n", 
            "\n", 
            "location of pixels"
          ]
        }, 
        {
          "cell_type": "code", 
          "collapsed": false, 
          "input": [
            "[Y,X] = meshgrid(1:n,1:n)"
          ], 
          "language": "python", 
          "outputs": []
        }, 
        {
          "cell_type": "markdown", 
          "metadata": {}, 
          "source": [
            "offsets"
          ]
        }, 
        {
          "cell_type": "code", 
          "collapsed": false, 
          "input": [
            "[dY,dX] = meshgrid(-w:w,-w:w)"
          ], 
          "language": "python", 
          "outputs": []
        }, 
        {
          "cell_type": "markdown", 
          "metadata": {}, 
          "source": [
            "location of pixels to extract"
          ]
        }, 
        {
          "cell_type": "code", 
          "collapsed": false, 
          "input": [
            "dX = reshape(dX, [1 1 w1 w1])\n", 
            "dY = reshape(dY, [1 1 w1 w1])\n", 
            "X = repmat(X, [1 1 w1 w1]) + repmat(dX, [n n 1 1])\n", 
            "Y = repmat(Y, [1 1 w1 w1]) + repmat(dY, [n n 1 1])"
          ], 
          "language": "python", 
          "outputs": []
        }, 
        {
          "cell_type": "markdown", 
          "metadata": {}, 
          "source": [
            "\n", 
            "\n", 
            "We handle boundary condition by reflexion\n", 
            ""
          ]
        }, 
        {
          "cell_type": "code", 
          "collapsed": false, 
          "input": [
            "X(X<1) = 2-X(X<1); Y(Y<1) = 2-Y(Y<1)\n", 
            "X(X>n) = 2*n-X(X>n); Y(Y>n) = 2*n-Y(Y>n)"
          ], 
          "language": "python", 
          "outputs": []
        }, 
        {
          "cell_type": "markdown", 
          "metadata": {}, 
          "source": [
            "\n", 
            "\n", 
            "Patch extractor operator\n", 
            ""
          ]
        }, 
        {
          "cell_type": "code", 
          "collapsed": false, 
          "input": [
            "patch = lambda f: f(X + (Y-1)*n)"
          ], 
          "language": "python", 
          "outputs": []
        }, 
        {
          "cell_type": "markdown", 
          "metadata": {}, 
          "source": [
            "\n", 
            "\n", 
            "Define the patch matrix $P$ of size $(n,n,w_1,w_1)$.\n", 
            "Each |P(i,j,:,:)| represent an $(w_1,w_1)$ patch extracted around pixel\n", 
            "$(i,j)$ in the image.\n", 
            ""
          ]
        }, 
        {
          "cell_type": "code", 
          "collapsed": false, 
          "input": [
            "P = patch(f)"
          ], 
          "language": "python", 
          "outputs": []
        }, 
        {
          "cell_type": "markdown", 
          "metadata": {}, 
          "source": [
            "\n", 
            "\n", 
            "Display some example of patches\n", 
            ""
          ]
        }, 
        {
          "cell_type": "code", 
          "collapsed": false, 
          "input": [
            "\n", 
            "for i in 1:16:\n", 
            "    x = floor( rand*(n-1)+1 )\n", 
            "    y = floor( rand*(n-1)+1 )\n", 
            "    imageplot( squeeze(P(x,y,:,:)), '', 4,4,i )\n", 
            ""
          ], 
          "language": "python", 
          "outputs": []
        }, 
        {
          "cell_type": "heading", 
          "level": 2, 
          "metadata": {}, 
          "source": [
            "Dimensionality Reduction with PCA\n"
          ]
        }, 
        {
          "cell_type": "markdown", 
          "metadata": {}, 
          "source": [
            "Since NL-means type algorithms require the computation of many distances\n", 
            "between patches, it is advantagous to reduce the dimensionality of the\n", 
            "patch while keeping as much as possible of information.\n", 
            "\n", 
            "\n", 
            "Target dimensionality $d$.\n", 
            ""
          ]
        }, 
        {
          "cell_type": "code", 
          "collapsed": false, 
          "input": [
            "d = 25"
          ], 
          "language": "python", 
          "outputs": []
        }, 
        {
          "cell_type": "markdown", 
          "metadata": {}, 
          "source": [
            "\n", 
            "\n", 
            "A linear dimensionality reduction is obtained by Principal Component\n", 
            "Analysis (PCA) that projects the data on a small number of leading\n", 
            "direction of the coveriance matrix of the patches.\n", 
            "\n", 
            "\n", 
            "Turn the patch matrix into an |(w1*w1,n*n)| array, so that each |P(:,i)|\n", 
            "is a |w1*w1| vector representing a patch.\n", 
            ""
          ]
        }, 
        {
          "cell_type": "code", 
          "collapsed": false, 
          "input": [
            "resh = lambda P: reshape(P, [n*n w1*w1])'"
          ], 
          "language": "python", 
          "outputs": []
        }, 
        {
          "cell_type": "markdown", 
          "metadata": {}, 
          "source": [
            "\n", 
            "\n", 
            "\n", 
            "operator to remove the mean of the patches to each patch.\n", 
            ""
          ]
        }, 
        {
          "cell_type": "code", 
          "collapsed": false, 
          "input": [
            "remove_mean = lambda Q: Q - repmat(mean(Q), [w1*w1 1])"
          ], 
          "language": "python", 
          "outputs": []
        }, 
        {
          "cell_type": "markdown", 
          "metadata": {}, 
          "source": [
            "\n", 
            "\n", 
            "Compute the mean and the covariance of the points cloud representing the\n", 
            "patches.\n", 
            ""
          ]
        }, 
        {
          "cell_type": "code", 
          "collapsed": false, 
          "input": [
            "P1 = remove_mean(resh(P))\n", 
            "C = P1*P1'"
          ], 
          "language": "python", 
          "outputs": []
        }, 
        {
          "cell_type": "markdown", 
          "metadata": {}, 
          "source": [
            "\n", 
            "\n", 
            "Extract the eigenvectors, sorted by decreasing amplitude\n", 
            ""
          ]
        }, 
        {
          "cell_type": "code", 
          "collapsed": false, 
          "input": [
            "[V,D] = eig(C); D = diag(D)\n", 
            "[D,I] = sort(D, 'descend'); V = V(:,I)"
          ], 
          "language": "python", 
          "outputs": []
        }, 
        {
          "cell_type": "markdown", 
          "metadata": {}, 
          "source": [
            "\n", 
            "\n", 
            "Display the decaying amplitude of the eigenvalues.\n", 
            ""
          ]
        }, 
        {
          "cell_type": "code", 
          "collapsed": false, 
          "input": [
            "\n", 
            "plot(D); axis('tight')"
          ], 
          "language": "python", 
          "outputs": []
        }, 
        {
          "cell_type": "markdown", 
          "metadata": {}, 
          "source": [
            "\n", 
            "\n", 
            "Display the leading eigenvectors - they look like Fourier modes.\n", 
            ""
          ]
        }, 
        {
          "cell_type": "code", 
          "collapsed": false, 
          "input": [
            "\n", 
            "for i in 1:16:\n", 
            "    imageplot( reshape(V(:,i),[w1 w1]), '', 4,4,i )\n", 
            ""
          ], 
          "language": "python", 
          "outputs": []
        }, 
        {
          "cell_type": "markdown", 
          "metadata": {}, 
          "source": [
            "\n", 
            "\n", 
            "Patch dimensionality reduction operator.\n", 
            ""
          ]
        }, 
        {
          "cell_type": "code", 
          "collapsed": false, 
          "input": [
            "iresh = lambda Q: reshape(Q', [n n d])\n", 
            "descriptor = lambda f: iresh( V(:,1:d)' * remove_mean(resh(P)) )"
          ], 
          "language": "python", 
          "outputs": []
        }, 
        {
          "cell_type": "markdown", 
          "metadata": {}, 
          "source": [
            "\n", 
            "\n", 
            "Each |H(i,j,:)| is a $d$-dimensional descriptor\n", 
            "of a patch.\n", 
            ""
          ]
        }, 
        {
          "cell_type": "code", 
          "collapsed": false, 
          "input": [
            "H = descriptor(f)"
          ], 
          "language": "python", 
          "outputs": []
        }, 
        {
          "cell_type": "heading", 
          "level": 2, 
          "metadata": {}, 
          "source": [
            "Non-local Filter\n"
          ]
        }, 
        {
          "cell_type": "markdown", 
          "metadata": {}, 
          "source": [
            "NL-means applies, to each pixel location, an adaptive averaging kernel\n", 
            "that is computed from patch distances.\n", 
            "\n", 
            "\n", 
            "We denote $H_{i} \\in \\RR^d$ the descriptor at pixel $i$.\n", 
            "We define the distance matrix\n", 
            "$$ D_{i,j} = \\frac{1}{w_1^2}\\norm{H_i-H_j}^2. $$\n", 
            "\n", 
            "\n", 
            "\n", 
            "Operator to compute the distances $(D_{i,j})_j$ between the patch around $i=(i_1,i_2)$\n", 
            "and all the other ones.\n", 
            ""
          ]
        }, 
        {
          "cell_type": "code", 
          "collapsed": false, 
          "input": [
            "distance = lambda i: sum( (H - repmat(H(i(1),i(2),:), [n n 1])).^2, 3 )/(w1*w1)"
          ], 
          "language": "python", 
          "outputs": []
        }, 
        {
          "cell_type": "markdown", 
          "metadata": {}, 
          "source": [
            "\n", 
            "\n", 
            "The non-local mean filter compute a denoised image $\\tilde f$ as\n", 
            "$$ \\tilde f_i = \\sum_j K_{i,j} f_j $$\n", 
            "where the weights $K$ are computed as\n", 
            "$$ K_{i,j} = \\frac{ \\tilde K_{i,j} }{ \\sum_{j'} \\tilde K_{i,j'} }\n", 
            "      \\qandq\n", 
            "   \\tilde K_{i,j} = e^{-\\frac{D_{i,j}}{2\\tau^2}} . $$\n", 
            "\n", 
            "\n", 
            "\n", 
            "The width $\\tau$ of the Gaussian is very important and should be adapted to match\n", 
            "the noise level.\n", 
            "\n", 
            "\n", 
            "\n", 
            "Compute and normalize the weight.\n", 
            ""
          ]
        }, 
        {
          "cell_type": "code", 
          "collapsed": false, 
          "input": [
            "normalize = lambda K: K/sum(K(:))\n", 
            "kernel = lambda i,tau: normalize( exp( -distance(i)/(2*tau^2) ) )"
          ], 
          "language": "python", 
          "outputs": []
        }, 
        {
          "cell_type": "markdown", 
          "metadata": {}, 
          "source": [
            "\n", 
            "\n", 
            "Compute a typical example of kernel for some pixel position $(x,y)$.\n", 
            ""
          ]
        }, 
        {
          "cell_type": "code", 
          "collapsed": false, 
          "input": [
            "tau = .05\n", 
            "i = [83 72]\n", 
            "D = distance(i)\n", 
            "K = kernel(i,tau)"
          ], 
          "language": "python", 
          "outputs": []
        }, 
        {
          "cell_type": "markdown", 
          "metadata": {}, 
          "source": [
            "\n", 
            "\n", 
            "Display the squared distance and the kernel.\n", 
            ""
          ]
        }, 
        {
          "cell_type": "code", 
          "collapsed": false, 
          "input": [
            "\n", 
            "imageplot(D, 'D', 1,2,1)\n", 
            "imageplot(K, 'K', 1,2,2)"
          ], 
          "language": "python", 
          "outputs": []
        }, 
        {
          "cell_type": "heading", 
          "level": 2, 
          "metadata": {}, 
          "source": [
            "Localizing the Non-local Means\n"
          ]
        }, 
        {
          "cell_type": "markdown", 
          "metadata": {}, 
          "source": [
            "We set a \"locality constant\" $q$ that set the maximum distance between\n", 
            "patches to compare. This allows to speed up computation, and makes\n", 
            "NL-means type methods semi-global (to avoid searching in all the image).\n", 
            ""
          ]
        }, 
        {
          "cell_type": "code", 
          "collapsed": false, 
          "input": [
            "q = 14"
          ], 
          "language": "python", 
          "outputs": []
        }, 
        {
          "cell_type": "markdown", 
          "metadata": {}, 
          "source": [
            "\n", 
            "\n", 
            "Using this locality constant, we compute the distance between patches\n", 
            "only within a window.\n", 
            "Once again, one should be careful about boundary conditions.\n", 
            ""
          ]
        }, 
        {
          "cell_type": "code", 
          "collapsed": false, 
          "input": [
            "selection = lambda i: {clamp(i(1)-q:i(1)+q, 1,n), clamp(i(2)-q:i(2)+q,1,n)}"
          ], 
          "language": "python", 
          "outputs": []
        }, 
        {
          "cell_type": "markdown", 
          "metadata": {}, 
          "source": [
            "\n", 
            "\n", 
            "Compute distance and kernel only within the window.\n", 
            ""
          ]
        }, 
        {
          "cell_type": "code", 
          "collapsed": false, 
          "input": [
            "distance = lambda i,sel: sum( (H(sel{1},sel{2},:) - repmat(H(i(1),i(2),:), ...\n", 
            "        [length(sel{1}) length(sel{2}) 1])).^2, 3 )/(w1*w1)\n", 
            "distance = lambda i: distance(i,selection(i))\n", 
            "kernel = lambda i,tau: normalize( exp( -distance(i)/(2*tau^2) ) )"
          ], 
          "language": "python", 
          "outputs": []
        }, 
        {
          "cell_type": "markdown", 
          "metadata": {}, 
          "source": [
            "\n", 
            "\n", 
            "Compute a typical example of kernel for some pixel position $(x,y)$.\n", 
            ""
          ]
        }, 
        {
          "cell_type": "code", 
          "collapsed": false, 
          "input": [
            "D = distance(i)\n", 
            "K = kernel(i,tau)"
          ], 
          "language": "python", 
          "outputs": []
        }, 
        {
          "cell_type": "markdown", 
          "metadata": {}, 
          "source": [
            "\n", 
            "\n", 
            "Display the squared distance and the kernel.\n", 
            ""
          ]
        }, 
        {
          "cell_type": "code", 
          "collapsed": false, 
          "input": [
            "\n", 
            "imageplot(D, 'D', 1,2,1)\n", 
            "imageplot(K, 'K', 1,2,2)"
          ], 
          "language": "python", 
          "outputs": []
        }, 
        {
          "cell_type": "markdown", 
          "metadata": {}, 
          "source": [
            "\n", 
            "\n", 
            "The NL-filtered value at pixel $(x,y)$ is obtained by averaging the values\n", 
            "of $f$ with the weight $K$.\n", 
            ""
          ]
        }, 
        {
          "cell_type": "code", 
          "collapsed": false, 
          "input": [
            "NLval = lambda K,sel: sum(sum(K.*f(sel{1},sel{2})))\n", 
            "NLval = lambda i,tau: NLval( kernel(i,tau), selection(i) )"
          ], 
          "language": "python", 
          "outputs": []
        }, 
        {
          "cell_type": "markdown", 
          "metadata": {}, 
          "source": [
            "\n", 
            "\n", 
            "We apply the filter to each pixel location\n", 
            "to perform the NL-means algorithm.\n", 
            ""
          ]
        }, 
        {
          "cell_type": "code", 
          "collapsed": false, 
          "input": [
            "[Y,X] = meshgrid(1:n,1:n)\n", 
            "NLmeans = lambda tau: arrayfun(lambda i1,i2: NLval([i1 i2],tau), X,Y)"
          ], 
          "language": "python", 
          "outputs": []
        }, 
        {
          "cell_type": "markdown", 
          "metadata": {}, 
          "source": [
            "\n", 
            "\n", 
            "Display the result for some value of $\\tau$.\n", 
            ""
          ]
        }, 
        {
          "cell_type": "code", 
          "collapsed": false, 
          "input": [
            "tau = .03\n", 
            "\n", 
            "imageplot(NLmeans(tau))"
          ], 
          "language": "python", 
          "outputs": []
        }, 
        {
          "cell_type": "heading", 
          "level": 3, 
          "metadata": {}, 
          "source": [
            "Exercise 1"
          ]
        }, 
        {
          "cell_type": "markdown", 
          "metadata": {}, 
          "source": [
            "\n", 
            "Compute the denoising result for several values of $\\tau$ in order to\n", 
            "determine the optimal denoising that minimizes $\\norm{\\tilde f - f_0}$.\n", 
            "\n", 
            "\n", 
            "\n", 
            "\n", 
            "\n", 
            "\n", 
            "\n", 
            "\n", 
            "\n", 
            "\n", 
            "\n", 
            "\n", 
            "\n", 
            ""
          ]
        }, 
        {
          "cell_type": "code", 
          "collapsed": false, 
          "input": [
            "## Insert your code here."
          ], 
          "language": "python", 
          "outputs": []
        }, 
        {
          "cell_type": "markdown", 
          "metadata": {}, 
          "source": [
            "\n", 
            "\n", 
            "\n", 
            "Display the best result.\n", 
            ""
          ]
        }, 
        {
          "cell_type": "code", 
          "collapsed": false, 
          "input": [
            "\n", 
            "imageplot(clamp(fNL))"
          ], 
          "language": "python", 
          "outputs": []
        }, 
        {
          "cell_type": "heading", 
          "level": 3, 
          "metadata": {}, 
          "source": [
            "Exercise 2"
          ]
        }, 
        {
          "cell_type": "markdown", 
          "metadata": {}, 
          "source": [
            "\n", 
            "Explore the influence of the $q$ and $w$ parameters."
          ]
        }, 
        {
          "cell_type": "code", 
          "collapsed": false, 
          "input": [
            "## Insert your code here."
          ], 
          "language": "python", 
          "outputs": []
        }, 
        {
          "cell_type": "markdown", 
          "metadata": {}, 
          "source": [
            "\n", 
            ""
          ]
        }, 
        {
          "cell_type": "heading", 
          "level": 2, 
          "metadata": {}, 
          "source": [
            "Bibliography\n"
          ]
        }
      ]
    }
  ]
}