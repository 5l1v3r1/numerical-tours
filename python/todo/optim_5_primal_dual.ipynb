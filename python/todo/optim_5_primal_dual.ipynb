{
  "metadata": {
    "name": ""
  }, 
  "nbformat": 3, 
  "nbformat_minor": 0, 
  "worksheets": [
    {
      "cells": [
        {
          "cell_type": "heading", 
          "level": 1, 
          "metadata": {}, 
          "source": [
            "Primal-Dual Proximal Splitting"
          ]
        }, 
        {
          "cell_type": "markdown", 
          "metadata": {}, 
          "source": [
            "This tour explores a primal-dual proximal splitting algorithm,\n", 
            "with application to imaging problems.\n", 
            ""
          ]
        }, 
        {
          "cell_type": "markdown", 
          "metadata": {}, 
          "source": [
            "*Important:* You need to download the file `nt_toolbox.py` from the \n", 
            "root of the github repository.\n", 
            "$\\newcommand{\\dotp}[2]{\\langle #1, #2 \\rangle}\n", 
            "\\newcommand{\\enscond}[2]{\\lbrace #1, #2 \\rbrace}\n", 
            "\\newcommand{\\pd}[2]{ \\frac{ \\partial #1}{\\partial #2} }\n", 
            "\\newcommand{\\umin}[1]{\\underset{#1}{\\min}\\;}\n", 
            "\\newcommand{\\norm}[1]{\\|#1\\|}\n", 
            "\\newcommand{\\abs}[1]{\\left|#1\\right|}\n", 
            "\\newcommand{\\choice}[1]{ \\left\\{  \\begin{array}{l} #1 \\end{array} \\right. }\n", 
            "\\newcommand{\\pa}[1]{\\left(#1\\right)}\n", 
            "\\newcommand{\\qandq}{\\quad\\text{and}\\quad}\n", 
            "\\newcommand{\\qwhereq}{\\quad\\text{where}\\quad}\n", 
            "\\newcommand{\\qifq}{ \\quad \\text{if} \\quad }\n", 
            "\\newcommand{\\qarrq}{ \\quad \\Longrightarrow \\quad }\n", 
            "\\newcommand{\\ZZ}{\\mathbb{Z}}\n", 
            "\\newcommand{\\RR}{\\mathbb{R}}\n", 
            "\\newcommand{\\Nn}{\\mathcal{N}}\n", 
            "\\newcommand{\\Hh}{\\mathcal{H}}\n", 
            "\\newcommand{\\Bb}{\\mathcal{B}}\n", 
            "\\newcommand{\\EE}{\\mathbb{E}}\n", 
            "\\newcommand{\\CC}{\\mathbb{C}}\n", 
            "\\newcommand{\\si}{\\sigma}\n", 
            "\\newcommand{\\al}{\\alpha}\n", 
            "\\newcommand{\\la}{\\lambda}\n", 
            "\\newcommand{\\ga}{\\gamma}\n", 
            "\\newcommand{\\Ga}{\\Gamma}\n", 
            "\\newcommand{\\La}{\\Lambda}\n", 
            "\\newcommand{\\si}{\\sigma}\n", 
            "\\newcommand{\\Si}{\\Sigma}\n", 
            "\\newcommand{\\be}{\\beta}\n", 
            "\\newcommand{\\de}{\\delta}\n", 
            "\\newcommand{\\De}{\\Delta}\n", 
            "\\renewcommand{\\phi}{\\varphi}\n", 
            "\\renewcommand{\\th}{\\theta}\n", 
            "\\newcommand{\\om}{\\omega}\n", 
            "\\newcommand{\\Om}{\\Omega}\n", 
            "$"
          ]
        }, 
        {
          "cell_type": "code", 
          "collapsed": false, 
          "input": [
            "from nt_toolbox import *", 
            "%matplotlib inline", 
            "%load_ext autoreload", 
            "%autoreload 2"
          ], 
          "language": "python", 
          "outputs": []
        }, 
        {
          "cell_type": "heading", 
          "level": 2, 
          "metadata": {}, 
          "source": [
            "Convex Optimization with a Primal-Dual Scheme\n"
          ]
        }, 
        {
          "cell_type": "markdown", 
          "metadata": {}, 
          "source": [
            "In this tour we use the\n", 
            "primal-dual algorithm detailed in:\n", 
            "\n", 
            "\n", 
            "Antonin Chambolle and Thomas Pock\n", 
            "_A First-order primal-dual algorithm for convex problems with application to imaging,_\n", 
            "Journal of Mathematical Imaging and Vision,\n", 
            "Volume 40, Number 1 (2011), 120-145\n", 
            "\n", 
            "\n", 
            "One should note that there exist many other primal-dual schemes.\n", 
            "\n", 
            "\n", 
            "We consider general optimization problems of the form\n", 
            "$$ \\umin{f} F(K(f)) + G(f) $$\n", 
            "where $F$ and $G$ are convex functions and $K : f \\mapsto K(f)$\n", 
            "is a linear operator.\n", 
            "\n", 
            "\n", 
            "For the primal-dual algorithm to be applicable, one should be able to\n", 
            "compute the proximal mapping of $F$ and $G$, defined as:\n", 
            "$$ \\text{Prox}_{\\gamma F}(x) = \\uargmin{y} \\frac{1}{2}\\norm{x-y}^2 + \\ga F(y) $$\n", 
            "(the same definition applies also for $G$).\n", 
            "\n", 
            "\n", 
            "The algorithm reads:\n", 
            "$$ g_{k+1} = \\text{Prox}_{\\sigma F^*}( g_k + \\sigma K(\\tilde f_k) $$\n", 
            "$$ f_{k+1} = \\text{Prox}_{\\tau G}(  f_k-\\tau K^*(g_k) ) $$\n", 
            "$$ \\tilde f_{k+1} = f_{k+1} + \\theta (f_{k+1} - f_k) $$\n", 
            "\n", 
            "\n", 
            "The dual functional is defined as\n", 
            "$$ F^*(y) = \\umax{x} \\dotp{x}{y}-F(x). $$\n", 
            "Note that being able to compute the proximal mapping of $F$ is\n", 
            "equivalent to being able to compute the proximal mapping of $F^*$,\n", 
            "thanks to Moreau's identity:\n", 
            "$$ x = \\text{Prox}_{\\tau F^*}(x) + \\tau \\text{Prox}_{F/\\tau}(x/\\tau) $$\n", 
            "\n", 
            "\n", 
            "It can be shown that in the case $\\theta=1$, if\n", 
            "$\\sigma \\tau \\norm{K}^2<1$, then $f_k$ converges to a minimizer of\n", 
            "the original minimization of $F(K(f)) + G(f)$.\n", 
            "\n", 
            "\n", 
            "More general primal-dual schemes have been developped, see for instance\n", 
            "\n", 
            "\n", 
            "L. Condat,\n", 
            "_A primal-dual splitting method for convex optimization involving Lipschitzian, proximable and linear composite terms,_\n", 
            "J. Optimization Theory and Applications, 2013, in press.\n", 
            "\n", 
            ""
          ]
        }, 
        {
          "cell_type": "heading", 
          "level": 2, 
          "metadata": {}, 
          "source": [
            "Inpainting Problem\n"
          ]
        }, 
        {
          "cell_type": "markdown", 
          "metadata": {}, 
          "source": [
            "We consider a linear imaging operator $\\Phi : f \\mapsto \\Phi(f)$\n", 
            "that maps high resolution images to low dimensional observations.\n", 
            "Here we consider a pixel masking operator, that is diagonal over the\n", 
            "spacial domain.\n", 
            "\n", 
            "\n", 
            "Load an image.\n", 
            ""
          ]
        }, 
        {
          "cell_type": "code", 
          "collapsed": false, 
          "input": [
            "name = 'lena'\n", 
            "n = 256\n", 
            "f0 = load_image(name)\n", 
            "f0 = rescale(crop(f0,n))"
          ], 
          "language": "python", 
          "outputs": []
        }, 
        {
          "cell_type": "markdown", 
          "metadata": {}, 
          "source": [
            "\n", 
            "\n", 
            "Display it.\n", 
            ""
          ]
        }, 
        {
          "cell_type": "code", 
          "collapsed": false, 
          "input": [
            "\n", 
            "imageplot(f0)"
          ], 
          "language": "python", 
          "outputs": []
        }, 
        {
          "cell_type": "markdown", 
          "metadata": {}, 
          "source": [
            "\n", 
            "\n", 
            "We consider here the inpainting problem. This simply corresponds to a\n", 
            "masking operator.\n", 
            "\n", 
            "\n", 
            "Load a random mask $\\La$.\n", 
            ""
          ]
        }, 
        {
          "cell_type": "code", 
          "collapsed": false, 
          "input": [
            "rho = .8\n", 
            "Lambda = rand(n,n)>rho"
          ], 
          "language": "python", 
          "outputs": []
        }, 
        {
          "cell_type": "markdown", 
          "metadata": {}, 
          "source": [
            "\n", 
            "\n", 
            "Masking operator $ \\Phi $.\n", 
            ""
          ]
        }, 
        {
          "cell_type": "code", 
          "collapsed": false, 
          "input": [
            "Phi = lambda f: f.*Lambda"
          ], 
          "language": "python", 
          "outputs": []
        }, 
        {
          "cell_type": "markdown", 
          "metadata": {}, 
          "source": [
            "\n", 
            "\n", 
            "Compute the observations $y=\\Phi f_0$.\n", 
            ""
          ]
        }, 
        {
          "cell_type": "code", 
          "collapsed": false, 
          "input": [
            "y = Phi(f0)"
          ], 
          "language": "python", 
          "outputs": []
        }, 
        {
          "cell_type": "markdown", 
          "metadata": {}, 
          "source": [
            "\n", 
            "\n", 
            "Display it.\n", 
            ""
          ]
        }, 
        {
          "cell_type": "code", 
          "collapsed": false, 
          "input": [
            "\n", 
            "imageplot(y)"
          ], 
          "language": "python", 
          "outputs": []
        }, 
        {
          "cell_type": "markdown", 
          "metadata": {}, 
          "source": [
            "\n", 
            ""
          ]
        }, 
        {
          "cell_type": "heading", 
          "level": 2, 
          "metadata": {}, 
          "source": [
            "Total Variation Regularization under Constraints\n"
          ]
        }, 
        {
          "cell_type": "markdown", 
          "metadata": {}, 
          "source": [
            "We want to solve the noiseless inverse problem $y=\\Phi f$ using a total\n", 
            "variation regularization:\n", 
            "$$ \\umin{ y=\\Phi f } \\norm{\\nabla f}_1 $$\n", 
            "\n", 
            "\n", 
            "This can be recasted as the minimization of $F(K(f)) + G(f)$ by\n", 
            "introducing\n", 
            "$$ G(f)=i_H(f), \\quad F(u)=\\norm{u}_1 \\qandq K=\\nabla, $$\n", 
            "where $H = \\enscond{x}{\\Phi(x)=y}$ is an affine space, and $i_H$ is the indicator\n", 
            "function\n", 
            "$$ i_H(x) = \\choice{ 0 \\qifq x \\in H, \\\\ +\\infty \\qifq x \\notin H. } $$\n", 
            "\n", 
            "\n", 
            "Shorcut for the operators.\n", 
            ""
          ]
        }, 
        {
          "cell_type": "code", 
          "collapsed": false, 
          "input": [
            "K  = lambda f: grad(f)\n", 
            "KS = lambda u: -div(u)"
          ], 
          "language": "python", 
          "outputs": []
        }, 
        {
          "cell_type": "markdown", 
          "metadata": {}, 
          "source": [
            "\n", 
            "\n", 
            "Shortcut for the TV norm.\n", 
            ""
          ]
        }, 
        {
          "cell_type": "code", 
          "collapsed": false, 
          "input": [
            "Amplitude = lambda u: sqrt(sum(u.^2,3))\n", 
            "F = lambda u: sum(sum(Amplitude(u)))"
          ], 
          "language": "python", 
          "outputs": []
        }, 
        {
          "cell_type": "markdown", 
          "metadata": {}, 
          "source": [
            "\n", 
            "\n", 
            "The proximal operator of the vectorial $\\ell^1$ norm reads\n", 
            "$$ \\text{Prox}_{\\lambda F}(u) = \\max\\pa{0,1-\\frac{\\la}{\\norm{u_k}}} u_k $$\n", 
            ""
          ]
        }, 
        {
          "cell_type": "code", 
          "collapsed": false, 
          "input": [
            "ProxF = lambda u,lambda: max(0,1-lambda./repmat(Amplitude(u), [1 1 2])).*u"
          ], 
          "language": "python", 
          "outputs": []
        }, 
        {
          "cell_type": "markdown", 
          "metadata": {}, 
          "source": [
            "\n", 
            "\n", 
            "Display the thresholding on the vertical component of the vector.\n", 
            ""
          ]
        }, 
        {
          "cell_type": "code", 
          "collapsed": false, 
          "input": [
            "t = -linspace(-2,2, 201)\n", 
            "[Y,X] = meshgrid(t,t)\n", 
            "U = cat(3,Y,X)\n", 
            "V = ProxF(U,1)\n", 
            "\n", 
            "surf(V(:,:,1))\n", 
            "colormap jet(256)\n", 
            "view(150,40)\n", 
            "axis('tight')\n", 
            "camlight; shading interp"
          ], 
          "language": "python", 
          "outputs": []
        }, 
        {
          "cell_type": "markdown", 
          "metadata": {}, 
          "source": [
            "\n", 
            "\n", 
            "For any 1-homogeneous convex\n", 
            "functional, the dual function is the indicator of a convex set. For\n", 
            "the $\\ell^1$ norm, it is the indicator of the $\\ell^\\infty$ ball\n", 
            "$$ F^* = i_{\\norm{\\cdot}_\\infty \\leq 1}\n", 
            " \\qwhereq  \\norm{u}_\\infty = \\umax{i} \\norm{u_i}. $$\n", 
            "\n", 
            "\n", 
            "The proximal operator of the dual function is hence a projector (and it\n", 
            "does not depend on $\\sigma$ )\n", 
            "$$ \\text{Prox}_{\\sigma F^*}(u) = \\text{Proj}_{\\norm{\\cdot}_\\infty \\leq 1}(u). $$\n", 
            "\n", 
            "\n", 
            "A simple way to compute the proximal operator of the dual function $F^*$, we\n", 
            "make use of Moreau's identity:\n", 
            "  $$ x = \\text{Prox}_{\\tau F^*}(x) + \\tau \\text{Prox}_{F/\\tau}(x/\\tau) $$\n", 
            ""
          ]
        }, 
        {
          "cell_type": "code", 
          "collapsed": false, 
          "input": [
            "ProxFS = lambda y,sigma: y-sigma*ProxF(y/sigma,1/sigma)"
          ], 
          "language": "python", 
          "outputs": []
        }, 
        {
          "cell_type": "markdown", 
          "metadata": {}, 
          "source": [
            "\n", 
            "\n", 
            "Display this dual proximal on the vertical component of the vector.\n", 
            ""
          ]
        }, 
        {
          "cell_type": "code", 
          "collapsed": false, 
          "input": [
            "V = ProxFS(U,1)\n", 
            "\n", 
            "surf(V(:,:,1))\n", 
            "colormap jet(256)\n", 
            "view(150,40)\n", 
            "axis('tight')\n", 
            "camlight; shading interp"
          ], 
          "language": "python", 
          "outputs": []
        }, 
        {
          "cell_type": "markdown", 
          "metadata": {}, 
          "source": [
            "\n", 
            "\n", 
            "The proximal operator of $G = i_H$ is the projector on $H$. In our\n", 
            "case, since $\\Phi$ is a diagonal so that the projection is simple to\n", 
            "compute\n", 
            "$$ \\text{Prox}_{\\tau G}(f) = \\text{Proj}_{H}(f) = f + \\Phi(y - \\Phi(f)) $$\n", 
            ""
          ]
        }, 
        {
          "cell_type": "code", 
          "collapsed": false, 
          "input": [
            "ProxG = lambda f,tau: f + Phi(y - Phi(f))"
          ], 
          "language": "python", 
          "outputs": []
        }, 
        {
          "cell_type": "markdown", 
          "metadata": {}, 
          "source": [
            "\n", 
            ""
          ]
        }, 
        {
          "cell_type": "heading", 
          "level": 2, 
          "metadata": {}, 
          "source": [
            "Primal-dual Total Variation Regularization Algorithm\n"
          ]
        }, 
        {
          "cell_type": "markdown", 
          "metadata": {}, 
          "source": [
            "Now we can apply the primal dual scheme to the TV regularization problem.\n", 
            "\n", 
            "\n", 
            "We set parameters for the algorithm.\n", 
            "Note that in our case, $L=\\norm{K}^2=8$.\n", 
            "One should has $L \\sigma \\tau < 1$.\n", 
            ""
          ]
        }, 
        {
          "cell_type": "code", 
          "collapsed": false, 
          "input": [
            "L = 8\n", 
            "sigma = 10\n", 
            "tau = .9/(L*sigma)\n", 
            "theta = 1"
          ], 
          "language": "python", 
          "outputs": []
        }, 
        {
          "cell_type": "markdown", 
          "metadata": {}, 
          "source": [
            "\n", 
            "\n", 
            "Initialization, here |f| stands for the current iterate $f_k$,\n", 
            "|g| for $g_k$ and |f1| for $\\tilde f_k$.\n", 
            ""
          ]
        }, 
        {
          "cell_type": "code", 
          "collapsed": false, 
          "input": [
            "f = y\n", 
            "g = K(y)*0\n", 
            "f1 = f"
          ], 
          "language": "python", 
          "outputs": []
        }, 
        {
          "cell_type": "markdown", 
          "metadata": {}, 
          "source": [
            "\n", 
            "\n", 
            "Example of one iterations.\n", 
            ""
          ]
        }, 
        {
          "cell_type": "code", 
          "collapsed": false, 
          "input": [
            "fold = f\n", 
            "g = ProxFS( g+sigma*K(f1), sigma)\n", 
            "f = ProxG(  f-tau*KS(g), tau)\n", 
            "f1 = f + theta * (f-fold)"
          ], 
          "language": "python", 
          "outputs": []
        }, 
        {
          "cell_type": "heading", 
          "level": 3, 
          "metadata": {}, 
          "source": [
            "Exercise 1"
          ]
        }, 
        {
          "cell_type": "markdown", 
          "metadata": {}, 
          "source": [
            "\n", 
            "Implement the primal-dual algorithm.\n", 
            "Monitor the evolution of the TV energy $F(K(f_k))$\n", 
            "during the iterations.\n", 
            "Note that one always has $ f_k \\in H $ so that the iterates\n", 
            "satisfies the constraints.\n", 
            "\n", 
            "\n", 
            "\n", 
            "\n", 
            "\n", 
            "\n", 
            "\n", 
            "\n", 
            "\n", 
            "\n", 
            "\n", 
            "\n", 
            "\n", 
            "\n", 
            "\n", 
            ""
          ]
        }, 
        {
          "cell_type": "code", 
          "collapsed": false, 
          "input": [
            "## Insert your code here."
          ], 
          "language": "python", 
          "outputs": []
        }, 
        {
          "cell_type": "markdown", 
          "metadata": {}, 
          "source": [
            "\n", 
            "\n", 
            "\n", 
            "Display inpainted image.\n", 
            ""
          ]
        }, 
        {
          "cell_type": "code", 
          "collapsed": false, 
          "input": [
            "\n", 
            "imageplot(f)"
          ], 
          "language": "python", 
          "outputs": []
        }, 
        {
          "cell_type": "heading", 
          "level": 3, 
          "metadata": {}, 
          "source": [
            "Exercise 2"
          ]
        }, 
        {
          "cell_type": "markdown", 
          "metadata": {}, 
          "source": [
            "\n", 
            "Use the primal dual scheme to perform regularization in the presence of\n", 
            "noise\n", 
            "$$ \\umin{\\norm{y-\\Phi(f)} \\leq \\epsilon} \\norm{\\nabla f}_1. $$"
          ]
        }, 
        {
          "cell_type": "code", 
          "collapsed": false, 
          "input": [
            "## Insert your code here."
          ], 
          "language": "python", 
          "outputs": []
        }, 
        {
          "cell_type": "markdown", 
          "metadata": {}, 
          "source": [
            "\n", 
            "\n", 
            ""
          ]
        }, 
        {
          "cell_type": "heading", 
          "level": 2, 
          "metadata": {}, 
          "source": [
            "Inpainting Large Missing Regions\n"
          ]
        }, 
        {
          "cell_type": "markdown", 
          "metadata": {}, 
          "source": [
            "It is possible to consider a more challening problem of inpainting large\n", 
            "missing regions.\n", 
            "\n", 
            "\n", 
            "To emphasis the effect of the TV functional, we use a simple geometric\n", 
            "image.\n", 
            ""
          ]
        }, 
        {
          "cell_type": "code", 
          "collapsed": false, 
          "input": [
            "n = 64\n", 
            "name = 'square'\n", 
            "f0 = load_image(name,n)"
          ], 
          "language": "python", 
          "outputs": []
        }, 
        {
          "cell_type": "markdown", 
          "metadata": {}, 
          "source": [
            "\n", 
            "\n", 
            "We remove the central part of the image.\n", 
            ""
          ]
        }, 
        {
          "cell_type": "code", 
          "collapsed": false, 
          "input": [
            "a = 4\n", 
            "Lambda = ones(n)\n", 
            "Lambda(end/2-a:end/2+a,:) = 0\n", 
            "Phi = lambda f: f.*Lambda"
          ], 
          "language": "python", 
          "outputs": []
        }, 
        {
          "cell_type": "markdown", 
          "metadata": {}, 
          "source": [
            "\n", 
            "\n", 
            "Display.\n", 
            ""
          ]
        }, 
        {
          "cell_type": "code", 
          "collapsed": false, 
          "input": [
            "\n", 
            "imageplot(f0, 'Original', 1,2,1)\n", 
            "imageplot(Phi(f0), 'Damaged', 1,2,2)"
          ], 
          "language": "python", 
          "outputs": []
        }, 
        {
          "cell_type": "heading", 
          "level": 3, 
          "metadata": {}, 
          "source": [
            "Exercise 3"
          ]
        }, 
        {
          "cell_type": "markdown", 
          "metadata": {}, 
          "source": [
            "\n", 
            "Display the evolution of the inpainting process.\n", 
            "\n", 
            "\n", 
            "\n", 
            "\n", 
            "\n", 
            "\n", 
            "\n", 
            "\n", 
            "\n", 
            "\n", 
            "\n", 
            "\n", 
            "\n", 
            "\n", 
            "\n", 
            "\n", 
            "\n", 
            "\n", 
            "\n", 
            "\n", 
            "\n", 
            "\n", 
            "\n", 
            ""
          ]
        }, 
        {
          "cell_type": "code", 
          "collapsed": false, 
          "input": [
            "## Insert your code here."
          ], 
          "language": "python", 
          "outputs": []
        }
      ]
    }
  ]
}