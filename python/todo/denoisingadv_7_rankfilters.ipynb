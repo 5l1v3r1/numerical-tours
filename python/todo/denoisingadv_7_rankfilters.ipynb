{
  "metadata": {
    "name": ""
  }, 
  "nbformat": 3, 
  "nbformat_minor": 0, 
  "worksheets": [
    {
      "cells": [
        {
          "cell_type": "heading", 
          "level": 1, 
          "metadata": {}, 
          "source": [
            "Rank Filters for Image Processing"
          ]
        }, 
        {
          "cell_type": "markdown", 
          "metadata": {}, 
          "source": [
            "This numerical tour explores non-linear local filters that proceeds by\n", 
            "ordering the pixels in a neighboorhood and selecting a given ranked\n", 
            "entry.\n", 
            ""
          ]
        }, 
        {
          "cell_type": "markdown", 
          "metadata": {}, 
          "source": [
            "*Important:* You need to download the file `nt_toolbox.py` from the \n", 
            "root of the github repository.\n", 
            "$\\newcommand{\\dotp}[2]{\\langle #1, #2 \\rangle}\n", 
            "\\newcommand{\\enscond}[2]{\\lbrace #1, #2 \\rbrace}\n", 
            "\\newcommand{\\pd}[2]{ \\frac{ \\partial #1}{\\partial #2} }\n", 
            "\\newcommand{\\umin}[1]{\\underset{#1}{\\min}\\;}\n", 
            "\\newcommand{\\norm}[1]{\\|#1\\|}\n", 
            "\\newcommand{\\abs}[1]{\\left|#1\\right|}\n", 
            "\\newcommand{\\choice}[1]{ \\left\\{  \\begin{array}{l} #1 \\end{array} \\right. }\n", 
            "\\newcommand{\\pa}[1]{\\left(#1\\right)}\n", 
            "\\newcommand{\\qandq}{\\quad\\text{and}\\quad}\n", 
            "\\newcommand{\\qwhereq}{\\quad\\text{where}\\quad}\n", 
            "\\newcommand{\\qifq}{ \\quad \\text{if} \\quad }\n", 
            "\\newcommand{\\qarrq}{ \\quad \\Longrightarrow \\quad }\n", 
            "\\newcommand{\\ZZ}{\\mathbb{Z}}\n", 
            "\\newcommand{\\RR}{\\mathbb{R}}\n", 
            "\\newcommand{\\Nn}{\\mathcal{N}}\n", 
            "\\newcommand{\\Hh}{\\mathcal{H}}\n", 
            "\\newcommand{\\Bb}{\\mathcal{B}}\n", 
            "\\newcommand{\\EE}{\\mathbb{E}}\n", 
            "\\newcommand{\\CC}{\\mathbb{C}}\n", 
            "\\newcommand{\\si}{\\sigma}\n", 
            "\\newcommand{\\al}{\\alpha}\n", 
            "\\newcommand{\\la}{\\lambda}\n", 
            "\\newcommand{\\ga}{\\gamma}\n", 
            "\\newcommand{\\Ga}{\\Gamma}\n", 
            "\\newcommand{\\La}{\\Lambda}\n", 
            "\\newcommand{\\si}{\\sigma}\n", 
            "\\newcommand{\\Si}{\\Sigma}\n", 
            "\\newcommand{\\be}{\\beta}\n", 
            "\\newcommand{\\de}{\\delta}\n", 
            "\\newcommand{\\De}{\\Delta}\n", 
            "\\renewcommand{\\phi}{\\varphi}\n", 
            "\\renewcommand{\\th}{\\theta}\n", 
            "\\newcommand{\\om}{\\omega}\n", 
            "\\newcommand{\\Om}{\\Omega}\n", 
            "$"
          ]
        }, 
        {
          "cell_type": "code", 
          "collapsed": false, 
          "input": [
            "from nt_toolbox import *", 
            "%matplotlib inline", 
            "%load_ext autoreload", 
            "%autoreload 2"
          ], 
          "language": "python", 
          "outputs": []
        }, 
        {
          "cell_type": "heading", 
          "level": 2, 
          "metadata": {}, 
          "source": [
            "Continuous Rank Filtering\n"
          ]
        }, 
        {
          "cell_type": "markdown", 
          "metadata": {}, 
          "source": [
            "We consider an image $f : [0,1]^2 \\rightarrow \\RR$.\n", 
            "\n", 
            "\n", 
            "For any $\\beta \\in [0,1]$, we define the rank filter\n", 
            "$\\phi_\\be^B$ of order $\\beta$ associated to a set $B$ to be\n", 
            "$$ g = \\phi_\\beta^B(f)\n", 
            "  \\qwhereq\n", 
            "  g(x) = \\inf \\: \\enscond{t \\in \\RR}{\n", 
            "          \\mu( f^{-1}(]-\\infty,t]) \\cap x+B ) \\geq \\mu(B)/2 }. $$\n", 
            "where $\\mu$ is the Lebesgue measure on $\\RR$.\n", 
            "\n", 
            "\n", 
            "One usually assumes that $B$ is the ball of radius $\\epsilon>0$\n", 
            "$$ B = B_\\epsilon = \\enscond{x}{\\norm{x} \\leq \\epsilon}. $$\n", 
            "\n", 
            "\n", 
            "When $\\be=0$ (resp. $\\be=1$, resp.\n", 
            "$\\be=1/2$), then $g(x)$ is the miniminimum\n", 
            "(resp. maximum, resp. median) value of $f$ in a small neighboorhood of\n", 
            "radius $\\epsilon$\n", 
            "$$ \\phi_0^{B_\\epsilon}(f)(x) = \\umin{\\norm{y-x} \\leq \\epsilon} f(y), $$\n", 
            "$$ \\phi_{1/2}^{B_\\epsilon}(f)(x) = \\umax{\\norm{y-x} \\leq \\epsilon} f(y), $$\n", 
            "$$ \\phi_{1}^{B_\\epsilon}(f)(x) = \\underset{\\norm{y-x} \\leq \\epsilon}{\\text{median}} f(y). $$\n", 
            "\n", 
            "\n", 
            "The operator $\\phi_\\beta^B$ is contrast-invariant, meaning that it\n", 
            "computes with increasing functions $ \\psi : \\RR \\rightarrow \\RR $\n", 
            "$$ \\phi_\\beta^B \\circ \\psi = \\psi \\circ \\phi_\\beta^B. $$\n", 
            "The axiomatic study of contrast invariant operator was initiated in the\n", 
            "comunity of mathematical morphology, see <#biblio [Matheron75]>, <#biblio [Tukey77]>, <#biblio [Serra82]>.\n", 
            "\n", 
            "\n", 
            "Note also that there exist generalization of rank filters (and in\n", 
            "particular the median filter) to vector valued images\n", 
            "$ f : [0,1]^2 \\rightarrow \\RR^d$. Since the notion of rank does not\n", 
            "exists anymore, one has to rely on variational caracteriation of the\n", 
            "median, see for instance <#biblio [CasSapChu00]>.\n", 
            "\n", 
            "\n", 
            "The medial filtering is the most popular rank filter.\n", 
            "It is particularly efficient to remove impulse noise,\n", 
            "see for instance <#biblio [Piterbarg84]>, <#biblio [FanHall94]>.\n", 
            "See also <#biblio [AriasDon99]> for a theoritical analysis of median\n", 
            "filtering and of a two-stage iterated version.\n", 
            ""
          ]
        }, 
        {
          "cell_type": "heading", 
          "level": 2, 
          "metadata": {}, 
          "source": [
            "Patches in Images\n"
          ]
        }, 
        {
          "cell_type": "markdown", 
          "metadata": {}, 
          "source": [
            "We apply rank filters to discretized images by interpreting them as\n", 
            "piecewise constant functions.\n", 
            "\n", 
            "\n", 
            "Size $N = n \\times n$ of the image.\n", 
            ""
          ]
        }, 
        {
          "cell_type": "code", 
          "collapsed": false, 
          "input": [
            "n = 256"
          ], 
          "language": "python", 
          "outputs": []
        }, 
        {
          "cell_type": "markdown", 
          "metadata": {}, 
          "source": [
            "\n", 
            "\n", 
            "We load an image $f_0 \\in \\RR^N$.\n", 
            ""
          ]
        }, 
        {
          "cell_type": "code", 
          "collapsed": false, 
          "input": [
            "name = 'hibiscus'\n", 
            "f0 = load_image(name, n)\n", 
            "f0 = rescale(crop( sum(f0,3) ,n))"
          ], 
          "language": "python", 
          "outputs": []
        }, 
        {
          "cell_type": "markdown", 
          "metadata": {}, 
          "source": [
            "\n", 
            "\n", 
            "Display $f_0$.\n", 
            ""
          ]
        }, 
        {
          "cell_type": "code", 
          "collapsed": false, 
          "input": [
            "\n", 
            "imageplot(f0)"
          ], 
          "language": "python", 
          "outputs": []
        }, 
        {
          "cell_type": "markdown", 
          "metadata": {}, 
          "source": [
            "\n", 
            "\n", 
            "Noise level $\\si$.\n", 
            ""
          ]
        }, 
        {
          "cell_type": "code", 
          "collapsed": false, 
          "input": [
            "sigma = .04"
          ], 
          "language": "python", 
          "outputs": []
        }, 
        {
          "cell_type": "markdown", 
          "metadata": {}, 
          "source": [
            "\n", 
            "\n", 
            "Generate a noisy image $f=f_0+\\epsilon$ where $\\epsilon \\times\n", 
            "\\Nn(0,\\si^2\\text{Id}_N)$.\n", 
            ""
          ]
        }, 
        {
          "cell_type": "code", 
          "collapsed": false, 
          "input": [
            "f = f0 + randn(n,n)*sigma"
          ], 
          "language": "python", 
          "outputs": []
        }, 
        {
          "cell_type": "markdown", 
          "metadata": {}, 
          "source": [
            "\n", 
            "\n", 
            "\n", 
            "Display $f$.\n", 
            ""
          ]
        }, 
        {
          "cell_type": "code", 
          "collapsed": false, 
          "input": [
            "\n", 
            "imageplot(clamp(f))"
          ], 
          "language": "python", 
          "outputs": []
        }, 
        {
          "cell_type": "markdown", 
          "metadata": {}, 
          "source": [
            "\n", 
            "\n", 
            "For simplicity, we consider the case where\n", 
            "the set $B$ is a square of $w_1 \\times w_2$ pixels.\n", 
            "where we denote $w$ to be the half width of the patches,\n", 
            "and $w_1=2w+1$ the full width.\n", 
            ""
          ]
        }, 
        {
          "cell_type": "code", 
          "collapsed": false, 
          "input": [
            "w = 3\n", 
            "w1 = 2*w+1"
          ], 
          "language": "python", 
          "outputs": []
        }, 
        {
          "cell_type": "markdown", 
          "metadata": {}, 
          "source": [
            "\n", 
            "\n", 
            "We define the patch extraction operator\n", 
            "$$ p = p_x(f) \\in \\RR^{w_1 \\times w_1}\n", 
            "\\qwhereq \\forall -w \\leq s_1,s_2 \\leq w, \\quad p(s) = f(x+s). $$\n", 
            "\n", 
            "\n", 
            "We now define the function $\\Pi(f) = (p_x(f))_x $\n", 
            "that extracts all possible patches.\n", 
            "\n", 
            "\n", 
            "We set up large $(n,n,w_1,w_1)$ matrices to index the the X and Y\n", 
            "position of the pixel to extract.\n", 
            ""
          ]
        }, 
        {
          "cell_type": "code", 
          "collapsed": false, 
          "input": [
            "[Y,X] = meshgrid(1:n,1:n)\n", 
            "[dY,dX] = meshgrid(-w:w,-w:w)\n", 
            "dX = reshape(dX, [1 1 w1 w1])\n", 
            "dY = reshape(dY, [1 1 w1 w1])\n", 
            "X = repmat(X, [1 1 w1 w1]) + repmat(dX, [n n 1 1])\n", 
            "Y = repmat(Y, [1 1 w1 w1]) + repmat(dY, [n n 1 1])"
          ], 
          "language": "python", 
          "outputs": []
        }, 
        {
          "cell_type": "markdown", 
          "metadata": {}, 
          "source": [
            "\n", 
            "\n", 
            "We handle boundary condition by reflexion\n", 
            ""
          ]
        }, 
        {
          "cell_type": "code", 
          "collapsed": false, 
          "input": [
            "X(X<1) = 2-X(X<1); Y(Y<1) = 2-Y(Y<1)\n", 
            "X(X>n) = 2*n-X(X>n); Y(Y>n) = 2*n-Y(Y>n)"
          ], 
          "language": "python", 
          "outputs": []
        }, 
        {
          "cell_type": "markdown", 
          "metadata": {}, 
          "source": [
            "\n", 
            "\n", 
            "Patch extractor operator $\\Pi$.\n", 
            ""
          ]
        }, 
        {
          "cell_type": "code", 
          "collapsed": false, 
          "input": [
            "Pi = lambda f: reshape( f(X + (Y-1)*n), [n n w1*w1] )"
          ], 
          "language": "python", 
          "outputs": []
        }, 
        {
          "cell_type": "markdown", 
          "metadata": {}, 
          "source": [
            "\n", 
            "\n", 
            "We store the patches $\\Pi(f)$ as a $n \\times n \\times w_1^2$ matrix $P$\n", 
            "such that, for each pixel $x$, $P(x)$ is a vector of size $w_1^2$\n", 
            "storing the entries of $p_x(f)$.\n", 
            ""
          ]
        }, 
        {
          "cell_type": "code", 
          "collapsed": false, 
          "input": [
            "P = Pi(f)"
          ], 
          "language": "python", 
          "outputs": []
        }, 
        {
          "cell_type": "markdown", 
          "metadata": {}, 
          "source": [
            "\n", 
            "\n", 
            "Display some example of patches\n", 
            ""
          ]
        }, 
        {
          "cell_type": "code", 
          "collapsed": false, 
          "input": [
            "\n", 
            "for i in 1:16:\n", 
            "    x = floor( rand*(n-1)+1 )\n", 
            "    y = floor( rand*(n-1)+1 )\n", 
            "    imageplot( reshape(P(x,y,:,:), w1,w1), '', 4,4,i )\n", 
            ""
          ], 
          "language": "python", 
          "outputs": []
        }, 
        {
          "cell_type": "heading", 
          "level": 2, 
          "metadata": {}, 
          "source": [
            "Linear Filter\n"
          ]
        }, 
        {
          "cell_type": "markdown", 
          "metadata": {}, 
          "source": [
            "A linear filter (convolution) can be computed using this patch\n", 
            "representation as\n", 
            "$$ g(x) = \\sum_{i} \\la_i p_x(f)_i.  $$\n", 
            "\n", 
            "\n", 
            "In the case where $\\la_i=1/w_1^2$, this\n", 
            "defines the mean value inside the patch:\n", 
            "$$ g(x) = \\frac{1}{w_1^2} \\sum_{i} p_x(f)_i.  $$\n", 
            ""
          ]
        }, 
        {
          "cell_type": "code", 
          "collapsed": false, 
          "input": [
            "Pmean = lambda f: mean(Pi(f),3)"
          ], 
          "language": "python", 
          "outputs": []
        }, 
        {
          "cell_type": "markdown", 
          "metadata": {}, 
          "source": [
            "\n", 
            "\n", 
            "Display it.\n", 
            ""
          ]
        }, 
        {
          "cell_type": "code", 
          "collapsed": false, 
          "input": [
            "\n", 
            "imageplot(Pmean(f))"
          ], 
          "language": "python", 
          "outputs": []
        }, 
        {
          "cell_type": "markdown", 
          "metadata": {}, 
          "source": [
            "\n", 
            "\n", 
            "Note that this is not a rank filter (this a linear filter) and that it is\n", 
            "not contrast invariant. This is shown by displaying\n", 
            "$$ \\phi_\\beta^B(f) - \\psi^{-1} \\circ \\phi_\\beta^B \\circ \\psi(f) $$\n", 
            "which is non-zero.\n", 
            ""
          ]
        }, 
        {
          "cell_type": "code", 
          "collapsed": false, 
          "input": [
            "p = 100\n", 
            "psi = lambda f: f.^(1/p)\n", 
            "ipsi = lambda f: f.^p\n", 
            "imageplot(Pmean(abs(f)) - ipsi(Pmean(psi(abs(f)))))"
          ], 
          "language": "python", 
          "outputs": []
        }, 
        {
          "cell_type": "heading", 
          "level": 2, 
          "metadata": {}, 
          "source": [
            "Opening and Closing Rank Filters\n"
          ]
        }, 
        {
          "cell_type": "markdown", 
          "metadata": {}, 
          "source": [
            "We now come back to the discrete computation of a rank filter $\\phi_\\be^B$\n", 
            "for $B$ a square of width $w_1 \\times w_1$ pixels.\n", 
            "\n", 
            "\n", 
            "It is defined as $g=\\phi_\\beta^B(f)$ where\n", 
            "$$ g(x) = \\text{rank}_{r(\\beta)}( p_x(f) ) $$\n", 
            "where $\\text{rank}_r(v)$ extracted the element of order $k$ in the\n", 
            "sorted value of $v \\in \\RR^Q$ (here $Q=w_1^2$). More precisely, we denote\n", 
            "$$ v_{\\si(1)} \\leq v_{\\si(2)} \\leq \\ldots \\leq v_{\\si(Q)} $$\n", 
            "where $\\si \\in \\Sigma_Q$ is an ordering permutation, which can be\n", 
            "computed in $ O(N \\log(N)) $ operations with the QuickSort algorithm.\n", 
            "Then the ranked valued is\n", 
            "$$ \\text{rank}_r(v) = v_{\\si(r)}. $$\n", 
            "\n", 
            "\n", 
            "In order to be consistent with the continuous definition of the\n", 
            "rank filter, one should define the rank as\n", 
            "$$ r=r(\\beta) = \\lfloor Q r \\rfloor. $$\n", 
            ""
          ]
        }, 
        {
          "cell_type": "code", 
          "collapsed": false, 
          "input": [
            "r = lambda beta: min(ceil(beta*w1*w1)+1,w1*w1)"
          ], 
          "language": "python", 
          "outputs": []
        }, 
        {
          "cell_type": "markdown", 
          "metadata": {}, 
          "source": [
            "\n", 
            "\n", 
            "Shortcut for the rank filter.\n", 
            ""
          ]
        }, 
        {
          "cell_type": "code", 
          "collapsed": false, 
          "input": [
            "subsample = lambda x,s: x(:,:,s)\n", 
            "phi = lambda f,beta: subsample(sort(Pi(f), 3), r(beta))"
          ], 
          "language": "python", 
          "outputs": []
        }, 
        {
          "cell_type": "heading", 
          "level": 3, 
          "metadata": {}, 
          "source": [
            "Exercise 1"
          ]
        }, 
        {
          "cell_type": "markdown", 
          "metadata": {}, 
          "source": [
            "\n", 
            "Compute the rank filter for several values of $\\beta$.\n", 
            "\n", 
            "\n", 
            "\n", 
            "\n", 
            "\n", 
            ""
          ]
        }, 
        {
          "cell_type": "code", 
          "collapsed": false, 
          "input": [
            "## Insert your code here."
          ], 
          "language": "python", 
          "outputs": []
        }, 
        {
          "cell_type": "markdown", 
          "metadata": {}, 
          "source": [
            "\n", 
            "\n", 
            "\n", 
            "The case $\\beta=0$ corresponds to the closing operator from\n", 
            "mathematical morphology (min filter).\n", 
            ""
          ]
        }, 
        {
          "cell_type": "code", 
          "collapsed": false, 
          "input": [
            "closing = lambda f: phi(f,0)\n", 
            "\n", 
            "imageplot(closing(f))"
          ], 
          "language": "python", 
          "outputs": []
        }, 
        {
          "cell_type": "markdown", 
          "metadata": {}, 
          "source": [
            "\n", 
            "\n", 
            "The case $\\beta=1$ corresponds to the opening operator from\n", 
            "mathematical morphology (max filter).\n", 
            ""
          ]
        }, 
        {
          "cell_type": "code", 
          "collapsed": false, 
          "input": [
            "opening = lambda f: phi(f,1)\n", 
            "\n", 
            "imageplot(opening(f))"
          ], 
          "language": "python", 
          "outputs": []
        }, 
        {
          "cell_type": "heading", 
          "level": 3, 
          "metadata": {}, 
          "source": [
            "Exercise 2"
          ]
        }, 
        {
          "cell_type": "markdown", 
          "metadata": {}, 
          "source": [
            "\n", 
            "Compute a closing followed by an opening.\n", 
            "\n", 
            "\n", 
            ""
          ]
        }, 
        {
          "cell_type": "code", 
          "collapsed": false, 
          "input": [
            "## Insert your code here."
          ], 
          "language": "python", 
          "outputs": []
        }, 
        {
          "cell_type": "markdown", 
          "metadata": {}, 
          "source": [
            "\n", 
            ""
          ]
        }, 
        {
          "cell_type": "heading", 
          "level": 3, 
          "metadata": {}, 
          "source": [
            "Exercise 3"
          ]
        }, 
        {
          "cell_type": "markdown", 
          "metadata": {}, 
          "source": [
            "\n", 
            "Compute an opening followed by a closing.\n", 
            "\n", 
            "\n", 
            ""
          ]
        }, 
        {
          "cell_type": "code", 
          "collapsed": false, 
          "input": [
            "## Insert your code here."
          ], 
          "language": "python", 
          "outputs": []
        }, 
        {
          "cell_type": "markdown", 
          "metadata": {}, 
          "source": [
            "\n", 
            ""
          ]
        }, 
        {
          "cell_type": "heading", 
          "level": 3, 
          "metadata": {}, 
          "source": [
            "Exercise 4"
          ]
        }, 
        {
          "cell_type": "markdown", 
          "metadata": {}, 
          "source": [
            "\n", 
            "Perform iterated opening and closing.\n", 
            "\n", 
            "\n", 
            "\n", 
            "\n", 
            "\n", 
            "\n", 
            "\n", 
            "\n", 
            "\n", 
            "\n", 
            ""
          ]
        }, 
        {
          "cell_type": "code", 
          "collapsed": false, 
          "input": [
            "## Insert your code here."
          ], 
          "language": "python", 
          "outputs": []
        }, 
        {
          "cell_type": "markdown", 
          "metadata": {}, 
          "source": [
            "\n", 
            "\n", 
            ""
          ]
        }, 
        {
          "cell_type": "heading", 
          "level": 2, 
          "metadata": {}, 
          "source": [
            "Median Filter\n"
          ]
        }, 
        {
          "cell_type": "markdown", 
          "metadata": {}, 
          "source": [
            "The median filter corresponds to the case where $\\be=1/2$.\n", 
            ""
          ]
        }, 
        {
          "cell_type": "code", 
          "collapsed": false, 
          "input": [
            "medfilt = lambda f: phi(f,1/2)"
          ], 
          "language": "python", 
          "outputs": []
        }, 
        {
          "cell_type": "markdown", 
          "metadata": {}, 
          "source": [
            "\n", 
            "\n", 
            "Display the result.\n", 
            ""
          ]
        }, 
        {
          "cell_type": "code", 
          "collapsed": false, 
          "input": [
            "\n", 
            "imageplot(medfilt(f))"
          ], 
          "language": "python", 
          "outputs": []
        }, 
        {
          "cell_type": "markdown", 
          "metadata": {}, 
          "source": [
            "\n", 
            "\n", 
            "Iterated median filtering computes\n", 
            "$$ f^{(\\ell+1)} = \\phi_{1/2}^B( f^{(\\ell)} ). $$\n", 
            "As already mentionned, one can show that a properly\n", 
            "\n", 
            "\n", 
            "In the case where $f$ is of class $C^3$ and $\\nabla f(x) \\neq 0$,\n", 
            "one has the following Taylor expansion\n", 
            "$$ \\phi_{1/2}^{B_\\epsilon}(x) =\n", 
            "  f(x) + \\frac{\\epsilon^2}{6} \\norm{\\nabla f(x)}\n", 
            "      \\text{Curv}(f)(x) + O(\\epsilon^{7/3}) $$\n", 
            "where the curvature operator is\n", 
            "$$ \\text{Curv}(f) = \\text{div}\\pa{\n", 
            "      \\frac{\\nabla f}{\\norm{\\nabla f}}\n", 
            "  }. $$\n", 
            "\n", 
            "\n", 
            "Intuitively, it means that if one iterates the operator\n", 
            "$ \\phi_{1/2}^{B_\\epsilon} $ with a proper re-scaling $\\ell \\leftrightarrow t$\n", 
            "and when\n", 
            "$\\epsilon \\rightarrow 0$, then $f^{(\\ell)}$ tends to the solution to the\n", 
            "famous mean-curvature motion PDE\n", 
            "$$ \\pd{f}{t} = \\norm{\\nabla f} \\text{Curv}(f).  $$\n", 
            "\n", 
            "\n", 
            "This conjecture was initially mentionned in <#biblio [BeMerOsh92]>.\n", 
            "This was rigorously proved in <#biblio [Ishii95]>, <#biblio [BarGeorg]>,\n", 
            "<#biblio [Evans93]> using the machinery of viscosity solutions.\n", 
            "\n", 
            "\n", 
            "Similar result holds for other class of contrast invariant operator, see\n", 
            "for instance <#biblio [Cao98]> for affine invariant operators, and <#biblio [GuiMoRy04]>\n", 
            "for an axiomatic and general framework.\n", 
            "\n", 
            ""
          ]
        }, 
        {
          "cell_type": "heading", 
          "level": 3, 
          "metadata": {}, 
          "source": [
            "Exercise 5"
          ]
        }, 
        {
          "cell_type": "markdown", 
          "metadata": {}, 
          "source": [
            "\n", 
            "Perform iterated median filtering, and store the output in |f1|.\n", 
            "\n", 
            "\n", 
            "\n", 
            "\n", 
            "\n", 
            ""
          ]
        }, 
        {
          "cell_type": "code", 
          "collapsed": false, 
          "input": [
            "## Insert your code here."
          ], 
          "language": "python", 
          "outputs": []
        }, 
        {
          "cell_type": "markdown", 
          "metadata": {}, 
          "source": [
            "\n", 
            "\n", 
            "\n", 
            "Display.\n", 
            ""
          ]
        }, 
        {
          "cell_type": "code", 
          "collapsed": false, 
          "input": [
            "\n", 
            "imageplot(f1)"
          ], 
          "language": "python", 
          "outputs": []
        }, 
        {
          "cell_type": "markdown", 
          "metadata": {}, 
          "source": [
            "\n", 
            "\n", 
            ""
          ]
        }, 
        {
          "cell_type": "heading", 
          "level": 2, 
          "metadata": {}, 
          "source": [
            "Bibliography\n"
          ]
        }
      ]
    }
  ]
}