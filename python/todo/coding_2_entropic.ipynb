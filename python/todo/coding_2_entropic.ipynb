{
  "metadata": {
    "name": ""
  }, 
  "nbformat": 3, 
  "nbformat_minor": 0, 
  "worksheets": [
    {
      "cells": [
        {
          "cell_type": "heading", 
          "level": 1, 
          "metadata": {}, 
          "source": [
            "Entropic Coding and Compression"
          ]
        }, 
        {
          "cell_type": "markdown", 
          "metadata": {}, 
          "source": [
            "This numerical tour studies source coding using entropic coders (Huffman and arithmetic).\n", 
            ""
          ]
        }, 
        {
          "cell_type": "markdown", 
          "metadata": {}, 
          "source": [
            "*Important:* You need to download the file `nt_toolbox.py` from the \n", 
            "root of the github repository.\n", 
            "$\\newcommand{\\dotp}[2]{\\langle #1, #2 \\rangle}\n", 
            "\\newcommand{\\enscond}[2]{\\lbrace #1, #2 \\rbrace}\n", 
            "\\newcommand{\\pd}[2]{ \\frac{ \\partial #1}{\\partial #2} }\n", 
            "\\newcommand{\\umin}[1]{\\underset{#1}{\\min}\\;}\n", 
            "\\newcommand{\\norm}[1]{\\|#1\\|}\n", 
            "\\newcommand{\\abs}[1]{\\left|#1\\right|}\n", 
            "\\newcommand{\\choice}[1]{ \\left\\{  \\begin{array}{l} #1 \\end{array} \\right. }\n", 
            "\\newcommand{\\pa}[1]{\\left(#1\\right)}\n", 
            "\\newcommand{\\qandq}{\\quad\\text{and}\\quad}\n", 
            "\\newcommand{\\qwhereq}{\\quad\\text{where}\\quad}\n", 
            "\\newcommand{\\qifq}{ \\quad \\text{if} \\quad }\n", 
            "\\newcommand{\\qarrq}{ \\quad \\Longrightarrow \\quad }\n", 
            "\\newcommand{\\ZZ}{\\mathbb{Z}}\n", 
            "\\newcommand{\\RR}{\\mathbb{R}}\n", 
            "\\newcommand{\\Nn}{\\mathcal{N}}\n", 
            "\\newcommand{\\Hh}{\\mathcal{H}}\n", 
            "\\newcommand{\\Bb}{\\mathcal{B}}\n", 
            "\\newcommand{\\EE}{\\mathbb{E}}\n", 
            "\\newcommand{\\CC}{\\mathbb{C}}\n", 
            "\\newcommand{\\si}{\\sigma}\n", 
            "\\newcommand{\\al}{\\alpha}\n", 
            "\\newcommand{\\la}{\\lambda}\n", 
            "\\newcommand{\\ga}{\\gamma}\n", 
            "\\newcommand{\\Ga}{\\Gamma}\n", 
            "\\newcommand{\\La}{\\Lambda}\n", 
            "\\newcommand{\\si}{\\sigma}\n", 
            "\\newcommand{\\Si}{\\Sigma}\n", 
            "\\newcommand{\\be}{\\beta}\n", 
            "\\newcommand{\\de}{\\delta}\n", 
            "\\newcommand{\\De}{\\Delta}\n", 
            "\\renewcommand{\\phi}{\\varphi}\n", 
            "\\renewcommand{\\th}{\\theta}\n", 
            "\\newcommand{\\om}{\\omega}\n", 
            "\\newcommand{\\Om}{\\Omega}\n", 
            "$"
          ]
        }, 
        {
          "cell_type": "code", 
          "collapsed": false, 
          "input": [
            "from nt_toolbox import *", 
            "%matplotlib inline", 
            "%load_ext autoreload", 
            "%autoreload 2"
          ], 
          "language": "python", 
          "outputs": []
        }, 
        {
          "cell_type": "heading", 
          "level": 2, 
          "metadata": {}, 
          "source": [
            "Source Coding and Entropy\n"
          ]
        }, 
        {
          "cell_type": "markdown", 
          "metadata": {}, 
          "source": [
            "Entropic coding converts a vector |x| of integers into a binary stream\n", 
            "|y|. Entropic coding exploits the\n", 
            "redundancies in the statistical distribution of the entries of |x| to\n", 
            "reduce as much as possible the size of |y|. The lower bound for the\n", 
            "number of bits |p| of |y| is the Shannon bound |p=-sum_i\n", 
            "h(i)*log2(h(i))|, where |h(i)| is the probability of apparition of\n", 
            "symbol |i| in |x|.\n", 
            "\n", 
            "\n", 
            "Fist we generate a simple binary signal |x| so that 0 has a probability\n", 
            "of appearance of |p|.\n", 
            "\n", 
            "probability of 0"
          ]
        }, 
        {
          "cell_type": "code", 
          "collapsed": false, 
          "input": [
            "p = 0.1"
          ], 
          "language": "python", 
          "outputs": []
        }, 
        {
          "cell_type": "markdown", 
          "metadata": {}, 
          "source": [
            "size"
          ]
        }, 
        {
          "cell_type": "code", 
          "collapsed": false, 
          "input": [
            "n = 512"
          ], 
          "language": "python", 
          "outputs": []
        }, 
        {
          "cell_type": "markdown", 
          "metadata": {}, 
          "source": [
            "signal, should be with token 1,2"
          ]
        }, 
        {
          "cell_type": "code", 
          "collapsed": false, 
          "input": [
            "x = (rand(n,1)>p)+1"
          ], 
          "language": "python", 
          "outputs": []
        }, 
        {
          "cell_type": "markdown", 
          "metadata": {}, 
          "source": [
            "\n", 
            "\n", 
            "One can check the probabilities by computing the empirical histogram.\n", 
            ""
          ]
        }, 
        {
          "cell_type": "code", 
          "collapsed": false, 
          "input": [
            "h = hist(x, [1 2])\n", 
            "h = h/sum(h)\n", 
            "disp(strcat(['Empirical p=' num2str(h(1)) '.']))"
          ], 
          "language": "python", 
          "outputs": []
        }, 
        {
          "cell_type": "markdown", 
          "metadata": {}, 
          "source": [
            "\n", 
            "\n", 
            "We can compute the entropy of the distribution represented as a vector |h| of proability that should sum to 1.\n", 
            "We take a |max| to avoid problem with 0 probabilties.\n", 
            ""
          ]
        }, 
        {
          "cell_type": "code", 
          "collapsed": false, 
          "input": [
            "e = - sum( h .* log2( max(h,1e-20) ) )\n", 
            "disp( strcat(['Entropy=' num2str(e)]) )"
          ], 
          "language": "python", 
          "outputs": []
        }, 
        {
          "cell_type": "heading", 
          "level": 2, 
          "metadata": {}, 
          "source": [
            "Huffman Coding\n"
          ]
        }, 
        {
          "cell_type": "markdown", 
          "metadata": {}, 
          "source": [
            "A Hufman code |C| associate with each symbol |i| in |{1,...,m}| a binary code |C{i}|\n", 
            "whose length |length(C{i})| is as close as possible to the optimal bound\n", 
            "|-log2(h(i))|, where |h(i)| is the probability of apparition of the\n", 
            "symbol |i|.\n", 
            "\n", 
            "\n", 
            "We select a set of proabilities.\n", 
            ""
          ]
        }, 
        {
          "cell_type": "code", 
          "collapsed": false, 
          "input": [
            "h = [.1 .15 .4 .15 .2]"
          ], 
          "language": "python", 
          "outputs": []
        }, 
        {
          "cell_type": "markdown", 
          "metadata": {}, 
          "source": [
            "\n", 
            "\n", 
            "The tree |T| cotainins the codes is generated by an iterative algorithm.\n", 
            "The initial \"tree\" is a collection of empty trees, pointing to the symbols numbers.\n", 
            ""
          ]
        }, 
        {
          "cell_type": "code", 
          "collapsed": false, 
          "input": [
            "m = length(h)\n", 
            "T = cell(0); % create an empty cell\n", 
            "for i in 1:m:\n", 
            "    T = cell_set(T,i,i)\n", 
            ""
          ], 
          "language": "python", 
          "outputs": []
        }, 
        {
          "cell_type": "markdown", 
          "metadata": {}, 
          "source": [
            "\n", 
            "\n", 
            "\n", 
            "We build iteratively the Huffman tree\n", 
            "by grouping together the two Trees that have the smallest probabilities.\n", 
            "The merged tree has a probability which is the sums of the two selected\n", 
            "probabilities.\n", 
            "\n", 
            "initial probability."
          ]
        }, 
        {
          "cell_type": "code", 
          "collapsed": false, 
          "input": [
            "p = h"
          ], 
          "language": "python", 
          "outputs": []
        }, 
        {
          "cell_type": "markdown", 
          "metadata": {}, 
          "source": [
            "iterative merging of the leading probabilities"
          ]
        }, 
        {
          "cell_type": "code", 
          "collapsed": false, 
          "input": [
            "while length(p)>1   \n", 
            "    % sort in decaying order the probabilities\n", 
            "    [v,I] = sort(p)\n", 
            "    if v(1)>v(length(v))\n", 
            "        v = reverse(v); I = reverse(I)\n", 
            "\n", 
            "    q = sum(v(1:2))\n", 
            "    t = cell_sub(T, I(1:2))\n", 
            "    % trimed tree\n", 
            "    T = cell_sub(T, I(3:length(I)) )\n", 
            "    p = v(3:length(v))\n", 
            "    % add a new node with the corresponding probability\n", 
            "    p(length(p)+1) = q\n", 
            "    T = cell_set(T, length(p), t)\n", 
            ""
          ], 
          "language": "python", 
          "outputs": []
        }, 
        {
          "cell_type": "markdown", 
          "metadata": {}, 
          "source": [
            "\n", 
            "\n", 
            "\n", 
            "We display the computed tree.\n", 
            ""
          ]
        }, 
        {
          "cell_type": "code", 
          "collapsed": false, 
          "input": [
            "\n", 
            "plot_hufftree(T)"
          ], 
          "language": "python", 
          "outputs": []
        }, 
        {
          "cell_type": "markdown", 
          "metadata": {}, 
          "source": [
            "\n", 
            "\n", 
            "\n", 
            "Once the tree |T| is computed, one can compute the code |C{i}|\n", 
            "associated to each symbol |i|. This requires to perform a deep first\n", 
            "search in the tree and stop at each node. This is a little tricky to\n", 
            "implement in Matlab, so you can use the function |huffman_gencode|.\n", 
            ""
          ]
        }, 
        {
          "cell_type": "code", 
          "collapsed": false, 
          "input": [
            "C = huffman_gencode(T)"
          ], 
          "language": "python", 
          "outputs": []
        }, 
        {
          "cell_type": "markdown", 
          "metadata": {}, 
          "source": [
            "display the code"
          ]
        }, 
        {
          "cell_type": "code", 
          "collapsed": false, 
          "input": [
            "for i in 1:size(C,1):\n", 
            "    disp(strcat(['Code of token ' num2str(i) ' = ' num2str( cell_get(C,i) )]))\n", 
            ""
          ], 
          "language": "python", 
          "outputs": []
        }, 
        {
          "cell_type": "markdown", 
          "metadata": {}, 
          "source": [
            "\n", 
            "\n", 
            "We draw a vector |x| according to the distribution h\n", 
            "\n", 
            "size of the signal"
          ]
        }, 
        {
          "cell_type": "code", 
          "collapsed": false, 
          "input": [
            "n = 1024"
          ], 
          "language": "python", 
          "outputs": []
        }, 
        {
          "cell_type": "markdown", 
          "metadata": {}, 
          "source": [
            "randomization"
          ]
        }, 
        {
          "cell_type": "code", 
          "collapsed": false, 
          "input": [
            "x = rand_discr(h, n)\n", 
            "x = x(:)"
          ], 
          "language": "python", 
          "outputs": []
        }, 
        {
          "cell_type": "heading", 
          "level": 3, 
          "metadata": {}, 
          "source": [
            "Exercise 1"
          ]
        }, 
        {
          "cell_type": "markdown", 
          "metadata": {}, 
          "source": [
            "\n", 
            "Implement the coding of the vector |x| to obtain a binary vector |y|, which corresponds to replacing\n", 
            "each sybmol |x(i)| by the code |C{x(i)}|.\n", 
            "\n", 
            "\n", 
            "\n", 
            ""
          ]
        }, 
        {
          "cell_type": "code", 
          "collapsed": false, 
          "input": [
            "## Insert your code here."
          ], 
          "language": "python", 
          "outputs": []
        }, 
        {
          "cell_type": "markdown", 
          "metadata": {}, 
          "source": [
            "\n", 
            "\n", 
            "\n", 
            "Compare the length of the code with the entropy bound.\n", 
            ""
          ]
        }, 
        {
          "cell_type": "code", 
          "collapsed": false, 
          "input": [
            "e = - sum( h .* log2( max(h,1e-20) ) )\n", 
            "disp( strcat(['Entropy bound = ' num2str(n*e) '.']) )\n", 
            "disp( strcat(['Huffman code  = ' num2str(length(y)) '.']) )"
          ], 
          "language": "python", 
          "outputs": []
        }, 
        {
          "cell_type": "markdown", 
          "metadata": {}, 
          "source": [
            "\n", 
            "\n", 
            "Decoding is more complicated, since it requires parsing iteratively the\n", 
            "tree |T|.\n", 
            "\n", 
            "initial pointer on the tree: on the root"
          ]
        }, 
        {
          "cell_type": "code", 
          "collapsed": false, 
          "input": [
            "t = cell_get(T,1)"
          ], 
          "language": "python", 
          "outputs": []
        }, 
        {
          "cell_type": "markdown", 
          "metadata": {}, 
          "source": [
            "initial empty decoded stream"
          ]
        }, 
        {
          "cell_type": "code", 
          "collapsed": false, 
          "input": [
            "x1 = []"
          ], 
          "language": "python", 
          "outputs": []
        }, 
        {
          "cell_type": "markdown", 
          "metadata": {}, 
          "source": [
            "initial stream buffer"
          ]
        }, 
        {
          "cell_type": "code", 
          "collapsed": false, 
          "input": [
            "y1 = y\n", 
            "while not(isempty(y1))\n", 
            "    % go down in the tree\n", 
            "    if y1(1)==0\n", 
            "        t = cell_get(t,1)\n", 
            "    else\n", 
            "        t = cell_get(t,2)\n", 
            "\n", 
            "    % remove the symbol from the stream buffer\n", 
            "    y1(1) = []\n", 
            "    if not(iscell(t))\n", 
            "        % we are on a leaf of the tree: output symbol\n", 
            "        x1 = [x1 t]\n", 
            "        t = cell_get(T,1)\n", 
            "\n", 
            "\n", 
            "x1 = x1(:)"
          ], 
          "language": "python", 
          "outputs": []
        }, 
        {
          "cell_type": "markdown", 
          "metadata": {}, 
          "source": [
            "\n", 
            "\n", 
            "We test if the decoding is correct.\n", 
            ""
          ]
        }, 
        {
          "cell_type": "code", 
          "collapsed": false, 
          "input": [
            "err = norm(x-x1)\n", 
            "disp( strcat(['Error (should be 0)=' num2str(err) '.']) )"
          ], 
          "language": "python", 
          "outputs": []
        }, 
        {
          "cell_type": "heading", 
          "level": 2, 
          "metadata": {}, 
          "source": [
            "Huffman Block Coding\n"
          ]
        }, 
        {
          "cell_type": "markdown", 
          "metadata": {}, 
          "source": [
            "A Huffman coder is inefficient because it can distribute only an integer\n", 
            "number of bit per symbol. In particular, distribution where one of the\n", 
            "symbol has a large probability are not well coded using a Huffman code.\n", 
            "This can be aleviated by replacing the set of |m| symbols by |m^q|\n", 
            "symbols obtained by packing the symbols by blocks of |q| (here we use |m=2| for a binary alphabet). This breaks\n", 
            "symbols with large probability into many symbols with smaller proablity,\n", 
            "thus approaching the Shannon entropy bound.\n", 
            "\n", 
            "\n", 
            "Generate a binary vector with a high probability of having 1, so that the\n", 
            "Huffman code is not very efficient (far from Shanon bound).\n", 
            "\n", 
            "proability of having 1"
          ]
        }, 
        {
          "cell_type": "code", 
          "collapsed": false, 
          "input": [
            "t = .12"
          ], 
          "language": "python", 
          "outputs": []
        }, 
        {
          "cell_type": "markdown", 
          "metadata": {}, 
          "source": [
            "probability distriution"
          ]
        }, 
        {
          "cell_type": "code", 
          "collapsed": false, 
          "input": [
            "h = [t; 1-t]"
          ], 
          "language": "python", 
          "outputs": []
        }, 
        {
          "cell_type": "markdown", 
          "metadata": {}, 
          "source": [
            "generate signal"
          ]
        }, 
        {
          "cell_type": "code", 
          "collapsed": false, 
          "input": [
            "n = 4096*2\n", 
            "x = (rand(n,1)>t)+1"
          ], 
          "language": "python", 
          "outputs": []
        }, 
        {
          "cell_type": "markdown", 
          "metadata": {}, 
          "source": [
            "\n", 
            "\n", 
            "\n", 
            "For block of length |q=3|, create a new vector by coding each block\n", 
            "with an integer in |1,...,m^q=2^3|. The new length of the vector is\n", 
            "|n1/q| where |n1=ceil(n/q)*q|.\n", 
            "\n", 
            "block size"
          ]
        }, 
        {
          "cell_type": "code", 
          "collapsed": false, 
          "input": [
            "q = 3"
          ], 
          "language": "python", 
          "outputs": []
        }, 
        {
          "cell_type": "markdown", 
          "metadata": {}, 
          "source": [
            "maximum token value"
          ]
        }, 
        {
          "cell_type": "code", 
          "collapsed": false, 
          "input": [
            "m = 2"
          ], 
          "language": "python", 
          "outputs": []
        }, 
        {
          "cell_type": "markdown", 
          "metadata": {}, 
          "source": [
            "new size"
          ]
        }, 
        {
          "cell_type": "code", 
          "collapsed": false, 
          "input": [
            "n1 = ceil(n/q)*q"
          ], 
          "language": "python", 
          "outputs": []
        }, 
        {
          "cell_type": "markdown", 
          "metadata": {}, 
          "source": [
            "new vector"
          ]
        }, 
        {
          "cell_type": "code", 
          "collapsed": false, 
          "input": [
            "x1 = x\n", 
            "x1(length(x1)+1:n1) = 1\n", 
            "x1 = reshape(x1,[q n1/q])\n", 
            "[Y,X] = meshgrid(1:n1/q,0:q-1)\n", 
            "x1 = sum( (x1-1) .* (m.^X), 1 )' + 1"
          ], 
          "language": "python", 
          "outputs": []
        }, 
        {
          "cell_type": "markdown", 
          "metadata": {}, 
          "source": [
            "\n", 
            "\n", 
            "We generate the probability table |H| of |x1| that represents the probability\n", 
            "of each new block symbols in |1,...,m^q|.\n", 
            ""
          ]
        }, 
        {
          "cell_type": "code", 
          "collapsed": false, 
          "input": [
            "H = h\n", 
            "for i in 1:q-1:\n", 
            "    Hold = H\n", 
            "    H = []\n", 
            "for i in 1:length(h):\n", 
            "        H = [H; Hold*h(i)]\n", 
            "\n", 
            ""
          ], 
          "language": "python", 
          "outputs": []
        }, 
        {
          "cell_type": "markdown", 
          "metadata": {}, 
          "source": [
            "\n", 
            "\n", 
            "A simpler way to compute this block-histogram is to use the Kronecker product.\n", 
            ""
          ]
        }, 
        {
          "cell_type": "code", 
          "collapsed": false, 
          "input": [
            "H = h\n", 
            "for i in 1:q-1:\n", 
            "    H = kron(H,h)\n", 
            ""
          ], 
          "language": "python", 
          "outputs": []
        }, 
        {
          "cell_type": "heading", 
          "level": 3, 
          "metadata": {}, 
          "source": [
            "Exercise 2"
          ]
        }, 
        {
          "cell_type": "markdown", 
          "metadata": {}, 
          "source": [
            "\n", 
            "For various values of block size |k|, Perform the hufman coding and compute the length of the code.\n", 
            "Compare with the entropy lower bound.\n", 
            "entropy bound\n", 
            "\n", 
            "\n", 
            "\n", 
            "\n", 
            "\n", 
            "\n", 
            "\n", 
            "\n", 
            "\n", 
            "\n", 
            "\n", 
            "\n", 
            "\n", 
            "\n", 
            "\n", 
            "\n", 
            "\n", 
            "\n", 
            "\n", 
            "\n", 
            "\n", 
            "\n", 
            "\n", 
            "\n", 
            "\n", 
            "\n", 
            "\n", 
            "\n", 
            "\n", 
            ""
          ]
        }, 
        {
          "cell_type": "code", 
          "collapsed": false, 
          "input": [
            "## Insert your code here."
          ], 
          "language": "python", 
          "outputs": []
        }, 
        {
          "cell_type": "markdown", 
          "metadata": {}, 
          "source": [
            "\n", 
            ""
          ]
        }, 
        {
          "cell_type": "heading", 
          "level": 2, 
          "metadata": {}, 
          "source": [
            "Arithmetic Coding\n"
          ]
        }, 
        {
          "cell_type": "markdown", 
          "metadata": {}, 
          "source": [
            "A block coder is able to reach the Shannon bound, but requires the use of\n", 
            "many symbols, thus making the coding process slow and memory intensive.\n", 
            "A better alternative is the use of an arithmetic coder, that encode a\n", 
            "stream using an interval.\n", 
            "\n", 
            "\n", 
            "Note : for this particular implementation of\n", 
            "an arithmetic coder, the entries of this binary stream are packed by group of 8 bits so\n", 
            "that each |y(i)| is in [0,255].\n", 
            "\n", 
            "\n", 
            "Generate a random binary signal.\n", 
            "\n", 
            "probability of 0"
          ]
        }, 
        {
          "cell_type": "code", 
          "collapsed": false, 
          "input": [
            "p = 0.1"
          ], 
          "language": "python", 
          "outputs": []
        }, 
        {
          "cell_type": "markdown", 
          "metadata": {}, 
          "source": [
            "size"
          ]
        }, 
        {
          "cell_type": "code", 
          "collapsed": false, 
          "input": [
            "n = 512"
          ], 
          "language": "python", 
          "outputs": []
        }, 
        {
          "cell_type": "markdown", 
          "metadata": {}, 
          "source": [
            "signal, should be with token 1,2"
          ]
        }, 
        {
          "cell_type": "code", 
          "collapsed": false, 
          "input": [
            "x = (rand(n,1)>p)+1"
          ], 
          "language": "python", 
          "outputs": []
        }, 
        {
          "cell_type": "markdown", 
          "metadata": {}, 
          "source": [
            "\n", 
            "\n", 
            "The coding is performed using the function |perform_arith_fixed|.\n", 
            "\n", 
            "probability distribution"
          ]
        }, 
        {
          "cell_type": "code", 
          "collapsed": false, 
          "input": [
            "h = [p 1-p]"
          ], 
          "language": "python", 
          "outputs": []
        }, 
        {
          "cell_type": "markdown", 
          "metadata": {}, 
          "source": [
            "coding"
          ]
        }, 
        {
          "cell_type": "code", 
          "collapsed": false, 
          "input": [
            "y = perform_arith_fixed(x,h)"
          ], 
          "language": "python", 
          "outputs": []
        }, 
        {
          "cell_type": "markdown", 
          "metadata": {}, 
          "source": [
            "de-coding"
          ]
        }, 
        {
          "cell_type": "code", 
          "collapsed": false, 
          "input": [
            "x1 = perform_arith_fixed(y,h,n)"
          ], 
          "language": "python", 
          "outputs": []
        }, 
        {
          "cell_type": "markdown", 
          "metadata": {}, 
          "source": [
            "see if everything is fine"
          ]
        }, 
        {
          "cell_type": "code", 
          "collapsed": false, 
          "input": [
            "disp(strcat(['Decoding error (should be 0)=' num2str(norm(x-x1)) '.']))"
          ], 
          "language": "python", 
          "outputs": []
        }, 
        {
          "cell_type": "heading", 
          "level": 3, 
          "metadata": {}, 
          "source": [
            "Exercise 3"
          ]
        }, 
        {
          "cell_type": "markdown", 
          "metadata": {}, 
          "source": [
            "\n", 
            "Compare the average number of bits per symbol generated by the arithmetic coder\n", 
            "and the Shanon bound.\n", 
            "\n", 
            "\n", 
            "comparison with entropy bound\n", 
            "\n", 
            ""
          ]
        }, 
        {
          "cell_type": "code", 
          "collapsed": false, 
          "input": [
            "## Insert your code here."
          ], 
          "language": "python", 
          "outputs": []
        }, 
        {
          "cell_type": "markdown", 
          "metadata": {}, 
          "source": [
            "\n", 
            "\n", 
            "\n", 
            "We can generate a more complex integer signal\n", 
            ""
          ]
        }, 
        {
          "cell_type": "code", 
          "collapsed": false, 
          "input": [
            "n = 4096"
          ], 
          "language": "python", 
          "outputs": []
        }, 
        {
          "cell_type": "markdown", 
          "metadata": {}, 
          "source": [
            "this is an example of probability distribution"
          ]
        }, 
        {
          "cell_type": "code", 
          "collapsed": false, 
          "input": [
            "q = 10\n", 
            "h = 1:q; h = h/sum(h)"
          ], 
          "language": "python", 
          "outputs": []
        }, 
        {
          "cell_type": "markdown", 
          "metadata": {}, 
          "source": [
            "draw according to the distribution h"
          ]
        }, 
        {
          "cell_type": "code", 
          "collapsed": false, 
          "input": [
            "x = rand_discr(h, n)"
          ], 
          "language": "python", 
          "outputs": []
        }, 
        {
          "cell_type": "markdown", 
          "metadata": {}, 
          "source": [
            "check we have the correct distribution"
          ]
        }, 
        {
          "cell_type": "code", 
          "collapsed": false, 
          "input": [
            "h1 = hist(x, 1:q)/n\n", 
            "\n", 
            "subplot(2,1,1)\n", 
            "bar(h); axis('tight')\n", 
            "set_graphic_sizes([], 20)\n", 
            "title('True distribution')\n", 
            "subplot(2,1,2)\n", 
            "bar(h1); axis('tight')\n", 
            "set_graphic_sizes([], 20)\n", 
            "title('Empirical distribution')"
          ], 
          "language": "python", 
          "outputs": []
        }, 
        {
          "cell_type": "heading", 
          "level": 3, 
          "metadata": {}, 
          "source": [
            "Exercise 4"
          ]
        }, 
        {
          "cell_type": "markdown", 
          "metadata": {}, 
          "source": [
            "\n", 
            "Encode a signal with an increasing size |n|, and check how close the\n", 
            "generated signal coding rate |length(y)/n| becomes close to the optimal\n", 
            "Shannon bound.\n", 
            "\n", 
            "compute the differencial of coding for a varying length signal\n", 
            "\n", 
            "\n", 
            "\n", 
            "\n", 
            "\n", 
            "\n", 
            "\n", 
            "\n", 
            "\n", 
            "\n", 
            "\n", 
            "\n", 
            "\n", 
            ""
          ]
        }, 
        {
          "cell_type": "code", 
          "collapsed": false, 
          "input": [
            "## Insert your code here."
          ], 
          "language": "python", 
          "outputs": []
        }
      ]
    }
  ]
}