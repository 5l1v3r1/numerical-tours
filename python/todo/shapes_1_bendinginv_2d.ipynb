{
  "metadata": {
    "name": ""
  }, 
  "nbformat": 3, 
  "nbformat_minor": 0, 
  "worksheets": [
    {
      "cells": [
        {
          "cell_type": "heading", 
          "level": 1, 
          "metadata": {}, 
          "source": [
            "Geodesic Bending Invariants for Shapes"
          ]
        }, 
        {
          "cell_type": "markdown", 
          "metadata": {}, 
          "source": [
            "This tour explores the computation of bending invariants of shapes.\n", 
            ""
          ]
        }, 
        {
          "cell_type": "markdown", 
          "metadata": {}, 
          "source": [
            "*Important:* You need to download the file `nt_toolbox.py` from the \n", 
            "root of the github repository.\n", 
            "$\\newcommand{\\dotp}[2]{\\langle #1, #2 \\rangle}\n", 
            "\\newcommand{\\enscond}[2]{\\lbrace #1, #2 \\rbrace}\n", 
            "\\newcommand{\\pd}[2]{ \\frac{ \\partial #1}{\\partial #2} }\n", 
            "\\newcommand{\\umin}[1]{\\underset{#1}{\\min}\\;}\n", 
            "\\newcommand{\\norm}[1]{\\|#1\\|}\n", 
            "\\newcommand{\\abs}[1]{\\left|#1\\right|}\n", 
            "\\newcommand{\\choice}[1]{ \\left\\{  \\begin{array}{l} #1 \\end{array} \\right. }\n", 
            "\\newcommand{\\pa}[1]{\\left(#1\\right)}\n", 
            "\\newcommand{\\qandq}{\\quad\\text{and}\\quad}\n", 
            "\\newcommand{\\qwhereq}{\\quad\\text{where}\\quad}\n", 
            "\\newcommand{\\qifq}{ \\quad \\text{if} \\quad }\n", 
            "\\newcommand{\\qarrq}{ \\quad \\Longrightarrow \\quad }\n", 
            "\\newcommand{\\ZZ}{\\mathbb{Z}}\n", 
            "\\newcommand{\\RR}{\\mathbb{R}}\n", 
            "\\newcommand{\\Nn}{\\mathcal{N}}\n", 
            "\\newcommand{\\Hh}{\\mathcal{H}}\n", 
            "\\newcommand{\\Bb}{\\mathcal{B}}\n", 
            "\\newcommand{\\EE}{\\mathbb{E}}\n", 
            "\\newcommand{\\CC}{\\mathbb{C}}\n", 
            "\\newcommand{\\si}{\\sigma}\n", 
            "\\newcommand{\\al}{\\alpha}\n", 
            "\\newcommand{\\la}{\\lambda}\n", 
            "\\newcommand{\\ga}{\\gamma}\n", 
            "\\newcommand{\\Ga}{\\Gamma}\n", 
            "\\newcommand{\\La}{\\Lambda}\n", 
            "\\newcommand{\\si}{\\sigma}\n", 
            "\\newcommand{\\Si}{\\Sigma}\n", 
            "\\newcommand{\\be}{\\beta}\n", 
            "\\newcommand{\\de}{\\delta}\n", 
            "\\newcommand{\\De}{\\Delta}\n", 
            "\\renewcommand{\\phi}{\\varphi}\n", 
            "\\renewcommand{\\th}{\\theta}\n", 
            "\\newcommand{\\om}{\\omega}\n", 
            "\\newcommand{\\Om}{\\Omega}\n", 
            "$"
          ]
        }, 
        {
          "cell_type": "code", 
          "collapsed": false, 
          "input": [
            "from nt_toolbox import *", 
            "%matplotlib inline", 
            "%load_ext autoreload", 
            "%autoreload 2"
          ], 
          "language": "python", 
          "outputs": []
        }, 
        {
          "cell_type": "markdown", 
          "metadata": {}, 
          "source": [
            "\n", 
            "CMT"
          ]
        }, 
        {
          "cell_type": "code", 
          "collapsed": false, 
          "input": [
            "rep = 'results/fastmarching_bendinginv_2d/'\n", 
            "if not(exist(rep))\n", 
            "    mkdir(rep)\n", 
            ""
          ], 
          "language": "python", 
          "outputs": []
        }, 
        {
          "cell_type": "markdown", 
          "metadata": {}, 
          "source": [
            "CMT\n", 
            ""
          ]
        }, 
        {
          "cell_type": "heading", 
          "level": 2, 
          "metadata": {}, 
          "source": [
            "Bending Invariants\n"
          ]
        }, 
        {
          "cell_type": "markdown", 
          "metadata": {}, 
          "source": [
            "Bending invariants replace the position of the vertices in a shape $\\Ss$ (2-D or 3-D)\n", 
            "by new positions that are insensitive to isometric deformation of the shape.\n", 
            "This defines a bending invariant signature that can be used for surface\n", 
            "matching.\n", 
            "\n", 
            "\n", 
            "Bending invariant were introduced in <#biblio [EladKim03]>.\n", 
            "A related method was developped for brain flattening in <#biblio [SchwShWolf89]>.\n", 
            "This method is related to the Isomap algorithm for manifold learning\n", 
            "<#biblio [TenSolvLang03]>.\n", 
            "\n", 
            "\n", 
            "We assume that $Ss$ has some Riemannian metric, for instance coming\n", 
            "from the embedding of a surface in 3-D Euclidian space, or by restriction of\n", 
            "the Euclian 2-D space to a 2-D sub-domain (planar shape). One thus can\n", 
            "compute the geodesic distance $d(x,x')$ between points $x,x' \\in\n", 
            "\\Ss$.\n", 
            "\n", 
            "\n", 
            "The bending invariant $\\tilde \\Ss$ of $\\Ss$ is defined as the set of\n", 
            "points $Y = (y_i)_j \\subset \\RR^d$ that are optimized so that the Euclidean\n", 
            "distance between points in $Y$ matches as closely the geodesic distance\n", 
            "between points in $X$, i.e.\n", 
            "$$ \\forall i, j, \\quad \\norm{y_i-y_j} \\approx d(x_i,x_j) $$\n", 
            "\n", 
            "\n", 
            "Multi-dimensional scaling (MDS) is a class of method that aims at\n", 
            "computing such a set of points $Y \\in \\RR^{d \\times N}$ in $\\RR^d$\n", 
            "such that\n", 
            "$$ \\forall i, j, \\quad \\norm{y_i-y_j} \\approx \\de_{i,j} $$\n", 
            "where $\\de \\in \\RR^{N \\times N}$ is a input data matrix.\n", 
            "For a detailed overview of MDS, we refer to the book <#biblio [BorgGroe97]>\n", 
            "\n", 
            "\n", 
            "In this tour, we apply two specific MDS algorithms (strain and stress\n", 
            "minimization) with input $\\de_{i,j} = d(x_i,x_j)$.\n", 
            ""
          ]
        }, 
        {
          "cell_type": "heading", 
          "level": 2, 
          "metadata": {}, 
          "source": [
            "2-D Shapes\n"
          ]
        }, 
        {
          "cell_type": "markdown", 
          "metadata": {}, 
          "source": [
            "We consider here the case where $\\Ss$ is a sub-domain of $\\RR^2$.\n", 
            "\n", 
            "\n", 
            "A binary shape $\\Ss$ is represented as a binary image $S \\in \\RR^Q$\n", 
            "of $Q=q \\times q$ pixels.\n", 
            ""
          ]
        }, 
        {
          "cell_type": "code", 
          "collapsed": false, 
          "input": [
            "clear options\n", 
            "q = 400\n", 
            "name = 'centaur1'\n", 
            "S = load_image(name,q)\n", 
            "S = perform_blurring(S,5)\n", 
            "S = double( rescale( S )>.5 )\n", 
            "if S(1)==1 \n", 
            "    S = 1-S\n", 
            ""
          ], 
          "language": "python", 
          "outputs": []
        }, 
        {
          "cell_type": "markdown", 
          "metadata": {}, 
          "source": [
            "\n", 
            "\n", 
            "Compute its boundary $b = (b_i)_{i=1}^L \\in \\RR^{2 \\times L}$.\n", 
            ""
          ]
        }, 
        {
          "cell_type": "code", 
          "collapsed": false, 
          "input": [
            "b = compute_shape_boundary(S)\n", 
            "L = size(b,2)"
          ], 
          "language": "python", 
          "outputs": []
        }, 
        {
          "cell_type": "markdown", 
          "metadata": {}, 
          "source": [
            "\n", 
            "\n", 
            "Display the shape.\n", 
            ""
          ]
        }, 
        {
          "cell_type": "code", 
          "collapsed": false, 
          "input": [
            "lw = 2\n", 
            "clf; hold on\n", 
            "imageplot(-S)\n", 
            "plot(b(2,:), b(1,:), 'r', 'LineWidth', lw); axis ij"
          ], 
          "language": "python", 
          "outputs": []
        }, 
        {
          "cell_type": "markdown", 
          "metadata": {}, 
          "source": [
            "\n", 
            ""
          ]
        }, 
        {
          "cell_type": "heading", 
          "level": 2, 
          "metadata": {}, 
          "source": [
            "Geodesic Distance\n"
          ]
        }, 
        {
          "cell_type": "markdown", 
          "metadata": {}, 
          "source": [
            "We consider the geodesic distance obtained by contraining the shortest\n", 
            "curve to be inside $\\Ss$\n", 
            "$$ d(x,x') = \\umin{ \\ga } \\int_0^1 \\abs{\\ga'(t)} d t, $$\n", 
            "where $\\ga$ should satisfy\n", 
            "$$ \\ga(0)=x, \\quad \\ga(1)=x' \\qandq \\forall t \\in [0,1], \\: \\ga(t) \\in \\Ss. $$\n", 
            "\n", 
            "\n", 
            "The geodesic distance map $U(x) = d(x,x_0)$ to a starting point $x_0$\n", 
            "can be computed in $O(q^2 \\log(q))$ operations on a grid of $q \\times\n", 
            "q$ points using the Fast Marching algorithm.\n", 
            "\n", 
            "\n", 
            "\n", 
            "Design a constraint map for the Fast-Marching, to enforce the propagation\n", 
            "inside the shape.\n", 
            ""
          ]
        }, 
        {
          "cell_type": "code", 
          "collapsed": false, 
          "input": [
            "S1 = perform_convolution(S, ones(3)/9)<.01; S1=double(S1==0)\n", 
            "C = zeros(q)-Inf; C(S1==1) = +Inf\n", 
            "options.constraint_map = C"
          ], 
          "language": "python", 
          "outputs": []
        }, 
        {
          "cell_type": "markdown", 
          "metadata": {}, 
          "source": [
            "\n", 
            "\n", 
            "Shortcut to compute the geodesic distance to some point $x$.\n", 
            ""
          ]
        }, 
        {
          "cell_type": "code", 
          "collapsed": false, 
          "input": [
            "geod = lambda x: perform_fast_marching(ones(q), x, options)"
          ], 
          "language": "python", 
          "outputs": []
        }, 
        {
          "cell_type": "markdown", 
          "metadata": {}, 
          "source": [
            "\n", 
            "\n", 
            "Compute the geodesic distance to a point $x$\n", 
            ""
          ]
        }, 
        {
          "cell_type": "code", 
          "collapsed": false, 
          "input": [
            "x = [263; 55]\n", 
            "options.nb_iter_max = Inf\n", 
            "U = geod(x)"
          ], 
          "language": "python", 
          "outputs": []
        }, 
        {
          "cell_type": "markdown", 
          "metadata": {}, 
          "source": [
            "\n", 
            "\n", 
            "Display the distance and geodesic curves.\n", 
            ""
          ]
        }, 
        {
          "cell_type": "code", 
          "collapsed": false, 
          "input": [
            "\n", 
            "options.display_levelsets = 1\n", 
            "options.pstart = x\n", 
            "options.nbr_levelsets = 60\n", 
            "U(S==0) = Inf\n", 
            "display_shape_function(U, options)"
          ], 
          "language": "python", 
          "outputs": []
        }, 
        {
          "cell_type": "heading", 
          "level": 3, 
          "metadata": {}, 
          "source": [
            "Exercise 1"
          ]
        }, 
        {
          "cell_type": "markdown", 
          "metadata": {}, 
          "source": [
            "\n", 
            "Compute curves joining the start point to several points along the\n", 
            "boundary.\n", 
            "\n", 
            "\n", 
            "\n", 
            "\n", 
            "\n", 
            "\n", 
            "\n", 
            "\n", 
            "\n", 
            "\n", 
            "\n", 
            "\n", 
            "\n", 
            ""
          ]
        }, 
        {
          "cell_type": "code", 
          "collapsed": false, 
          "input": [
            "## Insert your code here."
          ], 
          "language": "python", 
          "outputs": []
        }, 
        {
          "cell_type": "markdown", 
          "metadata": {}, 
          "source": [
            "\n", 
            ""
          ]
        }, 
        {
          "cell_type": "heading", 
          "level": 2, 
          "metadata": {}, 
          "source": [
            "Geodesic Distance Matrix\n"
          ]
        }, 
        {
          "cell_type": "markdown", 
          "metadata": {}, 
          "source": [
            "We define a set $X = (x_i)_{i=1}^n \\in \\RR^{2 \\times N} \\subset \\Ss$\n", 
            "of sampling points.\n", 
            "\n", 
            "\n", 
            "Total number $N$ of sampling points.\n", 
            ""
          ]
        }, 
        {
          "cell_type": "code", 
          "collapsed": false, 
          "input": [
            "N = 1000"
          ], 
          "language": "python", 
          "outputs": []
        }, 
        {
          "cell_type": "markdown", 
          "metadata": {}, 
          "source": [
            "\n", 
            "\n", 
            "The sampling is made of $N_0$ points on the boundary $b$,\n", 
            "and $N-N_0$ points inside the shape $\\Ss$.\n", 
            "\n", 
            "\n", 
            "Number of points on the boundary.\n", 
            ""
          ]
        }, 
        {
          "cell_type": "code", 
          "collapsed": false, 
          "input": [
            "N0 = round(.4*N)"
          ], 
          "language": "python", 
          "outputs": []
        }, 
        {
          "cell_type": "markdown", 
          "metadata": {}, 
          "source": [
            "\n", 
            "\n", 
            "Sampling on the boundary.\n", 
            ""
          ]
        }, 
        {
          "cell_type": "code", 
          "collapsed": false, 
          "input": [
            "I = round(linspace(1,L+1,N0+1))\n", 
            "X = round(b(:,I(1:end-1)))"
          ], 
          "language": "python", 
          "outputs": []
        }, 
        {
          "cell_type": "markdown", 
          "metadata": {}, 
          "source": [
            "\n", 
            "\n", 
            "Add $N-N_0$ points inside the shape.\n", 
            ""
          ]
        }, 
        {
          "cell_type": "code", 
          "collapsed": false, 
          "input": [
            "[y,x] = meshgrid(1:q,1:q)\n", 
            "I = find(S==1)\n", 
            "I = I(randperm(length(I))); I = I(1:N-N0)\n", 
            "X(:,end+1:N) = [x(I),y(I)]'"
          ], 
          "language": "python", 
          "outputs": []
        }, 
        {
          "cell_type": "markdown", 
          "metadata": {}, 
          "source": [
            "\n", 
            "\n", 
            "Display the sampling points.\n", 
            ""
          ]
        }, 
        {
          "cell_type": "code", 
          "collapsed": false, 
          "input": [
            "clf; hold on\n", 
            "imageplot(1-S)\n", 
            "plot(X(2,:), X(1,:), 'r.', 'MarkerSize', 15)\n", 
            "axis('ij')"
          ], 
          "language": "python", 
          "outputs": []
        }, 
        {
          "cell_type": "markdown", 
          "metadata": {}, 
          "source": [
            "\n", 
            "\n", 
            "The geodesic distance matrix $\\de \\in \\RR^{N \\times N}$ is defined as\n", 
            "$$ \\forall i,j=1,\\ldots,N, \\quad\n", 
            "      \\de_{i,j} = d(x_i,x_j). $$\n", 
            ""
          ]
        }, 
        {
          "cell_type": "heading", 
          "level": 3, 
          "metadata": {}, 
          "source": [
            "Exercise 2"
          ]
        }, 
        {
          "cell_type": "markdown", 
          "metadata": {}, 
          "source": [
            "\n", 
            "Compute the geodesic distance matrix $\\de$.\n", 
            "\n", 
            "\n", 
            "\n", 
            "\n", 
            "\n", 
            "\n", 
            ""
          ]
        }, 
        {
          "cell_type": "code", 
          "collapsed": false, 
          "input": [
            "## Insert your code here."
          ], 
          "language": "python", 
          "outputs": []
        }, 
        {
          "cell_type": "markdown", 
          "metadata": {}, 
          "source": [
            "\n", 
            "\n", 
            "\n", 
            "\n", 
            "Display the geodesic matrix for $1 \\leq i,j \\leq N_0$\n", 
            "(points along the boundary $b$).\n", 
            ""
          ]
        }, 
        {
          "cell_type": "code", 
          "collapsed": false, 
          "input": [
            "\n", 
            "imageplot(delta(1:N0,1:N0))\n", 
            "colormap(jet(256))"
          ], 
          "language": "python", 
          "outputs": []
        }, 
        {
          "cell_type": "heading", 
          "level": 2, 
          "metadata": {}, 
          "source": [
            "Bending Invariant with Strain Minimization\n"
          ]
        }, 
        {
          "cell_type": "markdown", 
          "metadata": {}, 
          "source": [
            "The goal is to compute a set of points $Y = (y_i)_{i=1}^N$ in\n", 
            "$\\RR^d$, (here we use $d=2$) stored in a matrix $Y \\in \\RR^{d \\times N}$\n", 
            "such that\n", 
            "$$ \\forall i, j, \\quad D^2(Y)_{i,j} \\approx \\de_{i,j}^2\n", 
            "  \\qwhereq  D^2(Y)_{i,j} = \\norm{y_i-y_j}^2. $$\n", 
            "\n", 
            "\n", 
            "This can be achieved by minimzing a $L^2$ loss\n", 
            "$$ \\umin{Y} \\norm{ D^2(Y)-\\de^2 }^2 =\n", 
            "      \\sum_{i<j} \\abs{ \\norm{y_i-y_j}^2 - \\de_{i,j}^2 }^2. $$\n", 
            "\n", 
            "\n", 
            "Strain minimization consider instead the following weighted $L^2$ loss\n", 
            "(so-called strain)\n", 
            "$$ \\umin{Y \\in \\RR^{d \\times N} } \\text{Strain}(Y)\n", 
            "      = \\norm{ J ( D^2(Y)-\\de^2 ) J }^2\n", 
            "$$\n", 
            "where $J$ is the so-called centering matrix\n", 
            "$$ J_{i,j} =\n", 
            "      \\choice{\n", 
            "          1-1/N \\qifq i=j, \\\\\n", 
            "          -1/N \\qifq i \\neq j.\n", 
            " }$$\n", 
            ""
          ]
        }, 
        {
          "cell_type": "code", 
          "collapsed": false, 
          "input": [
            "J = eye(N) - ones(N)/N"
          ], 
          "language": "python", 
          "outputs": []
        }, 
        {
          "cell_type": "markdown", 
          "metadata": {}, 
          "source": [
            "\n", 
            "\n", 
            "Using the properties of squared-distance matrices $D^2(Y)$, one can\n", 
            "show that\n", 
            "$$ \\norm{ J ( D^2(Y)-\\de^2 ) J }^2 =\n", 
            "  \\norm{ Y Y^* - K }^2\n", 
            "  \\qwhereq K = - \\frac{1}{2} J \\de^2 J. $$\n", 
            ""
          ]
        }, 
        {
          "cell_type": "code", 
          "collapsed": false, 
          "input": [
            "K = -1/2 * J*(delta.^2)*J"
          ], 
          "language": "python", 
          "outputs": []
        }, 
        {
          "cell_type": "markdown", 
          "metadata": {}, 
          "source": [
            "\n", 
            "\n", 
            "The solution to this (non-convex) optimization problem can be computed\n", 
            "exactly as the rows of $Y$ being the two leading eigenvectors of $K$\n", 
            "propery rescaled.\n", 
            ""
          ]
        }, 
        {
          "cell_type": "code", 
          "collapsed": false, 
          "input": [
            "opt.disp = 0\n", 
            "[Y, v] = eigs(K, 2, 'LR', opt)\n", 
            "Y = Y .* repmat(sqrt(diag(v))', [N 1])\n", 
            "Y = Y'"
          ], 
          "language": "python", 
          "outputs": []
        }, 
        {
          "cell_type": "markdown", 
          "metadata": {}, 
          "source": [
            "\n", 
            "\n", 
            "Extract the boundary part of the mapped data.\n", 
            "Rotate the shape if necessary.\n", 
            ""
          ]
        }, 
        {
          "cell_type": "code", 
          "collapsed": false, 
          "input": [
            "theta = -.8*pi\n", 
            "uv = Y(:,1:N0)\n", 
            "uv = [cos(theta)*uv(1,:) + sin(theta)*uv(2,:); - sin(theta)*uv(1,:) + cos(theta)*uv(2,:)]"
          ], 
          "language": "python", 
          "outputs": []
        }, 
        {
          "cell_type": "markdown", 
          "metadata": {}, 
          "source": [
            "\n", 
            "\n", 
            "Display the bending invariant boundary.\n", 
            ""
          ]
        }, 
        {
          "cell_type": "code", 
          "collapsed": false, 
          "input": [
            "\n", 
            "h = plot(uv(2,:), uv(1,:))\n", 
            "axis('ij'); axis('equal'); axis('off')\n", 
            "set(h, 'LineWidth', lw)"
          ], 
          "language": "python", 
          "outputs": []
        }, 
        {
          "cell_type": "markdown", 
          "metadata": {}, 
          "source": [
            "\n", 
            "CMT"
          ]
        }, 
        {
          "cell_type": "code", 
          "collapsed": false, 
          "input": [
            "\n", 
            "h = plot(X(2,[1:N0 1]), X(1,[1:N0 1]), 'k')\n", 
            "axis('equal'); axis('off'); axis('ij')\n", 
            "set(h, 'LineWidth', 2)\n", 
            "saveas(gcf, [rep 'shape-original.eps'], 'eps')\n", 
            "d = sqrt(sum(uv.^2)); I = find(d<=1.5*mean(d))\n", 
            "\n", 
            "h = plot(uv(2,I), uv(1,I), 'k')\n", 
            "axis('equal'); axis('off'); axis('ij')\n", 
            "set(h, 'LineWidth', 2)\n", 
            "saveas(gcf, [rep 'shape-strain.eps'], 'eps')"
          ], 
          "language": "python", 
          "outputs": []
        }, 
        {
          "cell_type": "markdown", 
          "metadata": {}, 
          "source": [
            "CMT\n", 
            "\n", 
            ""
          ]
        }, 
        {
          "cell_type": "heading", 
          "level": 2, 
          "metadata": {}, 
          "source": [
            "Bending Invariant with Stress Minimization\n"
          ]
        }, 
        {
          "cell_type": "markdown", 
          "metadata": {}, 
          "source": [
            "The stress functional does not have geometrical meaning.\n", 
            "An alternative MDS method directly minimizes a geometric loss, the\n", 
            "so-called Stress\n", 
            "$$ \\umin{Y \\in \\RR^{d \\times N} } \\text{Stress}(Y) =\n", 
            "      \\norm{ D(Y)-\\de }^2 =\n", 
            "      \\sum_{i<j} \\abs{ \\norm{y_i-y_j} - \\de_{i,j} }^2.\n", 
            " $$\n", 
            "It is possible to find a local minimizer of this energy by various\n", 
            "descent algorithms, as initially proposed by <#biblio [Kruskal64]>\n", 
            ""
          ]
        }, 
        {
          "cell_type": "code", 
          "collapsed": false, 
          "input": [
            "Stress = lambda d: sqrt( sum( abs(delta(:)-d(:)).^2 ) / N^2 )"
          ], 
          "language": "python", 
          "outputs": []
        }, 
        {
          "cell_type": "markdown", 
          "metadata": {}, 
          "source": [
            "\n", 
            "\n", 
            "Operator to compute the distance matrix $D(Y)$.\n", 
            ""
          ]
        }, 
        {
          "cell_type": "code", 
          "collapsed": false, 
          "input": [
            "D = lambda Y: sqrt( repmat(sum(Y.^2),N,1) + repmat(sum(Y.^2),N,1)' - 2*Y'*Y)"
          ], 
          "language": "python", 
          "outputs": []
        }, 
        {
          "cell_type": "markdown", 
          "metadata": {}, 
          "source": [
            "\n", 
            "\n", 
            "The SMACOF (Scaling by majorizing a convex function) algorithm\n", 
            "solves at each iterations a quadratic energy, that is guaranteed to\n", 
            "diminish the value of the Strain. It was introduced by <#biblio [Leeuw77]>\n", 
            "\n", 
            "\n", 
            "It computes iterates $X^{(\\ell)}$ as\n", 
            "$$ X^{(\\ell+1)} = \\frac{1}{N} X^{(\\ell)} B(D(X^{(\\ell)}))^*,  $$\n", 
            "where\n", 
            "$$ B(D) = \\choice{\n", 
            "         -\\frac{\\de_{i,j}}{D_{i,j}} \\qifq i \\neq j, \\\\\n", 
            "         -\\sum_{k} B(D)_{i,k} \\qifq i = j.\n", 
            "} $$\n", 
            "\n", 
            "\n", 
            "Initialize the positions for the algorithm.\n", 
            ""
          ]
        }, 
        {
          "cell_type": "code", 
          "collapsed": false, 
          "input": [
            "Y = X/q"
          ], 
          "language": "python", 
          "outputs": []
        }, 
        {
          "cell_type": "markdown", 
          "metadata": {}, 
          "source": [
            "\n", 
            "\n", 
            "Operator $B$.\n", 
            ""
          ]
        }, 
        {
          "cell_type": "code", 
          "collapsed": false, 
          "input": [
            "remove_diag = lambda b: b - diag(sum(b))\n", 
            "B = lambda D1: remove_diag( -delta./max(D1,1e-10) )"
          ], 
          "language": "python", 
          "outputs": []
        }, 
        {
          "cell_type": "markdown", 
          "metadata": {}, 
          "source": [
            "\n", 
            "\n", 
            "Update the positions.\n", 
            ""
          ]
        }, 
        {
          "cell_type": "code", 
          "collapsed": false, 
          "input": [
            "Y = Y * B(D(Y))' / N"
          ], 
          "language": "python", 
          "outputs": []
        }, 
        {
          "cell_type": "heading", 
          "level": 3, 
          "metadata": {}, 
          "source": [
            "Exercise 3"
          ]
        }, 
        {
          "cell_type": "markdown", 
          "metadata": {}, 
          "source": [
            "\n", 
            "Perform the SMACOF iterative algorithm.\n", 
            "Save in a variable |s(l)| the values of\n", 
            "Stress$( X^{(\\ell)} )$.\n", 
            "\n", 
            "\n", 
            "\n", 
            "\n", 
            "\n", 
            "\n", 
            "\n", 
            "\n", 
            "\n", 
            "\n", 
            "\n", 
            "\n", 
            "\n", 
            "\n", 
            "\n", 
            "\n", 
            "\n", 
            "\n", 
            "\n", 
            "\n", 
            ""
          ]
        }, 
        {
          "cell_type": "code", 
          "collapsed": false, 
          "input": [
            "## Insert your code here."
          ], 
          "language": "python", 
          "outputs": []
        }, 
        {
          "cell_type": "markdown", 
          "metadata": {}, 
          "source": [
            "\n", 
            "\n", 
            "CMT"
          ]
        }, 
        {
          "cell_type": "code", 
          "collapsed": false, 
          "input": [
            "niter = 50\n", 
            "stress = []\n", 
            "Y = X/q\n", 
            "ndisp = [1 5 10 niter Inf]\n", 
            "k =1\n", 
            "Y = Y-repmat(mean(Y,2), [1 N])\n", 
            "\n", 
            "h = plot(Y(2,[1:N0 1]), Y(1,[1:N0 1]), 'k')\n", 
            "axis('equal'); axis('off'); axis('ij')\n", 
            "set(h, 'LineWidth', 2)\n", 
            "saveas(gcf, [rep 'shape-smacof-' num2str(0) '.eps'], 'eps')\n", 
            "for i in 1:niter:\n", 
            "    % Compute the distance matrix.\n", 
            "    D1 = repmat(sum(Y.^2,1),N,1)\n", 
            "    D1 = sqrt(D1 + D1' - 2*Y'*Y)\n", 
            "    % Compute the scaling matrix.\n", 
            "    B = -delta./max(D1,1e-10)\n", 
            "    B = B - diag(sum(B))\n", 
            "    % update\n", 
            "    Y = (J*(B*Y'))' / N\n", 
            "    Y = Y-repmat(mean(Y,2), [1 N])\n", 
            "    % record stress\n", 
            "    stress(end+1) = sqrt( sum( abs(delta(:)-D1(:)).^2 ) / N^2 )\n", 
            "    if ndisp(k)==i\n", 
            "\n", 
            "        h = plot(Y(2,[1:N0 1]), Y(1,[1:N0 1]), 'k')\n", 
            "        axis('equal'); axis('off'); axis('ij')\n", 
            "        set(h, 'LineWidth', 2)\n", 
            "        saveas(gcf, [rep 'shape-smacof-' num2str(k) '.eps'], 'eps')\n", 
            "        k = k+1\n", 
            "\n", 
            ""
          ], 
          "language": "python", 
          "outputs": []
        }, 
        {
          "cell_type": "markdown", 
          "metadata": {}, 
          "source": [
            "CMT\n", 
            "\n", 
            "\n", 
            "Plot stress evolution during minimization.\n", 
            ""
          ]
        }, 
        {
          "cell_type": "code", 
          "collapsed": false, 
          "input": [
            "\n", 
            "plot(s, '.-', 'LineWidth', 2, 'MarkerSize', 20)\n", 
            "axis('tight')"
          ], 
          "language": "python", 
          "outputs": []
        }, 
        {
          "cell_type": "markdown", 
          "metadata": {}, 
          "source": [
            "\n", 
            "\n", 
            "Plot the optimized invariant shape.\n", 
            ""
          ]
        }, 
        {
          "cell_type": "code", 
          "collapsed": false, 
          "input": [
            "\n", 
            "h = plot(Y(2,[1:N0 1]), Y(1,[1:N0 1]))\n", 
            "axis('ij'); axis('equal'); axis('off')\n", 
            "set(h, 'LineWidth', lw)"
          ], 
          "language": "python", 
          "outputs": []
        }, 
        {
          "cell_type": "markdown", 
          "metadata": {}, 
          "source": [
            "\n", 
            ""
          ]
        }, 
        {
          "cell_type": "heading", 
          "level": 2, 
          "metadata": {}, 
          "source": [
            "Shape Retrieval with Bending Invariant.\n"
          ]
        }, 
        {
          "cell_type": "markdown", 
          "metadata": {}, 
          "source": [
            "One can compute a bending invariant signature for each shape in a library\n", 
            "of images.\n", 
            "\n", 
            "\n", 
            "Isometry-invariant retrival is then perform by matching the invariant\n", 
            "signature.\n", 
            ""
          ]
        }, 
        {
          "cell_type": "heading", 
          "level": 3, 
          "metadata": {}, 
          "source": [
            "Exercise 4"
          ]
        }, 
        {
          "cell_type": "markdown", 
          "metadata": {}, 
          "source": [
            "\n", 
            "Implement a shape retrival algorithm based on these bending invariants.\n", 
            "No correction for this exercise."
          ]
        }, 
        {
          "cell_type": "code", 
          "collapsed": false, 
          "input": [
            "## Insert your code here."
          ], 
          "language": "python", 
          "outputs": []
        }, 
        {
          "cell_type": "markdown", 
          "metadata": {}, 
          "source": [
            "\n", 
            "\n", 
            ""
          ]
        }, 
        {
          "cell_type": "heading", 
          "level": 2, 
          "metadata": {}, 
          "source": [
            "Bibliography\n"
          ]
        }
      ]
    }
  ]
}