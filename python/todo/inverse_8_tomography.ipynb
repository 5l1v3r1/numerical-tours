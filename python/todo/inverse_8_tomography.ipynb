{
  "metadata": {
    "name": ""
  }, 
  "nbformat": 3, 
  "nbformat_minor": 0, 
  "worksheets": [
    {
      "cells": [
        {
          "cell_type": "heading", 
          "level": 1, 
          "metadata": {}, 
          "source": [
            "Reconstruction from Partial Tomography Measurements"
          ]
        }, 
        {
          "cell_type": "markdown", 
          "metadata": {}, 
          "source": [
            "This numerical tour explores the reconstruction from tomographic\n", 
            "measurement with TV regularization.\n", 
            ""
          ]
        }, 
        {
          "cell_type": "markdown", 
          "metadata": {}, 
          "source": [
            "*Important:* You need to download the file `nt_toolbox.py` from the \n", 
            "root of the github repository.\n", 
            "$\\newcommand{\\dotp}[2]{\\langle #1, #2 \\rangle}\n", 
            "\\newcommand{\\enscond}[2]{\\lbrace #1, #2 \\rbrace}\n", 
            "\\newcommand{\\pd}[2]{ \\frac{ \\partial #1}{\\partial #2} }\n", 
            "\\newcommand{\\umin}[1]{\\underset{#1}{\\min}\\;}\n", 
            "\\newcommand{\\norm}[1]{\\|#1\\|}\n", 
            "\\newcommand{\\abs}[1]{\\left|#1\\right|}\n", 
            "\\newcommand{\\choice}[1]{ \\left\\{  \\begin{array}{l} #1 \\end{array} \\right. }\n", 
            "\\newcommand{\\pa}[1]{\\left(#1\\right)}\n", 
            "\\newcommand{\\qandq}{\\quad\\text{and}\\quad}\n", 
            "\\newcommand{\\qwhereq}{\\quad\\text{where}\\quad}\n", 
            "\\newcommand{\\qifq}{ \\quad \\text{if} \\quad }\n", 
            "\\newcommand{\\qarrq}{ \\quad \\Longrightarrow \\quad }\n", 
            "\\newcommand{\\ZZ}{\\mathbb{Z}}\n", 
            "\\newcommand{\\RR}{\\mathbb{R}}\n", 
            "\\newcommand{\\Nn}{\\mathcal{N}}\n", 
            "\\newcommand{\\Hh}{\\mathcal{H}}\n", 
            "\\newcommand{\\Bb}{\\mathcal{B}}\n", 
            "\\newcommand{\\EE}{\\mathbb{E}}\n", 
            "\\newcommand{\\CC}{\\mathbb{C}}\n", 
            "\\newcommand{\\si}{\\sigma}\n", 
            "\\newcommand{\\al}{\\alpha}\n", 
            "\\newcommand{\\la}{\\lambda}\n", 
            "\\newcommand{\\ga}{\\gamma}\n", 
            "\\newcommand{\\Ga}{\\Gamma}\n", 
            "\\newcommand{\\La}{\\Lambda}\n", 
            "\\newcommand{\\si}{\\sigma}\n", 
            "\\newcommand{\\Si}{\\Sigma}\n", 
            "\\newcommand{\\be}{\\beta}\n", 
            "\\newcommand{\\de}{\\delta}\n", 
            "\\newcommand{\\De}{\\Delta}\n", 
            "\\renewcommand{\\phi}{\\varphi}\n", 
            "\\renewcommand{\\th}{\\theta}\n", 
            "\\newcommand{\\om}{\\omega}\n", 
            "\\newcommand{\\Om}{\\Omega}\n", 
            "$"
          ]
        }, 
        {
          "cell_type": "code", 
          "collapsed": false, 
          "input": [
            "from nt_toolbox import *", 
            "%matplotlib inline", 
            "%load_ext autoreload", 
            "%autoreload 2"
          ], 
          "language": "python", 
          "outputs": []
        }, 
        {
          "cell_type": "markdown", 
          "metadata": {}, 
          "source": [
            "\n", 
            "\n", 
            "Width $n$ of the image.\n", 
            ""
          ]
        }, 
        {
          "cell_type": "code", 
          "collapsed": false, 
          "input": [
            "n = 128"
          ], 
          "language": "python", 
          "outputs": []
        }, 
        {
          "cell_type": "markdown", 
          "metadata": {}, 
          "source": [
            "\n", 
            "\n", 
            "We first load an image.\n", 
            ""
          ]
        }, 
        {
          "cell_type": "code", 
          "collapsed": false, 
          "input": [
            "name = 'phantom'\n", 
            "f0 = load_image(name, n)"
          ], 
          "language": "python", 
          "outputs": []
        }, 
        {
          "cell_type": "heading", 
          "level": 2, 
          "metadata": {}, 
          "source": [
            "Rotation over the Spacial Domain\n"
          ]
        }, 
        {
          "cell_type": "markdown", 
          "metadata": {}, 
          "source": [
            "Given an image $f$, its rotation is defined by rotating the pixels\n", 
            "locations\n", 
            "$$ R_\\th(f) = f(R_{-\\th}(x) $$\n", 
            "where we have use the same notation $R_\\th$ for the 2-D linear operator defined by the matrix\n", 
            "$$ R_\\th =\n", 
            "    \\begin{pmatrix}\n", 
            "       \\cos(t) & -\\sin(t) \\\\\n", 
            "       \\sin(t) & \\cos(t)\n", 
            "    \\end{pmatrix}\n", 
            "  $$\n", 
            "\n", 
            "\n", 
            "Computing rotation $R_\\th(f)$ over a discrete grid requires\n", 
            "interpolation.\n", 
            ""
          ]
        }, 
        {
          "cell_type": "code", 
          "collapsed": false, 
          "input": [
            "t = linspace(-1,1,n)\n", 
            "[Y,X] = meshgrid(t,t)\n", 
            "rotation = lambda f,t: interp2(Y,X,f, sin(t)*X + cos(t)*Y, cos(t)*X - sin(t)*Y, 'cubic', 0)"
          ], 
          "language": "python", 
          "outputs": []
        }, 
        {
          "cell_type": "heading", 
          "level": 2, 
          "metadata": {}, 
          "source": [
            "Rotation Over the Fourier Domain\n"
          ]
        }, 
        {
          "cell_type": "markdown", 
          "metadata": {}, 
          "source": [
            "A difficulty with spine-based rotation is that the corresponding operator\n", 
            "is not exactly orthogonal.\n", 
            "\n", 
            "\n", 
            "In particular, one does not have $R_{-\\th} = R_{\\th}^{-1}$.\n", 
            ""
          ]
        }, 
        {
          "cell_type": "code", 
          "collapsed": false, 
          "input": [
            "\n", 
            "imageplot(abs(rotation(rotation(f0,.2),-.2)-f0))"
          ], 
          "language": "python", 
          "outputs": []
        }, 
        {
          "cell_type": "markdown", 
          "metadata": {}, 
          "source": [
            "\n", 
            "\n", 
            "To circunvent this problem, one can define the rotation using a\n", 
            "Fourier-domain interpolation (a.k.a. Shannon). This is easily performed\n", 
            "by decomposing a rotation as a series of shears which can themselves be\n", 
            "implemented as diagonal operator over the Fourier domain.\n", 
            "\n", 
            "\n", 
            "X-aligned and Y-aligned shear matrices are defined as\n", 
            "$$\n", 
            "  S_a^x =\n", 
            "    \\begin{pmatrix}\n", 
            "       1 & a \\\\\n", 
            "       0 & 1\n", 
            "    \\end{pmatrix}\n", 
            "  \\qandq\n", 
            "  S_a^y =\n", 
            "    \\begin{pmatrix}\n", 
            "       1 & 0 \\\\\n", 
            "       a & 1\n", 
            "    \\end{pmatrix}\n", 
            "$$\n", 
            "\n", 
            "\n", 
            "One has the following decomposition of a rotation matrix as a product of\n", 
            "shears matrices :\n", 
            "$$ R_\\th = S_{-\\tan(t/2)}^x \\circ S_{\\sin(t)}^y \\circ S_{-\\tan(t/2)}^y. $$\n", 
            "\n", 
            "\n", 
            "If we consider continuous functions defined over the plane $x \\in \\RR^2$ and\n", 
            "define the Fourier transform along the X-direction as\n", 
            "$$ \\hat f(\\om,x_2) = \\int f(x_1,x_2) e^{-i \\om x_1} d x_2 $$\n", 
            "one can compute the shear transformed function\n", 
            "$$ f_a(x) = f( S_{-a}(x) ) $$\n", 
            "as a diagonal operator over the Fourier domain\n", 
            "$$ \\hat f_a(\\om,x_2) = e^{i \\om x_2} \\hat f(\\om,x_2). $$\n", 
            "\n", 
            "\n", 
            "By analogy, we define the shear transform of a discrete image as a\n", 
            "diagonal operator over the Fourier domain.\n", 
            "_Remark:_ to ensure that the transform is reald-valued,\n", 
            "one should be careful about\n", 
            "how to handle the highest frequency $n/2$,\n", 
            "otherwise the transform would be complex-valued.\n", 
            "Note also that this is an orthogonal transform (the eigenvalues have unit\n", 
            "modulus).\n", 
            ""
          ]
        }, 
        {
          "cell_type": "code", 
          "collapsed": false, 
          "input": [
            "t = [0:n/2-1 0 -n/2+1:-1]'\n", 
            "[Y,X] = meshgrid(t,t)\n", 
            "shearx = lambda f,a: real( ifft( fft(f) .* exp(-a*2i*pi*X.*Y/n) ) )\n", 
            "shearx = lambda f,a: fftshift(shearx(fftshift(f),a))\n", 
            "sheary = lambda f,a: shearx(f',a)'"
          ], 
          "language": "python", 
          "outputs": []
        }, 
        {
          "cell_type": "heading", 
          "level": 3, 
          "metadata": {}, 
          "source": [
            "Exercise 1"
          ]
        }, 
        {
          "cell_type": "markdown", 
          "metadata": {}, 
          "source": [
            "\n", 
            "Display the effect of shearing $S_a^x$ for several values of shear $a$.\n", 
            "\n", 
            "\n", 
            "\n", 
            "\n", 
            "\n", 
            ""
          ]
        }, 
        {
          "cell_type": "code", 
          "collapsed": false, 
          "input": [
            "## Insert your code here."
          ], 
          "language": "python", 
          "outputs": []
        }, 
        {
          "cell_type": "markdown", 
          "metadata": {}, 
          "source": [
            "\n", 
            "\n", 
            "\n", 
            "By analogy to the continuous setting, we define a discrete rotation by\n", 
            "decomposing it using a series of shear.\n", 
            ""
          ]
        }, 
        {
          "cell_type": "code", 
          "collapsed": false, 
          "input": [
            "rotation = lambda f,t: shearx( sheary( shearx(f,-tan(t/2)) ,sin(t)) ,-tan(t/2))"
          ], 
          "language": "python", 
          "outputs": []
        }, 
        {
          "cell_type": "markdown", 
          "metadata": {}, 
          "source": [
            "\n", 
            ""
          ]
        }, 
        {
          "cell_type": "heading", 
          "level": 3, 
          "metadata": {}, 
          "source": [
            "Exercise 2"
          ]
        }, 
        {
          "cell_type": "markdown", 
          "metadata": {}, 
          "source": [
            "\n", 
            "Display the effect of rotations $R_\\th$ for several values of angles $\\th$.\n", 
            "\n", 
            "\n", 
            "\n", 
            "\n", 
            "\n", 
            ""
          ]
        }, 
        {
          "cell_type": "code", 
          "collapsed": false, 
          "input": [
            "## Insert your code here."
          ], 
          "language": "python", 
          "outputs": []
        }, 
        {
          "cell_type": "markdown", 
          "metadata": {}, 
          "source": [
            "\n", 
            "\n", 
            "\n", 
            "To avoid issues when using large angles, we replace a rotation of angle\n", 
            "$\\th$ by 4 rotations of angle $\\th/4$. Note that this makes\n", 
            "computation slower.\n", 
            ""
          ]
        }, 
        {
          "cell_type": "code", 
          "collapsed": false, 
          "input": [
            "rotation = lambda f,t: rotation(rotation(f,t/2),t/2)\n", 
            "rotation = lambda f,t: rotation(rotation(f,t/2),t/2)"
          ], 
          "language": "python", 
          "outputs": []
        }, 
        {
          "cell_type": "heading", 
          "level": 3, 
          "metadata": {}, 
          "source": [
            "Exercise 3"
          ]
        }, 
        {
          "cell_type": "markdown", 
          "metadata": {}, 
          "source": [
            "\n", 
            "Display the effect of rotations $R_\\th$ for several values of angles $\\th$.\n", 
            "\n", 
            "\n", 
            "\n", 
            "\n", 
            "\n", 
            ""
          ]
        }, 
        {
          "cell_type": "code", 
          "collapsed": false, 
          "input": [
            "## Insert your code here."
          ], 
          "language": "python", 
          "outputs": []
        }, 
        {
          "cell_type": "markdown", 
          "metadata": {}, 
          "source": [
            "\n", 
            "\n", 
            "\n", 
            "We check that this discrete rotation operator is exactly invertible,\n", 
            "$R_{\\th}^{-1} = R_{-\\th}$.\n", 
            ""
          ]
        }, 
        {
          "cell_type": "code", 
          "collapsed": false, 
          "input": [
            "theta = .2\n", 
            "e = norm( rotation(rotation(f0,theta),-theta)-f0 )\n", 
            "disp(['Error (should be 0): ' num2str(e, 2) '.'])"
          ], 
          "language": "python", 
          "outputs": []
        }, 
        {
          "cell_type": "markdown", 
          "metadata": {}, 
          "source": [
            "\n", 
            "\n", 
            "We check that the inverse is also the adjoint operator,\n", 
            "$R_{\\th}^{-1} = R_{\\th}^* = R_{-\\th}$.\n", 
            ""
          ]
        }, 
        {
          "cell_type": "code", 
          "collapsed": false, 
          "input": [
            "theta = .1\n", 
            "a = randn(n); b = randn(n)\n", 
            "dotp = lambda a,b: sum(a(:).*b(:))\n", 
            "e = dotp(a,rotation(b,theta)) - dotp(b,rotation(a,-theta))\n", 
            "disp(['Error (should be 0): ' num2str(e, 2) '.'])"
          ], 
          "language": "python", 
          "outputs": []
        }, 
        {
          "cell_type": "heading", 
          "level": 2, 
          "metadata": {}, 
          "source": [
            "Partial Radon Operator\n"
          ]
        }, 
        {
          "cell_type": "markdown", 
          "metadata": {}, 
          "source": [
            "The Radon transform is defined, for an angle $\\th \\in [-\\pi/2,\\pi/2)$\n", 
            "as an integration along all lines of angle $\\th$. It can thus be\n", 
            "defined equivalently by 1-D vertical integration of the image rotated by\n", 
            "an angle $\\th$. We use here a simple sum to replace the continuous\n", 
            "integration:\n", 
            "$$ \\Phi_\\th(f)(x_1) = \\sum_{x_2} R_\\th(f)(x_1,x_2). $$\n", 
            "\n", 
            "\n", 
            "The radon transform is defined as the collection of projections for\n", 
            "several angles, $\\{ \\th_i \\}_{i=1}^{m}$, usually equi-spaced in\n", 
            "$[-\\pi/2,\\pi/2)$.\n", 
            "$$ \\Phi(f) = \\{ \\Phi_{\\th_i}(f) \\}_{i=1}^m \\in \\RR^{n \\times m}. $$\n", 
            "\n", 
            "\n", 
            "For $y = \\{y_{i}\\}_{i=1}^m \\in \\RR^{n \\times m}$, where $y_i \\in \\RR^n$, the adjoint of the Radon transform is\n", 
            "$$ \\Phi^*(y) = \\sum_i R_{-\\th_i}(U(y_i)), $$\n", 
            "where $ U : \\RR^n \\rightarrow \\RR^{n \\times n} $ replicates the vector\n", 
            "along the lines, $U(v)(x_1,x_2)=v(x_1)$.\n", 
            "\n", 
            "\n", 
            "Number of angles for the partial tomography.\n", 
            ""
          ]
        }, 
        {
          "cell_type": "code", 
          "collapsed": false, 
          "input": [
            "m = 64"
          ], 
          "language": "python", 
          "outputs": []
        }, 
        {
          "cell_type": "markdown", 
          "metadata": {}, 
          "source": [
            "\n", 
            "\n", 
            "List of angles.\n", 
            ""
          ]
        }, 
        {
          "cell_type": "code", 
          "collapsed": false, 
          "input": [
            "tlist = linspace(-pi/2,pi/2, m+1); tlist(end) = []"
          ], 
          "language": "python", 
          "outputs": []
        }, 
        {
          "cell_type": "markdown", 
          "metadata": {}, 
          "source": [
            "\n", 
            "\n", 
            "Define the operators $\\Phi$ and $\\Phi^*$\n", 
            ""
          ]
        }, 
        {
          "cell_type": "code", 
          "collapsed": false, 
          "input": [
            "Phi  = lambda f: perform_radon_transform(f, tlist, +1, rotation)\n", 
            "PhiS = lambda R: perform_radon_transform(R, tlist, -1, rotation)"
          ], 
          "language": "python", 
          "outputs": []
        }, 
        {
          "cell_type": "markdown", 
          "metadata": {}, 
          "source": [
            "\n", 
            "\n", 
            "Display a Radon transform.\n", 
            ""
          ]
        }, 
        {
          "cell_type": "code", 
          "collapsed": false, 
          "input": [
            "\n", 
            "imageplot(Phi(f0))"
          ], 
          "language": "python", 
          "outputs": []
        }, 
        {
          "cell_type": "markdown", 
          "metadata": {}, 
          "source": [
            "\n", 
            "\n", 
            "Check that $\\Phi^*$ is indeed the adjoint of $\\Phi$.\n", 
            ""
          ]
        }, 
        {
          "cell_type": "code", 
          "collapsed": false, 
          "input": [
            "a = randn(n,m); b = randn(n)\n", 
            "e = dotp(a,Phi(b)) - dotp(PhiS(a),b)\n", 
            "disp(['Error (should be 0): ' num2str(e, 2) '.'])"
          ], 
          "language": "python", 
          "outputs": []
        }, 
        {
          "cell_type": "heading", 
          "level": 2, 
          "metadata": {}, 
          "source": [
            "Partial Tomography Pseudo-Inversion\n"
          ]
        }, 
        {
          "cell_type": "markdown", 
          "metadata": {}, 
          "source": [
            "We consider here a coarse sub-sampling of the Radon transform.\n", 
            ""
          ]
        }, 
        {
          "cell_type": "code", 
          "collapsed": false, 
          "input": [
            "m = 16\n", 
            "tlist = linspace(-pi/2,pi/2, m+1); tlist(end) = []\n", 
            "Phi  = lambda f: perform_radon_transform(f, tlist, +1, rotation)\n", 
            "PhiS = lambda R: perform_radon_transform(R, tlist, -1, rotation)"
          ], 
          "language": "python", 
          "outputs": []
        }, 
        {
          "cell_type": "markdown", 
          "metadata": {}, 
          "source": [
            "\n", 
            "\n", 
            "We use noiseless measurements $y=\\Phi f_0$.\n", 
            ""
          ]
        }, 
        {
          "cell_type": "code", 
          "collapsed": false, 
          "input": [
            "y = Phi(f0)"
          ], 
          "language": "python", 
          "outputs": []
        }, 
        {
          "cell_type": "markdown", 
          "metadata": {}, 
          "source": [
            "\n", 
            "\n", 
            "Display the corresponing 1-D projections.\n", 
            ""
          ]
        }, 
        {
          "cell_type": "code", 
          "collapsed": false, 
          "input": [
            "\n", 
            "plot(y); axis tight"
          ], 
          "language": "python", 
          "outputs": []
        }, 
        {
          "cell_type": "markdown", 
          "metadata": {}, 
          "source": [
            "\n", 
            "\n", 
            "The pseudo inverse reconstruction is defined as\n", 
            "$$ \\Phi^+ y = \\Phi^* ( \\Phi\\Phi^* )^{-1} y. $$\n", 
            "It is the minimum $L^2$ norm reconstruction\n", 
            "$$ \\Phi^+ y = \\uargmin{ f} \\norm{y-\\Phi f}^2. $$\n", 
            "\n", 
            "\n", 
            "_Remark:_ When $m$ tends to infinity (continuous set of angles), the Radon transform is not\n", 
            "sub-sampled and $ \\Phi \\Phi^* $ is a filtering. For $y(r,\\th)$ a\n", 
            "continuous set of Radon coefficients,\n", 
            "$$ (\\Phi\\Phi^*) y(r,\\th) = \\int y(s,\\th) h(r-s) d s\n", 
            "  \\qwhereq \\hat h(\\om) = 1/\\abs{\\om}. $$\n", 
            "When $m$ is large enough, it is common to approximate\n", 
            "$\\Phi^+$ using\n", 
            "$$ \\Phi^+ R = \\Phi^*( g \\star y ) $$\n", 
            "where $g$ is a 1-D filter with $\\hat g(\\om) = \\abs{\\om}$\n", 
            "and $\\star$ is the convolution along the first coordinate of the Radon coefficients.\n", 
            "\n", 
            "\n", 
            "This is *not* the case in our setting, so that  $ \\Phi \\Phi^* $ is\n", 
            "actually difficult to invert, and it is thus computaitonaly difficult to compute\n", 
            "the exact pseudo inverse $\\Phi^+ = \\Phi^* (\\Phi \\Phi^*)^{-1} $.\n", 
            ""
          ]
        }, 
        {
          "cell_type": "heading", 
          "level": 3, 
          "metadata": {}, 
          "source": [
            "Exercise 4"
          ]
        }, 
        {
          "cell_type": "markdown", 
          "metadata": {}, 
          "source": [
            "\n", 
            "Compute the pseudo inverse reconstruction using a conjugate gradient\n", 
            "descent (function |cgs|).\n", 
            "\n", 
            "\n", 
            "\n", 
            "\n", 
            "\n", 
            "\n", 
            ""
          ]
        }, 
        {
          "cell_type": "code", 
          "collapsed": false, 
          "input": [
            "## Insert your code here."
          ], 
          "language": "python", 
          "outputs": []
        }, 
        {
          "cell_type": "markdown", 
          "metadata": {}, 
          "source": [
            "\n", 
            ""
          ]
        }, 
        {
          "cell_type": "heading", 
          "level": 2, 
          "metadata": {}, 
          "source": [
            "Partial Tomography Total Variation Inversion\n"
          ]
        }, 
        {
          "cell_type": "markdown", 
          "metadata": {}, 
          "source": [
            "We consider the following reconstruction\n", 
            "$$ \\umin{\\Phi  f = y} J(f) \\qwhereq  J(f)=\\norm{\\nabla f}_1$$\n", 
            "where the $\\ell^1$ norm of a vector field $(u_i)_i$ is defined as\n", 
            "$$ J(f) = \\sum_i \\norm{u_i}. $$\n", 
            "\n", 
            "\n", 
            "*WORK in PROGRESS*\n", 
            ""
          ]
        }, 
        {
          "cell_type": "code", 
          "collapsed": false, 
          "input": [
            "return"
          ], 
          "language": "python", 
          "outputs": []
        }, 
        {
          "cell_type": "markdown", 
          "metadata": {}, 
          "source": [
            "\n", 
            "\n", 
            "This problem is rewritten as\n", 
            "$$ \\umin{f} F(K(f)) + G(f) $$\n", 
            "where $G=0$, $Kf = (\\Phi f, \\nabla f)$\n", 
            "and $F(u,v)=i_{\\{y\\}}(u) + \\norm{v}_1.$\n", 
            "\n", 
            "\n", 
            "The primal-dual algorithm reads:\n", 
            "$$ g_{k+1} = \\text{Prox}_{\\sigma F^*}( g_k + \\sigma K(\\tilde f_k) $$\n", 
            "$$ f_{k+1} = \\text{Prox}_{\\tau G}(  f_k-\\tau K^*(g_k) ) $$\n", 
            "$$ \\tilde f_{k+1} = f_{k+1} + \\theta (f_{k+1} - f_k) $$\n", 
            "\n", 
            "\n", 
            "One has\n", 
            "$$ \\text{Prox}_{\\la F}(u,v) = \\pa{ y, \\text{Prox}_{\\la \\norm{\\cdot}_1}(v) } $$\n", 
            "where\n", 
            "$$ \\text{Prox}_{\\la \\norm{\\cdot}_1}(v)_k = \\max\\pa{0,1-\\frac{\\la}{\\norm{v_k}}} v_k $$\n", 
            ""
          ]
        }, 
        {
          "cell_type": "code", 
          "collapsed": false, 
          "input": [
            "Amplitude = lambda u: sqrt(sum(u.^2,3))\n", 
            "F1 = lambda u: sum(sum(Amplitude(u)))\n", 
            "u = lambda z: reshape(z(1:n*m),n,m)\n", 
            "v = lambda z: reshape(z(n*m+1:end),n,n,2)"
          ], 
          "language": "python", 
          "outputs": []
        }, 
        {
          "cell_type": "code", 
          "collapsed": false, 
          "input": [
            "ProxF1 = lambda u,lambda: max(0,1-lambda./repmat(Amplitude(u), [1 1 2])).*u\n", 
            "ProxF = lambda z,lambda: [y(:); reshape(ProxF1(v(z),lambda),n*n*2,1) ]\n", 
            "ProxFS = lambda y,sigma: y-sigma*ProxF(y/sigma,1/sigma)\n", 
            "ProxG = lambda x,lambda: x\n", 
            "K  = lambda f: [reshape(Phi(f),n*m,1); reshape(grad(f), n*n*2,1)]\n", 
            "KS = lambda z: PhiS(u(z)) - div(v(z))"
          ], 
          "language": "python", 
          "outputs": []
        }, 
        {
          "cell_type": "markdown", 
          "metadata": {}, 
          "source": [
            "\n", 
            "\n", 
            "We set parameters for the algorithm.\n", 
            "Note that in our case, $L=\\norm{K}^2=n m$.\n", 
            "One should has $L \\sigma \\tau < 1$.\n", 
            ""
          ]
        }, 
        {
          "cell_type": "code", 
          "collapsed": false, 
          "input": [
            "L = n*m\n", 
            "sigma = 10\n", 
            "tau = .9/(L*sigma)\n", 
            "theta = 1"
          ], 
          "language": "python", 
          "outputs": []
        }, 
        {
          "cell_type": "code", 
          "collapsed": false, 
          "input": [
            "f = fL2"
          ], 
          "language": "python", 
          "outputs": []
        }, 
        {
          "cell_type": "markdown", 
          "metadata": {}, 
          "source": [
            "zeros(n);"
          ]
        }, 
        {
          "cell_type": "code", 
          "collapsed": false, 
          "input": [
            "g = K(f)*0\n", 
            "f1 = f"
          ], 
          "language": "python", 
          "outputs": []
        }
      ]
    }
  ]
}