{
  "metadata": {
    "name": ""
  }, 
  "nbformat": 3, 
  "nbformat_minor": 0, 
  "worksheets": [
    {
      "cells": [
        {
          "cell_type": "heading", 
          "level": 1, 
          "metadata": {}, 
          "source": [
            "Generalized Barycentric Coordinates for Warpping"
          ]
        }, 
        {
          "cell_type": "markdown", 
          "metadata": {}, 
          "source": [
            "This tours tests several barycentric coordinates (mean value, harmonic and green)\n", 
            "for non-convex polygons, and apply them to 2D warping of images.\n", 
            ""
          ]
        }, 
        {
          "cell_type": "markdown", 
          "metadata": {}, 
          "source": [
            "*Important:* You need to download the file `nt_toolbox.py` from the \n", 
            "root of the github repository.\n", 
            "$\\newcommand{\\dotp}[2]{\\langle #1, #2 \\rangle}\n", 
            "\\newcommand{\\enscond}[2]{\\lbrace #1, #2 \\rbrace}\n", 
            "\\newcommand{\\pd}[2]{ \\frac{ \\partial #1}{\\partial #2} }\n", 
            "\\newcommand{\\umin}[1]{\\underset{#1}{\\min}\\;}\n", 
            "\\newcommand{\\norm}[1]{\\|#1\\|}\n", 
            "\\newcommand{\\abs}[1]{\\left|#1\\right|}\n", 
            "\\newcommand{\\choice}[1]{ \\left\\{  \\begin{array}{l} #1 \\end{array} \\right. }\n", 
            "\\newcommand{\\pa}[1]{\\left(#1\\right)}\n", 
            "\\newcommand{\\qandq}{\\quad\\text{and}\\quad}\n", 
            "\\newcommand{\\qwhereq}{\\quad\\text{where}\\quad}\n", 
            "\\newcommand{\\qifq}{ \\quad \\text{if} \\quad }\n", 
            "\\newcommand{\\qarrq}{ \\quad \\Longrightarrow \\quad }\n", 
            "\\newcommand{\\ZZ}{\\mathbb{Z}}\n", 
            "\\newcommand{\\RR}{\\mathbb{R}}\n", 
            "\\newcommand{\\Nn}{\\mathcal{N}}\n", 
            "\\newcommand{\\Hh}{\\mathcal{H}}\n", 
            "\\newcommand{\\Bb}{\\mathcal{B}}\n", 
            "\\newcommand{\\EE}{\\mathbb{E}}\n", 
            "\\newcommand{\\CC}{\\mathbb{C}}\n", 
            "\\newcommand{\\si}{\\sigma}\n", 
            "\\newcommand{\\al}{\\alpha}\n", 
            "\\newcommand{\\la}{\\lambda}\n", 
            "\\newcommand{\\ga}{\\gamma}\n", 
            "\\newcommand{\\Ga}{\\Gamma}\n", 
            "\\newcommand{\\La}{\\Lambda}\n", 
            "\\newcommand{\\si}{\\sigma}\n", 
            "\\newcommand{\\Si}{\\Sigma}\n", 
            "\\newcommand{\\be}{\\beta}\n", 
            "\\newcommand{\\de}{\\delta}\n", 
            "\\newcommand{\\De}{\\Delta}\n", 
            "\\renewcommand{\\phi}{\\varphi}\n", 
            "\\renewcommand{\\th}{\\theta}\n", 
            "\\newcommand{\\om}{\\omega}\n", 
            "\\newcommand{\\Om}{\\Omega}\n", 
            "$"
          ]
        }, 
        {
          "cell_type": "code", 
          "collapsed": false, 
          "input": [
            "from nt_toolbox import *", 
            "%matplotlib inline", 
            "%load_ext autoreload", 
            "%autoreload 2"
          ], 
          "language": "python", 
          "outputs": []
        }, 
        {
          "cell_type": "markdown", 
          "metadata": {}, 
          "source": [
            "\n", 
            "\n", 
            "CMT"
          ]
        }, 
        {
          "cell_type": "code", 
          "collapsed": false, 
          "input": [
            "rep = '../results/mesh_barycentric/'\n", 
            "if not(exist(rep))\n", 
            "    mkdir(rep)\n", 
            "\n", 
            "run_cmt = 0"
          ], 
          "language": "python", 
          "outputs": []
        }, 
        {
          "cell_type": "markdown", 
          "metadata": {}, 
          "source": [
            "CMT\n", 
            ""
          ]
        }, 
        {
          "cell_type": "heading", 
          "level": 2, 
          "metadata": {}, 
          "source": [
            "Domain to Warp\n"
          ]
        }, 
        {
          "cell_type": "markdown", 
          "metadata": {}, 
          "source": [
            "Create a cage that bound the domain to warp.\n", 
            ""
          ]
        }, 
        {
          "cell_type": "code", 
          "collapsed": false, 
          "input": [
            "cage = 'V'"
          ], 
          "language": "python", 
          "outputs": []
        }, 
        {
          "cell_type": "markdown", 
          "metadata": {}, 
          "source": [
            "\n", 
            "\n", 
            "First we create a 2D closes polygon, which will be a cage used to perform\n", 
            "2D shape deformation.\n", 
            ""
          ]
        }, 
        {
          "cell_type": "code", 
          "collapsed": false, 
          "input": [
            "delta = .03\n", 
            "rho = .2\n", 
            "eta = .05\n", 
            "x1 = .5-rho-eta/2; x2 = .5-eta/2\n", 
            "x3 = .5+eta/2; x4 = .5+rho+eta/2\n", 
            "switch cage\n", 
            "    case 'L'\n", 
            "        V = [[delta;delta] [1-delta;delta] [1-delta;delta+rho] [delta+rho;delta+rho] [delta+rho;1-delta] [delta;1-delta]]\n", 
            "    case 'U'\n", 
            "        V = [[x1;delta] [x4;delta] [x4;1-delta] [x3;1-delta] ...\n", 
            "            [x3;delta+rho] [x2;delta+rho] [x2;1-delta] [x1;1-delta] ]\n", 
            "    case 'V'\n", 
            "        V = [[x1;delta] [x4;delta] [x4;1-delta] [x3;1-delta] ...\n", 
            "            [.5;delta+rho] [x2;1-delta] [x1;1-delta] ]\n", 
            "\n", 
            "k = size(V,2)"
          ], 
          "language": "python", 
          "outputs": []
        }, 
        {
          "cell_type": "markdown", 
          "metadata": {}, 
          "source": [
            "\n", 
            "\n", 
            "Compute a grid.\n", 
            ""
          ]
        }, 
        {
          "cell_type": "code", 
          "collapsed": false, 
          "input": [
            "n = 200\n", 
            "x = linspace(0,1,n)\n", 
            "[Y,X] = meshgrid(x,x)"
          ], 
          "language": "python", 
          "outputs": []
        }, 
        {
          "cell_type": "markdown", 
          "metadata": {}, 
          "source": [
            "\n", 
            "\n", 
            "Indicator of the shape.\n", 
            "\n", 
            ""
          ]
        }, 
        {
          "cell_type": "code", 
          "collapsed": false, 
          "input": [
            "S = 1 - inpolygon(X,Y,V(1,:),V(2,:))"
          ], 
          "language": "python", 
          "outputs": []
        }, 
        {
          "cell_type": "markdown", 
          "metadata": {}, 
          "source": [
            "\n", 
            "\n", 
            "Compute a check-board texture inside the L shaped domain.\n", 
            ""
          ]
        }, 
        {
          "cell_type": "code", 
          "collapsed": false, 
          "input": [
            "m  = 30\n", 
            "[XT,YT] = meshgrid((0:n-1)/n,(0:n-1)/n)\n", 
            "T = mod( floor(XT*m)+floor(YT*m),2 )\n", 
            "T(S==1) = 1"
          ], 
          "language": "python", 
          "outputs": []
        }, 
        {
          "cell_type": "markdown", 
          "metadata": {}, 
          "source": [
            "\n", 
            "\n", 
            "Display it.\n", 
            ""
          ]
        }, 
        {
          "cell_type": "code", 
          "collapsed": false, 
          "input": [
            "lw = 3; ms = 25\n", 
            "clf; hold on\n", 
            "plot_surf_texture(cat(3,X,Y,zeros(n)), T')\n", 
            "h = plot(V(1,[1:end 1]), V(2,[1:end 1]), 'r.-')\n", 
            "set(h, 'LineWidth', lw); set(h, 'MarkerSize', ms)\n", 
            "view(2); axis('off'); axis('equal')"
          ], 
          "language": "python", 
          "outputs": []
        }, 
        {
          "cell_type": "markdown", 
          "metadata": {}, 
          "source": [
            "\n", 
            ""
          ]
        }, 
        {
          "cell_type": "heading", 
          "level": 2, 
          "metadata": {}, 
          "source": [
            "Mean-valued Coordinates\n"
          ]
        }, 
        {
          "cell_type": "markdown", 
          "metadata": {}, 
          "source": [
            "Mean valued coordinates are usually applied for 3D mesh parameterization,\n", 
            "and are used to approximate the Lapalcian on a 1-ring of a triangulation.\n", 
            "\n", 
            "\n", 
            "The mean value coordinates for star-shaped polygons where introduced in\n", 
            "\n", 
            "\n", 
            "M. S. Floater,\n", 
            "_Mean value coordinates_\n", 
            "Comp. Aided Geom. Design 20, 19-27, 2003.\n", 
            "\n", 
            "\n", 
            "There extension to arbitrary polygon is presented in\n", 
            "\n", 
            "\n", 
            "K. Hormann and M.S. Floater,\n", 
            "_Mean value coordinates for arbitrary planar polygons_\n", 
            "ACM Transactions on Graphics, 25 p. 1424-1441, 2006.\n", 
            "\n", 
            "\n", 
            "See also the following paper for application to shape warping:\n", 
            "\n", 
            "\n", 
            "T. Ju, S. Schaefer and J. Warren,\n", 
            "_Mean Value Coordinates for Closed Triangular Meshes_\n", 
            "ACM SIGGRAPH 2005, pages 561-566, 2005.\n", 
            "\n", 
            "\n", 
            "Useful operator.\n", 
            ""
          ]
        }, 
        {
          "cell_type": "code", 
          "collapsed": false, 
          "input": [
            "dotp = lambda a,b: sum(a.*b)\n", 
            "crossp = lambda a,b: a(1,:).*b(2,:)-a(2,:).*b(1,:)\n", 
            "normalize = lambda a: a./repmat(sqrt(sum(a.^2)), [2 1])"
          ], 
          "language": "python", 
          "outputs": []
        }, 
        {
          "cell_type": "markdown", 
          "metadata": {}, 
          "source": [
            "\n", 
            "\n", 
            "Points of the domain.\n", 
            ""
          ]
        }, 
        {
          "cell_type": "code", 
          "collapsed": false, 
          "input": [
            "W = [X(:)';Y(:)']"
          ], 
          "language": "python", 
          "outputs": []
        }, 
        {
          "cell_type": "markdown", 
          "metadata": {}, 
          "source": [
            "\n", 
            "\n", 
            "Each C(:,:,i) will be a barycentric coordinate weight.\n", 
            ""
          ]
        }, 
        {
          "cell_type": "code", 
          "collapsed": false, 
          "input": [
            "C = zeros(n,n,k)"
          ], 
          "language": "python", 
          "outputs": []
        }, 
        {
          "cell_type": "markdown", 
          "metadata": {}, 
          "source": [
            "\n", 
            "\n", 
            "Select a point on the polygon.\n", 
            ""
          ]
        }, 
        {
          "cell_type": "code", 
          "collapsed": false, 
          "input": [
            "i = 4\n", 
            "vi = V(:,i)"
          ], 
          "language": "python", 
          "outputs": []
        }, 
        {
          "cell_type": "markdown", 
          "metadata": {}, 
          "source": [
            "\n", 
            "\n", 
            "Compute the mean coordinate at each point location using the\n", 
            "tangent of the two adjacent angles.\n", 
            ""
          ]
        }, 
        {
          "cell_type": "code", 
          "collapsed": false, 
          "input": [
            "U = repmat(vi,[1 n^2])-W\n", 
            "nb = normalize( U )"
          ], 
          "language": "python", 
          "outputs": []
        }, 
        {
          "cell_type": "markdown", 
          "metadata": {}, 
          "source": [
            "length"
          ]
        }, 
        {
          "cell_type": "code", 
          "collapsed": false, 
          "input": [
            "d = sqrt( sum(U.^2) )\n", 
            "for j in mod([i-2,i],k)+1:\n", 
            "    % point\n", 
            "    vj = V(:,j)\n", 
            "    na = normalize( repmat(vj,[1 n^2])-W )\n", 
            "    % angle\n", 
            "    dp = dotp(na,nb)\n", 
            "    theta = acos(clamp(dp,-1,1))\n", 
            "    % add tangent of half angle\n", 
            "    C(:,:,i) = C(:,:,i) + reshape( tan(theta/2) ./ d, [n n])\n", 
            ""
          ], 
          "language": "python", 
          "outputs": []
        }, 
        {
          "cell_type": "markdown", 
          "metadata": {}, 
          "source": [
            "\n", 
            ""
          ]
        }, 
        {
          "cell_type": "heading", 
          "level": 3, 
          "metadata": {}, 
          "source": [
            "Exercise 1"
          ]
        }, 
        {
          "cell_type": "markdown", 
          "metadata": {}, 
          "source": [
            "\n", 
            "Compute the full set of mean coordinates.\n", 
            "\n", 
            "\n", 
            "\n", 
            "\n", 
            "\n", 
            "\n", 
            "\n", 
            "\n", 
            "\n", 
            "\n", 
            "\n", 
            "\n", 
            "\n", 
            "\n", 
            "\n", 
            "\n", 
            "\n", 
            "\n", 
            "\n", 
            "\n", 
            ""
          ]
        }, 
        {
          "cell_type": "code", 
          "collapsed": false, 
          "input": [
            "## Insert your code here."
          ], 
          "language": "python", 
          "outputs": []
        }, 
        {
          "cell_type": "markdown", 
          "metadata": {}, 
          "source": [
            "\n", 
            "\n", 
            "\n", 
            "Normalize them.\n", 
            ""
          ]
        }, 
        {
          "cell_type": "code", 
          "collapsed": false, 
          "input": [
            "C = C ./ repmat( sum(C,3), [1 1 k] )"
          ], 
          "language": "python", 
          "outputs": []
        }, 
        {
          "cell_type": "markdown", 
          "metadata": {}, 
          "source": [
            "\n", 
            "\n", 
            "Extract one of the coordinates, set it to zero outside.\n", 
            ""
          ]
        }, 
        {
          "cell_type": "code", 
          "collapsed": false, 
          "input": [
            "i = 4\n", 
            "c = abs(C(:,:,i))+1e-3\n", 
            "c(S==1) = 0"
          ], 
          "language": "python", 
          "outputs": []
        }, 
        {
          "cell_type": "markdown", 
          "metadata": {}, 
          "source": [
            "\n", 
            "\n", 
            "Display it.\n", 
            ""
          ]
        }, 
        {
          "cell_type": "code", 
          "collapsed": false, 
          "input": [
            "nl = 15\n", 
            "t = linspace(0,1,n)\n", 
            "B = display_shape_function(c')\n", 
            "clf; hold on\n", 
            "imagesc(t,t,B); axis('image'); axis('off')\n", 
            "contour(t,t,c',nl, 'k')\n", 
            "colormap jet(256)\n", 
            "h = plot(V(1,[1:end 1]), V(2,[1:end 1]), 'r.-')\n", 
            "set(h, 'LineWidth', lw); set(h, 'MarkerSize', ms)"
          ], 
          "language": "python", 
          "outputs": []
        }, 
        {
          "cell_type": "markdown", 
          "metadata": {}, 
          "source": [
            "\n", 
            "CMT"
          ]
        }, 
        {
          "cell_type": "code", 
          "collapsed": false, 
          "input": [
            "if run_cmt\n", 
            "for i in 1:k:\n", 
            "        c = abs(C(:,:,i)) + 1e-3\n", 
            "        c(S==1) = 0\n", 
            "        B = display_shape_function(c')\n", 
            "        clf; hold on\n", 
            "        t = linspace(0,1,n)\n", 
            "        imagesc(t,t,B); axis('image'); axis('off')\n", 
            "        contour(t,t,c',nl, 'k', 'LineWidth', 1.2)\n", 
            "        colormap jet(256)\n", 
            "        h = plot(V(1,[1:end 1]), V(2,[1:end 1]), 'r.-')\n", 
            "        set(h, 'LineWidth', lw); set(h, 'MarkerSize', ms)\n", 
            "        saveas(gcf, [rep cage '-coords-meanval-' num2str(i)], 'epsc')\n", 
            "\n", 
            ""
          ], 
          "language": "python", 
          "outputs": []
        }, 
        {
          "cell_type": "markdown", 
          "metadata": {}, 
          "source": [
            "CMT\n", 
            "\n", 
            "\n", 
            "Interpolation function.\n", 
            ""
          ]
        }, 
        {
          "cell_type": "code", 
          "collapsed": false, 
          "input": [
            "applyinterp = lambda C,x: sum(repmat(reshape(x(:), [1 1 k]),[n n 1]).*C,3)"
          ], 
          "language": "python", 
          "outputs": []
        }, 
        {
          "cell_type": "markdown", 
          "metadata": {}, 
          "source": [
            "\n", 
            "\n", 
            "Apply the interpolation weight to the X/Y coordinate to test for the\n", 
            "linear precision of the coordinates.\n", 
            ""
          ]
        }, 
        {
          "cell_type": "code", 
          "collapsed": false, 
          "input": [
            "\n", 
            "imageplot(applyinterp(C,V(1,:)), 'Should be X', 1,2,1)\n", 
            "imageplot(applyinterp(C,V(2,:)), 'Should be Y', 1,2,2)\n", 
            "colormap jet(256)"
          ], 
          "language": "python", 
          "outputs": []
        }, 
        {
          "cell_type": "markdown", 
          "metadata": {}, 
          "source": [
            "\n", 
            "\n", 
            "Final position of the cage.\n", 
            ""
          ]
        }, 
        {
          "cell_type": "code", 
          "collapsed": false, 
          "input": [
            "V2 = V\n", 
            "switch cage,\n", 
            "    case 'L'\n", 
            "        V2(:,4) = [1-delta;1-delta]\n", 
            "    case {'U' 'V'}\n", 
            "        V2(:,3) = [1-delta;delta]\n", 
            "        V2(:,4) = [1-delta;delta+rho]\n", 
            ""
          ], 
          "language": "python", 
          "outputs": []
        }, 
        {
          "cell_type": "markdown", 
          "metadata": {}, 
          "source": [
            "\n", 
            "\n", 
            "Modify the position of the cage.\n", 
            ""
          ]
        }, 
        {
          "cell_type": "code", 
          "collapsed": false, 
          "input": [
            "rho = .7\n", 
            "V1 = V*(1-rho) + V2*rho"
          ], 
          "language": "python", 
          "outputs": []
        }, 
        {
          "cell_type": "markdown", 
          "metadata": {}, 
          "source": [
            "\n", 
            "\n", 
            "Warp the grid.\n", 
            ""
          ]
        }, 
        {
          "cell_type": "code", 
          "collapsed": false, 
          "input": [
            "X1 = applyinterp(C,V1(1,:))\n", 
            "Y1 = applyinterp(C,V1(2,:))"
          ], 
          "language": "python", 
          "outputs": []
        }, 
        {
          "cell_type": "markdown", 
          "metadata": {}, 
          "source": [
            "\n", 
            "\n", 
            "Display the warped texture.\n", 
            ""
          ]
        }, 
        {
          "cell_type": "code", 
          "collapsed": false, 
          "input": [
            "clf; hold on\n", 
            "plot_surf_texture(cat(3,X1,Y1,zeros(n)), T')\n", 
            "h = plot(V1(1,[1:end 1]), V1(2,[1:end 1]), 'r.-')\n", 
            "set(h, 'LineWidth', lw); set(h, 'MarkerSize', ms)\n", 
            "view(2); axis('off'); axis('equal')\n", 
            "axis([0,1,0,1])"
          ], 
          "language": "python", 
          "outputs": []
        }, 
        {
          "cell_type": "markdown", 
          "metadata": {}, 
          "source": [
            "\n", 
            "CMT"
          ]
        }, 
        {
          "cell_type": "code", 
          "collapsed": false, 
          "input": [
            "if run_cmt\n", 
            "    ntests = 3\n", 
            "    rho_list = linspace(0,.5,ntests)\n", 
            "for i in 1:ntests:\n", 
            "        rho = rho_list(i)\n", 
            "        V1 = V*(1-rho) + V2*rho\n", 
            "        X1 = applyinterp(C,V1(1,:))\n", 
            "        Y1 = applyinterp(C,V1(2,:))\n", 
            "        % Display the warped texture.\n", 
            "        clf; hold on\n", 
            "        plot_surf_texture(cat(3,X1,Y1,zeros(n)), T')\n", 
            "        h = plot(V1(1,[1:end 1]), V1(2,[1:end 1]), 'r.-')\n", 
            "        set(h, 'LineWidth', lw); set(h, 'MarkerSize', ms)\n", 
            "        view(2); axis('off'); axis('equal')\n", 
            "        axis([0,1,0,1])\n", 
            "        saveas(gcf, [rep cage '-warp-meanval-' num2str(i)], 'png')\n", 
            "\n", 
            ""
          ], 
          "language": "python", 
          "outputs": []
        }, 
        {
          "cell_type": "markdown", 
          "metadata": {}, 
          "source": [
            "CMT\n", 
            "\n", 
            ""
          ]
        }, 
        {
          "cell_type": "heading", 
          "level": 2, 
          "metadata": {}, 
          "source": [
            "Harmonic Coordinates\n"
          ]
        }, 
        {
          "cell_type": "markdown", 
          "metadata": {}, 
          "source": [
            "Mean valued coordinates goes in some sense \"through\" the cage.\n", 
            "To prevent this, one can compute coordinates using a diffusion\n", 
            "within the cage. This leads to harmonic coordinates.\n", 
            "\n", 
            "\n", 
            "The harmonic coordinates are introduced in\n", 
            "\n", 
            "\n", 
            "P. Joshi, M. Meyer, T. DeRose, B. Green and T. Sanocki\n", 
            "_Harmonic coordinates for character articulation_\n", 
            "ACM Trans. Graph, 3(26), p.71, 2007\n", 
            "\n", 
            "\n", 
            "Compute the points on the grid that are along the boundary, together\n", 
            "with the curvilinear absice.\n", 
            ""
          ]
        }, 
        {
          "cell_type": "code", 
          "collapsed": false, 
          "input": [
            "Vi = round(V*n)\n", 
            "bound = Vi(:,1)\n", 
            "loc = 1\n", 
            "abscur = 0\n", 
            "for i in 1:k:\n", 
            "    j = mod(i,k)+1\n", 
            "    d = round(norm(Vi(:,i)-Vi(:,j)))\n", 
            "    t = repmat((1:d)/d, [2 1])\n", 
            "    bound = [bound repmat(Vi(:,i),[1 d]).*(1-t) + repmat(Vi(:,j),[1 d]).*t]\n", 
            "    abscur = [abscur abscur(end)+(1:d)/d]\n", 
            "    loc(end+1) = loc(end)+d\n", 
            "\n", 
            "q = size(bound,2)\n", 
            "bound = round(bound)\n", 
            "I = bound(1,:) + (bound(2,:)-1)*n"
          ], 
          "language": "python", 
          "outputs": []
        }, 
        {
          "cell_type": "markdown", 
          "metadata": {}, 
          "source": [
            "\n", 
            "\n", 
            "Initialize the coordinates.\n", 
            ""
          ]
        }, 
        {
          "cell_type": "code", 
          "collapsed": false, 
          "input": [
            "C = zeros(n,n,k)"
          ], 
          "language": "python", 
          "outputs": []
        }, 
        {
          "cell_type": "markdown", 
          "metadata": {}, 
          "source": [
            "\n", 
            "\n", 
            "Compute the \"hat\" interpolation function at a given vertex location.\n", 
            ""
          ]
        }, 
        {
          "cell_type": "code", 
          "collapsed": false, 
          "input": [
            "i = 4\n", 
            "u = zeros(k+1,1)\n", 
            "u(i) = 1\n", 
            "if i==1\n", 
            "    u(end)=1\n", 
            "\n", 
            "u = interp1(0:k,u, abscur)"
          ], 
          "language": "python", 
          "outputs": []
        }, 
        {
          "cell_type": "markdown", 
          "metadata": {}, 
          "source": [
            "\n", 
            "\n", 
            "Initialize the coordinate.\n", 
            ""
          ]
        }, 
        {
          "cell_type": "code", 
          "collapsed": false, 
          "input": [
            "Ci = zeros(n)"
          ], 
          "language": "python", 
          "outputs": []
        }, 
        {
          "cell_type": "markdown", 
          "metadata": {}, 
          "source": [
            "\n", 
            "\n", 
            "Perform diffusion.\n", 
            ""
          ]
        }, 
        {
          "cell_type": "code", 
          "collapsed": false, 
          "input": [
            "sel1 = [2:n 1]\n", 
            "sel2 = [n 1:n-1]\n", 
            "Ci = ( Ci(sel1,:) + Ci(:,sel1) + Ci(sel2,:) + Ci(:,sel2) )/4"
          ], 
          "language": "python", 
          "outputs": []
        }, 
        {
          "cell_type": "markdown", 
          "metadata": {}, 
          "source": [
            "\n", 
            "\n", 
            "Impose value.\n", 
            ""
          ]
        }, 
        {
          "cell_type": "code", 
          "collapsed": false, 
          "input": [
            "Ci(I) = u"
          ], 
          "language": "python", 
          "outputs": []
        }, 
        {
          "cell_type": "markdown", 
          "metadata": {}, 
          "source": [
            "\n", 
            "\n", 
            "Display the first iteration.\n", 
            ""
          ]
        }, 
        {
          "cell_type": "code", 
          "collapsed": false, 
          "input": [
            "\n", 
            "imageplot(Ci')\n", 
            "colormap jet(256)"
          ], 
          "language": "python", 
          "outputs": []
        }, 
        {
          "cell_type": "heading", 
          "level": 3, 
          "metadata": {}, 
          "source": [
            "Exercise 2"
          ]
        }, 
        {
          "cell_type": "markdown", 
          "metadata": {}, 
          "source": [
            "\n", 
            "Perform the full computation of the coordinate |C(:,:,i)| by iterating the diffusion\n", 
            "and imposing the boundary value.\n", 
            "\n", 
            "\n", 
            "\n", 
            "\n", 
            "\n", 
            "\n", 
            "\n", 
            "\n", 
            "\n", 
            "\n", 
            "\n", 
            "\n", 
            "\n", 
            "\n", 
            "\n", 
            "\n", 
            "\n", 
            "\n", 
            "\n", 
            "\n", 
            "\n", 
            ""
          ]
        }, 
        {
          "cell_type": "code", 
          "collapsed": false, 
          "input": [
            "## Insert your code here."
          ], 
          "language": "python", 
          "outputs": []
        }, 
        {
          "cell_type": "markdown", 
          "metadata": {}, 
          "source": [
            "\n", 
            "\n", 
            "\n", 
            "Display one the functions.\n", 
            ""
          ]
        }, 
        {
          "cell_type": "code", 
          "collapsed": false, 
          "input": [
            "c = C(:,:,i); c(S==1) = 0\n", 
            "nl = 15\n", 
            "t = linspace(0,1,n)\n", 
            "B = display_shape_function(c')\n", 
            "clf; hold on\n", 
            "imagesc(t,t,B); axis('image'); axis('off')\n", 
            "contour(t,t,c',nl, 'k')\n", 
            "colormap jet(256)\n", 
            "h = plot(V(1,[1:end 1]), V(2,[1:end 1]), 'r.-')\n", 
            "set(h, 'LineWidth', lw); set(h, 'MarkerSize', ms)"
          ], 
          "language": "python", 
          "outputs": []
        }, 
        {
          "cell_type": "markdown", 
          "metadata": {}, 
          "source": [
            "\n", 
            ""
          ]
        }, 
        {
          "cell_type": "heading", 
          "level": 3, 
          "metadata": {}, 
          "source": [
            "Exercise 3"
          ]
        }, 
        {
          "cell_type": "markdown", 
          "metadata": {}, 
          "source": [
            "\n", 
            "Compute the full set of coordinate functions |C|.\n", 
            "\n", 
            "\n", 
            "\n", 
            "\n", 
            "\n", 
            "\n", 
            "\n", 
            "\n", 
            "\n", 
            "\n", 
            "\n", 
            "\n", 
            "\n", 
            "\n", 
            "\n", 
            ""
          ]
        }, 
        {
          "cell_type": "code", 
          "collapsed": false, 
          "input": [
            "## Insert your code here."
          ], 
          "language": "python", 
          "outputs": []
        }, 
        {
          "cell_type": "markdown", 
          "metadata": {}, 
          "source": [
            "\n", 
            "\n", 
            "\n", 
            "CMT"
          ]
        }, 
        {
          "cell_type": "code", 
          "collapsed": false, 
          "input": [
            "if run_cmt\n", 
            "for i in 1:k:\n", 
            "        c = abs(C(:,:,i)) + 1e-3\n", 
            "        c(S==1) = 0\n", 
            "        B = display_shape_function(c')\n", 
            "        clf; hold on\n", 
            "        t = linspace(0,1,n)\n", 
            "        imagesc(t,t,B); axis('image'); axis('off')\n", 
            "        contour(t,t,c',nl, 'k', 'LineWidth', 1.2)\n", 
            "        colormap jet(256)\n", 
            "        h = plot(V(1,[1:end 1]), V(2,[1:end 1]), 'r.-')\n", 
            "        set(h, 'LineWidth', lw); set(h, 'MarkerSize', ms)\n", 
            "        saveas(gcf, [rep cage '-coords-harmonic-' num2str(i)], 'epsc')\n", 
            "\n", 
            ""
          ], 
          "language": "python", 
          "outputs": []
        }, 
        {
          "cell_type": "markdown", 
          "metadata": {}, 
          "source": [
            "CMT\n", 
            "\n", 
            "\n", 
            "Apply the interpolation weight to the X/Y coordinate to test for the\n", 
            "linear precision of the coordinates. Here it is only valid inside the\n", 
            "shape.\n", 
            ""
          ]
        }, 
        {
          "cell_type": "code", 
          "collapsed": false, 
          "input": [
            "\n", 
            "A = applyinterp(C,V(1,:)); A(S==1) = 0\n", 
            "imageplot(A, 'Should be X', 1,2,1)\n", 
            "A = applyinterp(C,V(2,:)); A(S==1) = 0\n", 
            "imageplot(A, 'Should be Y', 1,2,2)\n", 
            "colormap jet(256)"
          ], 
          "language": "python", 
          "outputs": []
        }, 
        {
          "cell_type": "markdown", 
          "metadata": {}, 
          "source": [
            "\n", 
            "\n", 
            "Modify the position of the cage.\n", 
            ""
          ]
        }, 
        {
          "cell_type": "code", 
          "collapsed": false, 
          "input": [
            "rho = .7\n", 
            "V1 = V*(1-rho) + V2*rho"
          ], 
          "language": "python", 
          "outputs": []
        }, 
        {
          "cell_type": "markdown", 
          "metadata": {}, 
          "source": [
            "\n", 
            "\n", 
            "Warp the grid.\n", 
            ""
          ]
        }, 
        {
          "cell_type": "code", 
          "collapsed": false, 
          "input": [
            "X1 = applyinterp(C,V1(1,:))\n", 
            "Y1 = applyinterp(C,V1(2,:))\n", 
            "X1(S==1) = Inf; Y1(S==1) = Inf"
          ], 
          "language": "python", 
          "outputs": []
        }, 
        {
          "cell_type": "markdown", 
          "metadata": {}, 
          "source": [
            "\n", 
            "\n", 
            "Display the warped texture.\n", 
            ""
          ]
        }, 
        {
          "cell_type": "code", 
          "collapsed": false, 
          "input": [
            "clf; hold on\n", 
            "plot_surf_texture(cat(3,X1,Y1,zeros(n)), T')\n", 
            "h = plot(V1(1,[1:end 1]), V1(2,[1:end 1]), 'r.-')\n", 
            "set(h, 'LineWidth', lw); set(h, 'MarkerSize', ms)\n", 
            "view(2); axis('off'); axis('equal')\n", 
            "axis([0,1,0,1])"
          ], 
          "language": "python", 
          "outputs": []
        }, 
        {
          "cell_type": "markdown", 
          "metadata": {}, 
          "source": [
            "\n", 
            "CMT"
          ]
        }, 
        {
          "cell_type": "code", 
          "collapsed": false, 
          "input": [
            "if run_cmt\n", 
            "for i in 1:ntests:\n", 
            "        rho = rho_list(i)\n", 
            "        V1 = V*(1-rho) + V2*rho\n", 
            "        X1 = applyinterp(C,V1(1,:))\n", 
            "        Y1 = applyinterp(C,V1(2,:))\n", 
            "        X1(S==1) = Inf; Y1(S==1) = Inf\n", 
            "        % Display the warped texture.\n", 
            "        clf; hold on\n", 
            "        plot_surf_texture(cat(3,X1,Y1,zeros(n)), T')\n", 
            "        h = plot(V1(1,[1:end 1]), V1(2,[1:end 1]), 'r.-')\n", 
            "        set(h, 'LineWidth', lw); set(h, 'MarkerSize', ms)\n", 
            "        view(2); axis('off'); axis('equal')\n", 
            "        axis([0,1,0,1])\n", 
            "        saveas(gcf, [rep cage '-warp-harmonic-' num2str(i)], 'png')\n", 
            "\n", 
            ""
          ], 
          "language": "python", 
          "outputs": []
        }, 
        {
          "cell_type": "markdown", 
          "metadata": {}, 
          "source": [
            "CMT\n", 
            ""
          ]
        }, 
        {
          "cell_type": "heading", 
          "level": 2, 
          "metadata": {}, 
          "source": [
            "Green Coordinates\n"
          ]
        }, 
        {
          "cell_type": "markdown", 
          "metadata": {}, 
          "source": [
            "Another set of coordinates, that are fast to compute and does not go\n", 
            "\"though\" the cage, are the Green Coordinates, introduced in\n", 
            "\n", 
            "\n", 
            "Y. Lipman, D. Levin and D. Cohen-Or,\n", 
            "_Green Coordinates_\n", 
            "ACM Trans. Graph., 27(3), pages 1-10, 2008}.\n", 
            "\n", 
            "\n", 
            "Fist compute the oriented normal to the cage.\n", 
            ""
          ]
        }, 
        {
          "cell_type": "code", 
          "collapsed": false, 
          "input": [
            "N = V(:,[2:end 1]) - V\n", 
            "N = N ./ repmat( sqrt(sum(N.^2)), [2 1] )\n", 
            "N = -[-N(2,:); N(1,:)]"
          ], 
          "language": "python", 
          "outputs": []
        }, 
        {
          "cell_type": "markdown", 
          "metadata": {}, 
          "source": [
            "\n", 
            "\n", 
            "\n", 
            "Display the normals.\n", 
            ""
          ]
        }, 
        {
          "cell_type": "code", 
          "collapsed": false, 
          "input": [
            "clf; hold on\n", 
            "h = plot(V(1,[1:end 1]), V(2,[1:end 1]), 'r.-')\n", 
            "set(h, 'LineWidth', lw); set(h, 'MarkerSize', ms)\n", 
            "rho = .1\n", 
            "for i in 1:k:\n", 
            "    j = mod(i,k)+1\n", 
            "    a = mean( V(:,[i,j]), 2)\n", 
            "    h = plot( [a(1) a(1)+rho*N(1,i)], [a(2) a(2)+rho*N(2,i)], 'k' )\n", 
            "    set(h, 'LineWidth', lw); set(h, 'MarkerSize', ms)\n", 
            "\n", 
            "axis square; axis off"
          ], 
          "language": "python", 
          "outputs": []
        }, 
        {
          "cell_type": "markdown", 
          "metadata": {}, 
          "source": [
            "\n", 
            "\n", 
            "Each |C(:,:,i)| is a barycentric coordinate weight\n", 
            "for the vertices,  |i| and |D(:,:,i)| is a barycentric weight\n", 
            "for the edge |(i,i+1)|.\n", 
            ""
          ]
        }, 
        {
          "cell_type": "code", 
          "collapsed": false, 
          "input": [
            "C = zeros(n,n,k)\n", 
            "D = zeros(n,n,k)"
          ], 
          "language": "python", 
          "outputs": []
        }, 
        {
          "cell_type": "markdown", 
          "metadata": {}, 
          "source": [
            "\n", 
            "\n", 
            "Select two consecutive points on the polygon,\n", 
            "compute the associated normal\n", 
            ""
          ]
        }, 
        {
          "cell_type": "code", 
          "collapsed": false, 
          "input": [
            "i = 4\n", 
            "j = mod(i,k)+1\n", 
            "vi = V(:,i)\n", 
            "vj = V(:,j)\n", 
            "ni = -N(:,i)"
          ], 
          "language": "python", 
          "outputs": []
        }, 
        {
          "cell_type": "markdown", 
          "metadata": {}, 
          "source": [
            "\n", 
            "\n", 
            "See the Green Coordinate paper, Appendix A, for\n", 
            "these formula.\n", 
            ""
          ]
        }, 
        {
          "cell_type": "code", 
          "collapsed": false, 
          "input": [
            "a = repmat(vj - vi,[1 n^2])\n", 
            "b = repmat(vi,[1 n^2]) - W\n", 
            "Q = sum(a.^2); s = sum(b.^2); R = 2*sum(a.*b)\n", 
            "na = sqrt(sum(a.^2))\n", 
            "BA = na .* sum( b .* repmat(ni,[1 n^2]) )\n", 
            "SRT = sqrt( 4*s.*Q - R.^2 )\n", 
            "L0 = log(s); L1 = log(s+Q+R)\n", 
            "A0 = atan(      R ./SRT ) ./ SRT\n", 
            "A1 = atan( (2*Q+R)./SRT ) ./ SRT\n", 
            "A10 = A1 - A0\n", 
            "L10 = L1 - L0"
          ], 
          "language": "python", 
          "outputs": []
        }, 
        {
          "cell_type": "markdown", 
          "metadata": {}, 
          "source": [
            "\n", 
            "\n", 
            "Add the contribution of this edge to the weights.\n", 
            ""
          ]
        }, 
        {
          "cell_type": "code", 
          "collapsed": false, 
          "input": [
            "d = - na .* ( (4*s-(R.^2)./Q) .* A10 + R./(2*Q).*L10 + L1 - 2 )  / (4*pi) \n", 
            "cj = - BA .* ( L10./(2*Q) - A10 .* (  R./Q) ) / (2*pi)\n", 
            "ci = + BA .* ( L10./(2*Q) - A10 .* (2+R./Q) ) / (2*pi)\n", 
            "D(:,:,i) = reshape(d,n,n)\n", 
            "C(:,:,i) = C(:,:,i) + reshape(ci,n,n)\n", 
            "C(:,:,j) = C(:,:,j) + reshape(cj,n,n)"
          ], 
          "language": "python", 
          "outputs": []
        }, 
        {
          "cell_type": "heading", 
          "level": 3, 
          "metadata": {}, 
          "source": [
            "Exercise 4"
          ]
        }, 
        {
          "cell_type": "markdown", 
          "metadata": {}, 
          "source": [
            "\n", 
            "Compute the full Green Coordinates.\n", 
            "\n", 
            "\n", 
            "\n", 
            "\n", 
            "\n", 
            "\n", 
            "\n", 
            "\n", 
            "\n", 
            "\n", 
            "\n", 
            "\n", 
            "\n", 
            "\n", 
            "\n", 
            "\n", 
            "\n", 
            "\n", 
            "\n", 
            "\n", 
            "\n", 
            "\n", 
            "\n", 
            "\n", 
            "\n", 
            "\n", 
            ""
          ]
        }, 
        {
          "cell_type": "code", 
          "collapsed": false, 
          "input": [
            "## Insert your code here."
          ], 
          "language": "python", 
          "outputs": []
        }, 
        {
          "cell_type": "markdown", 
          "metadata": {}, 
          "source": [
            "\n", 
            "\n", 
            "\n", 
            "Display the vertex function.\n", 
            ""
          ]
        }, 
        {
          "cell_type": "code", 
          "collapsed": false, 
          "input": [
            "i = 4\n", 
            "c = rescale(C(:,:,i)); c(S==1) = 0\n", 
            "nl = 15\n", 
            "t = linspace(0,1,n)\n", 
            "B = display_shape_function(c')\n", 
            "clf; hold on\n", 
            "imagesc(t,t,B); axis('image'); axis('off')\n", 
            "contour(t,t,c',nl, 'k')\n", 
            "colormap jet(256)\n", 
            "h = plot(V(1,[1:end 1]), V(2,[1:end 1]), 'r.-')\n", 
            "set(h, 'LineWidth', lw); set(h, 'MarkerSize', ms)"
          ], 
          "language": "python", 
          "outputs": []
        }, 
        {
          "cell_type": "markdown", 
          "metadata": {}, 
          "source": [
            "\n", 
            "\n", 
            "Display the edge function.\n", 
            ""
          ]
        }, 
        {
          "cell_type": "code", 
          "collapsed": false, 
          "input": [
            "c = D(:,:,i); c(S==1) = 0\n", 
            "nl = 15\n", 
            "t = linspace(0,1,n)\n", 
            "B = display_shape_function(c')\n", 
            "clf; hold on\n", 
            "imagesc(t,t,B); axis('image'); axis('off')\n", 
            "contour(t,t,c',nl, 'k')\n", 
            "colormap jet(256)\n", 
            "h = plot(V(1,[1:end 1]), V(2,[1:end 1]), 'r.-')\n", 
            "set(h, 'LineWidth', lw); set(h, 'MarkerSize', ms)"
          ], 
          "language": "python", 
          "outputs": []
        }, 
        {
          "cell_type": "markdown", 
          "metadata": {}, 
          "source": [
            "\n", 
            "\n", 
            "\n", 
            "Apply the interpolation weight to the X/Y coordinate to test for the\n", 
            "linear precision of the coordinates.\n", 
            ""
          ]
        }, 
        {
          "cell_type": "code", 
          "collapsed": false, 
          "input": [
            "x = applyinterp(C,V(1,:)) + applyinterp(D,N(1,:))\n", 
            "y = applyinterp(C,V(2,:)) + applyinterp(D,N(2,:))\n", 
            "x(S==1) = 0; y(S==1) = 0\n", 
            "\n", 
            "imageplot(x, 'Should be X', 1,2,1)\n", 
            "imageplot(y, 'Should be Y', 1,2,2)\n", 
            "colormap jet(256)"
          ], 
          "language": "python", 
          "outputs": []
        }, 
        {
          "cell_type": "markdown", 
          "metadata": {}, 
          "source": [
            "\n", 
            "\n", 
            "Modify the position of the cage.\n", 
            ""
          ]
        }, 
        {
          "cell_type": "code", 
          "collapsed": false, 
          "input": [
            "rho = .7\n", 
            "V1 = V*(1-rho) + V2*rho"
          ], 
          "language": "python", 
          "outputs": []
        }, 
        {
          "cell_type": "markdown", 
          "metadata": {}, 
          "source": [
            "\n", 
            "\n", 
            "Compute the modified normals.\n", 
            ""
          ]
        }, 
        {
          "cell_type": "code", 
          "collapsed": false, 
          "input": [
            "N1 = V1(:,[2:end 1]) - V1\n", 
            "N1 = N1 ./ repmat( sqrt(sum(N1.^2)), [2 1] )\n", 
            "N1 = -[-N1(2,:); N1(1,:)]"
          ], 
          "language": "python", 
          "outputs": []
        }, 
        {
          "cell_type": "markdown", 
          "metadata": {}, 
          "source": [
            "\n", 
            "\n", 
            "Compute the amplification factor.\n", 
            ""
          ]
        }, 
        {
          "cell_type": "code", 
          "collapsed": false, 
          "input": [
            "s = sqrt( sum( (V1(:,[2:end 1]) - V1).^2 ) ./ sum( (V(:,[2:end 1]) - V).^2 ) )\n", 
            "s = repmat(reshape(s, [1 1 k]), [n n 1])"
          ], 
          "language": "python", 
          "outputs": []
        }, 
        {
          "cell_type": "markdown", 
          "metadata": {}, 
          "source": [
            "\n", 
            "\n", 
            "Warp the grid.\n", 
            "Do not forget to multiply the normal weight by the amplification factor.\n", 
            ""
          ]
        }, 
        {
          "cell_type": "code", 
          "collapsed": false, 
          "input": [
            "X1 = applyinterp(C,V1(1,:)) + applyinterp(s.*D,N1(1,:))\n", 
            "Y1 = applyinterp(C,V1(2,:)) + applyinterp(s.*D,N1(2,:))\n", 
            "X1(S==1) = Inf; Y1(S==1) = Inf"
          ], 
          "language": "python", 
          "outputs": []
        }, 
        {
          "cell_type": "markdown", 
          "metadata": {}, 
          "source": [
            "\n", 
            "\n", 
            "Display the warped texture.\n", 
            ""
          ]
        }, 
        {
          "cell_type": "code", 
          "collapsed": false, 
          "input": [
            "clf; hold on\n", 
            "plot_surf_texture(cat(3,X1,Y1,zeros(n)), T')\n", 
            "h = plot(V1(1,[1:end 1]), V1(2,[1:end 1]), 'r.-')\n", 
            "set(h, 'LineWidth', lw); set(h, 'MarkerSize', ms)\n", 
            "view(2); axis('off'); axis('equal')\n", 
            "axis([0,1,0,1])"
          ], 
          "language": "python", 
          "outputs": []
        }, 
        {
          "cell_type": "markdown", 
          "metadata": {}, 
          "source": [
            "\n", 
            "CMT"
          ]
        }, 
        {
          "cell_type": "code", 
          "collapsed": false, 
          "input": [
            "if run_cmt\n", 
            "for i in 1:ntests:\n", 
            "        rho = rho_list(i)\n", 
            "        %\n", 
            "        V1 = V*(1-rho) + V2*rho\n", 
            "        N1 = V1(:,[2:end 1]) - V1\n", 
            "        N1 = N1 ./ repmat( sqrt(sum(N1.^2)), [2 1] )\n", 
            "        N1 = -[-N1(2,:); N1(1,:)]\n", 
            "        %\n", 
            "        s = sqrt( sum( (V1(:,[2:end 1]) - V1).^2 ) ./ sum( (V(:,[2:end 1]) - V).^2 ) )\n", 
            "        s = repmat(reshape(s, [1 1 k]), [n n 1])\n", 
            "        %\n", 
            "        X1 = applyinterp(C,V1(1,:)) + applyinterp(s.*D,N1(1,:))\n", 
            "        Y1 = applyinterp(C,V1(2,:)) + applyinterp(s.*D,N1(2,:))\n", 
            "        X1(S==1) = Inf; Y1(S==1) = Inf\n", 
            "        % Display the warped texture.\n", 
            "        clf; hold on\n", 
            "        plot_surf_texture(cat(3,X1,Y1,zeros(n)), T')\n", 
            "        h = plot(V1(1,[1:end 1]), V1(2,[1:end 1]), 'r.-')\n", 
            "        set(h, 'LineWidth', lw); set(h, 'MarkerSize', ms)\n", 
            "        view(2); axis('off'); axis('equal')\n", 
            "        axis([0,1,0,1])\n", 
            "        saveas(gcf, [rep cage '-warp-green-' num2str(i)], 'png')\n", 
            "\n", 
            ""
          ], 
          "language": "python", 
          "outputs": []
        }, 
        {
          "cell_type": "markdown", 
          "metadata": {}, 
          "source": [
            "CMT\n", 
            "\n", 
            ""
          ]
        }, 
        {
          "cell_type": "heading", 
          "level": 3, 
          "metadata": {}, 
          "source": [
            "Exercise 5"
          ]
        }, 
        {
          "cell_type": "markdown", 
          "metadata": {}, 
          "source": [
            "\n", 
            "Compare the Mean value, Harmonic, and Green coordinates on serveral\n", 
            "cages, including a cage enclosing a caracter with two legs. Try to move\n", 
            "the legs, and compare the results."
          ]
        }, 
        {
          "cell_type": "code", 
          "collapsed": false, 
          "input": [
            "## Insert your code here."
          ], 
          "language": "python", 
          "outputs": []
        }, 
        {
          "cell_type": "markdown", 
          "metadata": {}, 
          "source": [
            "\n", 
            ""
          ]
        }, 
        {
          "cell_type": "heading", 
          "level": 2, 
          "metadata": {}, 
          "source": [
            "Volumertric Barycentric Coordinates\n"
          ]
        }, 
        {
          "cell_type": "markdown", 
          "metadata": {}, 
          "source": [
            "The barycentric coordinates extends to 3D volumes.\n", 
            ""
          ]
        }, 
        {
          "cell_type": "heading", 
          "level": 3, 
          "metadata": {}, 
          "source": [
            "Exercise 6"
          ]
        }, 
        {
          "cell_type": "markdown", 
          "metadata": {}, 
          "source": [
            "\n", 
            "Extend the Harmonic and Green coordinates methods to volumetric cages and volumetric data."
          ]
        }, 
        {
          "cell_type": "code", 
          "collapsed": false, 
          "input": [
            "## Insert your code here."
          ], 
          "language": "python", 
          "outputs": []
        }
      ]
    }
  ]
}