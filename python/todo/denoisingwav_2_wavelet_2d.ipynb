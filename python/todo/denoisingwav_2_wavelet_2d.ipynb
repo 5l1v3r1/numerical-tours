{
  "metadata": {
    "name": ""
  }, 
  "nbformat": 3, 
  "nbformat_minor": 0, 
  "worksheets": [
    {
      "cells": [
        {
          "cell_type": "heading", 
          "level": 1, 
          "metadata": {}, 
          "source": [
            "Image Denoising with Wavelets"
          ]
        }, 
        {
          "cell_type": "markdown", 
          "metadata": {}, 
          "source": [
            "This numerical tour uses wavelets to perform non-linear\n", 
            "image denoising.\n", 
            ""
          ]
        }, 
        {
          "cell_type": "markdown", 
          "metadata": {}, 
          "source": [
            "*Important:* You need to download the file `nt_toolbox.py` from the \n", 
            "root of the github repository.\n", 
            "$\\newcommand{\\dotp}[2]{\\langle #1, #2 \\rangle}\n", 
            "\\newcommand{\\enscond}[2]{\\lbrace #1, #2 \\rbrace}\n", 
            "\\newcommand{\\pd}[2]{ \\frac{ \\partial #1}{\\partial #2} }\n", 
            "\\newcommand{\\umin}[1]{\\underset{#1}{\\min}\\;}\n", 
            "\\newcommand{\\norm}[1]{\\|#1\\|}\n", 
            "\\newcommand{\\abs}[1]{\\left|#1\\right|}\n", 
            "\\newcommand{\\choice}[1]{ \\left\\{  \\begin{array}{l} #1 \\end{array} \\right. }\n", 
            "\\newcommand{\\pa}[1]{\\left(#1\\right)}\n", 
            "\\newcommand{\\qandq}{\\quad\\text{and}\\quad}\n", 
            "\\newcommand{\\qwhereq}{\\quad\\text{where}\\quad}\n", 
            "\\newcommand{\\qifq}{ \\quad \\text{if} \\quad }\n", 
            "\\newcommand{\\qarrq}{ \\quad \\Longrightarrow \\quad }\n", 
            "\\newcommand{\\ZZ}{\\mathbb{Z}}\n", 
            "\\newcommand{\\RR}{\\mathbb{R}}\n", 
            "\\newcommand{\\Nn}{\\mathcal{N}}\n", 
            "\\newcommand{\\Hh}{\\mathcal{H}}\n", 
            "\\newcommand{\\Bb}{\\mathcal{B}}\n", 
            "\\newcommand{\\EE}{\\mathbb{E}}\n", 
            "\\newcommand{\\CC}{\\mathbb{C}}\n", 
            "\\newcommand{\\si}{\\sigma}\n", 
            "\\newcommand{\\al}{\\alpha}\n", 
            "\\newcommand{\\la}{\\lambda}\n", 
            "\\newcommand{\\ga}{\\gamma}\n", 
            "\\newcommand{\\Ga}{\\Gamma}\n", 
            "\\newcommand{\\La}{\\Lambda}\n", 
            "\\newcommand{\\si}{\\sigma}\n", 
            "\\newcommand{\\Si}{\\Sigma}\n", 
            "\\newcommand{\\be}{\\beta}\n", 
            "\\newcommand{\\de}{\\delta}\n", 
            "\\newcommand{\\De}{\\Delta}\n", 
            "\\renewcommand{\\phi}{\\varphi}\n", 
            "\\renewcommand{\\th}{\\theta}\n", 
            "\\newcommand{\\om}{\\omega}\n", 
            "\\newcommand{\\Om}{\\Omega}\n", 
            "$"
          ]
        }, 
        {
          "cell_type": "code", 
          "collapsed": false, 
          "input": [
            "from nt_toolbox import *", 
            "%matplotlib inline", 
            "%load_ext autoreload", 
            "%autoreload 2"
          ], 
          "language": "python", 
          "outputs": []
        }, 
        {
          "cell_type": "heading", 
          "level": 2, 
          "metadata": {}, 
          "source": [
            "Image Denoising \n"
          ]
        }, 
        {
          "cell_type": "markdown", 
          "metadata": {}, 
          "source": [
            "We consider a simple generative model of noisy images $F = f_0+W$\n", 
            "where $f_0 \\in \\RR^N$ is a deterministic image of $N$ pixels, and\n", 
            "$W$ is a Gaussian white noise distributed according to $\\Nn(0,\\si^2\n", 
            "\\text{Id}_N)$, where $\\si^2$ is the variance of noise.\n", 
            "\n", 
            "\n", 
            "The goal of denoising is to define an estimator $\\tilde F$ of\n", 
            "$f_0$ that depends only on $F$, i.e. $\\tilde F = \\phi(F)$\n", 
            "where $\\phi : \\RR^N \\rightarrow \\RR^N$ is a potentially non-linear\n", 
            "mapping.\n", 
            "\n", 
            "\n", 
            "Note that while $f_0$ is a deterministic image, both $F$ and $\\tilde F$\n", 
            "are random variables (hence the capital letters).\n", 
            "\n", 
            "\n", 
            "The goal of denoising is to reduce as much as possible the denoising\n", 
            "error given some prior knowledge on the (unknown) image $f_0$.\n", 
            "A mathematical way to measure this error is to bound the\n", 
            "quadratic risk $\\EE_w(\\norm{\\tilde F - f_0}^2)$, where the expectation is computed\n", 
            "with respect to the distribution of the noise $W$.\n", 
            ""
          ]
        }, 
        {
          "cell_type": "heading", 
          "level": 2, 
          "metadata": {}, 
          "source": [
            "Image loading and adding Gaussian Noise\n"
          ]
        }, 
        {
          "cell_type": "markdown", 
          "metadata": {}, 
          "source": [
            "For real life applications, one does not have access to the underlying\n", 
            "image $f_0$. In this tour, we however assume that $f_0$ is known, and\n", 
            "$f = f_0 + w\\in \\RR^N$ is generated using a single realization of the noise $w$\n", 
            "that is drawn from $W$. We define the estimated deterministic image as\n", 
            "$\\tilde f = \\phi(f)$ which is a realization of the random vector\n", 
            "$\\tilde F$.\n", 
            "\n", 
            "\n", 
            "First we load an image $f \\in \\RR^N$ where $N=n \\times n$ is the number of pixels.\n", 
            ""
          ]
        }, 
        {
          "cell_type": "code", 
          "collapsed": false, 
          "input": [
            "n = 256\n", 
            "name = 'hibiscus'\n", 
            "f0 = rescale( load_image(name,n) )\n", 
            "if using_matlab()\n", 
            "    f0 = rescale( sum(f0,3) )\n", 
            ""
          ], 
          "language": "python", 
          "outputs": []
        }, 
        {
          "cell_type": "markdown", 
          "metadata": {}, 
          "source": [
            "\n", 
            "\n", 
            "Display it.\n", 
            ""
          ]
        }, 
        {
          "cell_type": "code", 
          "collapsed": false, 
          "input": [
            "\n", 
            "imageplot(f0)"
          ], 
          "language": "python", 
          "outputs": []
        }, 
        {
          "cell_type": "markdown", 
          "metadata": {}, 
          "source": [
            "\n", 
            "\n", 
            "Standard deviation $\\si$ of the noise.\n", 
            ""
          ]
        }, 
        {
          "cell_type": "code", 
          "collapsed": false, 
          "input": [
            "sigma = .08"
          ], 
          "language": "python", 
          "outputs": []
        }, 
        {
          "cell_type": "markdown", 
          "metadata": {}, 
          "source": [
            "\n", 
            "\n", 
            "Then we add Gaussian noise $w$ to obtain $f=f_0+w$.\n", 
            ""
          ]
        }, 
        {
          "cell_type": "code", 
          "collapsed": false, 
          "input": [
            "f = f0 + sigma*randn(size(f0))"
          ], 
          "language": "python", 
          "outputs": []
        }, 
        {
          "cell_type": "markdown", 
          "metadata": {}, 
          "source": [
            "\n", 
            "\n", 
            "Display the noisy image. Note the use of the |clamp| function to saturate\n", 
            "the result to $[0,1]$ to avoid a loss of contrast of the display.\n", 
            ""
          ]
        }, 
        {
          "cell_type": "code", 
          "collapsed": false, 
          "input": [
            "\n", 
            "imageplot(clamp(f), strcat(['Noisy, SNR=' num2str(snr(f0,f),3)]))"
          ], 
          "language": "python", 
          "outputs": []
        }, 
        {
          "cell_type": "heading", 
          "level": 2, 
          "metadata": {}, 
          "source": [
            "Hard Thresholding in Wavelet Bases\n"
          ]
        }, 
        {
          "cell_type": "markdown", 
          "metadata": {}, 
          "source": [
            "A simple but efficient non-linear denoising estimator is obtained by\n", 
            "thresholding the coefficients of $f$ in a well chosen orthogonal basis\n", 
            "$\\Bb = \\{\\psi_m\\}_m$ of $\\RR^N$.\n", 
            "\n", 
            "\n", 
            "In the following, we will focuss on a wavelet basis, which is efficient\n", 
            "to denoise piecewise regular images.\n", 
            "\n", 
            "\n", 
            "The hard thresholding operator with threshold $T \\geq 0$ applied to\n", 
            "some image $f$ is defined as\n", 
            "$$ S_T^0(f) = \\sum_{\\abs{\\dotp{f}{\\psi_m}}>T} \\dotp{f}{\\psi_m} \\psi_m\n", 
            "       = \\sum_m s_T^0(\\dotp{f}{\\psi_m}) \\psi_m $$\n", 
            "where the hard thresholding operator is\n", 
            "$$\n", 
            "      s_T^0(\\alpha) = \\choice{\n", 
            "           \\alpha \\qifq \\abs{\\al}>T, \\\\\n", 
            "              0 \\quad\\text{otherwise}.\n", 
            "      }\n", 
            "$$\n", 
            "\n", 
            "\n", 
            "The denoising estimator is then defined as\n", 
            "$$ \\tilde f = S_T^0(f). $$\n", 
            "\n", 
            "\n", 
            "Set the threshold value.\n", 
            ""
          ]
        }, 
        {
          "cell_type": "code", 
          "collapsed": false, 
          "input": [
            "T = 1"
          ], 
          "language": "python", 
          "outputs": []
        }, 
        {
          "cell_type": "markdown", 
          "metadata": {}, 
          "source": [
            "\n", 
            "\n", 
            "Display the function $s_T^0(\\al)$.\n", 
            ""
          ]
        }, 
        {
          "cell_type": "code", 
          "collapsed": false, 
          "input": [
            "alpha = linspace(-3,3,1000)\n", 
            "\n", 
            "plot(alpha, alpha.*(abs(alpha)>T))\n", 
            "axis tight"
          ], 
          "language": "python", 
          "outputs": []
        }, 
        {
          "cell_type": "markdown", 
          "metadata": {}, 
          "source": [
            "\n", 
            "\n", 
            "Parameters for the orthogonal wavelet transform.\n", 
            ""
          ]
        }, 
        {
          "cell_type": "code", 
          "collapsed": false, 
          "input": [
            "options.ti = 0\n", 
            "Jmin = 4"
          ], 
          "language": "python", 
          "outputs": []
        }, 
        {
          "cell_type": "markdown", 
          "metadata": {}, 
          "source": [
            "\n", 
            "\n", 
            "First we compute the wavelet coefficients $a$\n", 
            "of the noisy image $f$.\n", 
            ""
          ]
        }, 
        {
          "cell_type": "code", 
          "collapsed": false, 
          "input": [
            "a = perform_wavelet_transf(f,Jmin,+1,options)"
          ], 
          "language": "python", 
          "outputs": []
        }, 
        {
          "cell_type": "markdown", 
          "metadata": {}, 
          "source": [
            "\n", 
            "\n", 
            "Display the noisy coefficients.\n", 
            ""
          ]
        }, 
        {
          "cell_type": "code", 
          "collapsed": false, 
          "input": [
            "\n", 
            "plot_wavelet(a,Jmin)"
          ], 
          "language": "python", 
          "outputs": []
        }, 
        {
          "cell_type": "markdown", 
          "metadata": {}, 
          "source": [
            "\n", 
            "\n", 
            "Select the threshold value, that should be proportional to the noise\n", 
            "level $\\si$.\n", 
            ""
          ]
        }, 
        {
          "cell_type": "code", 
          "collapsed": false, 
          "input": [
            "T = 3*sigma"
          ], 
          "language": "python", 
          "outputs": []
        }, 
        {
          "cell_type": "markdown", 
          "metadata": {}, 
          "source": [
            "\n", 
            "\n", 
            "Hard threshold the coefficients below the noise level to obtain $a_T(m)=s_T^0(a_m)$.\n", 
            ""
          ]
        }, 
        {
          "cell_type": "code", 
          "collapsed": false, 
          "input": [
            "aT = a .* (abs(a)>T)"
          ], 
          "language": "python", 
          "outputs": []
        }, 
        {
          "cell_type": "markdown", 
          "metadata": {}, 
          "source": [
            "\n", 
            "\n", 
            "Display the thresholded coefficients.\n", 
            ""
          ]
        }, 
        {
          "cell_type": "code", 
          "collapsed": false, 
          "input": [
            "\n", 
            "plot_wavelet(aT,Jmin)"
          ], 
          "language": "python", 
          "outputs": []
        }, 
        {
          "cell_type": "markdown", 
          "metadata": {}, 
          "source": [
            "\n", 
            "\n", 
            "Reconstruct the image $\\tilde f$ from these noisy coefficients.\n", 
            ""
          ]
        }, 
        {
          "cell_type": "code", 
          "collapsed": false, 
          "input": [
            "fHard = perform_wavelet_transf(aT,Jmin,-1,options)"
          ], 
          "language": "python", 
          "outputs": []
        }, 
        {
          "cell_type": "markdown", 
          "metadata": {}, 
          "source": [
            "\n", 
            "\n", 
            "Display the denoising result.\n", 
            ""
          ]
        }, 
        {
          "cell_type": "code", 
          "collapsed": false, 
          "input": [
            "\n", 
            "imageplot(clamp(fHard), strcat(['Hard denoising, SNR=' num2str(snr(f0,fHard),3)]))"
          ], 
          "language": "python", 
          "outputs": []
        }, 
        {
          "cell_type": "markdown", 
          "metadata": {}, 
          "source": [
            "\n", 
            "\n", 
            ""
          ]
        }, 
        {
          "cell_type": "heading", 
          "level": 2, 
          "metadata": {}, 
          "source": [
            "Wavelet Denoising with Soft Thesholding\n"
          ]
        }, 
        {
          "cell_type": "markdown", 
          "metadata": {}, 
          "source": [
            "The estimated image $\\tilde f$ using hard thresholding.\n", 
            "suffers from many artifacts. It is\n", 
            "possible to improve the result by using soft thresholding,\n", 
            "defined as\n", 
            "$$ \\tilde f = S_T^1(f) = \\sum_m s_T^1(\\dotp{f}{\\psi_m}) \\psi_m $$\n", 
            "$$\n", 
            "      \\qwhereq\n", 
            "      s_T^1(\\alpha) = \\max\\pa{0, 1 - \\frac{T}{\\abs{\\alpha}}}\\alpha.\n", 
            "$$\n", 
            "\n", 
            "\n", 
            "\n", 
            "Display the soft thresholding function $s_T^1(\\al)$.\n", 
            ""
          ]
        }, 
        {
          "cell_type": "code", 
          "collapsed": false, 
          "input": [
            "T = 1\n", 
            "alpha = linspace(-3,3,1000)\n", 
            "alphaT = max(1-T./abs(alpha), 0).*alpha\n", 
            "\n", 
            "plot(alpha, alphaT)\n", 
            "axis tight"
          ], 
          "language": "python", 
          "outputs": []
        }, 
        {
          "cell_type": "markdown", 
          "metadata": {}, 
          "source": [
            "\n", 
            "\n", 
            "Select the threshold.\n", 
            ""
          ]
        }, 
        {
          "cell_type": "code", 
          "collapsed": false, 
          "input": [
            "T = 3/2*sigma"
          ], 
          "language": "python", 
          "outputs": []
        }, 
        {
          "cell_type": "markdown", 
          "metadata": {}, 
          "source": [
            "\n", 
            "\n", 
            "Perform the soft thresholding.\n", 
            ""
          ]
        }, 
        {
          "cell_type": "code", 
          "collapsed": false, 
          "input": [
            "aT = perform_thresholding(a,T,'soft')"
          ], 
          "language": "python", 
          "outputs": []
        }, 
        {
          "cell_type": "markdown", 
          "metadata": {}, 
          "source": [
            "\n", 
            "\n", 
            "To slightly improve the soft thresholding performance, we do not\n", 
            "threshold the coefficients corresponding to coarse scale wavelets.\n", 
            ""
          ]
        }, 
        {
          "cell_type": "code", 
          "collapsed": false, 
          "input": [
            "aT(1:2^Jmin,1:2^Jmin) = a(1:2^Jmin,1:2^Jmin)"
          ], 
          "language": "python", 
          "outputs": []
        }, 
        {
          "cell_type": "markdown", 
          "metadata": {}, 
          "source": [
            "\n", 
            "\n", 
            "Re-construct the soft thresholding estimator $\\tilde f$.\n", 
            ""
          ]
        }, 
        {
          "cell_type": "code", 
          "collapsed": false, 
          "input": [
            "fSoft = perform_wavelet_transf(aT,Jmin,-1,options)"
          ], 
          "language": "python", 
          "outputs": []
        }, 
        {
          "cell_type": "markdown", 
          "metadata": {}, 
          "source": [
            "\n", 
            "\n", 
            "Display the soft thresholding denoising result.\n", 
            ""
          ]
        }, 
        {
          "cell_type": "code", 
          "collapsed": false, 
          "input": [
            "\n", 
            "imageplot(clamp(fSoft), strcat(['Soft denoising, SNR=' num2str(snr(f0,fSoft),3)]))"
          ], 
          "language": "python", 
          "outputs": []
        }, 
        {
          "cell_type": "markdown", 
          "metadata": {}, 
          "source": [
            "\n", 
            "\n", 
            "One can prove that if the non-linear approximation error\n", 
            "$ \\norm{f_0-S_T(f_0)}^2 $ decays fast toward zero when\n", 
            "$T$ decreases, then the quadratic risk\n", 
            "$ \\EE_w( \\norm{f-S_T(f)}^2 ) $ also decays fast to zero\n", 
            "when $\\si$ decays. For this result to hold, it is required\n", 
            "to select the threshold value according to the universal threshold rule\n", 
            "$$ T = \\si \\sqrt{2\\log(N)}. $$\n", 
            ""
          ]
        }, 
        {
          "cell_type": "heading", 
          "level": 3, 
          "metadata": {}, 
          "source": [
            "Exercise 1"
          ]
        }, 
        {
          "cell_type": "markdown", 
          "metadata": {}, 
          "source": [
            "\n", 
            "Determine the best threshold $T$ for both hard and soft thresholding.\n", 
            "Test several $T$ values in $[.8*\\sigma, 4.5\\sigma$,\n", 
            "and display the empirical SNR $-10\\log_{10}(\\norm{f_0-\\tilde f}/\\norm{f_0})$\n", 
            "What can you conclude from these results ?\n", 
            "Test with another image.\n", 
            "\n", 
            "\n", 
            "\n", 
            "\n", 
            "\n", 
            "\n", 
            "\n", 
            "\n", 
            "\n", 
            "\n", 
            "\n", 
            "\n", 
            "\n", 
            "\n", 
            "\n", 
            "\n", 
            "\n", 
            ""
          ]
        }, 
        {
          "cell_type": "code", 
          "collapsed": false, 
          "input": [
            "## Insert your code here."
          ], 
          "language": "python", 
          "outputs": []
        }, 
        {
          "cell_type": "markdown", 
          "metadata": {}, 
          "source": [
            "\n", 
            ""
          ]
        }, 
        {
          "cell_type": "heading", 
          "level": 2, 
          "metadata": {}, 
          "source": [
            "Translation Invariant Denoising with Cycle Spinning\n"
          ]
        }, 
        {
          "cell_type": "markdown", 
          "metadata": {}, 
          "source": [
            "Orthogonal wavelet transforms are not translation invariant.\n", 
            "It means that the processing of an image and of a translated version of\n", 
            "the image give different results.\n", 
            "\n", 
            "\n", 
            "Any denoiser can be turned into a translation invariant denoiser by\n", 
            "performing a cycle spinning. The denoiser is applied to several shifted\n", 
            "copies of the image, then the resulting denoised image are shifted back\n", 
            "to the original position, and the results are averaged.\n", 
            "\n", 
            "\n", 
            "This corresponds to defining the estimator as\n", 
            "$$ \\tilde f = \\frac{1}{M} \\sum_{i=1}^{M}\n", 
            "      T_{-\\de_i} \\circ S_T(f) \\circ T_{\\de_i}$$\n", 
            "where $S_T$ is either the hard or soft thresholding,\n", 
            "and $T_\\de(f)(x) = f(x-\\de)$ is the translation operator,\n", 
            "using periodic boundary conditions.\n", 
            "Here $(\\de_i)_i$ is a set of $M$ discrete translation. Perfect invariance\n", 
            "is obtained by using all possible $N$ translatation, but\n", 
            "usually a small number $M \\ll N$ of translation is used to obtain approximate\n", 
            "invariance.\n", 
            "\n", 
            "\n", 
            "\n", 
            "Number $m$ of translations along each direction\n", 
            "so that $M = m^2$.\n", 
            ""
          ]
        }, 
        {
          "cell_type": "code", 
          "collapsed": false, 
          "input": [
            "m = 4"
          ], 
          "language": "python", 
          "outputs": []
        }, 
        {
          "cell_type": "markdown", 
          "metadata": {}, 
          "source": [
            "\n", 
            "\n", 
            "Generate a set of shifts $(\\de_i)_i$.\n", 
            ""
          ]
        }, 
        {
          "cell_type": "code", 
          "collapsed": false, 
          "input": [
            "[dY,dX] = meshgrid(0:m-1,0:m-1)\n", 
            "delta = [dX(:) dY(:)]'"
          ], 
          "language": "python", 
          "outputs": []
        }, 
        {
          "cell_type": "markdown", 
          "metadata": {}, 
          "source": [
            "\n", 
            "\n", 
            "To avoid storing all the translates in memory, one can perform a\n", 
            "progressive averaging of the translates by defining $f^{(0)}=0$ and\n", 
            "then\n", 
            "$$ \\forall\\, i=1,\\ldots,M, \\quad f^{(i)} = \\pa{1-\\frac{i}{n}} f^{(i-1)} +\n", 
            "      \\frac{i}{n} T_{-\\de_i} \\circ S_T(f) \\circ T_{\\de_i}  $$\n", 
            "One then has $\\tilde f = f^{(M)} $ after $M$ steps.\n", 
            "\n", 
            "\n", 
            "Initialize the denoised image $f^{(0)}=0$.\n", 
            ""
          ]
        }, 
        {
          "cell_type": "code", 
          "collapsed": false, 
          "input": [
            "fTI = zeros(n,n)"
          ], 
          "language": "python", 
          "outputs": []
        }, 
        {
          "cell_type": "markdown", 
          "metadata": {}, 
          "source": [
            "\n", 
            "\n", 
            "Initialize the index $i$ that should run in $1,\\ldots,m^2$\n", 
            ""
          ]
        }, 
        {
          "cell_type": "code", 
          "collapsed": false, 
          "input": [
            "i = 1"
          ], 
          "language": "python", 
          "outputs": []
        }, 
        {
          "cell_type": "markdown", 
          "metadata": {}, 
          "source": [
            "\n", 
            "\n", 
            "Apply the shift, using circular boundary conditions.\n", 
            ""
          ]
        }, 
        {
          "cell_type": "code", 
          "collapsed": false, 
          "input": [
            "fS = circshift(f,delta(:,i))"
          ], 
          "language": "python", 
          "outputs": []
        }, 
        {
          "cell_type": "markdown", 
          "metadata": {}, 
          "source": [
            "\n", 
            "\n", 
            "Apply here the denoising to |fS|.\n", 
            ""
          ]
        }, 
        {
          "cell_type": "code", 
          "collapsed": false, 
          "input": [
            "a = perform_wavelet_transf(fS,Jmin,1,options)\n", 
            "aT = perform_thresholding(a,T,'hard')\n", 
            "fS = perform_wavelet_transf(aT,Jmin,-1,options)"
          ], 
          "language": "python", 
          "outputs": []
        }, 
        {
          "cell_type": "markdown", 
          "metadata": {}, 
          "source": [
            "\n", 
            "\n", 
            "After denoising, do the inverse shift.\n", 
            ""
          ]
        }, 
        {
          "cell_type": "code", 
          "collapsed": false, 
          "input": [
            "fS = circshift(fS,-delta(:,i))"
          ], 
          "language": "python", 
          "outputs": []
        }, 
        {
          "cell_type": "markdown", 
          "metadata": {}, 
          "source": [
            "\n", 
            "\n", 
            "Accumulate the result to obtain at the end the denoised image that\n", 
            "averahe the translated results.\n", 
            ""
          ]
        }, 
        {
          "cell_type": "code", 
          "collapsed": false, 
          "input": [
            "fTI = (i-1)/i*fTI + 1/i*fS"
          ], 
          "language": "python", 
          "outputs": []
        }, 
        {
          "cell_type": "heading", 
          "level": 3, 
          "metadata": {}, 
          "source": [
            "Exercise 2"
          ]
        }, 
        {
          "cell_type": "markdown", 
          "metadata": {}, 
          "source": [
            "\n", 
            "Perform the cycle spinning denoising by iterating on $i$.\n", 
            "\n", 
            "\n", 
            "\n", 
            "\n", 
            "\n", 
            "\n", 
            "\n", 
            "\n", 
            "\n", 
            "\n", 
            "\n", 
            "\n", 
            ""
          ]
        }, 
        {
          "cell_type": "code", 
          "collapsed": false, 
          "input": [
            "## Insert your code here."
          ], 
          "language": "python", 
          "outputs": []
        }, 
        {
          "cell_type": "markdown", 
          "metadata": {}, 
          "source": [
            "\n", 
            ""
          ]
        }, 
        {
          "cell_type": "heading", 
          "level": 3, 
          "metadata": {}, 
          "source": [
            "Exercise 3"
          ]
        }, 
        {
          "cell_type": "markdown", 
          "metadata": {}, 
          "source": [
            "\n", 
            "Study the influence of the number $m$ of shift on the denoising\n", 
            "quality.\n", 
            "\n", 
            "\n", 
            "\n", 
            "\n", 
            "\n", 
            "\n", 
            "\n", 
            "\n", 
            "\n", 
            "\n", 
            "\n", 
            "\n", 
            "\n", 
            "\n", 
            "\n", 
            "\n", 
            "\n", 
            "\n", 
            "\n", 
            "\n", 
            "\n", 
            "\n", 
            ""
          ]
        }, 
        {
          "cell_type": "code", 
          "collapsed": false, 
          "input": [
            "## Insert your code here."
          ], 
          "language": "python", 
          "outputs": []
        }, 
        {
          "cell_type": "markdown", 
          "metadata": {}, 
          "source": [
            "\n", 
            "\n", 
            ""
          ]
        }, 
        {
          "cell_type": "heading", 
          "level": 2, 
          "metadata": {}, 
          "source": [
            "Translation Invariant Wavelet Transform\n"
          ]
        }, 
        {
          "cell_type": "markdown", 
          "metadata": {}, 
          "source": [
            "Another way to achieve translation invariance, which is equivalent to\n", 
            "performing cycle spinning, is to replace the orthogonal wavelet\n", 
            "basis $\\Bb = \\{\\psi_m\\}_{m=0}^{N-1}$ by a redundant translation\n", 
            "invariant wavelet frame\n", 
            "$$ \\Dd = \\enscond{ \\psi_m(\\cdot-\\de) }{ m = 0,\\ldots,N-1, \\de \\in \\{0,\\ldots,n-1\\}^2 }. $$\n", 
            "\n", 
            "\n", 
            "One can prove that there is actually only $P = N\\log_2(N)$ atoms in this\n", 
            "dictionary, that we note $\\De = \\{\\tilde \\psi_k\\}_{k=0}^{P-1}$.\n", 
            "\n", 
            "\n", 
            "One can furthermore define weights $\\la_k>0$ so that the\n", 
            "following reconstruction formula holds (pseudo-invers reconstruction)\n", 
            "$$ f = \\sum_k \\la_k \\dotp{f}{\\tilde \\psi_k} \\tilde \\psi_k. $$\n", 
            "\n", 
            "\n", 
            "For Scilab, we need to extend a little the available memory.\n", 
            "\n", 
            "\n", 
            "_Important:_ If you are using an old version (<v5)\n", 
            "of Scilab, then use |extend_stack_size(4,1)| instead.\n", 
            ""
          ]
        }, 
        {
          "cell_type": "code", 
          "collapsed": false, 
          "input": [
            "extend_stack_size(4)"
          ], 
          "language": "python", 
          "outputs": []
        }, 
        {
          "cell_type": "markdown", 
          "metadata": {}, 
          "source": [
            "\n", 
            "\n", 
            "The invariant transform is obtained using the same function, by\n", 
            "activating the switch |options.ti=1|.\n", 
            ""
          ]
        }, 
        {
          "cell_type": "code", 
          "collapsed": false, 
          "input": [
            "options.ti = 1\n", 
            "a = perform_wavelet_transf(f0,Jmin,+1,options)"
          ], 
          "language": "python", 
          "outputs": []
        }, 
        {
          "cell_type": "markdown", 
          "metadata": {}, 
          "source": [
            "\n", 
            "\n", 
            "|a(:,:,1)| corresponds to the low scale residual.\n", 
            "Each |a(:,:,3*j+k+1)| for k=1:3 (orientation) corresponds to a scale of wavelet coefficient, and has\n", 
            "the same size as the original image.\n", 
            ""
          ]
        }, 
        {
          "cell_type": "code", 
          "collapsed": false, 
          "input": [
            "\n", 
            "i = 0\n", 
            "for j in 1:2:\n", 
            "for k in 1:3:\n", 
            "        i = i+1\n", 
            "        imageplot(a(:,:,i+1), strcat(['Scale=' num2str(j) ' Orientation=' num2str(k)]), 2,3,i )\n", 
            "\n", 
            ""
          ], 
          "language": "python", 
          "outputs": []
        }, 
        {
          "cell_type": "markdown", 
          "metadata": {}, 
          "source": [
            "\n", 
            ""
          ]
        }, 
        {
          "cell_type": "heading", 
          "level": 2, 
          "metadata": {}, 
          "source": [
            "Translation Invariant Wavelet Denoising\n"
          ]
        }, 
        {
          "cell_type": "markdown", 
          "metadata": {}, 
          "source": [
            "A translation invariant thresholding estimator is defined as\n", 
            "$$ \\tilde f = \\sum_k \\la_k s_T(\\dotp{f}{\\tilde \\psi_k}) \\tilde \\psi_k, $$\n", 
            "where $s_T$ is either the soft or the hard thresholding mapping.\n", 
            "\n", 
            "\n", 
            "This estimator is equal to the cycle spinning estimator when using the\n", 
            "full set $M=N$ of translates. It is however much faster to compute\n", 
            "because computing the whole set of $N\\log_2(N)$ inner products $(\\dotp{f}{\\tilde\\psi_k})_k$\n", 
            "is obtained with the fast a trou algorithm in $O(N\\log_2(N))$\n", 
            "operations.\n", 
            "Similarely, a fast inverse transform with the same complexity allows one\n", 
            "to reconstruct $\\tilde f$ from the set of thresholded coefficients.\n", 
            "\n", 
            "\n", 
            "First we compute the translation invariant wavelet transform\n", 
            ""
          ]
        }, 
        {
          "cell_type": "code", 
          "collapsed": false, 
          "input": [
            "options.ti = 1\n", 
            "a = perform_wavelet_transf(f,Jmin,+1,options)"
          ], 
          "language": "python", 
          "outputs": []
        }, 
        {
          "cell_type": "markdown", 
          "metadata": {}, 
          "source": [
            "\n", 
            "\n", 
            "Then we threshold the set of coefficients.\n", 
            ""
          ]
        }, 
        {
          "cell_type": "code", 
          "collapsed": false, 
          "input": [
            "T = 3.5*sigma\n", 
            "aT = perform_thresholding(a,T,'hard')"
          ], 
          "language": "python", 
          "outputs": []
        }, 
        {
          "cell_type": "markdown", 
          "metadata": {}, 
          "source": [
            "\n", 
            "\n", 
            "Display noisy wavelets coefficients at a given fixed scale.\n", 
            ""
          ]
        }, 
        {
          "cell_type": "code", 
          "collapsed": false, 
          "input": [
            "J = size(a,3)-5\n", 
            "\n", 
            "imageplot(a(:,:,J), 'Noisy coefficients')"
          ], 
          "language": "python", 
          "outputs": []
        }, 
        {
          "cell_type": "markdown", 
          "metadata": {}, 
          "source": [
            "\n", 
            "\n", 
            "\n", 
            "Display thresholded wavelets coefficients\n", 
            ""
          ]
        }, 
        {
          "cell_type": "code", 
          "collapsed": false, 
          "input": [
            "\n", 
            "imageplot(aT(:,:,J), 'Thresholded coefficients')"
          ], 
          "language": "python", 
          "outputs": []
        }, 
        {
          "cell_type": "markdown", 
          "metadata": {}, 
          "source": [
            "\n", 
            "\n", 
            "We can now reconstruct\n", 
            ""
          ]
        }, 
        {
          "cell_type": "code", 
          "collapsed": false, 
          "input": [
            "fTI = perform_wavelet_transf(aT,Jmin,-1,options)"
          ], 
          "language": "python", 
          "outputs": []
        }, 
        {
          "cell_type": "markdown", 
          "metadata": {}, 
          "source": [
            "\n", 
            "\n", 
            "Display the denoising result $\\tilde f$.\n", 
            ""
          ]
        }, 
        {
          "cell_type": "code", 
          "collapsed": false, 
          "input": [
            "\n", 
            "imageplot(clamp(fTI), strcat(['Hard invariant, SNR=' num2str(snr(f0,fTI),3)]))"
          ], 
          "language": "python", 
          "outputs": []
        }, 
        {
          "cell_type": "heading", 
          "level": 3, 
          "metadata": {}, 
          "source": [
            "Exercise 4"
          ]
        }, 
        {
          "cell_type": "markdown", 
          "metadata": {}, 
          "source": [
            "\n", 
            "Determine the best threshold $T$ for both hard and soft thresholding,\n", 
            "but now in the translation invariant case. What can you conclude ?\n", 
            "\n", 
            "\n", 
            "\n", 
            "\n", 
            "\n", 
            "\n", 
            "\n", 
            "\n", 
            "\n", 
            "\n", 
            "\n", 
            "\n", 
            "\n", 
            "\n", 
            ""
          ]
        }, 
        {
          "cell_type": "code", 
          "collapsed": false, 
          "input": [
            "## Insert your code here."
          ], 
          "language": "python", 
          "outputs": []
        }
      ]
    }
  ]
}