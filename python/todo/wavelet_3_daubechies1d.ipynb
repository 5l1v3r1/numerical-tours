{
  "metadata": {
    "name": ""
  }, 
  "nbformat": 3, 
  "nbformat_minor": 0, 
  "worksheets": [
    {
      "cells": [
        {
          "cell_type": "heading", 
          "level": 1, 
          "metadata": {}, 
          "source": [
            "1-D Daubechies Wavelets"
          ]
        }, 
        {
          "cell_type": "markdown", 
          "metadata": {}, 
          "source": [
            "This numerical tour explores 1-D multiresolution analysis\n", 
            "with Daubechies wavelets with a varying number of vanishing moments\n", 
            "(varying order).\n", 
            ""
          ]
        }, 
        {
          "cell_type": "markdown", 
          "metadata": {}, 
          "source": [
            "*Important:* You need to download the file `nt_toolbox.py` from the \n", 
            "root of the github repository.\n", 
            "$\\newcommand{\\dotp}[2]{\\langle #1, #2 \\rangle}\n", 
            "\\newcommand{\\enscond}[2]{\\lbrace #1, #2 \\rbrace}\n", 
            "\\newcommand{\\pd}[2]{ \\frac{ \\partial #1}{\\partial #2} }\n", 
            "\\newcommand{\\umin}[1]{\\underset{#1}{\\min}\\;}\n", 
            "\\newcommand{\\norm}[1]{\\|#1\\|}\n", 
            "\\newcommand{\\abs}[1]{\\left|#1\\right|}\n", 
            "\\newcommand{\\choice}[1]{ \\left\\{  \\begin{array}{l} #1 \\end{array} \\right. }\n", 
            "\\newcommand{\\pa}[1]{\\left(#1\\right)}\n", 
            "\\newcommand{\\qandq}{\\quad\\text{and}\\quad}\n", 
            "\\newcommand{\\qwhereq}{\\quad\\text{where}\\quad}\n", 
            "\\newcommand{\\qifq}{ \\quad \\text{if} \\quad }\n", 
            "\\newcommand{\\qarrq}{ \\quad \\Longrightarrow \\quad }\n", 
            "\\newcommand{\\ZZ}{\\mathbb{Z}}\n", 
            "\\newcommand{\\RR}{\\mathbb{R}}\n", 
            "\\newcommand{\\Nn}{\\mathcal{N}}\n", 
            "\\newcommand{\\Hh}{\\mathcal{H}}\n", 
            "\\newcommand{\\Bb}{\\mathcal{B}}\n", 
            "\\newcommand{\\EE}{\\mathbb{E}}\n", 
            "\\newcommand{\\CC}{\\mathbb{C}}\n", 
            "\\newcommand{\\si}{\\sigma}\n", 
            "\\newcommand{\\al}{\\alpha}\n", 
            "\\newcommand{\\la}{\\lambda}\n", 
            "\\newcommand{\\ga}{\\gamma}\n", 
            "\\newcommand{\\Ga}{\\Gamma}\n", 
            "\\newcommand{\\La}{\\Lambda}\n", 
            "\\newcommand{\\si}{\\sigma}\n", 
            "\\newcommand{\\Si}{\\Sigma}\n", 
            "\\newcommand{\\be}{\\beta}\n", 
            "\\newcommand{\\de}{\\delta}\n", 
            "\\newcommand{\\De}{\\Delta}\n", 
            "\\renewcommand{\\phi}{\\varphi}\n", 
            "\\renewcommand{\\th}{\\theta}\n", 
            "\\newcommand{\\om}{\\omega}\n", 
            "\\newcommand{\\Om}{\\Omega}\n", 
            "$"
          ]
        }, 
        {
          "cell_type": "code", 
          "collapsed": false, 
          "input": [
            "from nt_toolbox import *", 
            "%matplotlib inline", 
            "%load_ext autoreload", 
            "%autoreload 2"
          ], 
          "language": "python", 
          "outputs": []
        }, 
        {
          "cell_type": "heading", 
          "level": 2, 
          "metadata": {}, 
          "source": [
            "Wavelets Filters\r\n"
          ]
        }, 
        {
          "cell_type": "markdown", 
          "metadata": {}, 
          "source": [
            "The 2-D wavelet transform of a continuous signal $f(x)$ computes the set\n", 
            "of inner products\n", 
            "$$ d_j[n] = \\dotp{f}{\\psi_{j,n}} $$\n", 
            "for scales $ j \\in \\ZZ\n", 
            "$ and position $ n \\in \\ZZ $.\n", 
            "\n", 
            "\n", 
            "The wavelet atoms are defined by scaling and translating a mother\n", 
            "atom $ \\psi(x) $:\n", 
            "$$ \\psi_{j,n}(x) = \\frac{1}{2^j}\\psi\\pa{\\frac{x-2^j n}{2^j}}.  $$\n", 
            "\n", 
            "\n", 
            "Associated to this oscillating (high pass) wavelet function $\\psi$\n", 
            "is a non-oscillating (low pass) scaling function $\\phi$.\n", 
            "\n", 
            "\n", 
            "The fast wavelet transform algorithm does not make use of the wavelet and scaling functions,\n", 
            "but of the filters $h$ and $g$ that caracterize their interaction:\n", 
            "$$ g[n] = \\frac{1}{\\sqrt{2}}\\dotp{\\psi(x/2)}{\\phi(x-n)}\n", 
            "\\qandq h[n] = \\frac{1}{\\sqrt{2}}\\dotp{\\phi(x/2)}{\\phi(x-n)}. $$\n", 
            "\n", 
            "\n", 
            "The simplest filters are the Haar filters\n", 
            "$$ h = [1, 1]/\\sqrt{2} \\qandq g = [-1, 1]/\\sqrt{2}. $$\n", 
            "\n", 
            "\n", 
            "Daubechies wavelets extends the haar wavelets by using longer\n", 
            "filters, that produce smoother scaling functions and wavelets.\n", 
            "Furthermore, the larger the size $p=2k$ of the filter, the higher is the number\n", 
            "$k$ of vanishing moment.\n", 
            "\n", 
            "\n", 
            "A high number of vanishing moments allows to better compress regular\n", 
            "parts of the signal. However, increasing the number of vanishing moments\n", 
            "also inceases the size of the support of the wavelets, wich can be\n", 
            "problematic in part where the signal is singular (for instance\n", 
            "discontinuous).\n", 
            "\n", 
            "\n", 
            "Choosing the _best_ wavelet, and thus choosing $k$, that is adapted to a\n", 
            "given class of signals, thus corresponds to\n", 
            "a tradeoff between efficiency in regular and singular parts.\n", 
            "\n", 
            "\n", 
            "* The filter with $k=1$ vanishing moments corresponds to the Haar filter.\n", 
            "* The filter with $k=2$ vanishing moments corresponds to the famous |D4| wavelet, which compresses perfectly linear signals.\n", 
            "* The filter with $k=3$ vanishing moments compresses perfectly quadratic signals.\n", 
            "\n", 
            "\n", 
            "Set the support size.\n", 
            "To begin, we select the D4 filter.\n", 
            ""
          ]
        }, 
        {
          "cell_type": "code", 
          "collapsed": false, 
          "input": [
            "p = 4"
          ], 
          "language": "python", 
          "outputs": []
        }, 
        {
          "cell_type": "markdown", 
          "metadata": {}, 
          "source": [
            "\n", 
            "\n", 
            "Create the low pass filter $h$ and the high pass $g$. We add a zero to ensure that it has a odd\n", 
            "length. Note that the central value of $h$ corresponds to the 0 position.\n", 
            ""
          ]
        }, 
        {
          "cell_type": "code", 
          "collapsed": false, 
          "input": [
            "[h,g] = compute_wavelet_filter('Daubechies',p)"
          ], 
          "language": "python", 
          "outputs": []
        }, 
        {
          "cell_type": "markdown", 
          "metadata": {}, 
          "source": [
            "\n", 
            "\n", 
            "Note that the high pass filter $g$ is computed directly from the low\n", 
            "pass filter as:\n", 
            "$$g[n] = (-1)^{1-n}h[1-n]$$\n", 
            "\n", 
            "\n", 
            "Display.\n", 
            ""
          ]
        }, 
        {
          "cell_type": "code", 
          "collapsed": false, 
          "input": [
            "disp(['h filter = [' num2str(h) ']'])\n", 
            "disp(['g filter = [' num2str(g) ']'])"
          ], 
          "language": "python", 
          "outputs": []
        }, 
        {
          "cell_type": "markdown", 
          "metadata": {}, 
          "source": [
            "\n", 
            ""
          ]
        }, 
        {
          "cell_type": "heading", 
          "level": 2, 
          "metadata": {}, 
          "source": [
            "Up and Down Filtering\r\n"
          ]
        }, 
        {
          "cell_type": "markdown", 
          "metadata": {}, 
          "source": [
            "The basic wavelet operation is low/high filtering, followed by down\n", 
            "sampling.\n", 
            "\n", 
            "\n", 
            "Starting from some 1-D signal $f \\in \\RR^N$, one thus computes the\n", 
            "low pass signal $a \\in \\RR^{N/2}$ and the high pass\n", 
            "signal $d \\in \\RR^{N/2}$ as\n", 
            "$$ a = (f \\star h) \\downarrow 2 \\qandq\n", 
            "d = (f \\star g) \\downarrow 2$$\n", 
            "where the sub-sampling is defined as\n", 
            "$$ (u \\downarrow 2)[k] = u[2k]. $$\n", 
            "\n", 
            "\n", 
            "Create a random signal $f \\in \\RR^N$.\n", 
            ""
          ]
        }, 
        {
          "cell_type": "code", 
          "collapsed": false, 
          "input": [
            "N = 256\n", 
            "f = rand(N,1)"
          ], 
          "language": "python", 
          "outputs": []
        }, 
        {
          "cell_type": "markdown", 
          "metadata": {}, 
          "source": [
            "\n", 
            "\n", 
            "Low/High pass filtering followed by sub-sampling.\n", 
            ""
          ]
        }, 
        {
          "cell_type": "code", 
          "collapsed": false, 
          "input": [
            "a = subsampling( cconv(f,h) )\n", 
            "d = subsampling( cconv(f,g) )"
          ], 
          "language": "python", 
          "outputs": []
        }, 
        {
          "cell_type": "markdown", 
          "metadata": {}, 
          "source": [
            "\n", 
            "\n", 
            "For orthogonal filters, the reverse of this process is its dual\n", 
            "(aka its transpose), which is upsampling followed by low/high pass\n", 
            "filtering with the reversed filters and summing:\n", 
            "$$ (a \\uparrow h) \\star \\tilde h + (d \\uparrow g) \\star \\tilde g = f $$\n", 
            "where $\\tilde h[n]=h[-n]$ (computed modulo $N$) and\n", 
            "$ (u \\uparrow 2)[2n]=u[n] $ and  $ (u \\uparrow 2)[2n+1]=0 $.\n", 
            "\n", 
            "\n", 
            "Up-sampling followed by filtering.\n", 
            ""
          ]
        }, 
        {
          "cell_type": "code", 
          "collapsed": false, 
          "input": [
            "f1 =  cconv(upsampling(a),reverse(h)) + cconv(upsampling(d),reverse(g))"
          ], 
          "language": "python", 
          "outputs": []
        }, 
        {
          "cell_type": "markdown", 
          "metadata": {}, 
          "source": [
            "\n", 
            "\n", 
            "Check that we really recover the same signal.\n", 
            ""
          ]
        }, 
        {
          "cell_type": "code", 
          "collapsed": false, 
          "input": [
            "disp(strcat((['Error |f-f1|/|f| = ' num2str(norm(f-f1)/norm(f))])))"
          ], 
          "language": "python", 
          "outputs": []
        }, 
        {
          "cell_type": "markdown", 
          "metadata": {}, 
          "source": [
            "\n", 
            ""
          ]
        }, 
        {
          "cell_type": "heading", 
          "level": 2, 
          "metadata": {}, 
          "source": [
            "Forward Wavelet Transform\r\n"
          ]
        }, 
        {
          "cell_type": "markdown", 
          "metadata": {}, 
          "source": [
            "The set of wavelet coefficients are computed with a fast algorithm that\n", 
            "exploit the embedding of the approximation spaces $V_j$ spanned by the\n", 
            "scaling function $ \\{ \\phi_{j,n} \\}_n $.\n", 
            "\n", 
            "\n", 
            "First we load a 1-D signal.\n", 
            ""
          ]
        }, 
        {
          "cell_type": "code", 
          "collapsed": false, 
          "input": [
            "name = 'piece-regular'\n", 
            "N = 512\n", 
            "f = rescale( load_signal(name, N) )"
          ], 
          "language": "python", 
          "outputs": []
        }, 
        {
          "cell_type": "markdown", 
          "metadata": {}, 
          "source": [
            "\n", 
            "\n", 
            "Display it.\n", 
            ""
          ]
        }, 
        {
          "cell_type": "code", 
          "collapsed": false, 
          "input": [
            "\n", 
            "plot(f)\n", 
            "axis('tight')"
          ], 
          "language": "python", 
          "outputs": []
        }, 
        {
          "cell_type": "markdown", 
          "metadata": {}, 
          "source": [
            "\n", 
            "\n", 
            "We will store all the transformed coefficients $d_j$ in a single vector\n", 
            "|fw|. This vector is initialized as |f| and the left sub-part\n", 
            "|fw(1:1^j)| of |fw| will be retransformed at each iteration for a decreasing scale\n", 
            "index |j|.\n", 
            "\n", 
            "\n", 
            "Initialize the result vector.\n", 
            ""
          ]
        }, 
        {
          "cell_type": "code", 
          "collapsed": false, 
          "input": [
            "fw = f"
          ], 
          "language": "python", 
          "outputs": []
        }, 
        {
          "cell_type": "markdown", 
          "metadata": {}, 
          "source": [
            "\n", 
            "\n", 
            "Initialize the scale index $j$ as $ j = J = \\log_2(N)-1 $.\n", 
            ""
          ]
        }, 
        {
          "cell_type": "code", 
          "collapsed": false, 
          "input": [
            "j = log2(N)-1"
          ], 
          "language": "python", 
          "outputs": []
        }, 
        {
          "cell_type": "markdown", 
          "metadata": {}, 
          "source": [
            "\n", 
            "\n", 
            "The wavelet transform of $f$ is computed by using intermediate discretized low\n", 
            "resolution images obtained by projection on the spaces $V_j$:\n", 
            "$$ a_j[n] = \\dotp{f}{\\phi_{j,n}}. $$\n", 
            "\n", 
            "\n", 
            "The algorithm processes by moving from scale $j$ to the coarser scale\n", 
            "$j-1$ using the filtering+sub-sampling:\n", 
            "$$ a_{j-1} = (a_j \\star h) \\downarrow 2 \\qandq\n", 
            "d_{j-1} = (a_j \\star g) \\downarrow 2$$\n", 
            "\n", 
            "\n", 
            "Retrieve the coefficients $a_j$ from the variable |fw| and\n", 
            "store them in the variable |a1|\n", 
            ""
          ]
        }, 
        {
          "cell_type": "code", 
          "collapsed": false, 
          "input": [
            "a1 = fw(1:2^(j+1))"
          ], 
          "language": "python", 
          "outputs": []
        }, 
        {
          "cell_type": "markdown", 
          "metadata": {}, 
          "source": [
            "\n", 
            "\n", 
            "Apply high and low filtering+subsampling\n", 
            "to obtain $a_{j-1}$ and $d_{j-1}$ (stored in |a| and |d|).\n", 
            ""
          ]
        }, 
        {
          "cell_type": "code", 
          "collapsed": false, 
          "input": [
            "a = subsampling(cconv(a1,h))\n", 
            "d = subsampling(cconv(a1,g))"
          ], 
          "language": "python", 
          "outputs": []
        }, 
        {
          "cell_type": "markdown", 
          "metadata": {}, 
          "source": [
            "\n", 
            "\n", 
            "_Note:_ |subsampling(A)| is equivalent to |A(1:2:end)|.\n", 
            "\n", 
            "\n", 
            "Concatenate them to get the result and store it in |fw|.\n", 
            ""
          ]
        }, 
        {
          "cell_type": "code", 
          "collapsed": false, 
          "input": [
            "fw(1:2^(j+1)) = cat(1, a, d )"
          ], 
          "language": "python", 
          "outputs": []
        }, 
        {
          "cell_type": "markdown", 
          "metadata": {}, 
          "source": [
            "\n", 
            "\n", 
            "Display the result of the first step of the transform.\n", 
            ""
          ]
        }, 
        {
          "cell_type": "code", 
          "collapsed": false, 
          "input": [
            "\n", 
            "subplot(2,1,1)\n", 
            "plot(f); axis('tight'); title('Signal')\n", 
            "subplot(2,1,2)\n", 
            "plot(fw); axis('tight'); title('Transformed')"
          ], 
          "language": "python", 
          "outputs": []
        }, 
        {
          "cell_type": "markdown", 
          "metadata": {}, 
          "source": [
            "\n", 
            "\n", 
            "Display the signal and its coarse coefficients.\n", 
            ""
          ]
        }, 
        {
          "cell_type": "code", 
          "collapsed": false, 
          "input": [
            "s = 400; t = 40\n", 
            "\n", 
            "subplot(2,1,1)\n", 
            "plot(f,'.-'); axis([s-t s+t 0 1]); title('Signal (zoom)')\n", 
            "subplot(2,1,2)\n", 
            "plot(a,'.-'); axis([(s-t)/2 (s+t)/2 min(a) max(a)]); title('Averages (zoom)')"
          ], 
          "language": "python", 
          "outputs": []
        }, 
        {
          "cell_type": "heading", 
          "level": 3, 
          "metadata": {}, 
          "source": [
            "Exercise 1"
          ]
        }, 
        {
          "cell_type": "markdown", 
          "metadata": {}, 
          "source": [
            "\n", 
            "Implement a full wavelet transform that extract iteratively wavelet\n", 
            "coefficients, by repeating these steps. Take care of choosing the\n", 
            "correct number of steps.\n", 
            "\n", 
            "\n", 
            "\n", 
            "\n", 
            "\n", 
            "\n", 
            "\n", 
            "\n", 
            "\n", 
            "\n", 
            "\n", 
            "\n", 
            "\n", 
            "\n", 
            "\n", 
            "\n", 
            ""
          ]
        }, 
        {
          "cell_type": "code", 
          "collapsed": false, 
          "input": [
            "## Insert your code here."
          ], 
          "language": "python", 
          "outputs": []
        }, 
        {
          "cell_type": "markdown", 
          "metadata": {}, 
          "source": [
            "\n", 
            "\n", 
            "\n", 
            "Check that the transform is\n", 
            "orthogonal, which means that the energy of the coefficient is the same\n", 
            "as the energy of the signal.\n", 
            ""
          ]
        }, 
        {
          "cell_type": "code", 
          "collapsed": false, 
          "input": [
            "disp(strcat(['Energy of the signal       = ' num2str(norm(f).^2,3)]))\n", 
            "disp(strcat(['Energy of the coefficients = ' num2str(norm(fw).^2,3)]))"
          ], 
          "language": "python", 
          "outputs": []
        }, 
        {
          "cell_type": "markdown", 
          "metadata": {}, 
          "source": [
            "\n", 
            "\n", 
            "We display the whole set of coefficients |fw|, with red vertical\n", 
            "separator between the scales.\n", 
            "Can you recognize where are the low frequencies and the high frequencies\n", 
            "? You can use the function |plot_wavelet| to help you.\n", 
            ""
          ]
        }, 
        {
          "cell_type": "code", 
          "collapsed": false, 
          "input": [
            "\n", 
            "plot_wavelet(fw)\n", 
            "axis([1 N -1 1])"
          ], 
          "language": "python", 
          "outputs": []
        }, 
        {
          "cell_type": "heading", 
          "level": 2, 
          "metadata": {}, 
          "source": [
            "Backward Wavelet Transform\r\n"
          ]
        }, 
        {
          "cell_type": "markdown", 
          "metadata": {}, 
          "source": [
            "The backward wavelet transform reconstructs a signal $ f $ from a set of\n", 
            "wavelet coeffcients $ \\{ d_j[n] \\}_{j,n} $. For continuous functions,\n", 
            "it corresponds to the following reconstruction formula:\n", 
            "$$ f(x) = \\sum_{j,n} d_j[n] \\psi_{j,n}(x).  $$\n", 
            "\n", 
            "\n", 
            "For discrete signal, it reconstructs a signal $ f \\in \\RR^N $ by\n", 
            "inverting the wavelet filtering/sub-sampling steps.\n", 
            "\n", 
            "\n", 
            "It starts from the coarsest scale $ j=0 $, where $ a_0 \\in \\RR $ is\n", 
            "the single remaining coefficient.\n", 
            "\n", 
            "\n", 
            "The algorithm processes by moving from scale $j$ to the finer scale\n", 
            "$j+1$ using the up-sampling/filtering:\n", 
            "$$ a_{j+1} = (a_j \\uparrow 2) \\star \\tilde h\n", 
            "   + (d_j \\uparrow 2) \\star \\tilde g $$\n", 
            "\n", 
            "\n", 
            "Initialize the signal to recover |f1| as the transformed coefficient, and\n", 
            "select the smallezt possible scale.\n", 
            ""
          ]
        }, 
        {
          "cell_type": "code", 
          "collapsed": false, 
          "input": [
            "f1 = fw\n", 
            "j = 0"
          ], 
          "language": "python", 
          "outputs": []
        }, 
        {
          "cell_type": "markdown", 
          "metadata": {}, 
          "source": [
            "\n", 
            "\n", 
            "Retrieve coarse and detail coefficients in the vertical direction.\n", 
            ""
          ]
        }, 
        {
          "cell_type": "code", 
          "collapsed": false, 
          "input": [
            "a = f1(1:2^j)\n", 
            "d = f1(2^j+1:2^(j+1))"
          ], 
          "language": "python", 
          "outputs": []
        }, 
        {
          "cell_type": "markdown", 
          "metadata": {}, 
          "source": [
            "\n", 
            "\n", 
            "Perform the up-sampling/filtering and summation:\n", 
            ""
          ]
        }, 
        {
          "cell_type": "code", 
          "collapsed": false, 
          "input": [
            "a = cconv(upsampling(a,1),reverse(h),1) + cconv(upsampling(d,1),reverse(g),1)"
          ], 
          "language": "python", 
          "outputs": []
        }, 
        {
          "cell_type": "markdown", 
          "metadata": {}, 
          "source": [
            "\n", 
            "\n", 
            "Replace the coefficients at the correct locations.\n", 
            ""
          ]
        }, 
        {
          "cell_type": "code", 
          "collapsed": false, 
          "input": [
            "f1(1:2^(j+1)) = a"
          ], 
          "language": "python", 
          "outputs": []
        }, 
        {
          "cell_type": "heading", 
          "level": 3, 
          "metadata": {}, 
          "source": [
            "Exercise 2"
          ]
        }, 
        {
          "cell_type": "markdown", 
          "metadata": {}, 
          "source": [
            "\n", 
            "Write the inverse wavelet transform that computes |f1| from the\n", 
            "coefficients |fw|.\n", 
            "\n", 
            "\n", 
            "\n", 
            "\n", 
            "\n", 
            "\n", 
            "\n", 
            "\n", 
            "\n", 
            "\n", 
            "\n", 
            "\n", 
            "\n", 
            "\n", 
            ""
          ]
        }, 
        {
          "cell_type": "code", 
          "collapsed": false, 
          "input": [
            "## Insert your code here."
          ], 
          "language": "python", 
          "outputs": []
        }, 
        {
          "cell_type": "markdown", 
          "metadata": {}, 
          "source": [
            "\n", 
            "\n", 
            "\n", 
            "Check that we have correctly recovered the signal.\n", 
            ""
          ]
        }, 
        {
          "cell_type": "code", 
          "collapsed": false, 
          "input": [
            "disp(strcat((['Error |f-f1|/|f| = ' num2str(norm(f-f1)/norm(f))])))"
          ], 
          "language": "python", 
          "outputs": []
        }, 
        {
          "cell_type": "heading", 
          "level": 2, 
          "metadata": {}, 
          "source": [
            "Daubechies Wavelets Approximation\r\n"
          ]
        }, 
        {
          "cell_type": "markdown", 
          "metadata": {}, 
          "source": [
            "Non-linear approximation is obtained by thresholding low amplitude\n", 
            "wavelet coefficients.\n", 
            "\n", 
            "\n", 
            "This defines the best $M$-terms approximation $f_M$ of $f$:\n", 
            "\n", 
            "\n", 
            "$$ f_M = \\sum_{ \\abs{\\dotp{f}{\\psi_{j,n}}}>T } \\dotp{f}{\\psi_{j,n}}\\psi_{j,n}. $$\n", 
            "\n", 
            "\n", 
            "Set the threshold value.\n", 
            ""
          ]
        }, 
        {
          "cell_type": "code", 
          "collapsed": false, 
          "input": [
            "T = .5"
          ], 
          "language": "python", 
          "outputs": []
        }, 
        {
          "cell_type": "markdown", 
          "metadata": {}, 
          "source": [
            "\n", 
            "\n", 
            "Coefficients |fw(i)| smaller in magnitude than |T| are set to zero.\n", 
            ""
          ]
        }, 
        {
          "cell_type": "code", 
          "collapsed": false, 
          "input": [
            "fwT = fw .* (abs(fw)>T)"
          ], 
          "language": "python", 
          "outputs": []
        }, 
        {
          "cell_type": "markdown", 
          "metadata": {}, 
          "source": [
            "\n", 
            "\n", 
            "Display the coefficients before and after thresholding.\n", 
            ""
          ]
        }, 
        {
          "cell_type": "code", 
          "collapsed": false, 
          "input": [
            "\n", 
            "subplot(2,1,1)\n", 
            "plot_wavelet(fw); axis([1 N -1 1]); title('Original coefficients')\n", 
            "subplot(2,1,2)\n", 
            "plot_wavelet(fwT); axis([1 N -1 1]); title('Thresholded coefficients')"
          ], 
          "language": "python", 
          "outputs": []
        }, 
        {
          "cell_type": "heading", 
          "level": 3, 
          "metadata": {}, 
          "source": [
            "Exercise 3"
          ]
        }, 
        {
          "cell_type": "markdown", 
          "metadata": {}, 
          "source": [
            "\n", 
            "Find the threshold $T$ to obtained a given number $M$ of\n", 
            "non thresholded coefficients.\n", 
            "Try for an increasing number $M$ of coeffiients.\n", 
            "compute the threshold T\n", 
            "\n", 
            "\n", 
            "\n", 
            "\n", 
            "\n", 
            "\n", 
            "\n", 
            "\n", 
            "\n", 
            "\n", 
            "\n", 
            "\n", 
            "\n", 
            "\n", 
            "\n", 
            "\n", 
            "\n", 
            "\n", 
            "\n", 
            "\n", 
            "\n", 
            "\n", 
            "\n", 
            ""
          ]
        }, 
        {
          "cell_type": "code", 
          "collapsed": false, 
          "input": [
            "## Insert your code here."
          ], 
          "language": "python", 
          "outputs": []
        }, 
        {
          "cell_type": "markdown", 
          "metadata": {}, 
          "source": [
            "\n", 
            ""
          ]
        }, 
        {
          "cell_type": "heading", 
          "level": 3, 
          "metadata": {}, 
          "source": [
            "Exercise 4"
          ]
        }, 
        {
          "cell_type": "markdown", 
          "metadata": {}, 
          "source": [
            "\n", 
            "Try with\n", 
            "Different kind of wavelets, with an increasing number of vanishing\n", 
            "moments.\n", 
            "compute the threshold T\n", 
            "\n", 
            "\n", 
            "\n", 
            "\n", 
            "\n", 
            "\n", 
            "\n", 
            "\n", 
            "\n", 
            "\n", 
            "\n", 
            "\n", 
            "\n", 
            "\n", 
            "\n", 
            "\n", 
            "\n", 
            "\n", 
            "\n", 
            "\n", 
            "\n", 
            "\n", 
            "\n", 
            ""
          ]
        }, 
        {
          "cell_type": "code", 
          "collapsed": false, 
          "input": [
            "## Insert your code here."
          ], 
          "language": "python", 
          "outputs": []
        }, 
        {
          "cell_type": "markdown", 
          "metadata": {}, 
          "source": [
            "\n", 
            ""
          ]
        }, 
        {
          "cell_type": "heading", 
          "level": 2, 
          "metadata": {}, 
          "source": [
            "The Shape of a Wavelet\r\n"
          ]
        }, 
        {
          "cell_type": "markdown", 
          "metadata": {}, 
          "source": [
            "A wavelet coefficient is an inner product\n", 
            "$ d_j[n] = \\dotp{f}{\\psi_{j,n}} $ with a wavelet atom $\\psi_{j,n}$.\n", 
            "\n", 
            "\n", 
            "A wavelet atom $\\psi_{j_0,n_0}$ can be computed by\n", 
            "applying the inverse wavele transform to coefficients $ \\{d_j[n]\\}_{j,n} $\n", 
            "such that\n", 
            "$$ d_{j}[n]=\\choice{ 1 \\qifq j=j_0 \\qandq n=n_0, \\\\ 0 \\quad\\text{otherwise.} } $$\n", 
            ""
          ]
        }, 
        {
          "cell_type": "heading", 
          "level": 3, 
          "metadata": {}, 
          "source": [
            "Exercise 5"
          ]
        }, 
        {
          "cell_type": "markdown", 
          "metadata": {}, 
          "source": [
            "\n", 
            "Compute wavelets at several positions and scales.\n", 
            "\n", 
            "\n", 
            "\n", 
            "\n", 
            "\n", 
            "\n", 
            "\n", 
            "\n", 
            "\n", 
            "\n", 
            "\n", 
            "\n", 
            "\n", 
            "\n", 
            "\n", 
            "\n", 
            "\n", 
            "\n", 
            "\n", 
            "\n", 
            "\n", 
            "\n", 
            "\n", 
            ""
          ]
        }, 
        {
          "cell_type": "code", 
          "collapsed": false, 
          "input": [
            "## Insert your code here."
          ], 
          "language": "python", 
          "outputs": []
        }, 
        {
          "cell_type": "markdown", 
          "metadata": {}, 
          "source": [
            "\n", 
            ""
          ]
        }, 
        {
          "cell_type": "heading", 
          "level": 3, 
          "metadata": {}, 
          "source": [
            "Exercise 6"
          ]
        }, 
        {
          "cell_type": "markdown", 
          "metadata": {}, 
          "source": [
            "\n", 
            "Display Daubechies wavelets with an increasing number of vanishing\n", 
            "moments.\n", 
            "\n", 
            "\n", 
            "\n", 
            "\n", 
            "\n", 
            "\n", 
            "\n", 
            "\n", 
            "\n", 
            "\n", 
            "\n", 
            "\n", 
            "\n", 
            "\n", 
            "\n", 
            "\n", 
            ""
          ]
        }, 
        {
          "cell_type": "code", 
          "collapsed": false, 
          "input": [
            "## Insert your code here."
          ], 
          "language": "python", 
          "outputs": []
        }
      ]
    }
  ]
}