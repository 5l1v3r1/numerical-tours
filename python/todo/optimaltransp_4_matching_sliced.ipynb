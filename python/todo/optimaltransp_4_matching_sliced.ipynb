{
  "metadata": {
    "name": ""
  }, 
  "nbformat": 3, 
  "nbformat_minor": 0, 
  "worksheets": [
    {
      "cells": [
        {
          "cell_type": "heading", 
          "level": 1, 
          "metadata": {}, 
          "source": [
            "Sliced Optimal Transport"
          ]
        }, 
        {
          "cell_type": "markdown", 
          "metadata": {}, 
          "source": [
            "This tour explore the used of the sliced Wasserstein distance to\n", 
            "approximate optimal transport.\n", 
            ""
          ]
        }, 
        {
          "cell_type": "markdown", 
          "metadata": {}, 
          "source": [
            "*Important:* You need to download the file `nt_toolbox.py` from the \n", 
            "root of the github repository.\n", 
            "$\\newcommand{\\dotp}[2]{\\langle #1, #2 \\rangle}\n", 
            "\\newcommand{\\enscond}[2]{\\lbrace #1, #2 \\rbrace}\n", 
            "\\newcommand{\\pd}[2]{ \\frac{ \\partial #1}{\\partial #2} }\n", 
            "\\newcommand{\\umin}[1]{\\underset{#1}{\\min}\\;}\n", 
            "\\newcommand{\\norm}[1]{\\|#1\\|}\n", 
            "\\newcommand{\\abs}[1]{\\left|#1\\right|}\n", 
            "\\newcommand{\\choice}[1]{ \\left\\{  \\begin{array}{l} #1 \\end{array} \\right. }\n", 
            "\\newcommand{\\pa}[1]{\\left(#1\\right)}\n", 
            "\\newcommand{\\qandq}{\\quad\\text{and}\\quad}\n", 
            "\\newcommand{\\qwhereq}{\\quad\\text{where}\\quad}\n", 
            "\\newcommand{\\qifq}{ \\quad \\text{if} \\quad }\n", 
            "\\newcommand{\\qarrq}{ \\quad \\Longrightarrow \\quad }\n", 
            "\\newcommand{\\ZZ}{\\mathbb{Z}}\n", 
            "\\newcommand{\\RR}{\\mathbb{R}}\n", 
            "\\newcommand{\\Nn}{\\mathcal{N}}\n", 
            "\\newcommand{\\Hh}{\\mathcal{H}}\n", 
            "\\newcommand{\\Bb}{\\mathcal{B}}\n", 
            "\\newcommand{\\EE}{\\mathbb{E}}\n", 
            "\\newcommand{\\CC}{\\mathbb{C}}\n", 
            "\\newcommand{\\si}{\\sigma}\n", 
            "\\newcommand{\\al}{\\alpha}\n", 
            "\\newcommand{\\la}{\\lambda}\n", 
            "\\newcommand{\\ga}{\\gamma}\n", 
            "\\newcommand{\\Ga}{\\Gamma}\n", 
            "\\newcommand{\\La}{\\Lambda}\n", 
            "\\newcommand{\\si}{\\sigma}\n", 
            "\\newcommand{\\Si}{\\Sigma}\n", 
            "\\newcommand{\\be}{\\beta}\n", 
            "\\newcommand{\\de}{\\delta}\n", 
            "\\newcommand{\\De}{\\Delta}\n", 
            "\\renewcommand{\\phi}{\\varphi}\n", 
            "\\renewcommand{\\th}{\\theta}\n", 
            "\\newcommand{\\om}{\\omega}\n", 
            "\\newcommand{\\Om}{\\Omega}\n", 
            "$"
          ]
        }, 
        {
          "cell_type": "code", 
          "collapsed": false, 
          "input": [
            "from nt_toolbox import *", 
            "%matplotlib inline", 
            "%load_ext autoreload", 
            "%autoreload 2"
          ], 
          "language": "python", 
          "outputs": []
        }, 
        {
          "cell_type": "heading", 
          "level": 2, 
          "metadata": {}, 
          "source": [
            "Wasserstein Distance\n"
          ]
        }, 
        {
          "cell_type": "markdown", 
          "metadata": {}, 
          "source": [
            "We consider data $f \\in \\RR^{N \\times d}$, that corresponds for\n", 
            "instance to an image of $N$ pixels, with $d=1$ for grayscale image\n", 
            "and $d=3$ for color image. We denote $f = (f_i)_{i=1}^N$ with $f_i\n", 
            "\\in \\RR^d$ the elements of the data.\n", 
            "\n", 
            "\n", 
            "The discrete (empirical) distribution in $\\RR^d$ associated to this\n", 
            "data $f$ is the sum of Diracs\n", 
            "$$ \\mu_f = \\frac{1}{N} \\sum_{i=1}^N \\de_{f_i}. $$\n", 
            "\n", 
            "\n", 
            "An optimal assignement between two such vectors $f,g \\in \\RR^{N \\times d}$\n", 
            "is a permutation $\\si \\in \\Si_N$ that minimizes\n", 
            "$$ \\si^\\star \\in \\uargmin{\\si \\in \\Si_N} \\sum_{i=1}^N \\norm{f_i - g_{\\si(i)}}^2. $$\n", 
            "\n", 
            "\n", 
            "This optimal assignement defines the $L^2$ Wasserstein distance between\n", 
            "the associated point clouds distributions\n", 
            "$$ W_2(\\mu_f,\\mu_g)^2 = \\sum_{i=1}^N \\norm{f_i - g_{\\si(i)}}^2 = \\norm{f - g \\circ \\si}_2^2 $$\n", 
            "where $ g \\circ \\si = (g_{\\si(i)})_i $ is the re-ordered points cloud.\n", 
            ""
          ]
        }, 
        {
          "cell_type": "heading", 
          "level": 2, 
          "metadata": {}, 
          "source": [
            "1-D Optimal Transport\n"
          ]
        }, 
        {
          "cell_type": "markdown", 
          "metadata": {}, 
          "source": [
            "Unfortunately, computing $\\si^\\star$ when $d>1$ is computationaly\n", 
            "more difficult. Best known algorithms (e.g. Hungarian algorithm or linear\n", 
            "programming) have a running time of roughly $O(N^3)$.\n", 
            "\n", 
            "\n", 
            "For 1-D data, $d=1$, one can compute explicitely an optimal assignement\n", 
            "$\\si^\\star \\in \\Si_N$ for any cost $C(u,v) = \\phi(\\abs{u-v})$ where\n", 
            "$\\phi : \\RR \\rightarrow \\RR$ is a convex function. This is thus the case\n", 
            "for the $L^p$ optimal transport.\n", 
            "\n", 
            "\n", 
            "This is obtained by computing two permutations $ \\si_f, \\si_g \\in \\Si_N $\n", 
            "that order the values of the data\n", 
            "$$ f_{\\si_f(1)} \\leq f_{\\si_f(2)} \\leq \\ldots f_{\\si_f(N)} $$\n", 
            "$$ g_{\\si_g(1)} \\leq g_{\\si_g(2)} \\leq \\ldots g_{\\si_g(N)}. $$\n", 
            "\n", 
            "\n", 
            "An optimal assignement is then optained by assigning, for each $k$,\n", 
            "the index $ i = \\si_f(k) $ to the index $ \\si^\\star(i) = \\si_g(k) $, i.e.\n", 
            "$$ \\si^\\star = \\si_g \\circ \\si_f^{-1}$$\n", 
            "where $ \\si_f^{-1} $ is the inverse permutation, that satisfies\n", 
            "$$ \\si_f^{-1} \\circ \\si_f = \\text{Id} $$.\n", 
            "\n", 
            ""
          ]
        }, 
        {
          "cell_type": "heading", 
          "level": 2, 
          "metadata": {}, 
          "source": [
            "Wasserstein Projection\n"
          ]
        }, 
        {
          "cell_type": "markdown", 
          "metadata": {}, 
          "source": [
            "Given two point clouds $f,g \\in \\RR^{N \\times d}$, we\n", 
            "define $ \\Pi_g(f) $ as the orthogonal projection of $f$ on the set\n", 
            "$$ \\Hh_g = \\enscond{m \\in \\RR^N}{ \\mu_m = \\mu_g }. $$\n", 
            "This projection is actually equal to\n", 
            "$$ \\Pi_g(f) = g \\circ \\si^\\star = (g_{\\si^\\star(i)})_{i=1}^N, $$\n", 
            "where $\\si^\\star$ is the optimal assignement beteen $f$ and $g$.\n", 
            "\n", 
            "\n", 
            "For 1-D point clouds ($d=1$), since computing $\\si^\\star$ is easy, one can\n", 
            "compute easily this projection.\n", 
            "\n", 
            "\n", 
            "We define the operator $P(f,g)$ such that for for 1-D point clouds, $f,g \\in \\RR^N$\n", 
            "$P(f,g) = \\Pi_g(f)$ is the orthogonal projection of\n", 
            "$f$ onto the histogram constraints $\\Hh_g$.\n", 
            ""
          ]
        }, 
        {
          "cell_type": "code", 
          "collapsed": false, 
          "input": [
            "options.rows=1\n", 
            "P = lambda f,g: perform_hist_eq(f,g,options)"
          ], 
          "language": "python", 
          "outputs": []
        }, 
        {
          "cell_type": "markdown", 
          "metadata": {}, 
          "source": [
            "\n", 
            "\n", 
            "This operator operates over 1-D distributions, and is extended to higher\n", 
            "dimensions by applying 1-D projection independently along each dimension.\n", 
            "*Important:* note that when $d>1$, one does not have in general\n", 
            "$P(f,g) = \\Pi_g(f)$.\n", 
            "\n", 
            ""
          ]
        }, 
        {
          "cell_type": "heading", 
          "level": 2, 
          "metadata": {}, 
          "source": [
            "Sliced Wasserstein Distance\n"
          ]
        }, 
        {
          "cell_type": "markdown", 
          "metadata": {}, 
          "source": [
            "To obtain approximated assignements for large scale imaging problems, we\n", 
            "introduce the following sliced approximation\n", 
            "$$ SW_2(\\mu_f,\\mu_g)^2 = \\int_{\\mathbb{S}^{d-1}} W_2( \\mu_{f_\\th}, \\mu_{g_\\th} )^2 \\, d \\th$$\n", 
            "which integrate on the $d$-dimensional sphere\n", 
            "$$ \\mathbb{S}^{d-1} = \\enscond{\\th \\in \\RR^d}{ \\norm{\\th}=1 } $$\n", 
            "the 1-D Wasserstein distance $W_2( \\mu_{f_\\th}, \\mu_{g_\\th} )$ between\n", 
            "1-D projected point clouds\n", 
            "$$ f_\\th = ( \\dotp{f_i}{\\th} )_{i=1}^N \\in \\RR^N. $$\n", 
            "\n", 
            "\n", 
            "Following an idea initially proposed by Marc Bernot,\n", 
            "this sliced distance is introduced in:\n", 
            "\n", 
            "\n", 
            "J. Rabin, G. Peyre, J. Delon, M. Bernot,\n", 
            "_Wassertein Barycenter and its Applications to Texture Mixing_\n", 
            "Proc. SSVM'11, Springer, LNCS vol. 6667, pp. 435-446, 2011.\n", 
            "\n", 
            ""
          ]
        }, 
        {
          "cell_type": "heading", 
          "level": 2, 
          "metadata": {}, 
          "source": [
            "Sliced Wasserstein Projection\n"
          ]
        }, 
        {
          "cell_type": "markdown", 
          "metadata": {}, 
          "source": [
            "We would like to compute the orthogonal projection $\\tilde f = \\Pi_g(f)$ on the statistical constraint $\\Hh_g$.\n", 
            "This is computationally intractable for large scala datasets, since it requires to compute the optimal assignement $\\si^\\star$\n", 
            "between $f$ and $g$.\n", 
            "\n", 
            "\n", 
            "We approximate $\\tilde f$ by computing a new dataset that is both a local minimizer of the sliced\n", 
            "Wasserstein distance to $\\mu_g$\n", 
            "$$ E(m) = W_2(\\mu_m,\\mu_g) $$\n", 
            "and that is close to $f$.\n", 
            "\n", 
            "\n", 
            "One can show that $E$ is a $C^1$ functional.\n", 
            "In order to obtain a cloud that is close to $f$, we start a\n", 
            "gradient descent of $E$ starting from $f$\n", 
            "$$ f^{(0)}=f \\qandq f^{(\\ell+1)} = f^{(\\ell)} - \\tau_\\ell \\nabla E(f^{(\\ell)})$$\n", 
            "for some step size $\\tau_\\ell>0$.\n", 
            "\n", 
            "\n", 
            "This gradient descent is still untractable to compute because computing $\\nabla E$\n", 
            "requires an integration on the whole sphere $\\mathbb{S}^{d-1}$. We thus\n", 
            "use instead a stochastic gradient descent method. At each iteration, we\n", 
            "compute at random an orthogonal basis $ \\Theta = (\\th_1,\\ldots,\\th_\\ell) $\n", 
            "of $\\RR^d$. We update the current iterates by minimzing a partial\n", 
            "sliced distance\n", 
            "$$ f^{(\\ell+1)} =\n", 
            "      f^{(\\ell)} - \\tau_\\ell \\nabla E_\\Theta(f^{(\\ell)}) $$\n", 
            "where the integral in the definition of the distance is replaced by a\n", 
            "discrete sum\n", 
            "  $$ E_\\Theta(m) = \\sum_{k=1}^d  W_2( \\mu_{m_{\\th_k}}, \\mu_{g_{\\th_k}} )^2.  $$\n", 
            "\n", 
            "\n", 
            "One can show that computing this stochastic gradient step is equivalent\n", 
            "to computing\n", 
            "$$ f^{(\\ell+1)} = (1-\\tau_\\ell) f^{(\\ell)} + \\tau_\\ell \\tilde f^{(\\ell)} $$\n", 
            "where $\\tilde f^{(\\ell)}$ is obtained by equalizing independantly each\n", 
            "coordinate of\n", 
            "$f^{(\\ell)}$ and $g$ in the orthobasis $\\Theta$.\n", 
            "This corresponds to use the coordinate-wise projector $P$\n", 
            "$$ \\tilde f^{(\\ell)} = \\Theta P( \\Theta^* f^{(\\ell)}, \\Theta^* g ) $$\n", 
            "where $\\Theta^*$ is the transpose operator, i.e.\n", 
            "$ \\Theta^*(u) = (\\dotp{u}{\\theta_k})_{k=1}^d $\n", 
            "\n", 
            "\n", 
            "We show numerically that this gradient descent scheme converges\n", 
            "to a point that is within the statistical constraint, i.e.\n", 
            "$$ f^{(\\ell)} \\overset{\\ell \\rightarrow +\\infty}{\\longrightarrow} \\tilde f\n", 
            "      \\qwhereq  \\mu_{\\tilde f} = \\mu_g. $$\n", 
            "This means that at convergence, one obtains an assignement between $f$\n", 
            "and $g$, i.e. $\\tilde f = g \\circ \\si$ for some $\\si$. It is\n", 
            "important to note that in general, this $\\si$ is not the optimal\n", 
            "assignement $\\si^\\star$, although we oberse numerically that it is\n", 
            "close to be optimal for many large scale imaging problems.\n", 
            ""
          ]
        }, 
        {
          "cell_type": "heading", 
          "level": 2, 
          "metadata": {}, 
          "source": [
            "Matching of 2-D Distributions\n"
          ]
        }, 
        {
          "cell_type": "markdown", 
          "metadata": {}, 
          "source": [
            "We apply this stochastic gradient descent to perform the matching of a\n", 
            "pair of 2-D distributions, hence $d=2$.\n", 
            "\n", 
            "\n", 
            "Number of points.\n", 
            ""
          ]
        }, 
        {
          "cell_type": "code", 
          "collapsed": false, 
          "input": [
            "N = 300"
          ], 
          "language": "python", 
          "outputs": []
        }, 
        {
          "cell_type": "markdown", 
          "metadata": {}, 
          "source": [
            "\n", 
            "\n", 
            "Dimension of the clouds.\n", 
            ""
          ]
        }, 
        {
          "cell_type": "code", 
          "collapsed": false, 
          "input": [
            "d = 2"
          ], 
          "language": "python", 
          "outputs": []
        }, 
        {
          "cell_type": "markdown", 
          "metadata": {}, 
          "source": [
            "\n", 
            "\n", 
            "First distribution of points, inside a square.\n", 
            ""
          ]
        }, 
        {
          "cell_type": "code", 
          "collapsed": false, 
          "input": [
            "f = rand(2,N)-.5"
          ], 
          "language": "python", 
          "outputs": []
        }, 
        {
          "cell_type": "markdown", 
          "metadata": {}, 
          "source": [
            "\n", 
            "\n", 
            "Second distribution of points, inside an anulus.\n", 
            ""
          ]
        }, 
        {
          "cell_type": "code", 
          "collapsed": false, 
          "input": [
            "theta = 2*pi*rand(1,N)\n", 
            "r = .8 + .2*rand(1,N)\n", 
            "g = [cos(theta).*r; sin(theta).*r]"
          ], 
          "language": "python", 
          "outputs": []
        }, 
        {
          "cell_type": "markdown", 
          "metadata": {}, 
          "source": [
            "\n", 
            "\n", 
            "Shortcut for displaying point clouds.\n", 
            ""
          ]
        }, 
        {
          "cell_type": "code", 
          "collapsed": false, 
          "input": [
            "plotp = lambda x,col: plot(x(1,:)', x(2,:)', 'o', 'MarkerSize', 10, 'MarkerEdgeColor', 'k', 'MarkerFaceColor', col, 'LineWidth', 2)"
          ], 
          "language": "python", 
          "outputs": []
        }, 
        {
          "cell_type": "markdown", 
          "metadata": {}, 
          "source": [
            "\n", 
            "\n", 
            "\n", 
            "Display.\n", 
            ""
          ]
        }, 
        {
          "cell_type": "code", 
          "collapsed": false, 
          "input": [
            "clf; hold on\n", 
            "plotp(f, 'b')\n", 
            "plotp(g, 'r')\n", 
            "axis('off'); axis('equal')"
          ], 
          "language": "python", 
          "outputs": []
        }, 
        {
          "cell_type": "markdown", 
          "metadata": {}, 
          "source": [
            "\n", 
            "\n", 
            "\n", 
            "We use a fixed gradient step size $\\tau_\\ell=\\tau$.\n", 
            "While stochastic gradient descent require in theory a decaying step size,\n", 
            "it appears numerically that a fixed step size works well to minimize SW.\n", 
            ""
          ]
        }, 
        {
          "cell_type": "code", 
          "collapsed": false, 
          "input": [
            "tau = .2"
          ], 
          "language": "python", 
          "outputs": []
        }, 
        {
          "cell_type": "markdown", 
          "metadata": {}, 
          "source": [
            "\n", 
            "\n", 
            "Intialize $f^{(0)}=f$.\n", 
            ""
          ]
        }, 
        {
          "cell_type": "code", 
          "collapsed": false, 
          "input": [
            "f1 = f"
          ], 
          "language": "python", 
          "outputs": []
        }, 
        {
          "cell_type": "markdown", 
          "metadata": {}, 
          "source": [
            "\n", 
            "\n", 
            "Compute an orthogonal coordinate system for this iteration.\n", 
            ""
          ]
        }, 
        {
          "cell_type": "code", 
          "collapsed": false, 
          "input": [
            "[Theta,~] = qr(randn(d))"
          ], 
          "language": "python", 
          "outputs": []
        }, 
        {
          "cell_type": "markdown", 
          "metadata": {}, 
          "source": [
            "\n", 
            "\n", 
            "Perform the gradient step update.\n", 
            ""
          ]
        }, 
        {
          "cell_type": "code", 
          "collapsed": false, 
          "input": [
            "f1 = (1-tau)*f1 + tau * Theta * P(Theta'*f1, Theta'*g)"
          ], 
          "language": "python", 
          "outputs": []
        }, 
        {
          "cell_type": "markdown", 
          "metadata": {}, 
          "source": [
            "\n", 
            "\n", 
            "\n", 
            "Display $f$ and $g$, together with the position $f^{(1)}$ at the first iteration (in yellow).\n", 
            ""
          ]
        }, 
        {
          "cell_type": "code", 
          "collapsed": false, 
          "input": [
            "clf; hold on\n", 
            "plotp(f, 'b')\n", 
            "plotp(g, 'r')\n", 
            "plotp(f1, 'y')\n", 
            "axis('off'); axis('equal')"
          ], 
          "language": "python", 
          "outputs": []
        }, 
        {
          "cell_type": "heading", 
          "level": 3, 
          "metadata": {}, 
          "source": [
            "Exercise 1"
          ]
        }, 
        {
          "cell_type": "markdown", 
          "metadata": {}, 
          "source": [
            "\n", 
            "Iterate many time the randomized assignement until convergence of $\\tilde f$.\n", 
            "The random projector $\\Theta$ should be re-computed at each iteration.\n", 
            "\n", 
            "\n", 
            "\n", 
            "\n", 
            "\n", 
            "\n", 
            "\n", 
            "\n", 
            "\n", 
            "\n", 
            "\n", 
            "\n", 
            "\n", 
            "\n", 
            "\n", 
            ""
          ]
        }, 
        {
          "cell_type": "code", 
          "collapsed": false, 
          "input": [
            "## Insert your code here."
          ], 
          "language": "python", 
          "outputs": []
        }, 
        {
          "cell_type": "markdown", 
          "metadata": {}, 
          "source": [
            "\n", 
            "\n", 
            "\n", 
            "Display final configuration with the matching.\n", 
            ""
          ]
        }, 
        {
          "cell_type": "code", 
          "collapsed": false, 
          "input": [
            "\n", 
            "hold on\n", 
            "h = plot([f(1,:);f1(1,:)], [f(2,:);f1(2,:)], 'k')\n", 
            "set(h, 'LineWidth', 2)\n", 
            "plotp(f, 'b')\n", 
            "plotp(g, 'r')\n", 
            "axis('off'); axis('equal')"
          ], 
          "language": "python", 
          "outputs": []
        }, 
        {
          "cell_type": "markdown", 
          "metadata": {}, 
          "source": [
            "\n", 
            "\n", 
            "An average point cloud is obtained by interpolation\n", 
            "$$\\forall t \\in [0,1], \\quad f_t = (1-t) f + t \\tilde f. $$\n", 
            ""
          ]
        }, 
        {
          "cell_type": "code", 
          "collapsed": false, 
          "input": [
            "t = .5\n", 
            "ft = (1-t)*f + t*f1"
          ], 
          "language": "python", 
          "outputs": []
        }, 
        {
          "cell_type": "markdown", 
          "metadata": {}, 
          "source": [
            "\n", 
            "\n", 
            "Display the barycenter in magenta for $t=1/2$ (midway point cloud).\n", 
            ""
          ]
        }, 
        {
          "cell_type": "code", 
          "collapsed": false, 
          "input": [
            "\n", 
            "hold on\n", 
            "plotp(f, 'b')\n", 
            "plotp(g, 'r')\n", 
            "plotp(ft, [t 0 1-t])\n", 
            "axis('off'); axis('equal')"
          ], 
          "language": "python", 
          "outputs": []
        }, 
        {
          "cell_type": "heading", 
          "level": 3, 
          "metadata": {}, 
          "source": [
            "Exercise 2"
          ]
        }, 
        {
          "cell_type": "markdown", 
          "metadata": {}, 
          "source": [
            "\n", 
            "Show the progressive interpolation for varying $t \\in [0,1]$.\n", 
            "\n", 
            "\n", 
            "\n", 
            "\n", 
            "\n", 
            "\n", 
            "\n", 
            "\n", 
            "\n", 
            ""
          ]
        }, 
        {
          "cell_type": "code", 
          "collapsed": false, 
          "input": [
            "## Insert your code here."
          ], 
          "language": "python", 
          "outputs": []
        }, 
        {
          "cell_type": "markdown", 
          "metadata": {}, 
          "source": [
            "\n", 
            "\n", 
            ""
          ]
        }, 
        {
          "cell_type": "heading", 
          "level": 2, 
          "metadata": {}, 
          "source": [
            "3D Histogram Matching\n"
          ]
        }, 
        {
          "cell_type": "markdown", 
          "metadata": {}, 
          "source": [
            "We now use this method to perform the equalization of color images, hence $d=3$.\n", 
            "\n", 
            "\n", 
            "Width $n$ of the images and number of pixels $N=n \\times n$.\n", 
            ""
          ]
        }, 
        {
          "cell_type": "code", 
          "collapsed": false, 
          "input": [
            "n = 128\n", 
            "N = n*n\n", 
            "d = 3"
          ], 
          "language": "python", 
          "outputs": []
        }, 
        {
          "cell_type": "markdown", 
          "metadata": {}, 
          "source": [
            "\n", 
            "\n", 
            "Load two color images $F, G \\in \\RR^{n \\times n \\times 3}$.\n", 
            ""
          ]
        }, 
        {
          "cell_type": "code", 
          "collapsed": false, 
          "input": [
            "F = rescale( load_image('hibiscus', n) )\n", 
            "G = rescale( load_image('flowers', n) )"
          ], 
          "language": "python", 
          "outputs": []
        }, 
        {
          "cell_type": "markdown", 
          "metadata": {}, 
          "source": [
            "\n", 
            "\n", 
            "\n", 
            "Display them.\n", 
            ""
          ]
        }, 
        {
          "cell_type": "code", 
          "collapsed": false, 
          "input": [
            "\n", 
            "imageplot({F G})"
          ], 
          "language": "python", 
          "outputs": []
        }, 
        {
          "cell_type": "markdown", 
          "metadata": {}, 
          "source": [
            "\n", 
            "\n", 
            "The 3-D points clouds $f,g \\in \\RR^{N \\times 3}$ associated with the images.\n", 
            ""
          ]
        }, 
        {
          "cell_type": "code", 
          "collapsed": false, 
          "input": [
            "f = reshape(F, [n*n 3])'\n", 
            "g = reshape(G, [n*n 3])'"
          ], 
          "language": "python", 
          "outputs": []
        }, 
        {
          "cell_type": "markdown", 
          "metadata": {}, 
          "source": [
            "\n", 
            "\n", 
            "Shortcut to compute 2-D histograms.\n", 
            ""
          ]
        }, 
        {
          "cell_type": "code", 
          "collapsed": false, 
          "input": [
            "quantize = lambda A,Q: 1+round((Q-1)*A)\n", 
            "J = lambda I,Q: I(1,:)' + Q*(I(2,:)'-1)\n", 
            "hist2d = lambda f,Q: reshape( accumarray(J(quantize(f,Q),Q), ones(1,N), [Q*Q 1], @sum), [Q Q])"
          ], 
          "language": "python", 
          "outputs": []
        }, 
        {
          "cell_type": "markdown", 
          "metadata": {}, 
          "source": [
            "\n", 
            "\n", 
            "Number of bins for the display of histograms.\n", 
            ""
          ]
        }, 
        {
          "cell_type": "code", 
          "collapsed": false, 
          "input": [
            "Q = 60"
          ], 
          "language": "python", 
          "outputs": []
        }, 
        {
          "cell_type": "markdown", 
          "metadata": {}, 
          "source": [
            "\n", 
            "\n", 
            "Display the 2-D histograms of the red/green channels of both images\n", 
            "(use log to boost contrast).\n", 
            ""
          ]
        }, 
        {
          "cell_type": "code", 
          "collapsed": false, 
          "input": [
            "func = lambda a: log(a+3)\n", 
            "\n", 
            "imageplot({ func(hist2d(f(1:2,:),Q)), func(hist2d(g(1:2,:),Q)) })"
          ], 
          "language": "python", 
          "outputs": []
        }, 
        {
          "cell_type": "heading", 
          "level": 3, 
          "metadata": {}, 
          "source": [
            "Exercise 3"
          ]
        }, 
        {
          "cell_type": "markdown", 
          "metadata": {}, 
          "source": [
            "\n", 
            "Perform the equalization of each of the coordinate independantly\n", 
            "of $f$ with $g$. Display the resulting image.\n", 
            "\n", 
            "\n", 
            "\n", 
            ""
          ]
        }, 
        {
          "cell_type": "code", 
          "collapsed": false, 
          "input": [
            "## Insert your code here."
          ], 
          "language": "python", 
          "outputs": []
        }, 
        {
          "cell_type": "markdown", 
          "metadata": {}, 
          "source": [
            "\n", 
            "\n", 
            "\n", 
            "Equalizing channel by channel does not leads to an image whose\n", 
            "distribution is equal to the target distribution (only the projection on\n", 
            "the three axes are equal).\n", 
            ""
          ]
        }, 
        {
          "cell_type": "heading", 
          "level": 3, 
          "metadata": {}, 
          "source": [
            "Exercise 4"
          ]
        }, 
        {
          "cell_type": "markdown", 
          "metadata": {}, 
          "source": [
            "\n", 
            "To obtain an exact matching, one can use the stochastic gradient descent\n", 
            "algorithm to minimize $SW$.\n", 
            "Display the resulting image at several stages of the optimization\n", 
            "process.\n", 
            "\n", 
            "\n", 
            "\n", 
            "\n", 
            "\n", 
            "\n", 
            "\n", 
            "\n", 
            "\n", 
            "\n", 
            "\n", 
            "\n", 
            "\n", 
            "\n", 
            "\n", 
            ""
          ]
        }, 
        {
          "cell_type": "code", 
          "collapsed": false, 
          "input": [
            "## Insert your code here."
          ], 
          "language": "python", 
          "outputs": []
        }, 
        {
          "cell_type": "markdown", 
          "metadata": {}, 
          "source": [
            "\n", 
            "\n", 
            "\n", 
            "Display the final image.\n", 
            ""
          ]
        }, 
        {
          "cell_type": "code", 
          "collapsed": false, 
          "input": [
            "\n", 
            "imageplot(F1)"
          ], 
          "language": "python", 
          "outputs": []
        }, 
        {
          "cell_type": "heading", 
          "level": 3, 
          "metadata": {}, 
          "source": [
            "Exercise 5"
          ]
        }, 
        {
          "cell_type": "markdown", 
          "metadata": {}, 
          "source": [
            "\n", 
            "Display the geodesic interpolation between the two histograms $\\mu_f$ and $\\mu_g$.\n", 
            "\n", 
            "\n", 
            "\n", 
            "\n", 
            "\n", 
            "\n", 
            "\n", 
            "\n", 
            ""
          ]
        }, 
        {
          "cell_type": "code", 
          "collapsed": false, 
          "input": [
            "## Insert your code here."
          ], 
          "language": "python", 
          "outputs": []
        }
      ]
    }
  ]
}