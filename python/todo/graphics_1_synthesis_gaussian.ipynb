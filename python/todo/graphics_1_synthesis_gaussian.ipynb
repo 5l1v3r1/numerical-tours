{
  "metadata": {
    "name": ""
  }, 
  "nbformat": 3, 
  "nbformat_minor": 0, 
  "worksheets": [
    {
      "cells": [
        {
          "cell_type": "heading", 
          "level": 1, 
          "metadata": {}, 
          "source": [
            "Gaussian Models for Texture Synthesis"
          ]
        }, 
        {
          "cell_type": "markdown", 
          "metadata": {}, 
          "source": [
            "This numerical tour explores texture synthesis using Gaussian random fields.\n", 
            "Image synthesis is obtained by drawing an image at random from a random distribution that\n", 
            "is learned from an input texture exemplar.\n", 
            "\n", 
            "\n", 
            "We use here the spot noise model developped in\n", 
            "\n", 
            "\n", 
            "B. Galerne, Y. Gousseau and J.-M. Morel,\n", 
            "_Random Phase Textures: Theory and Synthesis_, IEEE Transactions on Image\n", 
            "Processing, 20(1), pp. 257-267, 2011.\n", 
            "\n", 
            "\n", 
            "We derive this model as being a Maximamu Likelihood Estimate (MLE)\n", 
            "of a stationary Gaussian\n", 
            "vector parameters from a single input texture. Although this is not the original\n", 
            "derivation of the model, it is stricly equivalent to the method of\n", 
            "Galerne et al.\n", 
            ""
          ]
        }, 
        {
          "cell_type": "markdown", 
          "metadata": {}, 
          "source": [
            "*Important:* You need to download the file `nt_toolbox.py` from the \n", 
            "root of the github repository.\n", 
            "$\\newcommand{\\dotp}[2]{\\langle #1, #2 \\rangle}\n", 
            "\\newcommand{\\enscond}[2]{\\lbrace #1, #2 \\rbrace}\n", 
            "\\newcommand{\\pd}[2]{ \\frac{ \\partial #1}{\\partial #2} }\n", 
            "\\newcommand{\\umin}[1]{\\underset{#1}{\\min}\\;}\n", 
            "\\newcommand{\\norm}[1]{\\|#1\\|}\n", 
            "\\newcommand{\\abs}[1]{\\left|#1\\right|}\n", 
            "\\newcommand{\\choice}[1]{ \\left\\{  \\begin{array}{l} #1 \\end{array} \\right. }\n", 
            "\\newcommand{\\pa}[1]{\\left(#1\\right)}\n", 
            "\\newcommand{\\qandq}{\\quad\\text{and}\\quad}\n", 
            "\\newcommand{\\qwhereq}{\\quad\\text{where}\\quad}\n", 
            "\\newcommand{\\qifq}{ \\quad \\text{if} \\quad }\n", 
            "\\newcommand{\\qarrq}{ \\quad \\Longrightarrow \\quad }\n", 
            "\\newcommand{\\ZZ}{\\mathbb{Z}}\n", 
            "\\newcommand{\\RR}{\\mathbb{R}}\n", 
            "\\newcommand{\\Nn}{\\mathcal{N}}\n", 
            "\\newcommand{\\Hh}{\\mathcal{H}}\n", 
            "\\newcommand{\\Bb}{\\mathcal{B}}\n", 
            "\\newcommand{\\EE}{\\mathbb{E}}\n", 
            "\\newcommand{\\CC}{\\mathbb{C}}\n", 
            "\\newcommand{\\si}{\\sigma}\n", 
            "\\newcommand{\\al}{\\alpha}\n", 
            "\\newcommand{\\la}{\\lambda}\n", 
            "\\newcommand{\\ga}{\\gamma}\n", 
            "\\newcommand{\\Ga}{\\Gamma}\n", 
            "\\newcommand{\\La}{\\Lambda}\n", 
            "\\newcommand{\\si}{\\sigma}\n", 
            "\\newcommand{\\Si}{\\Sigma}\n", 
            "\\newcommand{\\be}{\\beta}\n", 
            "\\newcommand{\\de}{\\delta}\n", 
            "\\newcommand{\\De}{\\Delta}\n", 
            "\\renewcommand{\\phi}{\\varphi}\n", 
            "\\renewcommand{\\th}{\\theta}\n", 
            "\\newcommand{\\om}{\\omega}\n", 
            "\\newcommand{\\Om}{\\Omega}\n", 
            "$"
          ]
        }, 
        {
          "cell_type": "code", 
          "collapsed": false, 
          "input": [
            "from nt_toolbox import *", 
            "%matplotlib inline", 
            "%load_ext autoreload", 
            "%autoreload 2"
          ], 
          "language": "python", 
          "outputs": []
        }, 
        {
          "cell_type": "markdown", 
          "metadata": {}, 
          "source": [
            "\n", 
            "CMT"
          ]
        }, 
        {
          "cell_type": "code", 
          "collapsed": false, 
          "input": [
            "rep = 'results/graphics_1_synthesis_gaussian/'\n", 
            "if not(exist(rep))\n", 
            "    mkdir(rep)\n", 
            ""
          ], 
          "language": "python", 
          "outputs": []
        }, 
        {
          "cell_type": "markdown", 
          "metadata": {}, 
          "source": [
            "CMT\n", 
            ""
          ]
        }, 
        {
          "cell_type": "heading", 
          "level": 2, 
          "metadata": {}, 
          "source": [
            "Gaussian Modeling of Textures\n"
          ]
        }, 
        {
          "cell_type": "markdown", 
          "metadata": {}, 
          "source": [
            "We consider the modeling of textures $f \\in \\RR^N$ of $N$ pixels using a Gaussian\n", 
            "random vector $ X \\sim \\Nn(\\mu,\\Si) $. Here $\\mu \\in \\RR^N$ is the\n", 
            "mean of the distribution and $\\Si \\in \\RR^{N \\times N}$ is a symmetric\n", 
            "semi-definite positive covariance matrix.\n", 
            "\n", 
            "\n", 
            "We recall that formally a random vector is a mapping $X : \\Om \\rightarrow\n", 
            "\\RR^N$ where $\\Om$ is a probalized space.\n", 
            "\n", 
            "\n", 
            "_Texture analysis_ corresponds to learning both $\\mu$ and $\\Si$ from a\n", 
            "single exemplar texture $f_0 \\in \\RR^N$. For this learning to be\n", 
            "feasible, since the number of free parameters is enormous, additional\n", 
            "assumptions on the distribution are required. We suppose here that the\n", 
            "texture model is stationary, i.e. all translates $X(\\cdot+\\tau)$ have\n", 
            "the same distribition for all $\\tau \\in \\ZZ^2$ (we assume here periodic\n", 
            "boundary conditions for simplicity).\n", 
            "\n", 
            "\n", 
            "_Texture synthesis_ corresponds to computing a realization $f = X(\\xi) \\in \\RR^N$\n", 
            "where $\\xi \\in \\Om$, from the random vector $X$. Since $X$ is\n", 
            "Gaussian distributed, this can be achieved by computing $ f = U w+\\mu $\n", 
            "where $U \\in \\RR^{N \\times N}$ is any matrix that factorize the\n", 
            "covariance as $\\Si = UU^*$ and $w$ is a realisation of a random vector\n", 
            "of distribution $\\Nn(0,\\text{Id}_N)$, which is a Gaussian white noise.\n", 
            "In the following, this computation is caried over very easily because the\n", 
            "factorization of the covariance is explicitely given during the\n", 
            "estimation step.\n", 
            "\n", 
            "\n", 
            "\n", 
            "Load a color textured image $f$.\n", 
            ""
          ]
        }, 
        {
          "cell_type": "code", 
          "collapsed": false, 
          "input": [
            "n = 512\n", 
            "name = 'wood'\n", 
            "f = rescale( load_image(name, n) )"
          ], 
          "language": "python", 
          "outputs": []
        }, 
        {
          "cell_type": "markdown", 
          "metadata": {}, 
          "source": [
            "\n", 
            "CMT"
          ]
        }, 
        {
          "cell_type": "code", 
          "collapsed": false, 
          "input": [
            "mysvg = lambda a,s: imwrite(clamp(a), [rep name '-' s '.png'], 'png')\n", 
            "mysvg(f, 'original')"
          ], 
          "language": "python", 
          "outputs": []
        }, 
        {
          "cell_type": "markdown", 
          "metadata": {}, 
          "source": [
            "CMT\n", 
            "\n", 
            "\n", 
            "Display it.\n", 
            ""
          ]
        }, 
        {
          "cell_type": "code", 
          "collapsed": false, 
          "input": [
            "\n", 
            "imageplot(f)"
          ], 
          "language": "python", 
          "outputs": []
        }, 
        {
          "cell_type": "heading", 
          "level": 2, 
          "metadata": {}, 
          "source": [
            "Periodic + Smooth Image Decomposition\n"
          ]
        }, 
        {
          "cell_type": "markdown", 
          "metadata": {}, 
          "source": [
            "To avoid boundary artifact, we replace the original image $f$\n", 
            "by its periodic component $p$, which is computed as detailed in:\n", 
            "\n", 
            "\n", 
            "L. Moisan, _Periodic plus Smooth Image Decomposition_,Journal of\n", 
            "Mathematical Imaging and Vision, vol 39:2, pp. 161-179, 2011.\n", 
            "\n", 
            "\n", 
            "\n", 
            "The periodic component $p$ is the solution of the folowing linear\n", 
            "system\n", 
            "$$ \\choice{\n", 
            "      \\Delta p = \\Delta_i f \\\\\n", 
            "      \\sum_k p(k) = \\sum_k f(k)\n", 
            "  }\n", 
            "$$\n", 
            "where $\\Delta$ is a finite difference Laplacian with periodic boundary\n", 
            "conditions, and $\\Delta_i$ is the same Laplacian but with reflecting\n", 
            "boundary conditions.\n", 
            "\n", 
            "\n", 
            "We first extend the original input image by symmetry to obtain $f_e \\in \\RR^{(n+2) \\times (n+2)} $.\n", 
            "Note that the extension of a color image is obtained by extending each\n", 
            "channel.\n", 
            ""
          ]
        }, 
        {
          "cell_type": "code", 
          "collapsed": false, 
          "input": [
            "z = zeros(1,1,size(f,3))\n", 
            "fe = [z, f(1,:,:), z; f(:,1,:), f, f(:,end,:); z, f(end,:,:), z]"
          ], 
          "language": "python", 
          "outputs": []
        }, 
        {
          "cell_type": "markdown", 
          "metadata": {}, 
          "source": [
            "\n", 
            "\n", 
            "Compute the inner-Laplacian $d = \\Delta_i f$ as the usual Laplacian of the\n", 
            "extended image $\\Delta f_e$.\n", 
            ""
          ]
        }, 
        {
          "cell_type": "code", 
          "collapsed": false, 
          "input": [
            "laplacian = lambda x: 4*x - ( circshift(x,[0 1]) + circshift(x,[1 0]) + circshift(x,[-1 0]) + circshift(x,[0 -1]) )\n", 
            "d = laplacian(fe)\n", 
            "d = d(2:end-1, 2:end-1, :)"
          ], 
          "language": "python", 
          "outputs": []
        }, 
        {
          "cell_type": "markdown", 
          "metadata": {}, 
          "source": [
            "\n", 
            "\n", 
            "We solve the linear system $ \\Delta p = d $ (assuming now periodic boundary conditions\n", 
            "for the Laplacian) using the Fourier transform\n", 
            "$$ \\forall \\om \\neq 0, \\quad \\hat p(\\om) = \\frac{\\hat d(\\om)}{\n", 
            "    \\hat U(\\om) } \\qwhereq\n", 
            "      \\hat U(\\om) = 4 - 2\\cos\\pa{\\frac{2 \\om_1 \\pi}{n}} - 2\\cos\\pa{\\frac{2 \\om_2 \\pi}{n}},  $$\n", 
            "together with the conservation of the mean constraint\n", 
            "$$ \\hat p(0) = \\sum_k f(k). $$\n", 
            "\n", 
            "\n", 
            "Here, the discrete Fourier transform of an image $f \\in \\RR^{n \\times n}$ is defined as\n", 
            "$$ \\forall (\\om_1,\\om_2) \\in \\{0,\\ldots,n\\}^2, \\quad\n", 
            "      \\hat p(\\om) = \\sum_{k_1=0}^{n-1} \\sum_{k_2=0}^{n-1}\n", 
            "      p(k) e^{\\frac{2 i \\pi}{n} (k_1 \\om_1 + k_2 \\om_2) }. $$\n", 
            "Note that for a color image, this coefficient is a vector in $\\RR^3$ obtained by\n", 
            "transforming each channel. The Fourier transform is computed in\n", 
            "$O(N\\log(N))$ operations with the FFT algorithm (for 2-D image, use the\n", 
            "|fft2| command).\n", 
            "\n", 
            "\n", 
            "Compute the Laplacian transform map $\\hat U(\\om)$.\n", 
            ""
          ]
        }, 
        {
          "cell_type": "code", 
          "collapsed": false, 
          "input": [
            "[X Y] = meshgrid(0:n-1, 0:n-1)\n", 
            "U = 4 - 2*cos(2.*X*pi/n) - 2*cos(2.*Y*pi/n)"
          ], 
          "language": "python", 
          "outputs": []
        }, 
        {
          "cell_type": "markdown", 
          "metadata": {}, 
          "source": [
            "\n", 
            "\n", 
            "Inverse the Laplacian.\n", 
            ""
          ]
        }, 
        {
          "cell_type": "code", 
          "collapsed": false, 
          "input": [
            "P = fft2(d)./repmat(U, [1 1 size(f,3)])\n", 
            "P(1,1,:) = sum(sum(f,1),2)\n", 
            "p = real(ifft2(P))"
          ], 
          "language": "python", 
          "outputs": []
        }, 
        {
          "cell_type": "markdown", 
          "metadata": {}, 
          "source": [
            "\n", 
            "\n", 
            "Compare the periodic tilings of $f_0$ and $f$.\n", 
            ""
          ]
        }, 
        {
          "cell_type": "code", 
          "collapsed": false, 
          "input": [
            "mydisp = lambda x: [x x; x x]\n", 
            "\n", 
            "imageplot(mydisp(f), 'Original, periodized',1,2,1)\n", 
            "imageplot(mydisp(p), 'Periodic layer, periodized',1,2,2)"
          ], 
          "language": "python", 
          "outputs": []
        }, 
        {
          "cell_type": "markdown", 
          "metadata": {}, 
          "source": [
            "\n", 
            "CMT"
          ]
        }, 
        {
          "cell_type": "code", 
          "collapsed": false, 
          "input": [
            "mysvg(p, 'periodized')\n", 
            "mysvg(mydisp(p), 'periodized-2x2')\n", 
            "mysvg(mydisp(f), 'original-2x2')"
          ], 
          "language": "python", 
          "outputs": []
        }, 
        {
          "cell_type": "markdown", 
          "metadata": {}, 
          "source": [
            "CMT\n", 
            ""
          ]
        }, 
        {
          "cell_type": "heading", 
          "level": 3, 
          "metadata": {}, 
          "source": [
            "Exercise 1"
          ]
        }, 
        {
          "cell_type": "markdown", 
          "metadata": {}, 
          "source": [
            "\n", 
            "Compare the log of the modulus of the Fourier transforms of the input image $f$\n", 
            "and its periodic component $p$. What do you observe ?\n", 
            "\n", 
            "\n", 
            "\n", 
            ""
          ]
        }, 
        {
          "cell_type": "code", 
          "collapsed": false, 
          "input": [
            "## Insert your code here."
          ], 
          "language": "python", 
          "outputs": []
        }, 
        {
          "cell_type": "markdown", 
          "metadata": {}, 
          "source": [
            "\n", 
            "\n", 
            ""
          ]
        }, 
        {
          "cell_type": "heading", 
          "level": 2, 
          "metadata": {}, 
          "source": [
            "Spot Noise Texture Synthesis\n"
          ]
        }, 
        {
          "cell_type": "markdown", 
          "metadata": {}, 
          "source": [
            "In the spot noise Gaussian texture model, the covariance $\\Si$ is learned as the\n", 
            "empirical covariance of the texture input $f_0$.\n", 
            "\n", 
            "\n", 
            "Assign $f_0$ to the be the intensity of the periodic component of the input\n", 
            "exemplar.\n", 
            ""
          ]
        }, 
        {
          "cell_type": "code", 
          "collapsed": false, 
          "input": [
            "f0 = mean(p,3)"
          ], 
          "language": "python", 
          "outputs": []
        }, 
        {
          "cell_type": "markdown", 
          "metadata": {}, 
          "source": [
            "\n", 
            "\n", 
            "Display it.\n", 
            ""
          ]
        }, 
        {
          "cell_type": "code", 
          "collapsed": false, 
          "input": [
            "u = f0; u(1,1,:)=0; u(2,1,:)=1\n", 
            "\n", 
            "imageplot(clamp(u))"
          ], 
          "language": "python", 
          "outputs": []
        }, 
        {
          "cell_type": "markdown", 
          "metadata": {}, 
          "source": [
            "\n", 
            "\n", 
            "Exploiting the stationarity of the model, the empirical covariance is\n", 
            "computed as\n", 
            "$$ \\forall i,j, \\quad \\Si_{i,j} = \\frac{1}{N} \\sum_k f_0(i+k) f_0(j+k), $$\n", 
            "Using such an empirical covariance can be understood as using a maximum\n", 
            "likelihood estimator (MLE) of the covariance.\n", 
            "\n", 
            "\n", 
            "This defines a cyclic covariance matrix.\n", 
            "It means that $\\Si$ is a\n", 
            "convolution operator\n", 
            "$$ \\forall h \\in \\RR^N, \\quad \\Si h = s \\star h $$\n", 
            "where $\\star$ denotes the periodic convolution\n", 
            "$$ \\forall a, b \\in \\RR^N, \\quad a \\star b(k) = \\sum_{\\ell} a(\\ell) b(k-\\ell) $$\n", 
            "(remember that the indexes $k,\\ell$ are actually 2-D indexes)\n", 
            "where the filter $s \\in \\RR^N$ is the auto-correlation of the input\n", 
            "exemplar\n", 
            "$$ s = \\frac{1}{N} f_0 \\star \\tilde f_0\n", 
            "  \\qwhereq \\tilde a(k)=a(-k).  $$\n", 
            "\n", 
            "\n", 
            "Since the model is stationary, the mean $\\mu \\in \\RR^N$ is a constant image\n", 
            "$$ \\mu = \\frac{1}{N} \\sum_k f_0(k). $$\n", 
            "\n", 
            "\n", 
            "This model can be expressed using the Fourier transform, using the power\n", 
            "spectrum which is the Fourier transform of the covariance filter\n", 
            "$$ \\hat s(\\om) = \\frac{1}{N} \\abs{\\hat f_0(\\om)}^2~. $$\n", 
            "\n", 
            "\n", 
            "Since the covariance $\\Si$ is defined in a factored form $s = f_0\n", 
            "\\star \\tilde f_0$, sampling a realization from this Gaussian\n", 
            "distribution is straightforward, since it only requires computing\n", 
            "$$ f = f_0 \\star w $$\n", 
            "where $ w $ is a realization of a Gaussian white noise of distribution\n", 
            "$\\Nn(N^{-1},N^{-1/2}\\text{Id}_N)$.\n", 
            "\n", 
            "\n", 
            "Generate a realization $w$ of this white noise.\n", 
            ""
          ]
        }, 
        {
          "cell_type": "code", 
          "collapsed": false, 
          "input": [
            "w = randn(n)/n\n", 
            "w = w-mean(w(:))+1/n^2"
          ], 
          "language": "python", 
          "outputs": []
        }, 
        {
          "cell_type": "markdown", 
          "metadata": {}, 
          "source": [
            "\n", 
            "\n", 
            "Compute the convolution $f_0 \\star w$, which defines the synthesized result.\n", 
            ""
          ]
        }, 
        {
          "cell_type": "code", 
          "collapsed": false, 
          "input": [
            "f = real(ifft2(fft2(f0).*fft2(w)))"
          ], 
          "language": "python", 
          "outputs": []
        }, 
        {
          "cell_type": "markdown", 
          "metadata": {}, 
          "source": [
            "\n", 
            "\n", 
            "Display the result.\n", 
            ""
          ]
        }, 
        {
          "cell_type": "code", 
          "collapsed": false, 
          "input": [
            "\n", 
            "u = f0; u(1,1,:)=0; u(2,1,:)=1\n", 
            "imageplot(clamp(u), 'Input', 1,2,1)\n", 
            "u = f; u(1,1,:)=0; u(2,1,:)=1\n", 
            "imageplot(clamp(u), 'Synthesized', 1,2,2)"
          ], 
          "language": "python", 
          "outputs": []
        }, 
        {
          "cell_type": "heading", 
          "level": 3, 
          "metadata": {}, 
          "source": [
            "Exercise 2"
          ]
        }, 
        {
          "cell_type": "markdown", 
          "metadata": {}, 
          "source": [
            "\n", 
            "Compare the histograms of the input and synthesized textures pixel empirical distributions.\n", 
            "\n", 
            "\n", 
            "\n", 
            "\n", 
            "\n", 
            "\n", 
            "\n", 
            "\n", 
            ""
          ]
        }, 
        {
          "cell_type": "code", 
          "collapsed": false, 
          "input": [
            "## Insert your code here."
          ], 
          "language": "python", 
          "outputs": []
        }, 
        {
          "cell_type": "markdown", 
          "metadata": {}, 
          "source": [
            "\n", 
            ""
          ]
        }, 
        {
          "cell_type": "heading", 
          "level": 2, 
          "metadata": {}, 
          "source": [
            "Color Spot Noise Texture Synthesis\n"
          ]
        }, 
        {
          "cell_type": "markdown", 
          "metadata": {}, 
          "source": [
            "Synthesis of color textures is obtained by extending the previous Gaussian\n", 
            "model to vector valued images.\n", 
            "\n", 
            "\n", 
            "Assign $f_0$ to the be the periodic component of the color input\n", 
            "exemplar.\n", 
            ""
          ]
        }, 
        {
          "cell_type": "code", 
          "collapsed": false, 
          "input": [
            "f0 = p"
          ], 
          "language": "python", 
          "outputs": []
        }, 
        {
          "cell_type": "markdown", 
          "metadata": {}, 
          "source": [
            "\n", 
            "\n", 
            "A color image is a vector valued image $f_0 \\in \\RR^{N \\times d}$, where here $d=3$.\n", 
            "\n", 
            "\n", 
            "A Gaussian field $\\Nn(\\mu,\\Si)$ to model color textures makes use of a covariance\n", 
            "$\\Si \\in \\RR^{ (Nd)\\times (Nd) }$. Equivalently, it can be thought as\n", 
            "a collection $ (\\Si_{i,j})_{i,j=0}^{N-1} $ of small covariances\n", 
            "matrices $ \\Si_{i,j} \\in \\RR^{d \\times d} $ that encode the\n", 
            "cross-correlations between the $d$ channels of pixels $i$ and $j$.\n", 
            "\n", 
            "\n", 
            "The maximum likelihood estimation (MLE) of $\\Si$ from a single exemplar $f_0 \\in \\RR^{N \\times d}$\n", 
            "is\n", 
            "$$ \\Si_{i,j} = \\frac{1}{N} \\sum_k f(i+k) f(j+k)^* \\in \\RR^{d \\times d} $$\n", 
            "where $f(j+k)^*$ denotes the transposed-conjugated vector.\n", 
            "Note that each entry of the matrix field $ (\\Si_{i,j})_{i,j} $ is a\n", 
            "convolution mapping.\n", 
            "\n", 
            "\n", 
            "Since the model is assumed to be\n", 
            "stationary, this covariance operates in a block-diagonal way over the\n", 
            "Fourier transform, which means that for any vector-valued image $f \\in \\RR^{N \\times d} $\n", 
            "$$ y = \\Si f \\quad\\text{ is computed as }\\quad\n", 
            "  \\hat y(\\om) = \\hat \\Si(\\om) \\hat f(\\om) $$\n", 
            "where $\\hat f(\\om) \\in \\CC^d$ is the 2-D Fourier transform of each\n", 
            "channel, and $ \\hat \\Si(\\om) \\in \\RR^{d \\times d} $ encodes the\n", 
            "cross-correlation of the different channels at some frequency $\\om$.\n", 
            "\n", 
            "\n", 
            "In the special case where $\\Si$ is defined as the MLE from an input\n", 
            "exemplar $f_0$, each of these matrices is actually a rank-1 matrix\n", 
            "$$ \\hat \\Si(\\om) = \\hat f_0(\\om)\\hat f_0(\\om)^*. $$\n", 
            "\n", 
            "\n", 
            "This property is crucial, because it defines the covariance in a factored\n", 
            "form. Using the fact that $ \\hat f_0(\\om) \\in \\CC^d $ is the leading\n", 
            "eigenvector of $\\hat \\Si(\\om) $ and that there is only a single non zero eigenvalue, this\n", 
            "allows one to draw a realization $f \\in \\RR^{N \\times d}$ from a random\n", 
            "vector distributed according to\n", 
            "$\\Nn(\\mu,\\Si)$ as\n", 
            "$$ \\hat f(\\om) = \\hat w(\\om) \\hat f_0(\\om), $$\n", 
            "where $\\hat w(\\om) \\in \\CC$, $\\hat f_0(\\om) \\in \\CC^d$,\n", 
            "with $ w \\in \\RR^N $ being a realization of a Gaussian white noise\n", 
            "$\\Nn(N^{-1},N^{-1/2}\\text{Id}_N)$.\n", 
            "\n", 
            "\n", 
            "Equivalently, if one denotes $f_0 = (f_0^{[j]})_{j=0}^{d-1}$ the different channels\n", 
            "$ f_0^{[j]} \\in \\RR^N $, this corresponds to convolving each channel with the same white noise realization\n", 
            "$$ \\forall j=0,\\ldots,d-1, \\quad\n", 
            "      f^{[j]} = f_0^{[j]} \\star w. $$\n", 
            ""
          ]
        }, 
        {
          "cell_type": "heading", 
          "level": 3, 
          "metadata": {}, 
          "source": [
            "Exercise 3"
          ]
        }, 
        {
          "cell_type": "markdown", 
          "metadata": {}, 
          "source": [
            "\n", 
            "Perform the color texture synthesis.\n", 
            "\n", 
            "\n", 
            "\n", 
            "\n", 
            "\n", 
            ""
          ]
        }, 
        {
          "cell_type": "code", 
          "collapsed": false, 
          "input": [
            "## Insert your code here."
          ], 
          "language": "python", 
          "outputs": []
        }, 
        {
          "cell_type": "markdown", 
          "metadata": {}, 
          "source": [
            "\n", 
            "\n", 
            "\n", 
            "\n", 
            ""
          ]
        }, 
        {
          "cell_type": "heading", 
          "level": 3, 
          "metadata": {}, 
          "source": [
            "Exercise 4"
          ]
        }, 
        {
          "cell_type": "markdown", 
          "metadata": {}, 
          "source": [
            "\n", 
            "Compute several realizations of the color texture synthesis.\n", 
            "\n", 
            "\n", 
            "\n", 
            "\n", 
            "\n", 
            "\n", 
            "\n", 
            ""
          ]
        }, 
        {
          "cell_type": "code", 
          "collapsed": false, 
          "input": [
            "## Insert your code here."
          ], 
          "language": "python", 
          "outputs": []
        }, 
        {
          "cell_type": "markdown", 
          "metadata": {}, 
          "source": [
            "\n", 
            "\n", 
            "CMT"
          ]
        }, 
        {
          "cell_type": "code", 
          "collapsed": false, 
          "input": [
            "for i in 1:4:\n", 
            "    w = randn(n)/n;  w = w-mean(w(:))+1/n^2\n", 
            "    f = real(ifft2(fft2(f0).*repmat(fft2(w), [1 1 size(f0,3)])))\n", 
            "    mysvg(f, ['synthesized-' num2str(i)])\n", 
            ""
          ], 
          "language": "python", 
          "outputs": []
        }, 
        {
          "cell_type": "markdown", 
          "metadata": {}, 
          "source": [
            "CMT\n", 
            "\n", 
            ""
          ]
        }, 
        {
          "cell_type": "heading", 
          "level": 2, 
          "metadata": {}, 
          "source": [
            "Spot Noise Extension\n"
          ]
        }, 
        {
          "cell_type": "markdown", 
          "metadata": {}, 
          "source": [
            "To synthesize textures of larger size $n_0 \\times n_0$, we use the spot noise extension\n", 
            "proposed by Galerne et al.\n", 
            "\n", 
            "\n", 
            "Target synthesis size $n_0$.\n", 
            ""
          ]
        }, 
        {
          "cell_type": "code", 
          "collapsed": false, 
          "input": [
            "n0 = n*2"
          ], 
          "language": "python", 
          "outputs": []
        }, 
        {
          "cell_type": "markdown", 
          "metadata": {}, 
          "source": [
            "\n", 
            "\n", 
            "The extended spot $f_1 \\in \\RR^{n_0 \\times n_0 \\times d}$ is computed\n", 
            "as\n", 
            "$$ f_1(k)  = \\mu_0 + g(k) \\frac{n_0}{n} (f_0(k)-m) \\xi_{R_0}(k) $$\n", 
            "where $\\mu_0 \\in \\RR^3$ is the mean of the input texture\n", 
            "$$ \\mu_0 = \\frac{1}{N} \\sum_k f_0(k) $$\n", 
            "and where $\\xi_{R_0}$ is the indicator function of a region $R_0$ of\n", 
            "size $n \\times n$ pixels over which the input texture $f_0$ is\n", 
            "defined.\n", 
            "\n", 
            "\n", 
            "Note the multiplicative factor $n_0/n$ that ensures that $f_1$ has the\n", 
            "same variance as $f_0$.\n", 
            "\n", 
            "\n", 
            "The image\n", 
            "$$ g(k) = \\psi(k_1)\\psi(k_2), \\quad g \\in \\RR^{n \\times n} $$\n", 
            "makes use of a smooth windowing function $\\psi$,\n", 
            "that varies from 0 to 1 over a small interval of size $a>0$.\n", 
            "This helps to remove discontinuities artifacts.\n", 
            "\n", 
            "\n", 
            "Transition width.\n", 
            ""
          ]
        }, 
        {
          "cell_type": "code", 
          "collapsed": false, 
          "input": [
            "a = 10/n"
          ], 
          "language": "python", 
          "outputs": []
        }, 
        {
          "cell_type": "markdown", 
          "metadata": {}, 
          "source": [
            "\n", 
            "\n", 
            "Define the $\\psi$ mapping.\n", 
            ""
          ]
        }, 
        {
          "cell_type": "code", 
          "collapsed": false, 
          "input": [
            "phi = lambda t: sin(t/a*pi/2).^2\n", 
            "psi = lambda t: phi(t).*(t<a) + (t>=a & t<=1-a) + phi(1-t).*(t>1-a)"
          ], 
          "language": "python", 
          "outputs": []
        }, 
        {
          "cell_type": "markdown", 
          "metadata": {}, 
          "source": [
            "\n", 
            "\n", 
            "Define the $g$ windowing mask.\n", 
            ""
          ]
        }, 
        {
          "cell_type": "code", 
          "collapsed": false, 
          "input": [
            "t = linspace(0,1,n)'\n", 
            "g = repmat( psi(t)*psi(t)', [1 1 size(f0,3)])"
          ], 
          "language": "python", 
          "outputs": []
        }, 
        {
          "cell_type": "markdown", 
          "metadata": {}, 
          "source": [
            "\n", 
            "\n", 
            "Create the extended spot $f_1$.\n", 
            ""
          ]
        }, 
        {
          "cell_type": "code", 
          "collapsed": false, 
          "input": [
            "mu0 = repmat(mean(mean(f0,1),2), [n n 1])\n", 
            "f1 = repmat(mean(mean(f0,1),2), [n0 n0 1])\n", 
            "f1(end/2-n/2+1:end/2+n/2, end/2-n/2+1:end/2+n/2, :) = mu0 + n0/n * g .* (f0-mu0)"
          ], 
          "language": "python", 
          "outputs": []
        }, 
        {
          "cell_type": "markdown", 
          "metadata": {}, 
          "source": [
            "\n", 
            "\n", 
            "Display it.\n", 
            ""
          ]
        }, 
        {
          "cell_type": "code", 
          "collapsed": false, 
          "input": [
            "\n", 
            "u = f1; u(1,1,:)=0; u(2,1,:)=1\n", 
            "imageplot(clamp(u))"
          ], 
          "language": "python", 
          "outputs": []
        }, 
        {
          "cell_type": "heading", 
          "level": 3, 
          "metadata": {}, 
          "source": [
            "Exercise 5"
          ]
        }, 
        {
          "cell_type": "markdown", 
          "metadata": {}, 
          "source": [
            "\n", 
            "Perform the color texture synthesis using this extended spot noise.\n", 
            "\n", 
            "\n", 
            "\n", 
            "\n", 
            "\n", 
            "\n", 
            "\n", 
            "\n", 
            ""
          ]
        }, 
        {
          "cell_type": "code", 
          "collapsed": false, 
          "input": [
            "## Insert your code here."
          ], 
          "language": "python", 
          "outputs": []
        }, 
        {
          "cell_type": "markdown", 
          "metadata": {}, 
          "source": [
            "\n", 
            "\n", 
            "CMT"
          ]
        }, 
        {
          "cell_type": "code", 
          "collapsed": false, 
          "input": [
            "mysvg(f1, 'extended')\n", 
            "for i in 1:4:\n", 
            "    w = randn(n0)/n0;  w = w-mean(w(:))+1/n0^2\n", 
            "    f = real(ifft2(fft2(f1).*repmat(fft2(w), [1 1 size(f0,3)])))\n", 
            "    mysvg(f, ['synthesized-ext-' num2str(i)])\n", 
            ""
          ], 
          "language": "python", 
          "outputs": []
        }
      ]
    }
  ]
}