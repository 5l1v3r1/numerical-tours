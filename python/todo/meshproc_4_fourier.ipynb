{
  "metadata": {
    "name": ""
  }, 
  "nbformat": 3, 
  "nbformat_minor": 0, 
  "worksheets": [
    {
      "cells": [
        {
          "cell_type": "heading", 
          "level": 1, 
          "metadata": {}, 
          "source": [
            "Fourier on Meshes"
          ]
        }, 
        {
          "cell_type": "markdown", 
          "metadata": {}, 
          "source": [
            "This tour explores the use of the eigenvectors of the Laplacian, for\n", 
            "filtering and for compression.\n", 
            ""
          ]
        }, 
        {
          "cell_type": "markdown", 
          "metadata": {}, 
          "source": [
            "*Important:* You need to download the file `nt_toolbox.py` from the \n", 
            "root of the github repository.\n", 
            "$\\newcommand{\\dotp}[2]{\\langle #1, #2 \\rangle}\n", 
            "\\newcommand{\\enscond}[2]{\\lbrace #1, #2 \\rbrace}\n", 
            "\\newcommand{\\pd}[2]{ \\frac{ \\partial #1}{\\partial #2} }\n", 
            "\\newcommand{\\umin}[1]{\\underset{#1}{\\min}\\;}\n", 
            "\\newcommand{\\norm}[1]{\\|#1\\|}\n", 
            "\\newcommand{\\abs}[1]{\\left|#1\\right|}\n", 
            "\\newcommand{\\choice}[1]{ \\left\\{  \\begin{array}{l} #1 \\end{array} \\right. }\n", 
            "\\newcommand{\\pa}[1]{\\left(#1\\right)}\n", 
            "\\newcommand{\\qandq}{\\quad\\text{and}\\quad}\n", 
            "\\newcommand{\\qwhereq}{\\quad\\text{where}\\quad}\n", 
            "\\newcommand{\\qifq}{ \\quad \\text{if} \\quad }\n", 
            "\\newcommand{\\qarrq}{ \\quad \\Longrightarrow \\quad }\n", 
            "\\newcommand{\\ZZ}{\\mathbb{Z}}\n", 
            "\\newcommand{\\RR}{\\mathbb{R}}\n", 
            "\\newcommand{\\Nn}{\\mathcal{N}}\n", 
            "\\newcommand{\\Hh}{\\mathcal{H}}\n", 
            "\\newcommand{\\Bb}{\\mathcal{B}}\n", 
            "\\newcommand{\\EE}{\\mathbb{E}}\n", 
            "\\newcommand{\\CC}{\\mathbb{C}}\n", 
            "\\newcommand{\\si}{\\sigma}\n", 
            "\\newcommand{\\al}{\\alpha}\n", 
            "\\newcommand{\\la}{\\lambda}\n", 
            "\\newcommand{\\ga}{\\gamma}\n", 
            "\\newcommand{\\Ga}{\\Gamma}\n", 
            "\\newcommand{\\La}{\\Lambda}\n", 
            "\\newcommand{\\si}{\\sigma}\n", 
            "\\newcommand{\\Si}{\\Sigma}\n", 
            "\\newcommand{\\be}{\\beta}\n", 
            "\\newcommand{\\de}{\\delta}\n", 
            "\\newcommand{\\De}{\\Delta}\n", 
            "\\renewcommand{\\phi}{\\varphi}\n", 
            "\\renewcommand{\\th}{\\theta}\n", 
            "\\newcommand{\\om}{\\omega}\n", 
            "\\newcommand{\\Om}{\\Omega}\n", 
            "$"
          ]
        }, 
        {
          "cell_type": "code", 
          "collapsed": false, 
          "input": [
            "from nt_toolbox import *", 
            "%matplotlib inline", 
            "%load_ext autoreload", 
            "%autoreload 2"
          ], 
          "language": "python", 
          "outputs": []
        }, 
        {
          "cell_type": "markdown", 
          "metadata": {}, 
          "source": [
            "\n", 
            ""
          ]
        }, 
        {
          "cell_type": "heading", 
          "level": 2, 
          "metadata": {}, 
          "source": [
            "Fourier Basis on Meshes\n"
          ]
        }, 
        {
          "cell_type": "markdown", 
          "metadata": {}, 
          "source": [
            "The Fourier basis are defined as the eigenvector of the Laplacian.\n", 
            "\n", 
            "\n", 
            "First load a mesh.\n", 
            ""
          ]
        }, 
        {
          "cell_type": "code", 
          "collapsed": false, 
          "input": [
            "name = 'elephant-50kv'\n", 
            "[vertex,faces] = read_mesh(name)\n", 
            "options.name = name\n", 
            "n = size(vertex,2)"
          ], 
          "language": "python", 
          "outputs": []
        }, 
        {
          "cell_type": "markdown", 
          "metadata": {}, 
          "source": [
            "\n", 
            "\n", 
            "\n", 
            "The combinatorial laplacian is a linear operator\n", 
            "(thus a NxN matrix where N is the number of vertices).\n", 
            "It depends only on the connectivity of the mesh, thus on face only.\n", 
            "\n", 
            "\n", 
            "Compute edge list.\n", 
            ""
          ]
        }, 
        {
          "cell_type": "code", 
          "collapsed": false, 
          "input": [
            "E = [faces([1 2],:) faces([2 3],:) faces([3 1],:)]\n", 
            "p = size(E,2)"
          ], 
          "language": "python", 
          "outputs": []
        }, 
        {
          "cell_type": "markdown", 
          "metadata": {}, 
          "source": [
            "\n", 
            "\n", 
            "Compute the adjacency matrix.\n", 
            ""
          ]
        }, 
        {
          "cell_type": "code", 
          "collapsed": false, 
          "input": [
            "W = sparse( E(1,:), E(2,:), ones(p,1) )\n", 
            "W = max(W,W')"
          ], 
          "language": "python", 
          "outputs": []
        }, 
        {
          "cell_type": "markdown", 
          "metadata": {}, 
          "source": [
            "\n", 
            "\n", 
            "Compute the combinatorial Laplacian, stored as a sparse matrix.\n", 
            ""
          ]
        }, 
        {
          "cell_type": "code", 
          "collapsed": false, 
          "input": [
            "D = spdiags(sum(W)', 0, n,n)\n", 
            "L = D-W"
          ], 
          "language": "python", 
          "outputs": []
        }, 
        {
          "cell_type": "markdown", 
          "metadata": {}, 
          "source": [
            "\n", 
            "\n", 
            "The eigenvector of this matrix forms an orthogonal basis of the\n", 
            "vector space of signal of NxN values (one real value per vertex).\n", 
            "Those functions are the extension of the Fourier oscillating functions to surfaces.\n", 
            "For a small mesh (less than 1000) vertices, one can compute this set of vectors using\n", 
            "the |eig| functions. For large meshes, one can compute only a small (e.g. 50) number of\n", 
            "low pass eigenvectors using the sparse eigenvector extraction procedure,\n", 
            "|eigs|.\n", 
            "\n", 
            "\n", 
            "Compute the eigenvectors.\n", 
            ""
          ]
        }, 
        {
          "cell_type": "code", 
          "collapsed": false, 
          "input": [
            "nb = 80\n", 
            "opts.disp = 0\n", 
            "[U,S] = eigs(L,nb,'SM',opts)\n", 
            "S = diag(S)"
          ], 
          "language": "python", 
          "outputs": []
        }, 
        {
          "cell_type": "markdown", 
          "metadata": {}, 
          "source": [
            "\n", 
            "\n", 
            "Order the eigenvector by increasing frequencies.\n", 
            ""
          ]
        }, 
        {
          "cell_type": "code", 
          "collapsed": false, 
          "input": [
            "[S,I] = sort(S, 'ascend')\n", 
            "U = real( U(:,I) )"
          ], 
          "language": "python", 
          "outputs": []
        }, 
        {
          "cell_type": "markdown", 
          "metadata": {}, 
          "source": [
            "\n", 
            "\n", 
            "Plot the eigenvalues.\n", 
            "This corresponds to the spectrum of the triangulation. It depends only on\n", 
            "the topology of the mesh.\n", 
            ""
          ]
        }, 
        {
          "cell_type": "code", 
          "collapsed": false, 
          "input": [
            "\n", 
            "plot(S); axis('tight')"
          ], 
          "language": "python", 
          "outputs": []
        }, 
        {
          "cell_type": "markdown", 
          "metadata": {}, 
          "source": [
            "\n", 
            "\n", 
            "\n", 
            "Display a sub-set of eigenvectors.\n", 
            ""
          ]
        }, 
        {
          "cell_type": "code", 
          "collapsed": false, 
          "input": [
            "ilist = round(linspace(3,nb, 6))\n", 
            "tau=2.2; % saturation for display\n", 
            "\n", 
            "for i in 1:length(ilist):\n", 
            "    v = real(U(:,ilist(i)))\n", 
            "    v = clamp( v/std(v),-tau,tau )\n", 
            "    options.face_vertex_color = v\n", 
            "    subplot(2,3,i)\n", 
            "    plot_mesh(vertex,faces,options)\n", 
            "    shading interp; camlight; axis tight\n", 
            "    colormap jet(256)\n", 
            ""
          ], 
          "language": "python", 
          "outputs": []
        }, 
        {
          "cell_type": "heading", 
          "level": 2, 
          "metadata": {}, 
          "source": [
            "Linear Approximation over the Fourier Domain\n"
          ]
        }, 
        {
          "cell_type": "markdown", 
          "metadata": {}, 
          "source": [
            "Linear approximation is obtained by keeping only the low frequency\n", 
            "coefficient. This corresponds to a low pass filtering, since high\n", 
            "frequency coefficients are removed.\n", 
            "\n", 
            "\n", 
            "Compute the projection of each coordinate |vertex(i,:)| on the small\n", 
            "set of |nb| frequencies.\n", 
            ""
          ]
        }, 
        {
          "cell_type": "code", 
          "collapsed": false, 
          "input": [
            "pvertex = vertex*U"
          ], 
          "language": "python", 
          "outputs": []
        }, 
        {
          "cell_type": "markdown", 
          "metadata": {}, 
          "source": [
            "\n", 
            "\n", 
            "Display the spectrum pf.\n", 
            ""
          ]
        }, 
        {
          "cell_type": "code", 
          "collapsed": false, 
          "input": [
            "\n", 
            "plot(pvertex'); axis('tight')\n", 
            "legend('X', 'Y', 'Z')"
          ], 
          "language": "python", 
          "outputs": []
        }, 
        {
          "cell_type": "markdown", 
          "metadata": {}, 
          "source": [
            "\n", 
            "\n", 
            "Reconstruct the mesh.\n", 
            ""
          ]
        }, 
        {
          "cell_type": "code", 
          "collapsed": false, 
          "input": [
            "vertex1 = pvertex*U'"
          ], 
          "language": "python", 
          "outputs": []
        }, 
        {
          "cell_type": "markdown", 
          "metadata": {}, 
          "source": [
            "\n", 
            "\n", 
            "Compare before and after approximation.\n", 
            ""
          ]
        }, 
        {
          "cell_type": "code", 
          "collapsed": false, 
          "input": [
            "\n", 
            "subplot(1,2,1)\n", 
            "plot_mesh(vertex,faces)\n", 
            "subplot(1,2,2)\n", 
            "plot_mesh(vertex1,faces)"
          ], 
          "language": "python", 
          "outputs": []
        }, 
        {
          "cell_type": "heading", 
          "level": 3, 
          "metadata": {}, 
          "source": [
            "Exercise 1"
          ]
        }, 
        {
          "cell_type": "markdown", 
          "metadata": {}, 
          "source": [
            "\n", 
            "Show the smoothed mesh for an increasing number of Fourier frequencies |nb|.\n", 
            "\n", 
            "\n", 
            "\n", 
            "\n", 
            "\n", 
            "\n", 
            ""
          ]
        }, 
        {
          "cell_type": "code", 
          "collapsed": false, 
          "input": [
            "## Insert your code here."
          ], 
          "language": "python", 
          "outputs": []
        }, 
        {
          "cell_type": "markdown", 
          "metadata": {}, 
          "source": [
            "\n", 
            "\n", 
            ""
          ]
        }, 
        {
          "cell_type": "heading", 
          "level": 2, 
          "metadata": {}, 
          "source": [
            "Non-linear Approximation over the Fourier Domain\n"
          ]
        }, 
        {
          "cell_type": "markdown", 
          "metadata": {}, 
          "source": [
            "Non-linear approximation is obtained by keeping the largest magnitude coefficients.\n", 
            "It is more efficient than linear approximation since the L2 error\n", 
            "is reduced.\n", 
            "\n", 
            "\n", 
            "We study here the approximation on a small mesh, to be able to compute\n", 
            "all the wavelet coefficients.\n", 
            ""
          ]
        }, 
        {
          "cell_type": "code", 
          "collapsed": false, 
          "input": [
            "name = 'venus'\n", 
            "[vertex,faces] = read_mesh(name)\n", 
            "options.name = name\n", 
            "n = size(vertex,2)"
          ], 
          "language": "python", 
          "outputs": []
        }, 
        {
          "cell_type": "markdown", 
          "metadata": {}, 
          "source": [
            "\n", 
            "\n", 
            "Compute the combinatorial laplacian operator |L| of the mesh.\n", 
            ""
          ]
        }, 
        {
          "cell_type": "code", 
          "collapsed": false, 
          "input": [
            "E = [faces([1 2],:) faces([2 3],:) faces([3 1],:)]\n", 
            "W = sparse( E(1,:), E(2,:), ones(size(E,2),1) )\n", 
            "W = max(W,W')\n", 
            "L = spdiags(sum(W)', 0, n,n) - W"
          ], 
          "language": "python", 
          "outputs": []
        }, 
        {
          "cell_type": "markdown", 
          "metadata": {}, 
          "source": [
            "\n", 
            "\n", 
            "Compute the full set of eigenvector.\n", 
            ""
          ]
        }, 
        {
          "cell_type": "code", 
          "collapsed": false, 
          "input": [
            "[U,S] = eig(full(L))\n", 
            "S = diag(S)\n", 
            "[S,I] = sort(S, 'ascend')\n", 
            "U = real( U(:,I) )"
          ], 
          "language": "python", 
          "outputs": []
        }, 
        {
          "cell_type": "markdown", 
          "metadata": {}, 
          "source": [
            "\n", 
            "\n", 
            "Plot the eigenvalues.\n", 
            ""
          ]
        }, 
        {
          "cell_type": "code", 
          "collapsed": false, 
          "input": [
            "\n", 
            "plot(S); axis('tight')"
          ], 
          "language": "python", 
          "outputs": []
        }, 
        {
          "cell_type": "heading", 
          "level": 3, 
          "metadata": {}, 
          "source": [
            "Exercise 2"
          ]
        }, 
        {
          "cell_type": "markdown", 
          "metadata": {}, 
          "source": [
            "\n", 
            "Compute a best |m|-term non-linear approximation whith |m=.1*n|, by\n", 
            "hard thresholding the Fourier coefficients using the correct threshold.\n", 
            "Compare with linear |m| term approximation (use |m/3| coefficient for each\n", 
            "coordinate X/Y/Z).\n", 
            "\n", 
            "\n", 
            "non linear\n", 
            "\n", 
            "\n", 
            "linear\n", 
            "\n", 
            "\n", 
            "\n", 
            "display\n", 
            "\n", 
            "\n", 
            "\n", 
            "\n", 
            "\n", 
            "\n", 
            ""
          ]
        }, 
        {
          "cell_type": "code", 
          "collapsed": false, 
          "input": [
            "## Insert your code here."
          ], 
          "language": "python", 
          "outputs": []
        }, 
        {
          "cell_type": "markdown", 
          "metadata": {}, 
          "source": [
            "\n", 
            ""
          ]
        }, 
        {
          "cell_type": "heading", 
          "level": 3, 
          "metadata": {}, 
          "source": [
            "Exercise 3"
          ]
        }, 
        {
          "cell_type": "markdown", 
          "metadata": {}, 
          "source": [
            "\n", 
            "Compare the rate-distortion curve (log of error as a function of the\n", 
            "log of the number of coefficients) for linear and non-linear approximation.\n", 
            "nonlinear\n", 
            "\n", 
            "\n", 
            "linear\n", 
            "\n", 
            "\n", 
            "normalize\n", 
            "\n", 
            "\n", 
            "display\n", 
            "\n", 
            "\n", 
            "\n", 
            ""
          ]
        }, 
        {
          "cell_type": "code", 
          "collapsed": false, 
          "input": [
            "## Insert your code here."
          ], 
          "language": "python", 
          "outputs": []
        }, 
        {
          "cell_type": "markdown", 
          "metadata": {}, 
          "source": [
            "\n", 
            ""
          ]
        }, 
        {
          "cell_type": "heading", 
          "level": 2, 
          "metadata": {}, 
          "source": [
            "Spectral Mesh Compression\n"
          ]
        }, 
        {
          "cell_type": "markdown", 
          "metadata": {}, 
          "source": [
            "Compression is obtained by quantizing the coefficients and entropic\n", 
            "coding the resulting integer quantized coefficients.\n", 
            "\n", 
            "\n", 
            "Set the quantization level. The larger, the more aggressive the coding.\n", 
            ""
          ]
        }, 
        {
          "cell_type": "code", 
          "collapsed": false, 
          "input": [
            "T = .05"
          ], 
          "language": "python", 
          "outputs": []
        }, 
        {
          "cell_type": "markdown", 
          "metadata": {}, 
          "source": [
            "\n", 
            "\n", 
            "Compute the interger, quantized coefficients.\n", 
            ""
          ]
        }, 
        {
          "cell_type": "code", 
          "collapsed": false, 
          "input": [
            "pvertexI = floor(abs(pvertex/T)).*sign(pvertex)"
          ], 
          "language": "python", 
          "outputs": []
        }, 
        {
          "cell_type": "markdown", 
          "metadata": {}, 
          "source": [
            "\n", 
            "\n", 
            "For decompression, we compute de-quantized values from |pvertexI|,\n", 
            "which are chosen as the mid-point of each quantization bin.\n", 
            ""
          ]
        }, 
        {
          "cell_type": "code", 
          "collapsed": false, 
          "input": [
            "pvertexQ = sign(pvertexI) .* (abs(pvertexI)+.5) * T"
          ], 
          "language": "python", 
          "outputs": []
        }, 
        {
          "cell_type": "markdown", 
          "metadata": {}, 
          "source": [
            "\n", 
            "\n", 
            "Reconstruct the mesh from the de-compressed coefficients.\n", 
            ""
          ]
        }, 
        {
          "cell_type": "code", 
          "collapsed": false, 
          "input": [
            "vertex1 = pvertexQ*U'"
          ], 
          "language": "python", 
          "outputs": []
        }, 
        {
          "cell_type": "markdown", 
          "metadata": {}, 
          "source": [
            "\n", 
            "\n", 
            "Display the result of decompression.\n", 
            ""
          ]
        }, 
        {
          "cell_type": "code", 
          "collapsed": false, 
          "input": [
            "\n", 
            "subplot(1,2,1)\n", 
            "plot_mesh(vertex,faces)\n", 
            "subplot(1,2,2)\n", 
            "plot_mesh(vertex1,faces)"
          ], 
          "language": "python", 
          "outputs": []
        }, 
        {
          "cell_type": "markdown", 
          "metadata": {}, 
          "source": [
            "\n", 
            "\n", 
            "To evaluate the number of bit needed to store |pvertexI| in a file,\n", 
            "we do not use a real entropic coder (such as Huffman tree of an\n", 
            "arithmetic coder), but rather use the lower bound of the entropy.\n", 
            "\n", 
            "\n", 
            "Compute the histogram of the coefficients.\n", 
            ""
          ]
        }, 
        {
          "cell_type": "code", 
          "collapsed": false, 
          "input": [
            "t = min(pvertexI(:)):max(pvertexI(:))\n", 
            "h = hist( pvertexI(:), t )\n", 
            "h = max(h,1e-10); h = h/sum(h)"
          ], 
          "language": "python", 
          "outputs": []
        }, 
        {
          "cell_type": "markdown", 
          "metadata": {}, 
          "source": [
            "\n", 
            "\n", 
            "Display the histograms. Most of the coefficients have been quantized to\n", 
            "0.\n", 
            ""
          ]
        }, 
        {
          "cell_type": "code", 
          "collapsed": false, 
          "input": [
            "close; clf\n", 
            "bar(t, h)\n", 
            "axis([-5 5 0 max(h)])"
          ], 
          "language": "python", 
          "outputs": []
        }, 
        {
          "cell_type": "markdown", 
          "metadata": {}, 
          "source": [
            "\n", 
            "\n", 
            "Compute the entropy.\n", 
            ""
          ]
        }, 
        {
          "cell_type": "code", 
          "collapsed": false, 
          "input": [
            "E = -sum( log2(h).*h )"
          ], 
          "language": "python", 
          "outputs": []
        }, 
        {
          "cell_type": "markdown", 
          "metadata": {}, 
          "source": [
            "\n", 
            "\n", 
            "The number of bit per vecter is |3*E| since one needs |E| bit in average\n", 
            "to code an entry of |pvertexI|.\n", 
            ""
          ]
        }, 
        {
          "cell_type": "code", 
          "collapsed": false, 
          "input": [
            "disp(['Nbr.bits per vertex = ' num2str(3*E,3)])\n", 
            "disp(['Error,          SNR = ' num2str(snr(vertex,vertex1),3) 'dB'])"
          ], 
          "language": "python", 
          "outputs": []
        }, 
        {
          "cell_type": "markdown", 
          "metadata": {}, 
          "source": [
            "\n", 
            ""
          ]
        }, 
        {
          "cell_type": "heading", 
          "level": 3, 
          "metadata": {}, 
          "source": [
            "Exercise 4"
          ]
        }, 
        {
          "cell_type": "markdown", 
          "metadata": {}, 
          "source": [
            "\n", 
            "Perform the compression for several quantization steps |T|\n", 
            "and display the rate distortion curve showing the SNR\n", 
            "as a function of the number of bits.\n", 
            "\n", 
            "\n", 
            "\n", 
            "\n", 
            "\n", 
            "\n", 
            "\n", 
            "\n", 
            "\n", 
            "\n", 
            "\n", 
            "\n", 
            "\n", 
            "\n", 
            "\n", 
            "\n", 
            "\n", 
            "\n", 
            "plot\n", 
            "\n", 
            "\n", 
            ""
          ]
        }, 
        {
          "cell_type": "code", 
          "collapsed": false, 
          "input": [
            "## Insert your code here."
          ], 
          "language": "python", 
          "outputs": []
        }
      ]
    }
  ]
}