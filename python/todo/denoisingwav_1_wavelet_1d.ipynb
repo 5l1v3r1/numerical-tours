{
  "metadata": {
    "name": ""
  }, 
  "nbformat": 3, 
  "nbformat_minor": 0, 
  "worksheets": [
    {
      "cells": [
        {
          "cell_type": "heading", 
          "level": 1, 
          "metadata": {}, 
          "source": [
            "Signal Denoising with Wavelets"
          ]
        }, 
        {
          "cell_type": "markdown", 
          "metadata": {}, 
          "source": [
            "This tour uses wavelets to perform signal denoising using\n", 
            "thresholding estimators. Wavelet thresholding properites were\n", 
            "investigated in a series of papers by Donoho and\n", 
            "Johnstone, see for instance <#biblio [DonJohn94]> <#bibli [DoJoKePi95]>.\n", 
            ""
          ]
        }, 
        {
          "cell_type": "markdown", 
          "metadata": {}, 
          "source": [
            "*Important:* You need to download the file `nt_toolbox.py` from the \n", 
            "root of the github repository.\n", 
            "$\\newcommand{\\dotp}[2]{\\langle #1, #2 \\rangle}\n", 
            "\\newcommand{\\enscond}[2]{\\lbrace #1, #2 \\rbrace}\n", 
            "\\newcommand{\\pd}[2]{ \\frac{ \\partial #1}{\\partial #2} }\n", 
            "\\newcommand{\\umin}[1]{\\underset{#1}{\\min}\\;}\n", 
            "\\newcommand{\\norm}[1]{\\|#1\\|}\n", 
            "\\newcommand{\\abs}[1]{\\left|#1\\right|}\n", 
            "\\newcommand{\\choice}[1]{ \\left\\{  \\begin{array}{l} #1 \\end{array} \\right. }\n", 
            "\\newcommand{\\pa}[1]{\\left(#1\\right)}\n", 
            "\\newcommand{\\qandq}{\\quad\\text{and}\\quad}\n", 
            "\\newcommand{\\qwhereq}{\\quad\\text{where}\\quad}\n", 
            "\\newcommand{\\qifq}{ \\quad \\text{if} \\quad }\n", 
            "\\newcommand{\\qarrq}{ \\quad \\Longrightarrow \\quad }\n", 
            "\\newcommand{\\ZZ}{\\mathbb{Z}}\n", 
            "\\newcommand{\\RR}{\\mathbb{R}}\n", 
            "\\newcommand{\\Nn}{\\mathcal{N}}\n", 
            "\\newcommand{\\Hh}{\\mathcal{H}}\n", 
            "\\newcommand{\\Bb}{\\mathcal{B}}\n", 
            "\\newcommand{\\EE}{\\mathbb{E}}\n", 
            "\\newcommand{\\CC}{\\mathbb{C}}\n", 
            "\\newcommand{\\si}{\\sigma}\n", 
            "\\newcommand{\\al}{\\alpha}\n", 
            "\\newcommand{\\la}{\\lambda}\n", 
            "\\newcommand{\\ga}{\\gamma}\n", 
            "\\newcommand{\\Ga}{\\Gamma}\n", 
            "\\newcommand{\\La}{\\Lambda}\n", 
            "\\newcommand{\\si}{\\sigma}\n", 
            "\\newcommand{\\Si}{\\Sigma}\n", 
            "\\newcommand{\\be}{\\beta}\n", 
            "\\newcommand{\\de}{\\delta}\n", 
            "\\newcommand{\\De}{\\Delta}\n", 
            "\\renewcommand{\\phi}{\\varphi}\n", 
            "\\renewcommand{\\th}{\\theta}\n", 
            "\\newcommand{\\om}{\\omega}\n", 
            "\\newcommand{\\Om}{\\Omega}\n", 
            "$"
          ]
        }, 
        {
          "cell_type": "code", 
          "collapsed": false, 
          "input": [
            "from nt_toolbox import *", 
            "%matplotlib inline", 
            "%load_ext autoreload", 
            "%autoreload 2"
          ], 
          "language": "python", 
          "outputs": []
        }, 
        {
          "cell_type": "markdown", 
          "metadata": {}, 
          "source": [
            "\n", 
            ""
          ]
        }, 
        {
          "cell_type": "heading", 
          "level": 2, 
          "metadata": {}, 
          "source": [
            "Loading a Signal and Making Noise\n"
          ]
        }, 
        {
          "cell_type": "markdown", 
          "metadata": {}, 
          "source": [
            "Here we consider a simple additive Gaussian white noise.\n", 
            "\n", 
            "\n", 
            "Size $N$ of the signal.\n", 
            ""
          ]
        }, 
        {
          "cell_type": "code", 
          "collapsed": false, 
          "input": [
            "N = 2048*2"
          ], 
          "language": "python", 
          "outputs": []
        }, 
        {
          "cell_type": "markdown", 
          "metadata": {}, 
          "source": [
            "\n", 
            "\n", 
            "First we load the 1-D signal.\n", 
            ""
          ]
        }, 
        {
          "cell_type": "code", 
          "collapsed": false, 
          "input": [
            "name = 'piece-regular'\n", 
            "f0 = load_signal(name, N)\n", 
            "f0 = rescale(f0,.05,.95)"
          ], 
          "language": "python", 
          "outputs": []
        }, 
        {
          "cell_type": "markdown", 
          "metadata": {}, 
          "source": [
            "\n", 
            "\n", 
            "Variance $\\si^2$ of the noise.\n", 
            ""
          ]
        }, 
        {
          "cell_type": "code", 
          "collapsed": false, 
          "input": [
            "sigma = 0.05"
          ], 
          "language": "python", 
          "outputs": []
        }, 
        {
          "cell_type": "markdown", 
          "metadata": {}, 
          "source": [
            "\n", 
            "\n", 
            "Generate a noisy signal $f = f_0 + w$ where $w \\sim \\Nn(0,\\si^2 \\text{Id})$.\n", 
            ""
          ]
        }, 
        {
          "cell_type": "code", 
          "collapsed": false, 
          "input": [
            "f = f0 + randn(size(f0))*sigma"
          ], 
          "language": "python", 
          "outputs": []
        }, 
        {
          "cell_type": "markdown", 
          "metadata": {}, 
          "source": [
            "\n", 
            "\n", 
            "Display.\n", 
            ""
          ]
        }, 
        {
          "cell_type": "code", 
          "collapsed": false, 
          "input": [
            "\n", 
            "subplot(2,1,1)\n", 
            "plot(f0); axis([1 N 0 1])\n", 
            "title('Clean signal')\n", 
            "subplot(2,1,2)\n", 
            "plot(f); axis([1 N 0 1])\n", 
            "title('Noisy signal')"
          ], 
          "language": "python", 
          "outputs": []
        }, 
        {
          "cell_type": "heading", 
          "level": 2, 
          "metadata": {}, 
          "source": [
            "Hard Thresholding vs. Soft Thresholding\n"
          ]
        }, 
        {
          "cell_type": "markdown", 
          "metadata": {}, 
          "source": [
            "A thresholding $\\Theta : \\RR^N \\rightarrow \\RR^N$\n", 
            "is a non-linear function that operates diagonaly, i.e.\n", 
            "$$ \\forall i, \\quad \\Theta(x)_i = \\th(x_i) $$\n", 
            "where $\\th : \\RR \\rightarrow \\RR$ is the 1-D thresholding function.\n", 
            "\n", 
            "\n", 
            "The most important thresholding are the hard thresholding\n", 
            "(related to $\\ell^0$ minimization) and the soft thresholding (related\n", 
            "to $\\ell^1$ minimization).\n", 
            "\n", 
            "\n", 
            "The hard thresholding reads\n", 
            "$$ \\Theta^0_T(x)_i  = \\choice{\n", 
            "      x_i \\qifq \\abs{x_i}>T, \\\\\n", 
            "      0 \\quad \\text{otherwise}.\n", 
            " }\n", 
            "$$\n", 
            ""
          ]
        }, 
        {
          "cell_type": "code", 
          "collapsed": false, 
          "input": [
            "Theta0 = lambda x,T: x .* (abs(x)>T)"
          ], 
          "language": "python", 
          "outputs": []
        }, 
        {
          "cell_type": "markdown", 
          "metadata": {}, 
          "source": [
            "\n", 
            "\n", 
            "\n", 
            "The soft thresholding reads\n", 
            "$$ \\Theta^1_T(x)_i  = \\max\\pa{ 0, 1-\\frac{T}{\\abs{x}} } x\n", 
            "$$\n", 
            ""
          ]
        }, 
        {
          "cell_type": "code", 
          "collapsed": false, 
          "input": [
            "Theta1 = lambda x,T: max(0, 1-T./max(abs(x),1e-9)) .* x"
          ], 
          "language": "python", 
          "outputs": []
        }, 
        {
          "cell_type": "markdown", 
          "metadata": {}, 
          "source": [
            "\n", 
            "\n", 
            "Display the thresholding.\n", 
            ""
          ]
        }, 
        {
          "cell_type": "code", 
          "collapsed": false, 
          "input": [
            "t = linspace(-3,3,1024)'; T = 1\n", 
            "\n", 
            "plot( t, [Theta0(t,T), Theta1(t,T)], 'LineWidth', 2 )\n", 
            "axis('equal'); axis('tight')\n", 
            "legend('\\Theta^0', '\\Theta^1')"
          ], 
          "language": "python", 
          "outputs": []
        }, 
        {
          "cell_type": "heading", 
          "level": 2, 
          "metadata": {}, 
          "source": [
            "Wavelet Thresholding\n"
          ]
        }, 
        {
          "cell_type": "markdown", 
          "metadata": {}, 
          "source": [
            "It is possible to perform non linear denoising by thresholding the\n", 
            "wavelet coefficients of $f$.\n", 
            "\n", 
            "\n", 
            "Shortcut for the foward orthogonal wavelet transform $W$ and the inverse\n", 
            "wavelet transform $W^{-1}=W^*$.\n", 
            ""
          ]
        }, 
        {
          "cell_type": "code", 
          "collapsed": false, 
          "input": [
            "options.ti = 0; Jmin = 4\n", 
            "W  = lambda f:  perform_wavelet_transf(f,Jmin,+1,options)\n", 
            "Wi = lambda fw: perform_wavelet_transf(fw,Jmin,-1,options)"
          ], 
          "language": "python", 
          "outputs": []
        }, 
        {
          "cell_type": "markdown", 
          "metadata": {}, 
          "source": [
            "\n", 
            "\n", 
            "Compute the wavelet coefficients $x=W(f)$.\n", 
            ""
          ]
        }, 
        {
          "cell_type": "code", 
          "collapsed": false, 
          "input": [
            "x = W(f)"
          ], 
          "language": "python", 
          "outputs": []
        }, 
        {
          "cell_type": "markdown", 
          "metadata": {}, 
          "source": [
            "\n", 
            "\n", 
            "\n", 
            "Threshold the wavelet coefficients $\\tilde x=\\Theta_0(x)$.\n", 
            "Here we use $T=3\\si$.\n", 
            ""
          ]
        }, 
        {
          "cell_type": "code", 
          "collapsed": false, 
          "input": [
            "x1 = Theta0(x, 3*sigma)"
          ], 
          "language": "python", 
          "outputs": []
        }, 
        {
          "cell_type": "markdown", 
          "metadata": {}, 
          "source": [
            "\n", 
            "\n", 
            "Display the wavelet coefficients $W(f)$ and the hard thresholded\n", 
            "coefficients $\\Theta_0(W(f))$. Note how the wavelet\n", 
            "coefficients are contaminated by a small amplitude Gaussian white noise, most of which are removew by thresholding.\n", 
            ""
          ]
        }, 
        {
          "cell_type": "code", 
          "collapsed": false, 
          "input": [
            "\n", 
            "subplot(2,1,1)\n", 
            "plot_wavelet(x,Jmin); axis([1 N -1 1])\n", 
            "title('W(f)')\n", 
            "subplot(2,1,2)\n", 
            "plot_wavelet(Theta0(W(f),T),Jmin); axis([1 N -1 1])\n", 
            "title('\\Theta_0(W(f))')"
          ], 
          "language": "python", 
          "outputs": []
        }, 
        {
          "cell_type": "markdown", 
          "metadata": {}, 
          "source": [
            "\n", 
            "\n", 
            "\n", 
            "Reconstruct from the thresholded coefficients the final estimator $\\tilde f = W^*(\\tilde x)$.\n", 
            ""
          ]
        }, 
        {
          "cell_type": "code", 
          "collapsed": false, 
          "input": [
            "f1 = Wi(x1)"
          ], 
          "language": "python", 
          "outputs": []
        }, 
        {
          "cell_type": "markdown", 
          "metadata": {}, 
          "source": [
            "\n", 
            "\n", 
            "Display noisy and denoised signal.\n", 
            ""
          ]
        }, 
        {
          "cell_type": "code", 
          "collapsed": false, 
          "input": [
            "\n", 
            "subplot(2,1,1)\n", 
            "plot(f); axis([1 N 0 1])\n", 
            "title('f')\n", 
            "subplot(2,1,2)\n", 
            "plot(f1); axis([1 N 0 1])\n", 
            "title('f_1')"
          ], 
          "language": "python", 
          "outputs": []
        }, 
        {
          "cell_type": "markdown", 
          "metadata": {}, 
          "source": [
            "\n", 
            "\n", 
            "Given a thresholding $\\Theta$ (for instance $\\Theta^0$ or $\\Theta^1$), one\n", 
            "thus defines a wavelet thresholding estimator as\n", 
            "$$ \\Theta_W(f) = W^* \\circ \\Theta \\circ W. $$\n", 
            "\n", 
            "\n", 
            "Operator to re-inject the coarse scale noisy coefficients.\n", 
            "Improves a little bit the result of soft thresholding denoising (because\n", 
            "of the bias).\n", 
            ""
          ]
        }, 
        {
          "cell_type": "code", 
          "collapsed": false, 
          "input": [
            "x = W(f)\n", 
            "reinject = lambda x1: assign(x1, 1:2^Jmin, x(1:2^Jmin))"
          ], 
          "language": "python", 
          "outputs": []
        }, 
        {
          "cell_type": "markdown", 
          "metadata": {}, 
          "source": [
            "\n", 
            "\n", 
            "Define the soft and hard thresholding estimators.\n", 
            ""
          ]
        }, 
        {
          "cell_type": "code", 
          "collapsed": false, 
          "input": [
            "Theta0W = lambda f,T: Wi(Theta0(W(f),T))\n", 
            "Theta1W = lambda f,T: Wi(reinject(Theta1(W(f),T)))"
          ], 
          "language": "python", 
          "outputs": []
        }, 
        {
          "cell_type": "markdown", 
          "metadata": {}, 
          "source": [
            "\n", 
            "\n", 
            "The denoising performance of an estimator $\\tilde f = \\Theta_W(f)$ is\n", 
            "measured using the $L^2$ error to the (unknown) ground trust $f_0$.\n", 
            "One usually expresses it in dB using the SNR\n", 
            "$$SNR =  -10\\log_{10}\\pa{ \\frac{\\norm{f_0-\\tilde f}^2}{\\norm{f_0}^2} }. $$\n", 
            "\n", 
            ""
          ]
        }, 
        {
          "cell_type": "heading", 
          "level": 3, 
          "metadata": {}, 
          "source": [
            "Exercise 1"
          ]
        }, 
        {
          "cell_type": "markdown", 
          "metadata": {}, 
          "source": [
            "\n", 
            "Display the evolution of the denoising SNR\n", 
            "when $T$ varies.\n", 
            "Store in |fBest0| and |fBest1| the optimal denoising results.\n", 
            "\n", 
            "\n", 
            "\n", 
            "\n", 
            "\n", 
            "\n", 
            "retrieve best\n", 
            "\n", 
            ""
          ]
        }, 
        {
          "cell_type": "code", 
          "collapsed": false, 
          "input": [
            "## Insert your code here."
          ], 
          "language": "python", 
          "outputs": []
        }, 
        {
          "cell_type": "markdown", 
          "metadata": {}, 
          "source": [
            "\n", 
            "\n", 
            "\n", 
            "Display the results.\n", 
            "For 1-D signals, hard thresholding seems to outperform soft thresholding.\n", 
            "For natural images, on contrary, soft thresholding seems to be better.\n", 
            ""
          ]
        }, 
        {
          "cell_type": "code", 
          "collapsed": false, 
          "input": [
            "\n", 
            "subplot(2,1,1)\n", 
            "plot(fBest0); axis([1 N 0 1]); e = snr(fBest0,f0)\n", 
            "title(['Hard, SNR=' num2str(e,3) 'dB'])\n", 
            "subplot(2,1,2)\n", 
            "plot(fBest1); axis([1 N 0 1]); e = snr(fBest1,f0)\n", 
            "title(['Soft, SNR=' num2str(e,3) 'dB'])"
          ], 
          "language": "python", 
          "outputs": []
        }, 
        {
          "cell_type": "markdown", 
          "metadata": {}, 
          "source": [
            "\n", 
            ""
          ]
        }, 
        {
          "cell_type": "heading", 
          "level": 2, 
          "metadata": {}, 
          "source": [
            "Translation Invariant Wavelet Transform\n"
          ]
        }, 
        {
          "cell_type": "markdown", 
          "metadata": {}, 
          "source": [
            "Orthogonal wavelet transforms are not translation invariant.\n", 
            "It means that the processing of an image and of a translated version of\n", 
            "the image give different results. A translation invariant wavelet\n", 
            "transform is implemented by ommitting the sub-sampling at each stage of\n", 
            "the transform. This correspond to the decomposition of the image in a\n", 
            "redundant familly of $N (J+1)$ atoms where $N$ is the number of\n", 
            "samples and $J$ is the number of scales of the transforms.\n", 
            "\n", 
            "\n", 
            "The foward and backward transform algorithm is the so-called \"a trou\"\n", 
            "algorithm, that was introduced in <#biblio [Holsch87]>. See also <#biblio [Fowler05]> for a\n", 
            "review. This algorithm runs in $O(J N)$ operations.\n", 
            "\n", 
            "\n", 
            "The invariant transform is obtained using the same function, by\n", 
            "activating the switch |options.ti=1|.\n", 
            ""
          ]
        }, 
        {
          "cell_type": "code", 
          "collapsed": false, 
          "input": [
            "options.ti = 1\n", 
            "W  = lambda f:  perform_wavelet_transf(f,Jmin,+1,options)\n", 
            "Wi = lambda fw: perform_wavelet_transf(fw,Jmin,-1,options)"
          ], 
          "language": "python", 
          "outputs": []
        }, 
        {
          "cell_type": "markdown", 
          "metadata": {}, 
          "source": [
            "\n", 
            "\n", 
            "Compute the invariant transform.\n", 
            ""
          ]
        }, 
        {
          "cell_type": "code", 
          "collapsed": false, 
          "input": [
            "fw = W(f)"
          ], 
          "language": "python", 
          "outputs": []
        }, 
        {
          "cell_type": "markdown", 
          "metadata": {}, 
          "source": [
            "\n", 
            "\n", 
            "|fw(:,:,1)| corresponds to the low scale residual.\n", 
            "Each |fw(:,1,j)| corresponds to a scale of wavelet coefficient, and has\n", 
            "the same size as the original signal.\n", 
            ""
          ]
        }, 
        {
          "cell_type": "code", 
          "collapsed": false, 
          "input": [
            "nJ = size(fw,3)-4\n", 
            "\n", 
            "subplot(5,1, 1)\n", 
            "plot(f0); axis('tight')\n", 
            "title('Signal')\n", 
            "i = 0\n", 
            "for j in 1:3:\n", 
            "    i = i+1\n", 
            "    subplot(5,1,i+1)\n", 
            "    plot(fw(:,1,nJ-i+1)); axis('tight')\n", 
            "    title(strcat(['Scale=' num2str(j)]))\n", 
            "\n", 
            "subplot(5,1, 5)\n", 
            "plot(fw(:,1,1)); axis('tight')\n", 
            "title('Low scale')"
          ], 
          "language": "python", 
          "outputs": []
        }, 
        {
          "cell_type": "heading", 
          "level": 2, 
          "metadata": {}, 
          "source": [
            "Translation Invariant Wavelet Denoising\n"
          ]
        }, 
        {
          "cell_type": "markdown", 
          "metadata": {}, 
          "source": [
            "Orthogonal wavelet denoising does not performs very well because of its\n", 
            "lack of translation invariance. A much better result is obtained by not sub-sampling the wavelet\n", 
            "transform, which leads to a redundant tight-frame.\n", 
            "\n", 
            "\n", 
            "Translation invariant denoising using cycle spinning is introduced in\n", 
            "<#biblio [CoifDon95]>. We uwe here the a trou algorithm which is faster.\n", 
            "\n", 
            "\n", 
            "Operator to re-inject the coarse scales.\n", 
            ""
          ]
        }, 
        {
          "cell_type": "code", 
          "collapsed": false, 
          "input": [
            "x = W(f)\n", 
            "reinject = lambda x1: assign(x1, 1:N, x(1:N))"
          ], 
          "language": "python", 
          "outputs": []
        }, 
        {
          "cell_type": "markdown", 
          "metadata": {}, 
          "source": [
            "\n", 
            "\n", 
            "Define the soft and hard thresholding estimators.\n", 
            ""
          ]
        }, 
        {
          "cell_type": "code", 
          "collapsed": false, 
          "input": [
            "Theta0W = lambda f,T: Wi(Theta0(W(f),T))\n", 
            "Theta1W = lambda f,T: Wi(reinject(Theta1(W(f),T)))"
          ], 
          "language": "python", 
          "outputs": []
        }, 
        {
          "cell_type": "heading", 
          "level": 3, 
          "metadata": {}, 
          "source": [
            "Exercise 2"
          ]
        }, 
        {
          "cell_type": "markdown", 
          "metadata": {}, 
          "source": [
            "\n", 
            "Display the evolution of the denoising SNR\n", 
            "when $T$ varies.\n", 
            "Store in |fBest0| and |fBest1| the optimal denoising results.\n", 
            "\n", 
            "\n", 
            "\n", 
            "\n", 
            "\n", 
            "\n", 
            "retrieve best\n", 
            "\n", 
            ""
          ]
        }, 
        {
          "cell_type": "code", 
          "collapsed": false, 
          "input": [
            "## Insert your code here."
          ], 
          "language": "python", 
          "outputs": []
        }, 
        {
          "cell_type": "markdown", 
          "metadata": {}, 
          "source": [
            "\n", 
            "\n", 
            "\n", 
            "Display the results.\n", 
            ""
          ]
        }, 
        {
          "cell_type": "code", 
          "collapsed": false, 
          "input": [
            "\n", 
            "subplot(2,1,1)\n", 
            "plot(fBest0); axis([1 N 0 1]); e = snr(fBest0,f0)\n", 
            "title(['Hard TI, SNR=' num2str(e,3) 'dB'])\n", 
            "subplot(2,1,2)\n", 
            "plot(fBest1); axis([1 N 0 1]); e = snr(fBest1,f0)\n", 
            "title(['Soft TI, SNR=' num2str(e,3) 'dB'])"
          ], 
          "language": "python", 
          "outputs": []
        }, 
        {
          "cell_type": "heading", 
          "level": 2, 
          "metadata": {}, 
          "source": [
            "Bibliography\n"
          ]
        }
      ]
    }
  ]
}