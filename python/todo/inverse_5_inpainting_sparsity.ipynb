{
  "metadata": {
    "name": ""
  }, 
  "nbformat": 3, 
  "nbformat_minor": 0, 
  "worksheets": [
    {
      "cells": [
        {
          "cell_type": "heading", 
          "level": 1, 
          "metadata": {}, 
          "source": [
            "Inpainting using Sparse Regularization"
          ]
        }, 
        {
          "cell_type": "markdown", 
          "metadata": {}, 
          "source": [
            "This numerical tour explores the use of\n", 
            "sparse energies to regularize the image inpaiting problem.\n", 
            ""
          ]
        }, 
        {
          "cell_type": "markdown", 
          "metadata": {}, 
          "source": [
            "*Important:* You need to download the file `nt_toolbox.py` from the \n", 
            "root of the github repository.\n", 
            "$\\newcommand{\\dotp}[2]{\\langle #1, #2 \\rangle}\n", 
            "\\newcommand{\\enscond}[2]{\\lbrace #1, #2 \\rbrace}\n", 
            "\\newcommand{\\pd}[2]{ \\frac{ \\partial #1}{\\partial #2} }\n", 
            "\\newcommand{\\umin}[1]{\\underset{#1}{\\min}\\;}\n", 
            "\\newcommand{\\norm}[1]{\\|#1\\|}\n", 
            "\\newcommand{\\abs}[1]{\\left|#1\\right|}\n", 
            "\\newcommand{\\choice}[1]{ \\left\\{  \\begin{array}{l} #1 \\end{array} \\right. }\n", 
            "\\newcommand{\\pa}[1]{\\left(#1\\right)}\n", 
            "\\newcommand{\\qandq}{\\quad\\text{and}\\quad}\n", 
            "\\newcommand{\\qwhereq}{\\quad\\text{where}\\quad}\n", 
            "\\newcommand{\\qifq}{ \\quad \\text{if} \\quad }\n", 
            "\\newcommand{\\qarrq}{ \\quad \\Longrightarrow \\quad }\n", 
            "\\newcommand{\\ZZ}{\\mathbb{Z}}\n", 
            "\\newcommand{\\RR}{\\mathbb{R}}\n", 
            "\\newcommand{\\Nn}{\\mathcal{N}}\n", 
            "\\newcommand{\\Hh}{\\mathcal{H}}\n", 
            "\\newcommand{\\Bb}{\\mathcal{B}}\n", 
            "\\newcommand{\\EE}{\\mathbb{E}}\n", 
            "\\newcommand{\\CC}{\\mathbb{C}}\n", 
            "\\newcommand{\\si}{\\sigma}\n", 
            "\\newcommand{\\al}{\\alpha}\n", 
            "\\newcommand{\\la}{\\lambda}\n", 
            "\\newcommand{\\ga}{\\gamma}\n", 
            "\\newcommand{\\Ga}{\\Gamma}\n", 
            "\\newcommand{\\La}{\\Lambda}\n", 
            "\\newcommand{\\si}{\\sigma}\n", 
            "\\newcommand{\\Si}{\\Sigma}\n", 
            "\\newcommand{\\be}{\\beta}\n", 
            "\\newcommand{\\de}{\\delta}\n", 
            "\\newcommand{\\De}{\\Delta}\n", 
            "\\renewcommand{\\phi}{\\varphi}\n", 
            "\\renewcommand{\\th}{\\theta}\n", 
            "\\newcommand{\\om}{\\omega}\n", 
            "\\newcommand{\\Om}{\\Omega}\n", 
            "$"
          ]
        }, 
        {
          "cell_type": "code", 
          "collapsed": false, 
          "input": [
            "from nt_toolbox import *", 
            "%matplotlib inline", 
            "%load_ext autoreload", 
            "%autoreload 2"
          ], 
          "language": "python", 
          "outputs": []
        }, 
        {
          "cell_type": "markdown", 
          "metadata": {}, 
          "source": [
            "\n", 
            "\n", 
            "Here we consider inpainting of damaged observation without noise.\n", 
            "\n", 
            "CMT"
          ]
        }, 
        {
          "cell_type": "code", 
          "collapsed": false, 
          "input": [
            "rep = 'results/inverse_5_inpainting/'\n", 
            "if not(exist(rep))\n", 
            "    mkdir(rep)\n", 
            ""
          ], 
          "language": "python", 
          "outputs": []
        }, 
        {
          "cell_type": "markdown", 
          "metadata": {}, 
          "source": [
            "CMT\n", 
            ""
          ]
        }, 
        {
          "cell_type": "heading", 
          "level": 2, 
          "metadata": {}, 
          "source": [
            "Sparse Regularization\n"
          ]
        }, 
        {
          "cell_type": "markdown", 
          "metadata": {}, 
          "source": [
            "This tour consider measurements $y=\\Phi f_0 + w$\n", 
            "where $\\Phi$ is a masking operator\n", 
            "and $w$ is an additive noise.\n", 
            "\n", 
            "\n", 
            "This tour is focussed on using sparsity to recover an image from the\n", 
            "measurements $y$. It considers a synthesis-based regularization, that\n", 
            "compute a sparse set of coefficients $ (a_m^{\\star})_m $\n", 
            "in a frame $\\Psi = (\\psi_m)_m$ that solves\n", 
            "$$a^{\\star} \\in \\text{argmin}_a \\: \\frac{1}{2}\\|y-\\Phi \\Psi a\\|^2 + \\lambda J(a)$$\n", 
            "\n", 
            "\n", 
            "where $\\lambda$ should be adapted to the noise level $\\|w\\|$.\n", 
            "Since in this tour we consider damaged observation without noise, i.e.\n", 
            "$w=0$, we use either a very small value of $\\lambda$, or we decay its\n", 
            "value through the iterations of the recovery process.\n", 
            "\n", 
            "\n", 
            "Here we used the notation\n", 
            "$$\\Psi a = \\sum_m a_m \\psi_m$$\n", 
            "to indicate the reconstruction operator, and $J(a)$ is the $\\ell^1$\n", 
            "sparsity prior\n", 
            "$$J(a)=\\sum_m \\|a_m\\|.$$\n", 
            "\n", 
            ""
          ]
        }, 
        {
          "cell_type": "heading", 
          "level": 2, 
          "metadata": {}, 
          "source": [
            "Missing Pixels and Inpainting\n"
          ]
        }, 
        {
          "cell_type": "markdown", 
          "metadata": {}, 
          "source": [
            "Inpainting corresponds to filling holes in images.\n", 
            "This corresponds to a linear ill posed inverse problem.\n", 
            "\n", 
            "\n", 
            "You might want to do first the numerical tour _Variational image inpaiting_\n", 
            "that use Sobolev and TV priors to performs the inpainting.\n", 
            "\n", 
            "\n", 
            "First we load the image to be inpainted.\n", 
            ""
          ]
        }, 
        {
          "cell_type": "code", 
          "collapsed": false, 
          "input": [
            "n = 128\n", 
            "name = 'lena'\n", 
            "f0 = load_image(name)\n", 
            "f0 = rescale(crop(f0,n))"
          ], 
          "language": "python", 
          "outputs": []
        }, 
        {
          "cell_type": "markdown", 
          "metadata": {}, 
          "source": [
            "\n", 
            "\n", 
            "Display it.\n", 
            ""
          ]
        }, 
        {
          "cell_type": "code", 
          "collapsed": false, 
          "input": [
            "\n", 
            "imageplot(f0, 'Image f_0')"
          ], 
          "language": "python", 
          "outputs": []
        }, 
        {
          "cell_type": "markdown", 
          "metadata": {}, 
          "source": [
            "\n", 
            "\n", 
            "\n", 
            "Amount of removed pixels.\n", 
            ""
          ]
        }, 
        {
          "cell_type": "code", 
          "collapsed": false, 
          "input": [
            "rho = .7"
          ], 
          "language": "python", 
          "outputs": []
        }, 
        {
          "cell_type": "markdown", 
          "metadata": {}, 
          "source": [
            "\n", 
            "\n", 
            "Then we construct a mask $\\Omega$ made of random pixel locations.\n", 
            ""
          ]
        }, 
        {
          "cell_type": "code", 
          "collapsed": false, 
          "input": [
            "Omega = zeros(n,n)\n", 
            "sel = randperm(n^2)\n", 
            "Omega(sel(1:round(rho*n^2))) = 1"
          ], 
          "language": "python", 
          "outputs": []
        }, 
        {
          "cell_type": "markdown", 
          "metadata": {}, 
          "source": [
            "\n", 
            "\n", 
            "The damaging operator put to zeros the pixel locations $x$ for which $\\Omega(x)=1$\n", 
            "\n", 
            "\n", 
            "*Important:* Scilab users have to create a file |Phi.m| to implement this\n", 
            "function.\n", 
            ""
          ]
        }, 
        {
          "cell_type": "code", 
          "collapsed": false, 
          "input": [
            "if using_matlab()\n", 
            "    Phi = lambda f,Omega: f.*(1-Omega)\n", 
            ""
          ], 
          "language": "python", 
          "outputs": []
        }, 
        {
          "cell_type": "markdown", 
          "metadata": {}, 
          "source": [
            "\n", 
            "\n", 
            "The damaged observations reads $y = \\Phi f_0$.\n", 
            ""
          ]
        }, 
        {
          "cell_type": "code", 
          "collapsed": false, 
          "input": [
            "y = Phi(f0,Omega)"
          ], 
          "language": "python", 
          "outputs": []
        }, 
        {
          "cell_type": "markdown", 
          "metadata": {}, 
          "source": [
            "\n", 
            "\n", 
            "Display the observations.\n", 
            ""
          ]
        }, 
        {
          "cell_type": "code", 
          "collapsed": false, 
          "input": [
            "\n", 
            "imageplot(y, 'Observations y')"
          ], 
          "language": "python", 
          "outputs": []
        }, 
        {
          "cell_type": "markdown", 
          "metadata": {}, 
          "source": [
            "\n", 
            "CMT"
          ]
        }, 
        {
          "cell_type": "code", 
          "collapsed": false, 
          "input": [
            "imwrite(clamp(f0), [rep name '-inpainting-original.png'], 'png')\n", 
            "imwrite(clamp(y), [rep name '-inpainting-y.png'], 'png')"
          ], 
          "language": "python", 
          "outputs": []
        }, 
        {
          "cell_type": "markdown", 
          "metadata": {}, 
          "source": [
            "CMT\n", 
            "\n", 
            ""
          ]
        }, 
        {
          "cell_type": "heading", 
          "level": 2, 
          "metadata": {}, 
          "source": [
            "Soft Thresholding in a Basis\n"
          ]
        }, 
        {
          "cell_type": "markdown", 
          "metadata": {}, 
          "source": [
            "The soft thresholding operator is at the heart of $\\ell^1$ minimization\n", 
            "schemes. It can be applied to coefficients $a$, or to an image $f$\n", 
            "in an ortho-basis.\n", 
            "\n", 
            "\n", 
            "The soft thresholding is a 1-D functional that shrinks the value of\n", 
            "coefficients.\n", 
            "$$ s_T(u)=\\max(0,1-T/|u|)u $$\n", 
            "\n", 
            "\n", 
            "Define a shortcut for this soft thresholding 1-D functional.\n", 
            "\n", 
            "\n", 
            "\n", 
            "*Important:* Scilab users have to create a file |SoftThresh.m| to implement this\n", 
            "function.\n", 
            ""
          ]
        }, 
        {
          "cell_type": "code", 
          "collapsed": false, 
          "input": [
            "if using_matlab()\n", 
            "    SoftThresh = lambda x,T: x.*max( 0, 1-T./max(abs(x),1e-10) )\n", 
            ""
          ], 
          "language": "python", 
          "outputs": []
        }, 
        {
          "cell_type": "markdown", 
          "metadata": {}, 
          "source": [
            "\n", 
            "\n", 
            "Display a curve of the 1D soft thresholding.\n", 
            ""
          ]
        }, 
        {
          "cell_type": "code", 
          "collapsed": false, 
          "input": [
            "\n", 
            "T = linspace(-1,1,1000)\n", 
            "plot( T, SoftThresh(T,.5) )\n", 
            "axis('equal')"
          ], 
          "language": "python", 
          "outputs": []
        }, 
        {
          "cell_type": "markdown", 
          "metadata": {}, 
          "source": [
            "\n", 
            "\n", 
            "Note that the function |SoftThresh| can also be applied to vector\n", 
            "(because of Matlab/Scilab vectorialized computation), which defines an\n", 
            "operator on coefficients:\n", 
            "$$ S_T(a) = ( s_T(a_m) )_m. $$\n", 
            "\n", 
            "\n", 
            "In the next section, we use an orthogonal wavelet basis $\\Psi$.\n", 
            "\n", 
            "\n", 
            "We set the parameters of the wavelet transform.\n", 
            ""
          ]
        }, 
        {
          "cell_type": "code", 
          "collapsed": false, 
          "input": [
            "Jmax = log2(n)-1\n", 
            "Jmin = Jmax-3"
          ], 
          "language": "python", 
          "outputs": []
        }, 
        {
          "cell_type": "markdown", 
          "metadata": {}, 
          "source": [
            "\n", 
            "\n", 
            "Shortcut for $\\Psi$ and $\\Psi^*$ in the orthogonal case.\n", 
            "\n", 
            "\n", 
            "\n", 
            "*Important:* Scilab users have to create files |Psi.m| and |PsiS.m| to implement this\n", 
            "function.\n", 
            ""
          ]
        }, 
        {
          "cell_type": "code", 
          "collapsed": false, 
          "input": [
            "options.ti = 0; % use orthogonality.\n", 
            "if using_matlab()\n", 
            "    Psi = lambda a: perform_wavelet_transf(a, Jmin, -1,options)\n", 
            "    PsiS = lambda f: perform_wavelet_transf(f, Jmin, +1,options)\n", 
            ""
          ], 
          "language": "python", 
          "outputs": []
        }, 
        {
          "cell_type": "markdown", 
          "metadata": {}, 
          "source": [
            "\n", 
            "\n", 
            "The soft thresholding opterator in the basis $\\Psi$ is defined as\n", 
            "$$S_T^\\Psi(f) = \\sum_m s_T( \\langle f,\\psi_m \\rangle ) \\psi_m $$\n", 
            "\n", 
            "\n", 
            "It thus corresponds to applying the transform $\\Psi^*$, thresholding\n", 
            "the coefficients using $S_T$ and then undoing the transform using\n", 
            "$\\Psi$.\n", 
            "$$ S_T^\\Psi(f) = \\Psi \\circ S_T \\circ \\Psi^*$$\n", 
            "\n", 
            "\n", 
            "\n", 
            "*Important:* Scilab users have to create a file |SoftThreshPsi.m| to implement this\n", 
            "function.\n", 
            ""
          ]
        }, 
        {
          "cell_type": "code", 
          "collapsed": false, 
          "input": [
            "if using_matlab()\n", 
            "    SoftThreshPsi = lambda f,T: Psi(SoftThresh(PsiS(f),T))\n", 
            ""
          ], 
          "language": "python", 
          "outputs": []
        }, 
        {
          "cell_type": "markdown", 
          "metadata": {}, 
          "source": [
            "\n", 
            "\n", 
            "This soft thresholding corresponds to a denoising operator.\n", 
            ""
          ]
        }, 
        {
          "cell_type": "code", 
          "collapsed": false, 
          "input": [
            "\n", 
            "imageplot( clamp(SoftThreshPsi(f0,.1)) )"
          ], 
          "language": "python", 
          "outputs": []
        }, 
        {
          "cell_type": "markdown", 
          "metadata": {}, 
          "source": [
            "\n", 
            ""
          ]
        }, 
        {
          "cell_type": "heading", 
          "level": 2, 
          "metadata": {}, 
          "source": [
            "Inpainting using Orthogonal Wavelet Sparsity\n"
          ]
        }, 
        {
          "cell_type": "markdown", 
          "metadata": {}, 
          "source": [
            "If $\\Psi$ is an orthogonal basis, a change of variable shows that the\n", 
            "synthesis prior is also an analysis prior, that reads\n", 
            "$$f^{\\star} \\in \\text{argmin}_f \\: E(f) = \\frac{1}{2}\\|y-\\Phi f\\|^2 + \\lambda \\sum_m \\|\\langle f,\\psi_m \\rangle\\|. $$\n", 
            "\n", 
            "\n", 
            "To solve this non-smooth optimization problem, one can use\n", 
            "forward-backward splitting, also known as iterative soft thresholding.\n", 
            "\n", 
            "\n", 
            "It computes a series of images $f^{(\\ell)}$ defined as\n", 
            "$$ f^{(\\ell+1)} = S_{\\tau\\lambda}^{\\Psi}( f^{(\\ell)} - \\tau \\Phi^{*} (\\Phi f^{(\\ell)} - y)  ) $$\n", 
            "\n", 
            "\n", 
            "Set up the value of the threshold.\n", 
            ""
          ]
        }, 
        {
          "cell_type": "code", 
          "collapsed": false, 
          "input": [
            "lambda = .03"
          ], 
          "language": "python", 
          "outputs": []
        }, 
        {
          "cell_type": "markdown", 
          "metadata": {}, 
          "source": [
            "\n", 
            "\n", 
            "In our setting, we have $ \\Phi^* = \\Phi $ which is an operator of norm\n", 
            "1.\n", 
            "\n", 
            "\n", 
            "For $f^{(\\ell)}$ to converge to a solution of the problem, the gradient\n", 
            "step size should be chosen as\n", 
            "$$\\tau < \\frac{2}{\\|\\Phi^* \\Phi\\|} = 2$$\n", 
            "\n", 
            "\n", 
            "In the following we use:\n", 
            "$$\\tau = 1$$\n", 
            "\n", 
            "\n", 
            "Since we use $ \\tau=1 $ and $ \\Phi = \\Phi^* = \\text{diag}(1-\\Omega) $,  the gradient descent step\n", 
            "is a projection on the inpainting constraint\n", 
            "$$C = \\{ f \\backslash \\forall \\Omega(x)=0, f(x)=y(x) \\} $$\n", 
            "One thus has\n", 
            "$$ f - \\tau \\Phi^{*} (\\Phi f - y)  = \\text{Proj}_C(f) $$\n", 
            "\n", 
            "\n", 
            "For the sake of simplicity, we define a shortcut for this projection\n", 
            "operator.\n", 
            "\n", 
            "\n", 
            "\n", 
            "*Important:* Scilab users have to create a file |ProjC.m| to implement this\n", 
            "function.\n", 
            ""
          ]
        }, 
        {
          "cell_type": "code", 
          "collapsed": false, 
          "input": [
            "if using_matlab()\n", 
            "    ProjC = lambda f,Omega: Omega.*f + (1-Omega).*y\n", 
            ""
          ], 
          "language": "python", 
          "outputs": []
        }, 
        {
          "cell_type": "markdown", 
          "metadata": {}, 
          "source": [
            "\n", 
            "\n", 
            "Each iteration of the forward-backward (iterative thresholding) algorithm\n", 
            "thus reads:\n", 
            "$$ f^{(\\ell+1)} = S_{\\lambda}^\\Psi( \\text{Proj}_C(f^{(\\ell)}) ). $$\n", 
            "\n", 
            "\n", 
            "Initialize the iterations.\n", 
            ""
          ]
        }, 
        {
          "cell_type": "code", 
          "collapsed": false, 
          "input": [
            "fSpars = y"
          ], 
          "language": "python", 
          "outputs": []
        }, 
        {
          "cell_type": "markdown", 
          "metadata": {}, 
          "source": [
            "\n", 
            "\n", 
            "First step: gradient descent.\n", 
            ""
          ]
        }, 
        {
          "cell_type": "code", 
          "collapsed": false, 
          "input": [
            "fSpars = ProjC(fSpars,Omega)"
          ], 
          "language": "python", 
          "outputs": []
        }, 
        {
          "cell_type": "markdown", 
          "metadata": {}, 
          "source": [
            "\n", 
            "\n", 
            "Second step: denoise the solution by thresholding.\n", 
            ""
          ]
        }, 
        {
          "cell_type": "code", 
          "collapsed": false, 
          "input": [
            "fSpars = SoftThreshPsi( fSpars, lambda )"
          ], 
          "language": "python", 
          "outputs": []
        }, 
        {
          "cell_type": "heading", 
          "level": 3, 
          "metadata": {}, 
          "source": [
            "Exercise 1"
          ]
        }, 
        {
          "cell_type": "markdown", 
          "metadata": {}, 
          "source": [
            "\n", 
            "Perform the iterative soft thresholding.\n", 
            "Monitor the decay of the energy $E$ you are minimizing.\n", 
            "\n", 
            "\n", 
            "\n", 
            "\n", 
            "\n", 
            "\n", 
            "\n", 
            "\n", 
            "\n", 
            "\n", 
            "\n", 
            "\n", 
            "\n", 
            "\n", 
            "\n", 
            ""
          ]
        }, 
        {
          "cell_type": "code", 
          "collapsed": false, 
          "input": [
            "## Insert your code here."
          ], 
          "language": "python", 
          "outputs": []
        }, 
        {
          "cell_type": "markdown", 
          "metadata": {}, 
          "source": [
            "\n", 
            "\n", 
            "\n", 
            "Display the result.\n", 
            ""
          ]
        }, 
        {
          "cell_type": "code", 
          "collapsed": false, 
          "input": [
            "\n", 
            "imageplot(clamp(fSpars))"
          ], 
          "language": "python", 
          "outputs": []
        }, 
        {
          "cell_type": "heading", 
          "level": 3, 
          "metadata": {}, 
          "source": [
            "Exercise 2"
          ]
        }, 
        {
          "cell_type": "markdown", 
          "metadata": {}, 
          "source": [
            "\n", 
            "Since there is no noise, one should in theory takes $\\lambda\n", 
            "\\rightarrow 0$.\n", 
            "To do this, decay the value of $\\lambda$ through the iterations.\n", 
            "\n", 
            "\n", 
            "\n", 
            "\n", 
            "\n", 
            "\n", 
            "\n", 
            ""
          ]
        }, 
        {
          "cell_type": "code", 
          "collapsed": false, 
          "input": [
            "## Insert your code here."
          ], 
          "language": "python", 
          "outputs": []
        }, 
        {
          "cell_type": "markdown", 
          "metadata": {}, 
          "source": [
            "\n", 
            "\n", 
            "CMT"
          ]
        }, 
        {
          "cell_type": "code", 
          "collapsed": false, 
          "input": [
            "imwrite(clamp(fSpars), [rep name '-inpainting-l1ortho.png'], 'png')"
          ], 
          "language": "python", 
          "outputs": []
        }, 
        {
          "cell_type": "markdown", 
          "metadata": {}, 
          "source": [
            "CMT\n", 
            ""
          ]
        }, 
        {
          "cell_type": "heading", 
          "level": 2, 
          "metadata": {}, 
          "source": [
            "Inpainting using Translation Invariant Wavelet Sparsity\n"
          ]
        }, 
        {
          "cell_type": "markdown", 
          "metadata": {}, 
          "source": [
            "Orthogonal sparsity performs a poor regularization because of the lack of\n", 
            "translation invariance. This regularization is enhanced by considering\n", 
            "$\\Psi$ as a redundant tight frame of translation invariant wavelets.\n", 
            "\n", 
            "\n", 
            "One thus looks for optimal coefficients $a^\\star$ that solves\n", 
            "$$a^{\\star} \\in \\text{argmin}_a \\: E(a) = \\frac{1}{2}\\|y-\\Phi \\Psi a\\|^2 + \\lambda J(a)$$\n", 
            "\n", 
            "\n", 
            "*Important*: The operator $\\Psi^*$ is the forward translation invariant wavele transform.\n", 
            "It computes the inner product with the unit norm wavelet atoms:\n", 
            "$$ (\\Psi^* f)_m = \\langle f,\\psi_m \\rangle \\quad \\text{with} \\quad \\|\\psi_m\\|=1. $$\n", 
            "\n", 
            "\n", 
            "The reconstruction operator $\\Xi$ satisfies $ \\Xi \\Psi^* f = f $, and\n", 
            "is the pseudo inverse of the analysis operator $ \\Xi = (\\Psi^*)^+ $.\n", 
            "\n", 
            "\n", 
            "For our algorithm, we will need to use $\\Psi$ and not $\\Xi$. Lukily,\n", 
            "for the wavelet transform, one has\n", 
            "$$ \\Xi = \\Psi \\text{diag(U)} f $$\n", 
            "where $U_m$ account for the redundancy of the scale of the atom\n", 
            "$\\psi_m$.\n", 
            "\n", 
            "\n", 
            "Compute the scaling factor (inverse of the redundancy).\n", 
            ""
          ]
        }, 
        {
          "cell_type": "code", 
          "collapsed": false, 
          "input": [
            "J = Jmax-Jmin+1\n", 
            "u = [4^(-J) 4.^(-floor(J+2/3:-1/3:1)) ]\n", 
            "U = repmat( reshape(u,[1 1 length(u)]), [n n 1] )"
          ], 
          "language": "python", 
          "outputs": []
        }, 
        {
          "cell_type": "markdown", 
          "metadata": {}, 
          "source": [
            "\n", 
            "\n", 
            "Value of the regularization parameter.\n", 
            ""
          ]
        }, 
        {
          "cell_type": "code", 
          "collapsed": false, 
          "input": [
            "lambda = .01"
          ], 
          "language": "python", 
          "outputs": []
        }, 
        {
          "cell_type": "markdown", 
          "metadata": {}, 
          "source": [
            "\n", 
            "\n", 
            "\n", 
            "Shortcut for the wavelet transform and the reconstruction.\n", 
            "\n", 
            "\n", 
            "\n", 
            "*Important:* Scilab users have to create files |Xi.m|, |PsiS.m| and |Psi.m| to implement this\n", 
            "function.\n", 
            ""
          ]
        }, 
        {
          "cell_type": "code", 
          "collapsed": false, 
          "input": [
            "options.ti = 1; % use translation invariance\n", 
            "if using_matlab()\n", 
            "    Xi = lambda a: perform_wavelet_transf(a, Jmin, -1,options)\n", 
            "    PsiS = lambda f: perform_wavelet_transf(f, Jmin, +1,options)\n", 
            "    Psi = lambda a: Xi(a./U)\n", 
            ""
          ], 
          "language": "python", 
          "outputs": []
        }, 
        {
          "cell_type": "markdown", 
          "metadata": {}, 
          "source": [
            "\n", 
            "\n", 
            "\n", 
            "The forward-backward algorithm now compute a series of wavelet\n", 
            "coefficients $a^{(\\ell)}$ computed as\n", 
            "$$a^{(\\ell+1)} = S_{\\tau\\lambda}( a^{(\\ell)} + \\Psi^*\\Phi( y - \\Phi\\Psi a^{(\\ell)} )  ). $$\n", 
            "\n", 
            "\n", 
            "The soft thresholding is defined as:\n", 
            "$$\\forall m, \\quad S_T(a)_m = \\max(0, 1-T/\\|a_m\\|)a_m. $$\n", 
            "\n", 
            "\n", 
            "The step size should satisfy:\n", 
            "$$\\tau < \\frac{2}{\\|\\Psi\\Phi \\|} \\leq 2 \\min( u ). $$\n", 
            ""
          ]
        }, 
        {
          "cell_type": "code", 
          "collapsed": false, 
          "input": [
            "tau = 1.9*min(u)"
          ], 
          "language": "python", 
          "outputs": []
        }, 
        {
          "cell_type": "markdown", 
          "metadata": {}, 
          "source": [
            "\n", 
            "\n", 
            "Initialize the wavelet coefficients with those of the previous reconstruction.\n", 
            ""
          ]
        }, 
        {
          "cell_type": "code", 
          "collapsed": false, 
          "input": [
            "a = U.*PsiS(fSpars)"
          ], 
          "language": "python", 
          "outputs": []
        }, 
        {
          "cell_type": "markdown", 
          "metadata": {}, 
          "source": [
            "\n", 
            "\n", 
            "Gradient descent.\n", 
            ""
          ]
        }, 
        {
          "cell_type": "code", 
          "collapsed": false, 
          "input": [
            "fTI = Psi(a)\n", 
            "a = a + tau*PsiS( Phi( y-Phi(fTI,Omega),Omega ) )"
          ], 
          "language": "python", 
          "outputs": []
        }, 
        {
          "cell_type": "markdown", 
          "metadata": {}, 
          "source": [
            "\n", 
            "\n", 
            "Soft threshold.\n", 
            ""
          ]
        }, 
        {
          "cell_type": "code", 
          "collapsed": false, 
          "input": [
            "a = SoftThresh( a, lambda*tau )"
          ], 
          "language": "python", 
          "outputs": []
        }, 
        {
          "cell_type": "heading", 
          "level": 3, 
          "metadata": {}, 
          "source": [
            "Exercise 3"
          ]
        }, 
        {
          "cell_type": "markdown", 
          "metadata": {}, 
          "source": [
            "\n", 
            "Perform the iterative soft thresholding. Monitor the decay of the\n", 
            "energy $E$.\n", 
            "\n", 
            "\n", 
            "\n", 
            "\n", 
            "\n", 
            "\n", 
            "\n", 
            "\n", 
            "\n", 
            "\n", 
            "\n", 
            ""
          ]
        }, 
        {
          "cell_type": "code", 
          "collapsed": false, 
          "input": [
            "## Insert your code here."
          ], 
          "language": "python", 
          "outputs": []
        }, 
        {
          "cell_type": "markdown", 
          "metadata": {}, 
          "source": [
            "\n", 
            "\n", 
            "\n", 
            "Perform the reconstruction.\n", 
            ""
          ]
        }, 
        {
          "cell_type": "code", 
          "collapsed": false, 
          "input": [
            "fTI = Psi(a)"
          ], 
          "language": "python", 
          "outputs": []
        }, 
        {
          "cell_type": "markdown", 
          "metadata": {}, 
          "source": [
            "\n", 
            "\n", 
            "Display the result.\n", 
            ""
          ]
        }, 
        {
          "cell_type": "code", 
          "collapsed": false, 
          "input": [
            "\n", 
            "imageplot(clamp(fTI))"
          ], 
          "language": "python", 
          "outputs": []
        }, 
        {
          "cell_type": "markdown", 
          "metadata": {}, 
          "source": [
            "\n", 
            ""
          ]
        }, 
        {
          "cell_type": "heading", 
          "level": 3, 
          "metadata": {}, 
          "source": [
            "Exercise 4"
          ]
        }, 
        {
          "cell_type": "markdown", 
          "metadata": {}, 
          "source": [
            "\n", 
            "Perform the iteration with a decaying value of $\\lambda$\n", 
            "\n", 
            "\n", 
            "\n", 
            "\n", 
            "\n", 
            "\n", 
            "\n", 
            "\n", 
            "\n", 
            ""
          ]
        }, 
        {
          "cell_type": "code", 
          "collapsed": false, 
          "input": [
            "## Insert your code here."
          ], 
          "language": "python", 
          "outputs": []
        }, 
        {
          "cell_type": "markdown", 
          "metadata": {}, 
          "source": [
            "\n", 
            "\n", 
            "\n", 
            "CMT"
          ]
        }, 
        {
          "cell_type": "code", 
          "collapsed": false, 
          "input": [
            "imwrite(clamp(fTI), [rep name '-inpainting-l1ti.png'], 'png')"
          ], 
          "language": "python", 
          "outputs": []
        }, 
        {
          "cell_type": "markdown", 
          "metadata": {}, 
          "source": [
            "CMT\n", 
            "\n", 
            ""
          ]
        }, 
        {
          "cell_type": "heading", 
          "level": 2, 
          "metadata": {}, 
          "source": [
            "Inpainting using Iterative Hard Thresholding\n"
          ]
        }, 
        {
          "cell_type": "markdown", 
          "metadata": {}, 
          "source": [
            "To improve the sparsity of the solution, it is possible to replace the\n", 
            "soft thresholding by a hard threshdoling. In this case, the resulting\n", 
            "algorihtm does not perform anymore a variational minimization of an\n", 
            "energy.\n", 
            "\n", 
            "\n", 
            "The hard thresholding is defined as $h_T(x)=0$ if $-T < x < T$\n", 
            "and $h_T(x)=x$ otherwise. It thus defines a thresholding operator of\n", 
            "wavelet coefficients as $H_T(a)_m = h_T(a_m)$.\n", 
            "\n", 
            "\n", 
            "Define a shortcut for this vectorialized hard thresholding\n", 
            "\n", 
            "\n", 
            "\n", 
            "*Important:* Scilab users have to create a file |HardThresh.m| to implement this\n", 
            "function.\n", 
            ""
          ]
        }, 
        {
          "cell_type": "code", 
          "collapsed": false, 
          "input": [
            "if using_matlab()\n", 
            "    HardThresh = lambda x,t: x.*(abs(x)>t)\n", 
            ""
          ], 
          "language": "python", 
          "outputs": []
        }, 
        {
          "cell_type": "markdown", 
          "metadata": {}, 
          "source": [
            "\n", 
            "\n", 
            "Display a curve of the 1-D Hard thresholding.\n", 
            ""
          ]
        }, 
        {
          "cell_type": "code", 
          "collapsed": false, 
          "input": [
            "t = linspace(-1,1,1000)\n", 
            "plot( t, HardThresh(t,.5) )\n", 
            "axis('equal')"
          ], 
          "language": "python", 
          "outputs": []
        }, 
        {
          "cell_type": "markdown", 
          "metadata": {}, 
          "source": [
            "\n", 
            "\n", 
            "The hard thresholding in the translation invariant wavelet basis $\\Psi$\n", 
            "reads\n", 
            "$$ H_T^\\Psi(f) = \\Xi \\circ H_T \\circ \\Psi^* (f) $$\n", 
            "where $\\Xi = (\\Phi^*)^+$ is the reconstruction operator.\n", 
            "\n", 
            "\n", 
            "We follow the MCA paradigm of Jean-Luc Starck, that alternates between a\n", 
            "gradient descent step and a hard thresholding denoising, using a decaying\n", 
            "threshold.\n", 
            "$$f^{(\\ell+1)} = H_{\\tau\\lambda_\\ell}^\\Psi( f^{(\\ell)} - \\tau \\Phi^*(\\Phi f^{(\\ell)} - y)  ). $$\n", 
            "\n", 
            "\n", 
            "Number of iterations.\n", 
            ""
          ]
        }, 
        {
          "cell_type": "code", 
          "collapsed": false, 
          "input": [
            "niter = 500"
          ], 
          "language": "python", 
          "outputs": []
        }, 
        {
          "cell_type": "markdown", 
          "metadata": {}, 
          "source": [
            "\n", 
            "\n", 
            "List of thresholds. One must start by a large enough initial threshold.\n", 
            ""
          ]
        }, 
        {
          "cell_type": "code", 
          "collapsed": false, 
          "input": [
            "lambda_list = linspace(1,0,niter)"
          ], 
          "language": "python", 
          "outputs": []
        }, 
        {
          "cell_type": "markdown", 
          "metadata": {}, 
          "source": [
            "\n", 
            "\n", 
            "Initialization.\n", 
            ""
          ]
        }, 
        {
          "cell_type": "code", 
          "collapsed": false, 
          "input": [
            "fHard = y"
          ], 
          "language": "python", 
          "outputs": []
        }, 
        {
          "cell_type": "markdown", 
          "metadata": {}, 
          "source": [
            "\n", 
            "\n", 
            "Gradient descent.\n", 
            ""
          ]
        }, 
        {
          "cell_type": "code", 
          "collapsed": false, 
          "input": [
            "fHard = ProjC(fHard,Omega)"
          ], 
          "language": "python", 
          "outputs": []
        }, 
        {
          "cell_type": "markdown", 
          "metadata": {}, 
          "source": [
            "\n", 
            "\n", 
            "Hard threshold (here $\\lambda=\\lambda_0$) is used).\n", 
            ""
          ]
        }, 
        {
          "cell_type": "code", 
          "collapsed": false, 
          "input": [
            "fHard = Xi( HardThresh( PsiS(fHard), tau*lambda_list(1) ) )"
          ], 
          "language": "python", 
          "outputs": []
        }, 
        {
          "cell_type": "heading", 
          "level": 3, 
          "metadata": {}, 
          "source": [
            "Exercise 5"
          ]
        }, 
        {
          "cell_type": "markdown", 
          "metadata": {}, 
          "source": [
            "\n", 
            "Perform the iteration with a decaying value of $\\lambda$\n", 
            "\n", 
            "\n", 
            "\n", 
            "\n", 
            "\n", 
            "\n", 
            "\n", 
            ""
          ]
        }, 
        {
          "cell_type": "code", 
          "collapsed": false, 
          "input": [
            "## Insert your code here."
          ], 
          "language": "python", 
          "outputs": []
        }
      ]
    }
  ]
}