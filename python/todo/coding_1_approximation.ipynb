{
  "metadata": {
    "name": ""
  }, 
  "nbformat": 3, 
  "nbformat_minor": 0, 
  "worksheets": [
    {
      "cells": [
        {
          "cell_type": "heading", 
          "level": 1, 
          "metadata": {}, 
          "source": [
            "Image Approximation with Orthogonal Bases"
          ]
        }, 
        {
          "cell_type": "markdown", 
          "metadata": {}, 
          "source": [
            "This numerical tour uses several orthogonal bases to perform non-linear image\n", 
            "approximation.\n", 
            "\n", 
            "\n", 
            "*Important:* Scilab user have to call the function |extend_stack_size(4)|\n", 
            "before starting the tour to be able to handle large images.\n", 
            ""
          ]
        }, 
        {
          "cell_type": "markdown", 
          "metadata": {}, 
          "source": [
            "*Important:* You need to download the file `nt_toolbox.py` from the \n", 
            "root of the github repository.\n", 
            "$\\newcommand{\\dotp}[2]{\\langle #1, #2 \\rangle}\n", 
            "\\newcommand{\\enscond}[2]{\\lbrace #1, #2 \\rbrace}\n", 
            "\\newcommand{\\pd}[2]{ \\frac{ \\partial #1}{\\partial #2} }\n", 
            "\\newcommand{\\umin}[1]{\\underset{#1}{\\min}\\;}\n", 
            "\\newcommand{\\norm}[1]{\\|#1\\|}\n", 
            "\\newcommand{\\abs}[1]{\\left|#1\\right|}\n", 
            "\\newcommand{\\choice}[1]{ \\left\\{  \\begin{array}{l} #1 \\end{array} \\right. }\n", 
            "\\newcommand{\\pa}[1]{\\left(#1\\right)}\n", 
            "\\newcommand{\\qandq}{\\quad\\text{and}\\quad}\n", 
            "\\newcommand{\\qwhereq}{\\quad\\text{where}\\quad}\n", 
            "\\newcommand{\\qifq}{ \\quad \\text{if} \\quad }\n", 
            "\\newcommand{\\qarrq}{ \\quad \\Longrightarrow \\quad }\n", 
            "\\newcommand{\\ZZ}{\\mathbb{Z}}\n", 
            "\\newcommand{\\RR}{\\mathbb{R}}\n", 
            "\\newcommand{\\Nn}{\\mathcal{N}}\n", 
            "\\newcommand{\\Hh}{\\mathcal{H}}\n", 
            "\\newcommand{\\Bb}{\\mathcal{B}}\n", 
            "\\newcommand{\\EE}{\\mathbb{E}}\n", 
            "\\newcommand{\\CC}{\\mathbb{C}}\n", 
            "\\newcommand{\\si}{\\sigma}\n", 
            "\\newcommand{\\al}{\\alpha}\n", 
            "\\newcommand{\\la}{\\lambda}\n", 
            "\\newcommand{\\ga}{\\gamma}\n", 
            "\\newcommand{\\Ga}{\\Gamma}\n", 
            "\\newcommand{\\La}{\\Lambda}\n", 
            "\\newcommand{\\si}{\\sigma}\n", 
            "\\newcommand{\\Si}{\\Sigma}\n", 
            "\\newcommand{\\be}{\\beta}\n", 
            "\\newcommand{\\de}{\\delta}\n", 
            "\\newcommand{\\De}{\\Delta}\n", 
            "\\renewcommand{\\phi}{\\varphi}\n", 
            "\\renewcommand{\\th}{\\theta}\n", 
            "\\newcommand{\\om}{\\omega}\n", 
            "\\newcommand{\\Om}{\\Omega}\n", 
            "$"
          ]
        }, 
        {
          "cell_type": "code", 
          "collapsed": false, 
          "input": [
            "from nt_toolbox import *", 
            "%matplotlib inline", 
            "%load_ext autoreload", 
            "%autoreload 2"
          ], 
          "language": "python", 
          "outputs": []
        }, 
        {
          "cell_type": "heading", 
          "level": 2, 
          "metadata": {}, 
          "source": [
            "Best \\(M\\)-terms Non-linear Approximation\n"
          ]
        }, 
        {
          "cell_type": "markdown", 
          "metadata": {}, 
          "source": [
            "This tours makes use of an orthogonal base $ \\Bb = \\{ \\psi_m \\}_{m=0}^{N-1} $\n", 
            "of the space $\\RR^N$ of the images with $N$ pixels.\n", 
            "\n", 
            "\n", 
            "The best $M$-term approximation of $f$ is obtained by a non-linear\n", 
            "thresholding\n", 
            "$$ f_M = \\sum_{ \\abs{\\dotp{f}{\\psi_m}}>T }  \\dotp{f}{\\psi_m} \\psi_m, $$\n", 
            "where the value of $T>0$ should be carefully selected so that only\n", 
            "$M$ coefficients are not thresholded, i.e.\n", 
            "$$ \\abs{ \\enscond{m}{ \\abs{\\dotp{f}{\\psi_m}}>T } } = M. $$\n", 
            "\n", 
            "\n", 
            "The goal is to use an ortho-basis $ \\Bb $ so that the error $ \\norm{f-f_M} $\n", 
            "decays as fast as possible when $M$ increases, for a large class of\n", 
            "images.\n", 
            "\n", 
            "\n", 
            "This tour studies several different orthogonal bases: Fourier, wavelets (which is at the heart of JPEG-2000),\n", 
            "cosine, local cosine (which is at the heart of JPEG).\n", 
            "\n", 
            "\n", 
            "\n", 
            "First we load an image of $ N = n \\times n $ pixels.\n", 
            ""
          ]
        }, 
        {
          "cell_type": "code", 
          "collapsed": false, 
          "input": [
            "n = 512\n", 
            "f = rescale( load_image('lena', n) )"
          ], 
          "language": "python", 
          "outputs": []
        }, 
        {
          "cell_type": "markdown", 
          "metadata": {}, 
          "source": [
            "\n", 
            "\n", 
            "Display it.\n", 
            ""
          ]
        }, 
        {
          "cell_type": "code", 
          "collapsed": false, 
          "input": [
            "\n", 
            "imageplot(f)"
          ], 
          "language": "python", 
          "outputs": []
        }, 
        {
          "cell_type": "heading", 
          "level": 2, 
          "metadata": {}, 
          "source": [
            "Fourier Approximation\n"
          ]
        }, 
        {
          "cell_type": "markdown", 
          "metadata": {}, 
          "source": [
            "The discrete 2-D Fourier atoms are defined as:\n", 
            "$$ \\psi_m(x) = \\frac{1}{\\sqrt{N}} e^{ \\frac{2i\\pi}{n} ( x_1 m_1 + x_2 m_2 ) },  $$\n", 
            "where $ 0 \\leq m_1,m_2 < n $ indexes the frequency.\n", 
            "\n", 
            "\n", 
            "The set of inner products $ \\{ \\dotp{f}{\\psi_m} \\}_m $ is computed in\n", 
            "$O(N \\log(N))$ operations with the 2-D Fast Fourier Transform (FFT)\n", 
            "algorithm (the Matlab function is |fft2|).\n", 
            "\n", 
            "\n", 
            "Compute the Fourier transform using the FFT algorithm.\n", 
            "Note the normalization by $1/\\sqrt{N}$ to ensure orthogonality (energy\n", 
            "conservation) of the transform.\n", 
            ""
          ]
        }, 
        {
          "cell_type": "code", 
          "collapsed": false, 
          "input": [
            "fF = fft2(f)/n"
          ], 
          "language": "python", 
          "outputs": []
        }, 
        {
          "cell_type": "markdown", 
          "metadata": {}, 
          "source": [
            "\n", 
            "\n", 
            "Display its magnitude (in log scale).\n", 
            "We use the function |fftshift| to put the low frequency in the center.\n", 
            ""
          ]
        }, 
        {
          "cell_type": "code", 
          "collapsed": false, 
          "input": [
            "\n", 
            "imageplot(log(1e-5+abs(fftshift(fF))))"
          ], 
          "language": "python", 
          "outputs": []
        }, 
        {
          "cell_type": "markdown", 
          "metadata": {}, 
          "source": [
            "\n", 
            "\n", 
            "\n", 
            "An image is recovered from a set of coefficients $c_m$ using the inverse\n", 
            "Fourier Transform (Matlab function |ifft2|) than implements the formula\n", 
            "$$ f_M = \\sum_m c_m \\psi_m. $$\n", 
            "\n", 
            "\n", 
            "Performs a thresholding.\n", 
            ""
          ]
        }, 
        {
          "cell_type": "code", 
          "collapsed": false, 
          "input": [
            "T = .3\n", 
            "c = fF .* (abs(fF)>T)"
          ], 
          "language": "python", 
          "outputs": []
        }, 
        {
          "cell_type": "markdown", 
          "metadata": {}, 
          "source": [
            "\n", 
            "\n", 
            "Inverse the Fourier transform.\n", 
            ""
          ]
        }, 
        {
          "cell_type": "code", 
          "collapsed": false, 
          "input": [
            "fM = real(ifft2(c)*n)"
          ], 
          "language": "python", 
          "outputs": []
        }, 
        {
          "cell_type": "markdown", 
          "metadata": {}, 
          "source": [
            "\n", 
            "\n", 
            "\n", 
            "Display the approximation.\n", 
            ""
          ]
        }, 
        {
          "cell_type": "code", 
          "collapsed": false, 
          "input": [
            "imageplot(clamp(fM))"
          ], 
          "language": "python", 
          "outputs": []
        }, 
        {
          "cell_type": "heading", 
          "level": 3, 
          "metadata": {}, 
          "source": [
            "Exercise 1"
          ]
        }, 
        {
          "cell_type": "markdown", 
          "metadata": {}, 
          "source": [
            "\n", 
            "Compute a best $M$-term approximation in the Fourier basis of $f$, for\n", 
            "$M \\in \\{N/100, N/20\\}$. Compute the approximation using\n", 
            "a well chosen hard threshold value $T$.\n", 
            "\n", 
            "\n", 
            "\n", 
            "\n", 
            "\n", 
            "\n", 
            "\n", 
            ""
          ]
        }, 
        {
          "cell_type": "code", 
          "collapsed": false, 
          "input": [
            "## Insert your code here."
          ], 
          "language": "python", 
          "outputs": []
        }, 
        {
          "cell_type": "markdown", 
          "metadata": {}, 
          "source": [
            "\n", 
            "\n", 
            "\n", 
            "The best $M$-term approximation error is computed using the\n", 
            "conservation of energy as\n", 
            "$$ \\epsilon[M]^2 = \\norm{f-f_M}^2 = \\sum_{ \\abs{\\dotp{f}{\\psi_m}} \\leq T } \\abs{\\dotp{f}{\\psi_m}}^2.  $$\n", 
            "\n", 
            "\n", 
            "If one denotes by $ \\{ c_R[k] \\}_{k=0}^{N-1} $ the set of\n", 
            "coefficients magnitudes $ \\abs{\\dotp{f}{\\psi_m}} $ ordered by *decaying*\n", 
            "magnitudes, then this error is easily computed as\n", 
            "$$ \\epsilon[M]^2 = \\sum_{k=M}^{N-1} c_R[k]^2\n", 
            "    = \\norm{f}^2 - \\sum_{k=0}^{M-1} c_R[k]^2. $$\n", 
            "This means that $\\epsilon^2$ is equal to\n", 
            "$\\norm{f}^2$ minus the discrete primitive of $ c_R^2 $.\n", 
            ""
          ]
        }, 
        {
          "cell_type": "heading", 
          "level": 3, 
          "metadata": {}, 
          "source": [
            "Exercise 2"
          ]
        }, 
        {
          "cell_type": "markdown", 
          "metadata": {}, 
          "source": [
            "\n", 
            "Compute and display in log scales the ordered coefficients $c_R$.\n", 
            "_Hint:_ a discrete primitive can be computed using the function\n", 
            "|cumsum|.\n", 
            "\n", 
            "\n", 
            "\n", 
            "\n", 
            "\n", 
            "\n", 
            "\n", 
            "\n", 
            "\n", 
            "\n", 
            ""
          ]
        }, 
        {
          "cell_type": "code", 
          "collapsed": false, 
          "input": [
            "## Insert your code here."
          ], 
          "language": "python", 
          "outputs": []
        }, 
        {
          "cell_type": "markdown", 
          "metadata": {}, 
          "source": [
            "\n", 
            ""
          ]
        }, 
        {
          "cell_type": "heading", 
          "level": 3, 
          "metadata": {}, 
          "source": [
            "Exercise 3"
          ]
        }, 
        {
          "cell_type": "markdown", 
          "metadata": {}, 
          "source": [
            "\n", 
            "Compute and display in log-scale the non-linear approximation\n", 
            "error $\\epsilon[M]^2$.\n", 
            "Store the values of $\\epsilon[M]^2$ in a vector |err_fft|.\n", 
            "\n", 
            "\n", 
            "\n", 
            "\n", 
            "\n", 
            "\n", 
            "\n", 
            "\n", 
            ""
          ]
        }, 
        {
          "cell_type": "code", 
          "collapsed": false, 
          "input": [
            "## Insert your code here."
          ], 
          "language": "python", 
          "outputs": []
        }, 
        {
          "cell_type": "markdown", 
          "metadata": {}, 
          "source": [
            "\n", 
            ""
          ]
        }, 
        {
          "cell_type": "heading", 
          "level": 2, 
          "metadata": {}, 
          "source": [
            "Wavelet Approximation\n"
          ]
        }, 
        {
          "cell_type": "markdown", 
          "metadata": {}, 
          "source": [
            "The Wavelet basis of continuous 2-D functions is defined by\n", 
            "by scaling and translating three mother\n", 
            "atoms $ \\{\\psi^H,\\psi^V,\\psi^D\\} $:\n", 
            "$$ \\psi_{j,n}^k(x) = \\frac{1}{2^j}\\psi^k\\pa{\\frac{x-2^j n}{2^j}}  $$\n", 
            "\n", 
            "\n", 
            "Non-linear wavelet approximation is a the heart of the JPEG-2000\n", 
            "compression standard.\n", 
            "\n", 
            "\n", 
            "The set of inner products $ \\{ \\dotp{f}{\\psi_m} \\}_m $ is computed in\n", 
            "$O(N)$ operations with the 2-D Fast Wavelet Transform\n", 
            "algorithm.\n", 
            "\n", 
            "\n", 
            "Perform a wavelet transform.\n", 
            "Here we use a daubechies wavelet transform.\n", 
            ""
          ]
        }, 
        {
          "cell_type": "code", 
          "collapsed": false, 
          "input": [
            "Jmin = 1\n", 
            "options.h = compute_wavelet_filter('Daubechies',10)\n", 
            "fW = perform_wavortho_transf(f,Jmin,+1, options)"
          ], 
          "language": "python", 
          "outputs": []
        }, 
        {
          "cell_type": "markdown", 
          "metadata": {}, 
          "source": [
            "\n", 
            "\n", 
            "Display the coefficients.\n", 
            ""
          ]
        }, 
        {
          "cell_type": "code", 
          "collapsed": false, 
          "input": [
            "\n", 
            "plot_wavelet(fW,Jmin)\n", 
            "title('Wavelet coefficients')"
          ], 
          "language": "python", 
          "outputs": []
        }, 
        {
          "cell_type": "markdown", 
          "metadata": {}, 
          "source": [
            "\n", 
            ""
          ]
        }, 
        {
          "cell_type": "heading", 
          "level": 3, 
          "metadata": {}, 
          "source": [
            "Exercise 4"
          ]
        }, 
        {
          "cell_type": "markdown", 
          "metadata": {}, 
          "source": [
            "\n", 
            "Compute a best $M$-term approximation in the wavelet basis of $f$, for\n", 
            "$M \\in \\{N/100, N/20\\}$. Compute the approximation using\n", 
            "a well chosen hard threshold value $T$.\n", 
            "Note that the inverse wavelet transform is obtained by replacing the +1\n", 
            "by a -1 in the definition of the transform.\n", 
            "\n", 
            "\n", 
            "\n", 
            "\n", 
            "\n", 
            "\n", 
            ""
          ]
        }, 
        {
          "cell_type": "code", 
          "collapsed": false, 
          "input": [
            "## Insert your code here."
          ], 
          "language": "python", 
          "outputs": []
        }, 
        {
          "cell_type": "markdown", 
          "metadata": {}, 
          "source": [
            "\n", 
            "\n", 
            ""
          ]
        }, 
        {
          "cell_type": "heading", 
          "level": 3, 
          "metadata": {}, 
          "source": [
            "Exercise 5"
          ]
        }, 
        {
          "cell_type": "markdown", 
          "metadata": {}, 
          "source": [
            "\n", 
            "Compute and display in log-scale the non-linear approximation\n", 
            "error $\\epsilon[M]^2$.\n", 
            "Compares the Fourier and wavelets approximations.\n", 
            "Store the values of $\\epsilon[M]^2$ in a vector |err_wav|.\n", 
            "\n", 
            "\n", 
            "\n", 
            "\n", 
            "\n", 
            "\n", 
            "\n", 
            "\n", 
            "\n", 
            "\n", 
            "\n", 
            "\n", 
            "\n", 
            "\n", 
            "\n", 
            "\n", 
            "\n", 
            "\n", 
            "\n", 
            ""
          ]
        }, 
        {
          "cell_type": "code", 
          "collapsed": false, 
          "input": [
            "## Insert your code here."
          ], 
          "language": "python", 
          "outputs": []
        }, 
        {
          "cell_type": "markdown", 
          "metadata": {}, 
          "source": [
            "\n", 
            "\n", 
            ""
          ]
        }, 
        {
          "cell_type": "heading", 
          "level": 2, 
          "metadata": {}, 
          "source": [
            "Cosine Approximation\n"
          ]
        }, 
        {
          "cell_type": "markdown", 
          "metadata": {}, 
          "source": [
            "The discrete cosine approximation (DCT) is similar to the Fourier\n", 
            "approximation, excepted that it used symmetric boundary condition instead\n", 
            "of periodic boundary condition, and is thus more useful to approximate\n", 
            "image.\n", 
            "\n", 
            "\n", 
            "A 1-D cosine atom of $n$ sample is defined as\n", 
            "$$ \\bar\\psi_m(x) = \\frac{1}{\\sqrt{N}} \\cos\\pa{ \\frac{2\\pi}{N} (x-1/2) m }. $$\n", 
            "A 2-D cosine atom is obtained by tensor product of 1-D atoms\n", 
            "$$ \\psi_{m_1,m_2}(x_1,x_2) = \\bar\\psi_{m_1}(x_1) \\bar\\psi_{m_2}(x_2). $$\n", 
            "On the contrary to the Fourier 2-D atoms, these 2-D DCT atoms are not\n", 
            "oriented (they contains 4 Fourier frequencies).\n", 
            "\n", 
            "\n", 
            "The set of inner products $ \\{ \\dotp{f}{\\psi_m} \\}_m $ is computed in\n", 
            "$O(N \\log(N))$ operations with the 2-D Fast Cosine Transform\n", 
            "algorithm (the Matlab function is |dct2|).\n", 
            ""
          ]
        }, 
        {
          "cell_type": "code", 
          "collapsed": false, 
          "input": [
            "fC = dct2(f)"
          ], 
          "language": "python", 
          "outputs": []
        }, 
        {
          "cell_type": "markdown", 
          "metadata": {}, 
          "source": [
            "\n", 
            "\n", 
            "Display the magnitude of the DCT coefficients.\n", 
            "Note that the low frequencies are in the upper-left corner.\n", 
            ""
          ]
        }, 
        {
          "cell_type": "code", 
          "collapsed": false, 
          "input": [
            "\n", 
            "imageplot(log(1e-5+abs(fC)))"
          ], 
          "language": "python", 
          "outputs": []
        }, 
        {
          "cell_type": "markdown", 
          "metadata": {}, 
          "source": [
            "\n", 
            ""
          ]
        }, 
        {
          "cell_type": "heading", 
          "level": 3, 
          "metadata": {}, 
          "source": [
            "Exercise 6"
          ]
        }, 
        {
          "cell_type": "markdown", 
          "metadata": {}, 
          "source": [
            "\n", 
            "Compute a best $M$-term approximation in the wavelet basis of $f$, for\n", 
            "$M \\in \\{N/100, N/20\\}$. Compute the approximation using\n", 
            "a well chosen hard threshold value $T$. Note that the inverse DCT\n", 
            "transform is obtained with the function |idct2|.\n", 
            "\n", 
            "\n", 
            "\n", 
            "\n", 
            "\n", 
            "\n", 
            ""
          ]
        }, 
        {
          "cell_type": "code", 
          "collapsed": false, 
          "input": [
            "## Insert your code here."
          ], 
          "language": "python", 
          "outputs": []
        }, 
        {
          "cell_type": "markdown", 
          "metadata": {}, 
          "source": [
            "\n", 
            ""
          ]
        }, 
        {
          "cell_type": "heading", 
          "level": 3, 
          "metadata": {}, 
          "source": [
            "Exercise 7"
          ]
        }, 
        {
          "cell_type": "markdown", 
          "metadata": {}, 
          "source": [
            "\n", 
            "Compute and display in log-scale the non-linear approximation\n", 
            "error $\\epsilon[M]^2$.\n", 
            "Compares the Fourier and DCT approximations.\n", 
            "Store the values of $\\epsilon[M]^2$ in a vector |err_dct|.\n", 
            "\n", 
            "\n", 
            "\n", 
            "\n", 
            "\n", 
            "\n", 
            "\n", 
            "\n", 
            "\n", 
            "\n", 
            "\n", 
            "\n", 
            "\n", 
            "\n", 
            "\n", 
            "\n", 
            "\n", 
            "\n", 
            "\n", 
            ""
          ]
        }, 
        {
          "cell_type": "code", 
          "collapsed": false, 
          "input": [
            "## Insert your code here."
          ], 
          "language": "python", 
          "outputs": []
        }, 
        {
          "cell_type": "markdown", 
          "metadata": {}, 
          "source": [
            "\n", 
            "\n", 
            ""
          ]
        }, 
        {
          "cell_type": "heading", 
          "level": 2, 
          "metadata": {}, 
          "source": [
            "Local Cosine Approximation\n"
          ]
        }, 
        {
          "cell_type": "markdown", 
          "metadata": {}, 
          "source": [
            "To improve the global DCT approximation, one can approximate\n", 
            "independantly small patches in the image. This corresponds to a\n", 
            "decomposition in a local cosine basis, which is at the heart\n", 
            "of the JPEG image compression standard.\n", 
            "\n", 
            "\n", 
            "The only parameter of the transform is the size of the square.\n", 
            ""
          ]
        }, 
        {
          "cell_type": "code", 
          "collapsed": false, 
          "input": [
            "w = 16"
          ], 
          "language": "python", 
          "outputs": []
        }, 
        {
          "cell_type": "markdown", 
          "metadata": {}, 
          "source": [
            "\n", 
            "\n", 
            "Initialize at zero the transformed image in the local DCT basis.\n", 
            ""
          ]
        }, 
        {
          "cell_type": "code", 
          "collapsed": false, 
          "input": [
            "fL = zeros(n,n)"
          ], 
          "language": "python", 
          "outputs": []
        }, 
        {
          "cell_type": "markdown", 
          "metadata": {}, 
          "source": [
            "\n", 
            "\n", 
            "Example of patch index.\n", 
            ""
          ]
        }, 
        {
          "cell_type": "code", 
          "collapsed": false, 
          "input": [
            "i = 5\n", 
            "j = 7"
          ], 
          "language": "python", 
          "outputs": []
        }, 
        {
          "cell_type": "markdown", 
          "metadata": {}, 
          "source": [
            "\n", 
            "\n", 
            "For a given path index |(i,j)|, we extract an |(w,w)| patch.\n", 
            ""
          ]
        }, 
        {
          "cell_type": "code", 
          "collapsed": false, 
          "input": [
            "seli = (i-1)*w+1:i*w\n", 
            "selj = (j-1)*w+1:j*w\n", 
            "P = f(seli,selj)"
          ], 
          "language": "python", 
          "outputs": []
        }, 
        {
          "cell_type": "markdown", 
          "metadata": {}, 
          "source": [
            "\n", 
            "\n", 
            "Compute the Cosine transform of the patch using the fast DCT algorithm.\n", 
            ""
          ]
        }, 
        {
          "cell_type": "code", 
          "collapsed": false, 
          "input": [
            "fL(seli,selj) = dct2(P)"
          ], 
          "language": "python", 
          "outputs": []
        }, 
        {
          "cell_type": "markdown", 
          "metadata": {}, 
          "source": [
            "\n", 
            "\n", 
            "Display the patch and its coefficients. We removed the low frequency of\n", 
            "|P| for display purpose only.\n", 
            ""
          ]
        }, 
        {
          "cell_type": "code", 
          "collapsed": false, 
          "input": [
            "\n", 
            "imageplot(P,'Patch',1,2,1)\n", 
            "imageplot(dct2(P-mean(P(:))),'DCT',1,2,2)"
          ], 
          "language": "python", 
          "outputs": []
        }, 
        {
          "cell_type": "heading", 
          "level": 3, 
          "metadata": {}, 
          "source": [
            "Exercise 8"
          ]
        }, 
        {
          "cell_type": "markdown", 
          "metadata": {}, 
          "source": [
            "\n", 
            "Compute the local DCT transform |fL| by transforming each patch.\n", 
            "\n", 
            "\n", 
            "\n", 
            "\n", 
            "\n", 
            "\n", 
            "\n", 
            ""
          ]
        }, 
        {
          "cell_type": "code", 
          "collapsed": false, 
          "input": [
            "## Insert your code here."
          ], 
          "language": "python", 
          "outputs": []
        }, 
        {
          "cell_type": "markdown", 
          "metadata": {}, 
          "source": [
            "\n", 
            "\n", 
            "\n", 
            "Display the coefficients.\n", 
            ""
          ]
        }, 
        {
          "cell_type": "code", 
          "collapsed": false, 
          "input": [
            "\n", 
            "imageplot(min(abs(fL),.005*w*w))"
          ], 
          "language": "python", 
          "outputs": []
        }, 
        {
          "cell_type": "heading", 
          "level": 3, 
          "metadata": {}, 
          "source": [
            "Exercise 9"
          ]
        }, 
        {
          "cell_type": "markdown", 
          "metadata": {}, 
          "source": [
            "\n", 
            "Compute the inverse local DCT transform  of the coefficients |fL| by inverse\n", 
            "transforming each patch using  the function |idct2|.\n", 
            "\n", 
            "\n", 
            "\n", 
            "\n", 
            "\n", 
            "\n", 
            "\n", 
            "\n", 
            ""
          ]
        }, 
        {
          "cell_type": "code", 
          "collapsed": false, 
          "input": [
            "## Insert your code here."
          ], 
          "language": "python", 
          "outputs": []
        }, 
        {
          "cell_type": "markdown", 
          "metadata": {}, 
          "source": [
            "\n", 
            ""
          ]
        }, 
        {
          "cell_type": "heading", 
          "level": 3, 
          "metadata": {}, 
          "source": [
            "Exercise 10"
          ]
        }, 
        {
          "cell_type": "markdown", 
          "metadata": {}, 
          "source": [
            "\n", 
            "Compute a few best |m|-term approximations in the Local DCT basis of\n", 
            "|f|.\n", 
            "\n", 
            "\n", 
            "\n", 
            "\n", 
            "\n", 
            "\n", 
            "\n", 
            "\n", 
            "\n", 
            "\n", 
            "\n", 
            "\n", 
            "\n", 
            "\n", 
            "\n", 
            ""
          ]
        }, 
        {
          "cell_type": "code", 
          "collapsed": false, 
          "input": [
            "## Insert your code here."
          ], 
          "language": "python", 
          "outputs": []
        }, 
        {
          "cell_type": "markdown", 
          "metadata": {}, 
          "source": [
            "\n", 
            ""
          ]
        }, 
        {
          "cell_type": "heading", 
          "level": 3, 
          "metadata": {}, 
          "source": [
            "Exercise 11"
          ]
        }, 
        {
          "cell_type": "markdown", 
          "metadata": {}, 
          "source": [
            "\n", 
            "Compute and display in log-scale the non-linear approximation\n", 
            "error $\\epsilon[M]^2$.\n", 
            "Store the values of $\\epsilon[M]^2$ in a vector |err_ldct|.\n", 
            "Compares the Fourier, Wavelets, DCT and local-DCT approximations.\n", 
            "\n", 
            "\n", 
            "\n", 
            "\n", 
            "\n", 
            "\n", 
            "\n", 
            "\n", 
            "\n", 
            "\n", 
            "\n", 
            "\n", 
            "\n", 
            "\n", 
            "\n", 
            "\n", 
            "\n", 
            "\n", 
            "\n", 
            "\n", 
            "\n", 
            "\n", 
            "\n", 
            "\n", 
            "\n", 
            "\n", 
            "\n", 
            ""
          ]
        }, 
        {
          "cell_type": "code", 
          "collapsed": false, 
          "input": [
            "## Insert your code here."
          ], 
          "language": "python", 
          "outputs": []
        }, 
        {
          "cell_type": "markdown", 
          "metadata": {}, 
          "source": [
            "\n", 
            ""
          ]
        }, 
        {
          "cell_type": "heading", 
          "level": 2, 
          "metadata": {}, 
          "source": [
            "Comparison of Wavelet Approximations of Several Images\n"
          ]
        }, 
        {
          "cell_type": "markdown", 
          "metadata": {}, 
          "source": [
            "An image is more complicated than an other one for a given orthogonal\n", 
            "basis if its approximation error decays more slowly.\n", 
            "\n", 
            "\n", 
            "First load several high resolution images.\n", 
            ""
          ]
        }, 
        {
          "cell_type": "code", 
          "collapsed": false, 
          "input": [
            "n = 512\n", 
            "fList(:,:,1) = rescale( load_image('regular3',n) )\n", 
            "fList(:,:,2) = rescale( load_image('phantom',n) )\n", 
            "fList(:,:,3) = rescale( load_image('lena',n) )\n", 
            "fList(:,:,4) = rescale( load_image('mandrill',n) )"
          ], 
          "language": "python", 
          "outputs": []
        }, 
        {
          "cell_type": "markdown", 
          "metadata": {}, 
          "source": [
            "\n", 
            "\n", 
            "\n", 
            "Display them.\n", 
            ""
          ]
        }, 
        {
          "cell_type": "code", 
          "collapsed": false, 
          "input": [
            "\n", 
            "for i in 1:4:\n", 
            "    imageplot(fList(:,:,i),'', 2,2,i)\n", 
            ""
          ], 
          "language": "python", 
          "outputs": []
        }, 
        {
          "cell_type": "heading", 
          "level": 3, 
          "metadata": {}, 
          "source": [
            "Exercise 12"
          ]
        }, 
        {
          "cell_type": "markdown", 
          "metadata": {}, 
          "source": [
            "\n", 
            "Compare the approximation error decay for those images.\n", 
            "Display $ \\log_{10}(\\norm{f-f_M}) $ as a function of $\\log_{10}(M)$.\n", 
            "\n", 
            "\n", 
            "\n", 
            "\n", 
            "\n", 
            "\n", 
            "\n", 
            "\n", 
            "\n", 
            "\n", 
            "\n", 
            "\n", 
            "\n", 
            "\n", 
            "\n", 
            "\n", 
            "\n", 
            "\n", 
            "\n", 
            "\n", 
            ""
          ]
        }, 
        {
          "cell_type": "code", 
          "collapsed": false, 
          "input": [
            "## Insert your code here."
          ], 
          "language": "python", 
          "outputs": []
        }
      ]
    }
  ]
}