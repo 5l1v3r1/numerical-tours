{
  "metadata": {
    "name": ""
  }, 
  "nbformat": 3, 
  "nbformat_minor": 0, 
  "worksheets": [
    {
      "cells": [
        {
          "cell_type": "heading", 
          "level": 1, 
          "metadata": {}, 
          "source": [
            "2-D Daubechies Wavelets"
          ]
        }, 
        {
          "cell_type": "markdown", 
          "metadata": {}, 
          "source": [
            "This numerical tour explores 2-D multiresolution analysis\n", 
            "with Daubchies wavelet transform.\n", 
            ""
          ]
        }, 
        {
          "cell_type": "markdown", 
          "metadata": {}, 
          "source": [
            "*Important:* You need to download the file `nt_toolbox.py` from the \n", 
            "root of the github repository.\n", 
            "$\\newcommand{\\dotp}[2]{\\langle #1, #2 \\rangle}\n", 
            "\\newcommand{\\enscond}[2]{\\lbrace #1, #2 \\rbrace}\n", 
            "\\newcommand{\\pd}[2]{ \\frac{ \\partial #1}{\\partial #2} }\n", 
            "\\newcommand{\\umin}[1]{\\underset{#1}{\\min}\\;}\n", 
            "\\newcommand{\\norm}[1]{\\|#1\\|}\n", 
            "\\newcommand{\\abs}[1]{\\left|#1\\right|}\n", 
            "\\newcommand{\\choice}[1]{ \\left\\{  \\begin{array}{l} #1 \\end{array} \\right. }\n", 
            "\\newcommand{\\pa}[1]{\\left(#1\\right)}\n", 
            "\\newcommand{\\qandq}{\\quad\\text{and}\\quad}\n", 
            "\\newcommand{\\qwhereq}{\\quad\\text{where}\\quad}\n", 
            "\\newcommand{\\qifq}{ \\quad \\text{if} \\quad }\n", 
            "\\newcommand{\\qarrq}{ \\quad \\Longrightarrow \\quad }\n", 
            "\\newcommand{\\ZZ}{\\mathbb{Z}}\n", 
            "\\newcommand{\\RR}{\\mathbb{R}}\n", 
            "\\newcommand{\\Nn}{\\mathcal{N}}\n", 
            "\\newcommand{\\Hh}{\\mathcal{H}}\n", 
            "\\newcommand{\\Bb}{\\mathcal{B}}\n", 
            "\\newcommand{\\EE}{\\mathbb{E}}\n", 
            "\\newcommand{\\CC}{\\mathbb{C}}\n", 
            "\\newcommand{\\si}{\\sigma}\n", 
            "\\newcommand{\\al}{\\alpha}\n", 
            "\\newcommand{\\la}{\\lambda}\n", 
            "\\newcommand{\\ga}{\\gamma}\n", 
            "\\newcommand{\\Ga}{\\Gamma}\n", 
            "\\newcommand{\\La}{\\Lambda}\n", 
            "\\newcommand{\\si}{\\sigma}\n", 
            "\\newcommand{\\Si}{\\Sigma}\n", 
            "\\newcommand{\\be}{\\beta}\n", 
            "\\newcommand{\\de}{\\delta}\n", 
            "\\newcommand{\\De}{\\Delta}\n", 
            "\\renewcommand{\\phi}{\\varphi}\n", 
            "\\renewcommand{\\th}{\\theta}\n", 
            "\\newcommand{\\om}{\\omega}\n", 
            "\\newcommand{\\Om}{\\Omega}\n", 
            "$"
          ]
        }, 
        {
          "cell_type": "code", 
          "collapsed": false, 
          "input": [
            "from nt_toolbox import *", 
            "%matplotlib inline", 
            "%load_ext autoreload", 
            "%autoreload 2"
          ], 
          "language": "python", 
          "outputs": []
        }, 
        {
          "cell_type": "markdown", 
          "metadata": {}, 
          "source": [
            "\n", 
            ""
          ]
        }, 
        {
          "cell_type": "heading", 
          "level": 2, 
          "metadata": {}, 
          "source": [
            "Wavelets Filters\r\n"
          ]
        }, 
        {
          "cell_type": "markdown", 
          "metadata": {}, 
          "source": [
            "The 2-D wavelet transform of a continuous image $f(x)$ computes the set\n", 
            "of inner products\n", 
            "$$ d_j^k[n] = \\dotp{f}{\\psi_{j,n}^k} $$\n", 
            "for scales $ j \\in \\ZZ\n", 
            "$, position $ n \\in \\ZZ^2 $ and orientation $ k \\in \\{H,V,D\\} $.\n", 
            "\n", 
            "\n", 
            "The wavelet atoms are defined by scaling and translating three mother\n", 
            "atoms $ \\{\\psi^H,\\psi^V,\\psi^D\\} $:\n", 
            "$$ \\psi_{j,n}^k(x) = \\frac{1}{2^j}\\psi^k\\pa{\\frac{x-2^j n}{2^j}}  $$\n", 
            "These oriented wavelets are defined by a tensor product of a 1-D wavelet\n", 
            "function $\\psi(t)$ and a 1-D scaling function $\\phi(t)$\n", 
            "$$ \\psi^H(x)=\\phi(x_1)\\psi(x_2), \\quad  \\psi^V(x)=\\psi(x_1)\\phi(x_2)\n", 
            "\\qandq \\psi^D(x)=\\psi(x_1)\\psi(x_2).$$\n", 
            "\n", 
            "\n", 
            "The fast wavelet transform algorithm does not make use of the wavelet and scaling functions,\n", 
            "but of the filters $h$ and $g$ that caracterize their interaction:\n", 
            "$$ g[n] = \\frac{1}{\\sqrt{2}}\\dotp{\\psi(t/2)}{\\phi(t-n)}\n", 
            "\\qandq h[n] = \\frac{1}{\\sqrt{2}}\\dotp{\\phi(t/2)}{\\phi(t-n)}. $$\n", 
            "\n", 
            "\n", 
            "The simplest filters are the Haar filters\n", 
            "$$ h = [1, 1]/\\sqrt{2} \\qandq g = [-1, 1]/\\sqrt{2}. $$\n", 
            "\n", 
            "\n", 
            "Daubechies wavelets extends the haar wavelets by using longer\n", 
            "filters, that produce smoother scaling functions and wavelets.\n", 
            "Furthermore, the larger the size $p=2k$ of the filter, the higher is the number\n", 
            "$k$ of vanishing moment.\n", 
            "\n", 
            "\n", 
            "A high number of vanishing moments allows to better compress regular\n", 
            "parts of the signal. However, increasing the number of vanishing moments\n", 
            "also inceases the size of the support of the wavelets, wich can be\n", 
            "problematic in part where the signal is singular (for instance\n", 
            "discontinuous).\n", 
            "\n", 
            "\n", 
            "Choosing the _best_ wavelet, and thus choosing $k$, that is adapted to a\n", 
            "given class of signals, thus corresponds to\n", 
            "a tradeoff between efficiency in regular and singular parts.\n", 
            "\n", 
            "\n", 
            "* The filter with $k=1$ vanishing moments corresponds to the Haar filter.\n", 
            "* The filter with $k=2$ vanishing moments corresponds to the famous |D4| wavelet, which compresses perfectly linear signals.\n", 
            "* The filter with $k=3$ vanishing moments compresses perfectly quadratic signals.\n", 
            "\n", 
            "\n", 
            "Set the support size.\n", 
            "To begin, we select the D4 filter.\n", 
            ""
          ]
        }, 
        {
          "cell_type": "code", 
          "collapsed": false, 
          "input": [
            "p = 4"
          ], 
          "language": "python", 
          "outputs": []
        }, 
        {
          "cell_type": "markdown", 
          "metadata": {}, 
          "source": [
            "\n", 
            "\n", 
            "Create the low pass filter $h$ and the high pass $g$. We add a zero to ensure that it has a odd\n", 
            "length. Note that the central value of $h$ corresponds to the 0 position.\n", 
            ""
          ]
        }, 
        {
          "cell_type": "code", 
          "collapsed": false, 
          "input": [
            "[h,g] = compute_wavelet_filter('Daubechies',p)"
          ], 
          "language": "python", 
          "outputs": []
        }, 
        {
          "cell_type": "markdown", 
          "metadata": {}, 
          "source": [
            "\n", 
            "\n", 
            "Note that the high pass filter $g$ is computed directly from the low\n", 
            "pass filter as:\n", 
            "$$g[n] = (-1)^{1-n}h[1-n]$$\n", 
            "\n", 
            "\n", 
            "Display.\n", 
            ""
          ]
        }, 
        {
          "cell_type": "code", 
          "collapsed": false, 
          "input": [
            "disp(['h filter = [' num2str(h) ']'])\n", 
            "disp(['g filter = [' num2str(g) ']'])"
          ], 
          "language": "python", 
          "outputs": []
        }, 
        {
          "cell_type": "heading", 
          "level": 2, 
          "metadata": {}, 
          "source": [
            "Up and Down Filtering\r\n"
          ]
        }, 
        {
          "cell_type": "markdown", 
          "metadata": {}, 
          "source": [
            "The basic wavelet operation is low/high filtering, followed by down\n", 
            "sampling.\n", 
            "\n", 
            "\n", 
            "Starting from some 1-D signal $f \\in \\RR^N$, one thus compute the\n", 
            "low pass signal $a \\in \\RR^{N/2}$ and the high pass\n", 
            "signal $d \\in \\RR^{N/2}$ as\n", 
            "$$ a = (f \\star h) \\downarrow 2 \\qandq\n", 
            "d = (f \\star g) \\downarrow 2$$\n", 
            "where the sub-sampling is defined as\n", 
            "$$ (u \\downarrow 2)[k] = u[2k]. $$\n", 
            "\n", 
            "\n", 
            "Create a random signal $f \\in \\RR^N$.\n", 
            ""
          ]
        }, 
        {
          "cell_type": "code", 
          "collapsed": false, 
          "input": [
            "N = 256\n", 
            "f = rand(N,1)"
          ], 
          "language": "python", 
          "outputs": []
        }, 
        {
          "cell_type": "markdown", 
          "metadata": {}, 
          "source": [
            "\n", 
            "\n", 
            "Low/High pass filtering followed by sub-sampling.\n", 
            ""
          ]
        }, 
        {
          "cell_type": "code", 
          "collapsed": false, 
          "input": [
            "a = subsampling( cconv(f,h) )\n", 
            "d = subsampling( cconv(f,g) )"
          ], 
          "language": "python", 
          "outputs": []
        }, 
        {
          "cell_type": "markdown", 
          "metadata": {}, 
          "source": [
            "\n", 
            "\n", 
            "For orthogonal filters, the reverse of this process is its dual\n", 
            "(aka its transpose), which is upsampling followed by low/high pass\n", 
            "filtering with the reversed filters and summing:\n", 
            "$$ (a \\uparrow h) \\star \\tilde h + (d \\uparrow g) \\star \\tilde g = f $$\n", 
            "where $\\tilde h[n]=h[-n]$ (computed modulo $N$) and\n", 
            "$ (u \\uparrow 2)[2n]=u[n] $ and  $ (u \\uparrow 2)[2n+1]=0 $.\n", 
            "\n", 
            "\n", 
            "Up-sampling followed by filtering.\n", 
            ""
          ]
        }, 
        {
          "cell_type": "code", 
          "collapsed": false, 
          "input": [
            "f1 =  cconv(upsampling(a),reverse(h)) + cconv(upsampling(d),reverse(g))"
          ], 
          "language": "python", 
          "outputs": []
        }, 
        {
          "cell_type": "markdown", 
          "metadata": {}, 
          "source": [
            "\n", 
            "\n", 
            "Check that we really recover the same signal.\n", 
            ""
          ]
        }, 
        {
          "cell_type": "code", 
          "collapsed": false, 
          "input": [
            "disp(strcat((['Error |f-f1|/|f| = ' num2str(norm(f-f1)/norm(f))])))"
          ], 
          "language": "python", 
          "outputs": []
        }, 
        {
          "cell_type": "heading", 
          "level": 2, 
          "metadata": {}, 
          "source": [
            "Forward 2-D Wavelet transform\r\n"
          ]
        }, 
        {
          "cell_type": "markdown", 
          "metadata": {}, 
          "source": [
            "The set of wavelet coefficients are computed with a fast algorithm that\n", 
            "exploit the embedding of the approximation spaces $V_j$ spanned by the\n", 
            "scaling function $ \\{ \\phi_{j,n} \\}_n $ defined as\n", 
            "$$ \\phi_{j,n}(x) = \\frac{1}{2^j}\\phi^0\\pa{\\frac{x-2^j n}{2^j}}\n", 
            "\\qwhereq \\phi^0(x)=\\phi(x_1)\\phi(x_2). $$\n", 
            "\n", 
            "\n", 
            "The wavelet transform of $f$ is computed by using intermediate discretized low\n", 
            "resolution images obtained by projection on the spaces $V_j$:\n", 
            "$$ a_j[n] = \\dotp{f}{\\phi_{j,n}}. $$\n", 
            "\n", 
            "\n", 
            "First we load an image of $N= n \\times n$ pixels.\n", 
            ""
          ]
        }, 
        {
          "cell_type": "code", 
          "collapsed": false, 
          "input": [
            "n = 256\n", 
            "name = 'hibiscus'\n", 
            "f = load_image(name,n)\n", 
            "f = rescale( sum(f,3) )"
          ], 
          "language": "python", 
          "outputs": []
        }, 
        {
          "cell_type": "markdown", 
          "metadata": {}, 
          "source": [
            "\n", 
            "\n", 
            "The algorithm starts at the coarsest scale $ j=\\log_2(n)-1 $\n", 
            ""
          ]
        }, 
        {
          "cell_type": "code", 
          "collapsed": false, 
          "input": [
            "j = log2(n)-1"
          ], 
          "language": "python", 
          "outputs": []
        }, 
        {
          "cell_type": "markdown", 
          "metadata": {}, 
          "source": [
            "\n", 
            "\n", 
            "The first step of the algorithm perform filtering/downsampling in the\n", 
            "horizontal direction.\n", 
            "\n", 
            "\n", 
            "$$ \\tilde a_{j-1} = (a_j \\star^H h) \\downarrow^{2,H}  \\qandq\n", 
            "   \\tilde d_{j-1} = (a_j \\star^H g) \\downarrow^{2,H}$$\n", 
            "\n", 
            "\n", 
            "Here, the operator $\\star^H$ and $\\downarrow^{2,H}$\n", 
            "are defined by applying $\\star$ and $\\downarrow^2$\n", 
            "to each column of the matrix.\n", 
            "\n", 
            "\n", 
            "The second step computes the filtering/downsampling in the vertical\n", 
            "direction.\n", 
            "\n", 
            "\n", 
            "$$ a_{j-1}   = (\\tilde a_j \\star^V h) \\downarrow^{2,V}  \\qandq\n", 
            "   d_{j-1}^V = (\\tilde a_j \\star^V g) \\downarrow^{2,V},$$\n", 
            "$$ d_{j-1}^H = (\\tilde d_j \\star^V h) \\downarrow^{2,V}  \\qandq\n", 
            "   d_{j-1}^D = (\\tilde d_j \\star^V g) \\downarrow^{2,V}.$$\n", 
            "\n", 
            "\n", 
            "\n", 
            "A wavelet transform is\n", 
            "computed by iterating high pass and loss pass filterings with |h| and |g|, followed by sub-samplings.\n", 
            "Since we are in 2-D, we need to compute these filterings+subsamplings\n", 
            "in the horizontal and then in the vertical direction (or\n", 
            "in the reverse order, it does not mind).\n", 
            "\n", 
            "\n", 
            "\n", 
            "Initialize the transformed coefficients as the image itself and set the\n", 
            "initial scale as the maximum one.\n", 
            "|fW| will be iteratively transformated and will contains the\n", 
            "coefficients.\n", 
            ""
          ]
        }, 
        {
          "cell_type": "code", 
          "collapsed": false, 
          "input": [
            "fW = f"
          ], 
          "language": "python", 
          "outputs": []
        }, 
        {
          "cell_type": "markdown", 
          "metadata": {}, 
          "source": [
            "\n", 
            "\n", 
            "Select the sub-part of the image to transform.\n", 
            ""
          ]
        }, 
        {
          "cell_type": "code", 
          "collapsed": false, 
          "input": [
            "A = fW(1:2^(j+1),1:2^(j+1))"
          ], 
          "language": "python", 
          "outputs": []
        }, 
        {
          "cell_type": "markdown", 
          "metadata": {}, 
          "source": [
            "\n", 
            "\n", 
            "Apply high and low filtering+subsampling in the vertical direction (1st ooordinate),\n", 
            "to get coarse and details.\n", 
            ""
          ]
        }, 
        {
          "cell_type": "code", 
          "collapsed": false, 
          "input": [
            "Coarse = subsampling(cconv(A,h,1),1)\n", 
            "Detail = subsampling(cconv(A,g,1),1)"
          ], 
          "language": "python", 
          "outputs": []
        }, 
        {
          "cell_type": "markdown", 
          "metadata": {}, 
          "source": [
            "\n", 
            "\n", 
            "_Note:_ |subsamplling(A,1)| is equivalent to |A(1:2:end,:)| and\n", 
            "|subsamplling(A,2)| is equivalent to |A(:,1:2:end)|.\n", 
            "\n", 
            "\n", 
            "Concatenate them in the vertical direction to get the result.\n", 
            ""
          ]
        }, 
        {
          "cell_type": "code", 
          "collapsed": false, 
          "input": [
            "A = cat3(1, Coarse, Detail )"
          ], 
          "language": "python", 
          "outputs": []
        }, 
        {
          "cell_type": "markdown", 
          "metadata": {}, 
          "source": [
            "\n", 
            "\n", 
            "Display the result of the vertical transform.\n", 
            ""
          ]
        }, 
        {
          "cell_type": "code", 
          "collapsed": false, 
          "input": [
            "\n", 
            "imageplot(f,'Original imge',1,2,1)\n", 
            "imageplot(A,'Vertical transform',1,2,2)"
          ], 
          "language": "python", 
          "outputs": []
        }, 
        {
          "cell_type": "markdown", 
          "metadata": {}, 
          "source": [
            "\n", 
            "\n", 
            "Apply high and low filtering+subsampling in the horizontal direction (2nd ooordinate),\n", 
            "to get coarse and details.\n", 
            ""
          ]
        }, 
        {
          "cell_type": "code", 
          "collapsed": false, 
          "input": [
            "Coarse = subsampling(cconv(A,h,2),2)\n", 
            "Detail = subsampling(cconv(A,g,2),2)"
          ], 
          "language": "python", 
          "outputs": []
        }, 
        {
          "cell_type": "markdown", 
          "metadata": {}, 
          "source": [
            "\n", 
            "\n", 
            "Concatenate them in the horizontal direction to get the result.\n", 
            ""
          ]
        }, 
        {
          "cell_type": "code", 
          "collapsed": false, 
          "input": [
            "A = cat3(2, Coarse, Detail )"
          ], 
          "language": "python", 
          "outputs": []
        }, 
        {
          "cell_type": "markdown", 
          "metadata": {}, 
          "source": [
            "\n", 
            "\n", 
            "Assign the transformed data.\n", 
            ""
          ]
        }, 
        {
          "cell_type": "code", 
          "collapsed": false, 
          "input": [
            "fW(1:2^(j+1),1:2^(j+1)) = A"
          ], 
          "language": "python", 
          "outputs": []
        }, 
        {
          "cell_type": "markdown", 
          "metadata": {}, 
          "source": [
            "\n", 
            "\n", 
            "Display the result of the horizontal transform.\n", 
            ""
          ]
        }, 
        {
          "cell_type": "code", 
          "collapsed": false, 
          "input": [
            "\n", 
            "imageplot(f,'Original image',1,2,1)\n", 
            "subplot(1,2,2)\n", 
            "plot_wavelet(fW,log2(n)-1); title('Transformed')\r\n"
          ], 
          "language": "python", 
          "outputs": []
        }, 
        {
          "cell_type": "heading", 
          "level": 3, 
          "metadata": {}, 
          "source": [
            "Exercise 1"
          ]
        }, 
        {
          "cell_type": "markdown", 
          "metadata": {}, 
          "source": [
            "\n", 
            "Implement a full wavelet transform that extract iteratively wavelet\n", 
            "coefficients, by repeating these steps. Take care of choosing the\n", 
            "correct number of steps.\n", 
            "\n", 
            "\n", 
            "\n", 
            "\n", 
            "\n", 
            "\n", 
            "\n", 
            "\n", 
            "\n", 
            "\n", 
            "\n", 
            "\n", 
            "\n", 
            "\n", 
            "\n", 
            "\n", 
            "\n", 
            "\n", 
            ""
          ]
        }, 
        {
          "cell_type": "code", 
          "collapsed": false, 
          "input": [
            "## Insert your code here."
          ], 
          "language": "python", 
          "outputs": []
        }, 
        {
          "cell_type": "markdown", 
          "metadata": {}, 
          "source": [
            "\n", 
            "\n", 
            "\n", 
            "Check for orthogonality of the transform (conservation of energy).\n", 
            ""
          ]
        }, 
        {
          "cell_type": "code", 
          "collapsed": false, 
          "input": [
            "disp(strcat(['Energy of the signal       = ' num2str(norm(f(:)).^2)]))\n", 
            "disp(strcat(['Energy of the coefficients = ' num2str(norm(fW(:)).^2)]))"
          ], 
          "language": "python", 
          "outputs": []
        }, 
        {
          "cell_type": "markdown", 
          "metadata": {}, 
          "source": [
            "\n", 
            "\n", 
            "Display the wavelet coefficients.\n", 
            ""
          ]
        }, 
        {
          "cell_type": "code", 
          "collapsed": false, 
          "input": [
            "\n", 
            "subplot(1,2,1)\n", 
            "imageplot(f); title('Original')\n", 
            "subplot(1,2,2)\n", 
            "plot_wavelet(fW, 1); title('Transformed')"
          ], 
          "language": "python", 
          "outputs": []
        }, 
        {
          "cell_type": "heading", 
          "level": 2, 
          "metadata": {}, 
          "source": [
            "Inverse 2-D Wavelet transform.\r\n"
          ]
        }, 
        {
          "cell_type": "markdown", 
          "metadata": {}, 
          "source": [
            "Inversing the wavelet transform means retrieving a signal |f1| from the\n", 
            "coefficients |fW|. If |fW| are exactely the coefficients of |f|, then\n", 
            "|f=f1| up to machine precision.\n", 
            "\n", 
            "\n", 
            "Initialize the image to recover |f1| as the transformed coefficient, and\n", 
            "select the smallest possible scale.\n", 
            ""
          ]
        }, 
        {
          "cell_type": "code", 
          "collapsed": false, 
          "input": [
            "f1 = fW\n", 
            "j = 0"
          ], 
          "language": "python", 
          "outputs": []
        }, 
        {
          "cell_type": "markdown", 
          "metadata": {}, 
          "source": [
            "\n", 
            "\n", 
            "Select the sub-coefficient to transform.\n", 
            ""
          ]
        }, 
        {
          "cell_type": "code", 
          "collapsed": false, 
          "input": [
            "A = f1(1:2^(j+1),1:2^(j+1))"
          ], 
          "language": "python", 
          "outputs": []
        }, 
        {
          "cell_type": "markdown", 
          "metadata": {}, 
          "source": [
            "\n", 
            "\n", 
            "\n", 
            "Retrieve coarse and detail coefficients in the vertical direction (you\n", 
            "can begin by the other direction, this has no importance).\n", 
            ""
          ]
        }, 
        {
          "cell_type": "code", 
          "collapsed": false, 
          "input": [
            "Coarse = A(1:2^j,:)\n", 
            "Detail = A(2^j+1:2^(j+1),:)"
          ], 
          "language": "python", 
          "outputs": []
        }, 
        {
          "cell_type": "markdown", 
          "metadata": {}, 
          "source": [
            "\n", 
            "\n", 
            "Undo the transform by up-sampling and then dual filtering.\n", 
            ""
          ]
        }, 
        {
          "cell_type": "code", 
          "collapsed": false, 
          "input": [
            "Coarse = cconv(upsampling(Coarse,1),reverse(h),1)\n", 
            "Detail = cconv(upsampling(Detail,1),reverse(g),1)"
          ], 
          "language": "python", 
          "outputs": []
        }, 
        {
          "cell_type": "markdown", 
          "metadata": {}, 
          "source": [
            "\n", 
            "\n", 
            "Recover the coefficient by summing.\n", 
            ""
          ]
        }, 
        {
          "cell_type": "code", 
          "collapsed": false, 
          "input": [
            "A = Coarse + Detail"
          ], 
          "language": "python", 
          "outputs": []
        }, 
        {
          "cell_type": "markdown", 
          "metadata": {}, 
          "source": [
            "\n", 
            "\n", 
            "Retrieve coarse and detail coefficients in the vertical direction (you\n", 
            "can begin by the other direction, this has no importance).\n", 
            ""
          ]
        }, 
        {
          "cell_type": "code", 
          "collapsed": false, 
          "input": [
            "Coarse = A(:,1:2^j)\n", 
            "Detail = A(:,2^j+1:2^(j+1))"
          ], 
          "language": "python", 
          "outputs": []
        }, 
        {
          "cell_type": "markdown", 
          "metadata": {}, 
          "source": [
            "\n", 
            "\n", 
            "Undo the transform by up-sampling and then dual filtering.\n", 
            ""
          ]
        }, 
        {
          "cell_type": "code", 
          "collapsed": false, 
          "input": [
            "Coarse = cconv(upsampling(Coarse,2),reverse(h),2)\n", 
            "Detail = cconv(upsampling(Detail,2),reverse(g),2)"
          ], 
          "language": "python", 
          "outputs": []
        }, 
        {
          "cell_type": "markdown", 
          "metadata": {}, 
          "source": [
            "\n", 
            "\n", 
            "Recover the coefficient by summing.\n", 
            ""
          ]
        }, 
        {
          "cell_type": "code", 
          "collapsed": false, 
          "input": [
            "A = Coarse + Detail"
          ], 
          "language": "python", 
          "outputs": []
        }, 
        {
          "cell_type": "markdown", 
          "metadata": {}, 
          "source": [
            "\n", 
            "\n", 
            "Assign the result.\n", 
            ""
          ]
        }, 
        {
          "cell_type": "code", 
          "collapsed": false, 
          "input": [
            "f1(1:2^(j+1),1:2^(j+1)) = A"
          ], 
          "language": "python", 
          "outputs": []
        }, 
        {
          "cell_type": "heading", 
          "level": 3, 
          "metadata": {}, 
          "source": [
            "Exercise 2"
          ]
        }, 
        {
          "cell_type": "markdown", 
          "metadata": {}, 
          "source": [
            "\n", 
            "Write the inverse wavelet transform that computes |f1| from the\n", 
            "coefficients |fW|. Compare |f1| with |f|.\n", 
            "\n", 
            "\n", 
            "\n", 
            "\n", 
            "\n", 
            "\n", 
            "\n", 
            "\n", 
            "\n", 
            "\n", 
            "\n", 
            "\n", 
            "\n", 
            "\n", 
            "\n", 
            "\n", 
            "\n", 
            "\n", 
            "\n", 
            "\n", 
            "\n", 
            "\n", 
            ""
          ]
        }, 
        {
          "cell_type": "code", 
          "collapsed": false, 
          "input": [
            "## Insert your code here."
          ], 
          "language": "python", 
          "outputs": []
        }, 
        {
          "cell_type": "markdown", 
          "metadata": {}, 
          "source": [
            "\n", 
            "\n", 
            "\n", 
            "Check that we recover exactly the original image.\n", 
            ""
          ]
        }, 
        {
          "cell_type": "code", 
          "collapsed": false, 
          "input": [
            "disp(strcat((['Error |f-f1|/|f| = ' num2str(norm(f(:)-f1(:))/norm(f(:)))])))"
          ], 
          "language": "python", 
          "outputs": []
        }, 
        {
          "cell_type": "heading", 
          "level": 2, 
          "metadata": {}, 
          "source": [
            "Linear 2-D Wavelet Approximation\r\n"
          ]
        }, 
        {
          "cell_type": "markdown", 
          "metadata": {}, 
          "source": [
            "Linear approximation is performed by setting to zero the fine scale wawelets coefficients\n", 
            "and then performing the inverse wavelet transform.\n", 
            "\n", 
            "\n", 
            "Here we keep only 1/16 of the wavelet coefficient, thus calculating an |m|\n", 
            "term approximation with |m=n^2/16|.\n", 
            ""
          ]
        }, 
        {
          "cell_type": "code", 
          "collapsed": false, 
          "input": [
            "eta = 4\n", 
            "fWLin = zeros(n,n)\n", 
            "fWLin(1:n/eta,1:n/eta) = fW(1:n/eta,1:n/eta)"
          ], 
          "language": "python", 
          "outputs": []
        }, 
        {
          "cell_type": "heading", 
          "level": 3, 
          "metadata": {}, 
          "source": [
            "Exercise 3"
          ]
        }, 
        {
          "cell_type": "markdown", 
          "metadata": {}, 
          "source": [
            "\n", 
            "Compute and display the linear approximation |fLin| obtained from the\n", 
            "coefficients |fWLin| by inverse wavelet transform.\n", 
            "\n", 
            "\n", 
            "\n", 
            "\n", 
            ""
          ]
        }, 
        {
          "cell_type": "code", 
          "collapsed": false, 
          "input": [
            "## Insert your code here."
          ], 
          "language": "python", 
          "outputs": []
        }, 
        {
          "cell_type": "markdown", 
          "metadata": {}, 
          "source": [
            "\n", 
            ""
          ]
        }, 
        {
          "cell_type": "heading", 
          "level": 2, 
          "metadata": {}, 
          "source": [
            "Non-Linear 2-D Wavelet Approximation\r\n"
          ]
        }, 
        {
          "cell_type": "markdown", 
          "metadata": {}, 
          "source": [
            "A non-linear |m|-term approximation is obtained by keeping only the |m|\n", 
            "largest coefficients, which creates the smallest possible error.\n", 
            "\n", 
            "\n", 
            "Removing the smallest coefficient, to keep the |m|-largest, is\n", 
            "equivalently obtainedby thresholding the coefficients to\n", 
            "set to 0 the smallest coefficients.\n", 
            "\n", 
            "\n", 
            "First select a threshold value (the largest the threshold, the more\n", 
            "agressive the approximation).\n", 
            ""
          ]
        }, 
        {
          "cell_type": "code", 
          "collapsed": false, 
          "input": [
            "T = .2"
          ], 
          "language": "python", 
          "outputs": []
        }, 
        {
          "cell_type": "markdown", 
          "metadata": {}, 
          "source": [
            "\n", 
            "\n", 
            "Then set to 0 coefficients with magnitude below the threshold.\n", 
            ""
          ]
        }, 
        {
          "cell_type": "code", 
          "collapsed": false, 
          "input": [
            "fWT = fW .* (abs(fW)>T)"
          ], 
          "language": "python", 
          "outputs": []
        }, 
        {
          "cell_type": "markdown", 
          "metadata": {}, 
          "source": [
            "\n", 
            "\n", 
            "Display thresholded coefficients.\n", 
            ""
          ]
        }, 
        {
          "cell_type": "code", 
          "collapsed": false, 
          "input": [
            "\n", 
            "subplot(1,2,1)\n", 
            "plot_wavelet(fW); axis('tight'); title('Original coefficients')\n", 
            "subplot(1,2,2)\n", 
            "plot_wavelet(fWT); axis('tight'); title('Thresholded coefficients')"
          ], 
          "language": "python", 
          "outputs": []
        }, 
        {
          "cell_type": "heading", 
          "level": 3, 
          "metadata": {}, 
          "source": [
            "Exercise 4"
          ]
        }, 
        {
          "cell_type": "markdown", 
          "metadata": {}, 
          "source": [
            "\n", 
            "Find the thresholds |T| so that the number |m| of remaining coefficients in\n", 
            "|fWT| are |m=n^2/16|. Use this threshold to compute |fWT| and then display\n", 
            "the corresponding approximation |Mnlin| of |f|. Compare this result with\n", 
            "the linear approximation.\n", 
            "number of kept coefficients\n", 
            "\n", 
            "compute the threshold T\n", 
            "\n", 
            "\n", 
            "select threshold\n", 
            "\n", 
            "\n", 
            "\n", 
            "\n", 
            "inverse transform\n", 
            "\n", 
            "\n", 
            "inverse\n", 
            "\n", 
            "display\n", 
            "\n", 
            "\n", 
            ""
          ]
        }, 
        {
          "cell_type": "code", 
          "collapsed": false, 
          "input": [
            "## Insert your code here."
          ], 
          "language": "python", 
          "outputs": []
        }, 
        {
          "cell_type": "markdown", 
          "metadata": {}, 
          "source": [
            "\n", 
            ""
          ]
        }, 
        {
          "cell_type": "heading", 
          "level": 3, 
          "metadata": {}, 
          "source": [
            "Exercise 5"
          ]
        }, 
        {
          "cell_type": "markdown", 
          "metadata": {}, 
          "source": [
            "\n", 
            "Try with\n", 
            "Different kind of wavelets, with an increasing number of vanishing\n", 
            "moments.\n", 
            "\n", 
            "\n", 
            "\n", 
            "\n", 
            "\n", 
            "\n", 
            "\n", 
            "\n", 
            "\n", 
            "\n", 
            "\n", 
            "\n", 
            "\n", 
            "\n", 
            "\n", 
            "\n", 
            "\n", 
            ""
          ]
        }, 
        {
          "cell_type": "code", 
          "collapsed": false, 
          "input": [
            "## Insert your code here."
          ], 
          "language": "python", 
          "outputs": []
        }, 
        {
          "cell_type": "markdown", 
          "metadata": {}, 
          "source": [
            "\n", 
            ""
          ]
        }, 
        {
          "cell_type": "heading", 
          "level": 2, 
          "metadata": {}, 
          "source": [
            "Separable 2-D Wavelet Transform\r\n"
          ]
        }, 
        {
          "cell_type": "markdown", 
          "metadata": {}, 
          "source": [
            "A forward wavelet transform is obtained by applying the 1D wavelet\n", 
            "transform to\n", 
            ""
          ]
        }, 
        {
          "cell_type": "heading", 
          "level": 3, 
          "metadata": {}, 
          "source": [
            "Exercise 6"
          ]
        }, 
        {
          "cell_type": "markdown", 
          "metadata": {}, 
          "source": [
            "\n", 
            "Implement the foward separable transform.\n", 
            "Wavelet transformm in 1D each column |f(:,i)| to obtain coefficients |fWSep(:,i)|.\n", 
            "Then re-transform each row |fWSep(i,:)'|, and store the result in |fW(i,:)'|.\n", 
            "\n", 
            "\n", 
            "\n", 
            "\n", 
            "\n", 
            "\n", 
            "\n", 
            ""
          ]
        }, 
        {
          "cell_type": "code", 
          "collapsed": false, 
          "input": [
            "## Insert your code here."
          ], 
          "language": "python", 
          "outputs": []
        }, 
        {
          "cell_type": "markdown", 
          "metadata": {}, 
          "source": [
            "\n", 
            "\n", 
            "\n", 
            "Display the result.\n", 
            ""
          ]
        }, 
        {
          "cell_type": "code", 
          "collapsed": false, 
          "input": [
            "\n", 
            "subplot(1,2,1)\n", 
            "opt.separable = 0\n", 
            "plot_wavelet(fW,1,opt)\n", 
            "title('Isotropic wavelets')\n", 
            "subplot(1,2,2)\n", 
            "opt.separable = 1\n", 
            "plot_wavelet(fWSep,1,opt)\n", 
            "title('Separable wavelets')"
          ], 
          "language": "python", 
          "outputs": []
        }, 
        {
          "cell_type": "heading", 
          "level": 3, 
          "metadata": {}, 
          "source": [
            "Exercise 7"
          ]
        }, 
        {
          "cell_type": "markdown", 
          "metadata": {}, 
          "source": [
            "\n", 
            "Implement the backward separable transform to recover an image |f1|\n", 
            "from the coefficients |fWSep|, which backward transform each row and then each columns.\n", 
            "\n", 
            "\n", 
            "\n", 
            "\n", 
            "\n", 
            "\n", 
            ""
          ]
        }, 
        {
          "cell_type": "code", 
          "collapsed": false, 
          "input": [
            "## Insert your code here."
          ], 
          "language": "python", 
          "outputs": []
        }, 
        {
          "cell_type": "markdown", 
          "metadata": {}, 
          "source": [
            "\n", 
            "\n", 
            "\n", 
            "Check that we recover exactly the original image.\n", 
            ""
          ]
        }, 
        {
          "cell_type": "code", 
          "collapsed": false, 
          "input": [
            "disp(strcat((['Error |f-f1|/|f| = ' num2str(norm(f(:)-f1(:))/norm(f(:)))])))"
          ], 
          "language": "python", 
          "outputs": []
        }, 
        {
          "cell_type": "heading", 
          "level": 3, 
          "metadata": {}, 
          "source": [
            "Exercise 8"
          ]
        }, 
        {
          "cell_type": "markdown", 
          "metadata": {}, 
          "source": [
            "\n", 
            "Perform |m=n^2/16|-terms best approximation with separable wavelet transform.\n", 
            "Compare the result with isotropic wavelet approximation.\n", 
            "\n", 
            "\n", 
            "\n", 
            "\n", 
            "\n", 
            "\n", 
            "\n", 
            "display\n", 
            "\n", 
            "\n", 
            ""
          ]
        }, 
        {
          "cell_type": "code", 
          "collapsed": false, 
          "input": [
            "## Insert your code here."
          ], 
          "language": "python", 
          "outputs": []
        }, 
        {
          "cell_type": "markdown", 
          "metadata": {}, 
          "source": [
            "\n", 
            ""
          ]
        }, 
        {
          "cell_type": "heading", 
          "level": 2, 
          "metadata": {}, 
          "source": [
            "The Shape of a Wavelet\r\n"
          ]
        }, 
        {
          "cell_type": "markdown", 
          "metadata": {}, 
          "source": [
            "An isotropic wavelet coefficient |fW[k]| corresponds to an inner product\n", 
            "|<f,psi_{j,p}^s>| where |k| depends on the scale |j| and the position |p| and the orientation\n", 
            "|s| (horizontal, vertical or diagonal).\n", 
            "\n", 
            "\n", 
            "The wavelet image  |f1 = psi_{j,p}| is computed by applying the inverse wavelet\n", 
            "transform to |fW| where |fW[k]=1| and |fW[l]=0| for |l \\neq k|.\n", 
            ""
          ]
        }, 
        {
          "cell_type": "heading", 
          "level": 3, 
          "metadata": {}, 
          "source": [
            "Exercise 9"
          ]
        }, 
        {
          "cell_type": "markdown", 
          "metadata": {}, 
          "source": [
            "\n", 
            "Compute wavelets at several scales and orientation.\n", 
            "Here we show only horizontal wavelets, in 2-D.\n", 
            "\n", 
            "\n", 
            "\n", 
            "\n", 
            "\n", 
            "\n", 
            "\n", 
            "\n", 
            "\n", 
            "\n", 
            "\n", 
            "\n", 
            "\n", 
            "\n", 
            "\n", 
            "\n", 
            "\n", 
            "\n", 
            "\n", 
            "\n", 
            "\n", 
            "\n", 
            "\n", 
            "\n", 
            "\n", 
            ""
          ]
        }, 
        {
          "cell_type": "code", 
          "collapsed": false, 
          "input": [
            "## Insert your code here."
          ], 
          "language": "python", 
          "outputs": []
        }, 
        {
          "cell_type": "markdown", 
          "metadata": {}, 
          "source": [
            "\n", 
            ""
          ]
        }, 
        {
          "cell_type": "heading", 
          "level": 3, 
          "metadata": {}, 
          "source": [
            "Exercise 10"
          ]
        }, 
        {
          "cell_type": "markdown", 
          "metadata": {}, 
          "source": [
            "\n", 
            "Display Daubechies wavelets with different orientation, for different number of VM.\n", 
            "\n", 
            "\n", 
            "\n", 
            "\n", 
            "\n", 
            "\n", 
            "\n", 
            "\n", 
            "\n", 
            "\n", 
            "\n", 
            "\n", 
            "\n", 
            "\n", 
            "\n", 
            "\n", 
            "\n", 
            "\n", 
            "\n", 
            "\n", 
            "\n", 
            "\n", 
            "\n", 
            "\n", 
            "\n", 
            "\n", 
            "\n", 
            "\n", 
            "\n", 
            "\n", 
            "\n", 
            "\n", 
            ""
          ]
        }, 
        {
          "cell_type": "code", 
          "collapsed": false, 
          "input": [
            "## Insert your code here."
          ], 
          "language": "python", 
          "outputs": []
        }
      ]
    }
  ]
}