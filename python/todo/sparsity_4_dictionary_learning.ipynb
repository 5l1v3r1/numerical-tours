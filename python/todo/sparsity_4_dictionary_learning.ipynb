{
  "metadata": {
    "name": ""
  }, 
  "nbformat": 3, 
  "nbformat_minor": 0, 
  "worksheets": [
    {
      "cells": [
        {
          "cell_type": "heading", 
          "level": 1, 
          "metadata": {}, 
          "source": [
            "Dictionary Learning"
          ]
        }, 
        {
          "cell_type": "markdown", 
          "metadata": {}, 
          "source": [
            "Instead of using a fixed data representation such as wavelets or Fourier,\n", 
            "one can learn the representation (the dictionary) to optimize the\n", 
            "sparsity of the representation for a large class of exemplar.\n", 
            ""
          ]
        }, 
        {
          "cell_type": "markdown", 
          "metadata": {}, 
          "source": [
            "*Important:* You need to download the file `nt_toolbox.py` from the \n", 
            "root of the github repository.\n", 
            "$\\newcommand{\\dotp}[2]{\\langle #1, #2 \\rangle}\n", 
            "\\newcommand{\\enscond}[2]{\\lbrace #1, #2 \\rbrace}\n", 
            "\\newcommand{\\pd}[2]{ \\frac{ \\partial #1}{\\partial #2} }\n", 
            "\\newcommand{\\umin}[1]{\\underset{#1}{\\min}\\;}\n", 
            "\\newcommand{\\norm}[1]{\\|#1\\|}\n", 
            "\\newcommand{\\abs}[1]{\\left|#1\\right|}\n", 
            "\\newcommand{\\choice}[1]{ \\left\\{  \\begin{array}{l} #1 \\end{array} \\right. }\n", 
            "\\newcommand{\\pa}[1]{\\left(#1\\right)}\n", 
            "\\newcommand{\\qandq}{\\quad\\text{and}\\quad}\n", 
            "\\newcommand{\\qwhereq}{\\quad\\text{where}\\quad}\n", 
            "\\newcommand{\\qifq}{ \\quad \\text{if} \\quad }\n", 
            "\\newcommand{\\qarrq}{ \\quad \\Longrightarrow \\quad }\n", 
            "\\newcommand{\\ZZ}{\\mathbb{Z}}\n", 
            "\\newcommand{\\RR}{\\mathbb{R}}\n", 
            "\\newcommand{\\Nn}{\\mathcal{N}}\n", 
            "\\newcommand{\\Hh}{\\mathcal{H}}\n", 
            "\\newcommand{\\Bb}{\\mathcal{B}}\n", 
            "\\newcommand{\\EE}{\\mathbb{E}}\n", 
            "\\newcommand{\\CC}{\\mathbb{C}}\n", 
            "\\newcommand{\\si}{\\sigma}\n", 
            "\\newcommand{\\al}{\\alpha}\n", 
            "\\newcommand{\\la}{\\lambda}\n", 
            "\\newcommand{\\ga}{\\gamma}\n", 
            "\\newcommand{\\Ga}{\\Gamma}\n", 
            "\\newcommand{\\La}{\\Lambda}\n", 
            "\\newcommand{\\si}{\\sigma}\n", 
            "\\newcommand{\\Si}{\\Sigma}\n", 
            "\\newcommand{\\be}{\\beta}\n", 
            "\\newcommand{\\de}{\\delta}\n", 
            "\\newcommand{\\De}{\\Delta}\n", 
            "\\renewcommand{\\phi}{\\varphi}\n", 
            "\\renewcommand{\\th}{\\theta}\n", 
            "\\newcommand{\\om}{\\omega}\n", 
            "\\newcommand{\\Om}{\\Omega}\n", 
            "$"
          ]
        }, 
        {
          "cell_type": "code", 
          "collapsed": false, 
          "input": [
            "from nt_toolbox import *", 
            "%matplotlib inline", 
            "%load_ext autoreload", 
            "%autoreload 2"
          ], 
          "language": "python", 
          "outputs": []
        }, 
        {
          "cell_type": "markdown", 
          "metadata": {}, 
          "source": [
            "\n", 
            ""
          ]
        }, 
        {
          "cell_type": "heading", 
          "level": 2, 
          "metadata": {}, 
          "source": [
            "Dictionary Learning as a Non-convex Optimization Problem\n"
          ]
        }, 
        {
          "cell_type": "markdown", 
          "metadata": {}, 
          "source": [
            "Given a set $Y = (y_j)_{j=1}^m \\in \\RR^{n \\times m} $ of $m$ signals\n", 
            "$y_j \\in \\RR^m$, dictionary learning aims at finding the best\n", 
            "dictionary $D=(d_i)_{i=1}^p$ of $p$ atoms $d_i \\in \\RR^n$ to sparse\n", 
            "code all the data.\n", 
            "\n", 
            "\n", 
            "In this numerical tour, we consider an application to image denoising, so\n", 
            "that each $y_j \\in \\RR^n$ is a patch of size $n=w \\times w$ extracted\n", 
            "from the noisy image.\n", 
            "\n", 
            "\n", 
            "The idea of learning dictionaries to sparse code image patch was first\n", 
            "proposed in:\n", 
            "\n", 
            "\n", 
            "Olshausen BA, and Field DJ.,\n", 
            "<http://www.nature.com/nature/journal/v381/n6583/abs/381607a0.html Emergence of Simple-Cell Receptive Field Properties by Learning a Sparse Code for Natural Images.>\n", 
            "Nature, 381: 607-609, 1996.\n", 
            "\n", 
            "\n", 
            "The sparse coding of a single data $y=y_j$ for some $j=1,\\ldots,m$\n", 
            "is obtained by minimizing a $\\ell^0$ constrained optimization\n", 
            "$$ \\umin{ \\norm{x}_0 \\leq k } \\frac{1}{2}\\norm{y-Dx}^2 .  $$\n", 
            "where the $\\ell^0$ pseudo-norm of $x \\in \\RR^p$ is\n", 
            "$$ \\norm{x}_0 = \\abs{\\enscond{i}{x(i) \\neq 0}}. $$\n", 
            "\n", 
            "\n", 
            "The parameter $k>0$ controls the amount of sparsity.\n", 
            "\n", 
            "\n", 
            "Dictionary learning performs an optimization both on the dictionary $D$\n", 
            "and the set of coefficients $ X = (x_j)_{j=1}^m \\in \\RR^{p \\times m} $\n", 
            "where, for $j=1,\\ldots,m$, $ x_j $\n", 
            "is the set of coefficients of the data $y_j$. This joint optimization reads\n", 
            "$$ \\umin{ D \\in \\Dd, X \\in \\Xx_k } E(X,D) = \\frac{1}{2}\\norm{Y-DX}^2 =\n", 
            "\\frac{1}{2} \\sum_{j=1}^m \\norm{y_j - D x_j}^2. $$\n", 
            "\n", 
            "\n", 
            "The constraint set on $D$ reads\n", 
            "$$ \\Dd = \\enscond{D \\in \\RR^{n \\times p} }{\n", 
            "      \\forall i=1,\\ldots,p, \\quad \\norm{D_{\\cdot,i}} \\leq 1  }, $$\n", 
            "(the columns of the dictionary are unit normalized).\n", 
            "The sparsity constraint set on $X$ reads\n", 
            "$$ \\Xx_k = \\enscond{X \\in \\RR^{p \\times m}}{ \\forall j, \\: \\norm{X_{\\cdot,j}}_0 \\leq k }. $$\n", 
            "\n", 
            "\n", 
            "We propose to use a block-coordinate descent method to minimize $E$:\n", 
            "$$ X^{(\\ell+1)} \\in \\uargmin{X \\in \\Xx_k} E(X,D^{(\\ell)}), $$\n", 
            "$$ D^{(\\ell+1)} \\in \\uargmin{D \\in \\Dd} E(X^{(\\ell+1)},D). $$\n", 
            "\n", 
            "\n", 
            "One can show the convergence of this minimization scheme, see for\n", 
            "instance\n", 
            "\n", 
            "\n", 
            "P. Tseng, <http://www.math.washington.edu/~tseng/papers/archive/bcr_jota.pdf Convergence of Block Coordinate Descent Method for Nondifferentiable Minimization>,\n", 
            "J. Optim. Theory Appl., 109, 2001, 475-494.\n", 
            "\n", 
            "\n", 
            "We now define the parameter of the problem.\n", 
            "\n", 
            "\n", 
            "Width $w$ of the patches.\n", 
            ""
          ]
        }, 
        {
          "cell_type": "code", 
          "collapsed": false, 
          "input": [
            "if not(exist('w'))\n", 
            "    w = 10\n", 
            ""
          ], 
          "language": "python", 
          "outputs": []
        }, 
        {
          "cell_type": "markdown", 
          "metadata": {}, 
          "source": [
            "\n", 
            "\n", 
            "Dimension $n= w \\times w$ of the data to be sparse coded.\n", 
            ""
          ]
        }, 
        {
          "cell_type": "code", 
          "collapsed": false, 
          "input": [
            "n = w*w"
          ], 
          "language": "python", 
          "outputs": []
        }, 
        {
          "cell_type": "markdown", 
          "metadata": {}, 
          "source": [
            "\n", 
            "\n", 
            "\n", 
            "Number of atoms $p$ in the dictionary.\n", 
            ""
          ]
        }, 
        {
          "cell_type": "code", 
          "collapsed": false, 
          "input": [
            "p = 2*n"
          ], 
          "language": "python", 
          "outputs": []
        }, 
        {
          "cell_type": "markdown", 
          "metadata": {}, 
          "source": [
            "\n", 
            "\n", 
            "Number $m$ of patches used for the training.\n", 
            ""
          ]
        }, 
        {
          "cell_type": "code", 
          "collapsed": false, 
          "input": [
            "m = 20*p"
          ], 
          "language": "python", 
          "outputs": []
        }, 
        {
          "cell_type": "markdown", 
          "metadata": {}, 
          "source": [
            "\n", 
            "\n", 
            "Target sparsity $k$.\n", 
            ""
          ]
        }, 
        {
          "cell_type": "code", 
          "collapsed": false, 
          "input": [
            "k = 4"
          ], 
          "language": "python", 
          "outputs": []
        }, 
        {
          "cell_type": "heading", 
          "level": 2, 
          "metadata": {}, 
          "source": [
            "Patch Extraction\n"
          ]
        }, 
        {
          "cell_type": "markdown", 
          "metadata": {}, 
          "source": [
            "Since the learning is computationnaly intensive, one can only apply it to\n", 
            "small patches extracted from an image.\n", 
            ""
          ]
        }, 
        {
          "cell_type": "code", 
          "collapsed": false, 
          "input": [
            "if not(exist('f'))\n", 
            "    f = rescale( crop(load_image('barb'),256) )\n", 
            "\n", 
            "n0 = size(f,1)"
          ], 
          "language": "python", 
          "outputs": []
        }, 
        {
          "cell_type": "markdown", 
          "metadata": {}, 
          "source": [
            "\n", 
            "\n", 
            "Display the input image.\n", 
            ""
          ]
        }, 
        {
          "cell_type": "code", 
          "collapsed": false, 
          "input": [
            "\n", 
            "imageplot(clamp(f))"
          ], 
          "language": "python", 
          "outputs": []
        }, 
        {
          "cell_type": "markdown", 
          "metadata": {}, 
          "source": [
            "\n", 
            "\n", 
            "Random patch location.\n", 
            ""
          ]
        }, 
        {
          "cell_type": "code", 
          "collapsed": false, 
          "input": [
            "q = 3*m\n", 
            "x = floor( rand(1,1,q)*(n0-w) )+1\n", 
            "y = floor( rand(1,1,q)*(n0-w) )+1"
          ], 
          "language": "python", 
          "outputs": []
        }, 
        {
          "cell_type": "markdown", 
          "metadata": {}, 
          "source": [
            "\n", 
            "\n", 
            "Extract lots of patches $y_j \\in \\RR^n$, and store them in a matrix $Y=(y_j)_{j=1}^m$.\n", 
            ""
          ]
        }, 
        {
          "cell_type": "code", 
          "collapsed": false, 
          "input": [
            "[dY,dX] = meshgrid(0:w-1,0:w-1)\n", 
            "Xp = repmat(dX,[1 1 q]) + repmat(x, [w w 1])\n", 
            "Yp = repmat(dY,[1 1 q]) + repmat(y, [w w 1])\n", 
            "Y = f(Xp+(Yp-1)*n0)\n", 
            "Y = reshape(Y, [n q])"
          ], 
          "language": "python", 
          "outputs": []
        }, 
        {
          "cell_type": "markdown", 
          "metadata": {}, 
          "source": [
            "\n", 
            "\n", 
            "We remove the mean, since we are going to learn a dictionary of\n", 
            "zero-mean and unit norm atom.\n", 
            ""
          ]
        }, 
        {
          "cell_type": "code", 
          "collapsed": false, 
          "input": [
            "Y = Y - repmat( mean(Y), [n 1] )"
          ], 
          "language": "python", 
          "outputs": []
        }, 
        {
          "cell_type": "markdown", 
          "metadata": {}, 
          "source": [
            "\n", 
            "\n", 
            "Only keep those with largest energy.\n", 
            ""
          ]
        }, 
        {
          "cell_type": "code", 
          "collapsed": false, 
          "input": [
            "[tmp,I] = sort(sum(Y.^2), 'descend')\n", 
            "Y = Y(:,I(1:m))"
          ], 
          "language": "python", 
          "outputs": []
        }, 
        {
          "cell_type": "markdown", 
          "metadata": {}, 
          "source": [
            "\n", 
            "\n", 
            "We consider a dictionary $D \\in \\RR^{n \\times p} $ of $p \\geq n$ atoms in $\\RR^n$.\n", 
            "The initial dictionary $D$ is computed by a random selection of patches, and we normalize them to be unit-norm.\n", 
            ""
          ]
        }, 
        {
          "cell_type": "code", 
          "collapsed": false, 
          "input": [
            "ProjC = lambda D: D ./ repmat( sqrt(sum(D.^2)), [w^2, 1] )\n", 
            "sel = randperm(m); sel = sel(1:p)\n", 
            "D0 = ProjC( Y(:,sel) )\n", 
            "D = D0"
          ], 
          "language": "python", 
          "outputs": []
        }, 
        {
          "cell_type": "markdown", 
          "metadata": {}, 
          "source": [
            "\n", 
            "\n", 
            "Display the initial dictionary.\n", 
            ""
          ]
        }, 
        {
          "cell_type": "code", 
          "collapsed": false, 
          "input": [
            "\n", 
            "plot_dictionnary(D, [], [8 12])"
          ], 
          "language": "python", 
          "outputs": []
        }, 
        {
          "cell_type": "heading", 
          "level": 2, 
          "metadata": {}, 
          "source": [
            "Update of the Coefficients \\(X\\)\n"
          ]
        }, 
        {
          "cell_type": "markdown", 
          "metadata": {}, 
          "source": [
            "The optimization on the coefficients $X$ requires, for each $y_j =\n", 
            "Y_{\\cdot,j}$ to compute $x_j = X_{\\cdot,j}$ that solves\n", 
            "$$ \\umin{ \\norm{x_j}_0 \\leq k } \\frac{1}{2} \\norm{y-D x_j}^2. $$\n", 
            "\n", 
            "\n", 
            "This is a non-smooth and non-convex minimization, that can be shown to be\n", 
            "NP-hard. A heuristic to solve this method is to compute a stationary\n", 
            "point of the energy using the Foward-Backward iterative scheme (projected gradient descent):\n", 
            "$$ x_j \\leftarrow \\text{Proj}_{\\Xx_k}\\pa{\n", 
            "      x_j - \\tau D^* ( D x_j - y )\n", 
            "      }\n", 
            "      \\qwhereq \\tau < \\frac{2}{\\norm{D D^*}}. $$\n", 
            "\n", 
            "\n", 
            "Denoting $\\abs{\\bar x(1)} \\leq \\ldots \\leq \\abs{\\bar x(n)}$ the ordered\n", 
            "magnitudes of a vector $ x \\in \\RR^n $, the orthogonal projector on\n", 
            "$\\Xx_k$ reads $z = \\text{Proj}_{\\Xx_k}(x)$ with\n", 
            "$$ \\forall i=1,\\ldots,n, \\quad\n", 
            "      z(i) = \\choice{ x(i) \\qifq \\abs{x(i)} \\geq \\abs{\\bar x(k)}, \\\\\n", 
            "      z(i) = 0 \\quad \\text{otherwise}.\n", 
            "  }\n", 
            "$$\n", 
            ""
          ]
        }, 
        {
          "cell_type": "code", 
          "collapsed": false, 
          "input": [
            "select = lambda A,k: repmat(A(k,:), [size(A,1) 1])\n", 
            "ProjX = lambda X,k: X .* (abs(X) >= select(sort(abs(X), 'descend'),k))"
          ], 
          "language": "python", 
          "outputs": []
        }, 
        {
          "cell_type": "heading", 
          "level": 3, 
          "metadata": {}, 
          "source": [
            "Exercise 1"
          ]
        }, 
        {
          "cell_type": "markdown", 
          "metadata": {}, 
          "source": [
            "\n", 
            "Perform the iterative hard thresholding,\n", 
            "and display the decay of the energy $J(x_j) = \\norm{y_j-D x_j}^2$ for several $j$.\n", 
            "_Remark:_ note that the iteration can be performed in parallel on all\n", 
            "$x_j$.\n", 
            "\n", 
            "\n", 
            "\n", 
            "\n", 
            "\n", 
            "\n", 
            "\n", 
            "\n", 
            "\n", 
            "\n", 
            "\n", 
            "\n", 
            "\n", 
            ""
          ]
        }, 
        {
          "cell_type": "code", 
          "collapsed": false, 
          "input": [
            "## Insert your code here."
          ], 
          "language": "python", 
          "outputs": []
        }, 
        {
          "cell_type": "markdown", 
          "metadata": {}, 
          "source": [
            "\n", 
            ""
          ]
        }, 
        {
          "cell_type": "heading", 
          "level": 2, 
          "metadata": {}, 
          "source": [
            "Update the Dictionary \\(D\\)\n"
          ]
        }, 
        {
          "cell_type": "markdown", 
          "metadata": {}, 
          "source": [
            "Once the sparse coefficients $X$ have been computed, one\n", 
            "can udpate the dictionary. This is achieve by performing the minimization\n", 
            "$$ \\umin{D \\in \\Dd} \\frac{1}{2}\\norm{Y-D X}^2. $$\n", 
            "\n", 
            "\n", 
            "One can perform this minimization with a projected gradient descent\n", 
            "$$ D \\leftarrow \\text{Proj}_{\\Cc}\\pa{ D - \\tau (DX - Y)X^* } $$\n", 
            "where $ \\tau < 2/\\norm{XX^*}. $\n", 
            "\n", 
            "\n", 
            "Note that the orthogonal projector $\\text{Proj}_{\\Cc}$ is implemented in the function\n", 
            "|ProjC| already defined.\n", 
            ""
          ]
        }, 
        {
          "cell_type": "heading", 
          "level": 3, 
          "metadata": {}, 
          "source": [
            "Exercise 2"
          ]
        }, 
        {
          "cell_type": "markdown", 
          "metadata": {}, 
          "source": [
            "\n", 
            "Perform this gradient descent, and monitor the decay of the energy.\n", 
            "\n", 
            "\n", 
            "\n", 
            "\n", 
            "\n", 
            "\n", 
            "\n", 
            "\n", 
            "\n", 
            "\n", 
            ""
          ]
        }, 
        {
          "cell_type": "code", 
          "collapsed": false, 
          "input": [
            "## Insert your code here."
          ], 
          "language": "python", 
          "outputs": []
        }, 
        {
          "cell_type": "markdown", 
          "metadata": {}, 
          "source": [
            "\n", 
            "\n", 
            ""
          ]
        }, 
        {
          "cell_type": "heading", 
          "level": 3, 
          "metadata": {}, 
          "source": [
            "Exercise 3"
          ]
        }, 
        {
          "cell_type": "markdown", 
          "metadata": {}, 
          "source": [
            "\n", 
            "Perform the dictionary learning by iterating between sparse coding and\n", 
            "dictionary update.\n", 
            "\n", 
            "\n", 
            "\n", 
            "\n", 
            "\n", 
            "\n", 
            "\n", 
            "\n", 
            "\n", 
            "\n", 
            "\n", 
            "\n", 
            "\n", 
            "\n", 
            "\n", 
            "\n", 
            "\n", 
            "\n", 
            "\n", 
            "\n", 
            "\n", 
            "\n", 
            "\n", 
            "\n", 
            "\n", 
            "\n", 
            "\n", 
            "\n", 
            "\n", 
            "\n", 
            "\n", 
            ""
          ]
        }, 
        {
          "cell_type": "code", 
          "collapsed": false, 
          "input": [
            "## Insert your code here."
          ], 
          "language": "python", 
          "outputs": []
        }, 
        {
          "cell_type": "markdown", 
          "metadata": {}, 
          "source": [
            "\n", 
            "\n", 
            "\n", 
            "Display the dictionary.\n", 
            ""
          ]
        }
      ]
    }
  ]
}