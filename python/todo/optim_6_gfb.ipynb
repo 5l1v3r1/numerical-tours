{
  "metadata": {
    "name": ""
  }, 
  "nbformat": 3, 
  "nbformat_minor": 0, 
  "worksheets": [
    {
      "cells": [
        {
          "cell_type": "heading", 
          "level": 1, 
          "metadata": {}, 
          "source": [
            "Generalized Forward-Backward Proximal Splitting"
          ]
        }, 
        {
          "cell_type": "markdown", 
          "metadata": {}, 
          "source": [
            "This tour explores the use of an advanced non-smooth optimization scheme\n", 
            "to handle composite inverse problems resolution.\n", 
            "\n", 
            "\n", 
            "This tour is written by <http://www.ceremade.dauphine.fr/~raguet/ Hugo Raguet>.\n", 
            "\n", 
            "\n", 
            "We use a proximal splitting algorithm detailed in\n", 
            "\n", 
            "\n", 
            "Hugo Raguet, Jalal M. Fadili and Gabriel Peyre,\n", 
            "_Generalized Forward-Backward Splitting Algorithm_,\n", 
            "<http://arxiv.org/abs/1108.4404 preprint arXiv:1108.4404v2>, 2011.\n", 
            ""
          ]
        }, 
        {
          "cell_type": "markdown", 
          "metadata": {}, 
          "source": [
            "*Important:* You need to download the file `nt_toolbox.py` from the \n", 
            "root of the github repository.\n", 
            "$\\newcommand{\\dotp}[2]{\\langle #1, #2 \\rangle}\n", 
            "\\newcommand{\\enscond}[2]{\\lbrace #1, #2 \\rbrace}\n", 
            "\\newcommand{\\pd}[2]{ \\frac{ \\partial #1}{\\partial #2} }\n", 
            "\\newcommand{\\umin}[1]{\\underset{#1}{\\min}\\;}\n", 
            "\\newcommand{\\norm}[1]{\\|#1\\|}\n", 
            "\\newcommand{\\abs}[1]{\\left|#1\\right|}\n", 
            "\\newcommand{\\choice}[1]{ \\left\\{  \\begin{array}{l} #1 \\end{array} \\right. }\n", 
            "\\newcommand{\\pa}[1]{\\left(#1\\right)}\n", 
            "\\newcommand{\\qandq}{\\quad\\text{and}\\quad}\n", 
            "\\newcommand{\\qwhereq}{\\quad\\text{where}\\quad}\n", 
            "\\newcommand{\\qifq}{ \\quad \\text{if} \\quad }\n", 
            "\\newcommand{\\qarrq}{ \\quad \\Longrightarrow \\quad }\n", 
            "\\newcommand{\\ZZ}{\\mathbb{Z}}\n", 
            "\\newcommand{\\RR}{\\mathbb{R}}\n", 
            "\\newcommand{\\Nn}{\\mathcal{N}}\n", 
            "\\newcommand{\\Hh}{\\mathcal{H}}\n", 
            "\\newcommand{\\Bb}{\\mathcal{B}}\n", 
            "\\newcommand{\\EE}{\\mathbb{E}}\n", 
            "\\newcommand{\\CC}{\\mathbb{C}}\n", 
            "\\newcommand{\\si}{\\sigma}\n", 
            "\\newcommand{\\al}{\\alpha}\n", 
            "\\newcommand{\\la}{\\lambda}\n", 
            "\\newcommand{\\ga}{\\gamma}\n", 
            "\\newcommand{\\Ga}{\\Gamma}\n", 
            "\\newcommand{\\La}{\\Lambda}\n", 
            "\\newcommand{\\si}{\\sigma}\n", 
            "\\newcommand{\\Si}{\\Sigma}\n", 
            "\\newcommand{\\be}{\\beta}\n", 
            "\\newcommand{\\de}{\\delta}\n", 
            "\\newcommand{\\De}{\\Delta}\n", 
            "\\renewcommand{\\phi}{\\varphi}\n", 
            "\\renewcommand{\\th}{\\theta}\n", 
            "\\newcommand{\\om}{\\omega}\n", 
            "\\newcommand{\\Om}{\\Omega}\n", 
            "$"
          ]
        }, 
        {
          "cell_type": "code", 
          "collapsed": false, 
          "input": [
            "from nt_toolbox import *", 
            "%matplotlib inline", 
            "%load_ext autoreload", 
            "%autoreload 2"
          ], 
          "language": "python", 
          "outputs": []
        }, 
        {
          "cell_type": "heading", 
          "level": 2, 
          "metadata": {}, 
          "source": [
            "Convex Optimization with Generalized Forward-Backward Splitting\n"
          ]
        }, 
        {
          "cell_type": "markdown", 
          "metadata": {}, 
          "source": [
            "We consider general optimization problems of the form\n", 
            "$$ \\umin{x} F(x) + \\sum_{i=1}^n G_i(x) $$\n", 
            "where $F$ is a convex, differentiable function, with Lipschitz-continuous gradient\n", 
            "and the $G_i$'s are convex functions\n", 
            "\n", 
            "\n", 
            "To use proximal algorithm, one should be able to compute the proximity operator of the $G_i$'s, defined as:\n", 
            "$$ \\text{prox}_{\\gamma G_i}(x) = \\uargmin{y} \\frac{1}{2} \\norm{x-y}^2 + \\gamma G_i(y). $$\n", 
            "\n", 
            "\n", 
            "The algorithm reads:\n", 
            "$$ \\text{for all } i, \\quad z_{i,t+1} = z_{i,t} + \\text{prox}_{n \\gamma G_i}( 2 x_t - z_{i,t} - \\gamma \\nabla F(x_t) ) - x_t$$\n", 
            "$$ x_{t+1} = \\frac{1}{n} \\sum_{i=1}^n z_{i,t+1}. $$\n", 
            "\n", 
            "\n", 
            "It can be shown that if $0 < \\gamma < 2 \\beta$ where\n", 
            "$\\frac{1}{\\beta}$ is a Lipschitz constant of $\\nabla F$,\n", 
            "then ${(x_t)}_t$ converges to a minimizer of $F + \\sum_{i=1}^n G_i$.\n", 
            ""
          ]
        }, 
        {
          "cell_type": "heading", 
          "level": 2, 
          "metadata": {}, 
          "source": [
            "Joint Inpainting and Deblurring\n"
          ]
        }, 
        {
          "cell_type": "markdown", 
          "metadata": {}, 
          "source": [
            "We consider a linear imaging operator $\\Phi : f \\mapsto \\Phi(f)$\n", 
            "that maps high resolution images to low dimensional observations.\n", 
            "Here we consider a composition of a pixel masking operator $M$ and of a blurring operator $K$.\n", 
            "\n", 
            "\n", 
            "Load an image $f_0$.\n", 
            ""
          ]
        }, 
        {
          "cell_type": "code", 
          "collapsed": false, 
          "input": [
            "name = 'lena'\n", 
            "N = 256\n", 
            "f0 = load_image(name)\n", 
            "f0 = rescale(crop(f0,N))"
          ], 
          "language": "python", 
          "outputs": []
        }, 
        {
          "cell_type": "markdown", 
          "metadata": {}, 
          "source": [
            "\n", 
            "\n", 
            "Display it.\n", 
            ""
          ]
        }, 
        {
          "cell_type": "code", 
          "collapsed": false, 
          "input": [
            "\n", 
            "imageplot(f0)"
          ], 
          "language": "python", 
          "outputs": []
        }, 
        {
          "cell_type": "markdown", 
          "metadata": {}, 
          "source": [
            "\n", 
            "\n", 
            "First, we define the masking operator. It is a projector on the set of\n", 
            "valid pixels. It is equivalently implemented as a diagonal operator that multiplies the\n", 
            "image by a binary mask\n", 
            ""
          ]
        }, 
        {
          "cell_type": "code", 
          "collapsed": false, 
          "input": [
            "rho_M = .7\n", 
            "mask = rand(N,N) > rho_M\n", 
            "M = lambda f:  mask.*f"
          ], 
          "language": "python", 
          "outputs": []
        }, 
        {
          "cell_type": "markdown", 
          "metadata": {}, 
          "source": [
            "\n", 
            "\n", 
            "Then, we define the blurring operator $K$, which is is a convolution with a kernel $k$: $K(f) = k \\star f$.\n", 
            "\n", 
            "\n", 
            "We load a gaussian kernel $k$ of variance $\\si_K=2$. Note that the Young's inequality\n", 
            "gives for any $f$\n", 
            "$$ \\norm{f \\star k}_2 \\leq \\norm{f}_2 \\norm{k}_1 $$\n", 
            "We normalize $k$ so that $\\norm{k}_1=1$ which ensures $\\norm{K}=1$.\n", 
            ""
          ]
        }, 
        {
          "cell_type": "code", 
          "collapsed": false, 
          "input": [
            "sig_K = 2\n", 
            "[X,Y] = meshgrid( [0:N/2-1 -N/2:-1] )\n", 
            "k = exp( - (X.^2+Y.^2) / (2*sig_K^2) )\n", 
            "k = k./sum(abs(k(:)))"
          ], 
          "language": "python", 
          "outputs": []
        }, 
        {
          "cell_type": "markdown", 
          "metadata": {}, 
          "source": [
            "\n", 
            "\n", 
            "A convolution is equivalent to a multiplication in the Fourier domain.\n", 
            "$$ \\Ff(f \\star k) = \\Ff(f) \\cdot \\Ff(k),\n", 
            "\\quad\\text{so that}\\quad K(f) = \\Ff^{-1}(\\Ff(f) \\cdot \\Ff(k)) $$\n", 
            "where $\\Ff$ is the 2-D Fourier transform.\n", 
            "\n", 
            "\n", 
            "We thus implement $K$ using the Fourier transform of the kernel.\n", 
            ""
          ]
        }, 
        {
          "cell_type": "code", 
          "collapsed": false, 
          "input": [
            "Fk = fft2(k)\n", 
            "K = lambda f:  real( ifft2( fft2(f).*Fk ) )"
          ], 
          "language": "python", 
          "outputs": []
        }, 
        {
          "cell_type": "markdown", 
          "metadata": {}, 
          "source": [
            "\n", 
            "\n", 
            "The masking and blurring operator $ \\Phi = M \\circ K $.\n", 
            ""
          ]
        }, 
        {
          "cell_type": "code", 
          "collapsed": false, 
          "input": [
            "Phi = lambda f: M(K(f))"
          ], 
          "language": "python", 
          "outputs": []
        }, 
        {
          "cell_type": "markdown", 
          "metadata": {}, 
          "source": [
            "\n", 
            "\n", 
            "Compute the observations $ y = \\Phi f_0 + w $, where $w$ is a Gaussian white noise\n", 
            "of variance $\\si_w$.\n", 
            ""
          ]
        }, 
        {
          "cell_type": "code", 
          "collapsed": false, 
          "input": [
            "sig_w = .025\n", 
            "y = Phi(f0) + sig_w*randn(N,N)"
          ], 
          "language": "python", 
          "outputs": []
        }, 
        {
          "cell_type": "markdown", 
          "metadata": {}, 
          "source": [
            "\n", 
            "\n", 
            "Display it.\n", 
            ""
          ]
        }, 
        {
          "cell_type": "code", 
          "collapsed": false, 
          "input": [
            "\n", 
            "imageplot(y)"
          ], 
          "language": "python", 
          "outputs": []
        }, 
        {
          "cell_type": "markdown", 
          "metadata": {}, 
          "source": [
            "\n", 
            ""
          ]
        }, 
        {
          "cell_type": "heading", 
          "level": 2, 
          "metadata": {}, 
          "source": [
            "Splitting Total Variation Regularization\n"
          ]
        }, 
        {
          "cell_type": "markdown", 
          "metadata": {}, 
          "source": [
            "We want to solve the noisy inverse problem $ y = \\Phi x + w$ using a total\n", 
            "variation regularization:\n", 
            "$$ \\umin{x} \\frac{1}{2} \\norm{y - \\Phi x}^2 + \\la \\norm{x}_{\\text{TV}}. $$\n", 
            "\n", 
            "\n", 
            "The total variation pseudo-norm is defined as the sum over all pixels $ p=(p_1,p_2) $\n", 
            "of the norm of the image gradient $\\text{grad}(x)_p$ at $p$.\n", 
            "\n", 
            "\n", 
            "The gradient is computed using finite differences\n", 
            "$$ \\text{grad} \\, : \\,\n", 
            "   \\choice{\n", 
            "       \\mathbb{R}^{N \\times N} \\rightarrow \\mathbb{R}^{N \\times N \\times 2} \\\\\n", 
            "      \tx \\mapsto ( x \\star h_1, x \\star h_2 ),\n", 
            "   }\n", 
            "$$\n", 
            "where $h_1$ and $h_2$ are two 2-D filters.\n", 
            "\n", 
            "\n", 
            "One usually computes the gradient using finite differences along vertical and horizontal directions.\n", 
            "This corresponds to convolutions $ \\text{grad}(x) = (x \\star h_1,x \\star h_2)\n", 
            "\\in \\RR^{N \\times N \\times 2} $ where\n", 
            "$$\n", 
            "      h_1 =\n", 
            "      \\begin{pmatrix}\n", 
            "         0 & 0 & 0 \\\\\n", 
            "         0 & -1 & 0 \\\\\n", 
            "         0 &  1 & 0\n", 
            "      \\end{pmatrix}\n", 
            "      \\qandq\n", 
            "      h_2 =\n", 
            "      \\begin{pmatrix}\n", 
            "         0 & 0 & 0 \\\\\n", 
            "         0 & -1 & 1 \\\\\n", 
            "         0 & 0 & 0\n", 
            "      \\end{pmatrix}.\n", 
            "  $$\n", 
            "Note that we write 2-D filters as $3 \\times 3$ matrices, which\n", 
            "implicitely assumes that the central index (position 0) is at the center of this matrix.\n", 
            "\n", 
            "\n", 
            "Following the method introduced in:\n", 
            "\n", 
            "\n", 
            "P. L. Combettes and J.-C. Pesquet,\n", 
            "_A proximal decomposition method for solving convex variational inverse problems_,\n", 
            "Inverse Problems, vol. 24, no. 6, article ID 065014, 27 pp., December 2008.\n", 
            "\n", 
            "\n", 
            "we use diagonal filters:\n", 
            "$$\n", 
            "      h_1 =\n", 
            "      \\begin{pmatrix}\n", 
            "         0 & 0 & 0 \\\\\n", 
            "         0 & -1 & 0 \\\\\n", 
            "         0 & 0 & 1\n", 
            "      \\end{pmatrix}\n", 
            "      \\qandq\n", 
            "      h_2 =\n", 
            "      \\begin{pmatrix}\n", 
            "         0 & 0 & 0 \\\\\n", 
            "         0 & 0 & 1 \\\\\n", 
            "         0 &-1 & 0\n", 
            "      \\end{pmatrix}\n", 
            "$$\n", 
            "is more interesting for us, since those kernels are orthogonals: they do not overlap.\n", 
            "We will use these diagonal filters to split the total variation into simpler\n", 
            "functions.\n", 
            "\n", 
            "\n", 
            "The TV norm can be written as the $\\ell_1-\\ell_2$ norm $G(u)$ of the gradient $ u=\\text{grad}(x) $\n", 
            "$$\n", 
            "  \\norm{x}_{\\text{TV}} = G( \\text{grad}(x) )\n", 
            "  \\qwhereq\n", 
            "  G(u) = \\sum_{p} \\norm{u_p} = \\sum_p \\sqrt{ {u_{1,p}}^2 + {u_{2,p}}^2 }\n", 
            "$$\n", 
            "where $u = ( (u_{1,p},u_{2,p}) )_{p} \\in \\RR^{N \\times N \\times 2} $ is\n", 
            "a vector field.\n", 
            "\n", 
            "\n", 
            "The proximal operator of $G$ is the soft thresholding of the\n", 
            "norm of each vector $ u_p \\in \\RR^2 $ in the vector field, which corresponds to\n", 
            "$$\n", 
            "      \\text{prox}_{\\gamma G}(u)_{p} = \\max\\pa{0, 1-\\frac{\\gamma}{\\norm{u_{p}}}} u_{p} .\n", 
            "$$\n", 
            "If the norm of $u_{p}$ is lower than $\\gamma$, then $u_p$ is set to zero; otherwise, both coordinates of $u_p$ are shrinked by the same factor.\n", 
            "\n", 
            "\n", 
            "We define the proximity operator of $G$.\n", 
            ""
          ]
        }, 
        {
          "cell_type": "code", 
          "collapsed": false, 
          "input": [
            "G = lambda u:  sqrt( sum( u.^2, 3 ) )\n", 
            "proxG = lambda u,gamma:  repmat( max(0,1 - gamma./G(u) ), [1 1 2] ).*u"
          ], 
          "language": "python", 
          "outputs": []
        }, 
        {
          "cell_type": "markdown", 
          "metadata": {}, 
          "source": [
            "\n", 
            "\n", 
            "We would like to compute the proximity operator of\n", 
            "$ \\norm{\\cdot}_{\\text{TV}} = G \\circ \\text{grad} $.\n", 
            "This is much more complicated than computing the proximity operator of\n", 
            "$G$ because the linear operator $\\text{grad}$ introduces\n", 
            "dependancies between pixels.\n", 
            "\n", 
            "\n", 
            "Denoting $ u=\\text{grad}(x)=(u_{1,p},u_{2,p})_{p=(p_1,p_2)} $\n", 
            "the gradient vector, we note that we can split the TV pseudo norm\n", 
            "according to the parity of $p_1=2r_1+s_1$ and $p_2=2r_2+s_2$\n", 
            "(which corresponds to $s_i$ being either 0 or 1)\n", 
            "$$ \\norm{x}_{\\text{TV}} =\n", 
            "  \\sum_{s_1,s_2=0,1}\n", 
            "  \\sum_{(r_1,r_2)}\n", 
            "  \\sqrt{\n", 
            "      {u_{1,2 r_1+s_1,2r_2+s_2}}^2 +\n", 
            "      {u_{2,2 r_1+s_1,2r_2+s_2}}^2\n", 
            "      }.\n", 
            "$$\n", 
            "\n", 
            "\n", 
            "This can be re-written more compactly as a split of the TV pseudo-norm\n", 
            "using using $n=4$ simple functions $ (G_i)_{i=1}^4 $:\n", 
            "$$\n", 
            "      \\norm{x}_{\\text{TV}} = \\sum_{i=1}^{4} G_i(x)\n", 
            "      \\qwhereq\n", 
            "      \\choice{\n", 
            "          G_i = G \\circ L_i, \\\\\n", 
            "          L_i = S \\circ \\text{grad} \\circ T_{s^{(i)}}\n", 
            "      }\n", 
            "$$\n", 
            "where $T_s$ is the shifting operator that translates the pixels by\n", 
            "$s=(s_1,s_2)$ (with periodic boundary condition, i.e. modulo $N$)\n", 
            "$$\n", 
            "      T_s(x)_p = x_{p_1-s_1 \\text{ mod } N, p_2-s_2 \\text{ mod } N}\n", 
            "$$\n", 
            "and $S : \\RR^{N \\times N} \\rightarrow \\RR^{N/2 \\times N/2}$\n", 
            "is the sub-sampling operator of a vector field by a factor of\n", 
            "two along vertical and horizontal directions\n", 
            "$$\n", 
            "      S(u)_{p_1,p_2} = u_{2p_1,2p_2}.\n", 
            "$$\n", 
            "The four shifts are\n", 
            "$$ s \\in \\{ (0,0), (1,0), (0,1), (1,1) \\} . $$\n", 
            "\n", 
            "\n", 
            "We create the subsampled gradient operator $L_1 = S \\circ \\text{grad}$\n", 
            "(shift $s =(0,0)$).\n", 
            ""
          ]
        }, 
        {
          "cell_type": "code", 
          "collapsed": false, 
          "input": [
            "L = lambda x:  cat( 3, x(2:2:end,2:2:end)-x(1:2:end,1:2:end), x(1:2:end,2:2:end)-x(2:2:end,1:2:end) )"
          ], 
          "language": "python", 
          "outputs": []
        }, 
        {
          "cell_type": "markdown", 
          "metadata": {}, 
          "source": [
            "\n", 
            "\n", 
            "We create the four shifted version $L_1,L_2,L_3,L_4$ and store them using a\n", 
            "cell array, so that |Li{i}| implements $L_i$.\n", 
            ""
          ]
        }, 
        {
          "cell_type": "code", 
          "collapsed": false, 
          "input": [
            "LShift = lambda x,s:  L( circshift(x,s) )\n", 
            "Li = {lambda x: LShift(x,[0,0]), lambda x: LShift(x,[1,0]), lambda x: LShift(x,[0,1]), lambda x: LShift(x,[1,1]) }"
          ], 
          "language": "python", 
          "outputs": []
        }, 
        {
          "cell_type": "markdown", 
          "metadata": {}, 
          "source": [
            "\n", 
            "\n", 
            "Define the four functionals $ (G_i)_{i=1}^4 $.\n", 
            ""
          ]
        }, 
        {
          "cell_type": "code", 
          "collapsed": false, 
          "input": [
            "for i in 1:4:\n", 
            "    Gi{i} = lambda x:  sum( sum( G( Li{i}(x) ) ) )\n", 
            ""
          ], 
          "language": "python", 
          "outputs": []
        }, 
        {
          "cell_type": "markdown", 
          "metadata": {}, 
          "source": [
            "\n", 
            "\n", 
            "Since $L_1 = S \\circ \\text{grad} $ its ajoint reads\n", 
            "$L_1^* = \\text{grad}^* \\circ U$ where $U$ is the upsampling operator\n", 
            "$$ U(v)_{2p_1+s_1,2p_2+s_2} =\n", 
            "      \\choice{\n", 
            "          v_{p_1,p_2} \\qifq s_1=s_2=0, \\\\\n", 
            "          0 \\quad \\text{otherwise}.\n", 
            "      }\n", 
            "$$\n", 
            ""
          ]
        }, 
        {
          "cell_type": "code", 
          "collapsed": false, 
          "input": [
            "U = lambda x: upsampling( upsampling( x, 1, 2 ), 2, 2 )"
          ], 
          "language": "python", 
          "outputs": []
        }, 
        {
          "cell_type": "markdown", 
          "metadata": {}, 
          "source": [
            "\n", 
            "\n", 
            "The adjoint of the gradient $ \\text{grad}^* =-\\text{div}$\n", 
            "$$\n", 
            "      \\text{grad}^*(u) = u_1 \\star \\bar h_1 + u_2 \\star \\bar h_2 \\in\n", 
            "      \\RR^{N \\times N}\n", 
            "$$\n", 
            "is obtained using the reversed filters\n", 
            "$$\n", 
            "      \\bar h_1 =\n", 
            "      \\begin{pmatrix}\n", 
            "         1 & 0 & 0 \\\\\n", 
            "         0 & -1 & 0 \\\\\n", 
            "         0 & 0 & 0\n", 
            "      \\end{pmatrix}\n", 
            "      \\qandq\n", 
            "      \\bar h_2 =\n", 
            "      \\begin{pmatrix}\n", 
            "         0 &-1 & 0 \\\\\n", 
            "         1 & 0 & 0 \\\\\n", 
            "         0 & 0 & 0\n", 
            "      \\end{pmatrix}\n", 
            "$$\n", 
            ""
          ]
        }, 
        {
          "cell_type": "code", 
          "collapsed": false, 
          "input": [
            "revIdx = [N 1:N-1]\n", 
            "gradS = lambda u: (u(revIdx,revIdx,1) - u(:,:,1)) + (u(:,revIdx,2) - u(revIdx,:,2))"
          ], 
          "language": "python", 
          "outputs": []
        }, 
        {
          "cell_type": "markdown", 
          "metadata": {}, 
          "source": [
            "\n", 
            "\n", 
            "\n", 
            "Define the adjoint operators of $L_1$.\n", 
            ""
          ]
        }, 
        {
          "cell_type": "code", 
          "collapsed": false, 
          "input": [
            "L1S = lambda v: gradS(U(v))"
          ], 
          "language": "python", 
          "outputs": []
        }, 
        {
          "cell_type": "markdown", 
          "metadata": {}, 
          "source": [
            "\n", 
            "\n", 
            "Define the adjoint $L_{i}^*$ of $L_{i}$. Since $L_i = L_1 \\circ\n", 
            "T_{s_i}$, one has $L_i^* = T_{s_i}^* \\circ L_i^* = T_{-s_i} \\circ\n", 
            "L_i^*$.\n", 
            ""
          ]
        }, 
        {
          "cell_type": "code", 
          "collapsed": false, 
          "input": [
            "LShiftS = lambda gx,s:  circshift( L1S( gx ), -s )\n", 
            "LiS = { lambda x: LShiftS(x,[0,0]), lambda x: LShiftS(x,[1,0]), lambda x: LShiftS(x,[0,1]), lambda x: LShiftS(x,[1,1]) }"
          ], 
          "language": "python", 
          "outputs": []
        }, 
        {
          "cell_type": "markdown", 
          "metadata": {}, 
          "source": [
            "\n", 
            "\n", 
            "\n", 
            "Computing the finite differences with above\n", 
            "mentioned orthogonal kernels implies the crucial property that the four operators\n", 
            "$$ L_i :  \\mathbb{R}^{N \\times N} \\mapsto \\mathbb{R}^{\\frac{N}{2} \\times \\frac{N}{2} \\times 2} $$\n", 
            "are _tight frames_, _i.e._ satisfy\n", 
            "  $$\n", 
            "      L_i \\circ L_i^* = b \\, \\text{Id}\n", 
            "  $$\n", 
            "for some $b \\in \\RR$.\n", 
            "\n", 
            ""
          ]
        }, 
        {
          "cell_type": "heading", 
          "level": 3, 
          "metadata": {}, 
          "source": [
            "Exercise 1"
          ]
        }, 
        {
          "cell_type": "markdown", 
          "metadata": {}, 
          "source": [
            "\n", 
            "Check that each subsampled gradient $L_i$ is indeed a tight frame, and\n", 
            "determine the value of $b$.\n", 
            "You can for instance apply the operators to random vector fields.\n", 
            "\n", 
            "\n", 
            "\n", 
            "\n", 
            "\n", 
            "\n", 
            ""
          ]
        }, 
        {
          "cell_type": "code", 
          "collapsed": false, 
          "input": [
            "## Insert your code here."
          ], 
          "language": "python", 
          "outputs": []
        }, 
        {
          "cell_type": "markdown", 
          "metadata": {}, 
          "source": [
            "\n", 
            "\n", 
            "\n", 
            "We are now ready to compute the proximity operators of each $ G_i $.\n", 
            "Recall that rules of proximal calculus gives us that if $L \\circ L^* = b \\, \\text{Id} $, then\n", 
            "$$ \\text{prox}_{G \\circ L} = \\text{Id} + \\frac{1}{b} L^* \\circ \\left(\n", 
            "      \\text{prox}_{b G} - \\text{Id} \\right) \\circ L $$\n", 
            "\n", 
            "\n", 
            "Create the proximity operator of $ G_i $.\n", 
            ""
          ]
        }, 
        {
          "cell_type": "code", 
          "collapsed": false, 
          "input": [
            "proxG_Id = lambda u,gamma: proxG(u,gamma) - u\n", 
            "proxGi = lambda x,gamma,i: x + (1/b)*LiS{i}( proxG_Id( Li{i}(x), b*gamma ) )"
          ], 
          "language": "python", 
          "outputs": []
        }, 
        {
          "cell_type": "heading", 
          "level": 2, 
          "metadata": {}, 
          "source": [
            "Using Smoothness of Data-Fidelity\n"
          ]
        }, 
        {
          "cell_type": "markdown", 
          "metadata": {}, 
          "source": [
            "We rewrite the initial optimization problem as\n", 
            "$$ \\umin{x} E(x,\\la) = F(x) + \\la \\sum_{i=1}^4 G_i(x) $$\n", 
            "where the data-fidelity term is\n", 
            "$$ F(x) = \\frac{1}{2} \\norm{y - \\Phi x}^2 . $$\n", 
            ""
          ]
        }, 
        {
          "cell_type": "code", 
          "collapsed": false, 
          "input": [
            "F = lambda x:  (1/2)*sum( sum( (Phi(x) - y).^2 ) )\n", 
            "E = lambda x,lambda:  F(x) + lambda * ( Gi{1}(x) + Gi{2}(x) + Gi{3}(x) + Gi{4}(x) )"
          ], 
          "language": "python", 
          "outputs": []
        }, 
        {
          "cell_type": "markdown", 
          "metadata": {}, 
          "source": [
            "\n", 
            "\n", 
            "Computing the proximity operator of $F$\n", 
            "requires the resolution of a linear system. To avoid such a\n", 
            "time-consuming task, the GFB makes use of the smoothness of $F$.\n", 
            "Its gradient is\n", 
            "$$ \\nabla F(x) = \\Phi^* (\\Phi(x) - y). $$\n", 
            "\n", 
            "\n", 
            "_Important:_ be careful not to confuse $\\text{grad}(x)$ (the gradient\n", 
            "of the image) with $\\nabla F$ (the gradient of the functional).\n", 
            "\n", 
            "\n", 
            "We define the adjoint operator $ \\Phi^* $ of $\\Phi$.\n", 
            "One has $\\Phi^* = K^* \\circ M^* = K \\circ M$ since\n", 
            "$ M^* = M $ because it is an orthogonal projector and\n", 
            "$ K^* = K $ because it is a convolution with a symetric kernel.\n", 
            ""
          ]
        }, 
        {
          "cell_type": "code", 
          "collapsed": false, 
          "input": [
            "Phis = lambda f: K(M(f))"
          ], 
          "language": "python", 
          "outputs": []
        }, 
        {
          "cell_type": "markdown", 
          "metadata": {}, 
          "source": [
            "\n", 
            "\n", 
            "Create the gradient operator $ \\nabla F $.\n", 
            ""
          ]
        }, 
        {
          "cell_type": "code", 
          "collapsed": false, 
          "input": [
            "nablaF = lambda x: Phis( Phi(x) - y )"
          ], 
          "language": "python", 
          "outputs": []
        }, 
        {
          "cell_type": "markdown", 
          "metadata": {}, 
          "source": [
            "\n", 
            "\n", 
            "Moreover, $ \\nabla F $ is affine, so that it is Lipschitz-continuous with Lipschitz constant equal\n", 
            "to the norm of its linear part\n", 
            "$$ \\frac{1}{\\beta} = \\norm{\\Phi^* \\circ \\Phi} \\leq \\norm{M} \\times \\norm{K} = 1, $$\n", 
            "since $ \\norm{M} = 1 $ because it is a projector and\n", 
            "$ \\norm{K} = 1 $ because it is a convolution with a normalized kernel.\n", 
            "Hence in the following we define $\\be = 1$.\n", 
            ""
          ]
        }, 
        {
          "cell_type": "code", 
          "collapsed": false, 
          "input": [
            "beta = 1"
          ], 
          "language": "python", 
          "outputs": []
        }, 
        {
          "cell_type": "heading", 
          "level": 2, 
          "metadata": {}, 
          "source": [
            "Solving with Generalized Forward-Backward\n"
          ]
        }, 
        {
          "cell_type": "markdown", 
          "metadata": {}, 
          "source": [
            "We are now ready to minimize the functional $E(x,\\la)$.\n", 
            "\n", 
            "\n", 
            "Set the number of parts $n$ in the non-smooth splitting\n", 
            ""
          ]
        }, 
        {
          "cell_type": "code", 
          "collapsed": false, 
          "input": [
            "n = 4"
          ], 
          "language": "python", 
          "outputs": []
        }, 
        {
          "cell_type": "markdown", 
          "metadata": {}, 
          "source": [
            "\n", 
            "\n", 
            "Define the GFB step size $\\gamma$ that should satisfy $0 < \\gamma < 2 \\be$.\n", 
            ""
          ]
        }, 
        {
          "cell_type": "code", 
          "collapsed": false, 
          "input": [
            "gamma = 1.8*beta"
          ], 
          "language": "python", 
          "outputs": []
        }, 
        {
          "cell_type": "markdown", 
          "metadata": {}, 
          "source": [
            "\n", 
            "\n", 
            "Choose a regularization parameter $ \\la>0 $.\n", 
            ""
          ]
        }, 
        {
          "cell_type": "code", 
          "collapsed": false, 
          "input": [
            "lambda = 1e-4"
          ], 
          "language": "python", 
          "outputs": []
        }, 
        {
          "cell_type": "heading", 
          "level": 3, 
          "metadata": {}, 
          "source": [
            "Exercise 2"
          ]
        }, 
        {
          "cell_type": "markdown", 
          "metadata": {}, 
          "source": [
            "\n", 
            "The parameter $ \\la $ does not appear explicitely in the iterations of the generalized forward-backward algorithm. Where does it step in ?\n", 
            "It scales the functionals $G_i$ and $\\text{prox}_{n \\gamma G_i}$\n", 
            "should be replaced by $\\text{prox}_{n \\lambda\\gamma G_i}$."
          ]
        }, 
        {
          "cell_type": "code", 
          "collapsed": false, 
          "input": [
            "## Insert your code here."
          ], 
          "language": "python", 
          "outputs": []
        }, 
        {
          "cell_type": "markdown", 
          "metadata": {}, 
          "source": [
            "\n", 
            "\n", 
            "\n", 
            "The iterates $x_t$ of the GFB will be stored in a variable |x| that we\n", 
            "initialize to $x_0=0$.\n", 
            ""
          ]
        }, 
        {
          "cell_type": "code", 
          "collapsed": false, 
          "input": [
            "x = zeros(N,N)"
          ], 
          "language": "python", 
          "outputs": []
        }, 
        {
          "cell_type": "markdown", 
          "metadata": {}, 
          "source": [
            "\n", 
            "\n", 
            "The auxiliary variables $z_{i,t}$ will be stored in a $N \\times N\n", 
            "\\times n$ array |z| initialized to 0, so that |z(:,:,i)| stores\n", 
            "$z_{i,t}$.\n", 
            ""
          ]
        }, 
        {
          "cell_type": "code", 
          "collapsed": false, 
          "input": [
            "z = zeros(N,N,n)"
          ], 
          "language": "python", 
          "outputs": []
        }, 
        {
          "cell_type": "heading", 
          "level": 3, 
          "metadata": {}, 
          "source": [
            "Exercise 3"
          ]
        }, 
        {
          "cell_type": "markdown", 
          "metadata": {}, 
          "source": [
            "\n", 
            "Compute 100 iterations of the generalized forward-backward,\n", 
            "while monitoring the value $E(x_t,\\la)$ of the objective\n", 
            "at iteration $t$. Display the evolution of the objective along\n", 
            "iterations: it must decrease.\n", 
            "\n", 
            "\n", 
            "\n", 
            "\n", 
            "\n", 
            "\n", 
            "\n", 
            "\n", 
            "\n", 
            "\n", 
            "\n", 
            "\n", 
            "h = plot(log10(ObjList(1:round(end*.7))-min(ObjList)));\n", 
            "\n", 
            "\n", 
            "title( 'log_{10}(E(x_t,\\lambda) - E(x^{*},\\lambda))' );\n", 
            "\n", 
            ""
          ]
        }, 
        {
          "cell_type": "code", 
          "collapsed": false, 
          "input": [
            "## Insert your code here."
          ], 
          "language": "python", 
          "outputs": []
        }, 
        {
          "cell_type": "markdown", 
          "metadata": {}, 
          "source": [
            "\n", 
            "\n", 
            "\n", 
            "Now that we know how to minimize our functional, we must seek for the most relevent regularization parameter $ \\la $.\n", 
            "Because we know the original image $ f_0 $, we can compare it to the recovered image $x$ for different values of $\\la$. Use the signal-to-noise ratio (SNR) as criterium.\n", 
            "\n", 
            "\n", 
            "Define a range of acceptable values for $\\la$.\n", 
            ""
          ]
        }, 
        {
          "cell_type": "code", 
          "collapsed": false, 
          "input": [
            "lambdaList = logspace( -4, -2, 10 )"
          ], 
          "language": "python", 
          "outputs": []
        }, 
        {
          "cell_type": "heading", 
          "level": 3, 
          "metadata": {}, 
          "source": [
            "Exercise 4"
          ]
        }, 
        {
          "cell_type": "markdown", 
          "metadata": {}, 
          "source": [
            "\n", 
            "Display the resulting SNR as a function of $\\la$.\n", 
            "Take the best regularization parameter and display the\n", 
            "corresponding recovery.\n", 
            "\n", 
            "\n", 
            "\n", 
            "\n", 
            "\n", 
            "\n", 
            "\n", 
            "\n", 
            "\n", 
            "\n", 
            "\n", 
            "\n", 
            "\n", 
            "\n", 
            "\n", 
            "\n", 
            "\n", 
            "\n", 
            "\n", 
            "\n", 
            "\n", 
            "\n", 
            "\n", 
            "\n", 
            "\n", 
            "\n", 
            "\n", 
            "\n", 
            ""
          ]
        }, 
        {
          "cell_type": "code", 
          "collapsed": false, 
          "input": [
            "## Insert your code here."
          ], 
          "language": "python", 
          "outputs": []
        }, 
        {
          "cell_type": "markdown", 
          "metadata": {}, 
          "source": [
            "\n", 
            "\n", 
            "\n", 
            "Display the final image, that has been saved in the variable |recov|.\n", 
            ""
          ]
        }, 
        {
          "cell_type": "code", 
          "collapsed": false, 
          "input": [
            "\n", 
            "imageplot(recov)\n", 
            "title( sprintf( '\\\\lambda=%.1e; SNR=%.2fdB', bestLambda, SNRmax ) )"
          ], 
          "language": "python", 
          "outputs": []
        }, 
        {
          "cell_type": "heading", 
          "level": 2, 
          "metadata": {}, 
          "source": [
            "Bonus: Composite Regularization\n"
          ]
        }, 
        {
          "cell_type": "markdown", 
          "metadata": {}, 
          "source": [
            "The degradation operator $\\Phi$ is very aggressive. To achieve better recovery,\n", 
            "it is possible to mix several priors. Let us add a wavelet analysis sparsity prior\n", 
            "in the objective\n", 
            "$$\n", 
            "  \\umin{x} F(x) + \\la \\sum_{i=1}^4 G_i(x)\n", 
            "      + \\mu G_5(x)\n", 
            "  \\qwhereq G_5(x) = \\norm{\\Psi x}_1\n", 
            "$$\n", 
            "where $\\Psi$ is an orthogonal wavelet transform and $\\norm{\\cdot}_1$\n", 
            "is the $\\ell_1$-norm.\n", 
            "\n", 
            "\n", 
            "The number $n$ of simple functionals is now 5.\n", 
            ""
          ]
        }, 
        {
          "cell_type": "code", 
          "collapsed": false, 
          "input": [
            "n = 5"
          ], 
          "language": "python", 
          "outputs": []
        }, 
        {
          "cell_type": "markdown", 
          "metadata": {}, 
          "source": [
            "\n", 
            "\n", 
            "Create the wavelet transform $\\Psi$.\n", 
            ""
          ]
        }, 
        {
          "cell_type": "code", 
          "collapsed": false, 
          "input": [
            "Jmin = 4\n", 
            "Psi = lambda x: perform_wavortho_transf(x,Jmin,+1)"
          ], 
          "language": "python", 
          "outputs": []
        }, 
        {
          "cell_type": "markdown", 
          "metadata": {}, 
          "source": [
            "\n", 
            "\n", 
            "Define its adjoint $\\Psi^*$, where we use the fact that\n", 
            "the adjoint of an othogonal operator is its inverse.\n", 
            ""
          ]
        }, 
        {
          "cell_type": "code", 
          "collapsed": false, 
          "input": [
            "Psis = lambda x: perform_wavortho_transf(x,Jmin,-1)"
          ], 
          "language": "python", 
          "outputs": []
        }, 
        {
          "cell_type": "markdown", 
          "metadata": {}, 
          "source": [
            "\n", 
            "\n", 
            "Similarly to the $\\ell_1-\\ell_2$-norm, the proximity operator of the $\\ell_1$-norm\n", 
            "is a soft-thresholding on each coefficients.\n", 
            "Because $\\Psi$ is orthogonal, it is also a tight frame operator\n", 
            "with bound $b=1$.\n", 
            "\n", 
            "\n", 
            "Create the proximity operator of $ G_5 $.\n", 
            ""
          ]
        }, 
        {
          "cell_type": "code", 
          "collapsed": false, 
          "input": [
            "l1norm = lambda wx: abs(wx)\n", 
            "proxl1 = lambda wx,gamma:  max(0,1 - gamma./l1norm(wx) ).*wx\n", 
            "proxG5 = lambda x,gamma:  Psis( proxl1(Psi(x),gamma) )"
          ], 
          "language": "python", 
          "outputs": []
        }, 
        {
          "cell_type": "heading", 
          "level": 3, 
          "metadata": {}, 
          "source": [
            "Exercise 5"
          ]
        }, 
        {
          "cell_type": "markdown", 
          "metadata": {}, 
          "source": [
            "\n", 
            "Solve the composite regularization model. Keep the previous value of\n", 
            "$\\la$, set $\\mu = 10^{-3}$,\n", 
            "and perform 500 iterations. Display the results and compare\n", 
            "visually to the previous one. Is the SNR significantly improved ?\n", 
            "Conclude on the SNR as a quality criterium, and on the usefulness of mixing different regularizations priors.\n", 
            "\n", 
            "\n", 
            "\n", 
            "\n", 
            "\n", 
            "\n", 
            "\n", 
            "\n", 
            "\n", 
            "\n", 
            "\n", 
            "\n", 
            "\n", 
            "\n", 
            "\n", 
            ""
          ]
        }, 
        {
          "cell_type": "code", 
          "collapsed": false, 
          "input": [
            "## Insert your code here."
          ], 
          "language": "python", 
          "outputs": []
        }
      ]
    }
  ]
}