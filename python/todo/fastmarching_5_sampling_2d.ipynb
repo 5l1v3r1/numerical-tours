{
  "metadata": {
    "name": ""
  }, 
  "nbformat": 3, 
  "nbformat_minor": 0, 
  "worksheets": [
    {
      "cells": [
        {
          "cell_type": "heading", 
          "level": 1, 
          "metadata": {}, 
          "source": [
            "Geodesic Farthest Point Sampling"
          ]
        }, 
        {
          "cell_type": "markdown", 
          "metadata": {}, 
          "source": [
            "This tour explores the use geodesic computation to perform image\n", 
            "sampling.\n", 
            ""
          ]
        }, 
        {
          "cell_type": "markdown", 
          "metadata": {}, 
          "source": [
            "*Important:* You need to download the file `nt_toolbox.py` from the \n", 
            "root of the github repository.\n", 
            "$\\newcommand{\\dotp}[2]{\\langle #1, #2 \\rangle}\n", 
            "\\newcommand{\\enscond}[2]{\\lbrace #1, #2 \\rbrace}\n", 
            "\\newcommand{\\pd}[2]{ \\frac{ \\partial #1}{\\partial #2} }\n", 
            "\\newcommand{\\umin}[1]{\\underset{#1}{\\min}\\;}\n", 
            "\\newcommand{\\norm}[1]{\\|#1\\|}\n", 
            "\\newcommand{\\abs}[1]{\\left|#1\\right|}\n", 
            "\\newcommand{\\choice}[1]{ \\left\\{  \\begin{array}{l} #1 \\end{array} \\right. }\n", 
            "\\newcommand{\\pa}[1]{\\left(#1\\right)}\n", 
            "\\newcommand{\\qandq}{\\quad\\text{and}\\quad}\n", 
            "\\newcommand{\\qwhereq}{\\quad\\text{where}\\quad}\n", 
            "\\newcommand{\\qifq}{ \\quad \\text{if} \\quad }\n", 
            "\\newcommand{\\qarrq}{ \\quad \\Longrightarrow \\quad }\n", 
            "\\newcommand{\\ZZ}{\\mathbb{Z}}\n", 
            "\\newcommand{\\RR}{\\mathbb{R}}\n", 
            "\\newcommand{\\Nn}{\\mathcal{N}}\n", 
            "\\newcommand{\\Hh}{\\mathcal{H}}\n", 
            "\\newcommand{\\Bb}{\\mathcal{B}}\n", 
            "\\newcommand{\\EE}{\\mathbb{E}}\n", 
            "\\newcommand{\\CC}{\\mathbb{C}}\n", 
            "\\newcommand{\\si}{\\sigma}\n", 
            "\\newcommand{\\al}{\\alpha}\n", 
            "\\newcommand{\\la}{\\lambda}\n", 
            "\\newcommand{\\ga}{\\gamma}\n", 
            "\\newcommand{\\Ga}{\\Gamma}\n", 
            "\\newcommand{\\La}{\\Lambda}\n", 
            "\\newcommand{\\si}{\\sigma}\n", 
            "\\newcommand{\\Si}{\\Sigma}\n", 
            "\\newcommand{\\be}{\\beta}\n", 
            "\\newcommand{\\de}{\\delta}\n", 
            "\\newcommand{\\De}{\\Delta}\n", 
            "\\renewcommand{\\phi}{\\varphi}\n", 
            "\\renewcommand{\\th}{\\theta}\n", 
            "\\newcommand{\\om}{\\omega}\n", 
            "\\newcommand{\\Om}{\\Omega}\n", 
            "$"
          ]
        }, 
        {
          "cell_type": "code", 
          "collapsed": false, 
          "input": [
            "from nt_toolbox import *", 
            "%matplotlib inline", 
            "%load_ext autoreload", 
            "%autoreload 2"
          ], 
          "language": "python", 
          "outputs": []
        }, 
        {
          "cell_type": "markdown", 
          "metadata": {}, 
          "source": [
            "\n", 
            "CMT"
          ]
        }, 
        {
          "cell_type": "code", 
          "collapsed": false, 
          "input": [
            "rep = 'results/fastmarching_sampling/'\n", 
            "if not(exist(rep))\n", 
            "    mkdir(rep)\n", 
            ""
          ], 
          "language": "python", 
          "outputs": []
        }, 
        {
          "cell_type": "markdown", 
          "metadata": {}, 
          "source": [
            "CMT\n", 
            ""
          ]
        }, 
        {
          "cell_type": "heading", 
          "level": 2, 
          "metadata": {}, 
          "source": [
            "Voronoi Segmentation\n"
          ]
        }, 
        {
          "cell_type": "markdown", 
          "metadata": {}, 
          "source": [
            "A geodesic Voronoi segementation is obtained by computing a geodesic distance from\n", 
            "multiple starting points.\n", 
            "\n", 
            "\n", 
            "Compute an image with bumps.\n", 
            ""
          ]
        }, 
        {
          "cell_type": "code", 
          "collapsed": false, 
          "input": [
            "n = 256; % size of the image\n", 
            "sigma = n/8; % width of the bumps\n", 
            "[Y,X] = meshgrid(1:n,1:n)\n", 
            "x = n/4; y = n/4\n", 
            "M = exp( -( (X-x).^2 + (Y-y).^2 )/(2*sigma^2) )\n", 
            "x = 3*n/4; y = 3*n/4\n", 
            "M = M + exp( -( (X-x).^2 + (Y-y).^2 )/(2*sigma^2) )"
          ], 
          "language": "python", 
          "outputs": []
        }, 
        {
          "cell_type": "markdown", 
          "metadata": {}, 
          "source": [
            "\n", 
            "\n", 
            "Compute a metric by rescaling |M|.\n", 
            ""
          ]
        }, 
        {
          "cell_type": "code", 
          "collapsed": false, 
          "input": [
            "W = rescale(M,1e-2,1)"
          ], 
          "language": "python", 
          "outputs": []
        }, 
        {
          "cell_type": "markdown", 
          "metadata": {}, 
          "source": [
            "\n", 
            "\n", 
            "Create random starting points.\n", 
            ""
          ]
        }, 
        {
          "cell_type": "code", 
          "collapsed": false, 
          "input": [
            "m = 20\n", 
            "pstart = floor( rand(2,m)*(n-1) ) +1"
          ], 
          "language": "python", 
          "outputs": []
        }, 
        {
          "cell_type": "markdown", 
          "metadata": {}, 
          "source": [
            "\n", 
            "\n", 
            "\n", 
            "Perform the propagation using the Fast Marching.\n", 
            ""
          ]
        }, 
        {
          "cell_type": "code", 
          "collapsed": false, 
          "input": [
            "[D,Z,Q] = perform_fast_marching(1./W, pstart)"
          ], 
          "language": "python", 
          "outputs": []
        }, 
        {
          "cell_type": "markdown", 
          "metadata": {}, 
          "source": [
            "\n", 
            "\n", 
            "\n", 
            "Display the distance map.\n", 
            ""
          ]
        }, 
        {
          "cell_type": "code", 
          "collapsed": false, 
          "input": [
            "\n", 
            "subplot(1,2,1)\n", 
            "hold on\n", 
            "imageplot(perform_hist_eq(D,'linear'));  title('Geodesic distance')\n", 
            "plot(pstart(2,:), pstart(1,:), 'r.')\n", 
            "subplot(1,2,2)\n", 
            "hold on\n", 
            "imageplot(Q); title('Voronoi')\n", 
            "plot(pstart(2,:), pstart(1,:), 'r.')\n", 
            "colormap jet(256)"
          ], 
          "language": "python", 
          "outputs": []
        }, 
        {
          "cell_type": "heading", 
          "level": 2, 
          "metadata": {}, 
          "source": [
            "Geodesic Delaunay Triangulation\n"
          ]
        }, 
        {
          "cell_type": "markdown", 
          "metadata": {}, 
          "source": [
            "A geodesic Delaunay triangulation is obtained by linking starting points\n", 
            "whose Voronoi cells touch. This is the dual of the original Voronoi segmentation.\n", 
            ""
          ]
        }, 
        {
          "cell_type": "heading", 
          "level": 3, 
          "metadata": {}, 
          "source": [
            "Exercise 1"
          ]
        }, 
        {
          "cell_type": "markdown", 
          "metadata": {}, 
          "source": [
            "\n", 
            "Using |Q|, compute the faces |faces| of the Delaunay triangulation.\n", 
            "To that end,\n", 
            "extract each quad of values |Q(i,j),Q(i+1,j),Q(i+1,j+1),Q(i,j+1)|,\n", 
            "and add a new face when three of these four values are different (this\n", 
            "corresponds to a Voronoi point).\n", 
            "Display the obtained triangulation.\n", 
            "compute quad of values\n", 
            "\n", 
            "\n", 
            "\n", 
            "\n", 
            "\n", 
            "\n", 
            "\n", 
            "\n", 
            "\n", 
            "\n", 
            "\n", 
            "\n", 
            ""
          ]
        }, 
        {
          "cell_type": "code", 
          "collapsed": false, 
          "input": [
            "## Insert your code here."
          ], 
          "language": "python", 
          "outputs": []
        }, 
        {
          "cell_type": "markdown", 
          "metadata": {}, 
          "source": [
            "\n", 
            "\n", 
            "\n", 
            "Display the obtained triangulation.\n", 
            ""
          ]
        }, 
        {
          "cell_type": "code", 
          "collapsed": false, 
          "input": [
            "\n", 
            "subplot(1,2,1)\n", 
            "hold on\n", 
            "imageplot(Q, 'Voronoi'); axis ij\n", 
            "plot(pstart(2,:), pstart(1,:), 'r.')\n", 
            "subplot(1,2,2)\n", 
            "plot_triangulation(pstart,faces, M)\n", 
            "colormap jet(256)"
          ], 
          "language": "python", 
          "outputs": []
        }, 
        {
          "cell_type": "markdown", 
          "metadata": {}, 
          "source": [
            "\n", 
            "\n", 
            "Compare this Geodesic Delaunay triangulation with the Euclidean\n", 
            "triangulation.\n", 
            ""
          ]
        }, 
        {
          "cell_type": "code", 
          "collapsed": false, 
          "input": [
            "faces_euc = compute_delaunay(pstart)"
          ], 
          "language": "python", 
          "outputs": []
        }, 
        {
          "cell_type": "markdown", 
          "metadata": {}, 
          "source": [
            "\n", 
            "\n", 
            "Display.\n", 
            ""
          ]
        }, 
        {
          "cell_type": "code", 
          "collapsed": false, 
          "input": [
            "\n", 
            "subplot(1,2,1)\n", 
            "plot_triangulation(pstart,faces, M); title('Geodesic')\n", 
            "subplot(1,2,2)\n", 
            "plot_triangulation(pstart,faces_euc, M); title('Euclidean')\n", 
            "colormap jet(256)"
          ], 
          "language": "python", 
          "outputs": []
        }, 
        {
          "cell_type": "heading", 
          "level": 2, 
          "metadata": {}, 
          "source": [
            "Farthest Point Sampling\n"
          ]
        }, 
        {
          "cell_type": "markdown", 
          "metadata": {}, 
          "source": [
            "To sample point uniformly according to the geodesic distance, one can use\n", 
            "an iterative farthest point sampling scheme.\n", 
            "\n", 
            "\n", 
            "Construct a metric that is large in area where we want to sample more\n", 
            "points. The front should move slowly in high density sampling region.\n", 
            ""
          ]
        }, 
        {
          "cell_type": "code", 
          "collapsed": false, 
          "input": [
            "W = rescale(M,3*1e-1,1)"
          ], 
          "language": "python", 
          "outputs": []
        }, 
        {
          "cell_type": "markdown", 
          "metadata": {}, 
          "source": [
            "\n", 
            "\n", 
            "Choose the initial point.\n", 
            ""
          ]
        }, 
        {
          "cell_type": "code", 
          "collapsed": false, 
          "input": [
            "vertex = [1;1]"
          ], 
          "language": "python", 
          "outputs": []
        }, 
        {
          "cell_type": "markdown", 
          "metadata": {}, 
          "source": [
            "\n", 
            "\n", 
            "Compute the geodesic distance.\n", 
            ""
          ]
        }, 
        {
          "cell_type": "code", 
          "collapsed": false, 
          "input": [
            "[D,Z,Q] = perform_fast_marching(1./W, vertex)"
          ], 
          "language": "python", 
          "outputs": []
        }, 
        {
          "cell_type": "markdown", 
          "metadata": {}, 
          "source": [
            "\n", 
            "\n", 
            "Choose the second point as the farthest point.\n", 
            ""
          ]
        }, 
        {
          "cell_type": "code", 
          "collapsed": false, 
          "input": [
            "[tmp,i] = max(D(:))\n", 
            "[x,y] = ind2sub([n n],i)\n", 
            "vertex(:,end+1) = [x;y]"
          ], 
          "language": "python", 
          "outputs": []
        }, 
        {
          "cell_type": "markdown", 
          "metadata": {}, 
          "source": [
            "\n", 
            "\n", 
            "Display distance and points.\n", 
            ""
          ]
        }, 
        {
          "cell_type": "code", 
          "collapsed": false, 
          "input": [
            "\n", 
            "subplot(1,2,1)\n", 
            "hold on\n", 
            "imageplot(W, 'Metric'); axis ij\n", 
            "plot(vertex(2,1), vertex(1,1), 'r.')\n", 
            "plot(vertex(2,2), vertex(1,2), 'b.')\n", 
            "subplot(1,2,2)\n", 
            "hold on\n", 
            "imageplot( perform_hist_eq(D, 'linear'), 'Distance'); axis ij\n", 
            "plot(vertex(2,1), vertex(1,1), 'r.')\n", 
            "plot(vertex(2,2), vertex(1,2), 'b.')\n", 
            "colormap jet(256)"
          ], 
          "language": "python", 
          "outputs": []
        }, 
        {
          "cell_type": "markdown", 
          "metadata": {}, 
          "source": [
            "\n", 
            "\n", 
            "Update the value of the distance map with a partial propagation from the last added point.\n", 
            ""
          ]
        }, 
        {
          "cell_type": "code", 
          "collapsed": false, 
          "input": [
            "options.constraint_map = D\n", 
            "[D1,Z,Q] = perform_fast_marching(1./W, vertex(:,end), options)"
          ], 
          "language": "python", 
          "outputs": []
        }, 
        {
          "cell_type": "markdown", 
          "metadata": {}, 
          "source": [
            "display old/new"
          ]
        }, 
        {
          "cell_type": "code", 
          "collapsed": false, 
          "input": [
            "\n", 
            "imageplot( convert_distance_color(D,M,1), 'Update distance', 1,3,1 )\n", 
            "imageplot( convert_distance_color(D1,M,1), 'Update distance', 1,3,2 )\n", 
            "imageplot( convert_distance_color(min(D,D1),M,1), 'New distance', 1,3,3 )"
          ], 
          "language": "python", 
          "outputs": []
        }, 
        {
          "cell_type": "markdown", 
          "metadata": {}, 
          "source": [
            "update"
          ]
        }, 
        {
          "cell_type": "code", 
          "collapsed": false, 
          "input": [
            "D = min(D,D1)"
          ], 
          "language": "python", 
          "outputs": []
        }, 
        {
          "cell_type": "markdown", 
          "metadata": {}, 
          "source": [
            "\n", 
            ""
          ]
        }, 
        {
          "cell_type": "heading", 
          "level": 3, 
          "metadata": {}, 
          "source": [
            "Exercise 2"
          ]
        }, 
        {
          "cell_type": "markdown", 
          "metadata": {}, 
          "source": [
            "\n", 
            "Iterate the sampling process to add more and more points.\n", 
            "\n", 
            "\n", 
            "\n", 
            "\n", 
            "\n", 
            "\n", 
            "\n", 
            "\n", 
            "\n", 
            "\n", 
            "\n", 
            "\n", 
            "\n", 
            "\n", 
            "\n", 
            "\n", 
            "\n", 
            "\n", 
            "\n", 
            "\n", 
            "\n", 
            "\n", 
            "\n", 
            "\n", 
            "\n", 
            ""
          ]
        }, 
        {
          "cell_type": "code", 
          "collapsed": false, 
          "input": [
            "## Insert your code here."
          ], 
          "language": "python", 
          "outputs": []
        }, 
        {
          "cell_type": "markdown", 
          "metadata": {}, 
          "source": [
            "\n", 
            ""
          ]
        }, 
        {
          "cell_type": "heading", 
          "level": 3, 
          "metadata": {}, 
          "source": [
            "Exercise 3"
          ]
        }, 
        {
          "cell_type": "markdown", 
          "metadata": {}, 
          "source": [
            "\n", 
            "Display the geodesic Delaunay triangulation corresponding to the\n", 
            "sampling\n", 
            "\n", 
            "\n", 
            "\n", 
            "\n", 
            "\n", 
            ""
          ]
        }, 
        {
          "cell_type": "code", 
          "collapsed": false, 
          "input": [
            "## Insert your code here."
          ], 
          "language": "python", 
          "outputs": []
        }, 
        {
          "cell_type": "markdown", 
          "metadata": {}, 
          "source": [
            "\n", 
            ""
          ]
        }, 
        {
          "cell_type": "heading", 
          "level": 2, 
          "metadata": {}, 
          "source": [
            "Lloyd Relaxation\n"
          ]
        }, 
        {
          "cell_type": "markdown", 
          "metadata": {}, 
          "source": [
            "The farthest point sampling strategy is greedy and does not move the\n", 
            "positions of the points once they are seeded.\n", 
            "\n", 
            "\n", 
            "To enhance the sampling, it is possible to relocate iteratively the\n", 
            "points at the center of the Voronoi cells. This corresponds to the Lloyd\n", 
            "algorithm, first developped for vector quantization.\n", 
            "\n", 
            "\n", 
            "First with a constant metric.\n", 
            ""
          ]
        }, 
        {
          "cell_type": "code", 
          "collapsed": false, 
          "input": [
            "n = 512\n", 
            "W = ones(n)"
          ], 
          "language": "python", 
          "outputs": []
        }, 
        {
          "cell_type": "markdown", 
          "metadata": {}, 
          "source": [
            "\n", 
            "\n", 
            "Seed random points.\n", 
            ""
          ]
        }, 
        {
          "cell_type": "code", 
          "collapsed": false, 
          "input": [
            "p = 40\n", 
            "vertex = floor(rand(2,p)*n-1)+1"
          ], 
          "language": "python", 
          "outputs": []
        }, 
        {
          "cell_type": "markdown", 
          "metadata": {}, 
          "source": [
            "\n", 
            "\n", 
            "Compute Voronoi partition.\n", 
            ""
          ]
        }, 
        {
          "cell_type": "code", 
          "collapsed": false, 
          "input": [
            "[D,Z,Q] = perform_fast_marching(1./W, vertex)"
          ], 
          "language": "python", 
          "outputs": []
        }, 
        {
          "cell_type": "markdown", 
          "metadata": {}, 
          "source": [
            "\n", 
            "\n", 
            "\n", 
            "Display Vornoi cells.\n", 
            ""
          ]
        }, 
        {
          "cell_type": "code", 
          "collapsed": false, 
          "input": [
            "clf; hold on\n", 
            "imageplot(Q')\n", 
            "h = plot(vertex(1,:), vertex(2,:), 'k.')\n", 
            "set(h, 'MarkerSize', 15)\n", 
            "colormap(jet(256))"
          ], 
          "language": "python", 
          "outputs": []
        }, 
        {
          "cell_type": "markdown", 
          "metadata": {}, 
          "source": [
            "\n", 
            "\n", 
            "Re-center each point at the barycenter of its cell.\n", 
            ""
          ]
        }, 
        {
          "cell_type": "code", 
          "collapsed": false, 
          "input": [
            "for i in 1:p:\n", 
            "    [x,y] = ind2sub(size(W), find(Q==i))\n", 
            "    vertex(:,i) = [mean(x);mean(y)]\n", 
            ""
          ], 
          "language": "python", 
          "outputs": []
        }, 
        {
          "cell_type": "markdown", 
          "metadata": {}, 
          "source": [
            "\n", 
            "\n", 
            "Display updated partitions.\n", 
            ""
          ]
        }, 
        {
          "cell_type": "code", 
          "collapsed": false, 
          "input": [
            "[D,Z,Q] = perform_fast_marching(1./W, vertex)\n", 
            "clf; hold on\n", 
            "imageplot(Q')\n", 
            "h = plot(vertex(1,:), vertex(2,:), 'k.')\n", 
            "set(h, 'MarkerSize', 15)\n", 
            "colormap(jet(256))"
          ], 
          "language": "python", 
          "outputs": []
        }, 
        {
          "cell_type": "heading", 
          "level": 3, 
          "metadata": {}, 
          "source": [
            "Exercise 4"
          ]
        }, 
        {
          "cell_type": "markdown", 
          "metadata": {}, 
          "source": [
            "\n", 
            "Perform the Lloyd iterative algorithm.\n", 
            "metric\n", 
            "\n", 
            "Seed random points.\n", 
            "\n", 
            "\n", 
            "\n", 
            "\n", 
            "\n", 
            "\n", 
            "\n", 
            "\n", 
            "\n", 
            "\n", 
            "\n", 
            "\n", 
            "\n", 
            "\n", 
            "\n", 
            "\n", 
            "\n", 
            "\n", 
            "\n", 
            "\n", 
            ""
          ]
        }, 
        {
          "cell_type": "code", 
          "collapsed": false, 
          "input": [
            "## Insert your code here."
          ], 
          "language": "python", 
          "outputs": []
        }, 
        {
          "cell_type": "markdown", 
          "metadata": {}, 
          "source": [
            "\n", 
            "\n", 
            "CMT\n", 
            "metric"
          ]
        }, 
        {
          "cell_type": "code", 
          "collapsed": false, 
          "input": [
            "n = 512; W = ones(n)"
          ], 
          "language": "python", 
          "outputs": []
        }, 
        {
          "cell_type": "markdown", 
          "metadata": {}, 
          "source": [
            "Seed random points."
          ]
        }, 
        {
          "cell_type": "code", 
          "collapsed": false, 
          "input": [
            "p = 150\n", 
            "rand('state',1234)\n", 
            "vertex = floor(rand(2,p)*(n-1))+1\n", 
            "disp_list = [1,2,5,30]; k = 1\n", 
            "for i in 1:max(disp_list):\n", 
            "    % Compute Voronoi partition.\n", 
            "    [D,Z,Q] = perform_fast_marching(1./W, vertex)\n", 
            "    if i==disp_list(k)\n", 
            "\n", 
            "        imageplot(Q'); hold on\n", 
            "        h = plot(vertex(1,:), vertex(2,:), 'k.')\n", 
            "        set(h, 'MarkerSize', 15)\n", 
            "        colormap(jet(256))\n", 
            "        saveas(gcf, [rep 'lloyd-constant-' num2str(i) '.eps'], 'epsc')\n", 
            "        k = k+1\n", 
            "\n", 
            "    % Re-center each point at the barycenter of its cell.    \n", 
            "for i in 1:p:\n", 
            "        [x,y] = ind2sub(size(W), find(Q==i))\n", 
            "        vertex(:,i) = [mean(x);mean(y)]\n", 
            "\n", 
            ""
          ], 
          "language": "python", 
          "outputs": []
        }, 
        {
          "cell_type": "markdown", 
          "metadata": {}, 
          "source": [
            "CMT\n", 
            "\n", 
            "\n", 
            "Now we define a non-constent metric.\n", 
            ""
          ]
        }, 
        {
          "cell_type": "code", 
          "collapsed": false, 
          "input": [
            "n = 256\n", 
            "x = linspace(-1,1,n)\n", 
            "[Y,X] = meshgrid(x,x)\n", 
            "sigma = .3\n", 
            "W = exp( -(X.^2+Y.^2)/(2*sigma^2) )\n", 
            "W = rescale(W,.02,1)"
          ], 
          "language": "python", 
          "outputs": []
        }, 
        {
          "cell_type": "markdown", 
          "metadata": {}, 
          "source": [
            "\n", 
            "\n", 
            "Display.\n", 
            ""
          ]
        }, 
        {
          "cell_type": "code", 
          "collapsed": false, 
          "input": [
            "\n", 
            "imageplot(W)"
          ], 
          "language": "python", 
          "outputs": []
        }, 
        {
          "cell_type": "heading", 
          "level": 3, 
          "metadata": {}, 
          "source": [
            "Exercise 5"
          ]
        }, 
        {
          "cell_type": "markdown", 
          "metadata": {}, 
          "source": [
            "\n", 
            "Perform the Lloyd iterative algorithm.\n", 
            "Seed random points.\n", 
            "\n", 
            "\n", 
            "\n", 
            "\n", 
            "\n", 
            "\n", 
            "\n", 
            "\n", 
            "\n", 
            "\n", 
            "\n", 
            "\n", 
            "\n", 
            "\n", 
            "\n", 
            "\n", 
            "\n", 
            "\n", 
            "\n", 
            "\n", 
            ""
          ]
        }, 
        {
          "cell_type": "code", 
          "collapsed": false, 
          "input": [
            "## Insert your code here."
          ], 
          "language": "python", 
          "outputs": []
        }, 
        {
          "cell_type": "markdown", 
          "metadata": {}, 
          "source": [
            "\n", 
            "\n", 
            "\n", 
            "CMT\n", 
            "Seed random points."
          ]
        }, 
        {
          "cell_type": "code", 
          "collapsed": false, 
          "input": [
            "p = 150\n", 
            "rand('state',1234)\n", 
            "vertex = floor(rand(2,p)*(n-1))+1\n", 
            "disp_list = [1,2,5,30]; k = 1\n", 
            "for i in 1:max(disp_list):\n", 
            "    % Compute Voronoi partition.\n", 
            "    [D,Z,Q] = perform_fast_marching(1./W, vertex)\n", 
            "    if i==disp_list(k)\n", 
            "\n", 
            "        imageplot(Q'); hold on\n", 
            "        h = plot(vertex(1,:), vertex(2,:), 'k.')\n", 
            "        set(h, 'MarkerSize', 15)\n", 
            "        colormap(jet(256))\n", 
            "        saveas(gcf, [rep 'lloyd-gaussian-' num2str(i) '.eps'], 'epsc')\n", 
            "        k = k+1\n", 
            "\n", 
            "    % Re-center each point at the barycenter of its cell.    \n", 
            "for i in 1:p:\n", 
            "        [x,y] = ind2sub(size(W), find(Q==i))\n", 
            "        vertex(:,i) = [mean(x);mean(y)]\n", 
            "\n", 
            ""
          ], 
          "language": "python", 
          "outputs": []
        }
      ]
    }
  ]
}