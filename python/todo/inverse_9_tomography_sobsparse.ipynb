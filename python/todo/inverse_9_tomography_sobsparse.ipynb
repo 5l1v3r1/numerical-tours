{
  "metadata": {
    "name": ""
  }, 
  "nbformat": 3, 
  "nbformat_minor": 0, 
  "worksheets": [
    {
      "cells": [
        {
          "cell_type": "heading", 
          "level": 1, 
          "metadata": {}, 
          "source": [
            "Tomography Inversion using Tikhonov and Sparse Regularization"
          ]
        }, 
        {
          "cell_type": "markdown", 
          "metadata": {}, 
          "source": [
            "This numerical tour explores the reconstruction from tomographic\n", 
            "measurement with Sobolev and sparse regularization.\n", 
            ""
          ]
        }, 
        {
          "cell_type": "markdown", 
          "metadata": {}, 
          "source": [
            "*Important:* You need to download the file `nt_toolbox.py` from the \n", 
            "root of the github repository.\n", 
            "$\\newcommand{\\dotp}[2]{\\langle #1, #2 \\rangle}\n", 
            "\\newcommand{\\enscond}[2]{\\lbrace #1, #2 \\rbrace}\n", 
            "\\newcommand{\\pd}[2]{ \\frac{ \\partial #1}{\\partial #2} }\n", 
            "\\newcommand{\\umin}[1]{\\underset{#1}{\\min}\\;}\n", 
            "\\newcommand{\\norm}[1]{\\|#1\\|}\n", 
            "\\newcommand{\\abs}[1]{\\left|#1\\right|}\n", 
            "\\newcommand{\\choice}[1]{ \\left\\{  \\begin{array}{l} #1 \\end{array} \\right. }\n", 
            "\\newcommand{\\pa}[1]{\\left(#1\\right)}\n", 
            "\\newcommand{\\qandq}{\\quad\\text{and}\\quad}\n", 
            "\\newcommand{\\qwhereq}{\\quad\\text{where}\\quad}\n", 
            "\\newcommand{\\qifq}{ \\quad \\text{if} \\quad }\n", 
            "\\newcommand{\\qarrq}{ \\quad \\Longrightarrow \\quad }\n", 
            "\\newcommand{\\ZZ}{\\mathbb{Z}}\n", 
            "\\newcommand{\\RR}{\\mathbb{R}}\n", 
            "\\newcommand{\\Nn}{\\mathcal{N}}\n", 
            "\\newcommand{\\Hh}{\\mathcal{H}}\n", 
            "\\newcommand{\\Bb}{\\mathcal{B}}\n", 
            "\\newcommand{\\EE}{\\mathbb{E}}\n", 
            "\\newcommand{\\CC}{\\mathbb{C}}\n", 
            "\\newcommand{\\si}{\\sigma}\n", 
            "\\newcommand{\\al}{\\alpha}\n", 
            "\\newcommand{\\la}{\\lambda}\n", 
            "\\newcommand{\\ga}{\\gamma}\n", 
            "\\newcommand{\\Ga}{\\Gamma}\n", 
            "\\newcommand{\\La}{\\Lambda}\n", 
            "\\newcommand{\\si}{\\sigma}\n", 
            "\\newcommand{\\Si}{\\Sigma}\n", 
            "\\newcommand{\\be}{\\beta}\n", 
            "\\newcommand{\\de}{\\delta}\n", 
            "\\newcommand{\\De}{\\Delta}\n", 
            "\\renewcommand{\\phi}{\\varphi}\n", 
            "\\renewcommand{\\th}{\\theta}\n", 
            "\\newcommand{\\om}{\\omega}\n", 
            "\\newcommand{\\Om}{\\Omega}\n", 
            "$"
          ]
        }, 
        {
          "cell_type": "code", 
          "collapsed": false, 
          "input": [
            "from nt_toolbox import *", 
            "%matplotlib inline", 
            "%load_ext autoreload", 
            "%autoreload 2"
          ], 
          "language": "python", 
          "outputs": []
        }, 
        {
          "cell_type": "markdown", 
          "metadata": {}, 
          "source": [
            "\n", 
            "CMT"
          ]
        }, 
        {
          "cell_type": "code", 
          "collapsed": false, 
          "input": [
            "rep = 'results/inverse_9_tomography_sobsparse/'\n", 
            "if not(exist(rep))\n", 
            "    mkdir(rep)\n", 
            ""
          ], 
          "language": "python", 
          "outputs": []
        }, 
        {
          "cell_type": "markdown", 
          "metadata": {}, 
          "source": [
            "CMT\n", 
            ""
          ]
        }, 
        {
          "cell_type": "heading", 
          "level": 2, 
          "metadata": {}, 
          "source": [
            "Tomography and Regularization\n"
          ]
        }, 
        {
          "cell_type": "markdown", 
          "metadata": {}, 
          "source": [
            "We consider here tomography measurements $ y = \\Phi f_0 + w $, where\n", 
            "$f_0$ is the (unknown) image to recover, and $w$ is an additive\n", 
            "noise.\n", 
            "\n", 
            "\n", 
            "The tomography operator $\\Phi$ is ill-posed, so it cannot be inverted.\n", 
            "\n", 
            "\n", 
            "We consider variational reconstruction methods, that finds a solution\n", 
            "through a convex optimization:\n", 
            " $$f^\\star \\in \\text{argmin}_f \\frac{1}{2}\\|y-\\Phi f\\|^2 + \\lambda J(f)$$\n", 
            "\n", 
            "\n", 
            "\n", 
            "Where $J(f)$ is a prior energy. In this tour we consider a\n", 
            "a Sobolev prior\n", 
            "(the image is uniformly smooth) and a sparse wavelet prior (the image is expected to be compressible\n", 
            "in a wavelet basis).\n", 
            "\n", 
            "\n", 
            "Note that the parameter $\\lambda$ should be carefully chosen to fit the\n", 
            "noise level.\n", 
            ""
          ]
        }, 
        {
          "cell_type": "heading", 
          "level": 2, 
          "metadata": {}, 
          "source": [
            "Tomography Acquisition over the Fourier Domain\n"
          ]
        }, 
        {
          "cell_type": "markdown", 
          "metadata": {}, 
          "source": [
            "The tomography operator computes the projection of the signal along rays.\n", 
            "It corresponds to the Radon transform\n", 
            "$$ (T_\\theta f)( t ) = \\int_{\\Delta_{\\theta,t}} f(x) d x, $$\n", 
            "where $\\Delta_{\\theta,t}$ is the line\n", 
            "$$ \\Delta_{\\theta,t} = \\{ x = (x_1,x_2) \\::\\: x_1 \\cos(\\theta)\n", 
            "+ x_2 \\sin(\\theta) = t \\}. $$\n", 
            "\n", 
            "\n", 
            "A tomography measurment computes $$ \\{ T_{\\theta_i} f \\}_{i=0}^{q-1}$$\n", 
            "for a small sub-set of $q$ orientation $ \\theta_i \\in [0,\\pi) $.\n", 
            "\n", 
            "\n", 
            "Set the number $q$ of rays used for the experiments.\n", 
            ""
          ]
        }, 
        {
          "cell_type": "code", 
          "collapsed": false, 
          "input": [
            "q = 32"
          ], 
          "language": "python", 
          "outputs": []
        }, 
        {
          "cell_type": "markdown", 
          "metadata": {}, 
          "source": [
            "\n", 
            "\n", 
            "Size of the image, the number of pixels is $N=n^2$.\n", 
            ""
          ]
        }, 
        {
          "cell_type": "code", 
          "collapsed": false, 
          "input": [
            "n = 256"
          ], 
          "language": "python", 
          "outputs": []
        }, 
        {
          "cell_type": "markdown", 
          "metadata": {}, 
          "source": [
            "\n", 
            "\n", 
            "The Fourier Slice Theorem shows that obtaining the measurements\n", 
            "$ T_{\\theta} f $\n", 
            "is equivalent to computing slice of the 2D Fourier transform of $f$\n", 
            "along a ray of direction $\\theta$\n", 
            "$$ \\hat T_{\\theta} f(\\omega) = \\hat f( r \\cos(\\theta), r \\cos(\\theta) ). $$\n", 
            "\n", 
            "\n", 
            "In this tour, we thus consider a discrete Fourier version of the Tomography\n", 
            "operator. It corresponds to sampling the Fourier transform of the image\n", 
            "along discretized rays $\\Omega$.\n", 
            "\n", 
            "\n", 
            "Compute the set of rays $ \\Omega $ by computing the mask $ \\xi $\n", 
            "so that $ \\xi(\\omega)=1 $ if $ \\omega \\in \\Omega $ and $ \\xi(\\omega) = 0 $\n", 
            "otherwise.\n", 
            ""
          ]
        }, 
        {
          "cell_type": "code", 
          "collapsed": false, 
          "input": [
            "Theta = linspace(0,pi,q+1); Theta(end) = []\n", 
            "xi = zeros(n,n)\n", 
            "for theta  in  Theta:\n", 
            "    t = linspace(-1,1,3*n)*n\n", 
            "    x = round(t.*cos(theta)) + n/2+1; y = round(t.*sin(theta)) + n/2+1\n", 
            "    I = find(x>0 & x<=n & y>0 & y<=n); x = x(I); y = y(I)\n", 
            "    xi(x+(y-1)*n) = 1\n", 
            ""
          ], 
          "language": "python", 
          "outputs": []
        }, 
        {
          "cell_type": "markdown", 
          "metadata": {}, 
          "source": [
            "\n", 
            "\n", 
            "In Matlab, the 0 frequency is in the upper-left corner.\n", 
            ""
          ]
        }, 
        {
          "cell_type": "code", 
          "collapsed": false, 
          "input": [
            "xi = fftshift(xi)"
          ], 
          "language": "python", 
          "outputs": []
        }, 
        {
          "cell_type": "markdown", 
          "metadata": {}, 
          "source": [
            "\n", 
            "\n", 
            "Display the mask.\n", 
            ""
          ]
        }, 
        {
          "cell_type": "code", 
          "collapsed": false, 
          "input": [
            "\n", 
            "imageplot(fftshift(xi))"
          ], 
          "language": "python", 
          "outputs": []
        }, 
        {
          "cell_type": "markdown", 
          "metadata": {}, 
          "source": [
            "\n", 
            "\n", 
            "Sampling the Fourier transform for points is equivalent to masking the Fourier\n", 
            "transform $\\hat f$ of $f$. We thus define our Fourier tomography\n", 
            "measurements operator as\n", 
            "$$ \\Phi f(\\omega) = \\hat f(\\omega) \\xi(\\omega) $$\n", 
            "where $ \\hat f $ is the 2-D discrete Fourier transform of $f$.\n", 
            "\n", 
            "\n", 
            "Define a shortcut for the operator. Note the normalization of the FFT by\n", 
            "$1/n$ to make it orthonormal.\n", 
            ""
          ]
        }, 
        {
          "cell_type": "code", 
          "collapsed": false, 
          "input": [
            "Phi  = lambda f: fft2(f).*xi / n"
          ], 
          "language": "python", 
          "outputs": []
        }, 
        {
          "cell_type": "markdown", 
          "metadata": {}, 
          "source": [
            "\n", 
            "\n", 
            "Load the clean high resolution image.\n", 
            ""
          ]
        }, 
        {
          "cell_type": "code", 
          "collapsed": false, 
          "input": [
            "name = 'mri'\n", 
            "f0 = load_image(name,n)\n", 
            "f0 = rescale(f0)"
          ], 
          "language": "python", 
          "outputs": []
        }, 
        {
          "cell_type": "markdown", 
          "metadata": {}, 
          "source": [
            "\n", 
            "CMT"
          ]
        }, 
        {
          "cell_type": "code", 
          "collapsed": false, 
          "input": [
            "basename = [name '-tomography']"
          ], 
          "language": "python", 
          "outputs": []
        }, 
        {
          "cell_type": "markdown", 
          "metadata": {}, 
          "source": [
            "CMT\n", 
            "\n", 
            "\n", 
            "\n", 
            "We consider here noisy tomographic measurements.\n", 
            "$$ y = \\Phi f_0 + w $$\n", 
            "where $w$ is a Gaussian white noise of variance $\\sigma^2$.\n", 
            "\n", 
            "\n", 
            "Variance of the noise.\n", 
            ""
          ]
        }, 
        {
          "cell_type": "code", 
          "collapsed": false, 
          "input": [
            "sigma = .2"
          ], 
          "language": "python", 
          "outputs": []
        }, 
        {
          "cell_type": "markdown", 
          "metadata": {}, 
          "source": [
            "\n", 
            "\n", 
            "Measurements.\n", 
            ""
          ]
        }, 
        {
          "cell_type": "code", 
          "collapsed": false, 
          "input": [
            "y = Phi(f0) + sigma*randn(n,n)"
          ], 
          "language": "python", 
          "outputs": []
        }, 
        {
          "cell_type": "markdown", 
          "metadata": {}, 
          "source": [
            "\n", 
            "\n", 
            "The pseudo inverse $\\Phi^+$ is equal to the transposed operator\n", 
            "$\\Phi^*$. It corresponds to inverting the Fourier transform after\n", 
            "multiplication by the mask.\n", 
            "$$ \\Phi^* y = \\Phi^+ y = \\mathcal{F}^{-1}( y \\xi ), $$\n", 
            "where $ \\mathcal{F}^{-1}(\\hat f) = f $ is the inverse Fourier transform.\n", 
            "\n", 
            "\n", 
            "Define a shortcut for the transpose operator.\n", 
            ""
          ]
        }, 
        {
          "cell_type": "code", 
          "collapsed": false, 
          "input": [
            "PhiS = lambda y: real(ifft2(y.*xi))*n"
          ], 
          "language": "python", 
          "outputs": []
        }, 
        {
          "cell_type": "heading", 
          "level": 3, 
          "metadata": {}, 
          "source": [
            "Exercise 1"
          ]
        }, 
        {
          "cell_type": "markdown", 
          "metadata": {}, 
          "source": [
            "\n", 
            "Compute and display the pseudo inverse reconstruction\n", 
            "$ \\Phi^+ y $. What do you observe ?\n", 
            "\n", 
            "\n", 
            "\n", 
            ""
          ]
        }, 
        {
          "cell_type": "code", 
          "collapsed": false, 
          "input": [
            "## Insert your code here."
          ], 
          "language": "python", 
          "outputs": []
        }, 
        {
          "cell_type": "markdown", 
          "metadata": {}, 
          "source": [
            "\n", 
            "\n", 
            "\n", 
            ""
          ]
        }, 
        {
          "cell_type": "heading", 
          "level": 2, 
          "metadata": {}, 
          "source": [
            "Sobolev Regularization\n"
          ]
        }, 
        {
          "cell_type": "markdown", 
          "metadata": {}, 
          "source": [
            "To remove some noise while inverting the operator, we\n", 
            "can penalize high frequencies using Sobolev regularization.\n", 
            "\n", 
            "\n", 
            "The Sobolev prior reads:\n", 
            " $$J(f) = \\frac{1}{2} \\sum_x \\|\\nabla f(x)\\|^2 = \\frac{1}{2}\\sum_{\\omega} S(\\omega) \\|\\hat f(\\omega)\\|^2 $$\n", 
            "where $S(\\omega)=\\|\\omega\\|^2$.\n", 
            "\n", 
            "\n", 
            "Compute the Sobolev prior penalty $S$(rescale to $[0,1]$).\n", 
            ""
          ]
        }, 
        {
          "cell_type": "code", 
          "collapsed": false, 
          "input": [
            "x = [0:n/2-1, -n/2:-1]\n", 
            "[Y,X] = meshgrid(x,x)\n", 
            "S = (X.^2 + Y.^2)*(2/n)^2"
          ], 
          "language": "python", 
          "outputs": []
        }, 
        {
          "cell_type": "markdown", 
          "metadata": {}, 
          "source": [
            "\n", 
            "\n", 
            "We need to compute the solution of:\n", 
            " $$f^\\star \\in \\text{argmin}_f \\frac{1}{2}\\|y-\\Phi f\\|^2 + \\lambda J(f)$$\n", 
            "\n", 
            "\n", 
            "Regularization parameter $\\lambda$:\n", 
            ""
          ]
        }, 
        {
          "cell_type": "code", 
          "collapsed": false, 
          "input": [
            "lambda = 2"
          ], 
          "language": "python", 
          "outputs": []
        }, 
        {
          "cell_type": "markdown", 
          "metadata": {}, 
          "source": [
            "\n", 
            "\n", 
            "Since both the prior $J$ and the operator $\\Phi$\n", 
            "can be written over the Fourier domain, one can compute\n", 
            "the solution to the inversion with Sobolev prior simply with the Fourier\n", 
            "coefficients:\n", 
            " $$\\hat f^\\star(\\omega) = \\frac{\\hat y(\\omega) \\xi(\\omega)}{ \\xi(\\omega) + \\lambda S(\\omega) }$$\n", 
            "\n", 
            "\n", 
            "\n", 
            "Perform the inversion.\n", 
            ""
          ]
        }, 
        {
          "cell_type": "code", 
          "collapsed": false, 
          "input": [
            "fSob = real( ifft2( y .* xi ./ ( xi + lambda*S) ) )*n"
          ], 
          "language": "python", 
          "outputs": []
        }, 
        {
          "cell_type": "markdown", 
          "metadata": {}, 
          "source": [
            "\n", 
            "\n", 
            "Display the result.\n", 
            ""
          ]
        }, 
        {
          "cell_type": "code", 
          "collapsed": false, 
          "input": [
            "\n", 
            "imageplot(clamp(fSob), ['Sobolev inversion, SNR=' num2str(snr(f0,fSob),3) 'dB'] )"
          ], 
          "language": "python", 
          "outputs": []
        }, 
        {
          "cell_type": "heading", 
          "level": 3, 
          "metadata": {}, 
          "source": [
            "Exercise 2"
          ]
        }, 
        {
          "cell_type": "markdown", 
          "metadata": {}, 
          "source": [
            "\n", 
            "Find the optimal solution |fSob| by testing several value of\n", 
            "$\\lambda$.\n", 
            "\n", 
            "\n", 
            "\n", 
            "\n", 
            "\n", 
            "\n", 
            "\n", 
            "\n", 
            "\n", 
            "\n", 
            "\n", 
            "\n", 
            "\n", 
            ""
          ]
        }, 
        {
          "cell_type": "code", 
          "collapsed": false, 
          "input": [
            "## Insert your code here."
          ], 
          "language": "python", 
          "outputs": []
        }, 
        {
          "cell_type": "markdown", 
          "metadata": {}, 
          "source": [
            "\n", 
            "\n", 
            "\n", 
            "Display optimal result.\n", 
            ""
          ]
        }, 
        {
          "cell_type": "code", 
          "collapsed": false, 
          "input": [
            "\n", 
            "imageplot(clamp(fSob), ['Sobolev inversion, SNR=' num2str(snr(f0,fSob),3) 'dB'])"
          ], 
          "language": "python", 
          "outputs": []
        }, 
        {
          "cell_type": "markdown", 
          "metadata": {}, 
          "source": [
            "\n", 
            "CMT"
          ]
        }, 
        {
          "cell_type": "code", 
          "collapsed": false, 
          "input": [
            "imwrite(clamp(fSob), [rep name '-deconv-sobolev.png'], 'png')"
          ], 
          "language": "python", 
          "outputs": []
        }, 
        {
          "cell_type": "markdown", 
          "metadata": {}, 
          "source": [
            "CMT\n", 
            "\n", 
            ""
          ]
        }, 
        {
          "cell_type": "heading", 
          "level": 2, 
          "metadata": {}, 
          "source": [
            "Soft Thresholding in a Basis\n"
          ]
        }, 
        {
          "cell_type": "markdown", 
          "metadata": {}, 
          "source": [
            "The soft thresholding operator is at the heart of $\\ell^1$ minimization\n", 
            "schemes. It can be applied to coefficients $a$, or to an image $f$\n", 
            "in an ortho-basis.\n", 
            "\n", 
            "\n", 
            "The soft thresholding is a 1-D functional that shrinks the value of\n", 
            "coefficients.\n", 
            "$$ s_T(u)=\\max(0,1-T/|u|)u $$\n", 
            "\n", 
            "\n", 
            "Define a shortcut for this soft thresholding 1-D functional.\n", 
            ""
          ]
        }, 
        {
          "cell_type": "code", 
          "collapsed": false, 
          "input": [
            "SoftThresh = lambda x,T: x.*max( 0, 1-T./max(abs(x),1e-10) )"
          ], 
          "language": "python", 
          "outputs": []
        }, 
        {
          "cell_type": "markdown", 
          "metadata": {}, 
          "source": [
            "\n", 
            "\n", 
            "Display a curve of the 1D soft thresholding.\n", 
            ""
          ]
        }, 
        {
          "cell_type": "code", 
          "collapsed": false, 
          "input": [
            "\n", 
            "T = linspace(-1,1,1000)\n", 
            "plot( T, SoftThresh(T,.5) )\n", 
            "axis('equal')"
          ], 
          "language": "python", 
          "outputs": []
        }, 
        {
          "cell_type": "markdown", 
          "metadata": {}, 
          "source": [
            "\n", 
            "\n", 
            "Note that the function |SoftThresh| can also be applied to vector\n", 
            "(because of Matlab/Scilab vectorialized computation), which defines an\n", 
            "operator on coefficients:\n", 
            "$$ S_T(a) = ( s_T(a_m) )_m. $$\n", 
            "\n", 
            "\n", 
            "In the next section, we use an orthogonal wavelet basis $\\Psi$.\n", 
            "\n", 
            "\n", 
            "We set the parameters of the wavelet transform.\n", 
            ""
          ]
        }, 
        {
          "cell_type": "code", 
          "collapsed": false, 
          "input": [
            "Jmax = log2(n)-1\n", 
            "Jmin = Jmax-3"
          ], 
          "language": "python", 
          "outputs": []
        }, 
        {
          "cell_type": "markdown", 
          "metadata": {}, 
          "source": [
            "\n", 
            "\n", 
            "Shortcut for $\\Psi$ and $\\Psi^*$ in the orthogonal case.\n", 
            ""
          ]
        }, 
        {
          "cell_type": "code", 
          "collapsed": false, 
          "input": [
            "options.ti = 0; % use orthogonality.\n", 
            "Psi = lambda a: perform_wavelet_transf(a, Jmin, -1,options)\n", 
            "PsiS = lambda f: perform_wavelet_transf(f, Jmin, +1,options)"
          ], 
          "language": "python", 
          "outputs": []
        }, 
        {
          "cell_type": "markdown", 
          "metadata": {}, 
          "source": [
            "\n", 
            "\n", 
            "The soft thresholding opterator in the basis $\\Psi$ is defined as\n", 
            "$$S_T^\\Psi(f) = \\sum_m s_T( \\langle f,\\psi_m \\rangle ) \\psi_m $$\n", 
            "\n", 
            "\n", 
            "It thus corresponds to applying the transform $\\Psi^*$, thresholding\n", 
            "the coefficients using $S_T$ and then undoing the transform using\n", 
            "$\\Psi$.\n", 
            "$$ S_T^\\Psi(f) = \\Psi \\circ S_T \\circ \\Psi^*$$\n", 
            ""
          ]
        }, 
        {
          "cell_type": "code", 
          "collapsed": false, 
          "input": [
            "SoftThreshPsi = lambda f,T: Psi(SoftThresh(PsiS(f),T))"
          ], 
          "language": "python", 
          "outputs": []
        }, 
        {
          "cell_type": "markdown", 
          "metadata": {}, 
          "source": [
            "\n", 
            "\n", 
            "This soft thresholding corresponds to a denoising operator.\n", 
            ""
          ]
        }, 
        {
          "cell_type": "code", 
          "collapsed": false, 
          "input": [
            "\n", 
            "imageplot( clamp(SoftThreshPsi(f0,.1)) )"
          ], 
          "language": "python", 
          "outputs": []
        }, 
        {
          "cell_type": "markdown", 
          "metadata": {}, 
          "source": [
            "\n", 
            ""
          ]
        }, 
        {
          "cell_type": "heading", 
          "level": 2, 
          "metadata": {}, 
          "source": [
            "Sparse Regularization\n"
          ]
        }, 
        {
          "cell_type": "markdown", 
          "metadata": {}, 
          "source": [
            "To better reconstruct edges, we consider a sparsity regularization in an\n", 
            "orthogonal basis $\\{ \\psi_m \\}_m$:\n", 
            "$$ J(f)=\\sum_m \\vert \\langle f,\\psi_m \\rangle\\vert = \\| \\Psi^* f \\|_1. $$\n", 
            "\n", 
            "\n", 
            "The inverse problem resolution thus require to solve:\n", 
            "$$f^{\\star} \\in \\text{argmin}_f \\: E(f) = \\frac{1}{2}\\|y-\\Phi f\\|^2 + \\lambda \\sum_m \\vert \\langle f,\\psi_m \\rangle\\vert. $$\n", 
            "\n", 
            "\n", 
            "Set up the value of the regularization parameter $\\lambda$.\n", 
            ""
          ]
        }, 
        {
          "cell_type": "code", 
          "collapsed": false, 
          "input": [
            "lambda = 0.1"
          ], 
          "language": "python", 
          "outputs": []
        }, 
        {
          "cell_type": "markdown", 
          "metadata": {}, 
          "source": [
            "\n", 
            "\n", 
            "To solve this non-smooth optimization problem, one can use\n", 
            "forward-backward splitting, also known as iterative soft thresholding.\n", 
            "\n", 
            "\n", 
            "It computes a series of images $f^{(\\ell)}$ defined as\n", 
            "$$ f^{(\\ell+1)} = S_{\\tau\\lambda}^{\\Psi}( f^{(\\ell)} - \\tau \\Phi^{*}\n", 
            "(\\Phi f^{(\\ell)} - y)  ) $$\n", 
            "\n", 
            "\n", 
            "For $f^{(\\ell)}$ to converge to a solution of the problem, the gradient\n", 
            "step size should be chosen as\n", 
            "$$\\tau < \\frac{2}{\\|\\Phi^* \\Phi\\|}$$\n", 
            "\n", 
            "\n", 
            "Since $\\Phi$ is an operator of norm 1, this must be smaller than\n", 
            "2.\n", 
            ""
          ]
        }, 
        {
          "cell_type": "code", 
          "collapsed": false, 
          "input": [
            "tau = 1.5"
          ], 
          "language": "python", 
          "outputs": []
        }, 
        {
          "cell_type": "markdown", 
          "metadata": {}, 
          "source": [
            "\n", 
            "\n", 
            "Initialize the solution.\n", 
            ""
          ]
        }, 
        {
          "cell_type": "code", 
          "collapsed": false, 
          "input": [
            "fSpars = PhiS(y)"
          ], 
          "language": "python", 
          "outputs": []
        }, 
        {
          "cell_type": "markdown", 
          "metadata": {}, 
          "source": [
            "\n", 
            "\n", 
            "First step: perform one step of gradient descent of the energy\n", 
            "$ \\|y-\\Phi f\\|^2 $.\n", 
            ""
          ]
        }, 
        {
          "cell_type": "code", 
          "collapsed": false, 
          "input": [
            "fSpars = fSpars + tau * PhiS( y-Phi(fSpars) )"
          ], 
          "language": "python", 
          "outputs": []
        }, 
        {
          "cell_type": "markdown", 
          "metadata": {}, 
          "source": [
            "\n", 
            "\n", 
            "Second step: denoise the solution by thresholding.\n", 
            ""
          ]
        }, 
        {
          "cell_type": "code", 
          "collapsed": false, 
          "input": [
            "fSpars = SoftThreshPsi( fSpars, lambda*tau )"
          ], 
          "language": "python", 
          "outputs": []
        }, 
        {
          "cell_type": "heading", 
          "level": 3, 
          "metadata": {}, 
          "source": [
            "Exercise 3"
          ]
        }, 
        {
          "cell_type": "markdown", 
          "metadata": {}, 
          "source": [
            "\n", 
            "Perform the iterative soft thresholding.\n", 
            "Monitor the decay of the energy $E$ you are minimizing.\n", 
            "\n", 
            "\n", 
            "\n", 
            "\n", 
            "\n", 
            "\n", 
            "\n", 
            "\n", 
            "\n", 
            "\n", 
            "\n", 
            "\n", 
            "\n", 
            "\n", 
            ""
          ]
        }, 
        {
          "cell_type": "code", 
          "collapsed": false, 
          "input": [
            "## Insert your code here."
          ], 
          "language": "python", 
          "outputs": []
        }, 
        {
          "cell_type": "markdown", 
          "metadata": {}, 
          "source": [
            "\n", 
            "\n", 
            "\n", 
            "Display the result.\n", 
            ""
          ]
        }, 
        {
          "cell_type": "code", 
          "collapsed": false, 
          "input": [
            "\n", 
            "imageplot(clamp(fSpars), ['Sparsity inversion, SNR=' num2str(snr(f0,fSpars),3) 'dB'])"
          ], 
          "language": "python", 
          "outputs": []
        }, 
        {
          "cell_type": "heading", 
          "level": 3, 
          "metadata": {}, 
          "source": [
            "Exercise 4"
          ]
        }, 
        {
          "cell_type": "markdown", 
          "metadata": {}, 
          "source": [
            "\n", 
            "Try to find the best threshold $\\lambda$. To this end, perform a *lot*\n", 
            "of iterations, and progressively decay the threshold $\\lambda$ during the\n", 
            "iterations. Record the best result in |fBestOrtho|.\n", 
            "\n", 
            "\n", 
            "\n", 
            "\n", 
            "\n", 
            "Warmup\n", 
            "\n", 
            "\n", 
            "\n", 
            "\n", 
            "Iterations\n", 
            "\n", 
            "\n", 
            "\n", 
            "\n", 
            "\n", 
            "\n", 
            "\n", 
            "\n", 
            "\n", 
            "\n", 
            "\n", 
            "\n", 
            "\n", 
            ""
          ]
        }, 
        {
          "cell_type": "code", 
          "collapsed": false, 
          "input": [
            "## Insert your code here."
          ], 
          "language": "python", 
          "outputs": []
        }, 
        {
          "cell_type": "markdown", 
          "metadata": {}, 
          "source": [
            "\n", 
            "\n", 
            "\n", 
            "Display the result.\n", 
            ""
          ]
        }, 
        {
          "cell_type": "code", 
          "collapsed": false, 
          "input": [
            "\n", 
            "imageplot(clamp(fBestOrtho), ['Sparsity in Orthogonal Wavelets, SNR=' num2str(snr(f0,fBestOrtho),3) 'dB'])"
          ], 
          "language": "python", 
          "outputs": []
        }, 
        {
          "cell_type": "markdown", 
          "metadata": {}, 
          "source": [
            "\n", 
            "CMT"
          ]
        }, 
        {
          "cell_type": "code", 
          "collapsed": false, 
          "input": [
            "imwrite(clamp(fBestOrtho), [rep basename '-l1ortho.png'], 'png')"
          ], 
          "language": "python", 
          "outputs": []
        }, 
        {
          "cell_type": "markdown", 
          "metadata": {}, 
          "source": [
            "CMT\n", 
            ""
          ]
        }, 
        {
          "cell_type": "heading", 
          "level": 2, 
          "metadata": {}, 
          "source": [
            "Translation Invariant Regularization\n"
          ]
        }, 
        {
          "cell_type": "markdown", 
          "metadata": {}, 
          "source": [
            "Denoising artefact are reduced by using a translation invariant wavelet\n", 
            "frame.\n", 
            "\n", 
            "\n", 
            "Define new shortcut for the translation invariant wavelet transforms.\n", 
            ""
          ]
        }, 
        {
          "cell_type": "code", 
          "collapsed": false, 
          "input": [
            "options.ti = 1\n", 
            "Psi = lambda a: perform_wavelet_transf(a, Jmin, -1,options)\n", 
            "PsiS = lambda f: perform_wavelet_transf(f, Jmin, +1,options)"
          ], 
          "language": "python", 
          "outputs": []
        }, 
        {
          "cell_type": "markdown", 
          "metadata": {}, 
          "source": [
            "\n", 
            "\n", 
            "Re-define the thresholding.\n", 
            ""
          ]
        }, 
        {
          "cell_type": "code", 
          "collapsed": false, 
          "input": [
            "SoftThreshPsi = lambda f,T: Psi(SoftThresh(PsiS(f),T))"
          ], 
          "language": "python", 
          "outputs": []
        }, 
        {
          "cell_type": "heading", 
          "level": 3, 
          "metadata": {}, 
          "source": [
            "Exercise 5"
          ]
        }, 
        {
          "cell_type": "markdown", 
          "metadata": {}, 
          "source": [
            "\n", 
            "Use the iterative thresholding but this time\n", 
            "with the translation invariant wavelet transform.\n", 
            "Find the best value of $\\lambda$ and\n", 
            "record the best result in |fBestTI|.\n", 
            "\n", 
            "\n", 
            "\n", 
            "\n", 
            "\n", 
            "Warmup\n", 
            "\n", 
            "\n", 
            "\n", 
            "\n", 
            "Iterations\n", 
            "\n", 
            "\n", 
            "\n", 
            "\n", 
            "\n", 
            "\n", 
            "\n", 
            "\n", 
            "\n", 
            "\n", 
            "\n", 
            "\n", 
            "\n", 
            ""
          ]
        }, 
        {
          "cell_type": "code", 
          "collapsed": false, 
          "input": [
            "## Insert your code here."
          ], 
          "language": "python", 
          "outputs": []
        }, 
        {
          "cell_type": "markdown", 
          "metadata": {}, 
          "source": [
            "\n", 
            "\n", 
            "\n", 
            "\n", 
            "\n", 
            "Display the result.\n", 
            ""
          ]
        }, 
        {
          "cell_type": "code", 
          "collapsed": false, 
          "input": [
            "\n", 
            "imageplot(clamp(fBestTI), ['Sparsity in TI Wavelets, SNR=' num2str(snr(f0,fBestTI),3) 'dB'])"
          ], 
          "language": "python", 
          "outputs": []
        }, 
        {
          "cell_type": "markdown", 
          "metadata": {}, 
          "source": [
            "\n", 
            "CMT"
          ]
        }, 
        {
          "cell_type": "code", 
          "collapsed": false, 
          "input": [
            "imwrite(clamp(fBestTI), [rep basename '-l1ti.png'], 'png')"
          ], 
          "language": "python", 
          "outputs": []
        }, 
        {
          "cell_type": "markdown", 
          "metadata": {}, 
          "source": [
            "CMT\n", 
            ""
          ]
        }, 
        {
          "cell_type": "heading", 
          "level": 2, 
          "metadata": {}, 
          "source": [
            "Medical Resonnance Imaging \n"
          ]
        }, 
        {
          "cell_type": "markdown", 
          "metadata": {}, 
          "source": [
            "MRI acquisition directly gather Fourier measurement along a curve in the\n", 
            "Fourier plane.\n", 
            "\n", 
            "\n", 
            "Create a spiral for the sampling.\n", 
            "The parameter $\\alpha$ controls the density near the origin.\n", 
            ""
          ]
        }, 
        {
          "cell_type": "code", 
          "collapsed": false, 
          "input": [
            "alpha = 3\n", 
            "q = 30\n", 
            "t = linspace(0,1.5,n*q*10)\n", 
            "x = round(.5*n*t.^alpha.*cos(2*pi*q*t)) + n/2+1\n", 
            "y = round(.5*n*t.^alpha.*sin(2*pi*q*t)) + n/2+1\n", 
            "I = find(x>0 & x<=n & y>0 & y<=n); x = x(I); y = y(I)\n", 
            "xi = zeros(n,n); xi(x+(y-1)*n) = 1"
          ], 
          "language": "python", 
          "outputs": []
        }, 
        {
          "cell_type": "markdown", 
          "metadata": {}, 
          "source": [
            "\n", 
            "\n", 
            "Display the sampling pattern.\n", 
            ""
          ]
        }, 
        {
          "cell_type": "code", 
          "collapsed": false, 
          "input": [
            "\n", 
            "imageplot(xi)"
          ], 
          "language": "python", 
          "outputs": []
        }, 
        {
          "cell_type": "heading", 
          "level": 3, 
          "metadata": {}, 
          "source": [
            "Exercise 6"
          ]
        }, 
        {
          "cell_type": "markdown", 
          "metadata": {}, 
          "source": [
            "\n", 
            "Compare Sobolev and Sparse reconstruction for MRI imaging.\n", 
            "For a given number of Fourier sample, compare the quality of the\n", 
            "reconstruction for different $\\alpha$."
          ]
        }, 
        {
          "cell_type": "code", 
          "collapsed": false, 
          "input": [
            "## Insert your code here."
          ], 
          "language": "python", 
          "outputs": []
        }
      ]
    }
  ]
}