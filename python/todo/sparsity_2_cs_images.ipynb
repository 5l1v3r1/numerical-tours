{
  "metadata": {
    "name": ""
  }, 
  "nbformat": 3, 
  "nbformat_minor": 0, 
  "worksheets": [
    {
      "cells": [
        {
          "cell_type": "heading", 
          "level": 1, 
          "metadata": {}, 
          "source": [
            "Compressed Sensing of Images"
          ]
        }, 
        {
          "cell_type": "markdown", 
          "metadata": {}, 
          "source": [
            "This tour explores compressed sensing of natural images, using different\n", 
            "sparsity priors over a wavelet basis.\n", 
            ""
          ]
        }, 
        {
          "cell_type": "markdown", 
          "metadata": {}, 
          "source": [
            "*Important:* You need to download the file `nt_toolbox.py` from the \n", 
            "root of the github repository.\n", 
            "$\\newcommand{\\dotp}[2]{\\langle #1, #2 \\rangle}\n", 
            "\\newcommand{\\enscond}[2]{\\lbrace #1, #2 \\rbrace}\n", 
            "\\newcommand{\\pd}[2]{ \\frac{ \\partial #1}{\\partial #2} }\n", 
            "\\newcommand{\\umin}[1]{\\underset{#1}{\\min}\\;}\n", 
            "\\newcommand{\\norm}[1]{\\|#1\\|}\n", 
            "\\newcommand{\\abs}[1]{\\left|#1\\right|}\n", 
            "\\newcommand{\\choice}[1]{ \\left\\{  \\begin{array}{l} #1 \\end{array} \\right. }\n", 
            "\\newcommand{\\pa}[1]{\\left(#1\\right)}\n", 
            "\\newcommand{\\qandq}{\\quad\\text{and}\\quad}\n", 
            "\\newcommand{\\qwhereq}{\\quad\\text{where}\\quad}\n", 
            "\\newcommand{\\qifq}{ \\quad \\text{if} \\quad }\n", 
            "\\newcommand{\\qarrq}{ \\quad \\Longrightarrow \\quad }\n", 
            "\\newcommand{\\ZZ}{\\mathbb{Z}}\n", 
            "\\newcommand{\\RR}{\\mathbb{R}}\n", 
            "\\newcommand{\\Nn}{\\mathcal{N}}\n", 
            "\\newcommand{\\Hh}{\\mathcal{H}}\n", 
            "\\newcommand{\\Bb}{\\mathcal{B}}\n", 
            "\\newcommand{\\EE}{\\mathbb{E}}\n", 
            "\\newcommand{\\CC}{\\mathbb{C}}\n", 
            "\\newcommand{\\si}{\\sigma}\n", 
            "\\newcommand{\\al}{\\alpha}\n", 
            "\\newcommand{\\la}{\\lambda}\n", 
            "\\newcommand{\\ga}{\\gamma}\n", 
            "\\newcommand{\\Ga}{\\Gamma}\n", 
            "\\newcommand{\\La}{\\Lambda}\n", 
            "\\newcommand{\\si}{\\sigma}\n", 
            "\\newcommand{\\Si}{\\Sigma}\n", 
            "\\newcommand{\\be}{\\beta}\n", 
            "\\newcommand{\\de}{\\delta}\n", 
            "\\newcommand{\\De}{\\Delta}\n", 
            "\\renewcommand{\\phi}{\\varphi}\n", 
            "\\renewcommand{\\th}{\\theta}\n", 
            "\\newcommand{\\om}{\\omega}\n", 
            "\\newcommand{\\Om}{\\Omega}\n", 
            "$"
          ]
        }, 
        {
          "cell_type": "code", 
          "collapsed": false, 
          "input": [
            "from nt_toolbox import *", 
            "%matplotlib inline", 
            "%load_ext autoreload", 
            "%autoreload 2"
          ], 
          "language": "python", 
          "outputs": []
        }, 
        {
          "cell_type": "markdown", 
          "metadata": {}, 
          "source": [
            "\n", 
            "\n", 
            "\n", 
            "CMT"
          ]
        }, 
        {
          "cell_type": "code", 
          "collapsed": false, 
          "input": [
            "rep = 'results/cs_3_images/'\n", 
            "if not(exist(rep))\n", 
            "    mkdir(rep)\n", 
            ""
          ], 
          "language": "python", 
          "outputs": []
        }, 
        {
          "cell_type": "markdown", 
          "metadata": {}, 
          "source": [
            "CMT\n", 
            ""
          ]
        }, 
        {
          "cell_type": "heading", 
          "level": 2, 
          "metadata": {}, 
          "source": [
            "Low Pass Linear Measures\n"
          ]
        }, 
        {
          "cell_type": "markdown", 
          "metadata": {}, 
          "source": [
            "We first make use of $P$ low pass linear measurements to remove the low\n", 
            "frequency content of the image.\n", 
            "\n", 
            "\n", 
            "Natural images are not only sparse over a wavelet domain. They also\n", 
            "exhibit a fast decay of the coefficient through the scale. The coarse\n", 
            "(low pass) wavelets caries much of the image energy. It thus make sense\n", 
            "to measure directly the low pass coefficients.\n", 
            "\n", 
            "\n", 
            "We load an image $f \\in \\RR^{n^2}$ of $n \\times n$ pixels.\n", 
            ""
          ]
        }, 
        {
          "cell_type": "code", 
          "collapsed": false, 
          "input": [
            "name = 'boat'\n", 
            "n = 256\n", 
            "f = load_image(name, n)\n", 
            "f = rescale(f)"
          ], 
          "language": "python", 
          "outputs": []
        }, 
        {
          "cell_type": "markdown", 
          "metadata": {}, 
          "source": [
            "\n", 
            "CMT"
          ]
        }, 
        {
          "cell_type": "code", 
          "collapsed": false, 
          "input": [
            "basename = [name '-cs']"
          ], 
          "language": "python", 
          "outputs": []
        }, 
        {
          "cell_type": "markdown", 
          "metadata": {}, 
          "source": [
            "CMT\n", 
            "\n", 
            "\n", 
            "\n", 
            "Shortcuts for the wavelet transform $ \\{\\dotp{f}{\\psi_m}\\}_m $.\n", 
            "We only compute up to a scale $J$ so that only $k_0$ sub-bands are\n", 
            "transformed.\n", 
            ""
          ]
        }, 
        {
          "cell_type": "code", 
          "collapsed": false, 
          "input": [
            "k0 = 2\n", 
            "J = log2(n)-k0\n", 
            "Wav  = lambda f: perform_wavelet_transf(f,J,+1)\n", 
            "WavI = lambda x: perform_wavelet_transf(x,J,-1)"
          ], 
          "language": "python", 
          "outputs": []
        }, 
        {
          "cell_type": "markdown", 
          "metadata": {}, 
          "source": [
            "\n", 
            "\n", 
            "Compute the wavelet transform.\n", 
            ""
          ]
        }, 
        {
          "cell_type": "code", 
          "collapsed": false, 
          "input": [
            "fw = Wav(f)"
          ], 
          "language": "python", 
          "outputs": []
        }, 
        {
          "cell_type": "markdown", 
          "metadata": {}, 
          "source": [
            "\n", 
            "\n", 
            "Display the coefficients.\n", 
            ""
          ]
        }, 
        {
          "cell_type": "code", 
          "collapsed": false, 
          "input": [
            "\n", 
            "plot_wavelet(fw, J)"
          ], 
          "language": "python", 
          "outputs": []
        }, 
        {
          "cell_type": "markdown", 
          "metadata": {}, 
          "source": [
            "\n", 
            "CMT"
          ]
        }, 
        {
          "cell_type": "code", 
          "collapsed": false, 
          "input": [
            "saveas(gcf, [rep basename '-wavcoefs.eps'], 'epsc')"
          ], 
          "language": "python", 
          "outputs": []
        }, 
        {
          "cell_type": "markdown", 
          "metadata": {}, 
          "source": [
            "CMT\n", 
            ""
          ]
        }, 
        {
          "cell_type": "heading", 
          "level": 3, 
          "metadata": {}, 
          "source": [
            "Exercise 1"
          ]
        }, 
        {
          "cell_type": "markdown", 
          "metadata": {}, 
          "source": [
            "\n", 
            "Compute an approximation |fLow| using the $ P=2^{2J}=(n/k_0)^2 $ low pass\n", 
            "coefficients.\n", 
            "\n", 
            "\n", 
            "\n", 
            "\n", 
            "\n", 
            ""
          ]
        }, 
        {
          "cell_type": "code", 
          "collapsed": false, 
          "input": [
            "## Insert your code here."
          ], 
          "language": "python", 
          "outputs": []
        }, 
        {
          "cell_type": "markdown", 
          "metadata": {}, 
          "source": [
            "\n", 
            "\n", 
            "CMT"
          ]
        }, 
        {
          "cell_type": "code", 
          "collapsed": false, 
          "input": [
            "imwrite(clamp(f), [rep basename '-original.png'], 'png')\n", 
            "imwrite(clamp(fLow), [rep basename '-linear.png'], 'png')"
          ], 
          "language": "python", 
          "outputs": []
        }, 
        {
          "cell_type": "markdown", 
          "metadata": {}, 
          "source": [
            "CMT\n", 
            "\n", 
            ""
          ]
        }, 
        {
          "cell_type": "heading", 
          "level": 2, 
          "metadata": {}, 
          "source": [
            "Randomized Orthogonal Measurements\n"
          ]
        }, 
        {
          "cell_type": "markdown", 
          "metadata": {}, 
          "source": [
            "We consider a compressed sensing operator that corresponds to randomized\n", 
            "orthogonal projections.\n", 
            "\n", 
            "\n", 
            "\n", 
            "Extract the high pass wavelet coefficients, $x_0 = \\{ \\dotp{f}{\\psi_m} \\}_{m \\in I_0}$.\n", 
            ""
          ]
        }, 
        {
          "cell_type": "code", 
          "collapsed": false, 
          "input": [
            "A = ones(n,n); A(1:2^J,1:2^J) = 0\n", 
            "I0 = find(A==1)\n", 
            "x0 = fw(I0)"
          ], 
          "language": "python", 
          "outputs": []
        }, 
        {
          "cell_type": "markdown", 
          "metadata": {}, 
          "source": [
            "\n", 
            "\n", 
            "Number of coefficients.\n", 
            ""
          ]
        }, 
        {
          "cell_type": "code", 
          "collapsed": false, 
          "input": [
            "N = length(x0)"
          ], 
          "language": "python", 
          "outputs": []
        }, 
        {
          "cell_type": "markdown", 
          "metadata": {}, 
          "source": [
            "\n", 
            "\n", 
            "Number $ P_0 = 2^{2J}=(n/k_0)^2 $ of low pass measurements.\n", 
            ""
          ]
        }, 
        {
          "cell_type": "code", 
          "collapsed": false, 
          "input": [
            "P0 = (n/2^k0)^2"
          ], 
          "language": "python", 
          "outputs": []
        }, 
        {
          "cell_type": "markdown", 
          "metadata": {}, 
          "source": [
            "\n", 
            "\n", 
            "Number of CS measurements.\n", 
            ""
          ]
        }, 
        {
          "cell_type": "code", 
          "collapsed": false, 
          "input": [
            "P = 4 * P0"
          ], 
          "language": "python", 
          "outputs": []
        }, 
        {
          "cell_type": "markdown", 
          "metadata": {}, 
          "source": [
            "\n", 
            "\n", 
            "Generate random permutation operators $S_1,S_2 : \\RR^N \\rightarrow \\RR^N$\n", 
            "so that $S_k(x)_i = x_{\\sigma_k(i)}$ where $ \\sigma_k \\in \\Sigma_N $\n", 
            "is a random permutation of $\\{1,\\ldots,N\\}$.\n", 
            ""
          ]
        }, 
        {
          "cell_type": "code", 
          "collapsed": false, 
          "input": [
            "sigma1 = randperm(N)'\n", 
            "sigma2 = randperm(N)'\n", 
            "S1 = lambda x: x(sigma1)\n", 
            "S2 = lambda x: x(sigma2)"
          ], 
          "language": "python", 
          "outputs": []
        }, 
        {
          "cell_type": "markdown", 
          "metadata": {}, 
          "source": [
            "\n", 
            "\n", 
            "The adjoint (and also inverse) operators $S_1^*,S_2^*$ (denoted |S1S,S2S|)\n", 
            "corresponds to the inverse permutation $\\sigma_k^*$ such that $\\sigma_k^* \\circ \\sigma_k(i)=i$.\n", 
            ""
          ]
        }, 
        {
          "cell_type": "code", 
          "collapsed": false, 
          "input": [
            "sigma1S = 1:N; sigma1S(sigma1) = 1:N\n", 
            "sigma2S = 1:N; sigma2S(sigma2) = 1:N\n", 
            "S1S = lambda x: x(sigma1S)\n", 
            "S2S = lambda x: x(sigma2S)"
          ], 
          "language": "python", 
          "outputs": []
        }, 
        {
          "cell_type": "markdown", 
          "metadata": {}, 
          "source": [
            "\n", 
            "\n", 
            "\n", 
            "We consider a CS operator $ \\Phi : \\RR^N \\rightarrow\n", 
            "\\RR^P $ that corresponds to a projection on randomized atoms\n", 
            "$$ (\\Phi x)_i = \\dotp{x}{ \\phi_{\\sigma_2(i)}} $$\n", 
            "where $ \\phi_i $ is a scrambled orthogonal basis\n", 
            "$$ \\phi_i(x) = c_i( \\sigma_1(x) ) $$\n", 
            "where $\\{ c_i \\}_i$ is the orthogonal DCT basis.\n", 
            "\n", 
            "\n", 
            "This can be rewritten in compact operator form as\n", 
            "$$ \\Phi x = ( S_2 \\circ C \\circ S_1 (x) ) \\downarrow_P $$\n", 
            "where $S_1,S_2$ are the permutation operators, and $\\downarrow_P$\n", 
            "selects the $P$ first entries of a vector.\n", 
            ""
          ]
        }, 
        {
          "cell_type": "code", 
          "collapsed": false, 
          "input": [
            "downarrow = lambda x: x(1:P)\n", 
            "Phi = lambda x: downarrow(S2(dct(S1(x))))"
          ], 
          "language": "python", 
          "outputs": []
        }, 
        {
          "cell_type": "markdown", 
          "metadata": {}, 
          "source": [
            "\n", 
            "\n", 
            "The adjoint operator is\n", 
            "$$ \\Phi^* x = S_1^* \\circ C^* \\circ S_2^* (x\\uparrow_P) $$\n", 
            "where $\\uparrow_P$ append $N-P$ zeros at the end of a vector, and\n", 
            "$C^*$ is the inverse DCT transform.\n", 
            ""
          ]
        }, 
        {
          "cell_type": "code", 
          "collapsed": false, 
          "input": [
            "uparrow = lambda x: [x; zeros(N-P,1)]\n", 
            "PhiS = lambda x: S1S(idct(S2S(uparrow(x))))"
          ], 
          "language": "python", 
          "outputs": []
        }, 
        {
          "cell_type": "markdown", 
          "metadata": {}, 
          "source": [
            "\n", 
            "\n", 
            "Perform the CS (noiseless) measurements.\n", 
            ""
          ]
        }, 
        {
          "cell_type": "code", 
          "collapsed": false, 
          "input": [
            "y = Phi(x0)"
          ], 
          "language": "python", 
          "outputs": []
        }, 
        {
          "cell_type": "heading", 
          "level": 3, 
          "metadata": {}, 
          "source": [
            "Exercise 2"
          ]
        }, 
        {
          "cell_type": "markdown", 
          "metadata": {}, 
          "source": [
            "\n", 
            "Reconstruct an image using the pseudo inverse coefficients $\\Phi^+ y =\n", 
            "\\Phi^* y$.\n", 
            "\n", 
            "\n", 
            "\n", 
            ""
          ]
        }, 
        {
          "cell_type": "code", 
          "collapsed": false, 
          "input": [
            "## Insert your code here."
          ], 
          "language": "python", 
          "outputs": []
        }, 
        {
          "cell_type": "markdown", 
          "metadata": {}, 
          "source": [
            "\n", 
            "\n", 
            "\n", 
            "CMT"
          ]
        }, 
        {
          "cell_type": "code", 
          "collapsed": false, 
          "input": [
            "imwrite(clamp(fL2), [rep basename '-l2.png'], 'png')"
          ], 
          "language": "python", 
          "outputs": []
        }, 
        {
          "cell_type": "markdown", 
          "metadata": {}, 
          "source": [
            "CMT\n", 
            "\n", 
            ""
          ]
        }, 
        {
          "cell_type": "heading", 
          "level": 2, 
          "metadata": {}, 
          "source": [
            "Compressed Sensing Recovery using Douglas Rachford Scheme\n"
          ]
        }, 
        {
          "cell_type": "markdown", 
          "metadata": {}, 
          "source": [
            "We consider the minimum $\\ell^1$ recovery from the measurements $y = \\Phi x_0 \\in \\RR^P$\n", 
            "$$ \\umin{\\Phi x = y} \\normu{x}. $$\n", 
            "This can be written as\n", 
            "$$ \\umin{ x } F(x) + G(x) \\qwhereq\n", 
            "\\choice{\n", 
            "      F(x) = i_{\\Cc}(x), \\\\\n", 
            "      G(x) = \\normu{x}.\n", 
            "  }\n", 
            "$$\n", 
            "where $\\Cc = \\enscond{x}{\\Phi x =y}$.\n", 
            "\n", 
            "\n", 
            "One can solve this problem using the Douglas-Rachford iterations\n", 
            "$$ \\tilde x_{k+1} = \\pa{1-\\frac{\\mu}{2}} \\tilde x_k +\n", 
            "  \\frac{\\mu}{2} \\text{rPox}_{\\gamma G}( \\text{rProx}_{\\gamma F}(\\tilde x_k)  )\n", 
            "  \\qandq x_{k+1} = \\text{Prox}_{\\gamma F}(\\tilde x_{k+1},) $$\n", 
            "\n", 
            "\n", 
            "We have use the following definition for the proximal and\n", 
            "reversed-proximal mappings:\n", 
            "$$ \\text{rProx}_{\\gamma F}(x) = 2\\text{Prox}_{\\gamma F}(x)-x $$\n", 
            "$$ \\text{Prox}_{\\gamma F}(x) = \\uargmin{y} \\frac{1}{2}\\norm{x-y}^2 + \\ga F(y). $$\n", 
            "\n", 
            "\n", 
            "One can show that for any value of $\\gamma>0$, any $ 0 < \\mu < 2 $,\n", 
            "and any $\\tilde x_0$, $x_k \\rightarrow x^\\star$\n", 
            "which is a solution of the minimization of $F+G$.\n", 
            ""
          ]
        }, 
        {
          "cell_type": "heading", 
          "level": 3, 
          "metadata": {}, 
          "source": [
            "Exercise 3"
          ]
        }, 
        {
          "cell_type": "markdown", 
          "metadata": {}, 
          "source": [
            "\n", 
            "Implement the proximal and reversed-proximal mappings of $F$ (the orthogonal projector on\n", 
            "$\\Cc$ and $G$ (soft thresholding). In Matlab, use inline function with the |@|\n", 
            "operator.\n", 
            "\n", 
            "\n", 
            "\n", 
            ""
          ]
        }, 
        {
          "cell_type": "code", 
          "collapsed": false, 
          "input": [
            "## Insert your code here."
          ], 
          "language": "python", 
          "outputs": []
        }, 
        {
          "cell_type": "markdown", 
          "metadata": {}, 
          "source": [
            "\n", 
            "\n", 
            "\n", 
            "Value for the $0 < \\mu < 2$ and $\\gamma>0$ parameters.\n", 
            "You can use other values, this might speed up the convergence.\n", 
            ""
          ]
        }, 
        {
          "cell_type": "code", 
          "collapsed": false, 
          "input": [
            "mu = 1\n", 
            "gamma = 1"
          ], 
          "language": "python", 
          "outputs": []
        }, 
        {
          "cell_type": "heading", 
          "level": 3, 
          "metadata": {}, 
          "source": [
            "Exercise 4"
          ]
        }, 
        {
          "cell_type": "markdown", 
          "metadata": {}, 
          "source": [
            "\n", 
            "Implement the DR iterative algorithm.\n", 
            "Keep track of the evolution of the $\\ell^1$ norm $G(x_k)$.\n", 
            "\n", 
            "\n", 
            "\n", 
            "\n", 
            "\n", 
            "\n", 
            "\n", 
            "\n", 
            "\n", 
            "\n", 
            "\n", 
            "\n", 
            "\n", 
            ""
          ]
        }, 
        {
          "cell_type": "code", 
          "collapsed": false, 
          "input": [
            "## Insert your code here."
          ], 
          "language": "python", 
          "outputs": []
        }, 
        {
          "cell_type": "markdown", 
          "metadata": {}, 
          "source": [
            "\n", 
            ""
          ]
        }, 
        {
          "cell_type": "heading", 
          "level": 3, 
          "metadata": {}, 
          "source": [
            "Exercise 5"
          ]
        }, 
        {
          "cell_type": "markdown", 
          "metadata": {}, 
          "source": [
            "\n", 
            "Display the image reconstructed using the $P_0$ linear and $P$ CS\n", 
            "measurements. The total number of used measurements is thus $P+P_0$.\n", 
            "\n", 
            "\n", 
            "\n", 
            ""
          ]
        }, 
        {
          "cell_type": "code", 
          "collapsed": false, 
          "input": [
            "## Insert your code here."
          ], 
          "language": "python", 
          "outputs": []
        }, 
        {
          "cell_type": "markdown", 
          "metadata": {}, 
          "source": [
            "\n", 
            "\n", 
            "CMT"
          ]
        }, 
        {
          "cell_type": "code", 
          "collapsed": false, 
          "input": [
            "imwrite(clamp(fCS), [rep basename '-cs.png'], 'png')"
          ], 
          "language": "python", 
          "outputs": []
        }, 
        {
          "cell_type": "markdown", 
          "metadata": {}, 
          "source": [
            "CMT\n", 
            "\n", 
            "\n", 
            ""
          ]
        }, 
        {
          "cell_type": "heading", 
          "level": 2, 
          "metadata": {}, 
          "source": [
            "Compressed Sensing Reconstruction using Block Sparsity\n"
          ]
        }, 
        {
          "cell_type": "markdown", 
          "metadata": {}, 
          "source": [
            "In order to enhance the CS reconstruction, it is possible to use more\n", 
            "advanced priors than plain $ \\ell^1 $.\n", 
            "\n", 
            "\n", 
            "One can for instance use a block $ \\ell^1 $ norm\n", 
            "$$ G(x) = \\sum_i \\norm{x_{B_i}} $$\n", 
            "where $ (B_i)_i $ is a disjoint segmentation of the index set $\n", 
            "\\{1,\\ldots,N\\} $, where\n", 
            "$x_{B} = \\{ x_i \\}_{i \\in B} \\in \\RR^{|B|}$ extracts the coefficients\n", 
            "within $B$, and $ \\norm{x_B} $ is the $\\ell^2$ norm.\n", 
            "\n", 
            "\n", 
            "The proximal operator of this block $\\ell^1$ norm is a block\n", 
            "thresholding\n", 
            "$$ \\forall \\, m \\in B_i, \\quad \\text{Prox}_{\\ga G}(x)_i =\n", 
            "  \\max(0, 1-\\ga/\\norm{x_{B_i}}) x_i. $$\n", 
            "\n", 
            "\n", 
            "We use uniform blocks of size $w \\times w$.\n", 
            ""
          ]
        }, 
        {
          "cell_type": "code", 
          "collapsed": false, 
          "input": [
            "w = 4"
          ], 
          "language": "python", 
          "outputs": []
        }, 
        {
          "cell_type": "markdown", 
          "metadata": {}, 
          "source": [
            "\n", 
            "\n", 
            "Blocks position and offset in the image domain.\n", 
            ""
          ]
        }, 
        {
          "cell_type": "code", 
          "collapsed": false, 
          "input": [
            "v = 1:w:n\n", 
            "dv = 0:w-1\n", 
            "[dX,dY,X,Y] = ndgrid(dv,dv,v,v)\n", 
            "q = size(X,3)\n", 
            "dX = reshape(dX, [w*w q*q])\n", 
            "dY = reshape(dY, [w*w q*q])\n", 
            "X = reshape(X, [w*w q*q])\n", 
            "Y = reshape(Y, [w*w q*q])"
          ], 
          "language": "python", 
          "outputs": []
        }, 
        {
          "cell_type": "markdown", 
          "metadata": {}, 
          "source": [
            "\n", 
            "\n", 
            "Remove the block which fails outside the image.\n", 
            ""
          ]
        }, 
        {
          "cell_type": "code", 
          "collapsed": false, 
          "input": [
            "I = find( sum(X+dX>n | Y+dY>n)  )\n", 
            "X(:,I) = []\n", 
            "Y(:,I) = []\n", 
            "dX(:,I) = []\n", 
            "dY(:,I) = []"
          ], 
          "language": "python", 
          "outputs": []
        }, 
        {
          "cell_type": "markdown", 
          "metadata": {}, 
          "source": [
            "\n", 
            "\n", 
            "Compute the indexes of the block in $\\{1,\\ldots,N\\}$, i.e.  not in image space\n", 
            "but over the CS coefficients space.\n", 
            ""
          ]
        }, 
        {
          "cell_type": "code", 
          "collapsed": false, 
          "input": [
            "U = zeros(n,n)\n", 
            "U(I0) = 1:N\n", 
            "Ind = X+dX + (Y+dY-1)*n\n", 
            "I = U(Ind)"
          ], 
          "language": "python", 
          "outputs": []
        }, 
        {
          "cell_type": "markdown", 
          "metadata": {}, 
          "source": [
            "\n", 
            "\n", 
            "Remove the indexes that corresponds to low pass wavelet coefficients.\n", 
            ""
          ]
        }, 
        {
          "cell_type": "code", 
          "collapsed": false, 
          "input": [
            "I(:,sum(I==0)>0) = []"
          ], 
          "language": "python", 
          "outputs": []
        }, 
        {
          "cell_type": "markdown", 
          "metadata": {}, 
          "source": [
            "\n", 
            "\n", 
            "A block is defined as $B_i = \\{ I_{k,i} \\}_{k=1}^{w^2}$.\n", 
            "Define the energy.\n", 
            ""
          ]
        }, 
        {
          "cell_type": "code", 
          "collapsed": false, 
          "input": [
            "G = lambda x: sum( sqrt(sum(x(I).^2)) )"
          ], 
          "language": "python", 
          "outputs": []
        }, 
        {
          "cell_type": "markdown", 
          "metadata": {}, 
          "source": [
            "\n", 
            "\n", 
            "Just for check : display in coefficient space the block structure.\n", 
            ""
          ]
        }, 
        {
          "cell_type": "code", 
          "collapsed": false, 
          "input": [
            "[A,tmp] = meshgrid( randperm(size(I,2)) , ones(w*w,1))\n", 
            "x = zeros(N,1); x(I) = A\n", 
            "Z = zeros(n,n); Z(I0) = x\n", 
            "\n", 
            "imageplot(Z)\n", 
            "colormap jet(256)"
          ], 
          "language": "python", 
          "outputs": []
        }, 
        {
          "cell_type": "heading", 
          "level": 3, 
          "metadata": {}, 
          "source": [
            "Exercise 6"
          ]
        }, 
        {
          "cell_type": "markdown", 
          "metadata": {}, 
          "source": [
            "\n", 
            "define the proximal operator $ \\text{Prox}_{\\ga G} $ of $G$,\n", 
            "and its reversed proximal mapping.\n", 
            "\n", 
            "\n", 
            "\n", 
            "\n", 
            "\n", 
            ""
          ]
        }, 
        {
          "cell_type": "code", 
          "collapsed": false, 
          "input": [
            "## Insert your code here."
          ], 
          "language": "python", 
          "outputs": []
        }, 
        {
          "cell_type": "markdown", 
          "metadata": {}, 
          "source": [
            "\n", 
            "\n", 
            ""
          ]
        }, 
        {
          "cell_type": "heading", 
          "level": 3, 
          "metadata": {}, 
          "source": [
            "Exercise 7"
          ]
        }, 
        {
          "cell_type": "markdown", 
          "metadata": {}, 
          "source": [
            "\n", 
            "Implement the DR iterative algorithm.\n", 
            "Keep track of the evolution of $G(x_k)$.\n", 
            "\n", 
            "\n", 
            "\n", 
            "\n", 
            "\n", 
            "\n", 
            "\n", 
            "\n", 
            "\n", 
            "\n", 
            "\n", 
            ""
          ]
        }, 
        {
          "cell_type": "code", 
          "collapsed": false, 
          "input": [
            "## Insert your code here."
          ], 
          "language": "python", 
          "outputs": []
        }, 
        {
          "cell_type": "markdown", 
          "metadata": {}, 
          "source": [
            "\n", 
            ""
          ]
        }, 
        {
          "cell_type": "heading", 
          "level": 3, 
          "metadata": {}, 
          "source": [
            "Exercise 8"
          ]
        }, 
        {
          "cell_type": "markdown", 
          "metadata": {}, 
          "source": [
            "\n", 
            "Display the image reconstructed using the $P_0$ linear and $P$ CS\n", 
            "measurements.\n", 
            "\n", 
            "\n", 
            "\n", 
            ""
          ]
        }, 
        {
          "cell_type": "code", 
          "collapsed": false, 
          "input": [
            "## Insert your code here."
          ], 
          "language": "python", 
          "outputs": []
        }, 
        {
          "cell_type": "markdown", 
          "metadata": {}, 
          "source": [
            "\n", 
            "\n", 
            "\n", 
            "CMT"
          ]
        }, 
        {
          "cell_type": "code", 
          "collapsed": false, 
          "input": [
            "imwrite(clamp(fCSBlock), [rep basename '-cs-blocks.png'], 'png')"
          ], 
          "language": "python", 
          "outputs": []
        }
      ]
    }
  ]
}