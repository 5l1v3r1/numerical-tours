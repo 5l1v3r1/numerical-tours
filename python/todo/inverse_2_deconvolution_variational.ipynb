{
  "metadata": {
    "name": ""
  }, 
  "nbformat": 3, 
  "nbformat_minor": 0, 
  "worksheets": [
    {
      "cells": [
        {
          "cell_type": "heading", 
          "level": 1, 
          "metadata": {}, 
          "source": [
            "Image Deconvolution using Variational Method"
          ]
        }, 
        {
          "cell_type": "markdown", 
          "metadata": {}, 
          "source": [
            "This numerical tour explores the use of\n", 
            "Sobolev and TV regularization to perform image deconvolution.\n", 
            ""
          ]
        }, 
        {
          "cell_type": "markdown", 
          "metadata": {}, 
          "source": [
            "*Important:* You need to download the file `nt_toolbox.py` from the \n", 
            "root of the github repository.\n", 
            "$\\newcommand{\\dotp}[2]{\\langle #1, #2 \\rangle}\n", 
            "\\newcommand{\\enscond}[2]{\\lbrace #1, #2 \\rbrace}\n", 
            "\\newcommand{\\pd}[2]{ \\frac{ \\partial #1}{\\partial #2} }\n", 
            "\\newcommand{\\umin}[1]{\\underset{#1}{\\min}\\;}\n", 
            "\\newcommand{\\norm}[1]{\\|#1\\|}\n", 
            "\\newcommand{\\abs}[1]{\\left|#1\\right|}\n", 
            "\\newcommand{\\choice}[1]{ \\left\\{  \\begin{array}{l} #1 \\end{array} \\right. }\n", 
            "\\newcommand{\\pa}[1]{\\left(#1\\right)}\n", 
            "\\newcommand{\\qandq}{\\quad\\text{and}\\quad}\n", 
            "\\newcommand{\\qwhereq}{\\quad\\text{where}\\quad}\n", 
            "\\newcommand{\\qifq}{ \\quad \\text{if} \\quad }\n", 
            "\\newcommand{\\qarrq}{ \\quad \\Longrightarrow \\quad }\n", 
            "\\newcommand{\\ZZ}{\\mathbb{Z}}\n", 
            "\\newcommand{\\RR}{\\mathbb{R}}\n", 
            "\\newcommand{\\Nn}{\\mathcal{N}}\n", 
            "\\newcommand{\\Hh}{\\mathcal{H}}\n", 
            "\\newcommand{\\Bb}{\\mathcal{B}}\n", 
            "\\newcommand{\\EE}{\\mathbb{E}}\n", 
            "\\newcommand{\\CC}{\\mathbb{C}}\n", 
            "\\newcommand{\\si}{\\sigma}\n", 
            "\\newcommand{\\al}{\\alpha}\n", 
            "\\newcommand{\\la}{\\lambda}\n", 
            "\\newcommand{\\ga}{\\gamma}\n", 
            "\\newcommand{\\Ga}{\\Gamma}\n", 
            "\\newcommand{\\La}{\\Lambda}\n", 
            "\\newcommand{\\si}{\\sigma}\n", 
            "\\newcommand{\\Si}{\\Sigma}\n", 
            "\\newcommand{\\be}{\\beta}\n", 
            "\\newcommand{\\de}{\\delta}\n", 
            "\\newcommand{\\De}{\\Delta}\n", 
            "\\renewcommand{\\phi}{\\varphi}\n", 
            "\\renewcommand{\\th}{\\theta}\n", 
            "\\newcommand{\\om}{\\omega}\n", 
            "\\newcommand{\\Om}{\\Omega}\n", 
            "$"
          ]
        }, 
        {
          "cell_type": "code", 
          "collapsed": false, 
          "input": [
            "from nt_toolbox import *", 
            "%matplotlib inline", 
            "%load_ext autoreload", 
            "%autoreload 2"
          ], 
          "language": "python", 
          "outputs": []
        }, 
        {
          "cell_type": "markdown", 
          "metadata": {}, 
          "source": [
            "\n", 
            "CMT"
          ]
        }, 
        {
          "cell_type": "code", 
          "collapsed": false, 
          "input": [
            "rep = 'results/inverse_2_deconvolution_variational/'\n", 
            "if not(exist(rep, 'dir'))\n", 
            "    mkdir(rep)\n", 
            ""
          ], 
          "language": "python", 
          "outputs": []
        }, 
        {
          "cell_type": "markdown", 
          "metadata": {}, 
          "source": [
            "CMT\n", 
            "\n", 
            "\n", 
            "This tour is concerned with the deconvolution problem. The measurement\n", 
            "are assumed to be blurry and noisy:\n", 
            " $$y=\\Phi f_0 + w = h \\star f_0 + w$$\n", 
            "\n", 
            "\n", 
            "\n", 
            "Where here |h| is the filter (low pass) and |w| some noise (here assumed\n", 
            "to be white Gaussian).\n", 
            "\n", 
            "\n", 
            "We consider variational deconvolution methods, that finds a regularizer\n", 
            "through a convex optimization:\n", 
            " $$f^\\star \\in \\text{argmin}_f \\frac{1}{2}\\|y-\\Phi f\\|^2 + \\lambda J(f)$$\n", 
            "\n", 
            "\n", 
            "\n", 
            "Where $J(f)$ is a prior energy. In this tour we consider a simple L2\n", 
            "prior (the image is assumed to have a bounded energy), a Sobolev prior\n", 
            "(the image is uniformly smooth) and an approximate total variation (the\n", 
            "image has edges of bounded perimeter).\n", 
            "\n", 
            "\n", 
            "Note that the parameter $\\lambda$ should be carefully chosen to fit the\n", 
            "noise level.\n", 
            ""
          ]
        }, 
        {
          "cell_type": "heading", 
          "level": 2, 
          "metadata": {}, 
          "source": [
            "Image Blurring\n"
          ]
        }, 
        {
          "cell_type": "markdown", 
          "metadata": {}, 
          "source": [
            "Deconvolution corresponds to removing a blur from an image.\n", 
            "We use here a Gaussian blur.\n", 
            "\n", 
            "\n", 
            "First we load the image to be inpainted.\n", 
            ""
          ]
        }, 
        {
          "cell_type": "code", 
          "collapsed": false, 
          "input": [
            "n = 256\n", 
            "name = 'lena'\n", 
            "name = 'mri'\n", 
            "name = 'boat'\n", 
            "f0 = load_image(name)\n", 
            "f0 = rescale(crop(f0,n))"
          ], 
          "language": "python", 
          "outputs": []
        }, 
        {
          "cell_type": "markdown", 
          "metadata": {}, 
          "source": [
            "\n", 
            "CMT"
          ]
        }, 
        {
          "cell_type": "code", 
          "collapsed": false, 
          "input": [
            "basename = [name '-deconv']"
          ], 
          "language": "python", 
          "outputs": []
        }, 
        {
          "cell_type": "markdown", 
          "metadata": {}, 
          "source": [
            "CMT\n", 
            "\n", 
            "\n", 
            "\n", 
            "We build a convolution kernel.\n", 
            "Since we are going to use Fourier to compute the convolution,\n", 
            "we set the center of the kernel in the (1,1) pixel location.\n", 
            "\n", 
            "\n", 
            "Width of the kernel, in pixel.\n", 
            ""
          ]
        }, 
        {
          "cell_type": "code", 
          "collapsed": false, 
          "input": [
            "s = 3"
          ], 
          "language": "python", 
          "outputs": []
        }, 
        {
          "cell_type": "markdown", 
          "metadata": {}, 
          "source": [
            "\n", 
            "\n", 
            "Kernel.\n", 
            ""
          ]
        }, 
        {
          "cell_type": "code", 
          "collapsed": false, 
          "input": [
            "x = [0:n/2-1, -n/2:-1]\n", 
            "[Y,X] = meshgrid(x,x)\n", 
            "h = exp( (-X.^2-Y.^2)/(2*s^2) )\n", 
            "h = h/sum(h(:))"
          ], 
          "language": "python", 
          "outputs": []
        }, 
        {
          "cell_type": "markdown", 
          "metadata": {}, 
          "source": [
            "\n", 
            "\n", 
            "Useful for later : the Fourier transform (should be real because of symmetry).\n", 
            ""
          ]
        }, 
        {
          "cell_type": "code", 
          "collapsed": false, 
          "input": [
            "hF = real(fft2(h))"
          ], 
          "language": "python", 
          "outputs": []
        }, 
        {
          "cell_type": "markdown", 
          "metadata": {}, 
          "source": [
            "\n", 
            "\n", 
            "Display the kernel and its transform.\n", 
            "We use |fftshift| to center the filter for display.\n", 
            ""
          ]
        }, 
        {
          "cell_type": "code", 
          "collapsed": false, 
          "input": [
            "\n", 
            "imageplot(fftshift(h), 'Filter', 1,2,1)\n", 
            "imageplot(fftshift(hF), 'Fourier transform', 1,2,2)"
          ], 
          "language": "python", 
          "outputs": []
        }, 
        {
          "cell_type": "markdown", 
          "metadata": {}, 
          "source": [
            "\n", 
            "\n", 
            "We use this short hand for the filtering.\n", 
            "Note that this is a symmetric operator.\n", 
            ""
          ]
        }, 
        {
          "cell_type": "code", 
          "collapsed": false, 
          "input": [
            "if using_matlab()\n", 
            "    Phi = lambda x,h: real(ifft2(fft2(x).*fft2(h)))\n", 
            ""
          ], 
          "language": "python", 
          "outputs": []
        }, 
        {
          "cell_type": "markdown", 
          "metadata": {}, 
          "source": [
            "\n", 
            "\n", 
            "*Important* Scilab user should define a function |Phi| in a separate file |Phi.sci|\n", 
            "to perform this.\n", 
            "\n", 
            "\n", 
            "Apply the filter.\n", 
            ""
          ]
        }, 
        {
          "cell_type": "code", 
          "collapsed": false, 
          "input": [
            "y0 = Phi(f0,h)"
          ], 
          "language": "python", 
          "outputs": []
        }, 
        {
          "cell_type": "markdown", 
          "metadata": {}, 
          "source": [
            "\n", 
            "\n", 
            "Display the filtered observation.\n", 
            ""
          ]
        }, 
        {
          "cell_type": "code", 
          "collapsed": false, 
          "input": [
            "\n", 
            "imageplot(f0, 'Image f0', 1,2,1)\n", 
            "imageplot(y0, 'Observation without noise', 1,2,2)"
          ], 
          "language": "python", 
          "outputs": []
        }, 
        {
          "cell_type": "markdown", 
          "metadata": {}, 
          "source": [
            "\n", 
            "\n", 
            "Variance $\\sigma^2$ of the noise $w$.\n", 
            ""
          ]
        }, 
        {
          "cell_type": "code", 
          "collapsed": false, 
          "input": [
            "sigma = .02"
          ], 
          "language": "python", 
          "outputs": []
        }, 
        {
          "cell_type": "markdown", 
          "metadata": {}, 
          "source": [
            "\n", 
            "\n", 
            "Add some noise to obtain the measurements $y = \\Phi f_0 + w$.\n", 
            ""
          ]
        }, 
        {
          "cell_type": "code", 
          "collapsed": false, 
          "input": [
            "y = y0 + randn(n)*sigma"
          ], 
          "language": "python", 
          "outputs": []
        }, 
        {
          "cell_type": "markdown", 
          "metadata": {}, 
          "source": [
            "\n", 
            "\n", 
            "Display.\n", 
            ""
          ]
        }, 
        {
          "cell_type": "code", 
          "collapsed": false, 
          "input": [
            "\n", 
            "imageplot(y0, 'Observation without noise', 1,2,1)\n", 
            "imageplot(clamp(y), 'Observation with noise', 1,2,2)"
          ], 
          "language": "python", 
          "outputs": []
        }, 
        {
          "cell_type": "markdown", 
          "metadata": {}, 
          "source": [
            "\n", 
            "CMT"
          ]
        }, 
        {
          "cell_type": "code", 
          "collapsed": false, 
          "input": [
            "imwrite(clamp(f0), [rep name '-deconv-original.png'], 'png')\n", 
            "imwrite(clamp(y), [rep name '-deconv-observations.png'], 'png')"
          ], 
          "language": "python", 
          "outputs": []
        }, 
        {
          "cell_type": "markdown", 
          "metadata": {}, 
          "source": [
            "CMT\n", 
            ""
          ]
        }, 
        {
          "cell_type": "heading", 
          "level": 2, 
          "metadata": {}, 
          "source": [
            "Deconvolution with L2 Regularization\n"
          ]
        }, 
        {
          "cell_type": "markdown", 
          "metadata": {}, 
          "source": [
            "Deconvolution is obtained by dividing the Fourier transform of $y$\n", 
            "by $\\hat h$.\n", 
            " $$f^\\star(\\omega) = \\frac{\\hat y(\\omega)}{\\hat h(\\omega)} = \\hat f_0(\\omega) + \\hat w(\\omega)/{\\hat h(\\omega)}$$\n", 
            "\n", 
            "\n", 
            "Unfortunately this creates an explosion of the Noise.\n", 
            "\n", 
            "\n", 
            "To avoid this explosion, we consider a simple regularization.\n", 
            " $$f^{\\star} = \\text{argmin}_f \\: \\|y-\\Phi f\\|^2 + \\lambda \\|f\\|^2$$\n", 
            "\n", 
            "\n", 
            "\n", 
            "Since the filtering is diagonalized over Fourier, the solution is simply\n", 
            "computed over the Fourier domain as:\n", 
            " $$\\hat f^\\star(\\omega) = \\frac{\\hat y(\\omega) \\hat h(\\omega)}{ \\|\\hat h(\\omega)\\|^2 + \\lambda }$$\n", 
            "\n", 
            "\n", 
            "\n", 
            "Useful for later: Fourier transform of the observations.\n", 
            ""
          ]
        }, 
        {
          "cell_type": "code", 
          "collapsed": false, 
          "input": [
            "yF = fft2(y)"
          ], 
          "language": "python", 
          "outputs": []
        }, 
        {
          "cell_type": "markdown", 
          "metadata": {}, 
          "source": [
            "\n", 
            "\n", 
            "Select a value for the regularization parameter.\n", 
            ""
          ]
        }, 
        {
          "cell_type": "code", 
          "collapsed": false, 
          "input": [
            "lambda = 0.02"
          ], 
          "language": "python", 
          "outputs": []
        }, 
        {
          "cell_type": "markdown", 
          "metadata": {}, 
          "source": [
            "\n", 
            "\n", 
            "Perform the inversion.\n", 
            ""
          ]
        }, 
        {
          "cell_type": "code", 
          "collapsed": false, 
          "input": [
            "fL2 = real( ifft2( yF .* hF ./ ( abs(hF).^2 + lambda) ) )"
          ], 
          "language": "python", 
          "outputs": []
        }, 
        {
          "cell_type": "markdown", 
          "metadata": {}, 
          "source": [
            "\n", 
            "\n", 
            "Display.\n", 
            ""
          ]
        }, 
        {
          "cell_type": "code", 
          "collapsed": false, 
          "input": [
            "\n", 
            "imageplot(y, strcat(['Observation, SNR=' num2str(snr(f0,y),3) 'dB']), 1,2,1)\n", 
            "imageplot(clamp(fL2), strcat(['L2 deconvolution, SNR=' num2str(snr(f0,fL2),3) 'dB']), 1,2,2)"
          ], 
          "language": "python", 
          "outputs": []
        }, 
        {
          "cell_type": "heading", 
          "level": 3, 
          "metadata": {}, 
          "source": [
            "Exercise 1"
          ]
        }, 
        {
          "cell_type": "markdown", 
          "metadata": {}, 
          "source": [
            "\n", 
            "Find the optimal solution |fL2| by testing several value of\n", 
            "|lambda|.\n", 
            "\n", 
            "\n", 
            "\n", 
            "\n", 
            "\n", 
            "\n", 
            "\n", 
            "\n", 
            "\n", 
            "\n", 
            "\n", 
            "\n", 
            "\n", 
            "\n", 
            "\n", 
            ""
          ]
        }, 
        {
          "cell_type": "code", 
          "collapsed": false, 
          "input": [
            "## Insert your code here."
          ], 
          "language": "python", 
          "outputs": []
        }, 
        {
          "cell_type": "markdown", 
          "metadata": {}, 
          "source": [
            "\n", 
            "\n", 
            "\n", 
            "Display optimal result.\n", 
            ""
          ]
        }, 
        {
          "cell_type": "code", 
          "collapsed": false, 
          "input": [
            "\n", 
            "imageplot(y, strcat(['Observation, SNR=' num2str(snr(f0,y),3) 'dB']), 1,2,1)\n", 
            "imageplot(clamp(fL2), strcat(['L2 deconvolution, SNR=' num2str(snr(f0,fL2),3) 'dB']), 1,2,2)"
          ], 
          "language": "python", 
          "outputs": []
        }, 
        {
          "cell_type": "markdown", 
          "metadata": {}, 
          "source": [
            "\n", 
            "\n", 
            "CMT"
          ]
        }, 
        {
          "cell_type": "code", 
          "collapsed": false, 
          "input": [
            "imwrite(clamp(fL2), [rep name '-deconv-l2.png'], 'png')"
          ], 
          "language": "python", 
          "outputs": []
        }, 
        {
          "cell_type": "markdown", 
          "metadata": {}, 
          "source": [
            "CMT\n", 
            ""
          ]
        }, 
        {
          "cell_type": "heading", 
          "level": 2, 
          "metadata": {}, 
          "source": [
            "Deconvolution by Sobolev Regularization. \n"
          ]
        }, 
        {
          "cell_type": "markdown", 
          "metadata": {}, 
          "source": [
            "L2 regularization did not perform any denoising. To remove some noise, we\n", 
            "can penalize high frequencies using Sobolev regularization (quadratic\n", 
            "grow).\n", 
            "\n", 
            "\n", 
            "The Sobolev prior reads (note the conversion from spacial domain to\n", 
            "Fourier domain)\n", 
            " $$J(f) = \\sum_x \\|\\nabla f(x)\\|^2 = \\sum_{\\omega} S(\\omega) \\|\\hat f(\\omega)\\|^2 $$\n", 
            "where $S(\\omega)=\\|\\omega\\|^2$.\n", 
            "\n", 
            "\n", 
            "\n", 
            "\n", 
            "\n", 
            "Since this prior can be written over the Fourier domain, one can compute\n", 
            "the solution to the deblurring with Sobolev prior simply with the Fourier\n", 
            "coefficients:\n", 
            " $$\\hat f^\\star(\\omega) = \\frac{\\hat y(\\omega) \\hat h(\\omega)}{ \\|\\hat h(\\omega)\\|^2 + \\lambda S(\\omega) }$$\n", 
            "\n", 
            "\n", 
            "\n", 
            "\n", 
            "Compute the Sobolev prior penalty |S|(rescale to [0,1]).\n", 
            ""
          ]
        }, 
        {
          "cell_type": "code", 
          "collapsed": false, 
          "input": [
            "S = (X.^2 + Y.^2)*(2/n)^2"
          ], 
          "language": "python", 
          "outputs": []
        }, 
        {
          "cell_type": "markdown", 
          "metadata": {}, 
          "source": [
            "\n", 
            "\n", 
            "Regularization parameter:\n", 
            ""
          ]
        }, 
        {
          "cell_type": "code", 
          "collapsed": false, 
          "input": [
            "lambda = 0.2"
          ], 
          "language": "python", 
          "outputs": []
        }, 
        {
          "cell_type": "markdown", 
          "metadata": {}, 
          "source": [
            "\n", 
            "\n", 
            "Perform the inversion.\n", 
            ""
          ]
        }, 
        {
          "cell_type": "code", 
          "collapsed": false, 
          "input": [
            "fSob = real( ifft2( yF .* hF ./ ( abs(hF).^2 + lambda*S) ) )"
          ], 
          "language": "python", 
          "outputs": []
        }, 
        {
          "cell_type": "markdown", 
          "metadata": {}, 
          "source": [
            "\n", 
            "\n", 
            "Display the result.\n", 
            ""
          ]
        }, 
        {
          "cell_type": "code", 
          "collapsed": false, 
          "input": [
            "\n", 
            "imageplot(y, strcat(['Observation, SNR=' num2str(snr(f0,y),3) 'dB']), 1,2,1)\n", 
            "imageplot(clamp(fSob), strcat(['Sobolev deconvolution, SNR=' num2str(snr(f0,fSob),3) 'dB']), 1,2,2)"
          ], 
          "language": "python", 
          "outputs": []
        }, 
        {
          "cell_type": "heading", 
          "level": 3, 
          "metadata": {}, 
          "source": [
            "Exercise 2"
          ]
        }, 
        {
          "cell_type": "markdown", 
          "metadata": {}, 
          "source": [
            "\n", 
            "Find the optimal solution |fSob| by testing several value of\n", 
            "|lambda|.\n", 
            "\n", 
            "\n", 
            "\n", 
            "\n", 
            "\n", 
            "\n", 
            "\n", 
            "\n", 
            "\n", 
            "\n", 
            "\n", 
            "\n", 
            "\n", 
            "\n", 
            "\n", 
            ""
          ]
        }, 
        {
          "cell_type": "code", 
          "collapsed": false, 
          "input": [
            "## Insert your code here."
          ], 
          "language": "python", 
          "outputs": []
        }, 
        {
          "cell_type": "markdown", 
          "metadata": {}, 
          "source": [
            "\n", 
            "\n", 
            "\n", 
            "Display optimal result.\n", 
            ""
          ]
        }, 
        {
          "cell_type": "code", 
          "collapsed": false, 
          "input": [
            "\n", 
            "imageplot(y, strcat(['Observation, SNR=' num2str(snr(f0,y),3) 'dB']), 1,2,1)\n", 
            "imageplot(clamp(fSob), strcat(['Sobolev deconvolution, SNR=' num2str(snr(f0,fSob),3) 'dB']), 1,2,2)"
          ], 
          "language": "python", 
          "outputs": []
        }, 
        {
          "cell_type": "markdown", 
          "metadata": {}, 
          "source": [
            "\n", 
            "CMT"
          ]
        }, 
        {
          "cell_type": "code", 
          "collapsed": false, 
          "input": [
            "imwrite(clamp(fSob), [rep name '-deconv-sobolev.png'], 'png')"
          ], 
          "language": "python", 
          "outputs": []
        }, 
        {
          "cell_type": "markdown", 
          "metadata": {}, 
          "source": [
            "CMT\n", 
            "\n", 
            ""
          ]
        }, 
        {
          "cell_type": "heading", 
          "level": 2, 
          "metadata": {}, 
          "source": [
            "Deconvolution by Total Variation Regularization\n"
          ]
        }, 
        {
          "cell_type": "markdown", 
          "metadata": {}, 
          "source": [
            "Sobolev regularization perform a denoising but also tends to blur the\n", 
            "edges, thus producing a poor results on cartoon images.\n", 
            "\n", 
            "\n", 
            "The TV prior is able to better reconstruct sharp edges. It reads:\n", 
            " $$J(f) = \\sum_x \\| \\nabla f(x)\\|$$\n", 
            "\n", 
            "\n", 
            "\n", 
            "With respect to the Sobolev energy, it simply corresponding to measuring\n", 
            "the L1 norm instead of the L2 norm, thus dropping the square in the\n", 
            "functional.\n", 
            "\n", 
            "\n", 
            "Unfortunately, the TV functional $J(f)$ is not a smooth function of the image\n", 
            "$f$. It thus requires the use of advanced convex optimization method to\n", 
            "be minimized for regularization.\n", 
            "\n", 
            "\n", 
            "An alternative is to replace the absolute value by a smooth absolute value.\n", 
            "The smoothed TV norm reads:\n", 
            " $$J(f) = \\sum_x \\sqrt{\\|\\nabla f(x)\\|^2+\\varepsilon^2}$$\n", 
            "\n", 
            "\n", 
            "\n", 
            "Regularization parameter for the TV norm:\n", 
            ""
          ]
        }, 
        {
          "cell_type": "code", 
          "collapsed": false, 
          "input": [
            "epsilon = 0.4*1e-2"
          ], 
          "language": "python", 
          "outputs": []
        }, 
        {
          "cell_type": "markdown", 
          "metadata": {}, 
          "source": [
            "\n", 
            "\n", 
            "When |epsilon| gets close to zero, the smoothed energy becomes closer to\n", 
            "the original total variation, but the optimization becomes more\n", 
            "difficult. When |epsilon| becomes large, the smoothed energy becomes\n", 
            "closer to the Sobolev energy, thus blurring the edges.\n", 
            "\n", 
            "\n", 
            "Unfortunately, this prior is non-quadratic, and cannot be expressed over\n", 
            "the Fourier domain. One thus need to use an iterative scheme such as a\n", 
            "gradient descent to approximate the solution.\n", 
            "\n", 
            "\n", 
            "An iteration of the gradient descent reads:\n", 
            " $$f^{(k+1)} = f^{(k)} - \\tau \\left( h \\star (h \\star f^{(k)} - y) +  \\lambda \\text{Grad} J(f^{(k)})  \\right)$$\n", 
            "\n", 
            "\n", 
            "\n", 
            "Regularization parameter.\n", 
            ""
          ]
        }, 
        {
          "cell_type": "code", 
          "collapsed": false, 
          "input": [
            "lambda = 0.06"
          ], 
          "language": "python", 
          "outputs": []
        }, 
        {
          "cell_type": "markdown", 
          "metadata": {}, 
          "source": [
            "\n", 
            "\n", 
            "The value of $\\tau$, the step size, should be smaller than twice the\n", 
            "Lipschitz constant of the Gradient of the functional to be minimized,\n", 
            "hence:\n", 
            "$$ \\tau< \\frac{2}{1 + \\lambda 8/\\varepsilon }.$$\n", 
            "\n", 
            ""
          ]
        }, 
        {
          "cell_type": "code", 
          "collapsed": false, 
          "input": [
            "tau = 1.9 / ( 1 + lambda * 8 / epsilon)"
          ], 
          "language": "python", 
          "outputs": []
        }, 
        {
          "cell_type": "markdown", 
          "metadata": {}, 
          "source": [
            "\n", 
            "\n", 
            "Initialization.\n", 
            ""
          ]
        }, 
        {
          "cell_type": "code", 
          "collapsed": false, 
          "input": [
            "fTV = y"
          ], 
          "language": "python", 
          "outputs": []
        }, 
        {
          "cell_type": "markdown", 
          "metadata": {}, 
          "source": [
            "\n", 
            "\n", 
            "Number of iteration (quite a large number is required).\n", 
            ""
          ]
        }, 
        {
          "cell_type": "code", 
          "collapsed": false, 
          "input": [
            "niter = 600"
          ], 
          "language": "python", 
          "outputs": []
        }, 
        {
          "cell_type": "markdown", 
          "metadata": {}, 
          "source": [
            "\n", 
            "\n", 
            "The gradient of the smoothed TV energy is:\n", 
            " $$\\text{Grad} J(f) = -\\text{div}\\left( \\frac{\\nabla f}{ \\sqrt{\\|\\nabla f\\|^2+\\varepsilon^2} } \\right)$$\n", 
            "\n", 
            "\n", 
            "\n", 
            "Compute the gradient of the smoothed TV functional.\n", 
            ""
          ]
        }, 
        {
          "cell_type": "code", 
          "collapsed": false, 
          "input": [
            "Gr = grad(fTV)\n", 
            "d = sqrt( epsilon^2 + sum3(Gr.^2,3) )\n", 
            "G = -div( Gr./repmat(d, [1 1 2])  )"
          ], 
          "language": "python", 
          "outputs": []
        }, 
        {
          "cell_type": "markdown", 
          "metadata": {}, 
          "source": [
            "\n", 
            "\n", 
            "Compute the TV norm, usefull to keep track of its decay through\n", 
            "iterations.\n", 
            ""
          ]
        }, 
        {
          "cell_type": "code", 
          "collapsed": false, 
          "input": [
            "tv = sum(d(:))"
          ], 
          "language": "python", 
          "outputs": []
        }, 
        {
          "cell_type": "markdown", 
          "metadata": {}, 
          "source": [
            "\n", 
            "\n", 
            "Perform a step of gradient descent for the inversion.\n", 
            ""
          ]
        }, 
        {
          "cell_type": "code", 
          "collapsed": false, 
          "input": [
            "e = Phi(fTV,h)-y\n", 
            "fTV = fTV - tau*( Phi(e,h) + lambda*G)"
          ], 
          "language": "python", 
          "outputs": []
        }, 
        {
          "cell_type": "heading", 
          "level": 3, 
          "metadata": {}, 
          "source": [
            "Exercise 3"
          ]
        }, 
        {
          "cell_type": "markdown", 
          "metadata": {}, 
          "source": [
            "\n", 
            "Perform the deblurring by a  gradient descent.\n", 
            "Keep track of the function being minimized.\n", 
            "\n", 
            "\n", 
            "\n", 
            "\n", 
            "\n", 
            "\n", 
            "\n", 
            "\n", 
            "\n", 
            "\n", 
            "\n", 
            "\n", 
            "\n", 
            "\n", 
            "display energy\n", 
            "\n", 
            "\n", 
            ""
          ]
        }, 
        {
          "cell_type": "code", 
          "collapsed": false, 
          "input": [
            "## Insert your code here."
          ], 
          "language": "python", 
          "outputs": []
        }, 
        {
          "cell_type": "markdown", 
          "metadata": {}, 
          "source": [
            "\n", 
            "\n", 
            "\n", 
            "Display the result.\n", 
            ""
          ]
        }, 
        {
          "cell_type": "code", 
          "collapsed": false, 
          "input": [
            "\n", 
            "imageplot(clamp(fTV))"
          ], 
          "language": "python", 
          "outputs": []
        }, 
        {
          "cell_type": "heading", 
          "level": 3, 
          "metadata": {}, 
          "source": [
            "Exercise 4"
          ]
        }, 
        {
          "cell_type": "markdown", 
          "metadata": {}, 
          "source": [
            "\n", 
            "Explore the different values of |lambda| to find the optimal solution.\n", 
            "Display the SNR as a function of |lambda|.\n", 
            "\n", 
            "\n", 
            "\n", 
            "\n", 
            "\n", 
            "\n", 
            "\n", 
            "\n", 
            "\n", 
            "\n", 
            "\n", 
            "\n", 
            "\n", 
            "\n", 
            "\n", 
            "\n", 
            "\n", 
            "\n", 
            "\n", 
            "\n", 
            "\n", 
            "\n", 
            "\n", 
            "\n", 
            "\n", 
            ""
          ]
        }, 
        {
          "cell_type": "code", 
          "collapsed": false, 
          "input": [
            "## Insert your code here."
          ], 
          "language": "python", 
          "outputs": []
        }, 
        {
          "cell_type": "markdown", 
          "metadata": {}, 
          "source": [
            "\n", 
            "\n", 
            "\n", 
            "Display the result.\n", 
            ""
          ]
        }, 
        {
          "cell_type": "code", 
          "collapsed": false, 
          "input": [
            "\n", 
            "imageplot(clamp(fSob), strcat(['Sobolev, SNR=' num2str(snr(f0,fSob),3) 'dB']), 1,2,1)\n", 
            "imageplot(clamp(fTV), strcat(['TV, SNR=' num2str(snr(f0,fTV),3) 'dB']), 1,2,2)"
          ], 
          "language": "python", 
          "outputs": []
        }, 
        {
          "cell_type": "markdown", 
          "metadata": {}, 
          "source": [
            "\n", 
            "CMT"
          ]
        }, 
        {
          "cell_type": "code", 
          "collapsed": false, 
          "input": [
            "imwrite(clamp(fTV), [rep name '-deconv-tv.png'], 'png')"
          ], 
          "language": "python", 
          "outputs": []
        }, 
        {
          "cell_type": "markdown", 
          "metadata": {}, 
          "source": [
            "CMT\n", 
            "\n", 
            ""
          ]
        }, 
        {
          "cell_type": "heading", 
          "level": 2, 
          "metadata": {}, 
          "source": [
            "Comparison of Variational and Sparsity Methods\n"
          ]
        }, 
        {
          "cell_type": "heading", 
          "level": 3, 
          "metadata": {}, 
          "source": [
            "Exercise 5"
          ]
        }, 
        {
          "cell_type": "markdown", 
          "metadata": {}, 
          "source": [
            "\n", 
            "Compare sparsity, Sobolev and TV deblurring."
          ]
        }, 
        {
          "cell_type": "code", 
          "collapsed": false, 
          "input": [
            "## Insert your code here."
          ], 
          "language": "python", 
          "outputs": []
        }
      ]
    }
  ]
}