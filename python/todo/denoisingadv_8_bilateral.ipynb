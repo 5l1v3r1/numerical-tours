{
  "metadata": {
    "name": ""
  }, 
  "nbformat": 3, 
  "nbformat_minor": 0, 
  "worksheets": [
    {
      "cells": [
        {
          "cell_type": "heading", 
          "level": 1, 
          "metadata": {}, 
          "source": [
            "Bilateral Filtering"
          ]
        }, 
        {
          "cell_type": "markdown", 
          "metadata": {}, 
          "source": [
            "This tour explores edge preserving filtering and in particular the\n", 
            "bilateral filter, with applications to denoising and detail enhancement.\n", 
            ""
          ]
        }, 
        {
          "cell_type": "markdown", 
          "metadata": {}, 
          "source": [
            "*Important:* You need to download the file `nt_toolbox.py` from the \n", 
            "root of the github repository.\n", 
            "$\\newcommand{\\dotp}[2]{\\langle #1, #2 \\rangle}\n", 
            "\\newcommand{\\enscond}[2]{\\lbrace #1, #2 \\rbrace}\n", 
            "\\newcommand{\\pd}[2]{ \\frac{ \\partial #1}{\\partial #2} }\n", 
            "\\newcommand{\\umin}[1]{\\underset{#1}{\\min}\\;}\n", 
            "\\newcommand{\\norm}[1]{\\|#1\\|}\n", 
            "\\newcommand{\\abs}[1]{\\left|#1\\right|}\n", 
            "\\newcommand{\\choice}[1]{ \\left\\{  \\begin{array}{l} #1 \\end{array} \\right. }\n", 
            "\\newcommand{\\pa}[1]{\\left(#1\\right)}\n", 
            "\\newcommand{\\qandq}{\\quad\\text{and}\\quad}\n", 
            "\\newcommand{\\qwhereq}{\\quad\\text{where}\\quad}\n", 
            "\\newcommand{\\qifq}{ \\quad \\text{if} \\quad }\n", 
            "\\newcommand{\\qarrq}{ \\quad \\Longrightarrow \\quad }\n", 
            "\\newcommand{\\ZZ}{\\mathbb{Z}}\n", 
            "\\newcommand{\\RR}{\\mathbb{R}}\n", 
            "\\newcommand{\\Nn}{\\mathcal{N}}\n", 
            "\\newcommand{\\Hh}{\\mathcal{H}}\n", 
            "\\newcommand{\\Bb}{\\mathcal{B}}\n", 
            "\\newcommand{\\EE}{\\mathbb{E}}\n", 
            "\\newcommand{\\CC}{\\mathbb{C}}\n", 
            "\\newcommand{\\si}{\\sigma}\n", 
            "\\newcommand{\\al}{\\alpha}\n", 
            "\\newcommand{\\la}{\\lambda}\n", 
            "\\newcommand{\\ga}{\\gamma}\n", 
            "\\newcommand{\\Ga}{\\Gamma}\n", 
            "\\newcommand{\\La}{\\Lambda}\n", 
            "\\newcommand{\\si}{\\sigma}\n", 
            "\\newcommand{\\Si}{\\Sigma}\n", 
            "\\newcommand{\\be}{\\beta}\n", 
            "\\newcommand{\\de}{\\delta}\n", 
            "\\newcommand{\\De}{\\Delta}\n", 
            "\\renewcommand{\\phi}{\\varphi}\n", 
            "\\renewcommand{\\th}{\\theta}\n", 
            "\\newcommand{\\om}{\\omega}\n", 
            "\\newcommand{\\Om}{\\Omega}\n", 
            "$"
          ]
        }, 
        {
          "cell_type": "code", 
          "collapsed": false, 
          "input": [
            "from nt_toolbox import *", 
            "%matplotlib inline", 
            "%load_ext autoreload", 
            "%autoreload 2"
          ], 
          "language": "python", 
          "outputs": []
        }, 
        {
          "cell_type": "heading", 
          "level": 2, 
          "metadata": {}, 
          "source": [
            "Gaussian Linear Filtering\n"
          ]
        }, 
        {
          "cell_type": "markdown", 
          "metadata": {}, 
          "source": [
            "The most basic filtering operation is the Gaussian filtering, that tends\n", 
            "to blur edges.\n", 
            "\n", 
            "\n", 
            "Image size.\n", 
            ""
          ]
        }, 
        {
          "cell_type": "code", 
          "collapsed": false, 
          "input": [
            "n = 256*2"
          ], 
          "language": "python", 
          "outputs": []
        }, 
        {
          "cell_type": "markdown", 
          "metadata": {}, 
          "source": [
            "\n", 
            "\n", 
            "Load an image.\n", 
            ""
          ]
        }, 
        {
          "cell_type": "code", 
          "collapsed": false, 
          "input": [
            "name = 'hibiscus'\n", 
            "f0 = load_image(name, n)\n", 
            "f0 = rescale(crop( sum(f0,3) ,n))"
          ], 
          "language": "python", 
          "outputs": []
        }, 
        {
          "cell_type": "markdown", 
          "metadata": {}, 
          "source": [
            "\n", 
            "\n", 
            "A Gaussian filter of variance $\\si$ reads\n", 
            "$$ \\Gg_\\si(f)(x) = \\frac{1}{Z} \\sum_y G_\\si(x-y) f(y)\n", 
            "\\qwhereq Z = \\sum_y G_\\si(y), $$\n", 
            "and where the Gaussian kernel is defined as:\n", 
            "$$ G_\\si(x) = e^{-\\frac{\\norm{x}^2}{2\\si^2}}. $$\n", 
            "\n", 
            "\n", 
            "A convolution can be computed\n", 
            "either over the spacial domain in $O(N\\si_x^2)$ operations or\n", 
            "over the Fourier domain in $O(N \\log(N))$ operations. Depending on the\n", 
            "value of $ \\si_x $, one should prefer either Fourier or spacial domain.\n", 
            "For simplicity, we consider here the Fourier domain (and hence periodic\n", 
            "boundary conditions).\n", 
            "\n", 
            "\n", 
            "Define a Gaussian function, centered at the top left corner (because it\n", 
            "corresponds to the 0 point for the FFT).\n", 
            ""
          ]
        }, 
        {
          "cell_type": "code", 
          "collapsed": false, 
          "input": [
            "x = [0:n/2-1, -n/2:-1]\n", 
            "[Y,X] = meshgrid(x,x)\n", 
            "GaussianFilt = lambda s: exp( (-X.^2-Y.^2)/(2*s^2) )"
          ], 
          "language": "python", 
          "outputs": []
        }, 
        {
          "cell_type": "markdown", 
          "metadata": {}, 
          "source": [
            "\n", 
            "\n", 
            "Display a recentered example of Gaussian.\n", 
            ""
          ]
        }, 
        {
          "cell_type": "code", 
          "collapsed": false, 
          "input": [
            "\n", 
            "imageplot(fftshift(GaussianFilt(40)))"
          ], 
          "language": "python", 
          "outputs": []
        }, 
        {
          "cell_type": "markdown", 
          "metadata": {}, 
          "source": [
            "\n", 
            "\n", 
            "Define a shortcut to perform linear Gaussian filtering over the Fourier\n", 
            "domain. This function is able to process in parallel a 3D block |F| by filtering each\n", 
            "|F(:,:,i)|.\n", 
            ""
          ]
        }, 
        {
          "cell_type": "code", 
          "collapsed": false, 
          "input": [
            "Filter = lambda F,s: real( ifft2( fft2(F).*repmat( fft2(GaussianFilt(s)), [1 1 size(F,3)] ) ) )"
          ], 
          "language": "python", 
          "outputs": []
        }, 
        {
          "cell_type": "markdown", 
          "metadata": {}, 
          "source": [
            "\n", 
            "\n", 
            "\n", 
            "Example of filtering $ \\Gg_\\si(f_0) $.\n", 
            ""
          ]
        }, 
        {
          "cell_type": "code", 
          "collapsed": false, 
          "input": [
            "\n", 
            "imageplot( Filter(f0,5) )"
          ], 
          "language": "python", 
          "outputs": []
        }, 
        {
          "cell_type": "heading", 
          "level": 3, 
          "metadata": {}, 
          "source": [
            "Exercise 1"
          ]
        }, 
        {
          "cell_type": "markdown", 
          "metadata": {}, 
          "source": [
            "\n", 
            "Display a filtering $\\Gg_\\si(f_0)$ with increasing size $\\si$.\n", 
            "\n", 
            "\n", 
            "\n", 
            "\n", 
            "\n", 
            ""
          ]
        }, 
        {
          "cell_type": "code", 
          "collapsed": false, 
          "input": [
            "## Insert your code here."
          ], 
          "language": "python", 
          "outputs": []
        }, 
        {
          "cell_type": "markdown", 
          "metadata": {}, 
          "source": [
            "\n", 
            ""
          ]
        }, 
        {
          "cell_type": "heading", 
          "level": 2, 
          "metadata": {}, 
          "source": [
            "Bilateral Filter\n"
          ]
        }, 
        {
          "cell_type": "markdown", 
          "metadata": {}, 
          "source": [
            "The bilateral filter is a spacially varying filter that better preserves\n", 
            "edges than the Gaussian filter.\n", 
            "\n", 
            "\n", 
            "It was first introduced in:\n", 
            "\n", 
            "\n", 
            "Carlo Tomasi and Roberto Manduchi,\n", 
            "_Bilateral Filtering for Gray and Color Images_,\n", 
            "Proceedings of the ICCV 1998\n", 
            "\n", 
            "\n", 
            "A very good set of ressources concerning the bilateral filter can be found on\n", 
            "<http://people.csail.mit.edu/sparis/bf/ Sylvain Paris web page>.\n", 
            "It includes a fast implementation, research and review papers.\n", 
            "\n", 
            "\n", 
            "Given a spacial width $\\si_x$ and a value width $\\si_v$, the filter\n", 
            "opterates as:\n", 
            "$$ \\Bb_{\\si_x,\\si_v}(f)(x) = \\frac{1}{Z_x} \\sum_y G_{\\si_x}( x-y ) G_{\\si_v}(f(x)-f(y)) f(y) $$\n", 
            "where the normalizing constant is\n", 
            "$$ Z_x = \\sum_y G_{\\si_x}( x-y ) G_{\\si_v}(f(x)-f(y)).$$\n", 
            "\n", 
            "\n", 
            "At a given pixel $x$, it corresponds to an averaring with the data-dependant kernel\n", 
            "$ G_{\\si_x}( x-y ) G_{\\si_v}(f(x)-f(y)) $.\n", 
            ""
          ]
        }, 
        {
          "cell_type": "heading", 
          "level": 2, 
          "metadata": {}, 
          "source": [
            "Bilateral Filter by Stacking\n"
          ]
        }, 
        {
          "cell_type": "markdown", 
          "metadata": {}, 
          "source": [
            "Implementing the bilateral filter directly over the spacial domain\n", 
            "requires $O( N \\si_x^2 )$ operations where $N$ is the number of pixels.\n", 
            "\n", 
            "\n", 
            "A fast approximate implementation is proposed in:\n", 
            "\n", 
            "\n", 
            "_Fast Bilateral Filtering for the Display of High-Dynamic-Range Images,_\n", 
            "Fredo Durand and Julie Dorsey, SIGGRAPH 2002.\n", 
            "\n", 
            "\n", 
            "It exploits the fact that for all pixels $x$ with the same value\n", 
            "$v=f(x)$, the bilateral filter can be written as a ratio of convolution\n", 
            "$$ \\Bb_{\\si_x,\\si_v}(f)(x) = F_v(x) = \\frac{ [G_{\\si_x} \\star ( f \\cdot W_v )](x) }{ [G_{\\si_x} \\star W_v](x) } $$\n", 
            "where the weight map reads\n", 
            "$$ W_v(x) = G_{\\si_v}(v-f(x)). $$\n", 
            "\n", 
            "\n", 
            "Instead of computing all possible weight maps $W_v$ for all possible\n", 
            "pixel values $v$, one considers a subset $\\{v_i\\}_{i=1}^p$ of $p$\n", 
            "values and computes the weights $ \\{ W_{v_i} \\}_i $.\n", 
            "\n", 
            "\n", 
            "Using these convolutions, one thus optains the maps $ \\{ F_{v_i} \\}_i $,\n", 
            "that are combined to obtain an approximation of $ \\Bb_{\\si_x,\\si_v}(f)$.\n", 
            "\n", 
            "\n", 
            "The computation time of the method is $ O(p N\\log(N)) $ over the\n", 
            "Fourier domain (the method implemented in this tour) and $ O(p N \\si_x^2) $ over the spacial domain.\n", 
            "\n", 
            "\n", 
            "Value of $\\sigma_x$:\n", 
            ""
          ]
        }, 
        {
          "cell_type": "code", 
          "collapsed": false, 
          "input": [
            "sx = 5"
          ], 
          "language": "python", 
          "outputs": []
        }, 
        {
          "cell_type": "markdown", 
          "metadata": {}, 
          "source": [
            "\n", 
            "\n", 
            "Value of $\\sigma_v$:\n", 
            ""
          ]
        }, 
        {
          "cell_type": "code", 
          "collapsed": false, 
          "input": [
            "sv = .2"
          ], 
          "language": "python", 
          "outputs": []
        }, 
        {
          "cell_type": "markdown", 
          "metadata": {}, 
          "source": [
            "\n", 
            "\n", 
            "Number $p$ of stacks.\n", 
            "The complexity of the algorithm is proportional to the number of stacks.\n", 
            ""
          ]
        }, 
        {
          "cell_type": "code", 
          "collapsed": false, 
          "input": [
            "p = 10"
          ], 
          "language": "python", 
          "outputs": []
        }, 
        {
          "cell_type": "markdown", 
          "metadata": {}, 
          "source": [
            "\n", 
            "\n", 
            "Function to build the weight stack $ \\{ W_{v_i} \\}_i $ for $v_i$ uniformly\n", 
            "distributed in $[0,1]$.\n", 
            ""
          ]
        }, 
        {
          "cell_type": "code", 
          "collapsed": false, 
          "input": [
            "Gaussian = lambda x,sigma: exp( -x.^2 / (2*sigma^2) )\n", 
            "WeightMap = lambda f0,sv: Gaussian( repmat(f0, [1 1 p]) - repmat( reshape((0:p-1)/(p-1), [1 1 p]) , [n n 1]), sv )"
          ], 
          "language": "python", 
          "outputs": []
        }, 
        {
          "cell_type": "markdown", 
          "metadata": {}, 
          "source": [
            "\n", 
            "\n", 
            "Compute the weight stack map.\n", 
            "Each |W(:,:,i)| is the map $W_{v_i}$\n", 
            "associated to the pixel value $ v_i $.\n", 
            ""
          ]
        }, 
        {
          "cell_type": "code", 
          "collapsed": false, 
          "input": [
            "W = WeightMap(f0,sv)"
          ], 
          "language": "python", 
          "outputs": []
        }, 
        {
          "cell_type": "heading", 
          "level": 3, 
          "metadata": {}, 
          "source": [
            "Exercise 2"
          ]
        }, 
        {
          "cell_type": "markdown", 
          "metadata": {}, 
          "source": [
            "\n", 
            "Display several weights $ W_{v_i} $.\n", 
            "\n", 
            "\n", 
            "\n", 
            "\n", 
            "\n", 
            ""
          ]
        }, 
        {
          "cell_type": "code", 
          "collapsed": false, 
          "input": [
            "## Insert your code here."
          ], 
          "language": "python", 
          "outputs": []
        }, 
        {
          "cell_type": "markdown", 
          "metadata": {}, 
          "source": [
            "\n", 
            "\n", 
            "\n", 
            "Shortcut to compute the bilateral stack $\\{ F_{v_i} \\}_i $.\n", 
            ""
          ]
        }, 
        {
          "cell_type": "code", 
          "collapsed": false, 
          "input": [
            "bileteral_stack_tmp = lambda f0,sx,W: Filter(W.*repmat(f0, [1 1 p]), sx) ./ Filter(W, sx)\n", 
            "bileteral_stack = lambda f0,sx,sv: bileteral_stack_tmp(f0,sx,WeightMap(f0,sv))"
          ], 
          "language": "python", 
          "outputs": []
        }, 
        {
          "cell_type": "markdown", 
          "metadata": {}, 
          "source": [
            "\n", 
            "\n", 
            "Compute the bilateral stack $\\{ F_{v_i} \\}_i $.\n", 
            ""
          ]
        }, 
        {
          "cell_type": "code", 
          "collapsed": false, 
          "input": [
            "F = bileteral_stack(f0,sx,sv)"
          ], 
          "language": "python", 
          "outputs": []
        }, 
        {
          "cell_type": "heading", 
          "level": 3, 
          "metadata": {}, 
          "source": [
            "Exercise 3"
          ]
        }, 
        {
          "cell_type": "markdown", 
          "metadata": {}, 
          "source": [
            "\n", 
            "Display several stacks $F_{v_i}$.\n", 
            "\n", 
            "\n", 
            "\n", 
            "\n", 
            "\n", 
            ""
          ]
        }, 
        {
          "cell_type": "code", 
          "collapsed": false, 
          "input": [
            "## Insert your code here."
          ], 
          "language": "python", 
          "outputs": []
        }, 
        {
          "cell_type": "markdown", 
          "metadata": {}, 
          "source": [
            "\n", 
            "\n", 
            "\n", 
            "Destacking corresponds to selecting a layer $ I(x) \\in \\{1,\\ldots,p\\} $ at each pixel.\n", 
            "$$f_I(x) = F_{ v_{I(x)} }(x). $$\n", 
            "\n", 
            "\n", 
            "Shortcut for de-stacking using a set of indexes.\n", 
            ""
          ]
        }, 
        {
          "cell_type": "code", 
          "collapsed": false, 
          "input": [
            "[y,x] = meshgrid(1:n,1:n)\n", 
            "indexing = lambda F,I: F(I)\n", 
            "destacking = lambda F,I: indexing(F,x + (y-1)*n + (I-1)*n^2)"
          ], 
          "language": "python", 
          "outputs": []
        }, 
        {
          "cell_type": "markdown", 
          "metadata": {}, 
          "source": [
            "\n", 
            "\n", 
            "The simplest reconstruction method performs the destacking using the\n", 
            "nearest neighbor value:\n", 
            "$$ I(x) = \\uargmin{ 1 \\leq i \\leq p } \\abs{f(x)-v_i}.  $$\n", 
            "\n", 
            "\n", 
            "Shortcut for performing de-stacking by nearest neighbor interpolation.\n", 
            ""
          ]
        }, 
        {
          "cell_type": "code", 
          "collapsed": false, 
          "input": [
            "bilateral_nn = lambda f0,sx,sv: destacking( bileteral_stack(f0,sx,sv), round( f0*(p-1) ) + 1 )"
          ], 
          "language": "python", 
          "outputs": []
        }, 
        {
          "cell_type": "markdown", 
          "metadata": {}, 
          "source": [
            "\n", 
            "\n", 
            "Display.\n", 
            ""
          ]
        }, 
        {
          "cell_type": "code", 
          "collapsed": false, 
          "input": [
            "fNN = bilateral_nn(f0,sx,sv)\n", 
            "\n", 
            "imageplot( fNN )"
          ], 
          "language": "python", 
          "outputs": []
        }, 
        {
          "cell_type": "markdown", 
          "metadata": {}, 
          "source": [
            "\n", 
            "\n", 
            "A better reconstruction is obtained by using a first order linear\n", 
            "interpolation to perform the destacking.\n", 
            "$$ \\Bb_{\\si_x,\\si_v}(f)(x) \\approx (1-\\la(x))f_{I(x)}(x)  + \\la(x) f_{I(x)+1}(x)$$\n", 
            "where $I(x)$ and $\\la(x)$ are defined as\n", 
            "$$ f(x) = (1-\\la(x)) v_{I(x)} + \\la(x) v_{I(x)+1} \\qwhereq \\la(x) \\in [0,1).  $$\n", 
            "\n", 
            "\n", 
            "Shortcut for the linear interpolation reconstruction.\n", 
            ""
          ]
        }, 
        {
          "cell_type": "code", 
          "collapsed": false, 
          "input": [
            "frac = lambda x: x-floor(x)\n", 
            "lininterp = lambda f1,f2,Fr: f1.*(1-Fr) + f2.*Fr\n", 
            "bilateral_lin1 = lambda F,f0: lininterp( destacking(F, clamp(floor(f0*(p-1)) + 1,1,p) ), ...\n", 
            "                                  destacking(F, clamp(ceil(f0*(p-1)) + 1,1,p) ), ...\n", 
            "                                  frac(f0*(p-1)) )\n", 
            "bilateral_lin = lambda f0,sx,sv: bilateral_lin1(bileteral_stack(f0,sx,sv), f0)"
          ], 
          "language": "python", 
          "outputs": []
        }, 
        {
          "cell_type": "markdown", 
          "metadata": {}, 
          "source": [
            "\n", 
            ""
          ]
        }, 
        {
          "cell_type": "heading", 
          "level": 3, 
          "metadata": {}, 
          "source": [
            "Exercise 4"
          ]
        }, 
        {
          "cell_type": "markdown", 
          "metadata": {}, 
          "source": [
            "\n", 
            "Compare nearest-neighbor and linear destacking.\n", 
            "\n", 
            "\n", 
            "\n", 
            "\n", 
            "\n", 
            ""
          ]
        }, 
        {
          "cell_type": "code", 
          "collapsed": false, 
          "input": [
            "## Insert your code here."
          ], 
          "language": "python", 
          "outputs": []
        }, 
        {
          "cell_type": "markdown", 
          "metadata": {}, 
          "source": [
            "\n", 
            ""
          ]
        }, 
        {
          "cell_type": "heading", 
          "level": 3, 
          "metadata": {}, 
          "source": [
            "Exercise 5"
          ]
        }, 
        {
          "cell_type": "markdown", 
          "metadata": {}, 
          "source": [
            "\n", 
            "Study the influence of $\\sigma_x$ on the filter, for a fixed\n", 
            "$\\sigma_v=0.2$.\n", 
            "\n", 
            "\n", 
            "\n", 
            "\n", 
            "\n", 
            "\n", 
            ""
          ]
        }, 
        {
          "cell_type": "code", 
          "collapsed": false, 
          "input": [
            "## Insert your code here."
          ], 
          "language": "python", 
          "outputs": []
        }, 
        {
          "cell_type": "markdown", 
          "metadata": {}, 
          "source": [
            "\n", 
            ""
          ]
        }, 
        {
          "cell_type": "heading", 
          "level": 3, 
          "metadata": {}, 
          "source": [
            "Exercise 6"
          ]
        }, 
        {
          "cell_type": "markdown", 
          "metadata": {}, 
          "source": [
            "\n", 
            "Study the influence of $\\sigma_v$ on the filter, for a fixed\n", 
            "$\\sigma_x=8$.\n", 
            "\n", 
            "\n", 
            "\n", 
            "\n", 
            "\n", 
            "\n", 
            ""
          ]
        }, 
        {
          "cell_type": "code", 
          "collapsed": false, 
          "input": [
            "## Insert your code here."
          ], 
          "language": "python", 
          "outputs": []
        }, 
        {
          "cell_type": "markdown", 
          "metadata": {}, 
          "source": [
            "\n", 
            "\n", 
            "\n", 
            "Note that this stack implementation of the bilateral filter can be quite\n", 
            "inacurate, in particular if $p$ is small. A more precise fast\n", 
            "implementation is described in:\n", 
            "\n", 
            "\n", 
            "_A Fast Approximation of the Bilateral Filter using a Signal Processing Approach_,\n", 
            "Sylvain Paris and Frdo Durand,\n", 
            "International Journal of Computer Vision (IJCV'09)\n", 
            ""
          ]
        }, 
        {
          "cell_type": "heading", 
          "level": 2, 
          "metadata": {}, 
          "source": [
            "Denoising using the Bilateral Filter\n"
          ]
        }, 
        {
          "cell_type": "markdown", 
          "metadata": {}, 
          "source": [
            "The first basic application of the bilateral filter is for denoising.\n", 
            "It performs a filtering that respects edges.\n", 
            "\n", 
            "\n", 
            "Noise level.\n", 
            ""
          ]
        }, 
        {
          "cell_type": "code", 
          "collapsed": false, 
          "input": [
            "mu = .05"
          ], 
          "language": "python", 
          "outputs": []
        }, 
        {
          "cell_type": "markdown", 
          "metadata": {}, 
          "source": [
            "\n", 
            "\n", 
            "Create a noisy image $f = f_0 + w$ where $w$ is a Gaussian white noise of variance $\\mu^2$.\n", 
            ""
          ]
        }, 
        {
          "cell_type": "code", 
          "collapsed": false, 
          "input": [
            "f = f0 + randn(n,n)*mu"
          ], 
          "language": "python", 
          "outputs": []
        }, 
        {
          "cell_type": "markdown", 
          "metadata": {}, 
          "source": [
            "\n", 
            "\n", 
            "Display the noisy image.\n", 
            ""
          ]
        }, 
        {
          "cell_type": "code", 
          "collapsed": false, 
          "input": [
            "\n", 
            "imageplot(clamp(f))"
          ], 
          "language": "python", 
          "outputs": []
        }, 
        {
          "cell_type": "markdown", 
          "metadata": {}, 
          "source": [
            "\n", 
            "\n", 
            "Perform denoising using the bilateral filter.\n", 
            ""
          ]
        }, 
        {
          "cell_type": "code", 
          "collapsed": false, 
          "input": [
            "sx = 4; sv = .2\n", 
            "\n", 
            "imageplot( clamp(bilateral_lin(f,sx,sv)) )"
          ], 
          "language": "python", 
          "outputs": []
        }, 
        {
          "cell_type": "heading", 
          "level": 3, 
          "metadata": {}, 
          "source": [
            "Exercise 7"
          ]
        }, 
        {
          "cell_type": "markdown", 
          "metadata": {}, 
          "source": [
            "\n", 
            "Compute the optimal parameter $(\\sigma_x,\\sigma_v)$ to maximize the\n", 
            "SNR between $f_0$ and the filtered image. Record the optimal denoising\n", 
            "result in |fOpt|.\n", 
            "\n", 
            "\n", 
            "\n", 
            "\n", 
            "\n", 
            "\n", 
            "\n", 
            "\n", 
            "\n", 
            "\n", 
            "\n", 
            "\n", 
            "\n", 
            "\n", 
            "\n", 
            "\n", 
            "\n", 
            "\n", 
            "\n", 
            "\n", 
            "\n", 
            "\n", 
            "\n", 
            "\n", 
            ""
          ]
        }, 
        {
          "cell_type": "code", 
          "collapsed": false, 
          "input": [
            "## Insert your code here."
          ], 
          "language": "python", 
          "outputs": []
        }, 
        {
          "cell_type": "markdown", 
          "metadata": {}, 
          "source": [
            "\n", 
            "\n", 
            "\n", 
            "Display optimal denoising.\n", 
            ""
          ]
        }, 
        {
          "cell_type": "code", 
          "collapsed": false, 
          "input": [
            "\n", 
            "imageplot(clamp(fOpt), ['Bilateral, SNR=' num2str(snr(f0,fOpt),3) 'dB'])"
          ], 
          "language": "python", 
          "outputs": []
        }, 
        {
          "cell_type": "heading", 
          "level": 3, 
          "metadata": {}, 
          "source": [
            "Exercise 8"
          ]
        }, 
        {
          "cell_type": "markdown", 
          "metadata": {}, 
          "source": [
            "\n", 
            "Compare with translation invariant wavelet thresholding.\n", 
            "\n", 
            "\n", 
            "\n", 
            "\n", 
            "\n", 
            "\n", 
            "\n", 
            ""
          ]
        }, 
        {
          "cell_type": "code", 
          "collapsed": false, 
          "input": [
            "## Insert your code here."
          ], 
          "language": "python", 
          "outputs": []
        }, 
        {
          "cell_type": "markdown", 
          "metadata": {}, 
          "source": [
            "\n", 
            ""
          ]
        }, 
        {
          "cell_type": "heading", 
          "level": 2, 
          "metadata": {}, 
          "source": [
            "Detail Enhancement\n"
          ]
        }, 
        {
          "cell_type": "markdown", 
          "metadata": {}, 
          "source": [
            "The bilateral filters is able to remove fine scale details (noise,\n", 
            "textures) and retain only the cartoon content of the image (shape edges).\n", 
            "\n", 
            "\n", 
            "Set up parameters $\\si_x,\\si_v$.\n", 
            ""
          ]
        }, 
        {
          "cell_type": "code", 
          "collapsed": false, 
          "input": [
            "sx = 4\n", 
            "sv = .2"
          ], 
          "language": "python", 
          "outputs": []
        }, 
        {
          "cell_type": "markdown", 
          "metadata": {}, 
          "source": [
            "\n", 
            "\n", 
            "Performm the filtering to obtain the base layer $ f_1 = \\Bb_{\\si_x,\\si_v}(f_0) $.\n", 
            ""
          ]
        }, 
        {
          "cell_type": "code", 
          "collapsed": false, 
          "input": [
            "f1 = bilateral_lin(f0,sx,sv)"
          ], 
          "language": "python", 
          "outputs": []
        }, 
        {
          "cell_type": "markdown", 
          "metadata": {}, 
          "source": [
            "\n", 
            "\n", 
            "Compute the detail layer $ r = f_0 - f_1 $.\n", 
            ""
          ]
        }, 
        {
          "cell_type": "code", 
          "collapsed": false, 
          "input": [
            "r = f0 - f1"
          ], 
          "language": "python", 
          "outputs": []
        }, 
        {
          "cell_type": "markdown", 
          "metadata": {}, 
          "source": [
            "\n", 
            "\n", 
            "Display the base layer.\n", 
            ""
          ]
        }, 
        {
          "cell_type": "code", 
          "collapsed": false, 
          "input": [
            "\n", 
            "imageplot(f1)"
          ], 
          "language": "python", 
          "outputs": []
        }, 
        {
          "cell_type": "markdown", 
          "metadata": {}, 
          "source": [
            "\n", 
            "\n", 
            "Display the residual.\n", 
            ""
          ]
        }, 
        {
          "cell_type": "code", 
          "collapsed": false, 
          "input": [
            "\n", 
            "imageplot(r)"
          ], 
          "language": "python", 
          "outputs": []
        }, 
        {
          "cell_type": "heading", 
          "level": 3, 
          "metadata": {}, 
          "source": [
            "Exercise 9"
          ]
        }, 
        {
          "cell_type": "markdown", 
          "metadata": {}, 
          "source": [
            "\n", 
            "Perform detail boosting by enhancing the detail layer.\n", 
            "For instance use various non-linear remapping of the intensities such as\n", 
            "$ f_1 + \\ga r^\\al $ for some values of $\\ga \\geq 1$ and $\\al>0$.\n", 
            "\n", 
            "\n", 
            "\n", 
            "\n", 
            "\n", 
            "\n", 
            ""
          ]
        }, 
        {
          "cell_type": "code", 
          "collapsed": false, 
          "input": [
            "## Insert your code here."
          ], 
          "language": "python", 
          "outputs": []
        }, 
        {
          "cell_type": "markdown", 
          "metadata": {}, 
          "source": [
            "\n", 
            ""
          ]
        }, 
        {
          "cell_type": "heading", 
          "level": 3, 
          "metadata": {}, 
          "source": [
            "Exercise 10"
          ]
        }, 
        {
          "cell_type": "markdown", 
          "metadata": {}, 
          "source": [
            "\n", 
            "Extend the bilateral filter for color images."
          ]
        }, 
        {
          "cell_type": "code", 
          "collapsed": false, 
          "input": [
            "## Insert your code here."
          ], 
          "language": "python", 
          "outputs": []
        }, 
        {
          "cell_type": "markdown", 
          "metadata": {}, 
          "source": [
            "\n", 
            ""
          ]
        }, 
        {
          "cell_type": "heading", 
          "level": 2, 
          "metadata": {}, 
          "source": [
            "High Dynamic Range Tone Mapping\n"
          ]
        }, 
        {
          "cell_type": "markdown", 
          "metadata": {}, 
          "source": [
            "Tone mapping corresponds to compressing the contrast of an image that\n", 
            "contains a large dynamic range, in order to be viewable on\n", 
            "a low dynamic range display.\n", 
            "\n", 
            "\n", 
            "Load a high dynamic range image.\n", 
            ""
          ]
        }, 
        {
          "cell_type": "code", 
          "collapsed": false, 
          "input": [
            "addpath('toolbox_additional/')\n", 
            "name = 'memorial'\n", 
            "f = load_hdr([name '.hdr'])\n", 
            "p = min(size(f,1),size(f,2))\n", 
            "f = rescale( f(1:p,1:p,:) )\n", 
            "f = rescale( clamp( image_resize(f,n,n) ) )"
          ], 
          "language": "python", 
          "outputs": []
        }, 
        {
          "cell_type": "markdown", 
          "metadata": {}, 
          "source": [
            "\n", 
            "\n", 
            "The pixel values can take very large value and leads to over exposition\n", 
            "(saturation) if displayed with a limited range (clamping of the values).\n", 
            ""
          ]
        }, 
        {
          "cell_type": "code", 
          "collapsed": false, 
          "input": [
            "\n", 
            "imageplot(min(f,1e-4))"
          ], 
          "language": "python", 
          "outputs": []
        }, 
        {
          "cell_type": "markdown", 
          "metadata": {}, 
          "source": [
            "\n", 
            "\n", 
            "Selecting a higher threshold leads to less saturation but more region\n", 
            "being under exposed (dark).\n", 
            ""
          ]
        }, 
        {
          "cell_type": "code", 
          "collapsed": false, 
          "input": [
            "\n", 
            "imageplot(min(f,1e-3))"
          ], 
          "language": "python", 
          "outputs": []
        }, 
        {
          "cell_type": "markdown", 
          "metadata": {}, 
          "source": [
            "\n", 
            "\n", 
            "A simple way to process a color image is to perform a change of color\n", 
            "space and to process only the intensity channel.\n", 
            "\n", 
            "\n", 
            "For instance one can use a HSV color space and process the intensity channel $f_V$.\n", 
            ""
          ]
        }, 
        {
          "cell_type": "code", 
          "collapsed": false, 
          "input": [
            "fhsv = rgb2hsv(f)\n", 
            "fV = fhsv(:,:,3)"
          ], 
          "language": "python", 
          "outputs": []
        }, 
        {
          "cell_type": "markdown", 
          "metadata": {}, 
          "source": [
            "\n", 
            "\n", 
            "Shortcut the reconstruct the image using a modified V channel.\n", 
            ""
          ]
        }, 
        {
          "cell_type": "code", 
          "collapsed": false, 
          "input": [
            "color_recompose = lambda fV: hsv2rgb( cat(3, fhsv(:,:,1:2), rescale(fV) ) )"
          ], 
          "language": "python", 
          "outputs": []
        }, 
        {
          "cell_type": "markdown", 
          "metadata": {}, 
          "source": [
            "\n", 
            "color_recompose = @(fV1)f.*repmat(fV1./fV, [1 1 3]);\n", 
            "\n", 
            "\n", 
            "Global tone mapping corresponds to applying a fixed non-linear mapping $\\phi$ to\n", 
            "all the pixel to compress the range by displaying $\\phi(f_V)$.\n", 
            "\n", 
            "\n", 
            "A polpular contrast modification is the $\\gamma$ correction, that uses\n", 
            "$ \\phi(t) = (t+\\epsilon)^\\al $ for a small $ \\epsilon>0 $\n", 
            "and $\\al \\in (0,1]$.\n", 
            ""
          ]
        }, 
        {
          "cell_type": "code", 
          "collapsed": false, 
          "input": [
            "epsilon = 1e-5\n", 
            "alpha = 0.1\n", 
            "imageplot( color_recompose( (fV+epsilon).^alpha ) )"
          ], 
          "language": "python", 
          "outputs": []
        }, 
        {
          "cell_type": "heading", 
          "level": 3, 
          "metadata": {}, 
          "source": [
            "Exercise 11"
          ]
        }, 
        {
          "cell_type": "markdown", 
          "metadata": {}, 
          "source": [
            "\n", 
            "Try several tone mapping operators, such as for instance\n", 
            "$$ \\phi_1(t)=\\frac{t}{t+\\epsilon} \\qandq \\phi_2(t) = \\log(t+\\epsilon) $$\n", 
            "\n", 
            "\n", 
            ""
          ]
        }, 
        {
          "cell_type": "code", 
          "collapsed": false, 
          "input": [
            "## Insert your code here."
          ], 
          "language": "python", 
          "outputs": []
        }, 
        {
          "cell_type": "markdown", 
          "metadata": {}, 
          "source": [
            "\n", 
            "\n", 
            "\n", 
            "Global tone mapping tends to destroy fine scale details.\n", 
            "A local tone mapping operator decompose the logarithm\n", 
            "$$ F_V = \\frac{\\log(f_V + \\epsilon)-a }{ b-a } $$\n", 
            "of $f_V$\n", 
            "into a base cartoon layer and a textured layer, and only\n", 
            "compress the base layer. Here $a$ and $b$ are compute to ensure\n", 
            "that $F_V \\in [0,1]$.\n", 
            "\n", 
            "\n", 
            "Compute the rescaled logarithm layer $F_V$.\n", 
            ""
          ]
        }, 
        {
          "cell_type": "code", 
          "collapsed": false, 
          "input": [
            "epsilon = 1e-5\n", 
            "FV = log(fV+epsilon)\n", 
            "a = min(FV(:)); b = max(FV(:))\n", 
            "FV = (FV-a)/(b-a)"
          ], 
          "language": "python", 
          "outputs": []
        }, 
        {
          "cell_type": "markdown", 
          "metadata": {}, 
          "source": [
            "\n", 
            "\n", 
            "The base layer is defined as\n", 
            "$ B_V = \\Bb_{\\si_x,\\si_v}(F_V) $.\n", 
            ""
          ]
        }, 
        {
          "cell_type": "code", 
          "collapsed": false, 
          "input": [
            "sx = 5; sv = .02\n", 
            "FV1 = bilateral_lin(FV, sx,sv)"
          ], 
          "language": "python", 
          "outputs": []
        }, 
        {
          "cell_type": "markdown", 
          "metadata": {}, 
          "source": [
            "\n", 
            "\n", 
            "The tone mapped intensity image is defined as\n", 
            "$$ \\tilde f_V = e^{ ( \\ga B_V + F_V - B_V )(b-a)+a  } - \\epsilon $$\n", 
            "where $ \\ga \\in (0,1] $ is the compression factor.\n", 
            "For $\\ga=1$, one has $\\tilde f_V = f_V$.\n", 
            "\n", 
            "\n", 
            "\n", 
            "Display the filtered layer over the log domain.\n", 
            ""
          ]
        }, 
        {
          "cell_type": "code", 
          "collapsed": false, 
          "input": [
            "\n", 
            "imageplot(FV1)"
          ], 
          "language": "python", 
          "outputs": []
        }, 
        {
          "cell_type": "markdown", 
          "metadata": {}, 
          "source": [
            "\n", 
            "\n", 
            "Display the residual over the log domain.\n", 
            ""
          ]
        }, 
        {
          "cell_type": "code", 
          "collapsed": false, 
          "input": [
            "\n", 
            "imageplot(FV-FV1)"
          ], 
          "language": "python", 
          "outputs": []
        }, 
        {
          "cell_type": "heading", 
          "level": 3, 
          "metadata": {}, 
          "source": [
            "Exercise 12"
          ]
        }, 
        {
          "cell_type": "markdown", 
          "metadata": {}, 
          "source": [
            "\n", 
            "Compute the tone mapped image using $\\tilde f_V$.\n", 
            "Test with several value of $\\ga,\\epsilon, \\si_x,\\si_v$.\n", 
            "\n", 
            "\n", 
            "\n", 
            ""
          ]
        }, 
        {
          "cell_type": "code", 
          "collapsed": false, 
          "input": [
            "## Insert your code here."
          ], 
          "language": "python", 
          "outputs": []
        }
      ]
    }
  ]
}