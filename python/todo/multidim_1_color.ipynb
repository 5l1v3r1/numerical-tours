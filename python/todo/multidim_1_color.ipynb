{
  "metadata": {
    "name": ""
  }, 
  "nbformat": 3, 
  "nbformat_minor": 0, 
  "worksheets": [
    {
      "cells": [
        {
          "cell_type": "heading", 
          "level": 1, 
          "metadata": {}, 
          "source": [
            "Color Image Processing"
          ]
        }, 
        {
          "cell_type": "markdown", 
          "metadata": {}, 
          "source": [
            "This numerical tour explores color image processing.\n", 
            ""
          ]
        }, 
        {
          "cell_type": "markdown", 
          "metadata": {}, 
          "source": [
            "*Important:* You need to download the file `nt_toolbox.py` from the \n", 
            "root of the github repository.\n", 
            "$\\newcommand{\\dotp}[2]{\\langle #1, #2 \\rangle}\n", 
            "\\newcommand{\\enscond}[2]{\\lbrace #1, #2 \\rbrace}\n", 
            "\\newcommand{\\pd}[2]{ \\frac{ \\partial #1}{\\partial #2} }\n", 
            "\\newcommand{\\umin}[1]{\\underset{#1}{\\min}\\;}\n", 
            "\\newcommand{\\norm}[1]{\\|#1\\|}\n", 
            "\\newcommand{\\abs}[1]{\\left|#1\\right|}\n", 
            "\\newcommand{\\choice}[1]{ \\left\\{  \\begin{array}{l} #1 \\end{array} \\right. }\n", 
            "\\newcommand{\\pa}[1]{\\left(#1\\right)}\n", 
            "\\newcommand{\\qandq}{\\quad\\text{and}\\quad}\n", 
            "\\newcommand{\\qwhereq}{\\quad\\text{where}\\quad}\n", 
            "\\newcommand{\\qifq}{ \\quad \\text{if} \\quad }\n", 
            "\\newcommand{\\qarrq}{ \\quad \\Longrightarrow \\quad }\n", 
            "\\newcommand{\\ZZ}{\\mathbb{Z}}\n", 
            "\\newcommand{\\RR}{\\mathbb{R}}\n", 
            "\\newcommand{\\Nn}{\\mathcal{N}}\n", 
            "\\newcommand{\\Hh}{\\mathcal{H}}\n", 
            "\\newcommand{\\Bb}{\\mathcal{B}}\n", 
            "\\newcommand{\\EE}{\\mathbb{E}}\n", 
            "\\newcommand{\\CC}{\\mathbb{C}}\n", 
            "\\newcommand{\\si}{\\sigma}\n", 
            "\\newcommand{\\al}{\\alpha}\n", 
            "\\newcommand{\\la}{\\lambda}\n", 
            "\\newcommand{\\ga}{\\gamma}\n", 
            "\\newcommand{\\Ga}{\\Gamma}\n", 
            "\\newcommand{\\La}{\\Lambda}\n", 
            "\\newcommand{\\si}{\\sigma}\n", 
            "\\newcommand{\\Si}{\\Sigma}\n", 
            "\\newcommand{\\be}{\\beta}\n", 
            "\\newcommand{\\de}{\\delta}\n", 
            "\\newcommand{\\De}{\\Delta}\n", 
            "\\renewcommand{\\phi}{\\varphi}\n", 
            "\\renewcommand{\\th}{\\theta}\n", 
            "\\newcommand{\\om}{\\omega}\n", 
            "\\newcommand{\\Om}{\\Omega}\n", 
            "$"
          ]
        }, 
        {
          "cell_type": "code", 
          "collapsed": false, 
          "input": [
            "from nt_toolbox import *", 
            "%matplotlib inline", 
            "%load_ext autoreload", 
            "%autoreload 2"
          ], 
          "language": "python", 
          "outputs": []
        }, 
        {
          "cell_type": "heading", 
          "level": 2, 
          "metadata": {}, 
          "source": [
            "RGB Color Space\n"
          ]
        }, 
        {
          "cell_type": "markdown", 
          "metadata": {}, 
          "source": [
            "A color image $f \\in \\RR^{N \\times 3}$ is made of three independent\n", 
            "images, one for each channel red, green and blue\n", 
            "(RGB color space).\n", 
            "\n", 
            "\n", 
            "Size $N= n \\times n$ of the image.\n", 
            ""
          ]
        }, 
        {
          "cell_type": "code", 
          "collapsed": false, 
          "input": [
            "n = 256\n", 
            "N = n*n"
          ], 
          "language": "python", 
          "outputs": []
        }, 
        {
          "cell_type": "markdown", 
          "metadata": {}, 
          "source": [
            "\n", 
            "\n", 
            "Loading an image $f \\in \\RR^{N \\times 3}$.\n", 
            ""
          ]
        }, 
        {
          "cell_type": "code", 
          "collapsed": false, 
          "input": [
            "name = 'hibiscus'\n", 
            "f = rescale( load_image(name,n) )"
          ], 
          "language": "python", 
          "outputs": []
        }, 
        {
          "cell_type": "markdown", 
          "metadata": {}, 
          "source": [
            "\n", 
            "\n", 
            "One can display on screen a color image in RGB space using the rule of additive color\n", 
            "mixing.\n", 
            "\n", 
            "\n", 
            "Display the image $f$ and the three channels that compose the colors.\n", 
            ""
          ]
        }, 
        {
          "cell_type": "code", 
          "collapsed": false, 
          "input": [
            "R = cat(3, f(:,:,1), zeros(n), zeros(n))\n", 
            "G = cat(3, zeros(n), f(:,:,2), zeros(n))\n", 
            "B = cat(3, zeros(n), zeros(n), f(:,:,3))\n", 
            "\n", 
            "imageplot({f R G B}, ...\n", 
            "        { 'f' 'R (Red)' 'G (green)' 'B (blue)'}, 2, 2)"
          ], 
          "language": "python", 
          "outputs": []
        }, 
        {
          "cell_type": "markdown", 
          "metadata": {}, 
          "source": [
            "\n", 
            "\n", 
            "\n", 
            "It is possible to obtain a grayscale image from a color image by linear\n", 
            "averaging of the channels, to obtain the luminance channel\n", 
            "$$ L = \\frac{R+G+B}{3} $$\n", 
            ""
          ]
        }, 
        {
          "cell_type": "code", 
          "collapsed": false, 
          "input": [
            "\n", 
            "imageplot({f mean(f,3)}, {'f' 'L'})"
          ], 
          "language": "python", 
          "outputs": []
        }, 
        {
          "cell_type": "markdown", 
          "metadata": {}, 
          "source": [
            "\n", 
            "\n", 
            "\n", 
            ""
          ]
        }, 
        {
          "cell_type": "heading", 
          "level": 2, 
          "metadata": {}, 
          "source": [
            "CMY Color Space\n"
          ]
        }, 
        {
          "cell_type": "markdown", 
          "metadata": {}, 
          "source": [
            "Another popular representation for color images uses as basis colors the\n", 
            "cyan, magenta and yellow (CMY color space). They are computed as\n", 
            "$$ C=1-R, \\quad f=1-G, \\quad Y=1-B. $$\n", 
            "\n", 
            "\n", 
            "One can display on screen a color image in CMY space using the rule of substractive color\n", 
            "mixing.\n", 
            "\n", 
            "\n", 
            "Show the C, f, Y channels.\n", 
            ""
          ]
        }, 
        {
          "cell_type": "code", 
          "collapsed": false, 
          "input": [
            "f1 = cat(3, f(:,:,1),     f(:,:,2)*0+1, f(:,:,3)*0+1)\n", 
            "f2 = cat(3, f(:,:,1)*0+1, f(:,:,2)    , f(:,:,3)*0+1)\n", 
            "f3 = cat(3, f(:,:,1)*0+1, f(:,:,2)*0+1, f(:,:,3))\n", 
            "\n", 
            "imageplot({f f1 f2 f3}, ...\n", 
            "        { 'f' 'C' 'f' 'Y'}, 2, 2)"
          ], 
          "language": "python", 
          "outputs": []
        }, 
        {
          "cell_type": "heading", 
          "level": 2, 
          "metadata": {}, 
          "source": [
            "YUV Color Space\n"
          ]
        }, 
        {
          "cell_type": "markdown", 
          "metadata": {}, 
          "source": [
            "A linear color space is defined by applying a transformation\n", 
            "matrix $T \\in \\RR^3$ to the RGB  color channels of the image.\n", 
            "\n", 
            "\n", 
            "It means that each pixel values $f(x) \\in \\RR^3$ is replaced by\n", 
            "$\\tilde f(x) = T f(x)$, which store the three channels in the novel color space.\n", 
            "\n", 
            "\n", 
            "An example of transformation is the YUV color space, where Y is the\n", 
            "luminance and UV are the chrominance. It is defined by\n", 
            "$$ T = \\begin{pmatrix}\n", 
            "     0.299 & 0.587 & 0.114 \\\\\n", 
            "   -0.147 & -0.289 & 0.436 \\\\\n", 
            "   0.615 & -0.515 & -0.100\n", 
            "  \\end{pmatrix}.\n", 
            "$$\n", 
            ""
          ]
        }, 
        {
          "cell_type": "code", 
          "collapsed": false, 
          "input": [
            "T = [.299 .587 .114; ...\n", 
            "    -.14713 -.28886 .436; ...\n", 
            "    .615 -.51499 -.10001]'"
          ], 
          "language": "python", 
          "outputs": []
        }, 
        {
          "cell_type": "markdown", 
          "metadata": {}, 
          "source": [
            "\n", 
            "\n", 
            "The RGB to YUV conversion is obtained by applying the matrix.\n", 
            ""
          ]
        }, 
        {
          "cell_type": "code", 
          "collapsed": false, 
          "input": [
            "applymat = lambda f,T: reshape( reshape(f, [n*n 3])*T, [n n 3] )\n", 
            "rgb2yuv  = lambda f: applymat(f,T)"
          ], 
          "language": "python", 
          "outputs": []
        }, 
        {
          "cell_type": "markdown", 
          "metadata": {}, 
          "source": [
            "\n", 
            "\n", 
            "Display the YUV channels.\n", 
            ""
          ]
        }, 
        {
          "cell_type": "code", 
          "collapsed": false, 
          "input": [
            "U = rgb2yuv(f)\n", 
            "\n", 
            "imageplot(U(:,:,1), 'Y', 1,3,1)\n", 
            "imageplot(U(:,:,2), 'U', 1,3,2)\n", 
            "imageplot(U(:,:,3), 'V', 1,3,3)"
          ], 
          "language": "python", 
          "outputs": []
        }, 
        {
          "cell_type": "markdown", 
          "metadata": {}, 
          "source": [
            "\n", 
            "\n", 
            "The image can be modified by modifying the YUV representation $U$ to obtain $U_1$.\n", 
            "Here we lower the chrominance of the image.\n", 
            ""
          ]
        }, 
        {
          "cell_type": "code", 
          "collapsed": false, 
          "input": [
            "U1 = U\n", 
            "U1(:,:,2:3) = U1(:,:,2:3)/2"
          ], 
          "language": "python", 
          "outputs": []
        }, 
        {
          "cell_type": "heading", 
          "level": 3, 
          "metadata": {}, 
          "source": [
            "Exercise 1"
          ]
        }, 
        {
          "cell_type": "markdown", 
          "metadata": {}, 
          "source": [
            "\n", 
            "Recover an image from the transformed YUV representation $U_1$.\n", 
            "\n", 
            "\n", 
            "\n", 
            "\n", 
            ""
          ]
        }, 
        {
          "cell_type": "code", 
          "collapsed": false, 
          "input": [
            "## Insert your code here."
          ], 
          "language": "python", 
          "outputs": []
        }, 
        {
          "cell_type": "markdown", 
          "metadata": {}, 
          "source": [
            "\n", 
            ""
          ]
        }, 
        {
          "cell_type": "heading", 
          "level": 2, 
          "metadata": {}, 
          "source": [
            "HSV Color Space\n"
          ]
        }, 
        {
          "cell_type": "markdown", 
          "metadata": {}, 
          "source": [
            "A non-linear color space is obtained by a polar or conical\n", 
            "parameterization of a linear color space. The angular coordinate in the\n", 
            "plane orthogonal to the first linear axis (which is usually the\n", 
            "luminance) is called the Hue, and the radial coordinates is called the\n", 
            "saturation.\n", 
            "\n", 
            "\n", 
            "Using a luminance which is the sum of the 3 coordinates, one obtain a\n", 
            "color system that is quite close to the HSV color system (which has a\n", 
            "more complicated definition, but leads to similar results).\n", 
            "\n", 
            "\n", 
            "First we compute the value (luminance) coordinate, which is the orthogonal\n", 
            "projection on $[1, 1, 1]$.\n", 
            ""
          ]
        }, 
        {
          "cell_type": "code", 
          "collapsed": false, 
          "input": [
            "Value = lambda f: sum(f, 3) / sqrt(3)"
          ], 
          "language": "python", 
          "outputs": []
        }, 
        {
          "cell_type": "markdown", 
          "metadata": {}, 
          "source": [
            "\n", 
            "\n", 
            "The we compute the projection on the plane orthogonal to $[1, 1, 1]$, for\n", 
            "instance using the projections $A$ and $B$ on the two orthognoal unit vectors\n", 
            "$$[0, 1, -1]/\\sqrt{2} \\qandq  [2, -1, -1]/\\sqrt{6}. $$\n", 
            ""
          ]
        }, 
        {
          "cell_type": "code", 
          "collapsed": false, 
          "input": [
            "A = lambda f: ( f(:,:,2)-f(:,:,3) )/sqrt(2)\n", 
            "B = lambda f: ( 2*f(:,:,1) - f(:,:,2) - f(:,:,3) )/sqrt(6)"
          ], 
          "language": "python", 
          "outputs": []
        }, 
        {
          "cell_type": "markdown", 
          "metadata": {}, 
          "source": [
            "\n", 
            "\n", 
            "The $(V,A,B)$ components are obtained from RGB using\n", 
            "a transformation with an orthogonal matrix $T$.\n", 
            ""
          ]
        }, 
        {
          "cell_type": "code", 
          "collapsed": false, 
          "input": [
            "T = [   1/sqrt(3) 1/sqrt(3) 1/sqrt(3); ...\n", 
            "        0 1/sqrt(2) -1/sqrt(2); ...\n", 
            "        2/sqrt(6) -1/sqrt(6) -1/sqrt(6)]"
          ], 
          "language": "python", 
          "outputs": []
        }, 
        {
          "cell_type": "markdown", 
          "metadata": {}, 
          "source": [
            "\n", 
            "\n", 
            "The Hue/Saturation are the polor coordinates within this plane.\n", 
            ""
          ]
        }, 
        {
          "cell_type": "code", 
          "collapsed": false, 
          "input": [
            "Saturation = lambda f: sqrt( A(f).^2 + B(f).^2 )\n", 
            "Hue = lambda f: atan2(B(f),A(f))"
          ], 
          "language": "python", 
          "outputs": []
        }, 
        {
          "cell_type": "markdown", 
          "metadata": {}, 
          "source": [
            "\n", 
            "\n", 
            "Shortcut for HSV color transformation.\n", 
            "We name it |rgb2hsv1| because it is not exactly a mapping to the\n", 
            "classical HSV space.\n", 
            ""
          ]
        }, 
        {
          "cell_type": "code", 
          "collapsed": false, 
          "input": [
            "rgb2hsv1 = lambda f: cat(3, Hue(f), Saturation(f), Value(f))"
          ], 
          "language": "python", 
          "outputs": []
        }, 
        {
          "cell_type": "markdown", 
          "metadata": {}, 
          "source": [
            "\n", 
            "\n", 
            "Compute the transformation.\n", 
            ""
          ]
        }, 
        {
          "cell_type": "code", 
          "collapsed": false, 
          "input": [
            "g = rgb2hsv1(f)"
          ], 
          "language": "python", 
          "outputs": []
        }, 
        {
          "cell_type": "markdown", 
          "metadata": {}, 
          "source": [
            "\n", 
            "\n", 
            "Display.\n", 
            ""
          ]
        }, 
        {
          "cell_type": "code", 
          "collapsed": false, 
          "input": [
            "\n", 
            "imageplot({g(:,:,1) g(:,:,2) g(:,:,3)}, {'H' 'S' 'V'}, 1,3)"
          ], 
          "language": "python", 
          "outputs": []
        }, 
        {
          "cell_type": "heading", 
          "level": 3, 
          "metadata": {}, 
          "source": [
            "Exercise 2"
          ]
        }, 
        {
          "cell_type": "markdown", 
          "metadata": {}, 
          "source": [
            "\n", 
            "Show the reconstructed image obtained by progressively rotating the hue component,\n", 
            "i.e. replacing $H$ by $H + \\theta$.\n", 
            "\n", 
            "\n", 
            "This ugly code is for Scilab compatibility\n", 
            "\n", 
            "\n", 
            "\n", 
            "\n", 
            "\n", 
            "\n", 
            "\n", 
            ""
          ]
        }, 
        {
          "cell_type": "code", 
          "collapsed": false, 
          "input": [
            "## Insert your code here."
          ], 
          "language": "python", 
          "outputs": []
        }, 
        {
          "cell_type": "markdown", 
          "metadata": {}, 
          "source": [
            "\n", 
            "\n", 
            ""
          ]
        }, 
        {
          "cell_type": "heading", 
          "level": 2, 
          "metadata": {}, 
          "source": [
            "PCA Color Space\n"
          ]
        }, 
        {
          "cell_type": "markdown", 
          "metadata": {}, 
          "source": [
            "Instead of using a fixed color space, one can computed a color space\n", 
            "adapted to an image to process.\n", 
            "\n", 
            "\n", 
            "Store appart the mean.\n", 
            ""
          ]
        }, 
        {
          "cell_type": "code", 
          "collapsed": false, 
          "input": [
            "m = mean(mean(f,1), 2)"
          ], 
          "language": "python", 
          "outputs": []
        }, 
        {
          "cell_type": "markdown", 
          "metadata": {}, 
          "source": [
            "\n", 
            "\n", 
            "Shortcut to compute the point cloud $X = (f(x)-m)_x \\subset \\RR^3 $\n", 
            "where the empirical mean is\n", 
            "$$ m = \\frac{1}{N} \\sum_x f(x) \\in \\RR^3 $$\n", 
            ""
          ]
        }, 
        {
          "cell_type": "code", 
          "collapsed": false, 
          "input": [
            "X = reshape( f - repmat(m, [n n 1]), [n*n 3] )"
          ], 
          "language": "python", 
          "outputs": []
        }, 
        {
          "cell_type": "markdown", 
          "metadata": {}, 
          "source": [
            "\n", 
            "\n", 
            "One compute the empirical  3-D covariance matrix of the point cloud formed by\n", 
            "the pixels of the image\n", 
            "$$ C = \\frac{1}{N} \\sum_i X_i X_i^* \\in \\RR^{3 \\times 3} $$\n", 
            ""
          ]
        }, 
        {
          "cell_type": "code", 
          "collapsed": false, 
          "input": [
            "C = (X'*X)/N"
          ], 
          "language": "python", 
          "outputs": []
        }, 
        {
          "cell_type": "markdown", 
          "metadata": {}, 
          "source": [
            "\n", 
            "\n", 
            "The orthogonal principal directions of the cloud are the eigenvector $U \\in \\RR^{3 \\times 3}$\n", 
            "of $C$, that defines the eigen-decomposition of the symetric matrix\n", 
            "$$ C = V D V \\qwhereq D = \\text{diag}(d_1,d_2,d_3)\n", 
            "\\qwithq d_1 \\geq d_2 \\geq d_3. $$\n", 
            ""
          ]
        }, 
        {
          "cell_type": "code", 
          "collapsed": false, 
          "input": [
            "[V,D] = eig(C); D = diag(D)\n", 
            "[D,I] = sort(D, 'descend'); V = V(:,I)"
          ], 
          "language": "python", 
          "outputs": []
        }, 
        {
          "cell_type": "markdown", 
          "metadata": {}, 
          "source": [
            "\n", 
            "\n", 
            "\n", 
            "The PCA color space is image-dependant, and is defined by $(V,m)$.\n", 
            "The transformed image $g$ in PCA space is defined as\n", 
            "$$ g(x) = V^*(f(x)-m) $$\n", 
            ""
          ]
        }, 
        {
          "cell_type": "code", 
          "collapsed": false, 
          "input": [
            "rgb2pca = lambda f,V,m: applymat(f - repmat(m, [n n 1]),V)\n", 
            "g = rgb2pca(f,V,m)"
          ], 
          "language": "python", 
          "outputs": []
        }, 
        {
          "cell_type": "markdown", 
          "metadata": {}, 
          "source": [
            "\n", 
            "\n", 
            "Display the transformed image.\n", 
            ""
          ]
        }, 
        {
          "cell_type": "code", 
          "collapsed": false, 
          "input": [
            "\n", 
            "imageplot({g(:,:,1) g(:,:,2) g(:,:,3)}, {'PCA_1' 'PCA_2' 'PCA_3'}, 1,3)"
          ], 
          "language": "python", 
          "outputs": []
        }, 
        {
          "cell_type": "markdown", 
          "metadata": {}, 
          "source": [
            "\n", 
            "\n", 
            "The image, withing this new color space, can be manipulated.\n", 
            "Here we lower the chrominance of the image. The result is slighly less\n", 
            "visible than with YUV modification because the color space is more\n", 
            "adapted to the image.\n", 
            ""
          ]
        }, 
        {
          "cell_type": "code", 
          "collapsed": false, 
          "input": [
            "g1 = g\n", 
            "g1(:,:,2:3) = g1(:,:,2:3)/2"
          ], 
          "language": "python", 
          "outputs": []
        }, 
        {
          "cell_type": "markdown", 
          "metadata": {}, 
          "source": [
            "\n", 
            ""
          ]
        }, 
        {
          "cell_type": "heading", 
          "level": 3, 
          "metadata": {}, 
          "source": [
            "Exercise 3"
          ]
        }, 
        {
          "cell_type": "markdown", 
          "metadata": {}, 
          "source": [
            "\n", 
            "Inverse the PCA transformation in order to retrive an image\n", 
            "the modified PCA representation |U1|.\n", 
            "\n", 
            "\n", 
            "display\n", 
            "\n", 
            "\n", 
            ""
          ]
        }, 
        {
          "cell_type": "code", 
          "collapsed": false, 
          "input": [
            "## Insert your code here."
          ], 
          "language": "python", 
          "outputs": []
        }, 
        {
          "cell_type": "markdown", 
          "metadata": {}, 
          "source": [
            "\n", 
            "\n", 
            ""
          ]
        }, 
        {
          "cell_type": "heading", 
          "level": 2, 
          "metadata": {}, 
          "source": [
            "Color Histograms\n"
          ]
        }, 
        {
          "cell_type": "markdown", 
          "metadata": {}, 
          "source": [
            "To better understand the colors structure of an image, it is useful to\n", 
            "visualize histogram of the color repartition.\n", 
            "\n", 
            "\n", 
            "We can display the 1-D histogram of each RGB color channel.\n", 
            ""
          ]
        }, 
        {
          "cell_type": "code", 
          "collapsed": false, 
          "input": [
            "channel = lambda f,i: reshape(f(:,:,i), [N 1])"
          ], 
          "language": "python", 
          "outputs": []
        }, 
        {
          "cell_type": "markdown", 
          "metadata": {}, 
          "source": [
            "\n", 
            "\n", 
            "Number of bins in the histogram.\n", 
            ""
          ]
        }, 
        {
          "cell_type": "code", 
          "collapsed": false, 
          "input": [
            "Q = 60"
          ], 
          "language": "python", 
          "outputs": []
        }, 
        {
          "cell_type": "markdown", 
          "metadata": {}, 
          "source": [
            "\n", 
            "\n", 
            "Display the histograms.\n", 
            ""
          ]
        }, 
        {
          "cell_type": "code", 
          "collapsed": false, 
          "input": [
            "clf; c = {'r' 'g' 'b'}; lgd = {'R' 'G' 'B'}\n", 
            "for i in 1:3:\n", 
            "    subplot(3,1,i)\n", 
            "    [h,t] = hist(channel(f,i), Q)\n", 
            "    bar(t,h*Q/N, c{i}); axis('tight')\n", 
            "    legend(lgd{i})\n", 
            ""
          ], 
          "language": "python", 
          "outputs": []
        }, 
        {
          "cell_type": "markdown", 
          "metadata": {}, 
          "source": [
            "\n", 
            "\n", 
            "Same thing but for HSV color space.\n", 
            ""
          ]
        }, 
        {
          "cell_type": "code", 
          "collapsed": false, 
          "input": [
            "g = rgb2hsv1(f)\n", 
            "clf; c = {'k' 'k' 'k'}; lgd = {'H' 'S' 'V'}\n", 
            "for i in 1:3:\n", 
            "    subplot(3,1,i)\n", 
            "    [h,t] = hist(channel(g,i), Q)\n", 
            "    bar(t,h*Q/N, c{i}); axis('tight')\n", 
            "    legend(lgd{i})\n", 
            ""
          ], 
          "language": "python", 
          "outputs": []
        }, 
        {
          "cell_type": "markdown", 
          "metadata": {}, 
          "source": [
            "\n", 
            "\n", 
            "Display this normalized histogram.\n", 
            "To make this curve an approximation of a continuous distribution, we\n", 
            "normalize $h$ by $Q/N$.\n", 
            "\n", 
            "\n", 
            "\n", 
            "Each pixel $f(x) \\in \\RR^3$ defines a 3-D point. The color image thus\n", 
            "corresponds to a 3-D point clouds whose structure reflects the colors\n", 
            "within the image.\n", 
            "\n", 
            "\n", 
            "Number $P$ of displayed points.\n", 
            ""
          ]
        }, 
        {
          "cell_type": "code", 
          "collapsed": false, 
          "input": [
            "P = 5000"
          ], 
          "language": "python", 
          "outputs": []
        }, 
        {
          "cell_type": "markdown", 
          "metadata": {}, 
          "source": [
            "\n", 
            "\n", 
            "Select $P$ random points.\n", 
            ""
          ]
        }, 
        {
          "cell_type": "code", 
          "collapsed": false, 
          "input": [
            "H = reshape(f, [n*n 3])\n", 
            "sel = randperm(n*n); sel = sel(1:P)\n", 
            "H = H(sel,:)"
          ], 
          "language": "python", 
          "outputs": []
        }, 
        {
          "cell_type": "markdown", 
          "metadata": {}, 
          "source": [
            "\n", 
            "\n", 
            "Display the point cloud.\n", 
            ""
          ]
        }, 
        {
          "cell_type": "code", 
          "collapsed": false, 
          "input": [
            "plotp = lambda x,col: plot3(x(1,:)', x(2,:)', x(3,:)', 'o', 'MarkerSize', 10, 'MarkerEdgeColor', 'k', 'MarkerFaceColor', col, 'LineWidth', 2)\n", 
            "clf; hold on\n", 
            "for i in 1:P:\n", 
            "    plotp(H(i,:)', H(i,:))\n", 
            "\n", 
            "view(3)"
          ], 
          "language": "python", 
          "outputs": []
        }, 
        {
          "cell_type": "markdown", 
          "metadata": {}, 
          "source": [
            "\n", 
            "\n", 
            "\n", 
            "Since the image is mainly composed of red and green, it is easier to\n", 
            "simply vizualize the 2-D histogram of the image along these two channels.\n", 
            "\n", 
            "\n", 
            "\n", 
            "Shortcut to compute 2-D histograms.\n", 
            ""
          ]
        }, 
        {
          "cell_type": "code", 
          "collapsed": false, 
          "input": [
            "quantize = lambda A,Q: 1+round((Q-1)*A)\n", 
            "J = lambda I,Q: I(1,:)' + Q*(I(2,:)'-1)\n", 
            "hist2d = lambda f,Q: reshape( accumarray(J(quantize(f,Q),Q), ones(1,N), [Q*Q 1], @sum), [Q Q])"
          ], 
          "language": "python", 
          "outputs": []
        }, 
        {
          "cell_type": "markdown", 
          "metadata": {}, 
          "source": [
            "\n", 
            "\n", 
            "Number of bins for the display of histograms.\n", 
            ""
          ]
        }, 
        {
          "cell_type": "code", 
          "collapsed": false, 
          "input": [
            "Q = 60"
          ], 
          "language": "python", 
          "outputs": []
        }, 
        {
          "cell_type": "markdown", 
          "metadata": {}, 
          "source": [
            "\n", 
            "\n", 
            "Display the 2-D histograms of the red/green channels of both images\n", 
            "(use log to boost contrast).\n", 
            ""
          ]
        }, 
        {
          "cell_type": "code", 
          "collapsed": false, 
          "input": [
            "func = lambda a: log(a+3)\n", 
            "X = reshape(f(:,:,1:2), [n*n 2])'\n", 
            "\n", 
            "imageplot( func(hist2d(X,Q)) )"
          ], 
          "language": "python", 
          "outputs": []
        }, 
        {
          "cell_type": "heading", 
          "level": 2, 
          "metadata": {}, 
          "source": [
            "Color Image Denoising and Compression\n"
          ]
        }, 
        {
          "cell_type": "markdown", 
          "metadata": {}, 
          "source": [
            "Color image denoising is more difficult than grayscale denoising because\n", 
            "independant denoising of RGB channels introduces color artifact.\n", 
            "For image with homogenous colors, it can be avoided by using an\n", 
            "appropriate color space.\n", 
            "\n", 
            "\n", 
            "Noise level.\n", 
            ""
          ]
        }, 
        {
          "cell_type": "code", 
          "collapsed": false, 
          "input": [
            "sigma = .13"
          ], 
          "language": "python", 
          "outputs": []
        }, 
        {
          "cell_type": "markdown", 
          "metadata": {}, 
          "source": [
            "\n", 
            "\n", 
            "A noisy image color image $f_1$ is corrupted by a color Gaussian noise.\n", 
            ""
          ]
        }, 
        {
          "cell_type": "code", 
          "collapsed": false, 
          "input": [
            "f1 = f + randn(n,n,3)*sigma"
          ], 
          "language": "python", 
          "outputs": []
        }, 
        {
          "cell_type": "markdown", 
          "metadata": {}, 
          "source": [
            "\n", 
            "\n", 
            "Display.\n", 
            ""
          ]
        }, 
        {
          "cell_type": "code", 
          "collapsed": false, 
          "input": [
            "\n", 
            "imageplot(f, 'f', 1,2,1)\n", 
            "imageplot(clamp(f1), 'f_1', 1,2,2)"
          ], 
          "language": "python", 
          "outputs": []
        }, 
        {
          "cell_type": "heading", 
          "level": 3, 
          "metadata": {}, 
          "source": [
            "Exercise 4"
          ]
        }, 
        {
          "cell_type": "markdown", 
          "metadata": {}, 
          "source": [
            "\n", 
            "Compare (translation invariant) wavelet denoising of color image in the\n", 
            "RGB and PCA color space (the PCA space should be estimated from the noisy image)."
          ]
        }, 
        {
          "cell_type": "code", 
          "collapsed": false, 
          "input": [
            "## Insert your code here."
          ], 
          "language": "python", 
          "outputs": []
        }, 
        {
          "cell_type": "markdown", 
          "metadata": {}, 
          "source": [
            "\n", 
            ""
          ]
        }, 
        {
          "cell_type": "heading", 
          "level": 3, 
          "metadata": {}, 
          "source": [
            "Exercise 5"
          ]
        }, 
        {
          "cell_type": "markdown", 
          "metadata": {}, 
          "source": [
            "\n", 
            "For a complicated, non-homogenous color image, compute a local color\n", 
            "space for each pixel, by performing a PCA over group of pixels. Use this\n", 
            "adaptive color model to perform wavelet denoising."
          ]
        }, 
        {
          "cell_type": "code", 
          "collapsed": false, 
          "input": [
            "## Insert your code here."
          ], 
          "language": "python", 
          "outputs": []
        }, 
        {
          "cell_type": "markdown", 
          "metadata": {}, 
          "source": [
            "\n", 
            "\n", 
            "\n", 
            "Similarely to color image denoising, color image compression is difficult\n", 
            "because of color artifacts.\n", 
            ""
          ]
        }, 
        {
          "cell_type": "heading", 
          "level": 3, 
          "metadata": {}, 
          "source": [
            "Exercise 6"
          ]
        }, 
        {
          "cell_type": "markdown", 
          "metadata": {}, 
          "source": [
            "\n", 
            "Compare wavelet domain image compression (quantization+coding) over the\n", 
            "original RGB space and a more adapted global or local color space."
          ]
        }, 
        {
          "cell_type": "code", 
          "collapsed": false, 
          "input": [
            "## Insert your code here."
          ], 
          "language": "python", 
          "outputs": []
        }
      ]
    }
  ]
}