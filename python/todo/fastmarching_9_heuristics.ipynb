{
  "metadata": {
    "name": ""
  }, 
  "nbformat": 3, 
  "nbformat_minor": 0, 
  "worksheets": [
    {
      "cells": [
        {
          "cell_type": "heading", 
          "level": 1, 
          "metadata": {}, 
          "source": [
            "Heuristically Driven Front Propagation"
          ]
        }, 
        {
          "cell_type": "markdown", 
          "metadata": {}, 
          "source": [
            "This tour explores the use of heuristics to speed up Fast Marching methods in 2D.\n", 
            "\n", 
            "\n", 
            "The use of heuristics for the computation of geodesic paths was\n", 
            "introduced in\n", 
            "\n", 
            "\n", 
            "_Heuristically Driven Front Propagation for Fast Geodesic Extraction_\n", 
            "Gabriel Peyre and Laurent Cohen,\n", 
            "International Journal for Computational Vision and Biomechanics, Vol. 1(1), p.55-67, Jan-June 2008.\n", 
            ""
          ]
        }, 
        {
          "cell_type": "markdown", 
          "metadata": {}, 
          "source": [
            "*Important:* You need to download the file `nt_toolbox.py` from the \n", 
            "root of the github repository.\n", 
            "$\\newcommand{\\dotp}[2]{\\langle #1, #2 \\rangle}\n", 
            "\\newcommand{\\enscond}[2]{\\lbrace #1, #2 \\rbrace}\n", 
            "\\newcommand{\\pd}[2]{ \\frac{ \\partial #1}{\\partial #2} }\n", 
            "\\newcommand{\\umin}[1]{\\underset{#1}{\\min}\\;}\n", 
            "\\newcommand{\\norm}[1]{\\|#1\\|}\n", 
            "\\newcommand{\\abs}[1]{\\left|#1\\right|}\n", 
            "\\newcommand{\\choice}[1]{ \\left\\{  \\begin{array}{l} #1 \\end{array} \\right. }\n", 
            "\\newcommand{\\pa}[1]{\\left(#1\\right)}\n", 
            "\\newcommand{\\qandq}{\\quad\\text{and}\\quad}\n", 
            "\\newcommand{\\qwhereq}{\\quad\\text{where}\\quad}\n", 
            "\\newcommand{\\qifq}{ \\quad \\text{if} \\quad }\n", 
            "\\newcommand{\\qarrq}{ \\quad \\Longrightarrow \\quad }\n", 
            "\\newcommand{\\ZZ}{\\mathbb{Z}}\n", 
            "\\newcommand{\\RR}{\\mathbb{R}}\n", 
            "\\newcommand{\\Nn}{\\mathcal{N}}\n", 
            "\\newcommand{\\Hh}{\\mathcal{H}}\n", 
            "\\newcommand{\\Bb}{\\mathcal{B}}\n", 
            "\\newcommand{\\EE}{\\mathbb{E}}\n", 
            "\\newcommand{\\CC}{\\mathbb{C}}\n", 
            "\\newcommand{\\si}{\\sigma}\n", 
            "\\newcommand{\\al}{\\alpha}\n", 
            "\\newcommand{\\la}{\\lambda}\n", 
            "\\newcommand{\\ga}{\\gamma}\n", 
            "\\newcommand{\\Ga}{\\Gamma}\n", 
            "\\newcommand{\\La}{\\Lambda}\n", 
            "\\newcommand{\\si}{\\sigma}\n", 
            "\\newcommand{\\Si}{\\Sigma}\n", 
            "\\newcommand{\\be}{\\beta}\n", 
            "\\newcommand{\\de}{\\delta}\n", 
            "\\newcommand{\\De}{\\Delta}\n", 
            "\\renewcommand{\\phi}{\\varphi}\n", 
            "\\renewcommand{\\th}{\\theta}\n", 
            "\\newcommand{\\om}{\\omega}\n", 
            "\\newcommand{\\Om}{\\Omega}\n", 
            "$"
          ]
        }, 
        {
          "cell_type": "code", 
          "collapsed": false, 
          "input": [
            "from nt_toolbox import *", 
            "%matplotlib inline", 
            "%load_ext autoreload", 
            "%autoreload 2"
          ], 
          "language": "python", 
          "outputs": []
        }, 
        {
          "cell_type": "markdown", 
          "metadata": {}, 
          "source": [
            "\n", 
            "CMT"
          ]
        }, 
        {
          "cell_type": "code", 
          "collapsed": false, 
          "input": [
            "rep = 'results/fastmarching_heuristics/'\n", 
            "if not(exist(rep))\n", 
            "    mkdir(rep)\n", 
            ""
          ], 
          "language": "python", 
          "outputs": []
        }, 
        {
          "cell_type": "markdown", 
          "metadata": {}, 
          "source": [
            "CMT\n", 
            "\n", 
            ""
          ]
        }, 
        {
          "cell_type": "heading", 
          "level": 2, 
          "metadata": {}, 
          "source": [
            "Ideal Heuristically Driven Front Propagation\n"
          ]
        }, 
        {
          "cell_type": "markdown", 
          "metadata": {}, 
          "source": [
            "The ideal heuristic |H| is the remaining distance to the ending point.\n", 
            "It is ideal in the sense that it is as difficult to compute this distance\n", 
            "than to solve for the original problem of extracting the geodesic.\n", 
            "\n", 
            "\n", 
            "One can however study the influence of this heuristic by replacing |H|\n", 
            "by |weight*H| where |weight<1| is a sub-optimality factor.\n", 
            "\n", 
            "\n", 
            "Load an image.\n", 
            ""
          ]
        }, 
        {
          "cell_type": "code", 
          "collapsed": false, 
          "input": [
            "n = 300\n", 
            "name = 'road2'\n", 
            "M = rescale(load_image(name,n))"
          ], 
          "language": "python", 
          "outputs": []
        }, 
        {
          "cell_type": "markdown", 
          "metadata": {}, 
          "source": [
            "\n", 
            "\n", 
            "Display it.\n", 
            ""
          ]
        }, 
        {
          "cell_type": "code", 
          "collapsed": false, 
          "input": [
            "\n", 
            "imageplot(M)"
          ], 
          "language": "python", 
          "outputs": []
        }, 
        {
          "cell_type": "markdown", 
          "metadata": {}, 
          "source": [
            "\n", 
            "\n", 
            "Define start and end points (you can use your own points).\n", 
            ""
          ]
        }, 
        {
          "cell_type": "code", 
          "collapsed": false, 
          "input": [
            "pstart = [14;161]\n", 
            "pend = [293;148]"
          ], 
          "language": "python", 
          "outputs": []
        }, 
        {
          "cell_type": "markdown", 
          "metadata": {}, 
          "source": [
            "\n", 
            "\n", 
            "Compute a metric to extact the road.\n", 
            ""
          ]
        }, 
        {
          "cell_type": "code", 
          "collapsed": false, 
          "input": [
            "W = abs(M-M(pstart(1),pstart(2)))\n", 
            "W = rescale(W, 1e-2,1)"
          ], 
          "language": "python", 
          "outputs": []
        }, 
        {
          "cell_type": "markdown", 
          "metadata": {}, 
          "source": [
            "\n", 
            "\n", 
            "Display it.\n", 
            ""
          ]
        }, 
        {
          "cell_type": "code", 
          "collapsed": false, 
          "input": [
            "\n", 
            "imageplot(W)"
          ], 
          "language": "python", 
          "outputs": []
        }, 
        {
          "cell_type": "markdown", 
          "metadata": {}, 
          "source": [
            "\n", 
            "\n", 
            "\n", 
            "Perform the full propagation.\n", 
            ""
          ]
        }, 
        {
          "cell_type": "code", 
          "collapsed": false, 
          "input": [
            "[D,S] = perform_fast_marching(1./W, pstart)"
          ], 
          "language": "python", 
          "outputs": []
        }, 
        {
          "cell_type": "markdown", 
          "metadata": {}, 
          "source": [
            "\n", 
            "\n", 
            "Extract a geodesic curve.\n", 
            ""
          ]
        }, 
        {
          "cell_type": "code", 
          "collapsed": false, 
          "input": [
            "p = compute_geodesic(D,pend)"
          ], 
          "language": "python", 
          "outputs": []
        }, 
        {
          "cell_type": "markdown", 
          "metadata": {}, 
          "source": [
            "\n", 
            "\n", 
            "Display the distance and the geodesic curve.\n", 
            ""
          ]
        }, 
        {
          "cell_type": "code", 
          "collapsed": false, 
          "input": [
            "clf; hold on\n", 
            "imageplot(convert_distance_color(D,M), 'Distance')\n", 
            "h = plot(p(2,:),p(1,:), '.k'); set(h, 'LineWidth', 2)\n", 
            "h = plot(pstart(2),pstart(1), '.r'); set(h, 'MarkerSize', 25)\n", 
            "h = plot(pend(2),pend(1), '.b'); set(h, 'MarkerSize', 25)\n", 
            "axis ij"
          ], 
          "language": "python", 
          "outputs": []
        }, 
        {
          "cell_type": "markdown", 
          "metadata": {}, 
          "source": [
            "\n", 
            "\n", 
            "Compute the heuristic.\n", 
            ""
          ]
        }, 
        {
          "cell_type": "code", 
          "collapsed": false, 
          "input": [
            "[H,S] = perform_fast_marching(1./W, pend)"
          ], 
          "language": "python", 
          "outputs": []
        }, 
        {
          "cell_type": "markdown", 
          "metadata": {}, 
          "source": [
            "\n", 
            "\n", 
            "Display the ideal heuristic function.\n", 
            ""
          ]
        }, 
        {
          "cell_type": "code", 
          "collapsed": false, 
          "input": [
            "clf; hold on\n", 
            "imageplot(convert_distance_color(H,M), 'Distance')\n", 
            "h = plot(p(2,:),p(1,:), '.k'); set(h, 'LineWidth', 2)\n", 
            "h = plot(pstart(2),pstart(1), '.r'); set(h, 'MarkerSize', 25)\n", 
            "h = plot(pend(2),pend(1), '.b'); set(h, 'MarkerSize', 25)\n", 
            "axis ij"
          ], 
          "language": "python", 
          "outputs": []
        }, 
        {
          "cell_type": "heading", 
          "level": 3, 
          "metadata": {}, 
          "source": [
            "Exercise 1"
          ]
        }, 
        {
          "cell_type": "markdown", 
          "metadata": {}, 
          "source": [
            "\n", 
            "Display the set of points satisfying |D+H<=T| for several value of the\n", 
            "threshold |T>=D(pend)|. What do you observe ?\n", 
            "\n", 
            "\n", 
            "\n", 
            "\n", 
            "\n", 
            "\n", 
            "\n", 
            "\n", 
            "\n", 
            "\n", 
            "\n", 
            "\n", 
            "\n", 
            "\n", 
            "\n", 
            ""
          ]
        }, 
        {
          "cell_type": "code", 
          "collapsed": false, 
          "input": [
            "## Insert your code here."
          ], 
          "language": "python", 
          "outputs": []
        }, 
        {
          "cell_type": "markdown", 
          "metadata": {}, 
          "source": [
            "\n", 
            "\n", 
            "CMT"
          ]
        }, 
        {
          "cell_type": "code", 
          "collapsed": false, 
          "input": [
            "for i in 1:4:\n", 
            "    t = Tlist(i)\n", 
            "    U = cat(3,M,M,M)\n", 
            "    I = find( D+H<=t )\n", 
            "    U(I) = 1; U([I+n^2, I+2*n^2]) = U([I+n^2, I+2*n^2])*.3\n", 
            "\n", 
            "    hold on\n", 
            "    imageplot(U)\n", 
            "    h = plot(p(2,:),p(1,:), '.k'); set(h, 'LineWidth', 2)\n", 
            "    h = plot(pstart(2),pstart(1), '.g'); set(h, 'MarkerSize', 25)\n", 
            "    h = plot(pend(2),pend(1), '.b'); set(h, 'MarkerSize', 25)\n", 
            "    axis ij\n", 
            "    saveas(gcf, [rep name '-ellipsoid-' num2str(i) '.eps'], 'epsc')\n", 
            ""
          ], 
          "language": "python", 
          "outputs": []
        }, 
        {
          "cell_type": "markdown", 
          "metadata": {}, 
          "source": [
            "CMT\n", 
            "\n", 
            "\n", 
            "Perform the heuristically driven propagation.\n", 
            ""
          ]
        }, 
        {
          "cell_type": "code", 
          "collapsed": false, 
          "input": [
            "weight = .9\n", 
            "options.end_points = pend\n", 
            "options.heuristic = weight*H\n", 
            "options.nb_iter_max = Inf\n", 
            "options.constraint_map = Inf+zeros(n)\n", 
            "[D,S] = perform_fast_marching(1./W, pstart, options)"
          ], 
          "language": "python", 
          "outputs": []
        }, 
        {
          "cell_type": "markdown", 
          "metadata": {}, 
          "source": [
            "\n", 
            "\n", 
            "Display the region explored by the algorithm.\n", 
            ""
          ]
        }, 
        {
          "cell_type": "code", 
          "collapsed": false, 
          "input": [
            "I = find(S<0)\n", 
            "U = cat(3,M,M,M)\n", 
            "U(I) = 1; U([I+n^2, I+2*n^2]) = U([I+n^2, I+2*n^2])*.3\n", 
            "clf; hold on\n", 
            "imageplot(U)\n", 
            "h = plot(p(2,:),p(1,:), '.k'); set(h, 'LineWidth', 2)\n", 
            "h = plot(pstart(2),pstart(1), '.g'); set(h, 'MarkerSize', 25)\n", 
            "h = plot(pend(2),pend(1), '.b'); set(h, 'MarkerSize', 25)\n", 
            "axis ij"
          ], 
          "language": "python", 
          "outputs": []
        }, 
        {
          "cell_type": "heading", 
          "level": 3, 
          "metadata": {}, 
          "source": [
            "Exercise 2"
          ]
        }, 
        {
          "cell_type": "markdown", 
          "metadata": {}, 
          "source": [
            "\n", 
            "Display the explored region for different values of |weight|.\n", 
            "\n", 
            "\n", 
            "\n", 
            "\n", 
            "\n", 
            "\n", 
            "\n", 
            "\n", 
            "\n", 
            "\n", 
            "\n", 
            "\n", 
            "\n", 
            "\n", 
            "\n", 
            "\n", 
            "\n", 
            "\n", 
            "\n", 
            "\n", 
            ""
          ]
        }, 
        {
          "cell_type": "code", 
          "collapsed": false, 
          "input": [
            "## Insert your code here."
          ], 
          "language": "python", 
          "outputs": []
        }, 
        {
          "cell_type": "markdown", 
          "metadata": {}, 
          "source": [
            "\n", 
            "\n", 
            "CMT"
          ]
        }, 
        {
          "cell_type": "code", 
          "collapsed": false, 
          "input": [
            "for i in 1:4:\n", 
            "    weight = wlist(i)\n", 
            "    options.end_points = pend\n", 
            "    options.heuristic = weight*H\n", 
            "    options.nb_iter_max = Inf\n", 
            "    options.constraint_map = Inf+zeros(n)\n", 
            "    [D,S] = perform_fast_marching(1./W, pstart, options)\n", 
            "    %\n", 
            "    I = find(S<0)\n", 
            "    U = cat(3,M,M,M)\n", 
            "    U(I) = 1; U([I+n^2, I+2*n^2]) = U([I+n^2, I+2*n^2])*.3\n", 
            "    clf; hold on\n", 
            "    imageplot(U)\n", 
            "    h = plot(p(2,:),p(1,:), '.k'); set(h, 'LineWidth', 2)\n", 
            "    h = plot(pstart(2),pstart(1), '.g'); set(h, 'MarkerSize', 25)\n", 
            "    h = plot(pend(2),pend(1), '.b'); set(h, 'MarkerSize', 25)\n", 
            "    axis ij\n", 
            "    saveas(gcf, [rep name '-ideal-heuristic-' num2str(i) '.eps'], 'epsc')\n", 
            ""
          ], 
          "language": "python", 
          "outputs": []
        }, 
        {
          "cell_type": "markdown", 
          "metadata": {}, 
          "source": [
            "CMT\n", 
            "\n", 
            "\n", 
            ""
          ]
        }, 
        {
          "cell_type": "heading", 
          "level": 2, 
          "metadata": {}, 
          "source": [
            "Landmark-based Heuristically Driven Front Propagation\n"
          ]
        }, 
        {
          "cell_type": "markdown", 
          "metadata": {}, 
          "source": [
            "An heuristic can be derived using a pre-computed set of distance to\n", 
            "landmark points. The more landmark, the more accurate the heuristic is.\n", 
            "\n", 
            "\n", 
            "Compute randomized landmarks.\n", 
            ""
          ]
        }, 
        {
          "cell_type": "code", 
          "collapsed": false, 
          "input": [
            "q = 10\n", 
            "landmarks = floor(rand(2,q)*n)+1"
          ], 
          "language": "python", 
          "outputs": []
        }, 
        {
          "cell_type": "markdown", 
          "metadata": {}, 
          "source": [
            "\n", 
            "\n", 
            "Pre-compute distances to landmarks.\n", 
            ""
          ]
        }, 
        {
          "cell_type": "code", 
          "collapsed": false, 
          "input": [
            "Dland = zeros(n,n,q)\n", 
            "for i in 1:q:\n", 
            "    Dland(:,:,i) = perform_fast_marching(1./W, landmarks(:,i))\n", 
            ""
          ], 
          "language": "python", 
          "outputs": []
        }, 
        {
          "cell_type": "markdown", 
          "metadata": {}, 
          "source": [
            "\n", 
            "\n", 
            "Compute the heuristic.\n", 
            ""
          ]
        }, 
        {
          "cell_type": "code", 
          "collapsed": false, 
          "input": [
            "Dend = Dland( pend(1), pend(2), :)\n", 
            "H = max(abs(Dland-repmat(Dend, [n n 1])), [], 3)"
          ], 
          "language": "python", 
          "outputs": []
        }, 
        {
          "cell_type": "markdown", 
          "metadata": {}, 
          "source": [
            "\n", 
            "\n", 
            "Display the heuristic.\n", 
            ""
          ]
        }, 
        {
          "cell_type": "code", 
          "collapsed": false, 
          "input": [
            "\n", 
            "hold on\n", 
            "imageplot(H)\n", 
            "contour(H, 10, 'k', 'LineWidth', 2)\n", 
            "colormap jet(256)\n", 
            "h = plot(landmarks(1,:), landmarks(2,:), 'y.')\n", 
            "set(h, 'MarkerSize', 15)\n", 
            "axis ij"
          ], 
          "language": "python", 
          "outputs": []
        }, 
        {
          "cell_type": "markdown", 
          "metadata": {}, 
          "source": [
            "\n", 
            "\n", 
            "That should be compared with the optimal ideal heuristic.\n", 
            ""
          ]
        }, 
        {
          "cell_type": "code", 
          "collapsed": false, 
          "input": [
            "[H0,S] = perform_fast_marching(1./W, pend)\n", 
            "\n", 
            "hold on\n", 
            "imageplot(H0)\n", 
            "contour(H0, 10, 'k', 'LineWidth', 2)\n", 
            "colormap jet(256)\n", 
            "axis ij"
          ], 
          "language": "python", 
          "outputs": []
        }, 
        {
          "cell_type": "heading", 
          "level": 3, 
          "metadata": {}, 
          "source": [
            "Exercise 3"
          ]
        }, 
        {
          "cell_type": "markdown", 
          "metadata": {}, 
          "source": [
            "\n", 
            "Display the convergence of the heuristic as the number of landmark\n", 
            "increases.\n", 
            "\n", 
            "\n", 
            "\n", 
            "\n", 
            "\n", 
            "\n", 
            "\n", 
            "\n", 
            "\n", 
            "\n", 
            "\n", 
            "\n", 
            "\n", 
            "\n", 
            "\n", 
            "\n", 
            "\n", 
            "\n", 
            "\n", 
            "\n", 
            ""
          ]
        }, 
        {
          "cell_type": "code", 
          "collapsed": false, 
          "input": [
            "## Insert your code here."
          ], 
          "language": "python", 
          "outputs": []
        }, 
        {
          "cell_type": "markdown", 
          "metadata": {}, 
          "source": [
            "\n", 
            "\n", 
            "CMT"
          ]
        }, 
        {
          "cell_type": "code", 
          "collapsed": false, 
          "input": [
            "\n", 
            "for i in 1:4:\n", 
            "    q = qlist(i)\n", 
            "    Dend = Dland( pend(1), pend(2), :)\n", 
            "    H = max(abs(Dland(:,:,1:q)-repmat(Dend(1:q), [n n 1])), [], 3)\n", 
            "\n", 
            "    hold on\n", 
            "    imageplot(H)\n", 
            "    contour(H, 10, 'k', 'LineWidth', 2)\n", 
            "    colormap jet(256)\n", 
            "    h = plot(landmarks(1,1:q), landmarks(2,1:q), 'y.')\n", 
            "    set(h, 'MarkerSize', 15)\n", 
            "    axis ij\n", 
            "    saveas(gcf, [rep name '-landmark-heuristic-' num2str(i) '.eps'], 'epsc')\n", 
            ""
          ], 
          "language": "python", 
          "outputs": []
        }, 
        {
          "cell_type": "markdown", 
          "metadata": {}, 
          "source": [
            "CMT\n", 
            ""
          ]
        }, 
        {
          "cell_type": "heading", 
          "level": 3, 
          "metadata": {}, 
          "source": [
            "Exercise 4"
          ]
        }, 
        {
          "cell_type": "markdown", 
          "metadata": {}, 
          "source": [
            "\n", 
            "Perform the heuristically driven propagation with a landmark-based\n", 
            "heuristic.\n", 
            "\n", 
            "\n", 
            "\n", 
            "\n", 
            "\n", 
            "\n", 
            "\n", 
            "\n", 
            "\n", 
            "\n", 
            "\n", 
            "\n", 
            "\n", 
            "\n", 
            "\n", 
            "\n", 
            "\n", 
            "\n", 
            "\n", 
            "\n", 
            "\n", 
            "\n", 
            "\n", 
            ""
          ]
        }, 
        {
          "cell_type": "code", 
          "collapsed": false, 
          "input": [
            "## Insert your code here."
          ], 
          "language": "python", 
          "outputs": []
        }, 
        {
          "cell_type": "markdown", 
          "metadata": {}, 
          "source": [
            "\n", 
            "\n", 
            "CMT"
          ]
        }, 
        {
          "cell_type": "code", 
          "collapsed": false, 
          "input": [
            "for i in 1:4:\n", 
            "    q = qlist(i)\n", 
            "    Dend = Dland( pend(1), pend(2), :)\n", 
            "    H = max(abs(Dland(:,:,1:q)-repmat(Dend(1:q), [n n 1])), [], 3)\n", 
            "    %\n", 
            "    options.end_points = pend\n", 
            "    options.heuristic = H\n", 
            "    options.nb_iter_max = Inf\n", 
            "    options.constraint_map = Inf+zeros(n)\n", 
            "    [D,S] = perform_fast_marching(1./W, pstart, options)\n", 
            "    %\n", 
            "    I = find(S<0)\n", 
            "    U = cat(3,M,M,M)\n", 
            "    U(I) = 1; U([I+n^2, I+2*n^2]) = U([I+n^2, I+2*n^2])*.3\n", 
            "\n", 
            "    hold on\n", 
            "    imageplot(U)\n", 
            "    h = plot(p(2,:),p(1,:), '.k'); set(h, 'LineWidth', 2)\n", 
            "    h = plot(pstart(2),pstart(1), '.g'); set(h, 'MarkerSize', 25)\n", 
            "    h = plot(pend(2),pend(1), '.b'); set(h, 'MarkerSize', 25)\n", 
            "    h = plot(landmarks(1,1:q), landmarks(2,1:q), 'y.'); set(h, 'MarkerSize', 15)\n", 
            "    axis ij\n", 
            "    saveas(gcf, [rep name '-landmark-extraction-' num2str(i) '.eps'], 'epsc')\n", 
            ""
          ], 
          "language": "python", 
          "outputs": []
        }, 
        {
          "cell_type": "markdown", 
          "metadata": {}, 
          "source": [
            "CMT\n", 
            ""
          ]
        }, 
        {
          "cell_type": "heading", 
          "level": 3, 
          "metadata": {}, 
          "source": [
            "Exercise 5"
          ]
        }, 
        {
          "cell_type": "markdown", 
          "metadata": {}, 
          "source": [
            "\n", 
            "Find a strategy to find optimal seeding position for the landmarks."
          ]
        }, 
        {
          "cell_type": "code", 
          "collapsed": false, 
          "input": [
            "## Insert your code here."
          ], 
          "language": "python", 
          "outputs": []
        }, 
        {
          "cell_type": "markdown", 
          "metadata": {}, 
          "source": [
            "\n", 
            "\n", 
            ""
          ]
        }, 
        {
          "cell_type": "heading", 
          "level": 2, 
          "metadata": {}, 
          "source": [
            "Heuristics on 3D Meshes\n"
          ]
        }, 
        {
          "cell_type": "markdown", 
          "metadata": {}, 
          "source": [
            "It is possible to use the same heuristics to drive the computation of\n", 
            "geodesic paths on 3D meshes.\n", 
            ""
          ]
        }, 
        {
          "cell_type": "heading", 
          "level": 3, 
          "metadata": {}, 
          "source": [
            "Exercise 6"
          ]
        }, 
        {
          "cell_type": "markdown", 
          "metadata": {}, 
          "source": [
            "\n", 
            "Perform the landmark-based heuristically driven propagation on a 3D\n", 
            "mesh."
          ]
        }, 
        {
          "cell_type": "code", 
          "collapsed": false, 
          "input": [
            "## Insert your code here."
          ], 
          "language": "python", 
          "outputs": []
        }
      ]
    }
  ]
}