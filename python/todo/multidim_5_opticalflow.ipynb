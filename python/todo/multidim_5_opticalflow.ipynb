{
  "metadata": {
    "name": ""
  }, 
  "nbformat": 3, 
  "nbformat_minor": 0, 
  "worksheets": [
    {
      "cells": [
        {
          "cell_type": "heading", 
          "level": 1, 
          "metadata": {}, 
          "source": [
            "Optical Flow Computation"
          ]
        }, 
        {
          "cell_type": "markdown", 
          "metadata": {}, 
          "source": [
            "This numerical tour explores the computation of optical flow between two\n", 
            "images. It is at the heart of video coding.\n", 
            ""
          ]
        }, 
        {
          "cell_type": "markdown", 
          "metadata": {}, 
          "source": [
            "*Important:* You need to download the file `nt_toolbox.py` from the \n", 
            "root of the github repository.\n", 
            "$\\newcommand{\\dotp}[2]{\\langle #1, #2 \\rangle}\n", 
            "\\newcommand{\\enscond}[2]{\\lbrace #1, #2 \\rbrace}\n", 
            "\\newcommand{\\pd}[2]{ \\frac{ \\partial #1}{\\partial #2} }\n", 
            "\\newcommand{\\umin}[1]{\\underset{#1}{\\min}\\;}\n", 
            "\\newcommand{\\norm}[1]{\\|#1\\|}\n", 
            "\\newcommand{\\abs}[1]{\\left|#1\\right|}\n", 
            "\\newcommand{\\choice}[1]{ \\left\\{  \\begin{array}{l} #1 \\end{array} \\right. }\n", 
            "\\newcommand{\\pa}[1]{\\left(#1\\right)}\n", 
            "\\newcommand{\\qandq}{\\quad\\text{and}\\quad}\n", 
            "\\newcommand{\\qwhereq}{\\quad\\text{where}\\quad}\n", 
            "\\newcommand{\\qifq}{ \\quad \\text{if} \\quad }\n", 
            "\\newcommand{\\qarrq}{ \\quad \\Longrightarrow \\quad }\n", 
            "\\newcommand{\\ZZ}{\\mathbb{Z}}\n", 
            "\\newcommand{\\RR}{\\mathbb{R}}\n", 
            "\\newcommand{\\Nn}{\\mathcal{N}}\n", 
            "\\newcommand{\\Hh}{\\mathcal{H}}\n", 
            "\\newcommand{\\Bb}{\\mathcal{B}}\n", 
            "\\newcommand{\\EE}{\\mathbb{E}}\n", 
            "\\newcommand{\\CC}{\\mathbb{C}}\n", 
            "\\newcommand{\\si}{\\sigma}\n", 
            "\\newcommand{\\al}{\\alpha}\n", 
            "\\newcommand{\\la}{\\lambda}\n", 
            "\\newcommand{\\ga}{\\gamma}\n", 
            "\\newcommand{\\Ga}{\\Gamma}\n", 
            "\\newcommand{\\La}{\\Lambda}\n", 
            "\\newcommand{\\si}{\\sigma}\n", 
            "\\newcommand{\\Si}{\\Sigma}\n", 
            "\\newcommand{\\be}{\\beta}\n", 
            "\\newcommand{\\de}{\\delta}\n", 
            "\\newcommand{\\De}{\\Delta}\n", 
            "\\renewcommand{\\phi}{\\varphi}\n", 
            "\\renewcommand{\\th}{\\theta}\n", 
            "\\newcommand{\\om}{\\omega}\n", 
            "\\newcommand{\\Om}{\\Omega}\n", 
            "$"
          ]
        }, 
        {
          "cell_type": "code", 
          "collapsed": false, 
          "input": [
            "from nt_toolbox import *", 
            "%matplotlib inline", 
            "%load_ext autoreload", 
            "%autoreload 2"
          ], 
          "language": "python", 
          "outputs": []
        }, 
        {
          "cell_type": "heading", 
          "level": 2, 
          "metadata": {}, 
          "source": [
            "Loading Warped Images\n"
          ]
        }, 
        {
          "cell_type": "markdown", 
          "metadata": {}, 
          "source": [
            "To evaluate the performance of optical flow computation, we compute a\n", 
            "pair of image obtained by a smooth warping (small deformation),\n", 
            "here a simple rotation.\n", 
            "\n", 
            "\n", 
            "Original frame #1.\n", 
            ""
          ]
        }, 
        {
          "cell_type": "code", 
          "collapsed": false, 
          "input": [
            "n = 256\n", 
            "name = 'lena'\n", 
            "M1 = rescale( load_image(name,n) )"
          ], 
          "language": "python", 
          "outputs": []
        }, 
        {
          "cell_type": "markdown", 
          "metadata": {}, 
          "source": [
            "\n", 
            "\n", 
            "The second image |M2| is obtaind by rotating the first one.\n", 
            "\n", 
            "angle of rotation"
          ]
        }, 
        {
          "cell_type": "code", 
          "collapsed": false, 
          "input": [
            "theta = .03 * pi/2"
          ], 
          "language": "python", 
          "outputs": []
        }, 
        {
          "cell_type": "markdown", 
          "metadata": {}, 
          "source": [
            "original coordinates"
          ]
        }, 
        {
          "cell_type": "code", 
          "collapsed": false, 
          "input": [
            "[Y,X] = meshgrid(1:n,1:n)"
          ], 
          "language": "python", 
          "outputs": []
        }, 
        {
          "cell_type": "markdown", 
          "metadata": {}, 
          "source": [
            "rotated coordinates"
          ]
        }, 
        {
          "cell_type": "code", 
          "collapsed": false, 
          "input": [
            "X1 = (X-n/2)*cos(theta) + (Y-n/2)*sin(theta) + n/2\n", 
            "Y1 =-(X-n/2)*sin(theta) + (Y-n/2)*cos(theta) + n/2"
          ], 
          "language": "python", 
          "outputs": []
        }, 
        {
          "cell_type": "markdown", 
          "metadata": {}, 
          "source": [
            "boundary handling"
          ]
        }, 
        {
          "cell_type": "code", 
          "collapsed": false, 
          "input": [
            "X1 = mod(X1-1,n)+1\n", 
            "Y1 = mod(Y1-1,n)+1"
          ], 
          "language": "python", 
          "outputs": []
        }, 
        {
          "cell_type": "markdown", 
          "metadata": {}, 
          "source": [
            "interpolation"
          ]
        }, 
        {
          "cell_type": "code", 
          "collapsed": false, 
          "input": [
            "M2 = interp2(Y,X,M1,Y1,X1)\n", 
            "M2(isnan(M2)) = 0"
          ], 
          "language": "python", 
          "outputs": []
        }, 
        {
          "cell_type": "markdown", 
          "metadata": {}, 
          "source": [
            "\n", 
            "\n", 
            "Display the two images.\n", 
            ""
          ]
        }, 
        {
          "cell_type": "code", 
          "collapsed": false, 
          "input": [
            "\n", 
            "imageplot(M1, 'Frame #1', 1,2,1)\n", 
            "imageplot(M2, 'Frame #2', 1,2,2)"
          ], 
          "language": "python", 
          "outputs": []
        }, 
        {
          "cell_type": "markdown", 
          "metadata": {}, 
          "source": [
            "\n", 
            ""
          ]
        }, 
        {
          "cell_type": "heading", 
          "level": 2, 
          "metadata": {}, 
          "source": [
            "Optical Flow Computation with Regularization\n"
          ]
        }, 
        {
          "cell_type": "markdown", 
          "metadata": {}, 
          "source": [
            "A first approach to optical flow computation is to solve a ill posed\n", 
            "problem corresponding to the optical flow equation constraint\n", 
            "(consistency of gray level intensity when moving along the flow).\n", 
            "\n", 
            "\n", 
            "Compute the derivatives in time and space.\n", 
            ""
          ]
        }, 
        {
          "cell_type": "code", 
          "collapsed": false, 
          "input": [
            "global D\n", 
            "Dt = M1-M2\n", 
            "D = grad(M1)"
          ], 
          "language": "python", 
          "outputs": []
        }, 
        {
          "cell_type": "markdown", 
          "metadata": {}, 
          "source": [
            "\n", 
            "\n", 
            "Display them.\n", 
            ""
          ]
        }, 
        {
          "cell_type": "code", 
          "collapsed": false, 
          "input": [
            "\n", 
            "imageplot(Dt, 'd/dt', 1,3,1)\n", 
            "imageplot(D(:,:,1), 'd/dx', 1,3,2)\n", 
            "imageplot(D(:,:,2), 'd/dy', 1,3,3)"
          ], 
          "language": "python", 
          "outputs": []
        }, 
        {
          "cell_type": "markdown", 
          "metadata": {}, 
          "source": [
            "\n", 
            "\n", 
            "The optical flow constraint asks for consistency of gray levels when moving\n", 
            "along the flow |v=[v1,v2]|. This is written as a linear equation\n", 
            "\n", 
            "\n", 
            "|Dt + v1.*D1 + v2.*D2=0|\n", 
            "\n", 
            "\n", 
            "This equation does not constrain enough the flow (one equation for two\n", 
            "unknown). One thus needs to add other constraints, and this is achieved\n", 
            "by performing a Sobolev regularization, as first proposed by Horn and\n", 
            "Schunck in the paper:\n", 
            "\n", 
            "\n", 
            "Horn, B.K.P., and Schunck, B.G.,\n", 
            "_Determining Optical Flow_, AI(17), No. 1-3, August 1981, pp. 185-203\n", 
            "\n", 
            "\n", 
            "\n", 
            "This corresponds to a quadratic regularization with a Sobolev prior:\n", 
            "\n", 
            "\n", 
            "\n", 
            "|min_{v} norm(Dt + v1.*D1 + v2.*D2)^2 + lambda*norm(grad(v1))^2  + lambda*norm(grad(v2))^2|\n", 
            "\n", 
            "\n", 
            "Its solution is computed by solving a linear system resolution, which sets to zero the gradient of the functional.\n", 
            "It can be computed using a gradient descent, or, better, a conjugate gradient descent.\n", 
            "We first detail the gradient descent, and shows that is not very\n", 
            "efficient.\n", 
            "\n", 
            "\n", 
            "Regularization strength.\n", 
            ""
          ]
        }, 
        {
          "cell_type": "code", 
          "collapsed": false, 
          "input": [
            "global lambda\n", 
            "lambda = .1"
          ], 
          "language": "python", 
          "outputs": []
        }, 
        {
          "cell_type": "markdown", 
          "metadata": {}, 
          "source": [
            "\n", 
            "\n", 
            "\n", 
            "Gradient step size.\n", 
            ""
          ]
        }, 
        {
          "cell_type": "code", 
          "collapsed": false, 
          "input": [
            "tau = .2"
          ], 
          "language": "python", 
          "outputs": []
        }, 
        {
          "cell_type": "markdown", 
          "metadata": {}, 
          "source": [
            "\n", 
            "\n", 
            "Initialization.\n", 
            ""
          ]
        }, 
        {
          "cell_type": "code", 
          "collapsed": false, 
          "input": [
            "v = zeros(n,n,2)"
          ], 
          "language": "python", 
          "outputs": []
        }, 
        {
          "cell_type": "markdown", 
          "metadata": {}, 
          "source": [
            "\n", 
            "\n", 
            "Compute the gradient of the functional.\n", 
            "First compute |Dt+v1*D1+v2*D2|\n", 
            ""
          ]
        }, 
        {
          "cell_type": "code", 
          "collapsed": false, 
          "input": [
            "U = Dt + sum(v.*D,3)"
          ], 
          "language": "python", 
          "outputs": []
        }, 
        {
          "cell_type": "markdown", 
          "metadata": {}, 
          "source": [
            "\n", 
            "\n", 
            "Then compute the Laplacian |L(:,:,k)| of each channel |v(:,:,k)| of the vector field\n", 
            ""
          ]
        }, 
        {
          "cell_type": "code", 
          "collapsed": false, 
          "input": [
            "L = cat(3, div(grad(v(:,:,1))), div(grad(v(:,:,2))))"
          ], 
          "language": "python", 
          "outputs": []
        }, 
        {
          "cell_type": "markdown", 
          "metadata": {}, 
          "source": [
            "\n", 
            "\n", 
            "And gather everything together to build the gradient of the functional.\n", 
            ""
          ]
        }, 
        {
          "cell_type": "code", 
          "collapsed": false, 
          "input": [
            "G = D.*repmat(U, [1 1 2])  - lambda * L"
          ], 
          "language": "python", 
          "outputs": []
        }, 
        {
          "cell_type": "markdown", 
          "metadata": {}, 
          "source": [
            "\n", 
            "\n", 
            "Perform the descent.\n", 
            ""
          ]
        }, 
        {
          "cell_type": "code", 
          "collapsed": false, 
          "input": [
            "v = v - tau*G"
          ], 
          "language": "python", 
          "outputs": []
        }, 
        {
          "cell_type": "heading", 
          "level": 3, 
          "metadata": {}, 
          "source": [
            "Exercise 1"
          ]
        }, 
        {
          "cell_type": "markdown", 
          "metadata": {}, 
          "source": [
            "\n", 
            "Perform the gradient descent of the energy, and display the decay of the\n", 
            "energy.\n", 
            "\n", 
            "\n", 
            "\n", 
            "\n", 
            "\n", 
            "\n", 
            "\n", 
            "\n", 
            "\n", 
            "\n", 
            "\n", 
            "\n", 
            "\n", 
            ""
          ]
        }, 
        {
          "cell_type": "code", 
          "collapsed": false, 
          "input": [
            "## Insert your code here."
          ], 
          "language": "python", 
          "outputs": []
        }, 
        {
          "cell_type": "markdown", 
          "metadata": {}, 
          "source": [
            "\n", 
            "\n", 
            "\n", 
            "A much faster algorithm is the conjugate gradient. Several variant are\n", 
            "implemented within matlab, and can be used by implementing a callback\n", 
            "function.\n", 
            "\n", 
            "\n", 
            "Set up parameters for the CG algorithm (tolerance and maximum number of\n", 
            "iterations.\n", 
            ""
          ]
        }, 
        {
          "cell_type": "code", 
          "collapsed": false, 
          "input": [
            "tol = 1e-5\n", 
            "maxit = 200"
          ], 
          "language": "python", 
          "outputs": []
        }, 
        {
          "cell_type": "markdown", 
          "metadata": {}, 
          "source": [
            "\n", 
            "\n", 
            "Right hand side of the linear system.\n", 
            ""
          ]
        }, 
        {
          "cell_type": "code", 
          "collapsed": false, 
          "input": [
            "b = -D.*cat(3,Dt,Dt)"
          ], 
          "language": "python", 
          "outputs": []
        }, 
        {
          "cell_type": "markdown", 
          "metadata": {}, 
          "source": [
            "\n", 
            "\n", 
            "Resolution by conjugate gradient.\n", 
            ""
          ]
        }, 
        {
          "cell_type": "code", 
          "collapsed": false, 
          "input": [
            "[v,flag,relres,it,resvec] = cgs(@callback_optical_flow,b(:),tol,maxit)\n", 
            "v = reshape(v, [n n 2])"
          ], 
          "language": "python", 
          "outputs": []
        }, 
        {
          "cell_type": "markdown", 
          "metadata": {}, 
          "source": [
            "\n", 
            "\n", 
            "Display the flow as a color image and as arrows.\n", 
            ""
          ]
        }, 
        {
          "cell_type": "code", 
          "collapsed": false, 
          "input": [
            "\n", 
            "imageplot(v, '', 1,2,1)\n", 
            "subplot(1,2,2)\n", 
            "w = 12; m = ceil(n/w)\n", 
            "t = w/2 + ((0:m-1)*w)\n", 
            "[V,U] = meshgrid(t,t)\n", 
            "hold on\n", 
            "imageplot(M1)\n", 
            "quiver(t,t,v(1:w:n,1:w:n,2), v(1:w:n,1:w:n,1))\n", 
            "axis('ij')"
          ], 
          "language": "python", 
          "outputs": []
        }, 
        {
          "cell_type": "markdown", 
          "metadata": {}, 
          "source": [
            "\n", 
            "\n", 
            "Compute the image warped along the flow.\n", 
            "\n", 
            "compute the grid, translated along the flow"
          ]
        }, 
        {
          "cell_type": "code", 
          "collapsed": false, 
          "input": [
            "[Y,X] = meshgrid(1:n,1:n)\n", 
            "X = clamp(X+v(:,:,1),1,n)\n", 
            "Y = clamp(Y+v(:,:,2),1,n)"
          ], 
          "language": "python", 
          "outputs": []
        }, 
        {
          "cell_type": "markdown", 
          "metadata": {}, 
          "source": [
            "compute the first fame, translated along the flow"
          ]
        }, 
        {
          "cell_type": "code", 
          "collapsed": false, 
          "input": [
            "Ms = interp2( 1:n,1:n, M1, Y,X )"
          ], 
          "language": "python", 
          "outputs": []
        }, 
        {
          "cell_type": "markdown", 
          "metadata": {}, 
          "source": [
            "\n", 
            "\n", 
            "One can compare the residual with and without the flow\n", 
            "\n", 
            "residual without flow"
          ]
        }, 
        {
          "cell_type": "code", 
          "collapsed": false, 
          "input": [
            "R0 = M2-M1"
          ], 
          "language": "python", 
          "outputs": []
        }, 
        {
          "cell_type": "markdown", 
          "metadata": {}, 
          "source": [
            "residual along the flow"
          ]
        }, 
        {
          "cell_type": "code", 
          "collapsed": false, 
          "input": [
            "R = Ms-M1"
          ], 
          "language": "python", 
          "outputs": []
        }, 
        {
          "cell_type": "markdown", 
          "metadata": {}, 
          "source": [
            "ensure same dynamic range (just for display)"
          ]
        }, 
        {
          "cell_type": "code", 
          "collapsed": false, 
          "input": [
            "v = max( [max(abs(R0(:))) max(abs(R(:)))] )\n", 
            "R(1)=v; R(2)=-v; R0(1)=v; R0(2)=-v"
          ], 
          "language": "python", 
          "outputs": []
        }, 
        {
          "cell_type": "markdown", 
          "metadata": {}, 
          "source": [
            "display"
          ]
        }, 
        {
          "cell_type": "code", 
          "collapsed": false, 
          "input": [
            "\n", 
            "imageplot(R0, 'Residual without flow', 1,2,1)\n", 
            "imageplot(R, 'Residual with flow', 1,2,2)"
          ], 
          "language": "python", 
          "outputs": []
        }, 
        {
          "cell_type": "markdown", 
          "metadata": {}, 
          "source": [
            "\n", 
            ""
          ]
        }, 
        {
          "cell_type": "heading", 
          "level": 2, 
          "metadata": {}, 
          "source": [
            "Optical Flow Computation with Block Matching\n"
          ]
        }, 
        {
          "cell_type": "markdown", 
          "metadata": {}, 
          "source": [
            "A second approach to compute the optical flow is to perform local block\n", 
            "matching, as first proposed by Lucas and Kanade in\n", 
            "\n", 
            "\n", 
            "Lucas B D and Kanade T,\n", 
            "_An iterative image registration technique with an application to stereo vision_\n", 
            "Proceedings of Imaging understanding workshop, pp 121-130, 1981.\n", 
            "\n", 
            "\n", 
            "The advantage is that this is more precise than the global Horn/Schunck\n", 
            "method, and it might also be faster (no iterative scheme is needed). The\n", 
            "desadvantage is that it does not regularize the flow in flat region.\n", 
            "\n", 
            "An optical flow is a vector field that describes\n", 
            "the movement between to\n", 
            "consecutive frames of the video.\n", 
            "\n", 
            "\n", 
            "The flow can be computed by block matching. A block of |(2*k+1,2*k+1)|\n", 
            "pixels in frame 1 around a location |(x,y)| is compared to the blocks at locations\n", 
            "|(x+dx,y+dy)| for |-q<=dy,dx<=q| in the frame 2.\n", 
            "\n", 
            "width of the block"
          ]
        }, 
        {
          "cell_type": "code", 
          "collapsed": false, 
          "input": [
            "w = 8"
          ], 
          "language": "python", 
          "outputs": []
        }, 
        {
          "cell_type": "markdown", 
          "metadata": {}, 
          "source": [
            "search width"
          ]
        }, 
        {
          "cell_type": "code", 
          "collapsed": false, 
          "input": [
            "q = 4"
          ], 
          "language": "python", 
          "outputs": []
        }, 
        {
          "cell_type": "markdown", 
          "metadata": {}, 
          "source": [
            "sub-pixelic search if <1"
          ]
        }, 
        {
          "cell_type": "code", 
          "collapsed": false, 
          "input": [
            "dq = .5"
          ], 
          "language": "python", 
          "outputs": []
        }, 
        {
          "cell_type": "markdown", 
          "metadata": {}, 
          "source": [
            "\n", 
            "\n", 
            "Number of flow vector is |m^2|.\n", 
            ""
          ]
        }, 
        {
          "cell_type": "code", 
          "collapsed": false, 
          "input": [
            "m = ceil(n/w)"
          ], 
          "language": "python", 
          "outputs": []
        }, 
        {
          "cell_type": "markdown", 
          "metadata": {}, 
          "source": [
            "\n", 
            "\n", 
            "Precompute movements vectors.\n", 
            ""
          ]
        }, 
        {
          "cell_type": "code", 
          "collapsed": false, 
          "input": [
            "[X0,Y0,dX,dY] = ndgrid( 0:w-1, 0:w-1, -q:dq:q,-q:dq:q)\n", 
            "[dy,dx] = meshgrid(-q:dq:q,-q:dq:q)"
          ], 
          "language": "python", 
          "outputs": []
        }, 
        {
          "cell_type": "markdown", 
          "metadata": {}, 
          "source": [
            "\n", 
            "\n", 
            "Start with empty optical flow. Each |f=F(x,y,:)| is a 2D vector mapping the\n", 
            "patch at location |(x,y)| to the patch |(x+f(1),y+f(2)|.\n", 
            ""
          ]
        }, 
        {
          "cell_type": "code", 
          "collapsed": false, 
          "input": [
            "F = zeros(n,n,2)"
          ], 
          "language": "python", 
          "outputs": []
        }, 
        {
          "cell_type": "markdown", 
          "metadata": {}, 
          "source": [
            "\n", 
            "\n", 
            "Example of block number for wich the flow is computed. Each index should\n", 
            "be less than |m|\n", 
            ""
          ]
        }, 
        {
          "cell_type": "code", 
          "collapsed": false, 
          "input": [
            "i = 3; j = 40"
          ], 
          "language": "python", 
          "outputs": []
        }, 
        {
          "cell_type": "markdown", 
          "metadata": {}, 
          "source": [
            "\n", 
            "\n", 
            "Pixel numbers.\n", 
            ""
          ]
        }, 
        {
          "cell_type": "code", 
          "collapsed": false, 
          "input": [
            "x = (i-1)*w+1\n", 
            "y = (j-1)*w+1"
          ], 
          "language": "python", 
          "outputs": []
        }, 
        {
          "cell_type": "markdown", 
          "metadata": {}, 
          "source": [
            "\n", 
            "\n", 
            "Block pixels index.\n", 
            ""
          ]
        }, 
        {
          "cell_type": "code", 
          "collapsed": false, 
          "input": [
            "selx = clamp( (i-1)*w+1:i*w, 1,n)\n", 
            "sely = clamp( (j-1)*w+1:j*w, 1,n)"
          ], 
          "language": "python", 
          "outputs": []
        }, 
        {
          "cell_type": "markdown", 
          "metadata": {}, 
          "source": [
            "\n", 
            "\n", 
            "A special care should be taken at the boundary : we simply clamp values\n", 
            "outside boundaries\n", 
            ""
          ]
        }, 
        {
          "cell_type": "code", 
          "collapsed": false, 
          "input": [
            "X = clamp(x + X0 + dX,1,n)\n", 
            "Y = clamp(y + Y0 + dY,1,n)"
          ], 
          "language": "python", 
          "outputs": []
        }, 
        {
          "cell_type": "markdown", 
          "metadata": {}, 
          "source": [
            "\n", 
            "\n", 
            "Compute base patch of |M2| at which the flow is computed.\n", 
            ""
          ]
        }, 
        {
          "cell_type": "code", 
          "collapsed": false, 
          "input": [
            "P2 = M2(selx,sely)"
          ], 
          "language": "python", 
          "outputs": []
        }, 
        {
          "cell_type": "markdown", 
          "metadata": {}, 
          "source": [
            "\n", 
            "\n", 
            "Compute patches of |M1| that are matched. Use interpolation to handle non\n", 
            "indeger pixel indexes.\n", 
            ""
          ]
        }, 
        {
          "cell_type": "code", 
          "collapsed": false, 
          "input": [
            "P1 = interp2( 1:n,1:n, M1, Y,X )"
          ], 
          "language": "python", 
          "outputs": []
        }, 
        {
          "cell_type": "markdown", 
          "metadata": {}, 
          "source": [
            "\n", 
            "\n", 
            "Compute the distance between |P1| and all the patches of |P2|.\n", 
            ""
          ]
        }, 
        {
          "cell_type": "code", 
          "collapsed": false, 
          "input": [
            "d = sum(sum( (P1-repmat(P2,[1 1 size(P1,3) size(P1,4)])).^2 ) )"
          ], 
          "language": "python", 
          "outputs": []
        }, 
        {
          "cell_type": "markdown", 
          "metadata": {}, 
          "source": [
            "\n", 
            "\n", 
            "Compute best match and report its value.\n", 
            ""
          ]
        }, 
        {
          "cell_type": "code", 
          "collapsed": false, 
          "input": [
            "[tmp,I] = compute_min(d(:))\n", 
            "F(selx,sely,1) = dx(I)\n", 
            "F(selx,sely,2) = dy(I)"
          ], 
          "language": "python", 
          "outputs": []
        }, 
        {
          "cell_type": "markdown", 
          "metadata": {}, 
          "source": [
            "\n", 
            ""
          ]
        }, 
        {
          "cell_type": "heading", 
          "level": 3, 
          "metadata": {}, 
          "source": [
            "Exercise 2"
          ]
        }, 
        {
          "cell_type": "markdown", 
          "metadata": {}, 
          "source": [
            "\n", 
            "Compute the whole optical flow |F|, by cycling through the pixels.\n", 
            "\n", 
            "\n", 
            "\n", 
            "\n", 
            "\n", 
            "\n", 
            "\n", 
            "\n", 
            "\n", 
            "\n", 
            "\n", 
            "\n", 
            "\n", 
            "\n", 
            "\n", 
            "\n", 
            "\n", 
            "\n", 
            "\n", 
            ""
          ]
        }, 
        {
          "cell_type": "code", 
          "collapsed": false, 
          "input": [
            "## Insert your code here."
          ], 
          "language": "python", 
          "outputs": []
        }, 
        {
          "cell_type": "markdown", 
          "metadata": {}, 
          "source": [
            "\n", 
            "\n", 
            "\n", 
            "Display the flow as a color image and as arrows.\n", 
            ""
          ]
        }, 
        {
          "cell_type": "code", 
          "collapsed": false, 
          "input": [
            "\n", 
            "imageplot(F, '', 1,2,1)\n", 
            "subplot(1,2,2)\n", 
            "t = w/2 + ((0:m-1)*w)\n", 
            "[V,U] = meshgrid(t,t)\n", 
            "hold on\n", 
            "imageplot(M1)\n", 
            "quiver(t,t,F(1:w:n,1:w:n,2), F(1:w:n,1:w:n,1))\n", 
            "axis('ij')"
          ], 
          "language": "python", 
          "outputs": []
        }, 
        {
          "cell_type": "markdown", 
          "metadata": {}, 
          "source": [
            "\n", 
            "\n", 
            ""
          ]
        }, 
        {
          "cell_type": "heading", 
          "level": 2, 
          "metadata": {}, 
          "source": [
            "Residual Computation\n"
          ]
        }, 
        {
          "cell_type": "markdown", 
          "metadata": {}, 
          "source": [
            "The optical flow |F| allows one to compute the residual |R| between frame |M2|\n", 
            "and an extrapolated version of |M1| along the flow |F|.\n", 
            "\n", 
            "\n", 
            "One can translate the first frame |M1| along the flow |F|.\n", 
            "\n", 
            "compute the grid, translated along the flow"
          ]
        }, 
        {
          "cell_type": "code", 
          "collapsed": false, 
          "input": [
            "[Y,X] = meshgrid(1:n,1:n)\n", 
            "X = clamp(X+F(:,:,1),1,n)\n", 
            "Y = clamp(Y+F(:,:,2),1,n)"
          ], 
          "language": "python", 
          "outputs": []
        }, 
        {
          "cell_type": "markdown", 
          "metadata": {}, 
          "source": [
            "compute the first fame, translated along the flow"
          ]
        }, 
        {
          "cell_type": "code", 
          "collapsed": false, 
          "input": [
            "Ms = interp2( 1:n,1:n, M1, Y,X )"
          ], 
          "language": "python", 
          "outputs": []
        }, 
        {
          "cell_type": "markdown", 
          "metadata": {}, 
          "source": [
            "\n", 
            "\n", 
            "One can compare the residual with and without the flow\n", 
            "\n", 
            "residual without flow"
          ]
        }, 
        {
          "cell_type": "code", 
          "collapsed": false, 
          "input": [
            "R0 = M2-M1"
          ], 
          "language": "python", 
          "outputs": []
        }, 
        {
          "cell_type": "markdown", 
          "metadata": {}, 
          "source": [
            "residual along the flow"
          ]
        }, 
        {
          "cell_type": "code", 
          "collapsed": false, 
          "input": [
            "R = M2-Ms"
          ], 
          "language": "python", 
          "outputs": []
        }, 
        {
          "cell_type": "markdown", 
          "metadata": {}, 
          "source": [
            "ensure same dynamic range (just for display)"
          ]
        }, 
        {
          "cell_type": "code", 
          "collapsed": false, 
          "input": [
            "v = max( [max(abs(R0(:))) max(abs(R(:)))] )\n", 
            "R(1)=v; R(2)=-v; R0(1)=v; R0(2)=-v"
          ], 
          "language": "python", 
          "outputs": []
        }, 
        {
          "cell_type": "markdown", 
          "metadata": {}, 
          "source": [
            "display"
          ]
        }
      ]
    }
  ]
}