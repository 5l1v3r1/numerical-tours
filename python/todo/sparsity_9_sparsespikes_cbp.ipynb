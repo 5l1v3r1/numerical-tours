{
  "metadata": {
    "name": ""
  }, 
  "nbformat": 3, 
  "nbformat_minor": 0, 
  "worksheets": [
    {
      "cells": [
        {
          "cell_type": "heading", 
          "level": 1, 
          "metadata": {}, 
          "source": [
            "Sparse Spikes Deconvolution with Continuous Basis-Pursuit"
          ]
        }, 
        {
          "cell_type": "markdown", 
          "metadata": {}, 
          "source": [
            "This numerical tour explores the use of the\n", 
            "continuous Basis-Pursuit (C-BP) method to perform sparse deconvolution.\n", 
            "This method was proposed in <#biblio [Ekanadham11]>.\n", 
            ""
          ]
        }, 
        {
          "cell_type": "markdown", 
          "metadata": {}, 
          "source": [
            "*Important:* You need to download the file `nt_toolbox.py` from the \n", 
            "root of the github repository.\n", 
            "$\\newcommand{\\dotp}[2]{\\langle #1, #2 \\rangle}\n", 
            "\\newcommand{\\enscond}[2]{\\lbrace #1, #2 \\rbrace}\n", 
            "\\newcommand{\\pd}[2]{ \\frac{ \\partial #1}{\\partial #2} }\n", 
            "\\newcommand{\\umin}[1]{\\underset{#1}{\\min}\\;}\n", 
            "\\newcommand{\\norm}[1]{\\|#1\\|}\n", 
            "\\newcommand{\\abs}[1]{\\left|#1\\right|}\n", 
            "\\newcommand{\\choice}[1]{ \\left\\{  \\begin{array}{l} #1 \\end{array} \\right. }\n", 
            "\\newcommand{\\pa}[1]{\\left(#1\\right)}\n", 
            "\\newcommand{\\qandq}{\\quad\\text{and}\\quad}\n", 
            "\\newcommand{\\qwhereq}{\\quad\\text{where}\\quad}\n", 
            "\\newcommand{\\qifq}{ \\quad \\text{if} \\quad }\n", 
            "\\newcommand{\\qarrq}{ \\quad \\Longrightarrow \\quad }\n", 
            "\\newcommand{\\ZZ}{\\mathbb{Z}}\n", 
            "\\newcommand{\\RR}{\\mathbb{R}}\n", 
            "\\newcommand{\\Nn}{\\mathcal{N}}\n", 
            "\\newcommand{\\Hh}{\\mathcal{H}}\n", 
            "\\newcommand{\\Bb}{\\mathcal{B}}\n", 
            "\\newcommand{\\EE}{\\mathbb{E}}\n", 
            "\\newcommand{\\CC}{\\mathbb{C}}\n", 
            "\\newcommand{\\si}{\\sigma}\n", 
            "\\newcommand{\\al}{\\alpha}\n", 
            "\\newcommand{\\la}{\\lambda}\n", 
            "\\newcommand{\\ga}{\\gamma}\n", 
            "\\newcommand{\\Ga}{\\Gamma}\n", 
            "\\newcommand{\\La}{\\Lambda}\n", 
            "\\newcommand{\\si}{\\sigma}\n", 
            "\\newcommand{\\Si}{\\Sigma}\n", 
            "\\newcommand{\\be}{\\beta}\n", 
            "\\newcommand{\\de}{\\delta}\n", 
            "\\newcommand{\\De}{\\Delta}\n", 
            "\\renewcommand{\\phi}{\\varphi}\n", 
            "\\renewcommand{\\th}{\\theta}\n", 
            "\\newcommand{\\om}{\\omega}\n", 
            "\\newcommand{\\Om}{\\Omega}\n", 
            "$"
          ]
        }, 
        {
          "cell_type": "code", 
          "collapsed": false, 
          "input": [
            "from nt_toolbox import *", 
            "%matplotlib inline", 
            "%load_ext autoreload", 
            "%autoreload 2"
          ], 
          "language": "python", 
          "outputs": []
        }, 
        {
          "cell_type": "heading", 
          "level": 2, 
          "metadata": {}, 
          "source": [
            "Sparse Spikes Deconvolution\n"
          ]
        }, 
        {
          "cell_type": "markdown", 
          "metadata": {}, 
          "source": [
            "We consider the problem of estimating an unknown Radon measure $m_0 \\in \\Mm(\\mathbb{T})$ from low-resolution noisy observations\n", 
            "$$\n", 
            "      y=\\Phi(m_0)+w_0 \\in L^2(\\mathbb{T})\n", 
            "$$\n", 
            "where $ w_0 \\in L^2(\\mathbb{T})$ is some measurement noise, and\n", 
            "$ \\Phi : \\Mm(\\mathbb{T}) \\rightarrow L^2(\\mathbb{T}) $ is a convolution operator\n", 
            "operator with a smooth kernel $ \\phi \\in C^2(\\mathbb{T}) $, i.e.\n", 
            "$$\n", 
            "      \\forall x \\in \\mathbb{T}, \\quad (\\Phi m)(x) = \\int_{\\mathbb{T}} \\phi(x - y) d m(y).\n", 
            "$$\n", 
            "We focus our attention here for simplicity on the compact 1-D domain\n", 
            "$\\mathbb{T}=\\RR/\\ZZ$ (i.e. an interval with periodic boundary conditions)\n", 
            "but the continuous basis-pursuit method can be extended to higher dimensional settings.\n", 
            "\n", 
            "\n", 
            "In order to recover sparse measures (i.e. sums of Diracs),\n", 
            "it makes sense to consider the following regularization (sometimes called\n", 
            "BLASSO for Beurling LASSO in <#biblio [deCastroGamboa12]>)\n", 
            "$$ \\umin{m \\in \\Mm(\\mathbb{T})} \\frac{1}{2}\\norm{y-\\Phi(m)}^2 + \\la \\abs{m}(\\mathbb{T}) $$\n", 
            "where $\\abs{m}(\\mathbb{T})$ is the total variation of the measure $m$, defined as\n", 
            "$$ \\abs{m}(\\mathbb{T}) =\n", 
            "  \\sup \\enscond{ \\int_{\\mathbb{T}} g(x) d m(x) }{ g \\in \\Cc(\\mathbb{T}), \\: \\normi{g} \\leq 1 }.$$\n", 
            "This formulation of the recovery of sparse Radon measures has recently\n", 
            "received lots of attention in the literature, see for instance the works\n", 
            "of <#biblio [CandesFernandezGranda13,deCastroGamboa12,DuvalPeyre13]>.\n", 
            "\n", 
            "\n", 
            "The BLASSO optimization problem is convex but infinite\n", 
            "dimensional, and while there exists solvers when $\\Phi$\n", 
            "is measuring a finite number of Fourier frequency\n", 
            "(see <#biblio [CandesFernandezGranda13]>, and the related Numerical Tour\n", 
            "\"Sparse Spikes Deconvolution over the Space of Measures\"),\n", 
            "they are do not scale well with the number of frequencies.\n", 
            "The vast majority of practitioners thus approximate the recovery over arbitrary\n", 
            "measures by a finite dimensional problem computed over a finite\n", 
            "grid $z = (z_i)_i \\in \\mathbb{T}^N$,\n", 
            "by restricting their attention to measures of the form\n", 
            "$$ m_{a,z} = \\sum_{i=1}^N a_i \\de_{z_i} \\in \\Mm(\\mathbb{T}).\n", 
            "$$\n", 
            " For such a discrete measure, one has $ \\abs{m_{a,z}}(\\mathbb{T}) = \\norm{a}_1$,\n", 
            "which can be interpreted as the fact that $\\abs{\\cdot}(\\mathbb{T})$ is the natural extension of\n", 
            "the $\\ell^1$ norm from finite dimensional vectors to infinite dimensional space of measures.\n", 
            "Inserting this parameterization inside the BLASSO leads to the celebrated Basis-Pursuit problem\n", 
            "<#biblio [Chen99]>,\n", 
            "$$ \\umin{a \\in \\RR^N} \\frac{1}{2}\\norm{y-\\Phi_z a}^2 + \\la \\norm{a}_1.\n", 
            "$$\n", 
            "where in the following we make use of the notations\n", 
            "$$ \\Phi_z a = \\sum_{i=1}^N a_i \\phi(\\cdot-z_i),\n", 
            "$$\n", 
            "$$ \\Phi_z' b = \\sum_{i=1}^N b_i \\phi'(\\cdot-z_i).\n", 
            "$$\n", 
            "One can understand the BP problem as performing a nearest neighbor interpolation of the Dirac's locations.\n", 
            ""
          ]
        }, 
        {
          "cell_type": "heading", 
          "level": 2, 
          "metadata": {}, 
          "source": [
            "Continuous Basis-Pursuit\n"
          ]
        }, 
        {
          "cell_type": "markdown", 
          "metadata": {}, 
          "source": [
            "To obtain a better approximation of the infinite dimensional problem, <#biblio [Ekanadham11]>\n", 
            "proposes to perform a first order approximation of the kernel.\n", 
            "This method assumes that the measures are positive.\n", 
            "\n", 
            "\n", 
            "To ease the exposition, we consider an uniform grid $z_i=i/N$ of $N$ points, so that\n", 
            "the grid size is $\\De=1/N$.\n", 
            "The C-BP method solves\n", 
            "$$ \\umin{(a,b) \\in \\RR^N \\times \\RR^N} \\norm{ y - \\Phi_z a - \\frac{\\De}{2} \\Phi'_z b }^2 + \\la \\norm{a}_1 $$\n", 
            "subject to\n", 
            "$$ \\abs{b} \\leq a \\qandq a \\geq 0\n", 
            "$$\n", 
            "where the constraint inequalities should be understood to hold\n", 
            "coordinate-wise.\n", 
            "This is a convex optimization problem, which can be solved using traditional\n", 
            "conic optimization methods. We detail in this tour\n", 
            "a simple proximal splitting scheme which can be used.\n", 
            "\n", 
            "\n", 
            "If $(a^\\star,b^\\star)$ are solutions of C-BP, one recovers\n", 
            "an output discrete measure defined by\n", 
            "$$ m^\\star = \\sum_{a^\\star_i \\neq 0}a^\\star_i \\de_{x_i^\\star} \\qwhereq x_i^\\star = z_i + \\frac{\\De b_i^\\star}{2 a_i^\\star} .\n", 
            "$$\n", 
            "The rationale behind C-BP is to perform a first order Taylor approximation of the\n", 
            "kernel $\\Phi$, where the variable $\\tau_i =  \\De b_i /(2 a_i) \\in [-\\De/2,\\De/2]$\n", 
            "encodes the horizontal shift of the Dirac location with respect to the grid sample $z_i$.\n", 
            "The landmark idea introduced in <#biblio [Ekanadham11]>is that, while the optimization\n", 
            "is non-convex with respect to $\\tau$, it is convex with respect to $b$.\n", 
            ""
          ]
        }, 
        {
          "cell_type": "heading", 
          "level": 2, 
          "metadata": {}, 
          "source": [
            "Convolution Operators \n"
          ]
        }, 
        {
          "cell_type": "markdown", 
          "metadata": {}, 
          "source": [
            "\n", 
            "\n", 
            "\n", 
            "We define continuous kernel, defined on $ [0,1] $, and select here\n", 
            "Gaussian kernels\n", 
            "$$ \\phi(t) = \\exp\\pa{ - \\frac{t^2}{2\\sigma^2} },  $$\n", 
            "$$ \\phi'(t) = -\\frac{t}{\\sigma^2} \\exp\\pa{ - \\frac{t^2}{2\\sigma^2} }.  $$\n", 
            ""
          ]
        }, 
        {
          "cell_type": "code", 
          "collapsed": false, 
          "input": [
            "sigma = .03\n", 
            "phi  = lambda t: exp(-t.^2/(2*sigma^2))\n", 
            "phi1 = lambda t: -t/(sigma^2).*exp(-t.^2/(2*sigma^2))"
          ], 
          "language": "python", 
          "outputs": []
        }, 
        {
          "cell_type": "markdown", 
          "metadata": {}, 
          "source": [
            "\n", 
            "\n", 
            "Set the discretization size $\\De = 1/N$.\n", 
            ""
          ]
        }, 
        {
          "cell_type": "code", 
          "collapsed": false, 
          "input": [
            "N = 32\n", 
            "Delta = 1/N"
          ], 
          "language": "python", 
          "outputs": []
        }, 
        {
          "cell_type": "markdown", 
          "metadata": {}, 
          "source": [
            "\n", 
            "\n", 
            "We discribed the method using continuous observation $y \\in\n", 
            "L^2(\\mathbb{T})$. In fact, it can be applied to a discretized obervation\n", 
            "space as well. We set $P$ to be the number of observation points.\n", 
            ""
          ]
        }, 
        {
          "cell_type": "code", 
          "collapsed": false, 
          "input": [
            "rho = 64\n", 
            "P = N*rho"
          ], 
          "language": "python", 
          "outputs": []
        }, 
        {
          "cell_type": "markdown", 
          "metadata": {}, 
          "source": [
            "\n", 
            "\n", 
            "Useful helpers: computer periodic convolutions, and adjoint of convolution\n", 
            "(i.e. convolution with the time-reversed kernel).\n", 
            ""
          ]
        }, 
        {
          "cell_type": "code", 
          "collapsed": false, 
          "input": [
            "convol  = lambda x,h: real(ifft(fft(x).*fft(h)))\n", 
            "convolS = lambda x,h: real(ifft(fft(x).*conj(fft(h))))"
          ], 
          "language": "python", 
          "outputs": []
        }, 
        {
          "cell_type": "markdown", 
          "metadata": {}, 
          "source": [
            "\n", 
            "\n", 
            "Up-sampling and down-sampling operator from the sampling to the observation\n", 
            "grid.\n", 
            ""
          ]
        }, 
        {
          "cell_type": "code", 
          "collapsed": false, 
          "input": [
            "upsample = lambda x,rho: upsampling(x,1,rho)\n", 
            "downsample = lambda y,rho: y(1:rho:end)"
          ], 
          "language": "python", 
          "outputs": []
        }, 
        {
          "cell_type": "markdown", 
          "metadata": {}, 
          "source": [
            "\n", 
            "\n", 
            "Observation grid and sampling grid.\n", 
            ""
          ]
        }, 
        {
          "cell_type": "code", 
          "collapsed": false, 
          "input": [
            "t = [0:P/2, -P/2+1:-1]' / P\n", 
            "t1 = (0:P-1)'/P"
          ], 
          "language": "python", 
          "outputs": []
        }, 
        {
          "cell_type": "markdown", 
          "metadata": {}, 
          "source": [
            "\n", 
            "\n", 
            "Discretize the filter on the observation grid.\n", 
            ""
          ]
        }, 
        {
          "cell_type": "code", 
          "collapsed": false, 
          "input": [
            "phi_d = phi(t)\n", 
            "phi1_d = phi1(t)"
          ], 
          "language": "python", 
          "outputs": []
        }, 
        {
          "cell_type": "markdown", 
          "metadata": {}, 
          "source": [
            "\n", 
            "\n", 
            "Operator $\\Phi_z$, $\\Phi_z^*$, $\\De/2 \\Phi_z'$, $(\\De/2 \\Phi_z')^{*}$,\n", 
            "$ \\Ga_z = [\\Phi_z, \\De/2 \\Phi_z'] $ and $\\Ga_z^*$.\n", 
            ""
          ]
        }, 
        {
          "cell_type": "code", 
          "collapsed": false, 
          "input": [
            "Phi  = lambda x: convol(upsample(x,rho),phi_d)\n", 
            "PhiS = lambda x: downsample(convolS(x,phi_d),rho)\n", 
            "Psi  = lambda s: convol(upsample(s,rho),phi1_d)*Delta/2\n", 
            "PsiS = lambda s: downsample(convolS(s,phi1_d),rho)*Delta/2\n", 
            "Gamma  = lambda u: Phi(u(:,1)) - Psi(u(:,2))\n", 
            "GammaS = lambda y: [PhiS(y), -PsiS(y)]"
          ], 
          "language": "python", 
          "outputs": []
        }, 
        {
          "cell_type": "markdown", 
          "metadata": {}, 
          "source": [
            "\n", 
            "\n", 
            "Generate the input signal $m_{a_0,x_0}$ composed of three spikes.\n", 
            "The variable $\\kappa \\in [0,1]$ controls the amount of shift between the locations\n", 
            "$x_0$ and the sampling grid. The larger $\\kappa$, the worse is the\n", 
            "approximation performed by C-BP. Setting $\\kappa$ close to 1 will make\n", 
            "C-BP fail to estimate correctly the number of spikes of the input\n", 
            "measure.\n", 
            ""
          ]
        }, 
        {
          "cell_type": "code", 
          "collapsed": false, 
          "input": [
            "k = 3; % number of spikes\n", 
            "kappa = .9\n", 
            "I = round( N/(2*k):N/k:N )\n", 
            "a0 = zeros(N,1); a0(I) = [.6 1 .8]\n", 
            "d0 = zeros(N,1); d0(I) = [-.2 1 -.7] * kappa\n", 
            "b0 = d0.*a0\n", 
            "x0 = (0:N-1)'/N + d0*Delta/2"
          ], 
          "language": "python", 
          "outputs": []
        }, 
        {
          "cell_type": "markdown", 
          "metadata": {}, 
          "source": [
            "\n", 
            "\n", 
            "Generate the true observations $y=\\Phi(m_{a_0,x_0})$. Note that here we\n", 
            "assume there is no noise, i.e. $w_0=0$. It is important to realize\n", 
            "that, even if there is no noise, when the spikes are off the grid, the\n", 
            "linear approximation made by C-BP (and of course also by BP) create an\n", 
            "error term which should be interpreted as noise. This thus necessitate\n", 
            "the use of a well-chosen value of $\\lambda$, which should scale like\n", 
            "$\\De^2$ (magnitude of the approximation error).\n", 
            ""
          ]
        }, 
        {
          "cell_type": "code", 
          "collapsed": false, 
          "input": [
            "y = zeros(P,1)\n", 
            "for i in 1:length(x0):\n", 
            "    T = t-x0(i); T = mod(T,1); T(T>.5) = T(T>.5)-1\n", 
            "    y = y + a0(i) * phi( T )\n", 
            ""
          ], 
          "language": "python", 
          "outputs": []
        }, 
        {
          "cell_type": "markdown", 
          "metadata": {}, 
          "source": [
            "\n", 
            "\n", 
            "Generate the basis pursuit approximation (quantification) $y=\\Phi_z\n", 
            "a_0$.\n", 
            ""
          ]
        }, 
        {
          "cell_type": "code", 
          "collapsed": false, 
          "input": [
            "y0 = Phi(a0)"
          ], 
          "language": "python", 
          "outputs": []
        }, 
        {
          "cell_type": "markdown", 
          "metadata": {}, 
          "source": [
            "\n", 
            "\n", 
            "Generate C-BP approximation (linear approximation) $y=\\Ga_z\n", 
            "(a_0,b_0)$.\n", 
            ""
          ]
        }, 
        {
          "cell_type": "code", 
          "collapsed": false, 
          "input": [
            "y1 = Gamma([a0 b0])"
          ], 
          "language": "python", 
          "outputs": []
        }, 
        {
          "cell_type": "markdown", 
          "metadata": {}, 
          "source": [
            "\n", 
            "\n", 
            "Display.\n", 
            ""
          ]
        }, 
        {
          "cell_type": "code", 
          "collapsed": false, 
          "input": [
            "lw = 2; msB = 30\n", 
            "mystem = lambda x,y, col: stem(x, y, [col '.--'], 'MarkerSize', msB, 'LineWidth', lw)\n", 
            "subplot(3,1,1); hold on\n", 
            "mystem(x0(I), a0(I), 'k'); box on\n", 
            "plot(t1, y, 'LineWidth', lw); axis tight; title('Observations')\n", 
            "subplot(3,1,2)\n", 
            "plot(t1, [y-y0 y-y1], 'LineWidth', lw); axis tight; title('0th order')\n", 
            "legend('0th order', '1st order')\n", 
            "subplot(3,1,3)\n", 
            "plot(t1, y-y1, 'g', 'LineWidth', lw); axis tight; title('1st order')"
          ], 
          "language": "python", 
          "outputs": []
        }, 
        {
          "cell_type": "heading", 
          "level": 2, 
          "metadata": {}, 
          "source": [
            "Proximal Operators for C-BP \n"
          ]
        }, 
        {
          "cell_type": "markdown", 
          "metadata": {}, 
          "source": [
            "For simplicity, we re-write the initial C-BP optimization problem as\n", 
            "follow.\n", 
            "The C-BP constraint set reads\n", 
            "$$  \\Cc =\\enscond{(a,b) \\in \\RR^N \\times \\RR^N}{ a \\geq 0 \\qandq \\abs{b} \\leq a}.\n", 
            "$$\n", 
            "We introduce the convex gauge $J$ such that\n", 
            "$$\\forall u = (a,b) \\in \\RR^{N} \\times \\RR^N, \\quad J(u) = \\norm{a}_1 + \\iota_{\\Cc}(u),\n", 
            "$$\n", 
            "and the linear operator $\\Gamma_z$ such that\n", 
            "$$ \\forall u = (a,b) \\in \\RR^{N} \\times \\RR^N, \\quad \\Ga_z u = \\Phi_z a + \\frac{\\De}{2} \\Phi_z' b.\n", 
            "$$\n", 
            "Then, we may conveniently rewrite the C-BP problem as\n", 
            "$$ \\umin{u \\in \\RR^{N} \\times \\RR^N} \\frac{1}{2}\\norm{y-\\Ga_z u}^2 + \\la J(u).\n", 
            "$$\n", 
            "\n", 
            "\n", 
            "The main ingredient to develop these schemes is the so-called proximal\n", 
            "operator associated to a proper lower semi-continuous convex function\n", 
            "$f : \\Hh \\rightarrow \\RR \\cup \\{+\\infty\\}$ (where $\\Hh$ is some Hilbert space)\n", 
            "$$ \\forall u \\in \\Hh, \\quad \\text{Prox}_{\\ga f}(u) = \\uargmin{u' \\in \\Hh}  \\frac{1}{2}\\norm{u-u'}^2 + \\ga f(u').\n", 
            "$$\n", 
            "\n", 
            "\n", 
            "One can note that the $J$ functional, defined on\n", 
            "$\\Hh=\\RR^N \\times \\RR^N$ can written as\n", 
            "$$J(a,b) = \\iota_{\\Cc}(a,b) + \\dotp{(a,b)}{\\xi}\n", 
            "$$\n", 
            "$$ \\qwhereq \\xi = (1,\\ldots,1, 0,\\ldots,0) \\in \\RR^N \\times \\RR^N $$\n", 
            "\n", 
            "\n", 
            "\n", 
            "It is thus the perturbation of $\\iota_{\\Cc}$ with a linear form.\n", 
            "This allows one to compute the proximal operator of the  $J$ functional as\n", 
            "$$ \\forall u \\in \\Hh, \\quad \\text{Prox}_{\\ga J}(u) = \\text{Proj}_\\Cc\\pa{ u - \\la \\xi }  $$\n", 
            "where $\\text{Proj}_\\Cc$ is the\n", 
            "orthogonal projector on the cone $\\Cc$.\n", 
            "\n", 
            "\n", 
            "It can be computed as\n", 
            "$$ \\forall u = (a,b) \\in \\Hh, \\quad \\text{Proj}_\\Cc(u) = (\\tilde a,\\tilde b)\n", 
            "$$\n", 
            "$$\\qwhereq  \\forall i=1,\\ldots,N, \\quad (\\tilde a_i,\\tilde b_i) = R^* ( R (a_i,b_i) )_+\n", 
            "$$\n", 
            "where $R \\in \\RR^{2 \\times 2}$ is the rotation of angle $\\pi/4$, and where we have noted\n", 
            "$$ \\forall (\\al,\\be) \\in \\RR^2, \\quad (\\al,\\be)_+ = (\\max(\\al,0),\\max(\\be,0))\n", 
            "$$\n", 
            ""
          ]
        }, 
        {
          "cell_type": "code", 
          "collapsed": false, 
          "input": [
            "C  = lambda u: u(:,2)+1i*u(:,1)\n", 
            "Ci = lambda v: [imag(v), real(v)]\n", 
            "ProjOct = lambda v: max(real(v),0) + 1i*max(imag(v),0)\n", 
            "ProjC = lambda u: Ci(exp(1i*pi/4)*ProjOct(exp(-1i*pi/4)*C(u)))"
          ], 
          "language": "python", 
          "outputs": []
        }, 
        {
          "cell_type": "markdown", 
          "metadata": {}, 
          "source": [
            "\n", 
            "\n", 
            "Callback for the proximal operator of $J$.\n", 
            ""
          ]
        }, 
        {
          "cell_type": "code", 
          "collapsed": false, 
          "input": [
            "ProxJ = lambda w,lambda: ProjC( w-[lambda*ones(size(w,1),1) zeros(size(w,1),1)] )"
          ], 
          "language": "python", 
          "outputs": []
        }, 
        {
          "cell_type": "heading", 
          "level": 2, 
          "metadata": {}, 
          "source": [
            "Numerical Resolution with Foward-Backward\n"
          ]
        }, 
        {
          "cell_type": "markdown", 
          "metadata": {}, 
          "source": [
            "Starting with an initial $u^{(0)} \\in \\Hh$, the forward-backward iterations\n", 
            "to solve C-BP reads\n", 
            "$$ u^{(\\ell+1)} = \\text{Prox}_{\\tau \\la J}( u^{(\\ell)} - \\tau \\Ga_z^* ( \\Ga_z u^{(\\ell)} - y ) ).\n", 
            "$$\n", 
            "For a step size satisfying $0 < \\tau < 2/\\norm{\\Ga_z}^2$, one can show that\n", 
            "$u^{(\\ell)} \\rightarrow u^\\star$ which is a solution of C-BP,\n", 
            "see for instance <#biblio [CombettesPesquet10]>.\n", 
            ""
          ]
        }, 
        {
          "cell_type": "heading", 
          "level": 3, 
          "metadata": {}, 
          "source": [
            "Exercise 1"
          ]
        }, 
        {
          "cell_type": "markdown", 
          "metadata": {}, 
          "source": [
            "\n", 
            "Compute the Lipschitz constant $L=\\norm{\\Ga_z}^2$. _Hint:_ you can use power iteration to estimate the largest eigenvalues\n", 
            "of $\\Ga_z^*\\Ga_z$. We display here the evolution of the estimate of this eigenvalue with the number of power iterations.\n", 
            "\n", 
            "\n", 
            "\n", 
            "\n", 
            "\n", 
            "\n", 
            "\n", 
            "\n", 
            "\n", 
            "\n", 
            "\n", 
            "\n", 
            ""
          ]
        }, 
        {
          "cell_type": "code", 
          "collapsed": false, 
          "input": [
            "## Insert your code here."
          ], 
          "language": "python", 
          "outputs": []
        }, 
        {
          "cell_type": "markdown", 
          "metadata": {}, 
          "source": [
            "\n", 
            "\n", 
            "\n", 
            "Regularization parameter $\\la$.\n", 
            ""
          ]
        }, 
        {
          "cell_type": "code", 
          "collapsed": false, 
          "input": [
            "lambda = 40"
          ], 
          "language": "python", 
          "outputs": []
        }, 
        {
          "cell_type": "markdown", 
          "metadata": {}, 
          "source": [
            "\n", 
            "\n", 
            "Function $F(u) = \\frac{1}{2}\\norm{\\Ga_z u - y}^2$\n", 
            "and its gradient $ \\nabla F(u) = \\Ga_z^*( \\Ga_z u - y ). $\n", 
            ""
          ]
        }, 
        {
          "cell_type": "code", 
          "collapsed": false, 
          "input": [
            "F = lambda u: 1/2*norm(y-Gamma(u), 'fro')^2\n", 
            "gradF = lambda u: GammaS(Gamma(u)-y)"
          ], 
          "language": "python", 
          "outputs": []
        }, 
        {
          "cell_type": "markdown", 
          "metadata": {}, 
          "source": [
            "\n", 
            "\n", 
            "Energy without the constraint $ E(u) = F(u) + \\la \\norm{u}_1 $.\n", 
            ""
          ]
        }, 
        {
          "cell_type": "code", 
          "collapsed": false, 
          "input": [
            "E = lambda u: F(u) + lambda*norm(u(:,1),1)"
          ], 
          "language": "python", 
          "outputs": []
        }, 
        {
          "cell_type": "markdown", 
          "metadata": {}, 
          "source": [
            "\n", 
            "\n", 
            "Initialization $u^{(0)}$ of the algorithm.\n", 
            ""
          ]
        }, 
        {
          "cell_type": "code", 
          "collapsed": false, 
          "input": [
            "u = zeros(N,2)"
          ], 
          "language": "python", 
          "outputs": []
        }, 
        {
          "cell_type": "heading", 
          "level": 3, 
          "metadata": {}, 
          "source": [
            "Exercise 2"
          ]
        }, 
        {
          "cell_type": "markdown", 
          "metadata": {}, 
          "source": [
            "\n", 
            "Implement the forward-backward algorithm. Monitor the decay of the energy\n", 
            "$ \\log_{10}( E(u^{(\\ell)})/ E^\\star  -1   ) $\n", 
            "where $E^\\star$ is an estimate of the minimum energy (obtained by\n", 
            "running the algorithm with a lot of iterations.\n", 
            "\n", 
            "\n", 
            "\n", 
            "\n", 
            "\n", 
            "\n", 
            "\n", 
            "\n", 
            "\n", 
            "\n", 
            ""
          ]
        }, 
        {
          "cell_type": "code", 
          "collapsed": false, 
          "input": [
            "## Insert your code here."
          ], 
          "language": "python", 
          "outputs": []
        }, 
        {
          "cell_type": "markdown", 
          "metadata": {}, 
          "source": [
            "\n", 
            "\n", 
            "\n", 
            "Recovered parameter $a,b,x$ that are intended to approximate\n", 
            "$a_0,b_0,x_0$.\n", 
            ""
          ]
        }, 
        {
          "cell_type": "code", 
          "collapsed": false, 
          "input": [
            "a = u(:,1)\n", 
            "b = u(:,2)\n", 
            "delta = Delta/2 * b./a; delta(a<1e-9) = 0\n", 
            "x = (0:N-1)'/N + delta"
          ], 
          "language": "python", 
          "outputs": []
        }, 
        {
          "cell_type": "markdown", 
          "metadata": {}, 
          "source": [
            "\n", 
            "\n", 
            "Display recovered measures.\n", 
            ""
          ]
        }, 
        {
          "cell_type": "code", 
          "collapsed": false, 
          "input": [
            "J = find(a>1e-3)\n", 
            "t = (0:N-1)'/N\n", 
            "s = (0:P-1)'/P\n", 
            "clf; hold on\n", 
            "plot(s, y, 'LineWidth', 2)\n", 
            "mystem(x0(I), a0(I), 'k'); % initial spikes \n", 
            "mystem(t(J) + delta(J), a(J), 'r');  % recovered spikes\n", 
            "axis([0 1 0 1])\n", 
            "box on"
          ], 
          "language": "python", 
          "outputs": []
        }, 
        {
          "cell_type": "markdown", 
          "metadata": {}, 
          "source": [
            "\n", 
            "\n", 
            "Display estimated vectors.\n", 
            ""
          ]
        }, 
        {
          "cell_type": "code", 
          "collapsed": false, 
          "input": [
            "subplot(2,1,1)\n", 
            "hold on\n", 
            "mystem(1:N, a0, 'k')\n", 
            "plot(a, 'r.', 'MarkerSize', 20)\n", 
            "axis tight; box on; title('a')\n", 
            "subplot(2,1,2)\n", 
            "hold on\n", 
            "mystem(1:N, b0, 'k')\n", 
            "plot(b, 'r.', 'MarkerSize', 20)\n", 
            "axis tight; box on; title('b')"
          ], 
          "language": "python", 
          "outputs": []
        }, 
        {
          "cell_type": "heading", 
          "level": 3, 
          "metadata": {}, 
          "source": [
            "Exercise 3"
          ]
        }, 
        {
          "cell_type": "markdown", 
          "metadata": {}, 
          "source": [
            "\n", 
            "Compute the full homotopy path $\\la \\mapsto (a_\\la,b_\\la) $\n", 
            "where $ (a_\\la,b_\\la) $ is the solution of C-BP with regularization parameter\n", 
            "$\\la$. The display bellow shows in color the evolution of the correctly estimated spikes\n", 
            "and in black wrong perturbating spikes.\n", 
            "Test with different values of $\\kappa$. What can you conclude about the performances of C-BP ?\n", 
            "list of regul param\n", 
            "\n", 
            "\n", 
            "warmup stage\n", 
            "\n", 
            "\n", 
            "\n", 
            "\n", 
            "\n", 
            "\n", 
            "outer loop\n", 
            "\n", 
            "\n", 
            "\n", 
            "\n", 
            "\n", 
            "\n", 
            "\n", 
            "\n", 
            "\n", 
            "\n", 
            "\n", 
            "\n", 
            "display\n", 
            "\n", 
            "\n", 
            "\n", 
            "\n", 
            "\n", 
            "\n", 
            "\n", 
            "\n", 
            "\n", 
            "\n", 
            ""
          ]
        }, 
        {
          "cell_type": "code", 
          "collapsed": false, 
          "input": [
            "## Insert your code here."
          ], 
          "language": "python", 
          "outputs": []
        }, 
        {
          "cell_type": "markdown", 
          "metadata": {}, 
          "source": [
            "\n", 
            ""
          ]
        }, 
        {
          "cell_type": "heading", 
          "level": 2, 
          "metadata": {}, 
          "source": [
            "Bibliography\n"
          ]
        }
      ]
    }
  ]
}