{
  "metadata": {
    "name": ""
  }, 
  "nbformat": 3, 
  "nbformat_minor": 0, 
  "worksheets": [
    {
      "cells": [
        {
          "cell_type": "heading", 
          "level": 1, 
          "metadata": {}, 
          "source": [
            "Signal and Image Noise Models"
          ]
        }, 
        {
          "cell_type": "markdown", 
          "metadata": {}, 
          "source": [
            "This numerical tour show several models for signal and image noise.\n", 
            "It shows how to estimate the noise level for a Gaussian additive noise on a natural image.\n", 
            "It also shows the relevance of thresholding to remove Gaussian noise\n", 
            "contaminating sparse data.\n", 
            ""
          ]
        }, 
        {
          "cell_type": "markdown", 
          "metadata": {}, 
          "source": [
            "*Important:* You need to download the file `nt_toolbox.py` from the \n", 
            "root of the github repository.\n", 
            "$\\newcommand{\\dotp}[2]{\\langle #1, #2 \\rangle}\n", 
            "\\newcommand{\\enscond}[2]{\\lbrace #1, #2 \\rbrace}\n", 
            "\\newcommand{\\pd}[2]{ \\frac{ \\partial #1}{\\partial #2} }\n", 
            "\\newcommand{\\umin}[1]{\\underset{#1}{\\min}\\;}\n", 
            "\\newcommand{\\norm}[1]{\\|#1\\|}\n", 
            "\\newcommand{\\abs}[1]{\\left|#1\\right|}\n", 
            "\\newcommand{\\choice}[1]{ \\left\\{  \\begin{array}{l} #1 \\end{array} \\right. }\n", 
            "\\newcommand{\\pa}[1]{\\left(#1\\right)}\n", 
            "\\newcommand{\\qandq}{\\quad\\text{and}\\quad}\n", 
            "\\newcommand{\\qwhereq}{\\quad\\text{where}\\quad}\n", 
            "\\newcommand{\\qifq}{ \\quad \\text{if} \\quad }\n", 
            "\\newcommand{\\qarrq}{ \\quad \\Longrightarrow \\quad }\n", 
            "\\newcommand{\\ZZ}{\\mathbb{Z}}\n", 
            "\\newcommand{\\RR}{\\mathbb{R}}\n", 
            "\\newcommand{\\Nn}{\\mathcal{N}}\n", 
            "\\newcommand{\\Hh}{\\mathcal{H}}\n", 
            "\\newcommand{\\Bb}{\\mathcal{B}}\n", 
            "\\newcommand{\\EE}{\\mathbb{E}}\n", 
            "\\newcommand{\\CC}{\\mathbb{C}}\n", 
            "\\newcommand{\\si}{\\sigma}\n", 
            "\\newcommand{\\al}{\\alpha}\n", 
            "\\newcommand{\\la}{\\lambda}\n", 
            "\\newcommand{\\ga}{\\gamma}\n", 
            "\\newcommand{\\Ga}{\\Gamma}\n", 
            "\\newcommand{\\La}{\\Lambda}\n", 
            "\\newcommand{\\si}{\\sigma}\n", 
            "\\newcommand{\\Si}{\\Sigma}\n", 
            "\\newcommand{\\be}{\\beta}\n", 
            "\\newcommand{\\de}{\\delta}\n", 
            "\\newcommand{\\De}{\\Delta}\n", 
            "\\renewcommand{\\phi}{\\varphi}\n", 
            "\\renewcommand{\\th}{\\theta}\n", 
            "\\newcommand{\\om}{\\omega}\n", 
            "\\newcommand{\\Om}{\\Omega}\n", 
            "$"
          ]
        }, 
        {
          "cell_type": "code", 
          "collapsed": false, 
          "input": [
            "from nt_toolbox import *", 
            "%matplotlib inline", 
            "%load_ext autoreload", 
            "%autoreload 2"
          ], 
          "language": "python", 
          "outputs": []
        }, 
        {
          "cell_type": "heading", 
          "level": 2, 
          "metadata": {}, 
          "source": [
            "Additive Gaussian Noise Model \n"
          ]
        }, 
        {
          "cell_type": "markdown", 
          "metadata": {}, 
          "source": [
            "The simplest noise model consist in adding a realization of a zero mean\n", 
            "random vector to a clean signal or image.\n", 
            "\n", 
            "\n", 
            "Load a clean image.\n", 
            ""
          ]
        }, 
        {
          "cell_type": "code", 
          "collapsed": false, 
          "input": [
            "N = 128\n", 
            "name = 'boat'\n", 
            "M0 = load_image(name,256)\n", 
            "M0 = rescale(crop(M0,N))"
          ], 
          "language": "python", 
          "outputs": []
        }, 
        {
          "cell_type": "markdown", 
          "metadata": {}, 
          "source": [
            "\n", 
            "\n", 
            "Load a clean signal.\n", 
            ""
          ]
        }, 
        {
          "cell_type": "code", 
          "collapsed": false, 
          "input": [
            "n = 1024\n", 
            "name = 'piece-regular'\n", 
            "f0 = rescale( load_signal(name,n) )"
          ], 
          "language": "python", 
          "outputs": []
        }, 
        {
          "cell_type": "markdown", 
          "metadata": {}, 
          "source": [
            "\n", 
            "\n", 
            "The simplest noise model is Gaussian white noise.\n", 
            "Here we generate a noisy signal or image.\n", 
            ""
          ]
        }, 
        {
          "cell_type": "code", 
          "collapsed": false, 
          "input": [
            "sigma = .1\n", 
            "M = M0 + randn(N,N)*sigma\n", 
            "f = f0 + randn(n,1)*sigma"
          ], 
          "language": "python", 
          "outputs": []
        }, 
        {
          "cell_type": "markdown", 
          "metadata": {}, 
          "source": [
            "\n", 
            "\n", 
            "Display the signals.\n", 
            ""
          ]
        }, 
        {
          "cell_type": "code", 
          "collapsed": false, 
          "input": [
            "\n", 
            "subplot(3,1,1)\n", 
            "plot(f0); axis([1 n 0 1])\n", 
            "title('Clean signal')\n", 
            "subplot(3,1,2)\n", 
            "plot(f-f0); axis([1 n -3*sigma 3*sigma])\n", 
            "title('Noise')\n", 
            "subplot(3,1,3)\n", 
            "plot(f); axis([1 n 0 1])\n", 
            "title('Noisy signal')"
          ], 
          "language": "python", 
          "outputs": []
        }, 
        {
          "cell_type": "markdown", 
          "metadata": {}, 
          "source": [
            "\n", 
            "\n", 
            "Display the images.\n", 
            ""
          ]
        }, 
        {
          "cell_type": "code", 
          "collapsed": false, 
          "input": [
            "\n", 
            "imageplot(M0, 'Clean image', 1,3,1)\n", 
            "imageplot(M-M0, 'Noise', 1,3,2)\n", 
            "imageplot(clamp(M), 'Noisy image', 1,3,3)"
          ], 
          "language": "python", 
          "outputs": []
        }, 
        {
          "cell_type": "markdown", 
          "metadata": {}, 
          "source": [
            "\n", 
            "\n", 
            "Display the statistics of the noise\n", 
            ""
          ]
        }, 
        {
          "cell_type": "code", 
          "collapsed": false, 
          "input": [
            "nbins = 51\n", 
            "[h,t] = hist( M(:)-M0(:), nbins ); h = h/sum(h)\n", 
            "subplot(3,1,2)\n", 
            "bar(t,h)\n", 
            "axis([-sigma*5 sigma*5 0 max(h)*1.01])"
          ], 
          "language": "python", 
          "outputs": []
        }, 
        {
          "cell_type": "heading", 
          "level": 2, 
          "metadata": {}, 
          "source": [
            "Additive Uniform Noise\n"
          ]
        }, 
        {
          "cell_type": "markdown", 
          "metadata": {}, 
          "source": [
            "A slightly different kind of noise is uniform in a given interval.\n", 
            "\n", 
            "\n", 
            "Generate noisy data with uniform\n", 
            "noise distribution in |[-a,a]|, with |a| chosen\n", 
            "so that the variance is sigma.\n", 
            ""
          ]
        }, 
        {
          "cell_type": "code", 
          "collapsed": false, 
          "input": [
            "a = sqrt(3)*sigma\n", 
            "M = M0 + 2*(rand(N,N)-.5)*a\n", 
            "f = f0 + 2*(rand(n,1)-.5)*a"
          ], 
          "language": "python", 
          "outputs": []
        }, 
        {
          "cell_type": "markdown", 
          "metadata": {}, 
          "source": [
            "\n", 
            "\n", 
            "Display the signals.\n", 
            ""
          ]
        }, 
        {
          "cell_type": "code", 
          "collapsed": false, 
          "input": [
            "\n", 
            "subplot(3,1,1)\n", 
            "plot(f0); axis([1 n 0 1])\n", 
            "title('Clean signal')\n", 
            "subplot(3,1,2)\n", 
            "plot(f-f0); axis([1 n -3*sigma 3*sigma])\n", 
            "title('Noise')\n", 
            "subplot(3,1,3)\n", 
            "plot(f); axis([1 n 0 1])\n", 
            "title('Noisy signal')"
          ], 
          "language": "python", 
          "outputs": []
        }, 
        {
          "cell_type": "markdown", 
          "metadata": {}, 
          "source": [
            "\n", 
            "\n", 
            "Display the images.\n", 
            ""
          ]
        }, 
        {
          "cell_type": "code", 
          "collapsed": false, 
          "input": [
            "\n", 
            "imageplot(M0, 'Clean image', 1,3,1)\n", 
            "imageplot(M-M0, 'Noise', 1,3,2)\n", 
            "imageplot(clamp(M), 'Noisy image', 1,3,3)"
          ], 
          "language": "python", 
          "outputs": []
        }, 
        {
          "cell_type": "markdown", 
          "metadata": {}, 
          "source": [
            "\n", 
            "\n", 
            "Display the statistics of the noise\n", 
            ""
          ]
        }, 
        {
          "cell_type": "code", 
          "collapsed": false, 
          "input": [
            "nbins = 51\n", 
            "[h,t] = hist( M(:)-M0(:), nbins ); h = h/sum(h)\n", 
            "subplot(3,1,2)\n", 
            "bar(t,h)\n", 
            "axis([-sigma*5 sigma*5 0 max(h)*1.01])"
          ], 
          "language": "python", 
          "outputs": []
        }, 
        {
          "cell_type": "markdown", 
          "metadata": {}, 
          "source": [
            "\n", 
            "\n", 
            ""
          ]
        }, 
        {
          "cell_type": "heading", 
          "level": 2, 
          "metadata": {}, 
          "source": [
            "Impulse Noise\n"
          ]
        }, 
        {
          "cell_type": "markdown", 
          "metadata": {}, 
          "source": [
            "A very different noise model consist in sparse impulsions, generate by a\n", 
            "random distribution with slowly decaying probability.\n", 
            "\n", 
            "\n", 
            "Generate noisy image with exponential distribution,\n", 
            "with variance |sigma|.\n", 
            "\n", 
            ""
          ]
        }, 
        {
          "cell_type": "code", 
          "collapsed": false, 
          "input": [
            "W = log(rand(N,N)).*sign(randn(N,N))\n", 
            "W = W/std(W(:))*sigma\n", 
            "M = M0 + W"
          ], 
          "language": "python", 
          "outputs": []
        }, 
        {
          "cell_type": "markdown", 
          "metadata": {}, 
          "source": [
            "\n", 
            "\n", 
            "Generate noisy signal with exponential distribution,\n", 
            "with variance |sigma|.\n", 
            ""
          ]
        }, 
        {
          "cell_type": "code", 
          "collapsed": false, 
          "input": [
            "W = log(rand(n,1)).*sign(randn(n,1))\n", 
            "W = W/std(W(:))*sigma\n", 
            "f = f0 + W"
          ], 
          "language": "python", 
          "outputs": []
        }, 
        {
          "cell_type": "markdown", 
          "metadata": {}, 
          "source": [
            "\n", 
            "\n", 
            "Display the signals.\n", 
            ""
          ]
        }, 
        {
          "cell_type": "code", 
          "collapsed": false, 
          "input": [
            "\n", 
            "subplot(3,1,1)\n", 
            "plot(f0); axis([1 n 0 1])\n", 
            "title('Clean signal')\n", 
            "subplot(3,1,2)\n", 
            "plot(f-f0); axis([1 n -3*sigma 3*sigma])\n", 
            "title('Noise')\n", 
            "subplot(3,1,3)\n", 
            "plot(f); axis([1 n 0 1])\n", 
            "title('Noisy signal')"
          ], 
          "language": "python", 
          "outputs": []
        }, 
        {
          "cell_type": "markdown", 
          "metadata": {}, 
          "source": [
            "\n", 
            "\n", 
            "Display the images.\n", 
            ""
          ]
        }, 
        {
          "cell_type": "code", 
          "collapsed": false, 
          "input": [
            "\n", 
            "imageplot(M0, 'Clean image', 1,3,1)\n", 
            "imageplot(M-M0, 'Noise', 1,3,2)\n", 
            "imageplot(clamp(M), 'Noisy image', 1,3,3)"
          ], 
          "language": "python", 
          "outputs": []
        }, 
        {
          "cell_type": "markdown", 
          "metadata": {}, 
          "source": [
            "\n", 
            "\n", 
            "Display the statistics of the noise\n", 
            ""
          ]
        }, 
        {
          "cell_type": "code", 
          "collapsed": false, 
          "input": [
            "nbins = 51\n", 
            "[h,t] = hist( M(:)-M0(:), nbins ); h = h/sum(h)\n", 
            "subplot(3,1,2)\n", 
            "bar(t,h)\n", 
            "axis([-sigma*5 sigma*5 0 max(h)*1.01])"
          ], 
          "language": "python", 
          "outputs": []
        }, 
        {
          "cell_type": "markdown", 
          "metadata": {}, 
          "source": [
            "\n", 
            "\n", 
            ""
          ]
        }, 
        {
          "cell_type": "heading", 
          "level": 2, 
          "metadata": {}, 
          "source": [
            "Thresholding Estimator and Sparsity\n"
          ]
        }, 
        {
          "cell_type": "markdown", 
          "metadata": {}, 
          "source": [
            "The idea of non-linear denoising is to use an orthogonal basis in which\n", 
            "the coefficients |x| of the signal or image |M0| is sparse (a few large\n", 
            "coefficients). In this case, the noisy coefficients |x| of the noisy\n", 
            "data |M| (perturbated with Gaussian noise) are |x0+noise| where |noise|\n", 
            "is Gaussian. A thresholding set to 0 the noise coefficients that are\n", 
            "below |T|. The threshold level |T| should be chosen judiciously to be\n", 
            "just above the noise level.\n", 
            "\n", 
            "\n", 
            "First we generate a spiky signal.\n", 
            "\n", 
            "dimension"
          ]
        }, 
        {
          "cell_type": "code", 
          "collapsed": false, 
          "input": [
            "n = 4096"
          ], 
          "language": "python", 
          "outputs": []
        }, 
        {
          "cell_type": "markdown", 
          "metadata": {}, 
          "source": [
            "probability of spiking"
          ]
        }, 
        {
          "cell_type": "code", 
          "collapsed": false, 
          "input": [
            "rho = .05"
          ], 
          "language": "python", 
          "outputs": []
        }, 
        {
          "cell_type": "markdown", 
          "metadata": {}, 
          "source": [
            "location of the spike"
          ]
        }, 
        {
          "cell_type": "code", 
          "collapsed": false, 
          "input": [
            "x0 = rand(n,1)<rho"
          ], 
          "language": "python", 
          "outputs": []
        }, 
        {
          "cell_type": "markdown", 
          "metadata": {}, 
          "source": [
            "random amplitude in [-1 1]"
          ]
        }, 
        {
          "cell_type": "code", 
          "collapsed": false, 
          "input": [
            "x0 = 2 * x0 .* ( rand(n,1)-.5 )"
          ], 
          "language": "python", 
          "outputs": []
        }, 
        {
          "cell_type": "markdown", 
          "metadata": {}, 
          "source": [
            "\n", 
            "\n", 
            "We add some gaussian noise\n", 
            ""
          ]
        }, 
        {
          "cell_type": "code", 
          "collapsed": false, 
          "input": [
            "sigma = .1\n", 
            "x = x0 + randn(size(x0))*sigma"
          ], 
          "language": "python", 
          "outputs": []
        }, 
        {
          "cell_type": "markdown", 
          "metadata": {}, 
          "source": [
            "\n", 
            "\n", 
            "\n", 
            "Display.\n", 
            ""
          ]
        }, 
        {
          "cell_type": "code", 
          "collapsed": false, 
          "input": [
            "\n", 
            "subplot(2,1,1)\n", 
            "plot(x0); axis([1 n -1 1])\n", 
            "set_graphic_sizes([], 20)\n", 
            "title('Original signal')\n", 
            "subplot(2,1,2)\n", 
            "plot(x); axis([1 n -1 1])\n", 
            "set_graphic_sizes([], 20)\n", 
            "title('Noisy signal')"
          ], 
          "language": "python", 
          "outputs": []
        }, 
        {
          "cell_type": "heading", 
          "level": 3, 
          "metadata": {}, 
          "source": [
            "Exercise 1"
          ]
        }, 
        {
          "cell_type": "markdown", 
          "metadata": {}, 
          "source": [
            "\n", 
            "What is the optimal threshold |T| to remove as much as possible of noise\n", 
            "? Try several values of |T|.\n", 
            "\n", 
            "\n", 
            "\n", 
            "\n", 
            "\n", 
            "\n", 
            "\n", 
            "\n", 
            "\n", 
            ""
          ]
        }, 
        {
          "cell_type": "code", 
          "collapsed": false, 
          "input": [
            "## Insert your code here."
          ], 
          "language": "python", 
          "outputs": []
        }, 
        {
          "cell_type": "markdown", 
          "metadata": {}, 
          "source": [
            "\n", 
            "\n", 
            "\n", 
            "In order to be optimal without knowing in advance the amplitude of the\n", 
            "coefficients of |x0|, one needs to set |T| just above the noise level.\n", 
            "This means that |T| should be roughly equal to the maximum value of a\n", 
            "Gaussian white noise of size |n|.\n", 
            ""
          ]
        }, 
        {
          "cell_type": "heading", 
          "level": 3, 
          "metadata": {}, 
          "source": [
            "Exercise 2"
          ]
        }, 
        {
          "cell_type": "markdown", 
          "metadata": {}, 
          "source": [
            "\n", 
            "The theory predicts that the maximum of |n| Gaussian variable of variance |sigma^2|\n", 
            "is smaller than |sqrt(2*log(n))| with large probability (that tends to 1\n", 
            "when |n| increases). This is also a sharp result. Check this numerically\n", 
            "by computing with Monte Carlo sampling the maximum with |n| increasing\n", 
            "(in power of 2). Check also the deviation of the maximum when you\n", 
            "perform several trial with |n| fixed.\n", 
            "\n", 
            "\n", 
            "\n", 
            "\n", 
            "\n", 
            "\n", 
            "\n", 
            "\n", 
            "\n", 
            "\n", 
            "\n", 
            "\n", 
            "\n", 
            "\n", 
            "\n", 
            "\n", 
            "\n", 
            "\n", 
            "\n", 
            "\n", 
            "\n", 
            "\n", 
            ""
          ]
        }, 
        {
          "cell_type": "code", 
          "collapsed": false, 
          "input": [
            "## Insert your code here."
          ], 
          "language": "python", 
          "outputs": []
        }, 
        {
          "cell_type": "markdown", 
          "metadata": {}, 
          "source": [
            "\n", 
            "\n", 
            ""
          ]
        }, 
        {
          "cell_type": "heading", 
          "level": 2, 
          "metadata": {}, 
          "source": [
            "Estimating the noise level\n"
          ]
        }, 
        {
          "cell_type": "markdown", 
          "metadata": {}, 
          "source": [
            "In practice, the noise level |sigma| is unknown.\n", 
            "For additive Gaussian noise,\n", 
            "a good estimator is given by the median of the wavelet coefficients at\n", 
            "the finer scale. An even simple estimator is given by the normalized\n", 
            "derivate along X or Y direction\n", 
            "\n", 
            "\n", 
            "Load a clean image.\n", 
            ""
          ]
        }, 
        {
          "cell_type": "code", 
          "collapsed": false, 
          "input": [
            "n = 256\n", 
            "M0 = rescale(load_image('boat', n))"
          ], 
          "language": "python", 
          "outputs": []
        }, 
        {
          "cell_type": "markdown", 
          "metadata": {}, 
          "source": [
            "\n", 
            "\n", 
            "Generate a noisy image.\n", 
            ""
          ]
        }, 
        {
          "cell_type": "code", 
          "collapsed": false, 
          "input": [
            "sigma = 0.06\n", 
            "M = M0 + randn(n,n)*sigma"
          ], 
          "language": "python", 
          "outputs": []
        }, 
        {
          "cell_type": "markdown", 
          "metadata": {}, 
          "source": [
            "\n", 
            "\n", 
            "First we extract the high frequency residual.\n", 
            ""
          ]
        }, 
        {
          "cell_type": "code", 
          "collapsed": false, 
          "input": [
            "H = M\n", 
            "H = (H(1:n-1,:) - H(2:n,:))'/sqrt(2)\n", 
            "H = (H(1:n-1,:) - H(2:n,:))'/sqrt(2)"
          ], 
          "language": "python", 
          "outputs": []
        }, 
        {
          "cell_type": "markdown", 
          "metadata": {}, 
          "source": [
            "\n", 
            "\n", 
            "Display.\n", 
            ""
          ]
        }, 
        {
          "cell_type": "code", 
          "collapsed": false, 
          "input": [
            "\n", 
            "imageplot(clamp(M), 'Noisy image', 1,2,1)\n", 
            "imageplot(H, 'Derivative image', 1,2,2)"
          ], 
          "language": "python", 
          "outputs": []
        }, 
        {
          "cell_type": "markdown", 
          "metadata": {}, 
          "source": [
            "\n", 
            "\n", 
            "\n", 
            "Histograms.\n", 
            ""
          ]
        }, 
        {
          "cell_type": "code", 
          "collapsed": false, 
          "input": [
            "[h,t] = hist(H(:), 100)\n", 
            "h = h/sum(h)"
          ], 
          "language": "python", 
          "outputs": []
        }, 
        {
          "cell_type": "markdown", 
          "metadata": {}, 
          "source": [
            "\n", 
            "\n", 
            "Display histogram.\n", 
            ""
          ]
        }, 
        {
          "cell_type": "code", 
          "collapsed": false, 
          "input": [
            "\n", 
            "bar(t, h)\n", 
            "axis([-.5 .5 0 max(h)])"
          ], 
          "language": "python", 
          "outputs": []
        }, 
        {
          "cell_type": "markdown", 
          "metadata": {}, 
          "source": [
            "\n", 
            "\n", 
            "The mad estimator (median of median) must be rescaled so that\n", 
            "it gives the correct variance for gaussian noise.\n", 
            ""
          ]
        }
      ]
    }
  ]
}