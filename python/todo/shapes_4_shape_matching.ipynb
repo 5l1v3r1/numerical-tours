{
  "metadata": {
    "name": ""
  }, 
  "nbformat": 3, 
  "nbformat_minor": 0, 
  "worksheets": [
    {
      "cells": [
        {
          "cell_type": "heading", 
          "level": 1, 
          "metadata": {}, 
          "source": [
            "Shape Correspondence with Fast Marching"
          ]
        }, 
        {
          "cell_type": "markdown", 
          "metadata": {}, 
          "source": [
            "This tour explores the use of Fast Marching to compute shape correspondence.\n", 
            ""
          ]
        }, 
        {
          "cell_type": "markdown", 
          "metadata": {}, 
          "source": [
            "*Important:* You need to download the file `nt_toolbox.py` from the \n", 
            "root of the github repository.\n", 
            "$\\newcommand{\\dotp}[2]{\\langle #1, #2 \\rangle}\n", 
            "\\newcommand{\\enscond}[2]{\\lbrace #1, #2 \\rbrace}\n", 
            "\\newcommand{\\pd}[2]{ \\frac{ \\partial #1}{\\partial #2} }\n", 
            "\\newcommand{\\umin}[1]{\\underset{#1}{\\min}\\;}\n", 
            "\\newcommand{\\norm}[1]{\\|#1\\|}\n", 
            "\\newcommand{\\abs}[1]{\\left|#1\\right|}\n", 
            "\\newcommand{\\choice}[1]{ \\left\\{  \\begin{array}{l} #1 \\end{array} \\right. }\n", 
            "\\newcommand{\\pa}[1]{\\left(#1\\right)}\n", 
            "\\newcommand{\\qandq}{\\quad\\text{and}\\quad}\n", 
            "\\newcommand{\\qwhereq}{\\quad\\text{where}\\quad}\n", 
            "\\newcommand{\\qifq}{ \\quad \\text{if} \\quad }\n", 
            "\\newcommand{\\qarrq}{ \\quad \\Longrightarrow \\quad }\n", 
            "\\newcommand{\\ZZ}{\\mathbb{Z}}\n", 
            "\\newcommand{\\RR}{\\mathbb{R}}\n", 
            "\\newcommand{\\Nn}{\\mathcal{N}}\n", 
            "\\newcommand{\\Hh}{\\mathcal{H}}\n", 
            "\\newcommand{\\Bb}{\\mathcal{B}}\n", 
            "\\newcommand{\\EE}{\\mathbb{E}}\n", 
            "\\newcommand{\\CC}{\\mathbb{C}}\n", 
            "\\newcommand{\\si}{\\sigma}\n", 
            "\\newcommand{\\al}{\\alpha}\n", 
            "\\newcommand{\\la}{\\lambda}\n", 
            "\\newcommand{\\ga}{\\gamma}\n", 
            "\\newcommand{\\Ga}{\\Gamma}\n", 
            "\\newcommand{\\La}{\\Lambda}\n", 
            "\\newcommand{\\si}{\\sigma}\n", 
            "\\newcommand{\\Si}{\\Sigma}\n", 
            "\\newcommand{\\be}{\\beta}\n", 
            "\\newcommand{\\de}{\\delta}\n", 
            "\\newcommand{\\De}{\\Delta}\n", 
            "\\renewcommand{\\phi}{\\varphi}\n", 
            "\\renewcommand{\\th}{\\theta}\n", 
            "\\newcommand{\\om}{\\omega}\n", 
            "\\newcommand{\\Om}{\\Omega}\n", 
            "$"
          ]
        }, 
        {
          "cell_type": "code", 
          "collapsed": false, 
          "input": [
            "from nt_toolbox import *", 
            "%matplotlib inline", 
            "%load_ext autoreload", 
            "%autoreload 2"
          ], 
          "language": "python", 
          "outputs": []
        }, 
        {
          "cell_type": "markdown", 
          "metadata": {}, 
          "source": [
            "\n", 
            "CMT"
          ]
        }, 
        {
          "cell_type": "code", 
          "collapsed": false, 
          "input": [
            "rep = 'results/shapes_shape_matching/'\n", 
            "if not(exist(rep))\n", 
            "    mkdir(rep)\n", 
            ""
          ], 
          "language": "python", 
          "outputs": []
        }, 
        {
          "cell_type": "markdown", 
          "metadata": {}, 
          "source": [
            "CMT\n", 
            "\n", 
            ""
          ]
        }, 
        {
          "cell_type": "heading", 
          "level": 2, 
          "metadata": {}, 
          "source": [
            "2D Shape\n"
          ]
        }, 
        {
          "cell_type": "markdown", 
          "metadata": {}, 
          "source": [
            "A 2D shape is a connected compact planar domain.\n", 
            "\n", 
            "\n", 
            "It is represented as a black and white image corresponding to the\n", 
            "indicator function of the set.\n", 
            ""
          ]
        }, 
        {
          "cell_type": "code", 
          "collapsed": false, 
          "input": [
            "n = 250\n", 
            "name = {'square' 'disk'}\n", 
            "name = {'centaur1' 'centaur2'}\n", 
            "M = rescale( load_image(name,n) )"
          ], 
          "language": "python", 
          "outputs": []
        }, 
        {
          "cell_type": "markdown", 
          "metadata": {}, 
          "source": [
            "\n", 
            "\n", 
            "Threshold to be sure to have a binary image.\n", 
            ""
          ]
        }, 
        {
          "cell_type": "code", 
          "collapsed": false, 
          "input": [
            "M = perform_blurring(M,3)\n", 
            "M = {double(M{1}>.5) double(M{2}>.5)}"
          ], 
          "language": "python", 
          "outputs": []
        }, 
        {
          "cell_type": "markdown", 
          "metadata": {}, 
          "source": [
            "\n", 
            "CMT"
          ]
        }, 
        {
          "cell_type": "code", 
          "collapsed": false, 
          "input": [
            "imwrite(rescale(M{1}), [rep name{1} '-original.png'], 'png')\n", 
            "imwrite(rescale(M{2}), [rep name{2} '-original.png'], 'png')"
          ], 
          "language": "python", 
          "outputs": []
        }, 
        {
          "cell_type": "markdown", 
          "metadata": {}, 
          "source": [
            "CMT\n", 
            "\n", 
            "\n", 
            "Display the shapes.\n", 
            ""
          ]
        }, 
        {
          "cell_type": "code", 
          "collapsed": false, 
          "input": [
            "\n", 
            "imageplot(M, {'Shape 1', 'Shape 2'})"
          ], 
          "language": "python", 
          "outputs": []
        }, 
        {
          "cell_type": "markdown", 
          "metadata": {}, 
          "source": [
            "\n", 
            "\n", 
            "Compute the boundaries of the shape.\n", 
            ""
          ]
        }, 
        {
          "cell_type": "code", 
          "collapsed": false, 
          "input": [
            "for i in 1:2:\n", 
            "    bound0{i} = compute_shape_boundary(M{i})\n", 
            ""
          ], 
          "language": "python", 
          "outputs": []
        }, 
        {
          "cell_type": "markdown", 
          "metadata": {}, 
          "source": [
            "\n", 
            "\n", 
            "Re-sample the boundary\n", 
            ""
          ]
        }, 
        {
          "cell_type": "code", 
          "collapsed": false, 
          "input": [
            "nbound = 500\n", 
            "bound = {}\n", 
            "for i in 1:2:\n", 
            "    nbound0 = size(bound0{i},2)\n", 
            "    t = linspace(1,nbound0,nbound+1); t(end) = []\n", 
            "    bound{i}(1,:) = interp1( bound0{i}(1,:), t )\n", 
            "    bound{i}(2,:) = interp1( bound0{i}(2,:), t )\n", 
            ""
          ], 
          "language": "python", 
          "outputs": []
        }, 
        {
          "cell_type": "markdown", 
          "metadata": {}, 
          "source": [
            "\n", 
            "\n", 
            "Compute the correspondence between the two curve (this should be done\n", 
            "automatically by testing several delta).\n", 
            ""
          ]
        }, 
        {
          "cell_type": "code", 
          "collapsed": false, 
          "input": [
            "for i in 1:2:\n", 
            "    [tmp,pt] = min(bound{i}(1,:))\n", 
            "    bound{i} = [bound{i}(:,pt:end) bound{i}(:,1:pt-1)]\n", 
            ""
          ], 
          "language": "python", 
          "outputs": []
        }, 
        {
          "cell_type": "markdown", 
          "metadata": {}, 
          "source": [
            "\n", 
            "\n", 
            "\n", 
            "Display the boundaries.\n", 
            ""
          ]
        }, 
        {
          "cell_type": "code", 
          "collapsed": false, 
          "input": [
            "\n", 
            "for i in 1:2:\n", 
            "    b = bound{i}\n", 
            "    subplot(1,2,i)\n", 
            "    hold on\n", 
            "    imageplot(M{i})\n", 
            "    hh = plot(b(2,:), b(1,:))\n", 
            "    set(hh, 'LineWidth', 2)\n", 
            "    hh = plot(b(2,1), b(1,1), '.r')\n", 
            "    set(hh, 'MarkerSize', 20)\n", 
            "    axis('ij')\n", 
            ""
          ], 
          "language": "python", 
          "outputs": []
        }, 
        {
          "cell_type": "heading", 
          "level": 2, 
          "metadata": {}, 
          "source": [
            "Multiscale Curvature Descriptor\n"
          ]
        }, 
        {
          "cell_type": "markdown", 
          "metadata": {}, 
          "source": [
            "We compute a local descriptor for each point on the boundary, which is a\n", 
            "low dimensional vector that sum up the local curvature properties of the\n", 
            "shape.\n", 
            "\n", 
            "\n", 
            "We use a multiscale curvature defined as convolution with kernel of\n", 
            "increasing radius, as explained in\n", 
            "\n", 
            "\n", 
            "Manay, S.; Cremers, D.; Byung-Woo Hong; Yezzi, A.J.; Soatto, S.\n", 
            "_Integral Invariants for Shape Matching_\n", 
            " IEEE Transactions on Pattern Analysis and Machine Intelligence,\n", 
            "Volume 28, Issue 10, Oct. 2006, P.1602-1618\n", 
            "\n", 
            "\n", 
            "List of radius (scales for the descriptors).\n", 
            ""
          ]
        }, 
        {
          "cell_type": "code", 
          "collapsed": false, 
          "input": [
            "nrad = 10\n", 
            "rlist = linspace(3,20,nrad)"
          ], 
          "language": "python", 
          "outputs": []
        }, 
        {
          "cell_type": "markdown", 
          "metadata": {}, 
          "source": [
            "\n", 
            "\n", 
            "Radius of the kernel (this will vary).\n", 
            ""
          ]
        }, 
        {
          "cell_type": "code", 
          "collapsed": false, 
          "input": [
            "k = 4\n", 
            "r = rlist(k)"
          ], 
          "language": "python", 
          "outputs": []
        }, 
        {
          "cell_type": "markdown", 
          "metadata": {}, 
          "source": [
            "\n", 
            "\n", 
            "Compute ball of radious |r|.\n", 
            ""
          ]
        }, 
        {
          "cell_type": "code", 
          "collapsed": false, 
          "input": [
            "x = -ceil(r):ceil(r)\n", 
            "[b,a] = meshgrid(x,x)\n", 
            "h = double( a.^2+b.^2<=r^2 )\n", 
            "h = h/sum(h(:))"
          ], 
          "language": "python", 
          "outputs": []
        }, 
        {
          "cell_type": "markdown", 
          "metadata": {}, 
          "source": [
            "\n", 
            "\n", 
            "Compute convolution.\n", 
            ""
          ]
        }, 
        {
          "cell_type": "code", 
          "collapsed": false, 
          "input": [
            "Mh = perform_convolution(M,h)"
          ], 
          "language": "python", 
          "outputs": []
        }, 
        {
          "cell_type": "markdown", 
          "metadata": {}, 
          "source": [
            "\n", 
            "\n", 
            "Display.\n", 
            ""
          ]
        }, 
        {
          "cell_type": "code", 
          "collapsed": false, 
          "input": [
            "\n", 
            "imageplot(Mh,{'Blurred 1', 'Blurred 2'})"
          ], 
          "language": "python", 
          "outputs": []
        }, 
        {
          "cell_type": "markdown", 
          "metadata": {}, 
          "source": [
            "\n", 
            "\n", 
            "Compute the value of the scale |r| descriptor |Mh| along the curve.\n", 
            ""
          ]
        }, 
        {
          "cell_type": "code", 
          "collapsed": false, 
          "input": [
            "[Y,X] = meshgrid(1:n,1:n)\n", 
            "D = {}\n", 
            "for i in 1:2:\n", 
            "    D{i}(k,:) = interp2(Y,X,Mh{i},bound{i}(2,:), bound{i}(1,:))\n", 
            ""
          ], 
          "language": "python", 
          "outputs": []
        }, 
        {
          "cell_type": "heading", 
          "level": 3, 
          "metadata": {}, 
          "source": [
            "Exercise 1"
          ]
        }, 
        {
          "cell_type": "markdown", 
          "metadata": {}, 
          "source": [
            "\n", 
            "Compute the full shape features |d(k,i)| for all points |i| and scales\n", 
            "|k|.\n", 
            "\n", 
            "\n", 
            "\n", 
            "\n", 
            "\n", 
            "\n", 
            "\n", 
            "\n", 
            "\n", 
            "\n", 
            "\n", 
            "\n", 
            "\n", 
            "\n", 
            "\n", 
            "\n", 
            "\n", 
            "\n", 
            "\n", 
            "\n", 
            "\n", 
            "\n", 
            "\n", 
            "\n", 
            ""
          ]
        }, 
        {
          "cell_type": "code", 
          "collapsed": false, 
          "input": [
            "## Insert your code here."
          ], 
          "language": "python", 
          "outputs": []
        }, 
        {
          "cell_type": "markdown", 
          "metadata": {}, 
          "source": [
            "\n", 
            "\n", 
            "\n", 
            "Display some locations\n", 
            ""
          ]
        }, 
        {
          "cell_type": "code", 
          "collapsed": false, 
          "input": [
            "sel = ceil( [1 90 400] * nbound/500 )\n", 
            "col = {'r', 'g', 'b', 'k'}\n", 
            "clf; hold on\n", 
            "imageplot(M{1})\n", 
            "for i in 1:length(sel):\n", 
            "    h = plot(bound{1}(2,sel(i)), bound{1}(1,sel(i)), [col{i} '.'])\n", 
            "    set(h, 'MarkerSize', 40)\n", 
            "\n", 
            "axis('ij')"
          ], 
          "language": "python", 
          "outputs": []
        }, 
        {
          "cell_type": "markdown", 
          "metadata": {}, 
          "source": [
            "\n", 
            "\n", 
            "CMT"
          ]
        }, 
        {
          "cell_type": "code", 
          "collapsed": false, 
          "input": [
            "saveas(gcf, [rep name{1} '-samples-loc.eps'], 'epsc')"
          ], 
          "language": "python", 
          "outputs": []
        }, 
        {
          "cell_type": "markdown", 
          "metadata": {}, 
          "source": [
            "CMT\n", 
            "\n", 
            "\n", 
            "Display three different features at some locations.\n", 
            ""
          ]
        }, 
        {
          "cell_type": "code", 
          "collapsed": false, 
          "input": [
            "\n", 
            "col = {'r', 'g', 'b', 'k'}\n", 
            "a = mean(mean(D{1}(:,sel)))\n", 
            "for i in 1:length(sel):\n", 
            "    subplot(length(sel),1,i)\n", 
            "    h = bar(D{1}(:,sel(i))-a, col{i}); axis('tight')\n", 
            "    set(gca, 'XTickLabel', [])\n", 
            ""
          ], 
          "language": "python", 
          "outputs": []
        }, 
        {
          "cell_type": "markdown", 
          "metadata": {}, 
          "source": [
            "\n", 
            "CMT"
          ]
        }, 
        {
          "cell_type": "code", 
          "collapsed": false, 
          "input": [
            "saveas(gcf, [rep name{1} '-samples-descr.eps'], 'epsc')"
          ], 
          "language": "python", 
          "outputs": []
        }, 
        {
          "cell_type": "markdown", 
          "metadata": {}, 
          "source": [
            "CMT\n", 
            "\n", 
            ""
          ]
        }, 
        {
          "cell_type": "heading", 
          "level": 2, 
          "metadata": {}, 
          "source": [
            "Shape Comparison Matrix\n"
          ]
        }, 
        {
          "cell_type": "markdown", 
          "metadata": {}, 
          "source": [
            "A shape comparison matrix compare the features |d(:,i)|\n", 
            "of two different shape.\n", 
            ""
          ]
        }, 
        {
          "cell_type": "heading", 
          "level": 3, 
          "metadata": {}, 
          "source": [
            "Exercise 2"
          ]
        }, 
        {
          "cell_type": "markdown", 
          "metadata": {}, 
          "source": [
            "\n", 
            "Compute the descriptor for all the values of |r| in rlist.\n", 
            "\n", 
            "\n", 
            "\n", 
            "\n", 
            "\n", 
            "\n", 
            "\n", 
            ""
          ]
        }, 
        {
          "cell_type": "code", 
          "collapsed": false, 
          "input": [
            "## Insert your code here."
          ], 
          "language": "python", 
          "outputs": []
        }, 
        {
          "cell_type": "markdown", 
          "metadata": {}, 
          "source": [
            "\n", 
            "\n", 
            ""
          ]
        }, 
        {
          "cell_type": "heading", 
          "level": 2, 
          "metadata": {}, 
          "source": [
            "Geodesic Matching\n"
          ]
        }, 
        {
          "cell_type": "markdown", 
          "metadata": {}, 
          "source": [
            "We use a method similar to the one explained in\n", 
            "\n", 
            "\n", 
            "Max Frenkel, Ronen Basri,\n", 
            "_Curve Matching Using the Fast Marching Method,_\n", 
            "EMMCVPR 2003, p. 35-51\n", 
            "\n", 
            ""
          ]
        }, 
        {
          "cell_type": "heading", 
          "level": 3, 
          "metadata": {}, 
          "source": [
            "Exercise 3"
          ]
        }, 
        {
          "cell_type": "markdown", 
          "metadata": {}, 
          "source": [
            "\n", 
            "Compute a metric associated to |C|, by rescaling.\n", 
            "Using the Fast Marching, compute the shortest paths |gpath| from point |(1,1)|\n", 
            "to point |(nbound,nbound)|. Record the length of this path, which is\n", 
            "the value of the geodesic distance.\n", 
            "metric\n", 
            "\n", 
            "distance\n", 
            "\n", 
            "path\n", 
            ""
          ]
        }, 
        {
          "cell_type": "code", 
          "collapsed": false, 
          "input": [
            "## Insert your code here."
          ], 
          "language": "python", 
          "outputs": []
        }, 
        {
          "cell_type": "markdown", 
          "metadata": {}, 
          "source": [
            "\n", 
            "\n", 
            "\n", 
            "Display the geodesic path.\n", 
            ""
          ]
        }, 
        {
          "cell_type": "code", 
          "collapsed": false, 
          "input": [
            "hold on\n", 
            "imageplot(C)\n", 
            "h = plot(gpath(2,:), gpath(1,:), 'r')\n", 
            "set(h, 'LineWidth', 2)\n", 
            "axis('xy')"
          ], 
          "language": "python", 
          "outputs": []
        }, 
        {
          "cell_type": "markdown", 
          "metadata": {}, 
          "source": [
            "\n", 
            "CMT"
          ]
        }, 
        {
          "cell_type": "code", 
          "collapsed": false, 
          "input": [
            "saveas(gcf, [rep name{1} '-geodesic.eps'], 'epsc')"
          ], 
          "language": "python", 
          "outputs": []
        }, 
        {
          "cell_type": "markdown", 
          "metadata": {}, 
          "source": [
            "CMT\n", 
            "\n", 
            "\n", 
            "Display the matching in 3D;\n", 
            ""
          ]
        }, 
        {
          "cell_type": "code", 
          "collapsed": false, 
          "input": [
            "\n", 
            "col = {'r' 'b'}\n", 
            "clf; hold on\n", 
            "delta = [0 n/2]\n", 
            "for i in 1:2:\n", 
            "    h = plot3(bound{i}(1,[1:end 1]), bound{i}(2,[1:end 1]), delta(i)*ones(nbound+1,1), col{i})\n", 
            "    set(h, 'LineWidth', 2)\n", 
            "\n", 
            "t = round(linspace(length(gpath)/2.1,length(gpath),60))\n", 
            "for i in 1:length(t):\n", 
            "    i1 = round(gpath(1,t(i)))\n", 
            "    i2 = round(gpath(2,t(i)))\n", 
            "    a = bound{1}(:,i1)\n", 
            "    b = bound{2}(:,i2)\n", 
            "    h = plot3( [a(1) b(1)], [a(2) b(2)], delta, 'k-'  )\n", 
            "    set(h, 'LineWidth', 1)\n", 
            "\n", 
            "view(-10,40)\n", 
            "axis('equal'); axis('off')\n", 
            "zoom(1.3)"
          ], 
          "language": "python", 
          "outputs": []
        }, 
        {
          "cell_type": "markdown", 
          "metadata": {}, 
          "source": [
            "\n", 
            "\n", 
            "CMT"
          ]
        }, 
        {
          "cell_type": "code", 
          "collapsed": false, 
          "input": [
            "saveas(gcf, [rep name{1} '-matching-3d.eps'], 'epsc')"
          ], 
          "language": "python", 
          "outputs": []
        }
      ]
    }
  ]
}