{
  "metadata": {
    "name": ""
  }, 
  "nbformat": 3, 
  "nbformat_minor": 0, 
  "worksheets": [
    {
      "cells": [
        {
          "cell_type": "heading", 
          "level": 1, 
          "metadata": {}, 
          "source": [
            "Optimal Transport in 1-D"
          ]
        }, 
        {
          "cell_type": "markdown", 
          "metadata": {}, 
          "source": [
            "This tour details the computation of discrete 1-D optimal transport with\n", 
            "application to grayscale image histogram manipulations.\n", 
            ""
          ]
        }, 
        {
          "cell_type": "markdown", 
          "metadata": {}, 
          "source": [
            "*Important:* You need to download the file `nt_toolbox.py` from the \n", 
            "root of the github repository.\n", 
            "$\\newcommand{\\dotp}[2]{\\langle #1, #2 \\rangle}\n", 
            "\\newcommand{\\enscond}[2]{\\lbrace #1, #2 \\rbrace}\n", 
            "\\newcommand{\\pd}[2]{ \\frac{ \\partial #1}{\\partial #2} }\n", 
            "\\newcommand{\\umin}[1]{\\underset{#1}{\\min}\\;}\n", 
            "\\newcommand{\\norm}[1]{\\|#1\\|}\n", 
            "\\newcommand{\\abs}[1]{\\left|#1\\right|}\n", 
            "\\newcommand{\\choice}[1]{ \\left\\{  \\begin{array}{l} #1 \\end{array} \\right. }\n", 
            "\\newcommand{\\pa}[1]{\\left(#1\\right)}\n", 
            "\\newcommand{\\qandq}{\\quad\\text{and}\\quad}\n", 
            "\\newcommand{\\qwhereq}{\\quad\\text{where}\\quad}\n", 
            "\\newcommand{\\qifq}{ \\quad \\text{if} \\quad }\n", 
            "\\newcommand{\\qarrq}{ \\quad \\Longrightarrow \\quad }\n", 
            "\\newcommand{\\ZZ}{\\mathbb{Z}}\n", 
            "\\newcommand{\\RR}{\\mathbb{R}}\n", 
            "\\newcommand{\\Nn}{\\mathcal{N}}\n", 
            "\\newcommand{\\Hh}{\\mathcal{H}}\n", 
            "\\newcommand{\\Bb}{\\mathcal{B}}\n", 
            "\\newcommand{\\EE}{\\mathbb{E}}\n", 
            "\\newcommand{\\CC}{\\mathbb{C}}\n", 
            "\\newcommand{\\si}{\\sigma}\n", 
            "\\newcommand{\\al}{\\alpha}\n", 
            "\\newcommand{\\la}{\\lambda}\n", 
            "\\newcommand{\\ga}{\\gamma}\n", 
            "\\newcommand{\\Ga}{\\Gamma}\n", 
            "\\newcommand{\\La}{\\Lambda}\n", 
            "\\newcommand{\\si}{\\sigma}\n", 
            "\\newcommand{\\Si}{\\Sigma}\n", 
            "\\newcommand{\\be}{\\beta}\n", 
            "\\newcommand{\\de}{\\delta}\n", 
            "\\newcommand{\\De}{\\Delta}\n", 
            "\\renewcommand{\\phi}{\\varphi}\n", 
            "\\renewcommand{\\th}{\\theta}\n", 
            "\\newcommand{\\om}{\\omega}\n", 
            "\\newcommand{\\Om}{\\Omega}\n", 
            "$"
          ]
        }, 
        {
          "cell_type": "code", 
          "collapsed": false, 
          "input": [
            "from nt_toolbox import *", 
            "%matplotlib inline", 
            "%load_ext autoreload", 
            "%autoreload 2"
          ], 
          "language": "python", 
          "outputs": []
        }, 
        {
          "cell_type": "heading", 
          "level": 2, 
          "metadata": {}, 
          "source": [
            "Optimal Transport and Assignement\n"
          ]
        }, 
        {
          "cell_type": "markdown", 
          "metadata": {}, 
          "source": [
            "We consider data $f \\in \\RR^{N \\times d}$, that can corresponds for\n", 
            "instance to an image of $N$ pixels, with $d=1$ for grayscale image\n", 
            "and $d=3$ for color image. We denote $f = (f_i)_{i=1}^N$ with $f_i\n", 
            "\\in \\RR^d$ the elements of the data.\n", 
            "\n", 
            "\n", 
            "The discrete (empirical) distribution in $\\RR^d$ associated to this\n", 
            "data $f$ is the sum of Diracs\n", 
            "$$ \\mu_f = \\frac{1}{N} \\sum_{i=1}^N \\de_{f_i}. $$\n", 
            "\n", 
            "\n", 
            "An optimal assignement between two such vectors $f,g \\in \\RR^{N \\times d}$\n", 
            "is a permutation $\\si \\in \\Si_N$ that minimizes\n", 
            "$$ \\si^\\star \\in \\uargmin{\\si \\in \\Si_N} \\sum_{i=1}^N C(f_i,g_{\\si(i)}) $$\n", 
            "where $C(u,v) \\in \\RR$ is some cost function.\n", 
            "\n", 
            "\n", 
            "In the following, we consider $L^p$ costs\n", 
            "$$ \\forall (u,v) \\in \\RR^d \\times \\RR^d, \\quad C(u,v) = \\norm{u-v}^p $$\n", 
            "where $\\norm{\\cdot}$ is the Euclidean norm and $p\\geq 1$.\n", 
            "\n", 
            "\n", 
            "This optimal assignement defines the $L^p$ Wasserstein distance between\n", 
            "the associated point clouds distributions\n", 
            "$$ W_p(\\mu_f,\\mu_g)^p = \\sum_{i=1}^N \\norm{f_i - g_{\\si(i)}}^p = \\norm{f - g \\circ \\si}_p^p $$\n", 
            "where $ g \\circ \\si = (g_{\\si(i)})_i $ is the re-ordered points cloud.\n", 
            "\n", 
            ""
          ]
        }, 
        {
          "cell_type": "heading", 
          "level": 2, 
          "metadata": {}, 
          "source": [
            "Grayscale Image Distribution\n"
          ]
        }, 
        {
          "cell_type": "markdown", 
          "metadata": {}, 
          "source": [
            "We consider here the case $d=1$, in which case one can compute easily\n", 
            "the optimal assignement $\\si^\\star$.\n", 
            "\n", 
            "\n", 
            "Load an image $f \\in \\RR^N$ of $N=n \\times n$ pixels.\n", 
            ""
          ]
        }, 
        {
          "cell_type": "code", 
          "collapsed": false, 
          "input": [
            "n = 256\n", 
            "f = rescale( load_image('lena', n) )"
          ], 
          "language": "python", 
          "outputs": []
        }, 
        {
          "cell_type": "markdown", 
          "metadata": {}, 
          "source": [
            "\n", 
            "\n", 
            "Display it.\n", 
            ""
          ]
        }, 
        {
          "cell_type": "code", 
          "collapsed": false, 
          "input": [
            "\n", 
            "imageplot(f)"
          ], 
          "language": "python", 
          "outputs": []
        }, 
        {
          "cell_type": "markdown", 
          "metadata": {}, 
          "source": [
            "\n", 
            "\n", 
            "A convenient way to visualize the distribution $\\mu_f$ is by computing\n", 
            "an histogram $ h \\in \\RR^Q $ composed using $Q$ bins $ [u_k,u_{k+1})\n", 
            "$. The histogram is computed as\n", 
            "$$ \\forall k=1,\\ldots,Q, \\quad h(p) = \\abs{\\enscond{i}{ f_i \\in [u_k,u_{k+1}) }}. $$\n", 
            "\n", 
            "\n", 
            "Number of bins.\n", 
            ""
          ]
        }, 
        {
          "cell_type": "code", 
          "collapsed": false, 
          "input": [
            "Q = 50"
          ], 
          "language": "python", 
          "outputs": []
        }, 
        {
          "cell_type": "markdown", 
          "metadata": {}, 
          "source": [
            "\n", 
            "\n", 
            "Compute the histogram.\n", 
            ""
          ]
        }, 
        {
          "cell_type": "code", 
          "collapsed": false, 
          "input": [
            "[h,t] = hist(f(:), Q)"
          ], 
          "language": "python", 
          "outputs": []
        }, 
        {
          "cell_type": "markdown", 
          "metadata": {}, 
          "source": [
            "\n", 
            "\n", 
            "Display this normalized histogram.\n", 
            "To make this curve an approximation of a continuous distribution, we\n", 
            "normalize $h$ by $Q/N$.\n", 
            ""
          ]
        }, 
        {
          "cell_type": "code", 
          "collapsed": false, 
          "input": [
            "\n", 
            "bar(t,h*Q/n^2); axis('tight')"
          ], 
          "language": "python", 
          "outputs": []
        }, 
        {
          "cell_type": "heading", 
          "level": 3, 
          "metadata": {}, 
          "source": [
            "Exercise 1"
          ]
        }, 
        {
          "cell_type": "markdown", 
          "metadata": {}, 
          "source": [
            "\n", 
            "Compute and display the histogram of $f$ for an increasing number of bins.\n", 
            "\n", 
            "\n", 
            "\n", 
            "\n", 
            "\n", 
            "\n", 
            "\n", 
            ""
          ]
        }, 
        {
          "cell_type": "code", 
          "collapsed": false, 
          "input": [
            "## Insert your code here."
          ], 
          "language": "python", 
          "outputs": []
        }, 
        {
          "cell_type": "markdown", 
          "metadata": {}, 
          "source": [
            "\n", 
            "\n", 
            "\n", 
            "Load another image $g \\in \\RR^N$.\n", 
            ""
          ]
        }, 
        {
          "cell_type": "code", 
          "collapsed": false, 
          "input": [
            "g = rescale( mean(load_image('fingerprint', n),3) )"
          ], 
          "language": "python", 
          "outputs": []
        }, 
        {
          "cell_type": "markdown", 
          "metadata": {}, 
          "source": [
            "\n", 
            "\n", 
            "Display it.\n", 
            ""
          ]
        }, 
        {
          "cell_type": "code", 
          "collapsed": false, 
          "input": [
            "\n", 
            "imageplot(g)"
          ], 
          "language": "python", 
          "outputs": []
        }, 
        {
          "cell_type": "heading", 
          "level": 3, 
          "metadata": {}, 
          "source": [
            "Exercise 2"
          ]
        }, 
        {
          "cell_type": "markdown", 
          "metadata": {}, 
          "source": [
            "\n", 
            "Compare the two histograms.\n", 
            "\n", 
            "\n", 
            "\n", 
            "\n", 
            "\n", 
            "\n", 
            "\n", 
            ""
          ]
        }, 
        {
          "cell_type": "code", 
          "collapsed": false, 
          "input": [
            "## Insert your code here."
          ], 
          "language": "python", 
          "outputs": []
        }, 
        {
          "cell_type": "markdown", 
          "metadata": {}, 
          "source": [
            "\n", 
            ""
          ]
        }, 
        {
          "cell_type": "heading", 
          "level": 2, 
          "metadata": {}, 
          "source": [
            "1-D Optimal Assignement\n"
          ]
        }, 
        {
          "cell_type": "markdown", 
          "metadata": {}, 
          "source": [
            "For 1-D data, $d=1$, one can compute explicitely an optimal assignement\n", 
            "$\\si^\\star \\in \\Si_N$ for any cost $C(u,v) = \\phi(\\abs{u-v})$ where\n", 
            "$\\phi : \\RR \\rightarrow \\RR$ is a convex function. This is thus the case\n", 
            "for the $L^p$ optimal transport.\n", 
            "\n", 
            "\n", 
            "This is obtained by computing two permutations $ \\si_f, \\si_g \\in \\Si_N $\n", 
            "that order the values of the data\n", 
            "$$ f_{\\si_f(1)} \\leq f_{\\si_f(2)} \\leq \\ldots f_{\\si_f(N)} $$\n", 
            "$$ g_{\\si_g(1)} \\leq g_{\\si_g(2)} \\leq \\ldots g_{\\si_g(N)}. $$\n", 
            "\n", 
            "\n", 
            "An optimal assignement is then optained by assigning, for each $k$,\n", 
            "the index $ i = \\si_f(k) $ to the index $ \\si_g(k) $, i.e.\n", 
            "$$ \\si^\\star = \\si_g \\circ \\si_f^{-1}$$\n", 
            "where $ \\si_f^{-1} $ is the inverse permutation, that satisfies\n", 
            "$$ \\si_f^{-1} \\circ \\si_f = \\text{Id} $$.\n", 
            "\n", 
            "\n", 
            "Note that this optimal assignement $\\si^\\star$ is not unique when there\n", 
            "are two pixels in $f$ or $g$ having the same value.\n", 
            "\n", 
            "\n", 
            "Compute $\\si_f, \\si_g$ in $O(N \\log(N))$ operations using a fast sorting\n", 
            "algorithm (e.g. QuickSort).\n", 
            ""
          ]
        }, 
        {
          "cell_type": "code", 
          "collapsed": false, 
          "input": [
            "[~,sigmaf] = sort(f(:))\n", 
            "[~,sigmag] = sort(g(:))"
          ], 
          "language": "python", 
          "outputs": []
        }, 
        {
          "cell_type": "markdown", 
          "metadata": {}, 
          "source": [
            "\n", 
            "\n", 
            "Compute the inverse permutation $\\sigma_f^{-1}$.\n", 
            ""
          ]
        }, 
        {
          "cell_type": "code", 
          "collapsed": false, 
          "input": [
            "sigmafi = []\n", 
            "sigmafi(sigmaf) = 1:n^2"
          ], 
          "language": "python", 
          "outputs": []
        }, 
        {
          "cell_type": "markdown", 
          "metadata": {}, 
          "source": [
            "\n", 
            "\n", 
            "Compute the optimal permutation $\\sigma^\\star$.\n", 
            ""
          ]
        }, 
        {
          "cell_type": "code", 
          "collapsed": false, 
          "input": [
            "sigma = sigmag(sigmafi)"
          ], 
          "language": "python", 
          "outputs": []
        }, 
        {
          "cell_type": "markdown", 
          "metadata": {}, 
          "source": [
            "\n", 
            "\n", 
            "The optimal assignement is used to compute the projection on the set of\n", 
            "image having the pixel distribution $\\mu_g$\n", 
            "$$ \\Hh_g = \\enscond{m \\in \\RR^N}{ \\mu_m = \\mu_g }. $$\n", 
            "Indeed, for any $ p > 1 $, the $ L^p $ projector on this set\n", 
            "$$ \\pi_g( f )  = \\uargmin{m \\in \\Hh_g} \\norm{ f - m }_p $$\n", 
            "is simply obtained by re-ordering the pixels of $g$ using an optimal\n", 
            "assignement $\\si^\\star \\in \\Si_N$ between $f$ and $g$, i.e.\n", 
            "$$ \\pi_g( f ) = g \\circ \\si^\\star. $$\n", 
            "\n", 
            "\n", 
            "This projection $\\pi_g( f )$ is called the histogram equalization of\n", 
            "$f$ using the histogram of $g$\n", 
            "\n", 
            "\n", 
            "Compute the projection.\n", 
            ""
          ]
        }, 
        {
          "cell_type": "code", 
          "collapsed": false, 
          "input": [
            "f1 = reshape(g(sigma), [n n])"
          ], 
          "language": "python", 
          "outputs": []
        }, 
        {
          "cell_type": "markdown", 
          "metadata": {}, 
          "source": [
            "\n", 
            "\n", 
            "Check the new histogram.\n", 
            ""
          ]
        }, 
        {
          "cell_type": "code", 
          "collapsed": false, 
          "input": [
            "\n", 
            "[h,t] = hist(f1(:), p)\n", 
            "bar(t,h*p/n^2)"
          ], 
          "language": "python", 
          "outputs": []
        }, 
        {
          "cell_type": "markdown", 
          "metadata": {}, 
          "source": [
            "\n", 
            "\n", 
            "Compare before/after equalization.\n", 
            ""
          ]
        }, 
        {
          "cell_type": "code", 
          "collapsed": false, 
          "input": [
            "\n", 
            "imageplot(f, 'f', 1,2,1)\n", 
            "imageplot(f1, '\\pi_g(f)',  1,2,2)"
          ], 
          "language": "python", 
          "outputs": []
        }, 
        {
          "cell_type": "markdown", 
          "metadata": {}, 
          "source": [
            "\n", 
            "\n", 
            ""
          ]
        }, 
        {
          "cell_type": "heading", 
          "level": 2, 
          "metadata": {}, 
          "source": [
            "Histogram Interpolation\n"
          ]
        }, 
        {
          "cell_type": "markdown", 
          "metadata": {}, 
          "source": [
            "We now introduce the linearly interpolated image\n", 
            "$$ \\forall t \\in [0,1], \\quad f_t = (1-t) f + t g \\circ \\sigma^{\\star} .$$\n", 
            "\n", 
            "\n", 
            "One can show that the distribution $ \\mu_{f_t} $ is the geodesic\n", 
            "interpolation in the $L^2$-Wasserstein space between the two distribution\n", 
            "$\\mu_f$ (obtained for $t=0$) and $\\mu_g$ (obtained for $t=1$).\n", 
            "\n", 
            "\n", 
            "One can also show that it is the barycenter between the two distributions\n", 
            "since it has the following variational characterization\n", 
            "$$ \\mu_{f_t} = \\uargmin{\\mu} (1-t)W_2(\\mu_f,\\mu)^2 + t W_2(\\mu_g,\\mu)^2 . $$\n", 
            "\n", 
            "\n", 
            "Define the interpolation operator.\n", 
            ""
          ]
        }, 
        {
          "cell_type": "code", 
          "collapsed": false, 
          "input": [
            "ft = lambda t: reshape( t*f1 + (1-t)*f, [n n])"
          ], 
          "language": "python", 
          "outputs": []
        }, 
        {
          "cell_type": "markdown", 
          "metadata": {}, 
          "source": [
            "\n", 
            "\n", 
            "The midway equalization is obtained for $t=1/2$.\n", 
            ""
          ]
        }, 
        {
          "cell_type": "code", 
          "collapsed": false, 
          "input": [
            "\n", 
            "imageplot(ft(1/2))"
          ], 
          "language": "python", 
          "outputs": []
        }, 
        {
          "cell_type": "heading", 
          "level": 3, 
          "metadata": {}, 
          "source": [
            "Exercise 3"
          ]
        }, 
        {
          "cell_type": "markdown", 
          "metadata": {}, 
          "source": [
            "\n", 
            "Display the progression of the interpolation of the histograms.\n", 
            "\n", 
            "\n", 
            "\n", 
            "\n", 
            "\n", 
            "\n", 
            "\n", 
            "\n", 
            ""
          ]
        }, 
        {
          "cell_type": "code", 
          "collapsed": false, 
          "input": [
            "## Insert your code here."
          ], 
          "language": "python", 
          "outputs": []
        }
      ]
    }
  ]
}