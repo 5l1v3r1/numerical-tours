{
  "metadata": {
    "name": ""
  }, 
  "nbformat": 3, 
  "nbformat_minor": 0, 
  "worksheets": [
    {
      "cells": [
        {
          "cell_type": "heading", 
          "level": 1, 
          "metadata": {}, 
          "source": [
            "Sparse Representation in a Gabor Dictionary"
          ]
        }, 
        {
          "cell_type": "markdown", 
          "metadata": {}, 
          "source": [
            "This numerical tour explores the use of L1 optimization to find sparse representation in a redundant Gabor dictionary.\n", 
            "It shows application to denoising and stereo separation.\n", 
            ""
          ]
        }, 
        {
          "cell_type": "markdown", 
          "metadata": {}, 
          "source": [
            "*Important:* You need to download the file `nt_toolbox.py` from the \n", 
            "root of the github repository.\n", 
            "$\\newcommand{\\dotp}[2]{\\langle #1, #2 \\rangle}\n", 
            "\\newcommand{\\enscond}[2]{\\lbrace #1, #2 \\rbrace}\n", 
            "\\newcommand{\\pd}[2]{ \\frac{ \\partial #1}{\\partial #2} }\n", 
            "\\newcommand{\\umin}[1]{\\underset{#1}{\\min}\\;}\n", 
            "\\newcommand{\\norm}[1]{\\|#1\\|}\n", 
            "\\newcommand{\\abs}[1]{\\left|#1\\right|}\n", 
            "\\newcommand{\\choice}[1]{ \\left\\{  \\begin{array}{l} #1 \\end{array} \\right. }\n", 
            "\\newcommand{\\pa}[1]{\\left(#1\\right)}\n", 
            "\\newcommand{\\qandq}{\\quad\\text{and}\\quad}\n", 
            "\\newcommand{\\qwhereq}{\\quad\\text{where}\\quad}\n", 
            "\\newcommand{\\qifq}{ \\quad \\text{if} \\quad }\n", 
            "\\newcommand{\\qarrq}{ \\quad \\Longrightarrow \\quad }\n", 
            "\\newcommand{\\ZZ}{\\mathbb{Z}}\n", 
            "\\newcommand{\\RR}{\\mathbb{R}}\n", 
            "\\newcommand{\\Nn}{\\mathcal{N}}\n", 
            "\\newcommand{\\Hh}{\\mathcal{H}}\n", 
            "\\newcommand{\\Bb}{\\mathcal{B}}\n", 
            "\\newcommand{\\EE}{\\mathbb{E}}\n", 
            "\\newcommand{\\CC}{\\mathbb{C}}\n", 
            "\\newcommand{\\si}{\\sigma}\n", 
            "\\newcommand{\\al}{\\alpha}\n", 
            "\\newcommand{\\la}{\\lambda}\n", 
            "\\newcommand{\\ga}{\\gamma}\n", 
            "\\newcommand{\\Ga}{\\Gamma}\n", 
            "\\newcommand{\\La}{\\Lambda}\n", 
            "\\newcommand{\\si}{\\sigma}\n", 
            "\\newcommand{\\Si}{\\Sigma}\n", 
            "\\newcommand{\\be}{\\beta}\n", 
            "\\newcommand{\\de}{\\delta}\n", 
            "\\newcommand{\\De}{\\Delta}\n", 
            "\\renewcommand{\\phi}{\\varphi}\n", 
            "\\renewcommand{\\th}{\\theta}\n", 
            "\\newcommand{\\om}{\\omega}\n", 
            "\\newcommand{\\Om}{\\Omega}\n", 
            "$"
          ]
        }, 
        {
          "cell_type": "code", 
          "collapsed": false, 
          "input": [
            "from nt_toolbox import *", 
            "%matplotlib inline", 
            "%load_ext autoreload", 
            "%autoreload 2"
          ], 
          "language": "python", 
          "outputs": []
        }, 
        {
          "cell_type": "heading", 
          "level": 2, 
          "metadata": {}, 
          "source": [
            "Gabor Tight Frame Transform\n"
          ]
        }, 
        {
          "cell_type": "markdown", 
          "metadata": {}, 
          "source": [
            "The Gabor transform is a collection of short time Fourier transforms\n", 
            "(STFT) computed with several windows. The redundancy |K*L| of the transform\n", 
            "depends on the number |L| of windows used and of the overlapping factor |K|\n", 
            "of each STFT.\n", 
            "\n", 
            "\n", 
            "We decide to use a collection of windows with dyadic sizes.\n", 
            "\n", 
            "\n", 
            "Sizes of the windows.\n", 
            ""
          ]
        }, 
        {
          "cell_type": "code", 
          "collapsed": false, 
          "input": [
            "wlist = 32*[4 8 16 32]\n", 
            "L = length(wlist)"
          ], 
          "language": "python", 
          "outputs": []
        }, 
        {
          "cell_type": "markdown", 
          "metadata": {}, 
          "source": [
            "\n", 
            "\n", 
            "Overlap of the window, so that |K=2|.\n", 
            ""
          ]
        }, 
        {
          "cell_type": "code", 
          "collapsed": false, 
          "input": [
            "K = 2\n", 
            "qlist = wlist/K"
          ], 
          "language": "python", 
          "outputs": []
        }, 
        {
          "cell_type": "markdown", 
          "metadata": {}, 
          "source": [
            "\n", 
            "\n", 
            "Overall redundancy.\n", 
            ""
          ]
        }, 
        {
          "cell_type": "code", 
          "collapsed": false, 
          "input": [
            "disp( strcat(['Approximate redundancy of the dictionary=' num2str(K*L) '.']) )"
          ], 
          "language": "python", 
          "outputs": []
        }, 
        {
          "cell_type": "markdown", 
          "metadata": {}, 
          "source": [
            "\n", 
            "\n", 
            "We load a sound.\n", 
            ""
          ]
        }, 
        {
          "cell_type": "code", 
          "collapsed": false, 
          "input": [
            "n = 1024*32\n", 
            "options.n = n\n", 
            "[x0,fs] = load_sound('glockenspiel', n)"
          ], 
          "language": "python", 
          "outputs": []
        }, 
        {
          "cell_type": "markdown", 
          "metadata": {}, 
          "source": [
            "\n", 
            "\n", 
            "Compute its short time Fourier transform with a collection of windows.\n", 
            ""
          ]
        }, 
        {
          "cell_type": "code", 
          "collapsed": false, 
          "input": [
            "options.multichannel = 0\n", 
            "S = perform_stft(x0,wlist,qlist, options)"
          ], 
          "language": "python", 
          "outputs": []
        }, 
        {
          "cell_type": "heading", 
          "level": 3, 
          "metadata": {}, 
          "source": [
            "Exercise 1"
          ]
        }, 
        {
          "cell_type": "markdown", 
          "metadata": {}, 
          "source": [
            "\n", 
            "Compute the true redundancy of the transform. Check that the transform\n", 
            "is a tight frame (energy conservation).\n", 
            "\n", 
            "\n", 
            "\n", 
            "\n", 
            ""
          ]
        }, 
        {
          "cell_type": "code", 
          "collapsed": false, 
          "input": [
            "## Insert your code here."
          ], 
          "language": "python", 
          "outputs": []
        }, 
        {
          "cell_type": "markdown", 
          "metadata": {}, 
          "source": [
            "\n", 
            "\n", 
            "\n", 
            "Display the coefficients.\n", 
            ""
          ]
        }, 
        {
          "cell_type": "code", 
          "collapsed": false, 
          "input": [
            "plot_spectrogram(S, x0)"
          ], 
          "language": "python", 
          "outputs": []
        }, 
        {
          "cell_type": "markdown", 
          "metadata": {}, 
          "source": [
            "\n", 
            "\n", 
            "Reconstructs the signal using the inverse Gabor transform.\n", 
            ""
          ]
        }, 
        {
          "cell_type": "code", 
          "collapsed": false, 
          "input": [
            "x1 = perform_stft(S,wlist,qlist, options)"
          ], 
          "language": "python", 
          "outputs": []
        }, 
        {
          "cell_type": "markdown", 
          "metadata": {}, 
          "source": [
            "\n", 
            "\n", 
            "Check for reconstruction error.\n", 
            ""
          ]
        }, 
        {
          "cell_type": "code", 
          "collapsed": false, 
          "input": [
            "e = norm(x0-x1)/norm(x0)\n", 
            "disp(strcat(['Reconstruction error (should be 0) = ' num2str(e, 3)]))"
          ], 
          "language": "python", 
          "outputs": []
        }, 
        {
          "cell_type": "markdown", 
          "metadata": {}, 
          "source": [
            "\n", 
            ""
          ]
        }, 
        {
          "cell_type": "heading", 
          "level": 2, 
          "metadata": {}, 
          "source": [
            "Gabor Tight Frame Denoising\n"
          ]
        }, 
        {
          "cell_type": "markdown", 
          "metadata": {}, 
          "source": [
            "We can perform denoising by thresholding the Gabor representation.\n", 
            "\n", 
            "\n", 
            "We add noise to the signal.\n", 
            ""
          ]
        }, 
        {
          "cell_type": "code", 
          "collapsed": false, 
          "input": [
            "sigma = .05\n", 
            "x = x0 + sigma*randn(size(x0))"
          ], 
          "language": "python", 
          "outputs": []
        }, 
        {
          "cell_type": "markdown", 
          "metadata": {}, 
          "source": [
            "\n", 
            "\n", 
            "Denoising with soft thresholding.\n", 
            "Setting correctly the threshold is quite difficult because of the\n", 
            "redundancy of the representation.\n", 
            "\n", 
            "transform"
          ]
        }, 
        {
          "cell_type": "code", 
          "collapsed": false, 
          "input": [
            "S = perform_stft(x,wlist,qlist, options)"
          ], 
          "language": "python", 
          "outputs": []
        }, 
        {
          "cell_type": "markdown", 
          "metadata": {}, 
          "source": [
            "threshold"
          ]
        }, 
        {
          "cell_type": "code", 
          "collapsed": false, 
          "input": [
            "T = sigma\n", 
            "ST = perform_thresholding(S, T, 'soft')"
          ], 
          "language": "python", 
          "outputs": []
        }, 
        {
          "cell_type": "markdown", 
          "metadata": {}, 
          "source": [
            "reconstruct"
          ]
        }, 
        {
          "cell_type": "code", 
          "collapsed": false, 
          "input": [
            "xT = perform_stft(ST,wlist,qlist, options)"
          ], 
          "language": "python", 
          "outputs": []
        }, 
        {
          "cell_type": "markdown", 
          "metadata": {}, 
          "source": [
            "\n", 
            "\n", 
            "\n", 
            "Display the result.\n", 
            ""
          ]
        }, 
        {
          "cell_type": "code", 
          "collapsed": false, 
          "input": [
            "err = snr(x0,xT)\n", 
            "\n", 
            "plot_spectrogram(ST, xT)\n", 
            "subplot(length(ST)+1,1,1)\n", 
            "title(strcat(['Denoised, SNR=' num2str(err,3), 'dB']))"
          ], 
          "language": "python", 
          "outputs": []
        }, 
        {
          "cell_type": "heading", 
          "level": 3, 
          "metadata": {}, 
          "source": [
            "Exercise 2"
          ]
        }, 
        {
          "cell_type": "markdown", 
          "metadata": {}, 
          "source": [
            "\n", 
            "Find the best threshold, that gives the smallest error.\n", 
            "\n", 
            "\n", 
            "\n", 
            "\n", 
            "\n", 
            "\n", 
            "\n", 
            "\n", 
            "\n", 
            ""
          ]
        }, 
        {
          "cell_type": "code", 
          "collapsed": false, 
          "input": [
            "## Insert your code here."
          ], 
          "language": "python", 
          "outputs": []
        }, 
        {
          "cell_type": "markdown", 
          "metadata": {}, 
          "source": [
            "\n", 
            ""
          ]
        }, 
        {
          "cell_type": "heading", 
          "level": 2, 
          "metadata": {}, 
          "source": [
            "Basis Pursuit in the Gabor Frame\n"
          ]
        }, 
        {
          "cell_type": "markdown", 
          "metadata": {}, 
          "source": [
            "Since the representation is highly redundant, it is possible to improve\n", 
            "the quality of the representation using a basis pursuit denoising that\n", 
            "optimize the L1 norm of the coefficients.\n", 
            "\n", 
            "\n", 
            "The basis pursuit finds a set of coefficients |S1| by minimizing\n", 
            "\n", 
            "\n", 
            "|min_{S1} 1/2*norm(x-x1)^2 + lambda*norm(S1,1)   (*)|\n", 
            "\n", 
            "\n", 
            "Where |x1| is the signal reconstructed from the Gabor coefficients |S1|.\n", 
            "\n", 
            "\n", 
            "\n", 
            "The parameter |lambda| should be optimized to match the noise level.\n", 
            "Increasing |lambda| increases the sparsity of the solution, but then the\n", 
            "approximation |x1| deviates from the noisy observations |x1|.\n", 
            "\n", 
            "\n", 
            "Basis pursuit denoising |(*)| is solved by iterative thresholding, which\n", 
            "iterates between a step of gradient descent, and a step of thresholding.\n", 
            "\n", 
            "\n", 
            "Initialization of |x1| and |S1|.\n", 
            ""
          ]
        }, 
        {
          "cell_type": "code", 
          "collapsed": false, 
          "input": [
            "lambda = .1\n", 
            "x1 = x\n", 
            "S1 = perform_stft(x1,wlist,qlist, options)"
          ], 
          "language": "python", 
          "outputs": []
        }, 
        {
          "cell_type": "markdown", 
          "metadata": {}, 
          "source": [
            "\n", 
            "\n", 
            "Step 1: gradient descent of |norm(x-x1)^2|.\n", 
            "\n", 
            "residual"
          ]
        }, 
        {
          "cell_type": "code", 
          "collapsed": false, 
          "input": [
            "r = x - x1\n", 
            "Sr = perform_stft(r, wlist, qlist, options)\n", 
            "S1 = cell_add(S1, Sr)"
          ], 
          "language": "python", 
          "outputs": []
        }, 
        {
          "cell_type": "markdown", 
          "metadata": {}, 
          "source": [
            "\n", 
            "\n", 
            "Step 2: thresholding and update of |x1|.\n", 
            "\n", 
            "\n", 
            "threshold"
          ]
        }, 
        {
          "cell_type": "code", 
          "collapsed": false, 
          "input": [
            "S1 = perform_thresholding(S1, lambda, 'soft')"
          ], 
          "language": "python", 
          "outputs": []
        }, 
        {
          "cell_type": "markdown", 
          "metadata": {}, 
          "source": [
            "update the denoised signal"
          ]
        }, 
        {
          "cell_type": "code", 
          "collapsed": false, 
          "input": [
            "x1 = perform_stft(S1,wlist,qlist, options)"
          ], 
          "language": "python", 
          "outputs": []
        }, 
        {
          "cell_type": "markdown", 
          "metadata": {}, 
          "source": [
            "\n", 
            "\n", 
            "\n", 
            "The difficulty is to set the value of |lambda|.\n", 
            "If the basis were orthogonal, it should be set to\n", 
            "approximately 3/2*sigma (soft thresholding). Because of the redundancy of\n", 
            "the representation in Gabor frame, it should be set to a slightly larger\n", 
            "value.\n", 
            ""
          ]
        }, 
        {
          "cell_type": "heading", 
          "level": 3, 
          "metadata": {}, 
          "source": [
            "Exercise 3"
          ]
        }, 
        {
          "cell_type": "markdown", 
          "metadata": {}, 
          "source": [
            "\n", 
            "Perform the iterative thresholding by progressively decaying the value\n", 
            "of |lambda| during the iterations, starting from |lambda=1.5*sigma| until\n", 
            "|lambda=.5*sigma|. Retain the solution |xbp| together with the coefficients |Sbp|\n", 
            "that provides the smallest\n", 
            "error.\n", 
            "\n", 
            "\n", 
            "\n", 
            "\n", 
            "\n", 
            "\n", 
            "\n", 
            "\n", 
            "\n", 
            "\n", 
            "\n", 
            "\n", 
            "\n", 
            "\n", 
            "\n", 
            "\n", 
            "\n", 
            "\n", 
            "\n", 
            "\n", 
            "\n", 
            "\n", 
            "\n", 
            "\n", 
            ""
          ]
        }, 
        {
          "cell_type": "code", 
          "collapsed": false, 
          "input": [
            "## Insert your code here."
          ], 
          "language": "python", 
          "outputs": []
        }, 
        {
          "cell_type": "markdown", 
          "metadata": {}, 
          "source": [
            "\n", 
            "\n", 
            "\n", 
            "\n", 
            "\n", 
            "Display the solution computed by basis pursuit.\n", 
            ""
          ]
        }, 
        {
          "cell_type": "code", 
          "collapsed": false, 
          "input": [
            "e = snr(x0,xbp)\n", 
            "\n", 
            "plot_spectrogram(Sbp, xbp)\n", 
            "subplot(length(Sbp)+1,1,1)\n", 
            "title(strcat(['Denoised, SNR=' num2str(e,3), 'dB']))"
          ], 
          "language": "python", 
          "outputs": []
        }, 
        {
          "cell_type": "markdown", 
          "metadata": {}, 
          "source": [
            "\n", 
            ""
          ]
        }, 
        {
          "cell_type": "heading", 
          "level": 2, 
          "metadata": {}, 
          "source": [
            "Sparsity to Improve Audio Separation\n"
          ]
        }, 
        {
          "cell_type": "markdown", 
          "metadata": {}, 
          "source": [
            "The increase of sparsity produced by L1 minimization is helpful to\n", 
            "improve audio stereo separation.\n", 
            "\n", 
            "\n", 
            "Load 3 sounds.\n", 
            ""
          ]
        }, 
        {
          "cell_type": "code", 
          "collapsed": false, 
          "input": [
            "n = 1024*32\n", 
            "options.n = n\n", 
            "s = 3; % number of sound\n", 
            "p = 2; % number of micros\n", 
            "options.subsampling = 1\n", 
            "x = zeros(n,3)\n", 
            "[x(:,1),fs] = load_sound('bird', n, options)\n", 
            "[x(:,2),fs] = load_sound('male', n, options)\n", 
            "[x(:,3),fs] = load_sound('glockenspiel', n, options)"
          ], 
          "language": "python", 
          "outputs": []
        }, 
        {
          "cell_type": "markdown", 
          "metadata": {}, 
          "source": [
            "normalize the energy of the signals"
          ]
        }, 
        {
          "cell_type": "code", 
          "collapsed": false, 
          "input": [
            "x = x./repmat(std(x,1), [n 1])"
          ], 
          "language": "python", 
          "outputs": []
        }, 
        {
          "cell_type": "markdown", 
          "metadata": {}, 
          "source": [
            "\n", 
            "\n", 
            "We mix the sound using a |2x3| transformation matrix.\n", 
            "Here the direction are well-spaced, but you can try with more complicated\n", 
            "mixing matrices.\n", 
            "\n", 
            "compute the mixing matrix"
          ]
        }, 
        {
          "cell_type": "code", 
          "collapsed": false, 
          "input": [
            "theta = linspace(0,pi(),s+1); theta(s+1) = []\n", 
            "theta(1) = .2\n", 
            "M = [cos(theta); sin(theta)]"
          ], 
          "language": "python", 
          "outputs": []
        }, 
        {
          "cell_type": "markdown", 
          "metadata": {}, 
          "source": [
            "compute the mixed sources"
          ]
        }, 
        {
          "cell_type": "code", 
          "collapsed": false, 
          "input": [
            "y = x*M'"
          ], 
          "language": "python", 
          "outputs": []
        }, 
        {
          "cell_type": "markdown", 
          "metadata": {}, 
          "source": [
            "\n", 
            "\n", 
            "We transform the stero pair using the multi-channel STFT (each channel is transformed independantly.\n", 
            ""
          ]
        }, 
        {
          "cell_type": "code", 
          "collapsed": false, 
          "input": [
            "options.multichannel = 1\n", 
            "S = perform_stft(y, wlist, qlist, options)"
          ], 
          "language": "python", 
          "outputs": []
        }, 
        {
          "cell_type": "markdown", 
          "metadata": {}, 
          "source": [
            "check for reconstruction"
          ]
        }, 
        {
          "cell_type": "code", 
          "collapsed": false, 
          "input": [
            "y1 = perform_stft(S, wlist, qlist, options)\n", 
            "disp(strcat(['Reconstruction error (should be 0)=' num2str(norm(y-y1,'fro')/norm(y, 'fro')) '.' ]))"
          ], 
          "language": "python", 
          "outputs": []
        }, 
        {
          "cell_type": "markdown", 
          "metadata": {}, 
          "source": [
            "\n", 
            "\n", 
            "Now we perform a multi-channel basis pursuit to find a sparse approximation of the\n", 
            "coefficients.\n", 
            "\n", 
            "regularization parameter"
          ]
        }, 
        {
          "cell_type": "code", 
          "collapsed": false, 
          "input": [
            "lambda = .2"
          ], 
          "language": "python", 
          "outputs": []
        }, 
        {
          "cell_type": "markdown", 
          "metadata": {}, 
          "source": [
            "initialization"
          ]
        }, 
        {
          "cell_type": "code", 
          "collapsed": false, 
          "input": [
            "y1 = y\n", 
            "S1 = S\n", 
            "niter = 100\n", 
            "err = []"
          ], 
          "language": "python", 
          "outputs": []
        }, 
        {
          "cell_type": "markdown", 
          "metadata": {}, 
          "source": [
            "iterations"
          ]
        }, 
        {
          "cell_type": "code", 
          "collapsed": false, 
          "input": [
            "for i in 1:niter:\n", 
            "    % progressbar(i,niter)\n", 
            "    % gradient\n", 
            "    r = y - y1\n", 
            "    Sr = perform_stft(r, wlist, qlist, options)\n", 
            "    S1 = cell_add(S1, Sr)\n", 
            "    % multi-channel thresholding\n", 
            "    S1 = perform_thresholding(S1, lambda, 'soft-multichannel')\n", 
            "    % update the value of lambda to match noise\n", 
            "    y1 = perform_stft(S1,wlist,qlist, options)\n", 
            ""
          ], 
          "language": "python", 
          "outputs": []
        }, 
        {
          "cell_type": "markdown", 
          "metadata": {}, 
          "source": [
            "\n", 
            "\n", 
            "\n", 
            "Create the point cloud of both the tight frame and the sparse BP coefficients.\n", 
            ""
          ]
        }, 
        {
          "cell_type": "code", 
          "collapsed": false, 
          "input": [
            "P1 = []; P = []\n", 
            "for i in 1:length(S):\n", 
            "    Si = reshape( S1{i}, [size(S1{i},1)*size(S1{i},2) 2] )\n", 
            "    P1 = cat(1, P1,  Si)\n", 
            "    Si = reshape( S{i}, [size(S{i},1)*size(S{i},2) 2] )\n", 
            "    P = cat(1, P,  Si)\n", 
            "\n", 
            "P = [real(P);imag(P)]\n", 
            "P1 = [real(P1);imag(P1)]"
          ], 
          "language": "python", 
          "outputs": []
        }, 
        {
          "cell_type": "markdown", 
          "metadata": {}, 
          "source": [
            "\n", 
            "\n", 
            "Display the two point clouds.\n", 
            ""
          ]
        }, 
        {
          "cell_type": "code", 
          "collapsed": false, 
          "input": [
            "p = size(P,1)\n", 
            "m = 10000\n", 
            "sel = randperm(p); sel = sel(1:m)\n", 
            "\n", 
            "subplot(1,2,1)\n", 
            "plot( P(sel,1),P(sel,2), '.' )\n", 
            "title('Tight frame coefficients')\n", 
            "axis([-10 10 -10 10])\n", 
            "subplot(1,2,2)\n", 
            "plot( P1(sel,1),P1(sel,2), '.' )\n", 
            "title('Basis Pursuit coefficients')\n", 
            "axis([-10 10 -10 10])"
          ], 
          "language": "python", 
          "outputs": []
        }, 
        {
          "cell_type": "markdown", 
          "metadata": {}, 
          "source": [
            "\n", 
            "\n", 
            "Compute the angles of the points with largest energy.\n", 
            ""
          ]
        }, 
        {
          "cell_type": "code", 
          "collapsed": false, 
          "input": [
            "d  = sqrt(sum(P.^2,2))\n", 
            "d1 = sqrt(sum(P1.^2,2))\n", 
            "I = find( d>.2 )\n", 
            "I1 = find( d1>.2 )"
          ], 
          "language": "python", 
          "outputs": []
        }, 
        {
          "cell_type": "markdown", 
          "metadata": {}, 
          "source": [
            "compute angles"
          ]
        }, 
        {
          "cell_type": "code", 
          "collapsed": false, 
          "input": [
            "Theta  = mod(atan2(P(I,2),P(I,1)), pi())\n", 
            "Theta1 = mod(atan2(P1(I1,2),P1(I1,1)), pi())"
          ], 
          "language": "python", 
          "outputs": []
        }, 
        {
          "cell_type": "markdown", 
          "metadata": {}, 
          "source": [
            "\n", 
            "\n", 
            "Compute and display the histogram of angles.\n", 
            "We reaint only a small sub-set of most active coefficients.\n", 
            "\n", 
            "compute histograms"
          ]
        }, 
        {
          "cell_type": "code", 
          "collapsed": false, 
          "input": [
            "nbins = 150\n", 
            "[h,t] = hist(Theta, nbins)\n", 
            "h = h/sum(h)\n", 
            "[h1,t1] = hist(Theta1, nbins)\n", 
            "h1 = h1/sum(h1)"
          ], 
          "language": "python", 
          "outputs": []
        }, 
        {
          "cell_type": "markdown", 
          "metadata": {}, 
          "source": [
            "display histograms"
          ]
        }, 
        {
          "cell_type": "code", 
          "collapsed": false, 
          "input": [
            "\n", 
            "subplot(2,1,1)\n", 
            "bar(t,h); axis('tight')\n", 
            "set_graphic_sizes([], 20)\n", 
            "title('Tight frame coefficients')\n", 
            "subplot(2,1,2)\n", 
            "bar(t1,h1); axis('tight')\n", 
            "set_graphic_sizes([], 20)\n", 
            "title('Sparse coefficients')"
          ], 
          "language": "python", 
          "outputs": []
        }, 
        {
          "cell_type": "heading", 
          "level": 3, 
          "metadata": {}, 
          "source": [
            "Exercise 4"
          ]
        }, 
        {
          "cell_type": "markdown", 
          "metadata": {}, 
          "source": [
            "\n", 
            "Compare the source separation obtained by masking with a tight frame Gabor\n", 
            "transform and with the coefficients computed by a basis pursuit\n", 
            "sparsification process."
          ]
        }, 
        {
          "cell_type": "code", 
          "collapsed": false, 
          "input": [
            "## Insert your code here."
          ], 
          "language": "python", 
          "outputs": []
        }
      ]
    }
  ]
}