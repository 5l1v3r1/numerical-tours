{
  "metadata": {
    "name": ""
  }, 
  "nbformat": 3, 
  "nbformat_minor": 0, 
  "worksheets": [
    {
      "cells": [
        {
          "cell_type": "heading", 
          "level": 1, 
          "metadata": {}, 
          "source": [
            "Manifold Learning with Isomap"
          ]
        }, 
        {
          "cell_type": "markdown", 
          "metadata": {}, 
          "source": [
            "This tour explores the Isomap algorithm for manifold learning.\n", 
            "\n", 
            "\n", 
            "The <http://waldron.stanford.edu/~isomap/ Isomap> algorithm is introduced in\n", 
            "\n", 
            "\n", 
            "_A Global Geometric Framework for Nonlinear Dimensionality Reduction,_\n", 
            "J. B. Tenenbaum, V. de Silva and J. C. Langford,\n", 
            "Science 290 (5500): 2319-2323, 22 December 2000.\n", 
            "\n", 
            "CMT"
          ]
        }, 
        {
          "cell_type": "markdown", 
          "metadata": {}, 
          "source": [
            "*Important:* You need to download the file `nt_toolbox.py` from the \n", 
            "root of the github repository.\n", 
            "$\\newcommand{\\dotp}[2]{\\langle #1, #2 \\rangle}\n", 
            "\\newcommand{\\enscond}[2]{\\lbrace #1, #2 \\rbrace}\n", 
            "\\newcommand{\\pd}[2]{ \\frac{ \\partial #1}{\\partial #2} }\n", 
            "\\newcommand{\\umin}[1]{\\underset{#1}{\\min}\\;}\n", 
            "\\newcommand{\\norm}[1]{\\|#1\\|}\n", 
            "\\newcommand{\\abs}[1]{\\left|#1\\right|}\n", 
            "\\newcommand{\\choice}[1]{ \\left\\{  \\begin{array}{l} #1 \\end{array} \\right. }\n", 
            "\\newcommand{\\pa}[1]{\\left(#1\\right)}\n", 
            "\\newcommand{\\qandq}{\\quad\\text{and}\\quad}\n", 
            "\\newcommand{\\qwhereq}{\\quad\\text{where}\\quad}\n", 
            "\\newcommand{\\qifq}{ \\quad \\text{if} \\quad }\n", 
            "\\newcommand{\\qarrq}{ \\quad \\Longrightarrow \\quad }\n", 
            "\\newcommand{\\ZZ}{\\mathbb{Z}}\n", 
            "\\newcommand{\\RR}{\\mathbb{R}}\n", 
            "\\newcommand{\\Nn}{\\mathcal{N}}\n", 
            "\\newcommand{\\Hh}{\\mathcal{H}}\n", 
            "\\newcommand{\\Bb}{\\mathcal{B}}\n", 
            "\\newcommand{\\EE}{\\mathbb{E}}\n", 
            "\\newcommand{\\CC}{\\mathbb{C}}\n", 
            "\\newcommand{\\si}{\\sigma}\n", 
            "\\newcommand{\\al}{\\alpha}\n", 
            "\\newcommand{\\la}{\\lambda}\n", 
            "\\newcommand{\\ga}{\\gamma}\n", 
            "\\newcommand{\\Ga}{\\Gamma}\n", 
            "\\newcommand{\\La}{\\Lambda}\n", 
            "\\newcommand{\\si}{\\sigma}\n", 
            "\\newcommand{\\Si}{\\Sigma}\n", 
            "\\newcommand{\\be}{\\beta}\n", 
            "\\newcommand{\\de}{\\delta}\n", 
            "\\newcommand{\\De}{\\Delta}\n", 
            "\\renewcommand{\\phi}{\\varphi}\n", 
            "\\renewcommand{\\th}{\\theta}\n", 
            "\\newcommand{\\om}{\\omega}\n", 
            "\\newcommand{\\Om}{\\Omega}\n", 
            "$"
          ]
        }, 
        {
          "cell_type": "code", 
          "collapsed": false, 
          "input": [
            "from nt_toolbox import *", 
            "%matplotlib inline", 
            "%load_ext autoreload", 
            "%autoreload 2"
          ], 
          "language": "python", 
          "outputs": []
        }, 
        {
          "cell_type": "markdown", 
          "metadata": {}, 
          "source": [
            "CMT\n", 
            ""
          ]
        }, 
        {
          "cell_type": "code", 
          "collapsed": false, 
          "input": [
            "perform_toolbox_installation('signal', 'general', 'graph')"
          ], 
          "language": "python", 
          "outputs": []
        }, 
        {
          "cell_type": "markdown", 
          "metadata": {}, 
          "source": [
            "\n", 
            "CMT"
          ]
        }, 
        {
          "cell_type": "code", 
          "collapsed": false, 
          "input": [
            "rep = 'results/fastmarching_bendinginv_2d/'\n", 
            "if not(exist(rep))\n", 
            "    mkdir(rep)\n", 
            ""
          ], 
          "language": "python", 
          "outputs": []
        }, 
        {
          "cell_type": "markdown", 
          "metadata": {}, 
          "source": [
            "CMT\n", 
            ""
          ]
        }, 
        {
          "cell_type": "heading", 
          "level": 2, 
          "metadata": {}, 
          "source": [
            "Graph Approximation of Manifolds\n"
          ]
        }, 
        {
          "cell_type": "markdown", 
          "metadata": {}, 
          "source": [
            "Manifold learning consist in approximating the parameterization of a\n", 
            "manifold represented as a point cloud.\n", 
            "\n", 
            "\n", 
            "First we load a simple 3D point cloud, the famous Swiss Roll.\n", 
            "\n", 
            "\n", 
            "Number of points.\n", 
            ""
          ]
        }, 
        {
          "cell_type": "code", 
          "collapsed": false, 
          "input": [
            "n = 1000"
          ], 
          "language": "python", 
          "outputs": []
        }, 
        {
          "cell_type": "markdown", 
          "metadata": {}, 
          "source": [
            "\n", 
            "\n", 
            "Random position on the parameteric domain.\n", 
            ""
          ]
        }, 
        {
          "cell_type": "code", 
          "collapsed": false, 
          "input": [
            "x = rand(2,n)"
          ], 
          "language": "python", 
          "outputs": []
        }, 
        {
          "cell_type": "markdown", 
          "metadata": {}, 
          "source": [
            "\n", 
            "\n", 
            "Mapping on the manifold.\n", 
            ""
          ]
        }, 
        {
          "cell_type": "code", 
          "collapsed": false, 
          "input": [
            "v = 3*pi/2 * (.1 + 2*x(1,:))\n", 
            "X  = zeros(3,n)\n", 
            "X(2,:) = 20 * x(2,:)\n", 
            "X(1,:) = - cos( v ) .* v\n", 
            "X(3,:) = sin( v ) .* v"
          ], 
          "language": "python", 
          "outputs": []
        }, 
        {
          "cell_type": "markdown", 
          "metadata": {}, 
          "source": [
            "\n", 
            "\n", 
            "Parameter for display.\n", 
            ""
          ]
        }, 
        {
          "cell_type": "code", 
          "collapsed": false, 
          "input": [
            "ms = 50\n", 
            "lw = 1.5\n", 
            "v1 = -15; v2 = 20"
          ], 
          "language": "python", 
          "outputs": []
        }, 
        {
          "cell_type": "markdown", 
          "metadata": {}, 
          "source": [
            "\n", 
            "\n", 
            "Display the point cloud.\n", 
            ""
          ]
        }, 
        {
          "cell_type": "code", 
          "collapsed": false, 
          "input": [
            "\n", 
            "scatter3(X(1,:),X(2,:),X(3,:),ms,v, 'filled')\n", 
            "colormap jet(256)\n", 
            "view(v1,v2); axis('equal'); axis('off')"
          ], 
          "language": "python", 
          "outputs": []
        }, 
        {
          "cell_type": "markdown", 
          "metadata": {}, 
          "source": [
            "\n", 
            "CMT"
          ]
        }, 
        {
          "cell_type": "code", 
          "collapsed": false, 
          "input": [
            "saveas(gcf, [rep 'isomap-cloud.eps'], 'epsc')"
          ], 
          "language": "python", 
          "outputs": []
        }, 
        {
          "cell_type": "markdown", 
          "metadata": {}, 
          "source": [
            "CMT\n", 
            "\n", 
            "\n", 
            "Compute the pairwise Euclidean distance matrix.\n", 
            ""
          ]
        }, 
        {
          "cell_type": "code", 
          "collapsed": false, 
          "input": [
            "D1 = repmat(sum(X.^2,1),n,1)\n", 
            "D1 = sqrt(D1 + D1' - 2*X'*X)"
          ], 
          "language": "python", 
          "outputs": []
        }, 
        {
          "cell_type": "markdown", 
          "metadata": {}, 
          "source": [
            "\n", 
            "\n", 
            "Number of NN for the graph.\n", 
            ""
          ]
        }, 
        {
          "cell_type": "code", 
          "collapsed": false, 
          "input": [
            "k = 6"
          ], 
          "language": "python", 
          "outputs": []
        }, 
        {
          "cell_type": "markdown", 
          "metadata": {}, 
          "source": [
            "\n", 
            "\n", 
            "Compute the k-NN connectivity.\n", 
            ""
          ]
        }, 
        {
          "cell_type": "code", 
          "collapsed": false, 
          "input": [
            "[DNN,NN] = sort(D1)\n", 
            "NN = NN(2:k+1,:)\n", 
            "DNN = DNN(2:k+1,:)"
          ], 
          "language": "python", 
          "outputs": []
        }, 
        {
          "cell_type": "markdown", 
          "metadata": {}, 
          "source": [
            "\n", 
            "\n", 
            "Adjacency matrix, and weighted adjacency.\n", 
            ""
          ]
        }, 
        {
          "cell_type": "code", 
          "collapsed": false, 
          "input": [
            "B = repmat(1:n, [k 1])\n", 
            "A = sparse(B(:), NN(:), ones(k*n,1))"
          ], 
          "language": "python", 
          "outputs": []
        }, 
        {
          "cell_type": "markdown", 
          "metadata": {}, 
          "source": [
            "\n", 
            "\n", 
            "Weighted adjacency (the metric on the graph).\n", 
            ""
          ]
        }, 
        {
          "cell_type": "code", 
          "collapsed": false, 
          "input": [
            "W = sparse(B(:), NN(:), DNN(:))"
          ], 
          "language": "python", 
          "outputs": []
        }, 
        {
          "cell_type": "markdown", 
          "metadata": {}, 
          "source": [
            "\n", 
            "\n", 
            "Display the graph.\n", 
            ""
          ]
        }, 
        {
          "cell_type": "code", 
          "collapsed": false, 
          "input": [
            "options.lw = lw\n", 
            "options.ps = 0.01\n", 
            "clf; hold on\n", 
            "scatter3(X(1,:),X(2,:),X(3,:),ms,v, 'filled')\n", 
            "plot_graph(A, X, options)\n", 
            "colormap jet(256)\n", 
            "view(v1,v2); axis('equal'); axis('off')\n", 
            "zoom(.8)"
          ], 
          "language": "python", 
          "outputs": []
        }, 
        {
          "cell_type": "markdown", 
          "metadata": {}, 
          "source": [
            "\n", 
            "CMT"
          ]
        }, 
        {
          "cell_type": "code", 
          "collapsed": false, 
          "input": [
            "saveas(gcf, [rep 'isomap-graph.eps'], 'epsc')"
          ], 
          "language": "python", 
          "outputs": []
        }, 
        {
          "cell_type": "markdown", 
          "metadata": {}, 
          "source": [
            "CMT\n", 
            ""
          ]
        }, 
        {
          "cell_type": "heading", 
          "level": 2, 
          "metadata": {}, 
          "source": [
            "Floyd Algorithm to Compute Pairwise Geodesic Distances\n"
          ]
        }, 
        {
          "cell_type": "markdown", 
          "metadata": {}, 
          "source": [
            "A simple algorithm to compute the geodesic distances between all pairs of\n", 
            "points on a graph is Floyd iterative algorithm. Its complexity is\n", 
            "|O(n^3)| where |n| is the number of points. It is thus quite slow for\n", 
            "sparse graph, where Dijkstra runs in |O(log(n)*n^2)|.\n", 
            "\n", 
            "\n", 
            "Floyd algorithm iterates the following update rule, for |k=1,...,n|\n", 
            "\n", 
            "\n", 
            "|D(i,j) <- min(D(i,j), D(i,k)+D(k,j)|,\n", 
            "\n", 
            "\n", 
            "with the initialization |D(i,j)=W(i,j)| if |W(i,j)>0|, and\n", 
            "|D(i,j)=Inf| if |W(i,j)=0|.\n", 
            "\n", 
            "\n", 
            "Make the graph symmetric.\n", 
            ""
          ]
        }, 
        {
          "cell_type": "code", 
          "collapsed": false, 
          "input": [
            "D = full(W)\n", 
            "D = (D+D')/2"
          ], 
          "language": "python", 
          "outputs": []
        }, 
        {
          "cell_type": "markdown", 
          "metadata": {}, 
          "source": [
            "\n", 
            "\n", 
            "Initialize the matrix.\n", 
            ""
          ]
        }, 
        {
          "cell_type": "code", 
          "collapsed": false, 
          "input": [
            "D(D==0) = Inf"
          ], 
          "language": "python", 
          "outputs": []
        }, 
        {
          "cell_type": "markdown", 
          "metadata": {}, 
          "source": [
            "\n", 
            "\n", 
            "Add connexion between a point and itself.\n", 
            ""
          ]
        }, 
        {
          "cell_type": "code", 
          "collapsed": false, 
          "input": [
            "D = D - diag(diag(D))"
          ], 
          "language": "python", 
          "outputs": []
        }, 
        {
          "cell_type": "heading", 
          "level": 3, 
          "metadata": {}, 
          "source": [
            "Exercise 1"
          ]
        }, 
        {
          "cell_type": "markdown", 
          "metadata": {}, 
          "source": [
            "\n", 
            "Implement the Floyd algorithm to compute the full distance matrix\n", 
            "|D|, where |D(i,j)| is the geodesic distance between\n", 
            "\n", 
            "\n", 
            "\n", 
            ""
          ]
        }, 
        {
          "cell_type": "code", 
          "collapsed": false, 
          "input": [
            "## Insert your code here."
          ], 
          "language": "python", 
          "outputs": []
        }, 
        {
          "cell_type": "markdown", 
          "metadata": {}, 
          "source": [
            "\n", 
            "\n", 
            "\n", 
            "Find index of vertices that are not connected to the main manifold.\n", 
            ""
          ]
        }, 
        {
          "cell_type": "code", 
          "collapsed": false, 
          "input": [
            "Iremove = find(D(:,1)==Inf)"
          ], 
          "language": "python", 
          "outputs": []
        }, 
        {
          "cell_type": "markdown", 
          "metadata": {}, 
          "source": [
            "\n", 
            "\n", 
            "Remove Inf remaining values (disconnected comonents).\n", 
            ""
          ]
        }, 
        {
          "cell_type": "code", 
          "collapsed": false, 
          "input": [
            "D(D==Inf) = 0"
          ], 
          "language": "python", 
          "outputs": []
        }, 
        {
          "cell_type": "heading", 
          "level": 2, 
          "metadata": {}, 
          "source": [
            "Isomap with Classical Multidimensional Scaling\n"
          ]
        }, 
        {
          "cell_type": "markdown", 
          "metadata": {}, 
          "source": [
            "Isomap perform the dimensionality reduction by applying multidimensional\n", 
            "scaling.\n", 
            "\n", 
            "\n", 
            "Please refers to the tours on Bending Invariant for detail on\n", 
            "Classical MDS (strain minimization).\n", 
            ""
          ]
        }, 
        {
          "cell_type": "heading", 
          "level": 3, 
          "metadata": {}, 
          "source": [
            "Exercise 2"
          ]
        }, 
        {
          "cell_type": "markdown", 
          "metadata": {}, 
          "source": [
            "\n", 
            "Perform classical MDS to compute the 2D flattening.\n", 
            "centered kernel\n", 
            "\n", 
            "\n", 
            "diagonalization\n", 
            "\n", 
            "\n", 
            "\n", 
            "\n", 
            "plot graph\n", 
            "\n", 
            "\n", 
            "\n", 
            "\n", 
            ""
          ]
        }, 
        {
          "cell_type": "code", 
          "collapsed": false, 
          "input": [
            "## Insert your code here."
          ], 
          "language": "python", 
          "outputs": []
        }, 
        {
          "cell_type": "markdown", 
          "metadata": {}, 
          "source": [
            "\n", 
            "\n", 
            "\n", 
            "Redess the points using the two leading eigenvectors of the covariance\n", 
            "matrix (PCA correction).\n", 
            ""
          ]
        }, 
        {
          "cell_type": "code", 
          "collapsed": false, 
          "input": [
            "[U,L] = eig(Xstrain*Xstrain' / n)\n", 
            "Xstrain1 = U'*Xstrain"
          ], 
          "language": "python", 
          "outputs": []
        }, 
        {
          "cell_type": "markdown", 
          "metadata": {}, 
          "source": [
            "\n", 
            "\n", 
            "Remove problematic points.\n", 
            ""
          ]
        }, 
        {
          "cell_type": "code", 
          "collapsed": false, 
          "input": [
            "Xstrain1(:,Iremove) = Inf"
          ], 
          "language": "python", 
          "outputs": []
        }, 
        {
          "cell_type": "markdown", 
          "metadata": {}, 
          "source": [
            "\n", 
            "\n", 
            "Display the final result of the dimensionality reduction.\n", 
            "\n", 
            ""
          ]
        }, 
        {
          "cell_type": "code", 
          "collapsed": false, 
          "input": [
            "clf; hold on\n", 
            "scatter(Xstrain1(1,:),Xstrain1(2,:),ms,v, 'filled')\n", 
            "plot_graph(A, Xstrain1, options)\n", 
            "colormap jet(256)\n", 
            "axis('equal'); axis('off')"
          ], 
          "language": "python", 
          "outputs": []
        }, 
        {
          "cell_type": "markdown", 
          "metadata": {}, 
          "source": [
            "\n", 
            "CMT"
          ]
        }, 
        {
          "cell_type": "code", 
          "collapsed": false, 
          "input": [
            "saveas(gcf, [rep 'isomap-strain.eps'], 'epsc')"
          ], 
          "language": "python", 
          "outputs": []
        }, 
        {
          "cell_type": "markdown", 
          "metadata": {}, 
          "source": [
            "CMT\n", 
            "\n", 
            "\n", 
            "For comparison, the ideal locations on the parameter domain.\n", 
            ""
          ]
        }, 
        {
          "cell_type": "code", 
          "collapsed": false, 
          "input": [
            "Y = cat(1, v, X(2,:))\n", 
            "Y(1,:) = rescale(Y(1,:), min(Xstrain(1,:)), max(Xstrain(1,:)))\n", 
            "Y(2,:) = rescale(Y(2,:), min(Xstrain(2,:)), max(Xstrain(2,:)))"
          ], 
          "language": "python", 
          "outputs": []
        }, 
        {
          "cell_type": "markdown", 
          "metadata": {}, 
          "source": [
            "\n", 
            "\n", 
            "Display the ideal graph on the reduced parameter domain.\n", 
            ""
          ]
        }, 
        {
          "cell_type": "code", 
          "collapsed": false, 
          "input": [
            "clf; hold on\n", 
            "scatter(Y(1,:),Y(2,:),ms,v, 'filled')\n", 
            "plot_graph(A,  Y, options)\n", 
            "colormap jet(256)\n", 
            "axis('equal'); axis('off')\n", 
            "camroll(90)"
          ], 
          "language": "python", 
          "outputs": []
        }, 
        {
          "cell_type": "markdown", 
          "metadata": {}, 
          "source": [
            "\n", 
            "CMT"
          ]
        }, 
        {
          "cell_type": "code", 
          "collapsed": false, 
          "input": [
            "saveas(gcf, [rep 'isomap-ideal.eps'], 'epsc')"
          ], 
          "language": "python", 
          "outputs": []
        }, 
        {
          "cell_type": "markdown", 
          "metadata": {}, 
          "source": [
            "CMT\n", 
            "\n", 
            ""
          ]
        }, 
        {
          "cell_type": "heading", 
          "level": 2, 
          "metadata": {}, 
          "source": [
            "Isomap with SMACOF Multidimensional Scaling\n"
          ]
        }, 
        {
          "cell_type": "markdown", 
          "metadata": {}, 
          "source": [
            "It is possible to use SMACOF instead of classical scaling.\n", 
            "\n", 
            "\n", 
            "Please refers to the tours on Bending Invariant for detail on both\n", 
            "Classical MDS (strain minimization) and SMACOF MDS (stress minimization).\n", 
            ""
          ]
        }, 
        {
          "cell_type": "heading", 
          "level": 3, 
          "metadata": {}, 
          "source": [
            "Exercise 3"
          ]
        }, 
        {
          "cell_type": "markdown", 
          "metadata": {}, 
          "source": [
            "\n", 
            "Perform stress minimization MDS using SMACOF to compute the 2D flattening.\n", 
            "\n", 
            "\n", 
            "\n", 
            "\n", 
            "\n", 
            "\n", 
            "\n", 
            "\n", 
            "\n", 
            "\n", 
            "\n", 
            "\n", 
            "\n", 
            "\n", 
            "\n", 
            "\n", 
            "\n", 
            "\n", 
            "\n", 
            "\n", 
            "\n", 
            "\n", 
            "\n", 
            "\n", 
            "\n", 
            "\n", 
            "\n", 
            ""
          ]
        }, 
        {
          "cell_type": "code", 
          "collapsed": false, 
          "input": [
            "## Insert your code here."
          ], 
          "language": "python", 
          "outputs": []
        }, 
        {
          "cell_type": "markdown", 
          "metadata": {}, 
          "source": [
            "\n", 
            "\n", 
            "\n", 
            "\n", 
            "Plot stress evolution during minimization.\n", 
            ""
          ]
        }, 
        {
          "cell_type": "code", 
          "collapsed": false, 
          "input": [
            "\n", 
            "plot(stress(1:end), '.-')\n", 
            "axis('tight')"
          ], 
          "language": "python", 
          "outputs": []
        }, 
        {
          "cell_type": "markdown", 
          "metadata": {}, 
          "source": [
            "\n", 
            "CMT"
          ]
        }, 
        {
          "cell_type": "heading", 
          "level": 2, 
          "metadata": {}, 
          "source": [
            "Perform stress minimization MDS using SMACOF to compute the 2D flattening.\n"
          ]
        }, 
        {
          "cell_type": "code", 
          "collapsed": false, 
          "input": [
            "niter = 100\n", 
            "Xstress = X\n", 
            "ndisp = [1 5 10 niter Inf]\n", 
            "k = 1\n", 
            "\n", 
            "for i in 1:niter:\n", 
            "    if ndisp(k)==i\n", 
            "        clf; hold on\n", 
            "        scatter3(Xstress(1,:),Xstress(2,:),Xstress(3,:),ms,v, 'filled')\n", 
            "        plot_graph(A, Xstress, options)\n", 
            "        colormap jet(256)\n", 
            "        view(v1,v2); axis('equal'); axis('off')\n", 
            "        zoom(.8)\n", 
            "        saveas(gcf, [rep 'isomap-stress-' num2str(k) '.eps'], 'epsc')\n", 
            "        k = k+1\n", 
            "\n", 
            "    % Compute the distance matrix.\n", 
            "    D1 = repmat(sum(Xstress.^2,1),n,1)\n", 
            "    D1 = sqrt(D1 + D1' - 2*Xstress'*Xstress)\n", 
            "    % Compute the scaling matrix.\n", 
            "    B = -D./max(D1,1e-10)\n", 
            "    B = B - diag(sum(B))\n", 
            "    % update\n", 
            "    Xstress = (B*Xstress')' / n\n", 
            ""
          ], 
          "language": "python", 
          "outputs": []
        }, 
        {
          "cell_type": "markdown", 
          "metadata": {}, 
          "source": [
            "CMT\n", 
            "\n", 
            "\n", 
            "Compute the main direction of the point clouds.\n", 
            ""
          ]
        }, 
        {
          "cell_type": "code", 
          "collapsed": false, 
          "input": [
            "[U,L] = eig(Xstress*Xstress' / n)\n", 
            "[L,I] = sort(diag(L))\n", 
            "U = U(:,I(2:3))"
          ], 
          "language": "python", 
          "outputs": []
        }, 
        {
          "cell_type": "markdown", 
          "metadata": {}, 
          "source": [
            "\n", 
            "\n", 
            "Project the points on the two leading eigenvectors of the covariance\n", 
            "matrix (PCA final projection).\n", 
            ""
          ]
        }, 
        {
          "cell_type": "code", 
          "collapsed": false, 
          "input": [
            "Xstress1 = U'*Xstress"
          ], 
          "language": "python", 
          "outputs": []
        }, 
        {
          "cell_type": "markdown", 
          "metadata": {}, 
          "source": [
            "\n", 
            "\n", 
            "Remove problematic points.\n", 
            ""
          ]
        }, 
        {
          "cell_type": "code", 
          "collapsed": false, 
          "input": [
            "Xstress1(:,Iremove) = Inf"
          ], 
          "language": "python", 
          "outputs": []
        }, 
        {
          "cell_type": "markdown", 
          "metadata": {}, 
          "source": [
            "\n", 
            "\n", 
            "Display the final result of the dimensionality reduction.\n", 
            ""
          ]
        }, 
        {
          "cell_type": "code", 
          "collapsed": false, 
          "input": [
            "clf; hold on\n", 
            "scatter(Xstress1(1,:),Xstress1(2,:),ms,v, 'filled')\n", 
            "plot_graph(A, Xstress1, options)\n", 
            "colormap jet(256)\n", 
            "axis('equal'); axis('off')"
          ], 
          "language": "python", 
          "outputs": []
        }, 
        {
          "cell_type": "markdown", 
          "metadata": {}, 
          "source": [
            "\n", 
            "\n", 
            "CMT"
          ]
        }, 
        {
          "cell_type": "code", 
          "collapsed": false, 
          "input": [
            "saveas(gcf, [rep 'isomap-stress.eps'], 'epsc')"
          ], 
          "language": "python", 
          "outputs": []
        }, 
        {
          "cell_type": "markdown", 
          "metadata": {}, 
          "source": [
            "CMT\n", 
            "\n", 
            ""
          ]
        }, 
        {
          "cell_type": "heading", 
          "level": 2, 
          "metadata": {}, 
          "source": [
            "Learning Manifold of Patches\n"
          ]
        }, 
        {
          "cell_type": "markdown", 
          "metadata": {}, 
          "source": [
            "Isomap algorithm can be used to analyze the structure of a high\n", 
            "dimensional library of images.\n", 
            ""
          ]
        }, 
        {
          "cell_type": "heading", 
          "level": 3, 
          "metadata": {}, 
          "source": [
            "Exercise 4"
          ]
        }, 
        {
          "cell_type": "markdown", 
          "metadata": {}, 
          "source": [
            "\n", 
            "Apply Isomap to a library of small images, for instance binary digits or\n", 
            "faces with a rotating camera.\n", 
            "No correction for this exercise."
          ]
        }, 
        {
          "cell_type": "code", 
          "collapsed": false, 
          "input": [
            "## Insert your code here."
          ], 
          "language": "python", 
          "outputs": []
        }
      ]
    }
  ]
}