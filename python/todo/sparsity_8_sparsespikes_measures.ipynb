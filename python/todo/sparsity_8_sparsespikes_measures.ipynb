{
  "metadata": {
    "name": ""
  }, 
  "nbformat": 3, 
  "nbformat_minor": 0, 
  "worksheets": [
    {
      "cells": [
        {
          "cell_type": "heading", 
          "level": 1, 
          "metadata": {}, 
          "source": [
            "Sparse Spikes Deconvolution over the Space of Measures"
          ]
        }, 
        {
          "cell_type": "markdown", 
          "metadata": {}, 
          "source": [
            "This numerical tour explores the resolution of the sparse spikes\n", 
            "deconvolution problem over the infinite dimensional Banach space of Radon measures.\n", 
            "I would like to thank Jalal Fadili for his comments and corrections.\n", 
            ""
          ]
        }, 
        {
          "cell_type": "markdown", 
          "metadata": {}, 
          "source": [
            "*Important:* You need to download the file `nt_toolbox.py` from the \n", 
            "root of the github repository.\n", 
            "$\\newcommand{\\dotp}[2]{\\langle #1, #2 \\rangle}\n", 
            "\\newcommand{\\enscond}[2]{\\lbrace #1, #2 \\rbrace}\n", 
            "\\newcommand{\\pd}[2]{ \\frac{ \\partial #1}{\\partial #2} }\n", 
            "\\newcommand{\\umin}[1]{\\underset{#1}{\\min}\\;}\n", 
            "\\newcommand{\\norm}[1]{\\|#1\\|}\n", 
            "\\newcommand{\\abs}[1]{\\left|#1\\right|}\n", 
            "\\newcommand{\\choice}[1]{ \\left\\{  \\begin{array}{l} #1 \\end{array} \\right. }\n", 
            "\\newcommand{\\pa}[1]{\\left(#1\\right)}\n", 
            "\\newcommand{\\qandq}{\\quad\\text{and}\\quad}\n", 
            "\\newcommand{\\qwhereq}{\\quad\\text{where}\\quad}\n", 
            "\\newcommand{\\qifq}{ \\quad \\text{if} \\quad }\n", 
            "\\newcommand{\\qarrq}{ \\quad \\Longrightarrow \\quad }\n", 
            "\\newcommand{\\ZZ}{\\mathbb{Z}}\n", 
            "\\newcommand{\\RR}{\\mathbb{R}}\n", 
            "\\newcommand{\\Nn}{\\mathcal{N}}\n", 
            "\\newcommand{\\Hh}{\\mathcal{H}}\n", 
            "\\newcommand{\\Bb}{\\mathcal{B}}\n", 
            "\\newcommand{\\EE}{\\mathbb{E}}\n", 
            "\\newcommand{\\CC}{\\mathbb{C}}\n", 
            "\\newcommand{\\si}{\\sigma}\n", 
            "\\newcommand{\\al}{\\alpha}\n", 
            "\\newcommand{\\la}{\\lambda}\n", 
            "\\newcommand{\\ga}{\\gamma}\n", 
            "\\newcommand{\\Ga}{\\Gamma}\n", 
            "\\newcommand{\\La}{\\Lambda}\n", 
            "\\newcommand{\\si}{\\sigma}\n", 
            "\\newcommand{\\Si}{\\Sigma}\n", 
            "\\newcommand{\\be}{\\beta}\n", 
            "\\newcommand{\\de}{\\delta}\n", 
            "\\newcommand{\\De}{\\Delta}\n", 
            "\\renewcommand{\\phi}{\\varphi}\n", 
            "\\renewcommand{\\th}{\\theta}\n", 
            "\\newcommand{\\om}{\\omega}\n", 
            "\\newcommand{\\Om}{\\Omega}\n", 
            "$"
          ]
        }, 
        {
          "cell_type": "code", 
          "collapsed": false, 
          "input": [
            "from nt_toolbox import *", 
            "%matplotlib inline", 
            "%load_ext autoreload", 
            "%autoreload 2"
          ], 
          "language": "python", 
          "outputs": []
        }, 
        {
          "cell_type": "heading", 
          "level": 2, 
          "metadata": {}, 
          "source": [
            "Sparse Spikes Deconvolution\n"
          ]
        }, 
        {
          "cell_type": "markdown", 
          "metadata": {}, 
          "source": [
            "We consider $N=2f_c+1$ low-frequency noisy observations $y = \\Phi \\mu_0 + w \\in \\CC^N$ of a input unknown\n", 
            "Radon measure $\\mu_0 \\in \\Mm(\\mathbb{T})$ where $\\mathbb{T}=\\RR/\\ZZ$\n", 
            "$$ \\forall \\om \\in \\{-f_c,\\ldots,f_c\\}, \\quad\n", 
            "      (\\Phi \\mu_0)(\\om) = \\int_{\\mathbb{T}} e^{-2\\imath\\pi \\om t} d\\mu_0(t). $$\n", 
            "\n", 
            "\n", 
            "We follow here a recent trend initiated by several papers (see for\n", 
            "instance\n", 
            "<#biblio [deCastroGamboa12, CandesFernandezGranda13, BrediesPikkarainen13]>) that\n", 
            "performs the recovery of sparse measures (i.e. sum of Diracs) using a convex sparse regularization over the\n", 
            "the space of Radon measures (which is in some sense the dual of the Banach space of continuous functions).\n", 
            "\n", 
            "\n", 
            "We consider, for $\\la>0$, the following regularization\n", 
            "$$ \\umin{\\mu \\in \\Mm(\\mathbb{T})} \\frac{1}{2} \\norm{y-\\Phi \\mu}^2 + \\la \\norm{\\mu}_{\\text{TV}},\n", 
            "      \\quad (\\Pp_\\la(y)) $$\n", 
            "where $\\norm{\\mu}_{\\text{TV}}$ is the so-called total variation of the\n", 
            "measure $\\mu$, which should not be\n", 
            "confused with the total variation seminorm of a function. For an arbitrary measure, it reads\n", 
            "$$ \\norm{\\mu}_{\\text{TV}} = \\inf\\enscond{ \\int_{\\mathbb{T}} f d\\mu }{ f \\in C^0(\\mathbb{T}), \\normi{f} \\leq 1 }. $$\n", 
            "When there is no noise, it makes sense to consider the limit $\\la\n", 
            "\\rightarrow 0^+$ of $\\Pp_\\la(y)$, which reads\n", 
            "$$ \\umin{\\mu} \\enscond{ \\norm{\\mu}_{\\text{TV}} }{ y=\\Phi \\mu }. $$\n", 
            "\n", 
            "\n", 
            "We focus our attention on discrete measures, which are finite sum of Diracs, and that we write, for $x \\in\n", 
            "\\mathbb{T}^n$ and $a \\in \\RR^n$\n", 
            "$$ \\mu_{x,a} = \\sum_{i=1}^n a_i \\de_{x_i}. $$\n", 
            "In this case, one has\n", 
            "$$ \\norm{\\mu_{x,a}}_{\\text{TV}} = \\norm{a}_1 = \\sum_{i=1}^n \\abs{a_i},  $$\n", 
            "which shows that $\\norm{\\cdot}_{\\text{TV}}$ is a natural generalization\n", 
            "of the $\\ell^1$ norm to measures.\n", 
            "\n", 
            "\n", 
            "Several recent papers (such as <#biblio [deCastroGamboa12, CandesFernandezGranda13, BrediesPikkarainen13, DuvalPeyre13]>)\n", 
            "have studied conditions under which $\\mu_0$ is the\n", 
            "unique solution of $\\Pp_0(y)$ when $\\la=0$ and the robustness to\n", 
            "noise when using $\\Pp_\\la(y)$ with $\\la \\sim \\norm{w}$.\n", 
            "We refer the interested reader to these papers and references\n", 
            "therein.\n", 
            "\n", 
            "\n", 
            "The goal of this numerical tour is to detail how to numerically solve\n", 
            "this problem using an approach proposed by <#biblio [CandesFernandezGranda13]>\n", 
            "and also to get some intuition about the primal-dual relationships\n", 
            "that underly several theoretical analyses of the performance of the\n", 
            "recovery.\n", 
            "\n", 
            "\n", 
            "In the following, we denote, for $p\\in \\CC^N$, the adjoint operator\n", 
            "$$ \\Phi^* p(t) = \\sum_{\\om=-f_c}^{f_c} p(\\om) e^{2\\imath \\om t},  $$\n", 
            "so that $\\Phi^* : \\CC^N \\rightarrow L^2(\\mathbb{T}).$.\n", 
            "\n", 
            "\n", 
            "We denote $ \\Phi_x(a) = \\Phi(\\mu_{a,x}) $ the action of $\\Phi$\n", 
            "on a discrete measure, i.e.\n", 
            "$$ \\Phi_x(a)(\\om) = \\sum_{k=1}^n a_k e^{-2\\imath\\pi x_k \\om }.  $$\n", 
            "\n", 
            "\n", 
            "We also denote\n", 
            "$ \\Phi'_x(a) = \\Phi(\\mu_{a,x})' $, which defines two linear operators\n", 
            "$ \\Phi_x, \\Phi'_x : \\RR^n \\rightarrow \\CC^N $, which are represented and stored as matrices\n", 
            "in $ \\RR^{N \\times n} $.\n", 
            "\n", 
            "\n", 
            "\n", 
            "Some display options.\n", 
            ""
          ]
        }, 
        {
          "cell_type": "code", 
          "collapsed": false, 
          "input": [
            "ms = 20\n", 
            "lw = 1"
          ], 
          "language": "python", 
          "outputs": []
        }, 
        {
          "cell_type": "markdown", 
          "metadata": {}, 
          "source": [
            "\n", 
            "\n", 
            "Sampling grid for the display of functions.\n", 
            ""
          ]
        }, 
        {
          "cell_type": "code", 
          "collapsed": false, 
          "input": [
            "P = 2048*8\n", 
            "options.P = P\n", 
            "u = (0:P-1)'/P"
          ], 
          "language": "python", 
          "outputs": []
        }, 
        {
          "cell_type": "markdown", 
          "metadata": {}, 
          "source": [
            "\n", 
            "\n", 
            "Set the cutoff pulsation $f_c$ and number of measurements $N=2f_c+1$.\n", 
            ""
          ]
        }, 
        {
          "cell_type": "code", 
          "collapsed": false, 
          "input": [
            "fc = 6\n", 
            "N = 2*fc+1"
          ], 
          "language": "python", 
          "outputs": []
        }, 
        {
          "cell_type": "markdown", 
          "metadata": {}, 
          "source": [
            "\n", 
            "\n", 
            "Fourier transform operator.\n", 
            ""
          ]
        }, 
        {
          "cell_type": "code", 
          "collapsed": false, 
          "input": [
            "Fourier = lambda fc,x: exp(-2i*pi*(-fc:fc)'*x(:)')"
          ], 
          "language": "python", 
          "outputs": []
        }, 
        {
          "cell_type": "markdown", 
          "metadata": {}, 
          "source": [
            "\n", 
            "\n", 
            "Operators $\\Phi$ and $\\Phi^*$. Note that we assume here implicitely that we use real measures.\n", 
            ""
          ]
        }, 
        {
          "cell_type": "code", 
          "collapsed": false, 
          "input": [
            "Phi  = lambda fc,x,a: Fourier(fc,x)*a\n", 
            "PhiS = lambda fc,u,p: real( Fourier(fc,u)'* p )"
          ], 
          "language": "python", 
          "outputs": []
        }, 
        {
          "cell_type": "markdown", 
          "metadata": {}, 
          "source": [
            "\n", 
            "\n", 
            "Set the spacing $\\de$ between the Diracs.\n", 
            ""
          ]
        }, 
        {
          "cell_type": "code", 
          "collapsed": false, 
          "input": [
            "delta = .7/fc"
          ], 
          "language": "python", 
          "outputs": []
        }, 
        {
          "cell_type": "markdown", 
          "metadata": {}, 
          "source": [
            "\n", 
            "\n", 
            "Position $x_0$ and amplitude $a_0$ of the input measure $\\mu_0=\\mu_{x_0,a_0}$ to recover.\n", 
            ""
          ]
        }, 
        {
          "cell_type": "code", 
          "collapsed": false, 
          "input": [
            "x0 = [.5-delta .5 .5+delta]'\n", 
            "a0 = [1 1 -1]'\n", 
            "n = length(x0)"
          ], 
          "language": "python", 
          "outputs": []
        }, 
        {
          "cell_type": "markdown", 
          "metadata": {}, 
          "source": [
            "\n", 
            "\n", 
            "Measurements $y_0 = \\Phi \\mu_0 $ (noiseless).\n", 
            ""
          ]
        }, 
        {
          "cell_type": "code", 
          "collapsed": false, 
          "input": [
            "y0 = Phi(fc,x0,a0)"
          ], 
          "language": "python", 
          "outputs": []
        }, 
        {
          "cell_type": "markdown", 
          "metadata": {}, 
          "source": [
            "\n", 
            "\n", 
            "Add some noise to obtain $y = y_0 + w$.\n", 
            "We make sure that the noise has hermitian symmetry to corresponds to the\n", 
            "Fourier coefficients of a real measure.\n", 
            ""
          ]
        }, 
        {
          "cell_type": "code", 
          "collapsed": false, 
          "input": [
            "sigma = .12 * norm(y0)\n", 
            "w = fftshift( fft(randn(N,1)) )\n", 
            "w = w/norm(w) * sigma\n", 
            "y = y0 + w"
          ], 
          "language": "python", 
          "outputs": []
        }, 
        {
          "cell_type": "markdown", 
          "metadata": {}, 
          "source": [
            "\n", 
            "\n", 
            "Display the observed data on the continuous grid $\\Phi^* y_0$.\n", 
            ""
          ]
        }, 
        {
          "cell_type": "code", 
          "collapsed": false, 
          "input": [
            "f0 = PhiS(fc,u,y0)\n", 
            "f = PhiS(fc,u,y)\n", 
            "clf; hold on\n", 
            "plot(u, [f0 f])\n", 
            "stem(x0, 10*sign(a0), 'k.--', 'MarkerSize', ms, 'LineWidth', 1)\n", 
            "axis tight; box on\n", 
            "legend('\\Phi^* y_0', '\\Phi^* y')"
          ], 
          "language": "python", 
          "outputs": []
        }, 
        {
          "cell_type": "heading", 
          "level": 2, 
          "metadata": {}, 
          "source": [
            "Dual Problem\n"
          ]
        }, 
        {
          "cell_type": "markdown", 
          "metadata": {}, 
          "source": [
            "The Fenchel-Rockafellar dual problem associated to $\\Pp_\\la(y)$ reads\n", 
            "$$\n", 
            "      \\umax{p \\in \\CC^N}\n", 
            "      \\enscond{ \\dotp{y}{p} - \\frac{\\la}{2} \\norm{p}^2 }{\n", 
            "     \\normi{\\Phi^*p} \\leq 1 }\n", 
            " $$\n", 
            "which has a unique solution $p_\\la$, which is a projection on a closed\n", 
            "convex set of $y/\\la$, since\n", 
            "$$\n", 
            "      p_\\la = \\uargmin{\\normi{\\Phi^*p} \\leq 1} \\norm{y/\\la-p}^2. \\quad\n", 
            "      (\\Dd_\\la(y))\n", 
            " $$\n", 
            "\n", 
            "\n", 
            "We denote $\\eta_\\la = \\Phi^*\n", 
            "p_\\la \\in L^2(\\mathbb{T})$, which is a trigonometric polynomial.\n", 
            "\n", 
            "\n", 
            "The Lagrangian dual problem associated to $\\Pp_0(y)$ reads\n", 
            "$$\n", 
            "      \\umax{p \\in \\CC^N} \\enscond{ \\dotp{y}{p} }{\n", 
            "     \\normi{\\Phi^*p} \\leq 1 }.\n", 
            " $$\n", 
            "It does not have in general an unique solution. In <#biblio [DuvalPeyre13]>, is it proved that\n", 
            "$ p_\\la \\rightarrow p_0$ when $\\la \\rightarrow 0$ where $p_0$ is\n", 
            "the solution of $\\Dd_\\la(y)$ having a minimal $\\ell^2$ norm. We\n", 
            "denote $\\eta_0=\\Phi^* p_0$ the _minimal norm dual certificate._\n", 
            "\n", 
            "\n", 
            "Strong duality holds between the primal problem $\\Pp_\\lambda(y)$\n", 
            "and its dual $\\Dd_\\lambda(y)$, and thus the\n", 
            "values of these problems are equal.\n", 
            "For any solution\n", 
            "$\\mu_\\la$ of $\\Pp_\\la(y)$, one has\n", 
            "$$ \\eta_\\la = \\frac{1}{\\la} \\Phi^*( y-\\Phi \\mu_\\la ). $$\n", 
            "\n", 
            "\n", 
            "Furthermore, the\n", 
            "support of any solution $\\mu^\\star = \\mu_{x^\\star,a^\\star}$ of $ \\Pp_\\la(y) $\n", 
            "satisfies\n", 
            "$$ \\forall i, \\quad \\abs{\\eta_\\la(x_i^\\star)}=1.  $$\n", 
            "This property is at the heart of the numerical scheme proposed by\n", 
            "<#biblio [CandesFernandezGranda13]> to solve the primal problem.\n", 
            "\n", 
            "\n", 
            "In <#biblio [DuvalPeyre13]>, it is shown that this certificate $\\eta_0$ is\n", 
            "important, since it some how governs the stability of the recovered\n", 
            "spikes locations (in particular how close they are to $x_0$) when the noise $w$ is small.\n", 
            "\n", 
            ""
          ]
        }, 
        {
          "cell_type": "heading", 
          "level": 2, 
          "metadata": {}, 
          "source": [
            "Douglas-Rachford Algorithm\n"
          ]
        }, 
        {
          "cell_type": "markdown", 
          "metadata": {}, 
          "source": [
            "Note that this section is independent from the other one, and in\n", 
            "particular this section has its own notations.\n", 
            "The Douglas-Rachford (DR) algorithm is an iterative scheme to minimize\n", 
            "functionals of the form\n", 
            "$$ \\umin{x} F(x) + G(x) $$\n", 
            "over a Hibert space (assumed for ismplicity to be finite dimensional)\n", 
            "endowed with a norm $\\norm{\\cdot}$, where $F$ and $G$\n", 
            "are proper closed convex functions with intersecting domains. We assume that the set of minimizers is non-empty.\n", 
            "We also assume that one is able to\n", 
            "compute the proximal mappings $ \\text{prox}_{\\gamma F} $ and\n", 
            "$ \\text{prox}_{\\gamma G} $ which are defined as\n", 
            "$$ \\text{prox}_{\\gamma F}(x) = \\uargmin{y} \\frac{1}{2}\\norm{x-y}^2 + \\ga F(y) $$\n", 
            "(the same definition applies also for $G$).\n", 
            "\n", 
            "\n", 
            "The important point is that $F$ and $G$ do not need to be smooth.\n", 
            "One onely needs them to be \"simple\" in the sense that one can compute in closed form their respective proximal mappings.\n", 
            "\n", 
            "\n", 
            "This algorithm was introduced in <#biblio [LionsMercier79]>.\n", 
            "as a generalization of an algorithm introduced by Douglas and Rachford in\n", 
            "the case of quadratic minimization (which corresponds to the solution of\n", 
            "a linear system).\n", 
            "\n", 
            "\n", 
            "To learn more about this algorithm, you can read <#biblio [CombettesPesquet10]>.\n", 
            "\n", 
            "\n", 
            "A Douglas-Rachford (DR) iteration reads\n", 
            "$$ \\tilde x_{k+1} = \\pa{1-\\frac{\\mu}{2}} \\tilde x_k +\n", 
            "  \\frac{\\mu}{2} \\text{rprox}_{\\gamma G}( \\text{rprox}_{\\gamma F}(\\tilde x_k)  )\n", 
            "  \\qandq x_{k+1} = \\text{prox}_{\\gamma F}(\\tilde x_{k+1},) $$\n", 
            "\n", 
            "\n", 
            "\n", 
            "We have used the following shorthand notation:\n", 
            "$$   \\text{rprox}_{\\gamma F}(x) = 2\\text{prox}_{\\gamma F}(x)-x $$\n", 
            "\n", 
            "\n", 
            "It is of course possible to inter-change the roles of $F$ and $G$,\n", 
            "which defines another iterative scheme.\n", 
            "\n", 
            "\n", 
            "One can show that for any value of $\\gamma>0$, any $ 0 < \\mu < 2 $,\n", 
            "and any $\\tilde x_0$, $x_k \\rightarrow x^\\star$\n", 
            "which is a minimizer of the minimization of $F+G$.\n", 
            ""
          ]
        }, 
        {
          "cell_type": "heading", 
          "level": 2, 
          "metadata": {}, 
          "source": [
            "Solving the Dual Problem with Douglas-Rachford\n"
          ]
        }, 
        {
          "cell_type": "markdown", 
          "metadata": {}, 
          "source": [
            "It is in general impossible to solve numerically $\\Pp_\\la(y)$ because\n", 
            "it is an infinite dimensional problem. In contrast, $\\Dd_\\la(y)$ is a\n", 
            "finite dimensional problem, so that there is some hope to be able to\n", 
            "solve it with an algorithm.\n", 
            "\n", 
            "\n", 
            "Recall that the dual problem reads\n", 
            "$$ \\umin{p \\in \\CC^N} \\norm{p - y/\\lambda}^2   \\quad\\text{s.t.}\\quad  \\normi{\\Phi^* p} \\leq 1. $$\n", 
            "\n", 
            "\n", 
            "As detailed in <#biblio [CandesFernandezGranda13]>, the constraint\n", 
            "$\\normi{\\Phi^* p} \\leq 1$ can be re-cast as imposing that the\n", 
            "trigonometric polynomials $1-\\Phi^* p$ and $1+\\Phi^* p$ are sums of\n", 
            "square polynomials. A classical result (see for instance <#biblio [Dumitrescu07]>)\n", 
            "ensures that\n", 
            "the convex set of sum of square polynomials (SOS) can\n", 
            "be described as the intersection between the set of positive\n", 
            "hermitian semi-definite (SDP) matrices $\\Ss^+$ of size $ (N+1)\\times(N+1) $ and an\n", 
            "affine constraint.\n", 
            "\n", 
            "\n", 
            "The problem is thus encoded using a SDP matrix $X \\in\n", 
            "\\CC^{(N+1)\\times(N+1)}$.\n", 
            "We define two linear mappings\n", 
            "$X \\in \\CC^{(N+1)\\times(N+1)} \\mapsto Q(X) \\in \\CC^{N\\times N}$\n", 
            "and\n", 
            "$X \\in \\CC^{(N+1)\\times(N+1)} \\mapsto p(X) \\in \\CC^{N}$\n", 
            "extracting sub-matrices as follow\n", 
            "  $$\n", 
            "      X =\n", 
            "          \\begin{pmatrix}\n", 
            "              Q(X) & p(X) \\\\\n", 
            "              p(X)^* & 1\n", 
            "          \\end{pmatrix}.\n", 
            "  $$\n", 
            "The additional affine constraint is denoted as\n", 
            "$${\\Cc} =\n", 
            "      \\enscond{Q \\in \\CC^{N \\times N} }{\n", 
            "      \\forall c \\neq 0, \\sum_{i} Q_{i,i+c} = 0,\n", 
            "      \\text{trace}(Q)=1\n", 
            "      }. $$\n", 
            "\n", 
            "\n", 
            "We thus re-write the initial dual problem as\n", 
            "$$\n", 
            "      \\umin{X \\in \\CC^{(N+1) \\times (N+1)}} F(X) + G(X)\n", 
            "$$\n", 
            "where\n", 
            "$$\n", 
            "  \\choice{\n", 
            "      F(X) = f(p(X)) + \\iota_{\\Cc}(Q(X)), \\\\\n", 
            "      G(X) = \\iota_{\\Ss^+}(X), \\\\\n", 
            "      f(p)=\\frac{1}{2}\\norm{y/\\la-p}^2.\n", 
            "  }\n", 
            "$$\n", 
            "\n", 
            "\n", 
            "Regularization parameter $\\la$.\n", 
            ""
          ]
        }, 
        {
          "cell_type": "code", 
          "collapsed": false, 
          "input": [
            "lambda = 1"
          ], 
          "language": "python", 
          "outputs": []
        }, 
        {
          "cell_type": "markdown", 
          "metadata": {}, 
          "source": [
            "\n", 
            "\n", 
            "Helper functions.\n", 
            ""
          ]
        }, 
        {
          "cell_type": "code", 
          "collapsed": false, 
          "input": [
            "dotp = lambda x,y: real(x'*y)\n", 
            "Xmat = lambda p,Q: [Q, p; p', 1]\n", 
            "Qmat = lambda X: X(1:end-1,1:end-1)\n", 
            "pVec = lambda X: X(1:end-1,end)"
          ], 
          "language": "python", 
          "outputs": []
        }, 
        {
          "cell_type": "markdown", 
          "metadata": {}, 
          "source": [
            "\n", 
            "\n", 
            "\n", 
            "Fonction $f$ which is minimized in the original dual problem.\n", 
            ""
          ]
        }, 
        {
          "cell_type": "code", 
          "collapsed": false, 
          "input": [
            "f = lambda p: 1/2*norm( y/lambda-p )^2"
          ], 
          "language": "python", 
          "outputs": []
        }, 
        {
          "cell_type": "markdown", 
          "metadata": {}, 
          "source": [
            "\n", 
            "\n", 
            "Its proximal\n", 
            "operator is\n", 
            "$$ \\text{prox}_{\\ga f}(p) = \\frac{p+\\ga y/\\la }{1+\\ga}. $$\n", 
            ""
          ]
        }, 
        {
          "cell_type": "code", 
          "collapsed": false, 
          "input": [
            "Proxf = lambda p,gamma: ( p + gamma*y/lambda )/(1+gamma)"
          ], 
          "language": "python", 
          "outputs": []
        }, 
        {
          "cell_type": "markdown", 
          "metadata": {}, 
          "source": [
            "\n", 
            "\n", 
            "The proximal operator of $G = \\iota_{\\Ss^+}$ is the orthogonal projection\n", 
            "on $\\Ss^+$. It is  computed, for $X=U\\diag(\\si_i)_i V^*$ any SVD of\n", 
            "$X$ as\n", 
            "$$ \\text{prox}_{\\ga G}(X) = \\text{Proj}_{\\Ss^+}(X) = U\\diag(\\max(\\si_i,0))_i V^*. $$\n", 
            "For convenience, this is implemented in the function\n", 
            "|perform_sdp_projection|.\n", 
            ""
          ]
        }, 
        {
          "cell_type": "code", 
          "collapsed": false, 
          "input": [
            "ProxG = lambda X,gamma: perform_sdp_projection(X)"
          ], 
          "language": "python", 
          "outputs": []
        }, 
        {
          "cell_type": "markdown", 
          "metadata": {}, 
          "source": [
            "\n", 
            "\n", 
            "The proximal operator of $F$ is  the concatenation of the\n", 
            "proximal operator of $f$ and the proximal operator of $\\iota_{\\Cc}$\n", 
            "(which in turn is the orthogonal projector on $\\Cc$). Note that $\\Cc$\n", 
            "is an affine set for which the projection is easy to compute as\n", 
            "$$\n", 
            "      \\text{Proj}_{\\Cc}(Q)_{i,j} = Q_{i,j} - \\rho_{j-i}  + \\de_{i-j}\n", 
            "      \\qwhereq\n", 
            "      \\rho_{c} = \\frac{1}{N-\\abs{c}}\\sum_{i} Q_{i,i+c}\n", 
            "$$\n", 
            "where $\\de_{c}$ is the Kronecker delta. For convenience, this is\n", 
            "implemented in the function |perform_sos_projection|.\n", 
            ""
          ]
        }, 
        {
          "cell_type": "code", 
          "collapsed": false, 
          "input": [
            "ProxF = lambda X,gamma: Xmat( Proxf(pVec(X),gamma/2), perform_sos_projection(Qmat(X)) )"
          ], 
          "language": "python", 
          "outputs": []
        }, 
        {
          "cell_type": "markdown", 
          "metadata": {}, 
          "source": [
            "\n", 
            "\n", 
            "Define the reflexive prox operators shortcuts.\n", 
            ""
          ]
        }, 
        {
          "cell_type": "code", 
          "collapsed": false, 
          "input": [
            "rProxF = lambda x,tau: 2*ProxF(x,tau)-x\n", 
            "rProxG = lambda x,tau: 2*ProxG(x,tau)-x"
          ], 
          "language": "python", 
          "outputs": []
        }, 
        {
          "cell_type": "markdown", 
          "metadata": {}, 
          "source": [
            "\n", 
            "\n", 
            "Initial point of the DR iterations.\n", 
            ""
          ]
        }, 
        {
          "cell_type": "code", 
          "collapsed": false, 
          "input": [
            "X = zeros(2*fc+2)"
          ], 
          "language": "python", 
          "outputs": []
        }, 
        {
          "cell_type": "markdown", 
          "metadata": {}, 
          "source": [
            "\n", 
            "\n", 
            "Parameters $\\ga>0$ and $0 < \\mu < 2$ of the DR algorithm.\n", 
            ""
          ]
        }, 
        {
          "cell_type": "code", 
          "collapsed": false, 
          "input": [
            "gamma = 1/10\n", 
            "mu = 1"
          ], 
          "language": "python", 
          "outputs": []
        }, 
        {
          "cell_type": "markdown", 
          "metadata": {}, 
          "source": [
            "\n", 
            "\n", 
            "DR iterations.\n", 
            ""
          ]
        }, 
        {
          "cell_type": "code", 
          "collapsed": false, 
          "input": [
            "Y = X\n", 
            "ObjVal = []; ConstrSDP = []; ConstrSOS = []\n", 
            "niter = 300\n", 
            "for i in 1:niter:\n", 
            "    % record energies\n", 
            "    ObjVal(i) = f(pVec(X))\n", 
            "    ConstrSDP(i) = min(real(eig(X)))\n", 
            "    ConstrSOS(i) = norm(perform_sos_projection(Qmat(X))-Qmat(X), 'fro')\n", 
            "    % iterate\n", 
            "\tY = (1-mu/2)*Y + mu/2*rProxF( rProxG(Y,gamma),gamma )\n", 
            "\tX = ProxG(Y,gamma)\n", 
            "\n", 
            "p = pVec(X)"
          ], 
          "language": "python", 
          "outputs": []
        }, 
        {
          "cell_type": "markdown", 
          "metadata": {}, 
          "source": [
            "\n", 
            "\n", 
            "Display $\\eta_\\la = \\Phi^* p $ where $p=p_\\la$ is the solution of\n", 
            "$\\Dd_\\la(y)$.\n", 
            ""
          ]
        }, 
        {
          "cell_type": "code", 
          "collapsed": false, 
          "input": [
            "etaLambda = PhiS(fc,u,p)\n", 
            "clf; hold on\n", 
            "stem(x0, sign(a0), 'k.--', 'MarkerSize', ms, 'LineWidth', lw)\n", 
            "plot([0 1],  [1 1], 'k--', 'LineWidth', lw)\n", 
            "plot([0 1], -[1 1], 'k--', 'LineWidth', lw)\n", 
            "plot(u, etaLambda, 'b', 'LineWidth', lw)\n", 
            "axis([0 1 -1.1 1.1])\n", 
            "set(gca, 'XTick', [], 'YTick', [0 1]); box on"
          ], 
          "language": "python", 
          "outputs": []
        }, 
        {
          "cell_type": "heading", 
          "level": 2, 
          "metadata": {}, 
          "source": [
            "Solving the Primal Problem with Root Finding\n"
          ]
        }, 
        {
          "cell_type": "markdown", 
          "metadata": {}, 
          "source": [
            "Following <#biblio [CandesFernandezGranda13]>, one can hope to solve the\n", 
            "primal problem by using the fact that the support of any solution is\n", 
            "included in the saturation set of $\\eta_\\la$\n", 
            "$$ S = \\enscond{t}{ \\abs{\\eta_\\la(t)}=1 }. $$\n", 
            "A key remark is that this set can be computed\n", 
            "by finding the roots of a triginometric polynomial on the unit circle\n", 
            "\n", 
            "\n", 
            "\n", 
            "We assume that $\\Phi_{x^\\star}$ is\n", 
            "injective, where $x^\\star$ is a vector containing the points in $S$.\n", 
            "This is obtained in the case that $\\eta_\\la$ is not a constant polynomial.\n", 
            "\n", 
            "\n", 
            "Display the magnitude of $1-\\abs{\\eta_\\la(t)}^2$, which is a trigonometric\n", 
            "polynomial which is zero at the locations $S$ of the Diracs of the primal\n", 
            "problem.\n", 
            ""
          ]
        }, 
        {
          "cell_type": "code", 
          "collapsed": false, 
          "input": [
            "clf; hold on\n", 
            "stem(x0, sign(abs(a0)), 'k.--', 'MarkerSize', ms, 'LineWidth', lw)\n", 
            "plot([0 1],  [1 1], 'k--', 'LineWidth', lw)\n", 
            "plot(u, 1-abs(etaLambda).^2, 'b', 'LineWidth', lw)\n", 
            "axis([0 1 -.1 1.1])\n", 
            "set(gca, 'XTick', [], 'YTick', [0 1])\n", 
            "box on"
          ], 
          "language": "python", 
          "outputs": []
        }, 
        {
          "cell_type": "markdown", 
          "metadata": {}, 
          "source": [
            "\n", 
            "\n", 
            "Compute the coefficients $c$ of the squared polynomial $P(z) =\n", 
            "1-\\abs{\\eta(t)}^2 \\geq 0$.\n", 
            ""
          ]
        }, 
        {
          "cell_type": "code", 
          "collapsed": false, 
          "input": [
            "c = -conv(p,flipud(conj(p)))\n", 
            "c(N)=1+c(N)"
          ], 
          "language": "python", 
          "outputs": []
        }, 
        {
          "cell_type": "markdown", 
          "metadata": {}, 
          "source": [
            "\n", 
            "\n", 
            "Comput the roots $R$ of $P$.\n", 
            ""
          ]
        }, 
        {
          "cell_type": "code", 
          "collapsed": false, 
          "input": [
            "R = roots(flipud(c))"
          ], 
          "language": "python", 
          "outputs": []
        }, 
        {
          "cell_type": "markdown", 
          "metadata": {}, 
          "source": [
            "\n", 
            "\n", 
            "Display the localization of the roots of $P(z)$.\n", 
            "Note that roots come in pairs of roots having the same argument.\n", 
            ""
          ]
        }, 
        {
          "cell_type": "code", 
          "collapsed": false, 
          "input": [
            "\n", 
            "plot(real(R),imag(R),'*')\n", 
            "hold on\n", 
            "plot(cos(2*pi*x0), sin(2*pi*x0),'ro')\n", 
            "plot( exp(1i*linspace(0,2*pi,200)), '--' )\n", 
            "hold off\n", 
            "legend('Roots','Support of x')\n", 
            "axis equal; axis([-1 1 -1 1]*1.5)"
          ], 
          "language": "python", 
          "outputs": []
        }, 
        {
          "cell_type": "markdown", 
          "metadata": {}, 
          "source": [
            "\n", 
            "\n", 
            "We isolate the roots $R_0$ which are on the unit circle, those we are interested in.\n", 
            ""
          ]
        }, 
        {
          "cell_type": "code", 
          "collapsed": false, 
          "input": [
            "tol = 1e-2\n", 
            "R0 = R(abs(1-abs(R)) < tol)"
          ], 
          "language": "python", 
          "outputs": []
        }, 
        {
          "cell_type": "markdown", 
          "metadata": {}, 
          "source": [
            "\n", 
            "\n", 
            "Note that roots located on the unit circle (those we are interested in) are\n", 
            "actually double roots.\n", 
            ""
          ]
        }, 
        {
          "cell_type": "code", 
          "collapsed": false, 
          "input": [
            "[~,I]=sort(angle(R0))\n", 
            "R0 = R0(I); R0 = R0(1:2:end)"
          ], 
          "language": "python", 
          "outputs": []
        }, 
        {
          "cell_type": "markdown", 
          "metadata": {}, 
          "source": [
            "\n", 
            "\n", 
            "compute argument to obtain the position $x^\\star$ of the Diracs locations of\n", 
            "the solution to the primal problem.\n", 
            ""
          ]
        }, 
        {
          "cell_type": "code", 
          "collapsed": false, 
          "input": [
            "x = angle(R0)/(2*pi)\n", 
            "x = sort(mod(x,1))"
          ], 
          "language": "python", 
          "outputs": []
        }, 
        {
          "cell_type": "markdown", 
          "metadata": {}, 
          "source": [
            "\n", 
            "\n", 
            "The first order condition of the primal problem $\\Pp_\\la(y)$ implies that the optimal\n", 
            "coefficients $a^\\star$ satisfies\n", 
            "$$ \\Phi_{x^\\star}^*( \\Phi_{x^\\star} a^\\star - y ) + \\la s^\\star = 0, $$\n", 
            "where $ s^\\star = \\text{sign}(a^\\star) $ can be computed explicitely as\n", 
            "$$ s^\\star = \\text{sign}(\\Phi_x^* p) = \\text{sign}(\\eta_\\la(x^\\star)). $$\n", 
            ""
          ]
        }, 
        {
          "cell_type": "code", 
          "collapsed": false, 
          "input": [
            "Phix = Fourier(fc,x)\n", 
            "s = sign(real(Phix'*p))"
          ], 
          "language": "python", 
          "outputs": []
        }, 
        {
          "cell_type": "markdown", 
          "metadata": {}, 
          "source": [
            "\n", 
            "\n", 
            "One thus obtains, since $\\Phi_{x^\\star}$ has full rank,\n", 
            "$$\n", 
            "      a^\\star = \\Phi_{x^\\star}^+ y - \\la (\\Phi_{x^\\star}^* \\Phi_{x^\\star})^{-1} s^\\star.\n", 
            "$$\n", 
            ""
          ]
        }, 
        {
          "cell_type": "code", 
          "collapsed": false, 
          "input": [
            "a = real(Phix\\y - lambda*pinv(Phix'*Phix)*s )"
          ], 
          "language": "python", 
          "outputs": []
        }, 
        {
          "cell_type": "markdown", 
          "metadata": {}, 
          "source": [
            "\n", 
            "\n", 
            "Display the retrieved Dirac locations.\n", 
            ""
          ]
        }, 
        {
          "cell_type": "code", 
          "collapsed": false, 
          "input": [
            "clf; hold on\n", 
            "stem(x0, a0, 'k.--', 'MarkerSize', ms, 'LineWidth', 1)\n", 
            "stem(x, a, 'r.--', 'MarkerSize', ms, 'LineWidth', 1)\n", 
            "axis([0 1 -1.1 1.1]); box on\n", 
            "legend('Original', 'Recovered')"
          ], 
          "language": "python", 
          "outputs": []
        }, 
        {
          "cell_type": "heading", 
          "level": 3, 
          "metadata": {}, 
          "source": [
            "Exercise 1"
          ]
        }, 
        {
          "cell_type": "markdown", 
          "metadata": {}, 
          "source": [
            "\n", 
            "You can see that the dual certificate $\\abs{\\eta_\\la}$ saturate to\n", 
            "$+1$ or $-1$ in region that are far away from the initial support\n", 
            "$x_0$. This means either that the noise is too large for the method to\n", 
            "successfully estimate robustly this support, or that $\\la$ was not\n", 
            "chosen large enough. Explore different value of noise level $\\norm{w}$ and $\\la$\n", 
            "to determine empirically the signal/noise/$\\la$ regime where the support is\n", 
            "sucessfully estimated."
          ]
        }, 
        {
          "cell_type": "code", 
          "collapsed": false, 
          "input": [
            "## Insert your code here."
          ], 
          "language": "python", 
          "outputs": []
        }, 
        {
          "cell_type": "markdown", 
          "metadata": {}, 
          "source": [
            "\n", 
            ""
          ]
        }, 
        {
          "cell_type": "heading", 
          "level": 2, 
          "metadata": {}, 
          "source": [
            "Certificates and Pre-Certificates\n"
          ]
        }, 
        {
          "cell_type": "markdown", 
          "metadata": {}, 
          "source": [
            "The minimal norm certificate $\\eta_0$ is important because it describes the\n", 
            "evolution of $\\mu_\\la$ of $\\Pp_\\la(y)$ as a function of $\\la$ when $\\la$ is small enough. In\n", 
            "particular, as shown in <#biblio [DuvalPeyre13]>,\n", 
            "if the saturation set\n", 
            "$$\n", 
            "      S_0 = \\enscond{t \\in \\mathbb{T}}{ \\abs{\\eta_0(t)}=1 }\n", 
            "$$\n", 
            "is equal to $x_0$ and if $\\eta_0''(t) \\neq 0$ for $t \\in S_0$,\n", 
            "then for small noise and\n", 
            "small $\\la$, $\\mu_\\la$ have the same number of Diracs as $\\mu_0$, and\n", 
            "both Diracs' locations and amplitude are close to those of $\\mu_0$.\n", 
            "\n", 
            "\n", 
            "A major difficulty is that in general $\\eta_0$ is the solution of a\n", 
            "convex progam, and is hence difficult to compute and to analyze.\n", 
            "\n", 
            "\n", 
            "It is however possible to compute a reasonnable guess by computing the minimal\n", 
            "norm vector which interpolates the Diracs with vanishing derivatives. It\n", 
            "corresponds to computing $\\eta_V = \\Phi^* p_V$ where\n", 
            "$$\n", 
            "      p_V = \\uargmin{p} \\norm{p}^2\n", 
            "      \\quad\\text{s.t.}\\quad\n", 
            "          \\Ga_x^* p = b_0\n", 
            "  $$\n", 
            "where we define\n", 
            "$$\n", 
            "  \\Ga_x = [\\Phi_x, \\Phi_x'] \\in \\RR^{ N \\times (2n) }\n", 
            "  \\qandq\n", 
            "  b_0 = (\\text{sign}(a_0),0  )^* \\in \\RR^{2n}.\n", 
            "$$\n", 
            "\n", 
            "\n", 
            "It is easy to see that the solution of this problem can be computed in\n", 
            "closed form by solving a linear system\n", 
            "$$ p_V = (\\Ga_x)^{+,*} b_0.  $$\n", 
            "\n", 
            "\n", 
            "Compute the $\\Gamma_x$ matrix.\n", 
            ""
          ]
        }, 
        {
          "cell_type": "code", 
          "collapsed": false, 
          "input": [
            "d = 1; % number of derivatives\n", 
            "w = ones(N,1)\n", 
            "Gamma = []\n", 
            "for i in 0:d:\n", 
            "    Gamma = [Gamma, diag(w) * Fourier(fc,x0)]\n", 
            "    % derivate the filter\n", 
            "    w = w .* 2i*pi .* (-fc:fc)'\n", 
            ""
          ], 
          "language": "python", 
          "outputs": []
        }, 
        {
          "cell_type": "markdown", 
          "metadata": {}, 
          "source": [
            "\n", 
            "\n", 
            "Compute $\\eta_V$.\n", 
            ""
          ]
        }, 
        {
          "cell_type": "code", 
          "collapsed": false, 
          "input": [
            "pV = pinv(Gamma') * [sign(a0); zeros(n,1)]\n", 
            "etaV = PhiS(fc, u, pV)"
          ], 
          "language": "python", 
          "outputs": []
        }, 
        {
          "cell_type": "markdown", 
          "metadata": {}, 
          "source": [
            "\n", 
            "\n", 
            "Display the pre-certificate. In this case, it is a certificate and hence\n", 
            "$\\eta_V = \\eta_0$.\n", 
            ""
          ]
        }, 
        {
          "cell_type": "code", 
          "collapsed": false, 
          "input": [
            "clf; hold on\n", 
            "stem(x0, sign(a0), 'k.--', 'MarkerSize', ms, 'LineWidth', lw)\n", 
            "plot([0 1],  [1 1], 'k--', 'LineWidth', lw)\n", 
            "plot([0 1], -[1 1], 'k--', 'LineWidth', lw)\n", 
            "plot(u, etaV, 'b', 'LineWidth', lw)\n", 
            "axis([0 1 -1.1 1.1])\n", 
            "set(gca, 'XTick', [], 'YTick', [-1 1])\n", 
            "box on"
          ], 
          "language": "python", 
          "outputs": []
        }, 
        {
          "cell_type": "heading", 
          "level": 3, 
          "metadata": {}, 
          "source": [
            "Exercise 2"
          ]
        }, 
        {
          "cell_type": "markdown", 
          "metadata": {}, 
          "source": [
            "\n", 
            "Study the evolution of the pre-certificate as the separation between the spikes diminishes.\n", 
            "When is it the case that $\\eta_0=\\eta_V$? When is it the case that $\\mu_0$ is the solution of $\\Pp_0(\\Phi \\mu_0)$ ?\n", 
            "\n", 
            "\n", 
            "\n", 
            "\n", 
            "\n", 
            "\n", 
            "\n", 
            "\n", 
            "\n", 
            "\n", 
            "\n", 
            "\n", 
            "\n", 
            "\n", 
            "\n", 
            "\n", 
            "\n", 
            "\n", 
            "\n", 
            "\n", 
            "\n", 
            "\n", 
            "\n", 
            "\n", 
            "\n", 
            "\n", 
            "\n", 
            ""
          ]
        }, 
        {
          "cell_type": "code", 
          "collapsed": false, 
          "input": [
            "## Insert your code here."
          ], 
          "language": "python", 
          "outputs": []
        }, 
        {
          "cell_type": "markdown", 
          "metadata": {}, 
          "source": [
            "\n", 
            "\n", 
            ""
          ]
        }, 
        {
          "cell_type": "heading", 
          "level": 2, 
          "metadata": {}, 
          "source": [
            "Bibliography\n"
          ]
        }
      ]
    }
  ]
}