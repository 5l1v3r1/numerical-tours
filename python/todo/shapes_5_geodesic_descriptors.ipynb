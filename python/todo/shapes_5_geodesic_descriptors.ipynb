{
  "metadata": {
    "name": ""
  }, 
  "nbformat": 3, 
  "nbformat_minor": 0, 
  "worksheets": [
    {
      "cells": [
        {
          "cell_type": "heading", 
          "level": 1, 
          "metadata": {}, 
          "source": [
            "Shape Retrieval with Geodesic Descriptors"
          ]
        }, 
        {
          "cell_type": "markdown", 
          "metadata": {}, 
          "source": [
            "This numerical tour explores the use of geodesic distances within shapes\n", 
            "to perform shape retrieval.\n", 
            "\n", 
            "\n", 
            "This tour is mostly inspired from the following work:\n", 
            "\n", 
            "\n", 
            "_Matching 2D and 3D Articulated Shapes using Eccentricity_,\n", 
            "A. Ion, N. M. Artner, G. Peyre, W. G. Kropatsch and L. Cohen,\n", 
            "Preprint Hal-00365019, January 2009.\n", 
            ""
          ]
        }, 
        {
          "cell_type": "markdown", 
          "metadata": {}, 
          "source": [
            "*Important:* You need to download the file `nt_toolbox.py` from the \n", 
            "root of the github repository.\n", 
            "$\\newcommand{\\dotp}[2]{\\langle #1, #2 \\rangle}\n", 
            "\\newcommand{\\enscond}[2]{\\lbrace #1, #2 \\rbrace}\n", 
            "\\newcommand{\\pd}[2]{ \\frac{ \\partial #1}{\\partial #2} }\n", 
            "\\newcommand{\\umin}[1]{\\underset{#1}{\\min}\\;}\n", 
            "\\newcommand{\\norm}[1]{\\|#1\\|}\n", 
            "\\newcommand{\\abs}[1]{\\left|#1\\right|}\n", 
            "\\newcommand{\\choice}[1]{ \\left\\{  \\begin{array}{l} #1 \\end{array} \\right. }\n", 
            "\\newcommand{\\pa}[1]{\\left(#1\\right)}\n", 
            "\\newcommand{\\qandq}{\\quad\\text{and}\\quad}\n", 
            "\\newcommand{\\qwhereq}{\\quad\\text{where}\\quad}\n", 
            "\\newcommand{\\qifq}{ \\quad \\text{if} \\quad }\n", 
            "\\newcommand{\\qarrq}{ \\quad \\Longrightarrow \\quad }\n", 
            "\\newcommand{\\ZZ}{\\mathbb{Z}}\n", 
            "\\newcommand{\\RR}{\\mathbb{R}}\n", 
            "\\newcommand{\\Nn}{\\mathcal{N}}\n", 
            "\\newcommand{\\Hh}{\\mathcal{H}}\n", 
            "\\newcommand{\\Bb}{\\mathcal{B}}\n", 
            "\\newcommand{\\EE}{\\mathbb{E}}\n", 
            "\\newcommand{\\CC}{\\mathbb{C}}\n", 
            "\\newcommand{\\si}{\\sigma}\n", 
            "\\newcommand{\\al}{\\alpha}\n", 
            "\\newcommand{\\la}{\\lambda}\n", 
            "\\newcommand{\\ga}{\\gamma}\n", 
            "\\newcommand{\\Ga}{\\Gamma}\n", 
            "\\newcommand{\\La}{\\Lambda}\n", 
            "\\newcommand{\\si}{\\sigma}\n", 
            "\\newcommand{\\Si}{\\Sigma}\n", 
            "\\newcommand{\\be}{\\beta}\n", 
            "\\newcommand{\\de}{\\delta}\n", 
            "\\newcommand{\\De}{\\Delta}\n", 
            "\\renewcommand{\\phi}{\\varphi}\n", 
            "\\renewcommand{\\th}{\\theta}\n", 
            "\\newcommand{\\om}{\\omega}\n", 
            "\\newcommand{\\Om}{\\Omega}\n", 
            "$"
          ]
        }, 
        {
          "cell_type": "code", 
          "collapsed": false, 
          "input": [
            "from nt_toolbox import *", 
            "%matplotlib inline", 
            "%load_ext autoreload", 
            "%autoreload 2"
          ], 
          "language": "python", 
          "outputs": []
        }, 
        {
          "cell_type": "markdown", 
          "metadata": {}, 
          "source": [
            "\n", 
            "CMT"
          ]
        }, 
        {
          "cell_type": "code", 
          "collapsed": false, 
          "input": [
            "rep = 'results/shapes_geodesic_descriptors/'\n", 
            "if not(exist(rep))\n", 
            "    mkdir(rep)\n", 
            ""
          ], 
          "language": "python", 
          "outputs": []
        }, 
        {
          "cell_type": "markdown", 
          "metadata": {}, 
          "source": [
            "CMT\n", 
            ""
          ]
        }, 
        {
          "cell_type": "heading", 
          "level": 2, 
          "metadata": {}, 
          "source": [
            "Geodesic Distances Within a Binary Shape\n"
          ]
        }, 
        {
          "cell_type": "markdown", 
          "metadata": {}, 
          "source": [
            "By restricting shortest path to lie within a shape, one create a geodesic\n", 
            "metric that is different from the Euclidean one if the shape is not\n", 
            "convex.\n", 
            "\n", 
            "\n", 
            "A binary shape is represented as a binary image.\n", 
            ""
          ]
        }, 
        {
          "cell_type": "code", 
          "collapsed": false, 
          "input": [
            "n = 200\n", 
            "name = 'centaur1'\n", 
            "M = load_image(name,n)\n", 
            "M = perform_blurring(M,5)\n", 
            "M = double( rescale( M )>.5 )\n", 
            "if M(1)==1 \n", 
            "    M = 1-M\n", 
            ""
          ], 
          "language": "python", 
          "outputs": []
        }, 
        {
          "cell_type": "markdown", 
          "metadata": {}, 
          "source": [
            "\n", 
            "\n", 
            "\n", 
            "Display the shape.\n", 
            ""
          ]
        }, 
        {
          "cell_type": "code", 
          "collapsed": false, 
          "input": [
            "\n", 
            "imageplot(-M)"
          ], 
          "language": "python", 
          "outputs": []
        }, 
        {
          "cell_type": "markdown", 
          "metadata": {}, 
          "source": [
            "\n", 
            "CMT"
          ]
        }, 
        {
          "cell_type": "code", 
          "collapsed": false, 
          "input": [
            "imwrite(rescale(-M), [rep 'geodescr-' name '-original.png'], 'png')"
          ], 
          "language": "python", 
          "outputs": []
        }, 
        {
          "cell_type": "markdown", 
          "metadata": {}, 
          "source": [
            "CMT\n", 
            "\n", 
            "\n", 
            "Compute its boundary\n", 
            ""
          ]
        }, 
        {
          "cell_type": "code", 
          "collapsed": false, 
          "input": [
            "bound = compute_shape_boundary(M)\n", 
            "nbound = size(bound,2)"
          ], 
          "language": "python", 
          "outputs": []
        }, 
        {
          "cell_type": "markdown", 
          "metadata": {}, 
          "source": [
            "\n", 
            "\n", 
            "Parameters for the Fast Marching: constant speed |W|, but retricted using |L| to the\n", 
            "inside of the shape.\n", 
            ""
          ]
        }, 
        {
          "cell_type": "code", 
          "collapsed": false, 
          "input": [
            "W = ones(n)\n", 
            "L = zeros(n)-Inf; L(M==1) = +Inf"
          ], 
          "language": "python", 
          "outputs": []
        }, 
        {
          "cell_type": "markdown", 
          "metadata": {}, 
          "source": [
            "\n", 
            "\n", 
            "\n", 
            "Initial point for the geodesic computation.\n", 
            ""
          ]
        }, 
        {
          "cell_type": "code", 
          "collapsed": false, 
          "input": [
            "start_points = [95; 20]"
          ], 
          "language": "python", 
          "outputs": []
        }, 
        {
          "cell_type": "markdown", 
          "metadata": {}, 
          "source": [
            "\n", 
            "\n", 
            "Compute the geodesic distance without constraint using Fast Marching.\n", 
            "It is simply the Euclidean distance.\n", 
            ""
          ]
        }, 
        {
          "cell_type": "code", 
          "collapsed": false, 
          "input": [
            "options.constraint_map = []\n", 
            "D0 = perform_fast_marching(W, start_points, options)\n", 
            "D0(M==0) = Inf"
          ], 
          "language": "python", 
          "outputs": []
        }, 
        {
          "cell_type": "markdown", 
          "metadata": {}, 
          "source": [
            "\n", 
            "\n", 
            "Display Euclidean distance.\n", 
            ""
          ]
        }, 
        {
          "cell_type": "code", 
          "collapsed": false, 
          "input": [
            "\n", 
            "options.display_levelsets = 1\n", 
            "options.pstart = start_points\n", 
            "options.nbr_levelsets = 30\n", 
            "display_shape_function(D0, options)"
          ], 
          "language": "python", 
          "outputs": []
        }, 
        {
          "cell_type": "markdown", 
          "metadata": {}, 
          "source": [
            "\n", 
            "CMT"
          ]
        }, 
        {
          "cell_type": "code", 
          "collapsed": false, 
          "input": [
            "saveas(gcf, [rep 'geodescr-' name '-disteucl.eps'], 'epsc')"
          ], 
          "language": "python", 
          "outputs": []
        }, 
        {
          "cell_type": "markdown", 
          "metadata": {}, 
          "source": [
            "CMT\n", 
            "\n", 
            "\n", 
            "Compute the geodesic distance with constraints using Fast Marching.\n", 
            ""
          ]
        }, 
        {
          "cell_type": "code", 
          "collapsed": false, 
          "input": [
            "options.constraint_map = L\n", 
            "D = perform_fast_marching(W, start_points, options)"
          ], 
          "language": "python", 
          "outputs": []
        }, 
        {
          "cell_type": "markdown", 
          "metadata": {}, 
          "source": [
            "\n", 
            "\n", 
            "Display geodesic distance.\n", 
            ""
          ]
        }, 
        {
          "cell_type": "code", 
          "collapsed": false, 
          "input": [
            "\n", 
            "options.nbr_levelsets = 60\n", 
            "display_shape_function(D, options)"
          ], 
          "language": "python", 
          "outputs": []
        }, 
        {
          "cell_type": "markdown", 
          "metadata": {}, 
          "source": [
            "\n", 
            "CMT"
          ]
        }, 
        {
          "cell_type": "code", 
          "collapsed": false, 
          "input": [
            "saveas(gcf, [rep 'geodescr-' name '-distgeod.eps'], 'epsc')"
          ], 
          "language": "python", 
          "outputs": []
        }, 
        {
          "cell_type": "markdown", 
          "metadata": {}, 
          "source": [
            "CMT\n", 
            ""
          ]
        }, 
        {
          "cell_type": "heading", 
          "level": 3, 
          "metadata": {}, 
          "source": [
            "Exercise 1"
          ]
        }, 
        {
          "cell_type": "markdown", 
          "metadata": {}, 
          "source": [
            "\n", 
            "Using |options.nb_iter_max| display the progression of the Fast\n", 
            "Marching.\n", 
            "\n", 
            "\n", 
            "\n", 
            "\n", 
            "\n", 
            "\n", 
            "\n", 
            "\n", 
            "\n", 
            "\n", 
            "\n", 
            "\n", 
            "\n", 
            ""
          ]
        }, 
        {
          "cell_type": "code", 
          "collapsed": false, 
          "input": [
            "## Insert your code here."
          ], 
          "language": "python", 
          "outputs": []
        }, 
        {
          "cell_type": "markdown", 
          "metadata": {}, 
          "source": [
            "\n", 
            "\n", 
            "CMT"
          ]
        }, 
        {
          "cell_type": "code", 
          "collapsed": false, 
          "input": [
            "p = sum(M(:)==1)\n", 
            "qlist = ceil([.1 .3 .7 1]*p)\n", 
            "\n", 
            "for i in 1:4:\n", 
            "    options.nb_iter_max = qlist(i)\n", 
            "    D = perform_fast_marching(W, start_points, options)\n", 
            "\n", 
            "    display_shape_function(perform_hist_eq(D, 'linear'))\n", 
            "    hold on\n", 
            "    h = plot(bound(2,:), bound(1,:), 'k')\n", 
            "    set(h, 'LineWidth', 2)\n", 
            "    axis('ij')\n", 
            "    saveas(gcf, [rep 'geodescr-' name '-fm-' num2str(i) '.eps'], 'epsc')\n", 
            "\n", 
            "options.nb_iter_max = Inf"
          ], 
          "language": "python", 
          "outputs": []
        }, 
        {
          "cell_type": "markdown", 
          "metadata": {}, 
          "source": [
            "CMT\n", 
            "\n", 
            "\n", 
            "Compute a geodesic curve.\n", 
            ""
          ]
        }, 
        {
          "cell_type": "code", 
          "collapsed": false, 
          "input": [
            "end_points = [27;112]\n", 
            "p = compute_geodesic(D,end_points)"
          ], 
          "language": "python", 
          "outputs": []
        }, 
        {
          "cell_type": "markdown", 
          "metadata": {}, 
          "source": [
            "\n", 
            "\n", 
            "Display the path.\n", 
            ""
          ]
        }, 
        {
          "cell_type": "code", 
          "collapsed": false, 
          "input": [
            "ms = 30; lw = 3\n", 
            "clf; hold on\n", 
            "imageplot(1-M)\n", 
            "h = plot(end_points(2),end_points(1), '.b'); set(h, 'MarkerSize', ms)\n", 
            "h = plot(start_points(2),start_points(1), '.r'); set(h, 'MarkerSize', ms)\n", 
            "h = plot( p(2,:), p(1,:), 'g' ); set(h, 'LineWidth', lw)\n", 
            "axis ij"
          ], 
          "language": "python", 
          "outputs": []
        }, 
        {
          "cell_type": "heading", 
          "level": 3, 
          "metadata": {}, 
          "source": [
            "Exercise 2"
          ]
        }, 
        {
          "cell_type": "markdown", 
          "metadata": {}, 
          "source": [
            "\n", 
            "Compute curves joining the start point to several points along the\n", 
            "boundary.\n", 
            "\n", 
            "\n", 
            "\n", 
            "\n", 
            "\n", 
            "\n", 
            "\n", 
            "\n", 
            "\n", 
            "\n", 
            "\n", 
            ""
          ]
        }, 
        {
          "cell_type": "code", 
          "collapsed": false, 
          "input": [
            "## Insert your code here."
          ], 
          "language": "python", 
          "outputs": []
        }, 
        {
          "cell_type": "markdown", 
          "metadata": {}, 
          "source": [
            "\n", 
            ""
          ]
        }, 
        {
          "cell_type": "heading", 
          "level": 2, 
          "metadata": {}, 
          "source": [
            "Local Geodesic Descriptors\n"
          ]
        }, 
        {
          "cell_type": "markdown", 
          "metadata": {}, 
          "source": [
            "In order to build shape signatures, we compute geodesic distance to all\n", 
            "the points on the boundary. We then retrieve some caracteristics from\n", 
            "these geodesic distance map.\n", 
            "\n", 
            "\n", 
            "Select a uniform set of points on the boundary.\n", 
            ""
          ]
        }, 
        {
          "cell_type": "code", 
          "collapsed": false, 
          "input": [
            "nb_samples = 600\n", 
            "sel = round(linspace(1,nbound+1,nb_samples+1)); sel(end) = []\n", 
            "samples = bound(:,sel)"
          ], 
          "language": "python", 
          "outputs": []
        }, 
        {
          "cell_type": "markdown", 
          "metadata": {}, 
          "source": [
            "\n", 
            ""
          ]
        }, 
        {
          "cell_type": "heading", 
          "level": 3, 
          "metadata": {}, 
          "source": [
            "Exercise 3"
          ]
        }, 
        {
          "cell_type": "markdown", 
          "metadata": {}, 
          "source": [
            "\n", 
            "Build a collection |E| of distance maps, so that |E(:,:,i)| is the\n", 
            "geodesic distance to |samples(:,i)|.\n", 
            "\n", 
            "\n", 
            "\n", 
            "\n", 
            "\n", 
            "\n", 
            "\n", 
            "\n", 
            ""
          ]
        }, 
        {
          "cell_type": "code", 
          "collapsed": false, 
          "input": [
            "## Insert your code here."
          ], 
          "language": "python", 
          "outputs": []
        }, 
        {
          "cell_type": "markdown", 
          "metadata": {}, 
          "source": [
            "\n", 
            "\n", 
            "\n", 
            "normalize distances.\n", 
            ""
          ]
        }, 
        {
          "cell_type": "code", 
          "collapsed": false, 
          "input": [
            "E = E/mean(E(:))"
          ], 
          "language": "python", 
          "outputs": []
        }, 
        {
          "cell_type": "markdown", 
          "metadata": {}, 
          "source": [
            "\n", 
            "\n", 
            "\n", 
            "Display some locations\n", 
            ""
          ]
        }, 
        {
          "cell_type": "code", 
          "collapsed": false, 
          "input": [
            "points = [[80;20] [95;112] [156;42]]\n", 
            "col = {'r', 'g', 'b', 'k'}\n", 
            "clf; hold on\n", 
            "imageplot(-M)\n", 
            "for i in 1:3:\n", 
            "    h = plot(points(2,i), points(1,i), [col{i} '.'])\n", 
            "    set(h, 'MarkerSize', 40)\n", 
            "\n", 
            "axis('ij')"
          ], 
          "language": "python", 
          "outputs": []
        }, 
        {
          "cell_type": "markdown", 
          "metadata": {}, 
          "source": [
            "\n", 
            "\n", 
            "CMT"
          ]
        }, 
        {
          "cell_type": "code", 
          "collapsed": false, 
          "input": [
            "saveas(gcf, [rep 'geodescr-' name '-samples-loc.eps'], 'epsc')"
          ], 
          "language": "python", 
          "outputs": []
        }, 
        {
          "cell_type": "markdown", 
          "metadata": {}, 
          "source": [
            "CMT\n", 
            "\n", 
            "\n", 
            "Display three different features at some locations.\n", 
            ""
          ]
        }, 
        {
          "cell_type": "code", 
          "collapsed": false, 
          "input": [
            "\n", 
            "col = {'r', 'g', 'b', 'k'}\n", 
            "for i in 1:3:\n", 
            "    subplot(3,1,i)\n", 
            "    d = E(points(1,i),points(2,i), :)\n", 
            "    u = hist(d(:), 15); axis tight\n", 
            "    h = bar(u, col{i}); axis('tight')\n", 
            "    set(gca, 'XTickLabel', [])\n", 
            ""
          ], 
          "language": "python", 
          "outputs": []
        }, 
        {
          "cell_type": "markdown", 
          "metadata": {}, 
          "source": [
            "\n", 
            "CMT"
          ]
        }, 
        {
          "cell_type": "code", 
          "collapsed": false, 
          "input": [
            "saveas(gcf, [rep 'geodescr-' name '-samples-descr.eps'], 'epsc')"
          ], 
          "language": "python", 
          "outputs": []
        }, 
        {
          "cell_type": "markdown", 
          "metadata": {}, 
          "source": [
            "CMT\n", 
            "\n", 
            ""
          ]
        }, 
        {
          "cell_type": "heading", 
          "level": 2, 
          "metadata": {}, 
          "source": [
            "Global Geodesic Descriptors\n"
          ]
        }, 
        {
          "cell_type": "markdown", 
          "metadata": {}, 
          "source": [
            "One can retain a single statistic from the local descriptors, such as the\n", 
            "min, max, mean or median values. The histogram of these values are the\n", 
            "global descriptors.\n", 
            "\n", 
            "\n", 
            "Compute several statistics.\n", 
            ""
          ]
        }, 
        {
          "cell_type": "code", 
          "collapsed": false, 
          "input": [
            "clear A\n", 
            "A{1} = max(E,[],3)\n", 
            "A{2} = min(E,[],3)\n", 
            "A{3} = mean(E,3)\n", 
            "A{4} = median(E,3)\n", 
            "titles = {'Max', 'Min', 'Mean', 'Median'}"
          ], 
          "language": "python", 
          "outputs": []
        }, 
        {
          "cell_type": "markdown", 
          "metadata": {}, 
          "source": [
            "\n", 
            "\n", 
            "\n", 
            "Display as images.\n", 
            ""
          ]
        }, 
        {
          "cell_type": "code", 
          "collapsed": false, 
          "input": [
            "nbr = [20 5 30 30]\n", 
            "options.pstart = []\n", 
            "\n", 
            "for i in 1:4:\n", 
            "    subplot(2,2,i)\n", 
            "    options.nbr_levelsets = nbr(i)\n", 
            "    display_shape_function(A{i}, options)\n", 
            "    title(titles{i})\n", 
            "\n", 
            "colormap jet(256)"
          ], 
          "language": "python", 
          "outputs": []
        }, 
        {
          "cell_type": "markdown", 
          "metadata": {}, 
          "source": [
            "\n", 
            "CMT"
          ]
        }, 
        {
          "cell_type": "code", 
          "collapsed": false, 
          "input": [
            "\n", 
            "for i in 1:4:\n", 
            "    options.nbr_levelsets = nbr(i)\n", 
            "    display_shape_function(A{i}, options)\n", 
            "    saveas(gcf, [rep 'geodescr-' name '-' titles{i} '.eps'], 'epsc')\n", 
            ""
          ], 
          "language": "python", 
          "outputs": []
        }, 
        {
          "cell_type": "markdown", 
          "metadata": {}, 
          "source": [
            "CMT\n", 
            "\n", 
            "\n", 
            "Display histograms of the statistics.\n", 
            ""
          ]
        }, 
        {
          "cell_type": "code", 
          "collapsed": false, 
          "input": [
            "\n", 
            "for i in 1:4:\n", 
            "    u = A{i}(M==1); u = u(u>0)\n", 
            "    subplot(4,1,i)\n", 
            "    hist(u, 40); axis('tight')\n", 
            "    title(titles{i})\n", 
            ""
          ], 
          "language": "python", 
          "outputs": []
        }, 
        {
          "cell_type": "heading", 
          "level": 2, 
          "metadata": {}, 
          "source": [
            "Shape Retrieval using Geodesic Historams.\n"
          ]
        }, 
        {
          "cell_type": "markdown", 
          "metadata": {}, 
          "source": [
            "One can use the histograms of Eccentricity for shape retrieval.\n", 
            ""
          ]
        }, 
        {
          "cell_type": "heading", 
          "level": 3, 
          "metadata": {}, 
          "source": [
            "Exercise 4"
          ]
        }, 
        {
          "cell_type": "markdown", 
          "metadata": {}, 
          "source": [
            "\n", 
            "Load a library of shapes. Compute the different histograms for these\n", 
            "shapes."
          ]
        }, 
        {
          "cell_type": "code", 
          "collapsed": false, 
          "input": [
            "## Insert your code here."
          ], 
          "language": "python", 
          "outputs": []
        }, 
        {
          "cell_type": "markdown", 
          "metadata": {}, 
          "source": [
            "\n", 
            ""
          ]
        }, 
        {
          "cell_type": "heading", 
          "level": 3, 
          "metadata": {}, 
          "source": [
            "Exercise 5"
          ]
        }, 
        {
          "cell_type": "markdown", 
          "metadata": {}, 
          "source": [
            "\n", 
            "Perform the retrieval by comparing the histogram. Test diffetent metrics\n", 
            "for the retrieval."
          ]
        }, 
        {
          "cell_type": "code", 
          "collapsed": false, 
          "input": [
            "## Insert your code here."
          ], 
          "language": "python", 
          "outputs": []
        }
      ]
    }
  ]
}