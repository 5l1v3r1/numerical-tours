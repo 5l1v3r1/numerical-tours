{
  "metadata": {
    "name": ""
  }, 
  "nbformat": 3, 
  "nbformat_minor": 0, 
  "worksheets": [
    {
      "cells": [
        {
          "cell_type": "heading", 
          "level": 1, 
          "metadata": {}, 
          "source": [
            "Shape Retrieval with Geodesic Descriptors"
          ]
        }, 
        {
          "cell_type": "markdown", 
          "metadata": {}, 
          "source": [
            "This numerical tour explores the use of geodesic distances within shapes", 
            "to perform shape retrieval.", 
            "", 
            "", 
            "This tour is mostly inspired from the following work:", 
            "", 
            "", 
            "_Matching 2D and 3D Articulated Shapes using Eccentricity_,", 
            "A. Ion, N. M. Artner, G. Peyre, W. G. Kropatsch and L. Cohen,", 
            "Preprint Hal-00365019, January 2009."
          ]
        }, 
        {
          "cell_type": "markdown", 
          "metadata": {}, 
          "source": [
            "*Important:* You need to download the file `nt_toolbox.py` from the ", 
            "root of the github repository.", 
            "$\\newcommand{\\dotp}[2]{\\langle #1, #2 \\rangle}", 
            "\\newcommand{\\enscond}[2]{\\lbrace #1, #2 \\rbrace}", 
            "\\newcommand{\\pd}[2]{ \\frac{ \\partial #1}{\\partial #2} }", 
            "\\newcommand{\\umin}[1]{\\underset{#1}{\\min}\\;}", 
            "\\newcommand{\\umax}[1]{\\underset{#1}{\\max}\\;}", 
            "\\newcommand{\\umin}[1]{\\underset{#1}{\\min}\\;}", 
            "\\newcommand{\\uargmin}[1]{\\underset{#1}{argmin}\\;}", 
            "\\newcommand{\\norm}[1]{\\|#1\\|}", 
            "\\newcommand{\\abs}[1]{\\left|#1\\right|}", 
            "\\newcommand{\\choice}[1]{ \\left\\{  \\begin{array}{l} #1 \\end{array} \\right. }", 
            "\\newcommand{\\pa}[1]{\\left(#1\\right)}", 
            "\\newcommand{\\diag}[1]{{diag}\\left( #1 \\right)}", 
            "\\newcommand{\\qandq}{\\quad\\text{and}\\quad}", 
            "\\newcommand{\\qwhereq}{\\quad\\text{where}\\quad}", 
            "\\newcommand{\\qifq}{ \\quad \\text{if} \\quad }", 
            "\\newcommand{\\qarrq}{ \\quad \\Longrightarrow \\quad }", 
            "\\newcommand{\\ZZ}{\\mathbb{Z}}", 
            "\\newcommand{\\CC}{\\mathbb{C}}", 
            "\\newcommand{\\RR}{\\mathbb{R}}", 
            "\\newcommand{\\EE}{\\mathbb{E}}", 
            "\\newcommand{\\Zz}{\\mathcal{Z}}", 
            "\\newcommand{\\Ww}{\\mathcal{W}}", 
            "\\newcommand{\\Vv}{\\mathcal{V}}", 
            "\\newcommand{\\Nn}{\\mathcal{N}}", 
            "\\newcommand{\\NN}{\\mathcal{N}}", 
            "\\newcommand{\\Hh}{\\mathcal{H}}", 
            "\\newcommand{\\Bb}{\\mathcal{B}}", 
            "\\newcommand{\\Ee}{\\mathcal{E}}", 
            "\\newcommand{\\Cc}{\\mathcal{C}}", 
            "\\newcommand{\\Gg}{\\mathcal{G}}", 
            "\\newcommand{\\Ss}{\\mathcal{S}}", 
            "\\newcommand{\\Pp}{\\mathcal{P}}", 
            "\\newcommand{\\Ff}{\\mathcal{F}}", 
            "\\newcommand{\\Xx}{\\mathcal{X}}", 
            "\\newcommand{\\Mm}{\\mathcal{M}}", 
            "\\newcommand{\\Ii}{\\mathcal{I}}", 
            "\\newcommand{\\Dd}{\\mathcal{D}}", 
            "\\newcommand{\\Ll}{\\mathcal{L}}", 
            "\\newcommand{\\Tt}{\\mathcal{T}}", 
            "\\newcommand{\\si}{\\sigma}", 
            "\\newcommand{\\al}{\\alpha}", 
            "\\newcommand{\\la}{\\lambda}", 
            "\\newcommand{\\ga}{\\gamma}", 
            "\\newcommand{\\Ga}{\\Gamma}", 
            "\\newcommand{\\La}{\\Lambda}", 
            "\\newcommand{\\si}{\\sigma}", 
            "\\newcommand{\\Si}{\\Sigma}", 
            "\\newcommand{\\be}{\\beta}", 
            "\\newcommand{\\de}{\\delta}", 
            "\\newcommand{\\De}{\\Delta}", 
            "\\renewcommand{\\phi}{\\varphi}", 
            "\\renewcommand{\\th}{\\theta}", 
            "\\newcommand{\\om}{\\omega}", 
            "\\newcommand{\\Om}{\\Omega}", 
            "$"
          ]
        }, 
        {
          "cell_type": "code", 
          "collapsed": false, 
          "input": [
            "from __future__ import division", 
            "from nt_toolbox import *", 
            "%matplotlib inline", 
            "%load_ext autoreload", 
            "%autoreload 2"
          ], 
          "language": "python", 
          "outputs": []
        }, 
        {
          "cell_type": "markdown", 
          "metadata": {}, 
          "source": [
            "CMT"
          ]
        }, 
        {
          "cell_type": "code", 
          "collapsed": false, 
          "input": [
            "rep = 'results/ shapes_geodesic_descriptors/ '", 
            "if not(exist(rep))", 
            "    mkdir(rep)"
          ], 
          "language": "python", 
          "outputs": []
        }, 
        {
          "cell_type": "markdown", 
          "metadata": {}, 
          "source": [
            "CMT"
          ]
        }, 
        {
          "cell_type": "heading", 
          "level": 2, 
          "metadata": {}, 
          "source": [
            "Geodesic Distances Within a Binary Shape"
          ]
        }, 
        {
          "cell_type": "markdown", 
          "metadata": {}, 
          "source": [
            "By restricting shortest path to lie within a shape, one create a geodesic", 
            "metric that is different from the Euclidean one if the shape is not", 
            "convex.", 
            "", 
            "", 
            "A binary shape is represented as a binary image."
          ]
        }, 
        {
          "cell_type": "code", 
          "collapsed": false, 
          "input": [
            "n = 200", 
            "name = 'centaur1'", 
            "M = load_image(name, n)", 
            "M = perform_blurring(M, 5)", 
            "M = double(rescale(M) >.5)", 
            "if M(1) = =1 ", 
            "    M = 1-M"
          ], 
          "language": "python", 
          "outputs": []
        }, 
        {
          "cell_type": "markdown", 
          "metadata": {}, 
          "source": [
            "Display the shape."
          ]
        }, 
        {
          "cell_type": "code", 
          "collapsed": false, 
          "input": [
            "imageplot(-M)"
          ], 
          "language": "python", 
          "outputs": []
        }, 
        {
          "cell_type": "markdown", 
          "metadata": {}, 
          "source": [
            "CMT"
          ]
        }, 
        {
          "cell_type": "code", 
          "collapsed": false, 
          "input": [
            "imwrite(rescale(-M), [rep 'geodescr-' name '-original.png'], 'png')"
          ], 
          "language": "python", 
          "outputs": []
        }, 
        {
          "cell_type": "markdown", 
          "metadata": {}, 
          "source": [
            "CMT", 
            "", 
            "", 
            "Compute its boundary"
          ]
        }, 
        {
          "cell_type": "code", 
          "collapsed": false, 
          "input": [
            "bound = compute_shape_boundary(M)", 
            "nbound = size(bound, 2)"
          ], 
          "language": "python", 
          "outputs": []
        }, 
        {
          "cell_type": "markdown", 
          "metadata": {}, 
          "source": [
            "Parameters for the Fast Marching: constant speed |W|, but retricted using |L| to the", 
            "inside of the shape."
          ]
        }, 
        {
          "cell_type": "code", 
          "collapsed": false, 
          "input": [
            "W = ones(n)", 
            "L = zeros(n)-Inf; L(M = =1) = + Inf"
          ], 
          "language": "python", 
          "outputs": []
        }, 
        {
          "cell_type": "markdown", 
          "metadata": {}, 
          "source": [
            "Initial point for the geodesic computation."
          ]
        }, 
        {
          "cell_type": "code", 
          "collapsed": false, 
          "input": [
            "start_points = [95; 20]"
          ], 
          "language": "python", 
          "outputs": []
        }, 
        {
          "cell_type": "markdown", 
          "metadata": {}, 
          "source": [
            "Compute the geodesic distance without constraint using Fast Marching.", 
            "It is simply the Euclidean distance."
          ]
        }, 
        {
          "cell_type": "code", 
          "collapsed": false, 
          "input": [
            "options.constraint_map = []", 
            "D0 = perform_fast_marching(W, start_points, options)", 
            "D0(M = =0) = Inf"
          ], 
          "language": "python", 
          "outputs": []
        }, 
        {
          "cell_type": "markdown", 
          "metadata": {}, 
          "source": [
            "Display Euclidean distance."
          ]
        }, 
        {
          "cell_type": "code", 
          "collapsed": false, 
          "input": [
            "options.display_levelsets = 1", 
            "options.pstart = start_points", 
            "options.nbr_levelsets = 30", 
            "display_shape_function(D0, options)"
          ], 
          "language": "python", 
          "outputs": []
        }, 
        {
          "cell_type": "markdown", 
          "metadata": {}, 
          "source": [
            "CMT"
          ]
        }, 
        {
          "cell_type": "code", 
          "collapsed": false, 
          "input": [
            "saveas(gcf, [rep 'geodescr-' name '-disteucl.eps'], 'epsc')"
          ], 
          "language": "python", 
          "outputs": []
        }, 
        {
          "cell_type": "markdown", 
          "metadata": {}, 
          "source": [
            "CMT", 
            "", 
            "", 
            "Compute the geodesic distance with constraints using Fast Marching."
          ]
        }, 
        {
          "cell_type": "code", 
          "collapsed": false, 
          "input": [
            "options.constraint_map = L", 
            "D = perform_fast_marching(W, start_points, options)"
          ], 
          "language": "python", 
          "outputs": []
        }, 
        {
          "cell_type": "markdown", 
          "metadata": {}, 
          "source": [
            "Display geodesic distance."
          ]
        }, 
        {
          "cell_type": "code", 
          "collapsed": false, 
          "input": [
            "options.nbr_levelsets = 60", 
            "display_shape_function(D, options)"
          ], 
          "language": "python", 
          "outputs": []
        }, 
        {
          "cell_type": "markdown", 
          "metadata": {}, 
          "source": [
            "CMT"
          ]
        }, 
        {
          "cell_type": "code", 
          "collapsed": false, 
          "input": [
            "saveas(gcf, [rep 'geodescr-' name '-distgeod.eps'], 'epsc')"
          ], 
          "language": "python", 
          "outputs": []
        }, 
        {
          "cell_type": "markdown", 
          "metadata": {}, 
          "source": [
            "CMT"
          ]
        }, 
        {
          "cell_type": "heading", 
          "level": 3, 
          "metadata": {}, 
          "source": [
            "Exercise 1"
          ]
        }, 
        {
          "cell_type": "markdown", 
          "metadata": {}, 
          "source": [
            "Using |options.nb_iter_max| display the progression of the Fast", 
            "Marching."
          ]
        }, 
        {
          "cell_type": "code", 
          "collapsed": false, 
          "input": [
            "## Insert your code here."
          ], 
          "language": "python", 
          "outputs": []
        }, 
        {
          "cell_type": "markdown", 
          "metadata": {}, 
          "source": [
            "CMT"
          ]
        }, 
        {
          "cell_type": "code", 
          "collapsed": false, 
          "input": [
            "p = sum(M(: ) = =1)", 
            "qlist = ceil([.1 .3 .7 1]*p)", 
            "", 
            "for i in 1: 4:", 
            "    options.nb_iter_max = qlist(i)", 
            "    D = perform_fast_marching(W, start_points, options)", 
            "", 
            "    display_shape_function(perform_hist_eq(D, 'linear'))", 
            "    hold on", 
            "    h = plot(bound(2, : ), bound(1, : ), 'k')", 
            "    set(h, 'LineWidth', 2)", 
            "    axis('ij')", 
            "    saveas(gcf, [rep 'geodescr-' name '-fm-' num2str(i) '.eps'], 'epsc')", 
            "", 
            "options.nb_iter_max = Inf"
          ], 
          "language": "python", 
          "outputs": []
        }, 
        {
          "cell_type": "markdown", 
          "metadata": {}, 
          "source": [
            "CMT", 
            "", 
            "", 
            "Compute a geodesic curve."
          ]
        }, 
        {
          "cell_type": "code", 
          "collapsed": false, 
          "input": [
            "end_points = [27; 112]", 
            "p = compute_geodesic(D, end_points)"
          ], 
          "language": "python", 
          "outputs": []
        }, 
        {
          "cell_type": "markdown", 
          "metadata": {}, 
          "source": [
            "Display the path."
          ]
        }, 
        {
          "cell_type": "code", 
          "collapsed": false, 
          "input": [
            "ms = 30; lw = 3", 
            "clf; hold on", 
            "imageplot(1-M)", 
            "h = plot(end_points(2), end_points(1), '.b'); set(h, 'MarkerSize', ms)", 
            "h = plot(start_points(2), start_points(1), '.r'); set(h, 'MarkerSize', ms)", 
            "h = plot(p(2, : ), p(1, : ), 'g'); set(h, 'LineWidth', lw)", 
            "axis ij"
          ], 
          "language": "python", 
          "outputs": []
        }, 
        {
          "cell_type": "heading", 
          "level": 3, 
          "metadata": {}, 
          "source": [
            "Exercise 2"
          ]
        }, 
        {
          "cell_type": "markdown", 
          "metadata": {}, 
          "source": [
            "Compute curves joining the start point to several points along the", 
            "boundary."
          ]
        }, 
        {
          "cell_type": "code", 
          "collapsed": false, 
          "input": [
            "## Insert your code here."
          ], 
          "language": "python", 
          "outputs": []
        }, 
        {
          "cell_type": "heading", 
          "level": 2, 
          "metadata": {}, 
          "source": [
            "Local Geodesic Descriptors"
          ]
        }, 
        {
          "cell_type": "markdown", 
          "metadata": {}, 
          "source": [
            "In order to build shape signatures, we compute geodesic distance to all", 
            "the points on the boundary. We then retrieve some caracteristics from", 
            "these geodesic distance map.", 
            "", 
            "", 
            "Select a uniform set of points on the boundary."
          ]
        }, 
        {
          "cell_type": "code", 
          "collapsed": false, 
          "input": [
            "nb_samples = 600", 
            "sel = round(linspace(1, nbound + 1, nb_samples + 1)); sel(end) = []", 
            "samples = bound(: , sel)"
          ], 
          "language": "python", 
          "outputs": []
        }, 
        {
          "cell_type": "heading", 
          "level": 3, 
          "metadata": {}, 
          "source": [
            "Exercise 3"
          ]
        }, 
        {
          "cell_type": "markdown", 
          "metadata": {}, 
          "source": [
            "Build a collection |E| of distance maps, so that |E(:,:,i)| is the", 
            "geodesic distance to |samples(:,i)|."
          ]
        }, 
        {
          "cell_type": "code", 
          "collapsed": false, 
          "input": [
            "## Insert your code here."
          ], 
          "language": "python", 
          "outputs": []
        }, 
        {
          "cell_type": "markdown", 
          "metadata": {}, 
          "source": [
            "normalize distances."
          ]
        }, 
        {
          "cell_type": "code", 
          "collapsed": false, 
          "input": [
            "E = E/ mean(E(: ))"
          ], 
          "language": "python", 
          "outputs": []
        }, 
        {
          "cell_type": "markdown", 
          "metadata": {}, 
          "source": [
            "Display some locations"
          ]
        }, 
        {
          "cell_type": "code", 
          "collapsed": false, 
          "input": [
            "points = [[80; 20] [95; 112] [156; 42]]", 
            "col = {'r', 'g', 'b', 'k'}", 
            "clf; hold on", 
            "imageplot(-M)", 
            "for i in 1: 3:", 
            "    h = plot(points(2, i), points(1, i), [col{i} '.'])", 
            "    set(h, 'MarkerSize', 40)", 
            "", 
            "axis('ij')"
          ], 
          "language": "python", 
          "outputs": []
        }, 
        {
          "cell_type": "markdown", 
          "metadata": {}, 
          "source": [
            "CMT"
          ]
        }, 
        {
          "cell_type": "code", 
          "collapsed": false, 
          "input": [
            "saveas(gcf, [rep 'geodescr-' name '-samples-loc.eps'], 'epsc')"
          ], 
          "language": "python", 
          "outputs": []
        }, 
        {
          "cell_type": "markdown", 
          "metadata": {}, 
          "source": [
            "CMT", 
            "", 
            "", 
            "Display three different features at some locations."
          ]
        }, 
        {
          "cell_type": "code", 
          "collapsed": false, 
          "input": [
            "col = {'r', 'g', 'b', 'k'}", 
            "for i in 1: 3:", 
            "    subplot(3, 1, i)", 
            "    d = E(points(1, i), points(2, i), : )", 
            "    u = hist(d(: ), 15); axis tight", 
            "    h = bar(u, col{i}); axis('tight')", 
            "    set(gca, 'XTickLabel', [])"
          ], 
          "language": "python", 
          "outputs": []
        }, 
        {
          "cell_type": "markdown", 
          "metadata": {}, 
          "source": [
            "CMT"
          ]
        }, 
        {
          "cell_type": "code", 
          "collapsed": false, 
          "input": [
            "saveas(gcf, [rep 'geodescr-' name '-samples-descr.eps'], 'epsc')"
          ], 
          "language": "python", 
          "outputs": []
        }, 
        {
          "cell_type": "markdown", 
          "metadata": {}, 
          "source": [
            "CMT"
          ]
        }, 
        {
          "cell_type": "heading", 
          "level": 2, 
          "metadata": {}, 
          "source": [
            "Global Geodesic Descriptors"
          ]
        }, 
        {
          "cell_type": "markdown", 
          "metadata": {}, 
          "source": [
            "One can retain a single statistic from the local descriptors, such as the", 
            "min, max, mean or median values. The histogram of these values are the", 
            "global descriptors.", 
            "", 
            "", 
            "Compute several statistics."
          ]
        }, 
        {
          "cell_type": "code", 
          "collapsed": false, 
          "input": [
            "clear A", 
            "A{1} = max(E, [], 3)", 
            "A{2} = min(E, [], 3)", 
            "A{3} = mean(E, 3)", 
            "A{4} = median(E, 3)", 
            "titles = {'Max', 'Min', 'Mean', 'Median'}"
          ], 
          "language": "python", 
          "outputs": []
        }, 
        {
          "cell_type": "markdown", 
          "metadata": {}, 
          "source": [
            "Display as images."
          ]
        }, 
        {
          "cell_type": "code", 
          "collapsed": false, 
          "input": [
            "nbr = [20 5 30 30]", 
            "options.pstart = []", 
            "", 
            "for i in 1: 4:", 
            "    subplot(2, 2, i)", 
            "    options.nbr_levelsets = nbr(i)", 
            "    display_shape_function(A{i}, options)", 
            "    title(titles{i})", 
            "", 
            "colormap jet(256)"
          ], 
          "language": "python", 
          "outputs": []
        }, 
        {
          "cell_type": "markdown", 
          "metadata": {}, 
          "source": [
            "CMT"
          ]
        }, 
        {
          "cell_type": "code", 
          "collapsed": false, 
          "input": [
            "for i in 1: 4:", 
            "    options.nbr_levelsets = nbr(i)", 
            "    display_shape_function(A{i}, options)", 
            "    saveas(gcf, [rep 'geodescr-' name '-' titles{i} '.eps'], 'epsc')"
          ], 
          "language": "python", 
          "outputs": []
        }, 
        {
          "cell_type": "markdown", 
          "metadata": {}, 
          "source": [
            "CMT", 
            "", 
            "", 
            "Display histograms of the statistics."
          ]
        }, 
        {
          "cell_type": "code", 
          "collapsed": false, 
          "input": [
            "for i in 1: 4:", 
            "    u = A{i}(M = =1); u = u(u >0)", 
            "    subplot(4, 1, i)", 
            "    hist(u, 40); axis('tight')", 
            "    title(titles{i})"
          ], 
          "language": "python", 
          "outputs": []
        }, 
        {
          "cell_type": "heading", 
          "level": 2, 
          "metadata": {}, 
          "source": [
            "Shape Retrieval using Geodesic Historams."
          ]
        }, 
        {
          "cell_type": "markdown", 
          "metadata": {}, 
          "source": [
            "One can use the histograms of Eccentricity for shape retrieval."
          ]
        }, 
        {
          "cell_type": "heading", 
          "level": 3, 
          "metadata": {}, 
          "source": [
            "Exercise 4"
          ]
        }, 
        {
          "cell_type": "markdown", 
          "metadata": {}, 
          "source": [
            "Load a library of shapes. Compute the different histograms for these", 
            "shapes."
          ]
        }, 
        {
          "cell_type": "code", 
          "collapsed": false, 
          "input": [
            "## Insert your code here."
          ], 
          "language": "python", 
          "outputs": []
        }, 
        {
          "cell_type": "heading", 
          "level": 3, 
          "metadata": {}, 
          "source": [
            "Exercise 5"
          ]
        }, 
        {
          "cell_type": "markdown", 
          "metadata": {}, 
          "source": [
            "Perform the retrieval by comparing the histogram. Test diffetent metrics", 
            "for the retrieval."
          ]
        }, 
        {
          "cell_type": "code", 
          "collapsed": false, 
          "input": [
            "## Insert your code here."
          ], 
          "language": "python", 
          "outputs": []
        }
      ]
    }
  ]
}