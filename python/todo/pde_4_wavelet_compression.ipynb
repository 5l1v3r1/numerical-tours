{
  "metadata": {
    "name": ""
  }, 
  "nbformat": 3, 
  "nbformat_minor": 0, 
  "worksheets": [
    {
      "cells": [
        {
          "cell_type": "heading", 
          "level": 1, 
          "metadata": {}, 
          "source": [
            "Wavelet Compression of Integral Operators"
          ]
        }, 
        {
          "cell_type": "markdown", 
          "metadata": {}, 
          "source": [
            "This numerical tour explores approximation of integral operators\n", 
            "over wavelets bases.\n", 
            ""
          ]
        }, 
        {
          "cell_type": "markdown", 
          "metadata": {}, 
          "source": [
            "*Important:* You need to download the file `nt_toolbox.py` from the \n", 
            "root of the github repository.\n", 
            "$\\newcommand{\\dotp}[2]{\\langle #1, #2 \\rangle}\n", 
            "\\newcommand{\\enscond}[2]{\\lbrace #1, #2 \\rbrace}\n", 
            "\\newcommand{\\pd}[2]{ \\frac{ \\partial #1}{\\partial #2} }\n", 
            "\\newcommand{\\umin}[1]{\\underset{#1}{\\min}\\;}\n", 
            "\\newcommand{\\norm}[1]{\\|#1\\|}\n", 
            "\\newcommand{\\abs}[1]{\\left|#1\\right|}\n", 
            "\\newcommand{\\choice}[1]{ \\left\\{  \\begin{array}{l} #1 \\end{array} \\right. }\n", 
            "\\newcommand{\\pa}[1]{\\left(#1\\right)}\n", 
            "\\newcommand{\\qandq}{\\quad\\text{and}\\quad}\n", 
            "\\newcommand{\\qwhereq}{\\quad\\text{where}\\quad}\n", 
            "\\newcommand{\\qifq}{ \\quad \\text{if} \\quad }\n", 
            "\\newcommand{\\qarrq}{ \\quad \\Longrightarrow \\quad }\n", 
            "\\newcommand{\\ZZ}{\\mathbb{Z}}\n", 
            "\\newcommand{\\RR}{\\mathbb{R}}\n", 
            "\\newcommand{\\Nn}{\\mathcal{N}}\n", 
            "\\newcommand{\\Hh}{\\mathcal{H}}\n", 
            "\\newcommand{\\Bb}{\\mathcal{B}}\n", 
            "\\newcommand{\\EE}{\\mathbb{E}}\n", 
            "\\newcommand{\\CC}{\\mathbb{C}}\n", 
            "\\newcommand{\\si}{\\sigma}\n", 
            "\\newcommand{\\al}{\\alpha}\n", 
            "\\newcommand{\\la}{\\lambda}\n", 
            "\\newcommand{\\ga}{\\gamma}\n", 
            "\\newcommand{\\Ga}{\\Gamma}\n", 
            "\\newcommand{\\La}{\\Lambda}\n", 
            "\\newcommand{\\si}{\\sigma}\n", 
            "\\newcommand{\\Si}{\\Sigma}\n", 
            "\\newcommand{\\be}{\\beta}\n", 
            "\\newcommand{\\de}{\\delta}\n", 
            "\\newcommand{\\De}{\\Delta}\n", 
            "\\renewcommand{\\phi}{\\varphi}\n", 
            "\\renewcommand{\\th}{\\theta}\n", 
            "\\newcommand{\\om}{\\omega}\n", 
            "\\newcommand{\\Om}{\\Omega}\n", 
            "$"
          ]
        }, 
        {
          "cell_type": "code", 
          "collapsed": false, 
          "input": [
            "from nt_toolbox import *", 
            "%matplotlib inline", 
            "%load_ext autoreload", 
            "%autoreload 2"
          ], 
          "language": "python", 
          "outputs": []
        }, 
        {
          "cell_type": "heading", 
          "level": 2, 
          "metadata": {}, 
          "source": [
            "Representation of Operators in Bases\n"
          ]
        }, 
        {
          "cell_type": "markdown", 
          "metadata": {}, 
          "source": [
            "We consider 1-D signals $f \\in \\Hh=L^2([0,1]) $ (we assume periodic boundary\n", 
            "conditions).\n", 
            "We consider an orthogonal basis $ \\Bb = (\\psi_m)_{m \\in \\Om} $ of $\\Hh$.\n", 
            "The forward (decomposition) operator is\n", 
            "$$ \\Psi : f \\in \\Hh \\rightarrow (\\dotp{f}{\\psi_m})_{m \\in \\Om} \\in\n", 
            " \\Vv = \\RR^\\Om. $$\n", 
            "The backaward  (recomposition) operator is\n", 
            "$$ \\Psi^* : c \\in \\Vv \\rightarrow \\sum_{m \\in \\Om} c_m \\psi_m \\in \\Hh. $$\n", 
            "\n", 
            "\n", 
            "Note that $\\Bb$ being orthonormal is equivalent to\n", 
            "$$\\Psi^* \\circ \\Psi = \\text{Id}_\\Hh \\qandq \\Psi \\circ \\Psi^* = \\text{Id}_\\Vv. $$\n", 
            "\n", 
            "\n", 
            "A linear operator $T : \\Hh \\rightarrow \\Hh$\n", 
            "can be represented as\n", 
            "$$ T f(x) = \\int_0^1 K(x,y) f(y) d y. $$\n", 
            "\n", 
            "\n", 
            "Here $K : [0,1]^2 \\rightarrow \\RR$ is a kernel function, that is\n", 
            "sometimes assumed to be a distribution (for instance to define\n", 
            "differential operators).\n", 
            "\n", 
            "\n", 
            "$K$ is in some sense the representation of $T$ in the Dirac basis of $\\Hh$.\n", 
            "One can represent the operator $T$ in the basis $\\Bb$\n", 
            "as follow\n", 
            "$$ T = \\Psi^* S \\Psi\n", 
            "      \\qwhereq S = \\Psi T \\Psi^* \\in \\ell^2(\\Vv). $$\n", 
            "Here the operator $S : \\Vv \\rightarrow \\Vv$ can be understood as an\n", 
            "(possibly infinite) matrix whose entries can be computed as\n", 
            "$$ \\forall (m,m') \\in \\Omega^2, \\quad\n", 
            "      S_{m,m'} = \\dotp{T \\psi_m}{\\psi_{m'}}. $$\n", 
            "\n", 
            "\n", 
            "In the following, in order to be able to perform\n", 
            "numerical computations,\n", 
            "we consider discretized signals $f \\in \\Hh = \\RR^N$\n", 
            "and thus assume $\\Psi$ defines an orthonormal basis of $\\RR^N$.\n", 
            "In this case $\\Vv = \\RR^N$, and both $K, S \\in \\RR^{N \\times N}$.\n", 
            "\n", 
            "\n", 
            "The switch of representations\n", 
            "$$ \\Theta : T \\in \\RR^{N \\times N}\n", 
            "  \\longmapsto S = \\Psi T \\Psi^* \\in \\RR^{N \\times N} $$\n", 
            "is called the tensorial transform assiociated to $\\Psi$\n", 
            "(also called the anisotropic transform in the case of Wavelet bases).\n", 
            "\n", 
            "\n", 
            "It can be computed numerically by first applying $\\Psi$ to the rows\n", 
            "of $T$ and then to its columns.\n", 
            ""
          ]
        }, 
        {
          "cell_type": "heading", 
          "level": 2, 
          "metadata": {}, 
          "source": [
            "Foveation Operator\n"
          ]
        }, 
        {
          "cell_type": "markdown", 
          "metadata": {}, 
          "source": [
            "We consider here a special case of integral operator, the so-called\n", 
            "Foveation operator. It corresponds to a spacially varying convolution.\n", 
            "\n", 
            "\n", 
            "Size $N$ of the signal.\n", 
            ""
          ]
        }, 
        {
          "cell_type": "code", 
          "collapsed": false, 
          "input": [
            "N = 1024"
          ], 
          "language": "python", 
          "outputs": []
        }, 
        {
          "cell_type": "markdown", 
          "metadata": {}, 
          "source": [
            "\n", 
            "\n", 
            "We can compute a signal and the action of the kernel on the signal.\n", 
            ""
          ]
        }, 
        {
          "cell_type": "code", 
          "collapsed": false, 
          "input": [
            "f = load_signal('piece-polynomial', N)"
          ], 
          "language": "python", 
          "outputs": []
        }, 
        {
          "cell_type": "markdown", 
          "metadata": {}, 
          "source": [
            "\n", 
            "\n", 
            "Display it.\n", 
            ""
          ]
        }, 
        {
          "cell_type": "code", 
          "collapsed": false, 
          "input": [
            "\n", 
            "plot(f); axis tight"
          ], 
          "language": "python", 
          "outputs": []
        }, 
        {
          "cell_type": "markdown", 
          "metadata": {}, 
          "source": [
            "\n", 
            "\n", 
            "A spacially varying convolution is a blurring operator that is not\n", 
            "translation invariant. For a Foveation operator, the blur has a spatially varying bandwidth\n", 
            "parameterized by a scale $\\si(x)$, that dillates a\n", 
            "given convolution profile $\\phi(x)$. It thus corresponds to\n", 
            "$$ K(x,y) = \\frac{1}{\\si(x)} \\phi\\pa{ \\frac{x-y}{\\si(x)} }. $$\n", 
            "\n", 
            "\n", 
            "We choose here a Gaussian kernel.\n", 
            ""
          ]
        }, 
        {
          "cell_type": "code", 
          "collapsed": false, 
          "input": [
            "phi = lambda x: exp( -abs(x).^2 / 2 )"
          ], 
          "language": "python", 
          "outputs": []
        }, 
        {
          "cell_type": "markdown", 
          "metadata": {}, 
          "source": [
            "\n", 
            "\n", 
            "One usually chose a foveation scale that increases linearly with the\n", 
            "distance to some center point $c$ of Foveation. This reproduces the effect of\n", 
            "human vision, that has a finer resolution in the center of the field of\n", 
            "view. We thus choose\n", 
            "$$ \\si(x) = \\al \\abs{x-c} + \\be $$\n", 
            "for some constants $\\al,\\be > 0$.\n", 
            "\n", 
            "\n", 
            "Center point $c$ of foveation\n", 
            ""
          ]
        }, 
        {
          "cell_type": "code", 
          "collapsed": false, 
          "input": [
            "c = 1/2"
          ], 
          "language": "python", 
          "outputs": []
        }, 
        {
          "cell_type": "markdown", 
          "metadata": {}, 
          "source": [
            "\n", 
            "\n", 
            "Rate of foveation and offset.\n", 
            ""
          ]
        }, 
        {
          "cell_type": "code", 
          "collapsed": false, 
          "input": [
            "alpha = .05\n", 
            "beta = 1e-3"
          ], 
          "language": "python", 
          "outputs": []
        }, 
        {
          "cell_type": "markdown", 
          "metadata": {}, 
          "source": [
            "\n", 
            "\n", 
            "Definition of $\\sigma$\n", 
            ""
          ]
        }, 
        {
          "cell_type": "code", 
          "collapsed": false, 
          "input": [
            "sigma = lambda x: alpha*abs(x-c)+beta"
          ], 
          "language": "python", 
          "outputs": []
        }, 
        {
          "cell_type": "markdown", 
          "metadata": {}, 
          "source": [
            "\n", 
            "\n", 
            "Normalization operator (this is needed for the discrete kernel) the rows.\n", 
            ""
          ]
        }, 
        {
          "cell_type": "code", 
          "collapsed": false, 
          "input": [
            "normalize = lambda K: K ./ repmat( sum(K,2), [1 N] )"
          ], 
          "language": "python", 
          "outputs": []
        }, 
        {
          "cell_type": "markdown", 
          "metadata": {}, 
          "source": [
            "\n", 
            "\n", 
            "\n", 
            "Definition of the kernel.\n", 
            ""
          ]
        }, 
        {
          "cell_type": "code", 
          "collapsed": false, 
          "input": [
            "t = (0:N-1)/N\n", 
            "[Y,X] = meshgrid(t,t)\n", 
            "K = normalize( phi( (X-Y) ./ sigma(X)  ) )"
          ], 
          "language": "python", 
          "outputs": []
        }, 
        {
          "cell_type": "markdown", 
          "metadata": {}, 
          "source": [
            "\n", 
            "\n", 
            "\n", 
            "Display a few lines of the kernel.\n", 
            ""
          ]
        }, 
        {
          "cell_type": "code", 
          "collapsed": false, 
          "input": [
            "I = round( linspace(1,N,17) )\n", 
            "\n", 
            "plot(K(:,I)); axis tight\n", 
            "axis([1 N -.005 .1])"
          ], 
          "language": "python", 
          "outputs": []
        }, 
        {
          "cell_type": "markdown", 
          "metadata": {}, 
          "source": [
            "\n", 
            "\n", 
            "Display the kernel as an image (using a change of contrast to better view\n", 
            "the rows).\n", 
            ""
          ]
        }, 
        {
          "cell_type": "code", 
          "collapsed": false, 
          "input": [
            "\n", 
            "imageplot(K.^.1)"
          ], 
          "language": "python", 
          "outputs": []
        }, 
        {
          "cell_type": "markdown", 
          "metadata": {}, 
          "source": [
            "\n", 
            "\n", 
            "Compute $f = T g$. In the discrete setting,\n", 
            "this corresponds to the multiplication by the discretized kernel $K$\n", 
            "(which is the representation of $T$ in the Dirac basis).\n", 
            ""
          ]
        }, 
        {
          "cell_type": "code", 
          "collapsed": false, 
          "input": [
            "g = K*f"
          ], 
          "language": "python", 
          "outputs": []
        }, 
        {
          "cell_type": "markdown", 
          "metadata": {}, 
          "source": [
            "\n", 
            "\n", 
            "Display the action of the kernel.\n", 
            ""
          ]
        }, 
        {
          "cell_type": "code", 
          "collapsed": false, 
          "input": [
            "\n", 
            "subplot(2,1,1)\n", 
            "plot(f); axis('tight')\n", 
            "title('f')\n", 
            "subplot(2,1,2)\n", 
            "plot(g); axis('tight')\n", 
            "title('g')"
          ], 
          "language": "python", 
          "outputs": []
        }, 
        {
          "cell_type": "markdown", 
          "metadata": {}, 
          "source": [
            "\n", 
            "\n", 
            "For later use, store the average application time.\n", 
            ""
          ]
        }, 
        {
          "cell_type": "code", 
          "collapsed": false, 
          "input": [
            "t0 = 0\n", 
            "ntrials = 50\n", 
            "for i in 1:ntrials:\n", 
            "    tic; g = K*f; t0 = t0 + toc()\n", 
            "\n", 
            "t0 = t0 / ntrials"
          ], 
          "language": "python", 
          "outputs": []
        }, 
        {
          "cell_type": "markdown", 
          "metadata": {}, 
          "source": [
            "\n", 
            ""
          ]
        }, 
        {
          "cell_type": "heading", 
          "level": 2, 
          "metadata": {}, 
          "source": [
            "Representation of Operator in a Wavelet Basis\n"
          ]
        }, 
        {
          "cell_type": "markdown", 
          "metadata": {}, 
          "source": [
            "Wavelet operator compression\n", 
            "has been initially introduced for the compression of integral\n", 
            "operator with a kernel $K$ that is\n", 
            "sufficiently smooth <#biblio [BeyCoifRokh91]>.\n", 
            "In this setting, this allows to reduce the storage of the discretized\n", 
            "matrix $T \\in \\RR^{N \\times N}$ from\n", 
            "$O(N^2)$ to $O(N\\log(N))$ by thresholding the entries of $S$.\n", 
            "\n", 
            "\n", 
            "A more advanced representation, the so-called non-standard one, allows an\n", 
            "even further compression to $O(N)$ entries. We do not detail here\n", 
            "the non-standard representation, that is more involved.\n", 
            "\n", 
            "\n", 
            "Representation of operator in wavelet bassis has also been applied to\n", 
            "local differential operator (in which case the kernel $K$ is a\n", 
            "distribution), see for instance <#biblio [Beylkin92]>. In this case, the advantage is not\n", 
            "the storage of the matrix, but the ability to derive optimal\n", 
            "pre-conditioner that are diagonal in the transformed domain, see for instance\n", 
            "<#biblio [DahmKun92]>. This allows one to recover and extend\n", 
            "classical multiscale preconditonners, such as for instance\n", 
            "<#biblio [BramPascXu90]>. Such preconditionners are crucial to solve\n", 
            "linear systems such as $T f = y$ (which typically\n", 
            "corresponds to the resolution of a\n", 
            "partial differential equation) using for instance\n", 
            "the conjugate gradient method.\n", 
            "\n", 
            "\n", 
            "An orthogonal wavelet basis of $\\Hh$ reads\n", 
            "$$ \\forall m = (j,n), \\quad \\psi_{m}(x) = \\frac{1}{2^{j/2}}\n", 
            "      \\psi\\pa{ \\frac{x-2^j n}{2^j} }   $$\n", 
            "for scales $j \\in \\ZZ$ and positions $ n = 0,\\ldots,2^{-j}-1 $.\n", 
            "\n", 
            "\n", 
            "We use here the simplest wavelet, the Haar wavelets. Wavelet with a\n", 
            "larger number of vanishing moments could be used as well.\n", 
            ""
          ]
        }, 
        {
          "cell_type": "code", 
          "collapsed": false, 
          "input": [
            "options.filter = 'haar'\n", 
            "Jmin = 1"
          ], 
          "language": "python", 
          "outputs": []
        }, 
        {
          "cell_type": "markdown", 
          "metadata": {}, 
          "source": [
            "\n", 
            "\n", 
            "Define the forward transform $\\Psi$ and\n", 
            "the backward transform $\\Psi^*$.\n", 
            ""
          ]
        }, 
        {
          "cell_type": "code", 
          "collapsed": false, 
          "input": [
            "options.separable = 0\n", 
            "Psi  = lambda f: perform_wavelet_transf(f, Jmin, +1, options)\n", 
            "PsiS = lambda f: perform_wavelet_transf(f, Jmin, -1, options)"
          ], 
          "language": "python", 
          "outputs": []
        }, 
        {
          "cell_type": "markdown", 
          "metadata": {}, 
          "source": [
            "\n", 
            "\n", 
            "We define the tensor product transform\n", 
            "$$ \\Theta(T) = \\Psi T \\Psi^* $$\n", 
            "where $T$ is represented through its kernel $K$.\n", 
            ""
          ]
        }, 
        {
          "cell_type": "code", 
          "collapsed": false, 
          "input": [
            "options.separable = 1\n", 
            "Theta = lambda K: perform_wavelet_transf(K, Jmin, +1, options)"
          ], 
          "language": "python", 
          "outputs": []
        }, 
        {
          "cell_type": "heading", 
          "level": 2, 
          "metadata": {}, 
          "source": [
            "Wavelet Foveation\n"
          ]
        }, 
        {
          "cell_type": "markdown", 
          "metadata": {}, 
          "source": [
            "Computing foveation over wavelet bases has been initially proposed in\n", 
            "<#biblio [ChaMalYap00]>. It extends an initial method proposed by <#biblio [Burt88]>.\n", 
            "\n", 
            "\n", 
            "Display the wavelet transform $\\Psi f$ of the signal $f$.\n", 
            ""
          ]
        }, 
        {
          "cell_type": "code", 
          "collapsed": false, 
          "input": [
            "\n", 
            "plot_wavelet(Psi(f), Jmin)"
          ], 
          "language": "python", 
          "outputs": []
        }, 
        {
          "cell_type": "markdown", 
          "metadata": {}, 
          "source": [
            "\n", 
            "\n", 
            "compute $S = \\Theta(T)$.\n", 
            ""
          ]
        }, 
        {
          "cell_type": "code", 
          "collapsed": false, 
          "input": [
            "S = Theta(K)"
          ], 
          "language": "python", 
          "outputs": []
        }, 
        {
          "cell_type": "markdown", 
          "metadata": {}, 
          "source": [
            "\n", 
            "\n", 
            "Display $S$.\n", 
            ""
          ]
        }, 
        {
          "cell_type": "code", 
          "collapsed": false, 
          "input": [
            "\n", 
            "plot_wavelet(S, Jmin, options)"
          ], 
          "language": "python", 
          "outputs": []
        }, 
        {
          "cell_type": "markdown", 
          "metadata": {}, 
          "source": [
            "\n", 
            "\n", 
            "The operator is compressed by computing a sparse matrix $ S_\\tau $\n", 
            "that approximate $S$. Since most of the entries of $S$ are small, one\n", 
            "achieve this compression using a non-linear hard thresholding\n", 
            "$$ (S_\\tau)_{i,j} = \\choice{\n", 
            "      S_{i,j} \\qifq \\abs{S_{i,j}}>\\tau, \\\\\n", 
            "      0 \\quad \\text{otherwise}.\n", 
            "  }\n", 
            "$$\n", 
            "One thus defined $S_\\tau = \\Gamma_\\tau(S)$ where\n", 
            "$\\Gamma_\\tau$ is the hard thresholding operator.\n", 
            ""
          ]
        }, 
        {
          "cell_type": "code", 
          "collapsed": false, 
          "input": [
            "Gamma = lambda S,tau: S .* ( abs(S)>tau )"
          ], 
          "language": "python", 
          "outputs": []
        }, 
        {
          "cell_type": "markdown", 
          "metadata": {}, 
          "source": [
            "\n", 
            "\n", 
            "The threshold $\\tau$ can be adapted to ensure that\n", 
            "$S_\\tau$ has only $m$ non-zero entries.\n", 
            "This defines $\\tau=\\tau(m)$.\n", 
            ""
          ]
        }, 
        {
          "cell_type": "code", 
          "collapsed": false, 
          "input": [
            "subs = lambda u,m: u(m)\n", 
            "tau = lambda m: subs( sort(abs(S(:)), 'descend'), m)"
          ], 
          "language": "python", 
          "outputs": []
        }, 
        {
          "cell_type": "markdown", 
          "metadata": {}, 
          "source": [
            "\n", 
            "\n", 
            "Set the targeted number of coefficients.\n", 
            ""
          ]
        }, 
        {
          "cell_type": "code", 
          "collapsed": false, 
          "input": [
            "m = 4*N"
          ], 
          "language": "python", 
          "outputs": []
        }, 
        {
          "cell_type": "markdown", 
          "metadata": {}, 
          "source": [
            "\n", 
            "\n", 
            "In order to save computation time when applying $S_\\tau$, it should be\n", 
            "stored as a sparse matrix $S_1$.\n", 
            ""
          ]
        }, 
        {
          "cell_type": "code", 
          "collapsed": false, 
          "input": [
            "S1 = sparse(Gamma(S,tau(m)))"
          ], 
          "language": "python", 
          "outputs": []
        }, 
        {
          "cell_type": "markdown", 
          "metadata": {}, 
          "source": [
            "\n", 
            "\n", 
            "Display the support of the $m$ largest coefficients that are used for\n", 
            "the approximation.\n", 
            ""
          ]
        }, 
        {
          "cell_type": "code", 
          "collapsed": false, 
          "input": [
            "\n", 
            "plot_wavelet(zeros(N), Jmin, options); hold on\n", 
            "spy(S1)"
          ], 
          "language": "python", 
          "outputs": []
        }, 
        {
          "cell_type": "markdown", 
          "metadata": {}, 
          "source": [
            "\n", 
            "\n", 
            "One can use this compressed operator to approximate\n", 
            "$$ g =  \\Psi^* S \\Psi f   $$\n", 
            "by\n", 
            "$$ g_\\tau = \\Psi^* S_\\tau \\Psi f. $$\n", 
            "When $\\tau \\rightarrow 0 $,  $g_\\tau \\rightarrow g$.\n", 
            "When $\\tau$ is large, since $S_\\tau$ is a sparse matrix, computing\n", 
            "$g_\\gau$ is faster than computing $g$.\n", 
            ""
          ]
        }, 
        {
          "cell_type": "heading", 
          "level": 3, 
          "metadata": {}, 
          "source": [
            "Exercise 1"
          ]
        }, 
        {
          "cell_type": "markdown", 
          "metadata": {}, 
          "source": [
            "\n", 
            "Display the result $g_{\\tau(m)}$ for different values of $m$.\n", 
            "\n", 
            "\n", 
            "\n", 
            "\n", 
            "\n", 
            "\n", 
            "\n", 
            "\n", 
            "\n", 
            ""
          ]
        }, 
        {
          "cell_type": "code", 
          "collapsed": false, 
          "input": [
            "## Insert your code here."
          ], 
          "language": "python", 
          "outputs": []
        }, 
        {
          "cell_type": "markdown", 
          "metadata": {}, 
          "source": [
            "\n", 
            ""
          ]
        }, 
        {
          "cell_type": "heading", 
          "level": 3, 
          "metadata": {}, 
          "source": [
            "Exercise 2"
          ]
        }, 
        {
          "cell_type": "markdown", 
          "metadata": {}, 
          "source": [
            "\n", 
            "Study the speed gain as a function of $m$ of using the sparse multiplication with respect\n", 
            "to the direct computation of $T f$.\n", 
            "No correction for this exercise."
          ]
        }, 
        {
          "cell_type": "code", 
          "collapsed": false, 
          "input": [
            "## Insert your code here."
          ], 
          "language": "python", 
          "outputs": []
        }, 
        {
          "cell_type": "markdown", 
          "metadata": {}, 
          "source": [
            "\n", 
            "\n", 
            "\n", 
            "Operator compression is not only useful to compute efficiently\n", 
            "approximation of product $T f$. It can also be used for instance to\n", 
            "compute approximation of the inverse $T^{-1}$, see for instance <#biblio [BeyCoifRokh91]>.\n", 
            "\n", 
            ""
          ]
        }, 
        {
          "cell_type": "heading", 
          "level": 2, 
          "metadata": {}, 
          "source": [
            "Bibliography\n"
          ]
        }
      ]
    }
  ]
}