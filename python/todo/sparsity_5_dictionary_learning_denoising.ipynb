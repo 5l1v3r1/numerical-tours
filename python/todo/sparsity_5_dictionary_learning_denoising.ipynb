{
  "metadata": {
    "name": ""
  }, 
  "nbformat": 3, 
  "nbformat_minor": 0, 
  "worksheets": [
    {
      "cells": [
        {
          "cell_type": "heading", 
          "level": 1, 
          "metadata": {}, 
          "source": [
            "Dictionary Learning for Denoising"
          ]
        }, 
        {
          "cell_type": "markdown", 
          "metadata": {}, 
          "source": [
            "This tour follows the _Dictionary Learning_ numerical tour.\n", 
            "It uses a learned dictionary to perform image denoising.\n", 
            ""
          ]
        }, 
        {
          "cell_type": "markdown", 
          "metadata": {}, 
          "source": [
            "*Important:* You need to download the file `nt_toolbox.py` from the \n", 
            "root of the github repository.\n", 
            "$\\newcommand{\\dotp}[2]{\\langle #1, #2 \\rangle}\n", 
            "\\newcommand{\\enscond}[2]{\\lbrace #1, #2 \\rbrace}\n", 
            "\\newcommand{\\pd}[2]{ \\frac{ \\partial #1}{\\partial #2} }\n", 
            "\\newcommand{\\umin}[1]{\\underset{#1}{\\min}\\;}\n", 
            "\\newcommand{\\norm}[1]{\\|#1\\|}\n", 
            "\\newcommand{\\abs}[1]{\\left|#1\\right|}\n", 
            "\\newcommand{\\choice}[1]{ \\left\\{  \\begin{array}{l} #1 \\end{array} \\right. }\n", 
            "\\newcommand{\\pa}[1]{\\left(#1\\right)}\n", 
            "\\newcommand{\\qandq}{\\quad\\text{and}\\quad}\n", 
            "\\newcommand{\\qwhereq}{\\quad\\text{where}\\quad}\n", 
            "\\newcommand{\\qifq}{ \\quad \\text{if} \\quad }\n", 
            "\\newcommand{\\qarrq}{ \\quad \\Longrightarrow \\quad }\n", 
            "\\newcommand{\\ZZ}{\\mathbb{Z}}\n", 
            "\\newcommand{\\RR}{\\mathbb{R}}\n", 
            "\\newcommand{\\Nn}{\\mathcal{N}}\n", 
            "\\newcommand{\\Hh}{\\mathcal{H}}\n", 
            "\\newcommand{\\Bb}{\\mathcal{B}}\n", 
            "\\newcommand{\\EE}{\\mathbb{E}}\n", 
            "\\newcommand{\\CC}{\\mathbb{C}}\n", 
            "\\newcommand{\\si}{\\sigma}\n", 
            "\\newcommand{\\al}{\\alpha}\n", 
            "\\newcommand{\\la}{\\lambda}\n", 
            "\\newcommand{\\ga}{\\gamma}\n", 
            "\\newcommand{\\Ga}{\\Gamma}\n", 
            "\\newcommand{\\La}{\\Lambda}\n", 
            "\\newcommand{\\si}{\\sigma}\n", 
            "\\newcommand{\\Si}{\\Sigma}\n", 
            "\\newcommand{\\be}{\\beta}\n", 
            "\\newcommand{\\de}{\\delta}\n", 
            "\\newcommand{\\De}{\\Delta}\n", 
            "\\renewcommand{\\phi}{\\varphi}\n", 
            "\\renewcommand{\\th}{\\theta}\n", 
            "\\newcommand{\\om}{\\omega}\n", 
            "\\newcommand{\\Om}{\\Omega}\n", 
            "$"
          ]
        }, 
        {
          "cell_type": "code", 
          "collapsed": false, 
          "input": [
            "from nt_toolbox import *", 
            "%matplotlib inline", 
            "%load_ext autoreload", 
            "%autoreload 2"
          ], 
          "language": "python", 
          "outputs": []
        }, 
        {
          "cell_type": "heading", 
          "level": 2, 
          "metadata": {}, 
          "source": [
            "Learning the Dictionary\n"
          ]
        }, 
        {
          "cell_type": "markdown", 
          "metadata": {}, 
          "source": [
            "We aim at applying the dictionary learning method to denoising.\n", 
            "We thus consider a noisy image obtained by adding Gaussian noise to a\n", 
            "clean, unknown image $f_0 \\in \\RR^N$ where $N=n_0 \\times n_0$.\n", 
            "\n", 
            "\n", 
            "Noise level $\\sigma$.\n", 
            ""
          ]
        }, 
        {
          "cell_type": "code", 
          "collapsed": false, 
          "input": [
            "sigma = .06"
          ], 
          "language": "python", 
          "outputs": []
        }, 
        {
          "cell_type": "markdown", 
          "metadata": {}, 
          "source": [
            "\n", 
            "\n", 
            "Size of the image.\n", 
            ""
          ]
        }, 
        {
          "cell_type": "code", 
          "collapsed": false, 
          "input": [
            "n0 = 256"
          ], 
          "language": "python", 
          "outputs": []
        }, 
        {
          "cell_type": "markdown", 
          "metadata": {}, 
          "source": [
            "\n", 
            "\n", 
            "Load the image.\n", 
            ""
          ]
        }, 
        {
          "cell_type": "code", 
          "collapsed": false, 
          "input": [
            "name = 'barb'\n", 
            "f0 = rescale( crop(load_image(name),n0) )"
          ], 
          "language": "python", 
          "outputs": []
        }, 
        {
          "cell_type": "markdown", 
          "metadata": {}, 
          "source": [
            "\n", 
            "\n", 
            "\n", 
            "Display $f_0$.\n", 
            ""
          ]
        }, 
        {
          "cell_type": "code", 
          "collapsed": false, 
          "input": [
            "\n", 
            "imageplot(f0)"
          ], 
          "language": "python", 
          "outputs": []
        }, 
        {
          "cell_type": "markdown", 
          "metadata": {}, 
          "source": [
            "\n", 
            "\n", 
            "Noisy observations $f=f_0+w$ where $w$ is a realization of $\\Nn(0,\\si^2\\text{Id}_N)$.\n", 
            ""
          ]
        }, 
        {
          "cell_type": "code", 
          "collapsed": false, 
          "input": [
            "f = f0 + sigma*randn(n0)"
          ], 
          "language": "python", 
          "outputs": []
        }, 
        {
          "cell_type": "markdown", 
          "metadata": {}, 
          "source": [
            "\n", 
            "\n", 
            "Display $f$.\n", 
            ""
          ]
        }, 
        {
          "cell_type": "code", 
          "collapsed": false, 
          "input": [
            "\n", 
            "imageplot(f)"
          ], 
          "language": "python", 
          "outputs": []
        }, 
        {
          "cell_type": "markdown", 
          "metadata": {}, 
          "source": [
            "\n", 
            "\n", 
            "Perform the numerical tour on Dictionary Learning to obtain a dictionary\n", 
            "$D \\in \\RR^{n \\times p}$\n", 
            ""
          ]
        }, 
        {
          "cell_type": "code", 
          "collapsed": false, 
          "input": [
            "if not(exist('D'))\n", 
            "    sparsity_4_dictionary_learning\n", 
            ""
          ], 
          "language": "python", 
          "outputs": []
        }, 
        {
          "cell_type": "markdown", 
          "metadata": {}, 
          "source": [
            "\n", 
            "\n", 
            "\n", 
            "Width $w$ of the patches.\n", 
            ""
          ]
        }, 
        {
          "cell_type": "code", 
          "collapsed": false, 
          "input": [
            "w = sqrt(size(D,1))"
          ], 
          "language": "python", 
          "outputs": []
        }, 
        {
          "cell_type": "markdown", 
          "metadata": {}, 
          "source": [
            "\n", 
            "\n", 
            "Number $p$ of atoms.\n", 
            ""
          ]
        }, 
        {
          "cell_type": "code", 
          "collapsed": false, 
          "input": [
            "p = size(D,2)"
          ], 
          "language": "python", 
          "outputs": []
        }, 
        {
          "cell_type": "markdown", 
          "metadata": {}, 
          "source": [
            "\n", 
            "\n", 
            "Dimension $n= w \\times w$ of the data to be sparse coded.\n", 
            ""
          ]
        }, 
        {
          "cell_type": "code", 
          "collapsed": false, 
          "input": [
            "n = w*w"
          ], 
          "language": "python", 
          "outputs": []
        }, 
        {
          "cell_type": "heading", 
          "level": 2, 
          "metadata": {}, 
          "source": [
            "Denoising by Sparse Coding\n"
          ]
        }, 
        {
          "cell_type": "markdown", 
          "metadata": {}, 
          "source": [
            "Here we apply sparse coding in the learned dictionary\n", 
            "to the problem of image denoising, as detailed in:\n", 
            "\n", 
            "\n", 
            "M. Elad and M. Aharon,\n", 
            "<http://ieeexplore.ieee.org/xpl/freeabs_all.jsp?arnumber=4011956 Image Denoising Via Sparse and Redundant representations over Learned Dictionaries>,\n", 
            "IEEE Trans. on Image Processing, Vol. 15, no. 12, pp. 3736-3745, December\n", 
            "2006.\n", 
            "\n", 
            "\n", 
            "The method first extract lots of patches from $f$, then perform sparse coding of\n", 
            "each patch in $D$, and then average the overlapping patch to obtained\n", 
            "the denoised image $f_1$.\n", 
            "\n", 
            "\n", 
            "We extract a large number $m$ of patches $Y = (y_j)_{j=1}^m \\in \\RR^{n\n", 
            "\\times m}$ from the noisy image $f$.\n", 
            "\n", 
            "\n", 
            "To extract the patche, we use\n", 
            "$$ y_j(t) = f( a_j + t ) $$\n", 
            "where $a_j$ is the location of patch indexed by $j$.\n", 
            "\n", 
            "\n", 
            "In practice,\n", 
            "splitting $j=(j_1,j_2)$ as a 2-D index, we use $a_j = (j_1 q,j_2 q) $\n", 
            "where $q>0$ is an overlap factor ( so that setting $q=w$ implies no\n", 
            "overlap). Overlap is important to obtain good denoising performance\n", 
            "(reduced blocking artifact).\n", 
            ""
          ]
        }, 
        {
          "cell_type": "code", 
          "collapsed": false, 
          "input": [
            "q = 2"
          ], 
          "language": "python", 
          "outputs": []
        }, 
        {
          "cell_type": "markdown", 
          "metadata": {}, 
          "source": [
            "\n", 
            "\n", 
            "Define regularly space positions for the extraction of patches.\n", 
            ""
          ]
        }, 
        {
          "cell_type": "code", 
          "collapsed": false, 
          "input": [
            "[y,x] = meshgrid(1:q:n0-w/2, 1:q:n0-w/2)\n", 
            "m = size(x(:),1)\n", 
            "Xp = repmat(dX,[1 1 m]) + repmat( reshape(x(:),[1 1 m]), [w w 1])\n", 
            "Yp = repmat(dY,[1 1 m]) + repmat( reshape(y(:),[1 1 m]), [w w 1])"
          ], 
          "language": "python", 
          "outputs": []
        }, 
        {
          "cell_type": "markdown", 
          "metadata": {}, 
          "source": [
            "\n", 
            "\n", 
            "Ensure boundary conditions (reflexion).\n", 
            ""
          ]
        }, 
        {
          "cell_type": "code", 
          "collapsed": false, 
          "input": [
            "Xp(Xp>n0) = 2*n0-Xp(Xp>n0)\n", 
            "Yp(Yp>n0) = 2*n0-Yp(Yp>n0)"
          ], 
          "language": "python", 
          "outputs": []
        }, 
        {
          "cell_type": "markdown", 
          "metadata": {}, 
          "source": [
            "\n", 
            "\n", 
            "Extract the $m$ patches $Y$.\n", 
            ""
          ]
        }, 
        {
          "cell_type": "code", 
          "collapsed": false, 
          "input": [
            "Y = f(Xp+(Yp-1)*n0)\n", 
            "Y = reshape(Y, [n, m])"
          ], 
          "language": "python", 
          "outputs": []
        }, 
        {
          "cell_type": "markdown", 
          "metadata": {}, 
          "source": [
            "\n", 
            "\n", 
            "Save the mean $\\theta_j$ of each patch appart, and remove it.\n", 
            ""
          ]
        }, 
        {
          "cell_type": "code", 
          "collapsed": false, 
          "input": [
            "theta = mean(Y)\n", 
            "Y = Y - repmat( theta, [n 1] )"
          ], 
          "language": "python", 
          "outputs": []
        }, 
        {
          "cell_type": "markdown", 
          "metadata": {}, 
          "source": [
            "\n", 
            "\n", 
            "Denoising of the patches is obtained by performing a sparse coding of each patch $y_j$ in $D$\n", 
            "$$ \\umin{\\norm{D x_j - y_j} \\leq \\epsilon} \\norm{x_j}_1. $$\n", 
            "\n", 
            "\n", 
            "The value of $\\epsilon>0$ is set proportionaly to the noise level\n", 
            "$\\sqrt{n}\\sigma$ that contaminates each patch.\n", 
            "We denote $\\rho \\approx 1$ the proportionality factor, that is a\n", 
            "parameter of the method.\n", 
            ""
          ]
        }, 
        {
          "cell_type": "code", 
          "collapsed": false, 
          "input": [
            "rho = .95\n", 
            "epsilon = rho*sqrt(n)*sigma"
          ], 
          "language": "python", 
          "outputs": []
        }, 
        {
          "cell_type": "markdown", 
          "metadata": {}, 
          "source": [
            "\n", 
            "\n", 
            "The sparse coding problem\n", 
            "can written equivalently in a way that is easier to deal using\n", 
            "proximal splitting schemes. We introduce an auxiliary variable $u=D x\n", 
            "\\in \\RR^n$ as follow\n", 
            "$$ \\umin{ z=(x,u) \\in \\RR^p \\times \\RR^n } F(z) + G(z) $$\n", 
            "where for $z=(x,u)$, one defines\n", 
            "$$ F(x,u) = \\norm{x}_1 + \\iota_{B_\\epsilon(y)}(u)\n", 
            "  \\qwhereq  B_\\epsilon(y) = \\enscond{u}{ \\norm{u-y} \\leq \\epsilon } $$\n", 
            "and\n", 
            "$$ G(x,u) = \\iota_{\\Cc}(x,u) \\qwhereq \\Cc = \\enscond{(x,u)}{ u=D x }. $$\n", 
            "\n", 
            "\n", 
            "Here we included the constraints\n", 
            "using characteristic functions\n", 
            " $$ \\iota_{A}(z) = \\choice{\n", 
            "      0 \\qifq z \\in A, \\\\\n", 
            "      +\\infty \\quad \\text{otherwise}. } $$\n", 
            ""
          ]
        }, 
        {
          "cell_type": "heading", 
          "level": 2, 
          "metadata": {}, 
          "source": [
            "Douglas-Rachford Algorithm\n"
          ]
        }, 
        {
          "cell_type": "markdown", 
          "metadata": {}, 
          "source": [
            "To minimize the sparse coding problem, we make use of a proximal\n", 
            "splitting scheme to minimize an energy of the form $F(z)+G(z)$.\n", 
            "These schemes are adapted to solve structured non-smooth\n", 
            "optimization problem.\n", 
            "\n", 
            "\n", 
            "They basically replace the traditional gradient-descent step (that is not\n", 
            "available because neither $F$ nor $G$ are smooth functionals) by\n", 
            "proximal mappings, defined as\n", 
            "$$ \\text{Prox}_{\\gamma F}(z) = \\uargmin{y} \\frac{1}{2}\\norm{z-y}^2 + \\ga F(y) $$\n", 
            "(the same definition applies also for $G$).\n", 
            "\n", 
            "\n", 
            "The Douglas-Rachford (DR) algorithm is an iterative scheme to minimize\n", 
            "functionals of the form\n", 
            "$$ \\umin{z} F(z) + G(z) $$\n", 
            "where $F$ and $G$ are convex functions for which one is able to\n", 
            "comptue the proximal mappings $ \\text{Prox}_{\\gamma F} $ and\n", 
            "$ \\text{Prox}_{\\gamma G} $.\n", 
            "\n", 
            "\n", 
            "The important point is that $F$ and $G$ do not need to be smooth.\n", 
            "One onely needs then to be \"proximable\".\n", 
            "\n", 
            "\n", 
            "A DR iteration reads\n", 
            "$$ \\tilde z_{k+1} = \\pa{1-\\frac{\\mu}{2}} \\tilde z_k +\n", 
            "  \\frac{\\mu}{2} \\text{rPox}_{\\gamma G}( \\text{rProx}_{\\gamma F}(\\tilde z_k)  )\n", 
            "  \\qandq z_{k+1} = \\text{Prox}_{\\gamma F}(\\tilde z_{k+1},) $$\n", 
            "\n", 
            "\n", 
            "\n", 
            "We have use the following shortcuts:\n", 
            "$$   \\text{rProx}_{\\gamma F}(z) = 2\\text{Prox}_{\\gamma F}(z)-z $$\n", 
            "\n", 
            "\n", 
            "It is of course possible to inter-change the roles of $F$ and $G$,\n", 
            "which defines another set of iterations.\n", 
            "\n", 
            "\n", 
            "One can show that for any value of $\\gamma>0$, any $ 0 < \\mu < 2 $,\n", 
            "and any $\\tilde z_0$, $z_k \\rightarrow z^\\star$\n", 
            "which is a minimizer of $F+G$.\n", 
            "\n", 
            "\n", 
            "Please note that it is actually $z_k$ that converges, and not $\\tilde\n", 
            "z_k$.\n", 
            "\n", 
            "\n", 
            "To learn more about this algorithm, you can read:\n", 
            "\n", 
            "\n", 
            "_Proximal Splitting Methods in Signal Processing_, Patrick L. Combettes\n", 
            "and Jean-Christophe Pesquet, in: Fixed-Point Algorithms for Inverse\n", 
            "Problems in Science and Engineering, New York: Springer-Verlag, 2010.\n", 
            ""
          ]
        }, 
        {
          "cell_type": "heading", 
          "level": 2, 
          "metadata": {}, 
          "source": [
            "Douglas-Rachford for Sparse Coding\n"
          ]
        }, 
        {
          "cell_type": "markdown", 
          "metadata": {}, 
          "source": [
            "In the special case of the constrained sparse coding problem,\n", 
            "the proximal mapping of $G$ is the orthogonal projection on the convex\n", 
            "set $\\Cc$:\n", 
            "$$ (\\tilde x, \\tilde u) = \\text{Prox}_{\\ga G}(x,u) = \\text{Proj}_\\Cc(x,u). $$\n", 
            "\n", 
            "\n", 
            "It can be computed by solving a linear system of equations since\n", 
            "$$ \\tilde u = D \\tilde x \\qwhereq\n", 
            "      \\tilde x = (\\text{Id} + D^* D)^{-1}(f + D^* u).  $$\n", 
            "\n", 
            "\n", 
            "Define Proj$_\\Cc$, by pre-compuring the inverse of $\\text{Id} + D^* D$.\n", 
            ""
          ]
        }, 
        {
          "cell_type": "code", 
          "collapsed": false, 
          "input": [
            "U = (eye(p) + D'*D)^(-1)\n", 
            "Replicate = lambda z: deal(z, D*z)\n", 
            "ProjC = lambda x,u: Replicate( U*( x + D'*u ) )"
          ], 
          "language": "python", 
          "outputs": []
        }, 
        {
          "cell_type": "markdown", 
          "metadata": {}, 
          "source": [
            "\n", 
            "\n", 
            "One has $\\text{Prox}_{\\ga G} = \\text{Proj}_{\\Cc}$, whatever the value\n", 
            "of $\\ga$.\n", 
            ""
          ]
        }, 
        {
          "cell_type": "code", 
          "collapsed": false, 
          "input": [
            "ProxG = lambda f,u,gamma: ProjC(f,u)"
          ], 
          "language": "python", 
          "outputs": []
        }, 
        {
          "cell_type": "markdown", 
          "metadata": {}, 
          "source": [
            "\n", 
            "\n", 
            "Function $F(x,u)$ is actully a separable sum of a function\n", 
            "that only depends on $x$ and a function that depends only on $u$:\n", 
            "$$ F(x,u) = \\iota_{B_\\epsilon(y)}(u) + \\norm{x}_1. $$\n", 
            "The proximal operator of $F$ reads\n", 
            "$$ \\text{Prox}_{\\ga F}(x,u) =\n", 
            "      (   \\text{Proj}_{B_\\epsilon(y)}(u),\n", 
            "          \\text{Prox}_{\\ga \\norm{\\cdot}_1 }(x) ).  $$\n", 
            "\n", 
            "\n", 
            "In order to speed up the implementation, the DR algorithm\n", 
            "will be performed in parallel on all the $x_j$.\n", 
            "We thus define $y=Y$ to be the set of all the patches.\n", 
            ""
          ]
        }, 
        {
          "cell_type": "code", 
          "collapsed": false, 
          "input": [
            "y = Y(:,1:m)"
          ], 
          "language": "python", 
          "outputs": []
        }, 
        {
          "cell_type": "markdown", 
          "metadata": {}, 
          "source": [
            "\n", 
            "\n", 
            "Define the projector\n", 
            "$$  \\text{Proj}_{B_\\epsilon(y)}(u) = y + (u-y) \\max\\pa{1 , \\frac{\\epsilon}{\\norm{u-y}} }\n", 
            "$$\n", 
            ""
          ]
        }, 
        {
          "cell_type": "code", 
          "collapsed": false, 
          "input": [
            "amplitude = lambda a: repmat( sqrt(sum(a.^2,1)), [n 1] )\n", 
            "ProjB = lambda u: y + (u-y) .* min(1, epsilon./amplitude(u-y) )"
          ], 
          "language": "python", 
          "outputs": []
        }, 
        {
          "cell_type": "markdown", 
          "metadata": {}, 
          "source": [
            "\n", 
            "\n", 
            "The proximal operator of the $ \\ell^1 $ norm $\\norm{\\cdot}_1$\n", 
            "is a soft thresholding:\n", 
            "$$ \\text{Prox}_{\\ga \\norm{\\cdot}_1}(x)_i =\n", 
            "      \\max\\pa{ 0, \\frac{\\ga}{\\abs{x_i}} } x_i. $$\n", 
            ""
          ]
        }, 
        {
          "cell_type": "code", 
          "collapsed": false, 
          "input": [
            "ProxL1 = lambda x,gamma: max(0,1-gamma./max(1e-9, abs(x))) .* x"
          ], 
          "language": "python", 
          "outputs": []
        }, 
        {
          "cell_type": "markdown", 
          "metadata": {}, 
          "source": [
            "\n", 
            "\n", 
            "Define the proximal operator of $F$.\n", 
            ""
          ]
        }, 
        {
          "cell_type": "code", 
          "collapsed": false, 
          "input": [
            "ProxF = lambda x,u,gamma: deal( ProxL1(x,gamma), ProjB(u) )"
          ], 
          "language": "python", 
          "outputs": []
        }, 
        {
          "cell_type": "markdown", 
          "metadata": {}, 
          "source": [
            "\n", 
            "\n", 
            "Set the value of $\\mu$ and $\\gamma$.\n", 
            "You might consider using your own value to speed up the convergence.\n", 
            ""
          ]
        }, 
        {
          "cell_type": "code", 
          "collapsed": false, 
          "input": [
            "mu = 1\n", 
            "gamma = 1"
          ], 
          "language": "python", 
          "outputs": []
        }, 
        {
          "cell_type": "markdown", 
          "metadata": {}, 
          "source": [
            "\n", 
            "\n", 
            "Number of iterations.\n", 
            ""
          ]
        }, 
        {
          "cell_type": "code", 
          "collapsed": false, 
          "input": [
            "niter = 800"
          ], 
          "language": "python", 
          "outputs": []
        }, 
        {
          "cell_type": "heading", 
          "level": 3, 
          "metadata": {}, 
          "source": [
            "Exercise 1"
          ]
        }, 
        {
          "cell_type": "markdown", 
          "metadata": {}, 
          "source": [
            "\n", 
            "Implement the DR iterative algorithm on |niter| iterations.\n", 
            "Keep track of the evolution of the minimized energy\n", 
            "$ \\norm{x}_1 $ during the iterations.\n", 
            "\n", 
            "\n", 
            "\n", 
            "\n", 
            "\n", 
            "\n", 
            "\n", 
            "\n", 
            "\n", 
            "\n", 
            "\n", 
            "\n", 
            "\n", 
            "\n", 
            "\n", 
            "\n", 
            "\n", 
            "\n", 
            "\n", 
            "\n", 
            "\n", 
            "\n", 
            "\n", 
            "\n", 
            "\n", 
            "\n", 
            "\n", 
            "\n", 
            "\n", 
            "\n", 
            "\n", 
            "\n", 
            "\n", 
            "\n", 
            "\n", 
            "\n", 
            "\n", 
            "\n", 
            "\n", 
            "\n", 
            "\n", 
            "\n", 
            "\n", 
            "\n", 
            "\n", 
            "\n", 
            "\n", 
            ""
          ]
        }, 
        {
          "cell_type": "code", 
          "collapsed": false, 
          "input": [
            "## Insert your code here."
          ], 
          "language": "python", 
          "outputs": []
        }, 
        {
          "cell_type": "markdown", 
          "metadata": {}, 
          "source": [
            "\n", 
            ""
          ]
        }, 
        {
          "cell_type": "heading", 
          "level": 2, 
          "metadata": {}, 
          "source": [
            "Patch Averaging\n"
          ]
        }, 
        {
          "cell_type": "markdown", 
          "metadata": {}, 
          "source": [
            "Once each $x_j$ is computed, one obtains the denoised patch $\\tilde\n", 
            "y_j = D x_j$. These denoised patches are then aggregated together to\n", 
            "obtained the denoised image:\n", 
            "$$\n", 
            "      f_1(t) = \\frac{1}{W_t} \\sum_j \\tilde y_j(t-a_j)\n", 
            "$$\n", 
            "where $W_t$ is the number of patches that overlap at a given pixel\n", 
            "location $t$ (note that in this formula, we assumed $\\tilde y_j(t-a_j)=0$ when $t-a_j$\n", 
            "falls outside the patch limits).\n", 
            "\n", 
            "\n", 
            "\n", 
            "Approximated patches $ Y_1 = (\\tilde y_j)_j  = D X$.\n", 
            ""
          ]
        }, 
        {
          "cell_type": "code", 
          "collapsed": false, 
          "input": [
            "Y1 = reshape(D*x, [w w m])"
          ], 
          "language": "python", 
          "outputs": []
        }, 
        {
          "cell_type": "markdown", 
          "metadata": {}, 
          "source": [
            "\n", 
            "\n", 
            "Insert back the mean.\n", 
            ""
          ]
        }, 
        {
          "cell_type": "code", 
          "collapsed": false, 
          "input": [
            "Y1 = Y1 - repmat( mean(mean(Y1)), [w w] )\n", 
            "Y1 = Y1 + reshape(repmat( theta, [n 1] ), [w w m])"
          ], 
          "language": "python", 
          "outputs": []
        }, 
        {
          "cell_type": "markdown", 
          "metadata": {}, 
          "source": [
            "\n", 
            "\n", 
            "To obtain the denoising, we average the value of the approximated patches\n", 
            "$ Y_1 $ that overlap.\n", 
            ""
          ]
        }, 
        {
          "cell_type": "code", 
          "collapsed": false, 
          "input": [
            "W = zeros(n0,n0)\n", 
            "f1 = zeros(n0,n0)\n", 
            "for i in 1:m:\n", 
            "    x = Xp(:,:,i); y = Yp(:,:,i)\n", 
            "    f1(x+(y-1)*n0) = f1(x+(y-1)*n0) + Y1(:,:,i)\n", 
            "    W(x+(y-1)*n0) = W(x+(y-1)*n0) + 1\n", 
            "\n", 
            "f1 = f1 ./ W"
          ], 
          "language": "python", 
          "outputs": []
        }, 
        {
          "cell_type": "markdown", 
          "metadata": {}, 
          "source": [
            "\n", 
            "\n", 
            "\n", 
            "Display the result.\n", 
            ""
          ]
        }, 
        {
          "cell_type": "code", 
          "collapsed": false, 
          "input": [
            "\n", 
            "imageplot(clamp(f1), ['Denoised, SNR=' num2str(snr(f0,f1),4) 'dB'])"
          ], 
          "language": "python", 
          "outputs": []
        }, 
        {
          "cell_type": "heading", 
          "level": 3, 
          "metadata": {}, 
          "source": [
            "Exercise 2"
          ]
        }, 
        {
          "cell_type": "markdown", 
          "metadata": {}, 
          "source": [
            "\n", 
            "Compare the obtained result with translation invariant wavelet hard\n", 
            "thresholding.\n", 
            "\n", 
            "\n", 
            "\n", 
            "\n", 
            "\n", 
            "\n", 
            ""
          ]
        }, 
        {
          "cell_type": "code", 
          "collapsed": false, 
          "input": [
            "## Insert your code here."
          ], 
          "language": "python", 
          "outputs": []
        }, 
        {
          "cell_type": "markdown", 
          "metadata": {}, 
          "source": [
            "\n", 
            ""
          ]
        }, 
        {
          "cell_type": "heading", 
          "level": 3, 
          "metadata": {}, 
          "source": [
            "Exercise 3"
          ]
        }, 
        {
          "cell_type": "markdown", 
          "metadata": {}, 
          "source": [
            "\n", 
            "Study the influence of the parameter $\\rho$ on the quality of the\n", 
            "denoising. Study the influence of the number $p$ of atoms."
          ]
        }, 
        {
          "cell_type": "code", 
          "collapsed": false, 
          "input": [
            "## Insert your code here."
          ], 
          "language": "python", 
          "outputs": []
        }
      ]
    }
  ]
}