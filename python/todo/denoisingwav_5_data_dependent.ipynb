{
  "metadata": {
    "name": ""
  }, 
  "nbformat": 3, 
  "nbformat_minor": 0, 
  "worksheets": [
    {
      "cells": [
        {
          "cell_type": "heading", 
          "level": 1, 
          "metadata": {}, 
          "source": [
            "Data Dependent Noise Models"
          ]
        }, 
        {
          "cell_type": "markdown", 
          "metadata": {}, 
          "source": [
            "The simplest noise model is Gaussian additive noise, where the variance\n", 
            "of the pixel value is independent of the mean (which is the value we look\n", 
            "for).\n", 
            "\n", 
            "\n", 
            "Unfortunately, most real-life data corresponds to noise model that are\n", 
            "much more complicated, and in particular the variance of the noise often\n", 
            "depends on the parameter of interest (for instance the mean).\n", 
            ""
          ]
        }, 
        {
          "cell_type": "markdown", 
          "metadata": {}, 
          "source": [
            "*Important:* You need to download the file `nt_toolbox.py` from the \n", 
            "root of the github repository.\n", 
            "$\\newcommand{\\dotp}[2]{\\langle #1, #2 \\rangle}\n", 
            "\\newcommand{\\enscond}[2]{\\lbrace #1, #2 \\rbrace}\n", 
            "\\newcommand{\\pd}[2]{ \\frac{ \\partial #1}{\\partial #2} }\n", 
            "\\newcommand{\\umin}[1]{\\underset{#1}{\\min}\\;}\n", 
            "\\newcommand{\\norm}[1]{\\|#1\\|}\n", 
            "\\newcommand{\\abs}[1]{\\left|#1\\right|}\n", 
            "\\newcommand{\\choice}[1]{ \\left\\{  \\begin{array}{l} #1 \\end{array} \\right. }\n", 
            "\\newcommand{\\pa}[1]{\\left(#1\\right)}\n", 
            "\\newcommand{\\qandq}{\\quad\\text{and}\\quad}\n", 
            "\\newcommand{\\qwhereq}{\\quad\\text{where}\\quad}\n", 
            "\\newcommand{\\qifq}{ \\quad \\text{if} \\quad }\n", 
            "\\newcommand{\\qarrq}{ \\quad \\Longrightarrow \\quad }\n", 
            "\\newcommand{\\ZZ}{\\mathbb{Z}}\n", 
            "\\newcommand{\\RR}{\\mathbb{R}}\n", 
            "\\newcommand{\\Nn}{\\mathcal{N}}\n", 
            "\\newcommand{\\Hh}{\\mathcal{H}}\n", 
            "\\newcommand{\\Bb}{\\mathcal{B}}\n", 
            "\\newcommand{\\EE}{\\mathbb{E}}\n", 
            "\\newcommand{\\CC}{\\mathbb{C}}\n", 
            "\\newcommand{\\si}{\\sigma}\n", 
            "\\newcommand{\\al}{\\alpha}\n", 
            "\\newcommand{\\la}{\\lambda}\n", 
            "\\newcommand{\\ga}{\\gamma}\n", 
            "\\newcommand{\\Ga}{\\Gamma}\n", 
            "\\newcommand{\\La}{\\Lambda}\n", 
            "\\newcommand{\\si}{\\sigma}\n", 
            "\\newcommand{\\Si}{\\Sigma}\n", 
            "\\newcommand{\\be}{\\beta}\n", 
            "\\newcommand{\\de}{\\delta}\n", 
            "\\newcommand{\\De}{\\Delta}\n", 
            "\\renewcommand{\\phi}{\\varphi}\n", 
            "\\renewcommand{\\th}{\\theta}\n", 
            "\\newcommand{\\om}{\\omega}\n", 
            "\\newcommand{\\Om}{\\Omega}\n", 
            "$"
          ]
        }, 
        {
          "cell_type": "code", 
          "collapsed": false, 
          "input": [
            "from nt_toolbox import *", 
            "%matplotlib inline", 
            "%load_ext autoreload", 
            "%autoreload 2"
          ], 
          "language": "python", 
          "outputs": []
        }, 
        {
          "cell_type": "heading", 
          "level": 2, 
          "metadata": {}, 
          "source": [
            "Poisson Noise\n"
          ]
        }, 
        {
          "cell_type": "markdown", 
          "metadata": {}, 
          "source": [
            "A Poisson model assume that each pixel $x$\n", 
            "of an image $f(x)$ is drawn from\n", 
            "a Poisson distribution of parameter $\\lambda=f_0(x)$, where\n", 
            "$f_0$ is the clean intensity image to recover.\n", 
            "\n", 
            "\n", 
            "$$ \\PP(f(x)=k)=\\lambda^k e^{-\\lambda}/k! $$\n", 
            "\n", 
            "\n", 
            "Display the Poisson distribution for several value of $\\lambda$.\n", 
            ""
          ]
        }, 
        {
          "cell_type": "code", 
          "collapsed": false, 
          "input": [
            "lambda = [4 10 20]\n", 
            "[k,Lambda] = meshgrid(1:50, lambda)\n", 
            "P = Lambda.^k .* exp(-Lambda)./factorial(k)\n", 
            "h = plot(P'); axis('tight')\n", 
            "if using_matlab()\n", 
            "    set(h, 'LineWidth', 2)\n", 
            "\n", 
            "legend('\\lambda=2', '\\lambda=10', '\\lambda=20')\n", 
            "set_label('k', 'P(k)')"
          ], 
          "language": "python", 
          "outputs": []
        }, 
        {
          "cell_type": "markdown", 
          "metadata": {}, 
          "source": [
            "\n", 
            "\n", 
            "This model corresponds to a photon count, where $\\lambda$\n", 
            "is proportional to the number of photons that hits the receptor during\n", 
            "the exposition time. This is useful to model medical imaging (confocal\n", 
            "microscopy), TEP and SPECT tomography, and digital camera noises.\n", 
            "\n", 
            "\n", 
            "The goal of denoising is to retrieve the value of\n", 
            "$f_0(x)=\\lambda(x)$, the true\n", 
            "image value, which corresponds to a clean image.\n", 
            "\n", 
            "\n", 
            "Note that $\\lambda$ is the mean of the distribution, but is also its variance,\n", 
            "so that the noise intensity perturbating the image pixel $f(x)$\n", 
            "is proportional to $f_0(x)$.\n", 
            "\n", 
            "\n", 
            "We load a clean, unquantized image.\n", 
            ""
          ]
        }, 
        {
          "cell_type": "code", 
          "collapsed": false, 
          "input": [
            "n = 256\n", 
            "name = 'lena'\n", 
            "f0u = rescale( load_image(name,n) )"
          ], 
          "language": "python", 
          "outputs": []
        }, 
        {
          "cell_type": "markdown", 
          "metadata": {}, 
          "source": [
            "\n", 
            "\n", 
            "Quantize the values to given $\\lambda$ range.\n", 
            ""
          ]
        }, 
        {
          "cell_type": "code", 
          "collapsed": false, 
          "input": [
            "lmin = 1\n", 
            "lmax = 40\n", 
            "f0 = floor( rescale(f0u,lmin,lmax) )"
          ], 
          "language": "python", 
          "outputs": []
        }, 
        {
          "cell_type": "markdown", 
          "metadata": {}, 
          "source": [
            "\n", 
            "\n", 
            "Generate the noisy image.\n", 
            ""
          ]
        }, 
        {
          "cell_type": "code", 
          "collapsed": false, 
          "input": [
            "f = poissrnd(f0)"
          ], 
          "language": "python", 
          "outputs": []
        }, 
        {
          "cell_type": "markdown", 
          "metadata": {}, 
          "source": [
            "\n", 
            "\n", 
            "Display.\n", 
            ""
          ]
        }, 
        {
          "cell_type": "code", 
          "collapsed": false, 
          "input": [
            "\n", 
            "imageplot(f0, 'Intensity map f0', 1,2,1)\n", 
            "imageplot(f,  'Observed noisy image f', 1,2,2)"
          ], 
          "language": "python", 
          "outputs": []
        }, 
        {
          "cell_type": "markdown", 
          "metadata": {}, 
          "source": [
            "\n", 
            "\n", 
            "Display the difference, which shows that the noise level depends on the\n", 
            "intensity. The noise is larger in bright areas.\n", 
            ""
          ]
        }, 
        {
          "cell_type": "code", 
          "collapsed": false, 
          "input": [
            "\n", 
            "imageplot(f0, 'Intensity map f0', 1,2,1)\n", 
            "imageplot(f-f0,  'f-f0', 1,2,2)"
          ], 
          "language": "python", 
          "outputs": []
        }, 
        {
          "cell_type": "heading", 
          "level": 3, 
          "metadata": {}, 
          "source": [
            "Exercise 1"
          ]
        }, 
        {
          "cell_type": "markdown", 
          "metadata": {}, 
          "source": [
            "\n", 
            "Display noisy image contaminated by Poisson noise of varying range.\n", 
            "\n", 
            "\n", 
            "\n", 
            "\n", 
            "\n", 
            "\n", 
            ""
          ]
        }, 
        {
          "cell_type": "code", 
          "collapsed": false, 
          "input": [
            "## Insert your code here."
          ], 
          "language": "python", 
          "outputs": []
        }, 
        {
          "cell_type": "markdown", 
          "metadata": {}, 
          "source": [
            "\n", 
            "\n", 
            "\n", 
            "Parameters for the wavelet transform.\n", 
            ""
          ]
        }, 
        {
          "cell_type": "code", 
          "collapsed": false, 
          "input": [
            "Jmin = 4\n", 
            "options.ti = 1"
          ], 
          "language": "python", 
          "outputs": []
        }, 
        {
          "cell_type": "markdown", 
          "metadata": {}, 
          "source": [
            "\n", 
            "\n", 
            "\n", 
            "A translation invariance wavelet transform denoising computes\n", 
            "an estimate $\\tilde f$ of the clean image\n", 
            "$f_0$ as\n", 
            "$$ \\tilde f = \\Psi^+ \\circ S_T \\circ \\Psi f $$\n", 
            "where $\\Psi$ is the wavelet transform and $S_T$ the hard\n", 
            "thresholding operator using a well chosen threshold $T$.\n", 
            ""
          ]
        }, 
        {
          "cell_type": "heading", 
          "level": 3, 
          "metadata": {}, 
          "source": [
            "Exercise 2"
          ]
        }, 
        {
          "cell_type": "markdown", 
          "metadata": {}, 
          "source": [
            "\n", 
            "Perform translation invariant wavelet hard thresholding directly on the\n", 
            "Poisson noisy image $f$. Check for an optimal threshold that maximize\n", 
            "the SNR. Record the optimal result in |fPoisson|.\n", 
            "\n", 
            "\n", 
            "\n", 
            "\n", 
            "\n", 
            "\n", 
            "\n", 
            "\n", 
            "\n", 
            "\n", 
            "display\n", 
            "\n", 
            "\n", 
            "\n", 
            "\n", 
            "\n", 
            "\n", 
            "\n", 
            "best result\n", 
            "\n", 
            "\n", 
            ""
          ]
        }, 
        {
          "cell_type": "code", 
          "collapsed": false, 
          "input": [
            "## Insert your code here."
          ], 
          "language": "python", 
          "outputs": []
        }, 
        {
          "cell_type": "markdown", 
          "metadata": {}, 
          "source": [
            "\n", 
            "\n", 
            "\n", 
            "Display.\n", 
            ""
          ]
        }, 
        {
          "cell_type": "code", 
          "collapsed": false, 
          "input": [
            "\n", 
            "imageplot(f0, 'Original image', 1,2,1)\n", 
            "imageplot(clamp(fPoisson,min(f0(:)),max(f0(:))), strcat(['Denoised, SNR=' num2str(snr(f0,fPoisson),4)]), 1,2,2)"
          ], 
          "language": "python", 
          "outputs": []
        }, 
        {
          "cell_type": "markdown", 
          "metadata": {}, 
          "source": [
            "\n", 
            ""
          ]
        }, 
        {
          "cell_type": "heading", 
          "level": 2, 
          "metadata": {}, 
          "source": [
            "Variance Stabilization Poisson Denoising\n"
          ]
        }, 
        {
          "cell_type": "markdown", 
          "metadata": {}, 
          "source": [
            "A variance stabilization transform (VST)\n", 
            "is a mapping $\\phi$ applied to a noisy image $f$\n", 
            "so that the distribution of each pixel $\\phi(f(x))$ is\n", 
            "approximately Gaussian.\n", 
            "\n", 
            "\n", 
            "The Anscombe variance stabilization transform (VST) is given by\n", 
            "the non-linear mapping.\n", 
            "\n", 
            "\n", 
            "$$\\phi(a) = 2 \\sqrt{a+3/8}$$\n", 
            "\n", 
            "\n", 
            "It transforms a Poisson distribution $P(\\lambda)$ to a\n", 
            "distribution with approximate\n", 
            "variance 1, whatever $\\lambda$ is, for $\\lambda$ large enough\n", 
            "(say $\\lambda>20$).\n", 
            "\n", 
            "\n", 
            "Other VST have been proposed, for instance the Freeman & Tukey VST, given\n", 
            "by\n", 
            "\n", 
            "\n", 
            "$$\\phi(a) = \\sqrt{a+1}+\\sqrt{a}$$\n", 
            ""
          ]
        }, 
        {
          "cell_type": "heading", 
          "level": 3, 
          "metadata": {}, 
          "source": [
            "Exercise 3"
          ]
        }, 
        {
          "cell_type": "markdown", 
          "metadata": {}, 
          "source": [
            "\n", 
            "Display the estimated variance of a Poisson distribution for various\n", 
            "$\\lambda$ (e.g. 10000 realization for each $\\lambda$) and display\n", 
            "the variance of a stabilized distribution (here the green\n", 
            "curve corresponds to 'Freeman & Tukey' and the blue curve to 'Anscombe'.\n", 
            "\n", 
            "\n", 
            "\n", 
            "\n", 
            "\n", 
            "\n", 
            "\n", 
            "\n", 
            "\n", 
            "\n", 
            "plot\n", 
            "\n", 
            "subplot(2,1,1);\n", 
            "h = plot(v); axis('tight');\n", 
            "if using_matlab()\n", 
            "  set(h, 'LineWidth', 2);\n", 
            "end\n", 
            "title('Poisson variance');\n", 
            "set_label('\\lambda', 'Variance');\n", 
            "subplot(2,1,2);\n", 
            "\n", 
            "\n", 
            "\n", 
            "\n", 
            "\n", 
            ""
          ]
        }, 
        {
          "cell_type": "code", 
          "collapsed": false, 
          "input": [
            "## Insert your code here."
          ], 
          "language": "python", 
          "outputs": []
        }, 
        {
          "cell_type": "markdown", 
          "metadata": {}, 
          "source": [
            "\n", 
            "\n", 
            "\n", 
            "To perform denosing, one applies the VST, performs\n", 
            "wavelet thresholding as if the data was corrupted by an additive Gaussian\n", 
            "noise of variance $\\sigma=1$, and then applies the inverse VST.\n", 
            "\n", 
            "\n", 
            "This corresponds to computing an estimate $\\tilde f$ of the clean image\n", 
            "$f_0$ as\n", 
            "$$ \\tilde f = \\phi^{-1} \\pa{\\Psi^+ S_T \\circ \\Psi \\circ \\phi(f) } $$\n", 
            "where $\\Psi$ is the wavelet transform and $S_T$ the hard thresholding.\n", 
            ""
          ]
        }, 
        {
          "cell_type": "heading", 
          "level": 3, 
          "metadata": {}, 
          "source": [
            "Exercise 4"
          ]
        }, 
        {
          "cell_type": "markdown", 
          "metadata": {}, 
          "source": [
            "\n", 
            "Perform translation invariance wavelet hard thresholding on the\n", 
            "variance stabilized image. Use for instance the Anscombe VST.\n", 
            "Check for an optimal threshold that maximize\n", 
            "the SNR. Record the optimal result in |fVST|.\n", 
            "\n", 
            "\n", 
            "\n", 
            "\n", 
            "\n", 
            "\n", 
            "\n", 
            "\n", 
            "\n", 
            "\n", 
            "\n", 
            "\n", 
            "\n", 
            "display\n", 
            "\n", 
            "\n", 
            "\n", 
            "\n", 
            "\n", 
            "\n", 
            "\n", 
            "best result\n", 
            "\n", 
            "\n", 
            "\n", 
            ""
          ]
        }, 
        {
          "cell_type": "code", 
          "collapsed": false, 
          "input": [
            "## Insert your code here."
          ], 
          "language": "python", 
          "outputs": []
        }, 
        {
          "cell_type": "markdown", 
          "metadata": {}, 
          "source": [
            "\n", 
            "\n", 
            "\n", 
            "Display.\n", 
            ""
          ]
        }, 
        {
          "cell_type": "code", 
          "collapsed": false, 
          "input": [
            "\n", 
            "imageplot(clamp(fPoisson,min(f0(:)),max(f0(:))), ...\n", 
            "        strcat(['Un-stabilized, SNR=' num2str(snr(f0,fPoisson),4)]), 1,2,1)\n", 
            "imageplot(clamp(fVST,min(f0(:)),max(f0(:))), ...\n", 
            "        strcat(['Stabilized, SNR=' num2str(snr(f0,fVST),4)]), 1,2,2)"
          ], 
          "language": "python", 
          "outputs": []
        }, 
        {
          "cell_type": "markdown", 
          "metadata": {}, 
          "source": [
            "\n", 
            "\n", 
            "There is no close form solution for the Freeman VST.\n", 
            "For each denoised stabilized pixel value $b \\in \\RR$,\n", 
            "one should use a Newton algorithm to solve the equation\n", 
            "$\\phi(a)=b$ and recovered the denoised value $a \\in \\RR$.\n", 
            "This reads\n", 
            "$$ a_{k+1} = a_k - \\frac{\\phi(a_k)-y}{\\phi'(a_k)} $$\n", 
            ""
          ]
        }, 
        {
          "cell_type": "heading", 
          "level": 3, 
          "metadata": {}, 
          "source": [
            "Exercise 5"
          ]
        }, 
        {
          "cell_type": "markdown", 
          "metadata": {}, 
          "source": [
            "\n", 
            "Perform VST denoising using the Freeman VST."
          ]
        }, 
        {
          "cell_type": "code", 
          "collapsed": false, 
          "input": [
            "## Insert your code here."
          ], 
          "language": "python", 
          "outputs": []
        }, 
        {
          "cell_type": "markdown", 
          "metadata": {}, 
          "source": [
            "\n", 
            ""
          ]
        }, 
        {
          "cell_type": "heading", 
          "level": 2, 
          "metadata": {}, 
          "source": [
            "Multiplicative Noise\n"
          ]
        }, 
        {
          "cell_type": "markdown", 
          "metadata": {}, 
          "source": [
            "A multiplicative noise corresponds to a noise model where the clean image\n", 
            "$f_0$ is multiplied by the noise $W$ to obtained the noisy image $f(x)=W(x) f_0(x)$.\n", 
            "\n", 
            "\n", 
            "This model is useful for data acquired with an active acquisition device,\n", 
            "for instance SAR imaging and ultra-sound imaging.\n", 
            "\n", 
            "\n", 
            "The distribution of $f(x)$ thus has mean $f_0(x)$ and variance\n", 
            "proportional to $f_0(x) \\sigma$ where $\\sigma$ is the variance of $W$.\n", 
            "\n", 
            "\n", 
            "Load a clean image.\n", 
            ""
          ]
        }, 
        {
          "cell_type": "code", 
          "collapsed": false, 
          "input": [
            "n = 256\n", 
            "name = 'boat'\n", 
            "f0 = rescale( load_image(name,n), 1e-2,1 )"
          ], 
          "language": "python", 
          "outputs": []
        }, 
        {
          "cell_type": "markdown", 
          "metadata": {}, 
          "source": [
            "\n", 
            "\n", 
            "A classical model for the multiplier noise $W$, that is used for instance in\n", 
            "SAR imaging, is to assume that the noise has a Gamma law\n", 
            "of mean 1 and variance parameterized by the noise level $L$.\n", 
            "$$ P(W=x) \\sim x^{K-1} e^{ -x/\\theta }$$\n", 
            "\n", 
            "\n", 
            "where the mean of $P$ is $s=K \\theta$ and the variance is\n", 
            "$\\sigma^2=K \\theta^2$.\n", 
            "\n", 
            "\n", 
            "This corresponds to a acquisition device which is\n", 
            "averaging $K$ measures with 1-sided exponential distribution.\n", 
            ""
          ]
        }, 
        {
          "cell_type": "code", 
          "collapsed": false, 
          "input": [
            "K = 4\n", 
            "sigma = 1/sqrt(K)"
          ], 
          "language": "python", 
          "outputs": []
        }, 
        {
          "cell_type": "markdown", 
          "metadata": {}, 
          "source": [
            "\n", 
            "\n", 
            "Generate the random multiplier.\n", 
            ""
          ]
        }, 
        {
          "cell_type": "code", 
          "collapsed": false, 
          "input": [
            "W = gamrnd(1/sigma^2, sigma^2,n,n)"
          ], 
          "language": "python", 
          "outputs": []
        }, 
        {
          "cell_type": "markdown", 
          "metadata": {}, 
          "source": [
            "\n", 
            "\n", 
            "Generate the noisy signal.\n", 
            ""
          ]
        }, 
        {
          "cell_type": "code", 
          "collapsed": false, 
          "input": [
            "f = f0.*W"
          ], 
          "language": "python", 
          "outputs": []
        }, 
        {
          "cell_type": "markdown", 
          "metadata": {}, 
          "source": [
            "\n", 
            "\n", 
            "Display.\n", 
            ""
          ]
        }, 
        {
          "cell_type": "code", 
          "collapsed": false, 
          "input": [
            "\n", 
            "imageplot(f0, 'Intensity map f0', 1,2,1)\n", 
            "imageplot(f,  'Observed noisy image f', 1,2,2)"
          ], 
          "language": "python", 
          "outputs": []
        }, 
        {
          "cell_type": "markdown", 
          "metadata": {}, 
          "source": [
            "\n", 
            "\n", 
            "Display the difference, which shows that the noise level depends on the\n", 
            "intensity. The noise is larger in bright areas.\n", 
            ""
          ]
        }, 
        {
          "cell_type": "code", 
          "collapsed": false, 
          "input": [
            "\n", 
            "imageplot(f0, 'Intensity map f0', 1,2,1)\n", 
            "imageplot(f-f0,  'f-f0', 1,2,2)"
          ], 
          "language": "python", 
          "outputs": []
        }, 
        {
          "cell_type": "heading", 
          "level": 3, 
          "metadata": {}, 
          "source": [
            "Exercise 6"
          ]
        }, 
        {
          "cell_type": "markdown", 
          "metadata": {}, 
          "source": [
            "\n", 
            "Generate several noisy images for several noise levels.\n", 
            "\n", 
            "\n", 
            "\n", 
            "\n", 
            "\n", 
            ""
          ]
        }, 
        {
          "cell_type": "code", 
          "collapsed": false, 
          "input": [
            "## Insert your code here."
          ], 
          "language": "python", 
          "outputs": []
        }, 
        {
          "cell_type": "markdown", 
          "metadata": {}, 
          "source": [
            "\n", 
            ""
          ]
        }, 
        {
          "cell_type": "heading", 
          "level": 3, 
          "metadata": {}, 
          "source": [
            "Exercise 7"
          ]
        }, 
        {
          "cell_type": "markdown", 
          "metadata": {}, 
          "source": [
            "\n", 
            "Perform translation invariance wavelet hard thresholding directly on the\n", 
            "noisy image $f=f_0 W$. Check for an optimal threshold that maximize\n", 
            "the SNR. Record the optimal result in |fMult|.\n", 
            "\n", 
            "\n", 
            "\n", 
            "\n", 
            "\n", 
            "\n", 
            "\n", 
            "\n", 
            "\n", 
            "\n", 
            "display\n", 
            "\n", 
            "\n", 
            "\n", 
            "\n", 
            "\n", 
            "\n", 
            "\n", 
            "best result\n", 
            "\n", 
            "\n", 
            ""
          ]
        }, 
        {
          "cell_type": "code", 
          "collapsed": false, 
          "input": [
            "## Insert your code here."
          ], 
          "language": "python", 
          "outputs": []
        }, 
        {
          "cell_type": "markdown", 
          "metadata": {}, 
          "source": [
            "\n", 
            "\n", 
            "\n", 
            "Display.\n", 
            ""
          ]
        }, 
        {
          "cell_type": "code", 
          "collapsed": false, 
          "input": [
            "\n", 
            "imageplot(f0, 'Original image', 1,2,1)\n", 
            "imageplot(clamp(fMult,min(f0(:)),max(f0(:))), strcat(['Denoised, SNR=' num2str(snr(f0,fMult),4)]), 1,2,2)"
          ], 
          "language": "python", 
          "outputs": []
        }, 
        {
          "cell_type": "heading", 
          "level": 2, 
          "metadata": {}, 
          "source": [
            "Variance Stabilization for Multiplicative Noise\n"
          ]
        }, 
        {
          "cell_type": "markdown", 
          "metadata": {}, 
          "source": [
            "An approximate variance stabilization transform consist in taking the\n", 
            "log. The $\\log(f)-a$ image is then equal to $\\log(f_0)$ contaminated by $log(W)-a$ which is not\n", 
            "too far from a centered Gaussian distribution if the variance of $W$ is\n", 
            "not too large.\n", 
            "\n", 
            "\n", 
            "The value of $a$ should be chosen as the mean value of the\n", 
            "random variable $\\log(f)$ so that $\\log(W)-a$ has zero mean.\n", 
            "There exists close form for the value of $a$ as a function of $\\sigma=1/\\sqrt{K}$,\n", 
            "which we use here, where $\\psi$ is the polygamma function.\n", 
            "\n", 
            "\n", 
            "_Important:_ Scilab user should replace |psi| by |dlgamma|.\n", 
            ""
          ]
        }, 
        {
          "cell_type": "code", 
          "collapsed": false, 
          "input": [
            "a = psi(K) - log(K)"
          ], 
          "language": "python", 
          "outputs": []
        }, 
        {
          "cell_type": "markdown", 
          "metadata": {}, 
          "source": [
            "\n", 
            "\n", 
            "Display stabililized image.\n", 
            ""
          ]
        }, 
        {
          "cell_type": "code", 
          "collapsed": false, 
          "input": [
            "\n", 
            "imageplot(f, 'f', 1,2,1)\n", 
            "imageplot(clamp(log(f)-a,-2,2), 'log(f)', 1,2,2)"
          ], 
          "language": "python", 
          "outputs": []
        }, 
        {
          "cell_type": "markdown", 
          "metadata": {}, 
          "source": [
            "\n", 
            "\n", 
            "Distribution of the noise multiplier and of the log.\n", 
            ""
          ]
        }, 
        {
          "cell_type": "code", 
          "collapsed": false, 
          "input": [
            "\n", 
            "subplot(2,1,1)\n", 
            "hist(W(:),100)\n", 
            "axis('tight')\n", 
            "subplot(2,1,2)\n", 
            "hist(log(W(:))-a,100)\n", 
            "axis('tight')"
          ], 
          "language": "python", 
          "outputs": []
        }, 
        {
          "cell_type": "heading", 
          "level": 3, 
          "metadata": {}, 
          "source": [
            "Exercise 8"
          ]
        }, 
        {
          "cell_type": "markdown", 
          "metadata": {}, 
          "source": [
            "\n", 
            "Perform translation invariance wavelet hard thresholding on the\n", 
            "variance stabilized image using the log.\n", 
            "Check for an optimal threshold that maximize\n", 
            "the SNR. Record the optimal result in |fVST|.\n", 
            "\n", 
            "\n", 
            "\n", 
            "\n", 
            "\n", 
            "\n", 
            "\n", 
            "\n", 
            "\n", 
            "\n", 
            "\n", 
            "\n", 
            "\n", 
            "display\n", 
            "\n", 
            "\n", 
            "\n", 
            "\n", 
            "\n", 
            "\n", 
            "\n", 
            "best result\n", 
            "\n", 
            "\n", 
            "\n", 
            ""
          ]
        }, 
        {
          "cell_type": "code", 
          "collapsed": false, 
          "input": [
            "## Insert your code here."
          ], 
          "language": "python", 
          "outputs": []
        }, 
        {
          "cell_type": "markdown", 
          "metadata": {}, 
          "source": [
            "\n", 
            "\n", 
            "\n", 
            "Display.\n", 
            ""
          ]
        }
      ]
    }
  ]
}