{
  "metadata": {
    "name": ""
  }, 
  "nbformat": 3, 
  "nbformat_minor": 0, 
  "worksheets": [
    {
      "cells": [
        {
          "cell_type": "heading", 
          "level": 1, 
          "metadata": {}, 
          "source": [
            "Denoising by Sobolev and Total Variation Regularization"
          ]
        }, 
        {
          "cell_type": "markdown", 
          "metadata": {}, 
          "source": [
            "This numerical tour explores the use of variational minimization to\n", 
            "perform denoising. It consider the Sobolev and the Total Variation\n", 
            "regularization functional (priors).\n", 
            ""
          ]
        }, 
        {
          "cell_type": "markdown", 
          "metadata": {}, 
          "source": [
            "*Important:* You need to download the file `nt_toolbox.py` from the \n", 
            "root of the github repository.\n", 
            "$\\newcommand{\\dotp}[2]{\\langle #1, #2 \\rangle}\n", 
            "\\newcommand{\\enscond}[2]{\\lbrace #1, #2 \\rbrace}\n", 
            "\\newcommand{\\pd}[2]{ \\frac{ \\partial #1}{\\partial #2} }\n", 
            "\\newcommand{\\umin}[1]{\\underset{#1}{\\min}\\;}\n", 
            "\\newcommand{\\norm}[1]{\\|#1\\|}\n", 
            "\\newcommand{\\abs}[1]{\\left|#1\\right|}\n", 
            "\\newcommand{\\choice}[1]{ \\left\\{  \\begin{array}{l} #1 \\end{array} \\right. }\n", 
            "\\newcommand{\\pa}[1]{\\left(#1\\right)}\n", 
            "\\newcommand{\\qandq}{\\quad\\text{and}\\quad}\n", 
            "\\newcommand{\\qwhereq}{\\quad\\text{where}\\quad}\n", 
            "\\newcommand{\\qifq}{ \\quad \\text{if} \\quad }\n", 
            "\\newcommand{\\qarrq}{ \\quad \\Longrightarrow \\quad }\n", 
            "\\newcommand{\\ZZ}{\\mathbb{Z}}\n", 
            "\\newcommand{\\RR}{\\mathbb{R}}\n", 
            "\\newcommand{\\Nn}{\\mathcal{N}}\n", 
            "\\newcommand{\\Hh}{\\mathcal{H}}\n", 
            "\\newcommand{\\Bb}{\\mathcal{B}}\n", 
            "\\newcommand{\\EE}{\\mathbb{E}}\n", 
            "\\newcommand{\\CC}{\\mathbb{C}}\n", 
            "\\newcommand{\\si}{\\sigma}\n", 
            "\\newcommand{\\al}{\\alpha}\n", 
            "\\newcommand{\\la}{\\lambda}\n", 
            "\\newcommand{\\ga}{\\gamma}\n", 
            "\\newcommand{\\Ga}{\\Gamma}\n", 
            "\\newcommand{\\La}{\\Lambda}\n", 
            "\\newcommand{\\si}{\\sigma}\n", 
            "\\newcommand{\\Si}{\\Sigma}\n", 
            "\\newcommand{\\be}{\\beta}\n", 
            "\\newcommand{\\de}{\\delta}\n", 
            "\\newcommand{\\De}{\\Delta}\n", 
            "\\renewcommand{\\phi}{\\varphi}\n", 
            "\\renewcommand{\\th}{\\theta}\n", 
            "\\newcommand{\\om}{\\omega}\n", 
            "\\newcommand{\\Om}{\\Omega}\n", 
            "$"
          ]
        }, 
        {
          "cell_type": "code", 
          "collapsed": false, 
          "input": [
            "from nt_toolbox import *", 
            "%matplotlib inline", 
            "%load_ext autoreload", 
            "%autoreload 2"
          ], 
          "language": "python", 
          "outputs": []
        }, 
        {
          "cell_type": "markdown", 
          "metadata": {}, 
          "source": [
            "\n", 
            ""
          ]
        }, 
        {
          "cell_type": "heading", 
          "level": 2, 
          "metadata": {}, 
          "source": [
            "Prior and Regularization\n"
          ]
        }, 
        {
          "cell_type": "markdown", 
          "metadata": {}, 
          "source": [
            "For a given image $f$, a prior $J(f) \\in \\mathbb{R}$ assign a score\n", 
            "supposed to be small for the image of interest.\n", 
            "\n", 
            "\n", 
            "A denoising of some noisy image $y$ is obtained by a variational minimization\n", 
            "that mixes a fit to the data (usually using an $L^2$ norm) and the\n", 
            "prior.\n", 
            "$$ \\min_f \\frac{1}{2}\\|y-f\\|^2 + \\lambda J(f) $$\n", 
            "\n", 
            "\n", 
            "If $J(f)$ is a convex function of $f$, then the minimum exists and is\n", 
            "unique.\n", 
            "\n", 
            "\n", 
            "The parameter $\\tau>0$ should be adapted to the noise level. Increasing\n", 
            "its value means a more agressive denoising.\n", 
            "\n", 
            "\n", 
            "If $J(f)$ is a smooth functional of the image $f$, a minimizer of\n", 
            "this problem can be computed by gradient descent.\n", 
            "It defines a series of images $f^{(\\ell)}$ indexed by $\\ell \\in \\mathbb{N}$\n", 
            "as\n", 
            "$$ f^{(\\ell+1)} = f^{(\\ell)} + \\tau \\left( f^{(\\ell)}-y + \\lambda \\text{Grad}J(f^{(\\ell)}) \\right). $$\n", 
            "\n", 
            "\n", 
            "Note that for $f^{(\\ell)}$ to converge with\n", 
            "$\\ell\\rightarrow +\\infty$ toward a solution of the problem, $\\tau$ needs to be small enough,\n", 
            "more precisely, if the functional $J$ is twice differentiable,\n", 
            "$$ \\tau < \\frac{2}{1 + \\lambda \\max_f \\|D^2 J(f)\\|}. $$\n", 
            ""
          ]
        }, 
        {
          "cell_type": "heading", 
          "level": 2, 
          "metadata": {}, 
          "source": [
            "Sobolev Prior\n"
          ]
        }, 
        {
          "cell_type": "markdown", 
          "metadata": {}, 
          "source": [
            "The Sobolev image prior is a quadratic prior, i.e. an Hilbert\n", 
            "(pseudo)-norm.\n", 
            "\n", 
            "\n", 
            "First we load a clean image.\n", 
            ""
          ]
        }, 
        {
          "cell_type": "code", 
          "collapsed": false, 
          "input": [
            "n = 256\n", 
            "name = 'hibiscus'\n", 
            "f0 = load_image(name,n)\n", 
            "f0 = rescale( sum(f0,3) )"
          ], 
          "language": "python", 
          "outputs": []
        }, 
        {
          "cell_type": "markdown", 
          "metadata": {}, 
          "source": [
            "\n", 
            "\n", 
            "For a smooth continuous function $f$ it is defined as\n", 
            "$$J(f) = \\int \\|\\nabla f(x)\\|^2 d x $$\n", 
            "\n", 
            "\n", 
            "Where the gradient vector at point $x$ is defined as\n", 
            "$$ \\nabla f(x) = \\left(  \\frac{\\partial f(x)}{\\partial x_1},\\frac{\\partial f(x)}{\\partial x_2} \\right) $$\n", 
            "\n", 
            "\n", 
            "For a discrete pixelized image $f \\in \\mathbb{R}^N$ where $N=n \\times n$ is the number of pixel,\n", 
            "$\\nabla f(x) \\in \\mathbb{R}^2$ is computed using finite difference.\n", 
            ""
          ]
        }, 
        {
          "cell_type": "code", 
          "collapsed": false, 
          "input": [
            "Gr = grad(f0)"
          ], 
          "language": "python", 
          "outputs": []
        }, 
        {
          "cell_type": "markdown", 
          "metadata": {}, 
          "source": [
            "\n", 
            "\n", 
            "One can compute the norm of gradient, $d(x) = \\|\\nabla f(x)\\| $.\n", 
            ""
          ]
        }, 
        {
          "cell_type": "code", 
          "collapsed": false, 
          "input": [
            "d = sqrt(sum3(Gr.^2,3))"
          ], 
          "language": "python", 
          "outputs": []
        }, 
        {
          "cell_type": "markdown", 
          "metadata": {}, 
          "source": [
            "\n", 
            "\n", 
            "Display.\n", 
            ""
          ]
        }, 
        {
          "cell_type": "code", 
          "collapsed": false, 
          "input": [
            "\n", 
            "imageplot(Gr, strcat(['grad']), 1,2,1)\n", 
            "imageplot(d, strcat(['|grad|']), 1,2,2)"
          ], 
          "language": "python", 
          "outputs": []
        }, 
        {
          "cell_type": "markdown", 
          "metadata": {}, 
          "source": [
            "\n", 
            "\n", 
            "The Sobolev norm is the (squared) $L^2$ norm of $\\nabla f \\in\n", 
            "\\mathbb{R}^{N \\times 2}$.\n", 
            ""
          ]
        }, 
        {
          "cell_type": "code", 
          "collapsed": false, 
          "input": [
            "sob = sum(d(:).^2)"
          ], 
          "language": "python", 
          "outputs": []
        }, 
        {
          "cell_type": "heading", 
          "level": 2, 
          "metadata": {}, 
          "source": [
            "Heat Regularization for Denoising\n"
          ]
        }, 
        {
          "cell_type": "markdown", 
          "metadata": {}, 
          "source": [
            "Heat regularization smoothes the image using a low pass filter.\n", 
            "Increasing the value of |\\lambda| increases the amount of smoothing.\n", 
            "\n", 
            "\n", 
            "Add some noise to the original image.\n", 
            ""
          ]
        }, 
        {
          "cell_type": "code", 
          "collapsed": false, 
          "input": [
            "sigma = .1\n", 
            "y = f0 + randn(n,n)*sigma"
          ], 
          "language": "python", 
          "outputs": []
        }, 
        {
          "cell_type": "markdown", 
          "metadata": {}, 
          "source": [
            "\n", 
            "\n", 
            "\n", 
            "The solution $f^{\\star}$ of the Sobolev regularization can be computed exactly\n", 
            "using the Fourier transform.\n", 
            "$$\\hat f^{\\star}(\\omega) = \\frac{\\hat y(\\omega)}{ 1+\\lambda S(\\omega) } \\quad\\text{where}\\quad S(\\omega)=\\|\\omega\\|^2. $$\n", 
            "\n", 
            "\n", 
            "This shows that $f^{\\star}$ is a filtering of $y$.\n", 
            "\n", 
            "\n", 
            "Useful for later: Fourier transform of the observations.\n", 
            ""
          ]
        }, 
        {
          "cell_type": "code", 
          "collapsed": false, 
          "input": [
            "yF = fft2(y)"
          ], 
          "language": "python", 
          "outputs": []
        }, 
        {
          "cell_type": "markdown", 
          "metadata": {}, 
          "source": [
            "\n", 
            "\n", 
            "\n", 
            "Compute the Sobolev prior penalty |S|(rescale to [0,1]).\n", 
            ""
          ]
        }, 
        {
          "cell_type": "code", 
          "collapsed": false, 
          "input": [
            "x = [0:n/2-1, -n/2:-1]\n", 
            "[Y,X] = meshgrid(x,x)\n", 
            "S = (X.^2 + Y.^2)*(2/n)^2"
          ], 
          "language": "python", 
          "outputs": []
        }, 
        {
          "cell_type": "markdown", 
          "metadata": {}, 
          "source": [
            "\n", 
            "\n", 
            "Regularization parameter:\n", 
            ""
          ]
        }, 
        {
          "cell_type": "code", 
          "collapsed": false, 
          "input": [
            "lambda = 20"
          ], 
          "language": "python", 
          "outputs": []
        }, 
        {
          "cell_type": "markdown", 
          "metadata": {}, 
          "source": [
            "\n", 
            "\n", 
            "Perform the denoising by filtering.\n", 
            ""
          ]
        }, 
        {
          "cell_type": "code", 
          "collapsed": false, 
          "input": [
            "fSob = real( ifft2( yF ./ ( 1 + lambda*S) ) )"
          ], 
          "language": "python", 
          "outputs": []
        }, 
        {
          "cell_type": "markdown", 
          "metadata": {}, 
          "source": [
            "\n", 
            "\n", 
            "Display.\n", 
            ""
          ]
        }, 
        {
          "cell_type": "code", 
          "collapsed": false, 
          "input": [
            "\n", 
            "imageplot(clamp(fSob))"
          ], 
          "language": "python", 
          "outputs": []
        }, 
        {
          "cell_type": "heading", 
          "level": 3, 
          "metadata": {}, 
          "source": [
            "Exercise 1"
          ]
        }, 
        {
          "cell_type": "markdown", 
          "metadata": {}, 
          "source": [
            "\n", 
            "Compute the solution for several value of $\\lambda$ and choose the\n", 
            "optimal |lambda| and the corresponding optimal denoising |fSob0|.\n", 
            "You can increase progressively lambda and reduce\n", 
            "considerably the number of iterations.\n", 
            "\n", 
            "\n", 
            "\n", 
            "\n", 
            "\n", 
            "\n", 
            "\n", 
            "\n", 
            "\n", 
            "\n", 
            "plot\n", 
            "\n", 
            "\n", 
            ""
          ]
        }, 
        {
          "cell_type": "code", 
          "collapsed": false, 
          "input": [
            "## Insert your code here."
          ], 
          "language": "python", 
          "outputs": []
        }, 
        {
          "cell_type": "markdown", 
          "metadata": {}, 
          "source": [
            "\n", 
            "\n", 
            "\n", 
            "Display best \"oracle\" denoising result.\n", 
            ""
          ]
        }, 
        {
          "cell_type": "code", 
          "collapsed": false, 
          "input": [
            "esob = snr(f0,fSob0);  enoisy = snr(f0,y)\n", 
            "\n", 
            "imageplot(clamp(y), strcat(['Noisy ' num2str(enoisy,3) 'dB']), 1,2,1)\n", 
            "imageplot(clamp(fSob0), strcat(['Sobolev regularization ' num2str(esob,3) 'dB']), 1,2,2)"
          ], 
          "language": "python", 
          "outputs": []
        }, 
        {
          "cell_type": "markdown", 
          "metadata": {}, 
          "source": [
            "\n", 
            "\n", 
            ""
          ]
        }, 
        {
          "cell_type": "heading", 
          "level": 2, 
          "metadata": {}, 
          "source": [
            "Total Variation Prior\n"
          ]
        }, 
        {
          "cell_type": "markdown", 
          "metadata": {}, 
          "source": [
            "The total variation is a Banach norm.\n", 
            "On the contrary to the Sobolev norm, it is able to take into account step edges.\n", 
            "\n", 
            "\n", 
            "The total variation of a smooth image $f$ is defined as\n", 
            "$$J(f)=\\int \\|\\nabla f(x)\\| d x$$\n", 
            "\n", 
            "\n", 
            "It is extended to non-smooth images having step discontinuities.\n", 
            "\n", 
            "\n", 
            "The total variation of an image is also equal to the total length of its level sets.\n", 
            "$$J(f)=\\int_{-\\infty}^{+\\infty} L( S_t(f) ) dt$$\n", 
            "\n", 
            "\n", 
            "Where $S_t(f)$ is the level set at $t$ of the image $f$\n", 
            "$$S_t(f)=\\{ x \\backslash f(x)=t \\}$$\n", 
            ""
          ]
        }, 
        {
          "cell_type": "heading", 
          "level": 3, 
          "metadata": {}, 
          "source": [
            "Exercise 2"
          ]
        }, 
        {
          "cell_type": "markdown", 
          "metadata": {}, 
          "source": [
            "\n", 
            "Compute the total variation of |f0|.\n", 
            "\n", 
            "display\n", 
            "\n", 
            ""
          ]
        }, 
        {
          "cell_type": "code", 
          "collapsed": false, 
          "input": [
            "## Insert your code here."
          ], 
          "language": "python", 
          "outputs": []
        }, 
        {
          "cell_type": "markdown", 
          "metadata": {}, 
          "source": [
            "\n", 
            "\n", 
            "\n", 
            "The Gradient of the TV norm is\n", 
            "$$ \\text{Grad}J(f) = \\text{div}\\left( \\frac{\\nabla f}{\\|\\nabla f\\|} \\right) . $$\n", 
            "\n", 
            "\n", 
            "The gradient of the TV norm is not defined if at a pixel $x$\n", 
            "one has $\\nabla f(x)=0$. This means that the TV norm is difficult to\n", 
            "minimize, and its gradient flow is not well defined.\n", 
            "\n", 
            "\n", 
            "To define a gradient flow, we consider instead a smooth TV norm\n", 
            "$$J_\\epsilon(f) = \\int \\sqrt{ \\varepsilon^2 + \\| \\nabla f(x) \\|^2 } d x$$\n", 
            "\n", 
            "\n", 
            "This corresponds to replacing $\\|u\\|$ by $ \\sqrt{\\varepsilon^2 + \\|u\\|^2} $\n", 
            "which is a smooth function.\n", 
            "\n", 
            "\n", 
            "We display (in 1D) the smoothing of the absolute value.\n", 
            ""
          ]
        }, 
        {
          "cell_type": "code", 
          "collapsed": false, 
          "input": [
            "u = linspace(-5,5)'\n", 
            "\n", 
            "subplot(2,1,1); hold('on')\n", 
            "plot(u, abs(u), 'b')\n", 
            "plot(u, sqrt(.5^2+u.^2), 'r')\n", 
            "title('\\epsilon=1/2'); axis('square')\n", 
            "subplot(2,1,2); hold('on')\n", 
            "plot(u, abs(u), 'b')\n", 
            "plot(u, sqrt(1^2+u.^2), 'r')\n", 
            "title('\\epsilon=1'); axis('square')"
          ], 
          "language": "python", 
          "outputs": []
        }, 
        {
          "cell_type": "markdown", 
          "metadata": {}, 
          "source": [
            "\n", 
            "\n", 
            "The Gradient of the smoothed TV norm is\n", 
            "$$ \\text{Grad}J(f) = \\text{div}\\left( \\frac{\\nabla f}{\\sqrt{\\varepsilon^2 + \\|\\nabla f\\|^2}} \\right) . $$\n", 
            "\n", 
            "\n", 
            "When $\\varepsilon$ increases, the smoothed TV gradient approaches the\n", 
            "Laplacian (normalized by $1/\\varepsilon$).\n", 
            ""
          ]
        }, 
        {
          "cell_type": "code", 
          "collapsed": false, 
          "input": [
            "epsilon_list = [1e-9 1e-2 1e-1 .5]\n", 
            "\n", 
            "for i in 1:length(epsilon_list):\n", 
            "    G = div( Gr ./ repmat( sqrt( epsilon_list(i)^2 + d.^2 ) , [1 1 2]) )\n", 
            "    imageplot(G, strcat(['epsilon=' num2str(epsilon_list(i))]), 2,2,i)\n", 
            ""
          ], 
          "language": "python", 
          "outputs": []
        }, 
        {
          "cell_type": "markdown", 
          "metadata": {}, 
          "source": [
            "\n", 
            ""
          ]
        }, 
        {
          "cell_type": "heading", 
          "level": 2, 
          "metadata": {}, 
          "source": [
            "Total Variation Regulariation for Denoising\n"
          ]
        }, 
        {
          "cell_type": "markdown", 
          "metadata": {}, 
          "source": [
            "Total variation regularization was introduced by Rudin, Osher and Fatemi,\n", 
            "to better respect the edge of image than linear filtering.\n", 
            "\n", 
            "\n", 
            "We set a small enough regularization parameter.\n", 
            ""
          ]
        }, 
        {
          "cell_type": "code", 
          "collapsed": false, 
          "input": [
            "epsilon = 1e-2"
          ], 
          "language": "python", 
          "outputs": []
        }, 
        {
          "cell_type": "markdown", 
          "metadata": {}, 
          "source": [
            "\n", 
            "\n", 
            "Define the regularization parameter $\\lambda$.\n", 
            ""
          ]
        }, 
        {
          "cell_type": "code", 
          "collapsed": false, 
          "input": [
            "lambda = .1"
          ], 
          "language": "python", 
          "outputs": []
        }, 
        {
          "cell_type": "markdown", 
          "metadata": {}, 
          "source": [
            "\n", 
            "\n", 
            "\n", 
            "The step size for diffusion should satisfy:\n", 
            "$$ \\tau < \\frac{2}{1 + \\lambda 8 / \\varepsilon} . $$\n", 
            "\n", 
            ""
          ]
        }, 
        {
          "cell_type": "code", 
          "collapsed": false, 
          "input": [
            "tau = 2 / ( 1 + lambda * 8 / epsilon)"
          ], 
          "language": "python", 
          "outputs": []
        }, 
        {
          "cell_type": "markdown", 
          "metadata": {}, 
          "source": [
            "\n", 
            "\n", 
            "Initialization of the minimization.\n", 
            ""
          ]
        }, 
        {
          "cell_type": "code", 
          "collapsed": false, 
          "input": [
            "fTV = y"
          ], 
          "language": "python", 
          "outputs": []
        }, 
        {
          "cell_type": "markdown", 
          "metadata": {}, 
          "source": [
            "\n", 
            "\n", 
            "Compute the gradient of the smoothed TV norm.\n", 
            ""
          ]
        }, 
        {
          "cell_type": "code", 
          "collapsed": false, 
          "input": [
            "Gr = grad(fTV)\n", 
            "d = sqrt(sum3(Gr.^2,3))\n", 
            "G = -div( Gr ./ repmat( sqrt( epsilon^2 + d.^2 ) , [1 1 2]) )"
          ], 
          "language": "python", 
          "outputs": []
        }, 
        {
          "cell_type": "markdown", 
          "metadata": {}, 
          "source": [
            "\n", 
            "\n", 
            "One step of descent.\n", 
            ""
          ]
        }, 
        {
          "cell_type": "code", 
          "collapsed": false, 
          "input": [
            "fTV = fTV - tau*( y-fTV + lambda* G)"
          ], 
          "language": "python", 
          "outputs": []
        }, 
        {
          "cell_type": "heading", 
          "level": 3, 
          "metadata": {}, 
          "source": [
            "Exercise 3"
          ]
        }, 
        {
          "cell_type": "markdown", 
          "metadata": {}, 
          "source": [
            "\n", 
            "Compute the gradient descent and monitor\n", 
            "the minimized energy.\n", 
            "\n", 
            "\n", 
            "\n", 
            "\n", 
            "\n", 
            "\n", 
            "\n", 
            "\n", 
            "\n", 
            "\n", 
            "\n", 
            "\n", 
            "\n", 
            "\n", 
            ""
          ]
        }, 
        {
          "cell_type": "code", 
          "collapsed": false, 
          "input": [
            "## Insert your code here."
          ], 
          "language": "python", 
          "outputs": []
        }, 
        {
          "cell_type": "markdown", 
          "metadata": {}, 
          "source": [
            "\n", 
            "\n", 
            "\n", 
            "Display the image.\n", 
            ""
          ]
        }, 
        {
          "cell_type": "code", 
          "collapsed": false, 
          "input": [
            "\n", 
            "imageplot(fTV)"
          ], 
          "language": "python", 
          "outputs": []
        }, 
        {
          "cell_type": "heading", 
          "level": 3, 
          "metadata": {}, 
          "source": [
            "Exercise 4"
          ]
        }, 
        {
          "cell_type": "markdown", 
          "metadata": {}, 
          "source": [
            "\n", 
            "Compute the solution for several value of $\\lambda$ and choose the\n", 
            "optimal $\\lambda$ and the corresponding optimal denoising |fSob0|.\n", 
            "You can increase progressively $\\lambda$ and reduce\n", 
            "considerably the number of iterations.\n", 
            "\n", 
            "\n", 
            "\n", 
            "\n", 
            "\n", 
            "\n", 
            "\n", 
            "\n", 
            "\n", 
            "\n", 
            "\n", 
            "\n", 
            "\n", 
            "\n", 
            "\n", 
            "\n", 
            "\n", 
            "\n", 
            "\n", 
            "\n", 
            "\n", 
            "\n", 
            ""
          ]
        }, 
        {
          "cell_type": "code", 
          "collapsed": false, 
          "input": [
            "## Insert your code here."
          ], 
          "language": "python", 
          "outputs": []
        }, 
        {
          "cell_type": "markdown", 
          "metadata": {}, 
          "source": [
            "\n", 
            "\n", 
            "\n", 
            "\n", 
            "Display best \"oracle\" denoising result.\n", 
            ""
          ]
        }, 
        {
          "cell_type": "code", 
          "collapsed": false, 
          "input": [
            "etvr = snr(f0,fTV0)\n", 
            "\n", 
            "imageplot(clamp(y), strcat(['Noisy ' num2str(enoisy,3) 'dB']), 1,2,1)\n", 
            "imageplot(clamp(fTV0), strcat(['TV regularization ' num2str(etvr,3) 'dB']), 1,2,2)"
          ], 
          "language": "python", 
          "outputs": []
        }, 
        {
          "cell_type": "markdown", 
          "metadata": {}, 
          "source": [
            "\n", 
            ""
          ]
        }, 
        {
          "cell_type": "heading", 
          "level": 3, 
          "metadata": {}, 
          "source": [
            "Exercise 5"
          ]
        }, 
        {
          "cell_type": "markdown", 
          "metadata": {}, 
          "source": [
            "\n", 
            "Compare the TV denoising with a hard thresholding in a translation\n", 
            "invariant tight frame of wavelets.\n", 
            "\n", 
            "\n", 
            "\n", 
            "\n", 
            "\n", 
            "\n", 
            "\n", 
            "\n", 
            "\n", 
            ""
          ]
        }, 
        {
          "cell_type": "code", 
          "collapsed": false, 
          "input": [
            "## Insert your code here."
          ], 
          "language": "python", 
          "outputs": []
        }
      ]
    }
  ]
}