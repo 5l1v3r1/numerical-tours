{
  "metadata": {
    "name": ""
  }, 
  "nbformat": 3, 
  "nbformat_minor": 0, 
  "worksheets": [
    {
      "cells": [
        {
          "cell_type": "heading", 
          "level": 1, 
          "metadata": {}, 
          "source": [
            "Convex Region-Based Image Segmentation"
          ]
        }, 
        {
          "cell_type": "markdown", 
          "metadata": {}, 
          "source": [
            "This numerical tour explores a convex relaxation of the piecewise\n", 
            "constant Mumford-Shah. This relaxation is exact, and leads to a global\n", 
            "solution to the segmentation problem. It can be solved using proximal\n", 
            "splitting scheme, and we propose to use here the Douglas-Rachford\n", 
            "algorithm. Of independent interest is the introduction of auxiliary\n", 
            "gradient variables that enables the use of purely primal splitting\n", 
            "schemes.\n", 
            "\n", 
            "\n", 
            "Special thanks to Jalal Fadili for telling me about the \"auxiliary variable\"\n", 
            "trick (i.e. adding the variable $u=\\nabla f$),\n", 
            "that allows one to solve TV regularization without the need to use\n", 
            "primal-dual schemes.\n", 
            ""
          ]
        }, 
        {
          "cell_type": "markdown", 
          "metadata": {}, 
          "source": [
            "*Important:* You need to download the file `nt_toolbox.py` from the \n", 
            "root of the github repository.\n", 
            "$\\newcommand{\\dotp}[2]{\\langle #1, #2 \\rangle}\n", 
            "\\newcommand{\\enscond}[2]{\\lbrace #1, #2 \\rbrace}\n", 
            "\\newcommand{\\pd}[2]{ \\frac{ \\partial #1}{\\partial #2} }\n", 
            "\\newcommand{\\umin}[1]{\\underset{#1}{\\min}\\;}\n", 
            "\\newcommand{\\norm}[1]{\\|#1\\|}\n", 
            "\\newcommand{\\abs}[1]{\\left|#1\\right|}\n", 
            "\\newcommand{\\choice}[1]{ \\left\\{  \\begin{array}{l} #1 \\end{array} \\right. }\n", 
            "\\newcommand{\\pa}[1]{\\left(#1\\right)}\n", 
            "\\newcommand{\\qandq}{\\quad\\text{and}\\quad}\n", 
            "\\newcommand{\\qwhereq}{\\quad\\text{where}\\quad}\n", 
            "\\newcommand{\\qifq}{ \\quad \\text{if} \\quad }\n", 
            "\\newcommand{\\qarrq}{ \\quad \\Longrightarrow \\quad }\n", 
            "\\newcommand{\\ZZ}{\\mathbb{Z}}\n", 
            "\\newcommand{\\RR}{\\mathbb{R}}\n", 
            "\\newcommand{\\Nn}{\\mathcal{N}}\n", 
            "\\newcommand{\\Hh}{\\mathcal{H}}\n", 
            "\\newcommand{\\Bb}{\\mathcal{B}}\n", 
            "\\newcommand{\\EE}{\\mathbb{E}}\n", 
            "\\newcommand{\\CC}{\\mathbb{C}}\n", 
            "\\newcommand{\\si}{\\sigma}\n", 
            "\\newcommand{\\al}{\\alpha}\n", 
            "\\newcommand{\\la}{\\lambda}\n", 
            "\\newcommand{\\ga}{\\gamma}\n", 
            "\\newcommand{\\Ga}{\\Gamma}\n", 
            "\\newcommand{\\La}{\\Lambda}\n", 
            "\\newcommand{\\si}{\\sigma}\n", 
            "\\newcommand{\\Si}{\\Sigma}\n", 
            "\\newcommand{\\be}{\\beta}\n", 
            "\\newcommand{\\de}{\\delta}\n", 
            "\\newcommand{\\De}{\\Delta}\n", 
            "\\renewcommand{\\phi}{\\varphi}\n", 
            "\\renewcommand{\\th}{\\theta}\n", 
            "\\newcommand{\\om}{\\omega}\n", 
            "\\newcommand{\\Om}{\\Omega}\n", 
            "$"
          ]
        }, 
        {
          "cell_type": "code", 
          "collapsed": false, 
          "input": [
            "from nt_toolbox import *", 
            "%matplotlib inline", 
            "%load_ext autoreload", 
            "%autoreload 2"
          ], 
          "language": "python", 
          "outputs": []
        }, 
        {
          "cell_type": "heading", 
          "level": 2, 
          "metadata": {}, 
          "source": [
            "Binary Segmentation \n"
          ]
        }, 
        {
          "cell_type": "markdown", 
          "metadata": {}, 
          "source": [
            "We consider some input image $I(x) \\in \\RR^d$ ($d=1$ for grayscale\n", 
            "image and $d=3$ for color images).\n", 
            "Given weights $w_0$ and $w_1$ computed from $I$, where\n", 
            "$N$ is the number of pixel, the goal is to find a region $\\Om$ that\n", 
            "minimize\n", 
            "$$ \\umin{\\Om} \\int_\\Om w_0(x) d x + \\int_{\\Om^c} w_1(x) d x + \\la \\abs{\\partial \\Om},   $$\n", 
            "where $\\abs{\\partial \\Om}$ is the perimeter of $\\Om$.\n", 
            "\n", 
            "\n", 
            "To perform region based piecewise-constant segmentation, we assume we\n", 
            "know the target values $c_0, c_1 \\in \\RR^d$ for the inside/outside of\n", 
            "the segmented domain, and use quadratic weigths\n", 
            "$$ \\text{for } i=0,1, \\quad w_i(x) = \\norm{I(x)-c_i}^2. $$\n", 
            "We use these weights in all the remaining part of this tour.\n", 
            "\n", 
            "\n", 
            "In the special case $\\la=0$, no regularization is performed, and the\n", 
            "optimal set\n", 
            "$$ is obtained by a simple thresholding\n", 
            "$$ \\Om = \\enscond{x}{ w_0(x) \\leq w_1(x). } $$\n", 
            "\n", 
            "\n", 
            "We load the image $I$.\n", 
            ""
          ]
        }, 
        {
          "cell_type": "code", 
          "collapsed": false, 
          "input": [
            "name = 'hibiscus'\n", 
            "n = 256\n", 
            "I = rescale( load_image(name,n) )"
          ], 
          "language": "python", 
          "outputs": []
        }, 
        {
          "cell_type": "markdown", 
          "metadata": {}, 
          "source": [
            "\n", 
            "\n", 
            "Display it.\n", 
            ""
          ]
        }, 
        {
          "cell_type": "code", 
          "collapsed": false, 
          "input": [
            "\n", 
            "imageplot(I)"
          ], 
          "language": "python", 
          "outputs": []
        }, 
        {
          "cell_type": "markdown", 
          "metadata": {}, 
          "source": [
            "\n", 
            "\n", 
            "Take as target colors red and green.\n", 
            ""
          ]
        }, 
        {
          "cell_type": "code", 
          "collapsed": false, 
          "input": [
            "c0 = [1;0;0]\n", 
            "c1 = [0;1;0]"
          ], 
          "language": "python", 
          "outputs": []
        }, 
        {
          "cell_type": "heading", 
          "level": 3, 
          "metadata": {}, 
          "source": [
            "Exercise 1"
          ]
        }, 
        {
          "cell_type": "markdown", 
          "metadata": {}, 
          "source": [
            "\n", 
            "Compute $w_0$ and $w_1$. Compute and display the segmentation when\n", 
            "$\\la=0$.\n", 
            "\n", 
            "\n", 
            "\n", 
            "\n", 
            "\n", 
            "\n", 
            "\n", 
            ""
          ]
        }, 
        {
          "cell_type": "code", 
          "collapsed": false, 
          "input": [
            "## Insert your code here."
          ], 
          "language": "python", 
          "outputs": []
        }, 
        {
          "cell_type": "markdown", 
          "metadata": {}, 
          "source": [
            "\n", 
            "\n", 
            "\n", 
            "Define $w=w_0-w_1$.\n", 
            ""
          ]
        }, 
        {
          "cell_type": "code", 
          "collapsed": false, 
          "input": [
            "w = w0-w1"
          ], 
          "language": "python", 
          "outputs": []
        }, 
        {
          "cell_type": "markdown", 
          "metadata": {}, 
          "source": [
            "\n", 
            ""
          ]
        }, 
        {
          "cell_type": "heading", 
          "level": 2, 
          "metadata": {}, 
          "source": [
            "Convex Discrete Formulation\n"
          ]
        }, 
        {
          "cell_type": "markdown", 
          "metadata": {}, 
          "source": [
            "If one represents $\\Om$ using its indicator function $f$\n", 
            "$$ f(x) = \\chi_\\Om(x) = \\choice{\n", 
            "      1 \\qifq x \\in \\Om. \\\\\n", 
            "      0 \\quad \\text{otherwise},\n", 
            "   } $$\n", 
            "this problem is re-casted equivalently\n", 
            "$$ \\umin{ f(x) \\in \\{0,1\\} } \\dotp{f}{w} + \\la \\norm{f}_{\\text{TV}}, $$\n", 
            "where $w=w_0-w_1$ and $\\norm{f}_{\\text{TV}}$ is the total variation\n", 
            "pseudo-norm, that is equal to $\\abs{\\partial \\Om}$ for binary indicator $f=\\chi_\\Om$.\n", 
            "Here the inner product is the canonical one $\\dotp{f}{w}=\\int f w$.\n", 
            "\n", 
            "\n", 
            "The variational problem is discretized on a grid of $N=n \\times n$ pixels, and we define the\n", 
            "total variation pseudo-norm, for $f \\in \\RR^N$, as\n", 
            "$$ \\norm{f}_{\\text{TV}} = \\norm{\\nabla f}_1\n", 
            "      \\qwhereq \\norm{u}_1 = \\sum_{i=1}^N \\norm{u_i}, $$\n", 
            "when $u=(u_i)_{i=1}^N \\in \\RR^{N \\times 2}, u_i \\in \\RR^2 $ is a vector\n", 
            "field.\n", 
            "\n", 
            "\n", 
            "We use a finite difference gradient operator\n", 
            "$$ (\\nabla f)_i = (f_{i+\\de_1}-f_i, f_{i+\\de_2}-f_i) \\in \\RR^2, $$\n", 
            "(we assume the pixels are indexed on a 2-D grid)\n", 
            "where $\\de_1=(1,0)$ and $\\de_2=(0,1)$.\n", 
            "We use periodic boundary conditions for simplicity.\n", 
            ""
          ]
        }, 
        {
          "cell_type": "code", 
          "collapsed": false, 
          "input": [
            "options.bound = 'per'\n", 
            "Grad = lambda x: grad(x,options)\n", 
            "Div = lambda x: div(x,options)"
          ], 
          "language": "python", 
          "outputs": []
        }, 
        {
          "cell_type": "markdown", 
          "metadata": {}, 
          "source": [
            "\n", 
            "\n", 
            "The inner product in the objective is discretized using the canonical\n", 
            "inner product in $\\RR^N$\n", 
            "$$ \\dotp{f}{w} = \\sum_{i=1}^N f_i w_i . $$\n", 
            "\n", 
            "\n", 
            "To obtain a convex program, one replaces the binary constraint $f_i \\in \\{0,1\\}$\n", 
            "by a box constraint $ f_i \\in [0,1] $. This defines the folowing finite\n", 
            "dimensional convex problem\n", 
            "$$ \\umin{ f \\in [0,1]^N } \\dotp{f}{w} + \\la \\norm{\\nabla f}_{1}. $$\n", 
            "\n", 
            "\n", 
            "One can prove that this relaxation is exact, meaning that the minimizer $f$,\n", 
            "when it is unique, is binary, $f \\in \\{0,1\\}^N$. It means that $\\Om$ such that $f=\\chi_\\Om$\n", 
            "actually solves the original segmentation problem. See for instance:\n", 
            "\n", 
            "\n", 
            "Tony F. Chan, Selim Esedoglu, and Mila Nikolova.\n", 
            "_Algorithms for finding global minimizers of image segmentation and denoising models_\n", 
            "SIAM J. Appl. Math., 66(5):1632-1648, 2006.\n", 
            "\n", 
            "\n", 
            "It is possible to generalize this convexification method to the\n", 
            "segmentation problem with more than 2 partitions. See for instance:\n", 
            "\n", 
            "\n", 
            "Antonin Chambolle, Daniel Cremers, Thomas Pock,\n", 
            "_A convex approach to minimal partitions,_\n", 
            "Preprint hal-00630947, 2011.\n", 
            "\n", 
            "\n", 
            "To solve this problem using primal proximal splitting scheme, we\n", 
            "introduce an auxiliary variable $u=\\nabla f$, and write the\n", 
            "optimization problem as\n", 
            "$$ \\umin{z=(f,u) \\in \\Zz = \\RR^N \\times \\RR^{N \\times 2} } F(z) + G(z)\n", 
            "  \\qwhereq \\choice{\n", 
            "      F(f,u) = \\dotp{f}{w} + \\iota_{[0,1]^N}(f) + \\la \\norm{u}_1, \\\\\n", 
            "      G(f,u) = \\iota_{\\Cc}(f,u),\n", 
            "  } $$\n", 
            "where here we included the constraints using indicator functions\n", 
            " $$ \\iota_{A}(z) = \\choice{\n", 
            "      0 \\qifq z \\in A, \\\\\n", 
            "      +\\infty \\quad \\text{otherwise}. } $$\n", 
            "The constraint linking $f$ to $u$ is\n", 
            "  $$ \\Cc = \\enscond{z = (f,u) \\in \\Zz}{ u=\\nabla f }. $$\n", 
            "\n", 
            ""
          ]
        }, 
        {
          "cell_type": "heading", 
          "level": 2, 
          "metadata": {}, 
          "source": [
            "Douglas-Rachford Algorithm\n"
          ]
        }, 
        {
          "cell_type": "markdown", 
          "metadata": {}, 
          "source": [
            "To minimize the segmentation energy, we will make use of proximal\n", 
            "splitting scheme. These scheme are adapted to solve structured non-smooth\n", 
            "optimization problem.\n", 
            "\n", 
            "\n", 
            "They basically replace the traditional gradient-descent step (that is not\n", 
            "available because neither $F$ nor $G$ are smooth functionals) by\n", 
            "proximal mappings, defined as\n", 
            "$$ \\text{Prox}_{\\gamma F}(z) = \\uargmin{y} \\frac{1}{2}\\norm{z-y}^2 + \\ga F(y) $$\n", 
            "(the same definition applies also for $G$).\n", 
            "\n", 
            "\n", 
            "The Douglas-Rachford (DR) algorithm is an iterative scheme to minimize\n", 
            "functionals of the form\n", 
            "$$ \\umin{z} F(z) + G(z) $$\n", 
            "where $F$ and $G$ are convex functions for which one is able to\n", 
            "comptue the proximal mappings $ \\text{Prox}_{\\gamma F} $ and\n", 
            "$ \\text{Prox}_{\\gamma G} $.\n", 
            "\n", 
            "\n", 
            "The important point is that $F$ and $G$ do not need to be smooth.\n", 
            "One onely needs then to be \"proximable\".\n", 
            "\n", 
            "\n", 
            "A DR iteration reads\n", 
            "$$ \\tilde z_{k+1} = \\pa{1-\\frac{\\mu}{2}} \\tilde z_k +\n", 
            "  \\frac{\\mu}{2} \\text{rPox}_{\\gamma G}( \\text{rProx}_{\\gamma F}(\\tilde z_k)  )\n", 
            "  \\qandq z_{k+1} = \\text{Prox}_{\\gamma F}(\\tilde z_{k+1},) $$\n", 
            "\n", 
            "\n", 
            "\n", 
            "We have use the following shortcuts:\n", 
            "$$   \\text{rProx}_{\\gamma F}(z) = 2\\text{Prox}_{\\gamma F}(z)-z $$\n", 
            "\n", 
            "\n", 
            "It is of course possible to inter-change the roles of $F$ and $G$,\n", 
            "which defines another set of iterations.\n", 
            "\n", 
            "\n", 
            "One can show that for any value of $\\gamma>0$, any $ 0 < \\mu < 2 $,\n", 
            "and any $\\tilde z_0$, $z_k \\rightarrow z^\\star$\n", 
            "which is a minimizer of $F+G$.\n", 
            "\n", 
            "\n", 
            "Please note that it is actually $z_k$ that converges, and not $\\tilde\n", 
            "z_k$.\n", 
            "\n", 
            "\n", 
            "To learn more about this algorithm, you can read:\n", 
            "\n", 
            "\n", 
            "_Proximal Splitting Methods in Signal Processing_, Patrick L. Combettes\n", 
            "and Jean-Christophe Pesquet, in: Fixed-Point Algorithms for Inverse\n", 
            "Problems in Science and Engineering, New York: Springer-Verlag, 2010.\n", 
            "\n", 
            ""
          ]
        }, 
        {
          "cell_type": "heading", 
          "level": 2, 
          "metadata": {}, 
          "source": [
            "Proximal Operator of \\(G\\)\n"
          ]
        }, 
        {
          "cell_type": "markdown", 
          "metadata": {}, 
          "source": [
            "The proximal mapping of $G$ is the orthogonal projection on the convex\n", 
            "set $G$:\n", 
            "$$ (\\tilde f, \\tilde u) = \\text{Prox}_{\\ga G}(f,u) = \\text{Proj}_\\Cc(f,u). $$\n", 
            "\n", 
            "\n", 
            "It can be computed by solving a linear system of equations since\n", 
            "$$ \\tilde u = \\nabla \\tilde f \\qwhereq\n", 
            "      \\tilde f = (\\text{Id}_N - \\Delta)^{-1}(f-\\text{div}(u)).  $$\n", 
            "Here, by convention, $\\Delta=\\text{div} \\circ \\nabla$ and\n", 
            "$\\text{div}=-\\nabla^*$.\n", 
            "\n", 
            "\n", 
            "Since we use periodic boundary conditions for the gradient operator, it\n", 
            "is possible to solve this linear system in $O(N \\log(N))$ operations\n", 
            "using the FFT algorithm. Note that a similar method can be used with\n", 
            "non-periodic Neumann condition (this requires to extend by symmetry the\n", 
            "image).\n", 
            "\n", 
            "\n", 
            "One indeed has\n", 
            "$$ \\forall \\om=(\\om_1,\\om_2), \\quad\n", 
            "      \\hat {\\tilde f}(\\om) =  \\frac{\\hat g(\\om)}{K(\\om)} \\qwhereq\n", 
            "      K(\\om) = 1+4\\sin\\pa{\\frac{\\pi \\om_1}{n}}^2+4\\sin\\pa{\\frac{\\pi \\om_2}{n}}^2, $$\n", 
            "where $g = f-\\text{div}(u)$ and\n", 
            "where $\\hat g$ is the 2-D discrete Fourier transform of an image $g$.\n", 
            "\n", 
            "\n", 
            "Compute $K(\\om)$.\n", 
            ""
          ]
        }, 
        {
          "cell_type": "code", 
          "collapsed": false, 
          "input": [
            "[X Y] = meshgrid(0:n-1, 0:n-1)\n", 
            "K = 1 + 4*sin(X*pi/n).^2 + 4*sin(Y*pi/n).^2"
          ], 
          "language": "python", 
          "outputs": []
        }, 
        {
          "cell_type": "markdown", 
          "metadata": {}, 
          "source": [
            "\n", 
            "\n", 
            "Define Proj$_\\Cc$.\n", 
            ""
          ]
        }, 
        {
          "cell_type": "code", 
          "collapsed": false, 
          "input": [
            "Replicate = lambda z: deal(z, Grad(z))\n", 
            "ProjC = lambda f,u: Replicate( real( ifft2( fft2( f - Div(u) ) ./ K ) ) )"
          ], 
          "language": "python", 
          "outputs": []
        }, 
        {
          "cell_type": "markdown", 
          "metadata": {}, 
          "source": [
            "\n", 
            "\n", 
            "CMT"
          ]
        }, 
        {
          "cell_type": "code", 
          "collapsed": false, 
          "input": [
            "f = randn(n)\n", 
            "A = f-Div(Grad(f))\n", 
            "B = ifft2( fft2(f).*K )\n", 
            "norm(A-B, 'fro')"
          ], 
          "language": "python", 
          "outputs": []
        }, 
        {
          "cell_type": "code", 
          "collapsed": false, 
          "input": [
            "f = randn(n)\n", 
            "[ff,uu] = ProjC( f, Grad(f) )"
          ], 
          "language": "python", 
          "outputs": []
        }, 
        {
          "cell_type": "markdown", 
          "metadata": {}, 
          "source": [
            "CMT\n", 
            "\n", 
            "\n", 
            "One has $\\text{Prox}_{\\ga G} = \\text{Proj}_{\\Cc}$, whatever the value\n", 
            "of $\\ga$.\n", 
            ""
          ]
        }, 
        {
          "cell_type": "code", 
          "collapsed": false, 
          "input": [
            "ProxG = lambda f,u,gamma: ProjC(f,u)"
          ], 
          "language": "python", 
          "outputs": []
        }, 
        {
          "cell_type": "heading", 
          "level": 2, 
          "metadata": {}, 
          "source": [
            "Proximal Operator of \\(F\\)\n"
          ]
        }, 
        {
          "cell_type": "markdown", 
          "metadata": {}, 
          "source": [
            "Recall that the function $F(f,u)$ is actully a separable sum of a function\n", 
            "that only depends on $f$ and a function that depends only on $u$:\n", 
            "$$ F(f,u) = F_0(f) + \\la \\norm{u}_1\n", 
            "      \\qwhereq F_0(f) = \\dotp{f}{w} + \\iota_{[0,1]^N}(f) $$\n", 
            "The proximal operator of $F$ reads\n", 
            "$$ \\text{Prox}_{\\ga F}(f,u) =\n", 
            "      (   \\text{Prox}_{\\ga F_0 }(f),\n", 
            "          \\text{Prox}_{\\ga \\la \\norm{\\cdot}_1 }(u) ).  $$\n", 
            "\n", 
            "\n", 
            "Define the value of $\\la>0$ (you can change this value).\n", 
            ""
          ]
        }, 
        {
          "cell_type": "code", 
          "collapsed": false, 
          "input": [
            "lambda = .1"
          ], 
          "language": "python", 
          "outputs": []
        }, 
        {
          "cell_type": "markdown", 
          "metadata": {}, 
          "source": [
            "\n", 
            "\n", 
            "The proximal operator of $F_0$ is obtained by using the projection on the box\n", 
            "constraint\n", 
            "$$ \\text{Prox}_{\\ga F_0 }(f) = \\text{Proj}_{[0,1]^N}( f - \\ga w )\n", 
            "     \\qwhereq\n", 
            "      \\text{Proj}_{[0,1]^N}(g) = \\max(0,\\min(1, g)). $$\n", 
            ""
          ]
        }, 
        {
          "cell_type": "code", 
          "collapsed": false, 
          "input": [
            "ProxF0 = lambda f,gamma: max(0, min(1, f-gamma*w)  )"
          ], 
          "language": "python", 
          "outputs": []
        }, 
        {
          "cell_type": "markdown", 
          "metadata": {}, 
          "source": [
            "\n", 
            "\n", 
            "The proximal operator of the $ \\ell^1-\\ell^2 $ norm $\\norm{\\cdot}_1$\n", 
            "is a soft thresholding of the amplitude of the vector field:\n", 
            "$$ \\text{Prox}_{\\ga \\norm{\\cdot}_1}(u)_i =\n", 
            "      \\max\\pa{ 0, \\frac{\\ga}{\\norm{u_i}} } u_i. $$\n", 
            ""
          ]
        }, 
        {
          "cell_type": "code", 
          "collapsed": false, 
          "input": [
            "amplitude = lambda u: repmat( sqrt( sum(u.^2, 3) ), [1 1 2])\n", 
            "ProxL1 = lambda u,gamma: max(0,1-gamma./max(1e-9, amplitude(u))) .* u"
          ], 
          "language": "python", 
          "outputs": []
        }, 
        {
          "cell_type": "markdown", 
          "metadata": {}, 
          "source": [
            "\n", 
            "\n", 
            "Define the proximal operator of $F$.\n", 
            ""
          ]
        }, 
        {
          "cell_type": "code", 
          "collapsed": false, 
          "input": [
            "ProxF = lambda f,u,gamma: deal( ProxF0(f,gamma), ProxL1(u,gamma*lambda) )"
          ], 
          "language": "python", 
          "outputs": []
        }, 
        {
          "cell_type": "markdown", 
          "metadata": {}, 
          "source": [
            "\n", 
            ""
          ]
        }, 
        {
          "cell_type": "heading", 
          "level": 2, 
          "metadata": {}, 
          "source": [
            "Douglas-Rachford for Convex Segmentation\n"
          ]
        }, 
        {
          "cell_type": "markdown", 
          "metadata": {}, 
          "source": [
            "Set the value of $\\mu$ and $\\gamma$.\n", 
            "You might consider using your own value to speed up the convergence.\n", 
            ""
          ]
        }, 
        {
          "cell_type": "code", 
          "collapsed": false, 
          "input": [
            "mu = 1\n", 
            "gamma = 1"
          ], 
          "language": "python", 
          "outputs": []
        }, 
        {
          "cell_type": "markdown", 
          "metadata": {}, 
          "source": [
            "\n", 
            "\n", 
            "Number of iterations.\n", 
            ""
          ]
        }, 
        {
          "cell_type": "code", 
          "collapsed": false, 
          "input": [
            "niter = 800"
          ], 
          "language": "python", 
          "outputs": []
        }, 
        {
          "cell_type": "heading", 
          "level": 3, 
          "metadata": {}, 
          "source": [
            "Exercise 2"
          ]
        }, 
        {
          "cell_type": "markdown", 
          "metadata": {}, 
          "source": [
            "\n", 
            "Implement the DR iterative algorithm on |niter| iterations.\n", 
            "Keep track of the evolution of the minimized energy\n", 
            "$$ E(f) = \\dotp{w}{f} + \\la \\norm{\\nabla f}_1 $$\n", 
            "during the iterations.\n", 
            "_Remark:_ to speedup the convergence, you can use a \"clever\"\n", 
            "initialization.\n", 
            "\n", 
            "\n", 
            "\n", 
            "\n", 
            "\n", 
            "\n", 
            "\n", 
            "\n", 
            "\n", 
            "\n", 
            "\n", 
            "\n", 
            "\n", 
            "\n", 
            "\n", 
            "\n", 
            "\n", 
            "\n", 
            "\n", 
            "\n", 
            "\n", 
            "\n", 
            "\n", 
            ""
          ]
        }, 
        {
          "cell_type": "code", 
          "collapsed": false, 
          "input": [
            "## Insert your code here."
          ], 
          "language": "python", 
          "outputs": []
        }, 
        {
          "cell_type": "markdown", 
          "metadata": {}, 
          "source": [
            "\n", 
            "\n", 
            "\n", 
            "Display the result image $f$ at convergence. Note that $f$ is almost\n", 
            "binary.\n", 
            ""
          ]
        }, 
        {
          "cell_type": "code", 
          "collapsed": false, 
          "input": [
            "\n", 
            "imageplot(f)"
          ], 
          "language": "python", 
          "outputs": []
        }, 
        {
          "cell_type": "heading", 
          "level": 3, 
          "metadata": {}, 
          "source": [
            "Exercise 3"
          ]
        }, 
        {
          "cell_type": "markdown", 
          "metadata": {}, 
          "source": [
            "\n", 
            "Test with different value of the $\\lambda$ parameter.\n", 
            "\n", 
            "\n", 
            "\n", 
            "\n", 
            "\n", 
            "\n", 
            "\n", 
            "\n", 
            "\n", 
            "\n", 
            "\n", 
            "\n", 
            "\n", 
            "\n", 
            "\n", 
            "\n", 
            "\n", 
            "\n", 
            "\n", 
            "\n", 
            "\n", 
            "\n", 
            "\n", 
            "\n", 
            "\n", 
            "\n", 
            "\n", 
            "\n", 
            ""
          ]
        }, 
        {
          "cell_type": "code", 
          "collapsed": false, 
          "input": [
            "## Insert your code here."
          ], 
          "language": "python", 
          "outputs": []
        }
      ]
    }
  ]
}