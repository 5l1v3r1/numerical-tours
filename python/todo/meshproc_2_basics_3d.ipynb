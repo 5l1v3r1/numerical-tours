{
  "metadata": {
    "name": ""
  }, 
  "nbformat": 3, 
  "nbformat_minor": 0, 
  "worksheets": [
    {
      "cells": [
        {
          "cell_type": "heading", 
          "level": 1, 
          "metadata": {}, 
          "source": [
            "Basics About 3D Meshes"
          ]
        }, 
        {
          "cell_type": "markdown", 
          "metadata": {}, 
          "source": [
            "This tour explores some basics about 3D triangulated mesh (loading,\n", 
            "display, manipulations).\n", 
            ""
          ]
        }, 
        {
          "cell_type": "markdown", 
          "metadata": {}, 
          "source": [
            "*Important:* You need to download the file `nt_toolbox.py` from the \n", 
            "root of the github repository.\n", 
            "$\\newcommand{\\dotp}[2]{\\langle #1, #2 \\rangle}\n", 
            "\\newcommand{\\enscond}[2]{\\lbrace #1, #2 \\rbrace}\n", 
            "\\newcommand{\\pd}[2]{ \\frac{ \\partial #1}{\\partial #2} }\n", 
            "\\newcommand{\\umin}[1]{\\underset{#1}{\\min}\\;}\n", 
            "\\newcommand{\\norm}[1]{\\|#1\\|}\n", 
            "\\newcommand{\\abs}[1]{\\left|#1\\right|}\n", 
            "\\newcommand{\\choice}[1]{ \\left\\{  \\begin{array}{l} #1 \\end{array} \\right. }\n", 
            "\\newcommand{\\pa}[1]{\\left(#1\\right)}\n", 
            "\\newcommand{\\qandq}{\\quad\\text{and}\\quad}\n", 
            "\\newcommand{\\qwhereq}{\\quad\\text{where}\\quad}\n", 
            "\\newcommand{\\qifq}{ \\quad \\text{if} \\quad }\n", 
            "\\newcommand{\\qarrq}{ \\quad \\Longrightarrow \\quad }\n", 
            "\\newcommand{\\ZZ}{\\mathbb{Z}}\n", 
            "\\newcommand{\\RR}{\\mathbb{R}}\n", 
            "\\newcommand{\\Nn}{\\mathcal{N}}\n", 
            "\\newcommand{\\Hh}{\\mathcal{H}}\n", 
            "\\newcommand{\\Bb}{\\mathcal{B}}\n", 
            "\\newcommand{\\EE}{\\mathbb{E}}\n", 
            "\\newcommand{\\CC}{\\mathbb{C}}\n", 
            "\\newcommand{\\si}{\\sigma}\n", 
            "\\newcommand{\\al}{\\alpha}\n", 
            "\\newcommand{\\la}{\\lambda}\n", 
            "\\newcommand{\\ga}{\\gamma}\n", 
            "\\newcommand{\\Ga}{\\Gamma}\n", 
            "\\newcommand{\\La}{\\Lambda}\n", 
            "\\newcommand{\\si}{\\sigma}\n", 
            "\\newcommand{\\Si}{\\Sigma}\n", 
            "\\newcommand{\\be}{\\beta}\n", 
            "\\newcommand{\\de}{\\delta}\n", 
            "\\newcommand{\\De}{\\Delta}\n", 
            "\\renewcommand{\\phi}{\\varphi}\n", 
            "\\renewcommand{\\th}{\\theta}\n", 
            "\\newcommand{\\om}{\\omega}\n", 
            "\\newcommand{\\Om}{\\Omega}\n", 
            "$"
          ]
        }, 
        {
          "cell_type": "code", 
          "collapsed": false, 
          "input": [
            "from nt_toolbox import *", 
            "%matplotlib inline", 
            "%load_ext autoreload", 
            "%autoreload 2"
          ], 
          "language": "python", 
          "outputs": []
        }, 
        {
          "cell_type": "markdown", 
          "metadata": {}, 
          "source": [
            "\n", 
            ""
          ]
        }, 
        {
          "cell_type": "heading", 
          "level": 2, 
          "metadata": {}, 
          "source": [
            "3D Mesh Loading and Displaying\n"
          ]
        }, 
        {
          "cell_type": "markdown", 
          "metadata": {}, 
          "source": [
            "A 3D mesh is composed of a |vertex| array of size |(3,n)| that contains\n", 
            "the position in 3D (or sometimes 2D) of the vertices, and a |face| array\n", 
            "of dimension |(3,m)| that contains the indexes of each triangulated face.\n", 
            "\n", 
            "\n", 
            "One can load the mesh from a file.\n", 
            ""
          ]
        }, 
        {
          "cell_type": "code", 
          "collapsed": false, 
          "input": [
            "name = 'elephant-50kv'\n", 
            "options.name = name; % useful for displaying\n", 
            "[vertex,face] = read_mesh(name)"
          ], 
          "language": "python", 
          "outputs": []
        }, 
        {
          "cell_type": "markdown", 
          "metadata": {}, 
          "source": [
            "\n", 
            "\n", 
            "The |face| matrix store the topology (connectivity) of the mesh, while\n", 
            "|vertex| stores the geometry (position of the points). In the following,\n", 
            "we consider modification of the geometry only.\n", 
            "\n", 
            "\n", 
            "One can display the mesh as a piecewise linear surface.\n", 
            ""
          ]
        }, 
        {
          "cell_type": "code", 
          "collapsed": false, 
          "input": [
            "\n", 
            "plot_mesh(vertex, face)\n", 
            "shading('interp')"
          ], 
          "language": "python", 
          "outputs": []
        }, 
        {
          "cell_type": "markdown", 
          "metadata": {}, 
          "source": [
            "\n", 
            "\n", 
            "You can zoom on the mesh and display its triangulated faces.\n", 
            ""
          ]
        }, 
        {
          "cell_type": "code", 
          "collapsed": false, 
          "input": [
            "\n", 
            "for i in 1:4:\n", 
            "    subplot(2,2,i)\n", 
            "    plot_mesh(vertex, face)\n", 
            "    shading('faceted')\n", 
            "    zoom(1.8^(i+1))\n", 
            ""
          ], 
          "language": "python", 
          "outputs": []
        }, 
        {
          "cell_type": "heading", 
          "level": 2, 
          "metadata": {}, 
          "source": [
            "Functions on Meshes\n"
          ]
        }, 
        {
          "cell_type": "markdown", 
          "metadata": {}, 
          "source": [
            "A function assign a value to each vertex of the mesh. The vertex position\n", 
            "stored in the matrix |vertex| are actually 3 functions X/Y/Z.\n", 
            "\n", 
            "\n", 
            "Display the function X.\n", 
            ""
          ]
        }, 
        {
          "cell_type": "code", 
          "collapsed": false, 
          "input": [
            "options.face_vertex_color = vertex(1,:)'\n", 
            "\n", 
            "plot_mesh(vertex, face, options)\n", 
            "colormap(jet(256))"
          ], 
          "language": "python", 
          "outputs": []
        }, 
        {
          "cell_type": "markdown", 
          "metadata": {}, 
          "source": [
            "\n", 
            "\n", 
            "\n", 
            "Display the function cos(10*Y).\n", 
            ""
          ]
        }, 
        {
          "cell_type": "code", 
          "collapsed": false, 
          "input": [
            "options.face_vertex_color = cos(50*vertex(2,:)')\n", 
            "\n", 
            "plot_mesh(vertex, face, options)\n", 
            "colormap(jet(256))"
          ], 
          "language": "python", 
          "outputs": []
        }, 
        {
          "cell_type": "markdown", 
          "metadata": {}, 
          "source": [
            "\n", 
            "\n", 
            "Remove coloring.\n", 
            ""
          ]
        }, 
        {
          "cell_type": "code", 
          "collapsed": false, 
          "input": [
            "options.face_vertex_color = []"
          ], 
          "language": "python", 
          "outputs": []
        }, 
        {
          "cell_type": "heading", 
          "level": 2, 
          "metadata": {}, 
          "source": [
            "Mesh Modification\n"
          ]
        }, 
        {
          "cell_type": "markdown", 
          "metadata": {}, 
          "source": [
            "The |vertex| data can be modified, while keeping the connectivity |face|\n", 
            "fixed.\n", 
            "\n", 
            "\n", 
            "Random perturbation can be added to the positions (here only on the right side of the mesh).\n", 
            ""
          ]
        }, 
        {
          "cell_type": "code", 
          "collapsed": false, 
          "input": [
            "noise = randn(size(vertex))*.01\n", 
            "noise(:,vertex(1,:)>mean(vertex(1,:))) = 0\n", 
            "vertex1 = vertex+noise"
          ], 
          "language": "python", 
          "outputs": []
        }, 
        {
          "cell_type": "markdown", 
          "metadata": {}, 
          "source": [
            "\n", 
            "\n", 
            "Display.\n", 
            ""
          ]
        }, 
        {
          "cell_type": "code", 
          "collapsed": false, 
          "input": [
            "\n", 
            "subplot(1,2,1)\n", 
            "plot_mesh(vertex,face, options); axis('tight')\n", 
            "subplot(1,2,2)\n", 
            "plot_mesh(vertex1,face, options); axis('tight')"
          ], 
          "language": "python", 
          "outputs": []
        }, 
        {
          "cell_type": "markdown", 
          "metadata": {}, 
          "source": [
            "\n", 
            "\n", 
            "The mesh can be warped.\n", 
            "\n", 
            ""
          ]
        }, 
        {
          "cell_type": "code", 
          "collapsed": false, 
          "input": [
            "vertex1 = sign(vertex) .* (abs(vertex)/max(abs(vertex(:)))).^1.8"
          ], 
          "language": "python", 
          "outputs": []
        }, 
        {
          "cell_type": "markdown", 
          "metadata": {}, 
          "source": [
            "\n", 
            "\n", 
            "Display.\n", 
            ""
          ]
        }, 
        {
          "cell_type": "code", 
          "collapsed": false, 
          "input": [
            "\n", 
            "subplot(1,2,1)\n", 
            "plot_mesh(vertex,face, options); axis('tight')\n", 
            "subplot(1,2,2)\n", 
            "plot_mesh(vertex1,face, options); axis('tight')"
          ], 
          "language": "python", 
          "outputs": []
        }, 
        {
          "cell_type": "markdown", 
          "metadata": {}, 
          "source": [
            "\n", 
            ""
          ]
        }, 
        {
          "cell_type": "heading", 
          "level": 2, 
          "metadata": {}, 
          "source": [
            "Normal Computation\n"
          ]
        }, 
        {
          "cell_type": "markdown", 
          "metadata": {}, 
          "source": [
            "The norma of the mesh are easily computed on each face (by computing the\n", 
            "normal to the triangle), and can then be interpolated to the edge and vertices by averaging the surrounding faces.\n", 
            "\n", 
            "\n", 
            "Load a small mesh for the display of the normals.\n", 
            ""
          ]
        }, 
        {
          "cell_type": "code", 
          "collapsed": false, 
          "input": [
            "name = 'mushroom'\n", 
            "options.name = name\n", 
            "[vertex,face] = read_mesh(name)"
          ], 
          "language": "python", 
          "outputs": []
        }, 
        {
          "cell_type": "markdown", 
          "metadata": {}, 
          "source": [
            "\n", 
            "\n", 
            "\n", 
            "You can compute the normal to the mesh per vertex and per face"
          ]
        }, 
        {
          "cell_type": "code", 
          "collapsed": false, 
          "input": [
            "[normal,normalf] = compute_normal(vertex,face)"
          ], 
          "language": "python", 
          "outputs": []
        }, 
        {
          "cell_type": "markdown", 
          "metadata": {}, 
          "source": [
            "\n", 
            "\n", 
            "Display the mesh and the normals.\n", 
            ""
          ]
        }, 
        {
          "cell_type": "code", 
          "collapsed": false, 
          "input": [
            "\n", 
            "options.normal = normal\n", 
            "plot_mesh(vertex,face,options); shading('interp')\n", 
            "axis('tight')\n", 
            "options.normal = []"
          ], 
          "language": "python", 
          "outputs": []
        }, 
        {
          "cell_type": "markdown", 
          "metadata": {}, 
          "source": [
            "\n", 
            "\n", 
            "Re-load a larger mesh.\n", 
            ""
          ]
        }, 
        {
          "cell_type": "code", 
          "collapsed": false, 
          "input": [
            "name = 'elephant-50kv'\n", 
            "options.name = name\n", 
            "[vertex,face] = read_mesh(name)"
          ], 
          "language": "python", 
          "outputs": []
        }, 
        {
          "cell_type": "markdown", 
          "metadata": {}, 
          "source": [
            "\n", 
            "\n", 
            "You can extrude the mesh along the normal direction.\n", 
            ""
          ]
        }, 
        {
          "cell_type": "code", 
          "collapsed": false, 
          "input": [
            "[normal,normalf] = compute_normal(vertex,face)\n", 
            "vertex1 = vertex + .02*normal\n", 
            "vertex2 = vertex + .04*normal"
          ], 
          "language": "python", 
          "outputs": []
        }, 
        {
          "cell_type": "markdown", 
          "metadata": {}, 
          "source": [
            "\n", 
            "\n", 
            "Display.\n", 
            "\n", 
            "no color for display"
          ]
        }, 
        {
          "cell_type": "code", 
          "collapsed": false, 
          "input": [
            "options.face_vertex_color =  []\n", 
            "\n", 
            "subplot(1,2,1)\n", 
            "plot_mesh(vertex1,face,options); shading('interp'); axis('tight')\n", 
            "subplot(1,2,2)\n", 
            "plot_mesh(vertex2,face,options); shading('interp'); axis('tight')"
          ], 
          "language": "python", 
          "outputs": []
        }, 
        {
          "cell_type": "markdown", 
          "metadata": {}, 
          "source": [
            "\n", 
            ""
          ]
        }, 
        {
          "cell_type": "heading", 
          "level": 2, 
          "metadata": {}, 
          "source": [
            "Differential Calculus on 3D Mesh\n"
          ]
        }, 
        {
          "cell_type": "markdown", 
          "metadata": {}, 
          "source": [
            "You can compute matrix (sparse) of differential and averaging operators\n", 
            "on 3D meshes.\n", 
            "\n", 
            "\n", 
            "There are several ways to define these operators, first depending on the\n", 
            "precise definition of the weight used for the computation. Here we use\n", 
            "'distance' weighs, but you can try with 'conformal' (that are more\n", 
            "precise since they depend on angle, but they are also slower to compute)\n", 
            "and 'combinatorial' (that are less accurated since they depend only on\n", 
            "the topology of |face|, but are fast to compute).\n", 
            "\n", 
            "\n", 
            "A weight matrix is a weighted adjacency matrix that acts as a low pass\n", 
            "filter.\n", 
            ""
          ]
        }, 
        {
          "cell_type": "code", 
          "collapsed": false, 
          "input": [
            "laplacian_type = 'distance'"
          ], 
          "language": "python", 
          "outputs": []
        }, 
        {
          "cell_type": "markdown", 
          "metadata": {}, 
          "source": [
            "\n", 
            "\n", 
            "A laplacian is an high pass operator that compute second order\n", 
            "derivatives. Here we use a 'distance'-based Laplacian, that is fast to\n", 
            "compute and quite accurate.\n", 
            "\n", 
            "compute a normalized symmetric Laplacian"
          ]
        }, 
        {
          "cell_type": "code", 
          "collapsed": false, 
          "input": [
            "options.symmetrize = 0\n", 
            "options.normalize = 1\n", 
            "L = compute_mesh_laplacian(vertex,face,laplacian_type,options)"
          ], 
          "language": "python", 
          "outputs": []
        }, 
        {
          "cell_type": "markdown", 
          "metadata": {}, 
          "source": [
            "compute a non normalized Laplacian"
          ]
        }, 
        {
          "cell_type": "code", 
          "collapsed": false, 
          "input": [
            "options.symmetrize = 0\n", 
            "options.normalize = 1\n", 
            "L0 = compute_mesh_laplacian(vertex,face,laplacian_type,options)"
          ], 
          "language": "python", 
          "outputs": []
        }, 
        {
          "cell_type": "markdown", 
          "metadata": {}, 
          "source": [
            "\n", 
            "\n", 
            "We can compute the Laplacian of a function on the mesh, for instance the\n", 
            "X and Y position.\n", 
            ""
          ]
        }, 
        {
          "cell_type": "code", 
          "collapsed": false, 
          "input": [
            "v1 = L*vertex(1,:)'\n", 
            "v2 = L*vertex(2,:)'"
          ], 
          "language": "python", 
          "outputs": []
        }, 
        {
          "cell_type": "markdown", 
          "metadata": {}, 
          "source": [
            "\n", 
            "\n", 
            "Clip the values to enhance the color\n", 
            "display.\n", 
            ""
          ]
        }, 
        {
          "cell_type": "code", 
          "collapsed": false, 
          "input": [
            "vmax = median(abs(v1)*5); v1 = clamp(v1,-vmax,vmax)\n", 
            "vmax = median(abs(v2)*5); v2 = clamp(v2,-vmax,vmax)"
          ], 
          "language": "python", 
          "outputs": []
        }, 
        {
          "cell_type": "markdown", 
          "metadata": {}, 
          "source": [
            "\n", 
            "\n", 
            "Display.\n", 
            ""
          ]
        }, 
        {
          "cell_type": "code", 
          "collapsed": false, 
          "input": [
            "\n", 
            "subplot(1,2,1)\n", 
            "options.face_vertex_color = v1\n", 
            "plot_mesh(vertex,face, options)\n", 
            "title('Laplacian of X')\n", 
            "subplot(1,2,2)\n", 
            "options.face_vertex_color = v2\n", 
            "plot_mesh(vertex,face, options)\n", 
            "title('Laplacian of Y')\n", 
            "options.face_vertex_color = []\n", 
            "colormap(jet(256))"
          ], 
          "language": "python", 
          "outputs": []
        }, 
        {
          "cell_type": "heading", 
          "level": 2, 
          "metadata": {}, 
          "source": [
            "Curvatures\n"
          ]
        }, 
        {
          "cell_type": "markdown", 
          "metadata": {}, 
          "source": [
            "Second order derivatives gives access to curvatures direction and\n", 
            "informations.\n", 
            "\n", 
            "\n", 
            "Load a mesh\n", 
            ""
          ]
        }, 
        {
          "cell_type": "code", 
          "collapsed": false, 
          "input": [
            "name = 'elephant-50kv'\n", 
            "options.name = name; % useful for displaying\n", 
            "[vertex,face] = read_mesh(name)"
          ], 
          "language": "python", 
          "outputs": []
        }, 
        {
          "cell_type": "markdown", 
          "metadata": {}, 
          "source": [
            "\n", 
            "\n", 
            "Since higher order derivative are quite sensitive to noise, one needs to computes them using local\n", 
            "averaging. You can compute curvature quantities using local avergaging and PCA\n", 
            "analysis.\n", 
            "\n", 
            "\n", 
            "Compute the curvature.\n", 
            ""
          ]
        }, 
        {
          "cell_type": "code", 
          "collapsed": false, 
          "input": [
            "options.curvature_smoothing = 10\n", 
            "options.verb = 0\n", 
            "[Umin,Umax,Cmin,Cmax,Cmean,Cgauss,Normal] = compute_curvature(vertex,face,options)"
          ], 
          "language": "python", 
          "outputs": []
        }, 
        {
          "cell_type": "markdown", 
          "metadata": {}, 
          "source": [
            "\n", 
            "\n", 
            "Display.\n", 
            ""
          ]
        }, 
        {
          "cell_type": "code", 
          "collapsed": false, 
          "input": [
            "\n", 
            "subplot(1,2,1)\n", 
            "options.face_vertex_color = perform_saturation(Cgauss,1.2)\n", 
            "plot_mesh(vertex,face, options); shading interp; colormap jet(256)\n", 
            "title('Gaussian curvature')\n", 
            "subplot(1,2,2)\n", 
            "options.face_vertex_color = perform_saturation(abs(Cmin)+abs(Cmax),1.2)\n", 
            "plot_mesh(vertex,face, options); shading interp; colormap jet(256)\n", 
            "title('Total curvature')"
          ], 
          "language": "python", 
          "outputs": []
        }, 
        {
          "cell_type": "markdown", 
          "metadata": {}, 
          "source": [
            "\n", 
            ""
          ]
        }, 
        {
          "cell_type": "heading", 
          "level": 2, 
          "metadata": {}, 
          "source": [
            "Tetrahedral Mesh Loading and Displaying\n"
          ]
        }, 
        {
          "cell_type": "markdown", 
          "metadata": {}, 
          "source": [
            "You can load and display volumetric tetrahedral meshes.\n", 
            "Important: .tet files and *not* included in the toolbox distribution (too\n", 
            "large files). You should download them from\n", 
            "\n", 
            "\n", 
            "http://www.aimatshape.net/\n", 
            "\n", 
            "\n", 
            "Load a volumetric mesh.\n", 
            ""
          ]
        }, 
        {
          "cell_type": "code", 
          "collapsed": false, 
          "input": [
            "[vertex,face] = read_tet('toolbox_additional/hand.tet')"
          ], 
          "language": "python", 
          "outputs": []
        }, 
        {
          "cell_type": "markdown", 
          "metadata": {}, 
          "source": [
            "\n", 
            "\n", 
            "Display it.\n", 
            ""
          ]
        }, 
        {
          "cell_type": "code", 
          "collapsed": false, 
          "input": [
            "\n", 
            "plot_mesh(vertex,face,options)"
          ], 
          "language": "python", 
          "outputs": []
        }
      ]
    }
  ]
}