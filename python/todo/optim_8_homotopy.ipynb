{
  "metadata": {
    "name": ""
  }, 
  "nbformat": 3, 
  "nbformat_minor": 0, 
  "worksheets": [
    {
      "cells": [
        {
          "cell_type": "heading", 
          "level": 1, 
          "metadata": {}, 
          "source": [
            "Homotopy Continuation"
          ]
        }, 
        {
          "cell_type": "markdown", 
          "metadata": {}, 
          "source": [
            "This numerical tour details the homotopy algorithm to solve $\\ell^1$\n", 
            "regularization.\n", 
            ""
          ]
        }, 
        {
          "cell_type": "markdown", 
          "metadata": {}, 
          "source": [
            "*Important:* You need to download the file `nt_toolbox.py` from the \n", 
            "root of the github repository.\n", 
            "$\\newcommand{\\dotp}[2]{\\langle #1, #2 \\rangle}\n", 
            "\\newcommand{\\enscond}[2]{\\lbrace #1, #2 \\rbrace}\n", 
            "\\newcommand{\\pd}[2]{ \\frac{ \\partial #1}{\\partial #2} }\n", 
            "\\newcommand{\\umin}[1]{\\underset{#1}{\\min}\\;}\n", 
            "\\newcommand{\\norm}[1]{\\|#1\\|}\n", 
            "\\newcommand{\\abs}[1]{\\left|#1\\right|}\n", 
            "\\newcommand{\\choice}[1]{ \\left\\{  \\begin{array}{l} #1 \\end{array} \\right. }\n", 
            "\\newcommand{\\pa}[1]{\\left(#1\\right)}\n", 
            "\\newcommand{\\qandq}{\\quad\\text{and}\\quad}\n", 
            "\\newcommand{\\qwhereq}{\\quad\\text{where}\\quad}\n", 
            "\\newcommand{\\qifq}{ \\quad \\text{if} \\quad }\n", 
            "\\newcommand{\\qarrq}{ \\quad \\Longrightarrow \\quad }\n", 
            "\\newcommand{\\ZZ}{\\mathbb{Z}}\n", 
            "\\newcommand{\\RR}{\\mathbb{R}}\n", 
            "\\newcommand{\\Nn}{\\mathcal{N}}\n", 
            "\\newcommand{\\Hh}{\\mathcal{H}}\n", 
            "\\newcommand{\\Bb}{\\mathcal{B}}\n", 
            "\\newcommand{\\EE}{\\mathbb{E}}\n", 
            "\\newcommand{\\CC}{\\mathbb{C}}\n", 
            "\\newcommand{\\si}{\\sigma}\n", 
            "\\newcommand{\\al}{\\alpha}\n", 
            "\\newcommand{\\la}{\\lambda}\n", 
            "\\newcommand{\\ga}{\\gamma}\n", 
            "\\newcommand{\\Ga}{\\Gamma}\n", 
            "\\newcommand{\\La}{\\Lambda}\n", 
            "\\newcommand{\\si}{\\sigma}\n", 
            "\\newcommand{\\Si}{\\Sigma}\n", 
            "\\newcommand{\\be}{\\beta}\n", 
            "\\newcommand{\\de}{\\delta}\n", 
            "\\newcommand{\\De}{\\Delta}\n", 
            "\\renewcommand{\\phi}{\\varphi}\n", 
            "\\renewcommand{\\th}{\\theta}\n", 
            "\\newcommand{\\om}{\\omega}\n", 
            "\\newcommand{\\Om}{\\Omega}\n", 
            "$"
          ]
        }, 
        {
          "cell_type": "code", 
          "collapsed": false, 
          "input": [
            "from nt_toolbox import *", 
            "%matplotlib inline", 
            "%load_ext autoreload", 
            "%autoreload 2"
          ], 
          "language": "python", 
          "outputs": []
        }, 
        {
          "cell_type": "markdown", 
          "metadata": {}, 
          "source": [
            "\n", 
            "$\\ell^1$ Regularization\n", 
            "We consider the following linear inverse problem\n", 
            "$$ y = \\Phi x_0 + w  \\in \\RR^P$$\n", 
            "where $x_0 \\in \\RR^N$ is the (unknown) signal to recover, $w \\in\n", 
            "\\RR^P$ is a noise vector, and $\\Phi \\in \\RR^{P \\times N}$ models the\n", 
            "acquisition device.\n", 
            "\n", 
            "\n", 
            "Size of the problem.\n", 
            ""
          ]
        }, 
        {
          "cell_type": "code", 
          "collapsed": false, 
          "input": [
            "N = 200\n", 
            "P = round(N/4)"
          ], 
          "language": "python", 
          "outputs": []
        }, 
        {
          "cell_type": "markdown", 
          "metadata": {}, 
          "source": [
            "\n", 
            "\n", 
            "We consider here a simple compressed sensing scenario where the operator\n", 
            "$\\Phi$ is a realization of a Gaussian random matrix.\n", 
            ""
          ]
        }, 
        {
          "cell_type": "code", 
          "collapsed": false, 
          "input": [
            "Phi = randn(P,N)"
          ], 
          "language": "python", 
          "outputs": []
        }, 
        {
          "cell_type": "markdown", 
          "metadata": {}, 
          "source": [
            "\n", 
            "\n", 
            "Sparsity of the input data.\n", 
            ""
          ]
        }, 
        {
          "cell_type": "code", 
          "collapsed": false, 
          "input": [
            "s = round(P/5)"
          ], 
          "language": "python", 
          "outputs": []
        }, 
        {
          "cell_type": "markdown", 
          "metadata": {}, 
          "source": [
            "\n", 
            "\n", 
            "Sparse vector.\n", 
            ""
          ]
        }, 
        {
          "cell_type": "code", 
          "collapsed": false, 
          "input": [
            "I = randperm(N); I = I(1:s)\n", 
            "x0 = zeros(N,1); x0(I) = sign(randn(s,1))"
          ], 
          "language": "python", 
          "outputs": []
        }, 
        {
          "cell_type": "markdown", 
          "metadata": {}, 
          "source": [
            "\n", 
            "\n", 
            "Noise level.\n", 
            ""
          ]
        }, 
        {
          "cell_type": "code", 
          "collapsed": false, 
          "input": [
            "sigma = 0.05 * norm(Phi*x0)/sqrt(P)"
          ], 
          "language": "python", 
          "outputs": []
        }, 
        {
          "cell_type": "markdown", 
          "metadata": {}, 
          "source": [
            "\n", 
            "\n", 
            "Measurements $y=\\Phi x_0 + w$.\n", 
            ""
          ]
        }, 
        {
          "cell_type": "code", 
          "collapsed": false, 
          "input": [
            "y = Phi*x0 + sigma*randn(P,1)"
          ], 
          "language": "python", 
          "outputs": []
        }, 
        {
          "cell_type": "markdown", 
          "metadata": {}, 
          "source": [
            "\n", 
            "\n", 
            "To recover an approximation of the signal $x_0$, we use the Basis\n", 
            "Pursuit denoising method, that use the $\\ell^1$ norm as a sparsity\n", 
            "enforcing penalty\n", 
            "$$ x_\\la \\in \\uargmin{x \\in \\RR^N} \\frac{1}{2} \\norm{y-\\Phi x}^2 + \\la \\norm{x}_1\n", 
            "      \\quad (\\Pp_\\la), $$\n", 
            "where the $\\ell^1$ norm is defined as\n", 
            "$$ \\norm{x}_1 = \\sum_i \\abs{x_i}. $$\n", 
            "\n", 
            "\n", 
            "The parameter $\\la$ should be set in accordance to the noise level\n", 
            "$\\norm{w}$.\n", 
            "\n", 
            "\n", 
            "In the case where there is no noise, $w=0$, we let $\\la \\rightarrow\n", 
            "0^+$ and solve the Basis Pursuit constrained optimization\n", 
            "$$ x_{0^+} \\in \\uargmin{\\Phi x= y} \\norm{x}_1. $$\n", 
            "\n", 
            "\n", 
            "In order to avoid technical difficulties, we assume that $\\Phi$ is such\n", 
            "that $x_\\la$ is uniquely defined. This is the case with probability 1\n", 
            "when $\\Phi$ is a realization of a Gaussian matrix field.\n", 
            "\n", 
            "\n", 
            "In the following, for some index set $I \\subset \\{1,\\ldots,N\\}$, we\n", 
            "denote\n", 
            "$$ \\Phi_I = (\\phi_i)_{i \\in I} \\in \\RR^{P \\times \\abs{I}} $$\n", 
            "the sub-matrix obtained by extracting the columns\n", 
            "$\\phi_i \\in \\RR^P$ of $\\Phi$ indexed by $I$.\n", 
            "The support of a vector is\n", 
            "$$ \\text{support}(x) =  \\enscond{i \\in \\{1,\\ldots,N\\}}{ x_i \\neq 0 }. $$\n", 
            "\n", 
            "\n", 
            "Standard results from convex analysis shows that $x_\\la$ is a solution\n", 
            "of $\\Pp_\\la$ if and only if\n", 
            "$$  \\choice{\n", 
            "      \\text{(C1)}  \\qquad \\Phi_I^*( y-\\Phi_I x_{\\la,I} ) = \\la \\text{sign}(x_{\\la,I}), \\\\\n", 
            "      \\text{(C2)}  \\qquad \\norm{ \\Phi_{J}^*( y-\\Phi_I x_{\\la,I} ) }_\\infty \\leq \\la\n", 
            "  }\n", 
            "$$\n", 
            "where $I=\\text{support}(x_\\la)$ and $J = I^c$ is the complementary.\n", 
            ""
          ]
        }, 
        {
          "cell_type": "heading", 
          "level": 2, 
          "metadata": {}, 
          "source": [
            "Homotopy Algorithm\n"
          ]
        }, 
        {
          "cell_type": "markdown", 
          "metadata": {}, 
          "source": [
            "The homotopy algorithm computes the solution $x_\\la$ for all values of\n", 
            "$\\la \\in \\RR^+$. More precisely, it can be shown that\n", 
            "$$ \\la \\in \\RR^+ \\mapsto x_\\la \\in \\RR^N $$\n", 
            "is a piecewise affine map, and the homotopy algorihtm computes the\n", 
            "solution vectors\n", 
            "$$ x_{\\la_1},\\ldots,x_{\\la_K} \\qwhereq 0^+ = \\la_K < \\ldots < \\la_{1} $$\n", 
            "at the breakpoints $(x_{\\la_k})_k$ of this piecewise affine path.\n", 
            "\n", 
            "\n", 
            "This algorithm was introduced in the over-determined setting in:\n", 
            "\n", 
            "\n", 
            "Michael R. Osborne, Brett Presnell, and Berwin A. Turlach.\n", 
            "_On the lasso and its dual_.\n", 
            "Journal of Computational and Graphical Statistics, 9:319?337, 2000.\n", 
            "\n", 
            "\n", 
            "It is extended to an arbitrary matrix $\\Phi$ in:\n", 
            "\n", 
            "\n", 
            "Dmitry M. Malioutov, Mujdat Cetin, and Alan S. Willsky.\n", 
            "_Homotopy continuation for sparse signal representation_.\n", 
            "In IEEE Int. Conf. Acoustics, Speech and Signal Processing, Philadelphia, PA, volume 5, pages 733?736, March 2005.\n", 
            "\n", 
            "\n", 
            "This algorithm is closely related to the LARS algorithm, that is an\n", 
            "approximate method:\n", 
            "\n", 
            "\n", 
            "Bradley Efron, Trevor Hastie, Iain M. Johnstone, and Robert Tibshirani.\n", 
            "_Least angle regression_.\n", 
            "The Annals of Statistics, 32(2):407?499, 2004.\n", 
            "\n", 
            "\n", 
            "A theoretical analysis of the homotopy algorithm when the dictionary\n", 
            "$\\Phi$ is incoherent is performed in:\n", 
            "\n", 
            "\n", 
            "David L. Donoho, Yaakov Tsaig,\n", 
            "_Fast Solution of l1-Norm Minimization Problems When the Solution May Be Sparse_.\n", 
            "IEEE Transactions on Information Theory 54(11): 4789-4812, 2008.\n", 
            "\n", 
            "\n", 
            "For large values of $\\la>\\la_1$, the solution is $x_\\la = 0$.\n", 
            "The solution $0$ satisfies the constraints (C2) until\n", 
            "$$ \\la = \\la_1 = \\norm{ \\Phi^* y }_\\infty $$\n", 
            "The support is then a single Dirac\n", 
            "$$ I(x_\\la) = \\{i_0\\} \\qwhereq \\abs{\\dotp{\\phi_{i_0}}{y}} = \\norm{ \\Phi^* y }_\\infty. $$\n", 
            "\n", 
            "\n", 
            "We thus initialize the algorithm with this value of $\\la=\\la_1$ and $I$, together with the solution $x_\\la=0$.\n", 
            ""
          ]
        }, 
        {
          "cell_type": "code", 
          "collapsed": false, 
          "input": [
            "C = Phi'*y\n", 
            "[lambda,I] = max(abs(C))\n", 
            "x = zeros(N,1)"
          ], 
          "language": "python", 
          "outputs": []
        }, 
        {
          "cell_type": "heading", 
          "level": 2, 
          "metadata": {}, 
          "source": [
            "One Iteration of the Algorithm\n"
          ]
        }, 
        {
          "cell_type": "markdown", 
          "metadata": {}, 
          "source": [
            "The algorithm proceeds by computing iteratively the value of $x_\\la$ at\n", 
            "the breakpoints $(\\la_k)_k$ for increasing values of $k>1$.\n", 
            "\n", 
            "\n", 
            "We suppose we are at iteration $k$ and have compute the solution $x_\\la$\n", 
            "at $\\la=\\la_k$. For small values of $\\ga>0$, the solution $x_{\\la-\\ga}$\n", 
            "is supported on the fixed support $I$ that has already been computed.\n", 
            "\n", 
            "\n", 
            "Compute $J=I^c$ the complementary support.\n", 
            ""
          ]
        }, 
        {
          "cell_type": "code", 
          "collapsed": false, 
          "input": [
            "J = setdiff(1:N, I)"
          ], 
          "language": "python", 
          "outputs": []
        }, 
        {
          "cell_type": "markdown", 
          "metadata": {}, 
          "source": [
            "\n", 
            "\n", 
            "Compute the correlations $c=\\Phi^*(y-\\Phi x_\\la)$.\n", 
            ""
          ]
        }, 
        {
          "cell_type": "code", 
          "collapsed": false, 
          "input": [
            "c = Phi'*(y-Phi*x)"
          ], 
          "language": "python", 
          "outputs": []
        }, 
        {
          "cell_type": "markdown", 
          "metadata": {}, 
          "source": [
            "\n", 
            "\n", 
            "If $c=0$, the algorithm should stop.\n", 
            "In practice, one can test if |norm(c)<1e-6|.\n", 
            "\n", 
            "\n", 
            "We can display the correlations $c$ to check that conditions C1 and C2 are enforced\n", 
            "for $x_\\la$.\n", 
            ""
          ]
        }, 
        {
          "cell_type": "code", 
          "collapsed": false, 
          "input": [
            "clf; hold on\n", 
            "stem( I, c(I)/lambda, 'b.' )\n", 
            "stem( J, c(J)/lambda, 'r.' )\n", 
            "plot([1 N], [1 1], 'k--')\n", 
            "plot([1 N],-[1 1], 'k--')\n", 
            "axis([1 N -1.05 1.05])"
          ], 
          "language": "python", 
          "outputs": []
        }, 
        {
          "cell_type": "markdown", 
          "metadata": {}, 
          "source": [
            "\n", 
            "\n", 
            "\n", 
            "The mapping $\\ga \\mapsto x_{\\la-\\ga} \\in \\RR^N$ is\n", 
            "affine as long as long as $\\text{sign}(x_{\\la-\\ga}) $ is constant equal\n", 
            "to $s$ defined as\n", 
            "$$ s_I = \\text{sign}(c_I) \\qandq s_J=0 $$\n", 
            ""
          ]
        }, 
        {
          "cell_type": "code", 
          "collapsed": false, 
          "input": [
            "sI = sign(c(I))"
          ], 
          "language": "python", 
          "outputs": []
        }, 
        {
          "cell_type": "markdown", 
          "metadata": {}, 
          "source": [
            "\n", 
            "\n", 
            "Since the sign of the solution is constant equal to $s_I$,\n", 
            "under the condition that $\\Phi_I^* \\Phi_I$ is invertible,\n", 
            "the equation C1 shows that the solution can be expressed as\n", 
            "$$ x_{\\la-\\ga,I} = \\Phi_I^+y - (\\la-\\ga)(\\Phi_I^* \\Phi_I)^{-1}s_I $$\n", 
            "and hence one can compute explicitly $x_{\\la-\\ga}$ from the knowledge\n", 
            "of $x_{\\la}$\n", 
            "$$ x_{\\la-\\ga} = x_{\\la} + \\ga d \\qwhereq\n", 
            "  d_I = (\\Phi_I^* \\Phi_I)^{-1}s_I, \\qandq d_J=0. $$\n", 
            "\n", 
            "\n", 
            "Compute the update direction $d$.\n", 
            ""
          ]
        }, 
        {
          "cell_type": "code", 
          "collapsed": false, 
          "input": [
            "d = zeros(N,1)\n", 
            "d(I) = (Phi(:,I)'*Phi(:,I)) \\ sI"
          ], 
          "language": "python", 
          "outputs": []
        }, 
        {
          "cell_type": "markdown", 
          "metadata": {}, 
          "source": [
            "\n", 
            "\n", 
            "A useful vector $v = \\Phi_I d_I$.\n", 
            ""
          ]
        }, 
        {
          "cell_type": "code", 
          "collapsed": false, 
          "input": [
            "v = Phi(:,I)*d(I)"
          ], 
          "language": "python", 
          "outputs": []
        }, 
        {
          "cell_type": "markdown", 
          "metadata": {}, 
          "source": [
            "\n", 
            "\n", 
            "This affine expression of $x_{\\la-\\ga}$ is valid for $\\la \\leq \\la-\\ga\n", 
            "\\leq \\la-\\ga^\\star$, where $\\ga^\\star>0$ is the smallest $\\ga$ such\n", 
            "that one of the following three even happens:\n", 
            "\n", 
            "\n", 
            "*Event 1.* condition C2 is violated because of saturation at +1:\n", 
            "$$ \\exists j \\in J, \\quad \\dotp{\\phi_j}{ y-\\Phi_I x_{\\la-\\ga,I} } = +1 $$\n", 
            "This condition is equivalent to\n", 
            "$$ \\exists j \\in J, \\quad \\ga = \\frac{\\la - c_j}{1-\\dotp{\\phi_j}{v}}. $$\n", 
            "\n", 
            "\n", 
            "Compute $\\ga_1$, the minimum $\\ga>0$ so that event 1 happens.\n", 
            ""
          ]
        }, 
        {
          "cell_type": "code", 
          "collapsed": false, 
          "input": [
            "w = ( lambda-c(J) ) ./ ( 1 - Phi(:,J)'*v )\n", 
            "gamma1 = min(w(w>0))\n", 
            "if not(isempty(gamma1))\n", 
            "    i1 = J( w==gamma1 )\n", 
            ""
          ], 
          "language": "python", 
          "outputs": []
        }, 
        {
          "cell_type": "markdown", 
          "metadata": {}, 
          "source": [
            "\n", 
            "\n", 
            "\n", 
            "*Event 2.* condition C2 is violated because of saturation at -1:\n", 
            "$$ \\exists j \\in J, \\quad \\dotp{\\phi_j}{ y-\\Phi_I x_{\\la-\\ga,I} } = -1 $$\n", 
            "This condition is equivalent to\n", 
            "$$ \\exists j \\in J, \\quad \\ga = \\frac{\\la + c_j}{1+\\dotp{\\phi_j}{v}}. $$\n", 
            "\n", 
            "\n", 
            "\n", 
            "Compute $\\ga_2$, the minimum $\\ga>0$ so that event 2 happens.\n", 
            ""
          ]
        }, 
        {
          "cell_type": "code", 
          "collapsed": false, 
          "input": [
            "w = ( lambda+c(J) ) ./ ( 1 + Phi(:,J)'*v )\n", 
            "gamma2 = min(w(w>0))\n", 
            "if not(isempty(gamma2))\n", 
            "    i2 = J( w==gamma2 )\n", 
            ""
          ], 
          "language": "python", 
          "outputs": []
        }, 
        {
          "cell_type": "markdown", 
          "metadata": {}, 
          "source": [
            "\n", 
            "\n", 
            "*Event 3.* $ \\text{sign}(x_{\\la-\\ga,I})$ changes because one coordinate\n", 
            "vanishes:\n", 
            "$$ \\exists i \\in I, \\quad x_{\\la-\\ga,I} = 0 $$\n", 
            "This condition is equivalent to\n", 
            "$$ \\exists i \\in I, \\quad \\ga = -\\frac{x_{\\la,i}}{d_i} $$\n", 
            "\n", 
            "\n", 
            "\n", 
            "Compute $\\ga_3$, the minimum $\\ga>0$ so that event 3 happens.\n", 
            ""
          ]
        }, 
        {
          "cell_type": "code", 
          "collapsed": false, 
          "input": [
            "w = -x(I)./d(I)\n", 
            "gamma3 = min(w(w>0))\n", 
            "if not(isempty(gamma3))\n", 
            "    i3 = I( w==gamma3 )\n", 
            ""
          ], 
          "language": "python", 
          "outputs": []
        }, 
        {
          "cell_type": "markdown", 
          "metadata": {}, 
          "source": [
            "\n", 
            "\n", 
            "Compute the minimum\n", 
            "$$ \\ga^\\star = \\min(\\ga_1,\\ga_2,\\ga_3) >0$$ so that any of these three events happens:\n", 
            ""
          ]
        }, 
        {
          "cell_type": "code", 
          "collapsed": false, 
          "input": [
            "gamma = min([gamma1 gamma2 gamma3])"
          ], 
          "language": "python", 
          "outputs": []
        }, 
        {
          "cell_type": "markdown", 
          "metadata": {}, 
          "source": [
            "\n", 
            "\n", 
            "Update the solution\n", 
            "$$ x_{\\la-\\ga} = x_{\\la} + \\ga d. $$\n", 
            ""
          ]
        }, 
        {
          "cell_type": "code", 
          "collapsed": false, 
          "input": [
            "x = x + gamma*d"
          ], 
          "language": "python", 
          "outputs": []
        }, 
        {
          "cell_type": "markdown", 
          "metadata": {}, 
          "source": [
            "\n", 
            "\n", 
            "Update the value of $\\la$, to define the next breakpoint location\n", 
            "$$ \\la_{k+1} = \\la_{k} - \\ga $$\n", 
            ""
          ]
        }, 
        {
          "cell_type": "code", 
          "collapsed": false, 
          "input": [
            "lambda = lambda - gamma"
          ], 
          "language": "python", 
          "outputs": []
        }, 
        {
          "cell_type": "markdown", 
          "metadata": {}, 
          "source": [
            "\n", 
            "\n", 
            "Update the support $I$ by either adding or removing an index.\n", 
            ""
          ]
        }, 
        {
          "cell_type": "code", 
          "collapsed": false, 
          "input": [
            "if gamma==gamma1\n", 
            "    I = [I i1]\n", 
            "elseif gamma==gamma2\n", 
            "    I = [I i2]\n", 
            "elseif gamma==gamma3\n", 
            "    I(I==i3) = []\n", 
            ""
          ], 
          "language": "python", 
          "outputs": []
        }, 
        {
          "cell_type": "markdown", 
          "metadata": {}, 
          "source": [
            "\n", 
            ""
          ]
        }, 
        {
          "cell_type": "heading", 
          "level": 2, 
          "metadata": {}, 
          "source": [
            "The Full Algorithm\n"
          ]
        }, 
        {
          "cell_type": "markdown", 
          "metadata": {}, 
          "source": [
            "We are now ready to implement the full algorithm.\n", 
            "\n", 
            ""
          ]
        }, 
        {
          "cell_type": "heading", 
          "level": 3, 
          "metadata": {}, 
          "source": [
            "Exercise 1"
          ]
        }, 
        {
          "cell_type": "markdown", 
          "metadata": {}, 
          "source": [
            "\n", 
            "Implement the full homotopy algorithm.\n", 
            "Record in |X(:,i)|, |Lambda(i)|, |Sparsity(i)| respectively\n", 
            "the solution $x_\\lambda$, the value of $\\lambda$\n", 
            "and the size of the support $I$ at step |i| of the algorithm.\n", 
            "for bookeeping\n", 
            "\n", 
            "initialization\n", 
            "\n", 
            "\n", 
            "\n", 
            "\n", 
            "\n", 
            "\n", 
            "\n", 
            "\n", 
            "\n", 
            "\n", 
            "\n", 
            "\n", 
            "\n", 
            "\n", 
            "\n", 
            "\n", 
            "\n", 
            "\n", 
            "\n", 
            "\n", 
            "\n", 
            "\n", 
            "\n", 
            "\n", 
            "\n", 
            "\n", 
            "\n", 
            "\n", 
            "\n", 
            "\n", 
            "\n", 
            "\n", 
            "\n", 
            "\n", 
            "\n", 
            "\n", 
            "\n", 
            "\n", 
            "\n", 
            "\n", 
            "\n", 
            "\n", 
            "\n", 
            "\n", 
            "\n", 
            "\n", 
            "\n", 
            "\n", 
            "\n", 
            "\n", 
            "\n", 
            "\n", 
            "\n", 
            "\n", 
            "\n", 
            "\n", 
            "\n", 
            "\n", 
            "\n", 
            "\n", 
            "\n", 
            "\n", 
            "\n", 
            "\n", 
            "\n", 
            "\n", 
            "\n", 
            ""
          ]
        }, 
        {
          "cell_type": "code", 
          "collapsed": false, 
          "input": [
            "## Insert your code here."
          ], 
          "language": "python", 
          "outputs": []
        }, 
        {
          "cell_type": "markdown", 
          "metadata": {}, 
          "source": [
            "\n", 
            "\n", 
            "\n", 
            "Display the signal to recover and the signal recovered with $\\la=0^+$.\n", 
            "Note how the noise impact the recovered vector. This is because choosing\n", 
            "$\\la=0^+$ does not produce denoising.\n", 
            ""
          ]
        }, 
        {
          "cell_type": "code", 
          "collapsed": false, 
          "input": [
            "\n", 
            "subplot(2,1,1)\n", 
            "x1 = x0; x1(x1==0) = NaN; stem(x1, 'b.'); axis tight\n", 
            "subplot(2,1,2)\n", 
            "x1 = x; x1(x1==0) = NaN; stem(x1, 'b.'); axis tight"
          ], 
          "language": "python", 
          "outputs": []
        }, 
        {
          "cell_type": "markdown", 
          "metadata": {}, 
          "source": [
            "\n", 
            "\n", 
            "Display the evolution of each entry of $x_\\la$ (different colors) with\n", 
            "$\\la$. We display the evolution of the correct components (those indexed\n", 
            "by the support $I$ of $x_0$) in color, and the wrong components (indexed by\n", 
            "$J=I^c$) in black.\n", 
            ""
          ]
        }, 
        {
          "cell_type": "code", 
          "collapsed": false, 
          "input": [
            "\n", 
            "I = find(x0~=0); J = setdiff(1:N,I)\n", 
            "clf; hold on\n", 
            "h = plot(Lambda, X(I,:)', '-'); set(h, 'LineWidth', 2)\n", 
            "h = plot(Lambda, X(J,:)', 'k-'); set(h, 'LineWidth', 2)\n", 
            "axis tight"
          ], 
          "language": "python", 
          "outputs": []
        }, 
        {
          "cell_type": "markdown", 
          "metadata": {}, 
          "source": [
            "\n", 
            "\n", 
            "Note how the noise enters into the signal (wrong selected indices) for\n", 
            "small $\\la$. Selecting a $\\la$ proportional to the noise level $\\la$\n", 
            "ensures that $x_\\la$ has the correct support and is close to $x_0$.\n", 
            "\n", 
            "\n", 
            "\n", 
            "Display the evolution of the sparsity $\\norm{x_\\la}_0$ with $\\la$.\n", 
            "Note that this sparsity is not necessarily increasing, because when event\n", 
            "3 happens, one element leaves the support.\n", 
            ""
          ]
        }, 
        {
          "cell_type": "code", 
          "collapsed": false, 
          "input": [
            "\n", 
            "plot(Lambda, Sparsity, '.-')\n", 
            "axis tight"
          ], 
          "language": "python", 
          "outputs": []
        }, 
        {
          "cell_type": "markdown", 
          "metadata": {}, 
          "source": [
            "\n", 
            "\n", 
            "_Remarks:_ the LARS (Least Angle Regression) algorithm is an approximate algorithm\n", 
            "that only allows the support to increase, thus forgetting about the\n", 
            "events of type 3. Its complexity is the same as OMP (Orthogonal Matching\n", 
            "Pursuit).\n", 
            ""
          ]
        }, 
        {
          "cell_type": "heading", 
          "level": 3, 
          "metadata": {}, 
          "source": [
            "Exercise 2"
          ]
        }, 
        {
          "cell_type": "markdown", 
          "metadata": {}, 
          "source": [
            "\n", 
            "Test the algorithm for $x_0$ of varying sparsity $s$.\n", 
            "What can you conclude in term of noise robustness ?\n", 
            "\n", 
            "\n", 
            "\n", 
            "\n", 
            "\n", 
            "\n", 
            "\n", 
            "\n", 
            "\n", 
            "\n", 
            "\n", 
            "\n", 
            "\n", 
            "\n", 
            "\n", 
            "\n", 
            "\n", 
            "\n", 
            "\n", 
            "\n", 
            "\n", 
            "\n", 
            "\n", 
            "\n", 
            "\n", 
            "\n", 
            "\n", 
            "\n", 
            "\n", 
            "\n", 
            ""
          ]
        }, 
        {
          "cell_type": "code", 
          "collapsed": false, 
          "input": [
            "## Insert your code here."
          ], 
          "language": "python", 
          "outputs": []
        }
      ]
    }
  ]
}