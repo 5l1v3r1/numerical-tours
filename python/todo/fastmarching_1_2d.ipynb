{
  "metadata": {
    "name": ""
  }, 
  "nbformat": 3, 
  "nbformat_minor": 0, 
  "worksheets": [
    {
      "cells": [
        {
          "cell_type": "heading", 
          "level": 1, 
          "metadata": {}, 
          "source": [
            "Fast Marching in 2D"
          ]
        }, 
        {
          "cell_type": "markdown", 
          "metadata": {}, 
          "source": [
            "This tour explores the use of Fast Marching methods in 2-D.\n", 
            ""
          ]
        }, 
        {
          "cell_type": "markdown", 
          "metadata": {}, 
          "source": [
            "*Important:* You need to download the file `nt_toolbox.py` from the \n", 
            "root of the github repository.\n", 
            "$\\newcommand{\\dotp}[2]{\\langle #1, #2 \\rangle}\n", 
            "\\newcommand{\\enscond}[2]{\\lbrace #1, #2 \\rbrace}\n", 
            "\\newcommand{\\pd}[2]{ \\frac{ \\partial #1}{\\partial #2} }\n", 
            "\\newcommand{\\umin}[1]{\\underset{#1}{\\min}\\;}\n", 
            "\\newcommand{\\norm}[1]{\\|#1\\|}\n", 
            "\\newcommand{\\abs}[1]{\\left|#1\\right|}\n", 
            "\\newcommand{\\choice}[1]{ \\left\\{  \\begin{array}{l} #1 \\end{array} \\right. }\n", 
            "\\newcommand{\\pa}[1]{\\left(#1\\right)}\n", 
            "\\newcommand{\\qandq}{\\quad\\text{and}\\quad}\n", 
            "\\newcommand{\\qwhereq}{\\quad\\text{where}\\quad}\n", 
            "\\newcommand{\\qifq}{ \\quad \\text{if} \\quad }\n", 
            "\\newcommand{\\qarrq}{ \\quad \\Longrightarrow \\quad }\n", 
            "\\newcommand{\\ZZ}{\\mathbb{Z}}\n", 
            "\\newcommand{\\RR}{\\mathbb{R}}\n", 
            "\\newcommand{\\Nn}{\\mathcal{N}}\n", 
            "\\newcommand{\\Hh}{\\mathcal{H}}\n", 
            "\\newcommand{\\Bb}{\\mathcal{B}}\n", 
            "\\newcommand{\\EE}{\\mathbb{E}}\n", 
            "\\newcommand{\\CC}{\\mathbb{C}}\n", 
            "\\newcommand{\\si}{\\sigma}\n", 
            "\\newcommand{\\al}{\\alpha}\n", 
            "\\newcommand{\\la}{\\lambda}\n", 
            "\\newcommand{\\ga}{\\gamma}\n", 
            "\\newcommand{\\Ga}{\\Gamma}\n", 
            "\\newcommand{\\La}{\\Lambda}\n", 
            "\\newcommand{\\si}{\\sigma}\n", 
            "\\newcommand{\\Si}{\\Sigma}\n", 
            "\\newcommand{\\be}{\\beta}\n", 
            "\\newcommand{\\de}{\\delta}\n", 
            "\\newcommand{\\De}{\\Delta}\n", 
            "\\renewcommand{\\phi}{\\varphi}\n", 
            "\\renewcommand{\\th}{\\theta}\n", 
            "\\newcommand{\\om}{\\omega}\n", 
            "\\newcommand{\\Om}{\\Omega}\n", 
            "$"
          ]
        }, 
        {
          "cell_type": "code", 
          "collapsed": false, 
          "input": [
            "from nt_toolbox import *", 
            "%matplotlib inline", 
            "%load_ext autoreload", 
            "%autoreload 2"
          ], 
          "language": "python", 
          "outputs": []
        }, 
        {
          "cell_type": "markdown", 
          "metadata": {}, 
          "source": [
            "\n", 
            "CMT"
          ]
        }, 
        {
          "cell_type": "code", 
          "collapsed": false, 
          "input": [
            "rep = 'results/fastmarching_2d/'\n", 
            "if not(exist(rep))\n", 
            "    mkdir(rep)\n", 
            ""
          ], 
          "language": "python", 
          "outputs": []
        }, 
        {
          "cell_type": "markdown", 
          "metadata": {}, 
          "source": [
            "CMT\n", 
            ""
          ]
        }, 
        {
          "cell_type": "heading", 
          "level": 2, 
          "metadata": {}, 
          "source": [
            "Shortest Path for Isotropic Metrics\n"
          ]
        }, 
        {
          "cell_type": "markdown", 
          "metadata": {}, 
          "source": [
            "Shortest paths are 2D curves that minimize a weighted length according to\n", 
            "a given metric $W(x)$ for $x \\in [0,1]^2$.\n", 
            "The metric is usually computed from an input image $f(x)$.\n", 
            "\n", 
            "\n", 
            "The length of a curve $ t \\in [0,1] \\mapsto \\gamma(t) \\in [0,1]^2 $ is\n", 
            "$$ L(\\gamma) = \\int_0^1 W(\\gamma(t)) \\norm{\\gamma'(t)} \\text{d} t. $$\n", 
            "\n", 
            "\n", 
            "Note that $L(\\gamma)$ is invariant under re-parameterization of the\n", 
            "curve $\\gamma$.\n", 
            "\n", 
            "\n", 
            "A geodesic curve $\\gamma$ between two points $x_0$ and $x_1$ has minimum\n", 
            "length among curves joining $x_0$ and $x_1$,\n", 
            "$$ \\umin{\\ga(0)=x_0, \\ga(1)=x_1} L(\\ga). $$\n", 
            "A shortest curve thus tends to pass in areas where $W$ is small.\n", 
            "\n", 
            "\n", 
            "\n", 
            "The geodesic distance between the two points is then\n", 
            "$d(x_0,x_1)=L(\\gamma)$ is the geodesic distance according to the metric $W$.\n", 
            ""
          ]
        }, 
        {
          "cell_type": "heading", 
          "level": 2, 
          "metadata": {}, 
          "source": [
            "Pixel values-based Geodesic Metric\n"
          ]
        }, 
        {
          "cell_type": "markdown", 
          "metadata": {}, 
          "source": [
            "The geodesic distance map $D(x)=d(x_0,x)$ to a fixed starting point $x_0$\n", 
            "is the unique viscosity solution of\n", 
            "the Eikonal equation\n", 
            "$$ \\norm{ \\nabla D(x)} = W(x) \\qandq D(x_0)=0. $$\n", 
            "\n", 
            "\n", 
            "This equation can be solved numerically in $O(N \\log(N))$ operation on a discrete\n", 
            "grid of $N$ points.\n", 
            "\n", 
            "\n", 
            "\n", 
            "We load the input image $f$.\n", 
            ""
          ]
        }, 
        {
          "cell_type": "code", 
          "collapsed": false, 
          "input": [
            "clear options\n", 
            "n = 300\n", 
            "name = 'road2'\n", 
            "f = rescale( load_image(name, n) )"
          ], 
          "language": "python", 
          "outputs": []
        }, 
        {
          "cell_type": "markdown", 
          "metadata": {}, 
          "source": [
            "\n", 
            "\n", 
            "Display the image.\n", 
            ""
          ]
        }, 
        {
          "cell_type": "code", 
          "collapsed": false, 
          "input": [
            "\n", 
            "imageplot(f)"
          ], 
          "language": "python", 
          "outputs": []
        }, 
        {
          "cell_type": "markdown", 
          "metadata": {}, 
          "source": [
            "\n", 
            "\n", 
            "Define start and end points $x_0$ and $x_1$ (note that you can use your own points).\n", 
            ""
          ]
        }, 
        {
          "cell_type": "code", 
          "collapsed": false, 
          "input": [
            "x0 = [14;161]\n", 
            "x1 = [293;148]"
          ], 
          "language": "python", 
          "outputs": []
        }, 
        {
          "cell_type": "markdown", 
          "metadata": {}, 
          "source": [
            "\n", 
            "\n", 
            "The metric is defined according to $f$ in order to be low at pixel\n", 
            "whose value is close to $f(x)$. A typical example is\n", 
            "$$ W(x) = \\epsilon + \\abs{f(x_0)-f(x)} $$\n", 
            "where the value of $ \\epsilon>0 $ should be increased in order to\n", 
            "obtain smoother paths.\n", 
            ""
          ]
        }, 
        {
          "cell_type": "code", 
          "collapsed": false, 
          "input": [
            "epsilon = 1e-2\n", 
            "W = epsilon + abs(f-f(x0(1),x0(2)))"
          ], 
          "language": "python", 
          "outputs": []
        }, 
        {
          "cell_type": "markdown", 
          "metadata": {}, 
          "source": [
            "\n", 
            "\n", 
            "Display the metric $W$.\n", 
            ""
          ]
        }, 
        {
          "cell_type": "code", 
          "collapsed": false, 
          "input": [
            "\n", 
            "imageplot(W)"
          ], 
          "language": "python", 
          "outputs": []
        }, 
        {
          "cell_type": "markdown", 
          "metadata": {}, 
          "source": [
            "\n", 
            "CMT"
          ]
        }, 
        {
          "cell_type": "code", 
          "collapsed": false, 
          "input": [
            "imwrite(rescale(f), [rep 'road-image.png'], 'png')\n", 
            "imwrite(rescale(W), [rep 'road-metric.png'], 'png')"
          ], 
          "language": "python", 
          "outputs": []
        }, 
        {
          "cell_type": "markdown", 
          "metadata": {}, 
          "source": [
            "CMT\n", 
            "\n", 
            "\n", 
            "Set options for the propagation: infinite number of iterations, and stop\n", 
            "when the front hits the end point.\n", 
            ""
          ]
        }, 
        {
          "cell_type": "code", 
          "collapsed": false, 
          "input": [
            "options.nb_iter_max = Inf\n", 
            "options.end_points = x1"
          ], 
          "language": "python", 
          "outputs": []
        }, 
        {
          "cell_type": "markdown", 
          "metadata": {}, 
          "source": [
            "\n", 
            "\n", 
            "Perform the propagation, so that $D(a,b)$ is the geodesic distance\n", 
            "between the pixel $x_1=(a,b)$ and the starting point $x_0$.\n", 
            "Note that the function |perform_fast_marching| takes as input the inverse\n", 
            "of the metric $1/W(x)$.\n", 
            ""
          ]
        }, 
        {
          "cell_type": "code", 
          "collapsed": false, 
          "input": [
            "[D,S] = perform_fast_marching(1./W, x0, options)"
          ], 
          "language": "python", 
          "outputs": []
        }, 
        {
          "cell_type": "markdown", 
          "metadata": {}, 
          "source": [
            "\n", 
            "\n", 
            "Display the propagated distance map $D$.\n", 
            "We display in color the distance map in areas where the front has\n", 
            "propagated, and leave in black and white the area where the front did not\n", 
            "propagate.\n", 
            ""
          ]
        }, 
        {
          "cell_type": "code", 
          "collapsed": false, 
          "input": [
            "\n", 
            "hold on\n", 
            "imageplot( convert_distance_color(D,f) )\n", 
            "h = plot(x0(2),x0(1), '.r'); set(h, 'MarkerSize', 25)\n", 
            "h = plot(x1(2),x1(1), '.b'); set(h, 'MarkerSize', 25)"
          ], 
          "language": "python", 
          "outputs": []
        }, 
        {
          "cell_type": "markdown", 
          "metadata": {}, 
          "source": [
            "\n", 
            ""
          ]
        }, 
        {
          "cell_type": "heading", 
          "level": 3, 
          "metadata": {}, 
          "source": [
            "Exercise 1"
          ]
        }, 
        {
          "cell_type": "markdown", 
          "metadata": {}, 
          "source": [
            "\n", 
            "Using |options.nb_iter_max|, display the progressive propagation.\n", 
            "This corresponds to displaying the front\n", 
            "$ \\enscond{x}{D(x) \\leq t} $ for various arrival times $t$.\n", 
            "\n", 
            "\n", 
            "\n", 
            "\n", 
            "\n", 
            "\n", 
            "\n", 
            "\n", 
            "\n", 
            "\n", 
            ""
          ]
        }, 
        {
          "cell_type": "code", 
          "collapsed": false, 
          "input": [
            "## Insert your code here."
          ], 
          "language": "python", 
          "outputs": []
        }, 
        {
          "cell_type": "markdown", 
          "metadata": {}, 
          "source": [
            "\n", 
            ""
          ]
        }, 
        {
          "cell_type": "heading", 
          "level": 2, 
          "metadata": {}, 
          "source": [
            "Geodesic Curve Extraction\n"
          ]
        }, 
        {
          "cell_type": "markdown", 
          "metadata": {}, 
          "source": [
            "Once the geodesic distance map $D(x)$ to a starting point $x_0$ is\n", 
            "computed, the geodesic curve between any point $x_1$ and $x_0$\n", 
            "extracted through gradient descent\n", 
            "$$ \\ga'(t) = - \\eta_t \\nabla D(\\ga(t)), $$\n", 
            "where $\\eta_t>0$ controls the parameterization speed of the resulting\n", 
            "curve. To obtain unit speed parameterization, one can use $\\eta_t =\n", 
            "\\norm{\\nabla D(\\ga(t))}^{-1}$.\n", 
            "\n", 
            "\n", 
            "Recompute the geodesic distance map $D$ on the whole grid.\n", 
            ""
          ]
        }, 
        {
          "cell_type": "code", 
          "collapsed": false, 
          "input": [
            "options.nb_iter_max = Inf\n", 
            "options.end_points = []\n", 
            "[D,S] = perform_fast_marching(1./W, x0, options)"
          ], 
          "language": "python", 
          "outputs": []
        }, 
        {
          "cell_type": "markdown", 
          "metadata": {}, 
          "source": [
            "\n", 
            "\n", 
            "Display $D$.\n", 
            ""
          ]
        }, 
        {
          "cell_type": "code", 
          "collapsed": false, 
          "input": [
            "\n", 
            "imageplot(D)\n", 
            "colormap jet(256)"
          ], 
          "language": "python", 
          "outputs": []
        }, 
        {
          "cell_type": "markdown", 
          "metadata": {}, 
          "source": [
            "\n", 
            "\n", 
            "Compute the gradient $G_0(x) = \\nabla D(x) \\in \\RR^2$ of the distance map. Use centered differences.\n", 
            ""
          ]
        }, 
        {
          "cell_type": "code", 
          "collapsed": false, 
          "input": [
            "options.order = 2\n", 
            "G0 = grad(D, options)"
          ], 
          "language": "python", 
          "outputs": []
        }, 
        {
          "cell_type": "markdown", 
          "metadata": {}, 
          "source": [
            "\n", 
            "\n", 
            "Normalize the gradient to obtained $G(x) = G_0(x)/\\norm{G_0(x)}$, in order to have unit speed geodesic curve (parameterized\n", 
            "by arc length).\n", 
            ""
          ]
        }, 
        {
          "cell_type": "code", 
          "collapsed": false, 
          "input": [
            "G = G0 ./ repmat( sqrt( sum(G0.^2, 3) ), [1 1 2])"
          ], 
          "language": "python", 
          "outputs": []
        }, 
        {
          "cell_type": "markdown", 
          "metadata": {}, 
          "source": [
            "\n", 
            "\n", 
            "Display $G$.\n", 
            ""
          ]
        }, 
        {
          "cell_type": "code", 
          "collapsed": false, 
          "input": [
            "\n", 
            "imageplot(G)\n", 
            "colormap jet(256)"
          ], 
          "language": "python", 
          "outputs": []
        }, 
        {
          "cell_type": "markdown", 
          "metadata": {}, 
          "source": [
            "\n", 
            "\n", 
            "The geodesic is then numerically computed using a discretized gradient\n", 
            "descent, which defines a discret curve $ (\\ga_k)_k $ using\n", 
            "$$ \\ga_{k+1} = \\ga_k - \\tau G(\\ga_k) $$\n", 
            "where $\\ga_k \\in \\RR^2$ is an approximation of $\\ga(t)$ at time\n", 
            "$t=k\\tau$, and the step size $\\tau>0$ should be small enough.\n", 
            "\n", 
            "\n", 
            "Step size $\\tau$ for the gradient descent.\n", 
            ""
          ]
        }, 
        {
          "cell_type": "code", 
          "collapsed": false, 
          "input": [
            "tau = .8"
          ], 
          "language": "python", 
          "outputs": []
        }, 
        {
          "cell_type": "markdown", 
          "metadata": {}, 
          "source": [
            "\n", 
            "\n", 
            "Initialize the path with the ending point.\n", 
            ""
          ]
        }, 
        {
          "cell_type": "code", 
          "collapsed": false, 
          "input": [
            "gamma = x1"
          ], 
          "language": "python", 
          "outputs": []
        }, 
        {
          "cell_type": "markdown", 
          "metadata": {}, 
          "source": [
            "\n", 
            "\n", 
            "Define a shortcut to interpolate $G$ at a 2-D points.\n", 
            "_Warning:_ the |interp2| switches the role of the axis ...\n", 
            ""
          ]
        }, 
        {
          "cell_type": "code", 
          "collapsed": false, 
          "input": [
            "Geval = lambda G,x: [interp2(1:n,1:n,G(:,:,1),x(2),x(1)); ...\n", 
            "             interp2(1:n,1:n,G(:,:,2),x(2),x(1)) ]"
          ], 
          "language": "python", 
          "outputs": []
        }, 
        {
          "cell_type": "markdown", 
          "metadata": {}, 
          "source": [
            "\n", 
            "\n", 
            "Compute the gradient at the last point in the path, using interpolation.\n", 
            ""
          ]
        }, 
        {
          "cell_type": "code", 
          "collapsed": false, 
          "input": [
            "g = Geval(G, gamma(:,end))"
          ], 
          "language": "python", 
          "outputs": []
        }, 
        {
          "cell_type": "markdown", 
          "metadata": {}, 
          "source": [
            "\n", 
            "\n", 
            "Perform the descent and add the new point to the path.\n", 
            ""
          ]
        }, 
        {
          "cell_type": "code", 
          "collapsed": false, 
          "input": [
            "gamma(:,end+1) = gamma(:,end) - tau*g"
          ], 
          "language": "python", 
          "outputs": []
        }, 
        {
          "cell_type": "heading", 
          "level": 3, 
          "metadata": {}, 
          "source": [
            "Exercise 2"
          ]
        }, 
        {
          "cell_type": "markdown", 
          "metadata": {}, 
          "source": [
            "\n", 
            "Perform the full geodesic path extraction by iterating the gradient\n", 
            "descent. You must be very careful when the path become close to\n", 
            "$x_0$, because the distance function is not differentiable at this\n", 
            "point. You must stop the iteration when the path is close to $x_0$.\n", 
            "\n", 
            "\n", 
            "\n", 
            "\n", 
            "\n", 
            "\n", 
            "\n", 
            ""
          ]
        }, 
        {
          "cell_type": "code", 
          "collapsed": false, 
          "input": [
            "## Insert your code here."
          ], 
          "language": "python", 
          "outputs": []
        }, 
        {
          "cell_type": "markdown", 
          "metadata": {}, 
          "source": [
            "\n", 
            "\n", 
            "\n", 
            "Display the curve on the image background.\n", 
            ""
          ]
        }, 
        {
          "cell_type": "code", 
          "collapsed": false, 
          "input": [
            "clf; hold on\n", 
            "imageplot(f)\n", 
            "h = plot(gamma(2,:),gamma(1,:), '.b'); set(h, 'LineWidth', 2)\n", 
            "h = plot(x0(2),x0(1), '.r'); set(h, 'MarkerSize', 25)\n", 
            "h = plot(x1(2),x1(1), '.b'); set(h, 'MarkerSize', 25)\n", 
            "axis ij"
          ], 
          "language": "python", 
          "outputs": []
        }, 
        {
          "cell_type": "markdown", 
          "metadata": {}, 
          "source": [
            "\n", 
            "\n", 
            "\n", 
            "Display the curve on the distance background.\n", 
            ""
          ]
        }, 
        {
          "cell_type": "code", 
          "collapsed": false, 
          "input": [
            "clf; hold on\n", 
            "imageplot(D); colormap jet(256)\n", 
            "h = plot(gamma(2,:),gamma(1,:), '.b'); set(h, 'LineWidth', 2)\n", 
            "h = plot(x0(2),x0(1), '.r'); set(h, 'MarkerSize', 25)\n", 
            "h = plot(x1(2),x1(1), '.b'); set(h, 'MarkerSize', 25)\n", 
            "axis ij"
          ], 
          "language": "python", 
          "outputs": []
        }, 
        {
          "cell_type": "heading", 
          "level": 3, 
          "metadata": {}, 
          "source": [
            "Exercise 3"
          ]
        }, 
        {
          "cell_type": "markdown", 
          "metadata": {}, 
          "source": [
            "\n", 
            "Study the influence of the $\\epsilon$ parameter.\n", 
            "\n", 
            "\n", 
            "\n", 
            "\n", 
            "\n", 
            "\n", 
            "\n", 
            "\n", 
            "\n", 
            "\n", 
            "\n", 
            "\n", 
            "\n", 
            "\n", 
            "\n", 
            "\n", 
            "\n", 
            "\n", 
            "\n", 
            "\n", 
            "\n", 
            "\n", 
            "\n", 
            "\n", 
            "\n", 
            ""
          ]
        }, 
        {
          "cell_type": "code", 
          "collapsed": false, 
          "input": [
            "## Insert your code here."
          ], 
          "language": "python", 
          "outputs": []
        }, 
        {
          "cell_type": "markdown", 
          "metadata": {}, 
          "source": [
            "\n", 
            ""
          ]
        }, 
        {
          "cell_type": "heading", 
          "level": 3, 
          "metadata": {}, 
          "source": [
            "Exercise 4"
          ]
        }, 
        {
          "cell_type": "markdown", 
          "metadata": {}, 
          "source": [
            "\n", 
            "Perform the shortest path\n", 
            "extraction for various images such as 'cavern' or 'mountain'.\n", 
            "load\n", 
            "\n", 
            "\n", 
            "\n", 
            "\n", 
            "\n", 
            "\n", 
            "\n", 
            "gradient\n", 
            "\n", 
            "\n", 
            "\n", 
            "\n", 
            "\n", 
            "\n", 
            "\n", 
            "\n", 
            "\n", 
            "\n", 
            "display\n", 
            "\n", 
            "\n", 
            "\n", 
            "\n", 
            "\n", 
            "\n", 
            "\n", 
            "\n", 
            "\n", 
            "\n", 
            "\n", 
            "\n", 
            ""
          ]
        }, 
        {
          "cell_type": "code", 
          "collapsed": false, 
          "input": [
            "## Insert your code here."
          ], 
          "language": "python", 
          "outputs": []
        }, 
        {
          "cell_type": "markdown", 
          "metadata": {}, 
          "source": [
            "\n", 
            "\n", 
            ""
          ]
        }, 
        {
          "cell_type": "heading", 
          "level": 2, 
          "metadata": {}, 
          "source": [
            "Edge-based Geodesic Metric\n"
          ]
        }, 
        {
          "cell_type": "markdown", 
          "metadata": {}, 
          "source": [
            "It is possible to extract the boundary of an object using shortest paths\n", 
            "that follows region of high gradient.\n", 
            "\n", 
            "\n", 
            "First we load an image $f$.\n", 
            ""
          ]
        }, 
        {
          "cell_type": "code", 
          "collapsed": false, 
          "input": [
            "n = 256\n", 
            "name = 'cortex'\n", 
            "f = rescale( sum(load_image(name,n),3) )"
          ], 
          "language": "python", 
          "outputs": []
        }, 
        {
          "cell_type": "markdown", 
          "metadata": {}, 
          "source": [
            "\n", 
            "\n", 
            "Display it.\n", 
            ""
          ]
        }, 
        {
          "cell_type": "code", 
          "collapsed": false, 
          "input": [
            "\n", 
            "imageplot(f)"
          ], 
          "language": "python", 
          "outputs": []
        }, 
        {
          "cell_type": "markdown", 
          "metadata": {}, 
          "source": [
            "\n", 
            "\n", 
            "An edge-attracting potential $W(x)$ should be small\n", 
            "in regions of high gradient. A popular choice is\n", 
            "$$ W(x) = \\frac{1}{\\epsilon + G_\\si \\star G(x)}\n", 
            " \\qwhereq G(x) = \\norm{\\nabla f(x)}, $$\n", 
            "and where $G_\\si$ is a Gaussian kernel of variance $\\si^2$.\n", 
            "\n", 
            "\n", 
            "Compute the gradient norm $G(x)$.\n", 
            ""
          ]
        }, 
        {
          "cell_type": "code", 
          "collapsed": false, 
          "input": [
            "G = grad(f,options)\n", 
            "G = sqrt( sum(G.^2,3) )"
          ], 
          "language": "python", 
          "outputs": []
        }, 
        {
          "cell_type": "markdown", 
          "metadata": {}, 
          "source": [
            "\n", 
            "\n", 
            "Smooth it by $G_\\si$.\n", 
            ""
          ]
        }, 
        {
          "cell_type": "code", 
          "collapsed": false, 
          "input": [
            "sigma = 3\n", 
            "Gh = perform_blurring(G,sigma)"
          ], 
          "language": "python", 
          "outputs": []
        }, 
        {
          "cell_type": "markdown", 
          "metadata": {}, 
          "source": [
            "\n", 
            "\n", 
            "Display the smoothed gradient $ G \\star G_\\si $.\n", 
            ""
          ]
        }, 
        {
          "cell_type": "code", 
          "collapsed": false, 
          "input": [
            "\n", 
            "imageplot(Gh)"
          ], 
          "language": "python", 
          "outputs": []
        }, 
        {
          "cell_type": "markdown", 
          "metadata": {}, 
          "source": [
            "\n", 
            "\n", 
            "\n", 
            "Compute the metric.\n", 
            ""
          ]
        }, 
        {
          "cell_type": "code", 
          "collapsed": false, 
          "input": [
            "epsilon = 0.01\n", 
            "W = 1./( epsilon + Gh )"
          ], 
          "language": "python", 
          "outputs": []
        }, 
        {
          "cell_type": "markdown", 
          "metadata": {}, 
          "source": [
            "\n", 
            "\n", 
            "\n", 
            "Display it.\n", 
            ""
          ]
        }, 
        {
          "cell_type": "code", 
          "collapsed": false, 
          "input": [
            "\n", 
            "imageplot(W)"
          ], 
          "language": "python", 
          "outputs": []
        }, 
        {
          "cell_type": "markdown", 
          "metadata": {}, 
          "source": [
            "\n", 
            "\n", 
            "Set two starting point $ \\Ss = \\{x_0^1,x_0^2\\} $ (you can use other points).\n", 
            ""
          ]
        }, 
        {
          "cell_type": "code", 
          "collapsed": false, 
          "input": [
            "x0 = [ [136;53] [123;205]]"
          ], 
          "language": "python", 
          "outputs": []
        }, 
        {
          "cell_type": "markdown", 
          "metadata": {}, 
          "source": [
            "\n", 
            "\n", 
            "Compute the Fast Marching from these two base points.\n", 
            ""
          ]
        }, 
        {
          "cell_type": "code", 
          "collapsed": false, 
          "input": [
            "options.nb_iter_max = Inf\n", 
            "options.end_points = []\n", 
            "[D,S,Q] = perform_fast_marching(1./W, x0, options)"
          ], 
          "language": "python", 
          "outputs": []
        }, 
        {
          "cell_type": "markdown", 
          "metadata": {}, 
          "source": [
            "\n", 
            "\n", 
            "Display the geodesic distance (with color normalization).\n", 
            ""
          ]
        }, 
        {
          "cell_type": "code", 
          "collapsed": false, 
          "input": [
            "clf; hold on\n", 
            "imageplot( perform_hist_eq(D,'linear') )\n", 
            "h = plot(x0(2,:),x0(1,:), '.r'); set(h, 'MarkerSize', 25)\n", 
            "colormap jet(256)"
          ], 
          "language": "python", 
          "outputs": []
        }, 
        {
          "cell_type": "markdown", 
          "metadata": {}, 
          "source": [
            "\n", 
            "\n", 
            "The Voronoi segmentation associated to $\\Ss$ is\n", 
            "$$ \\Cc_i = \\enscond{x}{ \\forall j \\neq i, \\; d(x_0^i,x) \\leq d(x_0^j,x) }. $$\n", 
            "\n", 
            "\n", 
            "This Voronoi segmentation is computed during the Fast Marching\n", 
            "propagation and is encoded in the partition function $Q(x)$\n", 
            "using $\\Cc_i = \\enscond{x}{Q(x)=i}$.\n", 
            "\n", 
            "\n", 
            "Display the distance and the Voronoi segmentation.\n", 
            ""
          ]
        }, 
        {
          "cell_type": "code", 
          "collapsed": false, 
          "input": [
            "clf; hold on\n", 
            "A = zeros(n,n,3); A(:,:,1) = rescale(Q); A(:,:,3) = f\n", 
            "imageplot(A)\n", 
            "h = plot(x0(2,:),x0(1,:), '.g'); set(h, 'MarkerSize', 25)"
          ], 
          "language": "python", 
          "outputs": []
        }, 
        {
          "cell_type": "heading", 
          "level": 3, 
          "metadata": {}, 
          "source": [
            "Exercise 5"
          ]
        }, 
        {
          "cell_type": "markdown", 
          "metadata": {}, 
          "source": [
            "\n", 
            "Extract the set of points that are along the boundary of the Voronoi\n", 
            "region. This corresponds for instance to the points of the region\n", 
            "$ \\enscond{x}{Q(x)=1} $\n", 
            "that have one neighbor inside the region\n", 
            "$ \\enscond{x}{Q(x)=2} $.\n", 
            "Compute the geodesic distance $D(x)$ at these points, and choose two points\n", 
            "$a$ and $b$ on this boundary that have small values of $D$.\n", 
            "Hint: you can use a convolution |U=conv2(double(Q==2),h,'same')| with a\n", 
            "well chose kernel |h| to located the points |U>0| with at least 1\n", 
            "neighbor.\n", 
            "\n", 
            "\n", 
            "\n", 
            "\n", 
            "\n", 
            "\n", 
            "\n", 
            "\n", 
            "\n", 
            "\n", 
            "subplot(2,1,1);\n", 
            "\n", 
            "\n", 
            "\n", 
            "\n", 
            "\n", 
            "\n", 
            "\n", 
            "\n", 
            "\n", 
            "\n", 
            "\n", 
            "\n", 
            ""
          ]
        }, 
        {
          "cell_type": "code", 
          "collapsed": false, 
          "input": [
            "## Insert your code here."
          ], 
          "language": "python", 
          "outputs": []
        }, 
        {
          "cell_type": "markdown", 
          "metadata": {}, 
          "source": [
            "\n", 
            ""
          ]
        }, 
        {
          "cell_type": "heading", 
          "level": 3, 
          "metadata": {}, 
          "source": [
            "Exercise 6"
          ]
        }, 
        {
          "cell_type": "markdown", 
          "metadata": {}, 
          "source": [
            "\n", 
            "Extract the geodesics joining $a$ and $b$ to the two starting points\n", 
            "(this makes 4 geodesic curves). Use them to perform segmentation.\n", 
            "\n", 
            "\n", 
            "\n", 
            "\n", 
            "\n", 
            "\n", 
            "\n", 
            "\n", 
            "  D1 = D; D1(D1==Inf) = max(D1(D1~=Inf));\n", 
            "\n", 
            "\n", 
            "\n", 
            "\n", 
            "\n", 
            "\n", 
            "\n", 
            "\n", 
            "\n", 
            "\n", 
            "\n", 
            "\n", 
            "\n", 
            "\n", 
            "\n", 
            "\n", 
            "\n", 
            "display the curves\n", 
            "\n", 
            "\n", 
            "\n", 
            "\n", 
            "\n", 
            "\n", 
            "\n", 
            "\n", 
            "\n", 
            ""
          ]
        }, 
        {
          "cell_type": "code", 
          "collapsed": false, 
          "input": [
            "## Insert your code here."
          ], 
          "language": "python", 
          "outputs": []
        }, 
        {
          "cell_type": "markdown", 
          "metadata": {}, 
          "source": [
            "\n", 
            "\n", 
            ""
          ]
        }, 
        {
          "cell_type": "heading", 
          "level": 2, 
          "metadata": {}, 
          "source": [
            "Vessel Segmentation and Centerline Extraction\n"
          ]
        }, 
        {
          "cell_type": "markdown", 
          "metadata": {}, 
          "source": [
            "One can extract a network of geodesic curve starting from a central point\n", 
            "to detect vessels in medical images.\n", 
            "\n", 
            "\n", 
            "Load an image. This image is extracted from the\n", 
            " <http://www.isi.uu.nl/Research/Databases/DRIVE/ DRIVE database> of\n", 
            " retinal vessels.\n", 
            ""
          ]
        }, 
        {
          "cell_type": "code", 
          "collapsed": false, 
          "input": [
            "n = 256\n", 
            "name = 'vessels'\n", 
            "f = rescale(load_image(name, n))"
          ], 
          "language": "python", 
          "outputs": []
        }, 
        {
          "cell_type": "markdown", 
          "metadata": {}, 
          "source": [
            "\n", 
            "\n", 
            "Display it.\n", 
            ""
          ]
        }, 
        {
          "cell_type": "code", 
          "collapsed": false, 
          "input": [
            "\n", 
            "imageplot(f)"
          ], 
          "language": "python", 
          "outputs": []
        }, 
        {
          "cell_type": "markdown", 
          "metadata": {}, 
          "source": [
            "\n", 
            "\n", 
            "We clean the image by substracting the smoothly varying background\n", 
            "$$ f_1 = f - G_\\si \\star f, $$\n", 
            "where $G_\\si$ is a Gaussian kernel of variance $\\si^2$.\n", 
            "Computing $f_1$ corresponds to a high pass filtering.\n", 
            ""
          ]
        }, 
        {
          "cell_type": "code", 
          "collapsed": false, 
          "input": [
            "sigma = 20\n", 
            "f1 = perform_blurring(f,sigma) - f"
          ], 
          "language": "python", 
          "outputs": []
        }, 
        {
          "cell_type": "markdown", 
          "metadata": {}, 
          "source": [
            "\n", 
            "\n", 
            "Display this normalized image.\n", 
            ""
          ]
        }, 
        {
          "cell_type": "code", 
          "collapsed": false, 
          "input": [
            "\n", 
            "imageplot(f1)"
          ], 
          "language": "python", 
          "outputs": []
        }, 
        {
          "cell_type": "markdown", 
          "metadata": {}, 
          "source": [
            "\n", 
            "\n", 
            "We compute a metric tthat is small for large values of $f_1$:\n", 
            "$$ W(x) = \\epsilon +  \\abs{f_1(x)-c}\n", 
            "      \\qwhereq c = \\umax{x} f_1(x). $$\n", 
            ""
          ]
        }, 
        {
          "cell_type": "code", 
          "collapsed": false, 
          "input": [
            "c = max(f1(:))\n", 
            "epsilon = 1e-2\n", 
            "W = epsilon + abs(f1-c)"
          ], 
          "language": "python", 
          "outputs": []
        }, 
        {
          "cell_type": "markdown", 
          "metadata": {}, 
          "source": [
            "\n", 
            "\n", 
            "Display the metric.\n", 
            ""
          ]
        }, 
        {
          "cell_type": "code", 
          "collapsed": false, 
          "input": [
            "\n", 
            "imageplot(W)"
          ], 
          "language": "python", 
          "outputs": []
        }, 
        {
          "cell_type": "markdown", 
          "metadata": {}, 
          "source": [
            "\n", 
            "\n", 
            "Select a central point $x_0$ for the network.\n", 
            ""
          ]
        }, 
        {
          "cell_type": "code", 
          "collapsed": false, 
          "input": [
            "x0 = [142;226]"
          ], 
          "language": "python", 
          "outputs": []
        }, 
        {
          "cell_type": "heading", 
          "level": 3, 
          "metadata": {}, 
          "source": [
            "Exercise 7"
          ]
        }, 
        {
          "cell_type": "markdown", 
          "metadata": {}, 
          "source": [
            "\n", 
            "Perform partial propagations from $x_0$.\n", 
            "\n", 
            "\n", 
            "\n", 
            "\n", 
            "\n", 
            "\n", 
            "\n", 
            "\n", 
            "\n", 
            "\n", 
            ""
          ]
        }, 
        {
          "cell_type": "code", 
          "collapsed": false, 
          "input": [
            "## Insert your code here."
          ], 
          "language": "python", 
          "outputs": []
        }, 
        {
          "cell_type": "markdown", 
          "metadata": {}, 
          "source": [
            "\n", 
            ""
          ]
        }, 
        {
          "cell_type": "heading", 
          "level": 3, 
          "metadata": {}, 
          "source": [
            "Exercise 8"
          ]
        }, 
        {
          "cell_type": "markdown", 
          "metadata": {}, 
          "source": [
            "\n", 
            "Extract geodesics joining several points $x_1$ to the central point\n", 
            "$x_0$.\n", 
            "\n", 
            "\n", 
            "gradient\n", 
            "\n", 
            "\n", 
            "\n", 
            "extract centerlines\n", 
            "\n", 
            "\n", 
            "\n", 
            "\n", 
            "\n", 
            "\n", 
            "\n", 
            "\n", 
            "\n", 
            "\n", 
            "\n", 
            "\n", 
            "\n", 
            "\n", 
            "\n", 
            "display the curves\n", 
            "\n", 
            "\n", 
            "\n", 
            "\n", 
            "\n", 
            "\n", 
            "\n", 
            "\n", 
            ""
          ]
        }, 
        {
          "cell_type": "code", 
          "collapsed": false, 
          "input": [
            "## Insert your code here."
          ], 
          "language": "python", 
          "outputs": []
        }, 
        {
          "cell_type": "markdown", 
          "metadata": {}, 
          "source": [
            "\n", 
            "\n", 
            "\n", 
            ""
          ]
        }, 
        {
          "cell_type": "heading", 
          "level": 2, 
          "metadata": {}, 
          "source": [
            "Dual Propagation\n"
          ]
        }, 
        {
          "cell_type": "markdown", 
          "metadata": {}, 
          "source": [
            "In order to speed up geodesic extraction, one can perform the propagation\n", 
            "from both the start point $x_0^1$ and end point $x_0^2$.\n", 
            "\n", 
            "\n", 
            "Boundary points.\n", 
            ""
          ]
        }, 
        {
          "cell_type": "code", 
          "collapsed": false, 
          "input": [
            "x0 = [[143;249] [174;9]]"
          ], 
          "language": "python", 
          "outputs": []
        }, 
        {
          "cell_type": "heading", 
          "level": 3, 
          "metadata": {}, 
          "source": [
            "Exercise 9"
          ]
        }, 
        {
          "cell_type": "markdown", 
          "metadata": {}, 
          "source": [
            "\n", 
            "Perform the dual propagation, and stop it when the front meet.\n", 
            "Extract the two half geodesic curves.\n", 
            "Dual propagation.\n", 
            "\n", 
            "\n", 
            "extract first the geodesic paths\n", 
            "\n", 
            "\n", 
            "\n", 
            "iterations\n", 
            "\n", 
            "\n", 
            "\n", 
            "\n", 
            "\n", 
            "\n", 
            "\n", 
            "\n", 
            "\n", 
            "\n", 
            "\n", 
            "\n", 
            "\n", 
            "\n", 
            "\n", 
            ""
          ]
        }, 
        {
          "cell_type": "code", 
          "collapsed": false, 
          "input": [
            "## Insert your code here."
          ], 
          "language": "python", 
          "outputs": []
        }, 
        {
          "cell_type": "markdown", 
          "metadata": {}, 
          "source": [
            "\n", 
            "\n", 
            "\n", 
            "CMT"
          ]
        }, 
        {
          "cell_type": "code", 
          "collapsed": false, 
          "input": [
            "iterlist = .37*linspace(0,1,6)*n^2; iterlist(1) = []\n", 
            "for i in 1:length(iterlist):\n", 
            "    options.nb_iter_max = iterlist(i)\n", 
            "    [D,S] = perform_fast_marching(1./W, x0, options)\n", 
            "    clf; hold on\n", 
            "    imageplot(convert_distance_color(D,f))\n", 
            "    if i==length(iterlist)\n", 
            "        h = plot(gamma(2,:),gamma(1,:), 'k'); set(h, 'LineWidth', 2)\n", 
            "        % select extremal point\n", 
            "        u = interp2(1:n,1:n,D,gamma(2,:),gamma(1,:))\n", 
            "        [tmp,v] = max(u); q = gamma(:,v)\n", 
            "        h = plot(q(2,:),q(1,:), '.b'); set(h, 'MarkerSize', 25)\n", 
            "\n", 
            "    h = plot(x0(2,:),x0(1,:), '.r'); set(h, 'MarkerSize', 25)\n", 
            "    saveas(gcf, [rep 'dual-propagation-' num2str(i) '.eps'], 'epsc')\n", 
            ""
          ], 
          "language": "python", 
          "outputs": []
        }
      ]
    }
  ]
}