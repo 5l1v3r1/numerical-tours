{
  "metadata": {
    "name": ""
  }, 
  "nbformat": 3, 
  "nbformat_minor": 0, 
  "worksheets": [
    {
      "cells": [
        {
          "cell_type": "heading", 
          "level": 1, 
          "metadata": {}, 
          "source": [
            "1-D Haar Wavelets"
          ]
        }, 
        {
          "cell_type": "markdown", 
          "metadata": {}, 
          "source": [
            "This numerical tour explores 1-D multiresolution analysis with Haar\n", 
            "transform. It was introduced in 1910 by Haar  <#biblio [Haar1910]>\n", 
            "and is arguably the first example of wavelet basis.\n", 
            ""
          ]
        }, 
        {
          "cell_type": "markdown", 
          "metadata": {}, 
          "source": [
            "*Important:* You need to download the file `nt_toolbox.py` from the \n", 
            "root of the github repository.\n", 
            "$\\newcommand{\\dotp}[2]{\\langle #1, #2 \\rangle}\n", 
            "\\newcommand{\\enscond}[2]{\\lbrace #1, #2 \\rbrace}\n", 
            "\\newcommand{\\pd}[2]{ \\frac{ \\partial #1}{\\partial #2} }\n", 
            "\\newcommand{\\umin}[1]{\\underset{#1}{\\min}\\;}\n", 
            "\\newcommand{\\norm}[1]{\\|#1\\|}\n", 
            "\\newcommand{\\abs}[1]{\\left|#1\\right|}\n", 
            "\\newcommand{\\choice}[1]{ \\left\\{  \\begin{array}{l} #1 \\end{array} \\right. }\n", 
            "\\newcommand{\\pa}[1]{\\left(#1\\right)}\n", 
            "\\newcommand{\\qandq}{\\quad\\text{and}\\quad}\n", 
            "\\newcommand{\\qwhereq}{\\quad\\text{where}\\quad}\n", 
            "\\newcommand{\\qifq}{ \\quad \\text{if} \\quad }\n", 
            "\\newcommand{\\qarrq}{ \\quad \\Longrightarrow \\quad }\n", 
            "\\newcommand{\\ZZ}{\\mathbb{Z}}\n", 
            "\\newcommand{\\RR}{\\mathbb{R}}\n", 
            "\\newcommand{\\Nn}{\\mathcal{N}}\n", 
            "\\newcommand{\\Hh}{\\mathcal{H}}\n", 
            "\\newcommand{\\Bb}{\\mathcal{B}}\n", 
            "\\newcommand{\\EE}{\\mathbb{E}}\n", 
            "\\newcommand{\\CC}{\\mathbb{C}}\n", 
            "\\newcommand{\\si}{\\sigma}\n", 
            "\\newcommand{\\al}{\\alpha}\n", 
            "\\newcommand{\\la}{\\lambda}\n", 
            "\\newcommand{\\ga}{\\gamma}\n", 
            "\\newcommand{\\Ga}{\\Gamma}\n", 
            "\\newcommand{\\La}{\\Lambda}\n", 
            "\\newcommand{\\si}{\\sigma}\n", 
            "\\newcommand{\\Si}{\\Sigma}\n", 
            "\\newcommand{\\be}{\\beta}\n", 
            "\\newcommand{\\de}{\\delta}\n", 
            "\\newcommand{\\De}{\\Delta}\n", 
            "\\renewcommand{\\phi}{\\varphi}\n", 
            "\\renewcommand{\\th}{\\theta}\n", 
            "\\newcommand{\\om}{\\omega}\n", 
            "\\newcommand{\\Om}{\\Omega}\n", 
            "$"
          ]
        }, 
        {
          "cell_type": "code", 
          "collapsed": false, 
          "input": [
            "from nt_toolbox import *", 
            "%matplotlib inline", 
            "%load_ext autoreload", 
            "%autoreload 2"
          ], 
          "language": "python", 
          "outputs": []
        }, 
        {
          "cell_type": "markdown", 
          "metadata": {}, 
          "source": [
            "\n", 
            ""
          ]
        }, 
        {
          "cell_type": "heading", 
          "level": 2, 
          "metadata": {}, 
          "source": [
            "Forward Haar Transform\n"
          ]
        }, 
        {
          "cell_type": "markdown", 
          "metadata": {}, 
          "source": [
            "The Haar transform is the simplest orthogonal wavelet transform. It is\n", 
            "computed by iterating difference and averaging between odd and even\n", 
            "samples of the signal.\n", 
            "\n", 
            "\n", 
            "Size $N$ of the signal.\n", 
            ""
          ]
        }, 
        {
          "cell_type": "code", 
          "collapsed": false, 
          "input": [
            "N = 512"
          ], 
          "language": "python", 
          "outputs": []
        }, 
        {
          "cell_type": "markdown", 
          "metadata": {}, 
          "source": [
            "\n", 
            "\n", 
            "First we load a 1-D signal $f \\in \\RR^N$.\n", 
            ""
          ]
        }, 
        {
          "cell_type": "code", 
          "collapsed": false, 
          "input": [
            "name = 'piece-regular'\n", 
            "f = rescale( load_signal(name, N) )"
          ], 
          "language": "python", 
          "outputs": []
        }, 
        {
          "cell_type": "markdown", 
          "metadata": {}, 
          "source": [
            "\n", 
            "\n", 
            "The Haar transform operates over $J = \\log_2(N)-1$ scales.\n", 
            "It computes a series of coarse scale and fine scale coefficients\n", 
            "$a_j, d_j \\in \\RR^{N_j}$ where $N_j=2^j$.\n", 
            ""
          ]
        }, 
        {
          "cell_type": "code", 
          "collapsed": false, 
          "input": [
            "J = log2(N)-1"
          ], 
          "language": "python", 
          "outputs": []
        }, 
        {
          "cell_type": "markdown", 
          "metadata": {}, 
          "source": [
            "\n", 
            "\n", 
            "The forward Haar transform computed $ \\Hh(f) = (d_j)_{j=0}^J \\cup \\{a_0\\} $.\n", 
            "Note that the set of coarse scale coefficients $(a_j)_{j>0}$ are not\n", 
            "stored.\n", 
            "\n", 
            "\n", 
            "This transform is orthogonal, meaning $ \\Hh \\circ \\Hh^* = \\text{Id} $,\n", 
            "and that there is the following conservation of energy\n", 
            "$$ \\sum_i \\abs{f_i}^2 = \\norm{f}^2 = \\norm{\\Hh f}^2 = \\sum_j \\norm{d_j}^2 + \\abs{a_0}^2. $$\n", 
            "\n", 
            "\n", 
            "One initilizes the algorithm with $a_{J+1}=f$. The set of coefficients\n", 
            "$d_{j},a_j$ are computed from $a_{j+1}$ as\n", 
            "$$ \\forall k=0,\\ldots,2^j-1, \\quad\n", 
            "      a_j[k] = \\frac{a_{j+1}[2k] + a_{j+1}[2k+1]}{\\sqrt{2}}\n", 
            "  \\qandq\n", 
            "      d_j[k] = \\frac{a_{j+1}[2k] - a_{j+1}[2k+1]}{\\sqrt{2}}. $$\n", 
            "\n", 
            "\n", 
            "\n", 
            "Shortcut to compute $a_j, d_j$ from $a_{j+1}$.\n", 
            "\n", 
            ""
          ]
        }, 
        {
          "cell_type": "code", 
          "collapsed": false, 
          "input": [
            "haar = lambda a: [   a(1:2:length(a)) + a(2:2:length(a))\n", 
            "                    a(1:2:length(a)) - a(2:2:length(a)) ]/sqrt(2)"
          ], 
          "language": "python", 
          "outputs": []
        }, 
        {
          "cell_type": "markdown", 
          "metadata": {}, 
          "source": [
            "\n", 
            "\n", 
            "Display the result of the one step of the transform.\n", 
            ""
          ]
        }, 
        {
          "cell_type": "code", 
          "collapsed": false, 
          "input": [
            "\n", 
            "subplot(2,1,1)\n", 
            "plot(f); axis('tight'); title('Signal')\n", 
            "subplot(2,1,2)\n", 
            "plot(haar(f)); axis('tight'); title('Transformed')"
          ], 
          "language": "python", 
          "outputs": []
        }, 
        {
          "cell_type": "markdown", 
          "metadata": {}, 
          "source": [
            "\n", 
            "\n", 
            "The output of the forward transform is stored in the variable |fw|.\n", 
            "At a given iteration indexed by a scale |j|, it will store in |fw(1:2^(j+1))|\n", 
            "the variable $a_{j+1}$, and in the remaining entries the variable\n", 
            "$d_{j+1},d_{j+2},\\ldots,d_J$.\n", 
            "\n", 
            "\n", 
            "Initializes the algorithm at scale $j=J$.\n", 
            ""
          ]
        }, 
        {
          "cell_type": "code", 
          "collapsed": false, 
          "input": [
            "j = J"
          ], 
          "language": "python", 
          "outputs": []
        }, 
        {
          "cell_type": "markdown", 
          "metadata": {}, 
          "source": [
            "\n", 
            "\n", 
            "Initialize |fw| to the full signal.\n", 
            ""
          ]
        }, 
        {
          "cell_type": "code", 
          "collapsed": false, 
          "input": [
            "fw = f"
          ], 
          "language": "python", 
          "outputs": []
        }, 
        {
          "cell_type": "markdown", 
          "metadata": {}, 
          "source": [
            "\n", 
            "\n", 
            "At iteration indexed by $j$,\n", 
            "select the sub-part of the signal containing $a_{j+1}$,\n", 
            "and apply it the Haar operator.\n", 
            ""
          ]
        }, 
        {
          "cell_type": "code", 
          "collapsed": false, 
          "input": [
            "fw(1:2^(j+1)) = haar(fw(1:2^(j+1)))"
          ], 
          "language": "python", 
          "outputs": []
        }, 
        {
          "cell_type": "markdown", 
          "metadata": {}, 
          "source": [
            "\n", 
            "\n", 
            "\n", 
            "Display the signal and its coarse coefficients.\n", 
            ""
          ]
        }, 
        {
          "cell_type": "code", 
          "collapsed": false, 
          "input": [
            "s = 400; t = 40\n", 
            "\n", 
            "subplot(2,1,1)\n", 
            "plot(f,'.-'); axis([s-t s+t 0 1]); title('Signal (zoom)')\n", 
            "subplot(2,1,2)\n", 
            "plot(fw(1:2^j),'.-'); axis([(s-t)/2 (s+t)/2 min(fw(1:2^j)) max(fw(1:2^j))]); title('Averages (zoom)')"
          ], 
          "language": "python", 
          "outputs": []
        }, 
        {
          "cell_type": "heading", 
          "level": 3, 
          "metadata": {}, 
          "source": [
            "Exercise 1"
          ]
        }, 
        {
          "cell_type": "markdown", 
          "metadata": {}, 
          "source": [
            "\n", 
            "Implement a full wavelet Haar transform that extract iteratively wavelet\n", 
            "coefficients, by repeating these steps. Take care of choosing the\n", 
            "correct number of steps.\n", 
            "\n", 
            "\n", 
            "\n", 
            "\n", 
            "\n", 
            "\n", 
            "\n", 
            "\n", 
            "\n", 
            "\n", 
            "\n", 
            "\n", 
            "\n", 
            "\n", 
            "\n", 
            "\n", 
            ""
          ]
        }, 
        {
          "cell_type": "code", 
          "collapsed": false, 
          "input": [
            "## Insert your code here."
          ], 
          "language": "python", 
          "outputs": []
        }, 
        {
          "cell_type": "markdown", 
          "metadata": {}, 
          "source": [
            "\n", 
            "\n", 
            "\n", 
            "Check that the transform is\n", 
            "orthogonal, which means that the energy of the coefficient is the same\n", 
            "as the energy of the signal.\n", 
            ""
          ]
        }, 
        {
          "cell_type": "code", 
          "collapsed": false, 
          "input": [
            "fprintf('Should be 0: %.3f.\\n', (norm(f)-norm(fw))/norm(f))"
          ], 
          "language": "python", 
          "outputs": []
        }, 
        {
          "cell_type": "markdown", 
          "metadata": {}, 
          "source": [
            "\n", 
            "\n", 
            "We display the whole set of coefficients |fw|, with red vertical\n", 
            "separator between the scales.\n", 
            "Can you recognize where are the low frequencies and the high frequencies?\n", 
            ""
          ]
        }, 
        {
          "cell_type": "code", 
          "collapsed": false, 
          "input": [
            "\n", 
            "plot_wavelet(fw)\n", 
            "axis([1 N -2 2])"
          ], 
          "language": "python", 
          "outputs": []
        }, 
        {
          "cell_type": "heading", 
          "level": 2, 
          "metadata": {}, 
          "source": [
            "Backward Haar Transform\n"
          ]
        }, 
        {
          "cell_type": "markdown", 
          "metadata": {}, 
          "source": [
            "The backward transform computes a signal $f_1 = \\Hh^*(h)$ from a set of\n", 
            "coefficients $  h = (d_j)_{j=0}^J \\cup \\{a_0\\} $\n", 
            "\n", 
            "\n", 
            "If $h = \\Hh(f)$ are the coefficients of a signal $f$, one recovers\n", 
            "$ f_1 = f $.\n", 
            "\n", 
            "\n", 
            "The inverse transform starts from $j=0$, and computes $a_{j+1}$\n", 
            "from the knowledge of $a_j,d_j$ as\n", 
            "$$\n", 
            "  \\forall k = 0,\\ldots,2^j-1, \\quad\n", 
            "      a_{j+1}[2k] = \\frac{ a_j[k] + d_j[k] }{\\sqrt{2}}\n", 
            "      a_{j+1}[2k+1] = \\frac{ a_j[k] - d_j[k] }{\\sqrt{2}}\n", 
            "$$\n", 
            "\n", 
            "\n", 
            "One step of inverse transform\n", 
            ""
          ]
        }, 
        {
          "cell_type": "code", 
          "collapsed": false, 
          "input": [
            "ihaar = lambda a,d: assign( zeros(2*length(a),1), ...\n", 
            "        [1:2:2*length(a), 2:2:2*length(a)], [a+d; a-d]/sqrt(2) )"
          ], 
          "language": "python", 
          "outputs": []
        }, 
        {
          "cell_type": "markdown", 
          "metadata": {}, 
          "source": [
            "\n", 
            "\n", 
            "\n", 
            "Initialize the signal to recover $f_1$ as the transformed coefficient, and\n", 
            "select the smallest possible scale $j=0$.\n", 
            ""
          ]
        }, 
        {
          "cell_type": "code", 
          "collapsed": false, 
          "input": [
            "f1 = fw\n", 
            "j = 0"
          ], 
          "language": "python", 
          "outputs": []
        }, 
        {
          "cell_type": "markdown", 
          "metadata": {}, 
          "source": [
            "\n", 
            "\n", 
            "Apply one step of inverse transform.\n", 
            ""
          ]
        }, 
        {
          "cell_type": "code", 
          "collapsed": false, 
          "input": [
            "f1(1:2^(j+1)) = ihaar(f1(1:2^j), f1(2^j+1:2^(j+1)))"
          ], 
          "language": "python", 
          "outputs": []
        }, 
        {
          "cell_type": "heading", 
          "level": 3, 
          "metadata": {}, 
          "source": [
            "Exercise 2"
          ]
        }, 
        {
          "cell_type": "markdown", 
          "metadata": {}, 
          "source": [
            "\n", 
            "Write the inverse wavelet transform that computes |f1| from the\n", 
            "coefficients |fw|.\n", 
            "\n", 
            "\n", 
            "\n", 
            "\n", 
            "\n", 
            "\n", 
            "\n", 
            "\n", 
            "\n", 
            "\n", 
            ""
          ]
        }, 
        {
          "cell_type": "code", 
          "collapsed": false, 
          "input": [
            "## Insert your code here."
          ], 
          "language": "python", 
          "outputs": []
        }, 
        {
          "cell_type": "markdown", 
          "metadata": {}, 
          "source": [
            "\n", 
            "\n", 
            "\n", 
            "Check that we have correctly recovered the signal.\n", 
            ""
          ]
        }, 
        {
          "cell_type": "code", 
          "collapsed": false, 
          "input": [
            "fprintf('Should be 0: %.3f.\\n', (norm(f-f1))/norm(f))"
          ], 
          "language": "python", 
          "outputs": []
        }, 
        {
          "cell_type": "heading", 
          "level": 2, 
          "metadata": {}, 
          "source": [
            "Haar Linear Approximation\n"
          ]
        }, 
        {
          "cell_type": "markdown", 
          "metadata": {}, 
          "source": [
            "Linear approximation is obtained by setting to zeros the\n", 
            "Haar coefficient coefficients above a certain scale $j$.\n", 
            "\n", 
            "\n", 
            "Cut-off scale.\n", 
            ""
          ]
        }, 
        {
          "cell_type": "code", 
          "collapsed": false, 
          "input": [
            "j = J-1"
          ], 
          "language": "python", 
          "outputs": []
        }, 
        {
          "cell_type": "markdown", 
          "metadata": {}, 
          "source": [
            "\n", 
            "\n", 
            "Set to zero fine scale coefficients.\n", 
            ""
          ]
        }, 
        {
          "cell_type": "code", 
          "collapsed": false, 
          "input": [
            "fw1 = fw; fw1(2^j+1:end) = 0"
          ], 
          "language": "python", 
          "outputs": []
        }, 
        {
          "cell_type": "markdown", 
          "metadata": {}, 
          "source": [
            "\n", 
            "\n", 
            "Computing the signal $f_1$ corresponding to these coefficients |fw1|\n", 
            "computes the orthogonal projection on the space of signal that are\n", 
            "constant on disjoint intervals of length $N/2^j$.\n", 
            ""
          ]
        }, 
        {
          "cell_type": "heading", 
          "level": 3, 
          "metadata": {}, 
          "source": [
            "Exercise 3"
          ]
        }, 
        {
          "cell_type": "markdown", 
          "metadata": {}, 
          "source": [
            "\n", 
            "Display the reconstructed signal obtained from |fw1|, for a decreasing cut-off scale $j$.\n", 
            "\n", 
            "\n", 
            "\n", 
            "\n", 
            "\n", 
            "\n", 
            "\n", 
            "\n", 
            "\n", 
            "\n", 
            "\n", 
            "\n", 
            "\n", 
            "\n", 
            ""
          ]
        }, 
        {
          "cell_type": "code", 
          "collapsed": false, 
          "input": [
            "## Insert your code here."
          ], 
          "language": "python", 
          "outputs": []
        }, 
        {
          "cell_type": "markdown", 
          "metadata": {}, 
          "source": [
            "\n", 
            "\n", 
            ""
          ]
        }, 
        {
          "cell_type": "heading", 
          "level": 2, 
          "metadata": {}, 
          "source": [
            "Haar Non-linear Approximation\n"
          ]
        }, 
        {
          "cell_type": "markdown", 
          "metadata": {}, 
          "source": [
            "Non-linear approximation is obtained by thresholding low amplitude\n", 
            "wavelet coefficients.\n", 
            "It is defined as\n", 
            "$$ f_T = \\Hh^* \\circ S_T \\circ \\Hh(f) $$\n", 
            "where $S_T$ is the hard tresholding operator\n", 
            "$$ S_T(x)_i = \\choice{\n", 
            "      x_i \\qifq \\abs{x_i}>T, \\\\\n", 
            "      0 \\quad \\text{otherwise}.\n", 
            "  }. $$\n", 
            ""
          ]
        }, 
        {
          "cell_type": "code", 
          "collapsed": false, 
          "input": [
            "S = lambda x,T:  x .* (abs(x)>T)"
          ], 
          "language": "python", 
          "outputs": []
        }, 
        {
          "cell_type": "markdown", 
          "metadata": {}, 
          "source": [
            "\n", 
            "\n", 
            "Set the threshold value.\n", 
            ""
          ]
        }, 
        {
          "cell_type": "code", 
          "collapsed": false, 
          "input": [
            "T = .5"
          ], 
          "language": "python", 
          "outputs": []
        }, 
        {
          "cell_type": "markdown", 
          "metadata": {}, 
          "source": [
            "\n", 
            "\n", 
            "Threshold the coefficients.\n", 
            ""
          ]
        }, 
        {
          "cell_type": "code", 
          "collapsed": false, 
          "input": [
            "fwT = S(fw,T)"
          ], 
          "language": "python", 
          "outputs": []
        }, 
        {
          "cell_type": "markdown", 
          "metadata": {}, 
          "source": [
            "\n", 
            "\n", 
            "Display the coefficients before and after thresholding.\n", 
            ""
          ]
        }, 
        {
          "cell_type": "code", 
          "collapsed": false, 
          "input": [
            "\n", 
            "subplot(2,1,1)\n", 
            "plot_wavelet(fw); axis('tight'); title('Original coefficients')\n", 
            "subplot(2,1,2)\n", 
            "plot_wavelet(fwT); axis('tight'); title('Thresholded coefficients')"
          ], 
          "language": "python", 
          "outputs": []
        }, 
        {
          "cell_type": "heading", 
          "level": 3, 
          "metadata": {}, 
          "source": [
            "Exercise 4"
          ]
        }, 
        {
          "cell_type": "markdown", 
          "metadata": {}, 
          "source": [
            "\n", 
            "Find the threshold $T$ so that the number of remaining coefficients in\n", 
            "|fwT| is a fixed number $m$. Use this threshold to compute |fwT| and then display\n", 
            "the corresponding approximation $f_1$ of $f$. Try for an increasing number $m$ of coeffiients.\n", 
            "compute the threshold T\n", 
            "\n", 
            "\n", 
            "\n", 
            "\n", 
            "\n", 
            "\n", 
            "\n", 
            "\n", 
            "\n", 
            "\n", 
            "\n", 
            "\n", 
            "\n", 
            "\n", 
            "\n", 
            "\n", 
            "\n", 
            "\n", 
            "\n", 
            "\n", 
            "\n", 
            ""
          ]
        }, 
        {
          "cell_type": "code", 
          "collapsed": false, 
          "input": [
            "## Insert your code here."
          ], 
          "language": "python", 
          "outputs": []
        }, 
        {
          "cell_type": "markdown", 
          "metadata": {}, 
          "source": [
            "\n", 
            ""
          ]
        }, 
        {
          "cell_type": "heading", 
          "level": 2, 
          "metadata": {}, 
          "source": [
            "The Shape of a Wavelet\n"
          ]
        }, 
        {
          "cell_type": "markdown", 
          "metadata": {}, 
          "source": [
            "A wavelet coefficient corresponds to an inner product of $f$ with a wavelet Haar atom\n", 
            "$\\psi_{j,k}$\n", 
            "$$ d_j[k] = \\dotp{f}{\\psi_{j,k}} $$\n", 
            "\n", 
            "\n", 
            "The wavelet $\\psi_{j,k}$ can be computed by applying the inverse wavelet\n", 
            "transform to |fw| where |fw[m]=1| and |fw[s]=0| for $s \\neq m$\n", 
            "where $m = 2^j+k$.\n", 
            ""
          ]
        }, 
        {
          "cell_type": "heading", 
          "level": 3, 
          "metadata": {}, 
          "source": [
            "Exercise 5"
          ]
        }, 
        {
          "cell_type": "markdown", 
          "metadata": {}, 
          "source": [
            "\n", 
            "Compute wavelets at several positions and scales.\n", 
            "\n", 
            "\n", 
            "\n", 
            "\n", 
            "\n", 
            "\n", 
            "\n", 
            "\n", 
            "\n", 
            "\n", 
            "\n", 
            "\n", 
            "\n", 
            "\n", 
            "\n", 
            "\n", 
            "\n", 
            "\n", 
            "\n", 
            "\n", 
            "\n", 
            "\n", 
            ""
          ]
        }, 
        {
          "cell_type": "code", 
          "collapsed": false, 
          "input": [
            "## Insert your code here."
          ], 
          "language": "python", 
          "outputs": []
        }, 
        {
          "cell_type": "markdown", 
          "metadata": {}, 
          "source": [
            "\n", 
            ""
          ]
        }, 
        {
          "cell_type": "heading", 
          "level": 2, 
          "metadata": {}, 
          "source": [
            "Bibliography\n"
          ]
        }
      ]
    }
  ]
}