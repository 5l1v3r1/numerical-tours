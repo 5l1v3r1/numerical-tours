{
  "metadata": {
    "name": ""
  }, 
  "nbformat": 3, 
  "nbformat_minor": 0, 
  "worksheets": [
    {
      "cells": [
        {
          "cell_type": "heading", 
          "level": 1, 
          "metadata": {}, 
          "source": [
            "Forward-Backward Proximal Splitting"
          ]
        }, 
        {
          "cell_type": "markdown", 
          "metadata": {}, 
          "source": [
            "This numerical tour presents the Forward-Backward (FB) algorithm to\n", 
            "minimize the sum of a smooth and a simple function. It shows an\n", 
            "application to sparse-spikes deconvolution.\n", 
            ""
          ]
        }, 
        {
          "cell_type": "markdown", 
          "metadata": {}, 
          "source": [
            "*Important:* You need to download the file `nt_toolbox.py` from the \n", 
            "root of the github repository.\n", 
            "$\\newcommand{\\dotp}[2]{\\langle #1, #2 \\rangle}\n", 
            "\\newcommand{\\enscond}[2]{\\lbrace #1, #2 \\rbrace}\n", 
            "\\newcommand{\\pd}[2]{ \\frac{ \\partial #1}{\\partial #2} }\n", 
            "\\newcommand{\\umin}[1]{\\underset{#1}{\\min}\\;}\n", 
            "\\newcommand{\\norm}[1]{\\|#1\\|}\n", 
            "\\newcommand{\\abs}[1]{\\left|#1\\right|}\n", 
            "\\newcommand{\\choice}[1]{ \\left\\{  \\begin{array}{l} #1 \\end{array} \\right. }\n", 
            "\\newcommand{\\pa}[1]{\\left(#1\\right)}\n", 
            "\\newcommand{\\qandq}{\\quad\\text{and}\\quad}\n", 
            "\\newcommand{\\qwhereq}{\\quad\\text{where}\\quad}\n", 
            "\\newcommand{\\qifq}{ \\quad \\text{if} \\quad }\n", 
            "\\newcommand{\\qarrq}{ \\quad \\Longrightarrow \\quad }\n", 
            "\\newcommand{\\ZZ}{\\mathbb{Z}}\n", 
            "\\newcommand{\\RR}{\\mathbb{R}}\n", 
            "\\newcommand{\\Nn}{\\mathcal{N}}\n", 
            "\\newcommand{\\Hh}{\\mathcal{H}}\n", 
            "\\newcommand{\\Bb}{\\mathcal{B}}\n", 
            "\\newcommand{\\EE}{\\mathbb{E}}\n", 
            "\\newcommand{\\CC}{\\mathbb{C}}\n", 
            "\\newcommand{\\si}{\\sigma}\n", 
            "\\newcommand{\\al}{\\alpha}\n", 
            "\\newcommand{\\la}{\\lambda}\n", 
            "\\newcommand{\\ga}{\\gamma}\n", 
            "\\newcommand{\\Ga}{\\Gamma}\n", 
            "\\newcommand{\\La}{\\Lambda}\n", 
            "\\newcommand{\\si}{\\sigma}\n", 
            "\\newcommand{\\Si}{\\Sigma}\n", 
            "\\newcommand{\\be}{\\beta}\n", 
            "\\newcommand{\\de}{\\delta}\n", 
            "\\newcommand{\\De}{\\Delta}\n", 
            "\\renewcommand{\\phi}{\\varphi}\n", 
            "\\renewcommand{\\th}{\\theta}\n", 
            "\\newcommand{\\om}{\\omega}\n", 
            "\\newcommand{\\Om}{\\Omega}\n", 
            "$"
          ]
        }, 
        {
          "cell_type": "code", 
          "collapsed": false, 
          "input": [
            "from nt_toolbox import *", 
            "%matplotlib inline", 
            "%load_ext autoreload", 
            "%autoreload 2"
          ], 
          "language": "python", 
          "outputs": []
        }, 
        {
          "cell_type": "heading", 
          "level": 2, 
          "metadata": {}, 
          "source": [
            "Bibliography\n"
          ]
        }, 
        {
          "cell_type": "markdown", 
          "metadata": {}, 
          "source": [
            "Excellent review papers on proximal splitting algorithms include:\n", 
            "\n", 
            "\n", 
            "Amir Beck and Marc Teboulle,\n", 
            "_Gradient-Based Algorithms with Applications to Signal Recovery Problems_,\n", 
            "in \"Convex Optimization in Signal Processing and Communications\".\n", 
            "Editors: Yonina Eldar and Daniel Palomar.  Cambridge university press.\n", 
            "\n", 
            "\n", 
            "P. L. Combettes and J.-C. Pesquet,\n", 
            "_Proximal splitting methods in signal processing_,\n", 
            "in: Fixed-Point Algorithms for Inverse Problems in Science and Engineering,\n", 
            "(H. H. Bauschke, R. S. Burachik, P. L. Combettes, V. Elser, D. R. Luke, and H. Wolkowicz, Editors),\n", 
            "pp. 185-212. Springer, New York, 2011.\n", 
            ""
          ]
        }, 
        {
          "cell_type": "heading", 
          "level": 2, 
          "metadata": {}, 
          "source": [
            "Forward-Backward Algorithm\n"
          ]
        }, 
        {
          "cell_type": "markdown", 
          "metadata": {}, 
          "source": [
            "We consider the problem of minimizing the sum of two functions\n", 
            "$$ E^\\star \\umin{x \\in \\RR^N} E(x) = f(x) + g(x). $$\n", 
            "\n", 
            "\n", 
            "We assume that $f$ is a $C^1$ function with $L$-Lipschitz gradient,\n", 
            "which means that\n", 
            "$$ \\forall (x,y) \\in \\RR^N \\times \\RR^N, \\quad\n", 
            "      \\norm{\\nabla f(x) - \\nabla f(y)} \\leq L \\norm{x-y}.  $$\n", 
            "\n", 
            "\n", 
            "We also assume that $g$ is \"simple\", in the sense that one can compute in closed form\n", 
            "the so-called proximal mapping, which is defined as\n", 
            "$$ \\text{prox}_{\\ga g}(x) = \\uargmin{y \\in \\RR^N} \\frac{1}{2}\\norm{x-y}^2 + \\ga g(y). $$\n", 
            "for any $\\ga > 0$.\n", 
            "\n", 
            "\n", 
            "The FB algorithm reads, after initilizing $x^{(0)} \\in \\RR^N$,\n", 
            "$$ x^{(\\ell+1)} = \\text{prox}_{\\ga g}\\pa{ x^{(\\ell)} - \\ga \\nabla f( x^{(\\ell)} )  }. $$\n", 
            "\n", 
            "\n", 
            "If $0 < \\ga < 2/L$, then this scheme converges to a minimizer of\n", 
            "$f+g$.\n", 
            ""
          ]
        }, 
        {
          "cell_type": "heading", 
          "level": 2, 
          "metadata": {}, 
          "source": [
            "Sparse Regularization of Inverse Problems\n"
          ]
        }, 
        {
          "cell_type": "markdown", 
          "metadata": {}, 
          "source": [
            "We consider a linear inverse problem\n", 
            "$$ y = \\Phi x_0 + w  \\in \\RR^P$$\n", 
            "where $x_0 \\in \\RR^N$ is the (unknown) signal to recover, $w \\in\n", 
            "\\RR^P$ is a noise vector, and $\\Phi \\in \\RR^{P \\times N}$ models the\n", 
            "acquisition device.\n", 
            "\n", 
            "\n", 
            "To recover an approximation of the signal $x_0$, we use the Basis\n", 
            "Pursuit denoising method, that use the $\\ell^1$ norm as a sparsity\n", 
            "enforcing penalty\n", 
            "$$ \\umin{x \\in \\RR^N} \\frac{1}{2} \\norm{y-\\Phi x}^2 + \\la \\norm{x}_1, $$\n", 
            "where the $\\ell^1$ norm is defined as\n", 
            "$$ \\norm{x}_1 = \\sum_i \\abs{x_i}. $$\n", 
            "\n", 
            "\n", 
            "The parameter $\\la$ should be set in accordance to the noise level\n", 
            "$\\norm{w}$.\n", 
            "\n", 
            "\n", 
            "This minimization problem can be cast in the form of minimizing $f+g$\n", 
            "where\n", 
            "$$ f(x) = \\frac{1}{2} \\norm{y-\\Phi x}^2\n", 
            "\\qandq g(x) = \\la \\norm{x}_1. $$\n", 
            "\n", 
            "\n", 
            "$f$ is a smooth function, which satisfies\n", 
            "$$ \\nabla f(x) = \\Phi^* (\\Phi x - y),  $$\n", 
            "it has a $L$-Lipschitz gradient with\n", 
            "$$ L = \\norm{ \\Phi^* \\Phi }. $$\n", 
            "\n", 
            "\n", 
            "The $\\ell^1$-norm is \"simple\", because its proximal operator is a soft\n", 
            "thresholding:\n", 
            "$$ \\text{prox}_{\\ga g}(x)_k = \\max\\pa{ 0, 1 - \\frac{\\la \\ga}{\\abs{x_k}} } x_k. $$\n", 
            ""
          ]
        }, 
        {
          "cell_type": "heading", 
          "level": 2, 
          "metadata": {}, 
          "source": [
            "Signal Deconvolution Problem on Synthetic Sparse Data\n"
          ]
        }, 
        {
          "cell_type": "markdown", 
          "metadata": {}, 
          "source": [
            "A simple linearized model of seismic acquisition consider a linear\n", 
            "operator which is a filtering\n", 
            "$$ \\Phi x = \\phi \\star x $$\n", 
            "\n", 
            "\n", 
            "Dimension of the problem.\n", 
            ""
          ]
        }, 
        {
          "cell_type": "code", 
          "collapsed": false, 
          "input": [
            "N = 1024"
          ], 
          "language": "python", 
          "outputs": []
        }, 
        {
          "cell_type": "markdown", 
          "metadata": {}, 
          "source": [
            "\n", 
            "\n", 
            "We load a seismic filter $\\phi$, which is a second derivative of a\n", 
            "Gaussian.\n", 
            "\n", 
            "\n", 
            "Width of the filter.\n", 
            ""
          ]
        }, 
        {
          "cell_type": "code", 
          "collapsed": false, 
          "input": [
            "s = 5"
          ], 
          "language": "python", 
          "outputs": []
        }, 
        {
          "cell_type": "markdown", 
          "metadata": {}, 
          "source": [
            "\n", 
            "\n", 
            "Second derivative of Gaussian.\n", 
            ""
          ]
        }, 
        {
          "cell_type": "code", 
          "collapsed": false, 
          "input": [
            "t = (-N/2:N/2-1)'\n", 
            "h = (1-t.^2/s^2).*exp( -(t.^2)/(2*s^2) )\n", 
            "h = h-mean(h)"
          ], 
          "language": "python", 
          "outputs": []
        }, 
        {
          "cell_type": "markdown", 
          "metadata": {}, 
          "source": [
            "\n", 
            "\n", 
            "Define the operator $\\Phi$.\n", 
            ""
          ]
        }, 
        {
          "cell_type": "code", 
          "collapsed": false, 
          "input": [
            "h1 = fftshift(h); % Recenter the filter for fft use.\n", 
            "Phi = lambda u: real(ifft(fft(h1).*fft(u)))"
          ], 
          "language": "python", 
          "outputs": []
        }, 
        {
          "cell_type": "markdown", 
          "metadata": {}, 
          "source": [
            "\n", 
            "\n", 
            "Display the filter and its Fourier transform.\n", 
            "\n", 
            "Fourier transform (normalized)"
          ]
        }, 
        {
          "cell_type": "code", 
          "collapsed": false, 
          "input": [
            "hf = real(fftshift(fft(h1))) / sqrt(N)"
          ], 
          "language": "python", 
          "outputs": []
        }, 
        {
          "cell_type": "markdown", 
          "metadata": {}, 
          "source": [
            "display"
          ]
        }, 
        {
          "cell_type": "code", 
          "collapsed": false, 
          "input": [
            "q = 200\n", 
            "\n", 
            "subplot(2,1,1)\n", 
            "plot(-N/2+1:N/2, h)\n", 
            "axis([-q q min(h) max(h)])\n", 
            "title('Filter, Spacial (zoom)')\n", 
            "subplot(2,1,2)\n", 
            "plot(-N/2+1:N/2, hf)\n", 
            "axis([-q q 0 max(hf)])\n", 
            "title('Filter, Fourier (zoom)')"
          ], 
          "language": "python", 
          "outputs": []
        }, 
        {
          "cell_type": "markdown", 
          "metadata": {}, 
          "source": [
            "\n", 
            "\n", 
            "We generate a synthetic sparse signal $x_0$, with only a small number of non zero\n", 
            "coefficients.\n", 
            "\n", 
            "\n", 
            "Number of Diracs of the signal.\n", 
            ""
          ]
        }, 
        {
          "cell_type": "code", 
          "collapsed": false, 
          "input": [
            "s = round(N*.03)"
          ], 
          "language": "python", 
          "outputs": []
        }, 
        {
          "cell_type": "markdown", 
          "metadata": {}, 
          "source": [
            "\n", 
            "\n", 
            "Set the seed-number (for reproductibility).\n", 
            ""
          ]
        }, 
        {
          "cell_type": "code", 
          "collapsed": false, 
          "input": [
            "rand('state', 1)\n", 
            "randn('state', 1)"
          ], 
          "language": "python", 
          "outputs": []
        }, 
        {
          "cell_type": "markdown", 
          "metadata": {}, 
          "source": [
            "\n", 
            "\n", 
            "Location of the diracs.\n", 
            ""
          ]
        }, 
        {
          "cell_type": "code", 
          "collapsed": false, 
          "input": [
            "sel = randperm(N); sel = sel(1:s)"
          ], 
          "language": "python", 
          "outputs": []
        }, 
        {
          "cell_type": "markdown", 
          "metadata": {}, 
          "source": [
            "\n", 
            "\n", 
            "Signal $x_0$.\n", 
            ""
          ]
        }, 
        {
          "cell_type": "code", 
          "collapsed": false, 
          "input": [
            "x0 = zeros(N,1); x0(sel) = 1\n", 
            "x0 = x0 .* sign(randn(N,1)) .* (1-.3*rand(N,1))"
          ], 
          "language": "python", 
          "outputs": []
        }, 
        {
          "cell_type": "markdown", 
          "metadata": {}, 
          "source": [
            "\n", 
            "\n", 
            "Noise level.\n", 
            ""
          ]
        }, 
        {
          "cell_type": "code", 
          "collapsed": false, 
          "input": [
            "sigma = .06"
          ], 
          "language": "python", 
          "outputs": []
        }, 
        {
          "cell_type": "markdown", 
          "metadata": {}, 
          "source": [
            "\n", 
            "\n", 
            "Compute the measurements $y=\\Phi x_0 + w$ where $w$ is a realization\n", 
            "of a Gaussian white noise of variance $\\si^2$.\n", 
            ""
          ]
        }, 
        {
          "cell_type": "code", 
          "collapsed": false, 
          "input": [
            "y = Phi(x0) + sigma*randn(N,1)"
          ], 
          "language": "python", 
          "outputs": []
        }, 
        {
          "cell_type": "markdown", 
          "metadata": {}, 
          "source": [
            "\n", 
            "\n", 
            "Display signals and measurements.\n", 
            ""
          ]
        }, 
        {
          "cell_type": "code", 
          "collapsed": false, 
          "input": [
            "clf; ms = 20\n", 
            "subplot(2,1,1)\n", 
            "u = x0; u(x0==0) = NaN\n", 
            "stem(u, 'b.', 'MarkerSize', ms); axis('tight')\n", 
            "title('Signal x_0')\n", 
            "subplot(2,1,2)\n", 
            "plot(y); axis('tight')\n", 
            "title('Measurements y')"
          ], 
          "language": "python", 
          "outputs": []
        }, 
        {
          "cell_type": "heading", 
          "level": 2, 
          "metadata": {}, 
          "source": [
            "Sparse-Spikes Deconvolution\n"
          ]
        }, 
        {
          "cell_type": "markdown", 
          "metadata": {}, 
          "source": [
            "We now implement the FB algorithm for the sparse spikes problem.\n", 
            "\n", 
            "\n", 
            "Regularization strenght $\\la$.\n", 
            ""
          ]
        }, 
        {
          "cell_type": "code", 
          "collapsed": false, 
          "input": [
            "lambda = 1"
          ], 
          "language": "python", 
          "outputs": []
        }, 
        {
          "cell_type": "markdown", 
          "metadata": {}, 
          "source": [
            "\n", 
            "\n", 
            "Define the proximity operator of $\\ga g$.\n", 
            ""
          ]
        }, 
        {
          "cell_type": "code", 
          "collapsed": false, 
          "input": [
            "proxg = lambda x,gamma: perform_thresholding(x, lambda*gamma, 'soft')"
          ], 
          "language": "python", 
          "outputs": []
        }, 
        {
          "cell_type": "markdown", 
          "metadata": {}, 
          "source": [
            "\n", 
            "\n", 
            "\n", 
            "Define the gradient operator of $f$\n", 
            ""
          ]
        }, 
        {
          "cell_type": "code", 
          "collapsed": false, 
          "input": [
            "gradf = lambda x: Phi(Phi(x)-y)"
          ], 
          "language": "python", 
          "outputs": []
        }, 
        {
          "cell_type": "markdown", 
          "metadata": {}, 
          "source": [
            "\n", 
            "\n", 
            "Define the Lipschitz constant of $f$.\n", 
            ""
          ]
        }, 
        {
          "cell_type": "code", 
          "collapsed": false, 
          "input": [
            "L = max(abs(fft(h)))^2"
          ], 
          "language": "python", 
          "outputs": []
        }, 
        {
          "cell_type": "markdown", 
          "metadata": {}, 
          "source": [
            "\n", 
            "\n", 
            "Gradient step size $\\ga$, should be smaller than $2/L$.\n", 
            ""
          ]
        }, 
        {
          "cell_type": "code", 
          "collapsed": false, 
          "input": [
            "gamma = 1.95 / L"
          ], 
          "language": "python", 
          "outputs": []
        }, 
        {
          "cell_type": "markdown", 
          "metadata": {}, 
          "source": [
            "\n", 
            "\n", 
            "Initialization $x^{(0)}$.\n", 
            ""
          ]
        }, 
        {
          "cell_type": "code", 
          "collapsed": false, 
          "input": [
            "x = y"
          ], 
          "language": "python", 
          "outputs": []
        }, 
        {
          "cell_type": "markdown", 
          "metadata": {}, 
          "source": [
            "\n", 
            "\n", 
            "\n", 
            "Perform one step of FB.\n", 
            ""
          ]
        }, 
        {
          "cell_type": "code", 
          "collapsed": false, 
          "input": [
            "x = proxg( x - gamma*gradf(x), gamma )"
          ], 
          "language": "python", 
          "outputs": []
        }, 
        {
          "cell_type": "heading", 
          "level": 3, 
          "metadata": {}, 
          "source": [
            "Exercise 1"
          ]
        }, 
        {
          "cell_type": "markdown", 
          "metadata": {}, 
          "source": [
            "\n", 
            "Compute the solution of L1 deconvolution.\n", 
            "Keep track of the degay of the energy $E=f+g$.\n", 
            "\n", 
            "\n", 
            "\n", 
            "\n", 
            "\n", 
            "\n", 
            "\n", 
            "\n", 
            "display energy decay\n", 
            "\n", 
            "\n", 
            "\n", 
            "\n", 
            ""
          ]
        }, 
        {
          "cell_type": "code", 
          "collapsed": false, 
          "input": [
            "## Insert your code here."
          ], 
          "language": "python", 
          "outputs": []
        }, 
        {
          "cell_type": "markdown", 
          "metadata": {}, 
          "source": [
            "\n", 
            "\n", 
            "\n", 
            "Display the result.\n", 
            ""
          ]
        }, 
        {
          "cell_type": "code", 
          "collapsed": false, 
          "input": [
            "\n", 
            "subplot(2,1,1)\n", 
            "u = x0; u(x0==0) = NaN\n", 
            "stem(u, 'b.', 'MarkerSize', ms); axis('tight')\n", 
            "title(['Signal x0'])\n", 
            "subplot(2,1,2)\n", 
            "u = x; u(x==0) = NaN\n", 
            "stem(u, 'b.', 'MarkerSize', ms); axis('tight')"
          ], 
          "language": "python", 
          "outputs": []
        }, 
        {
          "cell_type": "heading", 
          "level": 2, 
          "metadata": {}, 
          "source": [
            "Over-relaxed Forward-Backward\n"
          ]
        }, 
        {
          "cell_type": "markdown", 
          "metadata": {}, 
          "source": [
            "It is possible to introduce a relaxation parameter $-1 < \\mu < 1$ to average the current\n", 
            "iterate of the FB with the previous one.\n", 
            "In this case, one must set the descent paramter to\n", 
            "$$ \\ga=\\frac{1}{L}. $$\n", 
            ""
          ]
        }, 
        {
          "cell_type": "code", 
          "collapsed": false, 
          "input": [
            "gamma = 1/L"
          ], 
          "language": "python", 
          "outputs": []
        }, 
        {
          "cell_type": "markdown", 
          "metadata": {}, 
          "source": [
            "\n", 
            "\n", 
            "The algorithm initializes $z^{(1)}=x^{(0)} \\in \\RR^N$,\n", 
            "and then it computes\n", 
            "$$ x^{(\\ell)} = \\text{prox}_{\\ga g}\\pa{\n", 
            "              z^{(\\ell)} - \\ga \\nabla f( z^{(\\ell)} )  }.\n", 
            "$$\n", 
            "$$ z^{(\\ell+1)} = x^{(\\ell)} +\n", 
            "      \\mu \\pa{ x^{(\\ell)} - x^{(\\ell-1)} } $$\n", 
            "\n", 
            "\n", 
            "The regime $-1<\\mu <0$ corresponds to under-relaxation. Setting $\\mu=0$,\n", 
            "one recovers the unrelaxed Forward-Backward. Setting $0 < \\mu < 1$\n", 
            "creates over-relaxation.\n", 
            "\n", 
            "\n", 
            "Note that convergence of the iterates $x^{(\\ell)}$ is only guaranteed\n", 
            "for $ -1 < \\mu < 1/2 $, and that one can only prove convergence of $ E(x^{(\\ell)}) $\n", 
            "toward $E^\\star$ in case $ \\mu \\in [1/2,1[ $.\n", 
            "\n", 
            "\n", 
            "For a in-depth analysis of this scheme, see the book:\n", 
            "\n", 
            "\n", 
            "H.H. Bauschke and P.L. Combettes,\n", 
            "_Convex Analysis and Monotone Operator Theory in Hilbert Spaces_\n", 
            "Springer-Verlag (2011)\n", 
            ""
          ]
        }, 
        {
          "cell_type": "heading", 
          "level": 3, 
          "metadata": {}, 
          "source": [
            "Exercise 2"
          ]
        }, 
        {
          "cell_type": "markdown", 
          "metadata": {}, 
          "source": [
            "\n", 
            "Impement the relaxed FB algorithm and display its convergence rate for several values of $\\mu$.\n", 
            "\n", 
            "\n", 
            "\n", 
            "\n", 
            "\n", 
            "\n", 
            "\n", 
            "\n", 
            "\n", 
            "\n", 
            "\n", 
            "\n", 
            "\n", 
            "\n", 
            "\n", 
            "display\n", 
            "\n", 
            "\n", 
            "\n", 
            "\n", 
            "\n", 
            "\n", 
            ""
          ]
        }, 
        {
          "cell_type": "code", 
          "collapsed": false, 
          "input": [
            "## Insert your code here."
          ], 
          "language": "python", 
          "outputs": []
        }, 
        {
          "cell_type": "markdown", 
          "metadata": {}, 
          "source": [
            "\n", 
            ""
          ]
        }, 
        {
          "cell_type": "heading", 
          "level": 2, 
          "metadata": {}, 
          "source": [
            "FISTA Accelerated Algorithm\n"
          ]
        }, 
        {
          "cell_type": "markdown", 
          "metadata": {}, 
          "source": [
            "It is possible to use an adaptive relaxation parameter $\\mu = \\mu^{(\\ell)}$\n", 
            "that changes from iteration to iteration.\n", 
            "\n", 
            "\n", 
            "This strategy is used in the Fast Iterative Soft Thresholding (FISTA)\n", 
            "algorithm introduced in:\n", 
            "\n", 
            "\n", 
            "Amir Beck and Marc Teboulle,\n", 
            "_A Fast Iterative Shrinkage-Thresholding Algorithm for Linear Inverse Problems_,\n", 
            "SIAM Journal on Imaging Sciences 2 (2009), no. 1, 183--202.\n", 
            "\n", 
            "\n", 
            "In this algorithm, the relaxation parameters $\\mu^{(\\ell)}$\n", 
            "are automatically set and tend to the limit value\n", 
            "$$\\mu^{(\\ell)}  \\overset{\\ell \\rightarrow +\\infty}{\\longrightarrow} 1 . $$\n", 
            "\n", 
            "\n", 
            "The step size should be set to:\n", 
            "$$ \\ga = \\frac{1}{L}. $$\n", 
            ""
          ]
        }, 
        {
          "cell_type": "code", 
          "collapsed": false, 
          "input": [
            "gamma = 1/L"
          ], 
          "language": "python", 
          "outputs": []
        }, 
        {
          "cell_type": "markdown", 
          "metadata": {}, 
          "source": [
            "\n", 
            "\n", 
            "The algorithm initializes $z^{(1)}=x^{(0)} \\in \\RR^N$,\n", 
            "and $t^{(1)}=1$ and then it computes\n", 
            "$$ x^{(\\ell)} = \\text{prox}_{\\ga g}\\pa{\n", 
            "              z^{(\\ell)} - \\ga \\nabla f( z^{(\\ell)} )  }.\n", 
            "$$\n", 
            "$$ t^{(\\ell+1)} = \\frac{ 1 + \\sqrt{1+4(t^{(\\ell)})^2} }{2}\n", 
            "  \\qandq \\mu^{(\\ell+1)} = \\frac{t^{(\\ell)}-1}{ t^{(\\ell+1)} } $$\n", 
            "$$ z^{(\\ell+1)} = x^{(\\ell+1)} +\n", 
            "      \\mu^{(\\ell+1)}\n", 
            "  \\pa{ x^{(\\ell)} - x^{(\\ell-1)} } $$\n", 
            "\n", 
            "\n", 
            "For this scheme, one cannot prove convergence of the iterates, but one\n", 
            "can prove that it reaches an optimal convergence rate of the iterates,\n", 
            "namely\n", 
            "$$ E(f^{(\\ell)}) - E^\\star = O(1/\\ell^2) $$\n", 
            "while the convergence rate for the usual FB is only\n", 
            "$O(1/\\ell)$.\n", 
            ""
          ]
        }, 
        {
          "cell_type": "heading", 
          "level": 3, 
          "metadata": {}, 
          "source": [
            "Exercise 3"
          ]
        }, 
        {
          "cell_type": "markdown", 
          "metadata": {}, 
          "source": [
            "\n", 
            "Compute the solution of L1 deconvolution using FISTA.\n", 
            "Keep track of the degay of the energy $E = f+g$.\n", 
            "\n", 
            "\n", 
            "\n", 
            "\n", 
            "\n", 
            "\n", 
            "\n", 
            "\n", 
            "\n", 
            "\n", 
            "\n", 
            "\n", 
            "\n", 
            "\n", 
            "display energy decay\n", 
            "\n", 
            "\n", 
            "\n", 
            "\n", 
            "\n", 
            "\n", 
            "\n", 
            "\n", 
            "\n", 
            "\n", 
            ""
          ]
        }, 
        {
          "cell_type": "code", 
          "collapsed": false, 
          "input": [
            "## Insert your code here."
          ], 
          "language": "python", 
          "outputs": []
        }
      ]
    }
  ]
}