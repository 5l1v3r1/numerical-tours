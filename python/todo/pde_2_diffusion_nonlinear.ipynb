{
  "metadata": {
    "name": ""
  }, 
  "nbformat": 3, 
  "nbformat_minor": 0, 
  "worksheets": [
    {
      "cells": [
        {
          "cell_type": "heading", 
          "level": 1, 
          "metadata": {}, 
          "source": [
            "Non-Linear Diffusion Flows"
          ]
        }, 
        {
          "cell_type": "markdown", 
          "metadata": {}, 
          "source": [
            "This tours details non-linear diffusion PDEs. A good reference for diffusion\n", 
            "flows in image processing is <#biblio [Weickert98]>.\n", 
            ""
          ]
        }, 
        {
          "cell_type": "markdown", 
          "metadata": {}, 
          "source": [
            "*Important:* You need to download the file `nt_toolbox.py` from the \n", 
            "root of the github repository.\n", 
            "$\\newcommand{\\dotp}[2]{\\langle #1, #2 \\rangle}\n", 
            "\\newcommand{\\enscond}[2]{\\lbrace #1, #2 \\rbrace}\n", 
            "\\newcommand{\\pd}[2]{ \\frac{ \\partial #1}{\\partial #2} }\n", 
            "\\newcommand{\\umin}[1]{\\underset{#1}{\\min}\\;}\n", 
            "\\newcommand{\\norm}[1]{\\|#1\\|}\n", 
            "\\newcommand{\\abs}[1]{\\left|#1\\right|}\n", 
            "\\newcommand{\\choice}[1]{ \\left\\{  \\begin{array}{l} #1 \\end{array} \\right. }\n", 
            "\\newcommand{\\pa}[1]{\\left(#1\\right)}\n", 
            "\\newcommand{\\qandq}{\\quad\\text{and}\\quad}\n", 
            "\\newcommand{\\qwhereq}{\\quad\\text{where}\\quad}\n", 
            "\\newcommand{\\qifq}{ \\quad \\text{if} \\quad }\n", 
            "\\newcommand{\\qarrq}{ \\quad \\Longrightarrow \\quad }\n", 
            "\\newcommand{\\ZZ}{\\mathbb{Z}}\n", 
            "\\newcommand{\\RR}{\\mathbb{R}}\n", 
            "\\newcommand{\\Nn}{\\mathcal{N}}\n", 
            "\\newcommand{\\Hh}{\\mathcal{H}}\n", 
            "\\newcommand{\\Bb}{\\mathcal{B}}\n", 
            "\\newcommand{\\EE}{\\mathbb{E}}\n", 
            "\\newcommand{\\CC}{\\mathbb{C}}\n", 
            "\\newcommand{\\si}{\\sigma}\n", 
            "\\newcommand{\\al}{\\alpha}\n", 
            "\\newcommand{\\la}{\\lambda}\n", 
            "\\newcommand{\\ga}{\\gamma}\n", 
            "\\newcommand{\\Ga}{\\Gamma}\n", 
            "\\newcommand{\\La}{\\Lambda}\n", 
            "\\newcommand{\\si}{\\sigma}\n", 
            "\\newcommand{\\Si}{\\Sigma}\n", 
            "\\newcommand{\\be}{\\beta}\n", 
            "\\newcommand{\\de}{\\delta}\n", 
            "\\newcommand{\\De}{\\Delta}\n", 
            "\\renewcommand{\\phi}{\\varphi}\n", 
            "\\renewcommand{\\th}{\\theta}\n", 
            "\\newcommand{\\om}{\\omega}\n", 
            "\\newcommand{\\Om}{\\Omega}\n", 
            "$"
          ]
        }, 
        {
          "cell_type": "code", 
          "collapsed": false, 
          "input": [
            "from nt_toolbox import *", 
            "%matplotlib inline", 
            "%load_ext autoreload", 
            "%autoreload 2"
          ], 
          "language": "python", 
          "outputs": []
        }, 
        {
          "cell_type": "heading", 
          "level": 2, 
          "metadata": {}, 
          "source": [
            "Non-linear Second-order Parabolic PDEs\n"
          ]
        }, 
        {
          "cell_type": "markdown", 
          "metadata": {}, 
          "source": [
            "This tour defines PDE flows that are non-linear extension of the heat\n", 
            "equation. Non-linearity is crucial to produce edge-aware flows that do\n", 
            "not blur the edges.\n", 
            "\n", 
            "\n", 
            "It is also important to produce contrast invariant and affine invariant\n", 
            "flows.\n", 
            "\n", 
            "\n", 
            "These flows can be written as\n", 
            "$$ \\pd{f_t}{t}(x) = G(\\nabla f_t(x), \\nabla^2 f_t(x)). $$\n", 
            "with $f_0$ defined at time $t=0$\n", 
            "(whith the slight modification that a blurring is introduced in the\n", 
            "Perona-Malick flow to stabilize it).\n", 
            "\n", 
            "\n", 
            "They are discretized in space by considering a discrete image\n", 
            "of $N = n \\times n$ pixels.\n", 
            ""
          ]
        }, 
        {
          "cell_type": "code", 
          "collapsed": false, 
          "input": [
            "n = 256"
          ], 
          "language": "python", 
          "outputs": []
        }, 
        {
          "cell_type": "markdown", 
          "metadata": {}, 
          "source": [
            "\n", 
            "\n", 
            "We use finite difference operators $\\nabla$ and $\\text{div}=-\\nabla^*$\n", 
            "with periodic boundary conditions.\n", 
            "\n", 
            "\n", 
            "Load an image $f_0 \\in \\RR^N$, that will be used to initialize the flow at time\n", 
            "$t=0$.\n", 
            ""
          ]
        }, 
        {
          "cell_type": "code", 
          "collapsed": false, 
          "input": [
            "name = 'hibiscus'\n", 
            "f0 = load_image(name,n)\n", 
            "f0 = rescale( sum(f0,3) )"
          ], 
          "language": "python", 
          "outputs": []
        }, 
        {
          "cell_type": "markdown", 
          "metadata": {}, 
          "source": [
            "\n", 
            "\n", 
            "Display it.\n", 
            ""
          ]
        }, 
        {
          "cell_type": "code", 
          "collapsed": false, 
          "input": [
            "\n", 
            "imageplot(f0)"
          ], 
          "language": "python", 
          "outputs": []
        }, 
        {
          "cell_type": "markdown", 
          "metadata": {}, 
          "source": [
            "\n", 
            "\n", 
            "The flow is discretized in time using an explicit time-stepping\n", 
            "$$ f^{(\\ell+1)}(x) = f^{(\\ell)}(x)\n", 
            " + \\tau G(\\nabla f^{(\\ell)}(x), \\nabla^2 f^{(\\ell)}(x)). $$\n", 
            "Here $\\tau>0$ should be small enough, and $f^{(\\ell)}$\n", 
            "produces an approximation of $f_t$ at time $t=\\ell\\tau$.\n", 
            "\n", 
            "\n", 
            "\n", 
            "\n", 
            "Convolutions can be computed in $O(N\\log(N))$ operations using the FFT, since\n", 
            "$$ g = f \\star h \\qarrq \\forall \\om, \\quad \\hat g(\\om) = \\hat f(\\om) \\hat h(\\om).  $$\n", 
            ""
          ]
        }, 
        {
          "cell_type": "code", 
          "collapsed": false, 
          "input": [
            "cconv = lambda f,h: real(ifft2(fft2(f).*fft2(h)))"
          ], 
          "language": "python", 
          "outputs": []
        }, 
        {
          "cell_type": "markdown", 
          "metadata": {}, 
          "source": [
            "\n", 
            "\n", 
            "Define a Gaussian blurring kernel of width $\\si$:\n", 
            "$$ h_\\si(x) = \\frac{1}{Z} e^{ -\\frac{x_1^2+x_2^2}{2\\si^2} }$$\n", 
            "where $Z$ ensures that $\\hat h_\\si(0)=1$.\n", 
            ""
          ]
        }, 
        {
          "cell_type": "code", 
          "collapsed": false, 
          "input": [
            "t = [0:n/2 -n/2+1:-1]\n", 
            "[X2,X1] = meshgrid(t,t)\n", 
            "normalize = lambda h: h/sum(h(:))\n", 
            "h = lambda sigma: normalize( exp( -(X1.^2+X2.^2)/(2*sigma^2) ) )"
          ], 
          "language": "python", 
          "outputs": []
        }, 
        {
          "cell_type": "markdown", 
          "metadata": {}, 
          "source": [
            "\n", 
            "\n", 
            "Set the value of $\\sigma>0$.\n", 
            ""
          ]
        }, 
        {
          "cell_type": "code", 
          "collapsed": false, 
          "input": [
            "sigma = .5"
          ], 
          "language": "python", 
          "outputs": []
        }, 
        {
          "cell_type": "markdown", 
          "metadata": {}, 
          "source": [
            "\n", 
            "\n", 
            "Define blurring operator.\n", 
            ""
          ]
        }, 
        {
          "cell_type": "code", 
          "collapsed": false, 
          "input": [
            "blur = lambda f: cconv(f,h(sigma))"
          ], 
          "language": "python", 
          "outputs": []
        }, 
        {
          "cell_type": "heading", 
          "level": 2, 
          "metadata": {}, 
          "source": [
            "Perona-Malik Flow\n"
          ]
        }, 
        {
          "cell_type": "markdown", 
          "metadata": {}, 
          "source": [
            "The Perona-Malik non-linear diffusion is defined as\n", 
            "$$ \\pd{f_t}{t} = \\text{div}\\pa{ g_\\la( \\norm{\\nabla f_t^\\si} ) \\nabla f_t } $$\n", 
            "where $f^\\si = f \\star h_\\si$.\n", 
            "\n", 
            "\n", 
            "This PDE was introduced in <#biblio [PerMal90]>.\n", 
            "\n", 
            "\n", 
            "\n", 
            "Here, $g_\\la : \\RR^+ \\rightarrow \\RR^+$ is a non-increasing function,\n", 
            "that wechose in the following as\n", 
            "$$ g_\\la(s) = \\frac{1}{\\sqrt{1 + (s/\\la)^2}}. $$\n", 
            ""
          ]
        }, 
        {
          "cell_type": "code", 
          "collapsed": false, 
          "input": [
            "g = lambda s,lambda: 1./sqrt( 1+(s/lambda).^2 )"
          ], 
          "language": "python", 
          "outputs": []
        }, 
        {
          "cell_type": "markdown", 
          "metadata": {}, 
          "source": [
            "\n", 
            "\n", 
            "Note that in the limit $\\la \\rightarrow +\\infty$, one recovers the\n", 
            "linear heat equation\n", 
            "$$ \\pd{f_t}{t} = \\Delta f_t $$\n", 
            "where $\\Delta=\\text{div} \\circ \\nabla$ is the Laplacian.\n", 
            "\n", 
            "\n", 
            "Define $A(f) = \\norm{\\nabla f^\\si}$.\n", 
            ""
          ]
        }, 
        {
          "cell_type": "code", 
          "collapsed": false, 
          "input": [
            "amplitude = lambda u: repmat( sqrt( sum(u.^2,3) ), [1 1 2])\n", 
            "A = lambda f: amplitude(grad(blur(f)))"
          ], 
          "language": "python", 
          "outputs": []
        }, 
        {
          "cell_type": "markdown", 
          "metadata": {}, 
          "source": [
            "\n", 
            "\n", 
            "Initialize the solution at time $t=0$.\n", 
            ""
          ]
        }, 
        {
          "cell_type": "code", 
          "collapsed": false, 
          "input": [
            "f = f0"
          ], 
          "language": "python", 
          "outputs": []
        }, 
        {
          "cell_type": "markdown", 
          "metadata": {}, 
          "source": [
            "\n", 
            "\n", 
            "Set the value of $\\lambda$.\n", 
            ""
          ]
        }, 
        {
          "cell_type": "code", 
          "collapsed": false, 
          "input": [
            "lambda = .01"
          ], 
          "language": "python", 
          "outputs": []
        }, 
        {
          "cell_type": "markdown", 
          "metadata": {}, 
          "source": [
            "\n", 
            "\n", 
            "Set the value of the descent step size $\\tau>0$.\n", 
            ""
          ]
        }, 
        {
          "cell_type": "code", 
          "collapsed": false, 
          "input": [
            "tau = .2"
          ], 
          "language": "python", 
          "outputs": []
        }, 
        {
          "cell_type": "markdown", 
          "metadata": {}, 
          "source": [
            "\n", 
            "\n", 
            "Perform one time stepping.\n", 
            ""
          ]
        }, 
        {
          "cell_type": "code", 
          "collapsed": false, 
          "input": [
            "f = f + tau * div( g(A(f),lambda) .* grad(f) )"
          ], 
          "language": "python", 
          "outputs": []
        }, 
        {
          "cell_type": "markdown", 
          "metadata": {}, 
          "source": [
            "\n", 
            "\n", 
            "Final time.\n", 
            ""
          ]
        }, 
        {
          "cell_type": "code", 
          "collapsed": false, 
          "input": [
            "T = .5/lambda"
          ], 
          "language": "python", 
          "outputs": []
        }, 
        {
          "cell_type": "markdown", 
          "metadata": {}, 
          "source": [
            "\n", 
            "\n", 
            "Number of iteration to reach this final time.\n", 
            ""
          ]
        }, 
        {
          "cell_type": "code", 
          "collapsed": false, 
          "input": [
            "niter = ceil(T/tau)"
          ], 
          "language": "python", 
          "outputs": []
        }, 
        {
          "cell_type": "heading", 
          "level": 3, 
          "metadata": {}, 
          "source": [
            "Exercise 1"
          ]
        }, 
        {
          "cell_type": "markdown", 
          "metadata": {}, 
          "source": [
            "\n", 
            "Implement the Perona-Malick diffusion flow\n", 
            "for $\\la = 10^{-2}$.\n", 
            "\n", 
            "\n", 
            "\n", 
            "\n", 
            "\n", 
            "\n", 
            "\n", 
            "\n", 
            "\n", 
            "\n", 
            "\n", 
            "\n", 
            ""
          ]
        }, 
        {
          "cell_type": "code", 
          "collapsed": false, 
          "input": [
            "## Insert your code here."
          ], 
          "language": "python", 
          "outputs": []
        }, 
        {
          "cell_type": "markdown", 
          "metadata": {}, 
          "source": [
            "\n", 
            ""
          ]
        }, 
        {
          "cell_type": "heading", 
          "level": 3, 
          "metadata": {}, 
          "source": [
            "Exercise 2"
          ]
        }, 
        {
          "cell_type": "markdown", 
          "metadata": {}, 
          "source": [
            "\n", 
            "Implement the Perona-Malick diffusion flow\n", 
            "for $\\la = 10^{-3}$.\n", 
            "\n", 
            "\n", 
            "\n", 
            "\n", 
            "\n", 
            "\n", 
            "\n", 
            "\n", 
            "\n", 
            "\n", 
            "\n", 
            "\n", 
            ""
          ]
        }, 
        {
          "cell_type": "code", 
          "collapsed": false, 
          "input": [
            "## Insert your code here."
          ], 
          "language": "python", 
          "outputs": []
        }, 
        {
          "cell_type": "markdown", 
          "metadata": {}, 
          "source": [
            "\n", 
            ""
          ]
        }, 
        {
          "cell_type": "heading", 
          "level": 2, 
          "metadata": {}, 
          "source": [
            "Mean Curvature Flow\n"
          ]
        }, 
        {
          "cell_type": "markdown", 
          "metadata": {}, 
          "source": [
            "In the limit that $\\la \\rightarrow +\\infty$ and $\\si \\rightarrow 0$\n", 
            "the Perona-Malick flow becomes\n", 
            "$$ \\pd{f_t}{t} = \\text{curv}(f_t) $$\n", 
            "where\n", 
            "$$ \\text{curv}(f) = \\text{div}\\pa{ \\frac{\\nabla f}{\\norm{\\nabla f}} }. $$\n", 
            "One can show that $\\text{curv}(f)(x)$ is the curvature at location\n", 
            "$x$ of the level set $\\enscond{y}{f(y)=f(x)}$.\n", 
            "\n", 
            "\n", 
            "This flow is the gradient descent flow associated to the total variation\n", 
            "$$ J(f) = \\int_{\\RR^2} \\norm{\\nabla f(x)} d x, $$\n", 
            "which can be extended to non-smooth functions of bounded variations.\n", 
            "Indeed, a (sub)gradient of $J$ is $ -\\text{curv}(f) $.\n", 
            "\n", 
            "\n", 
            "Total variation regularization was introcued in <#biblio []>\n", 
            "\n", 
            "\n", 
            "A closely related flow is the so-called mean curvature flow\n", 
            "$$ \\pd{f_t}{t} = \\norm{\\nabla f_t} \\text{curv}(f_t). $$\n", 
            "One can show that this flow is contrast-invariant.\n", 
            "This means that for any non-decreasing function $\\phi : \\RR \\rightarrow\n", 
            "\\RR$, $\\phi \\circ f_t$ is also a solution of the PDE\n", 
            "(possibly up to a re-parameterization of the time variable).\n", 
            "\n", 
            "\n", 
            "One can show that any contrast-invariant flow can be written as\n", 
            "$$ \\pd{f_t}{t} = \\norm{\\nabla f_t} \\psi( \\text{curv}(f_t) ) $$\n", 
            "for a non-decreasing function $\\psi : \\RR \\rightarrow\n", 
            "\\RR$.\n", 
            "\n", 
            "\n", 
            "Implement the curv operator.\n", 
            "We use a small $\\epsilon$ to avoid division by 0.\n", 
            ""
          ]
        }, 
        {
          "cell_type": "code", 
          "collapsed": false, 
          "input": [
            "epsilon = 1e-6\n", 
            "amplitude = lambda u: sqrt(sum(u.^2,3)+epsilon^2)\n", 
            "normalize = lambda u: u./repmat( amplitude(u), [1 1 2])\n", 
            "curv = lambda f: div( normalize(grad(f)) )"
          ], 
          "language": "python", 
          "outputs": []
        }, 
        {
          "cell_type": "heading", 
          "level": 3, 
          "metadata": {}, 
          "source": [
            "Exercise 3"
          ]
        }, 
        {
          "cell_type": "markdown", 
          "metadata": {}, 
          "source": [
            "\n", 
            "Implement the mean curvature flow.\n", 
            "\n", 
            "\n", 
            "\n", 
            "\n", 
            "\n", 
            "\n", 
            "\n", 
            "\n", 
            "\n", 
            "\n", 
            "\n", 
            ""
          ]
        }, 
        {
          "cell_type": "code", 
          "collapsed": false, 
          "input": [
            "## Insert your code here."
          ], 
          "language": "python", 
          "outputs": []
        }, 
        {
          "cell_type": "markdown", 
          "metadata": {}, 
          "source": [
            "\n", 
            "\n", 
            ""
          ]
        }, 
        {
          "cell_type": "heading", 
          "level": 2, 
          "metadata": {}, 
          "source": [
            "Affine Invariant Flow\n"
          ]
        }, 
        {
          "cell_type": "markdown", 
          "metadata": {}, 
          "source": [
            "A flow is affine invariant if $f_t \\circ A$ is also a solution of the PDE\n", 
            "(possibly up to a re-parameterization of the time variable).\n", 
            "\n", 
            "\n", 
            "The only affine invariant and contrast invariant flow is\n", 
            "$$ \\pd{f_t}{t} = \\norm{\\nabla f_t} \\text{curv}(f_t)^{1/3}. $$\n", 
            "where $s^{1/3}= \\text{sign}(s) \\abs{s}^{1/3}$.\n", 
            "\n", 
            "\n", 
            "This result was discovered independently in <#biblio [AlvGuiLiMo93]> and\n", 
            "<#biblio [SapTann93]>\n", 
            "\n", 
            ""
          ]
        }, 
        {
          "cell_type": "heading", 
          "level": 3, 
          "metadata": {}, 
          "source": [
            "Exercise 4"
          ]
        }, 
        {
          "cell_type": "markdown", 
          "metadata": {}, 
          "source": [
            "\n", 
            "Implement the affine-invariant curvature flow.\n", 
            "\n", 
            "\n", 
            "\n", 
            "\n", 
            "\n", 
            "\n", 
            "\n", 
            "\n", 
            "\n", 
            "\n", 
            "\n", 
            "\n", 
            ""
          ]
        }, 
        {
          "cell_type": "code", 
          "collapsed": false, 
          "input": [
            "## Insert your code here."
          ], 
          "language": "python", 
          "outputs": []
        }, 
        {
          "cell_type": "markdown", 
          "metadata": {}, 
          "source": [
            "\n", 
            "\n", 
            "\n", 
            ""
          ]
        }, 
        {
          "cell_type": "heading", 
          "level": 2, 
          "metadata": {}, 
          "source": [
            "Bibliography\n"
          ]
        }
      ]
    }
  ]
}