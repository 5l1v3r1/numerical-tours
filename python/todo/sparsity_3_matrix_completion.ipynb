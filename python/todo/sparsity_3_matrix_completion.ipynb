{
  "metadata": {
    "name": ""
  }, 
  "nbformat": 3, 
  "nbformat_minor": 0, 
  "worksheets": [
    {
      "cells": [
        {
          "cell_type": "heading", 
          "level": 1, 
          "metadata": {}, 
          "source": [
            "Matrix Completion with Nuclear Norm Minimization"
          ]
        }, 
        {
          "cell_type": "markdown", 
          "metadata": {}, 
          "source": [
            "This numerical tour explore the use of convex relaxation to recover low\n", 
            "rank matrices from a few measurements.\n", 
            "\n", 
            "\n", 
            "Special thanks to Jalal Fadili for useful comments and advices.\n", 
            ""
          ]
        }, 
        {
          "cell_type": "markdown", 
          "metadata": {}, 
          "source": [
            "*Important:* You need to download the file `nt_toolbox.py` from the \n", 
            "root of the github repository.\n", 
            "$\\newcommand{\\dotp}[2]{\\langle #1, #2 \\rangle}\n", 
            "\\newcommand{\\enscond}[2]{\\lbrace #1, #2 \\rbrace}\n", 
            "\\newcommand{\\pd}[2]{ \\frac{ \\partial #1}{\\partial #2} }\n", 
            "\\newcommand{\\umin}[1]{\\underset{#1}{\\min}\\;}\n", 
            "\\newcommand{\\norm}[1]{\\|#1\\|}\n", 
            "\\newcommand{\\abs}[1]{\\left|#1\\right|}\n", 
            "\\newcommand{\\choice}[1]{ \\left\\{  \\begin{array}{l} #1 \\end{array} \\right. }\n", 
            "\\newcommand{\\pa}[1]{\\left(#1\\right)}\n", 
            "\\newcommand{\\qandq}{\\quad\\text{and}\\quad}\n", 
            "\\newcommand{\\qwhereq}{\\quad\\text{where}\\quad}\n", 
            "\\newcommand{\\qifq}{ \\quad \\text{if} \\quad }\n", 
            "\\newcommand{\\qarrq}{ \\quad \\Longrightarrow \\quad }\n", 
            "\\newcommand{\\ZZ}{\\mathbb{Z}}\n", 
            "\\newcommand{\\RR}{\\mathbb{R}}\n", 
            "\\newcommand{\\Nn}{\\mathcal{N}}\n", 
            "\\newcommand{\\Hh}{\\mathcal{H}}\n", 
            "\\newcommand{\\Bb}{\\mathcal{B}}\n", 
            "\\newcommand{\\EE}{\\mathbb{E}}\n", 
            "\\newcommand{\\CC}{\\mathbb{C}}\n", 
            "\\newcommand{\\si}{\\sigma}\n", 
            "\\newcommand{\\al}{\\alpha}\n", 
            "\\newcommand{\\la}{\\lambda}\n", 
            "\\newcommand{\\ga}{\\gamma}\n", 
            "\\newcommand{\\Ga}{\\Gamma}\n", 
            "\\newcommand{\\La}{\\Lambda}\n", 
            "\\newcommand{\\si}{\\sigma}\n", 
            "\\newcommand{\\Si}{\\Sigma}\n", 
            "\\newcommand{\\be}{\\beta}\n", 
            "\\newcommand{\\de}{\\delta}\n", 
            "\\newcommand{\\De}{\\Delta}\n", 
            "\\renewcommand{\\phi}{\\varphi}\n", 
            "\\renewcommand{\\th}{\\theta}\n", 
            "\\newcommand{\\om}{\\omega}\n", 
            "\\newcommand{\\Om}{\\Omega}\n", 
            "$"
          ]
        }, 
        {
          "cell_type": "heading", 
          "level": 2, 
          "metadata": {}, 
          "source": [
            "Rank and Singular Values\n"
          ]
        }, 
        {
          "cell_type": "markdown", 
          "metadata": {}, 
          "source": [
            "The singular value decomposition of a matrix $x \\in \\RR^{n \\times n}$\n", 
            "reads\n", 
            "$$ x = U S V^* = \\sum_{i=0}^{n-1} s_i u_i v_i^* $$\n", 
            "where $S = \\diag(s_i)_i$ is the diagonal matrix of singular values\n", 
            "that satisfies\n", 
            "$$ s_0 \\geq \\ldots s_{r-1} > 0 \\qandq \\forall i \\geq r, \\: s_i=0$$\n", 
            "where $r=\\text{rank}(x)$ is the rank of the matrix $x$.\n", 
            "To emphasis the dependancy between the decomposition and $x$ we will\n", 
            "write $s_i(x), U(x), S(x), V(x)$ when needed.\n", 
            "\n", 
            "\n", 
            "Note that the matrices $U,V$ are orthogonal, and the $(u_i)_i$ and $(v_i)_i$\n", 
            "are the columns of these matrices.\n", 
            "\n", 
            "\n", 
            "Size $n \\times n$ of the matrix.\n", 
            ""
          ]
        }, 
        {
          "cell_type": "code", 
          "collapsed": false, 
          "input": [
            "from nt_toolbox import *", 
            "%matplotlib inline", 
            "%load_ext autoreload", 
            "%autoreload 2"
          ], 
          "language": "python", 
          "outputs": []
        }, 
        {
          "cell_type": "markdown", 
          "metadata": {}, 
          "source": [
            "\n", 
            "\n", 
            "Rank $r$ of the matrix.\n", 
            ""
          ]
        }, 
        {
          "cell_type": "code", 
          "collapsed": false, 
          "input": [
            "r = 10"
          ], 
          "language": "python", 
          "outputs": []
        }, 
        {
          "cell_type": "markdown", 
          "metadata": {}, 
          "source": [
            "\n", 
            "\n", 
            "Generate a random matrix $x_0 \\in \\RR^{n \\times n} $ of rank $r$,\n", 
            "as the product of Gaussian vectors.\n", 
            ""
          ]
        }, 
        {
          "cell_type": "code", 
          "collapsed": false, 
          "input": [
            "x0 = randn(n,r)*randn(r,n)"
          ], 
          "language": "python", 
          "outputs": []
        }, 
        {
          "cell_type": "markdown", 
          "metadata": {}, 
          "source": [
            "\n", 
            "\n", 
            "Display the singular values. Only $r$ are non zero, and they are\n", 
            "clustered around the value $n$.\n", 
            ""
          ]
        }, 
        {
          "cell_type": "code", 
          "collapsed": false, 
          "input": [
            "plot(svd(x0), '.-')\n", 
            "axis tight"
          ], 
          "language": "python", 
          "outputs": []
        }, 
        {
          "cell_type": "heading", 
          "level": 2, 
          "metadata": {}, 
          "source": [
            "Matrix Completion\n"
          ]
        }, 
        {
          "cell_type": "markdown", 
          "metadata": {}, 
          "source": [
            "We consider here a simple measurement operator $\\Phi : \\RR^{n \\times n} \\rightarrow \\RR^P$ that retains only a\n", 
            "sub-set of the entries of the matix.\n", 
            "$$ \\Phi x = ( x_i )_{i \\in I} $$\n", 
            "where $\\abs{I}=P$ is the set of extracted indexes.\n", 
            "\n", 
            "\n", 
            "One can of course consider other linear measurement operators.\n", 
            "\n", 
            "\n", 
            "Number $P$ of measurements.\n", 
            ""
          ]
        }, 
        {
          "cell_type": "code", 
          "collapsed": false, 
          "input": [
            "P = round( n*log(n)*r*1 )"
          ], 
          "language": "python", 
          "outputs": []
        }, 
        {
          "cell_type": "markdown", 
          "metadata": {}, 
          "source": [
            "\n", 
            "\n", 
            "We use here a set of random sampling locations.\n", 
            ""
          ]
        }, 
        {
          "cell_type": "code", 
          "collapsed": false, 
          "input": [
            "I = randperm(n*n); I = I(1:P); I = I(:)"
          ], 
          "language": "python", 
          "outputs": []
        }, 
        {
          "cell_type": "markdown", 
          "metadata": {}, 
          "source": [
            "\n", 
            "\n", 
            "Measurement operator and its adjoint.\n", 
            ""
          ]
        }, 
        {
          "cell_type": "code", 
          "collapsed": false, 
          "input": [
            "Phi  = lambda x: x(I)\n", 
            "PhiS= lambda y: reshape( accumarray(I, y, [n*n 1], @sum), [n n])"
          ], 
          "language": "python", 
          "outputs": []
        }, 
        {
          "cell_type": "markdown", 
          "metadata": {}, 
          "source": [
            "\n", 
            "\n", 
            "Measurement $y=\\Phi x_0$.\n", 
            ""
          ]
        }, 
        {
          "cell_type": "code", 
          "collapsed": false, 
          "input": [
            "y = Phi(x0)"
          ], 
          "language": "python", 
          "outputs": []
        }, 
        {
          "cell_type": "markdown", 
          "metadata": {}, 
          "source": [
            "\n", 
            "\n", 
            "The low-rank matrix completion corresponds to the following non-convex\n", 
            "minimization.\n", 
            "$$ x^{\\star} \\in \\uargmin{\\Phi x = y} \\text{rank}(x). $$\n", 
            "\n", 
            ""
          ]
        }, 
        {
          "cell_type": "heading", 
          "level": 2, 
          "metadata": {}, 
          "source": [
            "Noiseless Completion using Douglas Rachford\n"
          ]
        }, 
        {
          "cell_type": "markdown", 
          "metadata": {}, 
          "source": [
            "To obtain fast algorithm, it is possible to convexify the objective\n", 
            "function and use the nuclear norm $ \\norm{x}_{\\star} $\n", 
            "$$ x^{\\star} \\in \\umin{\\Phi x = y} \\norm{x}_{\\star} = \\sum_i s_i(x) $$\n", 
            "This is a convex problem, that can be solved efficiently, as we show next.\n", 
            "\n", 
            "\n", 
            "\n", 
            "It is shown in\n", 
            "\n", 
            "\n", 
            "_The Power of Convex Relaxation: Near-Optimal Matrix Completion_\n", 
            "E. J. Candes and T. Tao,\n", 
            "IEEE Trans. Inform. Theory, 56(5), 2053-2080, 2009.\n", 
            "\n", 
            "\n", 
            "that if the columns of $U(x_0)$ and $V(x_0)$ have a small enough $\\ell^\\infty$ norm,\n", 
            "and if $P \\geq C r n \\log(n)$ for some absolute constant $C$ then\n", 
            "$x^\\star=x_0$.\n", 
            "\n", 
            "\n", 
            "This minimization can be written as\n", 
            "$$ \\umin{ x } F(x) + G(x) \\qwhereq\n", 
            "\\choice{\n", 
            "      F(x) = i_{\\Cc}(x), \\\\\n", 
            "      G(x) = \\norm{x}_{\\star}.\n", 
            "  }\n", 
            "$$\n", 
            "where $\\Cc = \\enscond{x}{\\Phi x =y}$.\n", 
            "\n", 
            "\n", 
            "One can solve this problem using the Douglas-Rachford iterations\n", 
            "$$ \\tilde x_{k+1} = \\pa{1-\\frac{\\mu}{2}} \\tilde x_k +\n", 
            "  \\frac{\\mu}{2} \\text{rPox}_{\\gamma G}( \\text{rProx}_{\\gamma F}(\\tilde x_k)  )\n", 
            "  \\qandq x_{k+1} = \\text{Prox}_{\\gamma F}(\\tilde x_{k+1},) $$\n", 
            "\n", 
            "\n", 
            "We have use the following definition for the proximal and\n", 
            "reversed-proximal mappings:\n", 
            "$$ \\text{rProx}_{\\gamma F}(x) = 2\\text{Prox}_{\\gamma F}(x)-x $$\n", 
            "$$ \\text{Prox}_{\\gamma F}(x) = \\uargmin{y} \\frac{1}{2}\\norm{x-y}^2 + \\ga F(y). $$\n", 
            "\n", 
            "\n", 
            "One can show that for any value of $\\gamma>0$, any $ 0 < \\mu < 2 $,\n", 
            "and any $\\tilde x_0$, $x_k \\rightarrow x^\\star$\n", 
            "which is a solution of the minimization of $F+G$.\n", 
            "\n", 
            "\n", 
            "$$ \\text{Prox}_{\\gamma F}(x) = \\uargmin{y} \\frac{1}{2}\\norm{x-y}^2 + \\ga F(y). $$\n", 
            "\n", 
            "\n", 
            "The proximal operator of $F$ is the orthogonal projection on $\\Cc$.\n", 
            "It is computed as\n", 
            "$$ \\text{Prox}_{\\ga F}(x) = x + \\Phi^*(y-\\Phi x). $$\n", 
            ""
          ]
        }, 
        {
          "cell_type": "code", 
          "collapsed": false, 
          "input": [
            "ProxF = lambda x,gamma: x + PhiS(y-Phi(x))"
          ], 
          "language": "python", 
          "outputs": []
        }, 
        {
          "cell_type": "markdown", 
          "metadata": {}, 
          "source": [
            "\n", 
            "\n", 
            "The proximal operator of $G$ is the soft thresholding of the singular\n", 
            "values\n", 
            "$$ \\text{Prox}_{\\ga F}(x) = U(x) \\rho_\\la( S(x) ) V(x)^*  $$\n", 
            "where, for $ S=\\text{diag}(s_i)_i $\n", 
            "$$ \\rho_\\la(S) = \\diag\\pa{ \\max(0,1-\\la/\\abs{s_i}) s_i  }_i. $$\n", 
            "\n", 
            "\n", 
            "Define $\\rho_\\la$ as a diagonal operator.\n", 
            "\n", 
            ""
          ]
        }, 
        {
          "cell_type": "code", 
          "collapsed": false, 
          "input": [
            "SoftThresh = lambda x,gamma: max(0,1-gamma./max(abs(x),1e-10)).*x"
          ], 
          "language": "python", 
          "outputs": []
        }, 
        {
          "cell_type": "markdown", 
          "metadata": {}, 
          "source": [
            "\n", 
            "\n", 
            "Display it in 1-D.\n", 
            ""
          ]
        }, 
        {
          "cell_type": "code", 
          "collapsed": false, 
          "input": [
            "t = linspace(-10,10,1000)\n", 
            "h = plot(t, SoftThresh(t,3)); axis tight; axis equal\n", 
            "set(h, 'LineWidth', 2)"
          ], 
          "language": "python", 
          "outputs": []
        }, 
        {
          "cell_type": "markdown", 
          "metadata": {}, 
          "source": [
            "\n", 
            "\n", 
            "Define the proximal mapping $\\text{Prox}_{\\ga F}$.\n", 
            ""
          ]
        }, 
        {
          "cell_type": "code", 
          "collapsed": false, 
          "input": [
            "prod = lambda a,b,c: a*b*c\n", 
            "SoftThreshDiag = lambda a,b,c,gamma: a*diag(SoftThresh(diag(b),gamma))*c'\n", 
            "ProxG = lambda x,gamma: apply_multiple_ouput(lambda a,b,c: SoftThreshDiag(a,b,c,gamma), @svd, x)"
          ], 
          "language": "python", 
          "outputs": []
        }, 
        {
          "cell_type": "markdown", 
          "metadata": {}, 
          "source": [
            "\n", 
            "\n", 
            "Compute the reversed prox operators.\n", 
            ""
          ]
        }, 
        {
          "cell_type": "code", 
          "collapsed": false, 
          "input": [
            "rProxF = lambda x,gamma: 2*ProxF(x,gamma)-x\n", 
            "rProxG = lambda x,gamma: 2*ProxG(x,gamma)-x"
          ], 
          "language": "python", 
          "outputs": []
        }, 
        {
          "cell_type": "markdown", 
          "metadata": {}, 
          "source": [
            "\n", 
            "\n", 
            "Value for the $0 < \\mu < 2$ and $\\gamma>0$ parameters.\n", 
            "You can use other values, this might speed up the convergence.\n", 
            ""
          ]
        }, 
        {
          "cell_type": "code", 
          "collapsed": false, 
          "input": [
            "mu = 1\n", 
            "gamma = 1"
          ], 
          "language": "python", 
          "outputs": []
        }, 
        {
          "cell_type": "heading", 
          "level": 3, 
          "metadata": {}, 
          "source": [
            "Exercise 1"
          ]
        }, 
        {
          "cell_type": "markdown", 
          "metadata": {}, 
          "source": [
            "\n", 
            "Implement the Douglas-Rachford iterative algorithm.\n", 
            "Keep track of the evolution of the nuclear norm $G(x_k)$.\n", 
            "\n", 
            "\n", 
            "\n", 
            "\n", 
            "\n", 
            "\n", 
            "\n", 
            "\n", 
            "\n", 
            "\n", 
            "\n", 
            "\n", 
            "\n", 
            "\n", 
            "\n", 
            ""
          ]
        }, 
        {
          "cell_type": "code", 
          "collapsed": false, 
          "input": [
            "## Insert your code here."
          ], 
          "language": "python", 
          "outputs": []
        }, 
        {
          "cell_type": "markdown", 
          "metadata": {}, 
          "source": [
            "\n", 
            "\n", 
            "\n", 
            "In this case, the matrix is recovered exactly, $A^\\star=A_0$.\n", 
            ""
          ]
        }, 
        {
          "cell_type": "code", 
          "collapsed": false, 
          "input": [
            "disp(['|A-A_0|/|A_0| = ' num2str(norm(x-x0)/norm(x), 2)])"
          ], 
          "language": "python", 
          "outputs": []
        }, 
        {
          "cell_type": "heading", 
          "level": 3, 
          "metadata": {}, 
          "source": [
            "Exercise 2"
          ]
        }, 
        {
          "cell_type": "markdown", 
          "metadata": {}, 
          "source": [
            "\n", 
            "Compute, for several value of rank $r$, an empirical estimate of\n", 
            "the ratio of rank-$r$ random matrice than are exactly recovered using\n", 
            "nuclear norm minimization.\n", 
            "\n", 
            "\n", 
            "\n", 
            "\n", 
            "\n", 
            "\n", 
            "\n", 
            "\n", 
            "\n", 
            "\n", 
            "\n", 
            "\n", 
            "\n", 
            "\n", 
            "\n", 
            "\n", 
            "\n", 
            "\n", 
            "\n", 
            "\n", 
            "\n", 
            "\n", 
            "\n", 
            "\n", 
            "\n", 
            "\n", 
            "\n", 
            "\n", 
            ""
          ]
        }, 
        {
          "cell_type": "code", 
          "collapsed": false, 
          "input": [
            "## Insert your code here."
          ], 
          "language": "python", 
          "outputs": []
        }, 
        {
          "cell_type": "markdown", 
          "metadata": {}, 
          "source": [
            "\n", 
            "\n", 
            ""
          ]
        }, 
        {
          "cell_type": "heading", 
          "level": 2, 
          "metadata": {}, 
          "source": [
            "Noisy Completion using Forward-Backward\n"
          ]
        }, 
        {
          "cell_type": "markdown", 
          "metadata": {}, 
          "source": [
            "In the case where $x_0$ does not have low rank but a fast decreasing\n", 
            "set\n", 
            "of singular values $ (s_i(x_0))_i $, and if one has noisy observations\n", 
            "$y = \\Phi x_0 + w$, where $w \\in \\RR^P$ is some noise perturbation,\n", 
            "then it makes sense to consider a Lagrangian minimization\n", 
            "$$ \\umin{x \\in \\RR^{n \\times n}} \\frac{1}{2}\\norm{y-\\Phi x}^2 + \\la \\norm{x}_{\\star} $$\n", 
            "where $\\la>0$ controls the sparsity of the singular values of the\n", 
            "solution.\n", 
            "\n", 
            "\n", 
            "Construct a matrix with decaying singular values.\n", 
            ""
          ]
        }, 
        {
          "cell_type": "code", 
          "collapsed": false, 
          "input": [
            "alpha = 1\n", 
            "[U,R] = qr(randn(n))\n", 
            "[V,R] = qr(randn(n))\n", 
            "S = (1:n).^(-alpha)\n", 
            "x0 = U*diag(S)*V'"
          ], 
          "language": "python", 
          "outputs": []
        }, 
        {
          "cell_type": "markdown", 
          "metadata": {}, 
          "source": [
            "\n", 
            "\n", 
            "Display the spectrum.\n", 
            ""
          ]
        }, 
        {
          "cell_type": "code", 
          "collapsed": false, 
          "input": [
            "\n", 
            "h = plot(S); axis tight\n", 
            "set(h, 'LineWidth', 2)"
          ], 
          "language": "python", 
          "outputs": []
        }, 
        {
          "cell_type": "markdown", 
          "metadata": {}, 
          "source": [
            "\n", 
            "\n", 
            "Number of measurements.\n", 
            ""
          ]
        }, 
        {
          "cell_type": "code", 
          "collapsed": false, 
          "input": [
            "P = n*n/4"
          ], 
          "language": "python", 
          "outputs": []
        }, 
        {
          "cell_type": "markdown", 
          "metadata": {}, 
          "source": [
            "\n", 
            "\n", 
            "Measurement operator.\n", 
            ""
          ]
        }, 
        {
          "cell_type": "code", 
          "collapsed": false, 
          "input": [
            "I = randperm(n*n); I = I(1:P); I = I(:)\n", 
            "Phi  = lambda x: x(I)\n", 
            "PhiS= lambda y: reshape( accumarray(I, y, [n*n 1], @sum), [n n])"
          ], 
          "language": "python", 
          "outputs": []
        }, 
        {
          "cell_type": "markdown", 
          "metadata": {}, 
          "source": [
            "\n", 
            "\n", 
            "Noise level.\n", 
            ""
          ]
        }, 
        {
          "cell_type": "code", 
          "collapsed": false, 
          "input": [
            "sigma = std(x0(:))/5"
          ], 
          "language": "python", 
          "outputs": []
        }, 
        {
          "cell_type": "markdown", 
          "metadata": {}, 
          "source": [
            "\n", 
            "\n", 
            "\n", 
            "Measurements $y=\\Phi x_0 + w$ where $w \\in \\RR^P$ is a Gaussian white noise.\n", 
            ""
          ]
        }, 
        {
          "cell_type": "code", 
          "collapsed": false, 
          "input": [
            "y = Phi(x0)+sigma*randn(P,1)"
          ], 
          "language": "python", 
          "outputs": []
        }, 
        {
          "cell_type": "markdown", 
          "metadata": {}, 
          "source": [
            "\n", 
            "\n", 
            "It is possible to find a minimizer of the Lagrangian minimization problem using the\n", 
            "forward-backward method:\n", 
            "$$ x_{k+1} = \\text{Prox}_{\\ga \\lambda G}\\pa{ x_k - \\ga\\Phi^*(\\Phi x_k - y) }. $$\n", 
            "where $\\ga < 2/\\norm{\\Phi^* \\Phi} = 2. $\n", 
            "\n", 
            "\n", 
            "Value for $\\lambda$.\n", 
            ""
          ]
        }, 
        {
          "cell_type": "code", 
          "collapsed": false, 
          "input": [
            "lambda = .01"
          ], 
          "language": "python", 
          "outputs": []
        }, 
        {
          "cell_type": "heading", 
          "level": 3, 
          "metadata": {}, 
          "source": [
            "Exercise 3"
          ]
        }, 
        {
          "cell_type": "markdown", 
          "metadata": {}, 
          "source": [
            "\n", 
            "Implement the forward-backward method, monitor the decay of the enrgy\n", 
            "minimized by the algorithm.\n", 
            "\n", 
            "\n", 
            "\n", 
            "\n", 
            "\n", 
            "\n", 
            "\n", 
            "\n", 
            "\n", 
            "\n", 
            ""
          ]
        }, 
        {
          "cell_type": "code", 
          "collapsed": false, 
          "input": [
            "## Insert your code here."
          ], 
          "language": "python", 
          "outputs": []
        }, 
        {
          "cell_type": "markdown", 
          "metadata": {}, 
          "source": [
            "\n", 
            "\n", 
            ""
          ]
        }, 
        {
          "cell_type": "heading", 
          "level": 3, 
          "metadata": {}, 
          "source": [
            "Exercise 4"
          ]
        }, 
        {
          "cell_type": "markdown", 
          "metadata": {}, 
          "source": [
            "\n", 
            "Plot the error $\\norm{x^\\star-x_0}/\\norm{x_0}$ as a function of the mutiplier\n", 
            "$\\lambda$."
          ]
        }, 
        {
          "cell_type": "code", 
          "collapsed": false, 
          "input": [
            "## Insert your code here."
          ], 
          "language": "python", 
          "outputs": []
        }
      ]
    }
  ]
}