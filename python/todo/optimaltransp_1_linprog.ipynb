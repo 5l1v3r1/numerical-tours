{
  "metadata": {
    "name": ""
  }, 
  "nbformat": 3, 
  "nbformat_minor": 0, 
  "worksheets": [
    {
      "cells": [
        {
          "cell_type": "heading", 
          "level": 1, 
          "metadata": {}, 
          "source": [
            "Optimal Transport with Linear Programming"
          ]
        }, 
        {
          "cell_type": "markdown", 
          "metadata": {}, 
          "source": [
            "This numerical tours details how to solve the discrete optimal transport\n", 
            "problem (in the case of measures that are sums of Diracs) using linear\n", 
            "programming.\n", 
            ""
          ]
        }, 
        {
          "cell_type": "markdown", 
          "metadata": {}, 
          "source": [
            "*Important:* You need to download the file `nt_toolbox.py` from the \n", 
            "root of the github repository.\n", 
            "$\\newcommand{\\dotp}[2]{\\langle #1, #2 \\rangle}\n", 
            "\\newcommand{\\enscond}[2]{\\lbrace #1, #2 \\rbrace}\n", 
            "\\newcommand{\\pd}[2]{ \\frac{ \\partial #1}{\\partial #2} }\n", 
            "\\newcommand{\\umin}[1]{\\underset{#1}{\\min}\\;}\n", 
            "\\newcommand{\\norm}[1]{\\|#1\\|}\n", 
            "\\newcommand{\\abs}[1]{\\left|#1\\right|}\n", 
            "\\newcommand{\\choice}[1]{ \\left\\{  \\begin{array}{l} #1 \\end{array} \\right. }\n", 
            "\\newcommand{\\pa}[1]{\\left(#1\\right)}\n", 
            "\\newcommand{\\qandq}{\\quad\\text{and}\\quad}\n", 
            "\\newcommand{\\qwhereq}{\\quad\\text{where}\\quad}\n", 
            "\\newcommand{\\qifq}{ \\quad \\text{if} \\quad }\n", 
            "\\newcommand{\\qarrq}{ \\quad \\Longrightarrow \\quad }\n", 
            "\\newcommand{\\ZZ}{\\mathbb{Z}}\n", 
            "\\newcommand{\\RR}{\\mathbb{R}}\n", 
            "\\newcommand{\\Nn}{\\mathcal{N}}\n", 
            "\\newcommand{\\Hh}{\\mathcal{H}}\n", 
            "\\newcommand{\\Bb}{\\mathcal{B}}\n", 
            "\\newcommand{\\EE}{\\mathbb{E}}\n", 
            "\\newcommand{\\CC}{\\mathbb{C}}\n", 
            "\\newcommand{\\si}{\\sigma}\n", 
            "\\newcommand{\\al}{\\alpha}\n", 
            "\\newcommand{\\la}{\\lambda}\n", 
            "\\newcommand{\\ga}{\\gamma}\n", 
            "\\newcommand{\\Ga}{\\Gamma}\n", 
            "\\newcommand{\\La}{\\Lambda}\n", 
            "\\newcommand{\\si}{\\sigma}\n", 
            "\\newcommand{\\Si}{\\Sigma}\n", 
            "\\newcommand{\\be}{\\beta}\n", 
            "\\newcommand{\\de}{\\delta}\n", 
            "\\newcommand{\\De}{\\Delta}\n", 
            "\\renewcommand{\\phi}{\\varphi}\n", 
            "\\renewcommand{\\th}{\\theta}\n", 
            "\\newcommand{\\om}{\\omega}\n", 
            "\\newcommand{\\Om}{\\Omega}\n", 
            "$"
          ]
        }, 
        {
          "cell_type": "code", 
          "collapsed": false, 
          "input": [
            "from nt_toolbox import *", 
            "%matplotlib inline", 
            "%load_ext autoreload", 
            "%autoreload 2"
          ], 
          "language": "python", 
          "outputs": []
        }, 
        {
          "cell_type": "heading", 
          "level": 2, 
          "metadata": {}, 
          "source": [
            "Optimal Transport of Discrete Distribution\n"
          ]
        }, 
        {
          "cell_type": "markdown", 
          "metadata": {}, 
          "source": [
            "We consider two dicretes distributions\n", 
            "$$ \\forall k=0,1, \\quad \\mu_k = \\sum_{i=1}^{n_k} p_{k,i} \\de_{x_{k,i}} $$\n", 
            "where $n_0,n_1$ are the number of points, $\\de_x$ is the Dirac at\n", 
            "location $x \\in \\RR^d$, and $ X_k = ( x_{k,i} )_{i=1}^{n_i} \\subset \\RR^d$ for $k=0,1$\n", 
            "are two point clouds.\n", 
            "\n", 
            "\n", 
            "We define the set of couplings between $\\mu_0,\\mu_1$ as\n", 
            "$$ \\Pp = \\enscond{ (\\ga_{i,j})_{i,j} \\in (\\RR^+)^{n_0 \\times n_1} }{\n", 
            "     \\forall i, \\sum_j \\ga_{i,j} = p_{0,i}, \\:\n", 
            "     \\forall j, \\sum_i \\ga_{i,j} = p_{1,j} } $$\n", 
            "\n", 
            "\n", 
            "The Kantorovitch formulation of the optimal transport reads\n", 
            "$$ \\ga^\\star \\in \\uargmin{\\ga \\in \\Pp} \\sum_{i,j} \\ga_{i,j} C_{i,j}  $$\n", 
            "where $C_{i,j} \\geq 0$ is the cost of moving some mass from $x_{0,i}$\n", 
            "to $x_{1,j}$.\n", 
            "\n", 
            "\n", 
            "The optimal coupling $\\ga^\\star$ can be shown to be a sparse matrix\n", 
            "with less than $n_0+n_1-1$ non zero entries. An entry $\\ga_{i,j}^\\star \\neq 0$\n", 
            "should be understood as a link between $x_{0,i}$\n", 
            "and $x_{1,j}$ where an amount of mass equal to $\\ga_{i,j}^\\star$ is transfered.\n", 
            "\n", 
            "\n", 
            "In the following, we concentrate on the $L^2$ Wasserstein distance.\n", 
            "$$ C_{i,j}=\\norm{x_{0,i}-x_{1,j}}^2. $$\n", 
            "\n", 
            "\n", 
            "The $L^2$ Wasserstein distance is then defined as\n", 
            "$$ W_2(\\mu_0,\\mu_1)^2 = \\sum_{i,j} \\ga_{i,j}^\\star C_{i,j}. $$\n", 
            "\n", 
            "\n", 
            "The coupling constraint\n", 
            "$$\n", 
            "     \\forall i, \\sum_j \\ga_{i,j} = p_{0,i}, \\:\n", 
            "     \\forall j, \\sum_i \\ga_{i,j} = p_{1,j}\n", 
            "$$\n", 
            "can be expressed in matrix form as\n", 
            "$$ \\Sigma(n_0,n_1) \\ga = [p_0;p_1] $$\n", 
            "where $ \\Sigma(n_0,n_1) \\in \\RR^{ (n_0+n_1) \\times (n_0 n_1) } $.\n", 
            ""
          ]
        }, 
        {
          "cell_type": "code", 
          "collapsed": false, 
          "input": [
            "flat = lambda x: x(:)\n", 
            "Cols = lambda n0,n1: sparse( flat(repmat(1:n1, [n0 1])), ...\n", 
            "             flat(reshape(1:n0*n1,n0,n1) ), ...\n", 
            "             ones(n0*n1,1) )\n", 
            "Rows = lambda n0,n1: sparse( flat(repmat(1:n0, [n1 1])), ...\n", 
            "             flat(reshape(1:n0*n1,n0,n1)' ), ...\n", 
            "             ones(n0*n1,1) )\n", 
            "Sigma = lambda n0,n1: [Rows(n0,n1);Cols(n0,n1)]"
          ], 
          "language": "python", 
          "outputs": []
        }, 
        {
          "cell_type": "markdown", 
          "metadata": {}, 
          "source": [
            "\n", 
            "\n", 
            "We use a simplex algorithm to compute the optimal transport coupling\n", 
            "$\\ga^\\star$.\n", 
            ""
          ]
        }, 
        {
          "cell_type": "code", 
          "collapsed": false, 
          "input": [
            "maxit = 1e4; tol = 1e-9\n", 
            "otransp = lambda C,p0,p1: reshape( perform_linprog( ...\n", 
            "        Sigma(length(p0),length(p1)), ...\n", 
            "        [p0(:);p1(:)], C(:), 0, maxit, tol), [length(p0) length(p1)] )"
          ], 
          "language": "python", 
          "outputs": []
        }, 
        {
          "cell_type": "markdown", 
          "metadata": {}, 
          "source": [
            "\n", 
            "\n", 
            "Dimensions $n_0, n_1$ of the clouds.\n", 
            ""
          ]
        }, 
        {
          "cell_type": "code", 
          "collapsed": false, 
          "input": [
            "n0 = 60\n", 
            "n1 = 80"
          ], 
          "language": "python", 
          "outputs": []
        }, 
        {
          "cell_type": "markdown", 
          "metadata": {}, 
          "source": [
            "\n", 
            "\n", 
            "Compute a first point cloud $X_0$ that is Gaussian.\n", 
            "and a second point cloud $X_1$ that is Gaussian mixture.\n", 
            ""
          ]
        }, 
        {
          "cell_type": "code", 
          "collapsed": false, 
          "input": [
            "gauss = lambda q,a,c: a*randn(2,q)+repmat(c(:), [1 q])\n", 
            "X0 = randn(2,n0)*.3\n", 
            "X1 = [gauss(n1/2,.5, [0 1.6]) gauss(n1/4,.3, [-1 -1]) gauss(n1/4,.3, [1 -1])]"
          ], 
          "language": "python", 
          "outputs": []
        }, 
        {
          "cell_type": "markdown", 
          "metadata": {}, 
          "source": [
            "\n", 
            "\n", 
            "Density weights $p_0, p_1$.\n", 
            ""
          ]
        }, 
        {
          "cell_type": "code", 
          "collapsed": false, 
          "input": [
            "normalize = lambda a: a/sum(a(:))\n", 
            "p0 = normalize(rand(n0,1))\n", 
            "p1 = normalize(rand(n1,1))"
          ], 
          "language": "python", 
          "outputs": []
        }, 
        {
          "cell_type": "markdown", 
          "metadata": {}, 
          "source": [
            "\n", 
            "\n", 
            "Shortcut for display.\n", 
            ""
          ]
        }, 
        {
          "cell_type": "code", 
          "collapsed": false, 
          "input": [
            "myplot = lambda x,y,ms,col: plot(x,y, 'o', 'MarkerSize', ms, 'MarkerEdgeColor', 'k', 'MarkerFaceColor', col, 'LineWidth', 2)"
          ], 
          "language": "python", 
          "outputs": []
        }, 
        {
          "cell_type": "markdown", 
          "metadata": {}, 
          "source": [
            "\n", 
            "\n", 
            "Display the point clouds.\n", 
            "The size of each dot is proportional to its probability density weight.\n", 
            ""
          ]
        }, 
        {
          "cell_type": "code", 
          "collapsed": false, 
          "input": [
            "clf; hold on\n", 
            "for i in 1:length(p0):\n", 
            "    myplot(X0(1,i), X0(2,i), p0(i)*length(p0)*10, 'b')\n", 
            "\n", 
            "for i in 1:length(p1):\n", 
            "    myplot(X1(1,i), X1(2,i), p1(i)*length(p1)*10, 'r')\n", 
            "\n", 
            "axis([min(X1(1,:)) max(X1(1,:)) min(X1(2,:)) max(X1(2,:))]); axis off"
          ], 
          "language": "python", 
          "outputs": []
        }, 
        {
          "cell_type": "markdown", 
          "metadata": {}, 
          "source": [
            "\n", 
            "\n", 
            "Compute the weight matrix $ (C_{i,j})_{i,j}. $\n", 
            ""
          ]
        }, 
        {
          "cell_type": "code", 
          "collapsed": false, 
          "input": [
            "C = repmat( sum(X0.^2)', [1 n1] ) + ...\n", 
            "    repmat( sum(X1.^2), [n0 1] ) - 2*X0'*X1"
          ], 
          "language": "python", 
          "outputs": []
        }, 
        {
          "cell_type": "markdown", 
          "metadata": {}, 
          "source": [
            "\n", 
            "\n", 
            "Compute the optimal transport plan.\n", 
            ""
          ]
        }, 
        {
          "cell_type": "code", 
          "collapsed": false, 
          "input": [
            "gamma = otransp(C,p0,p1)"
          ], 
          "language": "python", 
          "outputs": []
        }, 
        {
          "cell_type": "markdown", 
          "metadata": {}, 
          "source": [
            "\n", 
            "\n", 
            "Check that the number of non-zero entries in $\\ga^\\star$ is $n_0+n_1-1$.\n", 
            ""
          ]
        }, 
        {
          "cell_type": "code", 
          "collapsed": false, 
          "input": [
            "fprintf('Number of non-zero: %d (n0+n1-1=%d)\\n', full(sum(gamma(:)~=0)), n0+n1-1)"
          ], 
          "language": "python", 
          "outputs": []
        }, 
        {
          "cell_type": "markdown", 
          "metadata": {}, 
          "source": [
            "\n", 
            "\n", 
            "Check that the solution satifies the constraints $\\ga \\in \\Cc$.\n", 
            ""
          ]
        }, 
        {
          "cell_type": "code", 
          "collapsed": false, 
          "input": [
            "fprintf('Constraints deviation (should be 0): %.2e, %.2e.\\n', norm(sum(gamma,2)-p0(:)),  norm(sum(gamma,1)'-p1(:)))"
          ], 
          "language": "python", 
          "outputs": []
        }, 
        {
          "cell_type": "heading", 
          "level": 2, 
          "metadata": {}, 
          "source": [
            "Displacement Interpolation\n"
          ]
        }, 
        {
          "cell_type": "markdown", 
          "metadata": {}, 
          "source": [
            "For any $t \\in [0,1]$, one can define a distribution $\\mu_t$ such\n", 
            "that $t \\mapsto \\mu_t$ defines a geodesic for the Wasserstein metric.\n", 
            "\n", 
            "\n", 
            "Since the $W_2$ distance is a geodesic distance, this geodesic path solves the\n", 
            "following variational problem\n", 
            "$$ \\mu_t = \\uargmin{\\mu} (1-t)W_2(\\mu_0,\\mu)^2 + t W_2(\\mu_1,\\mu)^2. $$\n", 
            "This can be understood as a generalization of the usual Euclidean\n", 
            "barycenter to barycenter of distribution. Indeed, in the case that\n", 
            "$\\mu_k = \\de_{x_k}$, one has $\\mu_t=\\de_{x_t}$ where $ x_t =\n", 
            "(1-t)x_0+t x_1 $.\n", 
            "\n", 
            "\n", 
            "Once the optimal coupling $\\ga^\\star$ has been computed, the\n", 
            "interpolated distribution is obtained as\n", 
            "$$ \\mu_t = \\sum_{i,j} \\ga^\\star_{i,j} \\de_{(1-t)x_{0,i} + t x_{1,j}}. $$\n", 
            "\n", 
            "\n", 
            "Find the $i,j$ with non-zero $\\ga_{i,j}^\\star$.\n", 
            ""
          ]
        }, 
        {
          "cell_type": "code", 
          "collapsed": false, 
          "input": [
            "[I,J,gammaij] = find(gamma)"
          ], 
          "language": "python", 
          "outputs": []
        }, 
        {
          "cell_type": "markdown", 
          "metadata": {}, 
          "source": [
            "\n", 
            "\n", 
            "Display the evolution of $\\mu_t$ for a varying value of $t \\in [0,1]$.\n", 
            ""
          ]
        }, 
        {
          "cell_type": "code", 
          "collapsed": false, 
          "input": [
            "\n", 
            "tlist = linspace(0,1,6)\n", 
            "for i in 1:length(tlist):\n", 
            "    t=tlist(i)\n", 
            "    Xt = (1-t)*X0(:,I) + t*X1(:,J)\n", 
            "    subplot(2,3,i)\n", 
            "    hold on\n", 
            "for i in 1:length(gammaij):\n", 
            "        myplot(Xt(1,i), Xt(2,i), gammaij(i)*length(gammaij)*6, [t 0 1-t])\n", 
            "\n", 
            "    title(['t=' num2str(t,2)])\n", 
            "    axis([min(X1(1,:)) max(X1(1,:)) min(X1(2,:)) max(X1(2,:))]); axis off\n", 
            ""
          ], 
          "language": "python", 
          "outputs": []
        }, 
        {
          "cell_type": "markdown", 
          "metadata": {}, 
          "source": [
            "\n", 
            ""
          ]
        }, 
        {
          "cell_type": "heading", 
          "level": 2, 
          "metadata": {}, 
          "source": [
            "Optimal Assignement\n"
          ]
        }, 
        {
          "cell_type": "markdown", 
          "metadata": {}, 
          "source": [
            "In the case where the weights $p_{0,i}=1/n, p_{1,i}=1/n$ (where $n_0=n_1=n$) are\n", 
            "constants, one can show that the optimal transport coupling is actually a\n", 
            "permutation matrix. This properties comes from the fact that\n", 
            "the extremal point of the polytope $\\Cc$ are permutation matrices.\n", 
            "\n", 
            "\n", 
            "This means that there exists an optimal permutation $ \\si^\\star \\in \\Sigma_n $ such\n", 
            "that\n", 
            "$$ \\ga^\\star_{i,j} = \\choice{\n", 
            "      1 \\qifq j=\\si^\\star(i), \\\\\n", 
            "      0 \\quad\\text{otherwise}.\n", 
            "  } $$\n", 
            "where $\\Si_n$ is the set of permutation (bijections) of\n", 
            "$\\{1,\\ldots,n\\}$.\n", 
            "\n", 
            "\n", 
            "This permutation thus solves the so-called optimal assignement problem\n", 
            "$$ \\si^\\star \\in \\uargmin{\\si \\in \\Sigma_n}\n", 
            "      \\sum_{i} C_{i,\\si(j)}. $$\n", 
            "\n", 
            "\n", 
            "Same number of points.\n", 
            ""
          ]
        }, 
        {
          "cell_type": "code", 
          "collapsed": false, 
          "input": [
            "n0 = 40\n", 
            "n1 = n0"
          ], 
          "language": "python", 
          "outputs": []
        }, 
        {
          "cell_type": "markdown", 
          "metadata": {}, 
          "source": [
            "\n", 
            "\n", 
            "Compute points clouds.\n", 
            ""
          ]
        }, 
        {
          "cell_type": "code", 
          "collapsed": false, 
          "input": [
            "X0 = randn(2,n0)*.3\n", 
            "X1 = [gauss(n1/2,.5, [0 1.6]) gauss(n1/4,.3, [-1 -1]) gauss(n1/4,.3, [1 -1])]"
          ], 
          "language": "python", 
          "outputs": []
        }, 
        {
          "cell_type": "markdown", 
          "metadata": {}, 
          "source": [
            "\n", 
            "\n", 
            "Constant distributions.\n", 
            ""
          ]
        }, 
        {
          "cell_type": "code", 
          "collapsed": false, 
          "input": [
            "p0 = ones(n0,1)/n0\n", 
            "p1 = ones(n1,1)/n1"
          ], 
          "language": "python", 
          "outputs": []
        }, 
        {
          "cell_type": "markdown", 
          "metadata": {}, 
          "source": [
            "\n", 
            "\n", 
            "Compute the weight matrix $ (C_{i,j})_{i,j}. $\n", 
            ""
          ]
        }, 
        {
          "cell_type": "code", 
          "collapsed": false, 
          "input": [
            "C = repmat( sum(X0.^2)', [1 n1] ) + ...\n", 
            "    repmat( sum(X1.^2), [n0 1] ) - 2*X0'*X1"
          ], 
          "language": "python", 
          "outputs": []
        }, 
        {
          "cell_type": "markdown", 
          "metadata": {}, 
          "source": [
            "\n", 
            "\n", 
            "Display the coulds.\n", 
            "\n", 
            ""
          ]
        }, 
        {
          "cell_type": "code", 
          "collapsed": false, 
          "input": [
            "clf; hold on\n", 
            "myplot(X0(1,:), X0(2,:), 10, 'b')\n", 
            "myplot(X1(1,:), X1(2,:), 10, 'r')\n", 
            "axis equal; axis off"
          ], 
          "language": "python", 
          "outputs": []
        }, 
        {
          "cell_type": "markdown", 
          "metadata": {}, 
          "source": [
            "\n", 
            "\n", 
            "Solve the optimal transport.\n", 
            ""
          ]
        }, 
        {
          "cell_type": "code", 
          "collapsed": false, 
          "input": [
            "gamma = otransp(C,p0,p1)"
          ], 
          "language": "python", 
          "outputs": []
        }, 
        {
          "cell_type": "markdown", 
          "metadata": {}, 
          "source": [
            "\n", 
            "\n", 
            "Show that $\\ga$ is a binary permutation matrix.\n", 
            ""
          ]
        }, 
        {
          "cell_type": "code", 
          "collapsed": false, 
          "input": [
            "\n", 
            "imageplot(gamma)"
          ], 
          "language": "python", 
          "outputs": []
        }, 
        {
          "cell_type": "markdown", 
          "metadata": {}, 
          "source": [
            "\n", 
            "\n", 
            "Display the optimal assignement.\n", 
            ""
          ]
        }, 
        {
          "cell_type": "code", 
          "collapsed": false, 
          "input": [
            "clf; hold on\n", 
            "[I,J,~] = find(gamma)\n", 
            "for k in 1:length(I):\n", 
            "    h = plot( [X0(1,I(k)) X1(1,J(k))], [X0(2,I(k)) X1(2,J(k))], 'k' )\n", 
            "    set(h, 'LineWidth', 2)\n", 
            "\n", 
            "myplot(X0(1,:), X0(2,:), 10, 'b')\n", 
            "myplot(X1(1,:), X1(2,:), 10, 'r')\n", 
            "axis equal; axis off"
          ], 
          "language": "python", 
          "outputs": []
        }
      ]
    }
  ]
}