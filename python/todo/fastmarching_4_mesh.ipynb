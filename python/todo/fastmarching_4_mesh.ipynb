{
  "metadata": {
    "name": ""
  }, 
  "nbformat": 3, 
  "nbformat_minor": 0, 
  "worksheets": [
    {
      "cells": [
        {
          "cell_type": "heading", 
          "level": 1, 
          "metadata": {}, 
          "source": [
            "Geodesic Mesh Processing"
          ]
        }, 
        {
          "cell_type": "markdown", 
          "metadata": {}, 
          "source": [
            "This tour explores geodesic computations on 3D meshes."
          ]
        }, 
        {
          "cell_type": "markdown", 
          "metadata": {}, 
          "source": [
            "*Important:* You need to download the file `nt_toolbox.py` from the ", 
            "root of the github repository.", 
            "$\\newcommand{\\dotp}[2]{\\langle #1, #2 \\rangle}", 
            "\\newcommand{\\enscond}[2]{\\lbrace #1, #2 \\rbrace}", 
            "\\newcommand{\\pd}[2]{ \\frac{ \\partial #1}{\\partial #2} }", 
            "\\newcommand{\\umin}[1]{\\underset{#1}{\\min}\\;}", 
            "\\newcommand{\\umax}[1]{\\underset{#1}{\\max}\\;}", 
            "\\newcommand{\\umin}[1]{\\underset{#1}{\\min}\\;}", 
            "\\newcommand{\\uargmin}[1]{\\underset{#1}{argmin}\\;}", 
            "\\newcommand{\\norm}[1]{\\|#1\\|}", 
            "\\newcommand{\\abs}[1]{\\left|#1\\right|}", 
            "\\newcommand{\\choice}[1]{ \\left\\{  \\begin{array}{l} #1 \\end{array} \\right. }", 
            "\\newcommand{\\pa}[1]{\\left(#1\\right)}", 
            "\\newcommand{\\diag}[1]{{diag}\\left( #1 \\right)}", 
            "\\newcommand{\\qandq}{\\quad\\text{and}\\quad}", 
            "\\newcommand{\\qwhereq}{\\quad\\text{where}\\quad}", 
            "\\newcommand{\\qifq}{ \\quad \\text{if} \\quad }", 
            "\\newcommand{\\qarrq}{ \\quad \\Longrightarrow \\quad }", 
            "\\newcommand{\\ZZ}{\\mathbb{Z}}", 
            "\\newcommand{\\CC}{\\mathbb{C}}", 
            "\\newcommand{\\RR}{\\mathbb{R}}", 
            "\\newcommand{\\EE}{\\mathbb{E}}", 
            "\\newcommand{\\Zz}{\\mathcal{Z}}", 
            "\\newcommand{\\Ww}{\\mathcal{W}}", 
            "\\newcommand{\\Vv}{\\mathcal{V}}", 
            "\\newcommand{\\Nn}{\\mathcal{N}}", 
            "\\newcommand{\\NN}{\\mathcal{N}}", 
            "\\newcommand{\\Hh}{\\mathcal{H}}", 
            "\\newcommand{\\Bb}{\\mathcal{B}}", 
            "\\newcommand{\\Ee}{\\mathcal{E}}", 
            "\\newcommand{\\Cc}{\\mathcal{C}}", 
            "\\newcommand{\\Gg}{\\mathcal{G}}", 
            "\\newcommand{\\Ss}{\\mathcal{S}}", 
            "\\newcommand{\\Pp}{\\mathcal{P}}", 
            "\\newcommand{\\Ff}{\\mathcal{F}}", 
            "\\newcommand{\\Xx}{\\mathcal{X}}", 
            "\\newcommand{\\Mm}{\\mathcal{M}}", 
            "\\newcommand{\\Ii}{\\mathcal{I}}", 
            "\\newcommand{\\Dd}{\\mathcal{D}}", 
            "\\newcommand{\\Ll}{\\mathcal{L}}", 
            "\\newcommand{\\Tt}{\\mathcal{T}}", 
            "\\newcommand{\\si}{\\sigma}", 
            "\\newcommand{\\al}{\\alpha}", 
            "\\newcommand{\\la}{\\lambda}", 
            "\\newcommand{\\ga}{\\gamma}", 
            "\\newcommand{\\Ga}{\\Gamma}", 
            "\\newcommand{\\La}{\\Lambda}", 
            "\\newcommand{\\si}{\\sigma}", 
            "\\newcommand{\\Si}{\\Sigma}", 
            "\\newcommand{\\be}{\\beta}", 
            "\\newcommand{\\de}{\\delta}", 
            "\\newcommand{\\De}{\\Delta}", 
            "\\renewcommand{\\phi}{\\varphi}", 
            "\\renewcommand{\\th}{\\theta}", 
            "\\newcommand{\\om}{\\omega}", 
            "\\newcommand{\\Om}{\\Omega}", 
            "$"
          ]
        }, 
        {
          "cell_type": "code", 
          "collapsed": false, 
          "input": [
            "from __future__ import division", 
            "from nt_toolbox import *", 
            "%matplotlib inline", 
            "%load_ext autoreload", 
            "%autoreload 2"
          ], 
          "language": "python", 
          "outputs": []
        }, 
        {
          "cell_type": "heading", 
          "level": 2, 
          "metadata": {}, 
          "source": [
            "Distance Computation on 3D Meshes"
          ]
        }, 
        {
          "cell_type": "markdown", 
          "metadata": {}, 
          "source": [
            "Using the fast marching on a triangulated surface, one can compute the", 
            "distance from a set of input points.", 
            "This function also returns the segmentation of the surface into geodesic Voronoi cells.", 
            "", 
            "", 
            "Load a 3D mesh."
          ]
        }, 
        {
          "cell_type": "code", 
          "collapsed": false, 
          "input": [
            "name = 'elephant-50kv'", 
            "[vertex, faces] = read_mesh(name)", 
            "nvert = size(vertex, 2)"
          ], 
          "language": "python", 
          "outputs": []
        }, 
        {
          "cell_type": "markdown", 
          "metadata": {}, 
          "source": [
            "Starting points for the distance computation."
          ]
        }, 
        {
          "cell_type": "code", 
          "collapsed": false, 
          "input": [
            "nstart = 15", 
            "pstarts = floor(rand(nstart, 1)*nvert) + 1", 
            "options.start_points = pstarts"
          ], 
          "language": "python", 
          "outputs": []
        }, 
        {
          "cell_type": "markdown", 
          "metadata": {}, 
          "source": [
            "No end point for the propagation."
          ]
        }, 
        {
          "cell_type": "code", 
          "collapsed": false, 
          "input": [
            "clear options", 
            "options.end_points = []"
          ], 
          "language": "python", 
          "outputs": []
        }, 
        {
          "cell_type": "markdown", 
          "metadata": {}, 
          "source": [
            "Use a uniform, constant, metric for the propagation."
          ]
        }, 
        {
          "cell_type": "code", 
          "collapsed": false, 
          "input": [
            "options.W = ones(nvert, 1)"
          ], 
          "language": "python", 
          "outputs": []
        }, 
        {
          "cell_type": "markdown", 
          "metadata": {}, 
          "source": [
            "Compute the distance using Fast Marching."
          ]
        }, 
        {
          "cell_type": "code", 
          "collapsed": false, 
          "input": [
            "options.nb_iter_max = Inf", 
            "[D, S, Q] = perform_fast_marching_mesh(vertex, faces, pstarts, options)"
          ], 
          "language": "python", 
          "outputs": []
        }, 
        {
          "cell_type": "markdown", 
          "metadata": {}, 
          "source": [
            "Display the distance on the 3D mesh."
          ]
        }, 
        {
          "cell_type": "code", 
          "collapsed": false, 
          "input": [
            "plot_fast_marching_mesh(vertex, faces, D, [], options)"
          ], 
          "language": "python", 
          "outputs": []
        }, 
        {
          "cell_type": "markdown", 
          "metadata": {}, 
          "source": [
            "Extract precisely the voronoi regions, and display it."
          ]
        }, 
        {
          "cell_type": "code", 
          "collapsed": false, 
          "input": [
            "[Qexact, DQ, voronoi_edges] = compute_voronoi_mesh(vertex, faces, pstarts, options)", 
            "options.voronoi_edges = voronoi_edges", 
            "plot_fast_marching_mesh(vertex, faces, D, [], options)"
          ], 
          "language": "python", 
          "outputs": []
        }, 
        {
          "cell_type": "heading", 
          "level": 3, 
          "metadata": {}, 
          "source": [
            "Exercise 1"
          ]
        }, 
        {
          "cell_type": "markdown", 
          "metadata": {}, 
          "source": [
            "Using |options.nb_iter_max|, display the progression of the propagation."
          ]
        }, 
        {
          "cell_type": "code", 
          "collapsed": false, 
          "input": [
            "## Insert your code here."
          ], 
          "language": "python", 
          "outputs": []
        }, 
        {
          "cell_type": "heading", 
          "level": 2, 
          "metadata": {}, 
          "source": [
            "Geodesic Path Extraction"
          ]
        }, 
        {
          "cell_type": "markdown", 
          "metadata": {}, 
          "source": [
            "Geodesic path are extracted using gradient descent of the distance map.", 
            "", 
            "", 
            "Select random endding points, from which the geodesic curves start."
          ]
        }, 
        {
          "cell_type": "code", 
          "collapsed": false, 
          "input": [
            "nend = 40", 
            "pend = floor(rand(nend, 1)*nvert) + 1"
          ], 
          "language": "python", 
          "outputs": []
        }, 
        {
          "cell_type": "markdown", 
          "metadata": {}, 
          "source": [
            "Compute the vertices 1-ring."
          ]
        }, 
        {
          "cell_type": "code", 
          "collapsed": false, 
          "input": [
            "vring = compute_vertex_ring(faces)"
          ], 
          "language": "python", 
          "outputs": []
        }, 
        {
          "cell_type": "heading", 
          "level": 3, 
          "metadata": {}, 
          "source": [
            "Exercise 2"
          ]
        }, 
        {
          "cell_type": "markdown", 
          "metadata": {}, 
          "source": [
            "For each point |pend(k)|, compute a discrete geodesic path |path| such", 
            "that |path(1)=pend(k)| and |D(path(i+1))<D(path(i))|", 
            "with |[path(i), path(i+1)]| being an edge of the mesh.", 
            "This means that |path(i+1)| is an element of |vring{path(i)}|.", 
            "Display the paths on the mesh."
          ]
        }, 
        {
          "cell_type": "code", 
          "collapsed": false, 
          "input": [
            "## Insert your code here."
          ], 
          "language": "python", 
          "outputs": []
        }, 
        {
          "cell_type": "markdown", 
          "metadata": {}, 
          "source": [
            "In order to extract a smooth path, one needs to use a gradient descent."
          ]
        }, 
        {
          "cell_type": "code", 
          "collapsed": false, 
          "input": [
            "options.method = 'continuous'", 
            "paths = compute_geodesic_mesh(D, vertex, faces, pend, options)"
          ], 
          "language": "python", 
          "outputs": []
        }, 
        {
          "cell_type": "markdown", 
          "metadata": {}, 
          "source": [
            "Display the smooth paths."
          ]
        }, 
        {
          "cell_type": "code", 
          "collapsed": false, 
          "input": [
            "plot_fast_marching_mesh(vertex, faces, Q, paths, options)"
          ], 
          "language": "python", 
          "outputs": []
        }, 
        {
          "cell_type": "heading", 
          "level": 2, 
          "metadata": {}, 
          "source": [
            "Curvature-based Speed Functions"
          ]
        }, 
        {
          "cell_type": "markdown", 
          "metadata": {}, 
          "source": [
            "In order to extract salient features of a surface, one can define a speed", 
            "function that depends on some curvature measure of the surface.", 
            "", 
            "", 
            "Load a mesh with sharp features."
          ]
        }, 
        {
          "cell_type": "code", 
          "collapsed": false, 
          "input": [
            "clear options", 
            "name = 'fandisk'", 
            "[vertex, faces] = read_mesh(name)", 
            "options.name = name", 
            "nvert = size(vertex, 2)"
          ], 
          "language": "python", 
          "outputs": []
        }, 
        {
          "cell_type": "markdown", 
          "metadata": {}, 
          "source": [
            "Display it."
          ]
        }, 
        {
          "cell_type": "code", 
          "collapsed": false, 
          "input": [
            "plot_mesh(vertex, faces, options)"
          ], 
          "language": "python", 
          "outputs": []
        }, 
        {
          "cell_type": "markdown", 
          "metadata": {}, 
          "source": [
            "Compute the curvature."
          ]
        }, 
        {
          "cell_type": "code", 
          "collapsed": false, 
          "input": [
            "options.verb = 0", 
            "[Umin, Umax, Cmin, Cmax] = compute_curvature(vertex, faces, options)"
          ], 
          "language": "python", 
          "outputs": []
        }, 
        {
          "cell_type": "markdown", 
          "metadata": {}, 
          "source": [
            "Compute some absolute measure of curvature."
          ]
        }, 
        {
          "cell_type": "code", 
          "collapsed": false, 
          "input": [
            "C = abs(Cmin) + abs(Cmax)", 
            "C = min(C, .1)"
          ], 
          "language": "python", 
          "outputs": []
        }, 
        {
          "cell_type": "markdown", 
          "metadata": {}, 
          "source": [
            "Display the curvature on the surface"
          ]
        }, 
        {
          "cell_type": "code", 
          "collapsed": false, 
          "input": [
            "options.face_vertex_color = rescale(C)", 
            "", 
            "plot_mesh(vertex, faces, options)", 
            "colormap jet(256)"
          ], 
          "language": "python", 
          "outputs": []
        }, 
        {
          "cell_type": "markdown", 
          "metadata": {}, 
          "source": [
            "Compute a metric that depends on the curvature.", 
            "Should be small in area that the geodesic should follow."
          ]
        }, 
        {
          "cell_type": "code", 
          "collapsed": false, 
          "input": [
            "epsilon = .5", 
            "W = rescale(-min(C, 0.1), .1, 1)"
          ], 
          "language": "python", 
          "outputs": []
        }, 
        {
          "cell_type": "markdown", 
          "metadata": {}, 
          "source": [
            "Display the metric on the surface"
          ]
        }, 
        {
          "cell_type": "code", 
          "collapsed": false, 
          "input": [
            "options.face_vertex_color = rescale(W)", 
            "", 
            "plot_mesh(vertex, faces, options)", 
            "colormap jet(256)"
          ], 
          "language": "python", 
          "outputs": []
        }, 
        {
          "cell_type": "markdown", 
          "metadata": {}, 
          "source": [
            "Starting points."
          ]
        }, 
        {
          "cell_type": "code", 
          "collapsed": false, 
          "input": [
            "pstarts = [2564; 16103; 15840]", 
            "options.start_points = pstarts"
          ], 
          "language": "python", 
          "outputs": []
        }, 
        {
          "cell_type": "markdown", 
          "metadata": {}, 
          "source": [
            "Compute the distance using Fast Marching."
          ]
        }, 
        {
          "cell_type": "code", 
          "collapsed": false, 
          "input": [
            "options.W = W", 
            "options.nb_iter_max = Inf", 
            "[D, S, Q] = perform_fast_marching_mesh(vertex, faces, pstarts, options)"
          ], 
          "language": "python", 
          "outputs": []
        }, 
        {
          "cell_type": "markdown", 
          "metadata": {}, 
          "source": [
            "Display the distance on the 3D mesh."
          ]
        }, 
        {
          "cell_type": "code", 
          "collapsed": false, 
          "input": [
            "options.colorfx = 'equalize'", 
            "", 
            "plot_fast_marching_mesh(vertex, faces, D, [], options)"
          ], 
          "language": "python", 
          "outputs": []
        }, 
        {
          "cell_type": "heading", 
          "level": 3, 
          "metadata": {}, 
          "source": [
            "Exercise 3"
          ]
        }, 
        {
          "cell_type": "markdown", 
          "metadata": {}, 
          "source": [
            "Using |options.nb_iter_max|, display the progression of the propagation for constant |W|."
          ]
        }, 
        {
          "cell_type": "code", 
          "collapsed": false, 
          "input": [
            "## Insert your code here."
          ], 
          "language": "python", 
          "outputs": []
        }, 
        {
          "cell_type": "heading", 
          "level": 3, 
          "metadata": {}, 
          "source": [
            "Exercise 4"
          ]
        }, 
        {
          "cell_type": "markdown", 
          "metadata": {}, 
          "source": [
            "Using |options.nb_iter_max|, display the progression of the propagation for a curvature based |W|."
          ]
        }, 
        {
          "cell_type": "code", 
          "collapsed": false, 
          "input": [
            "## Insert your code here."
          ], 
          "language": "python", 
          "outputs": []
        }, 
        {
          "cell_type": "heading", 
          "level": 3, 
          "metadata": {}, 
          "source": [
            "Exercise 5"
          ]
        }, 
        {
          "cell_type": "markdown", 
          "metadata": {}, 
          "source": [
            "Extract geodesics.", 
            "compute distances", 
            "", 
            "", 
            "", 
            "", 
            "", 
            "compute paths", 
            "", 
            "", 
            "", 
            "", 
            "display"
          ]
        }, 
        {
          "cell_type": "code", 
          "collapsed": false, 
          "input": [
            "## Insert your code here."
          ], 
          "language": "python", 
          "outputs": []
        }, 
        {
          "cell_type": "heading", 
          "level": 2, 
          "metadata": {}, 
          "source": [
            "Texture-based Speed Functions"
          ]
        }, 
        {
          "cell_type": "markdown", 
          "metadata": {}, 
          "source": [
            "One can take into account a texture to design the speed function."
          ]
        }, 
        {
          "cell_type": "code", 
          "collapsed": false, 
          "input": [
            "clear options", 
            "options.base_mesh = 'ico'", 
            "options.relaxation = 1", 
            "options.keep_subdivision = 0", 
            "[vertex, faces] = compute_semiregular_sphere(7, options)", 
            "nvert = size(vertex, 2)"
          ], 
          "language": "python", 
          "outputs": []
        }, 
        {
          "cell_type": "markdown", 
          "metadata": {}, 
          "source": [
            "Load a function on the mesh."
          ]
        }, 
        {
          "cell_type": "code", 
          "collapsed": false, 
          "input": [
            "name = 'earth'", 
            "f = load_spherical_function(name, vertex, options)", 
            "options.name = name"
          ], 
          "language": "python", 
          "outputs": []
        }, 
        {
          "cell_type": "markdown", 
          "metadata": {}, 
          "source": [
            "Starting points."
          ]
        }, 
        {
          "cell_type": "code", 
          "collapsed": false, 
          "input": [
            "pstarts = [2844; 5777]", 
            "options.start_points = pstarts"
          ], 
          "language": "python", 
          "outputs": []
        }, 
        {
          "cell_type": "markdown", 
          "metadata": {}, 
          "source": [
            "Display the function."
          ]
        }, 
        {
          "cell_type": "code", 
          "collapsed": false, 
          "input": [
            "plot_fast_marching_mesh(vertex, faces, f, [], options)", 
            "colormap gray(256)"
          ], 
          "language": "python", 
          "outputs": []
        }, 
        {
          "cell_type": "markdown", 
          "metadata": {}, 
          "source": [
            "Load and display the gradient magnitude of the function."
          ]
        }, 
        {
          "cell_type": "code", 
          "collapsed": false, 
          "input": [
            "g = load_spherical_function('earth-grad', vertex, options)"
          ], 
          "language": "python", 
          "outputs": []
        }, 
        {
          "cell_type": "markdown", 
          "metadata": {}, 
          "source": [
            "Display it."
          ]
        }, 
        {
          "cell_type": "code", 
          "collapsed": false, 
          "input": [
            "plot_fast_marching_mesh(vertex, faces, g, [], options)", 
            "colormap gray(256)"
          ], 
          "language": "python", 
          "outputs": []
        }, 
        {
          "cell_type": "markdown", 
          "metadata": {}, 
          "source": [
            "Design a metric."
          ]
        }, 
        {
          "cell_type": "code", 
          "collapsed": false, 
          "input": [
            "W = rescale(-min(g, 10), 0.01, 1)"
          ], 
          "language": "python", 
          "outputs": []
        }, 
        {
          "cell_type": "markdown", 
          "metadata": {}, 
          "source": [
            "Display it."
          ]
        }, 
        {
          "cell_type": "code", 
          "collapsed": false, 
          "input": [
            "plot_fast_marching_mesh(vertex, faces, W, [], options)", 
            "colormap gray(256)"
          ], 
          "language": "python", 
          "outputs": []
        }, 
        {
          "cell_type": "heading", 
          "level": 3, 
          "metadata": {}, 
          "source": [
            "Exercise 6"
          ]
        }, 
        {
          "cell_type": "markdown", 
          "metadata": {}, 
          "source": [
            "Using |options.nb_iter_max|, display the progression of the propagation for a curvature based |W|."
          ]
        }, 
        {
          "cell_type": "code", 
          "collapsed": false, 
          "input": [
            "## Insert your code here."
          ], 
          "language": "python", 
          "outputs": []
        }, 
        {
          "cell_type": "heading", 
          "level": 3, 
          "metadata": {}, 
          "source": [
            "Exercise 7"
          ]
        }, 
        {
          "cell_type": "markdown", 
          "metadata": {}, 
          "source": [
            "Extract geodesics.", 
            "compute distances", 
            "", 
            "", 
            "", 
            "", 
            "", 
            "compute paths", 
            "", 
            "", 
            "", 
            "", 
            "display"
          ]
        }, 
        {
          "cell_type": "code", 
          "collapsed": false, 
          "input": [
            "## Insert your code here."
          ], 
          "language": "python", 
          "outputs": []
        }
      ]
    }
  ]
}