{
  "metadata": {
    "name": ""
  }, 
  "nbformat": 3, 
  "nbformat_minor": 0, 
  "worksheets": [
    {
      "cells": [
        {
          "cell_type": "heading", 
          "level": 1, 
          "metadata": {}, 
          "source": [
            "Sound Processing with Short Time Fourier Transform"
          ]
        }, 
        {
          "cell_type": "markdown", 
          "metadata": {}, 
          "source": [
            "This numerical tour explores local Fourier analysis of sounds, and its\n", 
            "application to source denoising.\n", 
            ""
          ]
        }, 
        {
          "cell_type": "markdown", 
          "metadata": {}, 
          "source": [
            "*Important:* You need to download the file `nt_toolbox.py` from the \n", 
            "root of the github repository.\n", 
            "$\\newcommand{\\dotp}[2]{\\langle #1, #2 \\rangle}\n", 
            "\\newcommand{\\enscond}[2]{\\lbrace #1, #2 \\rbrace}\n", 
            "\\newcommand{\\pd}[2]{ \\frac{ \\partial #1}{\\partial #2} }\n", 
            "\\newcommand{\\umin}[1]{\\underset{#1}{\\min}\\;}\n", 
            "\\newcommand{\\norm}[1]{\\|#1\\|}\n", 
            "\\newcommand{\\abs}[1]{\\left|#1\\right|}\n", 
            "\\newcommand{\\choice}[1]{ \\left\\{  \\begin{array}{l} #1 \\end{array} \\right. }\n", 
            "\\newcommand{\\pa}[1]{\\left(#1\\right)}\n", 
            "\\newcommand{\\qandq}{\\quad\\text{and}\\quad}\n", 
            "\\newcommand{\\qwhereq}{\\quad\\text{where}\\quad}\n", 
            "\\newcommand{\\qifq}{ \\quad \\text{if} \\quad }\n", 
            "\\newcommand{\\qarrq}{ \\quad \\Longrightarrow \\quad }\n", 
            "\\newcommand{\\ZZ}{\\mathbb{Z}}\n", 
            "\\newcommand{\\RR}{\\mathbb{R}}\n", 
            "\\newcommand{\\Nn}{\\mathcal{N}}\n", 
            "\\newcommand{\\Hh}{\\mathcal{H}}\n", 
            "\\newcommand{\\Bb}{\\mathcal{B}}\n", 
            "\\newcommand{\\EE}{\\mathbb{E}}\n", 
            "\\newcommand{\\CC}{\\mathbb{C}}\n", 
            "\\newcommand{\\si}{\\sigma}\n", 
            "\\newcommand{\\al}{\\alpha}\n", 
            "\\newcommand{\\la}{\\lambda}\n", 
            "\\newcommand{\\ga}{\\gamma}\n", 
            "\\newcommand{\\Ga}{\\Gamma}\n", 
            "\\newcommand{\\La}{\\Lambda}\n", 
            "\\newcommand{\\si}{\\sigma}\n", 
            "\\newcommand{\\Si}{\\Sigma}\n", 
            "\\newcommand{\\be}{\\beta}\n", 
            "\\newcommand{\\de}{\\delta}\n", 
            "\\newcommand{\\De}{\\Delta}\n", 
            "\\renewcommand{\\phi}{\\varphi}\n", 
            "\\renewcommand{\\th}{\\theta}\n", 
            "\\newcommand{\\om}{\\omega}\n", 
            "\\newcommand{\\Om}{\\Omega}\n", 
            "$"
          ]
        }, 
        {
          "cell_type": "code", 
          "collapsed": false, 
          "input": [
            "from nt_toolbox import *", 
            "%matplotlib inline", 
            "%load_ext autoreload", 
            "%autoreload 2"
          ], 
          "language": "python", 
          "outputs": []
        }, 
        {
          "cell_type": "heading", 
          "level": 2, 
          "metadata": {}, 
          "source": [
            "Local Fourier analysis of sound.\n"
          ]
        }, 
        {
          "cell_type": "markdown", 
          "metadata": {}, 
          "source": [
            "A sound is a 1D signal that is locally highly oscillating and stationary.\n", 
            "A local Fourier analysis is thus usefull to study the property of the\n", 
            "sound such as its local amplitude and frequency.\n", 
            "\n", 
            "\n", 
            "First we load a sound, with a slight sub-sampling\n", 
            ""
          ]
        }, 
        {
          "cell_type": "code", 
          "collapsed": false, 
          "input": [
            "n = 1024*16\n", 
            "options.n = n\n", 
            "[x,fs] = load_sound('bird', n)"
          ], 
          "language": "python", 
          "outputs": []
        }, 
        {
          "cell_type": "markdown", 
          "metadata": {}, 
          "source": [
            "\n", 
            "\n", 
            "You can actually play a sound.\n", 
            "In case this does not work, you need to run the command\n", 
            "|wavwrite(x(:)', 'tmp.wav')| and click on the saved file |'tmp.wav'|\n", 
            "to read it.\n", 
            ""
          ]
        }, 
        {
          "cell_type": "code", 
          "collapsed": false, 
          "input": [
            "sound(x(:)',fs)"
          ], 
          "language": "python", 
          "outputs": []
        }, 
        {
          "cell_type": "markdown", 
          "metadata": {}, 
          "source": [
            "\n", 
            "\n", 
            "We can display the sound.\n", 
            ""
          ]
        }, 
        {
          "cell_type": "code", 
          "collapsed": false, 
          "input": [
            "\n", 
            "plot(1:n,x)\n", 
            "axis('tight')\n", 
            "set_graphic_sizes([], 20)\n", 
            "title('Signal')"
          ], 
          "language": "python", 
          "outputs": []
        }, 
        {
          "cell_type": "markdown", 
          "metadata": {}, 
          "source": [
            "\n", 
            "\n", 
            "Local zooms on the sound show that it is highly oscilating.\n", 
            ""
          ]
        }, 
        {
          "cell_type": "code", 
          "collapsed": false, 
          "input": [
            "p = 512\n", 
            "t = 1:n\n", 
            "\n", 
            "sel = n/4 + (0:p-1)\n", 
            "subplot(2,1,1)\n", 
            "plot(t(sel),x(sel)); axis tight\n", 
            "sel = n/2 + (0:p-1)\n", 
            "subplot(2,1,2)\n", 
            "plot(t(sel),x(sel)); axis tight"
          ], 
          "language": "python", 
          "outputs": []
        }, 
        {
          "cell_type": "heading", 
          "level": 3, 
          "metadata": {}, 
          "source": [
            "Exercise 1"
          ]
        }, 
        {
          "cell_type": "markdown", 
          "metadata": {}, 
          "source": [
            "\n", 
            "Compute the local Fourier transform around a point |t0| of |x|, which is the FFT (use the\n", 
            "function |fft|) of the windowed signal |x.*h| where |h| is smooth\n", 
            "windowing function located around |t0|. For instance you can use for |h|\n", 
            "a Gaussian bump centered at |t0|. To center the FFT for display, use\n", 
            "|fftshift|.\n", 
            "center for the Fourier analysis\n", 
            "\n", 
            "width of the bump\n", 
            "\n", 
            "window\n", 
            "\n", 
            "\n", 
            "fft\n", 
            "\n", 
            "\n", 
            "\n", 
            "\n", 
            "display signal\n", 
            "\n", 
            "\n", 
            "\n", 
            "\n", 
            "\n", 
            "\n", 
            "\n", 
            "\n", 
            "\n", 
            "display FFTs\n", 
            "\n", 
            "\n", 
            "\n", 
            "\n", 
            "\n", 
            "\n", 
            "\n", 
            "\n", 
            "\n", 
            ""
          ]
        }, 
        {
          "cell_type": "code", 
          "collapsed": false, 
          "input": [
            "## Insert your code here."
          ], 
          "language": "python", 
          "outputs": []
        }, 
        {
          "cell_type": "markdown", 
          "metadata": {}, 
          "source": [
            "\n", 
            "\n", 
            "\n", 
            "A good windowing function should balance both time localization and\n", 
            "frequency localization.\n", 
            ""
          ]
        }, 
        {
          "cell_type": "code", 
          "collapsed": false, 
          "input": [
            "t = linspace(-10,10,2048)\n", 
            "eta = 1e-5\n", 
            "vmin = -2"
          ], 
          "language": "python", 
          "outputs": []
        }, 
        {
          "cell_type": "markdown", 
          "metadata": {}, 
          "source": [
            "\n", 
            "\n", 
            "The block window has a sharp transition and thus a poor frequency\n", 
            "localization.\n", 
            ""
          ]
        }, 
        {
          "cell_type": "code", 
          "collapsed": false, 
          "input": [
            "h = double( abs(t)<1 )\n", 
            "hf = fftshift(abs(fft(h)))\n", 
            "hf = log10(eta+hf); hf = hf/max(hf)\n", 
            "\n", 
            "subplot(2,1,1)\n", 
            "title('Block window')\n", 
            "plot(t, h); axis([-2 2, -.1, 1.1])\n", 
            "subplot(2,1,2)\n", 
            "plot(t, hf); axis([-2 2, vmin, 1.1])\n", 
            "title('Fourier transform')"
          ], 
          "language": "python", 
          "outputs": []
        }, 
        {
          "cell_type": "markdown", 
          "metadata": {}, 
          "source": [
            "\n", 
            "\n", 
            "A Hamming window is smoother.\n", 
            ""
          ]
        }, 
        {
          "cell_type": "code", 
          "collapsed": false, 
          "input": [
            "h = cos(t*pi()/2) .* double(abs(t)<1)\n", 
            "hf = fftshift(abs(fft(h)))\n", 
            "hf = log10(eta+hf); hf = hf/max(hf)\n", 
            "\n", 
            "subplot(2,1,1)\n", 
            "title('Hamming window')\n", 
            "plot(t, h); axis([-2 2, -.1, 1.1])\n", 
            "subplot(2,1,2)\n", 
            "plot(t, hf); axis([-2 2, vmin, 1.1])\n", 
            "title('Fourier transform')"
          ], 
          "language": "python", 
          "outputs": []
        }, 
        {
          "cell_type": "markdown", 
          "metadata": {}, 
          "source": [
            "\n", 
            "\n", 
            "\n", 
            "A Haning window has continuous derivatives.\n", 
            ""
          ]
        }, 
        {
          "cell_type": "code", 
          "collapsed": false, 
          "input": [
            "h = (cos(t*pi())+1)/2 .* double(abs(t)<1)\n", 
            "hf = fftshift(abs(fft(h)))\n", 
            "hf = log10(eta+hf); hf = hf/max(hf)\n", 
            "\n", 
            "subplot(2,1,1)\n", 
            "title('Haning window')\n", 
            "plot(t, h); axis([-2 2, -.1, 1.1])\n", 
            "subplot(2,1,2)\n", 
            "plot(t, hf); axis([-2 2, vmin, 1.1])\n", 
            "title('Fourier transform')"
          ], 
          "language": "python", 
          "outputs": []
        }, 
        {
          "cell_type": "markdown", 
          "metadata": {}, 
          "source": [
            "\n", 
            "\n", 
            "A normalized Haning window has a sharper transition. It has the advantage\n", 
            "of generating a tight frame STFT, and is used in the following.\n", 
            ""
          ]
        }, 
        {
          "cell_type": "code", 
          "collapsed": false, 
          "input": [
            "h = sqrt(2)/2 * (1+cos(t*pi())) ./ sqrt( 1+cos(t*pi()).^2 ) .* double(abs(t)<1)\n", 
            "hf = fftshift(abs(fft(h)))\n", 
            "hf = log10(eta+hf); hf = hf/max(hf)\n", 
            "\n", 
            "subplot(2,1,1)\n", 
            "title('Normalized Haning window')\n", 
            "plot(t, h); axis([-2 2, -.1, 1.1])\n", 
            "subplot(2,1,2)\n", 
            "plot(t, hf); axis([-2 2, vmin, 1.1])\n", 
            "title('Fourier transform')"
          ], 
          "language": "python", 
          "outputs": []
        }, 
        {
          "cell_type": "markdown", 
          "metadata": {}, 
          "source": [
            "\n", 
            ""
          ]
        }, 
        {
          "cell_type": "heading", 
          "level": 2, 
          "metadata": {}, 
          "source": [
            "Short time Fourier transform.\n"
          ]
        }, 
        {
          "cell_type": "markdown", 
          "metadata": {}, 
          "source": [
            "Gathering a local Fourier transform at equispaced point create a local\n", 
            "Fourier transform, also called *spectrogram*. By carefully chosing the\n", 
            "window, this transform corresponds to the decomposition of the signal in\n", 
            "a redundant tight frame. The redundancy corresponds to the overlap of the\n", 
            "windows, and the tight frame corresponds to the fact that the\n", 
            "pseudo-inverse is simply the transposed of the transform (it means that\n", 
            "the same window can be used for synthesis with a simple summation of the\n", 
            "reconstructed signal over each window).\n", 
            "\n", 
            "\n", 
            "The only parameters of the transform are the size of the window and the\n", 
            "overlap.\n", 
            "\n", 
            "size of the window"
          ]
        }, 
        {
          "cell_type": "code", 
          "collapsed": false, 
          "input": [
            "w = 64*2"
          ], 
          "language": "python", 
          "outputs": []
        }, 
        {
          "cell_type": "markdown", 
          "metadata": {}, 
          "source": [
            "overlap of the window"
          ]
        }, 
        {
          "cell_type": "code", 
          "collapsed": false, 
          "input": [
            "q = w/2"
          ], 
          "language": "python", 
          "outputs": []
        }, 
        {
          "cell_type": "markdown", 
          "metadata": {}, 
          "source": [
            "\n", 
            "\n", 
            "Gabor atoms are computed using a Haning window.\n", 
            "The atoms are obtained by translating in time and in frequency\n", 
            "(modulation) the window.\n", 
            ""
          ]
        }, 
        {
          "cell_type": "code", 
          "collapsed": false, 
          "input": [
            "t = 0:3*w-1\n", 
            "t1 = t-2*w\n", 
            "f = w/8"
          ], 
          "language": "python", 
          "outputs": []
        }, 
        {
          "cell_type": "markdown", 
          "metadata": {}, 
          "source": [
            "Position 0, frequency 0."
          ]
        }, 
        {
          "cell_type": "code", 
          "collapsed": false, 
          "input": [
            "g1 = sin( pi*t/w ).^2 .* double(t<w)"
          ], 
          "language": "python", 
          "outputs": []
        }, 
        {
          "cell_type": "markdown", 
          "metadata": {}, 
          "source": [
            "Position 2*w, frequency 0."
          ]
        }, 
        {
          "cell_type": "code", 
          "collapsed": false, 
          "input": [
            "g2 = sin( pi*t1/w ).^2 .* double( t1<w & t1>=0 )"
          ], 
          "language": "python", 
          "outputs": []
        }, 
        {
          "cell_type": "markdown", 
          "metadata": {}, 
          "source": [
            "Position 0, frequency w/8"
          ]
        }, 
        {
          "cell_type": "code", 
          "collapsed": false, 
          "input": [
            "g3 = g1 .* sin( t * 2*pi/w * f)"
          ], 
          "language": "python", 
          "outputs": []
        }, 
        {
          "cell_type": "markdown", 
          "metadata": {}, 
          "source": [
            "Position 2*w, frequency w/8"
          ]
        }, 
        {
          "cell_type": "code", 
          "collapsed": false, 
          "input": [
            "g4 = g2 .* sin( t * 2*pi/w * f)"
          ], 
          "language": "python", 
          "outputs": []
        }, 
        {
          "cell_type": "markdown", 
          "metadata": {}, 
          "source": [
            "display"
          ]
        }, 
        {
          "cell_type": "code", 
          "collapsed": false, 
          "input": [
            "\n", 
            "subplot(2,2,1)\n", 
            "plot(g1); axis('tight')\n", 
            "title('Position 0, frequency 0')\n", 
            "subplot(2,2,2)\n", 
            "plot(g2); axis('tight')\n", 
            "title('Position 2*w, frequency 0')\n", 
            "subplot(2,2,3)\n", 
            "plot(g3); axis('tight')\n", 
            "title('Position 0, frequency w/8')\n", 
            "subplot(2,2,4)\n", 
            "plot(g4); axis('tight')\n", 
            "title('Position 2*w, frequency w/8')"
          ], 
          "language": "python", 
          "outputs": []
        }, 
        {
          "cell_type": "markdown", 
          "metadata": {}, 
          "source": [
            "\n", 
            "\n", 
            "We can compute a spectrogram of the sound to see its local Fourier\n", 
            "content. The number of windowed used is |(n-noverlap)/(w-noverlap)|\n", 
            ""
          ]
        }, 
        {
          "cell_type": "code", 
          "collapsed": false, 
          "input": [
            "S = perform_stft(x,w,q, options)"
          ], 
          "language": "python", 
          "outputs": []
        }, 
        {
          "cell_type": "markdown", 
          "metadata": {}, 
          "source": [
            "\n", 
            "\n", 
            "To see more clearly the evolution of the harmonics, we can display the\n", 
            "spectrogram in log coordinates. The top of the spectrogram corresponds to\n", 
            "low frequencies.\n", 
            "\n", 
            "display the spectrogram"
          ]
        }, 
        {
          "cell_type": "code", 
          "collapsed": false, 
          "input": [
            "clf; imageplot(abs(S)); axis('on')"
          ], 
          "language": "python", 
          "outputs": []
        }, 
        {
          "cell_type": "markdown", 
          "metadata": {}, 
          "source": [
            "display log spectrogram"
          ]
        }, 
        {
          "cell_type": "code", 
          "collapsed": false, 
          "input": [
            "plot_spectrogram(S,x)"
          ], 
          "language": "python", 
          "outputs": []
        }, 
        {
          "cell_type": "markdown", 
          "metadata": {}, 
          "source": [
            "\n", 
            "\n", 
            "The STFT transform is decomposing the signal in a redundant tight frame.\n", 
            "This can be checked by measuring the energy conservation.\n", 
            "\n", 
            "energy of the signal"
          ]
        }, 
        {
          "cell_type": "code", 
          "collapsed": false, 
          "input": [
            "e = norm(x,'fro').^2"
          ], 
          "language": "python", 
          "outputs": []
        }, 
        {
          "cell_type": "markdown", 
          "metadata": {}, 
          "source": [
            "energy of the coefficients"
          ]
        }, 
        {
          "cell_type": "code", 
          "collapsed": false, 
          "input": [
            "eS = norm(abs(S),'fro').^2\n", 
            "disp(strcat(['Energy conservation (should be 1)=' num2str(e/eS)]))"
          ], 
          "language": "python", 
          "outputs": []
        }, 
        {
          "cell_type": "markdown", 
          "metadata": {}, 
          "source": [
            "\n", 
            "\n", 
            "One can also\n", 
            "check that the inverse transform (which is just the transposed operator -\n", 
            "it implements exactly the pseudo inverse) is working fine.\n", 
            "\n", 
            "one must give the signal size for the reconstruction"
          ]
        }, 
        {
          "cell_type": "code", 
          "collapsed": false, 
          "input": [
            "x1 = perform_stft(S,w,q, options)\n", 
            "disp(strcat(['Reconstruction error (should be 0)=' num2str( norm(x-x1, 'fro')./norm(x,'fro') ) ]))"
          ], 
          "language": "python", 
          "outputs": []
        }, 
        {
          "cell_type": "heading", 
          "level": 2, 
          "metadata": {}, 
          "source": [
            "Audio Denoising\n"
          ]
        }, 
        {
          "cell_type": "markdown", 
          "metadata": {}, 
          "source": [
            "One can perform denosing by a non-linear thresholding over the\n", 
            "transfomede Fourier domain.\n", 
            "\n", 
            "\n", 
            "First we create a noisy signal"
          ]
        }, 
        {
          "cell_type": "code", 
          "collapsed": false, 
          "input": [
            "sigma = .2\n", 
            "xn = x + randn(size(x))*sigma"
          ], 
          "language": "python", 
          "outputs": []
        }, 
        {
          "cell_type": "markdown", 
          "metadata": {}, 
          "source": [
            "\n", 
            "\n", 
            "Play the noisy sound.\n", 
            ""
          ]
        }, 
        {
          "cell_type": "code", 
          "collapsed": false, 
          "input": [
            "sound(xn,fs)"
          ], 
          "language": "python", 
          "outputs": []
        }, 
        {
          "cell_type": "markdown", 
          "metadata": {}, 
          "source": [
            "\n", 
            "\n", 
            "\n", 
            "Display the Sounds.\n", 
            ""
          ]
        }, 
        {
          "cell_type": "code", 
          "collapsed": false, 
          "input": [
            "\n", 
            "subplot(2,1,1)\n", 
            "plot(x); axis([1 n -1.2 1.2])\n", 
            "set_graphic_sizes([], 20)\n", 
            "title('Original signal')\n", 
            "subplot(2,1,2)\n", 
            "plot(xn); axis([1 n -1.2 1.2])\n", 
            "set_graphic_sizes([], 20)\n", 
            "title('Noisy signal')"
          ], 
          "language": "python", 
          "outputs": []
        }, 
        {
          "cell_type": "markdown", 
          "metadata": {}, 
          "source": [
            "\n", 
            "\n", 
            "One can threshold the spectrogram.\n", 
            "\n", 
            "perform thresholding"
          ]
        }, 
        {
          "cell_type": "code", 
          "collapsed": false, 
          "input": [
            "Sn = perform_stft(xn,w,q, options)\n", 
            "SnT = perform_thresholding(Sn, 2*sigma, 'hard')"
          ], 
          "language": "python", 
          "outputs": []
        }, 
        {
          "cell_type": "markdown", 
          "metadata": {}, 
          "source": [
            "display the results"
          ]
        }, 
        {
          "cell_type": "code", 
          "collapsed": false, 
          "input": [
            "subplot(2,1,1)\n", 
            "plot_spectrogram(Sn)\n", 
            "subplot(2,1,2)\n", 
            "plot_spectrogram(SnT)"
          ], 
          "language": "python", 
          "outputs": []
        }, 
        {
          "cell_type": "heading", 
          "level": 3, 
          "metadata": {}, 
          "source": [
            "Exercise 2"
          ]
        }, 
        {
          "cell_type": "markdown", 
          "metadata": {}, 
          "source": [
            "\n", 
            "A denoising is performed by hard or soft thresholding the STFT of the\n", 
            "noisy signal. Compute the denosing SNR with both soft and hard\n", 
            "thresholding, and compute the threshold that minimize the SNR. Remember that a soft thresholding\n", 
            "should be approximately twice smaller than a hard thresholding. Check the\n", 
            "result by listening. What can you conclude about the quality of the\n", 
            "denoised signal ?\n", 
            "\n", 
            "\n", 
            "\n", 
            "\n", 
            "\n", 
            "\n", 
            "\n", 
            "\n", 
            "\n", 
            "\n", 
            "\n", 
            "\n", 
            "\n", 
            "retrieve best hard thresholding result\n", 
            "\n", 
            "\n", 
            "\n", 
            "display the error curves\n", 
            "\n", 
            "\n", 
            "\n", 
            "\n", 
            "\n", 
            ""
          ]
        }, 
        {
          "cell_type": "code", 
          "collapsed": false, 
          "input": [
            "## Insert your code here."
          ], 
          "language": "python", 
          "outputs": []
        }, 
        {
          "cell_type": "markdown", 
          "metadata": {}, 
          "source": [
            "\n", 
            ""
          ]
        }, 
        {
          "cell_type": "heading", 
          "level": 3, 
          "metadata": {}, 
          "source": [
            "Exercise 3"
          ]
        }, 
        {
          "cell_type": "markdown", 
          "metadata": {}, 
          "source": [
            "\n", 
            "Display and hear the results. What do you notice ?\n", 
            "display\n", 
            "\n", 
            "\n", 
            "\n", 
            "\n", 
            "\n", 
            "\n", 
            "\n", 
            "\n", 
            "\n", 
            "hear\n", 
            ""
          ]
        }, 
        {
          "cell_type": "code", 
          "collapsed": false, 
          "input": [
            "## Insert your code here."
          ], 
          "language": "python", 
          "outputs": []
        }, 
        {
          "cell_type": "markdown", 
          "metadata": {}, 
          "source": [
            "\n", 
            ""
          ]
        }, 
        {
          "cell_type": "heading", 
          "level": 2, 
          "metadata": {}, 
          "source": [
            "Audio Block Thresholding\n"
          ]
        }, 
        {
          "cell_type": "markdown", 
          "metadata": {}, 
          "source": [
            "It is possible to remove musical noise by thresholding blocks of STFT\n", 
            "coefficients.\n", 
            "\n", 
            "\n", 
            "Denoising is performed by block soft thresholding.\n", 
            "\n", 
            "perform thresholding"
          ]
        }, 
        {
          "cell_type": "code", 
          "collapsed": false, 
          "input": [
            "Sn = perform_stft(xn,w,q, options)\n", 
            "SnT = perform_thresholding(Sn, sigma, 'block')"
          ], 
          "language": "python", 
          "outputs": []
        }, 
        {
          "cell_type": "markdown", 
          "metadata": {}, 
          "source": [
            "display the results"
          ]
        }, 
        {
          "cell_type": "code", 
          "collapsed": false, 
          "input": [
            "subplot(2,1,1)\n", 
            "plot_spectrogram(Sn)\n", 
            "subplot(2,1,2)\n", 
            "plot_spectrogram(SnT)"
          ], 
          "language": "python", 
          "outputs": []
        }, 
        {
          "cell_type": "heading", 
          "level": 3, 
          "metadata": {}, 
          "source": [
            "Exercise 4"
          ]
        }, 
        {
          "cell_type": "markdown", 
          "metadata": {}, 
          "source": [
            "\n", 
            "Trie for various block sizes and report the best results.\n", 
            "\n", 
            "\n", 
            "\n", 
            "\n", 
            "\n", 
            "\n", 
            "  progressbar(k,length(bsX(:)));\n", 
            "\n", 
            "\n", 
            "\n", 
            "\n", 
            "\n", 
            "\n", 
            "\n", 
            "\n", 
            "\n", 
            "\n", 
            "\n", 
            "\n", 
            "\n", 
            "\n", 
            "\n", 
            "\n", 
            "\n", 
            "\n", 
            ""
          ]
        }, 
        {
          "cell_type": "code", 
          "collapsed": false, 
          "input": [
            "## Insert your code here."
          ], 
          "language": "python", 
          "outputs": []
        }
      ]
    }
  ]
}