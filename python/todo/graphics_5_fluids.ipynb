{
  "metadata": {
    "name": ""
  }, 
  "nbformat": 3, 
  "nbformat_minor": 0, 
  "worksheets": [
    {
      "cells": [
        {
          "cell_type": "heading", 
          "level": 1, 
          "metadata": {}, 
          "source": [
            "Fluid Dynamics"
          ]
        }, 
        {
          "cell_type": "markdown", 
          "metadata": {}, 
          "source": [
            "This numerical tour explores fluid dynamics for image generation.\n", 
            ""
          ]
        }, 
        {
          "cell_type": "markdown", 
          "metadata": {}, 
          "source": [
            "*Important:* You need to download the file `nt_toolbox.py` from the \n", 
            "root of the github repository.\n", 
            "$\\newcommand{\\dotp}[2]{\\langle #1, #2 \\rangle}\n", 
            "\\newcommand{\\enscond}[2]{\\lbrace #1, #2 \\rbrace}\n", 
            "\\newcommand{\\pd}[2]{ \\frac{ \\partial #1}{\\partial #2} }\n", 
            "\\newcommand{\\umin}[1]{\\underset{#1}{\\min}\\;}\n", 
            "\\newcommand{\\norm}[1]{\\|#1\\|}\n", 
            "\\newcommand{\\abs}[1]{\\left|#1\\right|}\n", 
            "\\newcommand{\\choice}[1]{ \\left\\{  \\begin{array}{l} #1 \\end{array} \\right. }\n", 
            "\\newcommand{\\pa}[1]{\\left(#1\\right)}\n", 
            "\\newcommand{\\qandq}{\\quad\\text{and}\\quad}\n", 
            "\\newcommand{\\qwhereq}{\\quad\\text{where}\\quad}\n", 
            "\\newcommand{\\qifq}{ \\quad \\text{if} \\quad }\n", 
            "\\newcommand{\\qarrq}{ \\quad \\Longrightarrow \\quad }\n", 
            "\\newcommand{\\ZZ}{\\mathbb{Z}}\n", 
            "\\newcommand{\\RR}{\\mathbb{R}}\n", 
            "\\newcommand{\\Nn}{\\mathcal{N}}\n", 
            "\\newcommand{\\Hh}{\\mathcal{H}}\n", 
            "\\newcommand{\\Bb}{\\mathcal{B}}\n", 
            "\\newcommand{\\EE}{\\mathbb{E}}\n", 
            "\\newcommand{\\CC}{\\mathbb{C}}\n", 
            "\\newcommand{\\si}{\\sigma}\n", 
            "\\newcommand{\\al}{\\alpha}\n", 
            "\\newcommand{\\la}{\\lambda}\n", 
            "\\newcommand{\\ga}{\\gamma}\n", 
            "\\newcommand{\\Ga}{\\Gamma}\n", 
            "\\newcommand{\\La}{\\Lambda}\n", 
            "\\newcommand{\\si}{\\sigma}\n", 
            "\\newcommand{\\Si}{\\Sigma}\n", 
            "\\newcommand{\\be}{\\beta}\n", 
            "\\newcommand{\\de}{\\delta}\n", 
            "\\newcommand{\\De}{\\Delta}\n", 
            "\\renewcommand{\\phi}{\\varphi}\n", 
            "\\renewcommand{\\th}{\\theta}\n", 
            "\\newcommand{\\om}{\\omega}\n", 
            "\\newcommand{\\Om}{\\Omega}\n", 
            "$"
          ]
        }, 
        {
          "cell_type": "code", 
          "collapsed": false, 
          "input": [
            "from nt_toolbox import *", 
            "%matplotlib inline", 
            "%load_ext autoreload", 
            "%autoreload 2"
          ], 
          "language": "python", 
          "outputs": []
        }, 
        {
          "cell_type": "heading", 
          "level": 2, 
          "metadata": {}, 
          "source": [
            "Velocity Flow Field\n"
          ]
        }, 
        {
          "cell_type": "markdown", 
          "metadata": {}, 
          "source": [
            "A velocity flow is simply a 2-D vector field $V = (V_i)_{i=1}^N \\in \\RR^{n \\times n \\times 2}$\n", 
            "where $V_i \\in \\RR^2$ is one of the $N=n \\times n$ vectors at a position indexed by $i$.\n", 
            "\n", 
            "\n", 
            "It can be generated as a realization of Gaussian process.\n", 
            "The blurring creates correlations in the flow.\n", 
            ""
          ]
        }, 
        {
          "cell_type": "code", 
          "collapsed": false, 
          "input": [
            "n = 128\n", 
            "options.bound = 'per'\n", 
            "V = perform_blurring(randn(n,n,2), 40, options)"
          ], 
          "language": "python", 
          "outputs": []
        }, 
        {
          "cell_type": "markdown", 
          "metadata": {}, 
          "source": [
            "\n", 
            "\n", 
            "Subsampling display operator.\n", 
            ""
          ]
        }, 
        {
          "cell_type": "code", 
          "collapsed": false, 
          "input": [
            "myplot = lambda V: plot_vf( V(1:6:n,1:6:n, :) )"
          ], 
          "language": "python", 
          "outputs": []
        }, 
        {
          "cell_type": "markdown", 
          "metadata": {}, 
          "source": [
            "\n", 
            "\n", 
            "\n", 
            "We can display the vector field using arrow.\n", 
            ""
          ]
        }, 
        {
          "cell_type": "code", 
          "collapsed": false, 
          "input": [
            "\n", 
            "myplot(V)"
          ], 
          "language": "python", 
          "outputs": []
        }, 
        {
          "cell_type": "markdown", 
          "metadata": {}, 
          "source": [
            "\n", 
            "\n", 
            "We can renormalize the flow, which enhance the singularities. It defines\n", 
            "$\\tilde V$ as $\\tilde V_i = V_i/\\norm{V_i}$.\n", 
            ""
          ]
        }, 
        {
          "cell_type": "code", 
          "collapsed": false, 
          "input": [
            "normalize = lambda V: V ./ repmat( max(1e-9,sqrt(sum3(V.^2, 3))) , [1 1 2])"
          ], 
          "language": "python", 
          "outputs": []
        }, 
        {
          "cell_type": "markdown", 
          "metadata": {}, 
          "source": [
            "\n", 
            "\n", 
            "Display.\n", 
            ""
          ]
        }, 
        {
          "cell_type": "code", 
          "collapsed": false, 
          "input": [
            "\n", 
            "myplot(normalize(V))"
          ], 
          "language": "python", 
          "outputs": []
        }, 
        {
          "cell_type": "heading", 
          "level": 2, 
          "metadata": {}, 
          "source": [
            "Incompressible Flows\n"
          ]
        }, 
        {
          "cell_type": "markdown", 
          "metadata": {}, 
          "source": [
            "An incompressible flow as vanishing divergence. The set of vector\n", 
            "incompressible flow defines a sub-space of $\\RR^{n \\times n \\times 2}$\n", 
            "$$ \\Ii = \\enscond{V}{ \\text{div}(V)=0 }\n", 
            "  \\qwhereq \\text{div}(V) = \\pd{V}{x_1} + \\pd{V}{x_2} \\in \\RR^{n \\times n}. $$\n", 
            "Here $\\pd{}{x_s}$ for $s=1,2$ are finite differences approximation of\n", 
            "the horizontal and vertical derivative operators (we suppose here periodic boundary conditions).\n", 
            "\n", 
            "\n", 
            "\n", 
            "The orthogonal projection $U = \\text{Proj}_{\\Ii}(V)$ on  $\\Ii$ is\n", 
            "computed by solving a Poisson equation\n", 
            "$$ U = V-\\nabla A \\qwhereq \\Delta A = \\text{div}(V). $$\n", 
            "\n", 
            "\n", 
            "This is especially simple for periodic boundary conditions since $A$ can\n", 
            "be compute over the Fourier domain as\n", 
            "$$ \\forall \\om \\neq 0, \\quad \\hat A(\\om) = \\frac{\\hat Y(\\om)}{\\mu(\\om)}\n", 
            "  \\qwhereq Y = \\text{div}(V) \\qandq\n", 
            "  \\mu(\\om_1,\\om_2) = -4 \\sin(\\om_1 \\pi / n)^2 -4 \\sin(\\om_2 \\pi / n)^2  $$\n", 
            "and $\\hat A(0)=0$.\n", 
            "\n", 
            "\n", 
            "\n", 
            "Compute the kernel $\\mu(\\om)$.\n", 
            ""
          ]
        }, 
        {
          "cell_type": "code", 
          "collapsed": false, 
          "input": [
            "[Y,X] = meshgrid(0:n-1,0:n-1)\n", 
            "mu = sin(X*pi()/n).^2; mu = -4*( mu+mu' )\n", 
            "mu(1) = 1"
          ], 
          "language": "python", 
          "outputs": []
        }, 
        {
          "cell_type": "markdown", 
          "metadata": {}, 
          "source": [
            "\n", 
            "\n", 
            "Computation of $A$.\n", 
            ""
          ]
        }, 
        {
          "cell_type": "code", 
          "collapsed": false, 
          "input": [
            "A = lambda V: real( ifft2( fft2( div(V, options) ) ./ mu ) )"
          ], 
          "language": "python", 
          "outputs": []
        }, 
        {
          "cell_type": "markdown", 
          "metadata": {}, 
          "source": [
            "\n", 
            "\n", 
            "Projection on incompressible flows.\n", 
            ""
          ]
        }, 
        {
          "cell_type": "code", 
          "collapsed": false, 
          "input": [
            "ProjI = lambda V: V - grad(A(V), options)"
          ], 
          "language": "python", 
          "outputs": []
        }, 
        {
          "cell_type": "markdown", 
          "metadata": {}, 
          "source": [
            "\n", 
            "\n", 
            "Display $U=\\text{Proj}_{\\Ii}(V)$.\n", 
            ""
          ]
        }, 
        {
          "cell_type": "code", 
          "collapsed": false, 
          "input": [
            "U = ProjI(V)\n", 
            "\n", 
            "myplot(U)"
          ], 
          "language": "python", 
          "outputs": []
        }, 
        {
          "cell_type": "markdown", 
          "metadata": {}, 
          "source": [
            "\n", 
            "\n", 
            "Display $W=U-V$ the irrotational component of $V$.\n", 
            ""
          ]
        }, 
        {
          "cell_type": "code", 
          "collapsed": false, 
          "input": [
            "\n", 
            "myplot(V-U)"
          ], 
          "language": "python", 
          "outputs": []
        }, 
        {
          "cell_type": "markdown", 
          "metadata": {}, 
          "source": [
            "\n", 
            "\n", 
            "Note that the decomposition $V=U+W$ is called the Hoge decomposition of\n", 
            "the vector field.\n", 
            "\n", 
            ""
          ]
        }, 
        {
          "cell_type": "heading", 
          "level": 2, 
          "metadata": {}, 
          "source": [
            "Image Advection Along the Flow\n"
          ]
        }, 
        {
          "cell_type": "markdown", 
          "metadata": {}, 
          "source": [
            "A flow defines a warping operator that transport the content of an image\n", 
            "along the streaming of the flow.\n", 
            "\n", 
            "\n", 
            "We load an image $f$.\n", 
            ""
          ]
        }, 
        {
          "cell_type": "code", 
          "collapsed": false, 
          "input": [
            "name = 'lena'\n", 
            "f = crop( load_image(name, 2*n), n)"
          ], 
          "language": "python", 
          "outputs": []
        }, 
        {
          "cell_type": "markdown", 
          "metadata": {}, 
          "source": [
            "\n", 
            "\n", 
            "Given some vector field $U$, the warping operator $f_1 = \\Ww_U(f)$\n", 
            "along the flow is define\n", 
            "$$ f_1(x) = f(x+U(x)) $$\n", 
            "i.e. it advects the values of $f$ by the vector field $U$ to obtain the values of $f_1$.\n", 
            "\n", 
            "\n", 
            "We define $U$ as a scaled normalized incompressible flow.\n", 
            ""
          ]
        }, 
        {
          "cell_type": "code", 
          "collapsed": false, 
          "input": [
            "U = normalize(ProjI(V))"
          ], 
          "language": "python", 
          "outputs": []
        }, 
        {
          "cell_type": "markdown", 
          "metadata": {}, 
          "source": [
            "\n", 
            "\n", 
            "Helper function: enforce periodicity.\n", 
            ""
          ]
        }, 
        {
          "cell_type": "code", 
          "collapsed": false, 
          "input": [
            "periodic = lambda P: cat(3, mod(P(:,:,1)-1,n)+1, mod(P(:,:,2)-1,n)+1 )"
          ], 
          "language": "python", 
          "outputs": []
        }, 
        {
          "cell_type": "markdown", 
          "metadata": {}, 
          "source": [
            "\n", 
            "\n", 
            "Helper function: extend an image by 1 pixel to avoid boundary problems.\n", 
            ""
          ]
        }, 
        {
          "cell_type": "code", 
          "collapsed": false, 
          "input": [
            "extend1 = lambda f: [f f(:,1)]\n", 
            "extend = lambda f: extend1(extend1(f)')'"
          ], 
          "language": "python", 
          "outputs": []
        }, 
        {
          "cell_type": "markdown", 
          "metadata": {}, 
          "source": [
            "\n", 
            "\n", 
            "Helper function: bilinear interpolation on a grid.\n", 
            ""
          ]
        }, 
        {
          "cell_type": "code", 
          "collapsed": false, 
          "input": [
            "myinterp = lambda P1,f1,Pi: interp2( P1(:,:,2), P1(:,:,1),f1, Pi(:,:,2), Pi(:,:,1) )"
          ], 
          "language": "python", 
          "outputs": []
        }, 
        {
          "cell_type": "markdown", 
          "metadata": {}, 
          "source": [
            "\n", 
            "\n", 
            "First we compute the initial and warped grids.\n", 
            ""
          ]
        }, 
        {
          "cell_type": "code", 
          "collapsed": false, 
          "input": [
            "[Y,X] = meshgrid(1:n,1:n)\n", 
            "P = cat(3, X,Y)\n", 
            "[Y1,X1] = meshgrid(1:n+1,1:n+1)\n", 
            "P1 = cat(3, X1,Y1)"
          ], 
          "language": "python", 
          "outputs": []
        }, 
        {
          "cell_type": "markdown", 
          "metadata": {}, 
          "source": [
            "\n", 
            "\n", 
            "Defines the warping operator $\\Ww_U$.\n", 
            ""
          ]
        }, 
        {
          "cell_type": "code", 
          "collapsed": false, 
          "input": [
            "W = lambda f,U: myinterp( P1, extend(f), periodic( P - U ) )"
          ], 
          "language": "python", 
          "outputs": []
        }, 
        {
          "cell_type": "markdown", 
          "metadata": {}, 
          "source": [
            "\n", 
            "\n", 
            "Display a warped image $\\Ww_{\\rho U}(f)$ for some scaling $\\rho$.\n", 
            ""
          ]
        }, 
        {
          "cell_type": "code", 
          "collapsed": false, 
          "input": [
            "rho = 2\n", 
            "\n", 
            "imageplot(W(f,rho*U))"
          ], 
          "language": "python", 
          "outputs": []
        }, 
        {
          "cell_type": "heading", 
          "level": 3, 
          "metadata": {}, 
          "source": [
            "Exercise 1"
          ]
        }, 
        {
          "cell_type": "markdown", 
          "metadata": {}, 
          "source": [
            "\n", 
            "Display $\\Ww_{\\rho U}(f)$ for various values of $\\rho$.\n", 
            "\n", 
            "\n", 
            "\n", 
            "\n", 
            "\n", 
            ""
          ]
        }, 
        {
          "cell_type": "code", 
          "collapsed": false, 
          "input": [
            "## Insert your code here."
          ], 
          "language": "python", 
          "outputs": []
        }, 
        {
          "cell_type": "markdown", 
          "metadata": {}, 
          "source": [
            "\n", 
            ""
          ]
        }, 
        {
          "cell_type": "heading", 
          "level": 3, 
          "metadata": {}, 
          "source": [
            "Exercise 2"
          ]
        }, 
        {
          "cell_type": "markdown", 
          "metadata": {}, 
          "source": [
            "\n", 
            "Define an iterative scheme via:\n", 
            "$$ f^{(\\ell+1)} = \\Ww_{\\rho U}(f^{(\\ell)}).  $$\n", 
            "Display the result $f^{(\\ell)}$, which corresponds approximately to solving\n", 
            "an advection equation at time $t=\\ell \\rho$.\n", 
            "\n", 
            "\n", 
            "\n", 
            "\n", 
            "\n", 
            "\n", 
            "\n", 
            "\n", 
            "\n", 
            "\n", 
            "\n", 
            ""
          ]
        }, 
        {
          "cell_type": "code", 
          "collapsed": false, 
          "input": [
            "## Insert your code here."
          ], 
          "language": "python", 
          "outputs": []
        }, 
        {
          "cell_type": "markdown", 
          "metadata": {}, 
          "source": [
            "\n", 
            "\n", 
            ""
          ]
        }, 
        {
          "cell_type": "heading", 
          "level": 2, 
          "metadata": {}, 
          "source": [
            "Fluid Dynamics\n"
          ]
        }, 
        {
          "cell_type": "markdown", 
          "metadata": {}, 
          "source": [
            "Fluid dynamics solves the incompressible Navier-Stokes equations to\n", 
            "evolve in time the vector field.\n", 
            "\n", 
            "\n", 
            "We discribe here a simple algorithm introduced in:\n", 
            "\n", 
            "\n", 
            "J. Stam, _Stable Fluids,_\n", 
            "SIGGRAPH'99, 1999, p. 121-128.\n", 
            "\n", 
            "\n", 
            "It proposes a semi-implicit scheme for the resolution of the Navier\n", 
            "Stockes equations for the movement of incompressible fluids\n", 
            "$$\n", 
            "      \\pd{V}{t} =\n", 
            "      \\text{Proj}_{\\Ii}\\pa{\n", 
            "          -(V \\cdot \\nabla) V + \\nu \\Delta V + W\n", 
            "      }.\n", 
            "$$\n", 
            "Here $\\nu \\geq 0$ is the viscosity of the fluid,\n", 
            "$W$ is a source term, $\\Delta$ is the Laplacian, and\n", 
            "$-(V \\cdot \\nabla) V$ is the\n", 
            "non-linear self-advection, where we have used the short-hand\n", 
            "notation $V \\cdot \\nabla$ for the derivative operator along a flow $V$:\n", 
            "$$ (V \\cdot \\nabla)U = ( V_1 \\pd{U_1}{x_1} + V_2 \\pd{U_1}{x_2},\n", 
            "      V_1 \\pd{U_2}{x_1} + V_2 \\pd{U_2}{x_2} ).$$\n", 
            "\n", 
            "\n", 
            "In order to visualize the flow, we also advect and diffuse along the flow\n", 
            "a density $g$ of particules, which is a scalar field. Once $V$ has\n", 
            "been computed, it follows a linear PDE\n", 
            "$$\n", 
            "      \\pd{g}{t} =\n", 
            "          -(V \\cdot \\nabla) g + \\mu \\Delta g + h\n", 
            "$$\n", 
            "with some initial condition at time $t=0$, where $h$ is a source for the density.\n", 
            "\n", 
            "\n", 
            "In practice, we solve this PDE in parallel to the PDE for $V$.\n", 
            "\n", 
            "\n", 
            "In the following, we use $W=0$ and $h=0$ (no sources).\n", 
            "\n", 
            "\n", 
            "Set the viscosity $\\nu$ for the velocity field.\n", 
            ""
          ]
        }, 
        {
          "cell_type": "code", 
          "collapsed": false, 
          "input": [
            "nu = 1/10"
          ], 
          "language": "python", 
          "outputs": []
        }, 
        {
          "cell_type": "markdown", 
          "metadata": {}, 
          "source": [
            "\n", 
            "\n", 
            "We use a larger viscosity $\\mu$ for the evolution of the density of\n", 
            "particules.\n", 
            ""
          ]
        }, 
        {
          "cell_type": "code", 
          "collapsed": false, 
          "input": [
            "mu = 2*nu"
          ], 
          "language": "python", 
          "outputs": []
        }, 
        {
          "cell_type": "markdown", 
          "metadata": {}, 
          "source": [
            "\n", 
            "\n", 
            "Extend the warping operator $\\Ww_U$ to work with vector fields as input.\n", 
            "This will apply $\\Ww_U$ on each channel of the vector field (X and Y coordinates).\n", 
            ""
          ]
        }, 
        {
          "cell_type": "code", 
          "collapsed": false, 
          "input": [
            "Wt = lambda V,U: cat(3, W(V(:,:,1),U), W(V(:,:,2),U) )"
          ], 
          "language": "python", 
          "outputs": []
        }, 
        {
          "cell_type": "markdown", 
          "metadata": {}, 
          "source": [
            "\n", 
            "\n", 
            "We discretize the PDE's using some time step $\\tau$.\n", 
            ""
          ]
        }, 
        {
          "cell_type": "code", 
          "collapsed": false, 
          "input": [
            "tau = .5"
          ], 
          "language": "python", 
          "outputs": []
        }, 
        {
          "cell_type": "markdown", 
          "metadata": {}, 
          "source": [
            "\n", 
            "\n", 
            "The algorithm computes $V^{(\\ell)}$ at iteration $\\ell$\n", 
            "which is an approximation of the PDE solution at time $\\ell \\tau$.\n", 
            "It is computed itertatively as\n", 
            "$$\n", 
            "      \\tilde V^{(\\ell)} = \\Ww_{\\tau V^{(\\ell)}}( V^{(\\ell)} )\n", 
            "  \\qandq\n", 
            "      V^{(\\ell+1)} = \\text{Proj}_{\\Ii}\\pa{ \\tilde V^{(\\ell)} + \\tau\\nu\\Delta \\tilde V^{(\\ell)} + \\tau W  }\n", 
            "$$\n", 
            "\n", 
            "\n", 
            "It computes in parallel the evolution of the density as\n", 
            "$$\n", 
            "      \\tilde g^{(\\ell)} = \\Ww_{\\tau V^{(\\ell)}}( g^{(\\ell)} )\n", 
            "  \\qandq\n", 
            "      g^{(\\ell+1)} = \\tilde g^{(\\ell)} + \\tau\\nu\\Delta \\tilde g^{(\\ell)} + \\tau h\n", 
            "$$\n", 
            "\n", 
            "\n", 
            "\n", 
            "Set the initial field $V=V^{(0)}$ at time $t=0$.\n", 
            ""
          ]
        }, 
        {
          "cell_type": "code", 
          "collapsed": false, 
          "input": [
            "V = normalize(ProjI(V))"
          ], 
          "language": "python", 
          "outputs": []
        }, 
        {
          "cell_type": "markdown", 
          "metadata": {}, 
          "source": [
            "\n", 
            "\n", 
            "Set the initial density $g=g^{(0)}$ at time $t=0$.\n", 
            ""
          ]
        }, 
        {
          "cell_type": "code", 
          "collapsed": false, 
          "input": [
            "g = f"
          ], 
          "language": "python", 
          "outputs": []
        }, 
        {
          "cell_type": "markdown", 
          "metadata": {}, 
          "source": [
            "\n", 
            "\n", 
            "The first step is to advect the vector field $V$ and $g$ along the flow $V$ itself.\n", 
            "This corresponds to an implict discretization of the term\n", 
            "$-(V \\cdot \\nabla) V$.\n", 
            ""
          ]
        }, 
        {
          "cell_type": "code", 
          "collapsed": false, 
          "input": [
            "g = W (g,tau*U)\n", 
            "V = Wt(V,tau*U)"
          ], 
          "language": "python", 
          "outputs": []
        }, 
        {
          "cell_type": "markdown", 
          "metadata": {}, 
          "source": [
            "\n", 
            "\n", 
            "We implement the Laplacian using finite difference.\n", 
            ""
          ]
        }, 
        {
          "cell_type": "code", 
          "collapsed": false, 
          "input": [
            "s1 = [2:n 1]; s2 = [n 1:n-1]\n", 
            "Delta = lambda g: 1/4 *( g(s1,:,:) + g(s2,:,:) + g(:,s1,:) + g(:,s2,:) ) - g"
          ], 
          "language": "python", 
          "outputs": []
        }, 
        {
          "cell_type": "markdown", 
          "metadata": {}, 
          "source": [
            "\n", 
            "\n", 
            "The second step is to diffuse the vector field and the density.\n", 
            ""
          ]
        }, 
        {
          "cell_type": "code", 
          "collapsed": false, 
          "input": [
            "V = V + tau*nu*Delta(V)\n", 
            "g = g + tau*mu*Delta(g)"
          ], 
          "language": "python", 
          "outputs": []
        }, 
        {
          "cell_type": "markdown", 
          "metadata": {}, 
          "source": [
            "\n", 
            "\n", 
            "The last step is to ensure incompressibility of $V$ by projecting on $\\Ii$.\n", 
            ""
          ]
        }, 
        {
          "cell_type": "code", 
          "collapsed": false, 
          "input": [
            "V = ProjI(V)"
          ], 
          "language": "python", 
          "outputs": []
        }, 
        {
          "cell_type": "markdown", 
          "metadata": {}, 
          "source": [
            "\n", 
            ""
          ]
        }, 
        {
          "cell_type": "heading", 
          "level": 3, 
          "metadata": {}, 
          "source": [
            "Exercise 3"
          ]
        }, 
        {
          "cell_type": "markdown", 
          "metadata": {}, 
          "source": [
            "\n", 
            "Compute the fluid dynamic by iterating these steps.\n", 
            "\n", 
            "initialization\n", 
            "\n", 
            "\n", 
            "\n", 
            "\n", 
            "\n", 
            "\n", 
            "\n", 
            "\n", 
            "\n", 
            "\n", 
            "\n", 
            "\n", 
            "\n", 
            "\n", 
            "\n", 
            "\n", 
            "\n", 
            "\n", 
            "\n", 
            "\n", 
            "\n", 
            "\n", 
            "\n", 
            ""
          ]
        }, 
        {
          "cell_type": "code", 
          "collapsed": false, 
          "input": [
            "## Insert your code here."
          ], 
          "language": "python", 
          "outputs": []
        }
      ]
    }
  ]
}