{
  "metadata": {
    "name": ""
  }, 
  "nbformat": 3, 
  "nbformat_minor": 0, 
  "worksheets": [
    {
      "cells": [
        {
          "cell_type": "heading", 
          "level": 1, 
          "metadata": {}, 
          "source": [
            "Spherical Mesh Parameterization"
          ]
        }, 
        {
          "cell_type": "markdown", 
          "metadata": {}, 
          "source": [
            "This tour explores parameterization of 3D surfaces onto a sphere.\n", 
            "\n", 
            "\n", 
            "We use a simple minimization of the Dirichlet energy under spherical\n", 
            "constraints. There is no theoritical guarantee, but for some meshes, it\n", 
            "seems to work correctly.\n", 
            ""
          ]
        }, 
        {
          "cell_type": "markdown", 
          "metadata": {}, 
          "source": [
            "*Important:* You need to download the file `nt_toolbox.py` from the \n", 
            "root of the github repository.\n", 
            "$\\newcommand{\\dotp}[2]{\\langle #1, #2 \\rangle}\n", 
            "\\newcommand{\\enscond}[2]{\\lbrace #1, #2 \\rbrace}\n", 
            "\\newcommand{\\pd}[2]{ \\frac{ \\partial #1}{\\partial #2} }\n", 
            "\\newcommand{\\umin}[1]{\\underset{#1}{\\min}\\;}\n", 
            "\\newcommand{\\norm}[1]{\\|#1\\|}\n", 
            "\\newcommand{\\abs}[1]{\\left|#1\\right|}\n", 
            "\\newcommand{\\choice}[1]{ \\left\\{  \\begin{array}{l} #1 \\end{array} \\right. }\n", 
            "\\newcommand{\\pa}[1]{\\left(#1\\right)}\n", 
            "\\newcommand{\\qandq}{\\quad\\text{and}\\quad}\n", 
            "\\newcommand{\\qwhereq}{\\quad\\text{where}\\quad}\n", 
            "\\newcommand{\\qifq}{ \\quad \\text{if} \\quad }\n", 
            "\\newcommand{\\qarrq}{ \\quad \\Longrightarrow \\quad }\n", 
            "\\newcommand{\\ZZ}{\\mathbb{Z}}\n", 
            "\\newcommand{\\RR}{\\mathbb{R}}\n", 
            "\\newcommand{\\Nn}{\\mathcal{N}}\n", 
            "\\newcommand{\\Hh}{\\mathcal{H}}\n", 
            "\\newcommand{\\Bb}{\\mathcal{B}}\n", 
            "\\newcommand{\\EE}{\\mathbb{E}}\n", 
            "\\newcommand{\\CC}{\\mathbb{C}}\n", 
            "\\newcommand{\\si}{\\sigma}\n", 
            "\\newcommand{\\al}{\\alpha}\n", 
            "\\newcommand{\\la}{\\lambda}\n", 
            "\\newcommand{\\ga}{\\gamma}\n", 
            "\\newcommand{\\Ga}{\\Gamma}\n", 
            "\\newcommand{\\La}{\\Lambda}\n", 
            "\\newcommand{\\si}{\\sigma}\n", 
            "\\newcommand{\\Si}{\\Sigma}\n", 
            "\\newcommand{\\be}{\\beta}\n", 
            "\\newcommand{\\de}{\\delta}\n", 
            "\\newcommand{\\De}{\\Delta}\n", 
            "\\renewcommand{\\phi}{\\varphi}\n", 
            "\\renewcommand{\\th}{\\theta}\n", 
            "\\newcommand{\\om}{\\omega}\n", 
            "\\newcommand{\\Om}{\\Omega}\n", 
            "$"
          ]
        }, 
        {
          "cell_type": "code", 
          "collapsed": false, 
          "input": [
            "from nt_toolbox import *", 
            "%matplotlib inline", 
            "%load_ext autoreload", 
            "%autoreload 2"
          ], 
          "language": "python", 
          "outputs": []
        }, 
        {
          "cell_type": "heading", 
          "level": 2, 
          "metadata": {}, 
          "source": [
            "Smoothing Operator\n"
          ]
        }, 
        {
          "cell_type": "markdown", 
          "metadata": {}, 
          "source": [
            "We start by creating a smoothing operator.\n", 
            "\n", 
            "\n", 
            "First load a mesh.\n", 
            ""
          ]
        }, 
        {
          "cell_type": "code", 
          "collapsed": false, 
          "input": [
            "name = 'horse'\n", 
            "[vertex,faces] = read_mesh(name)\n", 
            "n = size(vertex,2)\n", 
            "m = size(faces,2)\n", 
            "clear options; options.name = name"
          ], 
          "language": "python", 
          "outputs": []
        }, 
        {
          "cell_type": "markdown", 
          "metadata": {}, 
          "source": [
            "\n", 
            "\n", 
            "Display the mesh.\n", 
            ""
          ]
        }, 
        {
          "cell_type": "code", 
          "collapsed": false, 
          "input": [
            "\n", 
            "options.lighting = 1\n", 
            "plot_mesh(vertex,faces,options)\n", 
            "shading faceted"
          ], 
          "language": "python", 
          "outputs": []
        }, 
        {
          "cell_type": "markdown", 
          "metadata": {}, 
          "source": [
            "\n", 
            "\n", 
            "Compute the weights.\n", 
            "The weights should be positive for the method to work.\n", 
            ""
          ]
        }, 
        {
          "cell_type": "code", 
          "collapsed": false, 
          "input": [
            "weight = 'conformal'\n", 
            "weight = 'combinatorial'\n", 
            "switch weight\n", 
            "    case 'conformal'\n", 
            "        W = make_sparse(n,n)\n", 
            "for i in 1:3:\n", 
            "            i1 = mod(i-1,3)+1\n", 
            "            i2 = mod(i  ,3)+1\n", 
            "            i3 = mod(i+1,3)+1\n", 
            "            pp = vertex(:,faces(i2,:)) - vertex(:,faces(i1,:))\n", 
            "            qq = vertex(:,faces(i3,:)) - vertex(:,faces(i1,:))\n", 
            "            % normalize the vectors\n", 
            "            pp = pp ./ repmat( sqrt(sum(pp.^2,1)), [3 1] )\n", 
            "            qq = qq ./ repmat( sqrt(sum(qq.^2,1)), [3 1] )\n", 
            "            % compute angles\n", 
            "            ang = acos(sum(pp.*qq,1))\n", 
            "            a = max(1 ./ tan(ang),1e-1); % this is *very* important\n", 
            "            W = W + make_sparse(faces(i2,:),faces(i3,:), a, n, n )\n", 
            "            W = W + make_sparse(faces(i3,:),faces(i2,:), a, n, n )\n", 
            "\n", 
            "    case 'combinatorial'\n", 
            "        E = [faces([1 2],:) faces([2 3],:) faces([3 1],:)]\n", 
            "        E = unique_rows([E E(2:-1:1,:)]')'\n", 
            "        W = make_sparse( E(1,:), E(2,:), ones(size(E,2),1) )\n", 
            ""
          ], 
          "language": "python", 
          "outputs": []
        }, 
        {
          "cell_type": "markdown", 
          "metadata": {}, 
          "source": [
            "\n", 
            "\n", 
            "Compute the normalized weight matrix |tW| such that its rows\n", 
            "sums to 1.\n", 
            ""
          ]
        }, 
        {
          "cell_type": "code", 
          "collapsed": false, 
          "input": [
            "d = full( sum(W,1) )\n", 
            "D = spdiags(d(:), 0, n,n)\n", 
            "iD = spdiags(d(:).^(-1), 0, n,n)\n", 
            "tW = iD * W"
          ], 
          "language": "python", 
          "outputs": []
        }, 
        {
          "cell_type": "heading", 
          "level": 2, 
          "metadata": {}, 
          "source": [
            "Spherical Relaxation\n"
          ]
        }, 
        {
          "cell_type": "markdown", 
          "metadata": {}, 
          "source": [
            "It is possible to smooth the positions of the mesh on the sphere by\n", 
            "performing an averaging according to |W|, and projecting back on the\n", 
            "sphere.\n", 
            "\n", 
            "\n", 
            "Compute an initial mapping on the sphere.\n", 
            "This simply a radial projection.\n", 
            ""
          ]
        }, 
        {
          "cell_type": "code", 
          "collapsed": false, 
          "input": [
            "vertex1 = vertex\n", 
            "vertex1 = vertex1 - repmat( mean(vertex1,2), [1 n] )\n", 
            "vertex1 = vertex1 ./ repmat( sqrt(sum(vertex1.^2,1)), [3 1] )"
          ], 
          "language": "python", 
          "outputs": []
        }, 
        {
          "cell_type": "markdown", 
          "metadata": {}, 
          "source": [
            "\n", 
            "\n", 
            "Check which faces have the correct orientation.\n", 
            "\n", 
            "normal to faces"
          ]
        }, 
        {
          "cell_type": "code", 
          "collapsed": false, 
          "input": [
            "[normal,normalf] = compute_normal(vertex1,faces)"
          ], 
          "language": "python", 
          "outputs": []
        }, 
        {
          "cell_type": "markdown", 
          "metadata": {}, 
          "source": [
            "center of faces"
          ]
        }, 
        {
          "cell_type": "code", 
          "collapsed": false, 
          "input": [
            "C = squeeze(mean(reshape(vertex1(:,faces),[3 3 m]), 2))"
          ], 
          "language": "python", 
          "outputs": []
        }, 
        {
          "cell_type": "markdown", 
          "metadata": {}, 
          "source": [
            "inner product"
          ]
        }, 
        {
          "cell_type": "code", 
          "collapsed": false, 
          "input": [
            "I = sum(C.*normalf)"
          ], 
          "language": "python", 
          "outputs": []
        }, 
        {
          "cell_type": "markdown", 
          "metadata": {}, 
          "source": [
            "\n", 
            "\n", 
            "Ratio of inverted triangles.\n", 
            "For a bijective mapping, there should not be any inverted triangle.\n", 
            ""
          ]
        }, 
        {
          "cell_type": "code", 
          "collapsed": false, 
          "input": [
            "disp(['Ratio of inverted triangles:' num2str(sum(I(:)<0)/m, 3) '%'])"
          ], 
          "language": "python", 
          "outputs": []
        }, 
        {
          "cell_type": "markdown", 
          "metadata": {}, 
          "source": [
            "\n", 
            "\n", 
            "Display on the sphere.\n", 
            ""
          ]
        }, 
        {
          "cell_type": "code", 
          "collapsed": false, 
          "input": [
            "options.name = 'none'\n", 
            "\n", 
            "options.face_vertex_color = double(I(:)>0)\n", 
            "plot_mesh(vertex1,faces,options)\n", 
            "colormap gray(256); axis tight\n", 
            "shading faceted"
          ], 
          "language": "python", 
          "outputs": []
        }, 
        {
          "cell_type": "markdown", 
          "metadata": {}, 
          "source": [
            "\n", 
            "\n", 
            "Perform smoothing and projection.\n", 
            ""
          ]
        }, 
        {
          "cell_type": "code", 
          "collapsed": false, 
          "input": [
            "vertex1 = vertex1*tW'\n", 
            "vertex1 = vertex1 ./ repmat( sqrt(sum(vertex1.^2,1)), [3 1] )"
          ], 
          "language": "python", 
          "outputs": []
        }, 
        {
          "cell_type": "heading", 
          "level": 3, 
          "metadata": {}, 
          "source": [
            "Exercise 1"
          ]
        }, 
        {
          "cell_type": "markdown", 
          "metadata": {}, 
          "source": [
            "\n", 
            "Perform iterative smoothing and projection.\n", 
            "Record the evolution of the number of inverted triangle in\n", 
            "|ninvert|. Record also the evolution of the Dirichlet energy in\n", 
            "|Edir|.\n", 
            "\n", 
            "\n", 
            "\n", 
            "\n", 
            "\n", 
            "\n", 
            "\n", 
            "\n", 
            "\n", 
            "\n", 
            "\n", 
            "\n", 
            "\n", 
            "\n", 
            "\n", 
            "\n", 
            "\n", 
            "\n", 
            "\n", 
            "\n", 
            "\n", 
            "\n", 
            "\n", 
            "\n", 
            "\n", 
            "\n", 
            "\n", 
            "\n", 
            "\n", 
            "\n", 
            "\n", 
            "\n", 
            "\n", 
            "\n", 
            "\n", 
            "\n", 
            "\n", 
            "\n", 
            "\n", 
            "\n", 
            "\n", 
            ""
          ]
        }, 
        {
          "cell_type": "code", 
          "collapsed": false, 
          "input": [
            "## Insert your code here."
          ], 
          "language": "python", 
          "outputs": []
        }, 
        {
          "cell_type": "markdown", 
          "metadata": {}, 
          "source": [
            "\n", 
            "\n", 
            "\n", 
            "Display the decay of the evolution of the Dirichlet energy.\n", 
            ""
          ]
        }, 
        {
          "cell_type": "code", 
          "collapsed": false, 
          "input": [
            "\n", 
            "plot(Edir/Edir(1))\n", 
            "axis('tight')"
          ], 
          "language": "python", 
          "outputs": []
        }, 
        {
          "cell_type": "markdown", 
          "metadata": {}, 
          "source": [
            "\n", 
            "\n", 
            "Display final spherical configuration.\n", 
            ""
          ]
        }, 
        {
          "cell_type": "code", 
          "collapsed": false, 
          "input": [
            "\n", 
            "plot_mesh(vertex1,faces)\n", 
            "colormap gray(256); axis tight\n", 
            "shading faceted"
          ], 
          "language": "python", 
          "outputs": []
        }, 
        {
          "cell_type": "markdown", 
          "metadata": {}, 
          "source": [
            "\n", 
            "\n", 
            "Display the evolution of the number of inverted triangles.\n", 
            ""
          ]
        }, 
        {
          "cell_type": "code", 
          "collapsed": false, 
          "input": [
            "\n", 
            "plot(ninvert/m); axis tight"
          ], 
          "language": "python", 
          "outputs": []
        }, 
        {
          "cell_type": "markdown", 
          "metadata": {}, 
          "source": [
            "\n", 
            ""
          ]
        }, 
        {
          "cell_type": "heading", 
          "level": 2, 
          "metadata": {}, 
          "source": [
            "Spherical Geometry Images\n"
          ]
        }, 
        {
          "cell_type": "markdown", 
          "metadata": {}, 
          "source": [
            "Using this spherical parameterization, one  maps the surface on a\n", 
            "sphere, then on an octahedron, and finally on a square. This allows to\n", 
            "map the surface on a 2D image, thus creating a geometry image.\n", 
            "\n", 
            "\n", 
            "The method is originaly described in\n", 
            "\n", 
            "\n", 
            "_Spherical Parameterization and Remeshing_\n", 
            "E. Praun, H. Hoppe\n", 
            "Proceedings of SIGGRAPH 2003\n", 
            ""
          ]
        }, 
        {
          "cell_type": "code", 
          "collapsed": false, 
          "input": [
            "q = 128\n", 
            "options.verb = 0\n", 
            "M = perform_sgim_sampling(vertex, vertex1, faces, q, options)"
          ], 
          "language": "python", 
          "outputs": []
        }, 
        {
          "cell_type": "markdown", 
          "metadata": {}, 
          "source": [
            "\n", 
            "\n", 
            "Display the spherical geometry image.\n", 
            ""
          ]
        }, 
        {
          "cell_type": "code", 
          "collapsed": false, 
          "input": [
            "\n", 
            "plot_geometry_image(M, 1, 1)\n", 
            "axis equal\n", 
            "colormap gray(256)\n", 
            "view(134,-61)"
          ], 
          "language": "python", 
          "outputs": []
        }, 
        {
          "cell_type": "markdown", 
          "metadata": {}, 
          "source": [
            "\n", 
            ""
          ]
        }, 
        {
          "cell_type": "heading", 
          "level": 2, 
          "metadata": {}, 
          "source": [
            "Mesh Morphing\n"
          ]
        }, 
        {
          "cell_type": "markdown", 
          "metadata": {}, 
          "source": [
            "By mapping two meshes on the same sphere, one  computes a bijection\n", 
            "between two meshes.\n", 
            "\n", 
            "\n", 
            "By linearly interpolating the positions of the points  that are\n", 
            "in correspondance, one  performs a warp of a mesh onto another one.\n", 
            ""
          ]
        }, 
        {
          "cell_type": "heading", 
          "level": 3, 
          "metadata": {}, 
          "source": [
            "Exercise 2"
          ]
        }, 
        {
          "cell_type": "markdown", 
          "metadata": {}, 
          "source": [
            "\n", 
            "Implement the mesh morphing."
          ]
        }, 
        {
          "cell_type": "code", 
          "collapsed": false, 
          "input": [
            "## Insert your code here."
          ], 
          "language": "python", 
          "outputs": []
        }, 
        {
          "cell_type": "markdown", 
          "metadata": {}, 
          "source": [
            "\n", 
            "\n", 
            ""
          ]
        }, 
        {
          "cell_type": "heading", 
          "level": 2, 
          "metadata": {}, 
          "source": [
            "Spherical Relaxation with Area Correction\n"
          ]
        }, 
        {
          "cell_type": "markdown", 
          "metadata": {}, 
          "source": [
            "Spherical relaxation leads to an uncontrolled evolution because triangle\n", 
            "are not constrained in size.\n", 
            "\n", 
            "\n", 
            "To avoid this, it is possible to penalize the size of large triangle.\n", 
            "\n", 
            "\n", 
            "\n", 
            "This is similar to the method proposed in:\n", 
            "\n", 
            "\n", 
            "_Unconstrained Spherical Parameterization_\n", 
            "Ilja Friedel, Peter Schrder, and Mathieu Desbrun\n", 
            "Journal of Graphics Tools, 12(1), pp. 17-26, 2007.\n", 
            "\n", 
            "\n", 
            "First initialize the gradient descent.\n", 
            ""
          ]
        }, 
        {
          "cell_type": "code", 
          "collapsed": false, 
          "input": [
            "vertex1 = vertex\n", 
            "vertex1 = vertex1 - repmat( mean(vertex1,2), [1 n] )\n", 
            "vertex1 = vertex1 ./ repmat( sqrt(sum(vertex1.^2,1)), [3 1] )"
          ], 
          "language": "python", 
          "outputs": []
        }, 
        {
          "cell_type": "markdown", 
          "metadata": {}, 
          "source": [
            "\n", 
            "\n", 
            "Step size for the gradient descent.\n", 
            ""
          ]
        }, 
        {
          "cell_type": "code", 
          "collapsed": false, 
          "input": [
            "eta = .5"
          ], 
          "language": "python", 
          "outputs": []
        }, 
        {
          "cell_type": "markdown", 
          "metadata": {}, 
          "source": [
            "\n", 
            "\n", 
            "Compute the center of the faces.\n", 
            ""
          ]
        }, 
        {
          "cell_type": "code", 
          "collapsed": false, 
          "input": [
            "A = squeeze(mean(reshape(vertex1(:,faces),[3 3 m]), 2))"
          ], 
          "language": "python", 
          "outputs": []
        }, 
        {
          "cell_type": "markdown", 
          "metadata": {}, 
          "source": [
            "\n", 
            "\n", 
            "Compute the Dirichlet energy of each face.\n", 
            ""
          ]
        }, 
        {
          "cell_type": "code", 
          "collapsed": false, 
          "input": [
            "E = zeros(1,m)\n", 
            "for i in 1:3:\n", 
            "    i1 = mod(i,3)+1\n", 
            "    % directed edge\n", 
            "    u = vertex(:,faces(i,:)) - vertex(:,faces(i1,:))\n", 
            "    % norm squared\n", 
            "    u = sum(u.^2)\n", 
            "    % weights between the vertices\n", 
            "    w = W(faces(i,:) + (faces(i1,:)-1)*n)\n", 
            "    E = E + w.*u\n", 
            ""
          ], 
          "language": "python", 
          "outputs": []
        }, 
        {
          "cell_type": "markdown", 
          "metadata": {}, 
          "source": [
            "\n", 
            "\n", 
            "Compute gradient direction.\n", 
            ""
          ]
        }, 
        {
          "cell_type": "code", 
          "collapsed": false, 
          "input": [
            "G = zeros(3,n)\n", 
            "for j in 1:m:\n", 
            "    f = faces(:,j)\n", 
            "    Alpha = A(:,j)\n", 
            "    alpha = norm(Alpha)\n", 
            "for i in 1:3:\n", 
            "        i1 = mod(i  ,3)+1\n", 
            "        i2 = mod(i+1,3)+1\n", 
            "        % directed edges\n", 
            "        u1 = vertex(:,f(i)) - vertex(:,f(i1))\n", 
            "        u2 = vertex(:,f(i)) - vertex(:,f(i2))\n", 
            "        % weights between the vertices\n", 
            "        w1 = W(f(i) + (f(i1)-1)*n)\n", 
            "        w2 = W(f(i) + (f(i2)-1)*n)\n", 
            "        G(:,f(i)) = G(:,f(i)) + (w1*u1 + w2*u2) ./ alpha^2 - Alpha/alpha^4 * E(j)\n", 
            "\n", 
            ""
          ], 
          "language": "python", 
          "outputs": []
        }, 
        {
          "cell_type": "markdown", 
          "metadata": {}, 
          "source": [
            "\n", 
            "\n", 
            "Perform the gradient descent step and the projection.\n", 
            ""
          ]
        }, 
        {
          "cell_type": "code", 
          "collapsed": false, 
          "input": [
            "vertex1 = vertex1 - eta*G\n", 
            "vertex1 = vertex1 ./ repmat( sqrt(sum(vertex1.^2,1)), [3 1] )"
          ], 
          "language": "python", 
          "outputs": []
        }, 
        {
          "cell_type": "heading", 
          "level": 3, 
          "metadata": {}, 
          "source": [
            "Exercise 3"
          ]
        }, 
        {
          "cell_type": "markdown", 
          "metadata": {}, 
          "source": [
            "\n", 
            "Perform the full descent.\n", 
            "Record the decay of the energy in |Edir|.\n", 
            "\n", 
            "\n", 
            "\n", 
            "\n", 
            "\n", 
            "\n", 
            "\n", 
            "\n", 
            "\n", 
            "\n", 
            "\n", 
            "\n", 
            "\n", 
            "\n", 
            "\n", 
            "\n", 
            "\n", 
            "\n", 
            "\n", 
            "\n", 
            "\n", 
            "\n", 
            "\n", 
            "\n", 
            "\n", 
            "\n", 
            "\n", 
            "\n", 
            "\n", 
            "\n", 
            "\n", 
            "\n", 
            "\n", 
            "\n", 
            "\n", 
            "\n", 
            "\n", 
            "\n", 
            "\n", 
            "\n", 
            "\n", 
            "\n", 
            "\n", 
            "\n", 
            "\n", 
            "\n", 
            "\n", 
            "\n", 
            "\n", 
            "\n", 
            "\n", 
            "\n", 
            "\n", 
            "\n", 
            "\n", 
            "\n", 
            "\n", 
            "\n", 
            "\n", 
            "\n", 
            "\n", 
            "\n", 
            "\n", 
            "\n", 
            "\n", 
            ""
          ]
        }, 
        {
          "cell_type": "code", 
          "collapsed": false, 
          "input": [
            "## Insert your code here."
          ], 
          "language": "python", 
          "outputs": []
        }, 
        {
          "cell_type": "markdown", 
          "metadata": {}, 
          "source": [
            "\n", 
            "\n", 
            "\n", 
            "Plot the decay of the energy.\n", 
            ""
          ]
        }
      ]
    }
  ]
}