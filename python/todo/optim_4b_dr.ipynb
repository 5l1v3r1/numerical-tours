{
  "metadata": {
    "name": ""
  }, 
  "nbformat": 3, 
  "nbformat_minor": 0, 
  "worksheets": [
    {
      "cells": [
        {
          "cell_type": "heading", 
          "level": 1, 
          "metadata": {}, 
          "source": [
            "Douglas Rachford Proximal Splitting"
          ]
        }, 
        {
          "cell_type": "markdown", 
          "metadata": {}, 
          "source": [
            "This numerical tour presents the Douglas-Rachford (DR) algorithm to\n", 
            "minimize the sum of two simple functions. It shows an\n", 
            "application to\n", 
            "reconstruction of exactly sparse signal from noiseless measurement using\n", 
            "$\\ell^1$ minimization.\n", 
            ""
          ]
        }, 
        {
          "cell_type": "markdown", 
          "metadata": {}, 
          "source": [
            "*Important:* You need to download the file `nt_toolbox.py` from the \n", 
            "root of the github repository.\n", 
            "$\\newcommand{\\dotp}[2]{\\langle #1, #2 \\rangle}\n", 
            "\\newcommand{\\enscond}[2]{\\lbrace #1, #2 \\rbrace}\n", 
            "\\newcommand{\\pd}[2]{ \\frac{ \\partial #1}{\\partial #2} }\n", 
            "\\newcommand{\\umin}[1]{\\underset{#1}{\\min}\\;}\n", 
            "\\newcommand{\\norm}[1]{\\|#1\\|}\n", 
            "\\newcommand{\\abs}[1]{\\left|#1\\right|}\n", 
            "\\newcommand{\\choice}[1]{ \\left\\{  \\begin{array}{l} #1 \\end{array} \\right. }\n", 
            "\\newcommand{\\pa}[1]{\\left(#1\\right)}\n", 
            "\\newcommand{\\qandq}{\\quad\\text{and}\\quad}\n", 
            "\\newcommand{\\qwhereq}{\\quad\\text{where}\\quad}\n", 
            "\\newcommand{\\qifq}{ \\quad \\text{if} \\quad }\n", 
            "\\newcommand{\\qarrq}{ \\quad \\Longrightarrow \\quad }\n", 
            "\\newcommand{\\ZZ}{\\mathbb{Z}}\n", 
            "\\newcommand{\\RR}{\\mathbb{R}}\n", 
            "\\newcommand{\\Nn}{\\mathcal{N}}\n", 
            "\\newcommand{\\Hh}{\\mathcal{H}}\n", 
            "\\newcommand{\\Bb}{\\mathcal{B}}\n", 
            "\\newcommand{\\EE}{\\mathbb{E}}\n", 
            "\\newcommand{\\CC}{\\mathbb{C}}\n", 
            "\\newcommand{\\si}{\\sigma}\n", 
            "\\newcommand{\\al}{\\alpha}\n", 
            "\\newcommand{\\la}{\\lambda}\n", 
            "\\newcommand{\\ga}{\\gamma}\n", 
            "\\newcommand{\\Ga}{\\Gamma}\n", 
            "\\newcommand{\\La}{\\Lambda}\n", 
            "\\newcommand{\\si}{\\sigma}\n", 
            "\\newcommand{\\Si}{\\Sigma}\n", 
            "\\newcommand{\\be}{\\beta}\n", 
            "\\newcommand{\\de}{\\delta}\n", 
            "\\newcommand{\\De}{\\Delta}\n", 
            "\\renewcommand{\\phi}{\\varphi}\n", 
            "\\renewcommand{\\th}{\\theta}\n", 
            "\\newcommand{\\om}{\\omega}\n", 
            "\\newcommand{\\Om}{\\Omega}\n", 
            "$"
          ]
        }, 
        {
          "cell_type": "code", 
          "collapsed": false, 
          "input": [
            "from nt_toolbox import *", 
            "%matplotlib inline", 
            "%load_ext autoreload", 
            "%autoreload 2"
          ], 
          "language": "python", 
          "outputs": []
        }, 
        {
          "cell_type": "markdown", 
          "metadata": {}, 
          "source": [
            "\n", 
            ""
          ]
        }, 
        {
          "cell_type": "heading", 
          "level": 2, 
          "metadata": {}, 
          "source": [
            "Douglas-Rachford Algorithm\n"
          ]
        }, 
        {
          "cell_type": "markdown", 
          "metadata": {}, 
          "source": [
            "The Douglas-Rachford (DR) algorithm is an iterative scheme to minimize\n", 
            "functionals of the form\n", 
            "$$ \\umin{x} F(x) + G(x) $$\n", 
            "where $F$ and $G$ are convex functions for which one is able to\n", 
            "comptue the proximal mappings $ \\text{prox}_{\\gamma F} $ and\n", 
            "$ \\text{prox}_{\\gamma G} $ which are defined as\n", 
            "$$ \\text{prox}_{\\gamma F}(x) = \\text{argmin}_{y} \\frac{1}{2}\\norm{x-y}^2 + \\ga F(y) $$\n", 
            "(the same definition applies also for $G$).\n", 
            "\n", 
            "\n", 
            "The important point is that $F$ and $G$ do not need to be smooth.\n", 
            "One only needs them to be \"proximable\".\n", 
            "\n", 
            "\n", 
            "This algorithm was introduced in:\n", 
            "\n", 
            "\n", 
            "P. L. Lions and B. Mercier\n", 
            "_Splitting Algorithms for the Sum of Two Nonlinear Operators_\n", 
            "SIAM Journal on Numerical Analysis\n", 
            "Vol. 16, No. 6 (Dec., 1979), pp. 964-979\n", 
            "\n", 
            "\n", 
            "as a generalization of an algorithm introduced by Douglas and Rachford in\n", 
            "the case of quadratic minimization (which corresponds to the solution of\n", 
            "a linear system).\n", 
            "\n", 
            "\n", 
            "To learn more about this algorithm, you can read:\n", 
            "\n", 
            "\n", 
            "Patrick L. Combettes and Jean-Christophe Pesquet,\n", 
            "_Proximal Splitting Methods in Signal Processing_,\n", 
            "in: Fixed-Point Algorithms for Inverse\n", 
            "Problems in Science and Engineering, New York: Springer-Verlag, 2010.\n", 
            "\n", 
            "\n", 
            "\n", 
            "A DR iteration reads\n", 
            "$$ \\tilde x_{k+1} = \\pa{1-\\frac{\\mu}{2}} \\tilde x_k +\n", 
            "  \\frac{\\mu}{2} \\text{rprox}_{\\gamma G}( \\text{rprox}_{\\gamma F}(\\tilde x_k)  )\n", 
            "  \\qandq x_{k+1} = \\text{prox}_{\\gamma F}(\\tilde x_{k+1},) $$\n", 
            "\n", 
            "\n", 
            "\n", 
            "We have used the following shortcuts:\n", 
            "$$   \\text{rprox}_{\\gamma F}(x) = 2\\text{prox}_{\\gamma F}(x)-x $$\n", 
            "\n", 
            "\n", 
            "It is of course possible to inter-change the roles of $F$ and $G$,\n", 
            "which defines another set of iterations.\n", 
            "\n", 
            "\n", 
            "One can show that for any value of $\\gamma>0$, any $ 0 < \\mu < 2 $,\n", 
            "and any $\\tilde x_0$, $x_k \\rightarrow x^\\star$\n", 
            "which is a minimizer of the minimization of $F+G$.\n", 
            ""
          ]
        }, 
        {
          "cell_type": "heading", 
          "level": 2, 
          "metadata": {}, 
          "source": [
            "Compressed Sensing Acquisition\n"
          ]
        }, 
        {
          "cell_type": "markdown", 
          "metadata": {}, 
          "source": [
            "Compressed sensing acquisition corresponds to a random projection\n", 
            "$y=Ax_0$ of a signal $x_0$ on a\n", 
            "few linear vectors (the lines of $A$). For the recovery of $x_0$ to be possible, it is assumed\n", 
            "to be sparsely represented in an orthogonal basis. Up to a change of\n", 
            "basis, we suppose that the vector $x$ itself is sparse.\n", 
            "\n", 
            "\n", 
            "Initialize the random number generator to have always the same signals.\n", 
            ""
          ]
        }, 
        {
          "cell_type": "code", 
          "collapsed": false, 
          "input": [
            "set_rand_seeds(123456,123456)"
          ], 
          "language": "python", 
          "outputs": []
        }, 
        {
          "cell_type": "markdown", 
          "metadata": {}, 
          "source": [
            "\n", 
            "\n", 
            "\n", 
            "Dimension of the problem.\n", 
            ""
          ]
        }, 
        {
          "cell_type": "code", 
          "collapsed": false, 
          "input": [
            "n = 400"
          ], 
          "language": "python", 
          "outputs": []
        }, 
        {
          "cell_type": "markdown", 
          "metadata": {}, 
          "source": [
            "\n", 
            "\n", 
            "Number of measurements.\n", 
            ""
          ]
        }, 
        {
          "cell_type": "code", 
          "collapsed": false, 
          "input": [
            "p = round(n/4)"
          ], 
          "language": "python", 
          "outputs": []
        }, 
        {
          "cell_type": "markdown", 
          "metadata": {}, 
          "source": [
            "\n", 
            "\n", 
            "\n", 
            "Create a random Gaussian measurement matrix $A$.\n", 
            ""
          ]
        }, 
        {
          "cell_type": "code", 
          "collapsed": false, 
          "input": [
            "A = randn(p,n) / sqrt(p)"
          ], 
          "language": "python", 
          "outputs": []
        }, 
        {
          "cell_type": "markdown", 
          "metadata": {}, 
          "source": [
            "\n", 
            "\n", 
            "Sparsity of the signal.\n", 
            ""
          ]
        }, 
        {
          "cell_type": "code", 
          "collapsed": false, 
          "input": [
            "s = 17"
          ], 
          "language": "python", 
          "outputs": []
        }, 
        {
          "cell_type": "markdown", 
          "metadata": {}, 
          "source": [
            "\n", 
            "\n", 
            "We begin by generating a $s$-sparse signal $x_0$ with $s$ randomized values.\n", 
            "Since the measurement matrix is random, one does not care about the sign\n", 
            "of the Diracs, so we use +1 values.\n", 
            ""
          ]
        }, 
        {
          "cell_type": "code", 
          "collapsed": false, 
          "input": [
            "sel = randperm(n)\n", 
            "x0 = zeros(n,1); x0(sel(1:s))=1"
          ], 
          "language": "python", 
          "outputs": []
        }, 
        {
          "cell_type": "markdown", 
          "metadata": {}, 
          "source": [
            "\n", 
            "\n", 
            "We perform random measurements $y=Ax_0$ without noise.\n", 
            ""
          ]
        }, 
        {
          "cell_type": "code", 
          "collapsed": false, 
          "input": [
            "y = A*x0"
          ], 
          "language": "python", 
          "outputs": []
        }, 
        {
          "cell_type": "heading", 
          "level": 2, 
          "metadata": {}, 
          "source": [
            "Compressed Sensing Recovery using DR\n"
          ]
        }, 
        {
          "cell_type": "markdown", 
          "metadata": {}, 
          "source": [
            "Compressed sensing recovery corresponds\n", 
            "to solving the inverse problem $y=A x_0$, which is ill posed because\n", 
            "$x_0$ is\n", 
            "higher dimensional than $y$.\n", 
            "\n", 
            "\n", 
            "The reconstruction can be perform with $\\ell^1$ minimization,\n", 
            "which regularizes the problems by using the sparsity of the solution.\n", 
            "$$ x^\\star \\in \\uargmin{ A x = y } \\norm{x}_1 $$\n", 
            "where the $\\ell^1$ norm is defined as\n", 
            "$$ \\norm{x}_1 = \\sum_i \\abs{x_i}. $$\n", 
            "\n", 
            "\n", 
            "This is the minimization of a non-smooth function under affine\n", 
            "constraints. This can be shown to be equivalent to a linear programming\n", 
            "problem, for wich various algorithms can be used (simplex, interior\n", 
            "points). We propose here to use the DR iterative algorithm.\n", 
            "\n", 
            "\n", 
            "It is possible to recast this problem as the minimization of $F+G$\n", 
            "where $G(x) = \\norm{x}_1$ and $F(x)=\\iota_{H}$ where $H =\n", 
            "\\enscond{x}{Ax=y}$ is an affine space, and $\\iota_H$ is the indicator\n", 
            "function\n", 
            "$$ \\iota_H(x) = \\choice{ 0 \\qifq x \\in H, \\\\ +\\infty \\qifq x \\notin H. } $$\n", 
            "\n", 
            "\n", 
            "The proximal operator of the $\\ell^1$ norm is the soft thresholding:\n", 
            "$$ \\text{prox}_{\\gamma \\norm{\\cdot}_1}(x)_i = \\max\\pa{ 0, 1-\\frac{\\ga}{\\abs{x_i}} } x_i. $$\n", 
            ""
          ]
        }, 
        {
          "cell_type": "code", 
          "collapsed": false, 
          "input": [
            "proxG = lambda x,gamma: max(0,1-gamma./max(1e-15,abs(x))).*x"
          ], 
          "language": "python", 
          "outputs": []
        }, 
        {
          "cell_type": "markdown", 
          "metadata": {}, 
          "source": [
            "\n", 
            "\n", 
            "Display the 1-D curve of the thresholding.\n", 
            ""
          ]
        }, 
        {
          "cell_type": "code", 
          "collapsed": false, 
          "input": [
            "t = linspace(-1,1)\n", 
            "plot(t, proxG(t,.3))\n", 
            "axis('equal')"
          ], 
          "language": "python", 
          "outputs": []
        }, 
        {
          "cell_type": "markdown", 
          "metadata": {}, 
          "source": [
            "\n", 
            "\n", 
            "The proximal operator of the indicator function of $H$ is the\n", 
            "projector, and does not depends on $\\gamma$.\n", 
            "$$ \\text{prox}_{\\gamma \\iota_H}(x)_i = \\text{prox}_F(x) = x + A^* (A A^*)^{-1} (y-Ax). $$\n", 
            ""
          ]
        }, 
        {
          "cell_type": "code", 
          "collapsed": false, 
          "input": [
            "pA = A'*(A*A')^(-1)\n", 
            "proxF = lambda x,y: x + pA*(y-A*x)"
          ], 
          "language": "python", 
          "outputs": []
        }, 
        {
          "cell_type": "markdown", 
          "metadata": {}, 
          "source": [
            "\n", 
            "\n", 
            "There are two kinds of Douglas-Rachford iterations, depending on wether\n", 
            "you first apply the projection or the thresholding.\n", 
            "\n", 
            "\n", 
            "The first algorithm, (DR1), reads:\n", 
            "$$ \\tilde x_{k+1} = \\pa{1-\\frac{\\mu}{2}} \\tilde x_k + \\frac{\\mu}{2} \\text{rprox}_F( \\text{rprox}_\\gamma(\\tilde x_k)  )\n", 
            "\\qandq x_k = \\text{prox}_\\gamma(\\tilde x_k) $$\n", 
            "\n", 
            "\n", 
            "The first algorithm, (DR2), reads:\n", 
            "$$ \\tilde x_{k+1} = \\pa{1-\\frac{\\mu}{2}} \\tilde x_k + \\frac{\\mu}{2} \\text{rprox}_{\\gamma G}( \\text{rprox}_F(\\tilde x_k)  )\n", 
            "\\qandq x_k = \\text{Prox}_F(\\tilde x_k) $$\n", 
            "\n", 
            "\n", 
            "The advantage of (DR2) is the the iterates $x_k$ always satisfy\n", 
            "$Ax_k=y$, so that one can only keep track of the evolution of the\n", 
            "$\\ell^1$ norm during the iterations. We will use only (DR2) in the\n", 
            "following.\n", 
            "\n", 
            "\n", 
            "Set the value of $\\mu$ and $\\gamma$.\n", 
            "You might consider using your own value to speed up the convergence.\n", 
            ""
          ]
        }, 
        {
          "cell_type": "code", 
          "collapsed": false, 
          "input": [
            "mu = 1\n", 
            "gamma = 1"
          ], 
          "language": "python", 
          "outputs": []
        }, 
        {
          "cell_type": "markdown", 
          "metadata": {}, 
          "source": [
            "\n", 
            "\n", 
            "\n", 
            "Define the rprox operators.\n", 
            ""
          ]
        }, 
        {
          "cell_type": "code", 
          "collapsed": false, 
          "input": [
            "rproxG = lambda x,tau: 2*proxG(x,tau)-x\n", 
            "rproxF = lambda x,y: 2*proxF(x,y)-x"
          ], 
          "language": "python", 
          "outputs": []
        }, 
        {
          "cell_type": "markdown", 
          "metadata": {}, 
          "source": [
            "\n", 
            "\n", 
            "Number of iterations.\n", 
            ""
          ]
        }, 
        {
          "cell_type": "code", 
          "collapsed": false, 
          "input": [
            "niter = 500"
          ], 
          "language": "python", 
          "outputs": []
        }, 
        {
          "cell_type": "heading", 
          "level": 3, 
          "metadata": {}, 
          "source": [
            "Exercise 1"
          ]
        }, 
        {
          "cell_type": "markdown", 
          "metadata": {}, 
          "source": [
            "\n", 
            "Implement the DR iterative algorithm on |niter| iterations.\n", 
            "Keep track of the evolution of the $\\ell^1$ norm.\n", 
            "\n", 
            "\n", 
            "\n", 
            "\n", 
            "\n", 
            "\n", 
            "\n", 
            "\n", 
            "\n", 
            "\n", 
            ""
          ]
        }, 
        {
          "cell_type": "code", 
          "collapsed": false, 
          "input": [
            "## Insert your code here."
          ], 
          "language": "python", 
          "outputs": []
        }, 
        {
          "cell_type": "markdown", 
          "metadata": {}, 
          "source": [
            "\n", 
            "\n", 
            "\n", 
            "We display the convergence speed of the $\\ell^1$ norm on the first half iterations, in log\n", 
            "scales.\n", 
            ""
          ]
        }, 
        {
          "cell_type": "code", 
          "collapsed": false, 
          "input": [
            "plot(log10(lun(1:end/2)-lun(end)))\n", 
            "axis('tight')"
          ], 
          "language": "python", 
          "outputs": []
        }, 
        {
          "cell_type": "markdown", 
          "metadata": {}, 
          "source": [
            "\n", 
            "\n", 
            "\n", 
            "Display the original and the recovered signals.\n", 
            "Since the original signal is highly sparse, it is perfectly recovered.\n", 
            ""
          ]
        }, 
        {
          "cell_type": "code", 
          "collapsed": false, 
          "input": [
            "\n", 
            "subplot(2,1,1)\n", 
            "plot_sparse_diracs(x0)\n", 
            "set_graphic_sizes([], 15)\n", 
            "title('Original Signal')\n", 
            "subplot(2,1,2)\n", 
            "plot_sparse_diracs(x)\n", 
            "set_graphic_sizes([], 15)\n", 
            "title('Recovered by L1 minimization')"
          ], 
          "language": "python", 
          "outputs": []
        }, 
        {
          "cell_type": "markdown", 
          "metadata": {}, 
          "source": [
            "\n", 
            "\n", 
            "CMT"
          ]
        }, 
        {
          "cell_type": "code", 
          "collapsed": false, 
          "input": [
            "lun = []; err = []\n", 
            "glist = [.01 1 10]\n", 
            "lgd = {}\n", 
            "for k in 1:length(glist):\n", 
            "    gamma = glist(k)\n", 
            "    tx = zeros(n,1)\n", 
            "for i in 1:niter:\n", 
            "        tx = (1-mu/2)*tx + mu/2*rproxG( rproxF(tx,y),gamma )\n", 
            "        x = proxF(tx,y)\n", 
            "        lun(i,k) = norm(x,1)\n", 
            "        err(i,k) = norm(y-A*x)\n", 
            "\n", 
            "    lgd{end+1} = ['\\gamma=' num2str(gamma)]\n", 
            "\n", 
            "h = plot(log10(lun(1:end/2,:)-min(lun(:))))\n", 
            "set(h, 'LineWidth', 2)\n", 
            "axis('tight')\n", 
            "set(gca, 'FontSize', 20)"
          ], 
          "language": "python", 
          "outputs": []
        }, 
        {
          "cell_type": "markdown", 
          "metadata": {}, 
          "source": [
            "CMT\n", 
            "\n", 
            ""
          ]
        }, 
        {
          "cell_type": "heading", 
          "level": 3, 
          "metadata": {}, 
          "source": [
            "Exercise 2"
          ]
        }, 
        {
          "cell_type": "markdown", 
          "metadata": {}, 
          "source": [
            "\n", 
            "Test the recovery of a less sparse signal.\n", 
            "What do you observe ?\n", 
            "\n", 
            "\n", 
            "\n", 
            "\n", 
            "\n", 
            "\n", 
            "\n", 
            "\n", 
            "\n", 
            "\n", 
            "\n", 
            "\n", 
            "\n", 
            "\n", 
            "\n", 
            "\n", 
            "\n", 
            ""
          ]
        }, 
        {
          "cell_type": "code", 
          "collapsed": false, 
          "input": [
            "## Insert your code here."
          ], 
          "language": "python", 
          "outputs": []
        }, 
        {
          "cell_type": "markdown", 
          "metadata": {}, 
          "source": [
            "\n", 
            ""
          ]
        }, 
        {
          "cell_type": "heading", 
          "level": 2, 
          "metadata": {}, 
          "source": [
            "Evaluation of the CS Recovery Probability\n"
          ]
        }, 
        {
          "cell_type": "markdown", 
          "metadata": {}, 
          "source": [
            "In order to bench in a randomized manner the efficiency of compressed\n", 
            "sensing, we compute the probability $p_s$ for a $s$-sparse signal\n", 
            "with random non-zero coefficient locations to be recovered by $\\ell^1$\n", 
            "minimization.\n", 
            "\n", 
            "\n", 
            "Put formally, if we call $ x^\\star(y) $ the resolution of the $\\ell^1$\n", 
            "problem using measurements $y$, then we want to compute with\n", 
            "Monte-Carlo sampling\n", 
            "$$ p_s = \\mathbb{P}( x^\\star(Ax)=x \\:\\backslash\\: \\norm{x}_0=s ) $$\n", 
            "\n", 
            "\n", 
            "An important feature of the DR algorithm is that it can be run on many\n", 
            "signal at once.\n", 
            "\n", 
            "\n", 
            "Number of signals.\n", 
            ""
          ]
        }, 
        {
          "cell_type": "code", 
          "collapsed": false, 
          "input": [
            "q = 1000"
          ], 
          "language": "python", 
          "outputs": []
        }, 
        {
          "cell_type": "markdown", 
          "metadata": {}, 
          "source": [
            "\n", 
            "\n", 
            "List of benched sparsity.\n", 
            ""
          ]
        }, 
        {
          "cell_type": "code", 
          "collapsed": false, 
          "input": [
            "slist = 14:2:42"
          ], 
          "language": "python", 
          "outputs": []
        }, 
        {
          "cell_type": "markdown", 
          "metadata": {}, 
          "source": [
            "\n", 
            "\n", 
            "List of sparsity of each signal\n", 
            ""
          ]
        }, 
        {
          "cell_type": "code", 
          "collapsed": false, 
          "input": [
            "Slist = slist(mod(0:q-1,length(slist))+1)"
          ], 
          "language": "python", 
          "outputs": []
        }, 
        {
          "cell_type": "markdown", 
          "metadata": {}, 
          "source": [
            "\n", 
            "per\n", 
            "Genetate signals so that |x0(:,j)| has sparsity |Slist(i)|.\n", 
            ""
          ]
        }, 
        {
          "cell_type": "code", 
          "collapsed": false, 
          "input": [
            "U = rand(n,q)\n", 
            "v = sort(U)\n", 
            "v = v( (0:q-1)*n + Slist )\n", 
            "x0 = U<=repmat( v, [n 1] )"
          ], 
          "language": "python", 
          "outputs": []
        }, 
        {
          "cell_type": "markdown", 
          "metadata": {}, 
          "source": [
            "\n", 
            "\n", 
            "Measurements.\n", 
            ""
          ]
        }, 
        {
          "cell_type": "code", 
          "collapsed": false, 
          "input": [
            "y = A*x0"
          ], 
          "language": "python", 
          "outputs": []
        }, 
        {
          "cell_type": "heading", 
          "level": 3, 
          "metadata": {}, 
          "source": [
            "Exercise 3"
          ]
        }, 
        {
          "cell_type": "markdown", 
          "metadata": {}, 
          "source": [
            "\n", 
            "Perform DR on the set of signals |x0|. Note that the proximal mappings\n", 
            "operate in parallel on all the signals in |x0|.\n", 
            "Each |i|, count the average number |proba(i)|\n", 
            "of recovered vectors of sparsity |slist(i)| (up to a given, small, precision).\n", 
            "\n", 
            "\n", 
            "\n", 
            "\n", 
            "\n", 
            "\n", 
            "\n", 
            "\n", 
            "\n", 
            "\n", 
            "\n", 
            "\n", 
            "\n", 
            "\n", 
            "\n", 
            "\n", 
            "\n", 
            "\n", 
            "\n", 
            "\n", 
            ""
          ]
        }, 
        {
          "cell_type": "code", 
          "collapsed": false, 
          "input": [
            "## Insert your code here."
          ], 
          "language": "python", 
          "outputs": []
        }
      ]
    }
  ]
}