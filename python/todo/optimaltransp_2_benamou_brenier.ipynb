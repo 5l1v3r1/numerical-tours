{
  "metadata": {
    "name": ""
  }, 
  "nbformat": 3, 
  "nbformat_minor": 0, 
  "worksheets": [
    {
      "cells": [
        {
          "cell_type": "heading", 
          "level": 1, 
          "metadata": {}, 
          "source": [
            "Optimal Transport with Benamou-Brenier Algorithm"
          ]
        }, 
        {
          "cell_type": "markdown", 
          "metadata": {}, 
          "source": [
            "This numerical details how to compute optimal transport maps by solving a space-time\n", 
            "convex variational problem.\n", 
            "\n", 
            "\n", 
            "This tour implements the algorithm described in:\n", 
            "\n", 
            "\n", 
            "Benamou J.-D.; Brenier Y.,\n", 
            "_A computational fluid mechanics solution of the Monge-Katonrovich mass transfer problem_,\n", 
            "Numer. Math. 84 (2000), pp. 375-393\n", 
            "\n", 
            "\n", 
            "The algorithm detailed in this paper is introduced as an\n", 
            "augmented-Lagrangia method over the Legendre-Fenchel dual variational\n", 
            "problem. In this tour, we introduce a proximal algorithm (Douglas-Rachford) directly over\n", 
            "the primal algorithm. Both algorithm can be shown to be equivalent, but we feel that explaining a primal\n", 
            "algorithm was conceptually simpler and fits nicely in the well developped framework of proximal splitting schemes.\n", 
            "\n", 
            "\n", 
            "Special thanks to Jalal Fadili for advices for the implementation of the\n", 
            "proximal solver.\n", 
            ""
          ]
        }, 
        {
          "cell_type": "markdown", 
          "metadata": {}, 
          "source": [
            "*Important:* You need to download the file `nt_toolbox.py` from the \n", 
            "root of the github repository.\n", 
            "$\\newcommand{\\dotp}[2]{\\langle #1, #2 \\rangle}\n", 
            "\\newcommand{\\enscond}[2]{\\lbrace #1, #2 \\rbrace}\n", 
            "\\newcommand{\\pd}[2]{ \\frac{ \\partial #1}{\\partial #2} }\n", 
            "\\newcommand{\\umin}[1]{\\underset{#1}{\\min}\\;}\n", 
            "\\newcommand{\\norm}[1]{\\|#1\\|}\n", 
            "\\newcommand{\\abs}[1]{\\left|#1\\right|}\n", 
            "\\newcommand{\\choice}[1]{ \\left\\{  \\begin{array}{l} #1 \\end{array} \\right. }\n", 
            "\\newcommand{\\pa}[1]{\\left(#1\\right)}\n", 
            "\\newcommand{\\qandq}{\\quad\\text{and}\\quad}\n", 
            "\\newcommand{\\qwhereq}{\\quad\\text{where}\\quad}\n", 
            "\\newcommand{\\qifq}{ \\quad \\text{if} \\quad }\n", 
            "\\newcommand{\\qarrq}{ \\quad \\Longrightarrow \\quad }\n", 
            "\\newcommand{\\ZZ}{\\mathbb{Z}}\n", 
            "\\newcommand{\\RR}{\\mathbb{R}}\n", 
            "\\newcommand{\\Nn}{\\mathcal{N}}\n", 
            "\\newcommand{\\Hh}{\\mathcal{H}}\n", 
            "\\newcommand{\\Bb}{\\mathcal{B}}\n", 
            "\\newcommand{\\EE}{\\mathbb{E}}\n", 
            "\\newcommand{\\CC}{\\mathbb{C}}\n", 
            "\\newcommand{\\si}{\\sigma}\n", 
            "\\newcommand{\\al}{\\alpha}\n", 
            "\\newcommand{\\la}{\\lambda}\n", 
            "\\newcommand{\\ga}{\\gamma}\n", 
            "\\newcommand{\\Ga}{\\Gamma}\n", 
            "\\newcommand{\\La}{\\Lambda}\n", 
            "\\newcommand{\\si}{\\sigma}\n", 
            "\\newcommand{\\Si}{\\Sigma}\n", 
            "\\newcommand{\\be}{\\beta}\n", 
            "\\newcommand{\\de}{\\delta}\n", 
            "\\newcommand{\\De}{\\Delta}\n", 
            "\\renewcommand{\\phi}{\\varphi}\n", 
            "\\renewcommand{\\th}{\\theta}\n", 
            "\\newcommand{\\om}{\\omega}\n", 
            "\\newcommand{\\Om}{\\Omega}\n", 
            "$"
          ]
        }, 
        {
          "cell_type": "code", 
          "collapsed": false, 
          "input": [
            "from nt_toolbox import *", 
            "%matplotlib inline", 
            "%load_ext autoreload", 
            "%autoreload 2"
          ], 
          "language": "python", 
          "outputs": []
        }, 
        {
          "cell_type": "markdown", 
          "metadata": {}, 
          "source": [
            "\n", 
            "\n", 
            "Usaful helpers.\n", 
            ""
          ]
        }, 
        {
          "cell_type": "code", 
          "collapsed": false, 
          "input": [
            "mynorm = lambda a: norm(a(:))\n", 
            "sum3 = lambda a: sum(a(:))"
          ], 
          "language": "python", 
          "outputs": []
        }, 
        {
          "cell_type": "heading", 
          "level": 2, 
          "metadata": {}, 
          "source": [
            "Optimal Transport of Densities\n"
          ]
        }, 
        {
          "cell_type": "markdown", 
          "metadata": {}, 
          "source": [
            "We consider transport $T : [0,1]^2 \\mapsto [0,1]^2 $\n", 
            "with periodic boundary conditions.\n", 
            "\n", 
            "\n", 
            "A valid transport should push forward the measure $ f_0(x) d x$\n", 
            "onto $ f_1(x) d x $. In term of densities, this corresponds to\n", 
            "the constraint\n", 
            "$$ f_0(x) = f_1(T(x)) \\abs{\\det( \\partial T(x) )} $$\n", 
            "where $\\partial T(x) \\in \\RR^{2 \\times 2}$ is the differential of $T$\n", 
            "at $x$. This is known as the gradient equation.\n", 
            "We call $\\Tt(f,g)$ the set of transport that satisfies this constraint.\n", 
            "\n", 
            "\n", 
            "Optimal transport looks for a mapping that solves\n", 
            "$$ W(f_0,f_1) = \\umin{T \\in \\Tt(f_0,f_1) } \\int C(x,T(x)) d x $$\n", 
            "where $C(x,y) \\geq 0$ is the cost of assigning $x \\in [0,1]^2$ to $y \\in\n", 
            "[0,1]^2$.\n", 
            "\n", 
            "\n", 
            "We consider here the $L^2$ optimal transport, so that\n", 
            "$C(x,y)=\\norm{x-y}^2$.\n", 
            "\n", 
            "\n", 
            "The optimal transport geodesic $f(x,t)$ is defined as\n", 
            "$$ f(x,t) = f_1( (1-t) \\text{Id} + t T(x))\n", 
            "   \\abs{\\det( (1-t) \\text{Id}  + t \\partial T(x) )}. $$\n", 
            "\n", 
            "\n", 
            "Benamou and Brenier showed that this geodesic solves the following convex\n", 
            "problem over $f(x,t) \\in \\RR^+, m(x,t) \\in \\RR^2 $\n", 
            "$$ \\umin{ (m,f) \\in \\Cc } J(f) =\n", 
            "      \\int_{[0,1]^2} \\int_0^1 \\frac{\\norm{m(x,t)}^2}{f(x,t)} d t d x, $$\n", 
            "where the set of constraints reads\n", 
            "$$ \\Cc = \\enscond{(m,f)}{ \\text{div}(m)+\\partial_t f = 0,\n", 
            "      \\quad f(\\cdot,0)=f_0, \\quad f(\\cdot,1)=f_1  }. $$\n", 
            "\n", 
            "\n", 
            "Note that this convex program is very challenging because:\n", 
            "1/ The functional $J$ tends to zero when $f(x,t)$ tends to\n", 
            "infinity at some points, so that it is not coercive, which makes the\n", 
            "proof of existence of minimizers non-trivial.\n", 
            "2/ The functional $J(m,f)$ tends to infinity when $f(x,t)$ tends to\n", 
            "zero at some points which makes the use of gradient descent methods impossible\n", 
            "(its gradient is not Lipschitz).\n", 
            "\n", 
            "\n", 
            "We propose to use a proximal method scheme (Douglas-Rachford algorithm)\n", 
            "that can handle this kind of problem. It is equivalent to the algorithm\n", 
            "initially proposed by Benamou and Brenier.\n", 
            "\n", 
            ""
          ]
        }, 
        {
          "cell_type": "heading", 
          "level": 2, 
          "metadata": {}, 
          "source": [
            "Discrete Variational Problem\n"
          ]
        }, 
        {
          "cell_type": "markdown", 
          "metadata": {}, 
          "source": [
            "Densities is discretized on a spacial rectangular grid of size $N = n \\times\n", 
            "n$. The time domain $[0,1]$ is discretized with $p$ points.\n", 
            ""
          ]
        }, 
        {
          "cell_type": "code", 
          "collapsed": false, 
          "input": [
            "n = 20\n", 
            "p = 60"
          ], 
          "language": "python", 
          "outputs": []
        }, 
        {
          "cell_type": "markdown", 
          "metadata": {}, 
          "source": [
            "\n", 
            "\n", 
            "Shortcut to generate Gaussian function.\n", 
            ""
          ]
        }, 
        {
          "cell_type": "code", 
          "collapsed": false, 
          "input": [
            "[Y,X] = meshgrid(linspace(0,1,n), linspace(0,1,n))\n", 
            "gaussian = lambda a,b,sigma: exp( -((X-a).^2+(Y-b).^2)/(2*sigma^2) )\n", 
            "normalize = lambda u: u/sum(u(:))"
          ], 
          "language": "python", 
          "outputs": []
        }, 
        {
          "cell_type": "markdown", 
          "metadata": {}, 
          "source": [
            "\n", 
            "\n", 
            "Load two discretized densities $f_0,f_1$.\n", 
            ""
          ]
        }, 
        {
          "cell_type": "code", 
          "collapsed": false, 
          "input": [
            "sigma = .1\n", 
            "rho = .05; % minimum density value\n", 
            "f0 = normalize( rho + gaussian(.2,.3,sigma) )\n", 
            "f1 = normalize( rho + gaussian(.6,.7,sigma*.7) + .6*gaussian(.7,.4,sigma*.7) )"
          ], 
          "language": "python", 
          "outputs": []
        }, 
        {
          "cell_type": "markdown", 
          "metadata": {}, 
          "source": [
            "\n", 
            "\n", 
            "Display $f_0,f_1$.\n", 
            ""
          ]
        }, 
        {
          "cell_type": "code", 
          "collapsed": false, 
          "input": [
            "\n", 
            "imageplot({f0 f1})"
          ], 
          "language": "python", 
          "outputs": []
        }, 
        {
          "cell_type": "markdown", 
          "metadata": {}, 
          "source": [
            "\n", 
            "\n", 
            "Boundary conditions, either periodic or Neumann.\n", 
            ""
          ]
        }, 
        {
          "cell_type": "code", 
          "collapsed": false, 
          "input": [
            "bound = 'per'\n", 
            "bound = 'neum'"
          ], 
          "language": "python", 
          "outputs": []
        }, 
        {
          "cell_type": "markdown", 
          "metadata": {}, 
          "source": [
            "\n", 
            "\n", 
            "We use first order finite differences with periodic boundary condition to\n", 
            "approximate the spacial derivatives.\n", 
            ""
          ]
        }, 
        {
          "cell_type": "code", 
          "collapsed": false, 
          "input": [
            "if strcmp(bound, 'per')\n", 
            "    dx = lambda u: u([2:end 1],:,:)-u\n", 
            "    dy = lambda u: u(:,[2:end 1],:)-u\n", 
            "else\n", 
            "    dx = lambda u: u([2:end end],:,:)-u\n", 
            "    dy = lambda u: u(:,[2:end end],:)-u\n", 
            ""
          ], 
          "language": "python", 
          "outputs": []
        }, 
        {
          "cell_type": "markdown", 
          "metadata": {}, 
          "source": [
            "\n", 
            "\n", 
            "The adjoint operators are backward derivatives.\n", 
            ""
          ]
        }, 
        {
          "cell_type": "code", 
          "collapsed": false, 
          "input": [
            "if strcmp(bound, 'per')\n", 
            "    dxS = lambda u: -u+u([end 1:end-1],:,:)\n", 
            "    dyS = lambda u: -u+u(:,[end 1:end-1],:)\n", 
            "else\n", 
            "    dxS = lambda u: [-u(1,:,:); u(1:end-2,:,:)-u(2:end-1,:,:); u(end-1,:,:)]\n", 
            "    dyS = lambda u: [-u(:,1,:), u(:,1:end-2,:)-u(:,2:end-1,:), u(:,end-1,:)]\n", 
            ""
          ], 
          "language": "python", 
          "outputs": []
        }, 
        {
          "cell_type": "markdown", 
          "metadata": {}, 
          "source": [
            "\n", 
            "\n", 
            "Check that |dxS| and |dyS| really implement $d/dx^*$ and $d/dy^*$.\n", 
            ""
          ]
        }, 
        {
          "cell_type": "code", 
          "collapsed": false, 
          "input": [
            "fprintf('Should be 0: %.2e\\n', certify_adjoint(dx,dxS,[n n p]))\n", 
            "fprintf('Should be 0: %.2e\\n', certify_adjoint(dy,dyS,[n n p]))"
          ], 
          "language": "python", 
          "outputs": []
        }, 
        {
          "cell_type": "markdown", 
          "metadata": {}, 
          "source": [
            "\n", 
            "\n", 
            "Define spacial gradient and divergence, satisfying $\\text{div}=-\\nabla^*$.\n", 
            ""
          ]
        }, 
        {
          "cell_type": "code", 
          "collapsed": false, 
          "input": [
            "grad = lambda f: cat(4, dx(f), dy(f))\n", 
            "div  = lambda u: -dxS(u(:,:,:,1)) - dyS(u(:,:,:,2))"
          ], 
          "language": "python", 
          "outputs": []
        }, 
        {
          "cell_type": "markdown", 
          "metadata": {}, 
          "source": [
            "\n", 
            "\n", 
            "Check that |div| really implements div.\n", 
            ""
          ]
        }, 
        {
          "cell_type": "code", 
          "collapsed": false, 
          "input": [
            "fprintf('Should be 0: %.2e\\n', certify_adjoint(grad,lambda v: -div(v),[n n p]))"
          ], 
          "language": "python", 
          "outputs": []
        }, 
        {
          "cell_type": "markdown", 
          "metadata": {}, 
          "source": [
            "\n", 
            "\n", 
            "We use first order finite differences for the time derivatives.\n", 
            "Note that zero is padded at the end to keep the same dimensionality.\n", 
            ""
          ]
        }, 
        {
          "cell_type": "code", 
          "collapsed": false, 
          "input": [
            "dt  = lambda f: cat(3, f(:,:,2:end)-f(:,:,1:end-1), zeros(size(f,1),size(f,2)) )\n", 
            "dtS = lambda u: cat(3, -u(:,:,1), u(:,:,1:end-2)-u(:,:,2:end-1), u(:,:,end-1))"
          ], 
          "language": "python", 
          "outputs": []
        }, 
        {
          "cell_type": "markdown", 
          "metadata": {}, 
          "source": [
            "\n", 
            "\n", 
            "In the following, we group the dicrete variables as $w=(m,f) \\in \\RR^{N\n", 
            "\\times P \\times 2} \\times \\RR^{N \\times P}$, which is stored in a matrix\n", 
            "|w| of size |(n,n,p,3)|, so that $m$ is stored in |w(:,:,:,1:2)|\n", 
            "and $f$ is stored in |w(:,:,:,3)|.\n", 
            "\n", 
            "\n", 
            "We thus introduce the following convex functional for $w=(m,f)$\n", 
            "$$ J(w) =  \\sum_{x,t} \\frac{\\norm{m(x,t)}^2}{f(x,t)}. $$\n", 
            "where $(x,t)$ runs over the discrete 3-D grid.\n", 
            "\n", 
            "\n", 
            "The affine set of constraints reads\n", 
            "$$ \\Cc = \\enscond{w}{A w = r_0}\n", 
            "      \\qwhereq A w = (\\text{div}(m) + \\partial_t f, f(\\cdot,0), f(\\cdot,1) ) \\in \\RR^{N \\times (P+2) }  $$\n", 
            "and where the right hand size reads $r_0 = (0,f_0,f_1)$.\n", 
            ""
          ]
        }, 
        {
          "cell_type": "code", 
          "collapsed": false, 
          "input": [
            "A = lambda w: cat( 3, div(w(:,:,:,1:2))+dt(w(:,:,:,3)), w(:,:,1,3), w(:,:,end,3) )"
          ], 
          "language": "python", 
          "outputs": []
        }, 
        {
          "cell_type": "markdown", 
          "metadata": {}, 
          "source": [
            "\n", 
            "\n", 
            "Its adoint reads, for all $r=(s, r_0,r_1)$ where $s \\in \\RR^{N \\times\n", 
            "P}$ and $r_0,r_1 \\in \\RR^N$:\n", 
            "$$ A^* r = ( -\\nabla s, \\partial_t^* s + U(r_0,r_1) ) $$\n", 
            "where $U(r_0,r_1)$ is the zero-padding operator that puts zeros for\n", 
            "intermediate times between $t=0$ and $t=1$.\n", 
            ""
          ]
        }, 
        {
          "cell_type": "code", 
          "collapsed": false, 
          "input": [
            "U = lambda r0,r1: cat(3, r0, zeros(n,n,p-2), r1)\n", 
            "AS = lambda s: cat(4, -grad(s(:,:,1:p)), dtS(s(:,:,1:p)) + U(s(:,:,end-1),s(:,:,end)) )"
          ], 
          "language": "python", 
          "outputs": []
        }, 
        {
          "cell_type": "markdown", 
          "metadata": {}, 
          "source": [
            "\n", 
            "\n", 
            "Check that |AS| really implements $A^*$.\n", 
            ""
          ]
        }, 
        {
          "cell_type": "code", 
          "collapsed": false, 
          "input": [
            "fprintf('Should be 0: %.2e\\n', certify_adjoint(A,AS,[n n p 3]))"
          ], 
          "language": "python", 
          "outputs": []
        }, 
        {
          "cell_type": "markdown", 
          "metadata": {}, 
          "source": [
            "\n", 
            "\n", 
            "Define the right hand side $r_0$.\n", 
            ""
          ]
        }, 
        {
          "cell_type": "code", 
          "collapsed": false, 
          "input": [
            "r0 = cat(3, zeros(n,n,p), f0, f1)"
          ], 
          "language": "python", 
          "outputs": []
        }, 
        {
          "cell_type": "heading", 
          "level": 2, 
          "metadata": {}, 
          "source": [
            "Proximal Operator of the \\(J\\) Functional\n"
          ]
        }, 
        {
          "cell_type": "markdown", 
          "metadata": {}, 
          "source": [
            "Given a convex functional $J(w)$, its proximal operator is defined as\n", 
            "$$ \\text{Prox}_{\\la J}(w) = \\uargmin{q} \\frac{1}{2} \\norm{w-q}^2 + \\la J(w). $$\n", 
            "Being abble to compute this proximate mapping is crucial to be able to\n", 
            "use various proximal-splitting convex optimization methods.\n", 
            "\n", 
            "\n", 
            "The discrete functional to be minimized in the Brenier-Benamou problem reads\n", 
            "$$ J(w) = \\sum_{x,t} j(m(x,t),f(x,t)) $$\n", 
            "where we introduced the following convex function\n", 
            "$$ \\forall (m,f) \\in \\RR^2 \\times \\RR^+, \\quad j(m,f) ) = \\frac{\\norm{m}^2}{f}. $$\n", 
            "\n", 
            "\n", 
            "Define the $J$ functional.\n", 
            ""
          ]
        }, 
        {
          "cell_type": "code", 
          "collapsed": false, 
          "input": [
            "J = lambda w: sum3(  sum(w(:,:,:,1:2).^2,4) ./ w(:,:,:,3)   )"
          ], 
          "language": "python", 
          "outputs": []
        }, 
        {
          "cell_type": "markdown", 
          "metadata": {}, 
          "source": [
            "\n", 
            "\n", 
            "The proximal operator of $J$ can thus be computed by applying the\n", 
            "proximal operator of $j$ to each component, i.e.\n", 
            "$$ \\text{Prox}_{\\la J}(w)(x,t) = \\text{Prox}_{\\la j}(w(x,t)). $$\n", 
            "\n", 
            "\n", 
            "The proximal operator of $j$\n", 
            "$$ (m,f) = \\text{Prox}_{\\la j}(m_0,f_0) $$\n", 
            "is obtained by solving the following couple of equations (corresponding\n", 
            "to the annulation of the derivative of the optimization problem defining\n", 
            "the proximal map)\n", 
            "$$\n", 
            "      2 \\la \\frac{m}{f} + m-m_0=0 \\qandq -\\la \\frac{\\norm{m}^2}{f^2} +\n", 
            "      f-f_0 = 0.\n", 
            "$$\n", 
            "Its solution is obtained by solving a cubic-equation\n", 
            "$$\n", 
            "      m = \\frac{m_0}{1+2\\la/f} \\qandq\n", 
            "      P(f) = f^3 + (4\\lambda - f_0)f^2 + (4\\lambda^2-4\\lambda f_0)f -\n", 
            "      (\\lambda \\norm{m_0}^2 + 4\\lambda^2 f_0) = 0.\n", 
            "$$\n", 
            "(only the largest real solution of this equation should be considered).\n", 
            "\n", 
            "\n", 
            "Build the coefficients of the polynomial $P(f)$.\n", 
            ""
          ]
        }, 
        {
          "cell_type": "code", 
          "collapsed": false, 
          "input": [
            "PolyCoef = lambda m0,f0,lambda: [ones(length(f0),1), 4*lambda-f0, 4*lambda^2-4*f0, -lambda*sum(m0.^2,2) - 4*lambda^2*f0]"
          ], 
          "language": "python", 
          "outputs": []
        }, 
        {
          "cell_type": "markdown", 
          "metadata": {}, 
          "source": [
            "\n", 
            "\n", 
            "Helper to compute the leading (largest) real root of a cubic polynomial.\n", 
            ""
          ]
        }, 
        {
          "cell_type": "code", 
          "collapsed": false, 
          "input": [
            "extract = lambda A: A(:,1)\n", 
            "CubicReal = lambda P: real( extract(poly_root(P')') )"
          ], 
          "language": "python", 
          "outputs": []
        }, 
        {
          "cell_type": "markdown", 
          "metadata": {}, 
          "source": [
            "\n", 
            "\n", 
            "Define the proximal operator of $j$. Note that it can operate in\n", 
            "parallel over arrays |m| of size $k \\times 2$ and |f| of size $k \\times 1$\n", 
            ""
          ]
        }, 
        {
          "cell_type": "code", 
          "collapsed": false, 
          "input": [
            "Proxj0 = lambda m0,f, lambda: cat(2, m0 ./ repmat( 1+2*lambda./f, [1 2]), f )\n", 
            "Proxj  = lambda m0,f0,lambda: Proxj0( m0, CubicReal(PolyCoef(m0,f0,lambda)), lambda )"
          ], 
          "language": "python", 
          "outputs": []
        }, 
        {
          "cell_type": "markdown", 
          "metadata": {}, 
          "source": [
            "\n", 
            "\n", 
            "Define the proximal operator of $J$ using the proximal operator of\n", 
            "$j$.\n", 
            ""
          ]
        }, 
        {
          "cell_type": "code", 
          "collapsed": false, 
          "input": [
            "ProxJ = lambda w,lambda: reshape( Proxj( ...\n", 
            "                   reshape(w(:,:,:,1:2), [n*n*p 2]), ...\n", 
            "                   reshape(w(:,:,:,3  ), [n*n*p 1]), lambda ), [n n p 3] )"
          ], 
          "language": "python", 
          "outputs": []
        }, 
        {
          "cell_type": "heading", 
          "level": 2, 
          "metadata": {}, 
          "source": [
            "Orthogonal Projection on the Constraints\n"
          ]
        }, 
        {
          "cell_type": "markdown", 
          "metadata": {}, 
          "source": [
            "The proximal operator of the indicator function $G=\\iota_\\Cc$ of $\\Cc$ is the\n", 
            "projector, and does not depend on $\\la$.\n", 
            "$$ \\text{Prox}_{\\gamma \\iota_\\Cc}(x)_i =\n", 
            "      \\text{Proj}_\\Cc(w) = w + A^* (A A^*)^{-1} (r-Aw). $$\n", 
            "\n", 
            "\n", 
            "Tolerance and number of iterations for the conjugate gradient.\n", 
            ""
          ]
        }, 
        {
          "cell_type": "code", 
          "collapsed": false, 
          "input": [
            "opts.epsilon = 1e-9\n", 
            "opts.niter_max = 200"
          ], 
          "language": "python", 
          "outputs": []
        }, 
        {
          "cell_type": "markdown", 
          "metadata": {}, 
          "source": [
            "\n", 
            "\n", 
            "Adapt conjugate gradient fucntion to handle variables that are not\n", 
            "vectors.\n", 
            ""
          ]
        }, 
        {
          "cell_type": "code", 
          "collapsed": false, 
          "input": [
            "flat = lambda x: x(:)\n", 
            "resh = lambda x: reshape(x, [n n p+2])\n", 
            "mycg = lambda B,y: resh( perform_cg(lambda r: flat(B(resh(r))),y(:),opts) )"
          ], 
          "language": "python", 
          "outputs": []
        }, 
        {
          "cell_type": "markdown", 
          "metadata": {}, 
          "source": [
            "\n", 
            "\n", 
            "The operator $(A A^*)^{-1}$ can be computed using conjugate gradient.\n", 
            ""
          ]
        }, 
        {
          "cell_type": "code", 
          "collapsed": false, 
          "input": [
            "pA = lambda r: mycg(lambda s: A(AS(s)),r)"
          ], 
          "language": "python", 
          "outputs": []
        }, 
        {
          "cell_type": "markdown", 
          "metadata": {}, 
          "source": [
            "\n", 
            "\n", 
            "Define the projection operator $\\text{Prox}_{\\la G}$.\n", 
            ""
          ]
        }, 
        {
          "cell_type": "code", 
          "collapsed": false, 
          "input": [
            "ProxG = lambda w,lambda: w + AS( pA(r0-A(w)) )"
          ], 
          "language": "python", 
          "outputs": []
        }, 
        {
          "cell_type": "markdown", 
          "metadata": {}, 
          "source": [
            "\n", 
            "\n", 
            "Check that $\\text{Prox}_{\\la G}$ implements the projection on the\n", 
            "constraint $Aw=y$.\n", 
            ""
          ]
        }, 
        {
          "cell_type": "code", 
          "collapsed": false, 
          "input": [
            "w = randn(n,n,p,3)\n", 
            "err = lambda w: mynorm(A(w)-r0)/mynorm(r0)\n", 
            "fprintf('Error before projection: %.2e\\n', err(w))\n", 
            "fprintf('Error before projection: %.2e\\n', err(ProxG(w)))"
          ], 
          "language": "python", 
          "outputs": []
        }, 
        {
          "cell_type": "heading", 
          "level": 2, 
          "metadata": {}, 
          "source": [
            "Douglas-Rachford Solver\n"
          ]
        }, 
        {
          "cell_type": "markdown", 
          "metadata": {}, 
          "source": [
            "The discrete optimal transport problem can be written as\n", 
            "$$ \\umin{w} J(w) + G(w) \\qwhereq G=\\iota_{\\Cc}.  $$\n", 
            "\n", 
            "\n", 
            "The Douglas-Rachford (DR) algorithm is an iterative scheme to minimize\n", 
            "functionals of the form $J+G$\n", 
            "where $J$ and $G$ are convex functions for which one is able to\n", 
            "comptue the proximal operators.\n", 
            "\n", 
            "\n", 
            "A DR iteration reads\n", 
            "$$ \\tilde w_{k+1} = \\pa{1-\\frac{\\mu}{2}} \\tilde w_k +\n", 
            "  \\frac{\\mu}{2} \\text{rPox}_{\\gamma J}( \\text{rProx}_{\\gamma G}(\\tilde w_k)  )\n", 
            "  \\qandq w_{k+1} = \\text{Prox}_{\\gamma G}(\\tilde w_{k+1}). $$\n", 
            "\n", 
            "\n", 
            "We have use the following shortcuts:\n", 
            "$$   \\text{rProx}_{\\gamma G}(w) = 2\\text{Prox}_{\\gamma F}(w)-w $$\n", 
            "\n", 
            "\n", 
            "One can show that for any value of $\\gamma>0$, any $ 0 < \\mu < 2 $,\n", 
            "and any $\\tilde w_0$, $w_k \\rightarrow w^\\star$\n", 
            "which is a minimizer of the minimization of $J+G$.\n", 
            "\n", 
            "\n", 
            "To learn more about this algorithm, you can read:\n", 
            "\n", 
            "\n", 
            "_Proximal Splitting Methods in Signal Processing_, Patrick L. Combettes\n", 
            "and Jean-Christophe Pesquet, in: Fixed-Point Algorithms for Inverse\n", 
            "Problems in Science and Engineering, New York: Springer-Verlag, 2010.\n", 
            "\n", 
            "\n", 
            "\n", 
            "Set the value of $\\mu$ and $\\gamma$.\n", 
            "You might consider using your own values to speed up the convergence.\n", 
            ""
          ]
        }, 
        {
          "cell_type": "code", 
          "collapsed": false, 
          "input": [
            "mu = 1\n", 
            "gamma = 1"
          ], 
          "language": "python", 
          "outputs": []
        }, 
        {
          "cell_type": "markdown", 
          "metadata": {}, 
          "source": [
            "\n", 
            "\n", 
            "Define the rProx operators.\n", 
            ""
          ]
        }, 
        {
          "cell_type": "code", 
          "collapsed": false, 
          "input": [
            "rProxJ = lambda w,tau: 2*ProxJ(w,tau)-w\n", 
            "rProxG = lambda w,tau: 2*ProxG(w,tau)-w"
          ], 
          "language": "python", 
          "outputs": []
        }, 
        {
          "cell_type": "markdown", 
          "metadata": {}, 
          "source": [
            "\n", 
            "\n", 
            "Number of iterations.\n", 
            ""
          ]
        }, 
        {
          "cell_type": "code", 
          "collapsed": false, 
          "input": [
            "niter = 2000"
          ], 
          "language": "python", 
          "outputs": []
        }, 
        {
          "cell_type": "markdown", 
          "metadata": {}, 
          "source": [
            "\n", 
            "\n", 
            "Initialization using linear interpolation of the densities.\n", 
            ""
          ]
        }, 
        {
          "cell_type": "code", 
          "collapsed": false, 
          "input": [
            "t = repmat( reshape(linspace(0,1,p), [1 1 p]), [n n 1])\n", 
            "f = (1-t) .* repmat(f0, [1 1 p]) + t .* repmat(f1, [1 1 p])\n", 
            "m = zeros(n,n,p,2)\n", 
            "w0 = cat(4, m,f)"
          ], 
          "language": "python", 
          "outputs": []
        }, 
        {
          "cell_type": "markdown", 
          "metadata": {}, 
          "source": [
            "\n", 
            "\n", 
            "Display the initialization.\n", 
            ""
          ]
        }, 
        {
          "cell_type": "code", 
          "collapsed": false, 
          "input": [
            "sel = round(linspace(1,p,6))\n", 
            "\n", 
            "imageplot( mat2cell(w0(:,:,sel,3), n, n, ones(6,1)) , '', 2,3)"
          ], 
          "language": "python", 
          "outputs": []
        }, 
        {
          "cell_type": "markdown", 
          "metadata": {}, 
          "source": [
            "\n", 
            ""
          ]
        }, 
        {
          "cell_type": "code", 
          "collapsed": false, 
          "input": [
            "w = ProxG(w0,gamma)\n", 
            "mynorm(A(w0)-r0)/mynorm(r0)\n", 
            "mynorm(A(w)-r0)/mynorm(r0)\n"
          ], 
          "language": "python", 
          "outputs": []
        }, 
        {
          "cell_type": "markdown", 
          "metadata": {}, 
          "source": [
            "\n", 
            ""
          ]
        }, 
        {
          "cell_type": "heading", 
          "level": 3, 
          "metadata": {}, 
          "source": [
            "Exercise 1"
          ]
        }, 
        {
          "cell_type": "markdown", 
          "metadata": {}, 
          "source": [
            "\n", 
            "Implement the DR iterative algorithm on |niter| iterations.\n", 
            "Keep track of the evolution of the energy $J$.\n", 
            "\n", 
            "\n", 
            "\n", 
            "\n", 
            "\n", 
            "\n", 
            "\n", 
            "\n", 
            "\n", 
            "\n", 
            "\n", 
            "\n", 
            "\n", 
            "\n", 
            "\n", 
            "\n", 
            ""
          ]
        }, 
        {
          "cell_type": "code", 
          "collapsed": false, 
          "input": [
            "## Insert your code here."
          ], 
          "language": "python", 
          "outputs": []
        }, 
        {
          "cell_type": "markdown", 
          "metadata": {}, 
          "source": [
            "\n", 
            "\n", 
            "\n", 
            "Display the resulting density $f(x,t)$ for $t$ from 0 to 1.\n", 
            ""
          ]
        }, 
        {
          "cell_type": "code", 
          "collapsed": false, 
          "input": [
            "sel = round(linspace(1,p,6))\n", 
            "\n", 
            "imageplot( mat2cell(w(:,:,sel,3), n, n, ones(6,1)) , '', 2,3)"
          ], 
          "language": "python", 
          "outputs": []
        }
      ]
    }
  ]
}