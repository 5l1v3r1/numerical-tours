{
  "metadata": {
    "name": ""
  }, 
  "nbformat": 3, 
  "nbformat_minor": 0, 
  "worksheets": [
    {
      "cells": [
        {
          "cell_type": "heading", 
          "level": 1, 
          "metadata": {}, 
          "source": [
            "Dijkstra and Fast Marching Algorithms"
          ]
        }, 
        {
          "cell_type": "markdown", 
          "metadata": {}, 
          "source": [
            "This numerical tours details the implementations\n", 
            "of Dijkstra and Fast Marching algorithms in 2-D.\n", 
            "\n", 
            "\n", 
            "The implementation are performed in Matlab, and are hence quite slow.\n", 
            ""
          ]
        }, 
        {
          "cell_type": "markdown", 
          "metadata": {}, 
          "source": [
            "*Important:* You need to download the file `nt_toolbox.py` from the \n", 
            "root of the github repository.\n", 
            "$\\newcommand{\\dotp}[2]{\\langle #1, #2 \\rangle}\n", 
            "\\newcommand{\\enscond}[2]{\\lbrace #1, #2 \\rbrace}\n", 
            "\\newcommand{\\pd}[2]{ \\frac{ \\partial #1}{\\partial #2} }\n", 
            "\\newcommand{\\umin}[1]{\\underset{#1}{\\min}\\;}\n", 
            "\\newcommand{\\norm}[1]{\\|#1\\|}\n", 
            "\\newcommand{\\abs}[1]{\\left|#1\\right|}\n", 
            "\\newcommand{\\choice}[1]{ \\left\\{  \\begin{array}{l} #1 \\end{array} \\right. }\n", 
            "\\newcommand{\\pa}[1]{\\left(#1\\right)}\n", 
            "\\newcommand{\\qandq}{\\quad\\text{and}\\quad}\n", 
            "\\newcommand{\\qwhereq}{\\quad\\text{where}\\quad}\n", 
            "\\newcommand{\\qifq}{ \\quad \\text{if} \\quad }\n", 
            "\\newcommand{\\qarrq}{ \\quad \\Longrightarrow \\quad }\n", 
            "\\newcommand{\\ZZ}{\\mathbb{Z}}\n", 
            "\\newcommand{\\RR}{\\mathbb{R}}\n", 
            "\\newcommand{\\Nn}{\\mathcal{N}}\n", 
            "\\newcommand{\\Hh}{\\mathcal{H}}\n", 
            "\\newcommand{\\Bb}{\\mathcal{B}}\n", 
            "\\newcommand{\\EE}{\\mathbb{E}}\n", 
            "\\newcommand{\\CC}{\\mathbb{C}}\n", 
            "\\newcommand{\\si}{\\sigma}\n", 
            "\\newcommand{\\al}{\\alpha}\n", 
            "\\newcommand{\\la}{\\lambda}\n", 
            "\\newcommand{\\ga}{\\gamma}\n", 
            "\\newcommand{\\Ga}{\\Gamma}\n", 
            "\\newcommand{\\La}{\\Lambda}\n", 
            "\\newcommand{\\si}{\\sigma}\n", 
            "\\newcommand{\\Si}{\\Sigma}\n", 
            "\\newcommand{\\be}{\\beta}\n", 
            "\\newcommand{\\de}{\\delta}\n", 
            "\\newcommand{\\De}{\\Delta}\n", 
            "\\renewcommand{\\phi}{\\varphi}\n", 
            "\\renewcommand{\\th}{\\theta}\n", 
            "\\newcommand{\\om}{\\omega}\n", 
            "\\newcommand{\\Om}{\\Omega}\n", 
            "$"
          ]
        }, 
        {
          "cell_type": "code", 
          "collapsed": false, 
          "input": [
            "from nt_toolbox import *", 
            "%matplotlib inline", 
            "%load_ext autoreload", 
            "%autoreload 2"
          ], 
          "language": "python", 
          "outputs": []
        }, 
        {
          "cell_type": "heading", 
          "level": 2, 
          "metadata": {}, 
          "source": [
            "Navigating on the Grid\n"
          ]
        }, 
        {
          "cell_type": "markdown", 
          "metadata": {}, 
          "source": [
            "We use a cartesian grid of size $n \\times n$, and defines operators to navigate in the grid.\n", 
            "\n", 
            "\n", 
            "We use a singe index $i \\in \\{1,\\ldots,n^2\\}$ to index a position on\n", 
            "the 2-D grid.\n", 
            "\n", 
            "\n", 
            "Size of the grid.\n", 
            ""
          ]
        }, 
        {
          "cell_type": "code", 
          "collapsed": false, 
          "input": [
            "n = 40"
          ], 
          "language": "python", 
          "outputs": []
        }, 
        {
          "cell_type": "markdown", 
          "metadata": {}, 
          "source": [
            "\n", 
            "\n", 
            "The four displacement vector to go to the four neightbors.\n", 
            ""
          ]
        }, 
        {
          "cell_type": "code", 
          "collapsed": false, 
          "input": [
            "neigh = [[1;0] [-1;0] [0;1] [0;-1]]"
          ], 
          "language": "python", 
          "outputs": []
        }, 
        {
          "cell_type": "markdown", 
          "metadata": {}, 
          "source": [
            "\n", 
            "\n", 
            "For simplicity of implementation, we use periodic boundary conditions.\n", 
            ""
          ]
        }, 
        {
          "cell_type": "code", 
          "collapsed": false, 
          "input": [
            "boundary = lambda x: mod(x-1,n)+1"
          ], 
          "language": "python", 
          "outputs": []
        }, 
        {
          "cell_type": "markdown", 
          "metadata": {}, 
          "source": [
            "\n", 
            "\n", 
            "For a given grid index |k|, and a given neighboring index k in ${1,2,3,4}$,\n", 
            "|Neigh(k,i)| gives the corresponding grid neighboring index.\n", 
            ""
          ]
        }, 
        {
          "cell_type": "code", 
          "collapsed": false, 
          "input": [
            "ind2sub1 = lambda k: [rem(k-1, n)+1; (k - rem(k-1, n) - 1)/n + 1]\n", 
            "sub2ind1 = lambda u: (u(2)-1)*n+u(1)\n", 
            "Neigh = lambda k,i: sub2ind1( boundary(ind2sub1(k)+neigh(:,i)) )"
          ], 
          "language": "python", 
          "outputs": []
        }, 
        {
          "cell_type": "heading", 
          "level": 2, 
          "metadata": {}, 
          "source": [
            "Dikstra Algorithm\n"
          ]
        }, 
        {
          "cell_type": "markdown", 
          "metadata": {}, 
          "source": [
            "The Dijkstra algorithm compute the geodesic distance on a graph.\n", 
            "We use here a graph whose nodes are the pixels, and whose edges defines the\n", 
            "usual 4-connectity relationship.\n", 
            "\n", 
            "\n", 
            "In the following, we use the notation $i \\sim j$ to indicate that an\n", 
            "index $j$ is a neighbor of $i$ on the graph defined by the discrete\n", 
            "grid.\n", 
            "\n", 
            "\n", 
            "The metric $W(x)$. We use here a constant metric.\n", 
            ""
          ]
        }, 
        {
          "cell_type": "code", 
          "collapsed": false, 
          "input": [
            "W = ones(n)"
          ], 
          "language": "python", 
          "outputs": []
        }, 
        {
          "cell_type": "markdown", 
          "metadata": {}, 
          "source": [
            "\n", 
            "\n", 
            "Set $\\Ss = \\{x_0\\}$ of initial points.\n", 
            ""
          ]
        }, 
        {
          "cell_type": "code", 
          "collapsed": false, 
          "input": [
            "x0 = [n/2;n/2]"
          ], 
          "language": "python", 
          "outputs": []
        }, 
        {
          "cell_type": "markdown", 
          "metadata": {}, 
          "source": [
            "\n", 
            "\n", 
            "Initialize the stack of available indexes.\n", 
            ""
          ]
        }, 
        {
          "cell_type": "code", 
          "collapsed": false, 
          "input": [
            "I = sub2ind1(x0)"
          ], 
          "language": "python", 
          "outputs": []
        }, 
        {
          "cell_type": "markdown", 
          "metadata": {}, 
          "source": [
            "\n", 
            "\n", 
            "Initialize the distance to $+\\infty$, excepted for the boundary conditions.\n", 
            ""
          ]
        }, 
        {
          "cell_type": "code", 
          "collapsed": false, 
          "input": [
            "D = zeros(n)+Inf\n", 
            "D(I) = 0"
          ], 
          "language": "python", 
          "outputs": []
        }, 
        {
          "cell_type": "markdown", 
          "metadata": {}, 
          "source": [
            "\n", 
            "\n", 
            "Initialize the state to 0 (unexplored), excepted for the boundary point $\\Ss$ (indexed by |I|)\n", 
            "to $1$ (front).\n", 
            ""
          ]
        }, 
        {
          "cell_type": "code", 
          "collapsed": false, 
          "input": [
            "S = zeros(n)\n", 
            "S(I) = 1"
          ], 
          "language": "python", 
          "outputs": []
        }, 
        {
          "cell_type": "markdown", 
          "metadata": {}, 
          "source": [
            "\n", 
            "\n", 
            "The first step of each iteration of the method is\n", 
            "to pop the from stack the element $i$ with smallest current distance $D_i$.\n", 
            ""
          ]
        }, 
        {
          "cell_type": "code", 
          "collapsed": false, 
          "input": [
            "[tmp,j] = sort(D(I)); j = j(1)\n", 
            "i = I(j); I(j) = []"
          ], 
          "language": "python", 
          "outputs": []
        }, 
        {
          "cell_type": "markdown", 
          "metadata": {}, 
          "source": [
            "\n", 
            "\n", 
            "We update its state $S$ to be dead (-1).\n", 
            ""
          ]
        }, 
        {
          "cell_type": "code", 
          "collapsed": false, 
          "input": [
            "S(i) = -1"
          ], 
          "language": "python", 
          "outputs": []
        }, 
        {
          "cell_type": "markdown", 
          "metadata": {}, 
          "source": [
            "\n", 
            "\n", 
            "Retrieve the list of the four neighbors.\n", 
            ""
          ]
        }, 
        {
          "cell_type": "code", 
          "collapsed": false, 
          "input": [
            "J = [Neigh(i,1); Neigh(i,2); Neigh(i,3); Neigh(i,4)]"
          ], 
          "language": "python", 
          "outputs": []
        }, 
        {
          "cell_type": "markdown", 
          "metadata": {}, 
          "source": [
            "\n", 
            "\n", 
            "Remove those that are dead (no need to consider them anymore).\n", 
            ""
          ]
        }, 
        {
          "cell_type": "code", 
          "collapsed": false, 
          "input": [
            "J(S(J)==-1) = []"
          ], 
          "language": "python", 
          "outputs": []
        }, 
        {
          "cell_type": "markdown", 
          "metadata": {}, 
          "source": [
            "\n", 
            "\n", 
            "Add those that are not yet considered (state 0) to the front stack $I$ (state 1).\n", 
            ""
          ]
        }, 
        {
          "cell_type": "code", 
          "collapsed": false, 
          "input": [
            "J1 = J(S(J)==0)\n", 
            "I = [I; J1]\n", 
            "S(J1) = 1"
          ], 
          "language": "python", 
          "outputs": []
        }, 
        {
          "cell_type": "markdown", 
          "metadata": {}, 
          "source": [
            "\n", 
            "\n", 
            "Update neighbor values.\n", 
            "For each neightbo $j$ of $i$, perform the update,\n", 
            "assuming the length of the edge between $j$ and $k$ is $W_j$.\n", 
            "$$ D_j \\leftarrow \\umin{k \\sim j} D_k + W_j. $$\n", 
            ""
          ]
        }, 
        {
          "cell_type": "code", 
          "collapsed": false, 
          "input": [
            "for j in J':\n", 
            "    dx = min( D([Neigh(j,1) Neigh(j,2)]) )\n", 
            "    dy = min( D([Neigh(j,3) Neigh(j,4)]) )\n", 
            "    D(j) = min(dx+W(j), dy+W(j))\n", 
            ""
          ], 
          "language": "python", 
          "outputs": []
        }, 
        {
          "cell_type": "heading", 
          "level": 3, 
          "metadata": {}, 
          "source": [
            "Exercise 1"
          ]
        }, 
        {
          "cell_type": "markdown", 
          "metadata": {}, 
          "source": [
            "\n", 
            "Implement the Dijkstra algorithm by iterating these step while the\n", 
            "stack |I| is non empty.\n", 
            "Display from time to time the front that propagates.\n", 
            "\n", 
            "\n", 
            "\n", 
            "\n", 
            "\n", 
            "\n", 
            "\n", 
            "\n", 
            "\n", 
            ""
          ]
        }, 
        {
          "cell_type": "code", 
          "collapsed": false, 
          "input": [
            "## Insert your code here."
          ], 
          "language": "python", 
          "outputs": []
        }, 
        {
          "cell_type": "markdown", 
          "metadata": {}, 
          "source": [
            "\n", 
            "\n", 
            "\n", 
            "Display the geodesic distance map using a cosine modulation to make the\n", 
            "level set appears more clearly.\n", 
            ""
          ]
        }, 
        {
          "cell_type": "code", 
          "collapsed": false, 
          "input": [
            "displ = lambda D: cos(2*pi*5*D/max(D(:)))\n", 
            "\n", 
            "imageplot(displ(D))\n", 
            "colormap jet(256)"
          ], 
          "language": "python", 
          "outputs": []
        }, 
        {
          "cell_type": "markdown", 
          "metadata": {}, 
          "source": [
            "\n", 
            ""
          ]
        }, 
        {
          "cell_type": "heading", 
          "level": 2, 
          "metadata": {}, 
          "source": [
            "Fast Marching\n"
          ]
        }, 
        {
          "cell_type": "markdown", 
          "metadata": {}, 
          "source": [
            "The Dijstra algorithm suffers from a strong metrization problem, and it\n", 
            "actually computes the $\\ell^1$ distance on the grid.\n", 
            "\n", 
            "\n", 
            "The Fast Marching algorithm replace the graph update by a local\n", 
            "resolution of the Eikonal equation. This reduces significantly the grid\n", 
            "bias, and can be shown to converge to the underlying geodesic distance\n", 
            "when the grid step size tends to zero.\n", 
            "\n", 
            "\n", 
            "Over a continuous domain, the distance map $D(x)$ to a set of seed\n", 
            "points $ \\Ss $ is the unique solution in the viscosity sense\n", 
            "$$ \\forall x \\notin \\Ss, \\quad \\norm{\\nabla D(x)} = W(x)\n", 
            "      \\qandq\n", 
            "    \\forall y \\in \\Ss, \\quad D(y) = 0. $$\n", 
            "\n", 
            "\n", 
            "The equation is then discretized on a grid of $n \\times n$ pixel, and a\n", 
            "solution $ (D_{k,\\ell})_{k,\\ell=1}^n \\in \\RR^{n \\times n} $ is found by using\n", 
            "an upwind finite difference approximation, that is faithful to the\n", 
            "viscosity solution\n", 
            "$$ \\forall (k,\\ell) \\notin \\tilde \\Ss,  \\quad\n", 
            "     \\norm{ (\\nabla D)_{k,\\ell} } = W_{k,\\ell}\n", 
            "  \\qandq\n", 
            "  \\forall (k,\\ell) \\notin \\tilde \\Ss, \\quad D_{k,\\ell}=0,\n", 
            "$$\n", 
            "where $\\tilde \\Ss$ is the set of discrete starting points (defined here\n", 
            "by |x0|).\n", 
            "\n", 
            "\n", 
            "To be consisten with the viscosity solution, one needs to use a\n", 
            "non-linear upwind gradient derivative. This corresponds to computing\n", 
            "the norm of the gradient as\n", 
            "$$ \\norm{(\\nabla D)_{k,\\ell} }^2 =\n", 
            "      \\max( D_{k+1,\\ell}-D_{k,\\ell}, D_{k-1,\\ell}-D_{k,\\ell}, 0 )^2 +\n", 
            "      \\max( D_{k,\\ell+1}-D_{k,\\ell}, D_{k,\\ell-1}-D_{k,\\ell}, 0 )^2.\n", 
            "$$\n", 
            "\n", 
            "\n", 
            "A each step of the FM propagation, one update $ D_{k,\\ell} \\leftarrow d $\n", 
            "by solving the eikonal equation with respect to $D_{k,\\ell}$ alone.\n", 
            "This is equivalent to solving the quadratic equation\n", 
            "$$ (d-d_x)^2 + (d-d_y)^2 = w^2 \\qwhereq w=W_{k,\\ell}. $$\n", 
            "and where\n", 
            "$$ d_x = \\min(D_{k+1,\\ell},D_{k-1,\\ell}) \\qandq\n", 
            "   d_y = \\min(D_{k,\\ell+1},D_{k,\\ell-1}). $$\n", 
            "\n", 
            "\n", 
            "The update is thus defined as\n", 
            "$$\n", 
            "      d = \\choice{\n", 
            "          \\frac{d_x+d_y+ \\sqrt{\\De}}{2} \\quad\\text{when}\\quad \\De \\geq 0, \\\\\n", 
            "          \\min(d_x,d_y)+w \\quad \\text{otherwise.}\n", 
            "      }\n", 
            "      \\qwhereq\n", 
            "      \\De = 2 w^2 - (d_x-d_y)^2.\n", 
            "$$\n", 
            "\n", 
            "\n", 
            "Note that in the case where $\\De<0$, one has to use the Dijkstra\n", 
            "update.\n", 
            "\n", 
            "\n", 
            "Once the Dijstra algorithm is implemented, the implementation of the Fast\n", 
            "Marching is trivial. It just corresponds to replacing the graph udpate\n", 
            ""
          ]
        }, 
        {
          "cell_type": "code", 
          "collapsed": false, 
          "input": [
            "D(j) = min(dx+W(j), dy+W(j))"
          ], 
          "language": "python", 
          "outputs": []
        }, 
        {
          "cell_type": "markdown", 
          "metadata": {}, 
          "source": [
            "\n", 
            "\n", 
            "by the eikonal update.\n", 
            ""
          ]
        }, 
        {
          "cell_type": "code", 
          "collapsed": false, 
          "input": [
            "Delta = 2*W(j) - (dx-dy)^2\n", 
            "if Delta>=0\n", 
            "    D(j) = (dx+dy+sqrt(Delta))/2\n", 
            "else\n", 
            "    D(j) = min(dx+W(j), dy+W(j))\n", 
            ""
          ], 
          "language": "python", 
          "outputs": []
        }, 
        {
          "cell_type": "heading", 
          "level": 3, 
          "metadata": {}, 
          "source": [
            "Exercise 2"
          ]
        }, 
        {
          "cell_type": "markdown", 
          "metadata": {}, 
          "source": [
            "\n", 
            "Implement the Fast Marching algorithm.\n", 
            "Display from time to time the front that propagates.\n", 
            "\n", 
            "\n", 
            "\n", 
            "\n", 
            "\n", 
            "\n", 
            "\n", 
            "\n", 
            "\n", 
            ""
          ]
        }, 
        {
          "cell_type": "code", 
          "collapsed": false, 
          "input": [
            "## Insert your code here."
          ], 
          "language": "python", 
          "outputs": []
        }, 
        {
          "cell_type": "markdown", 
          "metadata": {}, 
          "source": [
            "\n", 
            "\n", 
            "\n", 
            "Display the geodesic distance map using a cosine modulation to make the\n", 
            "level set appears more clearly.\n", 
            ""
          ]
        }, 
        {
          "cell_type": "code", 
          "collapsed": false, 
          "input": [
            "\n", 
            "imageplot(displ(D))\n", 
            "colormap jet(256)"
          ], 
          "language": "python", 
          "outputs": []
        }, 
        {
          "cell_type": "heading", 
          "level": 2, 
          "metadata": {}, 
          "source": [
            "Computation of Geodesic Paths\n"
          ]
        }, 
        {
          "cell_type": "markdown", 
          "metadata": {}, 
          "source": [
            "We use a more complicated, non-constant metric, with a bump in the\n", 
            "middle.\n", 
            ""
          ]
        }, 
        {
          "cell_type": "code", 
          "collapsed": false, 
          "input": [
            "n = 100\n", 
            "x = linspace(-1,1,n)\n", 
            "[Y,X] = meshgrid(x,x)\n", 
            "sigma = .2\n", 
            "W = 1 + 8 * exp(-(X.^2+Y.^2)/(2*sigma^2))"
          ], 
          "language": "python", 
          "outputs": []
        }, 
        {
          "cell_type": "markdown", 
          "metadata": {}, 
          "source": [
            "\n", 
            "\n", 
            "Display it.\n", 
            ""
          ]
        }, 
        {
          "cell_type": "code", 
          "collapsed": false, 
          "input": [
            "\n", 
            "imageplot(W)"
          ], 
          "language": "python", 
          "outputs": []
        }, 
        {
          "cell_type": "markdown", 
          "metadata": {}, 
          "source": [
            "\n", 
            "\n", 
            "Starting points.\n", 
            ""
          ]
        }, 
        {
          "cell_type": "code", 
          "collapsed": false, 
          "input": [
            "x0 = round([.1;.1]*n); %  [.8;.8]]*n)"
          ], 
          "language": "python", 
          "outputs": []
        }, 
        {
          "cell_type": "heading", 
          "level": 3, 
          "metadata": {}, 
          "source": [
            "Exercise 3"
          ]
        }, 
        {
          "cell_type": "markdown", 
          "metadata": {}, 
          "source": [
            "\n", 
            "Compute the distance map to these starting point using the FM algorithm.\n", 
            "\n", 
            "\n", 
            "\n", 
            "\n", 
            "\n", 
            "\n", 
            ""
          ]
        }, 
        {
          "cell_type": "code", 
          "collapsed": false, 
          "input": [
            "## Insert your code here."
          ], 
          "language": "python", 
          "outputs": []
        }, 
        {
          "cell_type": "markdown", 
          "metadata": {}, 
          "source": [
            "\n", 
            "\n", 
            "\n", 
            "Once the geodesic distance map to $\\Ss$\n", 
            "has been computed, the geodesic curve between any point $x_1$ and $\\Ss$\n", 
            "extracted through gradient descent\n", 
            "$$ \\ga'(t) = - \\eta_t \\nabla D(\\ga(t)) \\qandq \\ga(0)=x_1 $$\n", 
            "where $\\eta_t>0$ controls the parameterization speed of the resulting\n", 
            "curve.\n", 
            "\n", 
            "\n", 
            "To obtain unit speed parameterization, one can use $\\eta_t =\n", 
            "\\norm{\\nabla D(\\ga(t))}^{-1}$ (one need to be careful when\n", 
            "$\\ga$ approaches $\\Ss$ since $D$ is not smooth on $\\Ss$).\n", 
            "\n", 
            "\n", 
            "Compute the gradient $G_0(x) = \\nabla D(x) \\in \\RR^2$ of the distance map.\n", 
            "Use centered differences.\n", 
            ""
          ]
        }, 
        {
          "cell_type": "code", 
          "collapsed": false, 
          "input": [
            "options.order = 2\n", 
            "G0 = grad(D, options)"
          ], 
          "language": "python", 
          "outputs": []
        }, 
        {
          "cell_type": "markdown", 
          "metadata": {}, 
          "source": [
            "\n", 
            "\n", 
            "Normalize the gradient to obtained $G(x) = G_0(x)/\\norm{G_0(x)}$, in order to have unit speed geodesic curve (parameterized\n", 
            "by arc length).\n", 
            ""
          ]
        }, 
        {
          "cell_type": "code", 
          "collapsed": false, 
          "input": [
            "G = G0 ./ repmat( sqrt( sum(G0.^2, 3) ), [1 1 2])"
          ], 
          "language": "python", 
          "outputs": []
        }, 
        {
          "cell_type": "markdown", 
          "metadata": {}, 
          "source": [
            "\n", 
            "\n", 
            "The geodesic is then numerically computed using a discretized gradient\n", 
            "descent, which defines a discret curve $ (\\ga_k)_k $ using\n", 
            "$$ \\ga_{k+1} = \\ga_k - \\tau G(\\ga_k) $$\n", 
            "where $\\ga_k \\in \\RR^2$ is an approximation of $\\ga(t)$ at time\n", 
            "$t=k\\tau$, and the step size $\\tau>0$ should be small enough.\n", 
            "\n", 
            "\n", 
            "Step size $\\tau$ for the gradient descent.\n", 
            ""
          ]
        }, 
        {
          "cell_type": "code", 
          "collapsed": false, 
          "input": [
            "tau = .8"
          ], 
          "language": "python", 
          "outputs": []
        }, 
        {
          "cell_type": "markdown", 
          "metadata": {}, 
          "source": [
            "\n", 
            "\n", 
            "Initialize the path with the ending point.\n", 
            ""
          ]
        }, 
        {
          "cell_type": "code", 
          "collapsed": false, 
          "input": [
            "x1 = round([.9;.88]*n)\n", 
            "gamma = x1"
          ], 
          "language": "python", 
          "outputs": []
        }, 
        {
          "cell_type": "markdown", 
          "metadata": {}, 
          "source": [
            "\n", 
            "\n", 
            "Define a shortcut to interpolate $G$ at a 2-D points.\n", 
            "_Warning:_ the |interp2| switches the role of the axis ...\n", 
            ""
          ]
        }, 
        {
          "cell_type": "code", 
          "collapsed": false, 
          "input": [
            "Geval = lambda G,x: [interp2(1:n,1:n,G(:,:,1),x(2),x(1)); ...\n", 
            "             interp2(1:n,1:n,G(:,:,2),x(2),x(1)) ]"
          ], 
          "language": "python", 
          "outputs": []
        }, 
        {
          "cell_type": "markdown", 
          "metadata": {}, 
          "source": [
            "\n", 
            "\n", 
            "Compute the gradient at the last point in the path, using interpolation.\n", 
            ""
          ]
        }, 
        {
          "cell_type": "code", 
          "collapsed": false, 
          "input": [
            "g = Geval(G, gamma(:,end))"
          ], 
          "language": "python", 
          "outputs": []
        }, 
        {
          "cell_type": "markdown", 
          "metadata": {}, 
          "source": [
            "\n", 
            "\n", 
            "Perform the descent and add the new point to the path.\n", 
            ""
          ]
        }, 
        {
          "cell_type": "code", 
          "collapsed": false, 
          "input": [
            "gamma(:,end+1) = gamma(:,end) - tau*g"
          ], 
          "language": "python", 
          "outputs": []
        }, 
        {
          "cell_type": "heading", 
          "level": 3, 
          "metadata": {}, 
          "source": [
            "Exercise 4"
          ]
        }, 
        {
          "cell_type": "markdown", 
          "metadata": {}, 
          "source": [
            "\n", 
            "Perform the full geodesic path extraction by iterating the gradient\n", 
            "descent. You must be very careful when the path become close to\n", 
            "$x_0$, because the distance function is not differentiable at this\n", 
            "point. You must stop the iteration when the path is close to $x_0$.\n", 
            "\n", 
            "\n", 
            "\n", 
            "\n", 
            "\n", 
            "\n", 
            "\n", 
            ""
          ]
        }, 
        {
          "cell_type": "code", 
          "collapsed": false, 
          "input": [
            "## Insert your code here."
          ], 
          "language": "python", 
          "outputs": []
        }, 
        {
          "cell_type": "markdown", 
          "metadata": {}, 
          "source": [
            "\n", 
            "\n", 
            "\n", 
            "Display the geodesic curve.\n", 
            ""
          ]
        }
      ]
    }
  ]
}