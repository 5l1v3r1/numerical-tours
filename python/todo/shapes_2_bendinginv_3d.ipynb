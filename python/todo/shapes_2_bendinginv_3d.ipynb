{
  "metadata": {
    "name": ""
  }, 
  "nbformat": 3, 
  "nbformat_minor": 0, 
  "worksheets": [
    {
      "cells": [
        {
          "cell_type": "heading", 
          "level": 1, 
          "metadata": {}, 
          "source": [
            "Geodesic Bending Invariants for Surfaces"
          ]
        }, 
        {
          "cell_type": "markdown", 
          "metadata": {}, 
          "source": [
            "This tour explores the computation of bending invariants of surfaces."
          ]
        }, 
        {
          "cell_type": "markdown", 
          "metadata": {}, 
          "source": [
            "*Important:* You need to download the file `nt_toolbox.py` from the ", 
            "root of the github repository.", 
            "$\\newcommand{\\dotp}[2]{\\langle #1, #2 \\rangle}", 
            "\\newcommand{\\enscond}[2]{\\lbrace #1, #2 \\rbrace}", 
            "\\newcommand{\\pd}[2]{ \\frac{ \\partial #1}{\\partial #2} }", 
            "\\newcommand{\\umin}[1]{\\underset{#1}{\\min}\\;}", 
            "\\newcommand{\\umax}[1]{\\underset{#1}{\\max}\\;}", 
            "\\newcommand{\\umin}[1]{\\underset{#1}{\\min}\\;}", 
            "\\newcommand{\\uargmin}[1]{\\underset{#1}{argmin}\\;}", 
            "\\newcommand{\\norm}[1]{\\|#1\\|}", 
            "\\newcommand{\\abs}[1]{\\left|#1\\right|}", 
            "\\newcommand{\\choice}[1]{ \\left\\{  \\begin{array}{l} #1 \\end{array} \\right. }", 
            "\\newcommand{\\pa}[1]{\\left(#1\\right)}", 
            "\\newcommand{\\diag}[1]{{diag}\\left( #1 \\right)}", 
            "\\newcommand{\\qandq}{\\quad\\text{and}\\quad}", 
            "\\newcommand{\\qwhereq}{\\quad\\text{where}\\quad}", 
            "\\newcommand{\\qifq}{ \\quad \\text{if} \\quad }", 
            "\\newcommand{\\qarrq}{ \\quad \\Longrightarrow \\quad }", 
            "\\newcommand{\\ZZ}{\\mathbb{Z}}", 
            "\\newcommand{\\CC}{\\mathbb{C}}", 
            "\\newcommand{\\RR}{\\mathbb{R}}", 
            "\\newcommand{\\EE}{\\mathbb{E}}", 
            "\\newcommand{\\Zz}{\\mathcal{Z}}", 
            "\\newcommand{\\Ww}{\\mathcal{W}}", 
            "\\newcommand{\\Vv}{\\mathcal{V}}", 
            "\\newcommand{\\Nn}{\\mathcal{N}}", 
            "\\newcommand{\\NN}{\\mathcal{N}}", 
            "\\newcommand{\\Hh}{\\mathcal{H}}", 
            "\\newcommand{\\Bb}{\\mathcal{B}}", 
            "\\newcommand{\\Ee}{\\mathcal{E}}", 
            "\\newcommand{\\Cc}{\\mathcal{C}}", 
            "\\newcommand{\\Gg}{\\mathcal{G}}", 
            "\\newcommand{\\Ss}{\\mathcal{S}}", 
            "\\newcommand{\\Pp}{\\mathcal{P}}", 
            "\\newcommand{\\Ff}{\\mathcal{F}}", 
            "\\newcommand{\\Xx}{\\mathcal{X}}", 
            "\\newcommand{\\Mm}{\\mathcal{M}}", 
            "\\newcommand{\\Ii}{\\mathcal{I}}", 
            "\\newcommand{\\Dd}{\\mathcal{D}}", 
            "\\newcommand{\\Ll}{\\mathcal{L}}", 
            "\\newcommand{\\Tt}{\\mathcal{T}}", 
            "\\newcommand{\\si}{\\sigma}", 
            "\\newcommand{\\al}{\\alpha}", 
            "\\newcommand{\\la}{\\lambda}", 
            "\\newcommand{\\ga}{\\gamma}", 
            "\\newcommand{\\Ga}{\\Gamma}", 
            "\\newcommand{\\La}{\\Lambda}", 
            "\\newcommand{\\si}{\\sigma}", 
            "\\newcommand{\\Si}{\\Sigma}", 
            "\\newcommand{\\be}{\\beta}", 
            "\\newcommand{\\de}{\\delta}", 
            "\\newcommand{\\De}{\\Delta}", 
            "\\renewcommand{\\phi}{\\varphi}", 
            "\\renewcommand{\\th}{\\theta}", 
            "\\newcommand{\\om}{\\omega}", 
            "\\newcommand{\\Om}{\\Omega}", 
            "$"
          ]
        }, 
        {
          "cell_type": "code", 
          "collapsed": false, 
          "input": [
            "from __future__ import division", 
            "from nt_toolbox import *", 
            "%matplotlib inline", 
            "%load_ext autoreload", 
            "%autoreload 2"
          ], 
          "language": "python", 
          "outputs": []
        }, 
        {
          "cell_type": "markdown", 
          "metadata": {}, 
          "source": [
            "CMT"
          ]
        }, 
        {
          "cell_type": "code", 
          "collapsed": false, 
          "input": [
            "rep = 'results/ fastmarching_bendinginv_3d/ '", 
            "if not(exist(rep))", 
            "    mkdir(rep)"
          ], 
          "language": "python", 
          "outputs": []
        }, 
        {
          "cell_type": "markdown", 
          "metadata": {}, 
          "source": [
            "CMT"
          ]
        }, 
        {
          "cell_type": "heading", 
          "level": 2, 
          "metadata": {}, 
          "source": [
            "Bending Invariants"
          ]
        }, 
        {
          "cell_type": "markdown", 
          "metadata": {}, 
          "source": [
            "Bending invariants replace the position of the vertices in a shape $\\Ss$ (2-D or 3-D)", 
            "by new positions that are insensitive to isometric deformation of the shape.", 
            "This defines a bending invariant signature that can be used for surface", 
            "matching.", 
            "", 
            "", 
            "Bending invariant were introduced in <#biblio [EladKim03]>.", 
            "A related method was developped for brain flattening in <#biblio [SchwShWolf89]>.", 
            "This method is related to the Isomap algorithm for manifold learning", 
            "<#biblio [TenSolvLang03]>.", 
            "", 
            "", 
            "We assume that $Ss$ has some Riemannian metric, for instance coming", 
            "from the embedding of a surface in 3-D Euclidian space, or by restriction of", 
            "the Euclian 2-D space to a 2-D sub-domain (planar shape). One thus can", 
            "compute the geodesic distance $d(x,x')$ between points $x,x' \\in", 
            "\\Ss$.", 
            "", 
            "", 
            "The bending invariant $\\tilde \\Ss$ of $\\Ss$ is defined as the set of", 
            "points $Y = (y_i)_j \\subset \\RR^d$ that are optimized so that the Euclidean", 
            "distance between points in $Y$ matches as closely the geodesic distance", 
            "between points in $X$, i.e.", 
            "$$ \\forall i, j, \\quad \\norm{y_i-y_j} \\approx d(x_i,x_j) $$", 
            "", 
            "", 
            "Multi-dimensional scaling (MDS) is a class of method that aims at", 
            "computing such a set of points $Y \\in \\RR^{d \\times N}$ in $\\RR^d$", 
            "such that", 
            "$$ \\forall i, j, \\quad \\norm{y_i-y_j} \\approx \\de_{i,j} $$", 
            "where $\\de \\in \\RR^{N \\times N}$ is a input data matrix.", 
            "For a detailed overview of MDS, we refer to the book <#biblio [BorgGroe97]>", 
            "", 
            "", 
            "In this tour, we apply two specific MDS algorithms (strain and stress", 
            "minimization) with input $\\de_{i,j} = d(x_i,x_j)$."
          ]
        }, 
        {
          "cell_type": "heading", 
          "level": 2, 
          "metadata": {}, 
          "source": [
            "3-D Surfaces and Geodesic Distances"
          ]
        }, 
        {
          "cell_type": "markdown", 
          "metadata": {}, 
          "source": [
            "We consider here a syrface $\\Ss \\subset \\RR^3$.", 
            "", 
            "", 
            "Load a mesh of $N$ vertices that discretizes this surfaces."
          ]
        }, 
        {
          "cell_type": "code", 
          "collapsed": false, 
          "input": [
            "name = 'camel'", 
            "options.name = name", 
            "[V, F] = read_mesh(name)", 
            "N = size(V, 2)"
          ], 
          "language": "python", 
          "outputs": []
        }, 
        {
          "cell_type": "markdown", 
          "metadata": {}, 
          "source": [
            "Display it."
          ]
        }, 
        {
          "cell_type": "code", 
          "collapsed": false, 
          "input": [
            "plot_mesh(V, F, options)"
          ], 
          "language": "python", 
          "outputs": []
        }, 
        {
          "cell_type": "markdown", 
          "metadata": {}, 
          "source": [
            "CMT"
          ]
        }, 
        {
          "cell_type": "code", 
          "collapsed": false, 
          "input": [
            "saveas(gcf, [rep name '-original.png'], 'png')"
          ], 
          "language": "python", 
          "outputs": []
        }, 
        {
          "cell_type": "markdown", 
          "metadata": {}, 
          "source": [
            "CMT", 
            "", 
            "", 
            "The geodesic distance map $U(x) = d(x,x_i)$ to a starting point $x_i$", 
            "can be computed in $O(N \\log(N))$ operations on a mesh of $N$", 
            "vertices using the Fast Marching algorithm."
          ]
        }, 
        {
          "cell_type": "code", 
          "collapsed": false, 
          "input": [
            "i = 1", 
            "U = perform_fast_marching_mesh(V, F, i)"
          ], 
          "language": "python", 
          "outputs": []
        }, 
        {
          "cell_type": "markdown", 
          "metadata": {}, 
          "source": [
            "Extract a bunch of geodesic shortest paths from $x_i$", 
            "to randomly selected vertices $ (x_j)_{j \\in J} $."
          ]
        }, 
        {
          "cell_type": "code", 
          "collapsed": false, 
          "input": [
            "options.method = 'continuous'", 
            "J = randperm(N); J = J(1: 50)", 
            "paths = compute_geodesic_mesh(U, V, F, J, options)"
          ], 
          "language": "python", 
          "outputs": []
        }, 
        {
          "cell_type": "markdown", 
          "metadata": {}, 
          "source": [
            "Display the distance $U$ on the 3-D mesh", 
            "together with the geodesic paths."
          ]
        }, 
        {
          "cell_type": "code", 
          "collapsed": false, 
          "input": [
            "plot_fast_marching_mesh(V, F, U, paths, options)"
          ], 
          "language": "python", 
          "outputs": []
        }, 
        {
          "cell_type": "markdown", 
          "metadata": {}, 
          "source": [
            "The geodesic distance matrix $\\de \\in \\RR^{N \\times N}$ is defined as", 
            "$$ \\forall i,j=1,\\ldots,N, \\quad", 
            "      \\de_{i,j} = d(x_i,x_j). $$"
          ]
        }, 
        {
          "cell_type": "heading", 
          "level": 3, 
          "metadata": {}, 
          "source": [
            "Exercise 1"
          ]
        }, 
        {
          "cell_type": "markdown", 
          "metadata": {}, 
          "source": [
            "Compute the geodesic distance matrix $\\de$.", 
            "It is going to take some of time.", 
            "", 
            "", 
            "  progressbar(i,N);"
          ]
        }, 
        {
          "cell_type": "code", 
          "collapsed": false, 
          "input": [
            "## Insert your code here."
          ], 
          "language": "python", 
          "outputs": []
        }, 
        {
          "cell_type": "heading", 
          "level": 2, 
          "metadata": {}, 
          "source": [
            "Bending Invariant with Strain Minimization"
          ]
        }, 
        {
          "cell_type": "markdown", 
          "metadata": {}, 
          "source": [
            "The goal is to compute a set of points $Y = (y_i)_{i=1}^N$ in", 
            "$\\RR^d$, (here we use $d=2$) stored in a matrix $Y \\in \\RR^{d \\times N}$", 
            "such that", 
            "$$ \\forall i, j, \\quad D^2(Y)_{i,j} \\approx \\de_{i,j}^2", 
            "  \\qwhereq  D^2(Y)_{i,j} = \\norm{y_i-y_j}^2. $$", 
            "", 
            "", 
            "Target dimensionality $d$."
          ]
        }, 
        {
          "cell_type": "code", 
          "collapsed": false, 
          "input": [
            "d = 3"
          ], 
          "language": "python", 
          "outputs": []
        }, 
        {
          "cell_type": "markdown", 
          "metadata": {}, 
          "source": [
            "This can be achieved by minimzing a $L^2$ loss", 
            "$$ \\umin{Y} \\norm{ D^2(Y)-\\de^2 }^2 =", 
            "      \\sum_{i<j} \\abs{ \\norm{y_i-y_j}^2 - \\de_{i,j}^2 }^2. $$", 
            "", 
            "", 
            "Strain minimization consider instead the following weighted $L^2$ loss", 
            "(so-called strain)", 
            "$$ \\umin{Y \\in \\RR^{d \\times N} } \\text{Strain}(Y)", 
            "      = \\norm{ J ( D^2(Y)-\\de^2 ) J }^2", 
            "$$", 
            "where $J$ is the so-called centering matrix", 
            "$$ J_{i,j} =", 
            "      \\choice{", 
            "          1-1/N \\qifq i=j, \\\\", 
            "          -1/N \\qifq i \\neq j.", 
            " }$$"
          ]
        }, 
        {
          "cell_type": "code", 
          "collapsed": false, 
          "input": [
            "J = eye(N) - ones(N)/ N"
          ], 
          "language": "python", 
          "outputs": []
        }, 
        {
          "cell_type": "markdown", 
          "metadata": {}, 
          "source": [
            "Using the properties of squared-distance matrices $D^2(Y)$, one can", 
            "show that", 
            "$$ \\norm{ J ( D^2(Y)-\\de^2 ) J }^2 =", 
            "  \\norm{ Y Y^* - K }^2", 
            "  \\qwhereq K = - \\frac{1}{2} J \\de^2 J. $$"
          ]
        }, 
        {
          "cell_type": "code", 
          "collapsed": false, 
          "input": [
            "K = -1/ 2 * J*(delta.^2)*J"
          ], 
          "language": "python", 
          "outputs": []
        }, 
        {
          "cell_type": "markdown", 
          "metadata": {}, 
          "source": [
            "The solution to this (non-convex) optimization problem can be computed", 
            "exactly as the rows of $Y$ being the two leading eigenvectors of $K$", 
            "propery rescaled."
          ]
        }, 
        {
          "cell_type": "code", 
          "collapsed": false, 
          "input": [
            "opt.disp = 0", 
            "[Y, v] = eigs(K, d, 'LR', opt)", 
            "Y = Y .* repmat(sqrt(diag(v))', [N 1])", 
            "Y = Y'"
          ], 
          "language": "python", 
          "outputs": []
        }, 
        {
          "cell_type": "markdown", 
          "metadata": {}, 
          "source": [
            "Display the bending invariant surface."
          ]
        }, 
        {
          "cell_type": "code", 
          "collapsed": false, 
          "input": [
            "plot_mesh(Y, F, options)"
          ], 
          "language": "python", 
          "outputs": []
        }, 
        {
          "cell_type": "markdown", 
          "metadata": {}, 
          "source": [
            "CMT"
          ]
        }, 
        {
          "cell_type": "code", 
          "collapsed": false, 
          "input": [
            "saveas(gcf, [rep name '-bendinv-strain.png'], 'png')"
          ], 
          "language": "python", 
          "outputs": []
        }, 
        {
          "cell_type": "markdown", 
          "metadata": {}, 
          "source": [
            "CMT"
          ]
        }, 
        {
          "cell_type": "heading", 
          "level": 2, 
          "metadata": {}, 
          "source": [
            "Bending Invariant with Stress Minimization"
          ]
        }, 
        {
          "cell_type": "markdown", 
          "metadata": {}, 
          "source": [
            "The stress functional does not have geometrical meaning.", 
            "An alternative MDS method directly minimizes a geometric loss, the", 
            "so-called Stress", 
            "$$ \\umin{Y \\in \\RR^{d \\times N} } \\text{Stress}(Y) =", 
            "      \\norm{ D(Y)-\\de }^2 =", 
            "      \\sum_{i<j} \\abs{ \\norm{y_i-y_j} - \\de_{i,j} }^2.", 
            " $$", 
            "It is possible to find a local minimizer of this energy by various", 
            "descent algorithms, as initially proposed by <#biblio [Kruskal64]>"
          ]
        }, 
        {
          "cell_type": "code", 
          "collapsed": false, 
          "input": [
            "Stress = lambda d: sqrt(sum(abs(delta(: )-d(: )).^2) / N^2)"
          ], 
          "language": "python", 
          "outputs": []
        }, 
        {
          "cell_type": "markdown", 
          "metadata": {}, 
          "source": [
            "Operator to compute the distance matrix $D(Y)$."
          ]
        }, 
        {
          "cell_type": "code", 
          "collapsed": false, 
          "input": [
            "D = lambda Y: sqrt(repmat(sum(Y.^2), N, 1) + repmat(sum(Y.^2), N, 1)' - 2*Y'*Y)"
          ], 
          "language": "python", 
          "outputs": []
        }, 
        {
          "cell_type": "markdown", 
          "metadata": {}, 
          "source": [
            "The SMACOF (Scaling by majorizing a convex function) algorithm", 
            "solves at each iterations a quadratic energy, that is guaranteed to", 
            "diminish the value of the Strain. It was introduced by <#biblio [Leeuw77]>", 
            "", 
            "", 
            "It computes iterates $X^{(\\ell)}$ as", 
            "$$ X^{(\\ell+1)} = \\frac{1}{N} X^{(\\ell)} B(D(X^{(\\ell)}))^*,  $$", 
            "where", 
            "$$ B(D) = \\choice{", 
            "         -\\frac{\\de_{i,j}}{D_{i,j}} \\qifq i \\neq j, \\\\", 
            "         -\\sum_{k} B(D)_{i,k} \\qifq i = j.", 
            "} $$", 
            "", 
            "", 
            "Initialize the positions for the algorithm."
          ]
        }, 
        {
          "cell_type": "code", 
          "collapsed": false, 
          "input": [
            "Y = V"
          ], 
          "language": "python", 
          "outputs": []
        }, 
        {
          "cell_type": "markdown", 
          "metadata": {}, 
          "source": [
            "Operator $B$."
          ]
        }, 
        {
          "cell_type": "code", 
          "collapsed": false, 
          "input": [
            "remove_diag = lambda b: b - diag(sum(b))", 
            "B = lambda D1: remove_diag(-delta./ max(D1, 1e-10))"
          ], 
          "language": "python", 
          "outputs": []
        }, 
        {
          "cell_type": "markdown", 
          "metadata": {}, 
          "source": [
            "Update the positions."
          ]
        }, 
        {
          "cell_type": "code", 
          "collapsed": false, 
          "input": [
            "Y = Y * B(D(Y))' / N"
          ], 
          "language": "python", 
          "outputs": []
        }, 
        {
          "cell_type": "heading", 
          "level": 3, 
          "metadata": {}, 
          "source": [
            "Exercise 2"
          ]
        }, 
        {
          "cell_type": "markdown", 
          "metadata": {}, 
          "source": [
            "Perform the SMACOF iterative algorithm.", 
            "Save in a variable |s(l)| the values of", 
            "Stress$( X^{(\\ell)} )$."
          ]
        }, 
        {
          "cell_type": "code", 
          "collapsed": false, 
          "input": [
            "## Insert your code here."
          ], 
          "language": "python", 
          "outputs": []
        }, 
        {
          "cell_type": "markdown", 
          "metadata": {}, 
          "source": [
            "Plot stress evolution during minimization."
          ]
        }, 
        {
          "cell_type": "code", 
          "collapsed": false, 
          "input": [
            "plot(s, '.-', 'LineWidth', 2, 'MarkerSize', 20)", 
            "axis('tight')"
          ], 
          "language": "python", 
          "outputs": []
        }, 
        {
          "cell_type": "markdown", 
          "metadata": {}, 
          "source": [
            "Plot the optimized invariant shape."
          ]
        }, 
        {
          "cell_type": "code", 
          "collapsed": false, 
          "input": [
            "plot_mesh(Y, F, options)"
          ], 
          "language": "python", 
          "outputs": []
        }, 
        {
          "cell_type": "heading", 
          "level": 2, 
          "metadata": {}, 
          "source": [
            "Surface Retrieval with Bending Invariant."
          ]
        }, 
        {
          "cell_type": "markdown", 
          "metadata": {}, 
          "source": [
            "One can compute a bending invariant signature for each mesh in a library", 
            "of 3D surface.", 
            "", 
            "", 
            "Isometry-invariant retrival is then perform by matching the invariant", 
            "signature."
          ]
        }, 
        {
          "cell_type": "heading", 
          "level": 3, 
          "metadata": {}, 
          "source": [
            "Exercise 3"
          ]
        }, 
        {
          "cell_type": "markdown", 
          "metadata": {}, 
          "source": [
            "Implement a surface retrival algorithm based on these bending invariants.", 
            "No correction for this exercise."
          ]
        }, 
        {
          "cell_type": "code", 
          "collapsed": false, 
          "input": [
            "## Insert your code here."
          ], 
          "language": "python", 
          "outputs": []
        }, 
        {
          "cell_type": "heading", 
          "level": 2, 
          "metadata": {}, 
          "source": [
            "Bibliography"
          ]
        }, 
        {
          "cell_type": "markdown", 
          "metadata": {}, 
          "source": [
            "<html><a name=\"biblio\"></a></html>", 
            "", 
            "", 
            "* [EladKim03]A. Elad and R. Kimmel, <http://dx.doi.org/10.1109/TPAMI.2003.1233902 _On bending invariant signatures for surfaces_>, IEEE Transactions onPattern Analysis and Machine Intelligence, Vol. 25(10), p. 1285-1295, 2003.", 
            "* [SchwShWolf89] E.L. Schwartz and A. Shaw and E. Wolfson, <http://dx.doi.org/10.1109/34.35506 _A Numerical Solution to the Generalized Mapmaker's Problem: Flattening Nonconvex Polyhedral Surfaces_>, IEEE Transactions on Pattern Analysis and Machine Intelligence, 11(9), p. 1005-1008, 1989.", 
            "* [TenSolvLang03] J. B. Tenenbaum, V. de Silva and J. C. Langford, <http://dx.doi.org/10.1126/science.290.5500.2319 _A Global Geometric Framework for Nonlinear Dimensionality Reduction_>, Science 290 (5500): 2319-2323, 22 December 2000", 
            "* [Kruskal64] J. B. Kruskal, <http://dx.doi.org/10.1007/BF02289565 _Multidimensional scaling by optimizing goodness of fit to a nonmetric hypothesis_>, Psychometrika 29 (1): 1?27, 1964.", 
            "* [Leeuw77] J. de Leeuw, <http://statistics.ucla.edu/preprints/uclastat-preprint-2005:35 _Applications of convex analysis to multidimensional scaling_>, in Recent developments in statistics, pp. 133?145, 1977", 
            "* [BorgGroe97] I. Borg and P. Groenen, <http://www.springeronline.com/0-387-25150-2 _Modern Multidimensional Scaling: theory and applications_>, New York: Springer-Verlag, 1997."
          ]
        }
      ]
    }
  ]
}