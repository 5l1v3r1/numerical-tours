{
  "metadata": {
    "name": ""
  }, 
  "nbformat": 3, 
  "nbformat_minor": 0, 
  "worksheets": [
    {
      "cells": [
        {
          "cell_type": "heading", 
          "level": 1, 
          "metadata": {}, 
          "source": [
            "Geodesic Bending Invariants for Surfaces"
          ]
        }, 
        {
          "cell_type": "markdown", 
          "metadata": {}, 
          "source": [
            "This tour explores the computation of bending invariants of surfaces.\n", 
            ""
          ]
        }, 
        {
          "cell_type": "markdown", 
          "metadata": {}, 
          "source": [
            "*Important:* You need to download the file `nt_toolbox.py` from the \n", 
            "root of the github repository.\n", 
            "$\\newcommand{\\dotp}[2]{\\langle #1, #2 \\rangle}\n", 
            "\\newcommand{\\enscond}[2]{\\lbrace #1, #2 \\rbrace}\n", 
            "\\newcommand{\\pd}[2]{ \\frac{ \\partial #1}{\\partial #2} }\n", 
            "\\newcommand{\\umin}[1]{\\underset{#1}{\\min}\\;}\n", 
            "\\newcommand{\\norm}[1]{\\|#1\\|}\n", 
            "\\newcommand{\\abs}[1]{\\left|#1\\right|}\n", 
            "\\newcommand{\\choice}[1]{ \\left\\{  \\begin{array}{l} #1 \\end{array} \\right. }\n", 
            "\\newcommand{\\pa}[1]{\\left(#1\\right)}\n", 
            "\\newcommand{\\qandq}{\\quad\\text{and}\\quad}\n", 
            "\\newcommand{\\qwhereq}{\\quad\\text{where}\\quad}\n", 
            "\\newcommand{\\qifq}{ \\quad \\text{if} \\quad }\n", 
            "\\newcommand{\\qarrq}{ \\quad \\Longrightarrow \\quad }\n", 
            "\\newcommand{\\ZZ}{\\mathbb{Z}}\n", 
            "\\newcommand{\\RR}{\\mathbb{R}}\n", 
            "\\newcommand{\\Nn}{\\mathcal{N}}\n", 
            "\\newcommand{\\Hh}{\\mathcal{H}}\n", 
            "\\newcommand{\\Bb}{\\mathcal{B}}\n", 
            "\\newcommand{\\EE}{\\mathbb{E}}\n", 
            "\\newcommand{\\CC}{\\mathbb{C}}\n", 
            "\\newcommand{\\si}{\\sigma}\n", 
            "\\newcommand{\\al}{\\alpha}\n", 
            "\\newcommand{\\la}{\\lambda}\n", 
            "\\newcommand{\\ga}{\\gamma}\n", 
            "\\newcommand{\\Ga}{\\Gamma}\n", 
            "\\newcommand{\\La}{\\Lambda}\n", 
            "\\newcommand{\\si}{\\sigma}\n", 
            "\\newcommand{\\Si}{\\Sigma}\n", 
            "\\newcommand{\\be}{\\beta}\n", 
            "\\newcommand{\\de}{\\delta}\n", 
            "\\newcommand{\\De}{\\Delta}\n", 
            "\\renewcommand{\\phi}{\\varphi}\n", 
            "\\renewcommand{\\th}{\\theta}\n", 
            "\\newcommand{\\om}{\\omega}\n", 
            "\\newcommand{\\Om}{\\Omega}\n", 
            "$"
          ]
        }, 
        {
          "cell_type": "code", 
          "collapsed": false, 
          "input": [
            "from nt_toolbox import *", 
            "%matplotlib inline", 
            "%load_ext autoreload", 
            "%autoreload 2"
          ], 
          "language": "python", 
          "outputs": []
        }, 
        {
          "cell_type": "markdown", 
          "metadata": {}, 
          "source": [
            "\n", 
            "CMT"
          ]
        }, 
        {
          "cell_type": "code", 
          "collapsed": false, 
          "input": [
            "rep = 'results/fastmarching_bendinginv_3d/'\n", 
            "if not(exist(rep))\n", 
            "    mkdir(rep)\n", 
            ""
          ], 
          "language": "python", 
          "outputs": []
        }, 
        {
          "cell_type": "markdown", 
          "metadata": {}, 
          "source": [
            "CMT\n", 
            ""
          ]
        }, 
        {
          "cell_type": "heading", 
          "level": 2, 
          "metadata": {}, 
          "source": [
            "Bending Invariants\n"
          ]
        }, 
        {
          "cell_type": "markdown", 
          "metadata": {}, 
          "source": [
            "Bending invariants replace the position of the vertices in a shape $\\Ss$ (2-D or 3-D)\n", 
            "by new positions that are insensitive to isometric deformation of the shape.\n", 
            "This defines a bending invariant signature that can be used for surface\n", 
            "matching.\n", 
            "\n", 
            "\n", 
            "Bending invariant were introduced in <#biblio [EladKim03]>.\n", 
            "A related method was developped for brain flattening in <#biblio [SchwShWolf89]>.\n", 
            "This method is related to the Isomap algorithm for manifold learning\n", 
            "<#biblio [TenSolvLang03]>.\n", 
            "\n", 
            "\n", 
            "We assume that $Ss$ has some Riemannian metric, for instance coming\n", 
            "from the embedding of a surface in 3-D Euclidian space, or by restriction of\n", 
            "the Euclian 2-D space to a 2-D sub-domain (planar shape). One thus can\n", 
            "compute the geodesic distance $d(x,x')$ between points $x,x' \\in\n", 
            "\\Ss$.\n", 
            "\n", 
            "\n", 
            "The bending invariant $\\tilde \\Ss$ of $\\Ss$ is defined as the set of\n", 
            "points $Y = (y_i)_j \\subset \\RR^d$ that are optimized so that the Euclidean\n", 
            "distance between points in $Y$ matches as closely the geodesic distance\n", 
            "between points in $X$, i.e.\n", 
            "$$ \\forall i, j, \\quad \\norm{y_i-y_j} \\approx d(x_i,x_j) $$\n", 
            "\n", 
            "\n", 
            "Multi-dimensional scaling (MDS) is a class of method that aims at\n", 
            "computing such a set of points $Y \\in \\RR^{d \\times N}$ in $\\RR^d$\n", 
            "such that\n", 
            "$$ \\forall i, j, \\quad \\norm{y_i-y_j} \\approx \\de_{i,j} $$\n", 
            "where $\\de \\in \\RR^{N \\times N}$ is a input data matrix.\n", 
            "For a detailed overview of MDS, we refer to the book <#biblio [BorgGroe97]>\n", 
            "\n", 
            "\n", 
            "In this tour, we apply two specific MDS algorithms (strain and stress\n", 
            "minimization) with input $\\de_{i,j} = d(x_i,x_j)$.\n", 
            ""
          ]
        }, 
        {
          "cell_type": "heading", 
          "level": 2, 
          "metadata": {}, 
          "source": [
            "3-D Surfaces and Geodesic Distances\n"
          ]
        }, 
        {
          "cell_type": "markdown", 
          "metadata": {}, 
          "source": [
            "We consider here a syrface $\\Ss \\subset \\RR^3$.\n", 
            "\n", 
            "\n", 
            "Load a mesh of $N$ vertices that discretizes this surfaces.\n", 
            ""
          ]
        }, 
        {
          "cell_type": "code", 
          "collapsed": false, 
          "input": [
            "name = 'camel'\n", 
            "options.name = name\n", 
            "[V,F] = read_mesh(name)\n", 
            "N = size(V,2)"
          ], 
          "language": "python", 
          "outputs": []
        }, 
        {
          "cell_type": "markdown", 
          "metadata": {}, 
          "source": [
            "\n", 
            "\n", 
            "Display it.\n", 
            ""
          ]
        }, 
        {
          "cell_type": "code", 
          "collapsed": false, 
          "input": [
            "\n", 
            "plot_mesh(V,F, options)"
          ], 
          "language": "python", 
          "outputs": []
        }, 
        {
          "cell_type": "markdown", 
          "metadata": {}, 
          "source": [
            "\n", 
            "CMT"
          ]
        }, 
        {
          "cell_type": "code", 
          "collapsed": false, 
          "input": [
            "saveas(gcf, [rep name '-original.png'], 'png')"
          ], 
          "language": "python", 
          "outputs": []
        }, 
        {
          "cell_type": "markdown", 
          "metadata": {}, 
          "source": [
            "CMT\n", 
            "\n", 
            "\n", 
            "The geodesic distance map $U(x) = d(x,x_i)$ to a starting point $x_i$\n", 
            "can be computed in $O(N \\log(N))$ operations on a mesh of $N$\n", 
            "vertices using the Fast Marching algorithm.\n", 
            ""
          ]
        }, 
        {
          "cell_type": "code", 
          "collapsed": false, 
          "input": [
            "i = 1\n", 
            "U = perform_fast_marching_mesh(V, F, i)"
          ], 
          "language": "python", 
          "outputs": []
        }, 
        {
          "cell_type": "markdown", 
          "metadata": {}, 
          "source": [
            "\n", 
            "\n", 
            "Extract a bunch of geodesic shortest paths from $x_i$\n", 
            "to randomly selected vertices $ (x_j)_{j \\in J} $.\n", 
            ""
          ]
        }, 
        {
          "cell_type": "code", 
          "collapsed": false, 
          "input": [
            "options.method = 'continuous'\n", 
            "J = randperm(N); J = J(1:50)\n", 
            "paths = compute_geodesic_mesh(U, V, F, J, options)"
          ], 
          "language": "python", 
          "outputs": []
        }, 
        {
          "cell_type": "markdown", 
          "metadata": {}, 
          "source": [
            "\n", 
            "\n", 
            "Display the distance $U$ on the 3-D mesh\n", 
            "together with the geodesic paths.\n", 
            ""
          ]
        }, 
        {
          "cell_type": "code", 
          "collapsed": false, 
          "input": [
            "\n", 
            "plot_fast_marching_mesh(V, F, U, paths, options)"
          ], 
          "language": "python", 
          "outputs": []
        }, 
        {
          "cell_type": "markdown", 
          "metadata": {}, 
          "source": [
            "\n", 
            "\n", 
            "The geodesic distance matrix $\\de \\in \\RR^{N \\times N}$ is defined as\n", 
            "$$ \\forall i,j=1,\\ldots,N, \\quad\n", 
            "      \\de_{i,j} = d(x_i,x_j). $$\n", 
            ""
          ]
        }, 
        {
          "cell_type": "heading", 
          "level": 3, 
          "metadata": {}, 
          "source": [
            "Exercise 1"
          ]
        }, 
        {
          "cell_type": "markdown", 
          "metadata": {}, 
          "source": [
            "\n", 
            "Compute the geodesic distance matrix $\\de$.\n", 
            "It is going to take some of time.\n", 
            "\n", 
            "\n", 
            "  progressbar(i,N);\n", 
            "\n", 
            "\n", 
            ""
          ]
        }, 
        {
          "cell_type": "code", 
          "collapsed": false, 
          "input": [
            "## Insert your code here."
          ], 
          "language": "python", 
          "outputs": []
        }, 
        {
          "cell_type": "markdown", 
          "metadata": {}, 
          "source": [
            "\n", 
            "\n", 
            ""
          ]
        }, 
        {
          "cell_type": "heading", 
          "level": 2, 
          "metadata": {}, 
          "source": [
            "Bending Invariant with Strain Minimization\n"
          ]
        }, 
        {
          "cell_type": "markdown", 
          "metadata": {}, 
          "source": [
            "The goal is to compute a set of points $Y = (y_i)_{i=1}^N$ in\n", 
            "$\\RR^d$, (here we use $d=2$) stored in a matrix $Y \\in \\RR^{d \\times N}$\n", 
            "such that\n", 
            "$$ \\forall i, j, \\quad D^2(Y)_{i,j} \\approx \\de_{i,j}^2\n", 
            "  \\qwhereq  D^2(Y)_{i,j} = \\norm{y_i-y_j}^2. $$\n", 
            "\n", 
            "\n", 
            "Target dimensionality $d$.\n", 
            ""
          ]
        }, 
        {
          "cell_type": "code", 
          "collapsed": false, 
          "input": [
            "d = 3"
          ], 
          "language": "python", 
          "outputs": []
        }, 
        {
          "cell_type": "markdown", 
          "metadata": {}, 
          "source": [
            "\n", 
            "\n", 
            "This can be achieved by minimzing a $L^2$ loss\n", 
            "$$ \\umin{Y} \\norm{ D^2(Y)-\\de^2 }^2 =\n", 
            "      \\sum_{i<j} \\abs{ \\norm{y_i-y_j}^2 - \\de_{i,j}^2 }^2. $$\n", 
            "\n", 
            "\n", 
            "Strain minimization consider instead the following weighted $L^2$ loss\n", 
            "(so-called strain)\n", 
            "$$ \\umin{Y \\in \\RR^{d \\times N} } \\text{Strain}(Y)\n", 
            "      = \\norm{ J ( D^2(Y)-\\de^2 ) J }^2\n", 
            "$$\n", 
            "where $J$ is the so-called centering matrix\n", 
            "$$ J_{i,j} =\n", 
            "      \\choice{\n", 
            "          1-1/N \\qifq i=j, \\\\\n", 
            "          -1/N \\qifq i \\neq j.\n", 
            " }$$\n", 
            ""
          ]
        }, 
        {
          "cell_type": "code", 
          "collapsed": false, 
          "input": [
            "J = eye(N) - ones(N)/N"
          ], 
          "language": "python", 
          "outputs": []
        }, 
        {
          "cell_type": "markdown", 
          "metadata": {}, 
          "source": [
            "\n", 
            "\n", 
            "Using the properties of squared-distance matrices $D^2(Y)$, one can\n", 
            "show that\n", 
            "$$ \\norm{ J ( D^2(Y)-\\de^2 ) J }^2 =\n", 
            "  \\norm{ Y Y^* - K }^2\n", 
            "  \\qwhereq K = - \\frac{1}{2} J \\de^2 J. $$\n", 
            ""
          ]
        }, 
        {
          "cell_type": "code", 
          "collapsed": false, 
          "input": [
            "K = -1/2 * J*(delta.^2)*J"
          ], 
          "language": "python", 
          "outputs": []
        }, 
        {
          "cell_type": "markdown", 
          "metadata": {}, 
          "source": [
            "\n", 
            "\n", 
            "The solution to this (non-convex) optimization problem can be computed\n", 
            "exactly as the rows of $Y$ being the two leading eigenvectors of $K$\n", 
            "propery rescaled.\n", 
            ""
          ]
        }, 
        {
          "cell_type": "code", 
          "collapsed": false, 
          "input": [
            "opt.disp = 0\n", 
            "[Y, v] = eigs(K, d, 'LR', opt)\n", 
            "Y = Y .* repmat(sqrt(diag(v))', [N 1])\n", 
            "Y = Y'"
          ], 
          "language": "python", 
          "outputs": []
        }, 
        {
          "cell_type": "markdown", 
          "metadata": {}, 
          "source": [
            "\n", 
            "\n", 
            "Display the bending invariant surface.\n", 
            ""
          ]
        }, 
        {
          "cell_type": "code", 
          "collapsed": false, 
          "input": [
            "\n", 
            "plot_mesh(Y,F, options)"
          ], 
          "language": "python", 
          "outputs": []
        }, 
        {
          "cell_type": "markdown", 
          "metadata": {}, 
          "source": [
            "\n", 
            "CMT"
          ]
        }, 
        {
          "cell_type": "code", 
          "collapsed": false, 
          "input": [
            "saveas(gcf, [rep name '-bendinv-strain.png'], 'png')"
          ], 
          "language": "python", 
          "outputs": []
        }, 
        {
          "cell_type": "markdown", 
          "metadata": {}, 
          "source": [
            "CMT\n", 
            "\n", 
            ""
          ]
        }, 
        {
          "cell_type": "heading", 
          "level": 2, 
          "metadata": {}, 
          "source": [
            "Bending Invariant with Stress Minimization\n"
          ]
        }, 
        {
          "cell_type": "markdown", 
          "metadata": {}, 
          "source": [
            "The stress functional does not have geometrical meaning.\n", 
            "An alternative MDS method directly minimizes a geometric loss, the\n", 
            "so-called Stress\n", 
            "$$ \\umin{Y \\in \\RR^{d \\times N} } \\text{Stress}(Y) =\n", 
            "      \\norm{ D(Y)-\\de }^2 =\n", 
            "      \\sum_{i<j} \\abs{ \\norm{y_i-y_j} - \\de_{i,j} }^2.\n", 
            " $$\n", 
            "It is possible to find a local minimizer of this energy by various\n", 
            "descent algorithms, as initially proposed by <#biblio [Kruskal64]>\n", 
            ""
          ]
        }, 
        {
          "cell_type": "code", 
          "collapsed": false, 
          "input": [
            "Stress = lambda d: sqrt( sum( abs(delta(:)-d(:)).^2 ) / N^2 )"
          ], 
          "language": "python", 
          "outputs": []
        }, 
        {
          "cell_type": "markdown", 
          "metadata": {}, 
          "source": [
            "\n", 
            "\n", 
            "Operator to compute the distance matrix $D(Y)$.\n", 
            ""
          ]
        }, 
        {
          "cell_type": "code", 
          "collapsed": false, 
          "input": [
            "D = lambda Y: sqrt( repmat(sum(Y.^2),N,1) + repmat(sum(Y.^2),N,1)' - 2*Y'*Y)"
          ], 
          "language": "python", 
          "outputs": []
        }, 
        {
          "cell_type": "markdown", 
          "metadata": {}, 
          "source": [
            "\n", 
            "\n", 
            "The SMACOF (Scaling by majorizing a convex function) algorithm\n", 
            "solves at each iterations a quadratic energy, that is guaranteed to\n", 
            "diminish the value of the Strain. It was introduced by <#biblio [Leeuw77]>\n", 
            "\n", 
            "\n", 
            "It computes iterates $X^{(\\ell)}$ as\n", 
            "$$ X^{(\\ell+1)} = \\frac{1}{N} X^{(\\ell)} B(D(X^{(\\ell)}))^*,  $$\n", 
            "where\n", 
            "$$ B(D) = \\choice{\n", 
            "         -\\frac{\\de_{i,j}}{D_{i,j}} \\qifq i \\neq j, \\\\\n", 
            "         -\\sum_{k} B(D)_{i,k} \\qifq i = j.\n", 
            "} $$\n", 
            "\n", 
            "\n", 
            "Initialize the positions for the algorithm.\n", 
            ""
          ]
        }, 
        {
          "cell_type": "code", 
          "collapsed": false, 
          "input": [
            "Y = V"
          ], 
          "language": "python", 
          "outputs": []
        }, 
        {
          "cell_type": "markdown", 
          "metadata": {}, 
          "source": [
            "\n", 
            "\n", 
            "Operator $B$.\n", 
            ""
          ]
        }, 
        {
          "cell_type": "code", 
          "collapsed": false, 
          "input": [
            "remove_diag = lambda b: b - diag(sum(b))\n", 
            "B = lambda D1: remove_diag( -delta./max(D1,1e-10) )"
          ], 
          "language": "python", 
          "outputs": []
        }, 
        {
          "cell_type": "markdown", 
          "metadata": {}, 
          "source": [
            "\n", 
            "\n", 
            "Update the positions.\n", 
            ""
          ]
        }, 
        {
          "cell_type": "code", 
          "collapsed": false, 
          "input": [
            "Y = Y * B(D(Y))' / N"
          ], 
          "language": "python", 
          "outputs": []
        }, 
        {
          "cell_type": "heading", 
          "level": 3, 
          "metadata": {}, 
          "source": [
            "Exercise 2"
          ]
        }, 
        {
          "cell_type": "markdown", 
          "metadata": {}, 
          "source": [
            "\n", 
            "Perform the SMACOF iterative algorithm.\n", 
            "Save in a variable |s(l)| the values of\n", 
            "Stress$( X^{(\\ell)} )$.\n", 
            "\n", 
            "\n", 
            "\n", 
            "\n", 
            "\n", 
            "\n", 
            "\n", 
            "\n", 
            "\n", 
            "\n", 
            "\n", 
            "\n", 
            "\n", 
            "\n", 
            "\n", 
            "\n", 
            "\n", 
            "\n", 
            "\n", 
            "\n", 
            ""
          ]
        }, 
        {
          "cell_type": "code", 
          "collapsed": false, 
          "input": [
            "## Insert your code here."
          ], 
          "language": "python", 
          "outputs": []
        }, 
        {
          "cell_type": "markdown", 
          "metadata": {}, 
          "source": [
            "\n", 
            "\n", 
            "\n", 
            "Plot stress evolution during minimization.\n", 
            ""
          ]
        }, 
        {
          "cell_type": "code", 
          "collapsed": false, 
          "input": [
            "\n", 
            "plot(s, '.-', 'LineWidth', 2, 'MarkerSize', 20)\n", 
            "axis('tight')"
          ], 
          "language": "python", 
          "outputs": []
        }, 
        {
          "cell_type": "markdown", 
          "metadata": {}, 
          "source": [
            "\n", 
            "\n", 
            "Plot the optimized invariant shape.\n", 
            ""
          ]
        }, 
        {
          "cell_type": "code", 
          "collapsed": false, 
          "input": [
            "\n", 
            "plot_mesh(Y,F, options)"
          ], 
          "language": "python", 
          "outputs": []
        }, 
        {
          "cell_type": "heading", 
          "level": 2, 
          "metadata": {}, 
          "source": [
            "Surface Retrieval with Bending Invariant.\n"
          ]
        }, 
        {
          "cell_type": "markdown", 
          "metadata": {}, 
          "source": [
            "One can compute a bending invariant signature for each mesh in a library\n", 
            "of 3D surface.\n", 
            "\n", 
            "\n", 
            "Isometry-invariant retrival is then perform by matching the invariant\n", 
            "signature.\n", 
            ""
          ]
        }, 
        {
          "cell_type": "heading", 
          "level": 3, 
          "metadata": {}, 
          "source": [
            "Exercise 3"
          ]
        }, 
        {
          "cell_type": "markdown", 
          "metadata": {}, 
          "source": [
            "\n", 
            "Implement a surface retrival algorithm based on these bending invariants.\n", 
            "No correction for this exercise."
          ]
        }, 
        {
          "cell_type": "code", 
          "collapsed": false, 
          "input": [
            "## Insert your code here."
          ], 
          "language": "python", 
          "outputs": []
        }, 
        {
          "cell_type": "markdown", 
          "metadata": {}, 
          "source": [
            "\n", 
            "\n", 
            "\n", 
            ""
          ]
        }, 
        {
          "cell_type": "heading", 
          "level": 2, 
          "metadata": {}, 
          "source": [
            "Bibliography\n"
          ]
        }
      ]
    }
  ]
}