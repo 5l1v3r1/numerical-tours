{
  "metadata": {
    "name": ""
  }, 
  "nbformat": 3, 
  "nbformat_minor": 0, 
  "worksheets": [
    {
      "cells": [
        {
          "cell_type": "heading", 
          "level": 1, 
          "metadata": {}, 
          "source": [
            "Stein Unbiased Risk Estimator"
          ]
        }, 
        {
          "cell_type": "markdown", 
          "metadata": {}, 
          "source": [
            "This tour uses the Stein Unbiased Risk Estimator (SURE) to optimize the\n", 
            "value of parameters in denoising algorithms.\n", 
            ""
          ]
        }, 
        {
          "cell_type": "markdown", 
          "metadata": {}, 
          "source": [
            "*Important:* You need to download the file `nt_toolbox.py` from the \n", 
            "root of the github repository.\n", 
            "$\\newcommand{\\dotp}[2]{\\langle #1, #2 \\rangle}\n", 
            "\\newcommand{\\enscond}[2]{\\lbrace #1, #2 \\rbrace}\n", 
            "\\newcommand{\\pd}[2]{ \\frac{ \\partial #1}{\\partial #2} }\n", 
            "\\newcommand{\\umin}[1]{\\underset{#1}{\\min}\\;}\n", 
            "\\newcommand{\\norm}[1]{\\|#1\\|}\n", 
            "\\newcommand{\\abs}[1]{\\left|#1\\right|}\n", 
            "\\newcommand{\\choice}[1]{ \\left\\{  \\begin{array}{l} #1 \\end{array} \\right. }\n", 
            "\\newcommand{\\pa}[1]{\\left(#1\\right)}\n", 
            "\\newcommand{\\qandq}{\\quad\\text{and}\\quad}\n", 
            "\\newcommand{\\qwhereq}{\\quad\\text{where}\\quad}\n", 
            "\\newcommand{\\qifq}{ \\quad \\text{if} \\quad }\n", 
            "\\newcommand{\\qarrq}{ \\quad \\Longrightarrow \\quad }\n", 
            "\\newcommand{\\ZZ}{\\mathbb{Z}}\n", 
            "\\newcommand{\\RR}{\\mathbb{R}}\n", 
            "\\newcommand{\\Nn}{\\mathcal{N}}\n", 
            "\\newcommand{\\Hh}{\\mathcal{H}}\n", 
            "\\newcommand{\\Bb}{\\mathcal{B}}\n", 
            "\\newcommand{\\EE}{\\mathbb{E}}\n", 
            "\\newcommand{\\CC}{\\mathbb{C}}\n", 
            "\\newcommand{\\si}{\\sigma}\n", 
            "\\newcommand{\\al}{\\alpha}\n", 
            "\\newcommand{\\la}{\\lambda}\n", 
            "\\newcommand{\\ga}{\\gamma}\n", 
            "\\newcommand{\\Ga}{\\Gamma}\n", 
            "\\newcommand{\\La}{\\Lambda}\n", 
            "\\newcommand{\\si}{\\sigma}\n", 
            "\\newcommand{\\Si}{\\Sigma}\n", 
            "\\newcommand{\\be}{\\beta}\n", 
            "\\newcommand{\\de}{\\delta}\n", 
            "\\newcommand{\\De}{\\Delta}\n", 
            "\\renewcommand{\\phi}{\\varphi}\n", 
            "\\renewcommand{\\th}{\\theta}\n", 
            "\\newcommand{\\om}{\\omega}\n", 
            "\\newcommand{\\Om}{\\Omega}\n", 
            "$"
          ]
        }, 
        {
          "cell_type": "code", 
          "collapsed": false, 
          "input": [
            "from nt_toolbox import *", 
            "%matplotlib inline", 
            "%load_ext autoreload", 
            "%autoreload 2"
          ], 
          "language": "python", 
          "outputs": []
        }, 
        {
          "cell_type": "heading", 
          "level": 2, 
          "metadata": {}, 
          "source": [
            "Denoising and SURE\n"
          ]
        }, 
        {
          "cell_type": "markdown", 
          "metadata": {}, 
          "source": [
            "We consider a simple generative model of noisy images $F = f_0+W$\n", 
            "where $f_0 \\in \\RR^N$ is a deterministic image of $N$ pixels, and\n", 
            "$W$ is a Gaussian white noise distributed according to $\\Nn(0,\\si^2\n", 
            "\\text{Id}_N)$, where $\\si^2$ is the variance of noise.\n", 
            "\n", 
            "\n", 
            "The goal of denoising is to define an estimator $h(F)$ of\n", 
            "$f_0$ that depends only on $F$,\n", 
            "where $h : \\RR^N \\rightarrow \\RR^N$ is a potentially non-linear\n", 
            "mapping.\n", 
            "\n", 
            "\n", 
            "Note that while $f_0$ is a deterministic image, both $F$ and $h(F)$\n", 
            "are random variables (hence the capital letters).\n", 
            "\n", 
            "\n", 
            "The goal of denoising is to reduce as much as possible the denoising\n", 
            "error given some prior knowledge on the (unknown) image $f_0$.\n", 
            "A mathematical way to measure this error is to bound the\n", 
            "quadratic risk $\\EE_W(\\norm{h(F) - f_0}^2)$, where the expectation is computed\n", 
            "with respect to the distribution of the noise $W$\n", 
            "\n", 
            "\n", 
            "For real life applications, one does not have access to the underlying\n", 
            "image $f_0$. In this tour, we however assume that $f_0$ is known, and\n", 
            "$f = f_0 + w\\in \\RR^N$ is generated using a single realization of the noise $w$\n", 
            "that is drawn from $W$. We define the estimated deterministic image as\n", 
            "$h(f)$ which is a realization of the random vector\n", 
            "$h(F)$.\n", 
            "\n", 
            "\n", 
            "Number $N = n \\times n$ of pixels.\n", 
            ""
          ]
        }, 
        {
          "cell_type": "code", 
          "collapsed": false, 
          "input": [
            "n = 128*2\n", 
            "N = n^2"
          ], 
          "language": "python", 
          "outputs": []
        }, 
        {
          "cell_type": "markdown", 
          "metadata": {}, 
          "source": [
            "\n", 
            "\n", 
            "First we load an image $f \\in \\RR^N$ where $N=n \\times n$ is the number of pixels.\n", 
            ""
          ]
        }, 
        {
          "cell_type": "code", 
          "collapsed": false, 
          "input": [
            "name = 'hibiscus'\n", 
            "f0 = rescale( sum(load_image(name,n),3) )"
          ], 
          "language": "python", 
          "outputs": []
        }, 
        {
          "cell_type": "markdown", 
          "metadata": {}, 
          "source": [
            "\n", 
            "\n", 
            "Display it.\n", 
            ""
          ]
        }, 
        {
          "cell_type": "code", 
          "collapsed": false, 
          "input": [
            "\n", 
            "imageplot(f0)"
          ], 
          "language": "python", 
          "outputs": []
        }, 
        {
          "cell_type": "markdown", 
          "metadata": {}, 
          "source": [
            "\n", 
            "\n", 
            "Standard deviation $\\si$ of the noise.\n", 
            ""
          ]
        }, 
        {
          "cell_type": "code", 
          "collapsed": false, 
          "input": [
            "sigma = .08"
          ], 
          "language": "python", 
          "outputs": []
        }, 
        {
          "cell_type": "markdown", 
          "metadata": {}, 
          "source": [
            "\n", 
            "\n", 
            "Then we add Gaussian noise $w$ to obtain $f=f_0+w$.\n", 
            ""
          ]
        }, 
        {
          "cell_type": "code", 
          "collapsed": false, 
          "input": [
            "f = f0 + sigma*randn(n)"
          ], 
          "language": "python", 
          "outputs": []
        }, 
        {
          "cell_type": "markdown", 
          "metadata": {}, 
          "source": [
            "\n", 
            "\n", 
            "Display the noisy image. Note the use of the |clamp| function to saturate\n", 
            "the result to $[0,1]$ to avoid a loss of contrast of the display.\n", 
            ""
          ]
        }, 
        {
          "cell_type": "code", 
          "collapsed": false, 
          "input": [
            "\n", 
            "imageplot(clamp(f), strcat(['Noisy, SNR=' num2str(snr(f0,f),3) 'dB']))"
          ], 
          "language": "python", 
          "outputs": []
        }, 
        {
          "cell_type": "markdown", 
          "metadata": {}, 
          "source": [
            "\n", 
            "\n", 
            "\n", 
            "The Stein Unbiased Risk Estimator (SURE) associated to the mapping $h$\n", 
            "is defined as\n", 
            "$$ \\text{SURE}(f) = -N\\si^2 + \\norm{h(f)-f}^2 + 2\\si^2 \\text{df}(f) $$\n", 
            "where df stands for _degree of freedom,_ and is defined as\n", 
            "$$ \\text{df}(f) = \\text{div} h(f) = \\sum_i \\pd{h}{f_i}(f). $$\n", 
            "\n", 
            "\n", 
            "It has been introduced in:\n", 
            "\n", 
            "\n", 
            "Stein, Charles M. (November 1981).\n", 
            "\"Estimation of the Mean of a Multivariate Normal Distribution\".\n", 
            "The Annals of Statistics 9 (6): 1135-1151.\n", 
            "\n", 
            "\n", 
            "And it has been applied to wavelet-based non-linear denoising in:\n", 
            "\n", 
            "\n", 
            "Donoho, David L.; Iain M. Johnstone (December 1995).\n", 
            "\"Adapting to Unknown Smoothness via Wavelet Shrinkage\".\n", 
            "Journal of the American Statistical Association (Journal of the American Statistical Association,\n", 
            "Vol. 90, No. 432) 90 (432): 1200-1244.\n", 
            "\n", 
            "\n", 
            "If the mapping $f \\mapsto h(f)$ is differentiable outside a set of\n", 
            "zero measure (or more generally weakly differentiable),\n", 
            "then SURE defines an unbiased estimate of the quadratic risk\n", 
            "$$ \\EE_W(\\text{SURE}(F)) = \\EE_W( \\norm{f_0-h(F)}^2 ). $$\n", 
            "This is especially useful, since the evaluation of SURE does not\n", 
            "necessitate the knowledge of the clean signal $f_0$ (but note however\n", 
            "that it requires the knowledge of the noise level $\\si$).\n", 
            "\n", 
            "\n", 
            "In practice, one replaces $\\text{SURE}(F)$ from its empirical\n", 
            "evaluation $\\text{SURE}(f)$ on a single realization $f$.\n", 
            "One can then minimize $\\text{SURE}(f)$ with respect to a parameter\n", 
            "$\\la$ that parameterizes the denoiser $h=h_\\la$.\n", 
            "\n", 
            ""
          ]
        }, 
        {
          "cell_type": "heading", 
          "level": 2, 
          "metadata": {}, 
          "source": [
            "Linear Denoising SURE\n"
          ]
        }, 
        {
          "cell_type": "markdown", 
          "metadata": {}, 
          "source": [
            "We consider a translation-invariant linear denoising operator, which is\n", 
            "thus a convolution\n", 
            "$$ h(f) = g \\star h $$\n", 
            "where $g \\in \\RR^N$ is a low pass kernel, and $\\star$ denotes the\n", 
            "periodic 2-D convolution.\n", 
            "\n", 
            "\n", 
            "Since we use periodic boundary condition, we compute the\n", 
            "convolution as a multiplication over the Fourier domain.\n", 
            "$$ \\forall \\om, \\quad \\hat h(f)(\\om) = \\hat f(\\om) \\hat g(\\om) $$\n", 
            "where $\\hat g(\\om)$ is the frequency $\\om$ of the discrete 2-D\n", 
            "Fourier transform of $g$ (computed using the function |fft2|).\n", 
            ""
          ]
        }, 
        {
          "cell_type": "code", 
          "collapsed": false, 
          "input": [
            "convol = lambda f,g: real(ifft2(fft2(f) .* repmat(fft2(g), [1 1 size(f,3)]) ))"
          ], 
          "language": "python", 
          "outputs": []
        }, 
        {
          "cell_type": "markdown", 
          "metadata": {}, 
          "source": [
            "\n", 
            "\n", 
            "We define a parameteric kernel $g_\\la$ parameterized by its bandwidth\n", 
            "$\\la>0$. We use here a Gaussian kernel\n", 
            "$$ g_\\la(a) = \\frac{1}{Z_\\la} e^{ -\\frac{\\norm{a}}{2 \\la^2} } $$\n", 
            "where $Z_\\la$ ensures that $\\sum_a g_\\la(a) = 1$.\n", 
            ""
          ]
        }, 
        {
          "cell_type": "code", 
          "collapsed": false, 
          "input": [
            "normalize = lambda f: f/sum(f(:))\n", 
            "x = [0:n/2 -n/2+1:-1]\n", 
            "[Y,X] = meshgrid(x,x)\n", 
            "g = lambda lambda: normalize( exp( -(X.^2+Y.^2)/(2*lambda^2) ) )"
          ], 
          "language": "python", 
          "outputs": []
        }, 
        {
          "cell_type": "markdown", 
          "metadata": {}, 
          "source": [
            "\n", 
            "\n", 
            "Define our denoising operator $h=h_\\la$ (we make explicit the\n", 
            "dependency on $\\la$):\n", 
            "$$ h_\\la(f) = g_\\la \\star f. $$\n", 
            ""
          ]
        }, 
        {
          "cell_type": "code", 
          "collapsed": false, 
          "input": [
            "h = lambda f,lambda: convol(f, g(lambda))"
          ], 
          "language": "python", 
          "outputs": []
        }, 
        {
          "cell_type": "markdown", 
          "metadata": {}, 
          "source": [
            "\n", 
            "\n", 
            "Example of denoising result.\n", 
            ""
          ]
        }, 
        {
          "cell_type": "code", 
          "collapsed": false, 
          "input": [
            "lambda = 1.5\n", 
            "\n", 
            "imageplot(clamp(h(f,lambda)))"
          ], 
          "language": "python", 
          "outputs": []
        }, 
        {
          "cell_type": "markdown", 
          "metadata": {}, 
          "source": [
            "\n", 
            "\n", 
            "For linear operator, the dregree of freedom is equal to the trace of the operator, and\n", 
            "thus in our case it is equal to the sum of the Fourier transform\n", 
            "$$ \\text{df}_\\la(f) = \\text{tr}(h_\\la) = \\sum_{\\om} \\hat g_\\la(\\om) $$\n", 
            "Note that we have made explicit the dependency of df with respect\n", 
            "$\\la$. Note also that df$(f)$ actually does not depends on $f$.\n", 
            ""
          ]
        }, 
        {
          "cell_type": "code", 
          "collapsed": false, 
          "input": [
            "df = lambda lambda: real(sum(sum(fft2(g(lambda)))))"
          ], 
          "language": "python", 
          "outputs": []
        }, 
        {
          "cell_type": "markdown", 
          "metadata": {}, 
          "source": [
            "\n", 
            "\n", 
            "We can now define the SURE=SURE$_\\la$ operator, as a function of $f, h(f),\n", 
            "\\lambda$.\n", 
            ""
          ]
        }, 
        {
          "cell_type": "code", 
          "collapsed": false, 
          "input": [
            "SURE = lambda f,hf,lambda: -N*sigma^2 + norm(hf-f, 'fro')^2 + 2 * sigma^2 * df(lambda)"
          ], 
          "language": "python", 
          "outputs": []
        }, 
        {
          "cell_type": "heading", 
          "level": 3, 
          "metadata": {}, 
          "source": [
            "Exercise 1"
          ]
        }, 
        {
          "cell_type": "markdown", 
          "metadata": {}, 
          "source": [
            "\n", 
            "For a given $\\lambda$, display the histogram of the repartition of\n", 
            "the quadratic error $\\norm{y-h(y)}^2$ and of $\\text{SURE}(y)$.\n", 
            "Compute these repartition using Monte-Carlo simulation (you need to\n", 
            "generate lots of different realization of the noise $W$.\n", 
            "Display in particular the location of the mean of these quantities.\n", 
            "\n", 
            "\n", 
            "\n", 
            "\n", 
            "\n", 
            "\n", 
            "\n", 
            "\n", 
            "\n", 
            "\n", 
            "\n", 
            "\n", 
            "\n", 
            "\n", 
            "mean\n", 
            "\n", 
            "\n", 
            "display\n", 
            "\n", 
            "\n", 
            "\n", 
            "\n", 
            "\n", 
            "\n", 
            "\n", 
            "\n", 
            "\n", 
            "\n", 
            ""
          ]
        }, 
        {
          "cell_type": "code", 
          "collapsed": false, 
          "input": [
            "## Insert your code here."
          ], 
          "language": "python", 
          "outputs": []
        }, 
        {
          "cell_type": "markdown", 
          "metadata": {}, 
          "source": [
            "\n", 
            "\n", 
            "\n", 
            "In practice, the SURE is used to set up the value of $\\la$ from a\n", 
            "single realization $f=f_0+w$, by minimizing $\\text{SURE}_\\la(f)$.\n", 
            ""
          ]
        }, 
        {
          "cell_type": "heading", 
          "level": 3, 
          "metadata": {}, 
          "source": [
            "Exercise 2"
          ]
        }, 
        {
          "cell_type": "markdown", 
          "metadata": {}, 
          "source": [
            "\n", 
            "Compute, for a single realization $f=f_0+w$, the evolution\n", 
            "of\n", 
            "$$ E(\\la) = \\text{SURE}_\\la(f) \\qandq E_0(\\lambda) = \\norm{f-h_\\la(f)}^2 $$\n", 
            "as a function of $\\lambda$.\n", 
            "\n", 
            "\n", 
            "\n", 
            "\n", 
            "\n", 
            "\n", 
            "\n", 
            "\n", 
            "\n", 
            "\n", 
            "\n", 
            "\n", 
            "\n", 
            ""
          ]
        }, 
        {
          "cell_type": "code", 
          "collapsed": false, 
          "input": [
            "## Insert your code here."
          ], 
          "language": "python", 
          "outputs": []
        }, 
        {
          "cell_type": "markdown", 
          "metadata": {}, 
          "source": [
            "\n", 
            ""
          ]
        }, 
        {
          "cell_type": "heading", 
          "level": 3, 
          "metadata": {}, 
          "source": [
            "Exercise 3"
          ]
        }, 
        {
          "cell_type": "markdown", 
          "metadata": {}, 
          "source": [
            "\n", 
            "Display the best denoising result $h_{\\la^*}(f)$\n", 
            "where\n", 
            "$$\\la^* = \\uargmin{\\la} \\text{SURE}_\\la(f) $$\n", 
            "\n", 
            "\n", 
            "\n", 
            "\n", 
            ""
          ]
        }, 
        {
          "cell_type": "code", 
          "collapsed": false, 
          "input": [
            "## Insert your code here."
          ], 
          "language": "python", 
          "outputs": []
        }, 
        {
          "cell_type": "markdown", 
          "metadata": {}, 
          "source": [
            "\n", 
            "\n", 
            ""
          ]
        }, 
        {
          "cell_type": "heading", 
          "level": 2, 
          "metadata": {}, 
          "source": [
            "Soft Thresholding SURE\n"
          ]
        }, 
        {
          "cell_type": "markdown", 
          "metadata": {}, 
          "source": [
            "In order to enhance the denoising results for piecewise regular signal\n", 
            "and image, it is possible to use non-linear thresholding in an orthogonal wavelet\n", 
            "basis $ \\Bb = \\{ \\psi_m \\}_{m} $ where $\\psi_m \\in \\RR^N$ is a wavelet element.\n", 
            "\n", 
            "\n", 
            "Re-generate a noisy image.\n", 
            ""
          ]
        }, 
        {
          "cell_type": "code", 
          "collapsed": false, 
          "input": [
            "f = f0 + sigma*randn(n)"
          ], 
          "language": "python", 
          "outputs": []
        }, 
        {
          "cell_type": "markdown", 
          "metadata": {}, 
          "source": [
            "\n", 
            "\n", 
            "The soft-thresholding estimator thus reads\n", 
            "$$ h_\\la(f) = \\sum_m s_\\la( \\dotp{f}{\\psi_m} ) \\psi_m\n", 
            "      \\qwhereq s_\\la(\\al) = \\max\\pa{0, 1-\\frac{\\la}{\\abs{\\al}}} \\al. $$\n", 
            "It can be conveniently written as\n", 
            "$$ h_\\la = \\Ww^* \\circ S_\\la \\circ \\Ww $$\n", 
            "where $\\Ww$ and $\\Ww^*$ are forward and inverse wavelet transform\n", 
            "$$ \\Ww(f) = ( \\dotp{f}{\\psi_m} )_m \\qandq\n", 
            "      \\Ww^*(x) = \\sum_m x_m \\psi_m, $$\n", 
            "and $ S_\\la $ is the diagonal soft thresholding operator\n", 
            "$$ S_\\la(x) = ( s_\\la(x_m) )_m. $$\n", 
            "\n", 
            "\n", 
            "Define the wavelet transform and its inverse.\n", 
            ""
          ]
        }, 
        {
          "cell_type": "code", 
          "collapsed": false, 
          "input": [
            "W  = lambda f: perform_wavortho_transf(f,0,+1)\n", 
            "Ws = lambda x: perform_wavortho_transf(x,0,-1)"
          ], 
          "language": "python", 
          "outputs": []
        }, 
        {
          "cell_type": "markdown", 
          "metadata": {}, 
          "source": [
            "\n", 
            "\n", 
            "Display the wavelet transform $\\Ww(f_0)$ of the original image.\n", 
            ""
          ]
        }, 
        {
          "cell_type": "code", 
          "collapsed": false, 
          "input": [
            "\n", 
            "plot_wavelet(W(f0),1)"
          ], 
          "language": "python", 
          "outputs": []
        }, 
        {
          "cell_type": "markdown", 
          "metadata": {}, 
          "source": [
            "\n", 
            "\n", 
            "Define the soft thresholding operator.\n", 
            ""
          ]
        }, 
        {
          "cell_type": "code", 
          "collapsed": false, 
          "input": [
            "S = lambda x,lambda: max(0, 1-lambda ./ max(1e-9,abs(x)) ) .* x"
          ], 
          "language": "python", 
          "outputs": []
        }, 
        {
          "cell_type": "markdown", 
          "metadata": {}, 
          "source": [
            "\n", 
            "\n", 
            "Define the denoising operator.\n", 
            ""
          ]
        }, 
        {
          "cell_type": "code", 
          "collapsed": false, 
          "input": [
            "h = lambda f,lambda: Ws(S(W(f),lambda))"
          ], 
          "language": "python", 
          "outputs": []
        }, 
        {
          "cell_type": "markdown", 
          "metadata": {}, 
          "source": [
            "\n", 
            "\n", 
            "Example of denoising result.\n", 
            ""
          ]
        }, 
        {
          "cell_type": "code", 
          "collapsed": false, 
          "input": [
            "lambda = 3*sigma/2\n", 
            "\n", 
            "imageplot(clamp(h(f,lambda)))"
          ], 
          "language": "python", 
          "outputs": []
        }, 
        {
          "cell_type": "markdown", 
          "metadata": {}, 
          "source": [
            "\n", 
            "\n", 
            "Since $Ww$ is an orthogonal transform, one has\n", 
            "$$ \\text{df}(f) = \\text{div}( S_\\la )( \\Ww(f) )\n", 
            "      = \\sum_m s_\\la'( \\dotp{f}{\\psi_m} ) = \\norm{\\Ww(h(f))}_0  $$\n", 
            "where $ s_\\la' $ is the derivative of the 1-D function $s_\\la$, and\n", 
            "$\\norm{\\cdot}_0$ is the $\\ell^0$ pseudo-norm\n", 
            "$$ \\norm{x}_0 = \\abs{ \\enscond{m}{x_m \\neq 0} }. $$\n", 
            "\n", 
            "\n", 
            "To summerize, the degree of freedom is equal to the number of non-zero\n", 
            "coefficients in the wavelet coefficients of $h(f)$.\n", 
            ""
          ]
        }, 
        {
          "cell_type": "code", 
          "collapsed": false, 
          "input": [
            "df = lambda hf,lambda: sum(sum( abs(W(hf))>1e-8 ))"
          ], 
          "language": "python", 
          "outputs": []
        }, 
        {
          "cell_type": "markdown", 
          "metadata": {}, 
          "source": [
            "\n", 
            "\n", 
            "We can now define the SURE operator, as a function of $f, h(f),\n", 
            "\\lambda$.\n", 
            ""
          ]
        }, 
        {
          "cell_type": "code", 
          "collapsed": false, 
          "input": [
            "SURE = lambda f,hf,lambda: -N*sigma^2 + norm(hf-f, 'fro')^2 + 2 * sigma^2 * df(hf,lambda)"
          ], 
          "language": "python", 
          "outputs": []
        }, 
        {
          "cell_type": "heading", 
          "level": 3, 
          "metadata": {}, 
          "source": [
            "Exercise 4"
          ]
        }, 
        {
          "cell_type": "markdown", 
          "metadata": {}, 
          "source": [
            "\n", 
            "For a given $\\lambda$, display the histogram of the repartition of\n", 
            "the quadratic error $\\norm{y-h(y)}^2$ and of $\\text{SURE}(y)$.\n", 
            "Compute these repartition using Monte-Carlo simulation (you need to\n", 
            "generate lots of different realization of the noise $W$.\n", 
            "Display in particular the location of the mean of these quantities.\n", 
            "_Hint:_ you can do the computation directly over the wavelet domain,\n", 
            "i.e. consider that the noise is added to the wavelet transform.\n", 
            "\n", 
            "\n", 
            "\n", 
            "\n", 
            "\n", 
            "\n", 
            "\n", 
            "\n", 
            "\n", 
            "\n", 
            "\n", 
            "\n", 
            "\n", 
            "\n", 
            "\n", 
            "\n", 
            "mean\n", 
            "\n", 
            "\n", 
            "display\n", 
            "\n", 
            "\n", 
            "\n", 
            "\n", 
            "\n", 
            "\n", 
            "\n", 
            "\n", 
            "\n", 
            "\n", 
            ""
          ]
        }, 
        {
          "cell_type": "code", 
          "collapsed": false, 
          "input": [
            "## Insert your code here."
          ], 
          "language": "python", 
          "outputs": []
        }, 
        {
          "cell_type": "markdown", 
          "metadata": {}, 
          "source": [
            "\n", 
            "\n", 
            "\n", 
            ""
          ]
        }, 
        {
          "cell_type": "heading", 
          "level": 3, 
          "metadata": {}, 
          "source": [
            "Exercise 5"
          ]
        }, 
        {
          "cell_type": "markdown", 
          "metadata": {}, 
          "source": [
            "\n", 
            "Compute, for a single realization $f=f_0+w$, the evolution\n", 
            "of\n", 
            "$$ E(\\la) = \\text{SURE}_\\la(f) \\qandq E_0(\\lambda) = \\norm{f-h_\\la(f)}^2 $$\n", 
            "as a function of $\\lambda$.\n", 
            "\n", 
            "\n", 
            "\n", 
            "\n", 
            "\n", 
            "\n", 
            "\n", 
            "\n", 
            "\n", 
            "\n", 
            "\n", 
            "\n", 
            "\n", 
            ""
          ]
        }, 
        {
          "cell_type": "code", 
          "collapsed": false, 
          "input": [
            "## Insert your code here."
          ], 
          "language": "python", 
          "outputs": []
        }, 
        {
          "cell_type": "markdown", 
          "metadata": {}, 
          "source": [
            "\n", 
            "\n", 
            ""
          ]
        }, 
        {
          "cell_type": "heading", 
          "level": 3, 
          "metadata": {}, 
          "source": [
            "Exercise 6"
          ]
        }, 
        {
          "cell_type": "markdown", 
          "metadata": {}, 
          "source": [
            "\n", 
            "Display the best denoising result $h_{\\la^*}(f)$\n", 
            "where\n", 
            "$$\\la^* = \\uargmin{\\la} \\text{SURE}_\\la(f) $$\n", 
            "\n", 
            "\n", 
            "\n", 
            "\n", 
            ""
          ]
        }, 
        {
          "cell_type": "code", 
          "collapsed": false, 
          "input": [
            "## Insert your code here."
          ], 
          "language": "python", 
          "outputs": []
        }, 
        {
          "cell_type": "markdown", 
          "metadata": {}, 
          "source": [
            "\n", 
            ""
          ]
        }, 
        {
          "cell_type": "heading", 
          "level": 2, 
          "metadata": {}, 
          "source": [
            "Block-soft Thresholding SURE\n"
          ]
        }, 
        {
          "cell_type": "markdown", 
          "metadata": {}, 
          "source": [
            "To improve the result of soft thresholding, it is possible to threshold\n", 
            "blocks of coefficients.\n", 
            "\n", 
            "\n", 
            "We define a partition $ \\{1,\\ldots,N\\} = \\cup_k b_k $ of the set of wavelet\n", 
            "coefficient indexes. The block thresholding is defined as\n", 
            "$$ h_\\la(f) = \\sum_k \\sum_{m \\in b_k} a_\\la( e_k ) \\dotp{f}{\\psi_m} \\psi_m\n", 
            "      \\qwhereq\n", 
            "      e_k = \\sum_{m \\in b_k} \\abs{\\dotp{f}{\\psi_m}}^2,\n", 
            "$$\n", 
            "where we use the James-Stein attenuation threshold\n", 
            "$$\n", 
            "      a_\\la(e) = \\max\\pa{ 0, 1 - \\frac{\\la^2}{e^2} }.\n", 
            "$$\n", 
            "\n", 
            "\n", 
            "The block size $q$.\n", 
            ""
          ]
        }, 
        {
          "cell_type": "code", 
          "collapsed": false, 
          "input": [
            "q = 4"
          ], 
          "language": "python", 
          "outputs": []
        }, 
        {
          "cell_type": "markdown", 
          "metadata": {}, 
          "source": [
            "\n", 
            "\n", 
            "A function to extract blocks.\n", 
            ""
          ]
        }, 
        {
          "cell_type": "code", 
          "collapsed": false, 
          "input": [
            "[dX,dY,X,Y] = ndgrid(0:q-1,0:q-1,1:q:n-q+1,1:q:n-q+1)\n", 
            "I = X+dX + (Y+dY-1)*n\n", 
            "blocks = lambda fw: reshape(fw(I(:)),size(I))"
          ], 
          "language": "python", 
          "outputs": []
        }, 
        {
          "cell_type": "markdown", 
          "metadata": {}, 
          "source": [
            "\n", 
            "\n", 
            "A function to reconstruct an image from blocks.\n", 
            ""
          ]
        }, 
        {
          "cell_type": "code", 
          "collapsed": false, 
          "input": [
            "linearize = lambda x: x(:)\n", 
            "unblock = lambda H: reshape( accumarray( I(:), linearize(H), [n*n 1], @min), [n n])"
          ], 
          "language": "python", 
          "outputs": []
        }, 
        {
          "cell_type": "markdown", 
          "metadata": {}, 
          "source": [
            "\n", 
            "\n", 
            "Compute the average energy of each block, and duplicate.\n", 
            ""
          ]
        }, 
        {
          "cell_type": "code", 
          "collapsed": false, 
          "input": [
            "energy = lambda H: mean(mean(abs(H).^2,1),2)\n", 
            "energy = lambda H: repmat( max3(energy(H),1e-15), [q q])"
          ], 
          "language": "python", 
          "outputs": []
        }, 
        {
          "cell_type": "markdown", 
          "metadata": {}, 
          "source": [
            "\n", 
            "\n", 
            "Threshold the blocks. We use here a Stein block thresholding.\n", 
            "All values within a block are atenuated by the same factor.\n", 
            ""
          ]
        }, 
        {
          "cell_type": "code", 
          "collapsed": false, 
          "input": [
            "S = lambda H,lambda: max(1-lambda^2 ./ energy(H),0) .* H"
          ], 
          "language": "python", 
          "outputs": []
        }, 
        {
          "cell_type": "markdown", 
          "metadata": {}, 
          "source": [
            "\n", 
            "\n", 
            "Block thresholding estimator $h_\\lambda(f)$.\n", 
            ""
          ]
        }, 
        {
          "cell_type": "code", 
          "collapsed": false, 
          "input": [
            "h = lambda f,lambda: Ws(unblock(S(blocks(W(f)),lambda) ) )"
          ], 
          "language": "python", 
          "outputs": []
        }, 
        {
          "cell_type": "markdown", 
          "metadata": {}, 
          "source": [
            "\n", 
            "\n", 
            "Example of block denoising.\n", 
            ""
          ]
        }, 
        {
          "cell_type": "code", 
          "collapsed": false, 
          "input": [
            "lambda = 1.1*sigma\n", 
            "\n", 
            "imageplot(clamp(h(f,lambda)))"
          ], 
          "language": "python", 
          "outputs": []
        }
      ]
    }
  ]
}