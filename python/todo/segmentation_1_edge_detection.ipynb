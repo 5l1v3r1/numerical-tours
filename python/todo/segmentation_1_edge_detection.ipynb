{
  "metadata": {
    "name": ""
  }, 
  "nbformat": 3, 
  "nbformat_minor": 0, 
  "worksheets": [
    {
      "cells": [
        {
          "cell_type": "heading", 
          "level": 1, 
          "metadata": {}, 
          "source": [
            "Edge Detection"
          ]
        }, 
        {
          "cell_type": "markdown", 
          "metadata": {}, 
          "source": [
            "This numerical tour explores local differential operators (grad, div, laplacian) and their use to\n", 
            "perform edge detection.\n", 
            ""
          ]
        }, 
        {
          "cell_type": "markdown", 
          "metadata": {}, 
          "source": [
            "*Important:* You need to download the file `nt_toolbox.py` from the \n", 
            "root of the github repository.\n", 
            "$\\newcommand{\\dotp}[2]{\\langle #1, #2 \\rangle}\n", 
            "\\newcommand{\\enscond}[2]{\\lbrace #1, #2 \\rbrace}\n", 
            "\\newcommand{\\pd}[2]{ \\frac{ \\partial #1}{\\partial #2} }\n", 
            "\\newcommand{\\umin}[1]{\\underset{#1}{\\min}\\;}\n", 
            "\\newcommand{\\norm}[1]{\\|#1\\|}\n", 
            "\\newcommand{\\abs}[1]{\\left|#1\\right|}\n", 
            "\\newcommand{\\choice}[1]{ \\left\\{  \\begin{array}{l} #1 \\end{array} \\right. }\n", 
            "\\newcommand{\\pa}[1]{\\left(#1\\right)}\n", 
            "\\newcommand{\\qandq}{\\quad\\text{and}\\quad}\n", 
            "\\newcommand{\\qwhereq}{\\quad\\text{where}\\quad}\n", 
            "\\newcommand{\\qifq}{ \\quad \\text{if} \\quad }\n", 
            "\\newcommand{\\qarrq}{ \\quad \\Longrightarrow \\quad }\n", 
            "\\newcommand{\\ZZ}{\\mathbb{Z}}\n", 
            "\\newcommand{\\RR}{\\mathbb{R}}\n", 
            "\\newcommand{\\Nn}{\\mathcal{N}}\n", 
            "\\newcommand{\\Hh}{\\mathcal{H}}\n", 
            "\\newcommand{\\Bb}{\\mathcal{B}}\n", 
            "\\newcommand{\\EE}{\\mathbb{E}}\n", 
            "\\newcommand{\\CC}{\\mathbb{C}}\n", 
            "\\newcommand{\\si}{\\sigma}\n", 
            "\\newcommand{\\al}{\\alpha}\n", 
            "\\newcommand{\\la}{\\lambda}\n", 
            "\\newcommand{\\ga}{\\gamma}\n", 
            "\\newcommand{\\Ga}{\\Gamma}\n", 
            "\\newcommand{\\La}{\\Lambda}\n", 
            "\\newcommand{\\si}{\\sigma}\n", 
            "\\newcommand{\\Si}{\\Sigma}\n", 
            "\\newcommand{\\be}{\\beta}\n", 
            "\\newcommand{\\de}{\\delta}\n", 
            "\\newcommand{\\De}{\\Delta}\n", 
            "\\renewcommand{\\phi}{\\varphi}\n", 
            "\\renewcommand{\\th}{\\theta}\n", 
            "\\newcommand{\\om}{\\omega}\n", 
            "\\newcommand{\\Om}{\\Omega}\n", 
            "$"
          ]
        }, 
        {
          "cell_type": "code", 
          "collapsed": false, 
          "input": [
            "from nt_toolbox import *", 
            "%matplotlib inline", 
            "%load_ext autoreload", 
            "%autoreload 2"
          ], 
          "language": "python", 
          "outputs": []
        }, 
        {
          "cell_type": "markdown", 
          "metadata": {}, 
          "source": [
            "\n", 
            ""
          ]
        }, 
        {
          "cell_type": "heading", 
          "level": 2, 
          "metadata": {}, 
          "source": [
            "Diffusion and Convolution\n"
          ]
        }, 
        {
          "cell_type": "markdown", 
          "metadata": {}, 
          "source": [
            "To obtain robust edge detection method, it is required to first remove\n", 
            "the noise and small scale features in the image. This can be achieved\n", 
            "using a linear blurring kernel.\n", 
            "\n", 
            "\n", 
            "Size of the image.\n", 
            ""
          ]
        }, 
        {
          "cell_type": "code", 
          "collapsed": false, 
          "input": [
            "n = 256*2"
          ], 
          "language": "python", 
          "outputs": []
        }, 
        {
          "cell_type": "markdown", 
          "metadata": {}, 
          "source": [
            "\n", 
            "\n", 
            "Load an image $f_0$ of $N=n \\times n$ pixels.\n", 
            ""
          ]
        }, 
        {
          "cell_type": "code", 
          "collapsed": false, 
          "input": [
            "f0 = load_image('hibiscus',n)\n", 
            "f0 = rescale(sum(f0,3))"
          ], 
          "language": "python", 
          "outputs": []
        }, 
        {
          "cell_type": "markdown", 
          "metadata": {}, 
          "source": [
            "\n", 
            "\n", 
            "Display it.\n", 
            ""
          ]
        }, 
        {
          "cell_type": "code", 
          "collapsed": false, 
          "input": [
            "\n", 
            "imageplot(f0)"
          ], 
          "language": "python", 
          "outputs": []
        }, 
        {
          "cell_type": "markdown", 
          "metadata": {}, 
          "source": [
            "\n", 
            "\n", 
            "Blurring is achieved using convolution:\n", 
            "$$ f \\star h(x) = \\sum_y f(y-x) h(x) $$\n", 
            "where we assume periodic boundary condition.\n", 
            "\n", 
            "\n", 
            "This can be computed in $O(N\\log(N))$ operations using the FFT, since\n", 
            "$$ g = f \\star h \\qarrq \\forall \\om, \\quad \\hat g(\\om) = \\hat f(\\om) \\hat h(\\om).  $$\n", 
            ""
          ]
        }, 
        {
          "cell_type": "code", 
          "collapsed": false, 
          "input": [
            "cconv = lambda f,h: real(ifft2(fft2(f).*fft2(h)))"
          ], 
          "language": "python", 
          "outputs": []
        }, 
        {
          "cell_type": "markdown", 
          "metadata": {}, 
          "source": [
            "\n", 
            "\n", 
            "Define a Gaussian blurring kernel of width $\\si$:\n", 
            "$$ h_\\si(x) = \\frac{1}{Z} e^{ -\\frac{x_1^2+x_2^2}{2\\si^2} }$$\n", 
            "where $Z$ ensure that $\\hat h(0)=1$.\n", 
            ""
          ]
        }, 
        {
          "cell_type": "code", 
          "collapsed": false, 
          "input": [
            "t = [0:n/2 -n/2+1:-1]\n", 
            "[X2,X1] = meshgrid(t,t)\n", 
            "normalize = lambda h: h/sum(h(:))\n", 
            "h = lambda sigma: normalize( exp( -(X1.^2+X2.^2)/(2*sigma^2) ) )"
          ], 
          "language": "python", 
          "outputs": []
        }, 
        {
          "cell_type": "markdown", 
          "metadata": {}, 
          "source": [
            "\n", 
            "\n", 
            "Define blurring operator.\n", 
            ""
          ]
        }, 
        {
          "cell_type": "code", 
          "collapsed": false, 
          "input": [
            "blur = lambda f,sigma: cconv(f,h(sigma))"
          ], 
          "language": "python", 
          "outputs": []
        }, 
        {
          "cell_type": "heading", 
          "level": 3, 
          "metadata": {}, 
          "source": [
            "Exercise 1"
          ]
        }, 
        {
          "cell_type": "markdown", 
          "metadata": {}, 
          "source": [
            "\n", 
            "Test blurring with several blurring size $\\si$.\n", 
            "\n", 
            "\n", 
            "\n", 
            "\n", 
            "\n", 
            ""
          ]
        }, 
        {
          "cell_type": "code", 
          "collapsed": false, 
          "input": [
            "## Insert your code here."
          ], 
          "language": "python", 
          "outputs": []
        }, 
        {
          "cell_type": "markdown", 
          "metadata": {}, 
          "source": [
            "\n", 
            "\n", 
            ""
          ]
        }, 
        {
          "cell_type": "heading", 
          "level": 2, 
          "metadata": {}, 
          "source": [
            "Gradient Based Edge Detectiors\n"
          ]
        }, 
        {
          "cell_type": "markdown", 
          "metadata": {}, 
          "source": [
            "The simplest edge detectors only make use of the first order derivatives.\n", 
            "\n", 
            "\n", 
            "For continuous functions, the gradient reads\n", 
            "$$ \\nabla f(x) = \\pa{ \\pd{f(x)}{x_1}, \\pd{f(x)}{x_2} } \\in \\RR^2. $$\n", 
            "\n", 
            "\n", 
            "We discretize this differential operator using first order finite\n", 
            "differences.\n", 
            "$$ (\\nabla f)_i = ( f_{i_1,i_2}-f_{i_1-1,i_2}, f_{i_1,i_2}-f_{i_1,i_2-1} ) \\in \\RR^2. $$\n", 
            "Note that for simplity we use periodic boundary conditions.\n", 
            "\n", 
            "\n", 
            "Compute its gradient, using (here decentered) finite differences.\n", 
            ""
          ]
        }, 
        {
          "cell_type": "code", 
          "collapsed": false, 
          "input": [
            "s = [n 1:n-1]\n", 
            "nabla = lambda f: cat(3, f-f(s,:), f-f(:,s))"
          ], 
          "language": "python", 
          "outputs": []
        }, 
        {
          "cell_type": "markdown", 
          "metadata": {}, 
          "source": [
            "\n", 
            "\n", 
            "One thus has $ \\nabla : \\RR^N \\mapsto \\RR^{N \\times 2}. $\n", 
            ""
          ]
        }, 
        {
          "cell_type": "code", 
          "collapsed": false, 
          "input": [
            "v = nabla(f0)"
          ], 
          "language": "python", 
          "outputs": []
        }, 
        {
          "cell_type": "markdown", 
          "metadata": {}, 
          "source": [
            "\n", 
            "\n", 
            "One can display each of its components.\n", 
            ""
          ]
        }, 
        {
          "cell_type": "code", 
          "collapsed": false, 
          "input": [
            "\n", 
            "imageplot(v(:,:,1), 'd/dx', 1,2,1)\n", 
            "imageplot(v(:,:,2), 'd/dy', 1,2,2)"
          ], 
          "language": "python", 
          "outputs": []
        }, 
        {
          "cell_type": "markdown", 
          "metadata": {}, 
          "source": [
            "\n", 
            "\n", 
            "\n", 
            "A simple edge detector is simply obtained by obtained the gradient\n", 
            "magnitude of a smoothed image.\n", 
            "\n", 
            "\n", 
            "\n", 
            "A very simple edge detector is obtained by simply thresholding the\n", 
            "gradient magnitude above some $t>0$. The set $\\Ee$ of edges is then\n", 
            "$$ \\Ee = \\enscond{x}{ d_\\si(x) \\geq t  } $$\n", 
            "where we have defined\n", 
            "$$ d_\\si(x) = \\norm{\\nabla f_\\si(x)}, \\qwhereq f_\\si = f_0 \\star h_\\si. $$\n", 
            "\n", 
            "\n", 
            "Compute $d_\\si$ for $\\si=1$.\n", 
            ""
          ]
        }, 
        {
          "cell_type": "code", 
          "collapsed": false, 
          "input": [
            "sigma = 1\n", 
            "d = sqrt( sum(nabla(  blur(f0,sigma)  ).^2,3) )"
          ], 
          "language": "python", 
          "outputs": []
        }, 
        {
          "cell_type": "markdown", 
          "metadata": {}, 
          "source": [
            "\n", 
            "\n", 
            "Display it.\n", 
            ""
          ]
        }, 
        {
          "cell_type": "code", 
          "collapsed": false, 
          "input": [
            "\n", 
            "imageplot(d)"
          ], 
          "language": "python", 
          "outputs": []
        }, 
        {
          "cell_type": "heading", 
          "level": 3, 
          "metadata": {}, 
          "source": [
            "Exercise 2"
          ]
        }, 
        {
          "cell_type": "markdown", 
          "metadata": {}, 
          "source": [
            "\n", 
            "For $\\si=1$, study the influence of the threshold value $t$.\n", 
            "\n", 
            "\n", 
            "\n", 
            "\n", 
            "\n", 
            ""
          ]
        }, 
        {
          "cell_type": "code", 
          "collapsed": false, 
          "input": [
            "## Insert your code here."
          ], 
          "language": "python", 
          "outputs": []
        }, 
        {
          "cell_type": "markdown", 
          "metadata": {}, 
          "source": [
            "\n", 
            ""
          ]
        }, 
        {
          "cell_type": "heading", 
          "level": 3, 
          "metadata": {}, 
          "source": [
            "Exercise 3"
          ]
        }, 
        {
          "cell_type": "markdown", 
          "metadata": {}, 
          "source": [
            "\n", 
            "Study the influence of $\\si$.\n", 
            "\n", 
            "\n", 
            "\n", 
            "\n", 
            "\n", 
            "\n", 
            "\n", 
            ""
          ]
        }, 
        {
          "cell_type": "code", 
          "collapsed": false, 
          "input": [
            "## Insert your code here."
          ], 
          "language": "python", 
          "outputs": []
        }, 
        {
          "cell_type": "markdown", 
          "metadata": {}, 
          "source": [
            "\n", 
            "\n", 
            ""
          ]
        }, 
        {
          "cell_type": "heading", 
          "level": 2, 
          "metadata": {}, 
          "source": [
            "Zero-crossing of the Laplacian\n"
          ]
        }, 
        {
          "cell_type": "markdown", 
          "metadata": {}, 
          "source": [
            "Defining a Laplacian requires to define a divergence operator.\n", 
            "The divergence operator maps vector field to images.\n", 
            "For continuous vector fields $v(x) \\in \\RR^2$, it is defined as\n", 
            "$$ \\text{div}(v)(x) = \\pd{v_1(x)}{x_1} +  \\pd{v_2(x)}{x_2} \\in \\RR. $$\n", 
            "It is minus the adjoint of the gadient, i.e. $\\text{div} = - \\nabla^*$.\n", 
            "\n", 
            "\n", 
            "It is discretized, for $v=(v^1,v^2)$ as\n", 
            "$$ \\text{div}(v)_i = v^1_{i_1+1,i_2} + v^2_{i_1,i_2+1}. $$\n", 
            ""
          ]
        }, 
        {
          "cell_type": "code", 
          "collapsed": false, 
          "input": [
            "t = [2:n 1]\n", 
            "div = lambda v: v(t,:,1)-v(:,:,1) + v(:,t,2)-v(:,:,2)"
          ], 
          "language": "python", 
          "outputs": []
        }, 
        {
          "cell_type": "markdown", 
          "metadata": {}, 
          "source": [
            "\n", 
            "\n", 
            "The Laplacian operatore is defined as $\\Delta=\\text{div} \\circ  \\nabla =\n", 
            "-\\nabla^* \\circ \\nabla$. It is thus a negative symmetric operator.\n", 
            ""
          ]
        }, 
        {
          "cell_type": "code", 
          "collapsed": false, 
          "input": [
            "delta = lambda f: div(nabla(f))"
          ], 
          "language": "python", 
          "outputs": []
        }, 
        {
          "cell_type": "markdown", 
          "metadata": {}, 
          "source": [
            "\n", 
            "\n", 
            "Display $\\Delta f_0$.\n", 
            ""
          ]
        }, 
        {
          "cell_type": "code", 
          "collapsed": false, 
          "input": [
            "\n", 
            "imageplot(delta(f0))"
          ], 
          "language": "python", 
          "outputs": []
        }, 
        {
          "cell_type": "markdown", 
          "metadata": {}, 
          "source": [
            "\n", 
            "\n", 
            "\n", 
            "Check that the relation $ \\norm{\\nabla f} = - \\dotp{\\Delta f}{f}.  $\n", 
            ""
          ]
        }, 
        {
          "cell_type": "code", 
          "collapsed": false, 
          "input": [
            "dotp = lambda a,b: sum(a(:).*b(:))\n", 
            "fprintf('Should be 0: %.3i\\n', dotp(nabla(f0), nabla(f0)) + dotp(delta(f0),f0) )"
          ], 
          "language": "python", 
          "outputs": []
        }, 
        {
          "cell_type": "markdown", 
          "metadata": {}, 
          "source": [
            "\n", 
            "\n", 
            "The zero crossing of the Laplacian is a well known edge detector.\n", 
            "This requires first blurring the image (which is equivalent to blurring\n", 
            "the laplacian). The set $\\Ee$ of edges is defined as:\n", 
            "$$ \\Ee = \\enscond{x}{ \\Delta f_\\si(x) = 0  }\n", 
            "      \\qwhereq f_\\si = f_0 \\star h_\\si . $$\n", 
            "\n", 
            "\n", 
            "It was proposed by Marr and Hildreth:\n", 
            "\n", 
            "\n", 
            "Marr, D. and Hildreth, E.,\n", 
            "_Theory of edge detection,_\n", 
            "In Proc. of the Royal Society London B, 207:187-217, 1980.\n", 
            "\n", 
            "\n", 
            "Display the zero crossing.\n", 
            ""
          ]
        }, 
        {
          "cell_type": "code", 
          "collapsed": false, 
          "input": [
            "sigma = 4\n", 
            "\n", 
            "plot_levelset( delta(blur(f0,sigma)) ,0,f0)"
          ], 
          "language": "python", 
          "outputs": []
        }, 
        {
          "cell_type": "markdown", 
          "metadata": {}, 
          "source": [
            "\n", 
            ""
          ]
        }, 
        {
          "cell_type": "heading", 
          "level": 3, 
          "metadata": {}, 
          "source": [
            "Exercise 4"
          ]
        }, 
        {
          "cell_type": "markdown", 
          "metadata": {}, 
          "source": [
            "\n", 
            "Study the influence of $\\si$.\n", 
            "\n", 
            "\n", 
            "\n", 
            "\n", 
            "\n", 
            "\n", 
            "\n", 
            ""
          ]
        }, 
        {
          "cell_type": "code", 
          "collapsed": false, 
          "input": [
            "## Insert your code here."
          ], 
          "language": "python", 
          "outputs": []
        }, 
        {
          "cell_type": "markdown", 
          "metadata": {}, 
          "source": [
            "\n", 
            ""
          ]
        }, 
        {
          "cell_type": "heading", 
          "level": 2, 
          "metadata": {}, 
          "source": [
            "Hessian Based Edge Detectors\n"
          ]
        }, 
        {
          "cell_type": "markdown", 
          "metadata": {}, 
          "source": [
            "Zero-crossing of the Laplacian can be shown to\n", 
            "return false edges corresponding to local minima\n", 
            "of the gradient magnitude. Moreover, this operator gives poor localization at curved edges.\n", 
            "\n", 
            "\n", 
            "In order to improve over this basic detector,\n", 
            "more advanced edge detectors make use of the second order derivatives.\n", 
            "Several authors have advocated for this choice, in particular:\n", 
            "\n", 
            "\n", 
            "Haralick, R.,\n", 
            "_Digital step edges from zero crossing of second directional derivatives,_\n", 
            "IEEE Trans. on Pattern Analysis and Machine Intelligence, 6(1):58-68, 1984.\n", 
            "\n", 
            "\n", 
            "Canny, J.,\n", 
            "_A computational approach to edge detection,_\n", 
            "IEEE Trans. on PAMI, 8(6):679-698, 1986\n", 
            "\n", 
            "\n", 
            "Deriche, R.,\n", 
            "_Using Canny's criteria to derive a recursively implemented optimal edge detector_.\n", 
            "International Journal of Computer Vision, 1:167-187, 1987.\n", 
            "\n", 
            "\n", 
            "They define the edge locations $\\Ee$ as the zero-crossings of the second-order\n", 
            "directional derivative in the gradient direction.\n", 
            "$$ \\Ee = \\enscond{x}{  \\dotp{ H(x) \\times g_\\si(x) }{ g_\\si(x) } = 0 }\n", 
            "      \\qwhereq g_\\si = \\nabla ( f_0 \\star h_\\si )   $$\n", 
            "where $\\times$ is the matrix-vector multiplication.\n", 
            "\n", 
            "\n", 
            "Define centered first order derivatives.\n", 
            ""
          ]
        }, 
        {
          "cell_type": "code", 
          "collapsed": false, 
          "input": [
            "dx = lambda f: (f(s,:)-f(t,:)) / 2\n", 
            "dy = lambda f: dx(f')'"
          ], 
          "language": "python", 
          "outputs": []
        }, 
        {
          "cell_type": "markdown", 
          "metadata": {}, 
          "source": [
            "\n", 
            "\n", 
            "Define second order derivatives.\n", 
            ""
          ]
        }, 
        {
          "cell_type": "code", 
          "collapsed": false, 
          "input": [
            "s = [2:n 1]; t = [n 1:n-1]\n", 
            "d2x = lambda f: f(s,:) + f(t,:) - 2*f\n", 
            "d2y = lambda f: d2x(f')'\n", 
            "dxy = lambda f: dy(dx(f))"
          ], 
          "language": "python", 
          "outputs": []
        }, 
        {
          "cell_type": "markdown", 
          "metadata": {}, 
          "source": [
            "\n", 
            "\n", 
            "Define Hessian operator.\n", 
            ""
          ]
        }, 
        {
          "cell_type": "code", 
          "collapsed": false, 
          "input": [
            "hessian = lambda f: cat(3, d2x(f), dxy(f), d2y(f))"
          ], 
          "language": "python", 
          "outputs": []
        }, 
        {
          "cell_type": "markdown", 
          "metadata": {}, 
          "source": [
            "\n", 
            "\n", 
            "Compute $g_\\si = \\nabla (f_0 \\star h_\\si). $\n", 
            ""
          ]
        }, 
        {
          "cell_type": "code", 
          "collapsed": false, 
          "input": [
            "sigma = 6\n", 
            "g = grad( blur(f0,sigma) )"
          ], 
          "language": "python", 
          "outputs": []
        }, 
        {
          "cell_type": "markdown", 
          "metadata": {}, 
          "source": [
            "\n", 
            "\n", 
            "Compute $h_\\si = H (f_0 \\star h_\\si). $\n", 
            ""
          ]
        }, 
        {
          "cell_type": "code", 
          "collapsed": false, 
          "input": [
            "h = hessian( blur(f0,sigma) )"
          ], 
          "language": "python", 
          "outputs": []
        }, 
        {
          "cell_type": "markdown", 
          "metadata": {}, 
          "source": [
            "\n", 
            "\n", 
            "Compute $ a_\\si(x) = h_\\si(x) \\times g_\\si (x) $\n", 
            "(this is a matrix times vector operation).\n", 
            ""
          ]
        }, 
        {
          "cell_type": "code", 
          "collapsed": false, 
          "input": [
            "a = h(:,:,1:2).*repmat(g(:,:,1), [1 1 2]) + ...\n", 
            "    h(:,:,2:3).*repmat(g(:,:,2), [1 1 2])"
          ], 
          "language": "python", 
          "outputs": []
        }, 
        {
          "cell_type": "markdown", 
          "metadata": {}, 
          "source": [
            "\n", 
            "\n", 
            "Display the level set of $\\dotp{a_\\si(x)}{g_\\si(x)}$.\n", 
            ""
          ]
        }, 
        {
          "cell_type": "code", 
          "collapsed": false, 
          "input": [
            "\n", 
            "plot_levelset( sum(a.*g, 3) ,0,f0)"
          ], 
          "language": "python", 
          "outputs": []
        }, 
        {
          "cell_type": "heading", 
          "level": 3, 
          "metadata": {}, 
          "source": [
            "Exercise 5"
          ]
        }, 
        {
          "cell_type": "markdown", 
          "metadata": {}, 
          "source": [
            "\n", 
            "Study the influence of $\\si$.\n", 
            "\n", 
            "\n", 
            "\n", 
            "\n", 
            "\n", 
            "\n", 
            "\n", 
            "\n", 
            "\n", 
            "\n", 
            "\n", 
            "\n", 
            "\n", 
            ""
          ]
        }, 
        {
          "cell_type": "code", 
          "collapsed": false, 
          "input": [
            "## Insert your code here."
          ], 
          "language": "python", 
          "outputs": []
        }
      ]
    }
  ]
}