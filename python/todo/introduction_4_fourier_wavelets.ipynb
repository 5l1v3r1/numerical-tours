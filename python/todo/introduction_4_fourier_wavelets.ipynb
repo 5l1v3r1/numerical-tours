{
  "metadata": {
    "name": ""
  }, 
  "nbformat": 3, 
  "nbformat_minor": 0, 
  "worksheets": [
    {
      "cells": [
        {
          "cell_type": "heading", 
          "level": 1, 
          "metadata": {}, 
          "source": [
            "Image Approximation with Fourier and Wavelets"
          ]
        }, 
        {
          "cell_type": "markdown", 
          "metadata": {}, 
          "source": [
            "This numerical tour overviews the use of Fourier and wavelets for image\n", 
            "approximation.\n", 
            ""
          ]
        }, 
        {
          "cell_type": "markdown", 
          "metadata": {}, 
          "source": [
            "*Important:* You need to download the file `nt_toolbox.py` from the \n", 
            "root of the github repository.\n", 
            "$\\newcommand{\\dotp}[2]{\\langle #1, #2 \\rangle}\n", 
            "\\newcommand{\\enscond}[2]{\\lbrace #1, #2 \\rbrace}\n", 
            "\\newcommand{\\pd}[2]{ \\frac{ \\partial #1}{\\partial #2} }\n", 
            "\\newcommand{\\umin}[1]{\\underset{#1}{\\min}\\;}\n", 
            "\\newcommand{\\norm}[1]{\\|#1\\|}\n", 
            "\\newcommand{\\abs}[1]{\\left|#1\\right|}\n", 
            "\\newcommand{\\choice}[1]{ \\left\\{  \\begin{array}{l} #1 \\end{array} \\right. }\n", 
            "\\newcommand{\\pa}[1]{\\left(#1\\right)}\n", 
            "\\newcommand{\\qandq}{\\quad\\text{and}\\quad}\n", 
            "\\newcommand{\\qwhereq}{\\quad\\text{where}\\quad}\n", 
            "\\newcommand{\\qifq}{ \\quad \\text{if} \\quad }\n", 
            "\\newcommand{\\qarrq}{ \\quad \\Longrightarrow \\quad }\n", 
            "\\newcommand{\\ZZ}{\\mathbb{Z}}\n", 
            "\\newcommand{\\RR}{\\mathbb{R}}\n", 
            "\\newcommand{\\Nn}{\\mathcal{N}}\n", 
            "\\newcommand{\\Hh}{\\mathcal{H}}\n", 
            "\\newcommand{\\Bb}{\\mathcal{B}}\n", 
            "\\newcommand{\\EE}{\\mathbb{E}}\n", 
            "\\newcommand{\\CC}{\\mathbb{C}}\n", 
            "\\newcommand{\\si}{\\sigma}\n", 
            "\\newcommand{\\al}{\\alpha}\n", 
            "\\newcommand{\\la}{\\lambda}\n", 
            "\\newcommand{\\ga}{\\gamma}\n", 
            "\\newcommand{\\Ga}{\\Gamma}\n", 
            "\\newcommand{\\La}{\\Lambda}\n", 
            "\\newcommand{\\si}{\\sigma}\n", 
            "\\newcommand{\\Si}{\\Sigma}\n", 
            "\\newcommand{\\be}{\\beta}\n", 
            "\\newcommand{\\de}{\\delta}\n", 
            "\\newcommand{\\De}{\\Delta}\n", 
            "\\renewcommand{\\phi}{\\varphi}\n", 
            "\\renewcommand{\\th}{\\theta}\n", 
            "\\newcommand{\\om}{\\omega}\n", 
            "\\newcommand{\\Om}{\\Omega}\n", 
            "$"
          ]
        }, 
        {
          "cell_type": "code", 
          "collapsed": false, 
          "input": [
            "from nt_toolbox import *", 
            "%matplotlib inline", 
            "%load_ext autoreload", 
            "%autoreload 2"
          ], 
          "language": "python", 
          "outputs": []
        }, 
        {
          "cell_type": "markdown", 
          "metadata": {}, 
          "source": [
            "\n", 
            "\n", 
            "*Note:* to measure the error of an image $f$ with its\n", 
            "approximation $f_M$, we use the SNR measure, defined as\n", 
            "$$ \\text{SNR}(f,f_M) = -20\\log_{10} \\pa{ \\frac{ \\norm{f-f_M} }{ \\norm{f} } },  $$\n", 
            "which is a quantity expressed in decibels (dB).\n", 
            "The higer the SNR, the better the quality.\n", 
            ""
          ]
        }, 
        {
          "cell_type": "heading", 
          "level": 2, 
          "metadata": {}, 
          "source": [
            "Image Loading and Displaying\n"
          ]
        }, 
        {
          "cell_type": "markdown", 
          "metadata": {}, 
          "source": [
            "\n", 
            "\n", 
            "First we load an image $ f \\in \\RR^N $ of $ N = N_0 \\times N_0 $ pixels.\n", 
            ""
          ]
        }, 
        {
          "cell_type": "code", 
          "collapsed": false, 
          "input": [
            "name = 'lena'\n", 
            "n0 = 512\n", 
            "f = rescale( load_image(name,n0) )"
          ], 
          "language": "python", 
          "outputs": []
        }, 
        {
          "cell_type": "markdown", 
          "metadata": {}, 
          "source": [
            "\n", 
            "\n", 
            "Display the original image.\n", 
            ""
          ]
        }, 
        {
          "cell_type": "code", 
          "collapsed": false, 
          "input": [
            "\n", 
            "imageplot( f, 'Image f')"
          ], 
          "language": "python", 
          "outputs": []
        }, 
        {
          "cell_type": "markdown", 
          "metadata": {}, 
          "source": [
            "\n", 
            "\n", 
            "Display a zoom in the middle.\n", 
            ""
          ]
        }, 
        {
          "cell_type": "code", 
          "collapsed": false, 
          "input": [
            "\n", 
            "imageplot( crop(f,64), 'Zoom' )"
          ], 
          "language": "python", 
          "outputs": []
        }, 
        {
          "cell_type": "markdown", 
          "metadata": {}, 
          "source": [
            "\n", 
            "\n", 
            "\n", 
            "An image is a 2D array, that can be modified as a matrix.\n", 
            ""
          ]
        }, 
        {
          "cell_type": "code", 
          "collapsed": false, 
          "input": [
            "\n", 
            "imageplot(-f, '-f', 1,2,1)\n", 
            "imageplot(f(n0:-1:1,:), 'Flipped', 1,2,2)"
          ], 
          "language": "python", 
          "outputs": []
        }, 
        {
          "cell_type": "markdown", 
          "metadata": {}, 
          "source": [
            "\n", 
            "\n", 
            "\n", 
            "Blurring is achieved by computing a convolution $f \\star h$ with a kernel $h$.\n", 
            "\n", 
            "\n", 
            "Compute the low pass kernel.\n", 
            ""
          ]
        }, 
        {
          "cell_type": "code", 
          "collapsed": false, 
          "input": [
            "k = 9; % size of the kernel\n", 
            "h = ones(k,k)\n", 
            "h = h/sum(h(:)); % normalize\n"
          ], 
          "language": "python", 
          "outputs": []
        }, 
        {
          "cell_type": "markdown", 
          "metadata": {}, 
          "source": [
            "\n", 
            "\n", 
            "Compute the convolution $f \\star h$.\n", 
            ""
          ]
        }, 
        {
          "cell_type": "code", 
          "collapsed": false, 
          "input": [
            "fh = perform_convolution(f,h)"
          ], 
          "language": "python", 
          "outputs": []
        }, 
        {
          "cell_type": "markdown", 
          "metadata": {}, 
          "source": [
            "\n", 
            "\n", 
            "Display.\n", 
            ""
          ]
        }, 
        {
          "cell_type": "code", 
          "collapsed": false, 
          "input": [
            "\n", 
            "imageplot(fh, 'Blurred image')"
          ], 
          "language": "python", 
          "outputs": []
        }, 
        {
          "cell_type": "markdown", 
          "metadata": {}, 
          "source": [
            "\n", 
            ""
          ]
        }, 
        {
          "cell_type": "heading", 
          "level": 2, 
          "metadata": {}, 
          "source": [
            "Fourier Transform\n"
          ]
        }, 
        {
          "cell_type": "markdown", 
          "metadata": {}, 
          "source": [
            "The Fourier orthonormal basis is defined as\n", 
            "$$ \\psi_m(k) = \\frac{1}{\\sqrt{N}}e^{\\frac{2i\\pi}{N_0} \\dotp{m}{k} } $$\n", 
            "where $0 \\leq k_1,k_2 < N_0$ are position indexes,\n", 
            "and $0 \\leq m_1,m_2 < N_0$ are frequency indexes.\n", 
            "\n", 
            "\n", 
            "The Fourier transform $\\hat f$ is the projection of the image on this Fourier\n", 
            "basis\n", 
            "$$ \\hat f(m) = \\dotp{f}{\\psi_m}. $$\n", 
            "\n", 
            "\n", 
            "The Fourier transform is computed in $ O(N \\log(N)) $ operation using the FFT algorithm\n", 
            "(Fast Fourier Transform).\n", 
            "Note the normalization by $\\sqrt{N}=N_0$ to make the transform orthonormal.\n", 
            ""
          ]
        }, 
        {
          "cell_type": "code", 
          "collapsed": false, 
          "input": [
            "F = fft2(f) / n0"
          ], 
          "language": "python", 
          "outputs": []
        }, 
        {
          "cell_type": "markdown", 
          "metadata": {}, 
          "source": [
            "\n", 
            "\n", 
            "We check this conservation of the energy.\n", 
            ""
          ]
        }, 
        {
          "cell_type": "code", 
          "collapsed": false, 
          "input": [
            "disp(strcat(['Energy of Image:   ' num2str(norm(f(:)))]))\n", 
            "disp(strcat(['Energy of Fourier: ' num2str(norm(F(:)))]))"
          ], 
          "language": "python", 
          "outputs": []
        }, 
        {
          "cell_type": "markdown", 
          "metadata": {}, 
          "source": [
            "\n", 
            "\n", 
            "Compute the logarithm of the Fourier magnitude $ \\log(\\abs{\\hat f(m)} +\n", 
            "\\epsilon) $, for some small $\\epsilon$.\n", 
            ""
          ]
        }, 
        {
          "cell_type": "code", 
          "collapsed": false, 
          "input": [
            "L = fftshift(log( abs(F)+1e-1 ))"
          ], 
          "language": "python", 
          "outputs": []
        }, 
        {
          "cell_type": "markdown", 
          "metadata": {}, 
          "source": [
            "\n", 
            "\n", 
            "Display. Note that we use the function |fftshift| is useful to put the 0 low frequency in the\n", 
            "middle.\n", 
            ""
          ]
        }, 
        {
          "cell_type": "code", 
          "collapsed": false, 
          "input": [
            "\n", 
            "imageplot(L, 'Log(Fourier transform)')"
          ], 
          "language": "python", 
          "outputs": []
        }, 
        {
          "cell_type": "heading", 
          "level": 2, 
          "metadata": {}, 
          "source": [
            "Linear Fourier Approximation\n"
          ]
        }, 
        {
          "cell_type": "markdown", 
          "metadata": {}, 
          "source": [
            "An approximation is obtained by retaining a certain set of index $I_M$\n", 
            "$$ f_M = \\sum_{ m \\in I_M } \\dotp{f}{\\psi_m} \\psi_m. $$\n", 
            "\n", 
            "\n", 
            "Linear approximation is obtained by retaining a *fixed* set $I_M$\n", 
            "of $M = \\abs{I_M}$ coefficients. The important point is that $I_M$\n", 
            "does not depend on the image $f$ to be approximated.\n", 
            "\n", 
            "\n", 
            "For the Fourier transform, a low pass linear approximation\n", 
            "is obtained by keeping only the frequencies within a square.\n", 
            "$$ I_M = \\enscond{m=(m_1,m_2)}{ -q/2 \\leq m_1,m_2 < q/2 } $$\n", 
            "where $ q = \\sqrt{M} $.\n", 
            "\n", 
            "\n", 
            "This can be achieved by computing the Fourier transform,\n", 
            "setting to zero the $N-M$ coefficients outside the square $I_M$\n", 
            "and then inverting the Fourier transform.\n", 
            "\n", 
            "\n", 
            "Number $M$ of kept coefficients.\n", 
            ""
          ]
        }, 
        {
          "cell_type": "code", 
          "collapsed": false, 
          "input": [
            "M = n0^2/64"
          ], 
          "language": "python", 
          "outputs": []
        }, 
        {
          "cell_type": "heading", 
          "level": 3, 
          "metadata": {}, 
          "source": [
            "Exercise 1"
          ]
        }, 
        {
          "cell_type": "markdown", 
          "metadata": {}, 
          "source": [
            "\n", 
            "Perform the linear Fourier approximation with $M$ coefficients.\n", 
            "Store the result in the variable |fM|.\n", 
            "\n", 
            "\n", 
            "\n", 
            "\n", 
            "\n", 
            "\n", 
            "display\n", 
            "\n", 
            ""
          ]
        }, 
        {
          "cell_type": "code", 
          "collapsed": false, 
          "input": [
            "## Insert your code here."
          ], 
          "language": "python", 
          "outputs": []
        }, 
        {
          "cell_type": "markdown", 
          "metadata": {}, 
          "source": [
            "\n", 
            "\n", 
            "\n", 
            "Compare two 1D profile (lines of the image).\n", 
            "This shows the strong ringing artifact of the linea approximation.\n", 
            ""
          ]
        }, 
        {
          "cell_type": "code", 
          "collapsed": false, 
          "input": [
            "\n", 
            "subplot(2,1,1)\n", 
            "plot(f(:,n0/2))\n", 
            "axis('tight'); title('f')\n", 
            "subplot(2,1,2)\n", 
            "plot(fM(:,n0/2))\n", 
            "axis('tight'); title('f_M')"
          ], 
          "language": "python", 
          "outputs": []
        }, 
        {
          "cell_type": "heading", 
          "level": 2, 
          "metadata": {}, 
          "source": [
            "Non-linear Fourier Approximation\n"
          ]
        }, 
        {
          "cell_type": "markdown", 
          "metadata": {}, 
          "source": [
            "Non-linear approximation is obtained by keeping the $M$ largest\n", 
            "coefficients. This is equivalently computed using a thresholding of the\n", 
            "coefficients\n", 
            "$$ I_M = \\enscond{m}{ \\abs{\\dotp{f}{\\psi_m}}>T }. $$\n", 
            "\n", 
            "\n", 
            "Set a threshold $T>0$.\n", 
            ""
          ]
        }, 
        {
          "cell_type": "code", 
          "collapsed": false, 
          "input": [
            "T = .2"
          ], 
          "language": "python", 
          "outputs": []
        }, 
        {
          "cell_type": "markdown", 
          "metadata": {}, 
          "source": [
            "\n", 
            "\n", 
            "Compute the Fourier transform.\n", 
            ""
          ]
        }, 
        {
          "cell_type": "code", 
          "collapsed": false, 
          "input": [
            "F = fft2(f) / n0"
          ], 
          "language": "python", 
          "outputs": []
        }, 
        {
          "cell_type": "markdown", 
          "metadata": {}, 
          "source": [
            "\n", 
            "\n", 
            "Do the hard thresholding.\n", 
            ""
          ]
        }, 
        {
          "cell_type": "code", 
          "collapsed": false, 
          "input": [
            "FT = F .* (abs(F)>T)"
          ], 
          "language": "python", 
          "outputs": []
        }, 
        {
          "cell_type": "markdown", 
          "metadata": {}, 
          "source": [
            "\n", 
            "\n", 
            "Display. Note that we use the function |fftshift| is useful to put the 0 low frequency in the\n", 
            "middle.\n", 
            ""
          ]
        }, 
        {
          "cell_type": "code", 
          "collapsed": false, 
          "input": [
            "\n", 
            "L = fftshift(log( abs(FT)+1e-1 ))\n", 
            "imageplot(L, 'thresholded Log(Fourier transform)')"
          ], 
          "language": "python", 
          "outputs": []
        }, 
        {
          "cell_type": "markdown", 
          "metadata": {}, 
          "source": [
            "\n", 
            "\n", 
            "Inverse Fourier transform to obtained $f_M$\n", 
            ""
          ]
        }, 
        {
          "cell_type": "code", 
          "collapsed": false, 
          "input": [
            "fM = real( ifft2(FT)*n0 )"
          ], 
          "language": "python", 
          "outputs": []
        }, 
        {
          "cell_type": "markdown", 
          "metadata": {}, 
          "source": [
            "\n", 
            "\n", 
            "Display.\n", 
            ""
          ]
        }, 
        {
          "cell_type": "code", 
          "collapsed": false, 
          "input": [
            "\n", 
            "imageplot(clamp(fM), ['Non-linear, Fourier, SNR=' num2str(snr(f,fM), 4) 'dB'])"
          ], 
          "language": "python", 
          "outputs": []
        }, 
        {
          "cell_type": "markdown", 
          "metadata": {}, 
          "source": [
            "\n", 
            "\n", 
            "Given a $T$, the number of coefficients is obtained by counting the\n", 
            "non thresholded coefficients $ \\abs{I_M} $.\n", 
            ""
          ]
        }, 
        {
          "cell_type": "code", 
          "collapsed": false, 
          "input": [
            "m = sum(FT(:)~=0)\n", 
            "disp(['M/N = 1/'  num2str(round(n0^2/m)) '.'])"
          ], 
          "language": "python", 
          "outputs": []
        }, 
        {
          "cell_type": "heading", 
          "level": 3, 
          "metadata": {}, 
          "source": [
            "Exercise 2"
          ]
        }, 
        {
          "cell_type": "markdown", 
          "metadata": {}, 
          "source": [
            "\n", 
            "Compute the value of the threshold $T$ so that the number of\n", 
            "coefficients is $M$. Display the corresponding approximation\n", 
            "$f_M$.\n", 
            "\n", 
            "\n", 
            "\n", 
            "\n", 
            "\n", 
            "\n", 
            "\n", 
            "\n", 
            "display\n", 
            "\n", 
            ""
          ]
        }, 
        {
          "cell_type": "code", 
          "collapsed": false, 
          "input": [
            "## Insert your code here."
          ], 
          "language": "python", 
          "outputs": []
        }, 
        {
          "cell_type": "markdown", 
          "metadata": {}, 
          "source": [
            "\n", 
            ""
          ]
        }, 
        {
          "cell_type": "heading", 
          "level": 2, 
          "metadata": {}, 
          "source": [
            "Wavelet Transform\n"
          ]
        }, 
        {
          "cell_type": "markdown", 
          "metadata": {}, 
          "source": [
            "A wavelet basis $ \\Bb = \\{ \\psi_m \\}_m $\n", 
            "is obtained over the continuous domain by translating an\n", 
            "dilating three mother wavelet functions $ \\{\\psi^V,\\psi^H,\\psi^D\\} $.\n", 
            "\n", 
            "\n", 
            "Each wavelet atom is defined as\n", 
            "$$ \\psi_m(x) = \\psi_{j,n}^k(x) = \\frac{1}{2^j}\\psi^k\\pa{ \\frac{x-2^j n}{2^j} }.  $$\n", 
            "The scale (size of the support) is $2^j$ and the position is\n", 
            "$2^j(n_1,n_2)$. The index is $ m=(k,j,n) $ for \\{ j \\leq 0 \\}.\n", 
            "\n", 
            "\n", 
            "The wavelet transform computes all the inner products\n", 
            "$ \\{ \\dotp{f}{\\psi_{j,n}^k} \\}_{k,j,n} $.\n", 
            "\n", 
            "\n", 
            "Set the minimum scale for the transform to be 0.\n", 
            ""
          ]
        }, 
        {
          "cell_type": "code", 
          "collapsed": false, 
          "input": [
            "Jmin = 0"
          ], 
          "language": "python", 
          "outputs": []
        }, 
        {
          "cell_type": "markdown", 
          "metadata": {}, 
          "source": [
            "\n", 
            "\n", 
            "Perform the wavelet transform,  |fw| stores all the wavelet coefficients.\n", 
            ""
          ]
        }, 
        {
          "cell_type": "code", 
          "collapsed": false, 
          "input": [
            "fw = perform_wavelet_transf(f,Jmin,+1)"
          ], 
          "language": "python", 
          "outputs": []
        }, 
        {
          "cell_type": "markdown", 
          "metadata": {}, 
          "source": [
            "\n", 
            "\n", 
            "Display the transformed coefficients.\n", 
            ""
          ]
        }, 
        {
          "cell_type": "code", 
          "collapsed": false, 
          "input": [
            "\n", 
            "plot_wavelet(fw)"
          ], 
          "language": "python", 
          "outputs": []
        }, 
        {
          "cell_type": "markdown", 
          "metadata": {}, 
          "source": [
            "\n", 
            ""
          ]
        }, 
        {
          "cell_type": "heading", 
          "level": 2, 
          "metadata": {}, 
          "source": [
            "Wavelet Approximation\n"
          ]
        }, 
        {
          "cell_type": "markdown", 
          "metadata": {}, 
          "source": [
            "Linear wavelet approximation with $M=2^{-j_0}$ coefficients is obtained\n", 
            "by keeping only the coarse scale (large support) wavelets:\n", 
            "$$ I_M = \\enscond{(k,j,n)}{ j \\geq j_0 }. $$\n", 
            "\n", 
            "\n", 
            "It corresponds to setting to zero all the coefficients excepted those\n", 
            "that are on the upper left corner of |fw|.\n", 
            ""
          ]
        }, 
        {
          "cell_type": "heading", 
          "level": 3, 
          "metadata": {}, 
          "source": [
            "Exercise 3"
          ]
        }, 
        {
          "cell_type": "markdown", 
          "metadata": {}, 
          "source": [
            "\n", 
            "Perform linear approximation with $M$ wavelet coefficients.\n", 
            "\n", 
            "\n", 
            "\n", 
            "\n", 
            "\n", 
            "display\n", 
            "\n", 
            ""
          ]
        }, 
        {
          "cell_type": "code", 
          "collapsed": false, 
          "input": [
            "## Insert your code here."
          ], 
          "language": "python", 
          "outputs": []
        }, 
        {
          "cell_type": "markdown", 
          "metadata": {}, 
          "source": [
            "\n", 
            "\n", 
            "\n", 
            "A non-linear approximation is obtained by keeping the $M$ largest wavelet\n", 
            "coefficients.\n", 
            "\n", 
            "\n", 
            "As already said, this is equivalently computed by a non-linear hard\n", 
            "thresholding.\n", 
            "\n", 
            "\n", 
            "Select a threshold.\n", 
            ""
          ]
        }, 
        {
          "cell_type": "code", 
          "collapsed": false, 
          "input": [
            "T = .2"
          ], 
          "language": "python", 
          "outputs": []
        }, 
        {
          "cell_type": "markdown", 
          "metadata": {}, 
          "source": [
            "\n", 
            "\n", 
            "Perform hard thresholding.\n", 
            ""
          ]
        }, 
        {
          "cell_type": "code", 
          "collapsed": false, 
          "input": [
            "fwT = fw .* (abs(fw)>T)"
          ], 
          "language": "python", 
          "outputs": []
        }, 
        {
          "cell_type": "markdown", 
          "metadata": {}, 
          "source": [
            "\n", 
            "\n", 
            "Display the thresholded coefficients.\n", 
            ""
          ]
        }, 
        {
          "cell_type": "code", 
          "collapsed": false, 
          "input": [
            "\n", 
            "subplot(1,2,1)\n", 
            "plot_wavelet(fw)\n", 
            "title('Original coefficients')\n", 
            "subplot(1,2,2)\n", 
            "plot_wavelet(fwT)"
          ], 
          "language": "python", 
          "outputs": []
        }, 
        {
          "cell_type": "markdown", 
          "metadata": {}, 
          "source": [
            "\n", 
            "\n", 
            "Perform reconstruction.\n", 
            ""
          ]
        }, 
        {
          "cell_type": "code", 
          "collapsed": false, 
          "input": [
            "fM = perform_wavelet_transf(fwT,Jmin,-1)"
          ], 
          "language": "python", 
          "outputs": []
        }, 
        {
          "cell_type": "markdown", 
          "metadata": {}, 
          "source": [
            "\n", 
            "\n", 
            "Display approximation.\n", 
            ""
          ]
        }, 
        {
          "cell_type": "code", 
          "collapsed": false, 
          "input": [
            "\n", 
            "imageplot(clamp(fM), strcat(['Approximation, SNR=' num2str(snr(f,fM),3) 'dB']))"
          ], 
          "language": "python", 
          "outputs": []
        }, 
        {
          "cell_type": "markdown", 
          "metadata": {}, 
          "source": [
            "\n", 
            ""
          ]
        }, 
        {
          "cell_type": "heading", 
          "level": 3, 
          "metadata": {}, 
          "source": [
            "Exercise 4"
          ]
        }, 
        {
          "cell_type": "markdown", 
          "metadata": {}, 
          "source": [
            "\n", 
            "Perform non-linear approximation with $M$ wavelet coefficients by\n", 
            "chosing the correct value for $T$. Store the result in the variable\n", 
            "|fM|.\n", 
            "\n", 
            "\n", 
            "\n", 
            "\n", 
            "\n", 
            "\n", 
            "\n", 
            "\n", 
            "display\n", 
            "\n", 
            ""
          ]
        }, 
        {
          "cell_type": "code", 
          "collapsed": false, 
          "input": [
            "## Insert your code here."
          ], 
          "language": "python", 
          "outputs": []
        }, 
        {
          "cell_type": "markdown", 
          "metadata": {}, 
          "source": [
            "\n", 
            "\n", 
            "\n", 
            "Compare two 1D profile (lines of the image).\n", 
            "Note how the ringing artifacts are reduced with respec to the Fourier\n", 
            "approximation.\n", 
            ""
          ]
        }
      ]
    }
  ]
}