{
  "metadata": {
    "name": ""
  }, 
  "nbformat": 3, 
  "nbformat_minor": 0, 
  "worksheets": [
    {
      "cells": [
        {
          "cell_type": "heading", 
          "level": 1, 
          "metadata": {}, 
          "source": [
            "Cartoon+Texture Variational Image Decomposition"
          ]
        }, 
        {
          "cell_type": "markdown", 
          "metadata": {}, 
          "source": [
            "This numerical tour explores the use of\n", 
            "variational energies to decompose an image into a cartoon and a texture\n", 
            "layer.\n", 
            ""
          ]
        }, 
        {
          "cell_type": "markdown", 
          "metadata": {}, 
          "source": [
            "*Important:* You need to download the file `nt_toolbox.py` from the \n", 
            "root of the github repository.\n", 
            "$\\newcommand{\\dotp}[2]{\\langle #1, #2 \\rangle}\n", 
            "\\newcommand{\\enscond}[2]{\\lbrace #1, #2 \\rbrace}\n", 
            "\\newcommand{\\pd}[2]{ \\frac{ \\partial #1}{\\partial #2} }\n", 
            "\\newcommand{\\umin}[1]{\\underset{#1}{\\min}\\;}\n", 
            "\\newcommand{\\norm}[1]{\\|#1\\|}\n", 
            "\\newcommand{\\abs}[1]{\\left|#1\\right|}\n", 
            "\\newcommand{\\choice}[1]{ \\left\\{  \\begin{array}{l} #1 \\end{array} \\right. }\n", 
            "\\newcommand{\\pa}[1]{\\left(#1\\right)}\n", 
            "\\newcommand{\\qandq}{\\quad\\text{and}\\quad}\n", 
            "\\newcommand{\\qwhereq}{\\quad\\text{where}\\quad}\n", 
            "\\newcommand{\\qifq}{ \\quad \\text{if} \\quad }\n", 
            "\\newcommand{\\qarrq}{ \\quad \\Longrightarrow \\quad }\n", 
            "\\newcommand{\\ZZ}{\\mathbb{Z}}\n", 
            "\\newcommand{\\RR}{\\mathbb{R}}\n", 
            "\\newcommand{\\Nn}{\\mathcal{N}}\n", 
            "\\newcommand{\\Hh}{\\mathcal{H}}\n", 
            "\\newcommand{\\Bb}{\\mathcal{B}}\n", 
            "\\newcommand{\\EE}{\\mathbb{E}}\n", 
            "\\newcommand{\\CC}{\\mathbb{C}}\n", 
            "\\newcommand{\\si}{\\sigma}\n", 
            "\\newcommand{\\al}{\\alpha}\n", 
            "\\newcommand{\\la}{\\lambda}\n", 
            "\\newcommand{\\ga}{\\gamma}\n", 
            "\\newcommand{\\Ga}{\\Gamma}\n", 
            "\\newcommand{\\La}{\\Lambda}\n", 
            "\\newcommand{\\si}{\\sigma}\n", 
            "\\newcommand{\\Si}{\\Sigma}\n", 
            "\\newcommand{\\be}{\\beta}\n", 
            "\\newcommand{\\de}{\\delta}\n", 
            "\\newcommand{\\De}{\\Delta}\n", 
            "\\renewcommand{\\phi}{\\varphi}\n", 
            "\\renewcommand{\\th}{\\theta}\n", 
            "\\newcommand{\\om}{\\omega}\n", 
            "\\newcommand{\\Om}{\\Omega}\n", 
            "$"
          ]
        }, 
        {
          "cell_type": "code", 
          "collapsed": false, 
          "input": [
            "from nt_toolbox import *", 
            "%matplotlib inline", 
            "%load_ext autoreload", 
            "%autoreload 2"
          ], 
          "language": "python", 
          "outputs": []
        }, 
        {
          "cell_type": "markdown", 
          "metadata": {}, 
          "source": [
            "\n", 
            "CMT"
          ]
        }, 
        {
          "cell_type": "code", 
          "collapsed": false, 
          "input": [
            "rep = 'results/variational_3_image_separation/'\n", 
            "if not(exist(rep))\n", 
            "    mkdir(rep)\n", 
            ""
          ], 
          "language": "python", 
          "outputs": []
        }, 
        {
          "cell_type": "markdown", 
          "metadata": {}, 
          "source": [
            "CMT\n", 
            "\n", 
            "\n", 
            "A variational image separation finds a decomposition\n", 
            "$f = u^\\star + v^\\star + w^\\star$ where $u^\\star$ and $v^\\star$\n", 
            "are solutions of an optimization problem of the form\n", 
            "$$ \\min_{u,v} \\: \\frac{1}{2}\\|f-u-v\\|^2 + \\lambda J(u) + \\mu T(v), $$\n", 
            "\n", 
            "\n", 
            "where $J(u)$ is a cartoon image prior (that favors edges) and\n", 
            "$T(v)$ is a texture image prior (that favors oscillations).\n", 
            "The parameters $\\lambda,\\mu$ should be adapted to the noise level and\n", 
            "the amount of edge/textures.\n", 
            "\n", 
            "\n", 
            "When no noise is present in $f$, so that $w^\\star=0$, on minimizes\n", 
            "$$ \\min_{u} \\: T(f-u) + \\lambda J(u). $$\n", 
            "\n", 
            "\n", 
            "In this tour, we define $J$ as the total variation prior. For $T$, we use the\n", 
            "Hilbert norm framework introduced in:\n", 
            "\n", 
            "\n", 
            "_Constrained and SNR-based Solutions for TV-Hilbert Space Image Denoising,_\n", 
            "Jean-Franois Aujol and Guy Gilboa,\n", 
            "Journal of Mathematical Imaging and Vision, volume 26, numbers 1-2, pages 217-237, November 2006.\n", 
            "\n", 
            ""
          ]
        }, 
        {
          "cell_type": "heading", 
          "level": 2, 
          "metadata": {}, 
          "source": [
            "Total Variation Cartoon Prior\n"
          ]
        }, 
        {
          "cell_type": "markdown", 
          "metadata": {}, 
          "source": [
            "The total variation is a Banach norm.\n", 
            "On the contrary to the Sobolev norm, it is able to take into account step edges.\n", 
            "\n", 
            "\n", 
            "First we load a textured image.\n", 
            ""
          ]
        }, 
        {
          "cell_type": "code", 
          "collapsed": false, 
          "input": [
            "n = 256\n", 
            "name = 'boat'\n", 
            "f = rescale( crop(load_image(name),n) )"
          ], 
          "language": "python", 
          "outputs": []
        }, 
        {
          "cell_type": "markdown", 
          "metadata": {}, 
          "source": [
            "\n", 
            "\n", 
            "Display it.\n", 
            ""
          ]
        }, 
        {
          "cell_type": "code", 
          "collapsed": false, 
          "input": [
            "\n", 
            "imageplot(f)"
          ], 
          "language": "python", 
          "outputs": []
        }, 
        {
          "cell_type": "markdown", 
          "metadata": {}, 
          "source": [
            "\n", 
            "\n", 
            "The total variation of a smooth image $f$ is defined as\n", 
            "$$J(f)=\\int \\|\\nabla f(x)\\| d x$$\n", 
            "\n", 
            "\n", 
            "It is extended to non-smooth images having step discontinuities.\n", 
            "\n", 
            "\n", 
            "The total variation of an image is also equal to the total length of its level sets.\n", 
            "$$J(f)=\\int_{-\\infty}^{+\\infty} L( S_t(f) ) dt$$\n", 
            "\n", 
            "\n", 
            "Where $S_t(f)$ is the level set at $t$ of the image $f$\n", 
            "$$S_t(f)=\\{ x \\backslash f(x)=t \\}$$\n", 
            "\n", 
            "\n", 
            "The Gradient of the TV norm is\n", 
            "$$ \\text{Grad}J(f) = \\text{div}\\left( \\frac{\\nabla f}{\\|\\nabla f\\|} \\right) . $$\n", 
            "\n", 
            "\n", 
            "The gradient of the TV norm is not defined if at a pixel $x$\n", 
            "one has $\\nabla f(x)=0$. This means that the TV norm is difficult to\n", 
            "minimize, and its gradient flow is not well defined.\n", 
            "\n", 
            "\n", 
            "To define a gradient flow, we consider instead a smooth TV norm\n", 
            "$$J_\\epsilon(f) = \\int \\sqrt{ \\varepsilon^2 + \\| \\nabla f(x) \\|^2 } d x$$\n", 
            "\n", 
            "\n", 
            "This corresponds to replacing $\\|u\\|$ by $ \\sqrt{\\varepsilon^2 + \\|u\\|^2} $\n", 
            "which is a smooth function.\n", 
            "\n", 
            "\n", 
            "We display (in 1D) the smoothing of the absolute value.\n", 
            ""
          ]
        }, 
        {
          "cell_type": "code", 
          "collapsed": false, 
          "input": [
            "u = linspace(-5,5)'\n", 
            "\n", 
            "subplot(2,1,1); hold('on')\n", 
            "plot(u, abs(u), 'b')\n", 
            "plot(u, sqrt(.5^2+u.^2), 'r')\n", 
            "title('\\epsilon=1/2'); axis('square')\n", 
            "subplot(2,1,2); hold('on')\n", 
            "plot(u, abs(u), 'b')\n", 
            "plot(u, sqrt(1^2+u.^2), 'r')\n", 
            "title('\\epsilon=1'); axis('square')"
          ], 
          "language": "python", 
          "outputs": []
        }, 
        {
          "cell_type": "markdown", 
          "metadata": {}, 
          "source": [
            "\n", 
            "\n", 
            "\n", 
            "In the following we set a small enough regularization parameter $\\varepsilon$.\n", 
            ""
          ]
        }, 
        {
          "cell_type": "code", 
          "collapsed": false, 
          "input": [
            "epsilon = 1e-2"
          ], 
          "language": "python", 
          "outputs": []
        }, 
        {
          "cell_type": "markdown", 
          "metadata": {}, 
          "source": [
            "\n", 
            "\n", 
            "Compute the (smoothed) total variation of $f$.\n", 
            ""
          ]
        }, 
        {
          "cell_type": "code", 
          "collapsed": false, 
          "input": [
            "J = lambda u: sum(sum( sqrt( epsilon^2 + sum3(grad(u).^2,3) ) ))\n", 
            "disp(['J(f) = ' num2str(J(f),3)])"
          ], 
          "language": "python", 
          "outputs": []
        }, 
        {
          "cell_type": "markdown", 
          "metadata": {}, 
          "source": [
            "\n", 
            ""
          ]
        }, 
        {
          "cell_type": "heading", 
          "level": 2, 
          "metadata": {}, 
          "source": [
            "TV-\\(L^2\\) Model\n"
          ]
        }, 
        {
          "cell_type": "markdown", 
          "metadata": {}, 
          "source": [
            "The simplest decomposition method performs a total variation denoising:\n", 
            "$$\\min_u \\frac{1}{2}\\|f-u\\|^2 + \\lambda J(u).$$\n", 
            "\n", 
            "\n", 
            "It corresponds to the TV-$L^2$ model of Rudin-Osher-Fatermi, because the\n", 
            "texture prior is the $L^2$ norm:\n", 
            "$$ T(v) = \\frac{1}{2} \\|v\\|^2. $$\n", 
            "\n", 
            "\n", 
            "This a poor texture prior because it just assumes the texture has a small\n", 
            "overall energy, and does not care about the oscillations.\n", 
            "\n", 
            "\n", 
            "Define the regularization parameter $\\lambda$.\n", 
            ""
          ]
        }, 
        {
          "cell_type": "code", 
          "collapsed": false, 
          "input": [
            "lambda = .2"
          ], 
          "language": "python", 
          "outputs": []
        }, 
        {
          "cell_type": "markdown", 
          "metadata": {}, 
          "source": [
            "\n", 
            "\n", 
            "\n", 
            "The step size for diffusion should satisfy:\n", 
            "$$ \\tau < \\frac{2}{1 + \\lambda 8 / \\varepsilon} . $$\n", 
            "\n", 
            ""
          ]
        }, 
        {
          "cell_type": "code", 
          "collapsed": false, 
          "input": [
            "tau = 1.9 / ( 1 + lambda * 8 / epsilon)"
          ], 
          "language": "python", 
          "outputs": []
        }, 
        {
          "cell_type": "markdown", 
          "metadata": {}, 
          "source": [
            "\n", 
            "\n", 
            "Initialization of the minimization.\n", 
            ""
          ]
        }, 
        {
          "cell_type": "code", 
          "collapsed": false, 
          "input": [
            "u = f"
          ], 
          "language": "python", 
          "outputs": []
        }, 
        {
          "cell_type": "markdown", 
          "metadata": {}, 
          "source": [
            "\n", 
            "\n", 
            "The Gradient of the smoothed TV norm is\n", 
            "$$ \\text{Grad}J(f) = \\text{div}\\left( \\frac{\\nabla f}{\\sqrt{\\varepsilon^2 + \\|\\nabla f\\|^2}} \\right) . $$\n", 
            "\n", 
            "\n", 
            "\n", 
            "Shortcut for the gradient of the smoothed TV norm.\n", 
            ""
          ]
        }, 
        {
          "cell_type": "code", 
          "collapsed": false, 
          "input": [
            "GradJ0 = lambda Gr: -div( Gr ./ repmat( sqrt( epsilon^2 + sum3(Gr.^2,3) ) , [1 1 2]) )\n", 
            "GradJ = lambda u: GradJ0(grad(u))"
          ], 
          "language": "python", 
          "outputs": []
        }, 
        {
          "cell_type": "markdown", 
          "metadata": {}, 
          "source": [
            "\n", 
            "\n", 
            "One step of descent.\n", 
            ""
          ]
        }, 
        {
          "cell_type": "code", 
          "collapsed": false, 
          "input": [
            "u = u - tau*( u - f + lambda* GradJ(u) )"
          ], 
          "language": "python", 
          "outputs": []
        }, 
        {
          "cell_type": "heading", 
          "level": 3, 
          "metadata": {}, 
          "source": [
            "Exercise 1"
          ]
        }, 
        {
          "cell_type": "markdown", 
          "metadata": {}, 
          "source": [
            "\n", 
            "Compute the gradient descent and monitor\n", 
            "the minimized energy.\n", 
            "\n", 
            "\n", 
            "\n", 
            "\n", 
            "\n", 
            "\n", 
            "\n", 
            "\n", 
            "\n", 
            ""
          ]
        }, 
        {
          "cell_type": "code", 
          "collapsed": false, 
          "input": [
            "## Insert your code here."
          ], 
          "language": "python", 
          "outputs": []
        }, 
        {
          "cell_type": "markdown", 
          "metadata": {}, 
          "source": [
            "\n", 
            "\n", 
            "\n", 
            "Display the cartoon layer.\n", 
            ""
          ]
        }, 
        {
          "cell_type": "code", 
          "collapsed": false, 
          "input": [
            "\n", 
            "imageplot(u)"
          ], 
          "language": "python", 
          "outputs": []
        }, 
        {
          "cell_type": "markdown", 
          "metadata": {}, 
          "source": [
            "\n", 
            "\n", 
            "\n", 
            "Shortcut to increase the contrast of the textured layer for better display.\n", 
            ""
          ]
        }, 
        {
          "cell_type": "code", 
          "collapsed": false, 
          "input": [
            "rho = .8; % constrast factor \n", 
            "eta = .2; % saturation limit\n", 
            "displaytexture0 = lambda x: sign(x).*abs(x).^rho\n", 
            "displaytexture  = lambda v: displaytexture0( clamp(v,-eta,eta)/eta )"
          ], 
          "language": "python", 
          "outputs": []
        }, 
        {
          "cell_type": "markdown", 
          "metadata": {}, 
          "source": [
            "\n", 
            "\n", 
            "Display the textured layer.\n", 
            ""
          ]
        }, 
        {
          "cell_type": "code", 
          "collapsed": false, 
          "input": [
            "\n", 
            "imageplot( displaytexture(f-u) )"
          ], 
          "language": "python", 
          "outputs": []
        }, 
        {
          "cell_type": "markdown", 
          "metadata": {}, 
          "source": [
            "\n", 
            ""
          ]
        }, 
        {
          "cell_type": "heading", 
          "level": 2, 
          "metadata": {}, 
          "source": [
            "Gabor Hilbert Energy\n"
          ]
        }, 
        {
          "cell_type": "markdown", 
          "metadata": {}, 
          "source": [
            "To model the texture, one should use a prior $T(v)$ that favors\n", 
            "oscillations. We thus use a weighted $L^2$ norms computed over the\n", 
            "Fourier domain:\n", 
            "$$ T(v) = \\frac{1}{2} \\sum_{\\omega} \\|W_{\\omega} \\hat f(\\omega) \\|^2 $$\n", 
            "where $W_\\omega$ is the weight associated to the frequency $\\omega$.\n", 
            "\n", 
            "\n", 
            "This texture norm can be rewritten using the Fourier transform $F$ as\n", 
            "$$ T(v) = \\frac{1}{2} \\|\\text{diag}(W)F u\\|^2 \\quad\\text{where}\\quad (Fu)_\\omega = \\hat u(\\omega).$$\n", 
            "\n", 
            "\n", 
            "\n", 
            "To favor oscillation, we use a weight that is large for low frequency and\n", 
            "small for large frequency. A simple Hilbert norm is a inverse Sobolev\n", 
            "space $H^{-1}$.\n", 
            "\n", 
            "\n", 
            "It was first introduced in:\n", 
            "\n", 
            "\n", 
            "S.J. Osher, A. Sole, and L.A. Vese,\n", 
            "_Image decomposition and restoration using total variation minimization and the $H^{-1}$ norm_,\n", 
            "SIAM Multiscale Modeling and Simulation, 1(3):349-370, 2003.\n", 
            "\n", 
            "\n", 
            "This Hilbert norm is defined using\n", 
            "$$ W_\\omega =  \\frac{1}{ \\| \\omega \\| + \\eta } $$\n", 
            "where $\\eta>0$ is a small constant that prevents explosion at low\n", 
            "frequencies.\n", 
            ""
          ]
        }, 
        {
          "cell_type": "code", 
          "collapsed": false, 
          "input": [
            "eta = .05\n", 
            "x = [0:n/2-1, -n/2:-1]/n\n", 
            "[Y,X] = meshgrid(x,x)\n", 
            "W = 1 ./ (eta + sqrt(X.^2 + Y.^2))"
          ], 
          "language": "python", 
          "outputs": []
        }, 
        {
          "cell_type": "markdown", 
          "metadata": {}, 
          "source": [
            "\n", 
            "\n", 
            "Display the inverse weight, with 0 frequency in the middle.\n", 
            ""
          ]
        }, 
        {
          "cell_type": "code", 
          "collapsed": false, 
          "input": [
            "imageplot(fftshift(1./W))"
          ], 
          "language": "python", 
          "outputs": []
        }, 
        {
          "cell_type": "markdown", 
          "metadata": {}, 
          "source": [
            "\n", 
            "\n", 
            "Compute the texture norm. The $1/n$ normalization is intended to make\n", 
            "the Fourier transform orthogonal.\n", 
            ""
          ]
        }, 
        {
          "cell_type": "code", 
          "collapsed": false, 
          "input": [
            "T = lambda v: 1/2*norm( W.*fft2(v)/n, 'fro' ).^2\n", 
            "disp(['T(f) = ' num2str(T(f), 3) ] )"
          ], 
          "language": "python", 
          "outputs": []
        }, 
        {
          "cell_type": "markdown", 
          "metadata": {}, 
          "source": [
            "\n", 
            "\n", 
            "The gradient of the texture norm is\n", 
            "$$\\text{Grad}T(v) = H v \\quad\\text{where}\\quad  H = F^* \\text{diag}(W^2) F, $$\n", 
            "where $F^*$ is the inverse Fourier transform. Note that if $\\eta=1$,\n", 
            "this gradient is the inverse Laplacian\n", 
            "$$ \\text{Grad}T(v) = \\Delta^{-1} v. $$\n", 
            "\n", 
            "\n", 
            "Define the filtering operator $ \\text{Grad}T $.\n", 
            ""
          ]
        }, 
        {
          "cell_type": "code", 
          "collapsed": false, 
          "input": [
            "GradT = lambda f: real(ifft2(W.^2.*fft2(f)))"
          ], 
          "language": "python", 
          "outputs": []
        }, 
        {
          "cell_type": "markdown", 
          "metadata": {}, 
          "source": [
            "\n", 
            "\n", 
            "This is a low pass filter.\n", 
            ""
          ]
        }, 
        {
          "cell_type": "code", 
          "collapsed": false, 
          "input": [
            "imageplot(GradT(f))"
          ], 
          "language": "python", 
          "outputs": []
        }, 
        {
          "cell_type": "markdown", 
          "metadata": {}, 
          "source": [
            "\n", 
            "\n", 
            "Define its inverse $ (\\text{Grad}T)^{-1} $.\n", 
            ""
          ]
        }, 
        {
          "cell_type": "code", 
          "collapsed": false, 
          "input": [
            "GradTInv = lambda f: real(ifft2(fft2(f)./W.^2))"
          ], 
          "language": "python", 
          "outputs": []
        }, 
        {
          "cell_type": "markdown", 
          "metadata": {}, 
          "source": [
            "\n", 
            "\n", 
            "It is a high pass filter.\n", 
            ""
          ]
        }, 
        {
          "cell_type": "code", 
          "collapsed": false, 
          "input": [
            "imageplot(GradTInv(f))"
          ], 
          "language": "python", 
          "outputs": []
        }, 
        {
          "cell_type": "heading", 
          "level": 2, 
          "metadata": {}, 
          "source": [
            "TV-\\(H^{-1}\\) Image Decomposition\n"
          ]
        }, 
        {
          "cell_type": "markdown", 
          "metadata": {}, 
          "source": [
            "The TV-Hilbert decomposition solves\n", 
            "$$ \\min_u \\mathcal{E}(u) = \\frac{1}{2}  \\| W F(f-u) \\|^2 + \\lambda J(u). $$\n", 
            "\n", 
            "\n", 
            "The mapping $u \\mapsto \\mathcal{E}(u) $ is a smooth functional, it can\n", 
            "thus be minimized using a gradient descent:\n", 
            "$$ f^{(\\ell+1)} = f^{(\\ell)} - \\tau \\left( H(u-f) + \\lambda \\text{Grad}J(u) \\right). $$\n", 
            "\n", 
            "\n", 
            "The parameter $\\lambda$ for the texture/cartoon tradeoff.\n", 
            ""
          ]
        }, 
        {
          "cell_type": "code", 
          "collapsed": false, 
          "input": [
            "lambda = 5"
          ], 
          "language": "python", 
          "outputs": []
        }, 
        {
          "cell_type": "markdown", 
          "metadata": {}, 
          "source": [
            "\n", 
            "\n", 
            "The gradient descent step size should satisfy:\n", 
            "$$ \\tau < \\frac{2}{ \\max_{\\omega} W_\\omega^2 + \\lambda \\epsilon /8  } $$\n", 
            ""
          ]
        }, 
        {
          "cell_type": "code", 
          "collapsed": false, 
          "input": [
            "tau = 1.9 /( max(W(:))^2 + 8*lambda/epsilon )"
          ], 
          "language": "python", 
          "outputs": []
        }, 
        {
          "cell_type": "markdown", 
          "metadata": {}, 
          "source": [
            "\n", 
            "\n", 
            "Initial cartoon layer.\n", 
            ""
          ]
        }, 
        {
          "cell_type": "code", 
          "collapsed": false, 
          "input": [
            "u = f"
          ], 
          "language": "python", 
          "outputs": []
        }, 
        {
          "cell_type": "markdown", 
          "metadata": {}, 
          "source": [
            "\n", 
            "\n", 
            "Gradient descent step.\n", 
            ""
          ]
        }, 
        {
          "cell_type": "code", 
          "collapsed": false, 
          "input": [
            "u = u - tau * ( GradT(u-f) + lambda*GradJ(u) )"
          ], 
          "language": "python", 
          "outputs": []
        }, 
        {
          "cell_type": "heading", 
          "level": 3, 
          "metadata": {}, 
          "source": [
            "Exercise 2"
          ]
        }, 
        {
          "cell_type": "markdown", 
          "metadata": {}, 
          "source": [
            "\n", 
            "Perform the gradient descent, monitor the decay of the energy.\n", 
            "\n", 
            "\n", 
            "\n", 
            "\n", 
            "\n", 
            "\n", 
            "\n", 
            "\n", 
            "\n", 
            ""
          ]
        }, 
        {
          "cell_type": "code", 
          "collapsed": false, 
          "input": [
            "## Insert your code here."
          ], 
          "language": "python", 
          "outputs": []
        }, 
        {
          "cell_type": "markdown", 
          "metadata": {}, 
          "source": [
            "\n", 
            "\n", 
            "\n", 
            "Display the cartoon layer.\n", 
            ""
          ]
        }, 
        {
          "cell_type": "code", 
          "collapsed": false, 
          "input": [
            "\n", 
            "imageplot(u)"
          ], 
          "language": "python", 
          "outputs": []
        }, 
        {
          "cell_type": "markdown", 
          "metadata": {}, 
          "source": [
            "\n", 
            "\n", 
            "Display the textured layer.\n", 
            ""
          ]
        }, 
        {
          "cell_type": "code", 
          "collapsed": false, 
          "input": [
            "\n", 
            "imageplot( displaytexture(f-u) )"
          ], 
          "language": "python", 
          "outputs": []
        }, 
        {
          "cell_type": "heading", 
          "level": 2, 
          "metadata": {}, 
          "source": [
            "TV-Gabor Image Decomposition\n"
          ]
        }, 
        {
          "cell_type": "markdown", 
          "metadata": {}, 
          "source": [
            "The $H^{-1}$ texture model is intended to capture very high frequency,\n", 
            "and thus performs poorly for medium frequency textures.\n", 
            "\n", 
            "\n", 
            "To capture these patterns, we follow:\n", 
            "\n", 
            "\n", 
            "_Structure-Texture Image Decomposition - Modeling, Algorithms, and Parameter Selection_,\n", 
            "Jean-Francois Aujol, Guy Gilboa, Tony Chan, and Stanley Osher,\n", 
            "International Journal of Computer Vision, volume 67, number 1, pages 111-136, April 2006\n", 
            "\n", 
            "\n", 
            "and we use a radial weight profile centered around a frequency $r$.\n", 
            "\n", 
            "\n", 
            "To determine the target frequency $r$, we analyse a sub-window around a point $p$\n", 
            "of the image containing approximately a single frequency.\n", 
            "\n", 
            "\n", 
            "Location $p$ of the sub-window.\n", 
            ""
          ]
        }, 
        {
          "cell_type": "code", 
          "collapsed": false, 
          "input": [
            "p = [125 200]"
          ], 
          "language": "python", 
          "outputs": []
        }, 
        {
          "cell_type": "markdown", 
          "metadata": {}, 
          "source": [
            "\n", 
            "\n", 
            "Size $\\mu$, in pixels, of the sub-window.\n", 
            ""
          ]
        }, 
        {
          "cell_type": "code", 
          "collapsed": false, 
          "input": [
            "mu = 10"
          ], 
          "language": "python", 
          "outputs": []
        }, 
        {
          "cell_type": "markdown", 
          "metadata": {}, 
          "source": [
            "\n", 
            "\n", 
            "Compute a Gaussian mask.\n", 
            ""
          ]
        }, 
        {
          "cell_type": "code", 
          "collapsed": false, 
          "input": [
            "[Y,X] = meshgrid( 1:n, 1:n )\n", 
            "U = exp( ( -(X-p(1)).^2 - (Y-p(2)).^2 )/(2*mu^2)  )"
          ], 
          "language": "python", 
          "outputs": []
        }, 
        {
          "cell_type": "markdown", 
          "metadata": {}, 
          "source": [
            "\n", 
            "\n", 
            "Display the masked image.\n", 
            ""
          ]
        }, 
        {
          "cell_type": "code", 
          "collapsed": false, 
          "input": [
            "\n", 
            "imageplot(U.*f)"
          ], 
          "language": "python", 
          "outputs": []
        }, 
        {
          "cell_type": "markdown", 
          "metadata": {}, 
          "source": [
            "\n", 
            "\n", 
            "Remove the low frequencies from the Fourier transform, after centering.\n", 
            ""
          ]
        }, 
        {
          "cell_type": "code", 
          "collapsed": false, 
          "input": [
            "F = fft2(U.*f)\n", 
            "F = fftshift(F)\n", 
            "F(end/2-20:end/2+20,end/2-20:end/2+20) = 0"
          ], 
          "language": "python", 
          "outputs": []
        }, 
        {
          "cell_type": "markdown", 
          "metadata": {}, 
          "source": [
            "\n", 
            "\n", 
            "Compute the location $x_m,y_m$ of the pick of the spectrum.\n", 
            ""
          ]
        }, 
        {
          "cell_type": "code", 
          "collapsed": false, 
          "input": [
            "[tmp,i] = max(abs(F(:)))\n", 
            "[xm,ym] = ind2sub([n n], i)"
          ], 
          "language": "python", 
          "outputs": []
        }, 
        {
          "cell_type": "markdown", 
          "metadata": {}, 
          "source": [
            "\n", 
            "\n", 
            "Display.\n", 
            ""
          ]
        }, 
        {
          "cell_type": "code", 
          "collapsed": false, 
          "input": [
            "clf; hold on\n", 
            "imageplot(abs(F))\n", 
            "h = plot( [ym n-ym], [xm  n-xm], 'r.' )\n", 
            "set(h, 'MarkerSize', 20)"
          ], 
          "language": "python", 
          "outputs": []
        }, 
        {
          "cell_type": "markdown", 
          "metadata": {}, 
          "source": [
            "\n", 
            "\n", 
            "Target frequency is the distance between $ (x_m,y_m) $ and the center frequency.\n", 
            ""
          ]
        }, 
        {
          "cell_type": "code", 
          "collapsed": false, 
          "input": [
            "r = sqrt( (xm-n/2)^2 + (ym-n/2)^2 )"
          ], 
          "language": "python", 
          "outputs": []
        }, 
        {
          "cell_type": "markdown", 
          "metadata": {}, 
          "source": [
            "\n", 
            "\n", 
            "We use the following weights:\n", 
            "$$ W_\\omega = 1 - e^{ -\\frac{(\\|\\omega\\|-r)^2}{ 2 \\sigma^2 } } $$\n", 
            "where $ \\sigma>0 $ controls the precision one expect about the\n", 
            "frequency location.\n", 
            "\n", 
            "\n", 
            "\n", 
            "Radial weight profile.\n", 
            ""
          ]
        }, 
        {
          "cell_type": "code", 
          "collapsed": false, 
          "input": [
            "sigma = 10\n", 
            "x = [0:n/2-1, -n/2:-1]\n", 
            "[Y,X] = meshgrid(x,x)\n", 
            "R = sqrt(X.^2+Y.^2)\n", 
            "W = 1 - exp( -(r-R).^2 / (2*sigma^2) )"
          ], 
          "language": "python", 
          "outputs": []
        }, 
        {
          "cell_type": "markdown", 
          "metadata": {}, 
          "source": [
            "\n", 
            "\n", 
            "Display the weight.\n", 
            ""
          ]
        }, 
        {
          "cell_type": "code", 
          "collapsed": false, 
          "input": [
            "imageplot(fftshift(W))"
          ], 
          "language": "python", 
          "outputs": []
        }, 
        {
          "cell_type": "heading", 
          "level": 3, 
          "metadata": {}, 
          "source": [
            "Exercise 3"
          ]
        }, 
        {
          "cell_type": "markdown", 
          "metadata": {}, 
          "source": [
            "\n", 
            "Define the operators $\\text{Grad} T$\n", 
            "and apply it to an images.\n", 
            "\n", 
            "\n", 
            "\n", 
            "\n", 
            ""
          ]
        }, 
        {
          "cell_type": "code", 
          "collapsed": false, 
          "input": [
            "## Insert your code here."
          ], 
          "language": "python", 
          "outputs": []
        }, 
        {
          "cell_type": "markdown", 
          "metadata": {}, 
          "source": [
            "\n", 
            "\n", 
            ""
          ]
        }, 
        {
          "cell_type": "heading", 
          "level": 3, 
          "metadata": {}, 
          "source": [
            "Exercise 4"
          ]
        }, 
        {
          "cell_type": "markdown", 
          "metadata": {}, 
          "source": [
            "\n", 
            "For a well chosen value of $\\lambda$, perform the TV-Hilbert\n", 
            "decomposition with this texture kernel.\n", 
            "\n", 
            "\n", 
            "\n", 
            "\n", 
            "\n", 
            "\n", 
            "\n", 
            "\n", 
            "\n", 
            "\n", 
            "\n", 
            "\n", 
            ""
          ]
        }, 
        {
          "cell_type": "code", 
          "collapsed": false, 
          "input": [
            "## Insert your code here."
          ], 
          "language": "python", 
          "outputs": []
        }, 
        {
          "cell_type": "markdown", 
          "metadata": {}, 
          "source": [
            "\n", 
            "\n", 
            "\n", 
            "Display the cartoon layer.\n", 
            ""
          ]
        }, 
        {
          "cell_type": "code", 
          "collapsed": false, 
          "input": [
            "\n", 
            "imageplot(u)"
          ], 
          "language": "python", 
          "outputs": []
        }, 
        {
          "cell_type": "markdown", 
          "metadata": {}, 
          "source": [
            "\n", 
            "\n", 
            "Display the textured layer.\n", 
            ""
          ]
        }
      ]
    }
  ]
}