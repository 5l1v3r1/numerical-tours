{
  "metadata": {
    "name": ""
  }, 
  "nbformat": 3, 
  "nbformat_minor": 0, 
  "worksheets": [
    {
      "cells": [
        {
          "cell_type": "heading", 
          "level": 1, 
          "metadata": {}, 
          "source": [
            "Tensor-driven Diffusion Flows"
          ]
        }, 
        {
          "cell_type": "markdown", 
          "metadata": {}, 
          "source": [
            "This numerical tour explores the structure tensor to represent the\n", 
            "geometry of images and textures. It applies it to perform anisotropic\n", 
            "image diffusion.\n", 
            "A good reference for diffusion flows in image processing is <#biblio [Weickert98]>.\n", 
            ""
          ]
        }, 
        {
          "cell_type": "markdown", 
          "metadata": {}, 
          "source": [
            "*Important:* You need to download the file `nt_toolbox.py` from the \n", 
            "root of the github repository.\n", 
            "$\\newcommand{\\dotp}[2]{\\langle #1, #2 \\rangle}\n", 
            "\\newcommand{\\enscond}[2]{\\lbrace #1, #2 \\rbrace}\n", 
            "\\newcommand{\\pd}[2]{ \\frac{ \\partial #1}{\\partial #2} }\n", 
            "\\newcommand{\\umin}[1]{\\underset{#1}{\\min}\\;}\n", 
            "\\newcommand{\\norm}[1]{\\|#1\\|}\n", 
            "\\newcommand{\\abs}[1]{\\left|#1\\right|}\n", 
            "\\newcommand{\\choice}[1]{ \\left\\{  \\begin{array}{l} #1 \\end{array} \\right. }\n", 
            "\\newcommand{\\pa}[1]{\\left(#1\\right)}\n", 
            "\\newcommand{\\qandq}{\\quad\\text{and}\\quad}\n", 
            "\\newcommand{\\qwhereq}{\\quad\\text{where}\\quad}\n", 
            "\\newcommand{\\qifq}{ \\quad \\text{if} \\quad }\n", 
            "\\newcommand{\\qarrq}{ \\quad \\Longrightarrow \\quad }\n", 
            "\\newcommand{\\ZZ}{\\mathbb{Z}}\n", 
            "\\newcommand{\\RR}{\\mathbb{R}}\n", 
            "\\newcommand{\\Nn}{\\mathcal{N}}\n", 
            "\\newcommand{\\Hh}{\\mathcal{H}}\n", 
            "\\newcommand{\\Bb}{\\mathcal{B}}\n", 
            "\\newcommand{\\EE}{\\mathbb{E}}\n", 
            "\\newcommand{\\CC}{\\mathbb{C}}\n", 
            "\\newcommand{\\si}{\\sigma}\n", 
            "\\newcommand{\\al}{\\alpha}\n", 
            "\\newcommand{\\la}{\\lambda}\n", 
            "\\newcommand{\\ga}{\\gamma}\n", 
            "\\newcommand{\\Ga}{\\Gamma}\n", 
            "\\newcommand{\\La}{\\Lambda}\n", 
            "\\newcommand{\\si}{\\sigma}\n", 
            "\\newcommand{\\Si}{\\Sigma}\n", 
            "\\newcommand{\\be}{\\beta}\n", 
            "\\newcommand{\\de}{\\delta}\n", 
            "\\newcommand{\\De}{\\Delta}\n", 
            "\\renewcommand{\\phi}{\\varphi}\n", 
            "\\renewcommand{\\th}{\\theta}\n", 
            "\\newcommand{\\om}{\\omega}\n", 
            "\\newcommand{\\Om}{\\Omega}\n", 
            "$"
          ]
        }, 
        {
          "cell_type": "code", 
          "collapsed": false, 
          "input": [
            "from nt_toolbox import *", 
            "%matplotlib inline", 
            "%load_ext autoreload", 
            "%autoreload 2"
          ], 
          "language": "python", 
          "outputs": []
        }, 
        {
          "cell_type": "heading", 
          "level": 2, 
          "metadata": {}, 
          "source": [
            "Helpers Functions\n"
          ]
        }, 
        {
          "cell_type": "markdown", 
          "metadata": {}, 
          "source": [
            "We define here a few features (convolution, gradient, etc.) that will be\n", 
            "used in the sequel.\n", 
            "\n", 
            "\n", 
            "Size of the image of $N=n \\times n$ pixels.\n", 
            ""
          ]
        }, 
        {
          "cell_type": "code", 
          "collapsed": false, 
          "input": [
            "n = 256"
          ], 
          "language": "python", 
          "outputs": []
        }, 
        {
          "cell_type": "markdown", 
          "metadata": {}, 
          "source": [
            "\n", 
            "\n", 
            "Load an image $f$.\n", 
            ""
          ]
        }, 
        {
          "cell_type": "code", 
          "collapsed": false, 
          "input": [
            "name = 'hibiscus'\n", 
            "f = load_image(name,n)\n", 
            "f = rescale( sum(f,3) )"
          ], 
          "language": "python", 
          "outputs": []
        }, 
        {
          "cell_type": "markdown", 
          "metadata": {}, 
          "source": [
            "\n", 
            "\n", 
            "Display it.\n", 
            ""
          ]
        }, 
        {
          "cell_type": "code", 
          "collapsed": false, 
          "input": [
            "\n", 
            "imageplot(f)"
          ], 
          "language": "python", 
          "outputs": []
        }, 
        {
          "cell_type": "markdown", 
          "metadata": {}, 
          "source": [
            "\n", 
            "\n", 
            "We define circular convolution\n", 
            "$$ (f \\star h)_i = \\sum_j f_j h_{i-j}. $$\n", 
            "Note that here, $f$ can be multi-channel, in which case each channel is\n", 
            "convolved with $h$. This will be useful to blur tensor fields.\n", 
            ""
          ]
        }, 
        {
          "cell_type": "code", 
          "collapsed": false, 
          "input": [
            "cconv = lambda f,h: real(ifft2(fft2(f).*repmat(fft2(h),[1 1 size(f,3)])))"
          ], 
          "language": "python", 
          "outputs": []
        }, 
        {
          "cell_type": "markdown", 
          "metadata": {}, 
          "source": [
            "\n", 
            "\n", 
            "Define a Gaussian blurring kernel of width $\\si$:\n", 
            "$$ h_\\si(x) = \\frac{1}{Z} e^{ -\\frac{x_1^2+x_2^2}{2\\si^2} }$$\n", 
            "where $Z$ ensures that $\\hat h_\\si(0)=1$.\n", 
            ""
          ]
        }, 
        {
          "cell_type": "code", 
          "collapsed": false, 
          "input": [
            "t = [0:n/2 -n/2+1:-1]\n", 
            "[X2,X1] = meshgrid(t,t)\n", 
            "normalize = lambda h: h/sum(h(:))\n", 
            "h = lambda sigma: normalize( exp( -(X1.^2+X2.^2)/(2*sigma^2) ) )"
          ], 
          "language": "python", 
          "outputs": []
        }, 
        {
          "cell_type": "markdown", 
          "metadata": {}, 
          "source": [
            "\n", 
            "\n", 
            "Define the convolution with $h_\\si$.\n", 
            ""
          ]
        }, 
        {
          "cell_type": "code", 
          "collapsed": false, 
          "input": [
            "blur = lambda f,sigma: cconv(f,h(sigma))"
          ], 
          "language": "python", 
          "outputs": []
        }, 
        {
          "cell_type": "markdown", 
          "metadata": {}, 
          "source": [
            "\n", 
            "\n", 
            "We use in the following a centered finite difference approximation of\n", 
            "$\\nabla f$, which is a vector field in $\\RR^{n \\times n \\times 2}$.\n", 
            ""
          ]
        }, 
        {
          "cell_type": "code", 
          "collapsed": false, 
          "input": [
            "options.order = 2\n", 
            "nabla = lambda f: grad(f,options)"
          ], 
          "language": "python", 
          "outputs": []
        }, 
        {
          "cell_type": "markdown", 
          "metadata": {}, 
          "source": [
            "\n", 
            "\n", 
            "We define the tensor product associated to a vector $u = (u_1,u_2), v=(u_1,u_2)\n", 
            "\\in \\RR^{2}$ as the symetric matrix\n", 
            "$$\n", 
            "      u \\otimes v = u v^* =\n", 
            "      \\begin{pmatrix} u_1 v_1 & v_1 u_2 \\\\u_1 v_2 & u_2 v_2 \\end{pmatrix}\n", 
            "  \\in \\RR^{2 \\times 2}.\n", 
            "$$\n", 
            "It is extended to vector fields $ (u(x))_x \\in \\RR^{N \\times 2} $ as\n", 
            "$$  (u \\otimes v)(x) = u(x) \\otimes v(x) $$\n", 
            "\n", 
            "\n", 
            "A tensor field $T$ is a collection of symmetric positive definite\n", 
            "matrices $T(x) \\in \\RR^{2 \\times 2}$.\n", 
            "\n", 
            "\n", 
            "A simple way to build a tensor field is by auto-tensorization of a\n", 
            "vector field $u(x)$, i.e. $T = u \\otimes u$.\n", 
            "\n", 
            "\n", 
            "Define a shortcut for $u \\otimes u$\n", 
            "(we make use of symmetry to only store 3 components).\n", 
            ""
          ]
        }, 
        {
          "cell_type": "code", 
          "collapsed": false, 
          "input": [
            "tensorize = lambda u: cat(3, u(:,:,1).^2, u(:,:,2).^2, u(:,:,1).*u(:,:,2))"
          ], 
          "language": "python", 
          "outputs": []
        }, 
        {
          "cell_type": "markdown", 
          "metadata": {}, 
          "source": [
            "\n", 
            "\n", 
            "Rotate a tensor field by $\\pi/2$ (for display only).\n", 
            ""
          ]
        }, 
        {
          "cell_type": "code", 
          "collapsed": false, 
          "input": [
            "rotate = lambda T: cat(3, T(:,:,2), T(:,:,1), -T(:,:,3))"
          ], 
          "language": "python", 
          "outputs": []
        }, 
        {
          "cell_type": "heading", 
          "level": 2, 
          "metadata": {}, 
          "source": [
            "Structure Tensor\n"
          ]
        }, 
        {
          "cell_type": "markdown", 
          "metadata": {}, 
          "source": [
            "The structure tensor is a field of symetric positive matrices\n", 
            "that encodes the local orientation and anisotropy of an image.\n", 
            "\n", 
            "\n", 
            "It was initially introduced for corner detection <#biblio [HarSteph88]> <#biblio [Forstner86]>\n", 
            "and oriented texture analysis <#biblio [KassWit85]>.\n", 
            "\n", 
            "\n", 
            "Given an image $f$, its structure tensor with scale $ \\sigma>0 $ is\n", 
            "defined as\n", 
            "$$ T_\\si = h_\\si \\star T_0 \\qwhereq T_0 = \\nabla f \\otimes \\nabla f. $$\n", 
            "For each location $x$, $T_\\si(x)$ is thus a positive definite matrix.\n", 
            ""
          ]
        }, 
        {
          "cell_type": "code", 
          "collapsed": false, 
          "input": [
            "T = lambda f,sigma: blur( tensorize( nabla(f) ), sigma)"
          ], 
          "language": "python", 
          "outputs": []
        }, 
        {
          "cell_type": "markdown", 
          "metadata": {}, 
          "source": [
            "\n", 
            "\n", 
            "The matrix $T_\\si(x)$ can be understood as the local covariance matrix\n", 
            "of the set of gradient vector around $x$.\n", 
            "\n", 
            "\n", 
            "Another way to get some insight about this tensor field is to consider a\n", 
            "localized version $f_x$ of the image around point $x$, defined by\n", 
            "$f_x(y) = h_\\si(x-y)^{1/2} f(y)$, which is close to zero when $y$ is\n", 
            "far away from $x$.\n", 
            "One has the following Taylor expansion of the $L^2$ norm between two\n", 
            "close enough localizations:\n", 
            "$$ \\norm{f_x - f_{x+\\de}}^2 = \\de^* T_\\si(x) \\de + O(\\norm{\\de}^3). $$\n", 
            "\n", 
            "\n", 
            "To better understand the behavior of $T_\\si$ as a function of $\\si$,\n", 
            "one can computes its Taylor expansion for small $\\si$\n", 
            "$$ T_\\si(x) = T_0(x) + \\si^2 Hf(x)^2 + O(\\si^3), $$\n", 
            "where $Hf(x) \\in \\RR^{2 \\times 2}$ is the Hessian matrix of $f$ at point $x$.\n", 
            "This shows that when $\\si$ increases, the intial rank-1 tensor $T_0(x)$\n", 
            "becomes full rank because it integrates energy from $Hf(x)^2$.\n", 
            "\n", 
            "\n", 
            "A convenient way to display a tensor field\n", 
            "such as $T_\\si$ is to draw\n", 
            "an ellispe $\\Ee_x$ at each pixel $x$ as the (scaled and translated) unit ball of the tensor\n", 
            "$$ \\Ee_x = \\enscond{\\de \\in \\RR^2}{ \\de^* T_\\si(x) \\de \\leq 1 }. $$\n", 
            "This allows one to visualize the anisotropy and orientation encoded in\n", 
            "the tensor field.\n", 
            "\n", 
            "\n", 
            "Display $T_\\si$ for $\\si=0.1$ (the tensors are almost rank-1):\n", 
            ""
          ]
        }, 
        {
          "cell_type": "code", 
          "collapsed": false, 
          "input": [
            "options.sub = 8\n", 
            "clf; sigma = .1\n", 
            "plot_tensor_field(rotate(T(f,sigma)), f, options)\n", 
            "title(['\\sigma=' num2str(sigma)])"
          ], 
          "language": "python", 
          "outputs": []
        }, 
        {
          "cell_type": "markdown", 
          "metadata": {}, 
          "source": [
            "\n", 
            "\n", 
            "For $\\si=4$:\n", 
            ""
          ]
        }, 
        {
          "cell_type": "code", 
          "collapsed": false, 
          "input": [
            "clf; sigma = 4\n", 
            "plot_tensor_field(rotate(T(f,sigma)), f, options)\n", 
            "title(['\\sigma=' num2str(sigma)])"
          ], 
          "language": "python", 
          "outputs": []
        }, 
        {
          "cell_type": "markdown", 
          "metadata": {}, 
          "source": [
            "\n", 
            "\n", 
            "\n", 
            "For $\\si=10$:\n", 
            ""
          ]
        }, 
        {
          "cell_type": "code", 
          "collapsed": false, 
          "input": [
            "clf; sigma = 10\n", 
            "plot_tensor_field(rotate(T(f,sigma)), f, options)\n", 
            "title(['\\sigma=' num2str(sigma)])"
          ], 
          "language": "python", 
          "outputs": []
        }, 
        {
          "cell_type": "heading", 
          "level": 2, 
          "metadata": {}, 
          "source": [
            "Eigen-decomposition and Anisotropy\n"
          ]
        }, 
        {
          "cell_type": "markdown", 
          "metadata": {}, 
          "source": [
            "A symmetric tensor field $S(x)$ can be decomposed as\n", 
            "$$ S(x) = \\lambda_1(x) e_1(x) \\otimes e_1(x) + \\lambda_2(x) e_2(x) \\otimes  e_2(x), $$\n", 
            "where $(e_1(x),e_2(x))$ are the orthogonal eigenvector fields, $0 \\leq \\lambda_2(x) \\leq \\lambda_1(x)$\n", 
            "are the eigenvalues.\n", 
            "\n", 
            "\n", 
            "Compute the eigenvalues of $S \\in \\RR^{2 \\times 2}$ as\n", 
            "$$ \\la_i =  \\frac{1}{2} \\pa{ S_{1,1}+S_{2,2} \\pm \\sqrt{\\Delta(S)} }\n", 
            "      \\qwhereq \\Delta(S) = (S_{1,1}-S_{2,2})^2 + 4 S_{1,2}^2, $$\n", 
            "where one should use the $+$ sign for $i=1$.\n", 
            ""
          ]
        }, 
        {
          "cell_type": "code", 
          "collapsed": false, 
          "input": [
            "delta = lambda S: (S(:,:,1)-S(:,:,2)).^2 + 4*S(:,:,3).^2\n", 
            "eigenval = lambda S: deal( ...\n", 
            "    (S(:,:,1)+S(:,:,2)+sqrt(delta(S)))/2,  ...\n", 
            "    (S(:,:,1)+S(:,:,2)-sqrt(delta(S)))/2 )"
          ], 
          "language": "python", 
          "outputs": []
        }, 
        {
          "cell_type": "markdown", 
          "metadata": {}, 
          "source": [
            "\n", 
            "\n", 
            "Compute (at each location $x$) the leading eigenvector as\n", 
            "$$ e_1 = \\frac{1}{Z} \\begin{pmatrix}\n", 
            "      2 S_{1,2} \\\\\n", 
            "      S_{2,2}-S_{1,1} + \\sqrt{\\Delta(S)}\n", 
            "  \\end{pmatrix} $$\n", 
            "where $Z$ is a normalization factor ensuring $\\norm{e_1}=1$.\n", 
            ""
          ]
        }, 
        {
          "cell_type": "code", 
          "collapsed": false, 
          "input": [
            "normalize = lambda u: u./repmat(sqrt(sum(u.^2,3)), [1 1 2])\n", 
            "eig1 = lambda S: normalize( cat(3,2*S(:,:,3), S(:,:,2)-S(:,:,1)+sqrt(delta(S)) ) )"
          ], 
          "language": "python", 
          "outputs": []
        }, 
        {
          "cell_type": "markdown", 
          "metadata": {}, 
          "source": [
            "\n", 
            "\n", 
            "Vector $e_2$ is obtained by applying a $\\pi/2$ rotation to $e_1$,\n", 
            "which defines the eigenbasis.\n", 
            ""
          ]
        }, 
        {
          "cell_type": "code", 
          "collapsed": false, 
          "input": [
            "ortho = lambda u: deal(u, cat(3,-u(:,:,2), u(:,:,1)))\n", 
            "eigbasis = lambda S: ortho(eig1(S))"
          ], 
          "language": "python", 
          "outputs": []
        }, 
        {
          "cell_type": "markdown", 
          "metadata": {}, 
          "source": [
            "\n", 
            "\n", 
            "Compute the eigendecomposition of $T_\\si$.\n", 
            ""
          ]
        }, 
        {
          "cell_type": "code", 
          "collapsed": false, 
          "input": [
            "sigma = 2\n", 
            "S = T(f,sigma)\n", 
            "[lambda1,lambda2] = eigenval(S)\n", 
            "[e1,e2] = eigbasis(S)"
          ], 
          "language": "python", 
          "outputs": []
        }, 
        {
          "cell_type": "markdown", 
          "metadata": {}, 
          "source": [
            "\n", 
            "\n", 
            "Implement the reconstruction formula\n", 
            "$$ S = \\la_1 (e_1 \\otimes e_1) + \\la_2 (e_2 \\otimes e_2). $$\n", 
            ""
          ]
        }, 
        {
          "cell_type": "code", 
          "collapsed": false, 
          "input": [
            "recompose = lambda lambda1,lambda2,e1,e2: repmat(lambda1,[1 1 3]).*tensorize(e1) + repmat(lambda2,[1 1 3]).*tensorize(e2)"
          ], 
          "language": "python", 
          "outputs": []
        }, 
        {
          "cell_type": "markdown", 
          "metadata": {}, 
          "source": [
            "\n", 
            "\n", 
            "Check that the recomposition is exact.\n", 
            ""
          ]
        }, 
        {
          "cell_type": "code", 
          "collapsed": false, 
          "input": [
            "mynorm = lambda x: norm(x(:))\n", 
            "S1 = recompose(lambda1,lambda2,e1,e2)\n", 
            "fprintf('Should be 0: %.3f\\n', mynorm(S-S1))"
          ], 
          "language": "python", 
          "outputs": []
        }, 
        {
          "cell_type": "markdown", 
          "metadata": {}, 
          "source": [
            "\n", 
            "\n", 
            "The eigenvalues of $T_\\si$ can be used to detect interest point in the\n", 
            "image:\n", 
            "\n", 
            "\n", 
            "* A flat region is composed of pixels $x$ with $\\la_1(x) \\approx \\la_2(x) \\approx 0$.\n", 
            "* A straight edge is composed of pixels $x$ with $0 \\approx \\la_2(x) \\ll \\la_1(x)$.\n", 
            "* A corner is composed of pixels $x$ with $0 \\ll \\la_2(x) \\approx \\la_1(x)$.\n", 
            "\n", 
            "\n", 
            "This idea is at the heart of the Forstner/Harris corner detector <#biblio [HarSteph88]> <#biblio [Forstner86]>.\n", 
            "\n", 
            "\n", 
            "Compute the energy and anisotropy\n", 
            "$$ E(x) = \\sqrt{\\lambda_1(x)+\\lambda_2(x)} \\qandq\n", 
            "  A(x) =  \\frac{\\lambda_1(x)-\\la_2(x)}{\\la_1(x) + \\lambda_2(x)} \\in [0,1]. $$\n", 
            ""
          ]
        }, 
        {
          "cell_type": "code", 
          "collapsed": false, 
          "input": [
            "E = sqrt(lambda1+lambda2)\n", 
            "A = (lambda1-lambda2)./(lambda1+lambda2)"
          ], 
          "language": "python", 
          "outputs": []
        }, 
        {
          "cell_type": "markdown", 
          "metadata": {}, 
          "source": [
            "\n", 
            "\n", 
            "Display it.\n", 
            ""
          ]
        }, 
        {
          "cell_type": "code", 
          "collapsed": false, 
          "input": [
            "\n", 
            "imageplot({E A}, {'E', 'A'})"
          ], 
          "language": "python", 
          "outputs": []
        }, 
        {
          "cell_type": "heading", 
          "level": 2, 
          "metadata": {}, 
          "source": [
            "Tensor Driven Anisotropic Diffusion\n"
          ]
        }, 
        {
          "cell_type": "markdown", 
          "metadata": {}, 
          "source": [
            "A tensor field $S$ can be used as anisotropic metric to drive a diffusion PDE flow.\n", 
            "The good reference for such a flow is <#biblio [Weickert98]>.\n", 
            "\n", 
            "\n", 
            "This defines an anisotropic diffusion flow $t \\mapsto f_t$\n", 
            "$$ \\pd{f_t}{t}(x) = \\text{div}\\pa{ S(x) \\nabla f_t(x) } $$\n", 
            "where $f_0$ is a given data at time $t=0$.\n", 
            "\n", 
            "\n", 
            "Note that this is actually a linear PDE, since $S$ does not evolve in\n", 
            "time. But in practice, $S$ is usually computed from $f_0$, so that\n", 
            "the mapping $f_0 \\mapsto f_t$ is actually non-linear.\n", 
            "\n", 
            "\n", 
            "This PDE is discretized in time using a explicit time stepping\n", 
            "$$ f^{(\\ell+1)}(x) = f^{(\\ell)}(x) + \\tau \\text{div}\\pa{ S(x) \\nabla f^{(\\ell)}(x) } $$\n", 
            "\n", 
            "\n", 
            "The time step $\\tau$ should be small enough for the diffusion to be stable.\n", 
            "\n", 
            "\n", 
            "To produce edge-enhancing diffusion, we define $S$ from the structure\n", 
            "tensor field $T_\\si$ by re-normalizing the eigenvalues.\n", 
            "$$ S(x) = \\phi(\\lambda_1(x)) e_1(x)e_1(x)^* + e_2(x)e_2(x)^*, $$\n", 
            "where $\\phi : \\RR^+ \\rightarrow \\RR^+$ is defined, following\n", 
            "<#biblio [Weickert98]>, as\n", 
            "$$ \\phi(s) = 1 - \\text{exp}\\pa{\n", 
            "     -\\frac{C_m}{(s/\\la)^m} }. $$\n", 
            "Here $m$ is a given exponent, and\n", 
            "the constant $C_m$ ensures that $s \\phi(s)$ is increasing for\n", 
            "$s < \\la$ and decreasing for $s > \\la$, which produces the\n", 
            "edge-enhancing effect.\n", 
            "\n", 
            "\n", 
            "Set the values of $m$ and $C_m$.\n", 
            ""
          ]
        }, 
        {
          "cell_type": "code", 
          "collapsed": false, 
          "input": [
            "m = 4\n", 
            "Cm = 3.31488"
          ], 
          "language": "python", 
          "outputs": []
        }, 
        {
          "cell_type": "markdown", 
          "metadata": {}, 
          "source": [
            "\n", 
            "\n", 
            "Define $\\phi$.\n", 
            ""
          ]
        }, 
        {
          "cell_type": "code", 
          "collapsed": false, 
          "input": [
            "phi = lambda s,lambda: 1-exp( -Cm./(s/lambda).^m )"
          ], 
          "language": "python", 
          "outputs": []
        }, 
        {
          "cell_type": "markdown", 
          "metadata": {}, 
          "source": [
            "\n", 
            "\n", 
            "Display $\\phi(s)$ and $s\\phi(s)$ for $\\la=1$.\n", 
            ""
          ]
        }, 
        {
          "cell_type": "code", 
          "collapsed": false, 
          "input": [
            "s = linspace(0,3,1024)'\n", 
            "\n", 
            "plot(s, [phi(s,1) s.*phi(s,1)], 'LineWidth', 2)\n", 
            "legend('\\phi(s)', 's \\phi(s)')"
          ], 
          "language": "python", 
          "outputs": []
        }, 
        {
          "cell_type": "markdown", 
          "metadata": {}, 
          "source": [
            "\n", 
            "\n", 
            "Select $\\lambda$.\n", 
            ""
          ]
        }, 
        {
          "cell_type": "code", 
          "collapsed": false, 
          "input": [
            "lambda = 1e-3"
          ], 
          "language": "python", 
          "outputs": []
        }, 
        {
          "cell_type": "markdown", 
          "metadata": {}, 
          "source": [
            "\n", 
            "\n", 
            "Select $\\si$.\n", 
            ""
          ]
        }, 
        {
          "cell_type": "code", 
          "collapsed": false, 
          "input": [
            "sigma = 2"
          ], 
          "language": "python", 
          "outputs": []
        }, 
        {
          "cell_type": "markdown", 
          "metadata": {}, 
          "source": [
            "\n", 
            "\n", 
            "Compute the eigen-decomposition of $T_\\si$.\n", 
            ""
          ]
        }, 
        {
          "cell_type": "code", 
          "collapsed": false, 
          "input": [
            "S = T(f,sigma)\n", 
            "[lambda1,lambda2] = eigenval(S)\n", 
            "[e1,e2] = eigbasis(S)"
          ], 
          "language": "python", 
          "outputs": []
        }, 
        {
          "cell_type": "markdown", 
          "metadata": {}, 
          "source": [
            "\n", 
            "\n", 
            "\n", 
            "Compute $S$.\n", 
            ""
          ]
        }, 
        {
          "cell_type": "code", 
          "collapsed": false, 
          "input": [
            "S = recompose(phi(lambda1,lambda),ones(n),e1,e2)"
          ], 
          "language": "python", 
          "outputs": []
        }, 
        {
          "cell_type": "markdown", 
          "metadata": {}, 
          "source": [
            "\n", 
            "\n", 
            "Note that this remapping of the eigenvalues of $T$ to the eigenvalues\n", 
            "of $S$ exchanges the roles of the eigenaxes. This causes the diffusion\n", 
            "to be stronger along the edges, and to be small perpenticular to it.\n", 
            "\n", 
            "\n", 
            "This flow can thus be seen as an anisotropic version of the famous\n", 
            "Perona-Malick flow <#biblio [PerMal90]>. Note that the Perona-Malick flow\n", 
            "is often refered to as an _anisotropic diffusion_, but it is actually\n", 
            "incorrect, because the diffusion tensor associated to is is actually\n", 
            "isotropic, since it corresponds to using a time-dependent tensor field\n", 
            "$$ S(x) = \\phi(\\norm{\\nabla f_t(x)}) \\text{Id}_2 . $$\n", 
            "\n", 
            "\n", 
            "Shortcut for the multiplication $S u$ of tensor\n", 
            "$S$ by vector field $u$.\n", 
            ""
          ]
        }, 
        {
          "cell_type": "code", 
          "collapsed": false, 
          "input": [
            "Mult = lambda S,u: cat(3, S(:,:,1).*u(:,:,1) + S(:,:,3).*u(:,:,2), ...\n", 
            "                          S(:,:,3).*u(:,:,1) + S(:,:,2).*u(:,:,2) )"
          ], 
          "language": "python", 
          "outputs": []
        }, 
        {
          "cell_type": "markdown", 
          "metadata": {}, 
          "source": [
            "\n", 
            "\n", 
            "Step size $\\tau$.\n", 
            ""
          ]
        }, 
        {
          "cell_type": "code", 
          "collapsed": false, 
          "input": [
            "tau = .05"
          ], 
          "language": "python", 
          "outputs": []
        }, 
        {
          "cell_type": "markdown", 
          "metadata": {}, 
          "source": [
            "\n", 
            "\n", 
            "First initialize the image to diffuse at time $t=0$.\n", 
            ""
          ]
        }, 
        {
          "cell_type": "code", 
          "collapsed": false, 
          "input": [
            "f1 = f"
          ], 
          "language": "python", 
          "outputs": []
        }, 
        {
          "cell_type": "markdown", 
          "metadata": {}, 
          "source": [
            "\n", 
            "\n", 
            "Perform one step of the diffusion.\n", 
            ""
          ]
        }, 
        {
          "cell_type": "code", 
          "collapsed": false, 
          "input": [
            "f1 = f1 + tau * div( Mult(S, nabla(f1) ) )"
          ], 
          "language": "python", 
          "outputs": []
        }, 
        {
          "cell_type": "heading", 
          "level": 3, 
          "metadata": {}, 
          "source": [
            "Exercise 1"
          ]
        }, 
        {
          "cell_type": "markdown", 
          "metadata": {}, 
          "source": [
            "\n", 
            "Perform the full diffusion up to a large enough time.\n", 
            "\n", 
            "\n", 
            "\n", 
            "\n", 
            "\n", 
            "\n", 
            "\n", 
            "\n", 
            "\n", 
            "\n", 
            "\n", 
            "\n", 
            ""
          ]
        }, 
        {
          "cell_type": "code", 
          "collapsed": false, 
          "input": [
            "## Insert your code here."
          ], 
          "language": "python", 
          "outputs": []
        }, 
        {
          "cell_type": "markdown", 
          "metadata": {}, 
          "source": [
            "\n", 
            "\n", 
            ""
          ]
        }, 
        {
          "cell_type": "heading", 
          "level": 2, 
          "metadata": {}, 
          "source": [
            "Bibliography\n"
          ]
        }
      ]
    }
  ]
}