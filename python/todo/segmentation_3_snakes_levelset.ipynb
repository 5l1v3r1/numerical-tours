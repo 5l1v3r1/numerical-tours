{
  "metadata": {
    "name": ""
  }, 
  "nbformat": 3, 
  "nbformat_minor": 0, 
  "worksheets": [
    {
      "cells": [
        {
          "cell_type": "heading", 
          "level": 1, 
          "metadata": {}, 
          "source": [
            "Active Contours using Level Sets"
          ]
        }, 
        {
          "cell_type": "markdown", 
          "metadata": {}, 
          "source": [
            "This tour explores image segementation using level set methods.\n", 
            ""
          ]
        }, 
        {
          "cell_type": "markdown", 
          "metadata": {}, 
          "source": [
            "*Important:* You need to download the file `nt_toolbox.py` from the \n", 
            "root of the github repository.\n", 
            "$\\newcommand{\\dotp}[2]{\\langle #1, #2 \\rangle}\n", 
            "\\newcommand{\\enscond}[2]{\\lbrace #1, #2 \\rbrace}\n", 
            "\\newcommand{\\pd}[2]{ \\frac{ \\partial #1}{\\partial #2} }\n", 
            "\\newcommand{\\umin}[1]{\\underset{#1}{\\min}\\;}\n", 
            "\\newcommand{\\norm}[1]{\\|#1\\|}\n", 
            "\\newcommand{\\abs}[1]{\\left|#1\\right|}\n", 
            "\\newcommand{\\choice}[1]{ \\left\\{  \\begin{array}{l} #1 \\end{array} \\right. }\n", 
            "\\newcommand{\\pa}[1]{\\left(#1\\right)}\n", 
            "\\newcommand{\\qandq}{\\quad\\text{and}\\quad}\n", 
            "\\newcommand{\\qwhereq}{\\quad\\text{where}\\quad}\n", 
            "\\newcommand{\\qifq}{ \\quad \\text{if} \\quad }\n", 
            "\\newcommand{\\qarrq}{ \\quad \\Longrightarrow \\quad }\n", 
            "\\newcommand{\\ZZ}{\\mathbb{Z}}\n", 
            "\\newcommand{\\RR}{\\mathbb{R}}\n", 
            "\\newcommand{\\Nn}{\\mathcal{N}}\n", 
            "\\newcommand{\\Hh}{\\mathcal{H}}\n", 
            "\\newcommand{\\Bb}{\\mathcal{B}}\n", 
            "\\newcommand{\\EE}{\\mathbb{E}}\n", 
            "\\newcommand{\\CC}{\\mathbb{C}}\n", 
            "\\newcommand{\\si}{\\sigma}\n", 
            "\\newcommand{\\al}{\\alpha}\n", 
            "\\newcommand{\\la}{\\lambda}\n", 
            "\\newcommand{\\ga}{\\gamma}\n", 
            "\\newcommand{\\Ga}{\\Gamma}\n", 
            "\\newcommand{\\La}{\\Lambda}\n", 
            "\\newcommand{\\si}{\\sigma}\n", 
            "\\newcommand{\\Si}{\\Sigma}\n", 
            "\\newcommand{\\be}{\\beta}\n", 
            "\\newcommand{\\de}{\\delta}\n", 
            "\\newcommand{\\De}{\\Delta}\n", 
            "\\renewcommand{\\phi}{\\varphi}\n", 
            "\\renewcommand{\\th}{\\theta}\n", 
            "\\newcommand{\\om}{\\omega}\n", 
            "\\newcommand{\\Om}{\\Omega}\n", 
            "$"
          ]
        }, 
        {
          "cell_type": "code", 
          "collapsed": false, 
          "input": [
            "from nt_toolbox import *", 
            "%matplotlib inline", 
            "%load_ext autoreload", 
            "%autoreload 2"
          ], 
          "language": "python", 
          "outputs": []
        }, 
        {
          "cell_type": "markdown", 
          "metadata": {}, 
          "source": [
            "\n", 
            "\n", 
            "CMT"
          ]
        }, 
        {
          "cell_type": "code", 
          "collapsed": false, 
          "input": [
            "rep = 'results/variational_segmentation/'\n", 
            "if not(exist(rep))\n", 
            "    mkdir(rep)\n", 
            ""
          ], 
          "language": "python", 
          "outputs": []
        }, 
        {
          "cell_type": "markdown", 
          "metadata": {}, 
          "source": [
            "CMT\n", 
            "\n", 
            ""
          ]
        }, 
        {
          "cell_type": "heading", 
          "level": 2, 
          "metadata": {}, 
          "source": [
            "Managing level set functions\n"
          ]
        }, 
        {
          "cell_type": "markdown", 
          "metadata": {}, 
          "source": [
            "In the level set formalism, the evolution of some curve $ (\\ga(t))_{t=0}^1 $\n", 
            "is computed by evolving the\n", 
            "zero level of a function $\\phi : \\RR^2 \\rightarrow \\RR $\n", 
            "$$ \\enscond{\\ga(s)}{ s \\in [0,1] } = \\enscond{x \\in \\RR^2}{\\phi(x)=0}. $$\n", 
            "This corresponds to replacing the parameteric representation $\\ga$ of\n", 
            "the curve by an implicit representation. This requires an additional\n", 
            "dimension (and hence more storage) but ease the handling of topological\n", 
            "change of the curve during the evolution.\n", 
            "\n", 
            "\n", 
            "Discretazion size $n \\times n$ of the domain $[0,1]^2$.\n", 
            ""
          ]
        }, 
        {
          "cell_type": "code", 
          "collapsed": false, 
          "input": [
            "n = 200\n", 
            "[Y,X] = meshgrid(1:n,1:n)"
          ], 
          "language": "python", 
          "outputs": []
        }, 
        {
          "cell_type": "markdown", 
          "metadata": {}, 
          "source": [
            "\n", 
            "\n", 
            "One can create a circular shape by using the signed distance function to\n", 
            "a circle\n", 
            "$$ \\phi_1(x) = \\sqrt{ (x_1-c_1)^2 + (x_2-c_2)^2 } - r $$\n", 
            "where $r>0$ is the radius and $c \\in \\RR^2$ the center.\n", 
            "\n", 
            "\n", 
            "Radius $r$.\n", 
            ""
          ]
        }, 
        {
          "cell_type": "code", 
          "collapsed": false, 
          "input": [
            "r = n/3"
          ], 
          "language": "python", 
          "outputs": []
        }, 
        {
          "cell_type": "markdown", 
          "metadata": {}, 
          "source": [
            "\n", 
            "\n", 
            "Center $c$.\n", 
            ""
          ]
        }, 
        {
          "cell_type": "code", 
          "collapsed": false, 
          "input": [
            "c = [r r] + 10"
          ], 
          "language": "python", 
          "outputs": []
        }, 
        {
          "cell_type": "markdown", 
          "metadata": {}, 
          "source": [
            "\n", 
            "\n", 
            "\n", 
            "Distance function $\\phi_1$.\n", 
            ""
          ]
        }, 
        {
          "cell_type": "code", 
          "collapsed": false, 
          "input": [
            "phi1 = sqrt( (X-c(1)).^2 + (Y-c(2)).^2 ) - r"
          ], 
          "language": "python", 
          "outputs": []
        }, 
        {
          "cell_type": "heading", 
          "level": 3, 
          "metadata": {}, 
          "source": [
            "Exercise 1"
          ]
        }, 
        {
          "cell_type": "markdown", 
          "metadata": {}, 
          "source": [
            "\n", 
            "Load a square shape $\\phi_2$ at a different position for the center.\n", 
            "\n", 
            "radius\n", 
            "\n", 
            "center\n", 
            "\n", 
            "shape\n", 
            ""
          ]
        }, 
        {
          "cell_type": "code", 
          "collapsed": false, 
          "input": [
            "## Insert your code here."
          ], 
          "language": "python", 
          "outputs": []
        }, 
        {
          "cell_type": "markdown", 
          "metadata": {}, 
          "source": [
            "\n", 
            "\n", 
            "\n", 
            "Display the curves associated to $\\phi_1$ and $\\phi_2$.\n", 
            ""
          ]
        }, 
        {
          "cell_type": "code", 
          "collapsed": false, 
          "input": [
            "\n", 
            "subplot(1,2,1)\n", 
            "plot_levelset(phi1)\n", 
            "subplot(1,2,2)\n", 
            "plot_levelset(phi2)"
          ], 
          "language": "python", 
          "outputs": []
        }, 
        {
          "cell_type": "heading", 
          "level": 3, 
          "metadata": {}, 
          "source": [
            "Exercise 2"
          ]
        }, 
        {
          "cell_type": "markdown", 
          "metadata": {}, 
          "source": [
            "\n", 
            "Compute the intersection and the union of the two shapes.\n", 
            "Store the union in $\\phi_0$ (variable |phi0|),\n", 
            "that we will use in the remaining part of the tour.\n", 
            "\n", 
            "\n", 
            "\n", 
            "\n", 
            "\n", 
            "\n", 
            "\n", 
            ""
          ]
        }, 
        {
          "cell_type": "code", 
          "collapsed": false, 
          "input": [
            "## Insert your code here."
          ], 
          "language": "python", 
          "outputs": []
        }, 
        {
          "cell_type": "markdown", 
          "metadata": {}, 
          "source": [
            "\n", 
            "\n", 
            ""
          ]
        }, 
        {
          "cell_type": "heading", 
          "level": 2, 
          "metadata": {}, 
          "source": [
            "Mean Curvature Motion.\n"
          ]
        }, 
        {
          "cell_type": "markdown", 
          "metadata": {}, 
          "source": [
            "The mean curvature motion corresponds to the minimizing flow of the\n", 
            "length of the curve\n", 
            "$$ \\int_0^1 \\norm{\\ga'(s)} d s. $$\n", 
            "\n", 
            "\n", 
            "\n", 
            "It is implemeted in a level set formalism by a familly $\\phi_t$ of\n", 
            "level set function parameterized by an artificial time $t \\geq 0$, that\n", 
            "satisfies the following PDE\n", 
            "$$ \\pd{\\phi_t}{t} = -G(\\phi_t)\n", 
            "  \\qwhereq G(\\phi) = -\\norm{\\nabla \\phi} \\text{div}\n", 
            "      \\pa{  \\frac{\\nabla \\phi}{\\norm{\\nabla \\phi}} }  $$\n", 
            "and where $\\nabla \\phi_t(x) \\in \\RR^2$ is the spacial gradient.\n", 
            "\n", 
            "\n", 
            "This flow is computed using a gradient descent\n", 
            "$\\phi^{(0)} = \\phi_0$ and\n", 
            "This is implemented using a gradient descent scheme.\n", 
            "$$ \\phi^{(\\ell+1)} = \\phi^{(\\ell)} - \\tau G(\\phi^{(\\ell)}), $$\n", 
            "where $\\tau>0$ is small enough time step.\n", 
            "\n", 
            "\n", 
            "Maximum time of the evolution $0 \\leq t \\leq t_{\\max}$.\n", 
            ""
          ]
        }, 
        {
          "cell_type": "code", 
          "collapsed": false, 
          "input": [
            "Tmax = 200"
          ], 
          "language": "python", 
          "outputs": []
        }, 
        {
          "cell_type": "markdown", 
          "metadata": {}, 
          "source": [
            "\n", 
            "\n", 
            "Time step $\\tau>0$ (should be small).\n", 
            ""
          ]
        }, 
        {
          "cell_type": "code", 
          "collapsed": false, 
          "input": [
            "tau = .5"
          ], 
          "language": "python", 
          "outputs": []
        }, 
        {
          "cell_type": "markdown", 
          "metadata": {}, 
          "source": [
            "\n", 
            "\n", 
            "Number of iterations.\n", 
            ""
          ]
        }, 
        {
          "cell_type": "code", 
          "collapsed": false, 
          "input": [
            "niter = round(Tmax/tau)"
          ], 
          "language": "python", 
          "outputs": []
        }, 
        {
          "cell_type": "markdown", 
          "metadata": {}, 
          "source": [
            "\n", 
            "\n", 
            "We use centered differences for the discretization of the gradient.\n", 
            ""
          ]
        }, 
        {
          "cell_type": "code", 
          "collapsed": false, 
          "input": [
            "options.order = 2"
          ], 
          "language": "python", 
          "outputs": []
        }, 
        {
          "cell_type": "markdown", 
          "metadata": {}, 
          "source": [
            "\n", 
            "\n", 
            "Initial shape $\\phi^{(0)}$ at $t=0$.\n", 
            ""
          ]
        }, 
        {
          "cell_type": "code", 
          "collapsed": false, 
          "input": [
            "phi = phi0"
          ], 
          "language": "python", 
          "outputs": []
        }, 
        {
          "cell_type": "markdown", 
          "metadata": {}, 
          "source": [
            "\n", 
            "\n", 
            "We now compute the right hand side of the evolution equation.\n", 
            "\n", 
            "\n", 
            "Compute the gradient $\\nabla \\phi$.\n", 
            ""
          ]
        }, 
        {
          "cell_type": "code", 
          "collapsed": false, 
          "input": [
            "g0 = grad(phi,options)"
          ], 
          "language": "python", 
          "outputs": []
        }, 
        {
          "cell_type": "markdown", 
          "metadata": {}, 
          "source": [
            "\n", 
            "\n", 
            "Norm $\\norm{\\nabla \\phi}$ of the gradient.\n", 
            ""
          ]
        }, 
        {
          "cell_type": "code", 
          "collapsed": false, 
          "input": [
            "d = max(eps, sqrt(sum(g0.^2,3)) )"
          ], 
          "language": "python", 
          "outputs": []
        }, 
        {
          "cell_type": "markdown", 
          "metadata": {}, 
          "source": [
            "\n", 
            "\n", 
            "Normalized gradient.\n", 
            ""
          ]
        }, 
        {
          "cell_type": "code", 
          "collapsed": false, 
          "input": [
            "g = g0 ./ repmat( d, [1 1 2] )"
          ], 
          "language": "python", 
          "outputs": []
        }, 
        {
          "cell_type": "markdown", 
          "metadata": {}, 
          "source": [
            "\n", 
            "\n", 
            "The curvature term.\n", 
            ""
          ]
        }, 
        {
          "cell_type": "code", 
          "collapsed": false, 
          "input": [
            "K = -d .* div( g,options )"
          ], 
          "language": "python", 
          "outputs": []
        }, 
        {
          "cell_type": "markdown", 
          "metadata": {}, 
          "source": [
            "\n", 
            "\n", 
            "Perform one step of the gradient descent.\n", 
            ""
          ]
        }, 
        {
          "cell_type": "code", 
          "collapsed": false, 
          "input": [
            "phi = phi - tau*K"
          ], 
          "language": "python", 
          "outputs": []
        }, 
        {
          "cell_type": "heading", 
          "level": 3, 
          "metadata": {}, 
          "source": [
            "Exercise 3"
          ]
        }, 
        {
          "cell_type": "markdown", 
          "metadata": {}, 
          "source": [
            "\n", 
            "Implement the mean curvature motion.\n", 
            "\n", 
            "\n", 
            "\n", 
            "\n", 
            "\n", 
            "\n", 
            "\n", 
            "\n", 
            "\n", 
            "\n", 
            "\n", 
            "\n", 
            "\n", 
            "\n", 
            "\n", 
            "\n", 
            "\n", 
            "\n", 
            "\n", 
            "\n", 
            ""
          ]
        }, 
        {
          "cell_type": "code", 
          "collapsed": false, 
          "input": [
            "## Insert your code here."
          ], 
          "language": "python", 
          "outputs": []
        }, 
        {
          "cell_type": "markdown", 
          "metadata": {}, 
          "source": [
            "\n", 
            "\n", 
            ""
          ]
        }, 
        {
          "cell_type": "heading", 
          "level": 2, 
          "metadata": {}, 
          "source": [
            "Levelset Re-distancing\n"
          ]
        }, 
        {
          "cell_type": "markdown", 
          "metadata": {}, 
          "source": [
            "During PDE resolution, a level set function $\\phi$ might become\n", 
            "ill-conditionned, so that the zero crossing is not sharp enough.\n", 
            "The quality of the level set function is restored by computing the\n", 
            "signed distance function to the zero level set.\n", 
            "\n", 
            "\n", 
            "\n", 
            "This corresponds to first extracting the zero level set\n", 
            "$$ \\Cc = \\enscond{x \\in \\RR^2 }{\\phi(x)=0},  $$\n", 
            "and then solving the following eikonal equation PDE on $\\tilde \\phi$\n", 
            "(in viscosity sense)\n", 
            "$$ \\norm{\\nabla \\tilde \\phi(x)} = 1\n", 
            "      \\qandq \\forall y \\in \\Cc, \\tilde\\phi(y)=0. $$\n", 
            "The one can replace $\\phi$ by $\\text{sign}(\\phi(x))\\tilde \\phi(x)$\n", 
            "which is the signed distance function to $\\Cc$.\n", 
            "\n", 
            "\n", 
            "We set $\\phi=\\phi_0^3$ so that they are both valid level set function\n", 
            "of the same curve, but $\\phi$ is not the signed distance function..\n", 
            ""
          ]
        }, 
        {
          "cell_type": "code", 
          "collapsed": false, 
          "input": [
            "phi = phi0.^3"
          ], 
          "language": "python", 
          "outputs": []
        }, 
        {
          "cell_type": "markdown", 
          "metadata": {}, 
          "source": [
            "\n", 
            "\n", 
            "Solve the eikonal PDE using the Fast Marching algorithm.\n", 
            ""
          ]
        }, 
        {
          "cell_type": "code", 
          "collapsed": false, 
          "input": [
            "phi1 = perform_redistancing(phi0)"
          ], 
          "language": "python", 
          "outputs": []
        }, 
        {
          "cell_type": "markdown", 
          "metadata": {}, 
          "source": [
            "\n", 
            "\n", 
            "Display the level sets.\n", 
            ""
          ]
        }, 
        {
          "cell_type": "code", 
          "collapsed": false, 
          "input": [
            "\n", 
            "subplot(1,2,1)\n", 
            "plot_levelset(phi)\n", 
            "title('Before redistancing')\n", 
            "subplot(1,2,2)\n", 
            "plot_levelset(phi1)\n", 
            "title('After redistancing')"
          ], 
          "language": "python", 
          "outputs": []
        }, 
        {
          "cell_type": "markdown", 
          "metadata": {}, 
          "source": [
            "\n", 
            ""
          ]
        }, 
        {
          "cell_type": "heading", 
          "level": 2, 
          "metadata": {}, 
          "source": [
            "Edge-based Segmentation with Geodesic Active Contour\n"
          ]
        }, 
        {
          "cell_type": "markdown", 
          "metadata": {}, 
          "source": [
            "Geodesic active contours compute loval minimum of a weighted geodesic\n", 
            "distance that attract the curve toward the features of the background\n", 
            "image.\n", 
            "\n", 
            "\n", 
            "_Note:_ these active contours should not be confounded with the geodesic shortest paths,\n", 
            "that are globally minimizing geodesics between two points.\n", 
            "Here the active contour is a close curve progressively decreasing a\n", 
            "weighted geodesic length that is only a local minimum\n", 
            "(the global minimum would be a single point).\n", 
            "\n", 
            "\n", 
            "Size of the image.\n", 
            ""
          ]
        }, 
        {
          "cell_type": "code", 
          "collapsed": false, 
          "input": [
            "n = 200"
          ], 
          "language": "python", 
          "outputs": []
        }, 
        {
          "cell_type": "markdown", 
          "metadata": {}, 
          "source": [
            "\n", 
            "\n", 
            "First we load an image $f_0 \\in \\RR^{n \\times n}$ to segment.\n", 
            ""
          ]
        }, 
        {
          "cell_type": "code", 
          "collapsed": false, 
          "input": [
            "name = 'cortex'\n", 
            "f0 = rescale( sum( load_image(name, n), 3) )"
          ], 
          "language": "python", 
          "outputs": []
        }, 
        {
          "cell_type": "markdown", 
          "metadata": {}, 
          "source": [
            "\n", 
            "\n", 
            "Given a background image $f_0$ to segment, one needs to compute\n", 
            "an edge-stopping function $W$.\n", 
            "It should be small in area of high gradient, and high in area of large gradient.\n", 
            "\n", 
            "\n", 
            "We use here\n", 
            "$$ W(x) = \\al + \\frac{\\be}{\\epsilon + d(x) }\n", 
            "      \\qwhereq d = \\norm{\\nabla f_0} \\star h_a, $$\n", 
            "and where $h_a$ is a blurring kernel of size $a>0$.\n", 
            "\n", 
            "\n", 
            "Compute the magnitude of the gradient $d_0(x) = \\norm{\\nabla f_0(x)}$.\n", 
            ""
          ]
        }, 
        {
          "cell_type": "code", 
          "collapsed": false, 
          "input": [
            "g = grad(f0,options)\n", 
            "d0 = sqrt(sum(g.^2,3))"
          ], 
          "language": "python", 
          "outputs": []
        }, 
        {
          "cell_type": "markdown", 
          "metadata": {}, 
          "source": [
            "\n", 
            "\n", 
            "Blur size $a$.\n", 
            ""
          ]
        }, 
        {
          "cell_type": "code", 
          "collapsed": false, 
          "input": [
            "a = 5"
          ], 
          "language": "python", 
          "outputs": []
        }, 
        {
          "cell_type": "markdown", 
          "metadata": {}, 
          "source": [
            "\n", 
            "\n", 
            "Compute the blurring $d = d_0 \\star h_a$.\n", 
            ""
          ]
        }, 
        {
          "cell_type": "code", 
          "collapsed": false, 
          "input": [
            "d = perform_blurring( d0,a )"
          ], 
          "language": "python", 
          "outputs": []
        }, 
        {
          "cell_type": "markdown", 
          "metadata": {}, 
          "source": [
            "\n", 
            "\n", 
            "Parameter $\\epsilon>0$.\n", 
            ""
          ]
        }, 
        {
          "cell_type": "code", 
          "collapsed": false, 
          "input": [
            "epsilon = 1e-1"
          ], 
          "language": "python", 
          "outputs": []
        }, 
        {
          "cell_type": "markdown", 
          "metadata": {}, 
          "source": [
            "\n", 
            "\n", 
            "We set the $\\al$ and $\\be$ parameters to adjust the overall values of $W$\n", 
            "(equivalently we use the function |rescale|).\n", 
            ""
          ]
        }, 
        {
          "cell_type": "code", 
          "collapsed": false, 
          "input": [
            "W = 1./(epsilon+d)\n", 
            "W = rescale(-d,.1,1)"
          ], 
          "language": "python", 
          "outputs": []
        }, 
        {
          "cell_type": "markdown", 
          "metadata": {}, 
          "source": [
            "\n", 
            "\n", 
            "\n", 
            "Display it.\n", 
            ""
          ]
        }, 
        {
          "cell_type": "code", 
          "collapsed": false, 
          "input": [
            "\n", 
            "imageplot(f0,'Image to segment',1,2,1)\n", 
            "imageplot(W,'Weight',1,2,2)"
          ], 
          "language": "python", 
          "outputs": []
        }, 
        {
          "cell_type": "heading", 
          "level": 3, 
          "metadata": {}, 
          "source": [
            "Exercise 4"
          ]
        }, 
        {
          "cell_type": "markdown", 
          "metadata": {}, 
          "source": [
            "\n", 
            "Compute an initial shape $\\phi_0$ at time $t=0$,\n", 
            "for instance a centered square.\n", 
            "\n", 
            "\n", 
            "\n", 
            ""
          ]
        }, 
        {
          "cell_type": "code", 
          "collapsed": false, 
          "input": [
            "## Insert your code here."
          ], 
          "language": "python", 
          "outputs": []
        }, 
        {
          "cell_type": "markdown", 
          "metadata": {}, 
          "source": [
            "\n", 
            "\n", 
            "\n", 
            "Display it.\n", 
            ""
          ]
        }, 
        {
          "cell_type": "code", 
          "collapsed": false, 
          "input": [
            "\n", 
            "plot_levelset(phi0,0,f0)"
          ], 
          "language": "python", 
          "outputs": []
        }, 
        {
          "cell_type": "markdown", 
          "metadata": {}, 
          "source": [
            "\n", 
            "\n", 
            "The geodesic active contour minimizes a weighted length of curve\n", 
            "$$ \\umin{\\ga} \\int_0^1 \\norm{\\ga'(s)} W(\\ga(s)) d s $$\n", 
            "\n", 
            "\n", 
            "The level set implementation of the gradient descent of this energy reads\n", 
            "$$ \\pd{\\phi_t}{t} = G(\\phi_t)\n", 
            "  \\qwhereq G(\\phi) = -\\norm{\\nabla \\phi} \\text{div}\\pa{\n", 
            "          W \\frac{\\nabla \\phi}{\\norm{\\nabla \\phi}}\n", 
            "  } $$\n", 
            "\n", 
            "\n", 
            "This is implemented using a gradient descent scheme.\n", 
            "$$ \\phi^{(\\ell+1)} = \\phi^{(\\ell)} - \\tau G(\\phi^{(\\ell)}), $$\n", 
            "where $\\tau>0$ is small enough.\n", 
            "\n", 
            "\n", 
            "Gradient step size $\\tau>0$.\n", 
            ""
          ]
        }, 
        {
          "cell_type": "code", 
          "collapsed": false, 
          "input": [
            "tau = .4"
          ], 
          "language": "python", 
          "outputs": []
        }, 
        {
          "cell_type": "markdown", 
          "metadata": {}, 
          "source": [
            "\n", 
            "\n", 
            "Final time and number of iteration of the algorithm.\n", 
            ""
          ]
        }, 
        {
          "cell_type": "code", 
          "collapsed": false, 
          "input": [
            "Tmax = 1500\n", 
            "niter = round(Tmax/tau)"
          ], 
          "language": "python", 
          "outputs": []
        }, 
        {
          "cell_type": "markdown", 
          "metadata": {}, 
          "source": [
            "\n", 
            "\n", 
            "Initial distance function $\\phi^{(0)}=\\phi_0$.\n", 
            ""
          ]
        }, 
        {
          "cell_type": "code", 
          "collapsed": false, 
          "input": [
            "phi = phi0"
          ], 
          "language": "python", 
          "outputs": []
        }, 
        {
          "cell_type": "markdown", 
          "metadata": {}, 
          "source": [
            "\n", 
            "\n", 
            "Note that we can re-write the gradient of the energy as\n", 
            "$$ G(\\phi) = -W \\norm{\\nabla \\phi} \\text{div} \\pa{ \\frac{\\nabla \\phi}{\\norm{\\nabla \\phi}}  } - \\dotp{\\nabla W}{\\nabla \\phi} $$\n", 
            "\n", 
            "\n", 
            "Pre-compute once for all $\\nabla W$.\n", 
            ""
          ]
        }, 
        {
          "cell_type": "code", 
          "collapsed": false, 
          "input": [
            "gW = grad(W,options)"
          ], 
          "language": "python", 
          "outputs": []
        }, 
        {
          "cell_type": "heading", 
          "level": 3, 
          "metadata": {}, 
          "source": [
            "Exercise 5"
          ]
        }, 
        {
          "cell_type": "markdown", 
          "metadata": {}, 
          "source": [
            "\n", 
            "Compute and store in |G| the gradient $G(\\phi)$ (right hand side of the PDE)\n", 
            "using the current value of the distance function $\\phi$.\n", 
            "\n", 
            "normalized gradient\n", 
            "\n", 
            "\n", 
            "gradient\n", 
            ""
          ]
        }, 
        {
          "cell_type": "code", 
          "collapsed": false, 
          "input": [
            "## Insert your code here."
          ], 
          "language": "python", 
          "outputs": []
        }, 
        {
          "cell_type": "markdown", 
          "metadata": {}, 
          "source": [
            "\n", 
            "\n", 
            "\n", 
            "Do the descent step.\n", 
            ""
          ]
        }, 
        {
          "cell_type": "code", 
          "collapsed": false, 
          "input": [
            "phi = phi - tau*G"
          ], 
          "language": "python", 
          "outputs": []
        }, 
        {
          "cell_type": "markdown", 
          "metadata": {}, 
          "source": [
            "\n", 
            "\n", 
            "Once in a while (e.g. every 30 iterations), perform re-distancing of $\\phi$.\n", 
            ""
          ]
        }, 
        {
          "cell_type": "code", 
          "collapsed": false, 
          "input": [
            "phi = perform_redistancing(phi)"
          ], 
          "language": "python", 
          "outputs": []
        }, 
        {
          "cell_type": "heading", 
          "level": 3, 
          "metadata": {}, 
          "source": [
            "Exercise 6"
          ]
        }, 
        {
          "cell_type": "markdown", 
          "metadata": {}, 
          "source": [
            "\n", 
            "Implement the geodesic active contours gradient descent.\n", 
            "Do not forget to do the re-distancing.\n", 
            "\n", 
            "\n", 
            "\n", 
            "\n", 
            "\n", 
            "\n", 
            "\n", 
            "\n", 
            "\n", 
            "\n", 
            "\n", 
            "\n", 
            "\n", 
            "\n", 
            "\n", 
            "\n", 
            "\n", 
            "\n", 
            "\n", 
            ""
          ]
        }, 
        {
          "cell_type": "code", 
          "collapsed": false, 
          "input": [
            "## Insert your code here."
          ], 
          "language": "python", 
          "outputs": []
        }, 
        {
          "cell_type": "markdown", 
          "metadata": {}, 
          "source": [
            "\n", 
            "\n", 
            ""
          ]
        }, 
        {
          "cell_type": "heading", 
          "level": 2, 
          "metadata": {}, 
          "source": [
            "Region-based Segmentation with Chan-Vese \n"
          ]
        }, 
        {
          "cell_type": "markdown", 
          "metadata": {}, 
          "source": [
            "Chan-Vese active contours corresponds to a region-based energy\n", 
            "that looks for a piecewise constant approximation of the image.\n", 
            "\n", 
            "\n", 
            "The energy to be minimized is\n", 
            "$$ \\umin{\\phi}\n", 
            "      L(\\phi) +\n", 
            "      \\la \\int_{\\phi(x)>0} \\abs{f_0(x)-c_1}^2 d x   +\n", 
            "      \\la \\int_{\\phi(x)<0} \\abs{f_0(x)-c_2}^2 d x\n", 
            "$$\n", 
            "where $L$ is the length of the zero level set of $\\phi$.\n", 
            "Note that here $(c_1,c_2) \\in \\RR^2$ are assumed to be known.\n", 
            "\n", 
            ""
          ]
        }, 
        {
          "cell_type": "heading", 
          "level": 3, 
          "metadata": {}, 
          "source": [
            "Exercise 7"
          ]
        }, 
        {
          "cell_type": "markdown", 
          "metadata": {}, 
          "source": [
            "\n", 
            "Compute an initial level set function $\\phi_0$, stored in |phi0|,\n", 
            "for instance many small circles.\n", 
            "\n", 
            "\n", 
            "\n", 
            "\n", 
            "\n", 
            "\n", 
            "\n", 
            "\n", 
            "\n", 
            "\n", 
            "\n", 
            "\n", 
            "\n", 
            "\n", 
            ""
          ]
        }, 
        {
          "cell_type": "code", 
          "collapsed": false, 
          "input": [
            "## Insert your code here."
          ], 
          "language": "python", 
          "outputs": []
        }, 
        {
          "cell_type": "markdown", 
          "metadata": {}, 
          "source": [
            "\n", 
            "\n", 
            "\n", 
            "Parameter $\\la$\n", 
            ""
          ]
        }, 
        {
          "cell_type": "code", 
          "collapsed": false, 
          "input": [
            "lambda = 0.8"
          ], 
          "language": "python", 
          "outputs": []
        }, 
        {
          "cell_type": "markdown", 
          "metadata": {}, 
          "source": [
            "\n", 
            "\n", 
            "Values for $c_1,c_2$\n", 
            ""
          ]
        }, 
        {
          "cell_type": "code", 
          "collapsed": false, 
          "input": [
            "c1 = 0.7\n", 
            "c2 = 0"
          ], 
          "language": "python", 
          "outputs": []
        }, 
        {
          "cell_type": "markdown", 
          "metadata": {}, 
          "source": [
            "\n", 
            "\n", 
            "Step size.\n", 
            ""
          ]
        }, 
        {
          "cell_type": "code", 
          "collapsed": false, 
          "input": [
            "tau = .4"
          ], 
          "language": "python", 
          "outputs": []
        }, 
        {
          "cell_type": "markdown", 
          "metadata": {}, 
          "source": [
            "\n", 
            "\n", 
            "Number of iterations.\n", 
            ""
          ]
        }, 
        {
          "cell_type": "code", 
          "collapsed": false, 
          "input": [
            "Tmax = 100\n", 
            "niter = round(Tmax/tau)"
          ], 
          "language": "python", 
          "outputs": []
        }, 
        {
          "cell_type": "markdown", 
          "metadata": {}, 
          "source": [
            "\n", 
            "\n", 
            "\n", 
            "Initial distance function $\\phi_0$ at time $t=0$.\n", 
            ""
          ]
        }, 
        {
          "cell_type": "code", 
          "collapsed": false, 
          "input": [
            "phi = phi0"
          ], 
          "language": "python", 
          "outputs": []
        }, 
        {
          "cell_type": "markdown", 
          "metadata": {}, 
          "source": [
            "\n", 
            "\n", 
            "The minimizing flow for the CV energy reads\n", 
            "$$ \\pd{\\phi_t}{t} = - G(\\phi_t) $$\n", 
            "where\n", 
            "$$ G(\\phi) =\n", 
            "- W \\norm{\\nabla \\phi} \\text{div}\\pa{\n", 
            "\t\\frac{\\nabla \\phi}{\\norm{\\nabla \\phi}}\n", 
            "} + \\la (f_0-c_1)^2 - \\la (f_0-c_2)^2. $$\n", 
            "\n", 
            ""
          ]
        }, 
        {
          "cell_type": "heading", 
          "level": 3, 
          "metadata": {}, 
          "source": [
            "Exercise 8"
          ]
        }, 
        {
          "cell_type": "markdown", 
          "metadata": {}, 
          "source": [
            "\n", 
            "Compute this gradient $G(\\phi)$ using the current value of the distance function\n", 
            "$phi$.\n", 
            "\n", 
            "\n", 
            "\n", 
            "gradient\n", 
            ""
          ]
        }, 
        {
          "cell_type": "code", 
          "collapsed": false, 
          "input": [
            "## Insert your code here."
          ], 
          "language": "python", 
          "outputs": []
        }, 
        {
          "cell_type": "markdown", 
          "metadata": {}, 
          "source": [
            "\n", 
            "\n", 
            "\n", 
            "Do a descent step.\n", 
            ""
          ]
        }, 
        {
          "cell_type": "code", 
          "collapsed": false, 
          "input": [
            "phi = phi + tau*G"
          ], 
          "language": "python", 
          "outputs": []
        }, 
        {
          "cell_type": "heading", 
          "level": 3, 
          "metadata": {}, 
          "source": [
            "Exercise 9"
          ]
        }, 
        {
          "cell_type": "markdown", 
          "metadata": {}, 
          "source": [
            "\n", 
            "Implement the full gradient descent.\n", 
            "\n", 
            "\n", 
            "\n", 
            "\n", 
            "\n", 
            "\n", 
            "\n", 
            "\n", 
            "\n", 
            "\n", 
            "\n", 
            "\n", 
            "\n", 
            "\n", 
            "\n", 
            "\n", 
            "\n", 
            "\n", 
            "\n", 
            ""
          ]
        }, 
        {
          "cell_type": "code", 
          "collapsed": false, 
          "input": [
            "## Insert your code here."
          ], 
          "language": "python", 
          "outputs": []
        }, 
        {
          "cell_type": "markdown", 
          "metadata": {}, 
          "source": [
            "\n", 
            ""
          ]
        }, 
        {
          "cell_type": "heading", 
          "level": 3, 
          "metadata": {}, 
          "source": [
            "Exercise 10"
          ]
        }, 
        {
          "cell_type": "markdown", 
          "metadata": {}, 
          "source": [
            "\n", 
            "In the case that one does not know precisely the constants $c_1$ and $c_2$,\n", 
            "how to update them automatically during the evolution ? Implement this method."
          ]
        }, 
        {
          "cell_type": "code", 
          "collapsed": false, 
          "input": [
            "## Insert your code here."
          ], 
          "language": "python", 
          "outputs": []
        }
      ]
    }
  ]
}