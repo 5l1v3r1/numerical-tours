{
  "metadata": {
    "name": ""
  },
  "nbformat": 3,
  "nbformat_minor": 0,
  "worksheets": [
    {
      "cells": [
        {
          "cell_type": "markdown",
          "metadata": {},
          "source": [
            "Curvelet Denoising",
            "==================",
            "$\\newcommand{\\dotp}[2]{\\langle #1, #2 \\rangle}",
            "\\newcommand{\\enscond}[2]{\\lbrace #1, #2 \\rbrace}",
            "\\newcommand{\\pd}[2]{ \\frac{ \\partial #1}{\\partial #2} }",
            "\\newcommand{\\umin}[1]{\\underset{#1}{\\min}\\;}",
            "\\newcommand{\\umax}[1]{\\underset{#1}{\\max}\\;}",
            "\\newcommand{\\umin}[1]{\\underset{#1}{\\min}\\;}",
            "\\newcommand{\\uargmin}[1]{\\underset{#1}{argmin}\\;}",
            "\\newcommand{\\norm}[1]{\\|#1\\|}",
            "\\newcommand{\\abs}[1]{\\left|#1\\right|}",
            "\\newcommand{\\choice}[1]{ \\left\\{  \\begin{array}{l} #1 \\end{array} \\right. }",
            "\\newcommand{\\pa}[1]{\\left(#1\\right)}",
            "\\newcommand{\\diag}[1]{{diag}\\left( #1 \\right)}",
            "\\newcommand{\\qandq}{\\quad\\text{and}\\quad}",
            "\\newcommand{\\qwhereq}{\\quad\\text{where}\\quad}",
            "\\newcommand{\\qifq}{ \\quad \\text{if} \\quad }",
            "\\newcommand{\\qarrq}{ \\quad \\Longrightarrow \\quad }",
            "\\newcommand{\\ZZ}{\\mathbb{Z}}",
            "\\newcommand{\\CC}{\\mathbb{C}}",
            "\\newcommand{\\RR}{\\mathbb{R}}",
            "\\newcommand{\\EE}{\\mathbb{E}}",
            "\\newcommand{\\Zz}{\\mathcal{Z}}",
            "\\newcommand{\\Ww}{\\mathcal{W}}",
            "\\newcommand{\\Vv}{\\mathcal{V}}",
            "\\newcommand{\\Nn}{\\mathcal{N}}",
            "\\newcommand{\\NN}{\\mathcal{N}}",
            "\\newcommand{\\Hh}{\\mathcal{H}}",
            "\\newcommand{\\Bb}{\\mathcal{B}}",
            "\\newcommand{\\Ee}{\\mathcal{E}}",
            "\\newcommand{\\Cc}{\\mathcal{C}}",
            "\\newcommand{\\Gg}{\\mathcal{G}}",
            "\\newcommand{\\Ss}{\\mathcal{S}}",
            "\\newcommand{\\Pp}{\\mathcal{P}}",
            "\\newcommand{\\Ff}{\\mathcal{F}}",
            "\\newcommand{\\Xx}{\\mathcal{X}}",
            "\\newcommand{\\Mm}{\\mathcal{M}}",
            "\\newcommand{\\Ii}{\\mathcal{I}}",
            "\\newcommand{\\Dd}{\\mathcal{D}}",
            "\\newcommand{\\Ll}{\\mathcal{L}}",
            "\\newcommand{\\Tt}{\\mathcal{T}}",
            "\\newcommand{\\si}{\\sigma}",
            "\\newcommand{\\al}{\\alpha}",
            "\\newcommand{\\la}{\\lambda}",
            "\\newcommand{\\ga}{\\gamma}",
            "\\newcommand{\\Ga}{\\Gamma}",
            "\\newcommand{\\La}{\\Lambda}",
            "\\newcommand{\\si}{\\sigma}",
            "\\newcommand{\\Si}{\\Sigma}",
            "\\newcommand{\\be}{\\beta}",
            "\\newcommand{\\de}{\\delta}",
            "\\newcommand{\\De}{\\Delta}",
            "\\renewcommand{\\phi}{\\varphi}",
            "\\renewcommand{\\th}{\\theta}",
            "\\newcommand{\\om}{\\omega}",
            "\\newcommand{\\Om}{\\Omega}",
            "$"
          ]
        },
        {
          "cell_type": "markdown",
          "metadata": {},
          "source": [
            "This numerical tour explores the use of curvelets to perform image",
            "denoising."
          ]
        },
        {
          "cell_type": "code",
          "collapsed": false,
          "input": [
            "%load_ext pymatbridge"
          ],
          "language": "python",
          "metadata": {},
          "outputs": []
        },
        {
          "cell_type": "code",
          "collapsed": false,
          "input": [
            "%%matlab",
            "addpath('toolbox_signal')",
            "addpath('toolbox_general')",
            "addpath('solutions/denoisingwav_6_curvelets')"
          ],
          "language": "python",
          "metadata": {},
          "outputs": []
        },
        {
          "cell_type": "markdown",
          "metadata": {},
          "source": [
            "Installation",
            "------------",
            "You need to download [numerical_tours](https://github.com/gpeyre/numerical-tours/archive/master.zip)",
            "and install the IPython [notebook](http://ipython.org/install.html) to run the code.",
            "",
            "You must also install the [python-matlab-bridge](http://arokem.github.io/python-matlab-bridge/)."
          ]
        },
        {
          "cell_type": "markdown",
          "metadata": {},
          "source": [
            "Curvelet Transform",
            "------------------",
            "The curvelet tight frame was introduced by Candes and Donoho to enhance the wavelet",
            "representation of geometric cartoon images. See for instance",
            "",
            "",
            "E.J. Cand s and D. L. Donoho,",
            "_New tight frames of curvelets and optimal representations of objects with piecewise-C2 singularities_,",
            "Comm. Pure Appl. Math., 57 219-266",
            "",
            "",
            "In this tour, we use the discrete curvelet transform, detailed in",
            "",
            "",
            "E. J. Cand s, L. Demanet, D. L. Donoho and L. Ying,",
            "_Fast discrete curvelet transforms_,",
            "Multiscale Model. Simul., 5  861-899",
            "",
            "",
            "and it uses the <http://www.curvelet.org/ Curvelab> implementation.",
            "",
            "",
            "Load an image."
          ]
        },
        {
          "cell_type": "code",
          "collapsed": false,
          "input": [
            "%%matlab",
            "n = 256;",
            "name = 'lena';",
            "M = rescale(load_image(name, n));"
          ],
          "language": "python",
          "metadata": {},
          "outputs": []
        },
        {
          "cell_type": "markdown",
          "metadata": {},
          "source": [
            "Parameters for the curvelet transform."
          ]
        },
        {
          "cell_type": "code",
          "collapsed": false,
          "input": [
            "%%matlab",
            "options.null = 0;",
            "options.finest = 1;",
            "options.nbscales = 4;",
            "options.nbangles_coarse = 16;",
            "options.is_real = 1;",
            "options.n = n;"
          ],
          "language": "python",
          "metadata": {},
          "outputs": []
        },
        {
          "cell_type": "markdown",
          "metadata": {},
          "source": [
            "Perform the transform."
          ]
        },
        {
          "cell_type": "code",
          "collapsed": false,
          "input": [
            "%%matlab",
            "MW = perform_curvelet_transform(M, options);"
          ],
          "language": "python",
          "metadata": {},
          "outputs": []
        },
        {
          "cell_type": "markdown",
          "metadata": {},
          "source": [
            "Display the transform."
          ]
        },
        {
          "cell_type": "code",
          "collapsed": false,
          "input": [
            "%%matlab",
            "clf;",
            "plot_curvelet(MW, options);"
          ],
          "language": "python",
          "metadata": {},
          "outputs": []
        },
        {
          "cell_type": "markdown",
          "metadata": {},
          "source": [
            "One can perform a non-linear approximation of the image by thresholding",
            "the curvelet coefficients."
          ]
        },
        {
          "cell_type": "code",
          "collapsed": false,
          "input": [
            "%%matlab",
            "T = .2;",
            "MWT = perform_thresholding(MW, T, 'hard');"
          ],
          "language": "python",
          "metadata": {},
          "outputs": []
        },
        {
          "cell_type": "markdown",
          "metadata": {},
          "source": [
            "One recovers the approximated image by using the inverse curvelet",
            "transform."
          ]
        },
        {
          "cell_type": "code",
          "collapsed": false,
          "input": [
            "%%matlab",
            "M1 = perform_curvelet_transform(MWT, options);"
          ],
          "language": "python",
          "metadata": {},
          "outputs": []
        },
        {
          "cell_type": "markdown",
          "metadata": {},
          "source": [
            "Display the approximation. Note that is not the best non-linear",
            "approximation since the curvelet tight frame is not an orthogonal basis."
          ]
        },
        {
          "cell_type": "code",
          "collapsed": false,
          "input": [
            "%%matlab",
            "clf;",
            "imageplot(M, 'Original', 1,2,1);",
            "imageplot(clamp(M1), 'Approximated', 1,2,2);"
          ],
          "language": "python",
          "metadata": {},
          "outputs": []
        },
        {
          "cell_type": "markdown",
          "metadata": {},
          "source": [
            "Denoising with the Curvelet transform",
            "-------------------------------------",
            "Curvelet thresholding is useful to perform denoising.",
            "",
            "",
            "We load a sub-set of the lena image."
          ]
        },
        {
          "cell_type": "code",
          "collapsed": false,
          "input": [
            "%%matlab",
            "name = 'lena';",
            "n = 128;",
            "M0 = rescale(crop(load_image(name),n, [108 200]));",
            "options.n = n;"
          ],
          "language": "python",
          "metadata": {},
          "outputs": []
        },
        {
          "cell_type": "markdown",
          "metadata": {},
          "source": [
            "Add some noise."
          ]
        },
        {
          "cell_type": "code",
          "collapsed": false,
          "input": [
            "%%matlab",
            "sigma = .05;",
            "M = M0 + sigma*randn(n);"
          ],
          "language": "python",
          "metadata": {},
          "outputs": []
        },
        {
          "cell_type": "markdown",
          "metadata": {},
          "source": [
            "__Exercise 1__",
            "",
            "Compute the best threshold to minimize the denoising error in curvelets.",
            "Call |Mcurv| the optimal denoising."
          ]
        },
        {
          "cell_type": "code",
          "collapsed": false,
          "input": [
            "%%matlab",
            "exo1()"
          ],
          "language": "python",
          "metadata": {},
          "outputs": []
        },
        {
          "cell_type": "code",
          "collapsed": false,
          "input": [
            "%%matlab",
            "%% Insert your code here."
          ],
          "language": "python",
          "metadata": {},
          "outputs": []
        },
        {
          "cell_type": "markdown",
          "metadata": {},
          "source": [
            "Display."
          ]
        },
        {
          "cell_type": "code",
          "collapsed": false,
          "input": [
            "%%matlab",
            "clf;",
            "imageplot(clamp(M), 'Noisy', 1,2,1);",
            "imageplot(clamp(Mcurv), ['Denoised, SNR=' num2str(snr(M0,Mcurv),3) 'dB'], 1,2,2);"
          ],
          "language": "python",
          "metadata": {},
          "outputs": []
        },
        {
          "cell_type": "markdown",
          "metadata": {},
          "source": [
            "__Exercise 2__",
            "",
            "Perform cycle spinning to enhance the recovery error."
          ]
        },
        {
          "cell_type": "code",
          "collapsed": false,
          "input": [
            "%%matlab",
            "exo2()"
          ],
          "language": "python",
          "metadata": {},
          "outputs": []
        },
        {
          "cell_type": "code",
          "collapsed": false,
          "input": [
            "%%matlab",
            "%% Insert your code here."
          ],
          "language": "python",
          "metadata": {},
          "outputs": []
        },
        {
          "cell_type": "markdown",
          "metadata": {},
          "source": [
            "Display."
          ]
        },
        {
          "cell_type": "code",
          "collapsed": false,
          "input": [
            "%%matlab",
            "clf;",
            "imageplot(clamp(M), 'Noisy', 1,2,1);",
            "imageplot(clamp(Mcurv), ['Denoised, SNR=' num2str(snr(M0,Mcurv),3)], 1,2,2);"
          ],
          "language": "python",
          "metadata": {},
          "outputs": []
        },
        {
          "cell_type": "markdown",
          "metadata": {},
          "source": [
            "__Exercise 3__",
            "",
            "Compare with translation invariant hard thresholding."
          ]
        },
        {
          "cell_type": "code",
          "collapsed": false,
          "input": [
            "%%matlab",
            "exo3()"
          ],
          "language": "python",
          "metadata": {},
          "outputs": []
        },
        {
          "cell_type": "code",
          "collapsed": false,
          "input": [
            "%%matlab",
            "%% Insert your code here."
          ],
          "language": "python",
          "metadata": {},
          "outputs": []
        },
        {
          "cell_type": "markdown",
          "metadata": {},
          "source": [
            "Inverse Problem Regularization",
            "------------------------------",
            "L1 sparsity in curvelets can be used to regularize inverse problems."
          ]
        },
        {
          "cell_type": "markdown",
          "metadata": {},
          "source": [
            "__Exercise 4__",
            "",
            "Applies curvelet iterative thresholding to solve an inverse problem such",
            "as inpainting, deconvolution or compressed sending."
          ]
        },
        {
          "cell_type": "code",
          "collapsed": false,
          "input": [
            "%%matlab",
            "exo4()"
          ],
          "language": "python",
          "metadata": {},
          "outputs": []
        },
        {
          "cell_type": "code",
          "collapsed": false,
          "input": [
            "%%matlab",
            "%% Insert your code here."
          ],
          "language": "python",
          "metadata": {},
          "outputs": []
        }
      ]
    }
  ]
}