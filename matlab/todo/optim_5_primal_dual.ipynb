{
 "metadata": {
  "name": "",
  "signature": "sha256:11fa9e1b973249b3190b93c9a37d957f1eb4884f0b72e88c28e915de324c7516"
 },
 "nbformat": 3,
 "nbformat_minor": 0,
 "worksheets": [
  {
   "cells": [
    {
     "cell_type": "markdown",
     "metadata": {},
     "source": [
      "Primal-Dual Proximal Splitting\n",
      "==============================\n",
      "$\\newcommand{\\dotp}[2]{\\langle #1, #2 \\rangle}\n",
      "\\newcommand{\\enscond}[2]{\\lbrace #1, #2 \\rbrace}\n",
      "\\newcommand{\\pd}[2]{ \\frac{ \\partial #1}{\\partial #2} }\n",
      "\\newcommand{\\umin}[1]{\\underset{#1}{\\min}\\;}\n",
      "\\newcommand{\\umax}[1]{\\underset{#1}{\\max}\\;}\n",
      "\\newcommand{\\umin}[1]{\\underset{#1}{\\min}\\;}\n",
      "\\newcommand{\\uargmin}[1]{\\underset{#1}{argmin}\\;}\n",
      "\\newcommand{\\norm}[1]{\\|#1\\|}\n",
      "\\newcommand{\\abs}[1]{\\left|#1\\right|}\n",
      "\\newcommand{\\choice}[1]{ \\left\\{  \\begin{array}{l} #1 \\end{array} \\right. }\n",
      "\\newcommand{\\pa}[1]{\\left(#1\\right)}\n",
      "\\newcommand{\\diag}[1]{{diag}\\left( #1 \\right)}\n",
      "\\newcommand{\\qandq}{\\quad\\text{and}\\quad}\n",
      "\\newcommand{\\qwhereq}{\\quad\\text{where}\\quad}\n",
      "\\newcommand{\\qifq}{ \\quad \\text{if} \\quad }\n",
      "\\newcommand{\\qarrq}{ \\quad \\Longrightarrow \\quad }\n",
      "\\newcommand{\\ZZ}{\\mathbb{Z}}\n",
      "\\newcommand{\\CC}{\\mathbb{C}}\n",
      "\\newcommand{\\RR}{\\mathbb{R}}\n",
      "\\newcommand{\\EE}{\\mathbb{E}}\n",
      "\\newcommand{\\Zz}{\\mathcal{Z}}\n",
      "\\newcommand{\\Ww}{\\mathcal{W}}\n",
      "\\newcommand{\\Vv}{\\mathcal{V}}\n",
      "\\newcommand{\\Nn}{\\mathcal{N}}\n",
      "\\newcommand{\\NN}{\\mathcal{N}}\n",
      "\\newcommand{\\Hh}{\\mathcal{H}}\n",
      "\\newcommand{\\Bb}{\\mathcal{B}}\n",
      "\\newcommand{\\Ee}{\\mathcal{E}}\n",
      "\\newcommand{\\Cc}{\\mathcal{C}}\n",
      "\\newcommand{\\Gg}{\\mathcal{G}}\n",
      "\\newcommand{\\Ss}{\\mathcal{S}}\n",
      "\\newcommand{\\Pp}{\\mathcal{P}}\n",
      "\\newcommand{\\Ff}{\\mathcal{F}}\n",
      "\\newcommand{\\Xx}{\\mathcal{X}}\n",
      "\\newcommand{\\Mm}{\\mathcal{M}}\n",
      "\\newcommand{\\Ii}{\\mathcal{I}}\n",
      "\\newcommand{\\Dd}{\\mathcal{D}}\n",
      "\\newcommand{\\Ll}{\\mathcal{L}}\n",
      "\\newcommand{\\Tt}{\\mathcal{T}}\n",
      "\\newcommand{\\si}{\\sigma}\n",
      "\\newcommand{\\al}{\\alpha}\n",
      "\\newcommand{\\la}{\\lambda}\n",
      "\\newcommand{\\ga}{\\gamma}\n",
      "\\newcommand{\\Ga}{\\Gamma}\n",
      "\\newcommand{\\La}{\\Lambda}\n",
      "\\newcommand{\\si}{\\sigma}\n",
      "\\newcommand{\\Si}{\\Sigma}\n",
      "\\newcommand{\\be}{\\beta}\n",
      "\\newcommand{\\de}{\\delta}\n",
      "\\newcommand{\\De}{\\Delta}\n",
      "\\renewcommand{\\phi}{\\varphi}\n",
      "\\renewcommand{\\th}{\\theta}\n",
      "\\newcommand{\\om}{\\omega}\n",
      "\\newcommand{\\Om}{\\Omega}\n",
      "$"
     ]
    },
    {
     "cell_type": "markdown",
     "metadata": {},
     "source": [
      "This tour explores a primal-dual proximal splitting algorithm,\n",
      "with application to imaging problems."
     ]
    },
    {
     "cell_type": "code",
     "collapsed": false,
     "input": [
      "%load_ext pymatbridge"
     ],
     "language": "python",
     "metadata": {},
     "outputs": [
      {
       "output_type": "stream",
       "stream": "stdout",
       "text": [
        "Starting MATLAB on ZMQ socket ipc:///tmp/pymatbridge\n",
        "Send 'exit' command to kill the server\n",
        "........................................."
       ]
      }
     ],
     "prompt_number": 1
    },
    {
     "cell_type": "code",
     "collapsed": false,
     "input": [
      "%%matlab\n",
      "addpath('toolbox_signal')\n",
      "addpath('toolbox_general')\n",
      "addpath('solutions/optim_5_primal_dual')"
     ],
     "language": "python",
     "metadata": {},
     "outputs": []
    },
    {
     "cell_type": "markdown",
     "metadata": {},
     "source": [
      "Installation\n",
      "------------\n",
      "You need to download [numerical_tours](https://github.com/gpeyre/numerical-tours/archive/master.zip)\n",
      "and install the IPython [notebook](http://ipython.org/install.html) to run the code.\n",
      "\n",
      "You must also install the [python-matlab-bridge](http://arokem.github.io/python-matlab-bridge/)."
     ]
    },
    {
     "cell_type": "markdown",
     "metadata": {},
     "source": [
      "Convex Optimization with a Primal-Dual Scheme\n",
      "---------------------------------------------\n",
      "In this tour we use the\n",
      "primal-dual algorithm detailed in:\n",
      "\n",
      "\n",
      "Antonin Chambolle and Thomas Pock\n",
      "_A First-order primal-dual algorithm for convex problems with application to imaging,_\n",
      "Journal of Mathematical Imaging and Vision,\n",
      "Volume 40, Number 1 (2011), 120-145\n",
      "\n",
      "\n",
      "One should note that there exist many other primal-dual schemes.\n",
      "\n",
      "\n",
      "We consider general optimization problems of the form\n",
      "$$ \\umin{f} F(K(f)) + G(f) $$\n",
      "where $F$ and $G$ are convex functions and $K : f \\mapsto K(f)$\n",
      "is a linear operator.\n",
      "\n",
      "\n",
      "For the primal-dual algorithm to be applicable, one should be able to\n",
      "compute the proximal mapping of $F$ and $G$, defined as:\n",
      "$$ \\text{Prox}_{\\gamma F}(x) = \\uargmin{y} \\frac{1}{2}\\norm{x-y}^2 + \\ga F(y) $$\n",
      "(the same definition applies also for $G$).\n",
      "\n",
      "\n",
      "The algorithm reads:\n",
      "$$ g_{k+1} = \\text{Prox}_{\\sigma F^*}( g_k + \\sigma K(\\tilde f_k) $$\n",
      "$$ f_{k+1} = \\text{Prox}_{\\tau G}(  f_k-\\tau K^*(g_k) ) $$\n",
      "$$ \\tilde f_{k+1} = f_{k+1} + \\theta (f_{k+1} - f_k) $$\n",
      "\n",
      "\n",
      "The dual functional is defined as\n",
      "$$ F^*(y) = \\umax{x} \\dotp{x}{y}-F(x). $$\n",
      "Note that being able to compute the proximal mapping of $F$ is\n",
      "equivalent to being able to compute the proximal mapping of $F^*$,\n",
      "thanks to Moreau's identity:\n",
      "$$ x = \\text{Prox}_{\\tau F^*}(x) + \\tau \\text{Prox}_{F/\\tau}(x/\\tau) $$\n",
      "\n",
      "\n",
      "It can be shown that in the case $\\theta=1$, if\n",
      "$\\sigma \\tau \\norm{K}^2<1$, then $f_k$ converges to a minimizer of\n",
      "the original minimization of $F(K(f)) + G(f)$.\n",
      "\n",
      "\n",
      "More general primal-dual schemes have been developped, see for instance\n",
      "\n",
      "\n",
      "L. Condat,\n",
      "_A primal-dual splitting method for convex optimization involving Lipschitzian, proximable and linear composite terms,_\n",
      "J. Optimization Theory and Applications, 2013, in press.\n",
      "\n",
      "\n",
      "Inpainting Problem\n",
      "------------------\n",
      "We consider a linear imaging operator $\\Phi : f \\mapsto \\Phi(f)$\n",
      "that maps high resolution images to low dimensional observations.\n",
      "Here we consider a pixel masking operator, that is diagonal over the\n",
      "spacial domain.\n",
      "\n",
      "\n",
      "Load an image."
     ]
    },
    {
     "cell_type": "code",
     "collapsed": false,
     "input": [
      "%%matlab\n",
      "name = 'lena';\n",
      "n = 256;\n",
      "f0 = load_image(name);\n",
      "f0 = rescale(crop(f0,n));"
     ],
     "language": "python",
     "metadata": {},
     "outputs": []
    },
    {
     "cell_type": "markdown",
     "metadata": {},
     "source": [
      "Display it."
     ]
    },
    {
     "cell_type": "code",
     "collapsed": false,
     "input": [
      "%%matlab\n",
      "clf;\n",
      "imageplot(f0);"
     ],
     "language": "python",
     "metadata": {},
     "outputs": []
    },
    {
     "cell_type": "markdown",
     "metadata": {},
     "source": [
      "We consider here the inpainting problem. This simply corresponds to a\n",
      "masking operator.\n",
      "\n",
      "\n",
      "Load a random mask $\\La$."
     ]
    },
    {
     "cell_type": "code",
     "collapsed": false,
     "input": [
      "%%matlab\n",
      "rho = .8;\n",
      "Lambda = rand(n,n)>rho;"
     ],
     "language": "python",
     "metadata": {},
     "outputs": []
    },
    {
     "cell_type": "markdown",
     "metadata": {},
     "source": [
      "Masking operator $ \\Phi $."
     ]
    },
    {
     "cell_type": "code",
     "collapsed": false,
     "input": [
      "%%matlab\n",
      "Phi = @(f)f.*Lambda;"
     ],
     "language": "python",
     "metadata": {},
     "outputs": []
    },
    {
     "cell_type": "markdown",
     "metadata": {},
     "source": [
      "Compute the observations $y=\\Phi f_0$."
     ]
    },
    {
     "cell_type": "code",
     "collapsed": false,
     "input": [
      "%%matlab\n",
      "y = Phi(f0);"
     ],
     "language": "python",
     "metadata": {},
     "outputs": []
    },
    {
     "cell_type": "markdown",
     "metadata": {},
     "source": [
      "Display it."
     ]
    },
    {
     "cell_type": "code",
     "collapsed": false,
     "input": [
      "%%matlab\n",
      "clf;\n",
      "imageplot(y);"
     ],
     "language": "python",
     "metadata": {},
     "outputs": []
    },
    {
     "cell_type": "markdown",
     "metadata": {},
     "source": [
      "Total Variation Regularization under Constraints\n",
      "------------------------------------------------\n",
      "We want to solve the noiseless inverse problem $y=\\Phi f$ using a total\n",
      "variation regularization:\n",
      "$$ \\umin{ y=\\Phi f } \\norm{\\nabla f}_1 $$\n",
      "\n",
      "\n",
      "This can be recasted as the minimization of $F(K(f)) + G(f)$ by\n",
      "introducing\n",
      "$$ G(f)=i_H(f), \\quad F(u)=\\norm{u}_1 \\qandq K=\\nabla, $$\n",
      "where $H = \\enscond{x}{\\Phi(x)=y}$ is an affine space, and $i_H$ is the indicator\n",
      "function\n",
      "$$ i_H(x) = \\choice{ 0 \\qifq x \\in H, \\\\ +\\infty \\qifq x \\notin H. } $$\n",
      "\n",
      "\n",
      "Shorcut for the operators."
     ]
    },
    {
     "cell_type": "code",
     "collapsed": false,
     "input": [
      "%%matlab\n",
      "K  = @(f)grad(f);\n",
      "KS = @(u)-div(u);"
     ],
     "language": "python",
     "metadata": {},
     "outputs": []
    },
    {
     "cell_type": "markdown",
     "metadata": {},
     "source": [
      "Shortcut for the TV norm."
     ]
    },
    {
     "cell_type": "code",
     "collapsed": false,
     "input": [
      "%%matlab\n",
      "Amplitude = @(u)sqrt(sum(u.^2,3));\n",
      "F = @(u)sum(sum(Amplitude(u)));"
     ],
     "language": "python",
     "metadata": {},
     "outputs": []
    },
    {
     "cell_type": "markdown",
     "metadata": {},
     "source": [
      "The proximal operator of the vectorial $\\ell^1$ norm reads\n",
      "$$ \\text{Prox}_{\\lambda F}(u) = \\max\\pa{0,1-\\frac{\\la}{\\norm{u_k}}} u_k $$"
     ]
    },
    {
     "cell_type": "code",
     "collapsed": false,
     "input": [
      "%%matlab\n",
      "ProxF = @(u,lambda)max(0,1-lambda./repmat(Amplitude(u), [1 1 2])).*u;"
     ],
     "language": "python",
     "metadata": {},
     "outputs": []
    },
    {
     "cell_type": "markdown",
     "metadata": {},
     "source": [
      "Display the thresholding on the vertical component of the vector."
     ]
    },
    {
     "cell_type": "code",
     "collapsed": false,
     "input": [
      "%%matlab\n",
      "t = -linspace(-2,2, 201);\n",
      "[Y,X] = meshgrid(t,t);\n",
      "U = cat(3,Y,X);\n",
      "V = ProxF(U,1);\n",
      "clf;\n",
      "surf(V(:,:,1));\n",
      "colormap jet(256);\n",
      "view(150,40);\n",
      "axis('tight');\n",
      "camlight; shading interp;"
     ],
     "language": "python",
     "metadata": {},
     "outputs": []
    },
    {
     "cell_type": "markdown",
     "metadata": {},
     "source": [
      "For any 1-homogeneous convex\n",
      "functional, the dual function is the indicator of a convex set. For\n",
      "the $\\ell^1$ norm, it is the indicator of the $\\ell^\\infty$ ball\n",
      "$$ F^* = i_{\\norm{\\cdot}_\\infty \\leq 1}\n",
      " \\qwhereq  \\norm{u}_\\infty = \\umax{i} \\norm{u_i}. $$\n",
      "\n",
      "\n",
      "The proximal operator of the dual function is hence a projector (and it\n",
      "does not depend on $\\sigma$ )\n",
      "$$ \\text{Prox}_{\\sigma F^*}(u) = \\text{Proj}_{\\norm{\\cdot}_\\infty \\leq 1}(u). $$\n",
      "\n",
      "\n",
      "A simple way to compute the proximal operator of the dual function $F^*$, we\n",
      "make use of Moreau's identity:\n",
      "  $$ x = \\text{Prox}_{\\tau F^*}(x) + \\tau \\text{Prox}_{F/\\tau}(x/\\tau) $$"
     ]
    },
    {
     "cell_type": "code",
     "collapsed": false,
     "input": [
      "%%matlab\n",
      "ProxFS = @(y,sigma)y-sigma*ProxF(y/sigma,1/sigma);"
     ],
     "language": "python",
     "metadata": {},
     "outputs": []
    },
    {
     "cell_type": "markdown",
     "metadata": {},
     "source": [
      "Display this dual proximal on the vertical component of the vector."
     ]
    },
    {
     "cell_type": "code",
     "collapsed": false,
     "input": [
      "%%matlab\n",
      "V = ProxFS(U,1);\n",
      "clf;\n",
      "surf(V(:,:,1));\n",
      "colormap jet(256);\n",
      "view(150,40);\n",
      "axis('tight');\n",
      "camlight; shading interp;"
     ],
     "language": "python",
     "metadata": {},
     "outputs": []
    },
    {
     "cell_type": "markdown",
     "metadata": {},
     "source": [
      "The proximal operator of $G = i_H$ is the projector on $H$. In our\n",
      "case, since $\\Phi$ is a diagonal so that the projection is simple to\n",
      "compute\n",
      "$$ \\text{Prox}_{\\tau G}(f) = \\text{Proj}_{H}(f) = f + \\Phi(y - \\Phi(f)) $$"
     ]
    },
    {
     "cell_type": "code",
     "collapsed": false,
     "input": [
      "%%matlab\n",
      "ProxG = @(f,tau)f + Phi(y - Phi(f));"
     ],
     "language": "python",
     "metadata": {},
     "outputs": []
    },
    {
     "cell_type": "markdown",
     "metadata": {},
     "source": [
      "Primal-dual Total Variation Regularization Algorithm\n",
      "----------------------------------------------------\n",
      "Now we can apply the primal dual scheme to the TV regularization problem.\n",
      "\n",
      "\n",
      "We set parameters for the algorithm.\n",
      "Note that in our case, $L=\\norm{K}^2=8$.\n",
      "One should has $L \\sigma \\tau < 1$."
     ]
    },
    {
     "cell_type": "code",
     "collapsed": false,
     "input": [
      "%%matlab\n",
      "L = 8;\n",
      "sigma = 10;\n",
      "tau = .9/(L*sigma);\n",
      "theta = 1;"
     ],
     "language": "python",
     "metadata": {},
     "outputs": []
    },
    {
     "cell_type": "markdown",
     "metadata": {},
     "source": [
      "Initialization, here |f| stands for the current iterate $f_k$,\n",
      "|g| for $g_k$ and |f1| for $\\tilde f_k$."
     ]
    },
    {
     "cell_type": "code",
     "collapsed": false,
     "input": [
      "%%matlab\n",
      "f = y;\n",
      "g = K(y)*0;\n",
      "f1 = f;"
     ],
     "language": "python",
     "metadata": {},
     "outputs": []
    },
    {
     "cell_type": "markdown",
     "metadata": {},
     "source": [
      "Example of one iterations."
     ]
    },
    {
     "cell_type": "code",
     "collapsed": false,
     "input": [
      "%%matlab\n",
      "fold = f;\n",
      "g = ProxFS( g+sigma*K(f1), sigma);\n",
      "f = ProxG(  f-tau*KS(g), tau);\n",
      "f1 = f + theta * (f-fold);"
     ],
     "language": "python",
     "metadata": {},
     "outputs": []
    },
    {
     "cell_type": "markdown",
     "metadata": {},
     "source": [
      "__Exercise 1__\n",
      "\n",
      "Implement the primal-dual algorithm.\n",
      "Monitor the evolution of the TV energy $F(K(f_k))$\n",
      "during the iterations.\n",
      "Note that one always has $ f_k \\in H $ so that the iterates\n",
      "satisfies the constraints."
     ]
    },
    {
     "cell_type": "code",
     "collapsed": false,
     "input": [
      "%%matlab\n",
      "exo1()"
     ],
     "language": "python",
     "metadata": {},
     "outputs": []
    },
    {
     "cell_type": "code",
     "collapsed": false,
     "input": [
      "%%matlab\n",
      "%% Insert your code here."
     ],
     "language": "python",
     "metadata": {},
     "outputs": []
    },
    {
     "cell_type": "markdown",
     "metadata": {},
     "source": [
      "Display inpainted image."
     ]
    },
    {
     "cell_type": "code",
     "collapsed": false,
     "input": [
      "%%matlab\n",
      "clf;\n",
      "imageplot(f);"
     ],
     "language": "python",
     "metadata": {},
     "outputs": []
    },
    {
     "cell_type": "markdown",
     "metadata": {},
     "source": [
      "__Exercise 2__\n",
      "\n",
      "Use the primal dual scheme to perform regularization in the presence of\n",
      "noise\n",
      "$$ \\umin{\\norm{y-\\Phi(f)} \\leq \\epsilon} \\norm{\\nabla f}_1. $$"
     ]
    },
    {
     "cell_type": "code",
     "collapsed": false,
     "input": [
      "%%matlab\n",
      "exo2()"
     ],
     "language": "python",
     "metadata": {},
     "outputs": []
    },
    {
     "cell_type": "code",
     "collapsed": false,
     "input": [
      "%%matlab\n",
      "%% Insert your code here."
     ],
     "language": "python",
     "metadata": {},
     "outputs": []
    },
    {
     "cell_type": "markdown",
     "metadata": {},
     "source": [
      "Inpainting Large Missing Regions\n",
      "--------------------------------\n",
      "It is possible to consider a more challening problem of inpainting large\n",
      "missing regions.\n",
      "\n",
      "\n",
      "To emphasis the effect of the TV functional, we use a simple geometric\n",
      "image."
     ]
    },
    {
     "cell_type": "code",
     "collapsed": false,
     "input": [
      "%%matlab\n",
      "n = 64;\n",
      "name = 'square';\n",
      "f0 = load_image(name,n);"
     ],
     "language": "python",
     "metadata": {},
     "outputs": []
    },
    {
     "cell_type": "markdown",
     "metadata": {},
     "source": [
      "We remove the central part of the image."
     ]
    },
    {
     "cell_type": "code",
     "collapsed": false,
     "input": [
      "%%matlab\n",
      "a = 4;\n",
      "Lambda = ones(n);\n",
      "Lambda(end/2-a:end/2+a,:) = 0;\n",
      "Phi = @(f)f.*Lambda;"
     ],
     "language": "python",
     "metadata": {},
     "outputs": []
    },
    {
     "cell_type": "markdown",
     "metadata": {},
     "source": [
      "Display."
     ]
    },
    {
     "cell_type": "code",
     "collapsed": false,
     "input": [
      "%%matlab\n",
      "clf;\n",
      "imageplot(f0, 'Original', 1,2,1);\n",
      "imageplot(Phi(f0), 'Damaged', 1,2,2);"
     ],
     "language": "python",
     "metadata": {},
     "outputs": []
    },
    {
     "cell_type": "markdown",
     "metadata": {},
     "source": [
      "__Exercise 3__\n",
      "\n",
      "Display the evolution of the inpainting process."
     ]
    },
    {
     "cell_type": "code",
     "collapsed": false,
     "input": [
      "%%matlab\n",
      "exo3()"
     ],
     "language": "python",
     "metadata": {},
     "outputs": []
    },
    {
     "cell_type": "code",
     "collapsed": false,
     "input": [
      "%%matlab\n",
      "%% Insert your code here."
     ],
     "language": "python",
     "metadata": {},
     "outputs": []
    },
    {
     "cell_type": "code",
     "collapsed": true,
     "input": [],
     "language": "python",
     "metadata": {},
     "outputs": []
    }
   ],
   "metadata": {}
  }
 ]
}