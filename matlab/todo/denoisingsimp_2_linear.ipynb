{
<<<<<<< HEAD:matlab/denoisingsimp_2_linear.ipynb
 "metadata": {
  "name": ""
 },
 "nbformat": 3,
 "nbformat_minor": 0,
 "worksheets": [
  {
   "cells": [
    {
     "cell_type": "markdown",
     "metadata": {},
     "source": [
      "Linear Signal Denoising\n",
      "=======================\n",
      "$\\newcommand{\\dotp}[2]{\\langle #1, #2 \\rangle}\n",
      "\\newcommand{\\enscond}[2]{\\lbrace #1, #2 \\rbrace}\n",
      "\\newcommand{\\pd}[2]{ \\frac{ \\partial #1}{\\partial #2} }\n",
      "\\newcommand{\\umin}[1]{\\underset{#1}{\\min}\\;}\n",
      "\\newcommand{\\umax}[1]{\\underset{#1}{\\max}\\;}\n",
      "\\newcommand{\\umin}[1]{\\underset{#1}{\\min}\\;}\n",
      "\\newcommand{\\uargmin}[1]{\\underset{#1}{argmin}\\;}\n",
      "\\newcommand{\\norm}[1]{\\|#1\\|}\n",
      "\\newcommand{\\abs}[1]{\\left|#1\\right|}\n",
      "\\newcommand{\\choice}[1]{ \\left\\{  \\begin{array}{l} #1 \\end{array} \\right. }\n",
      "\\newcommand{\\pa}[1]{\\left(#1\\right)}\n",
      "\\newcommand{\\diag}[1]{{diag}\\left( #1 \\right)}\n",
      "\\newcommand{\\qandq}{\\quad\\text{and}\\quad}\n",
      "\\newcommand{\\qwhereq}{\\quad\\text{where}\\quad}\n",
      "\\newcommand{\\qifq}{ \\quad \\text{if} \\quad }\n",
      "\\newcommand{\\qarrq}{ \\quad \\Longrightarrow \\quad }\n",
      "\\newcommand{\\ZZ}{\\mathbb{Z}}\n",
      "\\newcommand{\\CC}{\\mathbb{C}}\n",
      "\\newcommand{\\RR}{\\mathbb{R}}\n",
      "\\newcommand{\\EE}{\\mathbb{E}}\n",
      "\\newcommand{\\Zz}{\\mathcal{Z}}\n",
      "\\newcommand{\\Ww}{\\mathcal{W}}\n",
      "\\newcommand{\\Vv}{\\mathcal{V}}\n",
      "\\newcommand{\\Nn}{\\mathcal{N}}\n",
      "\\newcommand{\\NN}{\\mathcal{N}}\n",
      "\\newcommand{\\Hh}{\\mathcal{H}}\n",
      "\\newcommand{\\Bb}{\\mathcal{B}}\n",
      "\\newcommand{\\Ee}{\\mathcal{E}}\n",
      "\\newcommand{\\Cc}{\\mathcal{C}}\n",
      "\\newcommand{\\Gg}{\\mathcal{G}}\n",
      "\\newcommand{\\Ss}{\\mathcal{S}}\n",
      "\\newcommand{\\Pp}{\\mathcal{P}}\n",
      "\\newcommand{\\Ff}{\\mathcal{F}}\n",
      "\\newcommand{\\Xx}{\\mathcal{X}}\n",
      "\\newcommand{\\Mm}{\\mathcal{M}}\n",
      "\\newcommand{\\Ii}{\\mathcal{I}}\n",
      "\\newcommand{\\Dd}{\\mathcal{D}}\n",
      "\\newcommand{\\Ll}{\\mathcal{L}}\n",
      "\\newcommand{\\Tt}{\\mathcal{T}}\n",
      "\\newcommand{\\si}{\\sigma}\n",
      "\\newcommand{\\al}{\\alpha}\n",
      "\\newcommand{\\la}{\\lambda}\n",
      "\\newcommand{\\ga}{\\gamma}\n",
      "\\newcommand{\\Ga}{\\Gamma}\n",
      "\\newcommand{\\La}{\\Lambda}\n",
      "\\newcommand{\\si}{\\sigma}\n",
      "\\newcommand{\\Si}{\\Sigma}\n",
      "\\newcommand{\\be}{\\beta}\n",
      "\\newcommand{\\de}{\\delta}\n",
      "\\newcommand{\\De}{\\Delta}\n",
      "\\renewcommand{\\phi}{\\varphi}\n",
      "\\renewcommand{\\th}{\\theta}\n",
      "\\newcommand{\\om}{\\omega}\n",
      "\\newcommand{\\Om}{\\Omega}\n",
      "$"
     ]
    },
    {
     "cell_type": "markdown",
     "metadata": {},
     "source": [
      "This numerical tour introduces basic signal denoising methods."
     ]
    },
    {
     "cell_type": "code",
     "collapsed": false,
     "input": [
      "%load_ext pymatbridge"
     ],
     "language": "python",
     "metadata": {},
     "outputs": [
      {
       "output_type": "stream",
       "stream": "stdout",
       "text": [
        "Starting MATLAB on ZMQ socket ipc:///tmp/pymatbridge\n",
        "Send 'exit' command to kill the server\n",
        "."
       ]
      },
      {
       "output_type": "stream",
       "stream": "stdout",
       "text": [
        "MATLAB started and connected!\n"
       ]
      }
     ],
     "prompt_number": 1
    },
    {
     "cell_type": "code",
     "collapsed": false,
     "input": [
      "%%matlab\n",
      "addpath('toolbox_signal')\n",
      "addpath('toolbox_general')\n",
      "addpath('solutions/denoisingsimp_2_linear')"
     ],
     "language": "python",
     "metadata": {},
     "outputs": [],
     "prompt_number": 2
    },
    {
     "cell_type": "markdown",
     "metadata": {},
     "source": [
      "Installation\n",
      "------------\n",
      "You need to download [numerical_tours](https://github.com/gpeyre/numerical-tours/archive/master.zip)\n",
      "and install the IPython [notebook](http://ipython.org/install.html) to run the code.\n",
      "\n",
      "You must also install the [python-matlab-bridge](http://arokem.github.io/python-matlab-bridge/)."
     ]
    },
    {
     "cell_type": "markdown",
     "metadata": {},
     "source": [
      "Noisy Signal Formation\n",
      "----------------------\n",
      "In these numerical tour, we simulate noisy acquisition by adding some\n",
      "white noise (each sample is corrupted by adding an independant Gaussian\n",
      "variable).\n",
      "\n",
      "\n",
      "This is useful to test in an oracle maner the performance of our methods.\n",
      "\n",
      "\n",
      "Length $N$ of the signal."
     ]
    },
    {
     "cell_type": "code",
     "collapsed": false,
     "input": [
      "%%matlab\n",
      "N = 1024;"
     ],
     "language": "python",
     "metadata": {},
     "outputs": [],
     "prompt_number": 3
    },
    {
     "cell_type": "markdown",
     "metadata": {},
     "source": [
      "We load a clean signal $x_0 \\in \\RR^N$."
     ]
    },
    {
     "cell_type": "code",
     "collapsed": false,
     "input": [
      "%%matlab\n",
      "name = 'piece-regular';\n",
      "x0 = rescale( load_signal(name,N) );"
     ],
     "language": "python",
     "metadata": {},
     "outputs": [],
     "prompt_number": 4
    },
    {
     "cell_type": "markdown",
     "metadata": {},
     "source": [
      "Variance of the noise."
     ]
    },
    {
     "cell_type": "code",
     "collapsed": false,
     "input": [
      "%%matlab\n",
      "sigma = .04;"
     ],
     "language": "python",
     "metadata": {},
     "outputs": [],
     "prompt_number": 5
    },
    {
     "cell_type": "markdown",
     "metadata": {},
     "source": [
      "We add some noise to it to obtain the noisy signal $y = x_0 + w$.\n",
      "Here $w$ is a realization of a Gaussian white noise of variance\n",
      "$\\si^2$."
     ]
    },
    {
     "cell_type": "code",
     "collapsed": false,
     "input": [
      "%%matlab\n",
      "y = x0 + sigma*randn(size(x0));"
     ],
     "language": "python",
     "metadata": {},
     "outputs": [],
     "prompt_number": 6
    },
    {
     "cell_type": "markdown",
     "metadata": {},
     "source": [
      "Display the clean and the noisy signals."
     ]
    },
    {
     "cell_type": "code",
     "collapsed": false,
     "input": [
      "%%matlab\n",
      "clf;\n",
      "subplot(2,1,1);\n",
      "plot(x0); axis([1 N -.05 1.05]);\n",
      "subplot(2,1,2);\n",
      "plot(y); axis([1 N -.05 1.05]);"
     ],
     "language": "python",
     "metadata": {},
     "outputs": [
      {
       "metadata": {},
       "output_type": "display_data",
       "png": "iVBORw0KGgoAAAANSUhEUgAAAkAAAAGwCAIAAADOgk3lAAAACXBIWXMAAAsSAAALEgHS3X78AAAA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\n"
      }
     ],
     "prompt_number": 7
    },
    {
     "cell_type": "markdown",
     "metadata": {},
     "source": [
      "Linear Signal Denoising\n",
      "-----------------------\n",
      "We consider a noising estimator $x \\in \\RR^N$ of $x_0$ that only\n",
      "depends on the observation $y$. Mathematically speaking, it is thus a\n",
      "random vector that depends on the noise $w$.\n",
      "\n",
      "\n",
      "A translation invariant linear denoising is necessarely a convolution\n",
      "with a kernel $h$\n",
      "$$ x = x_0 \\star h $$\n",
      "where the periodic convolution between two vector is defined as\n",
      "$$ (a \\star b)_i = \\sum_j a(j) b(i-j). $$\n",
      "\n",
      "\n",
      "It can be computed over the Fourier domain as\n",
      "$$ \\forall \\om, \\quad \\hat x(\\om) = \\hat x_0(\\om) \\hat h(\\om). $$"
     ]
    },
    {
     "cell_type": "code",
     "collapsed": false,
     "input": [
      "%%matlab\n",
      "cconv = @(a,b)real(ifft( fft(a).*fft(b) ));"
     ],
     "language": "python",
     "metadata": {},
     "outputs": [],
     "prompt_number": 8
    },
    {
     "cell_type": "markdown",
     "metadata": {},
     "source": [
      "We use here a Gaussian fitler $h$ parameterized by\n",
      "the bandwith $\\mu$."
     ]
    },
    {
     "cell_type": "code",
     "collapsed": false,
     "input": [
      "%%matlab\n",
      "normalize = @(h)h/sum(h(:));\n",
      "t = [0:N/2-1, -N/2:-1]';\n",
      "h = @(mu)normalize( exp( -(t.^2)/(2*mu^2) ) );"
     ],
     "language": "python",
     "metadata": {},
     "outputs": [],
     "prompt_number": 9
    },
    {
     "cell_type": "markdown",
     "metadata": {},
     "source": [
      "Display the filter $h$ and its Fourier transform."
     ]
    },
    {
     "cell_type": "code",
     "collapsed": false,
     "input": [
      "%%matlab\n",
      "mu = 10;\n",
      "clf;\n",
      "subplot(2,1,1);\n",
      "plot( t, h(mu)  ); axis('tight');\n",
      "title('h');\n",
      "subplot(2,1,2);\n",
      "plot( t, real(fft(h(mu)))  ); axis('tight');\n",
      "title('fft(h)');"
     ],
     "language": "python",
     "metadata": {},
     "outputs": [
      {
       "metadata": {},
       "output_type": "display_data",
       "png": "iVBORw0KGgoAAAANSUhEUgAAAkAAAAGwCAIAAADOgk3lAAAACXBIWXMAAAsSAAALEgHS3X78AAAA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\nkoABEEnAAIj0f6KALJFA1F0RAAAAAElFTkSuQmCC\n"
      }
     ],
     "prompt_number": 10
    },
    {
     "cell_type": "markdown",
     "metadata": {},
     "source": [
      "Shortcut for the convolution with $h$."
     ]
    },
    {
     "cell_type": "code",
     "collapsed": false,
     "input": [
      "%%matlab\n",
      "denoise = @(x,mu)cconv(h(mu), x);"
     ],
     "language": "python",
     "metadata": {},
     "outputs": [],
     "prompt_number": 11
    },
    {
     "cell_type": "markdown",
     "metadata": {},
     "source": [
      "Display a denoised signal."
     ]
    },
    {
     "cell_type": "code",
     "collapsed": false,
     "input": [
      "%%matlab\n",
      "clf;\n",
      "plot( denoise(y,mu) );\n",
      "axis([1 N -.05 1.05]);"
     ],
     "language": "python",
     "metadata": {},
     "outputs": [
      {
       "metadata": {},
       "output_type": "display_data",
       "png": "iVBORw0KGgoAAAANSUhEUgAAAkAAAAGwCAIAAADOgk3lAAAACXBIWXMAAAsSAAALEgHS3X78AAAA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\n"
      }
     ],
     "prompt_number": 12
    },
    {
     "cell_type": "markdown",
     "metadata": {},
     "source": [
      "Exercise 1\n",
      "----------\n",
      "Display a denoised signal for several values of $\\mu$."
     ]
    },
    {
     "cell_type": "code",
     "collapsed": false,
     "input": [
      "%%matlab\n",
      "exo1()"
     ],
     "language": "python",
     "metadata": {},
     "outputs": [
      {
       "metadata": {},
       "output_type": "display_data",
       "png": "iVBORw0KGgoAAAANSUhEUgAAAkAAAAGwCAIAAADOgk3lAAAACXBIWXMAAAsSAAALEgHS3X78AAAA\nIXRFWHRTb2Z0d2FyZQBBcnRpZmV4IEdob3N0c2NyaXB0IDguNTRTRzzSAAAfCklEQVR4nO3d25ak\nqBaFYd2j3/+V3RdWkiSeEDmsufi/ix7ZlVWh4oKJhGGs27YtAACo+d/oHQAAoAQBBgCQRIABACQR\nYAAASQQYAEASAQYAkESAAQAkEWAAAEkEGABAEgEGAJBEgAEAJBFgAABJBBgAQBIBBgCQRIABACQR\nYAAASQQYAEASAQYAkESAAQAkEWAAAEkEGABAEgEGAJD03+gdwGDruu4/bNt29avT3wIOrOua1PZN\nj4A1BNjU4t577MkLfRh+xfOz5A/3sj/tETCFJUTPQhc97auZr1D8b4EhMst+27arfNrLnvSyjyuw\niST9Oad/MhWFA68q/35NAqYQYBN52xvpvfCBSvaKAJvIq3ko00+4UbD2AAkMUp7F91NdBdLxnqvw\nN7kdC4pyyj7+y8k6OWUvhADzjKsoTIiynwd3IQIAJDFVAQBI4goMACCJAAMASCLAAACSCDAAgCQC\nDAAgyfmTOHgQLb5TvFOXysd39ivfYYAlH2PsfA76f4iy8xbdH2CyRZUkOLaS79M0Wx3235xE5bsK\nsA4tvm/B/LwEE5EYaIAWXL0HdvMFPz33wfcW3R/gkC1+YaHsF+pQf4sWqugtV1dgp+KvWAXyqV/Z\nUPkoI1T5/gOMDowyybPJ5VD5KCNU+a6WEAG0sK6LwmiG6RBgUMWQCkzOYYCxcoIJUfaYkMMAm9C0\nKzxzHjWAHQH2wrryCTAAgzFvCwgwAIAkAqw+5kcd0MgACLBcjJiYE5VvECdlR4A1QXn1t9/JQsu3\nwFu/dlDhMQLsBbqxQfRnOzgXfTAQBf4fJYW6DD6PPxk3w/+a2km0wI3Bi8ku2Q1XYHjB2hR7zk5r\nmbUK8Wrb0jXzOdfPCTCoykmvCbs0WrAcD3FHsLyfLRBgWQpqYqoysuCYZ5yC71ijM2vbfk/NtOeI\nAIO8aXsvEMR5Ng8CLNeExXHKcjvsfdjyHs6g84Xv5NfZSbXv/zvPQiIB9mySUhD1GFecvmIFTcfs\nAT0RYE3QjTs7nYcGZFix+F0WmlHLDOeLAINnYfydoTMDwSRzaAIMPk3SgdGNyjXoVG8DE2ANSZQ7\nAJfCh50dI8CyzDOj8WQ/a5w7TMt98RNgACrzPesfiM+VJwgw+EefL1A8VnZr7W6jObFhFgH2oHgu\nGT5RCCPcvx8wFqM8+iPAntEtgVdUbtiDOgJMHjPfHDQR5uR7MkGANeRs0HTTDdwcCJDJa80TYCW8\nVsMjZ5GMK1zWe+L4VBJgdzKDato8A6DC5U1MBFg5f9WQSXRVnftCMS2vF2EEWKFkHNz/9zg4io71\nXnntxjZR+aa4LH4C7BOXV+W+uezGPWXWPO2MDgiwB/RDzOYmn+Jf7Uk21QSOBRVrCLBLbys1s9vD\nAs7Ivat524TzOW7ItOy/0Tvw2voz9myHslqjYen42wIFr8HIiEauKr962V8JT/cPF14zfGEHLBML\nsHVdQxeNfw6aduBTrCqI0ppZ31d+57IXajfE9sHK0+nztoS4ruv6N0+Of5L3One/PX7n6U1N+Lh7\nW33/C5RVzhCnuzp8/5nbiRpeOfm8Bdi2bdu2JYsq/S/L+mOwqE6oco5lv5Tu/9sqEmkh/JMzUAhV\nvtgS4r0+jR5v5PQ7f0VO/WtujstZ2Fcv+7ev56YwIMfPFVj/a177/VZlmA772W2H7Z+7TMaXepzN\nFWCN2BVYvE6SvKd9+qtv2+r3r4B7x/JuVPaAELEAW856afiTsR34ZrLpch5a5Xam+NorfrX7F6/V\nmOFecAlXdx5Onlv+7qxDPj9LiBX5CxshcaSFzxj1X2MErlScPx1figp/hQCraZ5pYM8jDRkWh9k8\nTd0TlzKParXP2zkZwXaKAIMVXGbBmqaJHn+cNJ6cna49VNwZT+9oEGD96BbN1Z5XPCIm/pjc1XIi\nD+u6QYB15akQa0XO8bEmFV/8frvAcMn10N4d4k6R/G8tPsYiAuwco5sRpyeCs6OlxVjpY/xN3Bd2\nxbJ304MIsE7UK8bC/lvYB8caRULT95CuyMXb1TUWNX+PAEvJlb4/4QFdp0/tYh7aDg2So/pNEHz7\nWjECzA/1m4tOHywJB9QrszpaoxYCrJ8W36vi7IM7no4FuEGpV0GAnWhdW8y/XqGrYwj6qX0E2B+U\n7Ft9WowMa43KP0XhGUeAdaXYHx6HNsY+HxSLc5e8x0ZBzoMAwzPdoe0R9xf0QTujBQLsl8sOZvmg\nnN2BgqlY7lk5fEwpCLAxHJQO3Ogzk/AxYu6YeBlBgP0Tulbr0tQq/fsRR+tYgLrc5LEuAgyXcvqn\njwxjJNLS4ZLxcRM+Kl8dAfaHVlGeDruMxbCM+kRFBJi2JHG1AhgW9LyVhvpEXQTYAH26ccXvb83Z\nFhQ5PnFfDo37Y1UQYMsyqBvzRatARcnXQiKH+hBEgKEO3Z4w+WDn4/BHHYVu2S8uTv3sARZfBmmd\nzlo95+pOkP3Pc9pEq90wlv1Pg+XvHpU/3LwBlpTpwBmctf5cvD/WDgT3Br7TY7ZU8udtyT/BEPMG\n2FgfB477PpP8dkhGyvVquR3+aPjxfpkn2bn0sbMnc5olwOZ5osSQY/HUgDMouM6oaNuabPr74mRx\nswyfDUxrlgA7NbbsbvrJzY5l7nOVQ3vVk0+/b1qlY8dHqrLPxcamV6ygqSuenVovZaElp+U/wE6/\nKMjIIJWUfubC4OPOn/aonEOu0iwG39WDQcXj/s0/3C/Cwl94VYf7PySNtPgPsIS1sfX0wqWp+wdQ\ntZ7hWmv/RNwOPpL4eE2sOEbbPx2W9+2G/ZtC700RYKLrWsvhaqbpRzUb3Zap/1W5guP9gdkA2Hep\n4p3rmXVbd6YSX/MZbGTHXAXY+uPxbxqchB578uNVUc7Tsk/f3bnJxZxXvt/ikcoEwtoKc6absr86\ns0bq/7j8UP2qfcjahnqMCe3/f6N3oJp1Xbeffhn/fMNIN24hM0te/dsvVPqDnOuy30TzeKl6C1Ly\nkfxkBbViy4S338LmtFZr493+IbD3fgLswu85SM6QndpKiv50UaXFGDT2c6x22t+pNS5+s62dc8NF\nlZ2P4/z0Bb9vJVzd3nRemyfiONfZtmVdV/sZ5j7ANLx6YlPF0b/R3DznnWG5ywJNAmNQLK6cimN9\nfD10+vp1q/EmlQ1O3c56a877MCa4eg/szJ/zYOoNgHwddrjWJsKNyOG/Kq193M+wMtd7VyrZtiVn\nId2gRh9zDj/UetM3f4sSI0/UZzeVynEfYP90Ox1Vpi7x3l4PrLlbfHyF+A8fGyr/AOtdJnaKkGML\niPTiO93mELVOU906PD38sjYpOMB4QwWfTutZ+fuaoVzB+1lC3LYtnG+V6cO9isspV+/83f9vXfG7\n6OYXKLJuArLAU9mL734WheJXItNRy/ydwmwKy0H76Vh/9rbiPo89/LD1+IfF3hk5aSXFPiLzJsaM\nJAaiZVGofOcBBgDwapb3wAAAzhBgAABJBBgAQBIBBgCQ5Oc2+v6Oty8nf9Lo/ubwyLvHHfi+ocfX\nr36M+wv2adLkQYL3G3Jzt/p3o9rKTuW3OMC48jscYP6GLFc+AfZJKIL94zjJKX/7cOEcoZiOT3Et\neJzx44ZuDrD6Fpe//appkyZ3mT9uqPqRqouHvz5tZafylwZdO0mUdgcYV35OSxqvfJYQy/U/l/0L\naP+eDmtV+53Qw3IMovJ1Oat8rsC+clnluyEzr2QGCrPCDH30jtQ3tvJdNmkjBFi5zkPtvrn4v84Y\nX6xAQOXXdfpeLHKwhPhJz0F2+9F5u8ARlQ8LmOcWSiZKp7f0uL8Xq/8WuQtxuGPlcxdi9S1yF2Im\nAgwAIIklRACAJAIMACCJAAMASCLAAACSCDAAgCQCDAAgiQADAEgiwAAAkggwAIAkAgwAIIkAAwBI\nIsAAAJIIMACAJL7QcnZX35Vw+n0xgBs33xLC14KrIMDw+xVEcY+Nf+ZbYuHSaeXH35VFhhnHEqJn\nIXhuEuixi9KNoSWn7BcusFzgCmwiN6uCpBQcu6r8q4RjCVEFATaR0w5531cJNjhwVcNhqTD8SVzw\nFL99BNhEruah9FL4dqx8wskHzqJn8X1Wpz32NNJ4ExvSHsv++NeWv2Uf/zksY4TyjATChCj7eXAX\nIgBAElMVAIAkrsAAAJIIMACAJAIMACCJAAMASCLAAACSnD+Jg8eo4zvFO3WpfHxnv/IdBtjN14L0\n37q/Lbo/wOXwQLyemy52bCXfp2m2Ouy/OYnKdxVgEi0O1EXZY1oOP8jM86RRkUoJXX0rI1BGooRc\nXYGd4qt9UEb9yobKRxmhyvcfYHRglDl+WZQWKh9lhCqf2+gBAJIIMACAJIcB1nTlROGqGjNiwRAT\nchhgAIAZEGAvcPkFAHYQYAAerCuzN1hEgEEVQyowOQIMwsgwYGYEGIA767pwh6MprOgGBFguujEA\nmEKAvcbcx4Iwn+B0YCoUfIwAe4eLMFPi07Gvq9C94d62Ldv2W+ozlz0B1sS09TQErY05xdE1Zy/w\n/zT6/uaspFHCQmL4IbQ/l8vf8davWeEiLJyg5H9nwBUY3rEZz6HT7qsrU/VhU2yWh1dJqU/4rjAB\nloV56G6qvoG3KI/hZhumCLAm4rdYO5j5XdwbNAtq0aolrb39ggDDO52zudg+FVXZWzdo8OGmWkIn\nwJ7RIUXN040biVfOSSYtk5wvAiwLQ6G0GXoyMCECDM4x+XCMqck99+1DgLUyySW8Cs4FPpLr0TNM\n3Qgw+DdDT7ZDbqB3zP25IMAAnFD57GOHAdp3BkgjwB6odGM8YhhCMQYBmwiwhtxfvwthAGqNqV4H\nBY3sexQiwJCLEQr5HA+asIMAw0QYVfvoM9FhRgUCDLNgsMtHNnjieBWRAKusf8/3WpoAcI8Au1Ml\njToETOfI1J3Q6e458IXXyifA2mIdxhqvPRmYEAH2GiPgcLxDM8SryqebWOPyjBBgheb5yjgAO5cZ\nII0A+2pPMspaC+frxv0Fbqh2yh7D/Td6B15bfzrNduhka9Sfjr99v6HLX+2vHTow8zItoufrqvLr\nlv2908r3vZzr/gCliQXYuq6hi8Y/B3U78P2LHX97NSx26AMzDCUzu6/81rmVSLYWwgzG+RslvC0h\nruu6jphd30zqfZSLs7p3ZlTZL7flLXqlCyFiV2CP9qloMl1dukxRw+oKJDxG8qhIKHAs+6V75cMN\nocp3FWCnfXXs6gpsyrk4CKnQY4c+uKrwssrnUhsqlb94WkKs29x1uzFrKWhEYpRpis71irPmErsC\n27bteC/WvnJy+ivAh2N5U/aAWIAtZ700/AkduBt/tzPZd3XnoeWyp04qoiWP/CwhAkBrzpbg1BFg\nGGzUAx0YiY6Y4/fEo0y+I8BOUFX9JW3OKcC9PhXSIdH7l7qnqZvee2B9MA/tIx4gksEi7mPJZ+w4\nO1jEyyBUe1znSa7EXQOnCLBOpN/N7tZ/TiMqXmkRbcDJ6VZ+H8e52kLZ52EJEVlOu1CjYDvd1rbV\n78ae1lLMYvC9t7fPXt5xW4WfacAbXIGhUPXR/6qj0oHhG5VfjCuwrpjvwywW+ubhZu2BAEu168Yt\nXpZBB+jMzejvAAHmB/0KNlGZaIQAA4AThK59BBgAeT1viIUdBFhXnddSqmzL99tsrG7tpB854bg+\ncY8A+8P3YA2MQrdCCwQYynH5gjk5qHwHh7AQYP35qBsAxVjpqYUAc65DWJLH6vqMpxWnbo87TE1O\nggD7xbSoAC0Ga/rcu8RSigUE2Bh9Loy+pwuhDsAsAmyAWpFwmi5Cs0LS0YLOBSNUn7CPAPvHR78a\nlQfSrcdaULey6VmfX84pUysVBNgvSjaR2Y1pNwyXzEKoyUkQYMsyaMI1+awfFnCp8YX6tbv6/i8E\n2CiMGpiT/UHT+O4hRoDh3NtuTLeXI3rKOlw1Mr9UQYCNXEVZ1/qDSJUZ7v4K+c1Chxc15MRZvgh7\nu2OWj2UGswfYwOLbtk/DR+s9J5N8Gz7sNpq6fZ+PUvlCZg+wxUC9FvfkRntetj9MRYW8vcKubnin\nO1UcflT+KFMHmIVbsEyFUDC8WTqbMH0tnOKCNjd4miy05LTmDTCDPSHfffTuvwp/QfpIUVeLt13L\nFI/795Uf//bVkRppls7Up26TBtjwJZTYqxrK/Jvh0N4e45erUvXOMImPb77W1S5jCo6Rypfz3+gd\n6Mr4Z/UzvyTibcbsvevqn1RfRw2NbLCFp2VzeM0f9yWKKnMnbZ4LUa4CbP0pje1vBR2vtwx2g7is\nb57S22KuV/EFQ1jGS1UGWzvTui7LYn3vr8p+kar8mx37sl5yNT871nytexdD5T8u8uM7PwG2rmvo\nwNHPW1KpNksnrv795/iH5K8VH0KIlvAi1bvxEu1kvDkJyWAnsecXZb/ElW9qwTyR1GF8Cr5PgJLy\nS9qhUYmGI7Jwj1iBqDUE9t5PgF1Y99MgNJIm485SaegJy4/L30XFdn0sSWXjM4nkqnH5HYlWiZ58\nEAebudZOxPOq6uv8SeHFrdGuCxzLKd6iKVd9U6Ly3QfYsiz7yfkXYxKS66RaL5i8Wp9EP/14qeXJ\nRDQxN7yXGfb937bjyqJpdff2dCm+Z+Uvf2dyNmvqMDKY3Msz/gMsdN+Zu/HxBe/v7Gi66Z3BPnKY\nmG+LVGdOaAVXt53t2Sqnnc4+ocqf9Db6dj6e9YJbnIu3WPqueIWyfrV0078jSXRdazo3mmhVvOrg\n7pv0Oz9XYNu23dyOBWs4RVVQ9pjZ6rvoFecUsEaxj1D5+M5+5TsPMACAV7wHBgCQRIABACQRYAAA\nSX7uQuzvePdX8ieNbg8LTwx63IHvG3p8/erHGD5+e/r61Q8wf0Pc7BeMais7ld/iAOPK73CA+Ruy\nXPkE2CehCPa7mZNTfvGQuk9CMR0fgnf9WLzyDd0cYPUtLn/7VdMmTW7Se9xQ9SNVFw9/fdrKTuUv\nDbp2kijtDjCu/JyWNF75LCGW638u+xfQuq4Gq/a7Te4JS5ZQ+bqcVT5XYF+5rPLdkJlXMgOFWWGG\nPnpH6htb+S6btBECrFznoXbfXPxfZ4wvViCg8us6fS8WOVhC/KTnILv96Lxd4IjKhwXMcwslE6XT\nW3rc34vVf4vchTjcsfK5C7H6FrkLMRMBBgCQxBIiAEASAQYAkESAAQAkEWAAAEkEGABAEgEGAJBE\ngAEAJBFgAABJBBgAQBIBBgCQRIABACQRYAAASQQYAEASAQYAkMQ3MmNZLr4B2fL3AAEVUeqiCDCc\nf4t58mWPdGx4tdd/+IJHSl0IS4iehWQ6jajwK3osvMrpAuEv0BfkcAU2keOXwRf8K0DaaS9gsUEU\nATaRq3e5wn/jv7BtW1haIcPgBvnkCQE2kePc82biyVQULpWtQ8AmBinP4nur7gPp9JYNbs2Cuswu\nQKmLIsA84yoKk6ML+MZdiAAASUxPAACSuAIDAEgiwAAAkggwAIAkAgwAIIkAAwBIcv4kDp6BhO8U\n79Sl8vGd/cp3GGDHZ/oN3Lq/Lbo/wOXwXJKemy52bCXfp2m2Ouy/OYnKdxVgEi0O1EXZY1oOP8jM\nNzGiIpUSOk6fJXYbZkmUkKsrsFPx160C+dSvbKh8lBGqfP8BRgdGmeSR/HKofJQRqnxuowcASCLA\nAACSHAYYKyeYEGWPCTkMMADADAgwAIAkAgwAIIkAe2FdF4U7SwFgCgQYAEASAQZhXBD3QTvDJgIs\n17ou3KhsCqNqH3s709p28F5GQIBB2LbRk3tg6mYQlb8QYHAgXCIwM8Uk9ilFXPlzIsCgLe7J8c+o\ngsY0K1T7tv1bipjwZPl/Gj3cixe44l6NKmhJs5LK3zNsqvPFFViWUBa86WLE/VngNMGrm8KecAWC\nAGtiqhoa5XGmyVmASzeVP1uGEWCtzFNDNs3Wk4HdVJVPgOEdoY4xVU9uoaDpaG0L5ql8Aqw+x++j\nynUJryeim9CAOW8r8pFnOyapfALsmeNAmgE3dPTkuKdQRQYRYK14HTe9HhdwQ7HmZ+iqBBim4L4n\nAxMiwOCf43Utg2aY+Ktwfy4IMAAneOs34T4MFBFgDyS68ZyPQXuF0QfF1CtHff9vEGANMWhiHhJT\nvWJGDq1gPDGy540QYCXmjCUHI9ScJ24ImroR9T5YFwH22n0BORjlveK8dENTW+N1PkGAAUidzsMM\nLolb2x+bHM8nCLA7dA9nDA7B+IgTmsllQxFgDz5OXlyOmMMPinVa4BWv/YUAk+cvIJsanr6T6NDO\nnEcQYB54nV7BoNPYGHVN3Hmj0rMf6Z2/QoCVcFkKwO7xS+sBI/4bvQOqjhlG31axnzvO1437L62P\nK999M1IqlukF2PrTe7ZDWa1Rxzr+9v2GHgo39OT9h6t5a5/hkkHZvavKr1v2OeKNUHUYSCzA1nUN\nXTT+OejTgaPN/f4Qwgyo7r7yO5f9302TYTL8nSxv74Gt67oOentq21xVRsJZ3TszsOyX60kbbxWj\nNbErsEf7VDSZri5Dp6gQNTAS3jqW/VJa+ToHPZ1uk0ihyncVYKd9lejCUc5aSkiFTvtU6qrCiytf\nrsewPFCXSuUvnpYQ6zZ39S6hUAwvsDpkhMQo0xTR9Yqznit2BbZt2/FerH3l5PRXRjgrGvR3LG/7\nZe8VF3x2iAXYctZLw5/QgWcw7fBxdeeh5bL3d9sbk1FT/CwhAm8xEiWEGkRoV9EOAYbB9s+A9x+P\nPF0WVCTULB121c7lo509MYUAO9GoVpgzXjm29lWq0YZw47TIO8znPK2C6r0HJkq6aDrsefxmSfxM\nk/hhXeFvQgtXD1fCU+iSCh+yJqGIAEOWXp+gTDcXd2YGQUXSU7cOTiv8OJPDKQJM28C5bfUbzG6e\nSNQOFwcYbkjl+8B7YBhp7NycASLGdVJPzJyqIMBS7bpx67UU0bUaurEdnIscoh0t5uAQdgTYCbox\nUJGb4RLWEGAAtDUKSELXPgIMAM6xGGMcAdaV4lqK+3eb5c5IC+7PMlwiwP5gLHtFMY8TjNp9OCgV\nGESApRjRANwjj40gwAag9IEvWPD8zkcGE2C90fFgTZ+BTGvEJCMlEGC/KNkCWqMSrlD5PTHU1EKA\nCTvtBnXjhJ4GnGLqZgEBNkC70k/Chg6GRxQJdBFg/3jtxpaPi8s7I7qdhaZTt4qvbLnXIEaA/XI2\nmH6Ph8xurL6Wor7/SFT5Nkhno4FXBBju0I19I7m/cDD1Ud9/AmxZRqxlOSh9+CBX+Tm99ctW5umY\nDqanBBjOzdONp8UpvuJgZJ8EATasG3+cil7924rXdvndmAtKUaNG6hbVshdh/9UUKn8gAmxZhk64\nvlR/u92mT7o38BRbvr55m3+Wj2UGswfY2JG6aQLtL158bVSwb8SeloGDr81LdoO7hHtTB9her8Pn\nUNW7TZ+75+tudCyb42k7ugd7f4W0bX9+W3CYBWX8tnisNb61/Xll3gAzkl5lO/C40PHxuIY3C9qx\nU/lNh87hB3jDzr7Z2ZMykwaYkT4c2JkEfXxPzs6B4JS1yn+laXV9vPuDyh9ixgCz1off7klBV3n1\nT4asQKIDg5WfXy3Wdj5mc69mMF2Ame0GOT05PCOn0Y1StR7As++nXJLJ7XC+ssrp47HZv+x85jn9\nfvN9uInfcRUZ9N/oHahp/amd7W8xhuo3+/TYMO5f7V670Sfpb983EV7hftyxdi6OVwOhmgbszRtX\nZb/8PbmmWjt4/PDWl8q/v8Jrd/OU2bnCqePAqFL5i6cAW9c1dODo5y2UqcTMaK+kOHGD6it78YZa\niK/GVDpzEJ2C1XJPvij7Ja78xfZgGmfYaSetW/mPk8XvOmyiuqT97Vf+zk+AXbicnBoUevKuYrqc\nfu9ln3liclDG/d3PVWW3zwhX/lKvLI/fkNfznLbI4xbi9t+jS6Xy3QeYRgcOuu1sz1Y5jU+DDvu5\nLcohRuWP2kr/bX0X7+1eORKVP91NHK31P+udt1hlc8kHTjts8RWJrmuNYh2yxYGbq4IAAwBIWrXW\nGe4db8dSnFPAGuN95PQuRCof3xmv/MVZgAEA5sESIgBAEgEGAJBEgAEAJBFgAABJ/j/I3M7NTY/J\nJwHr3ikTnhj0uAPfN/T4+tWPcX/BPk2aPIfpfkONzqaiUW1lp/JbHGBc+R0OMH9DliufAPskFMG2\nbcfR8OIhdZ+EYjo+BO/6sXjlG7o5wOpbXP72q6ZNmtxl/rih6keqLh7++rSVncpfGnTtJFHaHWBc\n+TktabzyWUIs1/9c9i+gdV0NVu1327b5O6huqHxdziqfK7CvXFb5bsjMK5mBwqwwQx+9I/WNrXyX\nTdoIAVau81C7by7+rzPGFysQUPl1nb4XixwsIX7Sc5DdfnTeLnBE5cMC5rmFkonS6S097u/F6r9F\n7kIc7lj53IVYfYvchZiJAAMASGIJEQAgiQADAEgiwAAAkggwAIAkAgwAIIkAAwBIIsAAAJIIMACA\nJAIMACCJAAMASCLAAACSCDAAgCQCDAAgiQADAEgiwAAAkggwAIAkAgwAIIkAAwBIIsAAAJIIMACA\nJAIMACCJAAMASCLAAACSCDAAgCQCDAAgiQADAEgiwAAAkggwAIAkAgwAIIkAAwBIIsAAAJIIMACA\nJAIMACCJAAMASPo/vFrg17YlYuEAAAAASUVORK5CYII=\n"
      }
     ],
     "prompt_number": 16
    },
    {
     "cell_type": "code",
     "collapsed": false,
     "input": [
      "%%matlab"
     ],
     "language": "python",
     "metadata": {},
     "outputs": [
      {
       "output_type": "stream",
       "stream": "stderr",
       "text": [
        "UsageError: %%matlab is a cell magic, but the cell body is empty. Did you mean the line magic %matlab (single %)?"
       ]
      }
     ],
     "prompt_number": 17
    },
    {
     "cell_type": "markdown",
     "metadata": {},
     "source": [
      "Exercise 2\n",
      "----------\n",
      "Display the evolution of the oracle denoising error\n",
      "$ \\norm{y-x_0} $ as a function of $\\mu$.\n",
      "Set $\\mu$ to the value of the optimal parameter.\n",
      "etrieve the best denoising result"
     ]
    },
    {
     "cell_type": "code",
     "collapsed": false,
     "input": [
      "%%matlab\n",
      "exo2()"
     ],
     "language": "python",
     "metadata": {},
     "outputs": [
      {
       "metadata": {},
       "output_type": "display_data",
       "png": "iVBORw0KGgoAAAANSUhEUgAAAkAAAAGwCAIAAADOgk3lAAAACXBIWXMAAAsSAAALEgHS3X78AAAA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\n"
      }
     ],
     "prompt_number": 18
    },
    {
     "cell_type": "code",
     "collapsed": false,
     "input": [
      "%%matlab"
     ],
     "language": "python",
     "metadata": {},
     "outputs": [
      {
       "output_type": "stream",
       "stream": "stderr",
       "text": [
        "UsageError: %%matlab is a cell magic, but the cell body is empty. Did you mean the line magic %matlab (single %)?"
       ]
      }
     ],
     "prompt_number": 19
    },
    {
     "cell_type": "markdown",
     "metadata": {},
     "source": [
      "Display the results."
     ]
    },
    {
     "cell_type": "code",
     "collapsed": false,
     "input": [
      "%%matlab\n",
      "clf;\n",
      "plot( denoise(y,mu) );\n",
      "axis([1 N -.05 1.05]);"
     ],
     "language": "python",
     "metadata": {},
     "outputs": [
      {
       "metadata": {},
       "output_type": "display_data",
       "png": "iVBORw0KGgoAAAANSUhEUgAAAkAAAAGwCAIAAADOgk3lAAAACXBIWXMAAAsSAAALEgHS3X78AAAA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\nQmCC\n"
      }
     ],
     "prompt_number": 20
    },
    {
     "cell_type": "markdown",
     "metadata": {},
     "source": [
      "Wiener Filtering\n",
      "----------------\n",
      "We suppose here that $x_0$ is a realization of a random vector $x_0$,\n",
      "whose distribution is Gaussian with a stationary covariance $c$,\n",
      "and we denote $P_{X_0}(\\om) = \\hat c(\\om)$ the power-spectrum of\n",
      "$x_0$.\n",
      "\n",
      "\n",
      "Recall that $w$ is a realization of a random vector $W$\n",
      "distributed according to $\\Nn(0,\\si^2 \\text{Id})$.\n",
      "\n",
      "\n",
      "The (oracle) optimal filter minimizes the risk\n",
      "$$ R(h) = \\EE_{W,X_0}( \\norm{ X_0 - h \\star (X_0 + W) }^2 ). $$\n",
      "\n",
      "\n",
      "One can show that the solution of this problem, the so-called Wiener filter,\n",
      "is defined as\n",
      "$$ \\forall \\om, \\quad \\hat h(\\om) = \\frac{ P_{X_0}(\\om) }{ P_{X_0}(\\om) + \\si^2 }. $$\n",
      "\n",
      "\n",
      "We estimate $ P_{X_0} $ using the periodogram associated to the\n",
      "realization $x_0$, i.e.\n",
      "$$ P_{X_0} \\approx \\frac{1}{N} \\abs{\\hat x_0}^2. $$"
     ]
    },
    {
     "cell_type": "code",
     "collapsed": false,
     "input": [
      "%%matlab\n",
      "P = 1/N * abs(fft(x0)).^2;"
     ],
     "language": "python",
     "metadata": {},
     "outputs": [],
     "prompt_number": 21
    },
    {
     "cell_type": "markdown",
     "metadata": {},
     "source": [
      "Compute the approximate Wiener filter."
     ]
    },
    {
     "cell_type": "code",
     "collapsed": false,
     "input": [
      "%%matlab\n",
      "h_w = real( ifft( P ./ ( P + sigma^2 ) ) );"
     ],
     "language": "python",
     "metadata": {},
     "outputs": [],
     "prompt_number": 22
    },
    {
     "cell_type": "markdown",
     "metadata": {},
     "source": [
      "Note that this is a theoretical filter, because in practice one does not\n",
      "have access to $x_0$.\n",
      "\n",
      "\n",
      "Display it."
     ]
    },
    {
     "cell_type": "code",
     "collapsed": false,
     "input": [
      "%%matlab\n",
      "clf;\n",
      "plot(fftshift(h_w)); axis tight;"
     ],
     "language": "python",
     "metadata": {},
     "outputs": [
      {
       "metadata": {},
       "output_type": "display_data",
       "png": "iVBORw0KGgoAAAANSUhEUgAAAkAAAAGwCAIAAADOgk3lAAAACXBIWXMAAAsSAAALEgHS3X78AAAA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\nJAEDINL/AZAa2gZZtxKnAAAAAElFTkSuQmCC\n"
      }
     ],
     "prompt_number": 23
    },
    {
     "cell_type": "markdown",
     "metadata": {},
     "source": [
      "Display the denoising result."
     ]
    },
    {
     "cell_type": "code",
     "collapsed": false,
     "input": [
      "%%matlab\n",
      "clf;\n",
      "plot(cconv(y,h_w));\n",
      "axis([1 N -.05 1.05]);"
     ],
     "language": "python",
     "metadata": {},
     "outputs": [
      {
       "metadata": {},
       "output_type": "display_data",
       "png": "iVBORw0KGgoAAAANSUhEUgAAAkAAAAGwCAIAAADOgk3lAAAACXBIWXMAAAsSAAALEgHS3X78AAAA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\n3OEL60AAAAAASUVORK5CYII=\n"
      }
     ],
     "prompt_number": 24
    },
    {
     "cell_type": "markdown",
     "metadata": {},
     "source": [
      "Note that this denoising is not very efficient, because the hypothesis of\n",
      "stationarity of $X_0$ is not realistic for such piecewise-regular\n",
      "signal."
     ]
    },
    {
     "cell_type": "code",
     "collapsed": false,
     "input": [],
     "language": "python",
     "metadata": {},
     "outputs": [],
     "prompt_number": 24
    },
    {
     "cell_type": "code",
     "collapsed": false,
     "input": [],
     "language": "python",
     "metadata": {},
     "outputs": []
=======
  "metadata": {
    "name": ""
  },
  "nbformat": 3,
  "nbformat_minor": 0,
  "worksheets": [
    {
      "cells": [
        {
          "cell_type": "markdown",
          "metadata": {},
          "source": [
            "Linear Signal Denoising",
            "=======================",
            "$\\newcommand{\\dotp}[2]{\\langle #1, #2 \\rangle}",
            "\\newcommand{\\enscond}[2]{\\lbrace #1, #2 \\rbrace}",
            "\\newcommand{\\pd}[2]{ \\frac{ \\partial #1}{\\partial #2} }",
            "\\newcommand{\\umin}[1]{\\underset{#1}{\\min}\\;}",
            "\\newcommand{\\umax}[1]{\\underset{#1}{\\max}\\;}",
            "\\newcommand{\\umin}[1]{\\underset{#1}{\\min}\\;}",
            "\\newcommand{\\uargmin}[1]{\\underset{#1}{argmin}\\;}",
            "\\newcommand{\\norm}[1]{\\|#1\\|}",
            "\\newcommand{\\abs}[1]{\\left|#1\\right|}",
            "\\newcommand{\\choice}[1]{ \\left\\{  \\begin{array}{l} #1 \\end{array} \\right. }",
            "\\newcommand{\\pa}[1]{\\left(#1\\right)}",
            "\\newcommand{\\diag}[1]{{diag}\\left( #1 \\right)}",
            "\\newcommand{\\qandq}{\\quad\\text{and}\\quad}",
            "\\newcommand{\\qwhereq}{\\quad\\text{where}\\quad}",
            "\\newcommand{\\qifq}{ \\quad \\text{if} \\quad }",
            "\\newcommand{\\qarrq}{ \\quad \\Longrightarrow \\quad }",
            "\\newcommand{\\ZZ}{\\mathbb{Z}}",
            "\\newcommand{\\CC}{\\mathbb{C}}",
            "\\newcommand{\\RR}{\\mathbb{R}}",
            "\\newcommand{\\EE}{\\mathbb{E}}",
            "\\newcommand{\\Zz}{\\mathcal{Z}}",
            "\\newcommand{\\Ww}{\\mathcal{W}}",
            "\\newcommand{\\Vv}{\\mathcal{V}}",
            "\\newcommand{\\Nn}{\\mathcal{N}}",
            "\\newcommand{\\NN}{\\mathcal{N}}",
            "\\newcommand{\\Hh}{\\mathcal{H}}",
            "\\newcommand{\\Bb}{\\mathcal{B}}",
            "\\newcommand{\\Ee}{\\mathcal{E}}",
            "\\newcommand{\\Cc}{\\mathcal{C}}",
            "\\newcommand{\\Gg}{\\mathcal{G}}",
            "\\newcommand{\\Ss}{\\mathcal{S}}",
            "\\newcommand{\\Pp}{\\mathcal{P}}",
            "\\newcommand{\\Ff}{\\mathcal{F}}",
            "\\newcommand{\\Xx}{\\mathcal{X}}",
            "\\newcommand{\\Mm}{\\mathcal{M}}",
            "\\newcommand{\\Ii}{\\mathcal{I}}",
            "\\newcommand{\\Dd}{\\mathcal{D}}",
            "\\newcommand{\\Ll}{\\mathcal{L}}",
            "\\newcommand{\\Tt}{\\mathcal{T}}",
            "\\newcommand{\\si}{\\sigma}",
            "\\newcommand{\\al}{\\alpha}",
            "\\newcommand{\\la}{\\lambda}",
            "\\newcommand{\\ga}{\\gamma}",
            "\\newcommand{\\Ga}{\\Gamma}",
            "\\newcommand{\\La}{\\Lambda}",
            "\\newcommand{\\si}{\\sigma}",
            "\\newcommand{\\Si}{\\Sigma}",
            "\\newcommand{\\be}{\\beta}",
            "\\newcommand{\\de}{\\delta}",
            "\\newcommand{\\De}{\\Delta}",
            "\\renewcommand{\\phi}{\\varphi}",
            "\\renewcommand{\\th}{\\theta}",
            "\\newcommand{\\om}{\\omega}",
            "\\newcommand{\\Om}{\\Omega}",
            "$"
          ]
        },
        {
          "cell_type": "markdown",
          "metadata": {},
          "source": [
            "This numerical tour introduces basic signal denoising methods."
          ]
        },
        {
          "cell_type": "code",
          "collapsed": false,
          "input": [
            "%load_ext pymatbridge"
          ],
          "language": "python",
          "metadata": {},
          "outputs": []
        },
        {
          "cell_type": "code",
          "collapsed": false,
          "input": [
            "%%matlab",
            "addpath('toolbox_signal')",
            "addpath('toolbox_general')",
            "addpath('solutions/denoisingsimp_2_linear')"
          ],
          "language": "python",
          "metadata": {},
          "outputs": []
        },
        {
          "cell_type": "markdown",
          "metadata": {},
          "source": [
            "Installation",
            "------------",
            "You need to download [numerical_tours](https://github.com/gpeyre/numerical-tours/archive/master.zip)",
            "and install the IPython [notebook](http://ipython.org/install.html) to run the code.",
            "",
            "You must also install the [python-matlab-bridge](http://arokem.github.io/python-matlab-bridge/)."
          ]
        },
        {
          "cell_type": "markdown",
          "metadata": {},
          "source": [
            "Noisy Signal Formation",
            "----------------------",
            "In these numerical tour, we simulate noisy acquisition by adding some",
            "white noise (each sample is corrupted by adding an independant Gaussian",
            "variable).",
            "",
            "",
            "This is useful to test in an oracle maner the performance of our methods.",
            "",
            "",
            "Length $N$ of the signal."
          ]
        },
        {
          "cell_type": "code",
          "collapsed": false,
          "input": [
            "%%matlab",
            "N = 1024;"
          ],
          "language": "python",
          "metadata": {},
          "outputs": []
        },
        {
          "cell_type": "markdown",
          "metadata": {},
          "source": [
            "We load a clean signal $x_0 \\in \\RR^N$."
          ]
        },
        {
          "cell_type": "code",
          "collapsed": false,
          "input": [
            "%%matlab",
            "name = 'piece-regular';",
            "x0 = rescale( load_signal(name,N) );"
          ],
          "language": "python",
          "metadata": {},
          "outputs": []
        },
        {
          "cell_type": "markdown",
          "metadata": {},
          "source": [
            "Variance of the noise."
          ]
        },
        {
          "cell_type": "code",
          "collapsed": false,
          "input": [
            "%%matlab",
            "sigma = .04;"
          ],
          "language": "python",
          "metadata": {},
          "outputs": []
        },
        {
          "cell_type": "markdown",
          "metadata": {},
          "source": [
            "We add some noise to it to obtain the noisy signal $y = x_0 + w$.",
            "Here $w$ is a realization of a Gaussian white noise of variance",
            "$\\si^2$."
          ]
        },
        {
          "cell_type": "code",
          "collapsed": false,
          "input": [
            "%%matlab",
            "y = x0 + sigma*randn(size(x0));"
          ],
          "language": "python",
          "metadata": {},
          "outputs": []
        },
        {
          "cell_type": "markdown",
          "metadata": {},
          "source": [
            "Display the clean and the noisy signals."
          ]
        },
        {
          "cell_type": "code",
          "collapsed": false,
          "input": [
            "%%matlab",
            "clf;",
            "subplot(2,1,1);",
            "plot(x0); axis([1 N -.05 1.05]);",
            "subplot(2,1,2);",
            "plot(y); axis([1 N -.05 1.05]);"
          ],
          "language": "python",
          "metadata": {},
          "outputs": []
        },
        {
          "cell_type": "markdown",
          "metadata": {},
          "source": [
            "Linear Signal Denoising",
            "-----------------------",
            "We consider a noising estimator $x \\in \\RR^N$ of $x_0$ that only",
            "depends on the observation $y$. Mathematically speaking, it is thus a",
            "random vector that depends on the noise $w$.",
            "",
            "",
            "A translation invariant linear denoising is necessarely a convolution",
            "with a kernel $h$",
            "$$ x = x_0 \\star h $$",
            "where the periodic convolution between two vector is defined as",
            "$$ (a \\star b)_i = \\sum_j a(j) b(i-j). $$",
            "",
            "",
            "It can be computed over the Fourier domain as",
            "$$ \\forall \\om, \\quad \\hat x(\\om) = \\hat x_0(\\om) \\hat h(\\om). $$"
          ]
        },
        {
          "cell_type": "code",
          "collapsed": false,
          "input": [
            "%%matlab",
            "cconv = @(a,b)real(ifft( fft(a).*fft(b) ));"
          ],
          "language": "python",
          "metadata": {},
          "outputs": []
        },
        {
          "cell_type": "markdown",
          "metadata": {},
          "source": [
            "We use here a Gaussian fitler $h$ parameterized by",
            "the bandwith $\\mu$."
          ]
        },
        {
          "cell_type": "code",
          "collapsed": false,
          "input": [
            "%%matlab",
            "normalize = @(h)h/sum(h(:));",
            "t = [0:N/2-1, -N/2:-1]';",
            "h = @(mu)normalize( exp( -(t.^2)/(2*mu^2) ) );"
          ],
          "language": "python",
          "metadata": {},
          "outputs": []
        },
        {
          "cell_type": "markdown",
          "metadata": {},
          "source": [
            "Display the filter $h$ and its Fourier transform."
          ]
        },
        {
          "cell_type": "code",
          "collapsed": false,
          "input": [
            "%%matlab",
            "mu = 10;",
            "clf;",
            "subplot(2,1,1);",
            "plot( t, h(mu)  ); axis('tight');",
            "title('h');",
            "subplot(2,1,2);",
            "plot( t, real(fft(h(mu)))  ); axis('tight');",
            "title('fft(h)');"
          ],
          "language": "python",
          "metadata": {},
          "outputs": []
        },
        {
          "cell_type": "markdown",
          "metadata": {},
          "source": [
            "Shortcut for the convolution with $h$."
          ]
        },
        {
          "cell_type": "code",
          "collapsed": false,
          "input": [
            "%%matlab",
            "denoise = @(x,mu)cconv(h(mu), x);"
          ],
          "language": "python",
          "metadata": {},
          "outputs": []
        },
        {
          "cell_type": "markdown",
          "metadata": {},
          "source": [
            "Display a denoised signal."
          ]
        },
        {
          "cell_type": "code",
          "collapsed": false,
          "input": [
            "%%matlab",
            "clf;",
            "plot( denoise(y,mu) );",
            "axis([1 N -.05 1.05]);"
          ],
          "language": "python",
          "metadata": {},
          "outputs": []
        },
        {
          "cell_type": "markdown",
          "metadata": {},
          "source": [
            "__Exercise 1__",
            "",
            "Display a denoised signal for several values of $\\mu$."
          ]
        },
        {
          "cell_type": "code",
          "collapsed": false,
          "input": [
            "%%matlab",
            "exo1()"
          ],
          "language": "python",
          "metadata": {},
          "outputs": []
        },
        {
          "cell_type": "code",
          "collapsed": false,
          "input": [
            "%%matlab",
            "%% Insert your code here."
          ],
          "language": "python",
          "metadata": {},
          "outputs": []
        },
        {
          "cell_type": "markdown",
          "metadata": {},
          "source": [
            "__Exercise 2__",
            "",
            "Display the evolution of the oracle denoising error",
            "$ \\norm{y-x_0} $ as a function of $\\mu$.",
            "Set $\\mu$ to the value of the optimal parameter.",
            "etrieve the best denoising result"
          ]
        },
        {
          "cell_type": "code",
          "collapsed": false,
          "input": [
            "%%matlab",
            "exo2()"
          ],
          "language": "python",
          "metadata": {},
          "outputs": []
        },
        {
          "cell_type": "code",
          "collapsed": false,
          "input": [
            "%%matlab",
            "%% Insert your code here."
          ],
          "language": "python",
          "metadata": {},
          "outputs": []
        },
        {
          "cell_type": "markdown",
          "metadata": {},
          "source": [
            "Display the results."
          ]
        },
        {
          "cell_type": "code",
          "collapsed": false,
          "input": [
            "%%matlab",
            "clf;",
            "plot( denoise(y,mu) );",
            "axis([1 N -.05 1.05]);"
          ],
          "language": "python",
          "metadata": {},
          "outputs": []
        },
        {
          "cell_type": "markdown",
          "metadata": {},
          "source": [
            "Wiener Filtering",
            "----------------",
            "We suppose here that $x_0$ is a realization of a random vector $x_0$,",
            "whose distribution is Gaussian with a stationary covariance $c$,",
            "and we denote $P_{X_0}(\\om) = \\hat c(\\om)$ the power-spectrum of",
            "$x_0$.",
            "",
            "",
            "Recall that $w$ is a realization of a random vector $W$",
            "distributed according to $\\Nn(0,\\si^2 \\text{Id})$.",
            "",
            "",
            "The (oracle) optimal filter minimizes the risk",
            "$$ R(h) = \\EE_{W,X_0}( \\norm{ X_0 - h \\star (X_0 + W) }^2 ). $$",
            "",
            "",
            "One can show that the solution of this problem, the so-called Wiener filter,",
            "is defined as",
            "$$ \\forall \\om, \\quad \\hat h(\\om) = \\frac{ P_{X_0}(\\om) }{ P_{X_0}(\\om) + \\si^2 }. $$",
            "",
            "",
            "We estimate $ P_{X_0} $ using the periodogram associated to the",
            "realization $x_0$, i.e.",
            "$$ P_{X_0} \\approx \\frac{1}{N} \\abs{\\hat x_0}^2. $$"
          ]
        },
        {
          "cell_type": "code",
          "collapsed": false,
          "input": [
            "%%matlab",
            "P = 1/N * abs(fft(x0)).^2;"
          ],
          "language": "python",
          "metadata": {},
          "outputs": []
        },
        {
          "cell_type": "markdown",
          "metadata": {},
          "source": [
            "Compute the approximate Wiener filter."
          ]
        },
        {
          "cell_type": "code",
          "collapsed": false,
          "input": [
            "%%matlab",
            "h_w = real( ifft( P ./ ( P + sigma^2 ) ) );"
          ],
          "language": "python",
          "metadata": {},
          "outputs": []
        },
        {
          "cell_type": "markdown",
          "metadata": {},
          "source": [
            "Note that this is a theoretical filter, because in practice one does not",
            "have access to $x_0$.",
            "",
            "",
            "Display it."
          ]
        },
        {
          "cell_type": "code",
          "collapsed": false,
          "input": [
            "%%matlab",
            "clf;",
            "plot(fftshift(h_w)); axis tight;"
          ],
          "language": "python",
          "metadata": {},
          "outputs": []
        },
        {
          "cell_type": "markdown",
          "metadata": {},
          "source": [
            "Display the denoising result."
          ]
        },
        {
          "cell_type": "code",
          "collapsed": false,
          "input": [
            "%%matlab",
            "clf;",
            "plot(cconv(y,h_w));",
            "axis([1 N -.05 1.05]);"
          ],
          "language": "python",
          "metadata": {},
          "outputs": []
        },
        {
          "cell_type": "markdown",
          "metadata": {},
          "source": [
            "Note that this denoising is not very efficient, because the hypothesis of",
            "stationarity of $X_0$ is not realistic for such piecewise-regular",
            "signal."
          ]
        }
      ]
>>>>>>> ffbcc44823b497da6d7a9c2b247c581b3e59aa83:matlab/todo/denoisingsimp_2_linear.ipynb
    }
   ],
   "metadata": {}
  }
 ]
}