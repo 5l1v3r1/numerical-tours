{
<<<<<<< HEAD:matlab/wavelet_4_daubechies2d.ipynb
 "metadata": {
  "name": ""
 },
 "nbformat": 3,
 "nbformat_minor": 0,
 "worksheets": [
  {
   "cells": [
    {
     "cell_type": "markdown",
     "metadata": {},
     "source": [
      "2-D Daubechies Wavelets\n",
      "=======================\n",
      "$\\newcommand{\\dotp}[2]{\\langle #1, #2 \\rangle}\n",
      "\\newcommand{\\enscond}[2]{\\lbrace #1, #2 \\rbrace}\n",
      "\\newcommand{\\pd}[2]{ \\frac{ \\partial #1}{\\partial #2} }\n",
      "\\newcommand{\\umin}[1]{\\underset{#1}{\\min}\\;}\n",
      "\\newcommand{\\umax}[1]{\\underset{#1}{\\max}\\;}\n",
      "\\newcommand{\\umin}[1]{\\underset{#1}{\\min}\\;}\n",
      "\\newcommand{\\uargmin}[1]{\\underset{#1}{argmin}\\;}\n",
      "\\newcommand{\\norm}[1]{\\|#1\\|}\n",
      "\\newcommand{\\abs}[1]{\\left|#1\\right|}\n",
      "\\newcommand{\\choice}[1]{ \\left\\{  \\begin{array}{l} #1 \\end{array} \\right. }\n",
      "\\newcommand{\\pa}[1]{\\left(#1\\right)}\n",
      "\\newcommand{\\diag}[1]{{diag}\\left( #1 \\right)}\n",
      "\\newcommand{\\qandq}{\\quad\\text{and}\\quad}\n",
      "\\newcommand{\\qwhereq}{\\quad\\text{where}\\quad}\n",
      "\\newcommand{\\qifq}{ \\quad \\text{if} \\quad }\n",
      "\\newcommand{\\qarrq}{ \\quad \\Longrightarrow \\quad }\n",
      "\\newcommand{\\ZZ}{\\mathbb{Z}}\n",
      "\\newcommand{\\CC}{\\mathbb{C}}\n",
      "\\newcommand{\\RR}{\\mathbb{R}}\n",
      "\\newcommand{\\EE}{\\mathbb{E}}\n",
      "\\newcommand{\\Zz}{\\mathcal{Z}}\n",
      "\\newcommand{\\Ww}{\\mathcal{W}}\n",
      "\\newcommand{\\Vv}{\\mathcal{V}}\n",
      "\\newcommand{\\Nn}{\\mathcal{N}}\n",
      "\\newcommand{\\NN}{\\mathcal{N}}\n",
      "\\newcommand{\\Hh}{\\mathcal{H}}\n",
      "\\newcommand{\\Bb}{\\mathcal{B}}\n",
      "\\newcommand{\\Ee}{\\mathcal{E}}\n",
      "\\newcommand{\\Cc}{\\mathcal{C}}\n",
      "\\newcommand{\\Gg}{\\mathcal{G}}\n",
      "\\newcommand{\\Ss}{\\mathcal{S}}\n",
      "\\newcommand{\\Pp}{\\mathcal{P}}\n",
      "\\newcommand{\\Ff}{\\mathcal{F}}\n",
      "\\newcommand{\\Xx}{\\mathcal{X}}\n",
      "\\newcommand{\\Mm}{\\mathcal{M}}\n",
      "\\newcommand{\\Ii}{\\mathcal{I}}\n",
      "\\newcommand{\\Dd}{\\mathcal{D}}\n",
      "\\newcommand{\\Ll}{\\mathcal{L}}\n",
      "\\newcommand{\\Tt}{\\mathcal{T}}\n",
      "\\newcommand{\\si}{\\sigma}\n",
      "\\newcommand{\\al}{\\alpha}\n",
      "\\newcommand{\\la}{\\lambda}\n",
      "\\newcommand{\\ga}{\\gamma}\n",
      "\\newcommand{\\Ga}{\\Gamma}\n",
      "\\newcommand{\\La}{\\Lambda}\n",
      "\\newcommand{\\si}{\\sigma}\n",
      "\\newcommand{\\Si}{\\Sigma}\n",
      "\\newcommand{\\be}{\\beta}\n",
      "\\newcommand{\\de}{\\delta}\n",
      "\\newcommand{\\De}{\\Delta}\n",
      "\\renewcommand{\\phi}{\\varphi}\n",
      "\\renewcommand{\\th}{\\theta}\n",
      "\\newcommand{\\om}{\\omega}\n",
      "\\newcommand{\\Om}{\\Omega}\n",
      "$"
     ]
    },
    {
     "cell_type": "markdown",
     "metadata": {},
     "source": [
      "This numerical tour explores 2-D multiresolution analysis\n",
      "with Daubchies wavelet transform."
     ]
    },
    {
     "cell_type": "code",
     "collapsed": false,
     "input": [
      "%load_ext pymatbridge"
     ],
     "language": "python",
     "metadata": {},
     "outputs": [
      {
       "output_type": "stream",
       "stream": "stdout",
       "text": [
        "The pymatbridge extension is already loaded. To reload it, use:\n",
        "  %reload_ext pymatbridge\n"
       ]
      }
     ],
     "prompt_number": 7
    },
    {
     "cell_type": "code",
     "collapsed": false,
     "input": [
      "%%matlab\n",
      "addpath('toolbox_signal')\n",
      "addpath('toolbox_general')\n",
      "addpath('solutions/wavelet_4_daubechies2d')"
     ],
     "language": "python",
     "metadata": {},
     "outputs": [],
     "prompt_number": 24
    },
    {
     "cell_type": "markdown",
     "metadata": {},
     "source": [
      "Installation\n",
      "------------\n",
      "You need to download [numerical_tours](https://github.com/gpeyre/numerical-tours/archive/master.zip)\n",
      "and install the IPython [notebook](http://ipython.org/install.html) to run the code.\n",
      "\n",
      "You must also install the [python-matlab-bridge](http://arokem.github.io/python-matlab-bridge/)."
     ]
    },
    {
     "cell_type": "markdown",
     "metadata": {},
     "source": [
      "Wavelets Filters\n",
      "----------------\n",
      "The 2-D wavelet transform of a continuous image $f(x)$ computes the set\n",
      "of inner products\n",
      "$$ d_j^k[n] = \\dotp{f}{\\psi_{j,n}^k} $$\n",
      "for scales $ j \\in \\ZZ\n",
      "$, position $ n \\in \\ZZ^2 $ and orientation $ k \\in \\{H,V,D\\} $.\n",
      "\n",
      "\n",
      "The wavelet atoms are defined by scaling and translating three mother\n",
      "atoms $ \\{\\psi^H,\\psi^V,\\psi^D\\} $:\n",
      "$$ \\psi_{j,n}^k(x) = \\frac{1}{2^j}\\psi^k\\pa{\\frac{x-2^j n}{2^j}}  $$\n",
      "These oriented wavelets are defined by a tensor product of a 1-D wavelet\n",
      "function $\\psi(t)$ and a 1-D scaling function $\\phi(t)$\n",
      "$$ \\psi^H(x)=\\phi(x_1)\\psi(x_2), \\quad  \\psi^V(x)=\\psi(x_1)\\phi(x_2)\n",
      "\\qandq \\psi^D(x)=\\psi(x_1)\\psi(x_2).$$\n",
      "\n",
      "\n",
      "The fast wavelet transform algorithm does not make use of the wavelet and scaling functions,\n",
      "but of the filters $h$ and $g$ that caracterize their interaction:\n",
      "$$ g[n] = \\frac{1}{\\sqrt{2}}\\dotp{\\psi(t/2)}{\\phi(t-n)}\n",
      "\\qandq h[n] = \\frac{1}{\\sqrt{2}}\\dotp{\\phi(t/2)}{\\phi(t-n)}. $$\n",
      "\n",
      "\n",
      "The simplest filters are the Haar filters\n",
      "$$ h = [1, 1]/\\sqrt{2} \\qandq g = [-1, 1]/\\sqrt{2}. $$\n",
      "\n",
      "\n",
      "Daubechies wavelets extends the haar wavelets by using longer\n",
      "filters, that produce smoother scaling functions and wavelets.\n",
      "Furthermore, the larger the size $p=2k$ of the filter, the higher is the number\n",
      "$k$ of vanishing moment.\n",
      "\n",
      "\n",
      "A high number of vanishing moments allows to better compress regular\n",
      "parts of the signal. However, increasing the number of vanishing moments\n",
      "also inceases the size of the support of the wavelets, wich can be\n",
      "problematic in part where the signal is singular (for instance\n",
      "discontinuous).\n",
      "\n",
      "\n",
      "Choosing the _best_ wavelet, and thus choosing $k$, that is adapted to a\n",
      "given class of signals, thus corresponds to\n",
      "a tradeoff between efficiency in regular and singular parts.\n",
      "\n",
      "\n",
      "* The filter with $k=1$ vanishing moments corresponds to the Haar filter.\n",
      "* The filter with $k=2$ vanishing moments corresponds to the famous |D4| wavelet, which compresses perfectly linear signals.\n",
      "* The filter with $k=3$ vanishing moments compresses perfectly quadratic signals.\n",
      "\n",
      "\n",
      "Set the support size.\n",
      "To begin, we select the D4 filter."
     ]
    },
    {
     "cell_type": "code",
     "collapsed": false,
     "input": [
      "%%matlab\n",
      "p = 4;"
     ],
     "language": "python",
     "metadata": {},
     "outputs": [],
     "prompt_number": 25
    },
    {
     "cell_type": "markdown",
     "metadata": {},
     "source": [
      "Create the low pass filter $h$ and the high pass $g$. We add a zero to ensure that it has a odd\n",
      "length. Note that the central value of $h$ corresponds to the 0 position."
     ]
    },
    {
     "cell_type": "code",
     "collapsed": false,
     "input": [
      "%%matlab\n",
      "[h,g] = compute_wavelet_filter('Daubechies',p);"
     ],
     "language": "python",
     "metadata": {},
     "outputs": [],
     "prompt_number": 26
    },
    {
     "cell_type": "markdown",
     "metadata": {},
     "source": [
      "Note that the high pass filter $g$ is computed directly from the low\n",
      "pass filter as:\n",
      "$$g[n] = (-1)^{1-n}h[1-n]$$\n",
      "\n",
      "\n",
      "Display."
     ]
    },
    {
     "cell_type": "code",
     "collapsed": false,
     "input": [
      "%%matlab\n",
      "disp(['h filter = [' num2str(h) ']']);\n",
      "disp(['g filter = [' num2str(g) ']']);"
     ],
     "language": "python",
     "metadata": {},
     "outputs": [
      {
       "metadata": {},
       "output_type": "display_data",
       "text": [
        "h filter = [0     0.48296     0.83652     0.22414    -0.12941]\n",
        "g filter = [0    -0.12941    -0.22414     0.83652    -0.48296]\n"
       ]
      }
     ],
     "prompt_number": 27
    },
    {
     "cell_type": "markdown",
     "metadata": {},
     "source": [
      "Up and Down Filtering\n",
      "---------------------\n",
      "The basic wavelet operation is low/high filtering, followed by down\n",
      "sampling.\n",
      "\n",
      "\n",
      "Starting from some 1-D signal $f \\in \\RR^N$, one thus compute the\n",
      "low pass signal $a \\in \\RR^{N/2}$ and the high pass\n",
      "signal $d \\in \\RR^{N/2}$ as\n",
      "$$ a = (f \\star h) \\downarrow 2 \\qandq\n",
      "d = (f \\star g) \\downarrow 2$$\n",
      "where the sub-sampling is defined as\n",
      "$$ (u \\downarrow 2)[k] = u[2k]. $$\n",
      "\n",
      "\n",
      "Create a random signal $f \\in \\RR^N$."
     ]
    },
    {
     "cell_type": "code",
     "collapsed": false,
     "input": [
      "%%matlab\n",
      "N = 256;\n",
      "f = rand(N,1);"
     ],
     "language": "python",
     "metadata": {},
     "outputs": [],
     "prompt_number": 28
    },
    {
     "cell_type": "code",
     "collapsed": false,
     "input": [
      "%%matlab\n",
      "cconv = @(f,h,d)cconvol(f,h,d);"
     ],
     "language": "python",
     "metadata": {},
     "outputs": [],
     "prompt_number": 29
    },
    {
     "cell_type": "markdown",
     "metadata": {},
     "source": [
      "Low/High pass filtering followed by sub-sampling."
     ]
    },
    {
     "cell_type": "code",
     "collapsed": false,
     "input": [
      "%%matlab\n",
      "a = subsampling( cconvol(f,h) );\n",
      "d = subsampling( cconvol(f,g) );"
     ],
     "language": "python",
     "metadata": {},
     "outputs": [],
     "prompt_number": 31
    },
    {
     "cell_type": "markdown",
     "metadata": {},
     "source": [
      "For orthogonal filters, the reverse of this process is its dual\n",
      "(aka its transpose), which is upsampling followed by low/high pass\n",
      "filtering with the reversed filters and summing:\n",
      "$$ (a \\uparrow h) \\star \\tilde h + (d \\uparrow g) \\star \\tilde g = f $$\n",
      "where $\\tilde h[n]=h[-n]$ (computed modulo $N$) and\n",
      "$ (u \\uparrow 2)[2n]=u[n] $ and  $ (u \\uparrow 2)[2n+1]=0 $.\n",
      "\n",
      "\n",
      "Up-sampling followed by filtering."
     ]
    },
    {
     "cell_type": "code",
     "collapsed": false,
     "input": [
      "%%matlab\n",
      "f1 =  cconvol(upsampling(a),reverse(h)) + cconvol(upsampling(d),reverse(g));"
     ],
     "language": "python",
     "metadata": {},
     "outputs": [],
     "prompt_number": 33
    },
    {
     "cell_type": "markdown",
     "metadata": {},
     "source": [
      "Check that we really recover the same signal."
     ]
    },
    {
     "cell_type": "code",
     "collapsed": false,
     "input": [
      "%%matlab\n",
      "disp(strcat((['Error |f-f1|/|f| = ' num2str(norm(f-f1)/norm(f))])));"
     ],
     "language": "python",
     "metadata": {},
     "outputs": [
      {
       "metadata": {},
       "output_type": "display_data",
       "text": [
        "Error |f-f1|/|f| = 5.4831e-13\n"
       ]
      }
     ],
     "prompt_number": 34
    },
    {
     "cell_type": "markdown",
     "metadata": {},
     "source": [
      "Forward 2-D Wavelet transform\n",
      "-----------------------------\n",
      "The set of wavelet coefficients are computed with a fast algorithm that\n",
      "exploit the embedding of the approximation spaces $V_j$ spanned by the\n",
      "scaling function $ \\{ \\phi_{j,n} \\}_n $ defined as\n",
      "$$ \\phi_{j,n}(x) = \\frac{1}{2^j}\\phi^0\\pa{\\frac{x-2^j n}{2^j}}\n",
      "\\qwhereq \\phi^0(x)=\\phi(x_1)\\phi(x_2). $$\n",
      "\n",
      "\n",
      "The wavelet transform of $f$ is computed by using intermediate discretized low\n",
      "resolution images obtained by projection on the spaces $V_j$:\n",
      "$$ a_j[n] = \\dotp{f}{\\phi_{j,n}}. $$\n",
      "\n",
      "\n",
      "First we load an image of $N= n \\times n$ pixels."
     ]
    },
    {
     "cell_type": "code",
     "collapsed": false,
     "input": [
      "%%matlab\n",
      "n = 256;\n",
      "name = 'hibiscus';\n",
      "f = load_image(name,n);\n",
      "f = rescale( sum(f,3) );"
     ],
     "language": "python",
     "metadata": {},
     "outputs": [],
     "prompt_number": 35
    },
    {
     "cell_type": "markdown",
     "metadata": {},
     "source": [
      "The algorithm starts at the coarsest scale $ j=\\log_2(n)-1 $"
     ]
    },
    {
     "cell_type": "code",
     "collapsed": false,
     "input": [
      "%%matlab\n",
      "j = log2(n)-1;"
     ],
     "language": "python",
     "metadata": {},
     "outputs": [],
     "prompt_number": 36
    },
    {
     "cell_type": "markdown",
     "metadata": {},
     "source": [
      "The first step of the algorithm perform filtering/downsampling in the\n",
      "horizontal direction.\n",
      "\n",
      "\n",
      "$$ \\tilde a_{j-1} = (a_j \\star^H h) \\downarrow^{2,H}  \\qandq\n",
      "   \\tilde d_{j-1} = (a_j \\star^H g) \\downarrow^{2,H}$$\n",
      "\n",
      "\n",
      "Here, the operator $\\star^H$ and $\\downarrow^{2,H}$\n",
      "are defined by applying $\\star$ and $\\downarrow^2$\n",
      "to each column of the matrix.\n",
      "\n",
      "\n",
      "The second step computes the filtering/downsampling in the vertical\n",
      "direction.\n",
      "\n",
      "\n",
      "$$ a_{j-1}   = (\\tilde a_j \\star^V h) \\downarrow^{2,V}  \\qandq\n",
      "   d_{j-1}^V = (\\tilde a_j \\star^V g) \\downarrow^{2,V},$$\n",
      "$$ d_{j-1}^H = (\\tilde d_j \\star^V h) \\downarrow^{2,V}  \\qandq\n",
      "   d_{j-1}^D = (\\tilde d_j \\star^V g) \\downarrow^{2,V}.$$\n",
      "\n",
      "\n",
      "\n",
      "A wavelet transform is\n",
      "computed by iterating high pass and loss pass filterings with |h| and |g|, followed by sub-samplings.\n",
      "Since we are in 2-D, we need to compute these filterings+subsamplings\n",
      "in the horizontal and then in the vertical direction (or\n",
      "in the reverse order, it does not mind).\n",
      "\n",
      "\n",
      "\n",
      "Initialize the transformed coefficients as the image itself and set the\n",
      "initial scale as the maximum one.\n",
      "|fW| will be iteratively transformated and will contains the\n",
      "coefficients."
     ]
    },
    {
     "cell_type": "code",
     "collapsed": false,
     "input": [
      "%%matlab\n",
      "fW = f;"
     ],
     "language": "python",
     "metadata": {},
     "outputs": [],
     "prompt_number": 37
    },
    {
     "cell_type": "markdown",
     "metadata": {},
     "source": [
      "Select the sub-part of the image to transform."
     ]
    },
    {
     "cell_type": "code",
     "collapsed": false,
     "input": [
      "%%matlab\n",
      "A = fW(1:2^(j+1),1:2^(j+1));"
     ],
     "language": "python",
     "metadata": {},
     "outputs": [],
     "prompt_number": 38
    },
    {
     "cell_type": "markdown",
     "metadata": {},
     "source": [
      "Apply high and low filtering+subsampling in the vertical direction (1st ooordinate),\n",
      "to get coarse and details."
     ]
    },
    {
     "cell_type": "code",
     "collapsed": false,
     "input": [
      "%%matlab\n",
      "Coarse = subsampling(cconvol(A,h,1),1);\n",
      "Detail = subsampling(cconvol(A,g,1),1);"
     ],
     "language": "python",
     "metadata": {},
     "outputs": [],
     "prompt_number": 39
    },
    {
     "cell_type": "markdown",
     "metadata": {},
     "source": [
      "_Note:_ |subsamplling(A,1)| is equivalent to |A(1:2:end,:)| and\n",
      "|subsamplling(A,2)| is equivalent to |A(:,1:2:end)|.\n",
      "\n",
      "\n",
      "Concatenate them in the vertical direction to get the result."
     ]
    },
    {
     "cell_type": "code",
     "collapsed": false,
     "input": [
      "%%matlab\n",
      "A = cat3(1, Coarse, Detail );"
     ],
     "language": "python",
     "metadata": {},
     "outputs": [],
     "prompt_number": 40
    },
    {
     "cell_type": "markdown",
     "metadata": {},
     "source": [
      "Display the result of the vertical transform."
     ]
    },
    {
     "cell_type": "code",
     "collapsed": false,
     "input": [
      "%%matlab\n",
      "clf;\n",
      "imageplot(f,'Original imge',1,2,1);\n",
      "imageplot(A,'Vertical transform',1,2,2);"
     ],
     "language": "python",
     "metadata": {},
     "outputs": [
      {
       "metadata": {},
       "output_type": "display_data",
       "png": "iVBORw0KGgoAAAANSUhEUgAAAkAAAAGwCAIAAADOgk3lAAAACXBIWXMAAAsSAAALEgHS3X78AAAA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\nAABJRU5ErkJggg==\n"
      }
     ],
     "prompt_number": 41
    },
    {
     "cell_type": "markdown",
     "metadata": {},
     "source": [
      "Apply high and low filtering+subsampling in the horizontal direction (2nd ooordinate),\n",
      "to get coarse and details."
     ]
    },
    {
     "cell_type": "code",
     "collapsed": false,
     "input": [
      "%%matlab\n",
      "Coarse = subsampling(cconvol(A,h,2),2);\n",
      "Detail = subsampling(cconvol(A,g,2),2);"
     ],
     "language": "python",
     "metadata": {},
     "outputs": [],
     "prompt_number": 42
    },
    {
     "cell_type": "markdown",
     "metadata": {},
     "source": [
      "Concatenate them in the horizontal direction to get the result."
     ]
    },
    {
     "cell_type": "code",
     "collapsed": false,
     "input": [
      "%%matlab\n",
      "A = cat3(2, Coarse, Detail );"
     ],
     "language": "python",
     "metadata": {},
     "outputs": [],
     "prompt_number": 43
    },
    {
     "cell_type": "markdown",
     "metadata": {},
     "source": [
      "Assign the transformed data."
     ]
    },
    {
     "cell_type": "code",
     "collapsed": false,
     "input": [
      "%%matlab\n",
      "fW(1:2^(j+1),1:2^(j+1)) = A;"
     ],
     "language": "python",
     "metadata": {},
     "outputs": [],
     "prompt_number": 44
    },
    {
     "cell_type": "markdown",
     "metadata": {},
     "source": [
      "Display the result of the horizontal transform."
     ]
    },
    {
     "cell_type": "code",
     "collapsed": false,
     "input": [
      "%%matlab\n",
      "clf;\n",
      "imageplot(f,'Original image',1,2,1);\n",
      "subplot(1,2,2);\n",
      "plot_wavelet(fW,log2(n)-1); title('Transformed')"
     ],
     "language": "python",
     "metadata": {},
     "outputs": [
      {
       "metadata": {},
       "output_type": "display_data",
       "png": "iVBORw0KGgoAAAANSUhEUgAAAkAAAAGwCAIAAADOgk3lAAAACXBIWXMAAAsSAAALEgHS3X78AAAA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\nAElFTkSuQmCC\n"
      }
     ],
     "prompt_number": 45
    },
    {
     "cell_type": "markdown",
     "metadata": {},
     "source": [
      "Exercise 1\n",
      "----------\n",
      "Implement a full wavelet transform that extract iteratively wavelet\n",
      "coefficients, by repeating these steps. Take care of choosing the\n",
      "correct number of steps."
     ]
    },
    {
     "cell_type": "code",
     "collapsed": false,
     "input": [
      "%%matlab\n",
      "exo1()"
     ],
     "language": "python",
     "metadata": {},
     "outputs": []
    },
    {
     "cell_type": "markdown",
     "metadata": {},
     "source": [
      "Check for orthogonality of the transform (conservation of energy)."
     ]
    },
    {
     "cell_type": "code",
     "collapsed": false,
     "input": [
      "%%matlab\n",
      "disp(strcat(['Energy of the signal       = ' num2str(norm(f(:)).^2)]));\n",
      "disp(strcat(['Energy of the coefficients = ' num2str(norm(fW(:)).^2)]));"
     ],
     "language": "python",
     "metadata": {},
     "outputs": []
    },
    {
     "cell_type": "markdown",
     "metadata": {},
     "source": [
      "Display the wavelet coefficients."
     ]
    },
    {
     "cell_type": "code",
     "collapsed": false,
     "input": [
      "%%matlab\n",
      "clf;\n",
      "subplot(1,2,1);\n",
      "imageplot(f); title('Original');\n",
      "subplot(1,2,2);\n",
      "plot_wavelet(fW, 1); title('Transformed');"
     ],
     "language": "python",
     "metadata": {},
     "outputs": []
    },
    {
     "cell_type": "markdown",
     "metadata": {},
     "source": [
      "Inverse 2-D Wavelet transform.\n",
      "------------------------------\n",
      "Inversing the wavelet transform means retrieving a signal |f1| from the\n",
      "coefficients |fW|. If |fW| are exactely the coefficients of |f|, then\n",
      "|f=f1| up to machine precision.\n",
      "\n",
      "\n",
      "Initialize the image to recover |f1| as the transformed coefficient, and\n",
      "select the smallest possible scale."
     ]
    },
    {
     "cell_type": "code",
     "collapsed": false,
     "input": [
      "%%matlab\n",
      "f1 = fW;\n",
      "j = 0;"
     ],
     "language": "python",
     "metadata": {},
     "outputs": []
    },
    {
     "cell_type": "markdown",
     "metadata": {},
     "source": [
      "Select the sub-coefficient to transform."
     ]
    },
    {
     "cell_type": "code",
     "collapsed": false,
     "input": [
      "%%matlab\n",
      "A = f1(1:2^(j+1),1:2^(j+1));"
     ],
     "language": "python",
     "metadata": {},
     "outputs": []
    },
    {
     "cell_type": "markdown",
     "metadata": {},
     "source": [
      "Retrieve coarse and detail coefficients in the vertical direction (you\n",
      "can begin by the other direction, this has no importance)."
     ]
    },
    {
     "cell_type": "code",
     "collapsed": false,
     "input": [
      "%%matlab\n",
      "Coarse = A(1:2^j,:);\n",
      "Detail = A(2^j+1:2^(j+1),:);"
     ],
     "language": "python",
     "metadata": {},
     "outputs": []
    },
    {
     "cell_type": "markdown",
     "metadata": {},
     "source": [
      "Undo the transform by up-sampling and then dual filtering."
     ]
    },
    {
     "cell_type": "code",
     "collapsed": false,
     "input": [
      "%%matlab\n",
      "Coarse = cconv(upsampling(Coarse,1),reverse(h),1);\n",
      "Detail = cconv(upsampling(Detail,1),reverse(g),1);"
     ],
     "language": "python",
     "metadata": {},
     "outputs": []
    },
    {
     "cell_type": "markdown",
     "metadata": {},
     "source": [
      "Recover the coefficient by summing."
     ]
    },
    {
     "cell_type": "code",
     "collapsed": false,
     "input": [
      "%%matlab\n",
      "A = Coarse + Detail;"
     ],
     "language": "python",
     "metadata": {},
     "outputs": []
    },
    {
     "cell_type": "markdown",
     "metadata": {},
     "source": [
      "Retrieve coarse and detail coefficients in the vertical direction (you\n",
      "can begin by the other direction, this has no importance)."
     ]
    },
    {
     "cell_type": "code",
     "collapsed": false,
     "input": [
      "%%matlab\n",
      "Coarse = A(:,1:2^j);\n",
      "Detail = A(:,2^j+1:2^(j+1));"
     ],
     "language": "python",
     "metadata": {},
     "outputs": []
    },
    {
     "cell_type": "markdown",
     "metadata": {},
     "source": [
      "Undo the transform by up-sampling and then dual filtering."
     ]
    },
    {
     "cell_type": "code",
     "collapsed": false,
     "input": [
      "%%matlab\n",
      "Coarse = cconv(upsampling(Coarse,2),reverse(h),2);\n",
      "Detail = cconv(upsampling(Detail,2),reverse(g),2);"
     ],
     "language": "python",
     "metadata": {},
     "outputs": []
    },
    {
     "cell_type": "markdown",
     "metadata": {},
     "source": [
      "Recover the coefficient by summing."
     ]
    },
    {
     "cell_type": "code",
     "collapsed": false,
     "input": [
      "%%matlab\n",
      "A = Coarse + Detail;"
     ],
     "language": "python",
     "metadata": {},
     "outputs": []
    },
    {
     "cell_type": "markdown",
     "metadata": {},
     "source": [
      "Assign the result."
     ]
    },
    {
     "cell_type": "code",
     "collapsed": false,
     "input": [
      "%%matlab\n",
      "f1(1:2^(j+1),1:2^(j+1)) = A;"
     ],
     "language": "python",
     "metadata": {},
     "outputs": []
    },
    {
     "cell_type": "markdown",
     "metadata": {},
     "source": [
      "Exercise 2\n",
      "----------\n",
      "Write the inverse wavelet transform that computes |f1| from the\n",
      "coefficients |fW|. Compare |f1| with |f|."
     ]
    },
    {
     "cell_type": "code",
     "collapsed": false,
     "input": [
      "%%matlab\n",
      "exo2()"
     ],
     "language": "python",
     "metadata": {},
     "outputs": []
    },
    {
     "cell_type": "markdown",
     "metadata": {},
     "source": [
      "Check that we recover exactly the original image."
     ]
    },
    {
     "cell_type": "code",
     "collapsed": false,
     "input": [
      "%%matlab\n",
      "disp(strcat((['Error |f-f1|/|f| = ' num2str(norm(f(:)-f1(:))/norm(f(:)))])));"
     ],
     "language": "python",
     "metadata": {},
     "outputs": []
    },
    {
     "cell_type": "markdown",
     "metadata": {},
     "source": [
      "Linear 2-D Wavelet Approximation\n",
      "--------------------------------\n",
      "Linear approximation is performed by setting to zero the fine scale wawelets coefficients\n",
      "and then performing the inverse wavelet transform.\n",
      "\n",
      "\n",
      "Here we keep only 1/16 of the wavelet coefficient, thus calculating an |m|\n",
      "term approximation with |m=n^2/16|."
     ]
    },
    {
     "cell_type": "code",
     "collapsed": false,
     "input": [
      "%%matlab\n",
      "eta = 4;\n",
      "fWLin = zeros(n,n);\n",
      "fWLin(1:n/eta,1:n/eta) = fW(1:n/eta,1:n/eta);"
     ],
     "language": "python",
     "metadata": {},
     "outputs": []
    },
    {
     "cell_type": "markdown",
     "metadata": {},
     "source": [
      "__Exercise 3:__\n",
      "Compute and display the linear approximation |fLin| obtained from the\n",
      "coefficients |fWLin| by inverse wavelet transform."
     ]
    },
    {
     "cell_type": "code",
     "collapsed": false,
     "input": [
      "%%matlab\n",
      "exo3()"
     ],
     "language": "python",
     "metadata": {},
     "outputs": []
    },
    {
     "cell_type": "markdown",
     "metadata": {},
     "source": [
      "Non-Linear 2-D Wavelet Approximation\n",
      "------------------------------------\n",
      "A non-linear |m|-term approximation is obtained by keeping only the |m|\n",
      "largest coefficients, which creates the smallest possible error.\n",
      "\n",
      "\n",
      "Removing the smallest coefficient, to keep the |m|-largest, is\n",
      "equivalently obtainedby thresholding the coefficients to\n",
      "set to 0 the smallest coefficients.\n",
      "\n",
      "\n",
      "First select a threshold value (the largest the threshold, the more\n",
      "agressive the approximation)."
     ]
    },
    {
     "cell_type": "code",
     "collapsed": false,
     "input": [
      "%%matlab\n",
      "T = .2;"
     ],
     "language": "python",
     "metadata": {},
     "outputs": []
    },
    {
     "cell_type": "markdown",
     "metadata": {},
     "source": [
      "Then set to 0 coefficients with magnitude below the threshold."
     ]
    },
    {
     "cell_type": "code",
     "collapsed": false,
     "input": [
      "%%matlab\n",
      "fWT = fW .* (abs(fW)>T);"
     ],
     "language": "python",
     "metadata": {},
     "outputs": []
    },
    {
     "cell_type": "markdown",
     "metadata": {},
     "source": [
      "Display thresholded coefficients."
     ]
    },
    {
     "cell_type": "code",
     "collapsed": false,
     "input": [
      "%%matlab\n",
      "clf;\n",
      "subplot(1,2,1);\n",
      "plot_wavelet(fW); axis('tight'); title('Original coefficients');\n",
      "subplot(1,2,2);\n",
      "plot_wavelet(fWT); axis('tight'); title('Thresholded coefficients');"
     ],
     "language": "python",
     "metadata": {},
     "outputs": []
    },
    {
     "cell_type": "markdown",
     "metadata": {},
     "source": [
      "Exercise 4\n",
      "----------\n",
      "Find the thresholds |T| so that the number |m| of remaining coefficients in\n",
      "|fWT| are |m=n^2/16|. Use this threshold to compute |fWT| and then display\n",
      "the corresponding approximation |Mnlin| of |f|. Compare this result with\n",
      "the linear approximation.\n",
      "umber of kept coefficients\n",
      "ompute the threshold T\n",
      "elect threshold\n",
      "nverse transform\n",
      "nverse\n",
      "isplay"
     ]
    },
    {
     "cell_type": "code",
     "collapsed": false,
     "input": [
      "%%matlab\n",
      "exo4()"
     ],
     "language": "python",
     "metadata": {},
     "outputs": []
    },
    {
     "cell_type": "markdown",
     "metadata": {},
     "source": [
      "Exercise 5\n",
      "----------\n",
      "Try with\n",
      "Different kind of wavelets, with an increasing number of vanishing\n",
      "moments."
     ]
    },
    {
     "cell_type": "code",
     "collapsed": false,
     "input": [
      "%%matlab\n",
      "exo5()"
     ],
     "language": "python",
     "metadata": {},
     "outputs": []
    },
    {
     "cell_type": "code",
     "collapsed": false,
     "input": [
      "%%matlab\n",
      "## Insert your code here."
     ],
     "language": "python",
     "metadata": {},
     "outputs": []
    },
    {
     "cell_type": "markdown",
     "metadata": {},
     "source": [
      "Separable 2-D Wavelet Transform\n",
      "-------------------------------\n",
      "A forward wavelet transform is obtained by applying the 1D wavelet\n",
      "transform to"
     ]
    },
    {
     "cell_type": "markdown",
     "metadata": {},
     "source": [
      "Exercise 6\n",
      "----------\n",
      "Implement the foward separable transform.\n",
      "Wavelet transformm in 1D each column |f(:,i)| to obtain coefficients |fWSep(:,i)|.\n",
      "Then re-transform each row |fWSep(i,:)'|, and store the result in |fW(i,:)'|."
     ]
    },
    {
     "cell_type": "code",
     "collapsed": false,
     "input": [
      "%%matlab\n",
      "exo6()"
     ],
     "language": "python",
     "metadata": {},
     "outputs": []
    },
    {
     "cell_type": "markdown",
     "metadata": {},
     "source": [
      "Display the result."
     ]
    },
    {
     "cell_type": "code",
     "collapsed": false,
     "input": [
      "%%matlab\n",
      "clf;\n",
      "subplot(1,2,1);\n",
      "opt.separable = 0;\n",
      "plot_wavelet(fW,1,opt);\n",
      "title('Isotropic wavelets');\n",
      "subplot(1,2,2);\n",
      "opt.separable = 1;\n",
      "plot_wavelet(fWSep,1,opt);\n",
      "title('Separable wavelets');"
     ],
     "language": "python",
     "metadata": {},
     "outputs": []
    },
    {
     "cell_type": "markdown",
     "metadata": {},
     "source": [
      "Exercise 7\n",
      "----------\n",
      "Implement the backward separable transform to recover an image |f1|\n",
      "from the coefficients |fWSep|, which backward transform each row and then each columns."
     ]
    },
    {
     "cell_type": "code",
     "collapsed": false,
     "input": [
      "%%matlab\n",
      "exo7()"
     ],
     "language": "python",
     "metadata": {},
     "outputs": []
    },
    {
     "cell_type": "markdown",
     "metadata": {},
     "source": [
      "Check that we recover exactly the original image."
     ]
    },
    {
     "cell_type": "code",
     "collapsed": false,
     "input": [
      "%%matlab\n",
      "disp(strcat((['Error |f-f1|/|f| = ' num2str(norm(f(:)-f1(:))/norm(f(:)))])));"
     ],
     "language": "python",
     "metadata": {},
     "outputs": []
    },
    {
     "cell_type": "markdown",
     "metadata": {},
     "source": [
      "Exercise 8\n",
      "----------\n",
      "Perform |m=n^2/16|-terms best approximation with separable wavelet transform.\n",
      "Compare the result with isotropic wavelet approximation.\n",
      "isplay"
     ]
    },
    {
     "cell_type": "code",
     "collapsed": false,
     "input": [
      "%%matlab\n",
      "exo8()"
     ],
     "language": "python",
     "metadata": {},
     "outputs": []
    },
    {
     "cell_type": "markdown",
     "metadata": {},
     "source": [
      "The Shape of a Wavelet\n",
      "----------------------\n",
      "An isotropic wavelet coefficient |fW[k]| corresponds to an inner product\n",
      "|<f,psi_{j,p}^s>| where |k| depends on the scale |j| and the position |p| and the orientation\n",
      "|s| (horizontal, vertical or diagonal).\n",
      "\n",
      "\n",
      "The wavelet image  |f1 = psi_{j,p}| is computed by applying the inverse wavelet\n",
      "transform to |fW| where |fW[k]=1| and |fW[l]=0| for |l \\neq k|."
     ]
    },
    {
     "cell_type": "markdown",
     "metadata": {},
     "source": [
      "Exercise 9\n",
      "----------\n",
      "Compute wavelets at several scales and orientation.\n",
      "Here we show only horizontal wavelets, in 2-D."
     ]
    },
    {
     "cell_type": "code",
     "collapsed": false,
     "input": [
      "%%matlab\n",
      "exo9()"
     ],
     "language": "python",
     "metadata": {},
     "outputs": []
    },
    {
     "cell_type": "markdown",
     "metadata": {},
     "source": [
      "Exercise 10\n",
      "-----------\n",
      "Display Daubechies wavelets with different orientation, for different number of VM."
     ]
    },
    {
     "cell_type": "code",
     "collapsed": false,
     "input": [
      "%%matlab\n",
      "exo10()"
     ],
     "language": "python",
     "metadata": {},
     "outputs": []
    },
    {
     "cell_type": "code",
     "collapsed": false,
     "input": [],
     "language": "python",
     "metadata": {},
     "outputs": []
=======
  "metadata": {
    "name": ""
  },
  "nbformat": 3,
  "nbformat_minor": 0,
  "worksheets": [
    {
      "cells": [
        {
          "cell_type": "markdown",
          "metadata": {},
          "source": [
            "2-D Daubechies Wavelets",
            "=======================",
            "$\\newcommand{\\dotp}[2]{\\langle #1, #2 \\rangle}",
            "\\newcommand{\\enscond}[2]{\\lbrace #1, #2 \\rbrace}",
            "\\newcommand{\\pd}[2]{ \\frac{ \\partial #1}{\\partial #2} }",
            "\\newcommand{\\umin}[1]{\\underset{#1}{\\min}\\;}",
            "\\newcommand{\\umax}[1]{\\underset{#1}{\\max}\\;}",
            "\\newcommand{\\umin}[1]{\\underset{#1}{\\min}\\;}",
            "\\newcommand{\\uargmin}[1]{\\underset{#1}{argmin}\\;}",
            "\\newcommand{\\norm}[1]{\\|#1\\|}",
            "\\newcommand{\\abs}[1]{\\left|#1\\right|}",
            "\\newcommand{\\choice}[1]{ \\left\\{  \\begin{array}{l} #1 \\end{array} \\right. }",
            "\\newcommand{\\pa}[1]{\\left(#1\\right)}",
            "\\newcommand{\\diag}[1]{{diag}\\left( #1 \\right)}",
            "\\newcommand{\\qandq}{\\quad\\text{and}\\quad}",
            "\\newcommand{\\qwhereq}{\\quad\\text{where}\\quad}",
            "\\newcommand{\\qifq}{ \\quad \\text{if} \\quad }",
            "\\newcommand{\\qarrq}{ \\quad \\Longrightarrow \\quad }",
            "\\newcommand{\\ZZ}{\\mathbb{Z}}",
            "\\newcommand{\\CC}{\\mathbb{C}}",
            "\\newcommand{\\RR}{\\mathbb{R}}",
            "\\newcommand{\\EE}{\\mathbb{E}}",
            "\\newcommand{\\Zz}{\\mathcal{Z}}",
            "\\newcommand{\\Ww}{\\mathcal{W}}",
            "\\newcommand{\\Vv}{\\mathcal{V}}",
            "\\newcommand{\\Nn}{\\mathcal{N}}",
            "\\newcommand{\\NN}{\\mathcal{N}}",
            "\\newcommand{\\Hh}{\\mathcal{H}}",
            "\\newcommand{\\Bb}{\\mathcal{B}}",
            "\\newcommand{\\Ee}{\\mathcal{E}}",
            "\\newcommand{\\Cc}{\\mathcal{C}}",
            "\\newcommand{\\Gg}{\\mathcal{G}}",
            "\\newcommand{\\Ss}{\\mathcal{S}}",
            "\\newcommand{\\Pp}{\\mathcal{P}}",
            "\\newcommand{\\Ff}{\\mathcal{F}}",
            "\\newcommand{\\Xx}{\\mathcal{X}}",
            "\\newcommand{\\Mm}{\\mathcal{M}}",
            "\\newcommand{\\Ii}{\\mathcal{I}}",
            "\\newcommand{\\Dd}{\\mathcal{D}}",
            "\\newcommand{\\Ll}{\\mathcal{L}}",
            "\\newcommand{\\Tt}{\\mathcal{T}}",
            "\\newcommand{\\si}{\\sigma}",
            "\\newcommand{\\al}{\\alpha}",
            "\\newcommand{\\la}{\\lambda}",
            "\\newcommand{\\ga}{\\gamma}",
            "\\newcommand{\\Ga}{\\Gamma}",
            "\\newcommand{\\La}{\\Lambda}",
            "\\newcommand{\\si}{\\sigma}",
            "\\newcommand{\\Si}{\\Sigma}",
            "\\newcommand{\\be}{\\beta}",
            "\\newcommand{\\de}{\\delta}",
            "\\newcommand{\\De}{\\Delta}",
            "\\renewcommand{\\phi}{\\varphi}",
            "\\renewcommand{\\th}{\\theta}",
            "\\newcommand{\\om}{\\omega}",
            "\\newcommand{\\Om}{\\Omega}",
            "$"
          ]
        },
        {
          "cell_type": "markdown",
          "metadata": {},
          "source": [
            "This numerical tour explores 2-D multiresolution analysis",
            "with Daubchies wavelet transform."
          ]
        },
        {
          "cell_type": "code",
          "collapsed": false,
          "input": [
            "%load_ext pymatbridge"
          ],
          "language": "python",
          "metadata": {},
          "outputs": []
        },
        {
          "cell_type": "code",
          "collapsed": false,
          "input": [
            "%%matlab",
            "addpath('toolbox_signal')",
            "addpath('toolbox_general')",
            "addpath('solutions/wavelet_4_daubechies2d')"
          ],
          "language": "python",
          "metadata": {},
          "outputs": []
        },
        {
          "cell_type": "markdown",
          "metadata": {},
          "source": [
            "Installation",
            "------------",
            "You need to download [numerical_tours](https://github.com/gpeyre/numerical-tours/archive/master.zip)",
            "and install the IPython [notebook](http://ipython.org/install.html) to run the code.",
            "",
            "You must also install the [python-matlab-bridge](http://arokem.github.io/python-matlab-bridge/)."
          ]
        },
        {
          "cell_type": "markdown",
          "metadata": {},
          "source": [
            "Wavelets Filters",
            "----------------",
            "The 2-D wavelet transform of a continuous image $f(x)$ computes the set",
            "of inner products",
            "$$ d_j^k[n] = \\dotp{f}{\\psi_{j,n}^k} $$",
            "for scales $ j \\in \\ZZ",
            "$, position $ n \\in \\ZZ^2 $ and orientation $ k \\in \\{H,V,D\\} $.",
            "",
            "",
            "The wavelet atoms are defined by scaling and translating three mother",
            "atoms $ \\{\\psi^H,\\psi^V,\\psi^D\\} $:",
            "$$ \\psi_{j,n}^k(x) = \\frac{1}{2^j}\\psi^k\\pa{\\frac{x-2^j n}{2^j}}  $$",
            "These oriented wavelets are defined by a tensor product of a 1-D wavelet",
            "function $\\psi(t)$ and a 1-D scaling function $\\phi(t)$",
            "$$ \\psi^H(x)=\\phi(x_1)\\psi(x_2), \\quad  \\psi^V(x)=\\psi(x_1)\\phi(x_2)",
            "\\qandq \\psi^D(x)=\\psi(x_1)\\psi(x_2).$$",
            "",
            "",
            "The fast wavelet transform algorithm does not make use of the wavelet and scaling functions,",
            "but of the filters $h$ and $g$ that caracterize their interaction:",
            "$$ g[n] = \\frac{1}{\\sqrt{2}}\\dotp{\\psi(t/2)}{\\phi(t-n)}",
            "\\qandq h[n] = \\frac{1}{\\sqrt{2}}\\dotp{\\phi(t/2)}{\\phi(t-n)}. $$",
            "",
            "",
            "The simplest filters are the Haar filters",
            "$$ h = [1, 1]/\\sqrt{2} \\qandq g = [-1, 1]/\\sqrt{2}. $$",
            "",
            "",
            "Daubechies wavelets extends the haar wavelets by using longer",
            "filters, that produce smoother scaling functions and wavelets.",
            "Furthermore, the larger the size $p=2k$ of the filter, the higher is the number",
            "$k$ of vanishing moment.",
            "",
            "",
            "A high number of vanishing moments allows to better compress regular",
            "parts of the signal. However, increasing the number of vanishing moments",
            "also inceases the size of the support of the wavelets, wich can be",
            "problematic in part where the signal is singular (for instance",
            "discontinuous).",
            "",
            "",
            "Choosing the _best_ wavelet, and thus choosing $k$, that is adapted to a",
            "given class of signals, thus corresponds to",
            "a tradeoff between efficiency in regular and singular parts.",
            "",
            "",
            "* The filter with $k=1$ vanishing moments corresponds to the Haar filter.",
            "* The filter with $k=2$ vanishing moments corresponds to the famous |D4| wavelet, which compresses perfectly linear signals.",
            "* The filter with $k=3$ vanishing moments compresses perfectly quadratic signals.",
            "",
            "",
            "Set the support size.",
            "To begin, we select the D4 filter."
          ]
        },
        {
          "cell_type": "code",
          "collapsed": false,
          "input": [
            "%%matlab",
            "p = 4;"
          ],
          "language": "python",
          "metadata": {},
          "outputs": []
        },
        {
          "cell_type": "markdown",
          "metadata": {},
          "source": [
            "Create the low pass filter $h$ and the high pass $g$. We add a zero to ensure that it has a odd",
            "length. Note that the central value of $h$ corresponds to the 0 position."
          ]
        },
        {
          "cell_type": "code",
          "collapsed": false,
          "input": [
            "%%matlab",
            "[h,g] = compute_wavelet_filter('Daubechies',p);"
          ],
          "language": "python",
          "metadata": {},
          "outputs": []
        },
        {
          "cell_type": "markdown",
          "metadata": {},
          "source": [
            "Note that the high pass filter $g$ is computed directly from the low",
            "pass filter as:",
            "$$g[n] = (-1)^{1-n}h[1-n]$$",
            "",
            "",
            "Display."
          ]
        },
        {
          "cell_type": "code",
          "collapsed": false,
          "input": [
            "%%matlab",
            "disp(['h filter = [' num2str(h) ']']);",
            "disp(['g filter = [' num2str(g) ']']);"
          ],
          "language": "python",
          "metadata": {},
          "outputs": []
        },
        {
          "cell_type": "markdown",
          "metadata": {},
          "source": [
            "Up and Down Filtering",
            "---------------------",
            "The basic wavelet operation is low/high filtering, followed by down",
            "sampling.",
            "",
            "",
            "Starting from some 1-D signal $f \\in \\RR^N$, one thus compute the",
            "low pass signal $a \\in \\RR^{N/2}$ and the high pass",
            "signal $d \\in \\RR^{N/2}$ as",
            "$$ a = (f \\star h) \\downarrow 2 \\qandq",
            "d = (f \\star g) \\downarrow 2$$",
            "where the sub-sampling is defined as",
            "$$ (u \\downarrow 2)[k] = u[2k]. $$",
            "",
            "",
            "Create a random signal $f \\in \\RR^N$."
          ]
        },
        {
          "cell_type": "code",
          "collapsed": false,
          "input": [
            "%%matlab",
            "N = 256;",
            "f = rand(N,1);"
          ],
          "language": "python",
          "metadata": {},
          "outputs": []
        },
        {
          "cell_type": "markdown",
          "metadata": {},
          "source": [
            "Low/High pass filtering followed by sub-sampling."
          ]
        },
        {
          "cell_type": "code",
          "collapsed": false,
          "input": [
            "%%matlab",
            "a = subsampling( cconv(f,h) );",
            "d = subsampling( cconv(f,g) );"
          ],
          "language": "python",
          "metadata": {},
          "outputs": []
        },
        {
          "cell_type": "markdown",
          "metadata": {},
          "source": [
            "For orthogonal filters, the reverse of this process is its dual",
            "(aka its transpose), which is upsampling followed by low/high pass",
            "filtering with the reversed filters and summing:",
            "$$ (a \\uparrow h) \\star \\tilde h + (d \\uparrow g) \\star \\tilde g = f $$",
            "where $\\tilde h[n]=h[-n]$ (computed modulo $N$) and",
            "$ (u \\uparrow 2)[2n]=u[n] $ and  $ (u \\uparrow 2)[2n+1]=0 $.",
            "",
            "",
            "Up-sampling followed by filtering."
          ]
        },
        {
          "cell_type": "code",
          "collapsed": false,
          "input": [
            "%%matlab",
            "f1 =  cconv(upsampling(a),reverse(h)) + cconv(upsampling(d),reverse(g));"
          ],
          "language": "python",
          "metadata": {},
          "outputs": []
        },
        {
          "cell_type": "markdown",
          "metadata": {},
          "source": [
            "Check that we really recover the same signal."
          ]
        },
        {
          "cell_type": "code",
          "collapsed": false,
          "input": [
            "%%matlab",
            "disp(strcat((['Error |f-f1|/|f| = ' num2str(norm(f-f1)/norm(f))])));"
          ],
          "language": "python",
          "metadata": {},
          "outputs": []
        },
        {
          "cell_type": "markdown",
          "metadata": {},
          "source": [
            "Forward 2-D Wavelet transform",
            "-----------------------------",
            "The set of wavelet coefficients are computed with a fast algorithm that",
            "exploit the embedding of the approximation spaces $V_j$ spanned by the",
            "scaling function $ \\{ \\phi_{j,n} \\}_n $ defined as",
            "$$ \\phi_{j,n}(x) = \\frac{1}{2^j}\\phi^0\\pa{\\frac{x-2^j n}{2^j}}",
            "\\qwhereq \\phi^0(x)=\\phi(x_1)\\phi(x_2). $$",
            "",
            "",
            "The wavelet transform of $f$ is computed by using intermediate discretized low",
            "resolution images obtained by projection on the spaces $V_j$:",
            "$$ a_j[n] = \\dotp{f}{\\phi_{j,n}}. $$",
            "",
            "",
            "First we load an image of $N= n \\times n$ pixels."
          ]
        },
        {
          "cell_type": "code",
          "collapsed": false,
          "input": [
            "%%matlab",
            "n = 256;",
            "name = 'hibiscus';",
            "f = load_image(name,n);",
            "f = rescale( sum(f,3) );"
          ],
          "language": "python",
          "metadata": {},
          "outputs": []
        },
        {
          "cell_type": "markdown",
          "metadata": {},
          "source": [
            "The algorithm starts at the coarsest scale $ j=\\log_2(n)-1 $"
          ]
        },
        {
          "cell_type": "code",
          "collapsed": false,
          "input": [
            "%%matlab",
            "j = log2(n)-1;"
          ],
          "language": "python",
          "metadata": {},
          "outputs": []
        },
        {
          "cell_type": "markdown",
          "metadata": {},
          "source": [
            "The first step of the algorithm perform filtering/downsampling in the",
            "horizontal direction.",
            "",
            "",
            "$$ \\tilde a_{j-1} = (a_j \\star^H h) \\downarrow^{2,H}  \\qandq",
            "   \\tilde d_{j-1} = (a_j \\star^H g) \\downarrow^{2,H}$$",
            "",
            "",
            "Here, the operator $\\star^H$ and $\\downarrow^{2,H}$",
            "are defined by applying $\\star$ and $\\downarrow^2$",
            "to each column of the matrix.",
            "",
            "",
            "The second step computes the filtering/downsampling in the vertical",
            "direction.",
            "",
            "",
            "$$ a_{j-1}   = (\\tilde a_j \\star^V h) \\downarrow^{2,V}  \\qandq",
            "   d_{j-1}^V = (\\tilde a_j \\star^V g) \\downarrow^{2,V},$$",
            "$$ d_{j-1}^H = (\\tilde d_j \\star^V h) \\downarrow^{2,V}  \\qandq",
            "   d_{j-1}^D = (\\tilde d_j \\star^V g) \\downarrow^{2,V}.$$",
            "",
            "",
            "",
            "A wavelet transform is",
            "computed by iterating high pass and loss pass filterings with |h| and |g|, followed by sub-samplings.",
            "Since we are in 2-D, we need to compute these filterings+subsamplings",
            "in the horizontal and then in the vertical direction (or",
            "in the reverse order, it does not mind).",
            "",
            "",
            "",
            "Initialize the transformed coefficients as the image itself and set the",
            "initial scale as the maximum one.",
            "|fW| will be iteratively transformated and will contains the",
            "coefficients."
          ]
        },
        {
          "cell_type": "code",
          "collapsed": false,
          "input": [
            "%%matlab",
            "fW = f;"
          ],
          "language": "python",
          "metadata": {},
          "outputs": []
        },
        {
          "cell_type": "markdown",
          "metadata": {},
          "source": [
            "Select the sub-part of the image to transform."
          ]
        },
        {
          "cell_type": "code",
          "collapsed": false,
          "input": [
            "%%matlab",
            "A = fW(1:2^(j+1),1:2^(j+1));"
          ],
          "language": "python",
          "metadata": {},
          "outputs": []
        },
        {
          "cell_type": "markdown",
          "metadata": {},
          "source": [
            "Apply high and low filtering+subsampling in the vertical direction (1st ooordinate),",
            "to get coarse and details."
          ]
        },
        {
          "cell_type": "code",
          "collapsed": false,
          "input": [
            "%%matlab",
            "Coarse = subsampling(cconv(A,h,1),1);",
            "Detail = subsampling(cconv(A,g,1),1);"
          ],
          "language": "python",
          "metadata": {},
          "outputs": []
        },
        {
          "cell_type": "markdown",
          "metadata": {},
          "source": [
            "_Note:_ |subsamplling(A,1)| is equivalent to |A(1:2:end,:)| and",
            "|subsamplling(A,2)| is equivalent to |A(:,1:2:end)|.",
            "",
            "",
            "Concatenate them in the vertical direction to get the result."
          ]
        },
        {
          "cell_type": "code",
          "collapsed": false,
          "input": [
            "%%matlab",
            "A = cat3(1, Coarse, Detail );"
          ],
          "language": "python",
          "metadata": {},
          "outputs": []
        },
        {
          "cell_type": "markdown",
          "metadata": {},
          "source": [
            "Display the result of the vertical transform."
          ]
        },
        {
          "cell_type": "code",
          "collapsed": false,
          "input": [
            "%%matlab",
            "clf;",
            "imageplot(f,'Original imge',1,2,1);",
            "imageplot(A,'Vertical transform',1,2,2);"
          ],
          "language": "python",
          "metadata": {},
          "outputs": []
        },
        {
          "cell_type": "markdown",
          "metadata": {},
          "source": [
            "Apply high and low filtering+subsampling in the horizontal direction (2nd ooordinate),",
            "to get coarse and details."
          ]
        },
        {
          "cell_type": "code",
          "collapsed": false,
          "input": [
            "%%matlab",
            "Coarse = subsampling(cconv(A,h,2),2);",
            "Detail = subsampling(cconv(A,g,2),2);"
          ],
          "language": "python",
          "metadata": {},
          "outputs": []
        },
        {
          "cell_type": "markdown",
          "metadata": {},
          "source": [
            "Concatenate them in the horizontal direction to get the result."
          ]
        },
        {
          "cell_type": "code",
          "collapsed": false,
          "input": [
            "%%matlab",
            "A = cat3(2, Coarse, Detail );"
          ],
          "language": "python",
          "metadata": {},
          "outputs": []
        },
        {
          "cell_type": "markdown",
          "metadata": {},
          "source": [
            "Assign the transformed data."
          ]
        },
        {
          "cell_type": "code",
          "collapsed": false,
          "input": [
            "%%matlab",
            "fW(1:2^(j+1),1:2^(j+1)) = A;"
          ],
          "language": "python",
          "metadata": {},
          "outputs": []
        },
        {
          "cell_type": "markdown",
          "metadata": {},
          "source": [
            "Display the result of the horizontal transform."
          ]
        },
        {
          "cell_type": "code",
          "collapsed": false,
          "input": [
            "%%matlab",
            "clf;",
            "imageplot(f,'Original image',1,2,1);",
            "subplot(1,2,2);",
            "plot_wavelet(fW,log2(n)-1); title('Transformed')"
          ],
          "language": "python",
          "metadata": {},
          "outputs": []
        },
        {
          "cell_type": "markdown",
          "metadata": {},
          "source": [
            "__Exercise 1__",
            "",
            "Implement a full wavelet transform that extract iteratively wavelet",
            "coefficients, by repeating these steps. Take care of choosing the",
            "correct number of steps."
          ]
        },
        {
          "cell_type": "code",
          "collapsed": false,
          "input": [
            "%%matlab",
            "exo1()"
          ],
          "language": "python",
          "metadata": {},
          "outputs": []
        },
        {
          "cell_type": "code",
          "collapsed": false,
          "input": [
            "%%matlab",
            "%% Insert your code here."
          ],
          "language": "python",
          "metadata": {},
          "outputs": []
        },
        {
          "cell_type": "markdown",
          "metadata": {},
          "source": [
            "Check for orthogonality of the transform (conservation of energy)."
          ]
        },
        {
          "cell_type": "code",
          "collapsed": false,
          "input": [
            "%%matlab",
            "disp(strcat(['Energy of the signal       = ' num2str(norm(f(:)).^2)]));",
            "disp(strcat(['Energy of the coefficients = ' num2str(norm(fW(:)).^2)]));"
          ],
          "language": "python",
          "metadata": {},
          "outputs": []
        },
        {
          "cell_type": "markdown",
          "metadata": {},
          "source": [
            "Display the wavelet coefficients."
          ]
        },
        {
          "cell_type": "code",
          "collapsed": false,
          "input": [
            "%%matlab",
            "clf;",
            "subplot(1,2,1);",
            "imageplot(f); title('Original');",
            "subplot(1,2,2);",
            "plot_wavelet(fW, 1); title('Transformed');"
          ],
          "language": "python",
          "metadata": {},
          "outputs": []
        },
        {
          "cell_type": "markdown",
          "metadata": {},
          "source": [
            "Inverse 2-D Wavelet transform.",
            "------------------------------",
            "Inversing the wavelet transform means retrieving a signal |f1| from the",
            "coefficients |fW|. If |fW| are exactely the coefficients of |f|, then",
            "|f=f1| up to machine precision.",
            "",
            "",
            "Initialize the image to recover |f1| as the transformed coefficient, and",
            "select the smallest possible scale."
          ]
        },
        {
          "cell_type": "code",
          "collapsed": false,
          "input": [
            "%%matlab",
            "f1 = fW;",
            "j = 0;"
          ],
          "language": "python",
          "metadata": {},
          "outputs": []
        },
        {
          "cell_type": "markdown",
          "metadata": {},
          "source": [
            "Select the sub-coefficient to transform."
          ]
        },
        {
          "cell_type": "code",
          "collapsed": false,
          "input": [
            "%%matlab",
            "A = f1(1:2^(j+1),1:2^(j+1));"
          ],
          "language": "python",
          "metadata": {},
          "outputs": []
        },
        {
          "cell_type": "markdown",
          "metadata": {},
          "source": [
            "Retrieve coarse and detail coefficients in the vertical direction (you",
            "can begin by the other direction, this has no importance)."
          ]
        },
        {
          "cell_type": "code",
          "collapsed": false,
          "input": [
            "%%matlab",
            "Coarse = A(1:2^j,:);",
            "Detail = A(2^j+1:2^(j+1),:);"
          ],
          "language": "python",
          "metadata": {},
          "outputs": []
        },
        {
          "cell_type": "markdown",
          "metadata": {},
          "source": [
            "Undo the transform by up-sampling and then dual filtering."
          ]
        },
        {
          "cell_type": "code",
          "collapsed": false,
          "input": [
            "%%matlab",
            "Coarse = cconv(upsampling(Coarse,1),reverse(h),1);",
            "Detail = cconv(upsampling(Detail,1),reverse(g),1);"
          ],
          "language": "python",
          "metadata": {},
          "outputs": []
        },
        {
          "cell_type": "markdown",
          "metadata": {},
          "source": [
            "Recover the coefficient by summing."
          ]
        },
        {
          "cell_type": "code",
          "collapsed": false,
          "input": [
            "%%matlab",
            "A = Coarse + Detail;"
          ],
          "language": "python",
          "metadata": {},
          "outputs": []
        },
        {
          "cell_type": "markdown",
          "metadata": {},
          "source": [
            "Retrieve coarse and detail coefficients in the vertical direction (you",
            "can begin by the other direction, this has no importance)."
          ]
        },
        {
          "cell_type": "code",
          "collapsed": false,
          "input": [
            "%%matlab",
            "Coarse = A(:,1:2^j);",
            "Detail = A(:,2^j+1:2^(j+1));"
          ],
          "language": "python",
          "metadata": {},
          "outputs": []
        },
        {
          "cell_type": "markdown",
          "metadata": {},
          "source": [
            "Undo the transform by up-sampling and then dual filtering."
          ]
        },
        {
          "cell_type": "code",
          "collapsed": false,
          "input": [
            "%%matlab",
            "Coarse = cconv(upsampling(Coarse,2),reverse(h),2);",
            "Detail = cconv(upsampling(Detail,2),reverse(g),2);"
          ],
          "language": "python",
          "metadata": {},
          "outputs": []
        },
        {
          "cell_type": "markdown",
          "metadata": {},
          "source": [
            "Recover the coefficient by summing."
          ]
        },
        {
          "cell_type": "code",
          "collapsed": false,
          "input": [
            "%%matlab",
            "A = Coarse + Detail;"
          ],
          "language": "python",
          "metadata": {},
          "outputs": []
        },
        {
          "cell_type": "markdown",
          "metadata": {},
          "source": [
            "Assign the result."
          ]
        },
        {
          "cell_type": "code",
          "collapsed": false,
          "input": [
            "%%matlab",
            "f1(1:2^(j+1),1:2^(j+1)) = A;"
          ],
          "language": "python",
          "metadata": {},
          "outputs": []
        },
        {
          "cell_type": "markdown",
          "metadata": {},
          "source": [
            "__Exercise 2__",
            "",
            "Write the inverse wavelet transform that computes |f1| from the",
            "coefficients |fW|. Compare |f1| with |f|."
          ]
        },
        {
          "cell_type": "code",
          "collapsed": false,
          "input": [
            "%%matlab",
            "exo2()"
          ],
          "language": "python",
          "metadata": {},
          "outputs": []
        },
        {
          "cell_type": "code",
          "collapsed": false,
          "input": [
            "%%matlab",
            "%% Insert your code here."
          ],
          "language": "python",
          "metadata": {},
          "outputs": []
        },
        {
          "cell_type": "markdown",
          "metadata": {},
          "source": [
            "Check that we recover exactly the original image."
          ]
        },
        {
          "cell_type": "code",
          "collapsed": false,
          "input": [
            "%%matlab",
            "disp(strcat((['Error |f-f1|/|f| = ' num2str(norm(f(:)-f1(:))/norm(f(:)))])));"
          ],
          "language": "python",
          "metadata": {},
          "outputs": []
        },
        {
          "cell_type": "markdown",
          "metadata": {},
          "source": [
            "Linear 2-D Wavelet Approximation",
            "--------------------------------",
            "Linear approximation is performed by setting to zero the fine scale wawelets coefficients",
            "and then performing the inverse wavelet transform.",
            "",
            "",
            "Here we keep only 1/16 of the wavelet coefficient, thus calculating an |m|",
            "term approximation with |m=n^2/16|."
          ]
        },
        {
          "cell_type": "code",
          "collapsed": false,
          "input": [
            "%%matlab",
            "eta = 4;",
            "fWLin = zeros(n,n);",
            "fWLin(1:n/eta,1:n/eta) = fW(1:n/eta,1:n/eta);"
          ],
          "language": "python",
          "metadata": {},
          "outputs": []
        },
        {
          "cell_type": "markdown",
          "metadata": {},
          "source": [
            "__Exercise 3__",
            "",
            "Compute and display the linear approximation |fLin| obtained from the",
            "coefficients |fWLin| by inverse wavelet transform."
          ]
        },
        {
          "cell_type": "code",
          "collapsed": false,
          "input": [
            "%%matlab",
            "exo3()"
          ],
          "language": "python",
          "metadata": {},
          "outputs": []
        },
        {
          "cell_type": "code",
          "collapsed": false,
          "input": [
            "%%matlab",
            "%% Insert your code here."
          ],
          "language": "python",
          "metadata": {},
          "outputs": []
        },
        {
          "cell_type": "markdown",
          "metadata": {},
          "source": [
            "Non-Linear 2-D Wavelet Approximation",
            "------------------------------------",
            "A non-linear |m|-term approximation is obtained by keeping only the |m|",
            "largest coefficients, which creates the smallest possible error.",
            "",
            "",
            "Removing the smallest coefficient, to keep the |m|-largest, is",
            "equivalently obtainedby thresholding the coefficients to",
            "set to 0 the smallest coefficients.",
            "",
            "",
            "First select a threshold value (the largest the threshold, the more",
            "agressive the approximation)."
          ]
        },
        {
          "cell_type": "code",
          "collapsed": false,
          "input": [
            "%%matlab",
            "T = .2;"
          ],
          "language": "python",
          "metadata": {},
          "outputs": []
        },
        {
          "cell_type": "markdown",
          "metadata": {},
          "source": [
            "Then set to 0 coefficients with magnitude below the threshold."
          ]
        },
        {
          "cell_type": "code",
          "collapsed": false,
          "input": [
            "%%matlab",
            "fWT = fW .* (abs(fW)>T);"
          ],
          "language": "python",
          "metadata": {},
          "outputs": []
        },
        {
          "cell_type": "markdown",
          "metadata": {},
          "source": [
            "Display thresholded coefficients."
          ]
        },
        {
          "cell_type": "code",
          "collapsed": false,
          "input": [
            "%%matlab",
            "clf;",
            "subplot(1,2,1);",
            "plot_wavelet(fW); axis('tight'); title('Original coefficients');",
            "subplot(1,2,2);",
            "plot_wavelet(fWT); axis('tight'); title('Thresholded coefficients');"
          ],
          "language": "python",
          "metadata": {},
          "outputs": []
        },
        {
          "cell_type": "markdown",
          "metadata": {},
          "source": [
            "__Exercise 4__",
            "",
            "Find the thresholds |T| so that the number |m| of remaining coefficients in",
            "|fWT| are |m=n^2/16|. Use this threshold to compute |fWT| and then display",
            "the corresponding approximation |Mnlin| of |f|. Compare this result with",
            "the linear approximation.",
            "umber of kept coefficients",
            "ompute the threshold T",
            "elect threshold",
            "nverse transform",
            "nverse",
            "isplay"
          ]
        },
        {
          "cell_type": "code",
          "collapsed": false,
          "input": [
            "%%matlab",
            "exo4()"
          ],
          "language": "python",
          "metadata": {},
          "outputs": []
        },
        {
          "cell_type": "code",
          "collapsed": false,
          "input": [
            "%%matlab",
            "%% Insert your code here."
          ],
          "language": "python",
          "metadata": {},
          "outputs": []
        },
        {
          "cell_type": "markdown",
          "metadata": {},
          "source": [
            "__Exercise 5__",
            "",
            "Try with",
            "Different kind of wavelets, with an increasing number of vanishing",
            "moments."
          ]
        },
        {
          "cell_type": "code",
          "collapsed": false,
          "input": [
            "%%matlab",
            "exo5()"
          ],
          "language": "python",
          "metadata": {},
          "outputs": []
        },
        {
          "cell_type": "code",
          "collapsed": false,
          "input": [
            "%%matlab",
            "%% Insert your code here."
          ],
          "language": "python",
          "metadata": {},
          "outputs": []
        },
        {
          "cell_type": "markdown",
          "metadata": {},
          "source": [
            "Separable 2-D Wavelet Transform",
            "-------------------------------",
            "A forward wavelet transform is obtained by applying the 1D wavelet",
            "transform to"
          ]
        },
        {
          "cell_type": "markdown",
          "metadata": {},
          "source": [
            "__Exercise 6__",
            "",
            "Implement the foward separable transform.",
            "Wavelet transformm in 1D each column |f(:,i)| to obtain coefficients |fWSep(:,i)|.",
            "Then re-transform each row |fWSep(i,:)'|, and store the result in |fW(i,:)'|."
          ]
        },
        {
          "cell_type": "code",
          "collapsed": false,
          "input": [
            "%%matlab",
            "exo6()"
          ],
          "language": "python",
          "metadata": {},
          "outputs": []
        },
        {
          "cell_type": "code",
          "collapsed": false,
          "input": [
            "%%matlab",
            "%% Insert your code here."
          ],
          "language": "python",
          "metadata": {},
          "outputs": []
        },
        {
          "cell_type": "markdown",
          "metadata": {},
          "source": [
            "Display the result."
          ]
        },
        {
          "cell_type": "code",
          "collapsed": false,
          "input": [
            "%%matlab",
            "clf;",
            "subplot(1,2,1);",
            "opt.separable = 0;",
            "plot_wavelet(fW,1,opt);",
            "title('Isotropic wavelets');",
            "subplot(1,2,2);",
            "opt.separable = 1;",
            "plot_wavelet(fWSep,1,opt);",
            "title('Separable wavelets');"
          ],
          "language": "python",
          "metadata": {},
          "outputs": []
        },
        {
          "cell_type": "markdown",
          "metadata": {},
          "source": [
            "__Exercise 7__",
            "",
            "Implement the backward separable transform to recover an image |f1|",
            "from the coefficients |fWSep|, which backward transform each row and then each columns."
          ]
        },
        {
          "cell_type": "code",
          "collapsed": false,
          "input": [
            "%%matlab",
            "exo7()"
          ],
          "language": "python",
          "metadata": {},
          "outputs": []
        },
        {
          "cell_type": "code",
          "collapsed": false,
          "input": [
            "%%matlab",
            "%% Insert your code here."
          ],
          "language": "python",
          "metadata": {},
          "outputs": []
        },
        {
          "cell_type": "markdown",
          "metadata": {},
          "source": [
            "Check that we recover exactly the original image."
          ]
        },
        {
          "cell_type": "code",
          "collapsed": false,
          "input": [
            "%%matlab",
            "disp(strcat((['Error |f-f1|/|f| = ' num2str(norm(f(:)-f1(:))/norm(f(:)))])));"
          ],
          "language": "python",
          "metadata": {},
          "outputs": []
        },
        {
          "cell_type": "markdown",
          "metadata": {},
          "source": [
            "__Exercise 8__",
            "",
            "Perform |m=n^2/16|-terms best approximation with separable wavelet transform.",
            "Compare the result with isotropic wavelet approximation.",
            "isplay"
          ]
        },
        {
          "cell_type": "code",
          "collapsed": false,
          "input": [
            "%%matlab",
            "exo8()"
          ],
          "language": "python",
          "metadata": {},
          "outputs": []
        },
        {
          "cell_type": "code",
          "collapsed": false,
          "input": [
            "%%matlab",
            "%% Insert your code here."
          ],
          "language": "python",
          "metadata": {},
          "outputs": []
        },
        {
          "cell_type": "markdown",
          "metadata": {},
          "source": [
            "The Shape of a Wavelet",
            "----------------------",
            "An isotropic wavelet coefficient |fW[k]| corresponds to an inner product",
            "|<f,psi_{j,p}^s>| where |k| depends on the scale |j| and the position |p| and the orientation",
            "|s| (horizontal, vertical or diagonal).",
            "",
            "",
            "The wavelet image  |f1 = psi_{j,p}| is computed by applying the inverse wavelet",
            "transform to |fW| where |fW[k]=1| and |fW[l]=0| for |l \\neq k|."
          ]
        },
        {
          "cell_type": "markdown",
          "metadata": {},
          "source": [
            "__Exercise 9__",
            "",
            "Compute wavelets at several scales and orientation.",
            "Here we show only horizontal wavelets, in 2-D."
          ]
        },
        {
          "cell_type": "code",
          "collapsed": false,
          "input": [
            "%%matlab",
            "exo9()"
          ],
          "language": "python",
          "metadata": {},
          "outputs": []
        },
        {
          "cell_type": "code",
          "collapsed": false,
          "input": [
            "%%matlab",
            "%% Insert your code here."
          ],
          "language": "python",
          "metadata": {},
          "outputs": []
        },
        {
          "cell_type": "markdown",
          "metadata": {},
          "source": [
            "__Exercise 10__",
            "",
            "Display Daubechies wavelets with different orientation, for different number of VM."
          ]
        },
        {
          "cell_type": "code",
          "collapsed": false,
          "input": [
            "%%matlab",
            "exo10()"
          ],
          "language": "python",
          "metadata": {},
          "outputs": []
        },
        {
          "cell_type": "code",
          "collapsed": false,
          "input": [
            "%%matlab",
            "%% Insert your code here."
          ],
          "language": "python",
          "metadata": {},
          "outputs": []
        }
      ]
>>>>>>> ffbcc44823b497da6d7a9c2b247c581b3e59aa83:matlab/todo/wavelet_4_daubechies2d.ipynb
    }
   ],
   "metadata": {}
  }
 ]
}