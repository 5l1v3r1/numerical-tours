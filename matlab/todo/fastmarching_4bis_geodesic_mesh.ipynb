{
 "metadata": {
  "name": "",
  "signature": "sha256:9d0a7c1c6b0315f4ba35602aabace0688632d6baeb0d4b54c2e96ad16201072f"
 },
 "nbformat": 3,
 "nbformat_minor": 0,
 "worksheets": [
  {
   "cells": [
    {
     "cell_type": "markdown",
     "metadata": {},
     "source": [
      "Geodesic Distance Computation on 3-D Meshes\n",
      "===========================================\n",
      "$\\newcommand{\\dotp}[2]{\\langle #1, #2 \\rangle}\n",
      "\\newcommand{\\enscond}[2]{\\lbrace #1, #2 \\rbrace}\n",
      "\\newcommand{\\pd}[2]{ \\frac{ \\partial #1}{\\partial #2} }\n",
      "\\newcommand{\\umin}[1]{\\underset{#1}{\\min}\\;}\n",
      "\\newcommand{\\umax}[1]{\\underset{#1}{\\max}\\;}\n",
      "\\newcommand{\\umin}[1]{\\underset{#1}{\\min}\\;}\n",
      "\\newcommand{\\uargmin}[1]{\\underset{#1}{argmin}\\;}\n",
      "\\newcommand{\\norm}[1]{\\|#1\\|}\n",
      "\\newcommand{\\abs}[1]{\\left|#1\\right|}\n",
      "\\newcommand{\\choice}[1]{ \\left\\{  \\begin{array}{l} #1 \\end{array} \\right. }\n",
      "\\newcommand{\\pa}[1]{\\left(#1\\right)}\n",
      "\\newcommand{\\diag}[1]{{diag}\\left( #1 \\right)}\n",
      "\\newcommand{\\qandq}{\\quad\\text{and}\\quad}\n",
      "\\newcommand{\\qwhereq}{\\quad\\text{where}\\quad}\n",
      "\\newcommand{\\qifq}{ \\quad \\text{if} \\quad }\n",
      "\\newcommand{\\qarrq}{ \\quad \\Longrightarrow \\quad }\n",
      "\\newcommand{\\ZZ}{\\mathbb{Z}}\n",
      "\\newcommand{\\CC}{\\mathbb{C}}\n",
      "\\newcommand{\\RR}{\\mathbb{R}}\n",
      "\\newcommand{\\EE}{\\mathbb{E}}\n",
      "\\newcommand{\\Zz}{\\mathcal{Z}}\n",
      "\\newcommand{\\Ww}{\\mathcal{W}}\n",
      "\\newcommand{\\Vv}{\\mathcal{V}}\n",
      "\\newcommand{\\Nn}{\\mathcal{N}}\n",
      "\\newcommand{\\NN}{\\mathcal{N}}\n",
      "\\newcommand{\\Hh}{\\mathcal{H}}\n",
      "\\newcommand{\\Bb}{\\mathcal{B}}\n",
      "\\newcommand{\\Ee}{\\mathcal{E}}\n",
      "\\newcommand{\\Cc}{\\mathcal{C}}\n",
      "\\newcommand{\\Gg}{\\mathcal{G}}\n",
      "\\newcommand{\\Ss}{\\mathcal{S}}\n",
      "\\newcommand{\\Pp}{\\mathcal{P}}\n",
      "\\newcommand{\\Ff}{\\mathcal{F}}\n",
      "\\newcommand{\\Xx}{\\mathcal{X}}\n",
      "\\newcommand{\\Mm}{\\mathcal{M}}\n",
      "\\newcommand{\\Ii}{\\mathcal{I}}\n",
      "\\newcommand{\\Dd}{\\mathcal{D}}\n",
      "\\newcommand{\\Ll}{\\mathcal{L}}\n",
      "\\newcommand{\\Tt}{\\mathcal{T}}\n",
      "\\newcommand{\\si}{\\sigma}\n",
      "\\newcommand{\\al}{\\alpha}\n",
      "\\newcommand{\\la}{\\lambda}\n",
      "\\newcommand{\\ga}{\\gamma}\n",
      "\\newcommand{\\Ga}{\\Gamma}\n",
      "\\newcommand{\\La}{\\Lambda}\n",
      "\\newcommand{\\si}{\\sigma}\n",
      "\\newcommand{\\Si}{\\Sigma}\n",
      "\\newcommand{\\be}{\\beta}\n",
      "\\newcommand{\\de}{\\delta}\n",
      "\\newcommand{\\De}{\\Delta}\n",
      "\\renewcommand{\\phi}{\\varphi}\n",
      "\\renewcommand{\\th}{\\theta}\n",
      "\\newcommand{\\om}{\\omega}\n",
      "\\newcommand{\\Om}{\\Omega}\n",
      "$"
     ]
    },
    {
     "cell_type": "markdown",
     "metadata": {},
     "source": [
      "This tour explores the computation of the geodesic distance on a mesh using\n",
      "an iterative algorithm to solve the Eikonal equation."
     ]
    },
    {
     "cell_type": "code",
     "collapsed": false,
     "input": [
      "%load_ext pymatbridge"
     ],
     "language": "python",
     "metadata": {},
     "outputs": []
    },
    {
     "cell_type": "code",
     "collapsed": false,
     "input": [
      "%%matlab\n",
      "warning off\n",
      "addpath('toolbox_signal')\n",
      "addpath('toolbox_general')\n",
      "addpath('toolbox_graph')\n",
      "addpath('solutions/fastmarching_4bis_geodesic_mesh')"
     ],
     "language": "python",
     "metadata": {},
     "outputs": []
    },
    {
     "cell_type": "markdown",
     "metadata": {},
     "source": [
      "Installation\n",
      "------------\n",
      "You need to download [numerical_tours](https://github.com/gpeyre/numerical-tours/archive/master.zip)\n",
      "and install the IPython [notebook](http://ipython.org/install.html) to run the code.\n",
      "\n",
      "You must also install the [python-matlab-bridge](http://arokem.github.io/python-matlab-bridge/)."
     ]
    },
    {
     "cell_type": "markdown",
     "metadata": {},
     "source": [
      "Triangulated Mesh\n",
      "-----------------\n",
      "We consider a 3-D surface discretized using a triangular mesh with $N$\n",
      "vertices. We denote $ \\{x_i\\}_{i=1}^{N} $ the set of vertices, where\n",
      "$x_i \\in \\RR^3$. We denote $\\Ff \\subset \\{1, \\ldots, N\\}^3$ the set of faces.\n",
      "\n",
      "\n",
      "First load a mesh."
     ]
    },
    {
     "cell_type": "code",
     "collapsed": false,
     "input": [
      "%%matlab\n",
      "name = 'beetle'; % 1k\n",
      "name = 'camel'; % 600 v\n",
      "name = 'cow'; % 700v\n",
      "name = 'venus'; % 700 v\n",
      "name = 'mannequin'; % 400 v\n",
      "name = 'nefertiti'; % 300 v\n",
      "[vertex0,faces0] = read_mesh(name);\n",
      "clear options; options.name = name;"
     ],
     "language": "python",
     "metadata": {},
     "outputs": []
    },
    {
     "cell_type": "markdown",
     "metadata": {},
     "source": [
      "Display."
     ]
    },
    {
     "cell_type": "code",
     "collapsed": false,
     "input": [
      "%%matlab\n",
      "clf;\n",
      "options.lighting = 1;\n",
      "plot_mesh(vertex0,faces0,options);\n",
      "shading('faceted');"
     ],
     "language": "python",
     "metadata": {},
     "outputs": []
    },
    {
     "cell_type": "markdown",
     "metadata": {},
     "source": [
      "Perform sub-division to obtained a finer mesh."
     ]
    },
    {
     "cell_type": "code",
     "collapsed": false,
     "input": [
      "%%matlab\n",
      "nsub = 2; % number of subdivision steps\n",
      "options.sub_type = 'loop';\n",
      "options.verb = 0;\n",
      "[vertex,faces] = perform_mesh_subdivision(vertex0,faces0,nsub,options);\n",
      "n = size(vertex,2);"
     ],
     "language": "python",
     "metadata": {},
     "outputs": []
    },
    {
     "cell_type": "markdown",
     "metadata": {},
     "source": [
      "Display."
     ]
    },
    {
     "cell_type": "code",
     "collapsed": false,
     "input": [
      "%%matlab\n",
      "clf;\n",
      "options.lighting = 1;\n",
      "plot_mesh(vertex,faces,options);\n",
      "shading('faceted');"
     ],
     "language": "python",
     "metadata": {},
     "outputs": []
    },
    {
     "cell_type": "markdown",
     "metadata": {},
     "source": [
      "Useful shortcuts."
     ]
    },
    {
     "cell_type": "code",
     "collapsed": false,
     "input": [
      "%%matlab\n",
      "dotp = @(u,v)sum(u.*v,1);\n",
      "R = @(u)reshape(u, [1 1 length(u)]);"
     ],
     "language": "python",
     "metadata": {},
     "outputs": []
    },
    {
     "cell_type": "markdown",
     "metadata": {},
     "source": [
      "Shortcut for the explicit inverse of a series of 2D matrices, and the multiplication with a vector."
     ]
    },
    {
     "cell_type": "code",
     "collapsed": false,
     "input": [
      "%%matlab\n",
      "Inv1 = @(M,d)[M(2,2,:)./d -M(1,2,:)./d; -M(2,1,:)./d M(1,1,:)./d];\n",
      "Inv  = @(M)Inv1(M, M(1,1,:).*M(2,2,:) - M(1,2,:).*M(2,1,:));\n",
      "Mult = @(M,u)[M(1,1,:).*u(1,1,:) + M(1,2,:).*u(2,1,:);  M(2,1,:).*u(1,1,:) + M(2,2,:).*u(2,1,:)];"
     ],
     "language": "python",
     "metadata": {},
     "outputs": []
    },
    {
     "cell_type": "markdown",
     "metadata": {},
     "source": [
      "Control Formulation of the Eikonal Equation\n",
      "-------------------------------------------\n",
      "Our goal is to compute the geodesic distance to a set of starting points.\n",
      "\n",
      "\n",
      "We consider an isotropic metric on the mesh $W_i > 0$.\n",
      "\n",
      "\n",
      "Given a set $I$ of starting point, we want to compute the discrete\n",
      "geodesic distance map $ U \\in \\RR^N $ to the starting points $\n",
      "\\{x_i\\}_{i \\in I} $.\n",
      "\n",
      "\n",
      "Let's consider a geodesic distance $d(x,y)$ on a manifold.\n",
      "A general mathematical result is that the geodesic distance\n",
      "$$ d(x,A) = \\umin{a \\in A} d(x,a) $$\n",
      "to a set $A$ is the unique solution to the following equation\n",
      "$$ \\forall \\, x \\notin A, \\quad d(x,A) = \\umin{ y \\in B(x) } d(y,A) + d(x,y)  $$\n",
      "where $ B(x) $ is a small disk around $x$ that does not contain\n",
      "$A$.\n",
      "\n",
      "\n",
      "In a discrete setting, one can use this property with $B(x_i)$ being\n",
      "the one ring, made of the edges connecting vertices that are around\n",
      "$x_i$. Using a piecewise linear interpolation of $U$ on the mesh, one\n",
      "obtain that $U$ is a solution to a fixed point equation\n",
      "$$ U = \\Ga(U) $$\n",
      "where the update operator $ \\Ga : \\RR^N \\rightarrow \\RR^N $ is defined\n",
      "as\n",
      "$$ \\Ga(U)_i = \\umin{ (i,j,k) \\in \\Ff } d_{i,j,k} $$\n",
      "where\n",
      "$$ d_{i,j,k} = \\umin{0 \\leq t \\leq 1} t U_{j} + (1-t) U_k + W_i \\norm{ t x_j + (1-t) x_k - x }.  $$\n",
      "The quantities $ d_{i,j,k} $ can in fact be computed by solving a\n",
      "second order polynomial, as we describe in the following section.\n",
      "\n",
      "Geodesic distance Computation Using Jacobi Iterations\n",
      "-----------------------------------------------------\n",
      "The mapping $\\Ga$ is monotone\n",
      "$$ U \\leq V \\qarrq \\Ga(U) \\leq \\Ga(V). $$\n",
      "If one uses an initialization $U^{(0)}$ such that $\\Ga(U^{(0)}) \\geq U^{(0)} $\n",
      "(for instance setting $U^{(0)}=0$), then the iterates\n",
      "$$ U^{(\\ell+1)} = \\Ga(U^{(\\ell)}) $$\n",
      "are increasing. One can prove that they are bounded, and hence they\n",
      "converge to the (unique) fixed point solution of $\\Ga(U)=U$.\n",
      "\n",
      "\n",
      "Define the metric $W_i > 0$ on the mesh. We start with the uniform (constant) metric."
     ]
    },
    {
     "cell_type": "code",
     "collapsed": false,
     "input": [
      "%%matlab\n",
      "W = ones(n,1);"
     ],
     "language": "python",
     "metadata": {},
     "outputs": []
    },
    {
     "cell_type": "markdown",
     "metadata": {},
     "source": [
      "Indexes $I \\subset \\{1,\\ldots,N\\}$ of starting points.\n",
      "_Warning:_ this list works for the mesh |nefertitit| refined twice.\n",
      "For other meshes, use the function |select3dtool| to retrive the indexes\n",
      "of a few vertices."
     ]
    },
    {
     "cell_type": "code",
     "collapsed": false,
     "input": [
      "%%matlab\n",
      "I = [88 2602 883 23];"
     ],
     "language": "python",
     "metadata": {},
     "outputs": []
    },
    {
     "cell_type": "markdown",
     "metadata": {},
     "source": [
      "Initialization of the distance map."
     ]
    },
    {
     "cell_type": "code",
     "collapsed": false,
     "input": [
      "%%matlab\n",
      "U = zeros(n,1);"
     ],
     "language": "python",
     "metadata": {},
     "outputs": []
    },
    {
     "cell_type": "markdown",
     "metadata": {},
     "source": [
      "Computation of the set of indexes for $i,j,k$."
     ]
    },
    {
     "cell_type": "code",
     "collapsed": false,
     "input": [
      "%%matlab\n",
      "i = [faces(1,:) faces(2,:) faces(3,:) ];\n",
      "j = [faces(2,:) faces(3,:) faces(1,:) ];\n",
      "k = [faces(3,:) faces(1,:) faces(2,:) ];"
     ],
     "language": "python",
     "metadata": {},
     "outputs": []
    },
    {
     "cell_type": "markdown",
     "metadata": {},
     "source": [
      "|x| stores the position of all the $x_i$ vertices (point where the value\n",
      "of $d=d_{i,j,k}$ is computed), while |x1| and |x2| store respectively $x_j-x_i$\n",
      "and $x_k-x_i$."
     ]
    },
    {
     "cell_type": "code",
     "collapsed": false,
     "input": [
      "%%matlab\n",
      "x  = vertex(:,i);\n",
      "x1 = vertex(:,j) - x;\n",
      "x2 = vertex(:,k) - x;"
     ],
     "language": "python",
     "metadata": {},
     "outputs": []
    },
    {
     "cell_type": "markdown",
     "metadata": {},
     "source": [
      "|ui| stores $U_{j}$, |uk| stores $U_k$, |w| stores $w=W_i$.\n",
      "We denote $u=(U_j,U_k) \\in \\RR^2$."
     ]
    },
    {
     "cell_type": "code",
     "collapsed": false,
     "input": [
      "%%matlab\n",
      "uj = U(j);\n",
      "uk = U(k);\n",
      "u = [R(uj); R(uk)];\n",
      "w = R( W(i) );"
     ],
     "language": "python",
     "metadata": {},
     "outputs": []
    },
    {
     "cell_type": "markdown",
     "metadata": {},
     "source": [
      "|C| stores the inner product matrix $C_{s,t} = \\dotp{x_s}{x_t}$,\n",
      "and we denote $S = C^{-1}$."
     ]
    },
    {
     "cell_type": "code",
     "collapsed": false,
     "input": [
      "%%matlab\n",
      "C = [R(dotp(x1,x1)) R(dotp(x1,x2)); R(dotp(x2,x1)) R(dotp(x2,x2))];\n",
      "S = Inv(C);"
     ],
     "language": "python",
     "metadata": {},
     "outputs": []
    },
    {
     "cell_type": "markdown",
     "metadata": {},
     "source": [
      "If we denote $g = \\al_1 x_1 + \\al_2 x_2$ the (unknown) update direction, the\n",
      "geodesic distance (which is affine in the triangle), is written as\n",
      "$ U(z) = \\dotp{g}{z-x} + d $ where $d \\in \\RR$ is unknown.\n",
      "\n",
      "\n",
      "We need to compute both $g$ and $d$.\n",
      "Since $U(x_j)=u_1$ and $U(x_k)=u_2$, one obtains\n",
      "$$ \\al = S ( u - d \\mathbb{I} ), $$\n",
      "where $\\mathbb{I} = (1,1) \\in \\RR^2$. Making use of the Eikonal\n",
      "equation $ \\norm{\\nabla U(x)} = \\norm{g} = w $, one obtains\n",
      "that $d$ is the (maximum) solution of the following second order\n",
      "equation\n",
      " $$ a d^2 - 2 b d + c = 0\n",
      "    \\qwhereq\n",
      "    \\choice{\n",
      "          a = \\dotp{S \\mathbb{I}}{\\mathbb{I}} \\\\\n",
      "          b = \\dotp{S \\mathbb{I}}{u} \\\\\n",
      "          c = \\dotp{S u}{u} - w^2\n",
      "    }\n",
      " $$\n",
      "\n",
      "\n",
      "\n",
      "Compute the values of $a, b, c$."
     ]
    },
    {
     "cell_type": "code",
     "collapsed": false,
     "input": [
      "%%matlab\n",
      "a = sum(sum(S));\n",
      "b = dotp( sum(S,2), u );\n",
      "c = dotp( Mult(S,u), u ) - w.^2;"
     ],
     "language": "python",
     "metadata": {},
     "outputs": []
    },
    {
     "cell_type": "markdown",
     "metadata": {},
     "source": [
      "Compute the reduced discriminant $\\de = b^2 - a c$, which is always\n",
      "positive."
     ]
    },
    {
     "cell_type": "code",
     "collapsed": false,
     "input": [
      "%%matlab\n",
      "delta = max( b.^2 - a.*c, 0);"
     ],
     "language": "python",
     "metadata": {},
     "outputs": []
    },
    {
     "cell_type": "markdown",
     "metadata": {},
     "source": [
      "The solution is then\n",
      "$$ d = \\frac{ b + \\sqrt{\\delta} }{ a }. $$"
     ]
    },
    {
     "cell_type": "code",
     "collapsed": false,
     "input": [
      "%%matlab\n",
      "d = (b + sqrt(delta) )./a;"
     ],
     "language": "python",
     "metadata": {},
     "outputs": []
    },
    {
     "cell_type": "markdown",
     "metadata": {},
     "source": [
      "To ensure correctness of the scheme, the update should come from within\n",
      "the triangle (which correspond to the condition $$t \\in [0,1]$$ in the original\n",
      "definition of $d_{i,j,k}$ using the control formulation). This\n",
      "corresponds to having $ \\al_1<=0 $ and $\\al_2 \\leq 0$ where $ \\al =\n",
      "S ( u - d \\mathbb{I} ) $.\n",
      "\n",
      "\n",
      "Compute $\\al \\in \\RR^2$."
     ]
    },
    {
     "cell_type": "code",
     "collapsed": false,
     "input": [
      "%%matlab\n",
      "alpha = Mult( S, u - repmat(d, 2, 1) );"
     ],
     "language": "python",
     "metadata": {},
     "outputs": []
    },
    {
     "cell_type": "markdown",
     "metadata": {},
     "source": [
      "For the index $i \\in J$ where the update comes from outside the edge $\n",
      "[x_j,x_k] $, we use an update along the edge\n",
      "$$ d = \\min\\pa{ U_j + \\norm{x-x_j}W_i, U_k + \\norm{x-x_k}W_i }. $$"
     ]
    },
    {
     "cell_type": "code",
     "collapsed": false,
     "input": [
      "%%matlab\n",
      "J = find( alpha(1,1,:)>0 | alpha(2,1,:)>0 );\n",
      "d1 = sqrt(dotp(x1,x1)); d1 = d1(:).*w(:) + uj(:);\n",
      "d2 = sqrt(dotp(x2,x2)); d2 = d2(:).*w(:) + uk(:);\n",
      "d = d(:);\n",
      "d(J) = min(d1(J), d2(J));"
     ],
     "language": "python",
     "metadata": {},
     "outputs": []
    },
    {
     "cell_type": "markdown",
     "metadata": {},
     "source": [
      "Now that |d| stores the value of |d_{i,j,k}| for a bunch of faces\n",
      "assign in |U1(i)| the mininimum between the previous |U1(i)|\n",
      "and all the entries in |d| that corresponds to a face $(i,j,k)$."
     ]
    },
    {
     "cell_type": "code",
     "collapsed": false,
     "input": [
      "%%matlab\n",
      "U1 = accumarray(i', d, [n 1], @min);  U1(U1==0) = Inf;"
     ],
     "language": "python",
     "metadata": {},
     "outputs": []
    },
    {
     "cell_type": "markdown",
     "metadata": {},
     "source": [
      "Enforce the boundary conditions $\\forall i \\in I, \\, U_i = 0$."
     ]
    },
    {
     "cell_type": "code",
     "collapsed": false,
     "input": [
      "%%matlab\n",
      "U1(I) = 0;"
     ],
     "language": "python",
     "metadata": {},
     "outputs": []
    },
    {
     "cell_type": "markdown",
     "metadata": {},
     "source": [
      "Update the solution."
     ]
    },
    {
     "cell_type": "code",
     "collapsed": false,
     "input": [
      "%%matlab\n",
      "U = U1;"
     ],
     "language": "python",
     "metadata": {},
     "outputs": []
    },
    {
     "cell_type": "markdown",
     "metadata": {},
     "source": [
      "__Exercise 1__\n",
      "\n",
      "Perform the full iterative algorithm until convergence.\n",
      "Store in |err(l)| the fixed point error\n",
      "$ \\norm{ U^{(\\ell+1)} - U^{(\\ell)} } $.\n",
      "_Note:_ you might want to put outside of the loop\n",
      "all the quantities that do not depend on $u$, e.g.\n",
      "$S, a, $ etc.\n",
      "isplay"
     ]
    },
    {
     "cell_type": "code",
     "collapsed": false,
     "input": [
      "%%matlab\n",
      "exo1()"
     ],
     "language": "python",
     "metadata": {},
     "outputs": []
    },
    {
     "cell_type": "code",
     "collapsed": false,
     "input": [
      "%%matlab\n",
      "%% Insert your code here."
     ],
     "language": "python",
     "metadata": {},
     "outputs": []
    },
    {
     "cell_type": "markdown",
     "metadata": {},
     "source": [
      "Display the fixed point energy."
     ]
    },
    {
     "cell_type": "code",
     "collapsed": false,
     "input": [
      "%%matlab\n",
      "clf;\n",
      "h = plot(err);\n",
      "set(h, 'LineWidth', 2);\n",
      "axis tight;"
     ],
     "language": "python",
     "metadata": {},
     "outputs": []
    },
    {
     "cell_type": "markdown",
     "metadata": {},
     "source": [
      "For the display of the distance."
     ]
    },
    {
     "cell_type": "code",
     "collapsed": false,
     "input": [
      "%%matlab\n",
      "mycolor = @(U,k)mod(U/max(U), 1/k);\n",
      "mycolor = @(U,k)cos(2*pi*k*U/max(U));"
     ],
     "language": "python",
     "metadata": {},
     "outputs": []
    },
    {
     "cell_type": "markdown",
     "metadata": {},
     "source": [
      "Display the distance map."
     ]
    },
    {
     "cell_type": "code",
     "collapsed": false,
     "input": [
      "%%matlab\n",
      "clf;\n",
      "options.face_vertex_color = mycolor(U, 5);\n",
      "plot_mesh(vertex,faces,options);\n",
      "colormap jet(256);\n",
      "shading interp;"
     ],
     "language": "python",
     "metadata": {},
     "outputs": []
    },
    {
     "cell_type": "markdown",
     "metadata": {},
     "source": [
      "Geodesic Path Extraction\n",
      "------------------------\n",
      "A geodesic minimal path from any point on the mesh to the starting point\n",
      "can be computed using a gradient descent. Since the computed geodesic\n",
      "distance is affine on each triangle, it makes sense to define a\n",
      "discretized path that is a line segment on each face.\n",
      "\n",
      "\n",
      "Extract minimal paths from all over the mesh, starting from the boundary."
     ]
    },
    {
     "cell_type": "code",
     "collapsed": false,
     "input": [
      "%%matlab\n",
      "k = 30;\n",
      "pend = round(rand(k,1)*n)+1;\n",
      "options.method = 'continuous';\n",
      "paths = compute_geodesic_mesh(U, vertex, faces, pend, options);"
     ],
     "language": "python",
     "metadata": {},
     "outputs": []
    },
    {
     "cell_type": "markdown",
     "metadata": {},
     "source": [
      "Display."
     ]
    },
    {
     "cell_type": "code",
     "collapsed": false,
     "input": [
      "%%matlab\n",
      "clf;\n",
      "plot_fast_marching_mesh(vertex,faces, mycolor(U, 5), paths, options);"
     ],
     "language": "python",
     "metadata": {},
     "outputs": []
    },
    {
     "cell_type": "markdown",
     "metadata": {},
     "source": [
      "Geodesic Distance Convergence\n",
      "-----------------------------\n",
      "The discrete geodesic distance converges to the continuous distance when\n",
      "the mesh is refined.\n",
      "\n",
      "\n",
      "Compute a Delaunay triangulation of random point on a square\n",
      "with the first point in the center."
     ]
    },
    {
     "cell_type": "code",
     "collapsed": false,
     "input": [
      "%%matlab\n",
      "n = 3000;\n",
      "vertex = [2*rand(2,n)-1; zeros(1,n)];\n",
      "vertex(:,1) = 0;\n",
      "faces = compute_delaunay(vertex);\n",
      "options.name = '';\n",
      "I = 1;"
     ],
     "language": "python",
     "metadata": {},
     "outputs": []
    },
    {
     "cell_type": "markdown",
     "metadata": {},
     "source": [
      "Display."
     ]
    },
    {
     "cell_type": "code",
     "collapsed": false,
     "input": [
      "%%matlab\n",
      "clf\n",
      "plot_mesh(vertex,faces);\n",
      "shading faceted;"
     ],
     "language": "python",
     "metadata": {},
     "outputs": []
    },
    {
     "cell_type": "markdown",
     "metadata": {},
     "source": [
      "__Exercise 2__\n",
      "\n",
      "Compute and display the geodesic distance."
     ]
    },
    {
     "cell_type": "code",
     "collapsed": false,
     "input": [
      "%%matlab\n",
      "exo2()"
     ],
     "language": "python",
     "metadata": {},
     "outputs": []
    },
    {
     "cell_type": "code",
     "collapsed": false,
     "input": [
      "%%matlab\n",
      "%% Insert your code here."
     ],
     "language": "python",
     "metadata": {},
     "outputs": []
    },
    {
     "cell_type": "markdown",
     "metadata": {},
     "source": [
      "__Exercise 3__\n",
      "\n",
      "Display the convergence of the computed geodesic distance to the the true\n",
      "geodesic distance (which is the Euclidean distance $ \\norm{x_i} $) as $n$\n",
      "increases.\n",
      "_Note:_ the triangulation with increasing number of points should be\n",
      "refining (i.e. a finer triangulation should contains all the other\n",
      "ones)."
     ]
    },
    {
     "cell_type": "code",
     "collapsed": false,
     "input": [
      "%%matlab\n",
      "exo3()"
     ],
     "language": "python",
     "metadata": {},
     "outputs": []
    },
    {
     "cell_type": "code",
     "collapsed": false,
     "input": [
      "%%matlab\n",
      "%% Insert your code here."
     ],
     "language": "python",
     "metadata": {},
     "outputs": []
    },
    {
     "cell_type": "markdown",
     "metadata": {},
     "source": [
      "Spacially Varying Metrics\n",
      "-------------------------\n",
      "One can define a non-constant metric on the mesh.\n",
      "\n",
      "\n",
      "Triangulation of a square."
     ]
    },
    {
     "cell_type": "code",
     "collapsed": false,
     "input": [
      "%%matlab\n",
      "n = 8000;\n",
      "vertex = [rand(2,n); zeros(1,n)];\n",
      "vertex(:,1) = [0 .3 0]';\n",
      "faces = compute_delaunay(vertex);\n",
      "I = 1;"
     ],
     "language": "python",
     "metadata": {},
     "outputs": []
    },
    {
     "cell_type": "markdown",
     "metadata": {},
     "source": [
      "Generate a binary metric in order to produce a reflexion effect."
     ]
    },
    {
     "cell_type": "code",
     "collapsed": false,
     "input": [
      "%%matlab\n",
      "W = ones(n,1); \n",
      "W(vertex(1,:)<.5) = 1/2;"
     ],
     "language": "python",
     "metadata": {},
     "outputs": []
    },
    {
     "cell_type": "markdown",
     "metadata": {},
     "source": [
      "Display the metric."
     ]
    },
    {
     "cell_type": "code",
     "collapsed": false,
     "input": [
      "%%matlab\n",
      "options.face_vertex_color = W;\n",
      "clf;\n",
      "plot_mesh(vertex,faces,options);\n",
      "colormap jet(256);"
     ],
     "language": "python",
     "metadata": {},
     "outputs": []
    },
    {
     "cell_type": "markdown",
     "metadata": {},
     "source": [
      "__Exercise 4__\n",
      "\n",
      "Compute the geodesic distance for a metric $W_i$ that is not constant\n",
      "over the mesh."
     ]
    },
    {
     "cell_type": "code",
     "collapsed": false,
     "input": [
      "%%matlab\n",
      "exo4()"
     ],
     "language": "python",
     "metadata": {},
     "outputs": []
    },
    {
     "cell_type": "code",
     "collapsed": false,
     "input": [
      "%%matlab\n",
      "%% Insert your code here."
     ],
     "language": "python",
     "metadata": {},
     "outputs": []
    }
   ],
   "metadata": {}
  }
 ]
}