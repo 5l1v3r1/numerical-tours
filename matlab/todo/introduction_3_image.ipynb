{
 "metadata": {
  "name": "",
  "signature": "sha256:0f84da32250fe2517735ef5a444ee9052b2289c714bc8d1557cd0def30a9632a"
 },
 "nbformat": 3,
 "nbformat_minor": 0,
 "worksheets": [
  {
   "cells": [
    {
     "cell_type": "markdown",
     "metadata": {},
     "source": [
      "Introduction to Image Processing\n",
      "================================\n",
      "$\\newcommand{\\dotp}[2]{\\langle #1, #2 \\rangle}\n",
      "\\newcommand{\\enscond}[2]{\\lbrace #1, #2 \\rbrace}\n",
      "\\newcommand{\\pd}[2]{ \\frac{ \\partial #1}{\\partial #2} }\n",
      "\\newcommand{\\umin}[1]{\\underset{#1}{\\min}\\;}\n",
      "\\newcommand{\\umax}[1]{\\underset{#1}{\\max}\\;}\n",
      "\\newcommand{\\umin}[1]{\\underset{#1}{\\min}\\;}\n",
      "\\newcommand{\\uargmin}[1]{\\underset{#1}{argmin}\\;}\n",
      "\\newcommand{\\norm}[1]{\\|#1\\|}\n",
      "\\newcommand{\\abs}[1]{\\left|#1\\right|}\n",
      "\\newcommand{\\choice}[1]{ \\left\\{  \\begin{array}{l} #1 \\end{array} \\right. }\n",
      "\\newcommand{\\pa}[1]{\\left(#1\\right)}\n",
      "\\newcommand{\\diag}[1]{{diag}\\left( #1 \\right)}\n",
      "\\newcommand{\\qandq}{\\quad\\text{and}\\quad}\n",
      "\\newcommand{\\qwhereq}{\\quad\\text{where}\\quad}\n",
      "\\newcommand{\\qifq}{ \\quad \\text{if} \\quad }\n",
      "\\newcommand{\\qarrq}{ \\quad \\Longrightarrow \\quad }\n",
      "\\newcommand{\\ZZ}{\\mathbb{Z}}\n",
      "\\newcommand{\\CC}{\\mathbb{C}}\n",
      "\\newcommand{\\RR}{\\mathbb{R}}\n",
      "\\newcommand{\\EE}{\\mathbb{E}}\n",
      "\\newcommand{\\Zz}{\\mathcal{Z}}\n",
      "\\newcommand{\\Ww}{\\mathcal{W}}\n",
      "\\newcommand{\\Vv}{\\mathcal{V}}\n",
      "\\newcommand{\\Nn}{\\mathcal{N}}\n",
      "\\newcommand{\\NN}{\\mathcal{N}}\n",
      "\\newcommand{\\Hh}{\\mathcal{H}}\n",
      "\\newcommand{\\Bb}{\\mathcal{B}}\n",
      "\\newcommand{\\Ee}{\\mathcal{E}}\n",
      "\\newcommand{\\Cc}{\\mathcal{C}}\n",
      "\\newcommand{\\Gg}{\\mathcal{G}}\n",
      "\\newcommand{\\Ss}{\\mathcal{S}}\n",
      "\\newcommand{\\Pp}{\\mathcal{P}}\n",
      "\\newcommand{\\Ff}{\\mathcal{F}}\n",
      "\\newcommand{\\Xx}{\\mathcal{X}}\n",
      "\\newcommand{\\Mm}{\\mathcal{M}}\n",
      "\\newcommand{\\Ii}{\\mathcal{I}}\n",
      "\\newcommand{\\Dd}{\\mathcal{D}}\n",
      "\\newcommand{\\Ll}{\\mathcal{L}}\n",
      "\\newcommand{\\Tt}{\\mathcal{T}}\n",
      "\\newcommand{\\si}{\\sigma}\n",
      "\\newcommand{\\al}{\\alpha}\n",
      "\\newcommand{\\la}{\\lambda}\n",
      "\\newcommand{\\ga}{\\gamma}\n",
      "\\newcommand{\\Ga}{\\Gamma}\n",
      "\\newcommand{\\La}{\\Lambda}\n",
      "\\newcommand{\\si}{\\sigma}\n",
      "\\newcommand{\\Si}{\\Sigma}\n",
      "\\newcommand{\\be}{\\beta}\n",
      "\\newcommand{\\de}{\\delta}\n",
      "\\newcommand{\\De}{\\Delta}\n",
      "\\renewcommand{\\phi}{\\varphi}\n",
      "\\renewcommand{\\th}{\\theta}\n",
      "\\newcommand{\\om}{\\omega}\n",
      "\\newcommand{\\Om}{\\Omega}\n",
      "$"
     ]
    },
    {
     "cell_type": "markdown",
     "metadata": {},
     "source": [
      "This numerical tour explores some basic image processing tasks."
     ]
    },
    {
     "cell_type": "code",
     "collapsed": false,
     "input": [
      "%load_ext pymatbridge"
     ],
     "language": "python",
     "metadata": {},
     "outputs": [
      {
       "output_type": "stream",
       "stream": "stdout",
       "text": [
        "Starting MATLAB on ZMQ socket ipc:///tmp/pymatbridge\n",
        "Send 'exit' command to kill the server\n",
        "............................................................Matlab session timed out after 60 seconds\n",
        "MATLAB failed to start\n"
       ]
      }
     ],
     "prompt_number": 1
    },
    {
     "cell_type": "code",
     "collapsed": false,
     "input": [
      "%%matlab\n",
      "addpath('toolbox_signal')\n",
      "addpath('toolbox_general')\n",
      "addpath('solutions/introduction_3_image')"
     ],
     "language": "python",
     "metadata": {},
     "outputs": []
    },
    {
     "cell_type": "markdown",
     "metadata": {},
     "source": [
      "Installation\n",
      "------------\n",
      "You need to download [numerical_tours](https://github.com/gpeyre/numerical-tours/archive/master.zip)\n",
      "and install the IPython [notebook](http://ipython.org/install.html) to run the code.\n",
      "\n",
      "You must also install the [python-matlab-bridge](http://arokem.github.io/python-matlab-bridge/)."
     ]
    },
    {
     "cell_type": "markdown",
     "metadata": {},
     "source": [
      "Image Loading and Displaying\n",
      "----------------------------\n",
      "Several functions are implemented to load and display images.\n",
      "\n",
      "\n",
      "First we load an image.\n",
      "\n",
      "path to the images"
     ]
    },
    {
     "cell_type": "code",
     "collapsed": false,
     "input": [
      "%%matlab\n",
      "name = 'lena';\n",
      "n = 256;\n",
      "M = load_image(name, []);\n",
      "M = rescale(crop(M,n));"
     ],
     "language": "python",
     "metadata": {},
     "outputs": []
    },
    {
     "cell_type": "markdown",
     "metadata": {},
     "source": [
      "We can display it. It is possible to zoom on it, extract pixels, etc."
     ]
    },
    {
     "cell_type": "code",
     "collapsed": false,
     "input": [
      "%%matlab\n",
      "clf;\n",
      "imageplot(M, 'Original', 1,2,1);\n",
      "imageplot(crop(M,50), 'Zoom', 1,2,2);"
     ],
     "language": "python",
     "metadata": {},
     "outputs": []
    },
    {
     "cell_type": "markdown",
     "metadata": {},
     "source": [
      "Image Modification\n",
      "------------------\n",
      "\n",
      "\n",
      "An image is a 2D array, that can be modified as a matrix."
     ]
    },
    {
     "cell_type": "code",
     "collapsed": false,
     "input": [
      "%%matlab\n",
      "clf;\n",
      "imageplot(-M, '-M', 1,2,1);\n",
      "imageplot(M(n:-1:1,:), 'Flipped', 1,2,2);"
     ],
     "language": "python",
     "metadata": {},
     "outputs": []
    },
    {
     "cell_type": "markdown",
     "metadata": {},
     "source": [
      "Blurring is achieved by computing a convolution with a kernel.\n",
      "\n",
      "compute the low pass kernel"
     ]
    },
    {
     "cell_type": "code",
     "collapsed": false,
     "input": [
      "%%matlab\n",
      "k = 9;\n",
      "h = ones(k,k);\n",
      "h = h/sum(h(:));"
     ],
     "language": "python",
     "metadata": {},
     "outputs": []
    },
    {
     "cell_type": "markdown",
     "metadata": {},
     "source": [
      "compute the convolution"
     ]
    },
    {
     "cell_type": "code",
     "collapsed": false,
     "input": [
      "%%matlab\n",
      "Mh = perform_convolution(M,h);"
     ],
     "language": "python",
     "metadata": {},
     "outputs": []
    },
    {
     "cell_type": "markdown",
     "metadata": {},
     "source": [
      "display"
     ]
    },
    {
     "cell_type": "code",
     "collapsed": false,
     "input": [
      "%%matlab\n",
      "clf;\n",
      "imageplot(M, 'Image', 1,2,1);\n",
      "imageplot(Mh, 'Blurred', 1,2,2);"
     ],
     "language": "python",
     "metadata": {},
     "outputs": []
    },
    {
     "cell_type": "markdown",
     "metadata": {},
     "source": [
      "Several differential and convolution operators are implemented."
     ]
    },
    {
     "cell_type": "code",
     "collapsed": false,
     "input": [
      "%%matlab\n",
      "G = grad(M);\n",
      "clf;\n",
      "imageplot(G(:,:,1), 'd/dx', 1,2,1);\n",
      "imageplot(G(:,:,2), 'd/dy', 1,2,2);"
     ],
     "language": "python",
     "metadata": {},
     "outputs": []
    },
    {
     "cell_type": "markdown",
     "metadata": {},
     "source": [
      "Fourier Transform\n",
      "-----------------\n",
      "The 2D Fourier transform can be used to perform low pass approximation\n",
      "and interpolation (by zero padding).\n",
      "\n",
      "\n",
      "Compute and display the Fourier transform (display over a log scale).\n",
      "The function |fftshift| is useful to put the 0 low frequency in the\n",
      "middle. After |fftshift|, the zero frequency is located at position\n",
      "(n/2+1,n/2+1)."
     ]
    },
    {
     "cell_type": "code",
     "collapsed": false,
     "input": [
      "%%matlab\n",
      "Mf = fft2(M);\n",
      "Lf = fftshift(log( abs(Mf)+1e-1 ));\n",
      "clf;\n",
      "imageplot(M, 'Image', 1,2,1);\n",
      "imageplot(Lf, 'Fourier transform', 1,2,2);"
     ],
     "language": "python",
     "metadata": {},
     "outputs": []
    },
    {
     "cell_type": "markdown",
     "metadata": {},
     "source": [
      "__Exercise 1__\n",
      "\n",
      "To avoid boundary artifacts and estimate really the frequency content of\n",
      "the image (and not of the artifacts!), one needs to multiply |M| by a\n",
      "smooth windowing function |h| and compute |fft2(M.*h)|. Use a sine\n",
      "windowing function. Can you interpret the resulting filter ?\n",
      "ompute kernel h\n",
      "ompute FFT\n",
      "isplay"
     ]
    },
    {
     "cell_type": "code",
     "collapsed": false,
     "input": [
      "%%matlab\n",
      "exo1()"
     ],
     "language": "python",
     "metadata": {},
     "outputs": []
    },
    {
     "cell_type": "code",
     "collapsed": false,
     "input": [
      "%%matlab\n",
      "%% Insert your code here."
     ],
     "language": "python",
     "metadata": {},
     "outputs": []
    },
    {
     "cell_type": "markdown",
     "metadata": {},
     "source": [
      "__Exercise 2__\n",
      "\n",
      "Perform low pass filtering by removing the high frequencies of the\n",
      "spectrum. What do you oberve ?\n",
      "isplay"
     ]
    },
    {
     "cell_type": "code",
     "collapsed": false,
     "input": [
      "%%matlab\n",
      "exo2()"
     ],
     "language": "python",
     "metadata": {},
     "outputs": []
    },
    {
     "cell_type": "code",
     "collapsed": false,
     "input": [
      "%%matlab\n",
      "%% Insert your code here."
     ],
     "language": "python",
     "metadata": {},
     "outputs": []
    },
    {
     "cell_type": "markdown",
     "metadata": {},
     "source": [
      "It is possible to do image interpolating by adding high frequencies"
     ]
    },
    {
     "cell_type": "code",
     "collapsed": false,
     "input": [
      "%%matlab\n",
      "p = 64;\n",
      "n = p*4;\n",
      "M = load_image('boat', 2*p); M = crop(M,p);\n",
      "Mf = fftshift(fft2(M));\n",
      "MF = zeros(n,n);\n",
      "sel = n/2-p/2+1:n/2+p/2;\n",
      "sel = sel;\n",
      "MF(sel, sel) = Mf;\n",
      "MF = fftshift(MF);\n",
      "Mpad = real(ifft2(MF));\n",
      "clf;\n",
      "imageplot( crop(M), 'Image', 1,2,1);\n",
      "imageplot( crop(Mpad), 'Interpolated', 1,2,2);"
     ],
     "language": "python",
     "metadata": {},
     "outputs": []
    },
    {
     "cell_type": "markdown",
     "metadata": {},
     "source": [
      "A better way to do interpolation is to use cubic-splines.\n",
      "It avoid ringing artifact because the spline kernel has a smaller support\n",
      "with less oscillations."
     ]
    },
    {
     "cell_type": "code",
     "collapsed": false,
     "input": [
      "%%matlab\n",
      "Mspline = image_resize(M,n,n);\n",
      "clf;\n",
      "imageplot( crop(Mpad), 'Fourier (sinc)', 1,2,1);\n",
      "imageplot( crop(Mspline), 'Spline', 1,2,2);"
     ],
     "language": "python",
     "metadata": {},
     "outputs": []
    }
   ],
   "metadata": {}
  }
 ]
}