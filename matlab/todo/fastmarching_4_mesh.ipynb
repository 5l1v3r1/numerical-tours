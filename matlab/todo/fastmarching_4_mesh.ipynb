{
 "metadata": {
  "name": "",
  "signature": "sha256:7863289b5c28183e1fafdb3abcca962e98c82d154909e1397b37c126597dfba0"
 },
 "nbformat": 3,
 "nbformat_minor": 0,
 "worksheets": [
  {
   "cells": [
    {
     "cell_type": "markdown",
     "metadata": {},
     "source": [
      "Geodesic Mesh Processing\n",
      "========================\n",
      "$\\newcommand{\\dotp}[2]{\\langle #1, #2 \\rangle}\n",
      "\\newcommand{\\enscond}[2]{\\lbrace #1, #2 \\rbrace}\n",
      "\\newcommand{\\pd}[2]{ \\frac{ \\partial #1}{\\partial #2} }\n",
      "\\newcommand{\\umin}[1]{\\underset{#1}{\\min}\\;}\n",
      "\\newcommand{\\umax}[1]{\\underset{#1}{\\max}\\;}\n",
      "\\newcommand{\\umin}[1]{\\underset{#1}{\\min}\\;}\n",
      "\\newcommand{\\uargmin}[1]{\\underset{#1}{argmin}\\;}\n",
      "\\newcommand{\\norm}[1]{\\|#1\\|}\n",
      "\\newcommand{\\abs}[1]{\\left|#1\\right|}\n",
      "\\newcommand{\\choice}[1]{ \\left\\{  \\begin{array}{l} #1 \\end{array} \\right. }\n",
      "\\newcommand{\\pa}[1]{\\left(#1\\right)}\n",
      "\\newcommand{\\diag}[1]{{diag}\\left( #1 \\right)}\n",
      "\\newcommand{\\qandq}{\\quad\\text{and}\\quad}\n",
      "\\newcommand{\\qwhereq}{\\quad\\text{where}\\quad}\n",
      "\\newcommand{\\qifq}{ \\quad \\text{if} \\quad }\n",
      "\\newcommand{\\qarrq}{ \\quad \\Longrightarrow \\quad }\n",
      "\\newcommand{\\ZZ}{\\mathbb{Z}}\n",
      "\\newcommand{\\CC}{\\mathbb{C}}\n",
      "\\newcommand{\\RR}{\\mathbb{R}}\n",
      "\\newcommand{\\EE}{\\mathbb{E}}\n",
      "\\newcommand{\\Zz}{\\mathcal{Z}}\n",
      "\\newcommand{\\Ww}{\\mathcal{W}}\n",
      "\\newcommand{\\Vv}{\\mathcal{V}}\n",
      "\\newcommand{\\Nn}{\\mathcal{N}}\n",
      "\\newcommand{\\NN}{\\mathcal{N}}\n",
      "\\newcommand{\\Hh}{\\mathcal{H}}\n",
      "\\newcommand{\\Bb}{\\mathcal{B}}\n",
      "\\newcommand{\\Ee}{\\mathcal{E}}\n",
      "\\newcommand{\\Cc}{\\mathcal{C}}\n",
      "\\newcommand{\\Gg}{\\mathcal{G}}\n",
      "\\newcommand{\\Ss}{\\mathcal{S}}\n",
      "\\newcommand{\\Pp}{\\mathcal{P}}\n",
      "\\newcommand{\\Ff}{\\mathcal{F}}\n",
      "\\newcommand{\\Xx}{\\mathcal{X}}\n",
      "\\newcommand{\\Mm}{\\mathcal{M}}\n",
      "\\newcommand{\\Ii}{\\mathcal{I}}\n",
      "\\newcommand{\\Dd}{\\mathcal{D}}\n",
      "\\newcommand{\\Ll}{\\mathcal{L}}\n",
      "\\newcommand{\\Tt}{\\mathcal{T}}\n",
      "\\newcommand{\\si}{\\sigma}\n",
      "\\newcommand{\\al}{\\alpha}\n",
      "\\newcommand{\\la}{\\lambda}\n",
      "\\newcommand{\\ga}{\\gamma}\n",
      "\\newcommand{\\Ga}{\\Gamma}\n",
      "\\newcommand{\\La}{\\Lambda}\n",
      "\\newcommand{\\si}{\\sigma}\n",
      "\\newcommand{\\Si}{\\Sigma}\n",
      "\\newcommand{\\be}{\\beta}\n",
      "\\newcommand{\\de}{\\delta}\n",
      "\\newcommand{\\De}{\\Delta}\n",
      "\\renewcommand{\\phi}{\\varphi}\n",
      "\\renewcommand{\\th}{\\theta}\n",
      "\\newcommand{\\om}{\\omega}\n",
      "\\newcommand{\\Om}{\\Omega}\n",
      "$"
     ]
    },
    {
     "cell_type": "markdown",
     "metadata": {},
     "source": [
      "This tour explores geodesic computations on 3D meshes."
     ]
    },
    {
     "cell_type": "code",
     "collapsed": false,
     "input": [
      "%load_ext pymatbridge"
     ],
     "language": "python",
     "metadata": {},
     "outputs": [
      {
       "output_type": "stream",
       "stream": "stdout",
       "text": [
        "Starting MATLAB on ZMQ socket ipc:///tmp/pymatbridge\n",
        "Send 'exit' command to kill the server\n",
        ".MATLAB started and connected!"
       ]
      },
      {
       "output_type": "stream",
       "stream": "stdout",
       "text": [
        "\n"
       ]
      }
     ],
     "prompt_number": 1
    },
    {
     "cell_type": "code",
     "collapsed": false,
     "input": [
      "%%matlab\n",
      "warning off\n",
      "addpath('toolbox_signal')\n",
      "addpath('toolbox_general')\n",
      "addpath('toolbox_graph')\n",
      "addpath('toolbox_wavelet_meshes')\n",
      "addpath('solutions/fastmarching_4_mesh')"
     ],
     "language": "python",
     "metadata": {},
     "outputs": [],
     "prompt_number": 2
    },
    {
     "cell_type": "markdown",
     "metadata": {},
     "source": [
      "Installation\n",
      "------------\n",
      "You need to download [numerical_tours](https://github.com/gpeyre/numerical-tours/archive/master.zip)\n",
      "and install the IPython [notebook](http://ipython.org/install.html) to run the code.\n",
      "\n",
      "You must also install the [python-matlab-bridge](http://arokem.github.io/python-matlab-bridge/)."
     ]
    },
    {
     "cell_type": "markdown",
     "metadata": {},
     "source": [
      "Distance Computation on 3D Meshes\n",
      "---------------------------------\n",
      "Using the fast marching on a triangulated surface, one can compute the\n",
      "distance from a set of input points.\n",
      "This function also returns the segmentation of the surface into geodesic Voronoi cells.\n",
      "\n",
      "\n",
      "Load a 3D mesh."
     ]
    },
    {
     "cell_type": "code",
     "collapsed": false,
     "input": [
      "%%matlab\n",
      "name = 'elephant-50kv';\n",
      "[vertex,faces] = read_mesh(name);\n",
      "nvert = size(vertex,2);"
     ],
     "language": "python",
     "metadata": {},
     "outputs": [],
     "prompt_number": 3
    },
    {
     "cell_type": "markdown",
     "metadata": {},
     "source": [
      "Starting points for the distance computation."
     ]
    },
    {
     "cell_type": "code",
     "collapsed": false,
     "input": [
      "%%matlab\n",
      "nstart = 15;\n",
      "pstarts = floor(rand(nstart,1)*nvert)+1;\n",
      "options.start_points = pstarts;"
     ],
     "language": "python",
     "metadata": {},
     "outputs": [],
     "prompt_number": 4
    },
    {
     "cell_type": "markdown",
     "metadata": {},
     "source": [
      "No end point for the propagation."
     ]
    },
    {
     "cell_type": "code",
     "collapsed": false,
     "input": [
      "%%matlab\n",
      "clear options;\n",
      "options.end_points = [];"
     ],
     "language": "python",
     "metadata": {},
     "outputs": [],
     "prompt_number": 5
    },
    {
     "cell_type": "markdown",
     "metadata": {},
     "source": [
      "Use a uniform, constant, metric for the propagation."
     ]
    },
    {
     "cell_type": "code",
     "collapsed": false,
     "input": [
      "%%matlab\n",
      "options.W = ones(nvert,1);"
     ],
     "language": "python",
     "metadata": {},
     "outputs": [],
     "prompt_number": 6
    },
    {
     "cell_type": "markdown",
     "metadata": {},
     "source": [
      "Compute the distance using Fast Marching."
     ]
    },
    {
     "cell_type": "code",
     "collapsed": false,
     "input": [
      "%%matlab\n",
      "options.nb_iter_max = Inf;\n",
      "[D,S,Q] = perform_fast_marching_mesh(vertex, faces, pstarts, options);"
     ],
     "language": "python",
     "metadata": {},
     "outputs": [],
     "prompt_number": 7
    },
    {
     "cell_type": "markdown",
     "metadata": {},
     "source": [
      "Display the distance on the 3D mesh."
     ]
    },
    {
     "cell_type": "code",
     "collapsed": false,
     "input": [
      "%%matlab\n",
      "clf;\n",
      "plot_fast_marching_mesh(vertex,faces, D, [], options);"
     ],
     "language": "python",
     "metadata": {},
     "outputs": [
      {
       "ename": "RuntimeError",
       "evalue": "There was an error running the code:\n clf;\nplot_fast_marching_mesh(vertex,faces, D, [], options);\n-----------------------\nAre you sure Matlab is started?",
       "output_type": "pyerr",
       "traceback": [
        "\u001b[0;31m---------------------------------------------------------------------------\u001b[0m\n\u001b[0;31mRuntimeError\u001b[0m                              Traceback (most recent call last)",
        "\u001b[0;32m<ipython-input-8-bd32b47d8016>\u001b[0m in \u001b[0;36m<module>\u001b[0;34m()\u001b[0m\n\u001b[0;32m----> 1\u001b[0;31m \u001b[0mget_ipython\u001b[0m\u001b[0;34m(\u001b[0m\u001b[0;34m)\u001b[0m\u001b[0;34m.\u001b[0m\u001b[0mrun_cell_magic\u001b[0m\u001b[0;34m(\u001b[0m\u001b[0;34m'matlab'\u001b[0m\u001b[0;34m,\u001b[0m \u001b[0;34m''\u001b[0m\u001b[0;34m,\u001b[0m \u001b[0;34m'clf;\\nplot_fast_marching_mesh(vertex,faces, D, [], options);'\u001b[0m\u001b[0;34m)\u001b[0m\u001b[0;34m\u001b[0m\u001b[0m\n\u001b[0m",
        "\u001b[0;32m/Users/gpeyre/anaconda/envs/py3k/lib/python3.3/site-packages/IPython/core/interactiveshell.py\u001b[0m in \u001b[0;36mrun_cell_magic\u001b[0;34m(self, magic_name, line, cell)\u001b[0m\n\u001b[1;32m   2160\u001b[0m             \u001b[0mmagic_arg_s\u001b[0m \u001b[0;34m=\u001b[0m \u001b[0mself\u001b[0m\u001b[0;34m.\u001b[0m\u001b[0mvar_expand\u001b[0m\u001b[0;34m(\u001b[0m\u001b[0mline\u001b[0m\u001b[0;34m,\u001b[0m \u001b[0mstack_depth\u001b[0m\u001b[0;34m)\u001b[0m\u001b[0;34m\u001b[0m\u001b[0m\n\u001b[1;32m   2161\u001b[0m             \u001b[0;32mwith\u001b[0m \u001b[0mself\u001b[0m\u001b[0;34m.\u001b[0m\u001b[0mbuiltin_trap\u001b[0m\u001b[0;34m:\u001b[0m\u001b[0;34m\u001b[0m\u001b[0m\n\u001b[0;32m-> 2162\u001b[0;31m                 \u001b[0mresult\u001b[0m \u001b[0;34m=\u001b[0m \u001b[0mfn\u001b[0m\u001b[0;34m(\u001b[0m\u001b[0mmagic_arg_s\u001b[0m\u001b[0;34m,\u001b[0m \u001b[0mcell\u001b[0m\u001b[0;34m)\u001b[0m\u001b[0;34m\u001b[0m\u001b[0m\n\u001b[0m\u001b[1;32m   2163\u001b[0m             \u001b[0;32mreturn\u001b[0m \u001b[0mresult\u001b[0m\u001b[0;34m\u001b[0m\u001b[0m\n\u001b[1;32m   2164\u001b[0m \u001b[0;34m\u001b[0m\u001b[0m\n",
        "\u001b[0;32m/Users/gpeyre/anaconda/envs/py3k/lib/python3.3/site-packages/pymatbridge/matlab_magic.py\u001b[0m in \u001b[0;36mmatlab\u001b[0;34m(self, line, cell, local_ns)\u001b[0m\n",
        "\u001b[0;32m/Users/gpeyre/anaconda/envs/py3k/lib/python3.3/site-packages/IPython/core/magic.py\u001b[0m in \u001b[0;36m<lambda>\u001b[0;34m(f, *a, **k)\u001b[0m\n\u001b[1;32m    191\u001b[0m     \u001b[0;31m# but it's overkill for just that one bit of state.\u001b[0m\u001b[0;34m\u001b[0m\u001b[0;34m\u001b[0m\u001b[0m\n\u001b[1;32m    192\u001b[0m     \u001b[0;32mdef\u001b[0m \u001b[0mmagic_deco\u001b[0m\u001b[0;34m(\u001b[0m\u001b[0marg\u001b[0m\u001b[0;34m)\u001b[0m\u001b[0;34m:\u001b[0m\u001b[0;34m\u001b[0m\u001b[0m\n\u001b[0;32m--> 193\u001b[0;31m         \u001b[0mcall\u001b[0m \u001b[0;34m=\u001b[0m \u001b[0;32mlambda\u001b[0m \u001b[0mf\u001b[0m\u001b[0;34m,\u001b[0m \u001b[0;34m*\u001b[0m\u001b[0ma\u001b[0m\u001b[0;34m,\u001b[0m \u001b[0;34m**\u001b[0m\u001b[0mk\u001b[0m\u001b[0;34m:\u001b[0m \u001b[0mf\u001b[0m\u001b[0;34m(\u001b[0m\u001b[0;34m*\u001b[0m\u001b[0ma\u001b[0m\u001b[0;34m,\u001b[0m \u001b[0;34m**\u001b[0m\u001b[0mk\u001b[0m\u001b[0;34m)\u001b[0m\u001b[0;34m\u001b[0m\u001b[0m\n\u001b[0m\u001b[1;32m    194\u001b[0m \u001b[0;34m\u001b[0m\u001b[0m\n\u001b[1;32m    195\u001b[0m         \u001b[0;32mif\u001b[0m \u001b[0mcallable\u001b[0m\u001b[0;34m(\u001b[0m\u001b[0marg\u001b[0m\u001b[0;34m)\u001b[0m\u001b[0;34m:\u001b[0m\u001b[0;34m\u001b[0m\u001b[0m\n",
        "\u001b[0;32m/Users/gpeyre/anaconda/envs/py3k/lib/python3.3/site-packages/pymatbridge/matlab_magic.py\u001b[0m in \u001b[0;36mmatlab\u001b[0;34m(self, line, cell, local_ns)\u001b[0m\n\u001b[1;32m    215\u001b[0m             \u001b[0me_s\u001b[0m \u001b[0;34m+=\u001b[0m \u001b[0;34m\"\\n-----------------------\"\u001b[0m\u001b[0;34m\u001b[0m\u001b[0m\n\u001b[1;32m    216\u001b[0m             \u001b[0me_s\u001b[0m \u001b[0;34m+=\u001b[0m \u001b[0;34m\"\\nAre you sure Matlab is started?\"\u001b[0m\u001b[0;34m\u001b[0m\u001b[0m\n\u001b[0;32m--> 217\u001b[0;31m             \u001b[0;32mraise\u001b[0m \u001b[0mRuntimeError\u001b[0m\u001b[0;34m(\u001b[0m\u001b[0me_s\u001b[0m\u001b[0;34m)\u001b[0m\u001b[0;34m\u001b[0m\u001b[0m\n\u001b[0m\u001b[1;32m    218\u001b[0m \u001b[0;34m\u001b[0m\u001b[0m\n\u001b[1;32m    219\u001b[0m \u001b[0;34m\u001b[0m\u001b[0m\n",
        "\u001b[0;31mRuntimeError\u001b[0m: There was an error running the code:\n clf;\nplot_fast_marching_mesh(vertex,faces, D, [], options);\n-----------------------\nAre you sure Matlab is started?"
       ]
      }
     ],
     "prompt_number": 8
    },
    {
     "cell_type": "markdown",
     "metadata": {},
     "source": [
      "Extract precisely the voronoi regions, and display it."
     ]
    },
    {
     "cell_type": "code",
     "collapsed": false,
     "input": [
      "%%matlab\n",
      "[Qexact,DQ, voronoi_edges] = compute_voronoi_mesh(vertex, faces, pstarts, options);\n",
      "options.voronoi_edges = voronoi_edges;\n",
      "plot_fast_marching_mesh(vertex,faces, D, [], options);"
     ],
     "language": "python",
     "metadata": {},
     "outputs": []
    },
    {
     "cell_type": "markdown",
     "metadata": {},
     "source": [
      "__Exercise 1__\n",
      "\n",
      "Using |options.nb_iter_max|, display the progression of the propagation."
     ]
    },
    {
     "cell_type": "code",
     "collapsed": false,
     "input": [
      "%%matlab\n",
      "exo1()"
     ],
     "language": "python",
     "metadata": {},
     "outputs": []
    },
    {
     "cell_type": "code",
     "collapsed": false,
     "input": [
      "%%matlab\n",
      "%% Insert your code here."
     ],
     "language": "python",
     "metadata": {},
     "outputs": []
    },
    {
     "cell_type": "markdown",
     "metadata": {},
     "source": [
      "Geodesic Path Extraction\n",
      "------------------------\n",
      "Geodesic path are extracted using gradient descent of the distance map.\n",
      "\n",
      "\n",
      "Select random endding points, from which the geodesic curves start."
     ]
    },
    {
     "cell_type": "code",
     "collapsed": false,
     "input": [
      "%%matlab\n",
      "nend = 40;\n",
      "pend = floor(rand(nend,1)*nvert)+1;"
     ],
     "language": "python",
     "metadata": {},
     "outputs": []
    },
    {
     "cell_type": "markdown",
     "metadata": {},
     "source": [
      "Compute the vertices 1-ring."
     ]
    },
    {
     "cell_type": "code",
     "collapsed": false,
     "input": [
      "%%matlab\n",
      "vring = compute_vertex_ring(faces);"
     ],
     "language": "python",
     "metadata": {},
     "outputs": []
    },
    {
     "cell_type": "markdown",
     "metadata": {},
     "source": [
      "__Exercise 2__\n",
      "\n",
      "For each point |pend(k)|, compute a discrete geodesic path |path| such\n",
      "that |path(1)=pend(k)| and |D(path(i+1))<D(path(i))|\n",
      "with |[path(i), path(i+1)]| being an edge of the mesh.\n",
      "This means that |path(i+1)| is an element of |vring{path(i)}|.\n",
      "Display the paths on the mesh."
     ]
    },
    {
     "cell_type": "code",
     "collapsed": false,
     "input": [
      "%%matlab\n",
      "exo2()"
     ],
     "language": "python",
     "metadata": {},
     "outputs": []
    },
    {
     "cell_type": "code",
     "collapsed": false,
     "input": [
      "%%matlab\n",
      "%% Insert your code here."
     ],
     "language": "python",
     "metadata": {},
     "outputs": []
    },
    {
     "cell_type": "markdown",
     "metadata": {},
     "source": [
      "In order to extract a smooth path, one needs to use a gradient descent."
     ]
    },
    {
     "cell_type": "code",
     "collapsed": false,
     "input": [
      "%%matlab\n",
      "options.method = 'continuous';\n",
      "paths = compute_geodesic_mesh(D, vertex, faces, pend, options);"
     ],
     "language": "python",
     "metadata": {},
     "outputs": []
    },
    {
     "cell_type": "markdown",
     "metadata": {},
     "source": [
      "Display the smooth paths."
     ]
    },
    {
     "cell_type": "code",
     "collapsed": false,
     "input": [
      "%%matlab\n",
      "plot_fast_marching_mesh(vertex,faces, Q, paths, options);"
     ],
     "language": "python",
     "metadata": {},
     "outputs": []
    },
    {
     "cell_type": "markdown",
     "metadata": {},
     "source": [
      "Curvature-based Speed Functions\n",
      "-------------------------------\n",
      "In order to extract salient features of a surface, one can define a speed\n",
      "function that depends on some curvature measure of the surface.\n",
      "\n",
      "\n",
      "Load a mesh with sharp features."
     ]
    },
    {
     "cell_type": "code",
     "collapsed": false,
     "input": [
      "%%matlab\n",
      "clear options;\n",
      "name = 'fandisk';\n",
      "[vertex,faces] = read_mesh(name);\n",
      "options.name = name;\n",
      "nvert = size(vertex,2);"
     ],
     "language": "python",
     "metadata": {},
     "outputs": []
    },
    {
     "cell_type": "markdown",
     "metadata": {},
     "source": [
      "Display it."
     ]
    },
    {
     "cell_type": "code",
     "collapsed": false,
     "input": [
      "%%matlab\n",
      "clf;\n",
      "plot_mesh(vertex,faces, options);"
     ],
     "language": "python",
     "metadata": {},
     "outputs": []
    },
    {
     "cell_type": "markdown",
     "metadata": {},
     "source": [
      "Compute the curvature."
     ]
    },
    {
     "cell_type": "code",
     "collapsed": false,
     "input": [
      "%%matlab\n",
      "options.verb = 0;\n",
      "[Umin,Umax,Cmin,Cmax] = compute_curvature(vertex,faces,options);"
     ],
     "language": "python",
     "metadata": {},
     "outputs": []
    },
    {
     "cell_type": "markdown",
     "metadata": {},
     "source": [
      "Compute some absolute measure of curvature."
     ]
    },
    {
     "cell_type": "code",
     "collapsed": false,
     "input": [
      "%%matlab\n",
      "C = abs(Cmin)+abs(Cmax);\n",
      "C = min(C,.1);"
     ],
     "language": "python",
     "metadata": {},
     "outputs": []
    },
    {
     "cell_type": "markdown",
     "metadata": {},
     "source": [
      "Display the curvature on the surface"
     ]
    },
    {
     "cell_type": "code",
     "collapsed": false,
     "input": [
      "%%matlab\n",
      "options.face_vertex_color = rescale(C);\n",
      "clf;\n",
      "plot_mesh(vertex,faces,options);\n",
      "colormap jet(256);"
     ],
     "language": "python",
     "metadata": {},
     "outputs": []
    },
    {
     "cell_type": "markdown",
     "metadata": {},
     "source": [
      "Compute a metric that depends on the curvature.\n",
      "Should be small in area that the geodesic should follow."
     ]
    },
    {
     "cell_type": "code",
     "collapsed": false,
     "input": [
      "%%matlab\n",
      "epsilon = .5;\n",
      "W = rescale(-min(C,0.1), .1,1);"
     ],
     "language": "python",
     "metadata": {},
     "outputs": []
    },
    {
     "cell_type": "markdown",
     "metadata": {},
     "source": [
      "Display the metric on the surface"
     ]
    },
    {
     "cell_type": "code",
     "collapsed": false,
     "input": [
      "%%matlab\n",
      "options.face_vertex_color = rescale(W);\n",
      "clf;\n",
      "plot_mesh(vertex,faces,options);\n",
      "colormap jet(256);"
     ],
     "language": "python",
     "metadata": {},
     "outputs": []
    },
    {
     "cell_type": "markdown",
     "metadata": {},
     "source": [
      "Starting points."
     ]
    },
    {
     "cell_type": "code",
     "collapsed": false,
     "input": [
      "%%matlab\n",
      "pstarts = [2564; 16103; 15840];\n",
      "options.start_points = pstarts;"
     ],
     "language": "python",
     "metadata": {},
     "outputs": []
    },
    {
     "cell_type": "markdown",
     "metadata": {},
     "source": [
      "Compute the distance using Fast Marching."
     ]
    },
    {
     "cell_type": "code",
     "collapsed": false,
     "input": [
      "%%matlab\n",
      "options.W = W;\n",
      "options.nb_iter_max = Inf;\n",
      "[D,S,Q] = perform_fast_marching_mesh(vertex, faces, pstarts, options);"
     ],
     "language": "python",
     "metadata": {},
     "outputs": []
    },
    {
     "cell_type": "markdown",
     "metadata": {},
     "source": [
      "Display the distance on the 3D mesh."
     ]
    },
    {
     "cell_type": "code",
     "collapsed": false,
     "input": [
      "%%matlab\n",
      "options.colorfx = 'equalize';\n",
      "clf;\n",
      "plot_fast_marching_mesh(vertex,faces, D, [], options);"
     ],
     "language": "python",
     "metadata": {},
     "outputs": []
    },
    {
     "cell_type": "markdown",
     "metadata": {},
     "source": [
      "__Exercise 3__\n",
      "\n",
      "Using |options.nb_iter_max|, display the progression of the propagation for constant |W|."
     ]
    },
    {
     "cell_type": "code",
     "collapsed": false,
     "input": [
      "%%matlab\n",
      "exo3()"
     ],
     "language": "python",
     "metadata": {},
     "outputs": []
    },
    {
     "cell_type": "code",
     "collapsed": false,
     "input": [
      "%%matlab\n",
      "%% Insert your code here."
     ],
     "language": "python",
     "metadata": {},
     "outputs": []
    },
    {
     "cell_type": "markdown",
     "metadata": {},
     "source": [
      "__Exercise 4__\n",
      "\n",
      "Using |options.nb_iter_max|, display the progression of the propagation for a curvature based |W|."
     ]
    },
    {
     "cell_type": "code",
     "collapsed": false,
     "input": [
      "%%matlab\n",
      "exo4()"
     ],
     "language": "python",
     "metadata": {},
     "outputs": []
    },
    {
     "cell_type": "code",
     "collapsed": false,
     "input": [
      "%%matlab\n",
      "%% Insert your code here."
     ],
     "language": "python",
     "metadata": {},
     "outputs": []
    },
    {
     "cell_type": "markdown",
     "metadata": {},
     "source": [
      "__Exercise 5__\n",
      "\n",
      "Extract geodesics.\n",
      "ompute distances\n",
      "ompute paths\n",
      "isplay"
     ]
    },
    {
     "cell_type": "code",
     "collapsed": false,
     "input": [
      "%%matlab\n",
      "exo5()"
     ],
     "language": "python",
     "metadata": {},
     "outputs": []
    },
    {
     "cell_type": "code",
     "collapsed": false,
     "input": [
      "%%matlab\n",
      "%% Insert your code here."
     ],
     "language": "python",
     "metadata": {},
     "outputs": []
    },
    {
     "cell_type": "markdown",
     "metadata": {},
     "source": [
      "Texture-based Speed Functions\n",
      "-----------------------------\n",
      "One can take into account a texture to design the speed function."
     ]
    },
    {
     "cell_type": "code",
     "collapsed": false,
     "input": [
      "%%matlab\n",
      "clear options;\n",
      "options.base_mesh = 'ico';\n",
      "options.relaxation = 1;\n",
      "options.keep_subdivision = 0;\n",
      "[vertex,faces] = compute_semiregular_sphere(7,options);\n",
      "nvert = size(vertex,2);"
     ],
     "language": "python",
     "metadata": {},
     "outputs": []
    },
    {
     "cell_type": "markdown",
     "metadata": {},
     "source": [
      "Load a function on the mesh."
     ]
    },
    {
     "cell_type": "code",
     "collapsed": false,
     "input": [
      "%%matlab\n",
      "name = 'earth';\n",
      "f = load_spherical_function(name, vertex, options);\n",
      "options.name = name;"
     ],
     "language": "python",
     "metadata": {},
     "outputs": []
    },
    {
     "cell_type": "markdown",
     "metadata": {},
     "source": [
      "Starting points."
     ]
    },
    {
     "cell_type": "code",
     "collapsed": false,
     "input": [
      "%%matlab\n",
      "pstarts = [2844; 5777];\n",
      "options.start_points = pstarts;"
     ],
     "language": "python",
     "metadata": {},
     "outputs": []
    },
    {
     "cell_type": "markdown",
     "metadata": {},
     "source": [
      "Display the function."
     ]
    },
    {
     "cell_type": "code",
     "collapsed": false,
     "input": [
      "%%matlab\n",
      "clf;\n",
      "plot_fast_marching_mesh(vertex,faces, f, [], options);\n",
      "colormap gray(256);"
     ],
     "language": "python",
     "metadata": {},
     "outputs": []
    },
    {
     "cell_type": "markdown",
     "metadata": {},
     "source": [
      "Load and display the gradient magnitude of the function."
     ]
    },
    {
     "cell_type": "code",
     "collapsed": false,
     "input": [
      "%%matlab\n",
      "g = load_spherical_function('earth-grad', vertex, options);"
     ],
     "language": "python",
     "metadata": {},
     "outputs": []
    },
    {
     "cell_type": "markdown",
     "metadata": {},
     "source": [
      "Display it."
     ]
    },
    {
     "cell_type": "code",
     "collapsed": false,
     "input": [
      "%%matlab\n",
      "clf;\n",
      "plot_fast_marching_mesh(vertex,faces, g, [], options);\n",
      "colormap gray(256);"
     ],
     "language": "python",
     "metadata": {},
     "outputs": []
    },
    {
     "cell_type": "markdown",
     "metadata": {},
     "source": [
      "Design a metric."
     ]
    },
    {
     "cell_type": "code",
     "collapsed": false,
     "input": [
      "%%matlab\n",
      "W = rescale(-min(g,10),0.01,1);"
     ],
     "language": "python",
     "metadata": {},
     "outputs": []
    },
    {
     "cell_type": "markdown",
     "metadata": {},
     "source": [
      "Display it."
     ]
    },
    {
     "cell_type": "code",
     "collapsed": false,
     "input": [
      "%%matlab\n",
      "clf;\n",
      "plot_fast_marching_mesh(vertex,faces, W, [], options);\n",
      "colormap gray(256);"
     ],
     "language": "python",
     "metadata": {},
     "outputs": []
    },
    {
     "cell_type": "markdown",
     "metadata": {},
     "source": [
      "__Exercise 6__\n",
      "\n",
      "Using |options.nb_iter_max|, display the progression of the propagation for a curvature based |W|."
     ]
    },
    {
     "cell_type": "code",
     "collapsed": false,
     "input": [
      "%%matlab\n",
      "exo6()"
     ],
     "language": "python",
     "metadata": {},
     "outputs": []
    },
    {
     "cell_type": "code",
     "collapsed": false,
     "input": [
      "%%matlab\n",
      "%% Insert your code here."
     ],
     "language": "python",
     "metadata": {},
     "outputs": []
    },
    {
     "cell_type": "markdown",
     "metadata": {},
     "source": [
      "__Exercise 7__\n",
      "\n",
      "Extract geodesics.\n",
      "ompute distances\n",
      "ompute paths\n",
      "isplay"
     ]
    },
    {
     "cell_type": "code",
     "collapsed": false,
     "input": [
      "%%matlab\n",
      "exo7()"
     ],
     "language": "python",
     "metadata": {},
     "outputs": []
    },
    {
     "cell_type": "code",
     "collapsed": false,
     "input": [
      "%%matlab\n",
      "%% Insert your code here."
     ],
     "language": "python",
     "metadata": {},
     "outputs": []
    }
   ],
   "metadata": {}
  }
 ]
}