{
 "metadata": {
  "name": ""
 },
 "nbformat": 3,
 "nbformat_minor": 0,
 "worksheets": [
  {
   "cells": [
    {
     "cell_type": "markdown",
     "metadata": {},
     "source": [
      "Le traitement num rique des images\n",
      "==================================\n",
      "$\\newcommand{\\dotp}[2]{\\langle #1, #2 \\rangle}\n",
      "\\newcommand{\\enscond}[2]{\\lbrace #1, #2 \\rbrace}\n",
      "\\newcommand{\\pd}[2]{ \\frac{ \\partial #1}{\\partial #2} }\n",
      "\\newcommand{\\umin}[1]{\\underset{#1}{\\min}\\;}\n",
      "\\newcommand{\\umax}[1]{\\underset{#1}{\\max}\\;}\n",
      "\\newcommand{\\umin}[1]{\\underset{#1}{\\min}\\;}\n",
      "\\newcommand{\\uargmin}[1]{\\underset{#1}{argmin}\\;}\n",
      "\\newcommand{\\norm}[1]{\\|#1\\|}\n",
      "\\newcommand{\\abs}[1]{\\left|#1\\right|}\n",
      "\\newcommand{\\choice}[1]{ \\left\\{  \\begin{array}{l} #1 \\end{array} \\right. }\n",
      "\\newcommand{\\pa}[1]{\\left(#1\\right)}\n",
      "\\newcommand{\\diag}[1]{{diag}\\left( #1 \\right)}\n",
      "\\newcommand{\\qandq}{\\quad\\text{and}\\quad}\n",
      "\\newcommand{\\qwhereq}{\\quad\\text{where}\\quad}\n",
      "\\newcommand{\\qifq}{ \\quad \\text{if} \\quad }\n",
      "\\newcommand{\\qarrq}{ \\quad \\Longrightarrow \\quad }\n",
      "\\newcommand{\\ZZ}{\\mathbb{Z}}\n",
      "\\newcommand{\\CC}{\\mathbb{C}}\n",
      "\\newcommand{\\RR}{\\mathbb{R}}\n",
      "\\newcommand{\\EE}{\\mathbb{E}}\n",
      "\\newcommand{\\Zz}{\\mathcal{Z}}\n",
      "\\newcommand{\\Ww}{\\mathcal{W}}\n",
      "\\newcommand{\\Vv}{\\mathcal{V}}\n",
      "\\newcommand{\\Nn}{\\mathcal{N}}\n",
      "\\newcommand{\\NN}{\\mathcal{N}}\n",
      "\\newcommand{\\Hh}{\\mathcal{H}}\n",
      "\\newcommand{\\Bb}{\\mathcal{B}}\n",
      "\\newcommand{\\Ee}{\\mathcal{E}}\n",
      "\\newcommand{\\Cc}{\\mathcal{C}}\n",
      "\\newcommand{\\Gg}{\\mathcal{G}}\n",
      "\\newcommand{\\Ss}{\\mathcal{S}}\n",
      "\\newcommand{\\Pp}{\\mathcal{P}}\n",
      "\\newcommand{\\Ff}{\\mathcal{F}}\n",
      "\\newcommand{\\Xx}{\\mathcal{X}}\n",
      "\\newcommand{\\Mm}{\\mathcal{M}}\n",
      "\\newcommand{\\Ii}{\\mathcal{I}}\n",
      "\\newcommand{\\Dd}{\\mathcal{D}}\n",
      "\\newcommand{\\Ll}{\\mathcal{L}}\n",
      "\\newcommand{\\Tt}{\\mathcal{T}}\n",
      "\\newcommand{\\si}{\\sigma}\n",
      "\\newcommand{\\al}{\\alpha}\n",
      "\\newcommand{\\la}{\\lambda}\n",
      "\\newcommand{\\ga}{\\gamma}\n",
      "\\newcommand{\\Ga}{\\Gamma}\n",
      "\\newcommand{\\La}{\\Lambda}\n",
      "\\newcommand{\\si}{\\sigma}\n",
      "\\newcommand{\\Si}{\\Sigma}\n",
      "\\newcommand{\\be}{\\beta}\n",
      "\\newcommand{\\de}{\\delta}\n",
      "\\newcommand{\\De}{\\Delta}\n",
      "\\renewcommand{\\phi}{\\varphi}\n",
      "\\renewcommand{\\th}{\\theta}\n",
      "\\newcommand{\\om}{\\omega}\n",
      "\\newcommand{\\Om}{\\Omega}\n",
      "$"
     ]
    },
    {
     "cell_type": "markdown",
     "metadata": {},
     "source": [
      "Cette page reprend\n",
      "<http://images.math.cnrs.fr/Le-traitement-numerique-des-images.html\n",
      "l'article publi  sur le site web Images des math matiques>.\n",
      "\n",
      "\n",
      "Les appareils num riques photographient de mani re tr s pr cise le monde\n",
      "qui nous entoure. L'utilisateur souhaite pouvoir stocker avec un encombrement\n",
      "minimal ses photos sur son disque dur. Il souhaite  galement pouvoir les retoucher\n",
      "afin d'am liorer leur qualit . Cet article pr sente les outils math matiques et\n",
      "informatiques qui permettent d'effectuer ces diff rentes t ches.\n",
      "\n",
      "\n",
      "Cet article pr sente quelques concepts du <http://fr.wikipedia.org/wiki/Traitement_d'images traitement>\n",
      "math matique des\n",
      "images num riques. Ces traitements permettent de stocker plus facilement\n",
      "les images et d'am liorer leur qualit . Les math matiques utilis es dans\n",
      "cet article correspondent au niveau de la classe de troisi me. Les mots\n",
      "cl s en rouge pointent vers les pages <http://fr.wikipedia.org/ Wikip dia>\n",
      "correspondantes. Ils sont\n",
      "repris   la fin de l'article dans un glossaire.\n",
      "\n",
      "\n",
      "_Mot clefs :_ image, bits, carr , racine carr e, inverse, logarithme, moyenne, m diane."
     ]
    },
    {
     "cell_type": "code",
     "collapsed": false,
     "input": [
      "%load_ext pymatbridge"
     ],
     "language": "python",
     "metadata": {},
     "outputs": [
      {
       "output_type": "stream",
       "stream": "stdout",
       "text": [
        "Starting MATLAB on ZMQ socket ipc:///tmp/pymatbridge\n",
        "Send 'exit' command to kill the server\n",
        "."
       ]
      },
      {
       "output_type": "stream",
       "stream": "stdout",
       "text": [
        "."
       ]
      },
      {
       "output_type": "stream",
       "stream": "stdout",
       "text": [
        "."
       ]
      },
      {
       "output_type": "stream",
       "stream": "stdout",
       "text": [
        "."
       ]
      },
      {
       "output_type": "stream",
       "stream": "stdout",
       "text": [
        "."
       ]
      },
      {
       "output_type": "stream",
       "stream": "stdout",
       "text": [
        "."
       ]
      },
      {
       "output_type": "stream",
       "stream": "stdout",
       "text": [
        "."
       ]
      },
      {
       "output_type": "stream",
       "stream": "stdout",
       "text": [
        "."
       ]
      },
      {
       "output_type": "stream",
       "stream": "stdout",
       "text": [
        "."
       ]
      },
      {
       "output_type": "stream",
       "stream": "stdout",
       "text": [
        "."
       ]
      },
      {
       "output_type": "stream",
       "stream": "stdout",
       "text": [
        "."
       ]
      },
      {
       "output_type": "stream",
       "stream": "stdout",
       "text": [
        "."
       ]
      },
      {
       "output_type": "stream",
       "stream": "stdout",
       "text": [
        "."
       ]
      },
      {
       "output_type": "stream",
       "stream": "stdout",
       "text": [
        "."
       ]
      },
      {
       "output_type": "stream",
       "stream": "stdout",
       "text": [
        "."
       ]
      },
      {
       "output_type": "stream",
       "stream": "stdout",
       "text": [
        "."
       ]
      },
      {
       "output_type": "stream",
       "stream": "stdout",
       "text": [
        "."
       ]
      },
      {
       "output_type": "stream",
       "stream": "stdout",
       "text": [
        "."
       ]
      },
      {
       "output_type": "stream",
       "stream": "stdout",
       "text": [
        "."
       ]
      },
      {
       "output_type": "stream",
       "stream": "stdout",
       "text": [
        "."
       ]
      },
      {
       "output_type": "stream",
       "stream": "stdout",
       "text": [
        "."
       ]
      },
      {
       "output_type": "stream",
       "stream": "stdout",
       "text": [
        "."
       ]
      },
      {
       "output_type": "stream",
       "stream": "stdout",
       "text": [
        "."
       ]
      },
      {
       "output_type": "stream",
       "stream": "stdout",
       "text": [
        "."
       ]
      },
      {
       "output_type": "stream",
       "stream": "stdout",
       "text": [
        "."
       ]
      },
      {
       "output_type": "stream",
       "stream": "stdout",
       "text": [
        "."
       ]
      },
      {
       "output_type": "stream",
       "stream": "stdout",
       "text": [
        "."
       ]
      },
      {
       "output_type": "stream",
       "stream": "stdout",
       "text": [
        "."
       ]
      },
      {
       "output_type": "stream",
       "stream": "stdout",
       "text": [
        "."
       ]
      },
      {
       "output_type": "stream",
       "stream": "stdout",
       "text": [
        "."
       ]
      },
      {
       "output_type": "stream",
       "stream": "stdout",
       "text": [
        "."
       ]
      },
      {
       "output_type": "stream",
       "stream": "stdout",
       "text": [
        "."
       ]
      },
      {
       "output_type": "stream",
       "stream": "stdout",
       "text": [
        "."
       ]
      },
      {
       "output_type": "stream",
       "stream": "stdout",
       "text": [
        "."
       ]
      },
      {
       "output_type": "stream",
       "stream": "stdout",
       "text": [
        "."
       ]
      },
      {
       "output_type": "stream",
       "stream": "stdout",
       "text": [
        "."
       ]
      },
      {
       "output_type": "stream",
       "stream": "stdout",
       "text": [
        "."
       ]
      },
      {
       "output_type": "stream",
       "stream": "stdout",
       "text": [
        "."
       ]
      },
      {
       "output_type": "stream",
       "stream": "stdout",
       "text": [
        "."
       ]
      },
      {
       "output_type": "stream",
       "stream": "stdout",
       "text": [
        "."
       ]
      },
      {
       "output_type": "stream",
       "stream": "stdout",
       "text": [
        "."
       ]
      },
      {
       "output_type": "stream",
       "stream": "stdout",
       "text": [
        "."
       ]
      },
      {
       "output_type": "stream",
       "stream": "stdout",
       "text": [
        "."
       ]
      },
      {
       "output_type": "stream",
       "stream": "stdout",
       "text": [
        "."
       ]
      },
      {
       "output_type": "stream",
       "stream": "stdout",
       "text": [
        "."
       ]
      },
      {
       "output_type": "stream",
       "stream": "stdout",
       "text": [
        "."
       ]
      },
      {
       "output_type": "stream",
       "stream": "stdout",
       "text": [
        "."
       ]
      },
      {
       "output_type": "stream",
       "stream": "stdout",
       "text": [
        "."
       ]
      },
      {
       "output_type": "stream",
       "stream": "stdout",
       "text": [
        "."
       ]
      },
      {
       "output_type": "stream",
       "stream": "stdout",
       "text": [
        "."
       ]
      },
      {
       "output_type": "stream",
       "stream": "stdout",
       "text": [
        "."
       ]
      },
      {
       "output_type": "stream",
       "stream": "stdout",
       "text": [
        "."
       ]
      },
      {
       "output_type": "stream",
       "stream": "stdout",
       "text": [
        "."
       ]
      },
      {
       "output_type": "stream",
       "stream": "stdout",
       "text": [
        "."
       ]
      },
      {
       "output_type": "stream",
       "stream": "stdout",
       "text": [
        "."
       ]
      },
      {
       "output_type": "stream",
       "stream": "stdout",
       "text": [
        "."
       ]
      },
      {
       "output_type": "stream",
       "stream": "stdout",
       "text": [
        "."
       ]
      },
      {
       "output_type": "stream",
       "stream": "stdout",
       "text": [
        "."
       ]
      },
      {
       "output_type": "stream",
       "stream": "stdout",
       "text": [
        "."
       ]
      },
      {
       "output_type": "stream",
       "stream": "stdout",
       "text": [
        "."
       ]
      },
      {
       "output_type": "stream",
       "stream": "stdout",
       "text": [
        "Matlab session timed out after 60 seconds\n",
        "MATLAB failed to start\n"
       ]
      }
     ],
     "prompt_number": 2
    },
    {
     "cell_type": "code",
     "collapsed": false,
     "input": [
      "%%matlab\n",
      "addpath('toolbox_signal')\n",
      "addpath('toolbox_general')\n",
      "addpath('solutions/introduction_6_elementary_fr')"
     ],
     "language": "python",
     "metadata": {},
     "outputs": [
      {
       "ename": "ZMQError",
       "evalue": "Operation cannot be accomplished in current state",
       "output_type": "pyerr",
       "traceback": [
        "\u001b[0;31m---------------------------------------------------------------------------\u001b[0m\n\u001b[0;31mZMQError\u001b[0m                                  Traceback (most recent call last)",
        "\u001b[0;32m<ipython-input-3-cef7dbfd91a6>\u001b[0m in \u001b[0;36m<module>\u001b[0;34m()\u001b[0m\n\u001b[0;32m----> 1\u001b[0;31m \u001b[0mget_ipython\u001b[0m\u001b[0;34m(\u001b[0m\u001b[0;34m)\u001b[0m\u001b[0;34m.\u001b[0m\u001b[0mrun_cell_magic\u001b[0m\u001b[0;34m(\u001b[0m\u001b[0;34mu'matlab'\u001b[0m\u001b[0;34m,\u001b[0m \u001b[0;34mu''\u001b[0m\u001b[0;34m,\u001b[0m \u001b[0;34mu\"addpath('toolbox_signal')\\naddpath('toolbox_general')\\naddpath('solutions/introduction_6_elementary_fr')\"\u001b[0m\u001b[0;34m)\u001b[0m\u001b[0;34m\u001b[0m\u001b[0m\n\u001b[0m",
        "\u001b[0;32m/Users/gpeyre/anaconda/envs/py2k/lib/python2.6/site-packages/IPython/core/interactiveshell.pyc\u001b[0m in \u001b[0;36mrun_cell_magic\u001b[0;34m(self, magic_name, line, cell)\u001b[0m\n\u001b[1;32m   2120\u001b[0m             \u001b[0mmagic_arg_s\u001b[0m \u001b[0;34m=\u001b[0m \u001b[0mself\u001b[0m\u001b[0;34m.\u001b[0m\u001b[0mvar_expand\u001b[0m\u001b[0;34m(\u001b[0m\u001b[0mline\u001b[0m\u001b[0;34m,\u001b[0m \u001b[0mstack_depth\u001b[0m\u001b[0;34m)\u001b[0m\u001b[0;34m\u001b[0m\u001b[0m\n\u001b[1;32m   2121\u001b[0m             \u001b[0;32mwith\u001b[0m \u001b[0mself\u001b[0m\u001b[0;34m.\u001b[0m\u001b[0mbuiltin_trap\u001b[0m\u001b[0;34m:\u001b[0m\u001b[0;34m\u001b[0m\u001b[0m\n\u001b[0;32m-> 2122\u001b[0;31m                 \u001b[0mresult\u001b[0m \u001b[0;34m=\u001b[0m \u001b[0mfn\u001b[0m\u001b[0;34m(\u001b[0m\u001b[0mmagic_arg_s\u001b[0m\u001b[0;34m,\u001b[0m \u001b[0mcell\u001b[0m\u001b[0;34m)\u001b[0m\u001b[0;34m\u001b[0m\u001b[0m\n\u001b[0m\u001b[1;32m   2123\u001b[0m             \u001b[0;32mreturn\u001b[0m \u001b[0mresult\u001b[0m\u001b[0;34m\u001b[0m\u001b[0m\n\u001b[1;32m   2124\u001b[0m \u001b[0;34m\u001b[0m\u001b[0m\n",
        "\u001b[0;32m/Users/gpeyre/anaconda/envs/py2k/lib/python2.6/site-packages/pymatbridge/matlab_magic.pyc\u001b[0m in \u001b[0;36mmatlab\u001b[0;34m(self, line, cell, local_ns)\u001b[0m\n",
        "\u001b[0;32m/Users/gpeyre/anaconda/envs/py2k/lib/python2.6/site-packages/IPython/core/magic.pyc\u001b[0m in \u001b[0;36m<lambda>\u001b[0;34m(f, *a, **k)\u001b[0m\n\u001b[1;32m    189\u001b[0m     \u001b[0;31m# but it's overkill for just that one bit of state.\u001b[0m\u001b[0;34m\u001b[0m\u001b[0;34m\u001b[0m\u001b[0m\n\u001b[1;32m    190\u001b[0m     \u001b[0;32mdef\u001b[0m \u001b[0mmagic_deco\u001b[0m\u001b[0;34m(\u001b[0m\u001b[0marg\u001b[0m\u001b[0;34m)\u001b[0m\u001b[0;34m:\u001b[0m\u001b[0;34m\u001b[0m\u001b[0m\n\u001b[0;32m--> 191\u001b[0;31m         \u001b[0mcall\u001b[0m \u001b[0;34m=\u001b[0m \u001b[0;32mlambda\u001b[0m \u001b[0mf\u001b[0m\u001b[0;34m,\u001b[0m \u001b[0;34m*\u001b[0m\u001b[0ma\u001b[0m\u001b[0;34m,\u001b[0m \u001b[0;34m**\u001b[0m\u001b[0mk\u001b[0m\u001b[0;34m:\u001b[0m \u001b[0mf\u001b[0m\u001b[0;34m(\u001b[0m\u001b[0;34m*\u001b[0m\u001b[0ma\u001b[0m\u001b[0;34m,\u001b[0m \u001b[0;34m**\u001b[0m\u001b[0mk\u001b[0m\u001b[0;34m)\u001b[0m\u001b[0;34m\u001b[0m\u001b[0m\n\u001b[0m\u001b[1;32m    192\u001b[0m \u001b[0;34m\u001b[0m\u001b[0m\n\u001b[1;32m    193\u001b[0m         \u001b[0;32mif\u001b[0m \u001b[0mcallable\u001b[0m\u001b[0;34m(\u001b[0m\u001b[0marg\u001b[0m\u001b[0;34m)\u001b[0m\u001b[0;34m:\u001b[0m\u001b[0;34m\u001b[0m\u001b[0m\n",
        "\u001b[0;32m/Users/gpeyre/anaconda/envs/py2k/lib/python2.6/site-packages/pymatbridge/matlab_magic.pyc\u001b[0m in \u001b[0;36mmatlab\u001b[0;34m(self, line, cell, local_ns)\u001b[0m\n\u001b[1;32m    211\u001b[0m             \u001b[0;32melse\u001b[0m\u001b[0;34m:\u001b[0m\u001b[0;34m\u001b[0m\u001b[0m\n\u001b[1;32m    212\u001b[0m                 \u001b[0me_s\u001b[0m \u001b[0;34m=\u001b[0m \u001b[0;34m\"There was an error running the code:\\n %s\"\u001b[0m\u001b[0;34m%\u001b[0m\u001b[0mcode\u001b[0m\u001b[0;34m\u001b[0m\u001b[0m\n\u001b[0;32m--> 213\u001b[0;31m                 \u001b[0mresult_dict\u001b[0m \u001b[0;34m=\u001b[0m \u001b[0mself\u001b[0m\u001b[0;34m.\u001b[0m\u001b[0meval\u001b[0m\u001b[0;34m(\u001b[0m\u001b[0mcode\u001b[0m\u001b[0;34m)\u001b[0m\u001b[0;34m\u001b[0m\u001b[0m\n\u001b[0m\u001b[1;32m    214\u001b[0m         \u001b[0;32mexcept\u001b[0m \u001b[0mURLError\u001b[0m\u001b[0;34m:\u001b[0m\u001b[0;34m\u001b[0m\u001b[0m\n\u001b[1;32m    215\u001b[0m             \u001b[0me_s\u001b[0m \u001b[0;34m+=\u001b[0m \u001b[0;34m\"\\n-----------------------\"\u001b[0m\u001b[0;34m\u001b[0m\u001b[0m\n",
        "\u001b[0;32m/Users/gpeyre/anaconda/envs/py2k/lib/python2.6/site-packages/pymatbridge/matlab_magic.pyc\u001b[0m in \u001b[0;36meval\u001b[0;34m(self, line)\u001b[0m\n\u001b[1;32m    115\u001b[0m         \u001b[0mParse\u001b[0m \u001b[0;32mand\u001b[0m \u001b[0mevaluate\u001b[0m \u001b[0ma\u001b[0m \u001b[0msingle\u001b[0m \u001b[0mline\u001b[0m \u001b[0mof\u001b[0m \u001b[0mmatlab\u001b[0m\u001b[0;34m\u001b[0m\u001b[0m\n\u001b[1;32m    116\u001b[0m         \"\"\"\n\u001b[0;32m--> 117\u001b[0;31m         \u001b[0mrun_dict\u001b[0m \u001b[0;34m=\u001b[0m \u001b[0mself\u001b[0m\u001b[0;34m.\u001b[0m\u001b[0mMatlab\u001b[0m\u001b[0;34m.\u001b[0m\u001b[0mrun_code\u001b[0m\u001b[0;34m(\u001b[0m\u001b[0mline\u001b[0m\u001b[0;34m,\u001b[0m \u001b[0mmaxtime\u001b[0m\u001b[0;34m=\u001b[0m\u001b[0mself\u001b[0m\u001b[0;34m.\u001b[0m\u001b[0mMatlab\u001b[0m\u001b[0;34m.\u001b[0m\u001b[0mmaxtime\u001b[0m\u001b[0;34m)\u001b[0m\u001b[0;34m\u001b[0m\u001b[0m\n\u001b[0m\u001b[1;32m    118\u001b[0m \u001b[0;34m\u001b[0m\u001b[0m\n\u001b[1;32m    119\u001b[0m         \u001b[0;32mif\u001b[0m \u001b[0mrun_dict\u001b[0m\u001b[0;34m[\u001b[0m\u001b[0;34m'success'\u001b[0m\u001b[0;34m]\u001b[0m \u001b[0;34m==\u001b[0m \u001b[0;34m'false'\u001b[0m\u001b[0;34m:\u001b[0m\u001b[0;34m\u001b[0m\u001b[0m\n",
        "\u001b[0;32m/Users/gpeyre/anaconda/envs/py2k/lib/python2.6/site-packages/pymatbridge/pymatbridge.pyc\u001b[0m in \u001b[0;36mrun_code\u001b[0;34m(self, code, maxtime)\u001b[0m\n\u001b[1;32m    211\u001b[0m         \u001b[0mreq\u001b[0m\u001b[0;34m[\u001b[0m\u001b[0;34m'code'\u001b[0m\u001b[0;34m]\u001b[0m \u001b[0;34m=\u001b[0m \u001b[0mcode\u001b[0m\u001b[0;34m\u001b[0m\u001b[0m\n\u001b[1;32m    212\u001b[0m         \u001b[0mreq\u001b[0m \u001b[0;34m=\u001b[0m \u001b[0mjson\u001b[0m\u001b[0;34m.\u001b[0m\u001b[0mdumps\u001b[0m\u001b[0;34m(\u001b[0m\u001b[0mreq\u001b[0m\u001b[0;34m,\u001b[0m \u001b[0mcls\u001b[0m\u001b[0;34m=\u001b[0m\u001b[0mComplexEncoder\u001b[0m\u001b[0;34m)\u001b[0m\u001b[0;34m\u001b[0m\u001b[0m\n\u001b[0;32m--> 213\u001b[0;31m         \u001b[0mself\u001b[0m\u001b[0;34m.\u001b[0m\u001b[0msocket\u001b[0m\u001b[0;34m.\u001b[0m\u001b[0msend\u001b[0m\u001b[0;34m(\u001b[0m\u001b[0mreq\u001b[0m\u001b[0;34m)\u001b[0m\u001b[0;34m\u001b[0m\u001b[0m\n\u001b[0m\u001b[1;32m    214\u001b[0m         \u001b[0mresp\u001b[0m \u001b[0;34m=\u001b[0m \u001b[0mself\u001b[0m\u001b[0;34m.\u001b[0m\u001b[0msocket\u001b[0m\u001b[0;34m.\u001b[0m\u001b[0mrecv_string\u001b[0m\u001b[0;34m(\u001b[0m\u001b[0;34m)\u001b[0m\u001b[0;34m\u001b[0m\u001b[0m\n\u001b[1;32m    215\u001b[0m         \u001b[0mresp\u001b[0m \u001b[0;34m=\u001b[0m \u001b[0mjson\u001b[0m\u001b[0;34m.\u001b[0m\u001b[0mloads\u001b[0m\u001b[0;34m(\u001b[0m\u001b[0mresp\u001b[0m\u001b[0;34m,\u001b[0m \u001b[0mobject_hook\u001b[0m\u001b[0;34m=\u001b[0m\u001b[0mas_complex\u001b[0m\u001b[0;34m)\u001b[0m\u001b[0;34m\u001b[0m\u001b[0m\n",
        "\u001b[0;32m/Users/gpeyre/anaconda/envs/py2k/lib/python2.6/site-packages/zmq/backend/cython/socket.so\u001b[0m in \u001b[0;36mzmq.backend.cython.socket.Socket.send (zmq/backend/cython/socket.c:5319)\u001b[0;34m()\u001b[0m\n",
        "\u001b[0;32m/Users/gpeyre/anaconda/envs/py2k/lib/python2.6/site-packages/zmq/backend/cython/socket.so\u001b[0m in \u001b[0;36mzmq.backend.cython.socket.Socket.send (zmq/backend/cython/socket.c:5086)\u001b[0;34m()\u001b[0m\n",
        "\u001b[0;32m/Users/gpeyre/anaconda/envs/py2k/lib/python2.6/site-packages/zmq/backend/cython/socket.so\u001b[0m in \u001b[0;36mzmq.backend.cython.socket._send_copy (zmq/backend/cython/socket.c:2081)\u001b[0;34m()\u001b[0m\n",
        "\u001b[0;32m/Users/gpeyre/anaconda/envs/py2k/lib/python2.6/site-packages/zmq/backend/cython/socket.so\u001b[0m in \u001b[0;36mzmq.backend.cython.checkrc._check_rc (zmq/backend/cython/socket.c:6032)\u001b[0;34m()\u001b[0m\n",
        "\u001b[0;31mZMQError\u001b[0m: Operation cannot be accomplished in current state"
       ]
      }
     ],
     "prompt_number": 3
    },
    {
     "cell_type": "markdown",
     "metadata": {},
     "source": [
      "Installation\n",
      "------------\n",
      "You need to download [numerical_tours](https://github.com/gpeyre/numerical-tours/archive/master.zip)\n",
      "and install the IPython [notebook](http://ipython.org/install.html) to run the code.\n",
      "\n",
      "You must also install the [python-matlab-bridge](http://arokem.github.io/python-matlab-bridge/)."
     ]
    },
    {
     "cell_type": "markdown",
     "metadata": {},
     "source": [
      "Les pixels d'une image\n",
      "----------------------\n",
      "Une <http://fr.wikipedia.org/wiki/Image_num%C3%A9rique image num rique>\n",
      "en niveaux de gris est un tableau de valeurs. Chaque\n",
      "case de ce tableau, qui stocke une valeur, se nomme un <http://fr.wikipedia.org/wiki/Pixel pixel>.\n",
      "En notant $n$ le nombre de lignes et $p$ le nombre de colonnes de l'image,\n",
      "on manipule ainsi un tableau de $n \\times p$ pixels.\n",
      "\n",
      "\n",
      "\n",
      "La figure ci-dessous montre une visualisation d'un tableau carr  avec\n",
      "$n=p=240$, ce qui repr sente  $240\\times 240$=57600 pixels. Les\n",
      "<http://fr.wikipedia.org/wiki/Appareil_photographique_num%C3%A9rique appareils photos num riques>\n",
      "peuvent enregistrer des images beaucoup plus grandes,\n",
      "avec plusieurs <http://en.wikipedia.org/wiki/Gigapixel_image millions de pixels>."
     ]
    },
    {
     "cell_type": "code",
     "collapsed": false,
     "input": [
      "%%matlab\n",
      "n = 256;\n",
      "name = 'hibiscus';\n",
      "f = load_image(name, n);\n",
      "f = rescale(sum(f,3));\n",
      "clf;\n",
      "imageplot(f);"
     ],
     "language": "python",
     "metadata": {},
     "outputs": [
      {
       "output_type": "stream",
       "stream": "stderr",
       "text": [
        "ERROR: Cell magic `%%matlab` not found.\n"
       ]
      }
     ],
     "prompt_number": 1
    },
    {
     "cell_type": "markdown",
     "metadata": {},
     "source": [
      "Les valeurs des pixels sont enregistr es dans <http://fr.wikipedia.org/wiki/Ordinateur l'ordinateur> ou\n",
      "<http://fr.wikipedia.org/wiki/Appareil_photographique_num%C3%A9rique l'appareil photo num rique>\n",
      "sous forme\n",
      "de <http://fr.wikipedia.org/wiki/Entier_relatif nombres entiers> entre 0 et 255,\n",
      "ce qui fait 256 valeurs possibles pour chaque pixel.\n",
      "\n",
      "\n",
      "La valeur 0 correspond au noir, et la valeur 255 correspond au blanc. Les\n",
      "valeurs interm diaires correspondent   des <http://fr.wikipedia.org/wiki/Niveau_de_gris niveaux de gris>\n",
      "allant du noir au blanc.\n",
      "\n",
      "\n",
      "La figure ci-dessous montre un sous-tableau de $6 \\times 6$ pixels extrait de\n",
      "l'image pr c dente. On peut voir   la fois les valeurs qui composent le tableau et les niveaux de gris qui permettent d'afficher l'image   l' cran."
     ]
    },
    {
     "cell_type": "code",
     "collapsed": false,
     "input": [
      "%%matlab\n",
      "selx = 19:24;\n",
      "sely = 62:67;\n",
      "clf;\n",
      "image(f(selx,sely)*255); axis image; axis off;\n",
      "disp(floor(255*f(selx,sely)));"
     ],
     "language": "python",
     "metadata": {},
     "outputs": []
    },
    {
     "cell_type": "markdown",
     "metadata": {},
     "source": [
      "Les valeurs de l'images extraite sont:\n",
      "$$\n",
      "\\left[\n",
      "\\begin{array}{ccc}\n",
      "  43    &43   & 43  &  41  &  40 &   39 \\\\\n",
      "  48    &49   & 46  &  42 &   44  &  43\\\\\n",
      "  110   & 79  &  54 &   47  &  48 &   45\\\\\n",
      "  190   &192  & 190  & 153  &  99 &   54\\\\\n",
      "  150   &166  & 189 &  203  & 183 &  170\\\\\n",
      "  131   &140  & 145 &  161  & 165 &  178\\\\\n",
      "\\end{array}\n",
      "\\right]\n",
      "$$\n",
      "\n",
      "Stocker une image\n",
      "-----------------\n",
      "Stocker de grandes images sur le <http://fr.wikipedia.org/wiki/Disque_dur disque dur>\n",
      "d'un ordinateur prend\n",
      "beaucoup de place. Les nombres entiers sont stock s\n",
      "en <http://fr.wikipedia.org/wiki/Syst%C3%A8me_binaire  criture binaire>,\n",
      "c'est- -dire sous la forme d'une succession\n",
      "de 0 et de 1. Chaque 0 et chaque 1 se stocke sur une unit   l mentaire\n",
      "de stockage, appel e <http://fr.wikipedia.org/wiki/Bit bit>.\n",
      "\n",
      "\n",
      "Pour obtenir l' criture binaire d'un pixel ayant comme valeur 179,\n",
      "il faut d composer cette valeur comme somme de puissances de deux.\n",
      "On obtient ainsi\n",
      "$$ 179=2^7+2^5+2^4+2+1, $$\n",
      "o  l'on a pris soin d'ordonner les puissances de deux par ordre\n",
      "d croissant. Afin de faire mieux appara tre l' criture binaire,\n",
      "on ajoute \"$1 \\times$\" devant chaque puissance qui appara t dans l' criture,\n",
      "et \"$0\\times$\" devant les puissances qui n'apparaissent pas\n",
      "$$ 179=1 \\times 2^7 + 0 \\times 26 + 1 \\times 2^5 + 1 \\times 24 +\n",
      "  0 \\times 2^3 + 0 \\times 22 + 1 \\times 2^1 + 1 \\times 2^0. $$\n",
      "\n",
      "\n",
      "Avec une telle  criture,\n",
      "la valeur de chaque pixel, qui est un nombre entre 0 et 255, n cessite\n",
      "$$ \\log_2(256) = 8 \\text{ bits}. $$\n",
      "La fonction $\\log_2$ est le logarithme en base 2, et ce calcul exprime\n",
      "le fait que\n",
      "$$ 256=2^8 = 2 \\times 2 \\times 2 \\times 2 \\times 2 \\times 2 \\times 2 \\times 2.  $$\n",
      "L' criture binaire de la valeur 179 du pixel est ainsi $(1,0,1,1,0,0,1,1)$,\n",
      "o  chaque 1 et chaque 0 correspond au facteur multiplicatif qui appara t devant chaque puissance.\n",
      "\n",
      "\n",
      "On peut  crire toute valeur entre 0 et 255 de cet mani re,\n",
      "ce qui n cessite d'utilisation de 8 bits. Il y a en effet\n",
      "256 valeurs possibles, et $256=2^8$. Pour stocker l'image compl te, on a donc besoin de\n",
      "$$ n \\times p \\times 8 \\text{ bits}. $$\n",
      "\n",
      "\n",
      "Pour stocker l'image compl te, on a donc besoin de\n",
      "$$ n \\times p \\times 8  \\text{ bits}. $$\n",
      "Pour l'image montr e aux figure pr c dentes, on a ainsi besoin de\n",
      "$$ 256 \\times 256 \\times 8 = 524288 \\text{ bits}. $$\n",
      "\n",
      "\n",
      "Pour l'image montr e   la premi re figure, on a ainsi besoin de\n",
      "$$ 240 \\times 240 \\times 8 = 460800 \\text{ bits.} $$\n",
      "On utilise le plus souvent <http://fr.wikipedia.org/wiki/Octet l'octet> (8 bits) comme unit ,\n",
      "de sorte que cette image n cessite 57,6ko (kilo octets).\n",
      "\n",
      "La r solution d'une image\n",
      "-------------------------\n",
      "Afin de r duire la place de stockage d'une image, on peut r duire sa\n",
      "<http://fr.wikipedia.org/wiki/R%C3%A9solution_(imagerie_num%C3%A9rique) r solution>,\n",
      "c'est- -dire diminuer le nombre de pixels.\n",
      "\n",
      "\n",
      "La fa on la plus simple d'effectuer cette r duction consiste   supprimer des lignes et des colonnes dans l'image de d part.\n",
      "\n",
      "\n",
      "La figure suivante montre ce que l'on obtient si l'on retient une ligne sur 4 et une colonne sur 4."
     ]
    },
    {
     "cell_type": "code",
     "collapsed": false,
     "input": [
      "%%matlab\n",
      "sub = @(f,k)f(1:k:end,1:k:end);"
     ],
     "language": "python",
     "metadata": {},
     "outputs": []
    },
    {
     "cell_type": "code",
     "collapsed": false,
     "input": [
      "%%matlab\n",
      "clf;\n",
      "imageplot(sub(f,4));"
     ],
     "language": "python",
     "metadata": {},
     "outputs": []
    },
    {
     "cell_type": "markdown",
     "metadata": {},
     "source": [
      "On a ainsi divis  par $4 \\times 4 = 16$ le nombre de pixels de l'image,\n",
      "et donc  galement r duit par 16 le nombre de bit n cessaire pour stocker l'image sur\n",
      "un disque dur.\n",
      "\n",
      "\n",
      "La figure suivante montre les r sultats obtenus en enlevant de plus en\n",
      "plus de lignes et de colonnes. Bien entendu, la qualit  de l'image se\n",
      "d grade vite."
     ]
    },
    {
     "cell_type": "code",
     "collapsed": false,
     "input": [
      "%%matlab\n",
      "klist = [2 4 8 16];\n",
      "clf;\n",
      "for i=1:length(klist)\n",
      "    k = klist(i);\n",
      "    imageplot(clamp(sub(f,k)), ['1 ligne/colonne sur ' num2str(k)], 2, 2, i);\n",
      "end"
     ],
     "language": "python",
     "metadata": {},
     "outputs": []
    },
    {
     "cell_type": "markdown",
     "metadata": {},
     "source": [
      "Quantifier une image\n",
      "--------------------\n",
      "Une autre fa on de r duire la place m moire n cessaire pour le stockage\n",
      "consiste   utiliser moins de nombres entirers pour chaque valeur.\n",
      "\n",
      "\n",
      "On peut par exemple utiliser uniquement des nombres entier entre 0 et 3,\n",
      "ce qui donnera une image avec uniquement 4 niveau de gris.\n",
      "\n",
      "\n",
      "On peut effectuer une conversion de l'image d'origine vers une image avec\n",
      "3 niveau de valeurs en effectuant les remplacements:\n",
      "\n",
      "\n",
      "- les valeurs dans $0,1,\\ldots,63$ sont remplac es par la valeur 0,\n",
      "\n",
      "- les valeurs dans $64,1,\\ldots,127$ sont remplac es par la valeur 1,\n",
      "\n",
      "- les valeurs dans $128,1,\\ldots,191$ sont remplac es par la valeur 2,\n",
      "\n",
      "- les valeurs dans $192,\\ldots,255$ sont remplac es par la valeur 3.\n",
      "\n",
      "\n",
      "Une telle op ration se nomme <http://fr.wikipedia.org/wiki/Quantification_(signal) quantification>.\n",
      "\n",
      "\n",
      "La figure suivante montre l'image r sultante avec 4 niveaux de couleurs.\n",
      "Les 4 valeurs sont affich es en utilisant 4 niveaux de gris allant du noir\n",
      "au blanc."
     ]
    },
    {
     "cell_type": "code",
     "collapsed": false,
     "input": [
      "%%matlab\n",
      "quant = @(f,q)(round(q*rescale(f,1e-3,1-1e-3)-1/2)+1/2)/q;\n",
      "clf;\n",
      "imageplot(quant(f,4), '4 niveaux de gris');"
     ],
     "language": "python",
     "metadata": {},
     "outputs": []
    },
    {
     "cell_type": "markdown",
     "metadata": {},
     "source": [
      "Nous avons d j  vu que l'on pouvait repr senter toute valeur entre 0 et\n",
      "255   l'aide de 8 bits en utilisant l' criture binaire. De fa on similaire,\n",
      "on v rifie que toute valeur entre 0 et 3 peut se repr senter   l'aide de 2 bits.\n",
      "On obtient ainsi une r duction d'un facteur 8/2=4 de la place\n",
      "<http://fr.wikipedia.org/wiki/M%C3%A9moire_(informatique) m moire> n cessaire\n",
      "pour le stockage de l'image sur un disque dur.\n",
      "\n",
      "\n",
      "La figure suivante montre les r sultats obtenus en utilisant de moins en\n",
      "moins de niveaux de gris."
     ]
    },
    {
     "cell_type": "code",
     "collapsed": false,
     "input": [
      "%%matlab\n",
      "qlist = [16, 4, 3, 2];\n",
      "clf;\n",
      "for i=1:length(qlist)\n",
      "    q = qlist(i);\n",
      "    f1 = quant(f,q); f1(1)=0; f1(2)=1;\n",
      "    imageplot(f1, [num2str(q) ' niveaux de gris' ], 2, 2, i);\n",
      "end"
     ],
     "language": "python",
     "metadata": {},
     "outputs": []
    },
    {
     "cell_type": "markdown",
     "metadata": {},
     "source": [
      "Tout comme pour la r duction du nombre de pixels, la r duction du nombre\n",
      "de niveaux de gris influe beaucoup sur la qualit  de l'image.\n",
      "Afin de r duire au maximum la taille d'une image sans modifier sa qualit ,\n",
      "on utilise des m thodes plus complexes de\n",
      "<http://fr.wikipedia.org/wiki/Compression_d%27image compression d'image>. La m thode\n",
      "la plus efficace s'appelle\n",
      "<http://fr.wikipedia.org/wiki/Jpeg_2000 JPEG-2000>.\n",
      "Elle utilise la th orie des <http://fr.wikipedia.org/wiki/Ondelettes ondelettes>.\n",
      "Pour en savoir plus   ce sujet, vous pouvez consuler cet\n",
      "<http://images.math.cnrs.fr/Compression-d-image.html article d'Erwan Le\n",
      "Pennec>.\n",
      "\n",
      "Enlever le bruit par moyennes locales\n",
      "-------------------------------------\n",
      "Les images sont parfois de mauvaise qualit . Un exemple typique de d faut\n",
      "est le <http://fr.wikipedia.org/wiki/Bruit_num%C3%A9rique bruit>\n",
      "qui apparait quand une photo est\n",
      "<http://fr.wikipedia.org/wiki/Exposition_(photographie) sous-expos e>, c'est- -dire\n",
      "qu'il n'y a pas assez de luminosit . Ce bruit se manifeste par de petites\n",
      "flucturation <http://fr.wikipedia.org/wiki/Suite_al%C3%A9atoire al atoires>\n",
      "des niveaux de gris. La figure ci-dessous montre\n",
      "une image bruit e."
     ]
    },
    {
     "cell_type": "code",
     "collapsed": false,
     "input": [
      "%%matlab\n",
      "name = 'boat';\n",
      "f = rescale(load_image(name, n));\n",
      "sigma = .08;\n",
      "f = f + randn(n)*sigma;\n",
      "clf;\n",
      "imageplot(f);"
     ],
     "language": "python",
     "metadata": {},
     "outputs": []
    },
    {
     "cell_type": "markdown",
     "metadata": {},
     "source": [
      "Afin d'enlever le bruit dans les images, il convient de faire subir une\n",
      "modification aux valeurs de pixels.\n",
      "L'op ration la plus simple consiste   remplacer la valeur\n",
      "$a$ de chaque pixel par la <http://fr.wikipedia.org/wiki/Moyenne moyenne> de\n",
      "$a$ et des 8 valeurs $b,c,d,e,f,g,h,i$ des 8 pixels voisins de a.\n",
      "\n",
      "\n",
      "Les valeurs des pixels sont positionn es comme suit :\n",
      "$$\n",
      "\\left[\n",
      "\\begin{array}{ccc}\n",
      "      g & c & h \\\\\n",
      "      b & a & d \\\\\n",
      "      f & e & i\n",
      "\\end{array}\n",
      "\\right]\n",
      "  =\n",
      "\\left[\n",
      "\\begin{array}{ccc}\n",
      "      79 & 54 & 47 \\\\\n",
      "      192 & 190 & 153 \\\\\n",
      "      166 & 189 & 203\n",
      "\\end{array}\n",
      "\\right]\n",
      "$$\n",
      "\n",
      "\n",
      "On obtient ainsi une image modifi e en rempla ant a par\n",
      "$$ \\frac{a+b+c+d+e+f+g+h+i}{9} $$\n",
      "puisque l'on fait la moyenne de 9 valeurs.\n",
      "Dans notre exemple, cette moyenne vaut\n",
      "$$ \\frac{190+192+79+54+47+153+203+189+166}{9} \\approx 141,4. $$\n",
      "En effectuant cette op ration pour chaque pixel, on supprime une partie\n",
      "du bruit, car ce bruit est constitu  de fluctuations al atoires, qui sont\n",
      "diminu es par un calcul de moyennes. La figure ci-dessous montre l'effet d'un tel calcul.\n",
      "\n",
      "\n",
      "La figure ci-dessous montre l'effet d'un tel moyennage."
     ]
    },
    {
     "cell_type": "code",
     "collapsed": false,
     "input": [
      "%%matlab\n",
      "filt_moy = @(f,k)perform_convolution(f,ones(2*k+1)/(2*k+1)^2,'sym');\n",
      "clf;\n",
      "imageplot(clamp(f), 'Image bruit e', 1, 2, 1);\n",
      "imageplot(clamp(filt_moy(f,1)), 'Image moyenn e', 1, 2, 2);"
     ],
     "language": "python",
     "metadata": {},
     "outputs": []
    },
    {
     "cell_type": "markdown",
     "metadata": {},
     "source": [
      "Tout le bruit n'a pas  t  enlev  par cette op ration. Afin d'enlever plus\n",
      "de bruit, on peut moyenner plus de valeurs autour de chaque pixel.\n",
      "La figure suivante montre le r sultat obtenu en moyennant de plus en plus\n",
      "de valeurs."
     ]
    },
    {
     "cell_type": "code",
     "collapsed": false,
     "input": [
      "%%matlab\n",
      "klist = [1 2 3 4];\n",
      "clf;\n",
      "for i=1:length(klist)\n",
      "    k = klist(i);\n",
      "    f1 = filt_moy(f,k);\n",
      "    imageplot(clamp(f1), ['Moyenne de ' num2str((2*k+1)^2) ' pixels'], 2, 2, i);\n",
      "end"
     ],
     "language": "python",
     "metadata": {},
     "outputs": []
    },
    {
     "cell_type": "markdown",
     "metadata": {},
     "source": [
      "Le moyennage des pixels est tr s efficace pour enlever le bruit dans les\n",
      "images, malheureusement il d truit  galement une grande partie de\n",
      "l'information de l'image. on peut en effet s'appercevoir que les images\n",
      "obtenues par moyennage sont <http://fr.wikipedia.org/wiki/Flou,_nettet%C3%A9_et_contraste floues>. Ceci est en particulier visible pr s\n",
      "des contours, qui ne sont pas nets.\n",
      "\n",
      "\n",
      "Enlever le bruit par m diane\n",
      "----------------------------\n",
      "Afin de r duire ce flou, il faut remplacer le moyennage par une op ration\n",
      "un peu plus complexe, que l'on nomme <http://fr.wikipedia.org/wiki/M%C3%A9diane mediane>.\n",
      "\n",
      "\n",
      "Etant donn  la valeur $a$ d'un pixel, et les valeurs\n",
      "$b,c,d,e,f,g,h,i$, on commence par les classer\n",
      "par <http://fr.wikipedia.org/wiki/Ordre_croissant ordre croissant>.\n",
      "\n",
      "\n",
      "Dans l'exemple du voisinage de 9 pixels utilis    la section pr c dente,\n",
      "on obtient les 9 valeurs class es\n",
      "$$ 47,54,79,153,166,189,190,192,203. $$\n",
      "La m diane des neuf valeurs $a,b,c,d,e,f,g,h,i$\n",
      "est la $5^\\text{e}$ valeur de ce classement (c'est- -dire la\n",
      "valeur centrale de ce classement).\n",
      "\n",
      "\n",
      "Dans notre cas, la m diane est donc 166. Notez que ce nombre est en g n ral\n",
      "diff rent de la moyenne, qui vaut, pour notre exemple 141,4.\n",
      "\n",
      "\n",
      "La figure ci-dessous compare le d bruitage obtenu en effectuant la\n",
      "moyenne et la m diane de 9 pixels voisins."
     ]
    },
    {
     "cell_type": "code",
     "collapsed": false,
     "input": [
      "%%matlab\n",
      "filt_med = @(f,k)perform_median_filtering(f,k);\n",
      "clf;\n",
      "imageplot(clamp(filt_moy(f,1)), 'Moyenne de 9 nombres', 1, 2, 1);\n",
      "imageplot(clamp(filt_med(f,1)), 'M diane de 9 nombres', 1, 2, 2);"
     ],
     "language": "python",
     "metadata": {},
     "outputs": []
    },
    {
     "cell_type": "markdown",
     "metadata": {},
     "source": [
      "Afin d'enlever plus de bruit, il suffit de calculer la m diane sur un\n",
      "nombre plus grand de pixels voisins, comme montr    la figure suivante."
     ]
    },
    {
     "cell_type": "code",
     "collapsed": false,
     "input": [
      "%%matlab\n",
      "klist = [1 2 3 4];\n",
      "clf;\n",
      "for i=1:length(klist)\n",
      "    k = klist(i);\n",
      "    f1 = filt_med(f,k);\n",
      "    imageplot(clamp(f1), ['M diane de ' num2str((2*k+1)^2) ' pixels'], 2, 2, i);\n",
      "end"
     ],
     "language": "python",
     "metadata": {},
     "outputs": []
    },
    {
     "cell_type": "markdown",
     "metadata": {},
     "source": [
      "On constate que cette m thode est plus performante que le calcul de\n",
      "moyennes, car les images r sultantes sont moins floues. Cependant, tout comme\n",
      "avec le calcul de moyennes, si l'on prend des voisinages trop grands, on perd\n",
      "aussi de l'information de l'image, en particulier les bords des objets sont d grad s.\n",
      "\n",
      "\n",
      "D tecter les bords des objets\n",
      "-----------------------------\n",
      "Affin de localiser des objets dans les images, il est n cessaire de\n",
      "d tecter les <http://fr.wikipedia.org/wiki/D%C3%A9tection_de_contours bords>\n",
      "de ces objets. Ces bords correspondent   des\n",
      "zones de l'image o  les valeurs des pixels changent rapidement. C'est le\n",
      "cas par exemple lorsque l'on passe de la coque du bateau (qui est sombre,\n",
      "donc avec des valeurs petites)   la mer (qui est claire, donc avec des\n",
      "valeurs grandes).\n",
      "\n",
      "\n",
      "Afin de quantifier combien un pixel avec une valeur $a$ est un bord,\n",
      "on prend en compte les valeurs $b,c,d,e$ de ses quatre voisins (deux\n",
      "horizontallement et deux verticalements). Dans le cas consid r\n",
      "pr c demment, on obtient :\n",
      "$$\n",
      "\\left[\n",
      "\\begin{array}{ccc}\n",
      "       & c &  \\\\\n",
      "      b & a & d \\\\\n",
      "       & e &\n",
      "\\end{array}\n",
      "\\right]\n",
      "  =\n",
      "\\left[\n",
      "\\begin{array}{ccc}\n",
      "       & 54 &  \\\\\n",
      "      192 & 190 & 153 \\\\\n",
      "       & 189 &\n",
      "\\end{array}\n",
      "\\right]\n",
      "$$\n",
      "\n",
      "\n",
      "Notons que l'on utilise ici seulement 4 voisins, ce qui est diff rent du\n",
      "calcul de moyennes et de m dianes o  l'on utilisait 8 voisins.\n",
      "Ceci est important afin de d tecter aussi pr cis ment que possible les bords des objets.\n",
      "\n",
      "\n",
      "On calcule une valeur $\\ell$ suivant la formule\n",
      "$$ \\ell = \\sqrt{ (b-d)^2 + (c-e)^2 }.  $$\n",
      "Dans notre exemple, on obtient donc\n",
      "$$ \\ell= \\sqrt{ (192 - 153)^2 + (189 - 54)^2 } = \\sqrt{19746} \\approx 140,5. $$\n",
      "\n",
      "\n",
      "On peut remarquer que si $\\ell=0$, alors on a $b=c$\n",
      "et $d=e$. Au contraire, si\n",
      "$\\ell$ est grand, ceci signifie que les pixels voisins ont des valeurs tr s\n",
      "diff rentes, le pixel consid r  est donc probablement sur le bord d'un objet.\n",
      "\n",
      "\n",
      "La figure suivante montre l'image obtenue en calculant la valeur $\\ell$\n",
      "associ e   chaque pixel. On a affich  ces valeurs avec du noir quand\n",
      "$\\ell=0$,  du blanc quand $\\ell$ est grand,\n",
      "et on a utilis  des niveaux de gris interm diaire pour les valeurs entre 0 et 1."
     ]
    },
    {
     "cell_type": "code",
     "collapsed": false,
     "input": [
      "%%matlab\n",
      "n = 256;\n",
      "name = 'hibiscus';\n",
      "f = load_image(name, n);\n",
      "f = rescale(sum(f,3));"
     ],
     "language": "python",
     "metadata": {},
     "outputs": []
    },
    {
     "cell_type": "code",
     "collapsed": false,
     "input": [
      "%%matlab\n",
      "s1 = [1 1:n-1]; s2 = [2:n n];\n",
      "edge = @(f)sqrt( ( f(s1,:) - f(s2,:) ).^2 + ( f(:,s1) - f(:,s2) ).^2 );"
     ],
     "language": "python",
     "metadata": {},
     "outputs": []
    },
    {
     "cell_type": "code",
     "collapsed": false,
     "input": [
      "%%matlab\n",
      "clf;\n",
      "imageplot(f, 'Image', 1,2,1);\n",
      "imageplot(edge(f), 'Carte de l', 1,2,2);"
     ],
     "language": "python",
     "metadata": {},
     "outputs": []
    },
    {
     "cell_type": "markdown",
     "metadata": {},
     "source": [
      "On peut voir que dans l'image de droite, les contours des objets\n",
      "ressortent en blanc, car ils correspondent aux grandes valeurs de $\\ell$.\n",
      "\n",
      "Les images couleurs\n",
      "-------------------\n",
      "Une <http://fr.wikipedia.org/wiki/Couleur image couleur>\n",
      "est en r alit  compos e de trois images ind pendantes,\n",
      "afin de repr senter le\n",
      "<http://fr.wikipedia.org/wiki/Rouge_vert_bleu rouge, le vert, et le bleu>.\n",
      "Chacune de ces trois\n",
      "image s'appelle un <http://fr.wikipedia.org/wiki/Codage_informatique_des_couleurs canal>.\n",
      "Cette repr sentation en rouge, vert et bleu mime le fonctionnement du\n",
      "syst me visuel humain.\n",
      "\n",
      "\n",
      "La figure suivante montre une image couleur, qui est d compos e en ses\n",
      "trois canaux constitutifs."
     ]
    },
    {
     "cell_type": "code",
     "collapsed": false,
     "input": [
      "%%matlab\n",
      "name = 'hibiscus';\n",
      "f = rescale( load_image(name,n) );"
     ],
     "language": "python",
     "metadata": {},
     "outputs": []
    },
    {
     "cell_type": "code",
     "collapsed": false,
     "input": [
      "%%matlab\n",
      "f1 = cat(3, f(:,:,1), zeros(n), zeros(n));\n",
      "f2 = cat(3, zeros(n), f(:,:,2), zeros(n));\n",
      "f3 = cat(3, zeros(n), zeros(n), f(:,:,3));"
     ],
     "language": "python",
     "metadata": {},
     "outputs": []
    },
    {
     "cell_type": "code",
     "collapsed": false,
     "input": [
      "%%matlab\n",
      "clf;\n",
      "imageplot({f f1 f2 f3}, ...\n",
      "        { 'Image couleur' 'Canal rouge' 'Canal vert' 'Canal bleu'}, 2, 2);"
     ],
     "language": "python",
     "metadata": {},
     "outputs": []
    },
    {
     "cell_type": "markdown",
     "metadata": {},
     "source": [
      "Chaque pixel de l'image couleur contient ainsi trois nombres $ (r,v,b) $,\n",
      "chacun  tant un nombre entier entre 0 et 255.\n",
      "Si le pixel est  gal   $(r,v,b)=(255,0,0)$, il ne contient que de l'information\n",
      "rouge, et est affich  comme du rouge.\n",
      "De fa on similaire, les pixels valant $(0,255,0)$ et $(0,0,255)$ sont\n",
      "respectivement affich s vert et bleu.\n",
      "\n",
      "\n",
      "On peut afficher   l' cran une image couleur\n",
      "partir de ses trois canaux $(r,v,b)$ en utilisant les r gles de la\n",
      "<http://fr.wikipedia.org/wiki/Synth%C3%A8se_additive synth se additive des couleurs>.\n",
      "La figure suivante montre les r gles de composition\n",
      "cette synth se additive des couleurs.\n",
      "Par exemple un pixel avec les valeurs\n",
      "$(r,v,b)=(255,0,255)$ est un m lange de rouge et de vert, il est donc\n",
      "affich  comme du jaune.\n",
      "\n",
      "\n",
      "On peut calculer une image en niveau de gris   partir d'une image couleur\n",
      "en moyennant les trois cannaux. On calcule donc une valeur\n",
      "$$ a = \\frac{r+v+b}{3} $$\n",
      "qui s'appelle la <http://fr.wikipedia.org/wiki/Luminance luminance> de la couleur.\n",
      "\n",
      "\n",
      "La figure suivante montre le passage d'une image couleur   une image de luminance en\n",
      "niveau de gris."
     ]
    },
    {
     "cell_type": "code",
     "collapsed": false,
     "input": [
      "%%matlab\n",
      "clf;\n",
      "imageplot({f sum(f,3)}, {'Couleur' 'Luminance'});"
     ],
     "language": "python",
     "metadata": {},
     "outputs": []
    },
    {
     "cell_type": "markdown",
     "metadata": {},
     "source": [
      "Une autre repr sentation courante pour les images couleurs utilise\n",
      "comme couleurs de base le cyan, le magenta et le jaune. On calcule\n",
      "les trois nombres $(c,m,j)$ correspondant   chacun de ces trois canaux\n",
      "partir des canaux rouge, vert et bleu $(r,v,b)$ comme suit\n",
      "$$ c=255-r, \\quad m=255-v, \\quad j=255-b. $$\n",
      "Par exemple, un pixel de bleu pur\n",
      "$(r,v,b)=(0,0,255)$ va devenir\n",
      "$ (c,m,j)=(255,255,0) $. La figure suivante montre les trois canaux\n",
      "$(c,m,j)$ d'une image couleur."
     ]
    },
    {
     "cell_type": "code",
     "collapsed": false,
     "input": [
      "%%matlab\n",
      "g = 1-f;\n",
      "f1 = cat(3, f(:,:,1),     f(:,:,2)*0+1, f(:,:,3)*0+1);\n",
      "f2 = cat(3, f(:,:,1)*0+1, f(:,:,2)    , f(:,:,3)*0+1);\n",
      "f3 = cat(3, f(:,:,1)*0+1, f(:,:,2)*0+1, f(:,:,3));"
     ],
     "language": "python",
     "metadata": {},
     "outputs": []
    },
    {
     "cell_type": "code",
     "collapsed": false,
     "input": [
      "%%matlab\n",
      "clf;\n",
      "imageplot({f f1 f2 f3}, ...\n",
      "        { 'Image couleur' 'Canal cyan' 'Canal magenta' 'Canal jaune'}, 2, 2);"
     ],
     "language": "python",
     "metadata": {},
     "outputs": []
    },
    {
     "cell_type": "markdown",
     "metadata": {},
     "source": [
      "Afin d'afficher une image couleur   l' cran   partir des trois canaux\n",
      "$(c,m,j)$, on doit utiliser la synth se soustractive des\n",
      "couleurs. La figure suivante montre les r gles de composition\n",
      "cette synth se soustractive. Notons que ces r gles sont celles que\n",
      "l'on utilise en peinture, lorsque l'on m lange des pigments color s. Le cyan,\n",
      "le magenta et le jaune sont appel s couleurs primaires.\n",
      "\n",
      "\n",
      "\n",
      "On peut donc stocker sur un disque dur une image couleur en stockant les\n",
      "trois canaux, correspondant aux valeurs $(r,g,b)$ ou $(c,m,j)$.\n",
      "On peut modifier les images couleur tout comme les images en niveaux de\n",
      "gris. La fa on la plus simple de proc der consiste   appliquer la modification\n",
      "  chacun des canaux.\n",
      "\n",
      "\n",
      "Changer le contraste d'une image\n",
      "--------------------------------\n",
      "Il est possible de faire subir diff rentes modifications   l'image afin de\n",
      "changer son <http://fr.wikipedia.org/wiki/Contraste contraste>."
     ]
    },
    {
     "cell_type": "code",
     "collapsed": false,
     "input": [
      "%%matlab\n",
      "name = 'hibiscus';\n",
      "f = rescale( load_image(name,n) );\n",
      "f = rescale(sum(f,3));"
     ],
     "language": "python",
     "metadata": {},
     "outputs": []
    },
    {
     "cell_type": "markdown",
     "metadata": {},
     "source": [
      "Un exemple simple consiste   remplacer chaque valeur $a$ d'un pixel\n",
      "d'une image par $255-a$ ce qui correspond   la couleur oppos e. Le blanc\n",
      "devient noir et vice-et-versa, ce qui donne un effet similaire   celui\n",
      "des <http://fr.wikipedia.org/wiki/Film_n%C3%A9gatif n gatifs>\n",
      "<http://fr.wikipedia.org/wiki/Argentique d'appareils photos argentiques>."
     ]
    },
    {
     "cell_type": "code",
     "collapsed": false,
     "input": [
      "%%matlab\n",
      "clf;\n",
      "imageplot(-f);"
     ],
     "language": "python",
     "metadata": {},
     "outputs": []
    },
    {
     "cell_type": "markdown",
     "metadata": {},
     "source": [
      "Sans aller jusqu'  des modifications aussi extr mes, on peut assombrir une image\n",
      "en rempl ant la valeur $a$ de chaque pixel par son\n",
      "<http://fr.wikipedia.org/wiki/Carr%C3%A9_(alg%C3%A8bre) carr > $a^2 = a \\times a$.\n",
      "\n",
      "\n",
      "Ce faisant, les valeurs r sultantes ne sont\n",
      "plus dans $0,\\ldots,255$ mais dans $0,\\ldots,255^2=65025$. Afin\n",
      "d'afficher l'image   l' cran on va donc utiliser des niveaux de gris\n",
      "allant du noir pour 0 au blanc pour 65025."
     ]
    },
    {
     "cell_type": "code",
     "collapsed": false,
     "input": [
      "%%matlab\n",
      "clf;\n",
      "imageplot(f.^2, 'Carr ');"
     ],
     "language": "python",
     "metadata": {},
     "outputs": []
    },
    {
     "cell_type": "markdown",
     "metadata": {},
     "source": [
      "Afin d' claircir l'image, on peut remplacer chaque valeur $a$ par\n",
      "sa _racine carr e_ $b = \\sqrt{a}$. Cette valeur $b$ est un nombre, qui n'est plus\n",
      "n cessairement entier, qui satisfait $b \\times b = a$.\n",
      "\n",
      "\n",
      "La figure suivante montre l' claircissement obtenu.\n",
      "Les valeurs de l'image  claircie sont dant\n",
      "$0,\\ldots,\\sqrt{255} \\approx 16$, et on utilise donc des niveaux\n",
      "de gris allant du noir (pour 0) au blanc (pour 16)."
     ]
    },
    {
     "cell_type": "code",
     "collapsed": false,
     "input": [
      "%%matlab\n",
      "clf;\n",
      "imageplot(sqrt(f), 'Remplacement de a par sqrt(a)');"
     ],
     "language": "python",
     "metadata": {},
     "outputs": []
    },
    {
     "cell_type": "markdown",
     "metadata": {},
     "source": [
      "On pourra noter que l'on a\n",
      "$$ \\sqrt{a} \\times \\sqrt{a} = a\n",
      "\\quad\\text{et}\\quad \\sqrt{a \\times a}=a $$\n",
      "de sorte que si l'on r alise un  clairsissement suivit d'un\n",
      "assombrissement (ou dans le sens inverse) on retrouve l'image d'origine.\n",
      "Ces deux op rations sont\n",
      "<http://fr.wikipedia.org/wiki/Inverse inverses> l'une de l'autre.\n",
      "\n",
      "\n",
      "On peut  galement changer le contraste d'une image couleur en changeant sa\n",
      "composante de luminance."
     ]
    },
    {
     "cell_type": "code",
     "collapsed": false,
     "input": [
      "%%matlab\n",
      "name = 'hibiscus';\n",
      "f = rescale( load_image(name,n) );"
     ],
     "language": "python",
     "metadata": {},
     "outputs": []
    },
    {
     "cell_type": "code",
     "collapsed": false,
     "input": [
      "%%matlab\n",
      "m = @(f)repmat(mean(f,3), [1 1 3]);\n",
      "contrast = @(f,gamma)clamp(m(f).^gamma + f-m(f));"
     ],
     "language": "python",
     "metadata": {},
     "outputs": []
    },
    {
     "cell_type": "code",
     "collapsed": false,
     "input": [
      "%%matlab\n",
      "gamma_list = [.5 .75 1 1.5 2 3];\n",
      "clf;\n",
      "for i=1:length(gamma_list)\n",
      "    subplot(2,3,i);\n",
      "    image(contrast(f,gamma_list(i))); axis image; axis off;\n",
      "    title(['\\gamma=' num2str(gamma_list(i))]);\n",
      "    colormap jet(256);\n",
      "end"
     ],
     "language": "python",
     "metadata": {},
     "outputs": []
    },
    {
     "cell_type": "markdown",
     "metadata": {},
     "source": [
      "Transformations g om triques\n",
      "----------------------------\n",
      "Une image est un tableau de nombres, avec $n$ lignes et $p$\n",
      "colonnes. Il est donc facile d'effectuer\n",
      "certaines <http://fr.wikipedia.org/wiki/Transformation_g%C3%A9om%C3%A9trique transformations g om triques>\n",
      "sur l'image.\n",
      "\n",
      "\n",
      "Les valeurs des pixels qui composent ce tableau (not  $A$) peuvent  tre\n",
      "repr sent es sous la forme $ A = ( a_{i,j} )_{i,j} $\n",
      "ou l'index $i$ d crit l'ensemble des nombres $ \\{1,\\ldots,n\\} $\n",
      "(les entiers entre 1 et n) et l'index\n",
      "$j$ les nombres $ \\{1,\\ldots,p\\} $.\n",
      "One dit que $a_{i,j}$ est la valeur du pixel   la position $(i,j)$.\n",
      "\n",
      "\n",
      "Le tableau de pixels ainsi index  peut se repr senter sous la fa on\n",
      "suivante\n",
      "$$\n",
      "A =\n",
      "\\begin{pmatrix}\n",
      "a_{1,1} &           &           &   & a_{1,p}\\\\\n",
      "       &           &  \\vdots   &   &  \\\\\n",
      "\t   &           & a_{i-1,j} &   & \\\\\n",
      "\\ldots & a_{i,j-1} & a_{i,j}   & a_{i,j+1} & \\ldots\\\\\n",
      "\t   &           & a_{i+1,j} &   & \\\\\n",
      "       &           &  \\vdots   &   &  \\\\\n",
      "a_{n,1} &           &           &   & a_{n,p}\\\\\n",
      "\\end{pmatrix}\n",
      "$$\n",
      "ce qui montre que le pixel en haut   gauche de l'image correspond   la\n",
      "valeur $a_{1,1}$. Ceci correspond   la repr sentation de l'image sous\n",
      "forme d'une <http://fr.wikipedia.org/wiki/Matrice_(math%C3%A9matiques) matrice>.\n",
      "\n",
      "\n",
      "Si l'on  change le r le des lignes et des colonnes, on d finit un autre\n",
      "tableau $B$ avec $p$ lignes et $n$ colonnes. La formule qui d finit\n",
      "le tableau $B = ( b_{j,i} )_{i,j}$ est\n",
      "$$ b_{j,i} = a_{i,j}. $$\n",
      "Ceci correspond   la <http://fr.wikipedia.org/wiki/Matrice_transpos%C3%A9e transposition> de la matrice correspondant   l'image.\n",
      "\n",
      "\n",
      "Pour une image couleur, on effectue cette modification sur chacune de ses\n",
      "trois composantes couleur R, V et B.\n",
      "\n",
      "\n",
      "La figure suivante montre l'image correspondant au tableau $A$ et\n",
      "l'image correspondant au tableau $B$. On peut constater que la\n",
      "modification correspond   faire sur l'image une\n",
      "<http://fr.wikipedia.org/wiki/Sym%C3%A9trie_(transformation_g%C3%A9om%C3%A9trique) sym trie> par rapport\n",
      "la <http://fr.wikipedia.org/wiki/Diagonale diagonale>\n",
      "qui joint le coin haut/gauche au coin bas/droite."
     ]
    },
    {
     "cell_type": "code",
     "collapsed": false,
     "input": [
      "%%matlab\n",
      "A = rescale( load_image('flowers',512) );\n",
      "B = permute(A, [2 1 3]);\n",
      "clf;\n",
      "imageplot({A B}, {'Image A' 'Image B'}, 1,2,1);"
     ],
     "language": "python",
     "metadata": {},
     "outputs": []
    },
    {
     "cell_type": "markdown",
     "metadata": {},
     "source": [
      "On peut  galement effectuer une <http://fr.wikipedia.org/wiki/Rotation rotation>\n",
      "d'un quart de tour dans le sens d'une montre\n",
      "l'image. Ceci est effectu  en d finissant une image $C = (c_{i,j})_{j,i}$ de\n",
      "$p$ lignes et $n$\n",
      "colonnes dont le tableau\n",
      "de nombre est calcul  par\n",
      "$$ c_{j,i} =  a_{n-i+1,j}.$$"
     ]
    },
    {
     "cell_type": "code",
     "collapsed": false,
     "input": [
      "%%matlab\n",
      "C = A;\n",
      "C = C(end:-1:1,:,:); C = permute(C, [2 1 3]); \n",
      "clf;\n",
      "imageplot({A C}, {'Image A' 'Image C'}, 1,2,1);"
     ],
     "language": "python",
     "metadata": {},
     "outputs": []
    },
    {
     "cell_type": "markdown",
     "metadata": {},
     "source": [
      "Fondu entres deux images\n",
      "------------------------\n",
      "On souhaite effectuer une <http://fr.wikipedia.org/wiki/Fondu transition entre deux images>\n",
      "$A$ et $B$ de m me\n",
      "taille. On suppose donc que chaque image a le m me nombre $n$ de lignes\n",
      "et le m me nombre $p$ de colonnes.\n",
      "\n",
      "\n",
      "La figure ci-dessous montre les deux images entre lesquelles on souhaite\n",
      "calculer une transition."
     ]
    },
    {
     "cell_type": "code",
     "collapsed": false,
     "input": [
      "%%matlab\n",
      "A = rescale( load_image('flowers',512) );\n",
      "B = rescale( load_image('hibiscus',512) );\n",
      "clf;\n",
      "imageplot({A B}, {'Image A', 'Image B'});"
     ],
     "language": "python",
     "metadata": {},
     "outputs": []
    },
    {
     "cell_type": "markdown",
     "metadata": {},
     "source": [
      "One note $A = (a_{i,j})_{i,j}$ les pixels de l'image $A$ et\n",
      "$B = (b_{i,j})_{i,j}$ les pixels de l'image $B$.\n",
      "\n",
      "\n",
      "Pour une valeur $t$ fix e entre $0$ et $1$, on d finit l'image\n",
      "$C = (c_{i,j})_{i,j}$ comme\n",
      "$$ c_{i,j}  = (1-t) a_{i,j} + t b_{i,j}.$$\n",
      "Il s'agit de la formule d'une\n",
      "<http://fr.wikipedia.org/wiki/Interpolation_lin%C3%A9aire interpolation lin aire>\n",
      "entre les deux images.\n",
      "\n",
      "\n",
      "Si l'image est une image couleur, on applique cette formule   chacun des\n",
      "canaux R, V et B.\n",
      "\n",
      "\n",
      "On peut constater que pour $t=0$, l'image $C$ est  gale   l'image\n",
      "$A$. Pour $t=1$, l'image $c$ est  gale   l'image\n",
      "$B$. Lorsque la valeur $t$ progresse de 0   1, on obtient ainsi un\n",
      "effet de fondu, puisque l'image, qui au d part est proche de l'image $A$\n",
      "ressemble de plus en plus   l'image $B$.\n",
      "\n",
      "\n",
      "La figure suivante montre 5 valeurs de $t$ r parties entre 0 et 1."
     ]
    },
    {
     "cell_type": "code",
     "collapsed": false,
     "input": [
      "%%matlab\n",
      "p = 6;\n",
      "t = linspace(0,1,p);\n",
      "clf;\n",
      "for i=1:p\n",
      "    imageplot(t(i)*A+(1-t(i))*B, ['t=' num2str(t(i), 2)], 2,p/2,i);\n",
      "end"
     ],
     "language": "python",
     "metadata": {},
     "outputs": []
    },
    {
     "cell_type": "markdown",
     "metadata": {},
     "source": [
      "Conclusion\n",
      "----------\n",
      "Cet article n'a fait qu'effleurer l'immense liste des traitements que l'on\n",
      "peut faire subir   une image. Le traitement math matique des images est un domaine\n",
      "tr s actif, o  les avanc es th oriques se concr tisent sous la forme d'algorithmes\n",
      "rapides de calcul qui ont des applications importantes pour la manipulation des contenus\n",
      "num riques.\n",
      "\n",
      "\n",
      "Les personnes int ress es pourront consulter le site web\n",
      "<http://www.numerical-tours.com/ A Numerical Tour of Signal Processing>\n",
      "pour de nombreux exemples de traitements d'images. On y\n",
      "trouve  galement des liens vers d'autres ressources disponibles en ligne.\n",
      "\n",
      "Glossaire\n",
      "---------\n",
      "\n",
      "\n",
      "- *Al atoire* : valeur impr visible souvent due au hazard, comme par exemple le bruit qui perturbe les images de mauvaises qualit s.\n",
      "\n",
      "- *Bit* : unit   lementaire de stockage de l'information sous forme de 0 et de 1 dans un ordinateur.\n",
      "\n",
      "- *Canal* : une des trois images  l mentaires qui composent une image couleur.\n",
      "\n",
      "- *Bords* : zone d'une image o  les valeurs des pixels varient beaucoup, qui correspond aux contours des objets qui forment l'image.\n",
      "\n",
      "- *Bruit* : petites perturbations qui d gradent la qualit  d'une image.\n",
      "\n",
      "- *Carr * : le carr  $b$ d'une valeur $a$ est $a \\times a$. Il est not  $a^2$.\n",
      "\n",
      "- *Contraste* : quantit  informelle qui indique la diff rence entre les zones claires et les zones sombres d'une image.\n",
      "\n",
      "- *Compression d'image* : m thode permettant de r duire la place m moire n cessaire au stockage sur le disque dur d'une image.\n",
      "\n",
      "- *Ecriture binaire* :  criture de valeurs num riques   l'aide uniquement de 0 et de 1.\n",
      "\n",
      "- *Flou* : d gradation d'une image qui rend les contours des objets peu net, et donc difficile   localiser pr cis ment.\n",
      "\n",
      "- *Fondu* : interpolation lin aire entre deux images.\n",
      "\n",
      "- *Image couleur* : ensemble de trois images en niveau de gris, qui peut  tre affich    l' cran en couleur.\n",
      "\n",
      "- *Image num rique* : tableau de valeurs que l'on peut afficher   l' cran en assignant un niveau de gris   chaque valeur.\n",
      "\n",
      "- *Inverse* : op ration ramenant une image dans son  tat d'origine.\n",
      "\n",
      "- *JPEG-2000* : m thode r cente de compression d'images qui utilise une transformation en ondelettes.\n",
      "\n",
      "- *Luminance* : moyenne des diff rents canaux d'une image, qui indique la puissance lumineuse du pixel.\n",
      "\n",
      "- *Matrice* : tableau de valeurs, repr sent  sous la forme $(a_{i,j})_{i,j}$.\n",
      "\n",
      "- *M diane* : valeur centrale lorsque l'on classe par ordre croissant un ensemble de valeurs.\n",
      "\n",
      "- *Moyenne* : la moyenne d'un ensemble de valeurs est leur somme divis e par leur nombre.\n",
      "\n",
      "- *Niveaux de gris* : nuances de gris utilis es pour afficher   l' cran une image num rique.\n",
      "\n",
      "- *Nombres entiers* : nombres 0, 1, 2, 3, 4 ...\n",
      "\n",
      "- *Octet* : ensemble de huit bits cons cutifs.\n",
      "\n",
      "- *Ondelettes* : transformation de l'image qui est utilis e par la m thode JPEG-2000 de compression d'images.\n",
      "\n",
      "- *Ordre croissant* : classement d'un ensemble de valeurs de la plus petite   la plus grande.\n",
      "\n",
      "- *Pixel* : une case dans un tableau de valeurs correspondant   une image num rique.\n",
      "\n",
      "- *Quantification* : proc d  consistant   r duire l'ensemble des valeurs possibles d'une image num rique.\n",
      "\n",
      "- *Racine carr e* : la racine carr e $b$ d'une valeur positive $a$ est la valeur positive $b$ v rifiant $a=b \\times b$. On la note $\\sqrt{a}$.\n",
      "\n",
      "- *R solution* : taille d'une image (nombre de pixels).\n",
      "\n",
      "- *Sous-expos e* : photographie d'une sc ne trop sombre pour laquelle l'objectif photographique n'est pas rest  assez longtemps ouvert.\n",
      "\n",
      "- *Synth se additive* : r gle permettant de construire une couleur quelconque   partir des trois couleurs rouge, vert et bleu. C'est la r gle qui r git le m lange des couleurs de faisceaux lumineux utilis s pour l' clairage d'un mur blanc.\n",
      "\n",
      "- *Synth se soustractive* : r gle permettant de construire une couleur quelconque   partir des trois couleurs cyan, magenta et jaune. C'est la r gle qui r git le m lange des couleurs en peinture."
     ]
    }
   ],
   "metadata": {}
  }
 ]
}