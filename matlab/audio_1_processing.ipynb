{
  "metadata": {
    "name": ""
  },
  "nbformat": 3,
  "nbformat_minor": 0,
  "worksheets": [
    {
      "cells": [
        {
          "cell_type": "markdown",
          "metadata": {},
          "source": [
            "Sound Processing with Short Time Fourier Transform",
            "==================================================",
            "$\\newcommand{\\dotp}[2]{\\langle #1, #2 \\rangle}",
            "\\newcommand{\\enscond}[2]{\\lbrace #1, #2 \\rbrace}",
            "\\newcommand{\\pd}[2]{ \\frac{ \\partial #1}{\\partial #2} }",
            "\\newcommand{\\umin}[1]{\\underset{#1}{\\min}\\;}",
            "\\newcommand{\\umax}[1]{\\underset{#1}{\\max}\\;}",
            "\\newcommand{\\umin}[1]{\\underset{#1}{\\min}\\;}",
            "\\newcommand{\\uargmin}[1]{\\underset{#1}{argmin}\\;}",
            "\\newcommand{\\norm}[1]{\\|#1\\|}",
            "\\newcommand{\\abs}[1]{\\left|#1\\right|}",
            "\\newcommand{\\choice}[1]{ \\left\\{  \\begin{array}{l} #1 \\end{array} \\right. }",
            "\\newcommand{\\pa}[1]{\\left(#1\\right)}",
            "\\newcommand{\\diag}[1]{{diag}\\left( #1 \\right)}",
            "\\newcommand{\\qandq}{\\quad\\text{and}\\quad}",
            "\\newcommand{\\qwhereq}{\\quad\\text{where}\\quad}",
            "\\newcommand{\\qifq}{ \\quad \\text{if} \\quad }",
            "\\newcommand{\\qarrq}{ \\quad \\Longrightarrow \\quad }",
            "\\newcommand{\\ZZ}{\\mathbb{Z}}",
            "\\newcommand{\\CC}{\\mathbb{C}}",
            "\\newcommand{\\RR}{\\mathbb{R}}",
            "\\newcommand{\\EE}{\\mathbb{E}}",
            "\\newcommand{\\Zz}{\\mathcal{Z}}",
            "\\newcommand{\\Ww}{\\mathcal{W}}",
            "\\newcommand{\\Vv}{\\mathcal{V}}",
            "\\newcommand{\\Nn}{\\mathcal{N}}",
            "\\newcommand{\\NN}{\\mathcal{N}}",
            "\\newcommand{\\Hh}{\\mathcal{H}}",
            "\\newcommand{\\Bb}{\\mathcal{B}}",
            "\\newcommand{\\Ee}{\\mathcal{E}}",
            "\\newcommand{\\Cc}{\\mathcal{C}}",
            "\\newcommand{\\Gg}{\\mathcal{G}}",
            "\\newcommand{\\Ss}{\\mathcal{S}}",
            "\\newcommand{\\Pp}{\\mathcal{P}}",
            "\\newcommand{\\Ff}{\\mathcal{F}}",
            "\\newcommand{\\Xx}{\\mathcal{X}}",
            "\\newcommand{\\Mm}{\\mathcal{M}}",
            "\\newcommand{\\Ii}{\\mathcal{I}}",
            "\\newcommand{\\Dd}{\\mathcal{D}}",
            "\\newcommand{\\Ll}{\\mathcal{L}}",
            "\\newcommand{\\Tt}{\\mathcal{T}}",
            "\\newcommand{\\si}{\\sigma}",
            "\\newcommand{\\al}{\\alpha}",
            "\\newcommand{\\la}{\\lambda}",
            "\\newcommand{\\ga}{\\gamma}",
            "\\newcommand{\\Ga}{\\Gamma}",
            "\\newcommand{\\La}{\\Lambda}",
            "\\newcommand{\\si}{\\sigma}",
            "\\newcommand{\\Si}{\\Sigma}",
            "\\newcommand{\\be}{\\beta}",
            "\\newcommand{\\de}{\\delta}",
            "\\newcommand{\\De}{\\Delta}",
            "\\renewcommand{\\phi}{\\varphi}",
            "\\renewcommand{\\th}{\\theta}",
            "\\newcommand{\\om}{\\omega}",
            "\\newcommand{\\Om}{\\Omega}",
            "$"
          ]
        },
        {
          "cell_type": "markdown",
          "metadata": {},
          "source": [
            "This numerical tour explores local Fourier analysis of sounds, and its",
            "application to source denoising."
          ]
        },
        {
          "cell_type": "code",
          "collapsed": false,
          "input": [
            "%load_ext pymatbridge"
          ],
          "language": "python",
          "metadata": {},
          "outputs": []
        },
        {
          "cell_type": "code",
          "collapsed": false,
          "input": [
            "%%matlab",
            "addpath('toolbox_signal')",
            "addpath('toolbox_general')",
            "addpath('solutions/audio_1_processing')"
          ],
          "language": "python",
          "metadata": {},
          "outputs": []
        },
        {
          "cell_type": "markdown",
          "metadata": {},
          "source": [
            "Installation",
            "------------",
            "You need to download [numerical_tours](https://github.com/gpeyre/numerical-tours/archive/master.zip)",
            "and install the IPython [notebook](http://ipython.org/install.html) to run the code.",
            "",
            "You must also install the [python-matlab-bridge](http://arokem.github.io/python-matlab-bridge/)."
          ]
        },
        {
          "cell_type": "markdown",
          "metadata": {},
          "source": [
            "Local Fourier analysis of sound.",
            "--------------------------------",
            "A sound is a 1D signal that is locally highly oscillating and stationary.",
            "A local Fourier analysis is thus usefull to study the property of the",
            "sound such as its local amplitude and frequency.",
            "",
            "",
            "First we load a sound, with a slight sub-sampling"
          ]
        },
        {
          "cell_type": "code",
          "collapsed": false,
          "input": [
            "%%matlab",
            "n = 1024*16;",
            "options.n = n;",
            "[x,fs] = load_sound('bird', n);"
          ],
          "language": "python",
          "metadata": {},
          "outputs": []
        },
        {
          "cell_type": "markdown",
          "metadata": {},
          "source": [
            "You can actually play a sound.",
            "In case this does not work, you need to run the command",
            "|wavwrite(x(:)', 'tmp.wav')| and click on the saved file |'tmp.wav'|",
            "to read it."
          ]
        },
        {
          "cell_type": "code",
          "collapsed": false,
          "input": [
            "%%matlab",
            "sound(x(:)',fs);"
          ],
          "language": "python",
          "metadata": {},
          "outputs": []
        },
        {
          "cell_type": "markdown",
          "metadata": {},
          "source": [
            "We can display the sound."
          ]
        },
        {
          "cell_type": "code",
          "collapsed": false,
          "input": [
            "%%matlab",
            "clf;",
            "plot(1:n,x);",
            "axis('tight');",
            "set_graphic_sizes([], 20);",
            "title('Signal');"
          ],
          "language": "python",
          "metadata": {},
          "outputs": []
        },
        {
          "cell_type": "markdown",
          "metadata": {},
          "source": [
            "Local zooms on the sound show that it is highly oscilating."
          ]
        },
        {
          "cell_type": "code",
          "collapsed": false,
          "input": [
            "%%matlab",
            "p = 512;",
            "t = 1:n;",
            "clf;",
            "sel = n/4 + (0:p-1);",
            "subplot(2,1,1);",
            "plot(t(sel),x(sel)); axis tight;",
            "sel = n/2 + (0:p-1);",
            "subplot(2,1,2);",
            "plot(t(sel),x(sel)); axis tight;"
          ],
          "language": "python",
          "metadata": {},
          "outputs": []
        },
        {
          "cell_type": "markdown",
          "metadata": {},
          "source": [
            "Exercise 1",
            "----------",
            "Compute the local Fourier transform around a point |t0| of |x|, which is the FFT (use the",
            "function |fft|) of the windowed signal |x.*h| where |h| is smooth",
            "windowing function located around |t0|. For instance you can use for |h|",
            "a Gaussian bump centered at |t0|. To center the FFT for display, use",
            "|fftshift|.",
            "enter for the Fourier analysis",
            "idth of the bump",
            "indow",
            "ft",
            "isplay signal",
            "isplay FFTs"
          ]
        },
        {
          "cell_type": "code",
          "collapsed": false,
          "input": [
            "%%matlab",
            "exo1()"
          ],
          "language": "python",
          "metadata": {},
          "outputs": []
        },
        {
          "cell_type": "code",
          "collapsed": false,
          "input": [
            "%%matlab",
            "## Insert your code here."
          ],
          "language": "python",
          "metadata": {},
          "outputs": []
        },
        {
          "cell_type": "markdown",
          "metadata": {},
          "source": [
            "A good windowing function should balance both time localization and",
            "frequency localization."
          ]
        },
        {
          "cell_type": "code",
          "collapsed": false,
          "input": [
            "%%matlab",
            "t = linspace(-10,10,2048);",
            "eta = 1e-5;",
            "vmin = -2;"
          ],
          "language": "python",
          "metadata": {},
          "outputs": []
        },
        {
          "cell_type": "markdown",
          "metadata": {},
          "source": [
            "The block window has a sharp transition and thus a poor frequency",
            "localization."
          ]
        },
        {
          "cell_type": "code",
          "collapsed": false,
          "input": [
            "%%matlab",
            "h = double( abs(t)<1 );",
            "hf = fftshift(abs(fft(h)));",
            "hf = log10(eta+hf); hf = hf/max(hf);",
            "clf;",
            "subplot(2,1,1);",
            "title('Block window');",
            "plot(t, h); axis([-2 2, -.1, 1.1]);",
            "subplot(2,1,2);",
            "plot(t, hf); axis([-2 2, vmin, 1.1]);",
            "title('Fourier transform');"
          ],
          "language": "python",
          "metadata": {},
          "outputs": []
        },
        {
          "cell_type": "markdown",
          "metadata": {},
          "source": [
            "A Hamming window is smoother."
          ]
        },
        {
          "cell_type": "code",
          "collapsed": false,
          "input": [
            "%%matlab",
            "h = cos(t*pi()/2) .* double(abs(t)<1);",
            "hf = fftshift(abs(fft(h)));",
            "hf = log10(eta+hf); hf = hf/max(hf);",
            "clf;",
            "subplot(2,1,1);",
            "title('Hamming window');",
            "plot(t, h); axis([-2 2, -.1, 1.1]);",
            "subplot(2,1,2);",
            "plot(t, hf); axis([-2 2, vmin, 1.1]);",
            "title('Fourier transform');"
          ],
          "language": "python",
          "metadata": {},
          "outputs": []
        },
        {
          "cell_type": "markdown",
          "metadata": {},
          "source": [
            "A Haning window has continuous derivatives."
          ]
        },
        {
          "cell_type": "code",
          "collapsed": false,
          "input": [
            "%%matlab",
            "h = (cos(t*pi())+1)/2 .* double(abs(t)<1);",
            "hf = fftshift(abs(fft(h)));",
            "hf = log10(eta+hf); hf = hf/max(hf);",
            "clf;",
            "subplot(2,1,1);",
            "title('Haning window');",
            "plot(t, h); axis([-2 2, -.1, 1.1]);",
            "subplot(2,1,2);",
            "plot(t, hf); axis([-2 2, vmin, 1.1]);",
            "title('Fourier transform');"
          ],
          "language": "python",
          "metadata": {},
          "outputs": []
        },
        {
          "cell_type": "markdown",
          "metadata": {},
          "source": [
            "A normalized Haning window has a sharper transition. It has the advantage",
            "of generating a tight frame STFT, and is used in the following."
          ]
        },
        {
          "cell_type": "code",
          "collapsed": false,
          "input": [
            "%%matlab",
            "h = sqrt(2)/2 * (1+cos(t*pi())) ./ sqrt( 1+cos(t*pi()).^2 ) .* double(abs(t)<1);",
            "hf = fftshift(abs(fft(h)));",
            "hf = log10(eta+hf); hf = hf/max(hf);",
            "clf;",
            "subplot(2,1,1);",
            "title('Normalized Haning window');",
            "plot(t, h); axis([-2 2, -.1, 1.1]);",
            "subplot(2,1,2);",
            "plot(t, hf); axis([-2 2, vmin, 1.1]);",
            "title('Fourier transform');"
          ],
          "language": "python",
          "metadata": {},
          "outputs": []
        },
        {
          "cell_type": "markdown",
          "metadata": {},
          "source": [
            "Short time Fourier transform.",
            "-----------------------------",
            "Gathering a local Fourier transform at equispaced point create a local",
            "Fourier transform, also called *spectrogram*. By carefully chosing the",
            "window, this transform corresponds to the decomposition of the signal in",
            "a redundant tight frame. The redundancy corresponds to the overlap of the",
            "windows, and the tight frame corresponds to the fact that the",
            "pseudo-inverse is simply the transposed of the transform (it means that",
            "the same window can be used for synthesis with a simple summation of the",
            "reconstructed signal over each window).",
            "",
            "",
            "The only parameters of the transform are the size of the window and the",
            "overlap.",
            "",
            "size of the window"
          ]
        },
        {
          "cell_type": "code",
          "collapsed": false,
          "input": [
            "%%matlab",
            "w = 64*2;"
          ],
          "language": "python",
          "metadata": {},
          "outputs": []
        },
        {
          "cell_type": "markdown",
          "metadata": {},
          "source": [
            "overlap of the window"
          ]
        },
        {
          "cell_type": "code",
          "collapsed": false,
          "input": [
            "%%matlab",
            "q = w/2;"
          ],
          "language": "python",
          "metadata": {},
          "outputs": []
        },
        {
          "cell_type": "markdown",
          "metadata": {},
          "source": [
            "Gabor atoms are computed using a Haning window.",
            "The atoms are obtained by translating in time and in frequency",
            "(modulation) the window."
          ]
        },
        {
          "cell_type": "code",
          "collapsed": false,
          "input": [
            "%%matlab",
            "t = 0:3*w-1;",
            "t1 = t-2*w;",
            "f = w/8;"
          ],
          "language": "python",
          "metadata": {},
          "outputs": []
        },
        {
          "cell_type": "markdown",
          "metadata": {},
          "source": [
            "Position 0, frequency 0."
          ]
        },
        {
          "cell_type": "code",
          "collapsed": false,
          "input": [
            "%%matlab",
            "g1 = sin( pi*t/w ).^2 .* double(t<w);"
          ],
          "language": "python",
          "metadata": {},
          "outputs": []
        },
        {
          "cell_type": "markdown",
          "metadata": {},
          "source": [
            "Position 2*w, frequency 0."
          ]
        },
        {
          "cell_type": "code",
          "collapsed": false,
          "input": [
            "%%matlab",
            "g2 = sin( pi*t1/w ).^2 .* double( t1<w & t1>=0 );"
          ],
          "language": "python",
          "metadata": {},
          "outputs": []
        },
        {
          "cell_type": "markdown",
          "metadata": {},
          "source": [
            "Position 0, frequency w/8"
          ]
        },
        {
          "cell_type": "code",
          "collapsed": false,
          "input": [
            "%%matlab",
            "g3 = g1 .* sin( t * 2*pi/w * f);"
          ],
          "language": "python",
          "metadata": {},
          "outputs": []
        },
        {
          "cell_type": "markdown",
          "metadata": {},
          "source": [
            "Position 2*w, frequency w/8"
          ]
        },
        {
          "cell_type": "code",
          "collapsed": false,
          "input": [
            "%%matlab",
            "g4 = g2 .* sin( t * 2*pi/w * f);"
          ],
          "language": "python",
          "metadata": {},
          "outputs": []
        },
        {
          "cell_type": "markdown",
          "metadata": {},
          "source": [
            "display"
          ]
        },
        {
          "cell_type": "code",
          "collapsed": false,
          "input": [
            "%%matlab",
            "clf;",
            "subplot(2,2,1);",
            "plot(g1); axis('tight');",
            "title('Position 0, frequency 0');",
            "subplot(2,2,2);",
            "plot(g2); axis('tight');",
            "title('Position 2*w, frequency 0');",
            "subplot(2,2,3);",
            "plot(g3); axis('tight');",
            "title('Position 0, frequency w/8');",
            "subplot(2,2,4);",
            "plot(g4); axis('tight');",
            "title('Position 2*w, frequency w/8');"
          ],
          "language": "python",
          "metadata": {},
          "outputs": []
        },
        {
          "cell_type": "markdown",
          "metadata": {},
          "source": [
            "We can compute a spectrogram of the sound to see its local Fourier",
            "content. The number of windowed used is |(n-noverlap)/(w-noverlap)|"
          ]
        },
        {
          "cell_type": "code",
          "collapsed": false,
          "input": [
            "%%matlab",
            "S = perform_stft(x,w,q, options);"
          ],
          "language": "python",
          "metadata": {},
          "outputs": []
        },
        {
          "cell_type": "markdown",
          "metadata": {},
          "source": [
            "To see more clearly the evolution of the harmonics, we can display the",
            "spectrogram in log coordinates. The top of the spectrogram corresponds to",
            "low frequencies.",
            "",
            "display the spectrogram"
          ]
        },
        {
          "cell_type": "code",
          "collapsed": false,
          "input": [
            "%%matlab",
            "clf; imageplot(abs(S)); axis('on');"
          ],
          "language": "python",
          "metadata": {},
          "outputs": []
        },
        {
          "cell_type": "markdown",
          "metadata": {},
          "source": [
            "display log spectrogram"
          ]
        },
        {
          "cell_type": "code",
          "collapsed": false,
          "input": [
            "%%matlab",
            "plot_spectrogram(S,x);"
          ],
          "language": "python",
          "metadata": {},
          "outputs": []
        },
        {
          "cell_type": "markdown",
          "metadata": {},
          "source": [
            "The STFT transform is decomposing the signal in a redundant tight frame.",
            "This can be checked by measuring the energy conservation.",
            "",
            "energy of the signal"
          ]
        },
        {
          "cell_type": "code",
          "collapsed": false,
          "input": [
            "%%matlab",
            "e = norm(x,'fro').^2;"
          ],
          "language": "python",
          "metadata": {},
          "outputs": []
        },
        {
          "cell_type": "markdown",
          "metadata": {},
          "source": [
            "energy of the coefficients"
          ]
        },
        {
          "cell_type": "code",
          "collapsed": false,
          "input": [
            "%%matlab",
            "eS = norm(abs(S),'fro').^2;",
            "disp(strcat(['Energy conservation (should be 1)=' num2str(e/eS)]));"
          ],
          "language": "python",
          "metadata": {},
          "outputs": []
        },
        {
          "cell_type": "markdown",
          "metadata": {},
          "source": [
            "One can also",
            "check that the inverse transform (which is just the transposed operator -",
            "it implements exactly the pseudo inverse) is working fine.",
            "",
            "one must give the signal size for the reconstruction"
          ]
        },
        {
          "cell_type": "code",
          "collapsed": false,
          "input": [
            "%%matlab",
            "x1 = perform_stft(S,w,q, options);",
            "disp(strcat(['Reconstruction error (should be 0)=' num2str( norm(x-x1, 'fro')./norm(x,'fro') ) ]));"
          ],
          "language": "python",
          "metadata": {},
          "outputs": []
        },
        {
          "cell_type": "markdown",
          "metadata": {},
          "source": [
            "Audio Denoising",
            "---------------",
            "One can perform denosing by a non-linear thresholding over the",
            "transfomede Fourier domain.",
            "",
            "",
            "First we create a noisy signal"
          ]
        },
        {
          "cell_type": "code",
          "collapsed": false,
          "input": [
            "%%matlab",
            "sigma = .2;",
            "xn = x + randn(size(x))*sigma;"
          ],
          "language": "python",
          "metadata": {},
          "outputs": []
        },
        {
          "cell_type": "markdown",
          "metadata": {},
          "source": [
            "Play the noisy sound."
          ]
        },
        {
          "cell_type": "code",
          "collapsed": false,
          "input": [
            "%%matlab",
            "sound(xn,fs);"
          ],
          "language": "python",
          "metadata": {},
          "outputs": []
        },
        {
          "cell_type": "markdown",
          "metadata": {},
          "source": [
            "Display the Sounds."
          ]
        },
        {
          "cell_type": "code",
          "collapsed": false,
          "input": [
            "%%matlab",
            "clf;",
            "subplot(2,1,1);",
            "plot(x); axis([1 n -1.2 1.2]);",
            "set_graphic_sizes([], 20);",
            "title('Original signal');",
            "subplot(2,1,2);",
            "plot(xn); axis([1 n -1.2 1.2]);",
            "set_graphic_sizes([], 20);",
            "title('Noisy signal');"
          ],
          "language": "python",
          "metadata": {},
          "outputs": []
        },
        {
          "cell_type": "markdown",
          "metadata": {},
          "source": [
            "One can threshold the spectrogram.",
            "",
            "perform thresholding"
          ]
        },
        {
          "cell_type": "code",
          "collapsed": false,
          "input": [
            "%%matlab",
            "Sn = perform_stft(xn,w,q, options);",
            "SnT = perform_thresholding(Sn, 2*sigma, 'hard');"
          ],
          "language": "python",
          "metadata": {},
          "outputs": []
        },
        {
          "cell_type": "markdown",
          "metadata": {},
          "source": [
            "display the results"
          ]
        },
        {
          "cell_type": "code",
          "collapsed": false,
          "input": [
            "%%matlab",
            "subplot(2,1,1);",
            "plot_spectrogram(Sn);",
            "subplot(2,1,2);",
            "plot_spectrogram(SnT);"
          ],
          "language": "python",
          "metadata": {},
          "outputs": []
        },
        {
          "cell_type": "markdown",
          "metadata": {},
          "source": [
            "Exercise 2",
            "----------",
            "A denoising is performed by hard or soft thresholding the STFT of the",
            "noisy signal. Compute the denosing SNR with both soft and hard",
            "thresholding, and compute the threshold that minimize the SNR. Remember that a soft thresholding",
            "should be approximately twice smaller than a hard thresholding. Check the",
            "result by listening. What can you conclude about the quality of the",
            "denoised signal ?",
            "etrieve best hard thresholding result",
            "isplay the error curves"
          ]
        },
        {
          "cell_type": "code",
          "collapsed": false,
          "input": [
            "%%matlab",
            "exo2()"
          ],
          "language": "python",
          "metadata": {},
          "outputs": []
        },
        {
          "cell_type": "code",
          "collapsed": false,
          "input": [
            "%%matlab",
            "## Insert your code here."
          ],
          "language": "python",
          "metadata": {},
          "outputs": []
        },
        {
          "cell_type": "markdown",
          "metadata": {},
          "source": [
            "Exercise 3",
            "----------",
            "Display and hear the results. What do you notice ?",
            "isplay",
            "ear"
          ]
        },
        {
          "cell_type": "code",
          "collapsed": false,
          "input": [
            "%%matlab",
            "exo3()"
          ],
          "language": "python",
          "metadata": {},
          "outputs": []
        },
        {
          "cell_type": "code",
          "collapsed": false,
          "input": [
            "%%matlab",
            "## Insert your code here."
          ],
          "language": "python",
          "metadata": {},
          "outputs": []
        },
        {
          "cell_type": "markdown",
          "metadata": {},
          "source": [
            "Audio Block Thresholding",
            "------------------------",
            "It is possible to remove musical noise by thresholding blocks of STFT",
            "coefficients.",
            "",
            "",
            "Denoising is performed by block soft thresholding.",
            "",
            "perform thresholding"
          ]
        },
        {
          "cell_type": "code",
          "collapsed": false,
          "input": [
            "%%matlab",
            "Sn = perform_stft(xn,w,q, options);",
            "SnT = perform_thresholding(Sn, sigma, 'block');"
          ],
          "language": "python",
          "metadata": {},
          "outputs": []
        },
        {
          "cell_type": "markdown",
          "metadata": {},
          "source": [
            "display the results"
          ]
        },
        {
          "cell_type": "code",
          "collapsed": false,
          "input": [
            "%%matlab",
            "subplot(2,1,1);",
            "plot_spectrogram(Sn);",
            "subplot(2,1,2);",
            "plot_spectrogram(SnT);"
          ],
          "language": "python",
          "metadata": {},
          "outputs": []
        },
        {
          "cell_type": "markdown",
          "metadata": {},
          "source": [
            "Exercise 4",
            "----------",
            "Trie for various block sizes and report the best results.",
            " progressbar(k,length(bsX(:)));"
          ]
        },
        {
          "cell_type": "code",
          "collapsed": false,
          "input": [
            "%%matlab",
            "exo4()"
          ],
          "language": "python",
          "metadata": {},
          "outputs": []
        },
        {
          "cell_type": "code",
          "collapsed": false,
          "input": [
            "%%matlab",
            "## Insert your code here."
          ],
          "language": "python",
          "metadata": {},
          "outputs": []
        }
      ]
    }
  ]
}