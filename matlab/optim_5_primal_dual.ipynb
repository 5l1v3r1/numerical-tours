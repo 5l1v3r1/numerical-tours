{
  "metadata": {
    "name": ""
  },
  "nbformat": 3,
  "nbformat_minor": 0,
  "worksheets": [
    {
      "cells": [
        {
          "cell_type": "markdown",
          "metadata": {},
          "source": [
            "Primal-Dual Proximal Splitting",
            "==============================",
            "$\\newcommand{\\dotp}[2]{\\langle #1, #2 \\rangle}",
            "\\newcommand{\\enscond}[2]{\\lbrace #1, #2 \\rbrace}",
            "\\newcommand{\\pd}[2]{ \\frac{ \\partial #1}{\\partial #2} }",
            "\\newcommand{\\umin}[1]{\\underset{#1}{\\min}\\;}",
            "\\newcommand{\\umax}[1]{\\underset{#1}{\\max}\\;}",
            "\\newcommand{\\umin}[1]{\\underset{#1}{\\min}\\;}",
            "\\newcommand{\\uargmin}[1]{\\underset{#1}{argmin}\\;}",
            "\\newcommand{\\norm}[1]{\\|#1\\|}",
            "\\newcommand{\\abs}[1]{\\left|#1\\right|}",
            "\\newcommand{\\choice}[1]{ \\left\\{  \\begin{array}{l} #1 \\end{array} \\right. }",
            "\\newcommand{\\pa}[1]{\\left(#1\\right)}",
            "\\newcommand{\\diag}[1]{{diag}\\left( #1 \\right)}",
            "\\newcommand{\\qandq}{\\quad\\text{and}\\quad}",
            "\\newcommand{\\qwhereq}{\\quad\\text{where}\\quad}",
            "\\newcommand{\\qifq}{ \\quad \\text{if} \\quad }",
            "\\newcommand{\\qarrq}{ \\quad \\Longrightarrow \\quad }",
            "\\newcommand{\\ZZ}{\\mathbb{Z}}",
            "\\newcommand{\\CC}{\\mathbb{C}}",
            "\\newcommand{\\RR}{\\mathbb{R}}",
            "\\newcommand{\\EE}{\\mathbb{E}}",
            "\\newcommand{\\Zz}{\\mathcal{Z}}",
            "\\newcommand{\\Ww}{\\mathcal{W}}",
            "\\newcommand{\\Vv}{\\mathcal{V}}",
            "\\newcommand{\\Nn}{\\mathcal{N}}",
            "\\newcommand{\\NN}{\\mathcal{N}}",
            "\\newcommand{\\Hh}{\\mathcal{H}}",
            "\\newcommand{\\Bb}{\\mathcal{B}}",
            "\\newcommand{\\Ee}{\\mathcal{E}}",
            "\\newcommand{\\Cc}{\\mathcal{C}}",
            "\\newcommand{\\Gg}{\\mathcal{G}}",
            "\\newcommand{\\Ss}{\\mathcal{S}}",
            "\\newcommand{\\Pp}{\\mathcal{P}}",
            "\\newcommand{\\Ff}{\\mathcal{F}}",
            "\\newcommand{\\Xx}{\\mathcal{X}}",
            "\\newcommand{\\Mm}{\\mathcal{M}}",
            "\\newcommand{\\Ii}{\\mathcal{I}}",
            "\\newcommand{\\Dd}{\\mathcal{D}}",
            "\\newcommand{\\Ll}{\\mathcal{L}}",
            "\\newcommand{\\Tt}{\\mathcal{T}}",
            "\\newcommand{\\si}{\\sigma}",
            "\\newcommand{\\al}{\\alpha}",
            "\\newcommand{\\la}{\\lambda}",
            "\\newcommand{\\ga}{\\gamma}",
            "\\newcommand{\\Ga}{\\Gamma}",
            "\\newcommand{\\La}{\\Lambda}",
            "\\newcommand{\\si}{\\sigma}",
            "\\newcommand{\\Si}{\\Sigma}",
            "\\newcommand{\\be}{\\beta}",
            "\\newcommand{\\de}{\\delta}",
            "\\newcommand{\\De}{\\Delta}",
            "\\renewcommand{\\phi}{\\varphi}",
            "\\renewcommand{\\th}{\\theta}",
            "\\newcommand{\\om}{\\omega}",
            "\\newcommand{\\Om}{\\Omega}",
            "$"
          ]
        },
        {
          "cell_type": "markdown",
          "metadata": {},
          "source": [
            "This tour explores a primal-dual proximal splitting algorithm,",
            "with application to imaging problems."
          ]
        },
        {
          "cell_type": "code",
          "collapsed": false,
          "input": [
            "%load_ext pymatbridge"
          ],
          "language": "python",
          "metadata": {},
          "outputs": []
        },
        {
          "cell_type": "code",
          "collapsed": false,
          "input": [
            "%%matlab",
            "addpath('../toolbox_signal')",
            "addpath('../toolbox_general')",
            "addpath('../solutions/optim_5_primal_dual')"
          ],
          "language": "python",
          "metadata": {},
          "outputs": []
        },
        {
          "cell_type": "markdown",
          "metadata": {},
          "source": [
            "Installation",
            "------------",
            "You need to download [numerical_tours](https://github.com/gpeyre/numerical-tours/archive/master.zip)",
            "and install the IPython [notebook](http://ipython.org/install.html) to run the code.",
            "",
            "You must also install the [python-matlab-bridge](http://arokem.github.io/python-matlab-bridge/)."
          ]
        },
        {
          "cell_type": "markdown",
          "metadata": {},
          "source": [
            "Convex Optimization with a Primal-Dual Scheme",
            "---------------------------------------------",
            "In this tour we use the",
            "primal-dual algorithm detailed in:",
            "",
            "",
            "Antonin Chambolle and Thomas Pock",
            "_A First-order primal-dual algorithm for convex problems with application to imaging,_",
            "Journal of Mathematical Imaging and Vision,",
            "Volume 40, Number 1 (2011), 120-145",
            "",
            "",
            "One should note that there exist many other primal-dual schemes.",
            "",
            "",
            "We consider general optimization problems of the form",
            "$$ \\umin{f} F(K(f)) + G(f) $$",
            "where $F$ and $G$ are convex functions and $K : f \\mapsto K(f)$",
            "is a linear operator.",
            "",
            "",
            "For the primal-dual algorithm to be applicable, one should be able to",
            "compute the proximal mapping of $F$ and $G$, defined as:",
            "$$ \\text{Prox}_{\\gamma F}(x) = \\uargmin{y} \\frac{1}{2}\\norm{x-y}^2 + \\ga F(y) $$",
            "(the same definition applies also for $G$).",
            "",
            "",
            "The algorithm reads:",
            "$$ g_{k+1} = \\text{Prox}_{\\sigma F^*}( g_k + \\sigma K(\\tilde f_k) $$",
            "$$ f_{k+1} = \\text{Prox}_{\\tau G}(  f_k-\\tau K^*(g_k) ) $$",
            "$$ \\tilde f_{k+1} = f_{k+1} + \\theta (f_{k+1} - f_k) $$",
            "",
            "",
            "The dual functional is defined as",
            "$$ F^*(y) = \\umax{x} \\dotp{x}{y}-F(x). $$",
            "Note that being able to compute the proximal mapping of $F$ is",
            "equivalent to being able to compute the proximal mapping of $F^*$,",
            "thanks to Moreau's identity:",
            "$$ x = \\text{Prox}_{\\tau F^*}(x) + \\tau \\text{Prox}_{F/\\tau}(x/\\tau) $$",
            "",
            "",
            "It can be shown that in the case $\\theta=1$, if",
            "$\\sigma \\tau \\norm{K}^2<1$, then $f_k$ converges to a minimizer of",
            "the original minimization of $F(K(f)) + G(f)$.",
            "",
            "",
            "More general primal-dual schemes have been developped, see for instance",
            "",
            "",
            "L. Condat,",
            "_A primal-dual splitting method for convex optimization involving Lipschitzian, proximable and linear composite terms,_",
            "J. Optimization Theory and Applications, 2013, in press.",
            "",
            "",
            "Inpainting Problem",
            "------------------",
            "We consider a linear imaging operator $\\Phi : f \\mapsto \\Phi(f)$",
            "that maps high resolution images to low dimensional observations.",
            "Here we consider a pixel masking operator, that is diagonal over the",
            "spacial domain.",
            "",
            "",
            "Load an image."
          ]
        },
        {
          "cell_type": "code",
          "collapsed": false,
          "input": [
            "%%matlab",
            "name = 'lena';",
            "n = 256;",
            "f0 = load_image(name);",
            "f0 = rescale(crop(f0,n));"
          ],
          "language": "python",
          "metadata": {},
          "outputs": []
        },
        {
          "cell_type": "markdown",
          "metadata": {},
          "source": [
            "Display it."
          ]
        },
        {
          "cell_type": "code",
          "collapsed": false,
          "input": [
            "%%matlab",
            "clf;",
            "imageplot(f0);"
          ],
          "language": "python",
          "metadata": {},
          "outputs": []
        },
        {
          "cell_type": "markdown",
          "metadata": {},
          "source": [
            "We consider here the inpainting problem. This simply corresponds to a",
            "masking operator.",
            "",
            "",
            "Load a random mask $\\La$."
          ]
        },
        {
          "cell_type": "code",
          "collapsed": false,
          "input": [
            "%%matlab",
            "rho = .8;",
            "Lambda = rand(n,n)>rho;"
          ],
          "language": "python",
          "metadata": {},
          "outputs": []
        },
        {
          "cell_type": "markdown",
          "metadata": {},
          "source": [
            "Masking operator $ \\Phi $."
          ]
        },
        {
          "cell_type": "code",
          "collapsed": false,
          "input": [
            "%%matlab",
            "Phi = @(f)f.*Lambda;"
          ],
          "language": "python",
          "metadata": {},
          "outputs": []
        },
        {
          "cell_type": "markdown",
          "metadata": {},
          "source": [
            "Compute the observations $y=\\Phi f_0$."
          ]
        },
        {
          "cell_type": "code",
          "collapsed": false,
          "input": [
            "%%matlab",
            "y = Phi(f0);"
          ],
          "language": "python",
          "metadata": {},
          "outputs": []
        },
        {
          "cell_type": "markdown",
          "metadata": {},
          "source": [
            "Display it."
          ]
        },
        {
          "cell_type": "code",
          "collapsed": false,
          "input": [
            "%%matlab",
            "clf;",
            "imageplot(y);"
          ],
          "language": "python",
          "metadata": {},
          "outputs": []
        },
        {
          "cell_type": "markdown",
          "metadata": {},
          "source": [
            "Total Variation Regularization under Constraints",
            "------------------------------------------------",
            "We want to solve the noiseless inverse problem $y=\\Phi f$ using a total",
            "variation regularization:",
            "$$ \\umin{ y=\\Phi f } \\norm{\\nabla f}_1 $$",
            "",
            "",
            "This can be recasted as the minimization of $F(K(f)) + G(f)$ by",
            "introducing",
            "$$ G(f)=i_H(f), \\quad F(u)=\\norm{u}_1 \\qandq K=\\nabla, $$",
            "where $H = \\enscond{x}{\\Phi(x)=y}$ is an affine space, and $i_H$ is the indicator",
            "function",
            "$$ i_H(x) = \\choice{ 0 \\qifq x \\in H, \\\\ +\\infty \\qifq x \\notin H. } $$",
            "",
            "",
            "Shorcut for the operators."
          ]
        },
        {
          "cell_type": "code",
          "collapsed": false,
          "input": [
            "%%matlab",
            "K  = @(f)grad(f);",
            "KS = @(u)-div(u);"
          ],
          "language": "python",
          "metadata": {},
          "outputs": []
        },
        {
          "cell_type": "markdown",
          "metadata": {},
          "source": [
            "Shortcut for the TV norm."
          ]
        },
        {
          "cell_type": "code",
          "collapsed": false,
          "input": [
            "%%matlab",
            "Amplitude = @(u)sqrt(sum(u.^2,3));",
            "F = @(u)sum(sum(Amplitude(u)));"
          ],
          "language": "python",
          "metadata": {},
          "outputs": []
        },
        {
          "cell_type": "markdown",
          "metadata": {},
          "source": [
            "The proximal operator of the vectorial $\\ell^1$ norm reads",
            "$$ \\text{Prox}_{\\lambda F}(u) = \\max\\pa{0,1-\\frac{\\la}{\\norm{u_k}}} u_k $$"
          ]
        },
        {
          "cell_type": "code",
          "collapsed": false,
          "input": [
            "%%matlab",
            "ProxF = @(u,lambda)max(0,1-lambda./repmat(Amplitude(u), [1 1 2])).*u;"
          ],
          "language": "python",
          "metadata": {},
          "outputs": []
        },
        {
          "cell_type": "markdown",
          "metadata": {},
          "source": [
            "Display the thresholding on the vertical component of the vector."
          ]
        },
        {
          "cell_type": "code",
          "collapsed": false,
          "input": [
            "%%matlab",
            "t = -linspace(-2,2, 201);",
            "[Y,X] = meshgrid(t,t);",
            "U = cat(3,Y,X);",
            "V = ProxF(U,1);",
            "clf;",
            "surf(V(:,:,1));",
            "colormap jet(256);",
            "view(150,40);",
            "axis('tight');",
            "camlight; shading interp;"
          ],
          "language": "python",
          "metadata": {},
          "outputs": []
        },
        {
          "cell_type": "markdown",
          "metadata": {},
          "source": [
            "For any 1-homogeneous convex",
            "functional, the dual function is the indicator of a convex set. For",
            "the $\\ell^1$ norm, it is the indicator of the $\\ell^\\infty$ ball",
            "$$ F^* = i_{\\norm{\\cdot}_\\infty \\leq 1}",
            " \\qwhereq  \\norm{u}_\\infty = \\umax{i} \\norm{u_i}. $$",
            "",
            "",
            "The proximal operator of the dual function is hence a projector (and it",
            "does not depend on $\\sigma$ )",
            "$$ \\text{Prox}_{\\sigma F^*}(u) = \\text{Proj}_{\\norm{\\cdot}_\\infty \\leq 1}(u). $$",
            "",
            "",
            "A simple way to compute the proximal operator of the dual function $F^*$, we",
            "make use of Moreau's identity:",
            "  $$ x = \\text{Prox}_{\\tau F^*}(x) + \\tau \\text{Prox}_{F/\\tau}(x/\\tau) $$"
          ]
        },
        {
          "cell_type": "code",
          "collapsed": false,
          "input": [
            "%%matlab",
            "ProxFS = @(y,sigma)y-sigma*ProxF(y/sigma,1/sigma);"
          ],
          "language": "python",
          "metadata": {},
          "outputs": []
        },
        {
          "cell_type": "markdown",
          "metadata": {},
          "source": [
            "Display this dual proximal on the vertical component of the vector."
          ]
        },
        {
          "cell_type": "code",
          "collapsed": false,
          "input": [
            "%%matlab",
            "V = ProxFS(U,1);",
            "clf;",
            "surf(V(:,:,1));",
            "colormap jet(256);",
            "view(150,40);",
            "axis('tight');",
            "camlight; shading interp;"
          ],
          "language": "python",
          "metadata": {},
          "outputs": []
        },
        {
          "cell_type": "markdown",
          "metadata": {},
          "source": [
            "The proximal operator of $G = i_H$ is the projector on $H$. In our",
            "case, since $\\Phi$ is a diagonal so that the projection is simple to",
            "compute",
            "$$ \\text{Prox}_{\\tau G}(f) = \\text{Proj}_{H}(f) = f + \\Phi(y - \\Phi(f)) $$"
          ]
        },
        {
          "cell_type": "code",
          "collapsed": false,
          "input": [
            "%%matlab",
            "ProxG = @(f,tau)f + Phi(y - Phi(f));"
          ],
          "language": "python",
          "metadata": {},
          "outputs": []
        },
        {
          "cell_type": "markdown",
          "metadata": {},
          "source": [
            "Primal-dual Total Variation Regularization Algorithm",
            "----------------------------------------------------",
            "Now we can apply the primal dual scheme to the TV regularization problem.",
            "",
            "",
            "We set parameters for the algorithm.",
            "Note that in our case, $L=\\norm{K}^2=8$.",
            "One should has $L \\sigma \\tau < 1$."
          ]
        },
        {
          "cell_type": "code",
          "collapsed": false,
          "input": [
            "%%matlab",
            "L = 8;",
            "sigma = 10;",
            "tau = .9/(L*sigma);",
            "theta = 1;"
          ],
          "language": "python",
          "metadata": {},
          "outputs": []
        },
        {
          "cell_type": "markdown",
          "metadata": {},
          "source": [
            "Initialization, here |f| stands for the current iterate $f_k$,",
            "|g| for $g_k$ and |f1| for $\\tilde f_k$."
          ]
        },
        {
          "cell_type": "code",
          "collapsed": false,
          "input": [
            "%%matlab",
            "f = y;",
            "g = K(y)*0;",
            "f1 = f;"
          ],
          "language": "python",
          "metadata": {},
          "outputs": []
        },
        {
          "cell_type": "markdown",
          "metadata": {},
          "source": [
            "Example of one iterations."
          ]
        },
        {
          "cell_type": "code",
          "collapsed": false,
          "input": [
            "%%matlab",
            "fold = f;",
            "g = ProxFS( g+sigma*K(f1), sigma);",
            "f = ProxG(  f-tau*KS(g), tau);",
            "f1 = f + theta * (f-fold);"
          ],
          "language": "python",
          "metadata": {},
          "outputs": []
        },
        {
          "cell_type": "markdown",
          "metadata": {},
          "source": [
            "Exercise 1",
            "----------",
            "Implement the primal-dual algorithm.",
            "Monitor the evolution of the TV energy $F(K(f_k))$",
            "during the iterations.",
            "Note that one always has $ f_k \\in H $ so that the iterates",
            "satisfies the constraints."
          ]
        },
        {
          "cell_type": "code",
          "collapsed": false,
          "input": [
            "%%matlab",
            "exo1()"
          ],
          "language": "python",
          "metadata": {},
          "outputs": []
        },
        {
          "cell_type": "code",
          "collapsed": false,
          "input": [
            "## Insert your code here."
          ],
          "language": "python",
          "metadata": {},
          "outputs": []
        },
        {
          "cell_type": "markdown",
          "metadata": {},
          "source": [
            "Display inpainted image."
          ]
        },
        {
          "cell_type": "code",
          "collapsed": false,
          "input": [
            "%%matlab",
            "clf;",
            "imageplot(f);"
          ],
          "language": "python",
          "metadata": {},
          "outputs": []
        },
        {
          "cell_type": "markdown",
          "metadata": {},
          "source": [
            "Exercise 2",
            "----------",
            "Use the primal dual scheme to perform regularization in the presence of",
            "noise",
            "$$ \\umin{\\norm{y-\\Phi(f)} \\leq \\epsilon} \\norm{\\nabla f}_1. $$"
          ]
        },
        {
          "cell_type": "code",
          "collapsed": false,
          "input": [
            "%%matlab",
            "exo2()"
          ],
          "language": "python",
          "metadata": {},
          "outputs": []
        },
        {
          "cell_type": "code",
          "collapsed": false,
          "input": [
            "## Insert your code here."
          ],
          "language": "python",
          "metadata": {},
          "outputs": []
        },
        {
          "cell_type": "markdown",
          "metadata": {},
          "source": [
            "Inpainting Large Missing Regions",
            "--------------------------------",
            "It is possible to consider a more challening problem of inpainting large",
            "missing regions.",
            "",
            "",
            "To emphasis the effect of the TV functional, we use a simple geometric",
            "image."
          ]
        },
        {
          "cell_type": "code",
          "collapsed": false,
          "input": [
            "%%matlab",
            "n = 64;",
            "name = 'square';",
            "f0 = load_image(name,n);"
          ],
          "language": "python",
          "metadata": {},
          "outputs": []
        },
        {
          "cell_type": "markdown",
          "metadata": {},
          "source": [
            "We remove the central part of the image."
          ]
        },
        {
          "cell_type": "code",
          "collapsed": false,
          "input": [
            "%%matlab",
            "a = 4;",
            "Lambda = ones(n);",
            "Lambda(end/2-a:end/2+a,:) = 0;",
            "Phi = @(f)f.*Lambda;"
          ],
          "language": "python",
          "metadata": {},
          "outputs": []
        },
        {
          "cell_type": "markdown",
          "metadata": {},
          "source": [
            "Display."
          ]
        },
        {
          "cell_type": "code",
          "collapsed": false,
          "input": [
            "%%matlab",
            "clf;",
            "imageplot(f0, 'Original', 1,2,1);",
            "imageplot(Phi(f0), 'Damaged', 1,2,2);"
          ],
          "language": "python",
          "metadata": {},
          "outputs": []
        },
        {
          "cell_type": "markdown",
          "metadata": {},
          "source": [
            "Exercise 3",
            "----------",
            "Display the evolution of the inpainting process."
          ]
        },
        {
          "cell_type": "code",
          "collapsed": false,
          "input": [
            "%%matlab",
            "exo3()"
          ],
          "language": "python",
          "metadata": {},
          "outputs": []
        },
        {
          "cell_type": "code",
          "collapsed": false,
          "input": [
            "## Insert your code here."
          ],
          "language": "python",
          "metadata": {},
          "outputs": []
        }
      ]
    }
  ]
}