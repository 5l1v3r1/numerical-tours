{
  "metadata": {
    "name": ""
  },
  "nbformat": 3,
  "nbformat_minor": 0,
  "worksheets": [
    {
      "cells": [
        {
          "cell_type": "markdown",
          "metadata": {},
          "source": [
            "Fourier on Meshes",
            "=================",
            "$\\newcommand{\\dotp}[2]{\\langle #1, #2 \\rangle}",
            "\\newcommand{\\enscond}[2]{\\lbrace #1, #2 \\rbrace}",
            "\\newcommand{\\pd}[2]{ \\frac{ \\partial #1}{\\partial #2} }",
            "\\newcommand{\\umin}[1]{\\underset{#1}{\\min}\\;}",
            "\\newcommand{\\umax}[1]{\\underset{#1}{\\max}\\;}",
            "\\newcommand{\\umin}[1]{\\underset{#1}{\\min}\\;}",
            "\\newcommand{\\uargmin}[1]{\\underset{#1}{argmin}\\;}",
            "\\newcommand{\\norm}[1]{\\|#1\\|}",
            "\\newcommand{\\abs}[1]{\\left|#1\\right|}",
            "\\newcommand{\\choice}[1]{ \\left\\{  \\begin{array}{l} #1 \\end{array} \\right. }",
            "\\newcommand{\\pa}[1]{\\left(#1\\right)}",
            "\\newcommand{\\diag}[1]{{diag}\\left( #1 \\right)}",
            "\\newcommand{\\qandq}{\\quad\\text{and}\\quad}",
            "\\newcommand{\\qwhereq}{\\quad\\text{where}\\quad}",
            "\\newcommand{\\qifq}{ \\quad \\text{if} \\quad }",
            "\\newcommand{\\qarrq}{ \\quad \\Longrightarrow \\quad }",
            "\\newcommand{\\ZZ}{\\mathbb{Z}}",
            "\\newcommand{\\CC}{\\mathbb{C}}",
            "\\newcommand{\\RR}{\\mathbb{R}}",
            "\\newcommand{\\EE}{\\mathbb{E}}",
            "\\newcommand{\\Zz}{\\mathcal{Z}}",
            "\\newcommand{\\Ww}{\\mathcal{W}}",
            "\\newcommand{\\Vv}{\\mathcal{V}}",
            "\\newcommand{\\Nn}{\\mathcal{N}}",
            "\\newcommand{\\NN}{\\mathcal{N}}",
            "\\newcommand{\\Hh}{\\mathcal{H}}",
            "\\newcommand{\\Bb}{\\mathcal{B}}",
            "\\newcommand{\\Ee}{\\mathcal{E}}",
            "\\newcommand{\\Cc}{\\mathcal{C}}",
            "\\newcommand{\\Gg}{\\mathcal{G}}",
            "\\newcommand{\\Ss}{\\mathcal{S}}",
            "\\newcommand{\\Pp}{\\mathcal{P}}",
            "\\newcommand{\\Ff}{\\mathcal{F}}",
            "\\newcommand{\\Xx}{\\mathcal{X}}",
            "\\newcommand{\\Mm}{\\mathcal{M}}",
            "\\newcommand{\\Ii}{\\mathcal{I}}",
            "\\newcommand{\\Dd}{\\mathcal{D}}",
            "\\newcommand{\\Ll}{\\mathcal{L}}",
            "\\newcommand{\\Tt}{\\mathcal{T}}",
            "\\newcommand{\\si}{\\sigma}",
            "\\newcommand{\\al}{\\alpha}",
            "\\newcommand{\\la}{\\lambda}",
            "\\newcommand{\\ga}{\\gamma}",
            "\\newcommand{\\Ga}{\\Gamma}",
            "\\newcommand{\\La}{\\Lambda}",
            "\\newcommand{\\si}{\\sigma}",
            "\\newcommand{\\Si}{\\Sigma}",
            "\\newcommand{\\be}{\\beta}",
            "\\newcommand{\\de}{\\delta}",
            "\\newcommand{\\De}{\\Delta}",
            "\\renewcommand{\\phi}{\\varphi}",
            "\\renewcommand{\\th}{\\theta}",
            "\\newcommand{\\om}{\\omega}",
            "\\newcommand{\\Om}{\\Omega}",
            "$"
          ]
        },
        {
          "cell_type": "markdown",
          "metadata": {},
          "source": [
            "This tour explores the use of the eigenvectors of the Laplacian, for",
            "filtering and for compression."
          ]
        },
        {
          "cell_type": "code",
          "collapsed": false,
          "input": [
            "%load_ext pymatbridge"
          ],
          "language": "python",
          "metadata": {},
          "outputs": []
        },
        {
          "cell_type": "code",
          "collapsed": false,
          "input": [
            "%%matlab",
            "addpath('../toolbox_signal')",
            "addpath('../toolbox_general')",
            "addpath('../toolbox_graph')",
            "addpath('../solutions/meshproc_4_fourier')"
          ],
          "language": "python",
          "metadata": {},
          "outputs": []
        },
        {
          "cell_type": "markdown",
          "metadata": {},
          "source": [
            "Installation",
            "------------",
            "You need to download [numerical_tours](https://github.com/gpeyre/numerical-tours/archive/master.zip)",
            "and have the IPython notebook [installed](http://ipython.org/install.html) to run the code",
            "You must also install `pymatbridge`:",
            "",
            "```",
            "pip install pymatbridge",
            "```"
          ]
        },
        {
          "cell_type": "markdown",
          "metadata": {},
          "source": [
            "Fourier Basis on Meshes",
            "-----------------------",
            "The Fourier basis are defined as the eigenvector of the Laplacian.",
            "",
            "",
            "First load a mesh."
          ]
        },
        {
          "cell_type": "code",
          "collapsed": false,
          "input": [
            "%%matlab",
            "name = 'elephant-50kv';",
            "[vertex,faces] = read_mesh(name);",
            "options.name = name; ",
            "n = size(vertex,2);"
          ],
          "language": "python",
          "metadata": {},
          "outputs": []
        },
        {
          "cell_type": "markdown",
          "metadata": {},
          "source": [
            "The combinatorial laplacian is a linear operator",
            "(thus a NxN matrix where N is the number of vertices).",
            "It depends only on the connectivity of the mesh, thus on face only.",
            "",
            "",
            "Compute edge list."
          ]
        },
        {
          "cell_type": "code",
          "collapsed": false,
          "input": [
            "%%matlab",
            "E = [faces([1 2],:) faces([2 3],:) faces([3 1],:)];",
            "p = size(E,2);"
          ],
          "language": "python",
          "metadata": {},
          "outputs": []
        },
        {
          "cell_type": "markdown",
          "metadata": {},
          "source": [
            "Compute the adjacency matrix."
          ]
        },
        {
          "cell_type": "code",
          "collapsed": false,
          "input": [
            "%%matlab",
            "W = sparse( E(1,:), E(2,:), ones(p,1) );",
            "W = max(W,W');"
          ],
          "language": "python",
          "metadata": {},
          "outputs": []
        },
        {
          "cell_type": "markdown",
          "metadata": {},
          "source": [
            "Compute the combinatorial Laplacian, stored as a sparse matrix."
          ]
        },
        {
          "cell_type": "code",
          "collapsed": false,
          "input": [
            "%%matlab",
            "D = spdiags(sum(W)', 0, n,n);",
            "L = D-W;"
          ],
          "language": "python",
          "metadata": {},
          "outputs": []
        },
        {
          "cell_type": "markdown",
          "metadata": {},
          "source": [
            "The eigenvector of this matrix forms an orthogonal basis of the",
            "vector space of signal of NxN values (one real value per vertex).",
            "Those functions are the extension of the Fourier oscillating functions to surfaces.",
            "For a small mesh (less than 1000) vertices, one can compute this set of vectors using",
            "the |eig| functions. For large meshes, one can compute only a small (e.g. 50) number of",
            "low pass eigenvectors using the sparse eigenvector extraction procedure,",
            "|eigs|.",
            "",
            "",
            "Compute the eigenvectors."
          ]
        },
        {
          "cell_type": "code",
          "collapsed": false,
          "input": [
            "%%matlab",
            "nb = 80;",
            "opts.disp = 0;",
            "[U,S] = eigs(L,nb,'SM',opts);",
            "S = diag(S);"
          ],
          "language": "python",
          "metadata": {},
          "outputs": []
        },
        {
          "cell_type": "markdown",
          "metadata": {},
          "source": [
            "Order the eigenvector by increasing frequencies."
          ]
        },
        {
          "cell_type": "code",
          "collapsed": false,
          "input": [
            "%%matlab",
            "[S,I] = sort(S, 'ascend');",
            "U = real( U(:,I) );"
          ],
          "language": "python",
          "metadata": {},
          "outputs": []
        },
        {
          "cell_type": "markdown",
          "metadata": {},
          "source": [
            "Plot the eigenvalues.",
            "This corresponds to the spectrum of the triangulation. It depends only on",
            "the topology of the mesh."
          ]
        },
        {
          "cell_type": "code",
          "collapsed": false,
          "input": [
            "%%matlab",
            "clf;",
            "plot(S); axis('tight');"
          ],
          "language": "python",
          "metadata": {},
          "outputs": []
        },
        {
          "cell_type": "markdown",
          "metadata": {},
          "source": [
            "Display a sub-set of eigenvectors."
          ]
        },
        {
          "cell_type": "code",
          "collapsed": false,
          "input": [
            "%%matlab",
            "ilist = round(linspace(3,nb, 6));",
            "tau=2.2; % saturation for display",
            "clf;",
            "for i=1:length(ilist)",
            "    v = real(U(:,ilist(i)));",
            "    v = clamp( v/std(v),-tau,tau );",
            "    options.face_vertex_color = v;",
            "    subplot(2,3,i);",
            "    plot_mesh(vertex,faces,options);",
            "    shading interp; camlight; axis tight;",
            "    colormap jet(256);",
            "end"
          ],
          "language": "python",
          "metadata": {},
          "outputs": []
        },
        {
          "cell_type": "markdown",
          "metadata": {},
          "source": [
            "Linear Approximation over the Fourier Domain",
            "--------------------------------------------",
            "Linear approximation is obtained by keeping only the low frequency",
            "coefficient. This corresponds to a low pass filtering, since high",
            "frequency coefficients are removed.",
            "",
            "",
            "Compute the projection of each coordinate |vertex(i,:)| on the small",
            "set of |nb| frequencies."
          ]
        },
        {
          "cell_type": "code",
          "collapsed": false,
          "input": [
            "%%matlab",
            "pvertex = vertex*U;"
          ],
          "language": "python",
          "metadata": {},
          "outputs": []
        },
        {
          "cell_type": "markdown",
          "metadata": {},
          "source": [
            "Display the spectrum pf."
          ]
        },
        {
          "cell_type": "code",
          "collapsed": false,
          "input": [
            "%%matlab",
            "clf;",
            "plot(pvertex'); axis('tight');",
            "legend('X', 'Y', 'Z');"
          ],
          "language": "python",
          "metadata": {},
          "outputs": []
        },
        {
          "cell_type": "markdown",
          "metadata": {},
          "source": [
            "Reconstruct the mesh."
          ]
        },
        {
          "cell_type": "code",
          "collapsed": false,
          "input": [
            "%%matlab",
            "vertex1 = pvertex*U';"
          ],
          "language": "python",
          "metadata": {},
          "outputs": []
        },
        {
          "cell_type": "markdown",
          "metadata": {},
          "source": [
            "Compare before and after approximation."
          ]
        },
        {
          "cell_type": "code",
          "collapsed": false,
          "input": [
            "%%matlab",
            "clf;",
            "subplot(1,2,1);",
            "plot_mesh(vertex,faces);",
            "subplot(1,2,2);",
            "plot_mesh(vertex1,faces);"
          ],
          "language": "python",
          "metadata": {},
          "outputs": []
        },
        {
          "cell_type": "markdown",
          "metadata": {},
          "source": [
            "Exercise 1",
            "----------",
            "Show the smoothed mesh for an increasing number of Fourier frequencies |nb|."
          ]
        },
        {
          "cell_type": "code",
          "collapsed": false,
          "input": [
            "%%matlab",
            "exo1()"
          ],
          "language": "python",
          "metadata": {},
          "outputs": []
        },
        {
          "cell_type": "code",
          "collapsed": false,
          "input": [
            "## Insert your code here."
          ],
          "language": "python",
          "metadata": {},
          "outputs": []
        },
        {
          "cell_type": "markdown",
          "metadata": {},
          "source": [
            "Non-linear Approximation over the Fourier Domain",
            "------------------------------------------------",
            "Non-linear approximation is obtained by keeping the largest magnitude coefficients.",
            "It is more efficient than linear approximation since the L2 error",
            "is reduced.",
            "",
            "",
            "We study here the approximation on a small mesh, to be able to compute",
            "all the wavelet coefficients."
          ]
        },
        {
          "cell_type": "code",
          "collapsed": false,
          "input": [
            "%%matlab",
            "name = 'venus';",
            "[vertex,faces] = read_mesh(name);",
            "options.name = name;",
            "n = size(vertex,2);"
          ],
          "language": "python",
          "metadata": {},
          "outputs": []
        },
        {
          "cell_type": "markdown",
          "metadata": {},
          "source": [
            "Compute the combinatorial laplacian operator |L| of the mesh."
          ]
        },
        {
          "cell_type": "code",
          "collapsed": false,
          "input": [
            "%%matlab",
            "E = [faces([1 2],:) faces([2 3],:) faces([3 1],:)];",
            "W = sparse( E(1,:), E(2,:), ones(size(E,2),1) );",
            "W = max(W,W');",
            "L = spdiags(sum(W)', 0, n,n) - W;"
          ],
          "language": "python",
          "metadata": {},
          "outputs": []
        },
        {
          "cell_type": "markdown",
          "metadata": {},
          "source": [
            "Compute the full set of eigenvector."
          ]
        },
        {
          "cell_type": "code",
          "collapsed": false,
          "input": [
            "%%matlab",
            "[U,S] = eig(full(L));",
            "S = diag(S);",
            "[S,I] = sort(S, 'ascend');",
            "U = real( U(:,I) );"
          ],
          "language": "python",
          "metadata": {},
          "outputs": []
        },
        {
          "cell_type": "markdown",
          "metadata": {},
          "source": [
            "Plot the eigenvalues."
          ]
        },
        {
          "cell_type": "code",
          "collapsed": false,
          "input": [
            "%%matlab",
            "clf;",
            "plot(S); axis('tight');"
          ],
          "language": "python",
          "metadata": {},
          "outputs": []
        },
        {
          "cell_type": "markdown",
          "metadata": {},
          "source": [
            "Exercise 2",
            "----------",
            "Compute a best |m|-term non-linear approximation whith |m=.1*n|, by",
            "hard thresholding the Fourier coefficients using the correct threshold.",
            "Compare with linear |m| term approximation (use |m/3| coefficient for each",
            "coordinate X/Y/Z).",
            "on linear",
            "inear",
            "isplay"
          ]
        },
        {
          "cell_type": "code",
          "collapsed": false,
          "input": [
            "%%matlab",
            "exo2()"
          ],
          "language": "python",
          "metadata": {},
          "outputs": []
        },
        {
          "cell_type": "code",
          "collapsed": false,
          "input": [
            "## Insert your code here."
          ],
          "language": "python",
          "metadata": {},
          "outputs": []
        },
        {
          "cell_type": "markdown",
          "metadata": {},
          "source": [
            "Exercise 3",
            "----------",
            "Compare the rate-distortion curve (log of error as a function of the",
            "log of the number of coefficients) for linear and non-linear approximation.",
            "onlinear",
            "inear",
            "ormalize",
            "isplay"
          ]
        },
        {
          "cell_type": "code",
          "collapsed": false,
          "input": [
            "%%matlab",
            "exo3()"
          ],
          "language": "python",
          "metadata": {},
          "outputs": []
        },
        {
          "cell_type": "code",
          "collapsed": false,
          "input": [
            "## Insert your code here."
          ],
          "language": "python",
          "metadata": {},
          "outputs": []
        },
        {
          "cell_type": "markdown",
          "metadata": {},
          "source": [
            "Spectral Mesh Compression",
            "-------------------------",
            "Compression is obtained by quantizing the coefficients and entropic",
            "coding the resulting integer quantized coefficients.",
            "",
            "",
            "Set the quantization level. The larger, the more aggressive the coding."
          ]
        },
        {
          "cell_type": "code",
          "collapsed": false,
          "input": [
            "%%matlab",
            "T = .05;"
          ],
          "language": "python",
          "metadata": {},
          "outputs": []
        },
        {
          "cell_type": "markdown",
          "metadata": {},
          "source": [
            "Compute the interger, quantized coefficients."
          ]
        },
        {
          "cell_type": "code",
          "collapsed": false,
          "input": [
            "%%matlab",
            "pvertexI = floor(abs(pvertex/T)).*sign(pvertex);"
          ],
          "language": "python",
          "metadata": {},
          "outputs": []
        },
        {
          "cell_type": "markdown",
          "metadata": {},
          "source": [
            "For decompression, we compute de-quantized values from |pvertexI|,",
            "which are chosen as the mid-point of each quantization bin."
          ]
        },
        {
          "cell_type": "code",
          "collapsed": false,
          "input": [
            "%%matlab",
            "pvertexQ = sign(pvertexI) .* (abs(pvertexI)+.5) * T;"
          ],
          "language": "python",
          "metadata": {},
          "outputs": []
        },
        {
          "cell_type": "markdown",
          "metadata": {},
          "source": [
            "Reconstruct the mesh from the de-compressed coefficients."
          ]
        },
        {
          "cell_type": "code",
          "collapsed": false,
          "input": [
            "%%matlab",
            "vertex1 = pvertexQ*U';"
          ],
          "language": "python",
          "metadata": {},
          "outputs": []
        },
        {
          "cell_type": "markdown",
          "metadata": {},
          "source": [
            "Display the result of decompression."
          ]
        },
        {
          "cell_type": "code",
          "collapsed": false,
          "input": [
            "%%matlab",
            "clf;",
            "subplot(1,2,1);",
            "plot_mesh(vertex,faces);",
            "subplot(1,2,2);",
            "plot_mesh(vertex1,faces);"
          ],
          "language": "python",
          "metadata": {},
          "outputs": []
        },
        {
          "cell_type": "markdown",
          "metadata": {},
          "source": [
            "To evaluate the number of bit needed to store |pvertexI| in a file,",
            "we do not use a real entropic coder (such as Huffman tree of an",
            "arithmetic coder), but rather use the lower bound of the entropy.",
            "",
            "",
            "Compute the histogram of the coefficients."
          ]
        },
        {
          "cell_type": "code",
          "collapsed": false,
          "input": [
            "%%matlab",
            "t = min(pvertexI(:)):max(pvertexI(:));",
            "h = hist( pvertexI(:), t );",
            "h = max(h,1e-10); h = h/sum(h);"
          ],
          "language": "python",
          "metadata": {},
          "outputs": []
        },
        {
          "cell_type": "markdown",
          "metadata": {},
          "source": [
            "Display the histograms. Most of the coefficients have been quantized to",
            "0."
          ]
        },
        {
          "cell_type": "code",
          "collapsed": false,
          "input": [
            "%%matlab",
            "close; clf;",
            "bar(t, h);",
            "axis([-5 5 0 max(h)]);"
          ],
          "language": "python",
          "metadata": {},
          "outputs": []
        },
        {
          "cell_type": "markdown",
          "metadata": {},
          "source": [
            "Compute the entropy."
          ]
        },
        {
          "cell_type": "code",
          "collapsed": false,
          "input": [
            "%%matlab",
            "E = -sum( log2(h).*h );"
          ],
          "language": "python",
          "metadata": {},
          "outputs": []
        },
        {
          "cell_type": "markdown",
          "metadata": {},
          "source": [
            "The number of bit per vecter is |3*E| since one needs |E| bit in average",
            "to code an entry of |pvertexI|."
          ]
        },
        {
          "cell_type": "code",
          "collapsed": false,
          "input": [
            "%%matlab",
            "disp(['Nbr.bits per vertex = ' num2str(3*E,3)]);",
            "disp(['Error,          SNR = ' num2str(snr(vertex,vertex1),3) 'dB']);"
          ],
          "language": "python",
          "metadata": {},
          "outputs": []
        },
        {
          "cell_type": "markdown",
          "metadata": {},
          "source": [
            "Exercise 4",
            "----------",
            "Perform the compression for several quantization steps |T|",
            "and display the rate distortion curve showing the SNR",
            "as a function of the number of bits.",
            "lot"
          ]
        },
        {
          "cell_type": "code",
          "collapsed": false,
          "input": [
            "%%matlab",
            "exo4()"
          ],
          "language": "python",
          "metadata": {},
          "outputs": []
        },
        {
          "cell_type": "code",
          "collapsed": false,
          "input": [
            "## Insert your code here."
          ],
          "language": "python",
          "metadata": {},
          "outputs": []
        }
      ]
    }
  ]
}