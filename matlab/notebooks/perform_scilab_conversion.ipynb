{
  "metadata": {
    "name": ""
  },
  "nbformat": 3,
  "nbformat_minor": 0,
  "worksheets": [
    {
      "cells": [
        {
          "cell_type": "markdown",
          "metadata": {},
          "source": [
            "ction perform_scilab_conversion(name, outdir, toolbox_dir)",
            "==========================================================",
            "$\\newcommand{\\dotp}[2]{\\langle #1, #2 \\rangle}",
            "\\newcommand{\\enscond}[2]{\\lbrace #1, #2 \\rbrace}",
            "\\newcommand{\\pd}[2]{ \\frac{ \\partial #1}{\\partial #2} }",
            "\\newcommand{\\umin}[1]{\\underset{#1}{\\min}\\;}",
            "\\newcommand{\\umax}[1]{\\underset{#1}{\\max}\\;}",
            "\\newcommand{\\umin}[1]{\\underset{#1}{\\min}\\;}",
            "\\newcommand{\\uargmin}[1]{\\underset{#1}{argmin}\\;}",
            "\\newcommand{\\norm}[1]{\\|#1\\|}",
            "\\newcommand{\\abs}[1]{\\left|#1\\right|}",
            "\\newcommand{\\choice}[1]{ \\left\\{  \\begin{array}{l} #1 \\end{array} \\right. }",
            "\\newcommand{\\pa}[1]{\\left(#1\\right)}",
            "\\newcommand{\\diag}[1]{{diag}\\left( #1 \\right)}",
            "\\newcommand{\\qandq}{\\quad\\text{and}\\quad}",
            "\\newcommand{\\qwhereq}{\\quad\\text{where}\\quad}",
            "\\newcommand{\\qifq}{ \\quad \\text{if} \\quad }",
            "\\newcommand{\\qarrq}{ \\quad \\Longrightarrow \\quad }",
            "\\newcommand{\\ZZ}{\\mathbb{Z}}",
            "\\newcommand{\\CC}{\\mathbb{C}}",
            "\\newcommand{\\RR}{\\mathbb{R}}",
            "\\newcommand{\\EE}{\\mathbb{E}}",
            "\\newcommand{\\Zz}{\\mathcal{Z}}",
            "\\newcommand{\\Ww}{\\mathcal{W}}",
            "\\newcommand{\\Vv}{\\mathcal{V}}",
            "\\newcommand{\\Nn}{\\mathcal{N}}",
            "\\newcommand{\\NN}{\\mathcal{N}}",
            "\\newcommand{\\Hh}{\\mathcal{H}}",
            "\\newcommand{\\Bb}{\\mathcal{B}}",
            "\\newcommand{\\Ee}{\\mathcal{E}}",
            "\\newcommand{\\Cc}{\\mathcal{C}}",
            "\\newcommand{\\Gg}{\\mathcal{G}}",
            "\\newcommand{\\Ss}{\\mathcal{S}}",
            "\\newcommand{\\Pp}{\\mathcal{P}}",
            "\\newcommand{\\Ff}{\\mathcal{F}}",
            "\\newcommand{\\Xx}{\\mathcal{X}}",
            "\\newcommand{\\Mm}{\\mathcal{M}}",
            "\\newcommand{\\Ii}{\\mathcal{I}}",
            "\\newcommand{\\Dd}{\\mathcal{D}}",
            "\\newcommand{\\Ll}{\\mathcal{L}}",
            "\\newcommand{\\Tt}{\\mathcal{T}}",
            "\\newcommand{\\si}{\\sigma}",
            "\\newcommand{\\al}{\\alpha}",
            "\\newcommand{\\la}{\\lambda}",
            "\\newcommand{\\ga}{\\gamma}",
            "\\newcommand{\\Ga}{\\Gamma}",
            "\\newcommand{\\La}{\\Lambda}",
            "\\newcommand{\\si}{\\sigma}",
            "\\newcommand{\\Si}{\\Sigma}",
            "\\newcommand{\\be}{\\beta}",
            "\\newcommand{\\de}{\\delta}",
            "\\newcommand{\\De}{\\Delta}",
            "\\renewcommand{\\phi}{\\varphi}",
            "\\renewcommand{\\th}{\\theta}",
            "\\newcommand{\\om}{\\omega}",
            "\\newcommand{\\Om}{\\Omega}",
            "$"
          ]
        },
        {
          "cell_type": "markdown",
          "metadata": {},
          "source": [
            "perform_scilab_conversion - convert a matlab file to scilab",
            "",
            "  perform_scilab_conversion(name);",
            "",
            "  If name is empty, process all the files.",
            "",
            "  Copyright (c) 2008 Gabriel Peyre"
          ]
        },
        {
          "cell_type": "code",
          "collapsed": false,
          "input": [
            "%%matlab",
            "if nargin<2",
            "    outdir = '../scilab/';",
            "end",
            "if nargin<3",
            "    toolbox_dir = '../matlab/';",
            "end"
          ],
          "language": "python",
          "metadata": {},
          "outputs": []
        },
        {
          "cell_type": "code",
          "collapsed": false,
          "input": [
            "%%matlab",
            "if nargin<1 || isempty(name)",
            "    % back processing",
            "    list_ext = {'coding_' 'introduction_' 'image_' 'audio_' 'wavelet_' 'sparsity_' 'cs_' ...",
            "                'denoising_' 'inverse_' 'graphics_' 'multidim_' 'meshproc_' 'meshdeform_' ...",
            "                'meshwav_' 'variational_' 'fastmarching_'};",
            "    a = dir('*_*.m');",
            "    for i=1:length(a)",
            "        name = a(i).name;",
            "        for k=1:length(list_ext)",
            "            if not(isempty( findstr(name, list_ext{k}) ))",
            "                disp(['---> Translating ' name ' ...']);",
            "                perform_scilab_conversion(name(1:end-2));",
            "            end",
            "        end",
            "    end",
            "    return;",
            "end"
          ],
          "language": "python",
          "metadata": {},
          "outputs": []
        },
        {
          "cell_type": "code",
          "collapsed": false,
          "input": [
            "%%matlab",
            "fid     = fopen([name '.m'], 'rt');",
            "fidout  = fopen([outdir name '.sce'], 'wt');"
          ],
          "language": "python",
          "metadata": {},
          "outputs": []
        },
        {
          "cell_type": "code",
          "collapsed": false,
          "input": [
            "%%matlab",
            "if fid<0",
            "    error(['Cannot open ' name '.m.']);",
            "end"
          ],
          "language": "python",
          "metadata": {},
          "outputs": []
        },
        {
          "cell_type": "code",
          "collapsed": false,
          "input": [
            "%%matlab",
            "str1 = {'%' '\\' 'getd(''' };",
            "str2 = {'//' '\\\\'  ['getd(''' toolbox_dir] };"
          ],
          "language": "python",
          "metadata": {},
          "outputs": []
        },
        {
          "cell_type": "code",
          "collapsed": false,
          "input": [
            "%%matlab",
            "while true",
            "    s = fgets(fid);",
            "    if s<0",
            "        break;",
            "    end",
            "    % remove comments and stufs",
            "    for i=1:length(str1)",
            "        s = strrep(s,str1{i},str2{i});",
            "    end",
            "    makeoutput = 1;",
            "    if length(s)>5 && strcmp(s(1:6), 'getd =')",
            "        makeoutput = 0;",
            "    end",
            "    if length(s)>28 && strcmp(s(1:28), 'perform_toolbox_installation')",
            "        process_header(fidout, s);",
            "        makeoutput = 0;",
            "    end",
            "    % write output",
            "    if makeoutput",
            "        fprintf(fidout, s);",
            "    end",
            "end"
          ],
          "language": "python",
          "metadata": {},
          "outputs": []
        },
        {
          "cell_type": "code",
          "collapsed": false,
          "input": [
            "%%matlab",
            "fclose(fid);",
            "fclose(fidout);"
          ],
          "language": "python",
          "metadata": {},
          "outputs": []
        },
        {
          "cell_type": "code",
          "collapsed": false,
          "input": [
            "%%matlab",
            "function process_header(fidout, s)"
          ],
          "language": "python",
          "metadata": {},
          "outputs": []
        },
        {
          "cell_type": "code",
          "collapsed": false,
          "input": [
            "%%matlab",
            "tbx = {};",
            "if findstr(s, 'signal')",
            "    tbx{end+1} = 'signal';",
            "end",
            "if findstr(s, 'general')",
            "    tbx{end+1} = 'general';",
            "end",
            "if findstr(s, 'graph')",
            "    tbx{end+1} = 'graph';",
            "end",
            "if findstr(s, 'wavelet_meshes')",
            "    tbx{end+1} = 'wavelet_meshes';",
            "end",
            "if findstr(s, 'additional')",
            "    tbx{end+1} = 'additional';",
            "end",
            "for i=1:length(tbx)",
            "    output_line(fidout, ['getd(''toolbox_' tbx{i} '/'');\\n']);",
            "end"
          ],
          "language": "python",
          "metadata": {},
          "outputs": []
        },
        {
          "cell_type": "code",
          "collapsed": false,
          "input": [
            "%%matlab",
            "function output_line(fid,s)"
          ],
          "language": "python",
          "metadata": {},
          "outputs": []
        },
        {
          "cell_type": "code",
          "collapsed": false,
          "input": [
            "%%matlab",
            "s = strrep(s,'%','%%');",
            "fprintf(fid, s);"
          ],
          "language": "python",
          "metadata": {},
          "outputs": []
        }
      ]
    }
  ]
}