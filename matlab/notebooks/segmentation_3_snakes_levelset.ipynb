{
  "metadata": {
    "name": ""
  },
  "nbformat": 3,
  "nbformat_minor": 0,
  "worksheets": [
    {
      "cells": [
        {
          "cell_type": "markdown",
          "metadata": {},
          "source": [
            "Active Contours using Level Sets",
            "================================",
            "$\\newcommand{\\dotp}[2]{\\langle #1, #2 \\rangle}",
            "\\newcommand{\\enscond}[2]{\\lbrace #1, #2 \\rbrace}",
            "\\newcommand{\\pd}[2]{ \\frac{ \\partial #1}{\\partial #2} }",
            "\\newcommand{\\umin}[1]{\\underset{#1}{\\min}\\;}",
            "\\newcommand{\\umax}[1]{\\underset{#1}{\\max}\\;}",
            "\\newcommand{\\umin}[1]{\\underset{#1}{\\min}\\;}",
            "\\newcommand{\\uargmin}[1]{\\underset{#1}{argmin}\\;}",
            "\\newcommand{\\norm}[1]{\\|#1\\|}",
            "\\newcommand{\\abs}[1]{\\left|#1\\right|}",
            "\\newcommand{\\choice}[1]{ \\left\\{  \\begin{array}{l} #1 \\end{array} \\right. }",
            "\\newcommand{\\pa}[1]{\\left(#1\\right)}",
            "\\newcommand{\\diag}[1]{{diag}\\left( #1 \\right)}",
            "\\newcommand{\\qandq}{\\quad\\text{and}\\quad}",
            "\\newcommand{\\qwhereq}{\\quad\\text{where}\\quad}",
            "\\newcommand{\\qifq}{ \\quad \\text{if} \\quad }",
            "\\newcommand{\\qarrq}{ \\quad \\Longrightarrow \\quad }",
            "\\newcommand{\\ZZ}{\\mathbb{Z}}",
            "\\newcommand{\\CC}{\\mathbb{C}}",
            "\\newcommand{\\RR}{\\mathbb{R}}",
            "\\newcommand{\\EE}{\\mathbb{E}}",
            "\\newcommand{\\Zz}{\\mathcal{Z}}",
            "\\newcommand{\\Ww}{\\mathcal{W}}",
            "\\newcommand{\\Vv}{\\mathcal{V}}",
            "\\newcommand{\\Nn}{\\mathcal{N}}",
            "\\newcommand{\\NN}{\\mathcal{N}}",
            "\\newcommand{\\Hh}{\\mathcal{H}}",
            "\\newcommand{\\Bb}{\\mathcal{B}}",
            "\\newcommand{\\Ee}{\\mathcal{E}}",
            "\\newcommand{\\Cc}{\\mathcal{C}}",
            "\\newcommand{\\Gg}{\\mathcal{G}}",
            "\\newcommand{\\Ss}{\\mathcal{S}}",
            "\\newcommand{\\Pp}{\\mathcal{P}}",
            "\\newcommand{\\Ff}{\\mathcal{F}}",
            "\\newcommand{\\Xx}{\\mathcal{X}}",
            "\\newcommand{\\Mm}{\\mathcal{M}}",
            "\\newcommand{\\Ii}{\\mathcal{I}}",
            "\\newcommand{\\Dd}{\\mathcal{D}}",
            "\\newcommand{\\Ll}{\\mathcal{L}}",
            "\\newcommand{\\Tt}{\\mathcal{T}}",
            "\\newcommand{\\si}{\\sigma}",
            "\\newcommand{\\al}{\\alpha}",
            "\\newcommand{\\la}{\\lambda}",
            "\\newcommand{\\ga}{\\gamma}",
            "\\newcommand{\\Ga}{\\Gamma}",
            "\\newcommand{\\La}{\\Lambda}",
            "\\newcommand{\\si}{\\sigma}",
            "\\newcommand{\\Si}{\\Sigma}",
            "\\newcommand{\\be}{\\beta}",
            "\\newcommand{\\de}{\\delta}",
            "\\newcommand{\\De}{\\Delta}",
            "\\renewcommand{\\phi}{\\varphi}",
            "\\renewcommand{\\th}{\\theta}",
            "\\newcommand{\\om}{\\omega}",
            "\\newcommand{\\Om}{\\Omega}",
            "$"
          ]
        },
        {
          "cell_type": "markdown",
          "metadata": {},
          "source": [
            "This tour explores image segementation using level set methods."
          ]
        },
        {
          "cell_type": "code",
          "collapsed": false,
          "input": [
            "%load_ext pymatbridge"
          ],
          "language": "python",
          "metadata": {},
          "outputs": []
        },
        {
          "cell_type": "code",
          "collapsed": false,
          "input": [
            "%%matlab",
            "addpath('../toolbox_signal')",
            "addpath('../toolbox_general')",
            "addpath('../toolbox_graph')",
            "addpath('../solutions/segmentation_3_snakes_levelset')"
          ],
          "language": "python",
          "metadata": {},
          "outputs": []
        },
        {
          "cell_type": "markdown",
          "metadata": {},
          "source": [
            "Installation",
            "------------",
            "You need to download [numerical_tours](https://github.com/gpeyre/numerical-tours/archive/master.zip)",
            "and have the IPython notebook [installed](http://ipython.org/install.html) to run the code.",
            "You must also install `pymatbridge`:",
            "",
            "```",
            "pip install pymatbridge",
            "```"
          ]
        },
        {
          "cell_type": "markdown",
          "metadata": {},
          "source": [
            "Managing level set functions",
            "----------------------------",
            "In the level set formalism, the evolution of some curve $ (\\ga(t))_{t=0}^1 $",
            "is computed by evolving the",
            "zero level of a function $\\phi : \\RR^2 \\rightarrow \\RR $",
            "$$ \\enscond{\\ga(s)}{ s \\in [0,1] } = \\enscond{x \\in \\RR^2}{\\phi(x)=0}. $$",
            "This corresponds to replacing the parameteric representation $\\ga$ of",
            "the curve by an implicit representation. This requires an additional",
            "dimension (and hence more storage) but ease the handling of topological",
            "change of the curve during the evolution.",
            "",
            "",
            "Discretazion size $n \\times n$ of the domain $[0,1]^2$."
          ]
        },
        {
          "cell_type": "code",
          "collapsed": false,
          "input": [
            "%%matlab",
            "n = 200; ",
            "[Y,X] = meshgrid(1:n,1:n);"
          ],
          "language": "python",
          "metadata": {},
          "outputs": []
        },
        {
          "cell_type": "markdown",
          "metadata": {},
          "source": [
            "One can create a circular shape by using the signed distance function to",
            "a circle",
            "$$ \\phi_1(x) = \\sqrt{ (x_1-c_1)^2 + (x_2-c_2)^2 } - r $$",
            "where $r>0$ is the radius and $c \\in \\RR^2$ the center.",
            "",
            "",
            "Radius $r$."
          ]
        },
        {
          "cell_type": "code",
          "collapsed": false,
          "input": [
            "%%matlab",
            "r = n/3;"
          ],
          "language": "python",
          "metadata": {},
          "outputs": []
        },
        {
          "cell_type": "markdown",
          "metadata": {},
          "source": [
            "Center $c$."
          ]
        },
        {
          "cell_type": "code",
          "collapsed": false,
          "input": [
            "%%matlab",
            "c = [r r] + 10;"
          ],
          "language": "python",
          "metadata": {},
          "outputs": []
        },
        {
          "cell_type": "markdown",
          "metadata": {},
          "source": [
            "Distance function $\\phi_1$."
          ]
        },
        {
          "cell_type": "code",
          "collapsed": false,
          "input": [
            "%%matlab",
            "phi1 = sqrt( (X-c(1)).^2 + (Y-c(2)).^2 ) - r;"
          ],
          "language": "python",
          "metadata": {},
          "outputs": []
        },
        {
          "cell_type": "markdown",
          "metadata": {},
          "source": [
            "Exercise 1",
            "----------",
            "Load a square shape $\\phi_2$ at a different position for the center.",
            "adius",
            "enter",
            "hape"
          ]
        },
        {
          "cell_type": "code",
          "collapsed": false,
          "input": [
            "%%matlab",
            "exo1()"
          ],
          "language": "python",
          "metadata": {},
          "outputs": []
        },
        {
          "cell_type": "code",
          "collapsed": false,
          "input": [
            "## Insert your code here."
          ],
          "language": "python",
          "metadata": {},
          "outputs": []
        },
        {
          "cell_type": "markdown",
          "metadata": {},
          "source": [
            "Display the curves associated to $\\phi_1$ and $\\phi_2$."
          ]
        },
        {
          "cell_type": "code",
          "collapsed": false,
          "input": [
            "%%matlab",
            "clf;",
            "subplot(1,2,1);",
            "plot_levelset(phi1);",
            "subplot(1,2,2);",
            "plot_levelset(phi2);"
          ],
          "language": "python",
          "metadata": {},
          "outputs": []
        },
        {
          "cell_type": "markdown",
          "metadata": {},
          "source": [
            "Exercise 2",
            "----------",
            "Compute the intersection and the union of the two shapes.",
            "Store the union in $\\phi_0$ (variable |phi0|),",
            "that we will use in the remaining part of the tour."
          ]
        },
        {
          "cell_type": "code",
          "collapsed": false,
          "input": [
            "%%matlab",
            "exo2()"
          ],
          "language": "python",
          "metadata": {},
          "outputs": []
        },
        {
          "cell_type": "code",
          "collapsed": false,
          "input": [
            "## Insert your code here."
          ],
          "language": "python",
          "metadata": {},
          "outputs": []
        },
        {
          "cell_type": "markdown",
          "metadata": {},
          "source": [
            "Mean Curvature Motion.",
            "----------------------",
            "The mean curvature motion corresponds to the minimizing flow of the",
            "length of the curve",
            "$$ \\int_0^1 \\norm{\\ga'(s)} d s. $$",
            "",
            "",
            "",
            "It is implemeted in a level set formalism by a familly $\\phi_t$ of",
            "level set function parameterized by an artificial time $t \\geq 0$, that",
            "satisfies the following PDE",
            "$$ \\pd{\\phi_t}{t} = -G(\\phi_t)",
            "  \\qwhereq G(\\phi) = -\\norm{\\nabla \\phi} \\text{div}",
            "      \\pa{  \\frac{\\nabla \\phi}{\\norm{\\nabla \\phi}} }  $$",
            "and where $\\nabla \\phi_t(x) \\in \\RR^2$ is the spacial gradient.",
            "",
            "",
            "This flow is computed using a gradient descent",
            "$\\phi^{(0)} = \\phi_0$ and",
            "This is implemented using a gradient descent scheme.",
            "$$ \\phi^{(\\ell+1)} = \\phi^{(\\ell)} - \\tau G(\\phi^{(\\ell)}), $$",
            "where $\\tau>0$ is small enough time step.",
            "",
            "",
            "Maximum time of the evolution $0 \\leq t \\leq t_{\\max}$."
          ]
        },
        {
          "cell_type": "code",
          "collapsed": false,
          "input": [
            "%%matlab",
            "Tmax = 200;"
          ],
          "language": "python",
          "metadata": {},
          "outputs": []
        },
        {
          "cell_type": "markdown",
          "metadata": {},
          "source": [
            "Time step $\\tau>0$ (should be small)."
          ]
        },
        {
          "cell_type": "code",
          "collapsed": false,
          "input": [
            "%%matlab",
            "tau = .5;"
          ],
          "language": "python",
          "metadata": {},
          "outputs": []
        },
        {
          "cell_type": "markdown",
          "metadata": {},
          "source": [
            "Number of iterations."
          ]
        },
        {
          "cell_type": "code",
          "collapsed": false,
          "input": [
            "%%matlab",
            "niter = round(Tmax/tau);"
          ],
          "language": "python",
          "metadata": {},
          "outputs": []
        },
        {
          "cell_type": "markdown",
          "metadata": {},
          "source": [
            "We use centered differences for the discretization of the gradient."
          ]
        },
        {
          "cell_type": "code",
          "collapsed": false,
          "input": [
            "%%matlab",
            "options.order = 2;"
          ],
          "language": "python",
          "metadata": {},
          "outputs": []
        },
        {
          "cell_type": "markdown",
          "metadata": {},
          "source": [
            "Initial shape $\\phi^{(0)}$ at $t=0$."
          ]
        },
        {
          "cell_type": "code",
          "collapsed": false,
          "input": [
            "%%matlab",
            "phi = phi0;"
          ],
          "language": "python",
          "metadata": {},
          "outputs": []
        },
        {
          "cell_type": "markdown",
          "metadata": {},
          "source": [
            "We now compute the right hand side of the evolution equation.",
            "",
            "",
            "Compute the gradient $\\nabla \\phi$."
          ]
        },
        {
          "cell_type": "code",
          "collapsed": false,
          "input": [
            "%%matlab",
            "g0 = grad(phi,options);"
          ],
          "language": "python",
          "metadata": {},
          "outputs": []
        },
        {
          "cell_type": "markdown",
          "metadata": {},
          "source": [
            "Norm $\\norm{\\nabla \\phi}$ of the gradient."
          ]
        },
        {
          "cell_type": "code",
          "collapsed": false,
          "input": [
            "%%matlab",
            "d = max(eps, sqrt(sum(g0.^2,3)) );"
          ],
          "language": "python",
          "metadata": {},
          "outputs": []
        },
        {
          "cell_type": "markdown",
          "metadata": {},
          "source": [
            "Normalized gradient."
          ]
        },
        {
          "cell_type": "code",
          "collapsed": false,
          "input": [
            "%%matlab",
            "g = g0 ./ repmat( d, [1 1 2] );"
          ],
          "language": "python",
          "metadata": {},
          "outputs": []
        },
        {
          "cell_type": "markdown",
          "metadata": {},
          "source": [
            "The curvature term."
          ]
        },
        {
          "cell_type": "code",
          "collapsed": false,
          "input": [
            "%%matlab",
            "K = -d .* div( g,options );"
          ],
          "language": "python",
          "metadata": {},
          "outputs": []
        },
        {
          "cell_type": "markdown",
          "metadata": {},
          "source": [
            "Perform one step of the gradient descent."
          ]
        },
        {
          "cell_type": "code",
          "collapsed": false,
          "input": [
            "%%matlab",
            "phi = phi - tau*K;"
          ],
          "language": "python",
          "metadata": {},
          "outputs": []
        },
        {
          "cell_type": "markdown",
          "metadata": {},
          "source": [
            "Exercise 3",
            "----------",
            "Implement the mean curvature motion."
          ]
        },
        {
          "cell_type": "code",
          "collapsed": false,
          "input": [
            "%%matlab",
            "exo3()"
          ],
          "language": "python",
          "metadata": {},
          "outputs": []
        },
        {
          "cell_type": "code",
          "collapsed": false,
          "input": [
            "## Insert your code here."
          ],
          "language": "python",
          "metadata": {},
          "outputs": []
        },
        {
          "cell_type": "markdown",
          "metadata": {},
          "source": [
            "Levelset Re-distancing",
            "----------------------",
            "During PDE resolution, a level set function $\\phi$ might become",
            "ill-conditionned, so that the zero crossing is not sharp enough.",
            "The quality of the level set function is restored by computing the",
            "signed distance function to the zero level set.",
            "",
            "",
            "",
            "This corresponds to first extracting the zero level set",
            "$$ \\Cc = \\enscond{x \\in \\RR^2 }{\\phi(x)=0},  $$",
            "and then solving the following eikonal equation PDE on $\\tilde \\phi$",
            "(in viscosity sense)",
            "$$ \\norm{\\nabla \\tilde \\phi(x)} = 1",
            "      \\qandq \\forall y \\in \\Cc, \\tilde\\phi(y)=0. $$",
            "The one can replace $\\phi$ by $\\text{sign}(\\phi(x))\\tilde \\phi(x)$",
            "which is the signed distance function to $\\Cc$.",
            "",
            "",
            "We set $\\phi=\\phi_0^3$ so that they are both valid level set function",
            "of the same curve, but $\\phi$ is not the signed distance function.."
          ]
        },
        {
          "cell_type": "code",
          "collapsed": false,
          "input": [
            "%%matlab",
            "phi = phi0.^3;"
          ],
          "language": "python",
          "metadata": {},
          "outputs": []
        },
        {
          "cell_type": "markdown",
          "metadata": {},
          "source": [
            "Solve the eikonal PDE using the Fast Marching algorithm."
          ]
        },
        {
          "cell_type": "code",
          "collapsed": false,
          "input": [
            "%%matlab",
            "phi1 = perform_redistancing(phi0);"
          ],
          "language": "python",
          "metadata": {},
          "outputs": []
        },
        {
          "cell_type": "markdown",
          "metadata": {},
          "source": [
            "Display the level sets."
          ]
        },
        {
          "cell_type": "code",
          "collapsed": false,
          "input": [
            "%%matlab",
            "clf;",
            "subplot(1,2,1);",
            "plot_levelset(phi);",
            "title('Before redistancing');",
            "subplot(1,2,2);",
            "plot_levelset(phi1);",
            "title('After redistancing');"
          ],
          "language": "python",
          "metadata": {},
          "outputs": []
        },
        {
          "cell_type": "markdown",
          "metadata": {},
          "source": [
            "Edge-based Segmentation with Geodesic Active Contour",
            "----------------------------------------------------",
            "Geodesic active contours compute loval minimum of a weighted geodesic",
            "distance that attract the curve toward the features of the background",
            "image.",
            "",
            "",
            "_Note:_ these active contours should not be confounded with the geodesic shortest paths,",
            "that are globally minimizing geodesics between two points.",
            "Here the active contour is a close curve progressively decreasing a",
            "weighted geodesic length that is only a local minimum",
            "(the global minimum would be a single point).",
            "",
            "",
            "Size of the image."
          ]
        },
        {
          "cell_type": "code",
          "collapsed": false,
          "input": [
            "%%matlab",
            "n = 200;"
          ],
          "language": "python",
          "metadata": {},
          "outputs": []
        },
        {
          "cell_type": "markdown",
          "metadata": {},
          "source": [
            "First we load an image $f_0 \\in \\RR^{n \\times n}$ to segment."
          ]
        },
        {
          "cell_type": "code",
          "collapsed": false,
          "input": [
            "%%matlab",
            "name = 'cortex';",
            "f0 = rescale( sum( load_image(name, n), 3) );"
          ],
          "language": "python",
          "metadata": {},
          "outputs": []
        },
        {
          "cell_type": "markdown",
          "metadata": {},
          "source": [
            "Given a background image $f_0$ to segment, one needs to compute",
            "an edge-stopping function $W$.",
            "It should be small in area of high gradient, and high in area of large gradient.",
            "",
            "",
            "We use here",
            "$$ W(x) = \\al + \\frac{\\be}{\\epsilon + d(x) }",
            "      \\qwhereq d = \\norm{\\nabla f_0} \\star h_a, $$",
            "and where $h_a$ is a blurring kernel of size $a>0$.",
            "",
            "",
            "Compute the magnitude of the gradient $d_0(x) = \\norm{\\nabla f_0(x)}$."
          ]
        },
        {
          "cell_type": "code",
          "collapsed": false,
          "input": [
            "%%matlab",
            "g = grad(f0,options);",
            "d0 = sqrt(sum(g.^2,3));"
          ],
          "language": "python",
          "metadata": {},
          "outputs": []
        },
        {
          "cell_type": "markdown",
          "metadata": {},
          "source": [
            "Blur size $a$."
          ]
        },
        {
          "cell_type": "code",
          "collapsed": false,
          "input": [
            "%%matlab",
            "a = 5;"
          ],
          "language": "python",
          "metadata": {},
          "outputs": []
        },
        {
          "cell_type": "markdown",
          "metadata": {},
          "source": [
            "Compute the blurring $d = d_0 \\star h_a$."
          ]
        },
        {
          "cell_type": "code",
          "collapsed": false,
          "input": [
            "%%matlab",
            "d = perform_blurring( d0,a );"
          ],
          "language": "python",
          "metadata": {},
          "outputs": []
        },
        {
          "cell_type": "markdown",
          "metadata": {},
          "source": [
            "Parameter $\\epsilon>0$."
          ]
        },
        {
          "cell_type": "code",
          "collapsed": false,
          "input": [
            "%%matlab",
            "epsilon = 1e-1;"
          ],
          "language": "python",
          "metadata": {},
          "outputs": []
        },
        {
          "cell_type": "markdown",
          "metadata": {},
          "source": [
            "We set the $\\al$ and $\\be$ parameters to adjust the overall values of $W$",
            "(equivalently we use the function |rescale|)."
          ]
        },
        {
          "cell_type": "code",
          "collapsed": false,
          "input": [
            "%%matlab",
            "W = 1./(epsilon+d);",
            "W = rescale(-d,.1,1);"
          ],
          "language": "python",
          "metadata": {},
          "outputs": []
        },
        {
          "cell_type": "markdown",
          "metadata": {},
          "source": [
            "Display it."
          ]
        },
        {
          "cell_type": "code",
          "collapsed": false,
          "input": [
            "%%matlab",
            "clf;",
            "imageplot(f0,'Image to segment',1,2,1);",
            "imageplot(W,'Weight',1,2,2);"
          ],
          "language": "python",
          "metadata": {},
          "outputs": []
        },
        {
          "cell_type": "markdown",
          "metadata": {},
          "source": [
            "Exercise 4",
            "----------",
            "Compute an initial shape $\\phi_0$ at time $t=0$,",
            "for instance a centered square."
          ]
        },
        {
          "cell_type": "code",
          "collapsed": false,
          "input": [
            "%%matlab",
            "exo4()"
          ],
          "language": "python",
          "metadata": {},
          "outputs": []
        },
        {
          "cell_type": "code",
          "collapsed": false,
          "input": [
            "## Insert your code here."
          ],
          "language": "python",
          "metadata": {},
          "outputs": []
        },
        {
          "cell_type": "markdown",
          "metadata": {},
          "source": [
            "Display it."
          ]
        },
        {
          "cell_type": "code",
          "collapsed": false,
          "input": [
            "%%matlab",
            "clf;",
            "plot_levelset(phi0,0,f0);"
          ],
          "language": "python",
          "metadata": {},
          "outputs": []
        },
        {
          "cell_type": "markdown",
          "metadata": {},
          "source": [
            "The geodesic active contour minimizes a weighted length of curve",
            "$$ \\umin{\\ga} \\int_0^1 \\norm{\\ga'(s)} W(\\ga(s)) d s $$",
            "",
            "",
            "The level set implementation of the gradient descent of this energy reads",
            "$$ \\pd{\\phi_t}{t} = G(\\phi_t)",
            "  \\qwhereq G(\\phi) = -\\norm{\\nabla \\phi} \\text{div}\\pa{",
            "          W \\frac{\\nabla \\phi}{\\norm{\\nabla \\phi}}",
            "  } $$",
            "",
            "",
            "This is implemented using a gradient descent scheme.",
            "$$ \\phi^{(\\ell+1)} = \\phi^{(\\ell)} - \\tau G(\\phi^{(\\ell)}), $$",
            "where $\\tau>0$ is small enough.",
            "",
            "",
            "Gradient step size $\\tau>0$."
          ]
        },
        {
          "cell_type": "code",
          "collapsed": false,
          "input": [
            "%%matlab",
            "tau = .4;"
          ],
          "language": "python",
          "metadata": {},
          "outputs": []
        },
        {
          "cell_type": "markdown",
          "metadata": {},
          "source": [
            "Final time and number of iteration of the algorithm."
          ]
        },
        {
          "cell_type": "code",
          "collapsed": false,
          "input": [
            "%%matlab",
            "Tmax = 1500;",
            "niter = round(Tmax/tau);"
          ],
          "language": "python",
          "metadata": {},
          "outputs": []
        },
        {
          "cell_type": "markdown",
          "metadata": {},
          "source": [
            "Initial distance function $\\phi^{(0)}=\\phi_0$."
          ]
        },
        {
          "cell_type": "code",
          "collapsed": false,
          "input": [
            "%%matlab",
            "phi = phi0;"
          ],
          "language": "python",
          "metadata": {},
          "outputs": []
        },
        {
          "cell_type": "markdown",
          "metadata": {},
          "source": [
            "Note that we can re-write the gradient of the energy as",
            "$$ G(\\phi) = -W \\norm{\\nabla \\phi} \\text{div} \\pa{ \\frac{\\nabla \\phi}{\\norm{\\nabla \\phi}}  } - \\dotp{\\nabla W}{\\nabla \\phi} $$",
            "",
            "",
            "Pre-compute once for all $\\nabla W$."
          ]
        },
        {
          "cell_type": "code",
          "collapsed": false,
          "input": [
            "%%matlab",
            "gW = grad(W,options);"
          ],
          "language": "python",
          "metadata": {},
          "outputs": []
        },
        {
          "cell_type": "markdown",
          "metadata": {},
          "source": [
            "Exercise 5",
            "----------",
            "Compute and store in |G| the gradient $G(\\phi)$ (right hand side of the PDE)",
            "using the current value of the distance function $\\phi$.",
            "ormalized gradient",
            "radient"
          ]
        },
        {
          "cell_type": "code",
          "collapsed": false,
          "input": [
            "%%matlab",
            "exo5()"
          ],
          "language": "python",
          "metadata": {},
          "outputs": []
        },
        {
          "cell_type": "code",
          "collapsed": false,
          "input": [
            "## Insert your code here."
          ],
          "language": "python",
          "metadata": {},
          "outputs": []
        },
        {
          "cell_type": "markdown",
          "metadata": {},
          "source": [
            "Do the descent step."
          ]
        },
        {
          "cell_type": "code",
          "collapsed": false,
          "input": [
            "%%matlab",
            "phi = phi - tau*G;"
          ],
          "language": "python",
          "metadata": {},
          "outputs": []
        },
        {
          "cell_type": "markdown",
          "metadata": {},
          "source": [
            "Once in a while (e.g. every 30 iterations), perform re-distancing of $\\phi$."
          ]
        },
        {
          "cell_type": "code",
          "collapsed": false,
          "input": [
            "%%matlab",
            "phi = perform_redistancing(phi);"
          ],
          "language": "python",
          "metadata": {},
          "outputs": []
        },
        {
          "cell_type": "markdown",
          "metadata": {},
          "source": [
            "Exercise 6",
            "----------",
            "Implement the geodesic active contours gradient descent.",
            "Do not forget to do the re-distancing."
          ]
        },
        {
          "cell_type": "code",
          "collapsed": false,
          "input": [
            "%%matlab",
            "exo6()"
          ],
          "language": "python",
          "metadata": {},
          "outputs": []
        },
        {
          "cell_type": "code",
          "collapsed": false,
          "input": [
            "## Insert your code here."
          ],
          "language": "python",
          "metadata": {},
          "outputs": []
        },
        {
          "cell_type": "markdown",
          "metadata": {},
          "source": [
            "Region-based Segmentation with Chan-Vese ",
            "-----------------------------------------",
            "Chan-Vese active contours corresponds to a region-based energy",
            "that looks for a piecewise constant approximation of the image.",
            "",
            "",
            "The energy to be minimized is",
            "$$ \\umin{\\phi}",
            "      L(\\phi) +",
            "      \\la \\int_{\\phi(x)>0} \\abs{f_0(x)-c_1}^2 d x   +",
            "      \\la \\int_{\\phi(x)<0} \\abs{f_0(x)-c_2}^2 d x",
            "$$",
            "where $L$ is the length of the zero level set of $\\phi$.",
            "Note that here $(c_1,c_2) \\in \\RR^2$ are assumed to be known."
          ]
        },
        {
          "cell_type": "markdown",
          "metadata": {},
          "source": [
            "Exercise 7",
            "----------",
            "Compute an initial level set function $\\phi_0$, stored in |phi0|,",
            "for instance many small circles."
          ]
        },
        {
          "cell_type": "code",
          "collapsed": false,
          "input": [
            "%%matlab",
            "exo7()"
          ],
          "language": "python",
          "metadata": {},
          "outputs": []
        },
        {
          "cell_type": "code",
          "collapsed": false,
          "input": [
            "## Insert your code here."
          ],
          "language": "python",
          "metadata": {},
          "outputs": []
        },
        {
          "cell_type": "markdown",
          "metadata": {},
          "source": [
            "Parameter $\\la$"
          ]
        },
        {
          "cell_type": "code",
          "collapsed": false,
          "input": [
            "%%matlab",
            "lambda = 0.8;"
          ],
          "language": "python",
          "metadata": {},
          "outputs": []
        },
        {
          "cell_type": "markdown",
          "metadata": {},
          "source": [
            "Values for $c_1,c_2$"
          ]
        },
        {
          "cell_type": "code",
          "collapsed": false,
          "input": [
            "%%matlab",
            "c1 = 0.7; ",
            "c2 = 0;"
          ],
          "language": "python",
          "metadata": {},
          "outputs": []
        },
        {
          "cell_type": "markdown",
          "metadata": {},
          "source": [
            "Step size."
          ]
        },
        {
          "cell_type": "code",
          "collapsed": false,
          "input": [
            "%%matlab",
            "tau = .4;"
          ],
          "language": "python",
          "metadata": {},
          "outputs": []
        },
        {
          "cell_type": "markdown",
          "metadata": {},
          "source": [
            "Number of iterations."
          ]
        },
        {
          "cell_type": "code",
          "collapsed": false,
          "input": [
            "%%matlab",
            "Tmax = 100;",
            "niter = round(Tmax/tau);"
          ],
          "language": "python",
          "metadata": {},
          "outputs": []
        },
        {
          "cell_type": "markdown",
          "metadata": {},
          "source": [
            "Initial distance function $\\phi_0$ at time $t=0$."
          ]
        },
        {
          "cell_type": "code",
          "collapsed": false,
          "input": [
            "%%matlab",
            "phi = phi0;"
          ],
          "language": "python",
          "metadata": {},
          "outputs": []
        },
        {
          "cell_type": "markdown",
          "metadata": {},
          "source": [
            "The minimizing flow for the CV energy reads",
            "$$ \\pd{\\phi_t}{t} = - G(\\phi_t) $$",
            "where",
            "$$ G(\\phi) =",
            "- W \\norm{\\nabla \\phi} \\text{div}\\pa{",
            "\t\\frac{\\nabla \\phi}{\\norm{\\nabla \\phi}}",
            "} + \\la (f_0-c_1)^2 - \\la (f_0-c_2)^2. $$"
          ]
        },
        {
          "cell_type": "markdown",
          "metadata": {},
          "source": [
            "Exercise 8",
            "----------",
            "Compute this gradient $G(\\phi)$ using the current value of the distance function",
            "(phi$.",
            "radient"
          ]
        },
        {
          "cell_type": "code",
          "collapsed": false,
          "input": [
            "%%matlab",
            "exo8()"
          ],
          "language": "python",
          "metadata": {},
          "outputs": []
        },
        {
          "cell_type": "code",
          "collapsed": false,
          "input": [
            "## Insert your code here."
          ],
          "language": "python",
          "metadata": {},
          "outputs": []
        },
        {
          "cell_type": "markdown",
          "metadata": {},
          "source": [
            "Do a descent step."
          ]
        },
        {
          "cell_type": "code",
          "collapsed": false,
          "input": [
            "%%matlab",
            "phi = phi + tau*G;"
          ],
          "language": "python",
          "metadata": {},
          "outputs": []
        },
        {
          "cell_type": "markdown",
          "metadata": {},
          "source": [
            "Exercise 9",
            "----------",
            "Implement the full gradient descent."
          ]
        },
        {
          "cell_type": "code",
          "collapsed": false,
          "input": [
            "%%matlab",
            "exo9()"
          ],
          "language": "python",
          "metadata": {},
          "outputs": []
        },
        {
          "cell_type": "code",
          "collapsed": false,
          "input": [
            "## Insert your code here."
          ],
          "language": "python",
          "metadata": {},
          "outputs": []
        },
        {
          "cell_type": "markdown",
          "metadata": {},
          "source": [
            "Exercise 10",
            "-----------",
            "In the case that one does not know precisely the constants $c_1$ and $c_2$,",
            "how to update them automatically during the evolution ? Implement this method."
          ]
        },
        {
          "cell_type": "code",
          "collapsed": false,
          "input": [
            "%%matlab",
            "exo10()"
          ],
          "language": "python",
          "metadata": {},
          "outputs": []
        },
        {
          "cell_type": "code",
          "collapsed": false,
          "input": [
            "## Insert your code here."
          ],
          "language": "python",
          "metadata": {},
          "outputs": []
        }
      ]
    }
  ]
}