{
  "metadata": {
    "name": ""
  },
  "nbformat": 3,
  "nbformat_minor": 0,
  "worksheets": [
    {
      "cells": [
        {
          "cell_type": "markdown",
          "metadata": {},
          "source": [
            "1-D Haar Wavelets",
            "=================",
            "$\\newcommand{\\dotp}[2]{\\langle #1, #2 \\rangle}",
            "\\newcommand{\\enscond}[2]{\\lbrace #1, #2 \\rbrace}",
            "\\newcommand{\\pd}[2]{ \\frac{ \\partial #1}{\\partial #2} }",
            "\\newcommand{\\umin}[1]{\\underset{#1}{\\min}\\;}",
            "\\newcommand{\\umax}[1]{\\underset{#1}{\\max}\\;}",
            "\\newcommand{\\umin}[1]{\\underset{#1}{\\min}\\;}",
            "\\newcommand{\\uargmin}[1]{\\underset{#1}{argmin}\\;}",
            "\\newcommand{\\norm}[1]{\\|#1\\|}",
            "\\newcommand{\\abs}[1]{\\left|#1\\right|}",
            "\\newcommand{\\choice}[1]{ \\left\\{  \\begin{array}{l} #1 \\end{array} \\right. }",
            "\\newcommand{\\pa}[1]{\\left(#1\\right)}",
            "\\newcommand{\\diag}[1]{{diag}\\left( #1 \\right)}",
            "\\newcommand{\\qandq}{\\quad\\text{and}\\quad}",
            "\\newcommand{\\qwhereq}{\\quad\\text{where}\\quad}",
            "\\newcommand{\\qifq}{ \\quad \\text{if} \\quad }",
            "\\newcommand{\\qarrq}{ \\quad \\Longrightarrow \\quad }",
            "\\newcommand{\\ZZ}{\\mathbb{Z}}",
            "\\newcommand{\\CC}{\\mathbb{C}}",
            "\\newcommand{\\RR}{\\mathbb{R}}",
            "\\newcommand{\\EE}{\\mathbb{E}}",
            "\\newcommand{\\Zz}{\\mathcal{Z}}",
            "\\newcommand{\\Ww}{\\mathcal{W}}",
            "\\newcommand{\\Vv}{\\mathcal{V}}",
            "\\newcommand{\\Nn}{\\mathcal{N}}",
            "\\newcommand{\\NN}{\\mathcal{N}}",
            "\\newcommand{\\Hh}{\\mathcal{H}}",
            "\\newcommand{\\Bb}{\\mathcal{B}}",
            "\\newcommand{\\Ee}{\\mathcal{E}}",
            "\\newcommand{\\Cc}{\\mathcal{C}}",
            "\\newcommand{\\Gg}{\\mathcal{G}}",
            "\\newcommand{\\Ss}{\\mathcal{S}}",
            "\\newcommand{\\Pp}{\\mathcal{P}}",
            "\\newcommand{\\Ff}{\\mathcal{F}}",
            "\\newcommand{\\Xx}{\\mathcal{X}}",
            "\\newcommand{\\Mm}{\\mathcal{M}}",
            "\\newcommand{\\Ii}{\\mathcal{I}}",
            "\\newcommand{\\Dd}{\\mathcal{D}}",
            "\\newcommand{\\Ll}{\\mathcal{L}}",
            "\\newcommand{\\Tt}{\\mathcal{T}}",
            "\\newcommand{\\si}{\\sigma}",
            "\\newcommand{\\al}{\\alpha}",
            "\\newcommand{\\la}{\\lambda}",
            "\\newcommand{\\ga}{\\gamma}",
            "\\newcommand{\\Ga}{\\Gamma}",
            "\\newcommand{\\La}{\\Lambda}",
            "\\newcommand{\\si}{\\sigma}",
            "\\newcommand{\\Si}{\\Sigma}",
            "\\newcommand{\\be}{\\beta}",
            "\\newcommand{\\de}{\\delta}",
            "\\newcommand{\\De}{\\Delta}",
            "\\renewcommand{\\phi}{\\varphi}",
            "\\renewcommand{\\th}{\\theta}",
            "\\newcommand{\\om}{\\omega}",
            "\\newcommand{\\Om}{\\Omega}",
            "$"
          ]
        },
        {
          "cell_type": "markdown",
          "metadata": {},
          "source": [
            "This numerical tour explores 1-D multiresolution analysis with Haar",
            "transform. It was introduced in 1910 by Haar  [Haar1910](#biblio)",
            "and is arguably the first example of wavelet basis."
          ]
        },
        {
          "cell_type": "code",
          "collapsed": false,
          "input": [
            "%load_ext pymatbridge"
          ],
          "language": "python",
          "metadata": {},
          "outputs": []
        },
        {
          "cell_type": "code",
          "collapsed": false,
          "input": [
            "%%matlab",
            "addpath('toolbox_signal')",
            "addpath('toolbox_general')",
            "addpath('solutions/wavelet_1_haar1d')"
          ],
          "language": "python",
          "metadata": {},
          "outputs": []
        },
        {
          "cell_type": "markdown",
          "metadata": {},
          "source": [
            "Installation",
            "------------",
            "You need to download [numerical_tours](https://github.com/gpeyre/numerical-tours/archive/master.zip)",
            "and install the IPython [notebook](http://ipython.org/install.html) to run the code.",
            "",
            "You must also install the [python-matlab-bridge](http://arokem.github.io/python-matlab-bridge/)."
          ]
        },
        {
          "cell_type": "markdown",
          "metadata": {},
          "source": [
            "Forward Haar Transform",
            "----------------------",
            "The Haar transform is the simplest orthogonal wavelet transform. It is",
            "computed by iterating difference and averaging between odd and even",
            "samples of the signal.",
            "",
            "",
            "Size $N$ of the signal."
          ]
        },
        {
          "cell_type": "code",
          "collapsed": false,
          "input": [
            "%%matlab",
            "N = 512;"
          ],
          "language": "python",
          "metadata": {},
          "outputs": []
        },
        {
          "cell_type": "markdown",
          "metadata": {},
          "source": [
            "First we load a 1-D signal $f \\in \\RR^N$."
          ]
        },
        {
          "cell_type": "code",
          "collapsed": false,
          "input": [
            "%%matlab",
            "name = 'piece-regular';",
            "f = rescale( load_signal(name, N) );"
          ],
          "language": "python",
          "metadata": {},
          "outputs": []
        },
        {
          "cell_type": "markdown",
          "metadata": {},
          "source": [
            "The Haar transform operates over $J = \\log_2(N)-1$ scales.",
            "It computes a series of coarse scale and fine scale coefficients",
            "$a_j, d_j \\in \\RR^{N_j}$ where $N_j=2^j$."
          ]
        },
        {
          "cell_type": "code",
          "collapsed": false,
          "input": [
            "%%matlab",
            "J = log2(N)-1;"
          ],
          "language": "python",
          "metadata": {},
          "outputs": []
        },
        {
          "cell_type": "markdown",
          "metadata": {},
          "source": [
            "The forward Haar transform computed $ \\Hh(f) = (d_j)_{j=0}^J \\cup \\{a_0\\} $.",
            "Note that the set of coarse scale coefficients $(a_j)_{j>0}$ are not",
            "stored.",
            "",
            "",
            "This transform is orthogonal, meaning $ \\Hh \\circ \\Hh^* = \\text{Id} $,",
            "and that there is the following conservation of energy",
            "$$ \\sum_i \\abs{f_i}^2 = \\norm{f}^2 = \\norm{\\Hh f}^2 = \\sum_j \\norm{d_j}^2 + \\abs{a_0}^2. $$",
            "",
            "",
            "One initilizes the algorithm with $a_{J+1}=f$. The set of coefficients",
            "$d_{j},a_j$ are computed from $a_{j+1}$ as",
            "$$ \\forall k=0,\\ldots,2^j-1, \\quad",
            "      a_j[k] = \\frac{a_{j+1}[2k] + a_{j+1}[2k+1]}{\\sqrt{2}}",
            "  \\qandq",
            "      d_j[k] = \\frac{a_{j+1}[2k] - a_{j+1}[2k+1]}{\\sqrt{2}}. $$",
            "",
            "",
            "",
            "Shortcut to compute $a_j, d_j$ from $a_{j+1}$."
          ]
        },
        {
          "cell_type": "code",
          "collapsed": false,
          "input": [
            "%%matlab",
            "haar = @(a)[   a(1:2:length(a)) + a(2:2:length(a));",
            "                    a(1:2:length(a)) - a(2:2:length(a)) ]/sqrt(2);"
          ],
          "language": "python",
          "metadata": {},
          "outputs": []
        },
        {
          "cell_type": "markdown",
          "metadata": {},
          "source": [
            "Display the result of the one step of the transform."
          ]
        },
        {
          "cell_type": "code",
          "collapsed": false,
          "input": [
            "%%matlab",
            "clf;",
            "subplot(2,1,1);",
            "plot(f); axis('tight'); title('Signal');",
            "subplot(2,1,2);",
            "plot(haar(f)); axis('tight'); title('Transformed');"
          ],
          "language": "python",
          "metadata": {},
          "outputs": []
        },
        {
          "cell_type": "markdown",
          "metadata": {},
          "source": [
            "The output of the forward transform is stored in the variable |fw|.",
            "At a given iteration indexed by a scale |j|, it will store in |fw(1:2^(j+1))|",
            "the variable $a_{j+1}$, and in the remaining entries the variable",
            "$d_{j+1},d_{j+2},\\ldots,d_J$.",
            "",
            "",
            "Initializes the algorithm at scale $j=J$."
          ]
        },
        {
          "cell_type": "code",
          "collapsed": false,
          "input": [
            "%%matlab",
            "j = J;"
          ],
          "language": "python",
          "metadata": {},
          "outputs": []
        },
        {
          "cell_type": "markdown",
          "metadata": {},
          "source": [
            "Initialize |fw| to the full signal."
          ]
        },
        {
          "cell_type": "code",
          "collapsed": false,
          "input": [
            "%%matlab",
            "fw = f;"
          ],
          "language": "python",
          "metadata": {},
          "outputs": []
        },
        {
          "cell_type": "markdown",
          "metadata": {},
          "source": [
            "At iteration indexed by $j$,",
            "select the sub-part of the signal containing $a_{j+1}$,",
            "and apply it the Haar operator."
          ]
        },
        {
          "cell_type": "code",
          "collapsed": false,
          "input": [
            "%%matlab",
            "fw(1:2^(j+1)) = haar(fw(1:2^(j+1)));"
          ],
          "language": "python",
          "metadata": {},
          "outputs": []
        },
        {
          "cell_type": "markdown",
          "metadata": {},
          "source": [
            "Display the signal and its coarse coefficients."
          ]
        },
        {
          "cell_type": "code",
          "collapsed": false,
          "input": [
            "%%matlab",
            "s = 400; t = 40; ",
            "clf;",
            "subplot(2,1,1);",
            "plot(f,'.-'); axis([s-t s+t 0 1]); title('Signal (zoom)');",
            "subplot(2,1,2);",
            "plot(fw(1:2^j),'.-'); axis([(s-t)/2 (s+t)/2 min(fw(1:2^j)) max(fw(1:2^j))]); title('Averages (zoom)');"
          ],
          "language": "python",
          "metadata": {},
          "outputs": []
        },
        {
          "cell_type": "markdown",
          "metadata": {},
          "source": [
            "Exercise 1",
            "----------",
            "Implement a full wavelet Haar transform that extract iteratively wavelet",
            "coefficients, by repeating these steps. Take care of choosing the",
            "correct number of steps."
          ]
        },
        {
          "cell_type": "code",
          "collapsed": false,
          "input": [
            "%%matlab",
            "exo1()"
          ],
          "language": "python",
          "metadata": {},
          "outputs": []
        },
        {
          "cell_type": "code",
          "collapsed": false,
          "input": [
            "## Insert your code here."
          ],
          "language": "python",
          "metadata": {},
          "outputs": []
        },
        {
          "cell_type": "markdown",
          "metadata": {},
          "source": [
            "Check that the transform is",
            "orthogonal, which means that the energy of the coefficient is the same",
            "as the energy of the signal."
          ]
        },
        {
          "cell_type": "code",
          "collapsed": false,
          "input": [
            "%%matlab",
            "fprintf('Should be 0: %.3f.\\n', (norm(f)-norm(fw))/norm(f));"
          ],
          "language": "python",
          "metadata": {},
          "outputs": []
        },
        {
          "cell_type": "markdown",
          "metadata": {},
          "source": [
            "We display the whole set of coefficients |fw|, with red vertical",
            "separator between the scales.",
            "Can you recognize where are the low frequencies and the high frequencies?"
          ]
        },
        {
          "cell_type": "code",
          "collapsed": false,
          "input": [
            "%%matlab",
            "clf; ",
            "plot_wavelet(fw);",
            "axis([1 N -2 2]);"
          ],
          "language": "python",
          "metadata": {},
          "outputs": []
        },
        {
          "cell_type": "markdown",
          "metadata": {},
          "source": [
            "Backward Haar Transform",
            "-----------------------",
            "The backward transform computes a signal $f_1 = \\Hh^*(h)$ from a set of",
            "coefficients $  h = (d_j)_{j=0}^J \\cup \\{a_0\\} $",
            "",
            "",
            "If $h = \\Hh(f)$ are the coefficients of a signal $f$, one recovers",
            "$ f_1 = f $.",
            "",
            "",
            "The inverse transform starts from $j=0$, and computes $a_{j+1}$",
            "from the knowledge of $a_j,d_j$ as",
            "$$",
            "  \\forall k = 0,\\ldots,2^j-1, \\quad",
            "      a_{j+1}[2k] = \\frac{ a_j[k] + d_j[k] }{\\sqrt{2}}",
            "      a_{j+1}[2k+1] = \\frac{ a_j[k] - d_j[k] }{\\sqrt{2}}",
            "$$",
            "",
            "",
            "One step of inverse transform"
          ]
        },
        {
          "cell_type": "code",
          "collapsed": false,
          "input": [
            "%%matlab",
            "ihaar = @(a,d)assign( zeros(2*length(a),1), ...",
            "        [1:2:2*length(a), 2:2:2*length(a)], [a+d; a-d]/sqrt(2) );"
          ],
          "language": "python",
          "metadata": {},
          "outputs": []
        },
        {
          "cell_type": "markdown",
          "metadata": {},
          "source": [
            "Initialize the signal to recover $f_1$ as the transformed coefficient, and",
            "select the smallest possible scale $j=0$."
          ]
        },
        {
          "cell_type": "code",
          "collapsed": false,
          "input": [
            "%%matlab",
            "f1 = fw;",
            "j = 0;"
          ],
          "language": "python",
          "metadata": {},
          "outputs": []
        },
        {
          "cell_type": "markdown",
          "metadata": {},
          "source": [
            "Apply one step of inverse transform."
          ]
        },
        {
          "cell_type": "code",
          "collapsed": false,
          "input": [
            "%%matlab",
            "f1(1:2^(j+1)) = ihaar(f1(1:2^j), f1(2^j+1:2^(j+1)));"
          ],
          "language": "python",
          "metadata": {},
          "outputs": []
        },
        {
          "cell_type": "markdown",
          "metadata": {},
          "source": [
            "Exercise 2",
            "----------",
            "Write the inverse wavelet transform that computes |f1| from the",
            "coefficients |fw|."
          ]
        },
        {
          "cell_type": "code",
          "collapsed": false,
          "input": [
            "%%matlab",
            "exo2()"
          ],
          "language": "python",
          "metadata": {},
          "outputs": []
        },
        {
          "cell_type": "code",
          "collapsed": false,
          "input": [
            "## Insert your code here."
          ],
          "language": "python",
          "metadata": {},
          "outputs": []
        },
        {
          "cell_type": "markdown",
          "metadata": {},
          "source": [
            "Check that we have correctly recovered the signal."
          ]
        },
        {
          "cell_type": "code",
          "collapsed": false,
          "input": [
            "%%matlab",
            "fprintf('Should be 0: %.3f.\\n', (norm(f-f1))/norm(f));"
          ],
          "language": "python",
          "metadata": {},
          "outputs": []
        },
        {
          "cell_type": "markdown",
          "metadata": {},
          "source": [
            "Haar Linear Approximation",
            "-------------------------",
            "Linear approximation is obtained by setting to zeros the",
            "Haar coefficient coefficients above a certain scale $j$.",
            "",
            "",
            "Cut-off scale."
          ]
        },
        {
          "cell_type": "code",
          "collapsed": false,
          "input": [
            "%%matlab",
            "j = J-1;"
          ],
          "language": "python",
          "metadata": {},
          "outputs": []
        },
        {
          "cell_type": "markdown",
          "metadata": {},
          "source": [
            "Set to zero fine scale coefficients."
          ]
        },
        {
          "cell_type": "code",
          "collapsed": false,
          "input": [
            "%%matlab",
            "fw1 = fw; fw1(2^j+1:end) = 0;"
          ],
          "language": "python",
          "metadata": {},
          "outputs": []
        },
        {
          "cell_type": "markdown",
          "metadata": {},
          "source": [
            "Computing the signal $f_1$ corresponding to these coefficients |fw1|",
            "computes the orthogonal projection on the space of signal that are",
            "constant on disjoint intervals of length $N/2^j$."
          ]
        },
        {
          "cell_type": "markdown",
          "metadata": {},
          "source": [
            "Exercise 3",
            "----------",
            "Display the reconstructed signal obtained from |fw1|, for a decreasing cut-off scale $j$."
          ]
        },
        {
          "cell_type": "code",
          "collapsed": false,
          "input": [
            "%%matlab",
            "exo3()"
          ],
          "language": "python",
          "metadata": {},
          "outputs": []
        },
        {
          "cell_type": "code",
          "collapsed": false,
          "input": [
            "## Insert your code here."
          ],
          "language": "python",
          "metadata": {},
          "outputs": []
        },
        {
          "cell_type": "markdown",
          "metadata": {},
          "source": [
            "Haar Non-linear Approximation",
            "-----------------------------",
            "Non-linear approximation is obtained by thresholding low amplitude",
            "wavelet coefficients.",
            "It is defined as",
            "$$ f_T = \\Hh^* \\circ S_T \\circ \\Hh(f) $$",
            "where $S_T$ is the hard tresholding operator",
            "$$ S_T(x)_i = \\choice{",
            "      x_i \\qifq \\abs{x_i}>T, \\\\",
            "      0 \\quad \\text{otherwise}.",
            "  }. $$"
          ]
        },
        {
          "cell_type": "code",
          "collapsed": false,
          "input": [
            "%%matlab",
            "S = @(x,T) x .* (abs(x)>T);"
          ],
          "language": "python",
          "metadata": {},
          "outputs": []
        },
        {
          "cell_type": "markdown",
          "metadata": {},
          "source": [
            "Set the threshold value."
          ]
        },
        {
          "cell_type": "code",
          "collapsed": false,
          "input": [
            "%%matlab",
            "T = .5;"
          ],
          "language": "python",
          "metadata": {},
          "outputs": []
        },
        {
          "cell_type": "markdown",
          "metadata": {},
          "source": [
            "Threshold the coefficients."
          ]
        },
        {
          "cell_type": "code",
          "collapsed": false,
          "input": [
            "%%matlab",
            "fwT = S(fw,T);"
          ],
          "language": "python",
          "metadata": {},
          "outputs": []
        },
        {
          "cell_type": "markdown",
          "metadata": {},
          "source": [
            "Display the coefficients before and after thresholding."
          ]
        },
        {
          "cell_type": "code",
          "collapsed": false,
          "input": [
            "%%matlab",
            "clf;",
            "subplot(2,1,1);",
            "plot_wavelet(fw); axis('tight'); title('Original coefficients');",
            "subplot(2,1,2);",
            "plot_wavelet(fwT); axis('tight'); title('Thresholded coefficients');"
          ],
          "language": "python",
          "metadata": {},
          "outputs": []
        },
        {
          "cell_type": "markdown",
          "metadata": {},
          "source": [
            "Exercise 4",
            "----------",
            "Find the threshold $T$ so that the number of remaining coefficients in",
            "|fwT| is a fixed number $m$. Use this threshold to compute |fwT| and then display",
            "the corresponding approximation $f_1$ of $f$. Try for an increasing number $m$ of coeffiients.",
            "ompute the threshold T"
          ]
        },
        {
          "cell_type": "code",
          "collapsed": false,
          "input": [
            "%%matlab",
            "exo4()"
          ],
          "language": "python",
          "metadata": {},
          "outputs": []
        },
        {
          "cell_type": "code",
          "collapsed": false,
          "input": [
            "## Insert your code here."
          ],
          "language": "python",
          "metadata": {},
          "outputs": []
        },
        {
          "cell_type": "markdown",
          "metadata": {},
          "source": [
            "The Shape of a Wavelet",
            "----------------------",
            "A wavelet coefficient corresponds to an inner product of $f$ with a wavelet Haar atom",
            "$\\psi_{j,k}$",
            "$$ d_j[k] = \\dotp{f}{\\psi_{j,k}} $$",
            "",
            "",
            "The wavelet $\\psi_{j,k}$ can be computed by applying the inverse wavelet",
            "transform to |fw| where |fw[m]=1| and |fw[s]=0| for $s \\neq m$",
            "where $m = 2^j+k$."
          ]
        },
        {
          "cell_type": "markdown",
          "metadata": {},
          "source": [
            "Exercise 5",
            "----------",
            "Compute wavelets at several positions and scales."
          ]
        },
        {
          "cell_type": "code",
          "collapsed": false,
          "input": [
            "%%matlab",
            "exo5()"
          ],
          "language": "python",
          "metadata": {},
          "outputs": []
        },
        {
          "cell_type": "code",
          "collapsed": false,
          "input": [
            "## Insert your code here."
          ],
          "language": "python",
          "metadata": {},
          "outputs": []
        },
        {
          "cell_type": "markdown",
          "metadata": {},
          "source": [
            "Bibliography",
            "------------",
            "<html><a name=\"biblio\"></a></html>",
            "",
            "",
            "* [Haar1910] Haar A. [Zur Theorie der orthogonalen Funktionensysteme][1], Mathematische Annalen, 69, pp 331-371, 1910.",
            "",
            "[1]:http://dx.doi.org/10.1007/BF01456927"
          ]
        }
      ]
    }
  ]
}