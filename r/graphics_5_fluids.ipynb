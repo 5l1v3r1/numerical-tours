{
 "cells": [
  {
   "cell_type": "markdown",
   "metadata": {
    "deletable": true,
    "editable": true
   },
   "source": [
    "Fluid Dynamics\n",
    "==============\n",
    "\n",
    "*Important:* Please read the [installation page](http://gpeyre.github.io/numerical-tours/installation_python/) for details about how to install the toolboxes.\n",
    "$\\newcommand{\\dotp}[2]{\\langle #1, #2 \\rangle}$\n",
    "$\\newcommand{\\enscond}[2]{\\lbrace #1, #2 \\rbrace}$\n",
    "$\\newcommand{\\pd}[2]{ \\frac{ \\partial #1}{\\partial #2} }$\n",
    "$\\newcommand{\\umin}[1]{\\underset{#1}{\\min}\\;}$\n",
    "$\\newcommand{\\umax}[1]{\\underset{#1}{\\max}\\;}$\n",
    "$\\newcommand{\\umin}[1]{\\underset{#1}{\\min}\\;}$\n",
    "$\\newcommand{\\uargmin}[1]{\\underset{#1}{argmin}\\;}$\n",
    "$\\newcommand{\\norm}[1]{\\|#1\\|}$\n",
    "$\\newcommand{\\abs}[1]{\\left|#1\\right|}$\n",
    "$\\newcommand{\\choice}[1]{ \\left\\{  \\begin{array}{l} #1 \\end{array} \\right. }$\n",
    "$\\newcommand{\\pa}[1]{\\left(#1\\right)}$\n",
    "$\\newcommand{\\diag}[1]{{diag}\\left( #1 \\right)}$\n",
    "$\\newcommand{\\qandq}{\\quad\\text{and}\\quad}$\n",
    "$\\newcommand{\\qwhereq}{\\quad\\text{where}\\quad}$\n",
    "$\\newcommand{\\qifq}{ \\quad \\text{if} \\quad }$\n",
    "$\\newcommand{\\qarrq}{ \\quad \\Longrightarrow \\quad }$\n",
    "$\\newcommand{\\ZZ}{\\mathbb{Z}}$\n",
    "$\\newcommand{\\CC}{\\mathbb{C}}$\n",
    "$\\newcommand{\\RR}{\\mathbb{R}}$\n",
    "$\\newcommand{\\EE}{\\mathbb{E}}$\n",
    "$\\newcommand{\\Zz}{\\mathcal{Z}}$\n",
    "$\\newcommand{\\Ww}{\\mathcal{W}}$\n",
    "$\\newcommand{\\Vv}{\\mathcal{V}}$\n",
    "$\\newcommand{\\Nn}{\\mathcal{N}}$\n",
    "$\\newcommand{\\NN}{\\mathcal{N}}$\n",
    "$\\newcommand{\\Hh}{\\mathcal{H}}$\n",
    "$\\newcommand{\\Bb}{\\mathcal{B}}$\n",
    "$\\newcommand{\\Ee}{\\mathcal{E}}$\n",
    "$\\newcommand{\\Cc}{\\mathcal{C}}$\n",
    "$\\newcommand{\\Gg}{\\mathcal{G}}$\n",
    "$\\newcommand{\\Ss}{\\mathcal{S}}$\n",
    "$\\newcommand{\\Pp}{\\mathcal{P}}$\n",
    "$\\newcommand{\\Ff}{\\mathcal{F}}$\n",
    "$\\newcommand{\\Xx}{\\mathcal{X}}$\n",
    "$\\newcommand{\\Mm}{\\mathcal{M}}$\n",
    "$\\newcommand{\\Ii}{\\mathcal{I}}$\n",
    "$\\newcommand{\\Dd}{\\mathcal{D}}$\n",
    "$\\newcommand{\\Ll}{\\mathcal{L}}$\n",
    "$\\newcommand{\\Tt}{\\mathcal{T}}$\n",
    "$\\newcommand{\\si}{\\sigma}$\n",
    "$\\newcommand{\\al}{\\alpha}$\n",
    "$\\newcommand{\\la}{\\lambda}$\n",
    "$\\newcommand{\\ga}{\\gamma}$\n",
    "$\\newcommand{\\Ga}{\\Gamma}$\n",
    "$\\newcommand{\\La}{\\Lambda}$\n",
    "$\\newcommand{\\si}{\\sigma}$\n",
    "$\\newcommand{\\Si}{\\Sigma}$\n",
    "$\\newcommand{\\be}{\\beta}$\n",
    "$\\newcommand{\\de}{\\delta}$\n",
    "$\\newcommand{\\De}{\\Delta}$\n",
    "$\\newcommand{\\phi}{\\varphi}$\n",
    "$\\newcommand{\\th}{\\theta}$\n",
    "$\\newcommand{\\om}{\\omega}$\n",
    "$\\newcommand{\\Om}{\\Omega}$"
   ]
  },
  {
   "cell_type": "markdown",
   "metadata": {
    "deletable": true,
    "editable": true
   },
   "source": [
    "This numerical tour explores fluid dynamics for image generation."
   ]
  },
  {
   "cell_type": "code",
   "execution_count": 1,
   "metadata": {
    "collapsed": false,
    "deletable": true,
    "editable": true
   },
   "outputs": [
    {
     "name": "stderr",
     "output_type": "stream",
     "text": [
      "Loading required package: plyr\n",
      "Loading required package: magrittr\n",
      "\n",
      "Attaching package: 'imager'\n",
      "\n",
      "The following object is masked from 'package:magrittr':\n",
      "\n",
      "    add\n",
      "\n",
      "The following object is masked from 'package:plyr':\n",
      "\n",
      "    liply\n",
      "\n",
      "The following objects are masked from 'package:stats':\n",
      "\n",
      "    convolve, spectrum\n",
      "\n",
      "The following object is masked from 'package:graphics':\n",
      "\n",
      "    frame\n",
      "\n",
      "The following object is masked from 'package:base':\n",
      "\n",
      "    save.image\n",
      "\n",
      "\n",
      "Attaching package: 'pracma'\n",
      "\n",
      "The following objects are masked from 'package:magrittr':\n",
      "\n",
      "    and, mod, or\n",
      "\n",
      "\n",
      "Attaching package: 'tuneR'\n",
      "\n",
      "The following objects are masked from 'package:imager':\n",
      "\n",
      "    channel, play\n",
      "\n",
      "\n",
      "Attaching package: 'akima'\n",
      "\n",
      "The following object is masked from 'package:imager':\n",
      "\n",
      "    interp\n",
      "\n"
     ]
    }
   ],
   "source": [
    "options(repr.plot.width=5, repr.plot.height=5)\n",
    "options(warn=-1) # turns off warnings, to turn on: \"options(warn=0)\"\n",
    "\n",
    "\n",
    "library(imager)\n",
    "library(png)\n",
    "library(pracma)\n",
    "\n",
    "for (f in list.files(path=\"nt_toolbox/toolbox_general/\", pattern=\"*.R\")) {\n",
    "    source(paste(\"nt_toolbox/toolbox_general/\", f, sep=\"\"))\n",
    "}\n",
    "\n",
    "for (f in list.files(path=\"nt_toolbox/toolbox_signal/\", pattern=\"*.R\")) {\n",
    "    source(paste(\"nt_toolbox/toolbox_signal/\", f, sep=\"\"))\n",
    "}\n",
    "\n",
    "source(\"nt_toolbox/toolbox_wavelet_meshes/meshgrid.R\")"
   ]
  },
  {
   "cell_type": "markdown",
   "metadata": {
    "deletable": true,
    "editable": true
   },
   "source": [
    "Velocity Flow Field\n",
    "-------------------\n",
    "A velocity flow is simply a 2-D vector field $V = (V_i)_{i=1}^N \\in \\RR^{n \\times n \\times 2}$\n",
    "where $V_i \\in \\RR^2$ is one of the $N=n \\times n$ vectors at a position indexed by $i$.\n",
    "\n",
    "\n",
    "It can be generated as a realization of Gaussian process.\n",
    "The blurring creates correlations in the flow."
   ]
  },
  {
   "cell_type": "code",
   "execution_count": 2,
   "metadata": {
    "collapsed": false,
    "deletable": true,
    "editable": true
   },
   "outputs": [
    {
     "name": "stdout",
     "output_type": "stream",
     "text": [
      "[1] 127 127\n",
      "[1] 127 127\n",
      "[1] 127 127\n",
      "[1] 127 127\n"
     ]
    }
   ],
   "source": [
    "n <- 128\n",
    "V <- perform_blurring( array( rnorm(n*n*2), c(n,n,2) ), c(40), \"per\" )"
   ]
  },
  {
   "cell_type": "markdown",
   "metadata": {
    "deletable": true,
    "editable": true
   },
   "source": [
    "Subsampling display operator."
   ]
  },
  {
   "cell_type": "code",
   "execution_count": 3,
   "metadata": {
    "collapsed": true,
    "deletable": true,
    "editable": true
   },
   "outputs": [],
   "source": [
    "myplot <- function(V){ plot_vf(V[seq(1,n,6),seq(1,n,6),]) }"
   ]
  },
  {
   "cell_type": "markdown",
   "metadata": {
    "deletable": true,
    "editable": true
   },
   "source": [
    "We can display the vector field using arrow."
   ]
  },
  {
   "cell_type": "code",
   "execution_count": 4,
   "metadata": {
    "collapsed": false,
    "deletable": true,
    "editable": true
   },
   "outputs": [
    {
     "data": {
      "image/png": "[encoded data removed]",
      "text/plain": [
       "plot without title"
      ]
     },
     "metadata": {},
     "output_type": "display_data"
    }
   ],
   "source": [
    "myplot(V)"
   ]
  },
  {
   "cell_type": "markdown",
   "metadata": {
    "deletable": true,
    "editable": true
   },
   "source": [
    "We can renormalize the flow, which enhances the singularities. It defines\n",
    "$\\tilde V$ as $\\tilde V_i = V_i/\\norm{V_i}$."
   ]
  },
  {
   "cell_type": "code",
   "execution_count": 5,
   "metadata": {
    "collapsed": true,
    "deletable": true,
    "editable": true
   },
   "outputs": [],
   "source": [
    "normalize <- function(V){ V/ array(rep( pmax( array(1e-9, dim(V)[1:2]), sqrt(apply(V**2, c(1,2), sum)) ), 2 ), dim(V)) }"
   ]
  },
  {
   "cell_type": "markdown",
   "metadata": {
    "deletable": true,
    "editable": true
   },
   "source": [
    "Display."
   ]
  },
  {
   "cell_type": "code",
   "execution_count": 6,
   "metadata": {
    "collapsed": false,
    "deletable": true,
    "editable": true
   },
   "outputs": [
    {
     "data": {
      "image/png": "[encoded data removed]",
      "text/plain": [
       "plot without title"
      ]
     },
     "metadata": {},
     "output_type": "display_data"
    }
   ],
   "source": [
    "myplot(normalize(V))"
   ]
  },
  {
   "cell_type": "markdown",
   "metadata": {
    "deletable": true,
    "editable": true
   },
   "source": [
    "Incompressible Flows\n",
    "--------------------\n",
    "An incompressible flow has a vanishing divergence. The set of vector\n",
    "incompressible flow defines a sub-space of $\\RR^{n \\times n \\times 2}$\n",
    "$$ \\Ii = \\enscond{V}{ \\text{div}(V)=0 }\n",
    "  \\qwhereq \\text{div}(V) = \\pd{V}{x_1} + \\pd{V}{x_2} \\in \\RR^{n \\times n}. $$\n",
    "Here $\\pd{}{x_s}$ for $s=1,2$ are finite differences approximation of\n",
    "the horizontal and vertical derivative operators (we suppose here periodic boundary conditions).\n",
    "\n",
    "\n",
    "\n",
    "The orthogonal projection $U = \\text{Proj}_{\\Ii}(V)$ on  $\\Ii$ is\n",
    "computed by solving a Poisson equation\n",
    "$$ U = V-\\nabla A \\qwhereq \\Delta A = \\text{div}(V). $$\n",
    "\n",
    "\n",
    "This is especially simple for periodic boundary conditions since $A$ can\n",
    "be computed over the Fourier domain as\n",
    "$$ \\forall \\om \\neq 0, \\quad \\hat A(\\om) = \\frac{\\hat Y(\\om)}{\\mu(\\om)}\n",
    "  \\qwhereq Y = \\text{div}(V) \\qandq\n",
    "  \\mu(\\om_1,\\om_2) = -4 \\sin(\\om_1 \\pi / n)^2 -4 \\sin(\\om_2 \\pi / n)^2  $$\n",
    "and $\\hat A(0)=0$.\n",
    "\n",
    "\n",
    "\n",
    "Compute the kernel $\\mu(\\om)$."
   ]
  },
  {
   "cell_type": "code",
   "execution_count": 7,
   "metadata": {
    "collapsed": true,
    "deletable": true,
    "editable": true
   },
   "outputs": [],
   "source": [
    "grid <- meshgrid_2d(0:(n-1), 0:(n-1))\n",
    "Y <- grid$X ; X <- grid$Y\n",
    "mu <- sin(X*pi/n)**2\n",
    "mu <- -4*(mu + t(mu))\n",
    "mu[1,1] <- 1"
   ]
  },
  {
   "cell_type": "markdown",
   "metadata": {
    "deletable": true,
    "editable": true
   },
   "source": [
    "Computation of $A$."
   ]
  },
  {
   "cell_type": "code",
   "execution_count": 8,
   "metadata": {
    "collapsed": true,
    "deletable": true,
    "editable": true
   },
   "outputs": [],
   "source": [
    "A <- function(V){ FFT <- fft( div(V[,,1], V[,,2], bound=\"per\") )\n",
    "                  return( Re( fft( FFT/mu, inverse=TRUE)/length(FFT) ) ) }"
   ]
  },
  {
   "cell_type": "markdown",
   "metadata": {
    "deletable": true,
    "editable": true
   },
   "source": [
    "Projection on incompressible flows."
   ]
  },
  {
   "cell_type": "code",
   "execution_count": 9,
   "metadata": {
    "collapsed": true,
    "deletable": true,
    "editable": true
   },
   "outputs": [],
   "source": [
    "ProjI <- function(V){ V - grad(A(V), bound=\"per\") }"
   ]
  },
  {
   "cell_type": "markdown",
   "metadata": {
    "deletable": true,
    "editable": true
   },
   "source": [
    "Display $U=\\text{Proj}_{\\Ii}(V)$."
   ]
  },
  {
   "cell_type": "code",
   "execution_count": 10,
   "metadata": {
    "collapsed": false,
    "deletable": true,
    "editable": true
   },
   "outputs": [
    {
     "data": {
      "image/png": "[encoded data removed]",
      "text/plain": [
       "plot without title"
      ]
     },
     "metadata": {},
     "output_type": "display_data"
    }
   ],
   "source": [
    "U <- ProjI(V)\n",
    "\n",
    "myplot(U)"
   ]
  },
  {
   "cell_type": "markdown",
   "metadata": {
    "deletable": true,
    "editable": true
   },
   "source": [
    "Display $W=U-V$ the irrotational component of $V$."
   ]
  },
  {
   "cell_type": "code",
   "execution_count": 11,
   "metadata": {
    "collapsed": false,
    "deletable": true,
    "editable": true
   },
   "outputs": [
    {
     "data": {
      "image/png": "[encoded data removed]",
      "text/plain": [
       "plot without title"
      ]
     },
     "metadata": {},
     "output_type": "display_data"
    }
   ],
   "source": [
    "myplot(V-U)"
   ]
  },
  {
   "cell_type": "markdown",
   "metadata": {
    "deletable": true,
    "editable": true
   },
   "source": [
    "Note that the decomposition $V=U+W$ is called the Hoge decomposition of\n",
    "the vector field.\n",
    "\n",
    "\n",
    "Image Advection Along the Flow\n",
    "------------------------------\n",
    "A flow defines a warping operator that transport the content of an image\n",
    "along the streaming of the flow.\n",
    "\n",
    "\n",
    "We load an image $f$."
   ]
  },
  {
   "cell_type": "code",
   "execution_count": 12,
   "metadata": {
    "collapsed": false,
    "deletable": true,
    "editable": true
   },
   "outputs": [],
   "source": [
    "f <- as.matrix(load_image(\"nt_toolbox/data/lena.png\", 2*n))\n",
    "f <- f[(n-round(n/2)+1):(n+round(n/2)),(n-round(n/2)+1):(n+round(n/2))]"
   ]
  },
  {
   "cell_type": "markdown",
   "metadata": {
    "deletable": true,
    "editable": true
   },
   "source": [
    "Given some vector field $U$, the warping operator $f_1 = \\Ww_U(f)$\n",
    "along the flow is defined\n",
    "$$ f_1(x) = f(x+U(x)) $$\n",
    "i.e. it advects the values of $f$ by the vector field $U$ to obtain the values of $f_1$.\n",
    "\n",
    "\n",
    "We define $U$ as a scaled normalized incompressible flow."
   ]
  },
  {
   "cell_type": "code",
   "execution_count": 13,
   "metadata": {
    "collapsed": false,
    "deletable": true,
    "editable": true
   },
   "outputs": [],
   "source": [
    "U <- normalize(ProjI(V))"
   ]
  },
  {
   "cell_type": "markdown",
   "metadata": {
    "deletable": true,
    "editable": true
   },
   "source": [
    "Helper function: enforce periodicity."
   ]
  },
  {
   "cell_type": "code",
   "execution_count": 14,
   "metadata": {
    "collapsed": true,
    "deletable": true,
    "editable": true
   },
   "outputs": [],
   "source": [
    "periodic <- function(P){ mod(P,n) }"
   ]
  },
  {
   "cell_type": "markdown",
   "metadata": {
    "deletable": true,
    "editable": true
   },
   "source": [
    "Helper function: extend an image by 1 pixel to avoid boundary problems."
   ]
  },
  {
   "cell_type": "code",
   "execution_count": 15,
   "metadata": {
    "collapsed": true,
    "deletable": true,
    "editable": true
   },
   "outputs": [],
   "source": [
    "extend1 <- function(f){ ext <- array(0, c(dim(f)[1], dim(f)[2]+1))\n",
    "                        ext[,1:dim(f)[2]] <- f\n",
    "                        ext[,dim(ext)[2]] <- f[,1]\n",
    "                        return(ext) }\n",
    "\n",
    "extend <- function(f){ t(extend1(t(extend1(f)))) }"
   ]
  },
  {
   "cell_type": "markdown",
   "metadata": {
    "deletable": true,
    "editable": true
   },
   "source": [
    "Helper function: bilinear interpolation on a grid."
   ]
  },
  {
   "cell_type": "code",
   "execution_count": 16,
   "metadata": {
    "collapsed": true,
    "deletable": true,
    "editable": true
   },
   "outputs": [],
   "source": [
    "myinterp <- function(f1, Pi){\n",
    "    dim_f1 <- dim(f1)\n",
    "    f1 <- as.cimg(t(f1))\n",
    "    locations <- data.frame(x=as.vector(Pi[,,2]), y=as.vector(Pi[,,1]))\n",
    "    return( as.matrix(as.cimg(interp(f1, locations))) )\n",
    "}"
   ]
  },
  {
   "cell_type": "markdown",
   "metadata": {
    "deletable": true,
    "editable": true
   },
   "source": [
    "First we compute the initial and wraped grids."
   ]
  },
  {
   "cell_type": "code",
   "execution_count": 17,
   "metadata": {
    "collapsed": true,
    "deletable": true,
    "editable": true
   },
   "outputs": [],
   "source": [
    "grid <- meshgrid_2d(1:n, 1:n)\n",
    "Y <- grid$X ; X <- grid$Y\n",
    "P <- array(0, c(dim(X),2)) ; P[,,1] <- X ; P[,,2] <- Y"
   ]
  },
  {
   "cell_type": "markdown",
   "metadata": {
    "deletable": true,
    "editable": true
   },
   "source": [
    "Defines the warping operator $\\Ww_U$."
   ]
  },
  {
   "cell_type": "code",
   "execution_count": 18,
   "metadata": {
    "collapsed": true,
    "deletable": true,
    "editable": true
   },
   "outputs": [],
   "source": [
    "W <- function(f, U){ myinterp(extend(f), periodic(P - U)) }"
   ]
  },
  {
   "cell_type": "markdown",
   "metadata": {
    "deletable": true,
    "editable": true
   },
   "source": [
    "Display a warped image $\\Ww_{\\rho U}(f)$ for some scaling $\\rho$."
   ]
  },
  {
   "cell_type": "code",
   "execution_count": 19,
   "metadata": {
    "collapsed": false,
    "deletable": true,
    "editable": true
   },
   "outputs": [
    {
     "ename": "ERROR",
     "evalue": "Error in is.finite(y): méthode par défaut indisponible pour le type 'list'\n",
     "output_type": "error",
     "traceback": [
      "Error in is.finite(y): méthode par défaut indisponible pour le type 'list'\nTraceback:\n",
      "1. imageplot(W(f, rho * U))",
      "2. W(f, rho * U)",
      "3. myinterp(extend(f), periodic(P - U))   # at line 1 of file <text>",
      "4. as.matrix(as.cimg(interp(f1, locations)))   # at line 5 of file <text>",
      "5. as.cimg(interp(f1, locations))",
      "6. interp(f1, locations)",
      "7. interp.old(x, y, z, xo, yo, ncp = 0, extrap = FALSE, duplicate = duplicate, \n .     dupfun = dupfun)"
     ]
    }
   ],
   "source": [
    "rho = 2\n",
    "options(repr.plot.width=5, repr.plot.height=5)\n",
    "imageplot(W(f, rho*U))"
   ]
  },
  {
   "cell_type": "markdown",
   "metadata": {
    "deletable": true,
    "editable": true
   },
   "source": [
    "__Exercise 1__\n",
    "\n",
    "Display $\\Ww_{\\rho U}(f)$ for various values of $\\rho$."
   ]
  },
  {
   "cell_type": "code",
   "execution_count": 32,
   "metadata": {
    "collapsed": false,
    "deletable": true,
    "editable": true
   },
   "outputs": [
    {
     "ename": "ERROR",
     "evalue": "Error in is.finite(y): méthode par défaut indisponible pour le type 'list'\n",
     "output_type": "error",
     "traceback": [
      "Error in is.finite(y): méthode par défaut indisponible pour le type 'list'\nTraceback:\n",
      "1. source(\"nt_solutions/graphics_5_fluids/exo1.R\")",
      "2. withVisible(eval(ei, envir))",
      "3. eval(ei, envir)",
      "4. eval(expr, envir, enclos)",
      "5. imageplot(W(f, rho * U), paste(\"rho =\", rho), c(2, 2, i))",
      "6. W(f, rho * U)",
      "7. myinterp(extend(f), periodic(P - U))   # at line 1 of file <text>",
      "8. as.matrix(as.cimg(interp(f1, locations)))   # at line 5 of file <text>",
      "9. as.cimg(interp(f1, locations))",
      "10. interp(f1, locations)",
      "11. interp.old(x, y, z, xo, yo, ncp = 0, extrap = FALSE, duplicate = duplicate, \n  .     dupfun = dupfun)"
     ]
    }
   ],
   "source": [
    "options(repr.plot.width=7, repr.plot.height=7)\n",
    "\n",
    "source(\"nt_solutions/graphics_5_fluids/exo1.R\")"
   ]
  },
  {
   "cell_type": "code",
   "execution_count": 21,
   "metadata": {
    "collapsed": true,
    "deletable": true,
    "editable": true
   },
   "outputs": [],
   "source": [
    "## Insert your code here."
   ]
  },
  {
   "cell_type": "markdown",
   "metadata": {
    "deletable": true,
    "editable": true
   },
   "source": [
    "__Exercise 2__\n",
    "\n",
    "Define an iterative scheme via:\n",
    "$$ f^{(\\ell+1)} = \\Ww_{\\rho U}(f^{(\\ell)}).  $$\n",
    "Display the result $f^{(\\ell)}$, which corresponds approximately to solving\n",
    "an advection equation at time $t=\\ell \\rho$."
   ]
  },
  {
   "cell_type": "code",
   "execution_count": 22,
   "metadata": {
    "collapsed": false,
    "deletable": true,
    "editable": true
   },
   "outputs": [
    {
     "ename": "ERROR",
     "evalue": "Error in is.finite(y): méthode par défaut indisponible pour le type 'list'\n",
     "output_type": "error",
     "traceback": [
      "Error in is.finite(y): méthode par défaut indisponible pour le type 'list'\nTraceback:\n",
      "1. source(\"nt_solutions/graphics_5_fluids/exo2.R\")",
      "2. withVisible(eval(ei, envir))",
      "3. eval(ei, envir)",
      "4. eval(expr, envir, enclos)",
      "5. W(f1, rho * U)",
      "6. myinterp(extend(f), periodic(P - U))   # at line 1 of file <text>",
      "7. as.matrix(as.cimg(interp(f1, locations)))   # at line 5 of file <text>",
      "8. as.cimg(interp(f1, locations))",
      "9. interp(f1, locations)",
      "10. interp.old(x, y, z, xo, yo, ncp = 0, extrap = FALSE, duplicate = duplicate, \n  .     dupfun = dupfun)"
     ]
    }
   ],
   "source": [
    "options(repr.plot.width=7, repr.plot.height=7)\n",
    "\n",
    "source(\"nt_solutions/graphics_5_fluids/exo2.R\")"
   ]
  },
  {
   "cell_type": "code",
   "execution_count": 23,
   "metadata": {
    "collapsed": true,
    "deletable": true,
    "editable": true
   },
   "outputs": [],
   "source": [
    "## Insert your code here."
   ]
  },
  {
   "cell_type": "markdown",
   "metadata": {
    "deletable": true,
    "editable": true
   },
   "source": [
    "Fluid Dynamics\n",
    "--------------\n",
    "Fluid dynamics solves the incompressible Navier-Stokes equations to\n",
    "evolve in time the vector field.\n",
    "\n",
    "\n",
    "We discribe here a simple algorithm introduced in:\n",
    "\n",
    "\n",
    "J. Stam, _Stable Fluids,_\n",
    "SIGGRAPH'99, 1999, p. 121-128.\n",
    "\n",
    "\n",
    "It proposes a semi-implicit scheme for the resolution of the Navier\n",
    "Stockes equations for the movement of incompressible fluids\n",
    "$$\n",
    "      \\pd{V}{t} =\n",
    "      \\text{Proj}_{\\Ii}\\pa{\n",
    "          -(V \\cdot \\nabla) V + \\nu \\Delta V + W\n",
    "      }.\n",
    "$$\n",
    "Here $\\nu \\geq 0$ is the viscosity of the fluid,\n",
    "$W$ is a source term, $\\Delta$ is the Laplacian, and\n",
    "$-(V \\cdot \\nabla) V$ is the\n",
    "non-linear self-advection, where we have used the short-hand\n",
    "notation $V \\cdot \\nabla$ for the derivative operator along a flow $V$:\n",
    "$$ (V \\cdot \\nabla)U = ( V_1 \\pd{U_1}{x_1} + V_2 \\pd{U_1}{x_2},\n",
    "      V_1 \\pd{U_2}{x_1} + V_2 \\pd{U_2}{x_2} ).$$\n",
    "\n",
    "\n",
    "In order to visualize the flow, we also advect and diffuse along the flow\n",
    "a density $g$ of particules, which is a scalar field. Once $V$ has\n",
    "been computed, it follows a linear PDE\n",
    "$$\n",
    "      \\pd{g}{t} =\n",
    "          -(V \\cdot \\nabla) g + \\mu \\Delta g + h\n",
    "$$\n",
    "with some initial condition at time $t=0$, where $h$ is a source for the density.\n",
    "\n",
    "\n",
    "In practice, we solve this PDE in parallel to the PDE for $V$.\n",
    "\n",
    "\n",
    "In the following, we use $W=0$ and $h=0$ (no sources).\n",
    "\n",
    "\n",
    "Set the viscosity $\\nu$ for the velocity field."
   ]
  },
  {
   "cell_type": "code",
   "execution_count": 24,
   "metadata": {
    "collapsed": true,
    "deletable": true,
    "editable": true
   },
   "outputs": [],
   "source": [
    "nu <- 1/10"
   ]
  },
  {
   "cell_type": "markdown",
   "metadata": {
    "deletable": true,
    "editable": true
   },
   "source": [
    "We use a larger viscosity $\\mu$ for the evolution of the density of\n",
    "particules."
   ]
  },
  {
   "cell_type": "code",
   "execution_count": 25,
   "metadata": {
    "collapsed": true,
    "deletable": true,
    "editable": true
   },
   "outputs": [],
   "source": [
    "mu <- 2*nu"
   ]
  },
  {
   "cell_type": "markdown",
   "metadata": {
    "deletable": true,
    "editable": true
   },
   "source": [
    "Extend the warping operator $\\Ww_U$ to work with vector fields as input.\n",
    "This will apply $\\Ww_U$ on each channel of the vector field (X and Y coordinates)."
   ]
  },
  {
   "cell_type": "code",
   "execution_count": 26,
   "metadata": {
    "collapsed": true,
    "deletable": true,
    "editable": true
   },
   "outputs": [],
   "source": [
    "Wt <- function(V, U){ x <- W(V[,,1],U)\n",
    "                      y <- W(V[,,2],U)\n",
    "                      out <- array(0, dim(V))\n",
    "                      out[,,1] <- x ; out[,,2] <- y\n",
    "                      return(out)}"
   ]
  },
  {
   "cell_type": "markdown",
   "metadata": {
    "deletable": true,
    "editable": true
   },
   "source": [
    "We discretize the PDE's using some time step $\\tau$."
   ]
  },
  {
   "cell_type": "code",
   "execution_count": 27,
   "metadata": {
    "collapsed": true,
    "deletable": true,
    "editable": true
   },
   "outputs": [],
   "source": [
    "tau <- .5"
   ]
  },
  {
   "cell_type": "markdown",
   "metadata": {
    "deletable": true,
    "editable": true
   },
   "source": [
    "The algorithm computes $V^{(\\ell)}$ at iteration $\\ell$\n",
    "which is an approximation of the PDE solution at time $\\ell \\tau$.\n",
    "It is computed itertatively as\n",
    "$$\n",
    "      \\tilde V^{(\\ell)} = \\Ww_{\\tau V^{(\\ell)}}( V^{(\\ell)} )\n",
    "  \\qandq\n",
    "      V^{(\\ell+1)} = \\text{Proj}_{\\Ii}\\pa{ \\tilde V^{(\\ell)} + \\tau\\nu\\Delta \\tilde V^{(\\ell)} + \\tau W  }\n",
    "$$\n",
    "\n",
    "\n",
    "It computes in parallel the evolution of the density as\n",
    "$$\n",
    "      \\tilde g^{(\\ell)} = \\Ww_{\\tau V^{(\\ell)}}( g^{(\\ell)} )\n",
    "  \\qandq\n",
    "      g^{(\\ell+1)} = \\tilde g^{(\\ell)} + \\tau\\nu\\Delta \\tilde g^{(\\ell)} + \\tau h\n",
    "$$\n",
    "\n",
    "\n",
    "\n",
    "Set the initial field $V=V^{(0)}$ at time $t=0$."
   ]
  },
  {
   "cell_type": "code",
   "execution_count": 29,
   "metadata": {
    "collapsed": true,
    "deletable": true,
    "editable": true
   },
   "outputs": [],
   "source": [
    "V <- normalize(ProjI(V))"
   ]
  },
  {
   "cell_type": "markdown",
   "metadata": {
    "deletable": true,
    "editable": true
   },
   "source": [
    "Set the initial density $g=g^{(0)}$ at time $t=0$."
   ]
  },
  {
   "cell_type": "code",
   "execution_count": 30,
   "metadata": {
    "collapsed": true,
    "deletable": true,
    "editable": true
   },
   "outputs": [],
   "source": [
    "g <- f"
   ]
  },
  {
   "cell_type": "markdown",
   "metadata": {
    "deletable": true,
    "editable": true
   },
   "source": [
    "The first step is to advect the vector field $V$ and $g$ along the flow $V$ itself.\n",
    "This corresponds to an implict discretization of the term\n",
    "$-(V \\cdot \\nabla) V$."
   ]
  },
  {
   "cell_type": "code",
   "execution_count": 31,
   "metadata": {
    "collapsed": false,
    "deletable": true,
    "editable": true
   },
   "outputs": [
    {
     "ename": "ERROR",
     "evalue": "Error in is.finite(y): méthode par défaut indisponible pour le type 'list'\n",
     "output_type": "error",
     "traceback": [
      "Error in is.finite(y): méthode par défaut indisponible pour le type 'list'\nTraceback:\n",
      "1. W(g, tau * U)",
      "2. myinterp(extend(f), periodic(P - U))   # at line 1 of file <text>",
      "3. as.matrix(as.cimg(interp(f1, locations)))   # at line 5 of file <text>",
      "4. as.cimg(interp(f1, locations))",
      "5. interp(f1, locations)",
      "6. interp.old(x, y, z, xo, yo, ncp = 0, extrap = FALSE, duplicate = duplicate, \n .     dupfun = dupfun)"
     ]
    }
   ],
   "source": [
    "g <- W(g, tau*U)\n",
    "V <- Wt(V, tau*U)"
   ]
  },
  {
   "cell_type": "markdown",
   "metadata": {
    "deletable": true,
    "editable": true
   },
   "source": [
    "We implement the Laplacian using finite difference."
   ]
  },
  {
   "cell_type": "code",
   "execution_count": null,
   "metadata": {
    "collapsed": false,
    "deletable": true,
    "editable": true
   },
   "outputs": [],
   "source": [
    "s1 <- c(2:n,1)\n",
    "s2 <- c(n,1:(n-1))\n",
    "\n",
    "Delta <- function(g){\n",
    "    if (length(dim(g))==2) { 1/4.*(g[s1,] + g[s2,] + g[,s1] + g[,s2]) - g }\n",
    "    else if (length(dim(g))==3) { 1/4.*(g[s1,,] + g[s2,,] + g[,s1,] + g[,s2,]) - g } }"
   ]
  },
  {
   "cell_type": "markdown",
   "metadata": {
    "deletable": true,
    "editable": true
   },
   "source": [
    "The second step is to diffuse the vector field and the density."
   ]
  },
  {
   "cell_type": "code",
   "execution_count": null,
   "metadata": {
    "collapsed": false,
    "deletable": true,
    "editable": true
   },
   "outputs": [],
   "source": [
    "V <- V + tau*nu*Delta(V)\n",
    "g <- g + tau*mu*Delta(g)"
   ]
  },
  {
   "cell_type": "markdown",
   "metadata": {
    "deletable": true,
    "editable": true
   },
   "source": [
    "The last step is to ensure incompressibility of $V$ by projecting on $\\Ii$."
   ]
  },
  {
   "cell_type": "code",
   "execution_count": null,
   "metadata": {
    "collapsed": true,
    "deletable": true,
    "editable": true
   },
   "outputs": [],
   "source": [
    "V <- ProjI(V)"
   ]
  },
  {
   "cell_type": "markdown",
   "metadata": {
    "deletable": true,
    "editable": true
   },
   "source": [
    "__Exercise 3__\n",
    "\n",
    "Compute the fluid dynamic by iterating these steps."
   ]
  },
  {
   "cell_type": "code",
   "execution_count": null,
   "metadata": {
    "collapsed": false,
    "deletable": true,
    "editable": true
   },
   "outputs": [],
   "source": [
    "options(repr.plot.width=7, repr.plot.height=7)\n",
    "\n",
    "source(\"nt_solutions/graphics_5_fluids/exo3.R\")"
   ]
  },
  {
   "cell_type": "code",
   "execution_count": null,
   "metadata": {
    "collapsed": true,
    "deletable": true,
    "editable": true
   },
   "outputs": [],
   "source": [
    "## Insert your code here."
   ]
  },
  {
   "cell_type": "raw",
   "metadata": {
    "deletable": true,
    "editable": true
   },
   "source": [
    "<script>\n",
    "  $(document).ready(function(){\n",
    "      $('div.prompt').hide();\n",
    "  });\n",
    "</script>"
   ]
  }
 ],
 "metadata": {
  "anaconda-cloud": {},
  "kernelspec": {
   "display_name": "R",
   "language": "R",
   "name": "ir"
  },
  "language_info": {
   "codemirror_mode": "r",
   "file_extension": ".r",
   "mimetype": "text/x-r-source",
   "name": "R",
   "pygments_lexer": "r",
   "version": "3.3.1"
  }
 },
 "nbformat": 4,
 "nbformat_minor": 1
}
