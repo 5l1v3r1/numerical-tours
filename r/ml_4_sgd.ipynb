{
 "cells": [
  {
   "cell_type": "markdown",
   "metadata": {
    "deletable": true,
    "editable": true
   },
   "source": [
    "Stochastic Gradient descent\n",
    "===========================\n",
    "\n",
    "*Important:* Please read the [installation page](http://gpeyre.github.io/numerical-tours/installation_python/) for details about how to install the toolboxes.\n",
    "$\\newcommand{\\dotp}[2]{\\langle #1, #2 \\rangle}$\n",
    "$\\newcommand{\\enscond}[2]{\\lbrace #1, #2 \\rbrace}$\n",
    "$\\newcommand{\\pd}[2]{ \\frac{ \\partial #1}{\\partial #2} }$\n",
    "$\\newcommand{\\umin}[1]{\\underset{#1}{\\min}\\;}$\n",
    "$\\newcommand{\\umax}[1]{\\underset{#1}{\\max}\\;}$\n",
    "$\\newcommand{\\umin}[1]{\\underset{#1}{\\min}\\;}$\n",
    "$\\newcommand{\\uargmin}[1]{\\underset{#1}{argmin}\\;}$\n",
    "$\\newcommand{\\norm}[1]{\\|#1\\|}$\n",
    "$\\newcommand{\\abs}[1]{\\left|#1\\right|}$\n",
    "$\\newcommand{\\choice}[1]{ \\left\\{  \\begin{array}{l} #1 \\end{array} \\right. }$\n",
    "$\\newcommand{\\pa}[1]{\\left(#1\\right)}$\n",
    "$\\newcommand{\\diag}[1]{{diag}\\left( #1 \\right)}$\n",
    "$\\newcommand{\\qandq}{\\quad\\text{and}\\quad}$\n",
    "$\\newcommand{\\qwhereq}{\\quad\\text{where}\\quad}$\n",
    "$\\newcommand{\\qifq}{ \\quad \\text{if} \\quad }$\n",
    "$\\newcommand{\\qarrq}{ \\quad \\Longrightarrow \\quad }$\n",
    "$\\newcommand{\\ZZ}{\\mathbb{Z}}$\n",
    "$\\newcommand{\\CC}{\\mathbb{C}}$\n",
    "$\\newcommand{\\RR}{\\mathbb{R}}$\n",
    "$\\newcommand{\\EE}{\\mathbb{E}}$\n",
    "$\\newcommand{\\Zz}{\\mathcal{Z}}$\n",
    "$\\newcommand{\\Ww}{\\mathcal{W}}$\n",
    "$\\newcommand{\\Vv}{\\mathcal{V}}$\n",
    "$\\newcommand{\\Nn}{\\mathcal{N}}$\n",
    "$\\newcommand{\\NN}{\\mathcal{N}}$\n",
    "$\\newcommand{\\Hh}{\\mathcal{H}}$\n",
    "$\\newcommand{\\Bb}{\\mathcal{B}}$\n",
    "$\\newcommand{\\Ee}{\\mathcal{E}}$\n",
    "$\\newcommand{\\Cc}{\\mathcal{C}}$\n",
    "$\\newcommand{\\Gg}{\\mathcal{G}}$\n",
    "$\\newcommand{\\Ss}{\\mathcal{S}}$\n",
    "$\\newcommand{\\Pp}{\\mathcal{P}}$\n",
    "$\\newcommand{\\Ff}{\\mathcal{F}}$\n",
    "$\\newcommand{\\Xx}{\\mathcal{X}}$\n",
    "$\\newcommand{\\Mm}{\\mathcal{M}}$\n",
    "$\\newcommand{\\Ii}{\\mathcal{I}}$\n",
    "$\\newcommand{\\Dd}{\\mathcal{D}}$\n",
    "$\\newcommand{\\Ll}{\\mathcal{L}}$\n",
    "$\\newcommand{\\Tt}{\\mathcal{T}}$\n",
    "$\\newcommand{\\si}{\\sigma}$\n",
    "$\\newcommand{\\al}{\\alpha}$\n",
    "$\\newcommand{\\la}{\\lambda}$\n",
    "$\\newcommand{\\ga}{\\gamma}$\n",
    "$\\newcommand{\\Ga}{\\Gamma}$\n",
    "$\\newcommand{\\La}{\\Lambda}$\n",
    "$\\newcommand{\\si}{\\sigma}$\n",
    "$\\newcommand{\\Si}{\\Sigma}$\n",
    "$\\newcommand{\\be}{\\beta}$\n",
    "$\\newcommand{\\de}{\\delta}$\n",
    "$\\newcommand{\\De}{\\Delta}$\n",
    "$\\newcommand{\\phi}{\\varphi}$\n",
    "$\\newcommand{\\th}{\\theta}$\n",
    "$\\newcommand{\\om}{\\omega}$\n",
    "$\\newcommand{\\Om}{\\Omega}$\n",
    "$\\newcommand{\\eqdef}{\\equiv}$"
   ]
  },
  {
   "cell_type": "markdown",
   "metadata": {
    "deletable": true,
    "editable": true
   },
   "source": [
    "This tour details Stochastic Gradient Descent, applied to the binary logistic classification problem.\n",
    "\n",
    "We recommend that after doing this Numerical Tours, you apply it to your\n",
    "own data, for instance using a dataset from [LibSVM](https://www.csie.ntu.edu.tw/~cjlin/libsvmtools/datasets/).\n",
    "\n",
    "_Disclaimer:_ these machine learning tours are intended to be\n",
    "overly-simplistic implementations and applications of baseline machine learning methods.\n",
    "For more advanced uses and implementations, we recommend\n",
    "to use a state-of-the-art library, the most well known being\n",
    "[Scikit-Learn](http://scikit-learn.org/)"
   ]
  },
  {
   "cell_type": "code",
   "execution_count": 10,
   "metadata": {
    "collapsed": false,
    "deletable": true,
    "editable": true
   },
   "outputs": [],
   "source": [
    "library(plot3D)\n",
    "library(pracma)\n",
    "\n",
    "options(warn=-1) # turns off warnings, to turn on: \"options(warn=0)\"\n",
    "\n",
    "# Importing the libraries\n",
    "for (f in list.files(path=\"nt_toolbox/toolbox_general/\", pattern=\"*.R\")) {\n",
    "    source(paste(\"nt_toolbox/toolbox_general/\", f, sep=\"\"))\n",
    "}\n",
    "for (f in list.files(path=\"nt_toolbox/toolbox_signal/\", pattern=\"*.R\")) {\n",
    "    source(paste(\"nt_toolbox/toolbox_signal/\", f, sep=\"\"))\n",
    "}"
   ]
  },
  {
   "cell_type": "markdown",
   "metadata": {
    "deletable": true,
    "editable": true
   },
   "source": [
    "Define a few helper functions:"
   ]
  },
  {
   "cell_type": "code",
   "execution_count": 11,
   "metadata": {
    "collapsed": true,
    "deletable": true,
    "editable": true
   },
   "outputs": [],
   "source": [
    "fs = 10\n",
    "\n",
    "Xm = function(X){as.matrix(X - rep(colMeans(X), rep.int(nrow(X), ncol(X))))}\n",
    "Cov = function(X){data.matrix(1. / (n - 1) * t(Xm(X)) %*% Xm(X))}"
   ]
  },
  {
   "cell_type": "markdown",
   "metadata": {
    "deletable": true,
    "editable": true
   },
   "source": [
    "Simple Example\n",
    "--------------\n",
    "We first illustrate the concept of stochastic gradient descent on a\n",
    "simple example\n",
    "$$ \\umin{x \\in \\RR} f(x) \\eqdef f_1(x) + f_2(x) $$\n",
    "where $f_1(x) \\eqdef (x-1)^2$ and\n",
    "$f_2(x) \\eqdef (x+1)^2$.\n",
    "\n",
    "\n",
    "Functions and their derivatives."
   ]
  },
  {
   "cell_type": "code",
   "execution_count": 12,
   "metadata": {
    "collapsed": false,
    "deletable": true,
    "editable": true
   },
   "outputs": [],
   "source": [
    "f = function(x,i)\n",
    "{\n",
    "    if (i==1)\n",
    "    {\n",
    "        return(0.5 * (x - 1)**2)\n",
    "    }\n",
    "    else\n",
    "    {\n",
    "        return(0.5 * (x + 1)**2)\n",
    "    }\n",
    "}\n",
    "\n",
    "df = function(x,i)\n",
    "{\n",
    "    if (i==1)\n",
    "    {\n",
    "        return(x - 1)\n",
    "    }\n",
    "    else\n",
    "    {\n",
    "        return(x + 1)\n",
    "    }\n",
    "}\n",
    "\n",
    "F = function(x){f(x,1) + f(x,2)}"
   ]
  },
  {
   "cell_type": "code",
   "execution_count": 13,
   "metadata": {
    "collapsed": false,
    "deletable": true,
    "editable": true
   },
   "outputs": [
    {
     "data": {
      "image/png": "[encoded data removed]",
      "text/plain": [
       "plot without title"
      ]
     },
     "metadata": {},
     "output_type": "display_data"
    }
   ],
   "source": [
    "options(repr.plot.width=6, repr.plot.height=6)\n",
    "t = seq(-3,3, length=201)\n",
    "plot(t, f(t,1), col=\"blue\", type='l', ylab=\"\", xlab=\"\")\n",
    "lines(t, f(t,2), col=\"orange\", type='l')\n",
    "lines(t, F(t), col=\"green\", type='l')\n",
    "legend(\"top\", legend=c(\"f1\", \"f2\", \"F\"), col=c(\"blue\", \"orange\", \"green\"), pch=\"-\")"
   ]
  },
  {
   "cell_type": "markdown",
   "metadata": {
    "deletable": true,
    "editable": true
   },
   "source": [
    "Each iteration of SGD reads\n",
    "$$ x_{\\ell+1} = x_\\ell - \\tau_\\ell \\nabla f_{i(\\ell)}(x_\\ell) $$\n",
    "where $ i(\\ell) \\in \\{1,2\\} $ is drawn uniformly."
   ]
  },
  {
   "cell_type": "markdown",
   "metadata": {
    "deletable": true,
    "editable": true
   },
   "source": [
    "__Exercise 0__\n",
    "\n",
    "Implement the SGD, with a random initial condition $x_0$.\n",
    "Display several paths (i.e. run several times the algorithm)\n",
    "to vizualize the evolution of the density of the random variable\n",
    "$x_\\ell$."
   ]
  },
  {
   "cell_type": "code",
   "execution_count": 14,
   "metadata": {
    "collapsed": false,
    "deletable": true,
    "editable": true
   },
   "outputs": [
    {
     "data": {
      "image/png": "[encoded data removed]",
      "text/plain": [
       "plot without title"
      ]
     },
     "metadata": {},
     "output_type": "display_data"
    }
   ],
   "source": [
    "source(\"nt_solutions/ml_4_sgd/exo0.R\")"
   ]
  },
  {
   "cell_type": "code",
   "execution_count": 15,
   "metadata": {
    "collapsed": true,
    "deletable": true,
    "editable": true
   },
   "outputs": [],
   "source": [
    "## Insert your code here."
   ]
  },
  {
   "cell_type": "markdown",
   "metadata": {
    "deletable": true,
    "editable": true
   },
   "source": [
    "Dataset Loading\n",
    "---------------\n",
    "We load a subset of the <http://osmot.cs.cornell.edu/kddcup/datasets.html\n",
    "dataset Quantum Physics Dataset>\n",
    "of $n=10000$ features in dimension $78$. The goal in this task is to learn a classification rule that differentiates between two types of particles generated in high energy collider experiments.\n",
    "\n",
    "\n",
    "\n",
    "Load the dataset.\n",
    "Randomly permute it.\n",
    "Separate the features $X$ from the data $y$ to predict information."
   ]
  },
  {
   "cell_type": "code",
   "execution_count": 16,
   "metadata": {
    "collapsed": false,
    "deletable": true,
    "editable": true
   },
   "outputs": [],
   "source": [
    "file_name = 'nt_toolbox/data/quantum.csv'\n",
    "A = read.table(file_name, sep=\",\", head=FALSE)\n",
    "A = A[sample(dim(A)[1]),]\n",
    "X = A[,1:(dim(A)[2] - 1)]\n",
    "y = A[,dim(A)[2]]"
   ]
  },
  {
   "cell_type": "markdown",
   "metadata": {
    "deletable": true,
    "editable": true
   },
   "source": [
    "Set the classes indexes to be $\\{-1,+1\\}$."
   ]
  },
  {
   "cell_type": "code",
   "execution_count": 17,
   "metadata": {
    "collapsed": false,
    "deletable": true,
    "editable": true
   },
   "outputs": [],
   "source": [
    "y = (2 * y - 1)"
   ]
  },
  {
   "cell_type": "markdown",
   "metadata": {
    "deletable": true,
    "editable": true
   },
   "source": [
    "Remove empty features, normalize $X$."
   ]
  },
  {
   "cell_type": "code",
   "execution_count": 18,
   "metadata": {
    "collapsed": false,
    "deletable": true,
    "editable": true
   },
   "outputs": [
    {
     "ename": "ERROR",
     "evalue": "Error in Math.data.frame(X): non-numeric variable in data frame: V1\n",
     "output_type": "error",
     "traceback": [
      "Error in Math.data.frame(X): non-numeric variable in data frame: V1\nTraceback:\n",
      "1. colMeans(abs(X))",
      "2. is.data.frame(x)",
      "3. Math.data.frame(X)",
      "4. stop(\"non-numeric variable in data frame: \", vnames[!mode.ok])"
     ]
    }
   ],
   "source": [
    "I = colMeans(abs(X)) > 1e-1 \n",
    "X = X[,I]\n",
    "X = scale(X)"
   ]
  },
  {
   "cell_type": "markdown",
   "metadata": {
    "deletable": true,
    "editable": true
   },
   "source": [
    "$n$ is the number of samples, $p$ is the dimensionality of the features,"
   ]
  },
  {
   "cell_type": "code",
   "execution_count": null,
   "metadata": {
    "collapsed": false,
    "deletable": true,
    "editable": true
   },
   "outputs": [],
   "source": [
    "n = dim(X)[1]\n",
    "p = dim(X)[2]"
   ]
  },
  {
   "cell_type": "markdown",
   "metadata": {
    "deletable": true,
    "editable": true
   },
   "source": [
    "Compute PCA main axes for display."
   ]
  },
  {
   "cell_type": "code",
   "execution_count": null,
   "metadata": {
    "collapsed": false,
    "deletable": true,
    "editable": true
   },
   "outputs": [],
   "source": [
    "svd_decomp = svd(Xm(X))\n",
    "U = svd_decomp$u\n",
    "s = svd_decomp$d\n",
    "V = svd_decomp$v\n",
    "Xr = X %*% t(V)\n",
    "\n",
    "options(repr.plot.width=4, repr.plot.height=4)\n",
    "plot(s, type=\"o\", col=4, ylab=\"\", xlab=\"\", pch=16)"
   ]
  },
  {
   "cell_type": "markdown",
   "metadata": {
    "deletable": true,
    "editable": true
   },
   "source": [
    "Plot the classes."
   ]
  },
  {
   "cell_type": "code",
   "execution_count": null,
   "metadata": {
    "collapsed": false,
    "deletable": true,
    "editable": true
   },
   "outputs": [],
   "source": [
    "options(repr.plot.width=5, repr.plot.height=5)\n",
    "I = sample(n)\n",
    "I = I[1:200]\n",
    "plot_multiclasses(X[I,],y[I], 2)"
   ]
  },
  {
   "cell_type": "code",
   "execution_count": null,
   "metadata": {
    "collapsed": false,
    "deletable": true,
    "editable": true
   },
   "outputs": [],
   "source": [
    "plot_multiclasses(X[I,],y[I], 3)"
   ]
  },
  {
   "cell_type": "markdown",
   "metadata": {
    "deletable": true,
    "editable": true
   },
   "source": [
    "Batch Gradient Descent (BGD)\n",
    "----------------------------\n",
    "We first test the usual (batch) gradient descent (BGD) on the problem of\n",
    "supervised logistic classification.\n",
    "\n",
    "\n",
    "We refer to the dedicated numerical tour on logistic classification for\n",
    "background and more details about the derivations of the energy and its\n",
    "gradient.\n",
    "\n",
    "\n",
    "Logistic classification aims at solving the following convex program\n",
    "  $$ \\umin{w} E(w) \\eqdef \\frac{1}{n} \\sum_{i=1}^n L(\\dotp{x_i}{w},y_i)  $$\n",
    "where the logistic loss reads\n",
    "  $$ L( s,y ) \\eqdef \\log( 1+\\exp(-sy) ) $$\n",
    "\n",
    "\n",
    "Define energy $E$ and its gradient $\\nabla E$."
   ]
  },
  {
   "cell_type": "code",
   "execution_count": null,
   "metadata": {
    "collapsed": true,
    "deletable": true,
    "editable": true
   },
   "outputs": [],
   "source": [
    "L = function(s,y){1/n * sum( log(1 + exp(-s * y)))}\n",
    "E = function(w,X,y){L(X %*% w, y)}\n",
    "theta = function(v){1 / (1 + exp(-v))}\n",
    "nablaL = function(s, r){ - 1/n * y * theta(-s * y)}\n",
    "nablaE = function(w,X,y){t(X) %*% nablaL(X %*% w,y)}"
   ]
  },
  {
   "cell_type": "markdown",
   "metadata": {
    "deletable": true,
    "editable": true
   },
   "source": [
    "__Exercise 1__\n",
    "\n",
    "Implement a gradient descent\n",
    "$$ w_{\\ell+1} = w_\\ell - \\tau_\\ell \\nabla E(w_\\ell). $$\n",
    "Monitor the energy decay.\n",
    "Test different step size, and compare with the theory (in particular\n",
    "plot in log domain to illustrate the linear rate)."
   ]
  },
  {
   "cell_type": "code",
   "execution_count": null,
   "metadata": {
    "collapsed": false,
    "deletable": true,
    "editable": true
   },
   "outputs": [],
   "source": [
    "source(\"nt_solutions/ml_4_sgd/exo1.R\")"
   ]
  },
  {
   "cell_type": "code",
   "execution_count": null,
   "metadata": {
    "collapsed": false,
    "deletable": true,
    "editable": true
   },
   "outputs": [],
   "source": [
    "## Insert your code here."
   ]
  },
  {
   "cell_type": "markdown",
   "metadata": {
    "deletable": true,
    "editable": true
   },
   "source": [
    "Stochastic Gradient Descent (SGD)\n",
    "---------------------------------\n",
    "As any empirical risk minimization procedure, the\n",
    "logistic classification minimization problem can be written as\n",
    "$$ \\umin{w} E(w) = \\frac{1}{n} \\sum_i E_i(w) \\qwhereq E_i(w) = L(\\dotp{x_i}{w},y_i). $$\n",
    "\n",
    "\n",
    "For very large $n$ (which could in theory even be infinite, in which case the sum needs to be replaced\n",
    "by an expectation or equivalenty an integral), computing $\\nabla E$ is prohebitive.\n",
    "It is possible instead to use a stochastic gradient descent (SGD) scheme\n",
    "  $$ w_{\\ell+1} = w_\\ell - \\tau_\\ell \\nabla E_{i(\\ell)}(w_\\ell) $$\n",
    "where, for each iteration index $\\ell$, $i(\\ell)$\n",
    "is drawn uniformly at random in $  \\{1,\\ldots,n\\} $.\n",
    "\n",
    "\n",
    "Note that here\n",
    "$$ \\nabla E_{i}(w) = x_i \\nabla L( \\dotp{x_i}{w}, y_i )\n",
    "  \\qwhereq  \\nabla L(u,v) = v \\odot \\th(-u)  $$"
   ]
  },
  {
   "cell_type": "code",
   "execution_count": null,
   "metadata": {
    "collapsed": false,
    "deletable": true,
    "editable": true
   },
   "outputs": [],
   "source": [
    "nablaEi = function(w,i){as.numeric(-y[i] * t(X[i,]) * c(theta(-y[i] * (X[i,] %*% w))))}"
   ]
  },
  {
   "cell_type": "markdown",
   "metadata": {
    "deletable": true,
    "editable": true
   },
   "source": [
    "Note that each step of a batch gradient descent has complexity $O(np)$,\n",
    "while a step of SGD only has complexity $O(p)$. SGD is thus\n",
    "advantageous when $n$ is very large, and one cannot afford to do\n",
    "several passes through the data. In some situation, SGD can provide\n",
    "accurate results even with $\\ell \\ll n$, exploiting redundancy between\n",
    "the samples.\n",
    "\n",
    "\n",
    "A crucial question is the choice of step size schedule $\\tau_\\ell$. It\n",
    "must tends to 0 in order to cancel the noise induced on the gradient by\n",
    "the stochastic sampling. But it should not go too fast to zero in order\n",
    "for the method to keep converging.\n",
    "\n",
    "\n",
    "A typical schedule that ensures both properties is to have asymptically $\\tau_\\ell \\sim \\ell^{-1}$ for\n",
    "$\\ell\\rightarrow +\\infty$. We thus propose to use\n",
    "$$ \\tau_\\ell \\eqdef \\frac{\\tau_0}{1 + \\ell/\\ell_0} $$\n",
    "where $\\ell_0$ indicates roughly the number of iterations serving as a\n",
    "\"warmup\" phase.\n",
    "\n",
    "\n",
    "One can prove the following convergence result\n",
    " $$ \\EE( E(w_\\ell) ) - E(w^\\star) = O\\pa{ \\frac{1}{\\sqrt{\\ell}} }, $$\n",
    "where $\\EE$ indicates an expectation with respect to the i.i.d.\n",
    "sampling performed at each iteration.\n",
    "\n",
    "\n",
    "Select default values for $ (\\ell_0,\\tau_0) $."
   ]
  },
  {
   "cell_type": "code",
   "execution_count": null,
   "metadata": {
    "collapsed": false,
    "deletable": true,
    "editable": true
   },
   "outputs": [],
   "source": [
    "l0 = 100\n",
    "tau0 = 0.05"
   ]
  },
  {
   "cell_type": "markdown",
   "metadata": {
    "deletable": true,
    "editable": true
   },
   "source": [
    "__Exercise 2__\n",
    "\n",
    "Perform the Stochastic gradient descent.\n",
    "Display the evolution of the energy $E(w_\\ell)$.\n",
    "One can overlay on top (black dashed curve) the convergence of the batch gradient descent, with a carefull scaling of the\n",
    "number of iteration to account for the fact that the complexity of a batch iteration is $n$ times larger.\n",
    "Perform several runs to illustrate the probabilistic nature of the method.\n",
    "Explore different values for $ (\\ell_0,\\tau_0) $."
   ]
  },
  {
   "cell_type": "code",
   "execution_count": null,
   "metadata": {
    "collapsed": false,
    "deletable": true,
    "editable": true
   },
   "outputs": [],
   "source": [
    "source(\"nt_solutions/ml_4_sgd/exo2.R\")"
   ]
  },
  {
   "cell_type": "code",
   "execution_count": null,
   "metadata": {
    "collapsed": false,
    "deletable": true,
    "editable": true
   },
   "outputs": [],
   "source": [
    "## Insert your code here."
   ]
  },
  {
   "cell_type": "markdown",
   "metadata": {
    "deletable": true,
    "editable": true
   },
   "source": [
    "Stochastic Gradient Descent with Averaging (SGA)\n",
    "------------------------------------------------\n",
    "Stochastic gradient descent is slow because of the fast decay of\n",
    "$\\tau_\\ell$ toward zero.\n",
    "\n",
    "\n",
    "To improve somehow the convergence speed, it is possible to average the past\n",
    "iterate, i.e. run a \"classical\" SGD on auxiliary variables $ (\\tilde w_\\ell)_\\ell$\n",
    "  $$ \\tilde w_{\\ell+1} = \\tilde w_\\ell - \\tau_\\ell \\nabla E_{i(\\ell)}(\\tilde w_\\ell) $$\n",
    "and output as estimated weight vector the average\n",
    "$$ w_\\ell \\eqdef \\frac{1}{\\ell} \\sum_{k=1}^\\ell \\tilde w_\\ell. $$\n",
    "This defines the Stochastic Gradient Descent with Averaging (SGA)\n",
    "algorithm.\n",
    "\n",
    "\n",
    "Note that it is possible to avoid explicitely storing all the iterates by simply\n",
    "updating a running average as follow\n",
    "$$ w_{\\ell+1} = \\frac{1}{\\ell} \\tilde w_\\ell +  \\frac{\\ell-1}{\\ell} w_\\ell.  $$\n",
    "\n",
    "\n",
    "In this case, a typical choice of decay is rather of the form\n",
    "$$ \\tau_\\ell \\eqdef \\frac{\\tau_0}{1 + \\sqrt{\\ell/\\ell_0}}. $$\n",
    "Notice that the step size now goes much slower to 0, at rate $\\ell^{-1/2}$.\n",
    "\n",
    "\n",
    "Typically, because the averaging stabilizes the iterates, the choice of\n",
    "$(\\ell_0,\\tau_0)$ is less important than for SGD.\n",
    "\n",
    "\n",
    "[Bach proves that](https://arxiv.org/pdf/1303.6149.pdf) for logistic classification,\n",
    "it leads to a faster convergence (the constant involved are\n",
    "smaller) than SGD, since\n",
    "on contrast to SGD, SGA is adaptive to the local strong convexity of $E$."
   ]
  },
  {
   "cell_type": "markdown",
   "metadata": {
    "deletable": true,
    "editable": true
   },
   "source": [
    "__Exercise 3__\n",
    "\n",
    "Implement the Stochastic gradient descent with averaging.\n",
    "Display the evolution of the energy $E(w_\\ell)$."
   ]
  },
  {
   "cell_type": "code",
   "execution_count": null,
   "metadata": {
    "collapsed": false,
    "deletable": true,
    "editable": true
   },
   "outputs": [],
   "source": [
    "source(\"nt_solutions/ml_4_sgd/exo3.R\")"
   ]
  },
  {
   "cell_type": "code",
   "execution_count": null,
   "metadata": {
    "collapsed": false,
    "deletable": true,
    "editable": true
   },
   "outputs": [],
   "source": [
    "## Insert your code here."
   ]
  },
  {
   "cell_type": "markdown",
   "metadata": {
    "deletable": true,
    "editable": true
   },
   "source": [
    "Stochastic Averaged Gradient Descent (SAG)\n",
    "------------------------------------------\n",
    "For problem size $n$ where the dataset (of size $n \\times p$) can\n",
    "fully fit into memory, it is possible to further improve the SGA method\n",
    "by bookeeping the previous gradient. This gives rise to the\n",
    "[Stochastic Averaged Gradient Descent (SAG)](https://arxiv.org/pdf/1309.2388) algorithm.\n",
    "\n",
    "\n",
    "We stored all the previously computed gradient in $ (G^i)_{i=1}^n $,\n",
    "which necessitate $n \\times p$ memory.\n",
    "The iterates are defined by using a proxy $g$ for the batch gradient,\n",
    "which is progressively enhanced during the iterates.\n",
    "\n",
    "\n",
    "The algorithm reads\n",
    "$$ h \\leftarrow \\nabla E_{i(\\ell)}(\\tilde w_\\ell), $$\n",
    "$$ g  \\leftarrow g - G^{i(\\ell)} + h,   $$\n",
    "$$ G^{i(\\ell)} \\leftarrow h,  $$\n",
    "$$ w_{\\ell+1} = w_\\ell - \\tau g.  $$\n",
    "Note that in contrast to SGD and SGA, this method uses a fixed step\n",
    "size $\\tau$. Similarely to the BGD, in order to ensure convergence,\n",
    "the step size $\\tau$ should be of the order of $1/L$\n",
    "where $L$ is the Lipschitz constant of $E$.\n",
    "\n",
    "\n",
    "This algorithm improves over SGA and BGD\n",
    "since it has a convergence rate of $O(1/\\ell)$.\n",
    "Furthermore, in the presence of strong convexity (for instance when $X$ is\n",
    "injective for logistic classification), it has a linear convergence rate,\n",
    "i.e.\n",
    " $$ \\EE( E(w_\\ell) ) - E(w^\\star) = O\\pa{ \\rho^\\ell }, $$\n",
    "for some $0 < \\rho < 1$.\n",
    "\n",
    "\n",
    "Note that this improvement over SGD and SGA is made possible only because\n",
    "SAG explictely use the fact that $n$ is finite (while SGD and SGA can\n",
    "be extended to infinite $n$ and more general minimization of\n",
    "expectations)."
   ]
  },
  {
   "cell_type": "markdown",
   "metadata": {
    "deletable": true,
    "editable": true
   },
   "source": [
    "__Exercise 4__\n",
    "\n",
    "Implement SAG.\n",
    "Display the evolution of the energy $E(w_\\ell)$."
   ]
  },
  {
   "cell_type": "code",
   "execution_count": null,
   "metadata": {
    "collapsed": false,
    "deletable": true,
    "editable": true
   },
   "outputs": [],
   "source": [
    "source(\"nt_solutions/ml_4_sgd/exo4.R\")"
   ]
  },
  {
   "cell_type": "code",
   "execution_count": null,
   "metadata": {
    "collapsed": false,
    "deletable": true,
    "editable": true
   },
   "outputs": [],
   "source": [
    "## Insert your code here."
   ]
  }
 ],
 "metadata": {
  "kernelspec": {
   "display_name": "R",
   "language": "R",
   "name": "ir"
  },
  "language_info": {
   "codemirror_mode": "r",
   "file_extension": ".r",
   "mimetype": "text/x-r-source",
   "name": "R",
   "pygments_lexer": "r",
   "version": "3.4.3"
  }
 },
 "nbformat": 4,
 "nbformat_minor": 0
}
