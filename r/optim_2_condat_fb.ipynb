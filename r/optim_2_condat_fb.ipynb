{
 "cells": [
  {
   "cell_type": "markdown",
   "metadata": {
    "deletable": true,
    "editable": true
   },
   "source": [
    "Forward-Backward Splitting\n",
    "===================================\n",
    "\n",
    "$\\newcommand{\\dotp}[2]{\\langle #1, #2 \\rangle}$\n",
    "$\\newcommand{\\enscond}[2]{\\lbrace #1, #2 \\rbrace}$\n",
    "$\\newcommand{\\pd}[2]{ \\frac{ \\partial #1}{\\partial #2} }$\n",
    "$\\newcommand{\\umin}[1]{\\underset{#1}{\\min}\\;}$\n",
    "$\\newcommand{\\umax}[1]{\\underset{#1}{\\max}\\;}$\n",
    "$\\newcommand{\\umin}[1]{\\underset{#1}{\\min}\\;}$\n",
    "$\\newcommand{\\uargmin}[1]{\\underset{#1}{\\arg\\min}\\;}$\n",
    "$\\newcommand{\\norm}[1]{\\|#1\\|}$\n",
    "$\\newcommand{\\abs}[1]{\\left|#1\\right|}$\n",
    "$\\newcommand{\\choice}[1]{ \\left\\{  \\begin{array}{l} #1 \\end{array} \\right. }$\n",
    "$\\newcommand{\\pa}[1]{\\left(#1\\right)}$\n",
    "$\\newcommand{\\diag}[1]{{diag}\\left( #1 \\right)}$\n",
    "$\\newcommand{\\qandq}{\\quad\\text{and}\\quad}$\n",
    "$\\newcommand{\\qwhereq}{\\quad\\text{where}\\quad}$\n",
    "$\\newcommand{\\qifq}{ \\quad \\text{if} \\quad }$\n",
    "$\\newcommand{\\qarrq}{ \\quad \\Longrightarrow \\quad }$\n",
    "$\\newcommand{\\ZZ}{\\mathbb{Z}}$\n",
    "$\\newcommand{\\CC}{\\mathbb{C}}$\n",
    "$\\newcommand{\\RR}{\\mathbb{R}}$\n",
    "$\\newcommand{\\EE}{\\mathbb{E}}$\n",
    "$\\newcommand{\\Zz}{\\mathcal{Z}}$\n",
    "$\\newcommand{\\Ww}{\\mathcal{W}}$\n",
    "$\\newcommand{\\Vv}{\\mathcal{V}}$\n",
    "$\\newcommand{\\Nn}{\\mathcal{N}}$\n",
    "$\\newcommand{\\NN}{\\mathcal{N}}$\n",
    "$\\newcommand{\\Hh}{\\mathcal{H}}$\n",
    "$\\newcommand{\\Bb}{\\mathcal{B}}$\n",
    "$\\newcommand{\\Ee}{\\mathcal{E}}$\n",
    "$\\newcommand{\\Cc}{\\mathcal{C}}$\n",
    "$\\newcommand{\\Gg}{\\mathcal{G}}$\n",
    "$\\newcommand{\\Ss}{\\mathcal{S}}$\n",
    "$\\newcommand{\\Pp}{\\mathcal{P}}$\n",
    "$\\newcommand{\\Ff}{\\mathcal{F}}$\n",
    "$\\newcommand{\\Xx}{\\mathcal{X}}$\n",
    "$\\newcommand{\\Mm}{\\mathcal{M}}$\n",
    "$\\newcommand{\\Ii}{\\mathcal{I}}$\n",
    "$\\newcommand{\\Dd}{\\mathcal{D}}$\n",
    "$\\newcommand{\\Ll}{\\mathcal{L}}$\n",
    "$\\newcommand{\\Tt}{\\mathcal{T}}$\n",
    "$\\newcommand{\\si}{\\sigma}$\n",
    "$\\newcommand{\\al}{\\alpha}$\n",
    "$\\newcommand{\\la}{\\lambda}$\n",
    "$\\newcommand{\\ga}{\\gamma}$\n",
    "$\\newcommand{\\Ga}{\\Gamma}$\n",
    "$\\newcommand{\\La}{\\Lambda}$\n",
    "$\\newcommand{\\si}{\\sigma}$\n",
    "$\\newcommand{\\Si}{\\Sigma}$\n",
    "$\\newcommand{\\be}{\\beta}$\n",
    "$\\newcommand{\\de}{\\delta}$\n",
    "$\\newcommand{\\De}{\\Delta}$\n",
    "$\\newcommand{\\phi}{\\varphi}$\n",
    "$\\newcommand{\\th}{\\theta}$\n",
    "$\\newcommand{\\om}{\\omega}$\n",
    "$\\newcommand{\\Om}{\\Omega}$\n"
   ]
  },
  {
   "cell_type": "code",
   "execution_count": 3,
   "metadata": {
    "collapsed": false,
    "deletable": true,
    "editable": true
   },
   "outputs": [],
   "source": [
    "library(pracma)\n",
    "# library(SynchWave)\n",
    "\n",
    "# Importing the libraries\n",
    "for (f in list.files(path=\"nt_toolbox/toolbox_general/\", pattern=\"*.R\")) {\n",
    "    source(paste(\"nt_toolbox/toolbox_general/\", f, sep=\"\"))\n",
    "}\n",
    "for (f in list.files(path=\"nt_toolbox/toolbox_signal/\", pattern=\"*.R\")) {\n",
    "    source(paste(\"nt_toolbox/toolbox_signal/\", f, sep=\"\"))\n",
    "}\n",
    "for (f in list.files(path=\"nt_toolbox/toolbox_graph/\", pattern=\"*.R\")) {\n",
    "    source(paste(\"nt_toolbox/toolbox_graph/\", f, sep=\"\"))\n",
    "}"
   ]
  },
  {
   "cell_type": "markdown",
   "metadata": {
    "deletable": true,
    "editable": true
   },
   "source": [
    "This numerical tour presents the Forward-Backward (FB) algorithm to\n",
    "minimize the sum of a smooth and a simple function. It shows an\n",
    "application to sparse deconvolution."
   ]
  },
  {
   "cell_type": "markdown",
   "metadata": {
    "deletable": true,
    "editable": true
   },
   "source": [
    "Forward-Backward Algorithm\n",
    "--------------------------\n",
    "We consider the problem of minimizing the sum of two functions\n",
    "$$ E^\\star = \\umin{x \\in \\RR^N} E(x) = f(x) + g(x). $$\n",
    "\n",
    "So, we want to find a vector $x^{\\star}$ solution to the problem, i.e. a minimizer of $E=f+g$.\n",
    "\n",
    "\n",
    "We assume that $f$ is a $C^1$ function with $L$-Lipschitz gradient.\n",
    "\n",
    "\n",
    "\n",
    "We also assume that $g$ is \"simple\", in the sense that one can compute exactly and quickly its proximity operator, which is defined as\n",
    "$$ \\text{prox}_{\\ga g}(x) = \\uargmin{y \\in \\RR^N} \\frac{1}{2}\\norm{x-y}^2 + \\ga g(y). $$\n",
    "for any $\\ga > 0$.\n",
    "\n",
    "\n",
    "The forward-backward algorithm reads, after initializing $x^{(0)} \\in \\RR^N$,\n",
    "$$ x^{(k+1)} = \\text{prox}_{\\ga g}\\pa{ x^{(k)} - \\ga \\nabla f( x^{(k)} )  }. $$\n",
    "\n",
    "\n",
    "If $0 < \\ga < \\frac{2}{L}$, then this scheme converges to a minimizer of\n",
    "$f+g$.\n",
    "\n",
    "Sparse Regularization of Inverse Problems\n",
    "-----------------------------------------\n",
    "We consider a linear inverse problem\n",
    "$$ y = \\Phi x_{0} + w  \\in \\RR^P$$\n",
    "where $x_{0} \\in \\RR^N$ is the (unknown) signal to recover, $w \\in\n",
    "\\RR^P$ is a noise vector, and $\\Phi \\in \\RR^{P \\times N}$ models the\n",
    "acquisition device.\n",
    "\n",
    "\n",
    "To recover an estimate of the signal $x_{0}$, we consider  basis\n",
    "pursuit denoising, which makes use of the $\\ell^1$ norm as sparsity\n",
    "enforcing penalty:\n",
    "$$ \\umin{x \\in \\RR^N} \\frac{1}{2} \\norm{\\Phi x-y}^2 + \\la \\norm{x}_1, $$\n",
    "where the $\\ell^1$ norm is defined as\n",
    "$$ \\norm{x}_1 = \\sum_i \\abs{x_i}. $$\n",
    "\n",
    "\n",
    "The parameter $\\la$ should be set in accordance to the noise level\n",
    "$\\norm{w}$.\n",
    "\n",
    "\n",
    "This minimization problem can be cast in the form of minimizing $f+g$\n",
    "where\n",
    "$$ f(x) = \\frac{1}{2} \\norm{\\Phi x-y}^2\n",
    "\\qandq g(x) = \\la \\norm{x}_1. $$\n",
    "\n",
    "\n",
    "$f$ is smooth; we have\n",
    "$$ \\nabla f(x) = \\Phi^{*} (\\Phi x - y),  $$\n",
    "which is $L$-Lipschitz continuous, with\n",
    "$$ L = \\norm{ \\Phi^* \\Phi }. $$\n",
    "\n",
    "\n",
    "The $\\ell^1$-norm is \"simple\", because its proximal operator is soft\n",
    "thresholding:\n",
    "$$ \\big(\\text{prox}_{\\ga g}(x)\\big)_n = \\max\\pa{ 0, 1 - \\frac{\\la \\ga}{\\abs{x_n}} } x_n. $$\n",
    "\n",
    "Signal Deconvolution on Synthetic Sparse Data\n",
    "-----------------------------------------------------\n",
    "A simple linearized model of seismic acquisition considers a linear filtering\n",
    "operator (convolution):\n",
    "$$ \\Phi x = \\phi \\ast x $$\n",
    "\n",
    "The filter $\\phi$ is called the impulse response, or the poind spread function, of the acquisition process $x\\mapsto \\Phi x$."
   ]
  },
  {
   "cell_type": "code",
   "execution_count": 4,
   "metadata": {
    "collapsed": false,
    "deletable": true,
    "editable": true
   },
   "outputs": [],
   "source": [
    "N = 1024"
   ]
  },
  {
   "cell_type": "markdown",
   "metadata": {
    "deletable": true,
    "editable": true
   },
   "source": [
    "We define the width of the filter."
   ]
  },
  {
   "cell_type": "code",
   "execution_count": 5,
   "metadata": {
    "collapsed": false,
    "deletable": true,
    "editable": true
   },
   "outputs": [],
   "source": [
    "s = 5"
   ]
  },
  {
   "cell_type": "markdown",
   "metadata": {
    "deletable": true,
    "editable": true
   },
   "source": [
    "Second derivative of a\n",
    "Gaussian."
   ]
  },
  {
   "cell_type": "code",
   "execution_count": 6,
   "metadata": {
    "collapsed": false,
    "deletable": true,
    "editable": true
   },
   "outputs": [],
   "source": [
    "t = c(-(N/2) : ((N/2) - 1))\n",
    "h = (1-t**2/s**2)*exp(-(t**2)/(2*s**2))\n",
    "h = h - mean(h)"
   ]
  },
  {
   "cell_type": "code",
   "execution_count": 7,
   "metadata": {
    "collapsed": false,
    "deletable": true,
    "editable": true
   },
   "outputs": [],
   "source": [
    "fftshift = SynchWave::fftshift\n",
    "h1 = fftshift(h) # Recenter the filter for fft use.\n",
    "Phi = function (u) {Re(ifft(fft(h1) * fft(c(u))))}"
   ]
  },
  {
   "cell_type": "markdown",
   "metadata": {
    "deletable": true,
    "editable": true
   },
   "source": [
    "We display the filte and its spectrum (amplitude of its Fourier transform)."
   ]
  },
  {
   "cell_type": "code",
   "execution_count": 8,
   "metadata": {
    "collapsed": false,
    "deletable": true,
    "editable": true
   },
   "outputs": [
    {
     "data": {
      "image/png": "[encoded data removed]",
      "text/plain": [
       "Plot with title \"Filter, Spacial (zoom)\""
      ]
     },
     "metadata": {},
     "output_type": "display_data"
    },
    {
     "data": {
      "image/png": "[encoded data removed]",
      "text/plain": [
       "Plot with title \"Filter, Fourrier (zoom)\""
      ]
     },
     "metadata": {},
     "output_type": "display_data"
    }
   ],
   "source": [
    "# Fourier transform (normalized)\n",
    "hf = Re(pracma::fftshift(fft(h1))) / sqrt(N)\n",
    "\n",
    "options(repr.plot.width=5, repr.plot.height=3.5)\n",
    "\n",
    "q = 200\n",
    "\n",
    "plot(t, h, type=\"l\", main=\"Filter, Spacial (zoom)\", \n",
    "     col=\"blue\", xlim=c(-200,200), ylab=\"\")\n",
    "\n",
    "plot(t, hf, type=\"l\", \n",
    "     main=\"Filter, Fourrier (zoom)\", col=\"blue\", \n",
    "     xlim=c(-200,200), ylab=\"\")"
   ]
  },
  {
   "cell_type": "markdown",
   "metadata": {
    "deletable": true,
    "editable": true
   },
   "source": [
    "We generate a synthetic sparse signal $x_{0}$, with only a small number of nonzero\n",
    "coefficients."
   ]
  },
  {
   "cell_type": "markdown",
   "metadata": {
    "deletable": true,
    "editable": true
   },
   "source": [
    "Number of Diracs of the signal."
   ]
  },
  {
   "cell_type": "code",
   "execution_count": 9,
   "metadata": {
    "collapsed": true,
    "deletable": true,
    "editable": true
   },
   "outputs": [],
   "source": [
    "s = round(N * 0.03)"
   ]
  },
  {
   "cell_type": "markdown",
   "metadata": {
    "deletable": true,
    "editable": true
   },
   "source": [
    "Set the seed-number (for reproductibility)."
   ]
  },
  {
   "cell_type": "code",
   "execution_count": 10,
   "metadata": {
    "collapsed": false,
    "deletable": true,
    "editable": true
   },
   "outputs": [],
   "source": [
    "set.seed(1)"
   ]
  },
  {
   "cell_type": "markdown",
   "metadata": {
    "deletable": true,
    "editable": true
   },
   "source": [
    "Location of the diracs."
   ]
  },
  {
   "cell_type": "code",
   "execution_count": 11,
   "metadata": {
    "collapsed": true,
    "deletable": true,
    "editable": true
   },
   "outputs": [],
   "source": [
    "sel = sample(c(1 : N))\n",
    "sel = sel[0:s]"
   ]
  },
  {
   "cell_type": "markdown",
   "metadata": {
    "deletable": true,
    "editable": true
   },
   "source": [
    "Signal $x_{0}$."
   ]
  },
  {
   "cell_type": "code",
   "execution_count": 12,
   "metadata": {
    "collapsed": false,
    "deletable": true,
    "editable": true
   },
   "outputs": [],
   "source": [
    "x0 = zeros(1, N)\n",
    "x0[sel] = 1.\n",
    "x0 = x0 * sign(randn(1, N)) * (1 - .3 * rand(1, N))"
   ]
  },
  {
   "cell_type": "markdown",
   "metadata": {
    "deletable": true,
    "editable": true
   },
   "source": [
    "Noise level."
   ]
  },
  {
   "cell_type": "code",
   "execution_count": 13,
   "metadata": {
    "collapsed": false,
    "deletable": true,
    "editable": true
   },
   "outputs": [],
   "source": [
    "sigma = 0.06"
   ]
  },
  {
   "cell_type": "markdown",
   "metadata": {
    "deletable": true,
    "editable": true
   },
   "source": [
    "Compute the measurements $y= \\Phi x_{0} + w$ where $w$ is a realization\n",
    "of white Gaussian noise of variance $\\sigma^{2}$."
   ]
  },
  {
   "cell_type": "code",
   "execution_count": 14,
   "metadata": {
    "collapsed": false,
    "deletable": true,
    "editable": true
   },
   "outputs": [],
   "source": [
    "y = Phi(x0) + sigma * randn(1, N)"
   ]
  },
  {
   "cell_type": "code",
   "execution_count": 15,
   "metadata": {
    "collapsed": false,
    "deletable": true,
    "editable": true
   },
   "outputs": [
    {
     "data": {
      "image/png": "[encoded data removed]",
      "text/plain": [
       "Plot with title \"Signal\""
      ]
     },
     "metadata": {},
     "output_type": "display_data"
    },
    {
     "data": {
      "image/png": "[encoded data removed]",
      "text/plain": [
       "Plot with title \"Measurements y\""
      ]
     },
     "metadata": {},
     "output_type": "display_data"
    }
   ],
   "source": [
    "stemplot(x0, col=\"blue\", ylab=\"\", xlab=\"\", main=\"Signal\")\n",
    "plot(c(1:N), y, xlab=\"\", ylab=\"\", col=\"blue\", main=\"Measurements y\", type=\"l\")"
   ]
  },
  {
   "cell_type": "markdown",
   "metadata": {
    "deletable": true,
    "editable": true
   },
   "source": [
    "Deconvolution\n",
    "---------------------------\n",
    "We now implement the foward-backward algorithm to recover an estimate of the sparse signal\n",
    "\n",
    "\n",
    "We define the regularization parameter $\\la$."
   ]
  },
  {
   "cell_type": "code",
   "execution_count": 16,
   "metadata": {
    "collapsed": false,
    "deletable": true,
    "editable": true
   },
   "outputs": [],
   "source": [
    "Lambda = 1."
   ]
  },
  {
   "cell_type": "markdown",
   "metadata": {
    "deletable": true,
    "editable": true
   },
   "source": [
    "We define the proximity operator of $\\ga g$."
   ]
  },
  {
   "cell_type": "code",
   "execution_count": 17,
   "metadata": {
    "collapsed": false,
    "deletable": true,
    "editable": true
   },
   "outputs": [],
   "source": [
    "proxg = function(x, gamma, Lambda) {x * pmax(1 - ((Lambda * gamma) / abs(x)), 0)}"
   ]
  },
  {
   "cell_type": "markdown",
   "metadata": {
    "deletable": true,
    "editable": true
   },
   "source": [
    "We define the gradient operator of $f$. Note that $\\Phi^*=\\Phi$ because the filter $\\phi$ is symmetric."
   ]
  },
  {
   "cell_type": "markdown",
   "metadata": {
    "deletable": true,
    "editable": true
   },
   "source": [
    "__Exercise 1__ \n",
    "\n",
    "Write the code of the function grad_f."
   ]
  },
  {
   "cell_type": "code",
   "execution_count": 18,
   "metadata": {
    "collapsed": false,
    "deletable": true,
    "editable": true
   },
   "outputs": [],
   "source": [
    "grad_f = function(x){Phi(Phi(x) - y)}"
   ]
  },
  {
   "cell_type": "markdown",
   "metadata": {
    "deletable": true,
    "editable": true
   },
   "source": [
    "We define the Lipschitz constant $\\beta$ of $\\nabla f$."
   ]
  },
  {
   "cell_type": "code",
   "execution_count": 19,
   "metadata": {
    "collapsed": false,
    "deletable": true,
    "editable": true
   },
   "outputs": [],
   "source": [
    "L = max(abs(fft(h)))**2"
   ]
  },
  {
   "cell_type": "markdown",
   "metadata": {
    "deletable": true,
    "editable": true
   },
   "source": [
    "We define the stepsize $\\ga$, which must be smaller than $2/\\beta$."
   ]
  },
  {
   "cell_type": "code",
   "execution_count": 20,
   "metadata": {
    "collapsed": false,
    "deletable": true,
    "editable": true
   },
   "outputs": [],
   "source": [
    "gamma = 1.95 / L"
   ]
  },
  {
   "cell_type": "markdown",
   "metadata": {
    "deletable": true,
    "editable": true
   },
   "source": [
    "We compute the solution of $\\ell_1$ deconvolution (basis pursuit denoising).\n",
    "We keep track of the energy $E_k=f(x^{(k)})+g(x^{(k)})$."
   ]
  },
  {
   "cell_type": "markdown",
   "metadata": {
    "deletable": true,
    "editable": true
   },
   "source": [
    "__Exercise 2__ \n",
    "\n",
    "Write the code of the forward-backward iteration."
   ]
  },
  {
   "cell_type": "code",
   "execution_count": 21,
   "metadata": {
    "collapsed": false,
    "deletable": true,
    "editable": true
   },
   "outputs": [],
   "source": [
    "# Insert code here."
   ]
  },
  {
   "cell_type": "markdown",
   "metadata": {
    "deletable": true,
    "editable": true
   },
   "source": [
    "We display the result."
   ]
  },
  {
   "cell_type": "code",
   "execution_count": 22,
   "metadata": {
    "collapsed": false,
    "deletable": true,
    "editable": true
   },
   "outputs": [],
   "source": [
    "# Insert code here."
   ]
  },
  {
   "cell_type": "markdown",
   "metadata": {
    "deletable": true,
    "editable": true
   },
   "source": [
    "We plot the relative error $(E_k-E^\\star)/(E_0-E^\\star)$ in log-scale with respect to $k$."
   ]
  },
  {
   "cell_type": "code",
   "execution_count": 23,
   "metadata": {
    "collapsed": false,
    "deletable": true,
    "editable": true
   },
   "outputs": [],
   "source": [
    "# Insert code here."
   ]
  },
  {
   "cell_type": "markdown",
   "metadata": {
    "deletable": true,
    "editable": true
   },
   "source": [
    "Over-relaxed Forward-Backward\n",
    "-----------------------------\n",
    "It is possible to introduce a relaxation parameter $\\rho$ with $0 < \\rho < 1$. The over-relaxed foward-backward algorithm initializes $x^{(0)} \\in \\RR^N$,\n",
    "and then iterates, for $k=1,2,\\ldots$\n",
    "$$ z^{(k)} = \\text{prox}_{\\ga g}\\pa{\n",
    "              x^{(k-1)} - \\ga \\nabla f( x^{(k-1)} )  }.\n",
    "$$\n",
    "$$ x^{(k)} = z^{(k)} +\n",
    "      \\rho \\pa{ z^{(k)} - x^{(k-1)} } $$\n",
    "\n",
    "\n",
    "Let us assume $\\gamma=1/\\beta$. Convergence of the iterates $x^{(k)}$ and $z^{(k)}$ to a solution is guaranteed\n",
    "for $ 0 < \\rho < 1/2 $. The weaker property of convergence of $ E(x^{(k)}) $\n",
    "to $E^\\star$ is proved, when $ 1/2\\leq \\rho <1 $."
   ]
  },
  {
   "cell_type": "code",
   "execution_count": 24,
   "metadata": {
    "collapsed": true,
    "deletable": true,
    "editable": true
   },
   "outputs": [],
   "source": [
    "gamma = 1 / L"
   ]
  },
  {
   "cell_type": "markdown",
   "metadata": {
    "deletable": true,
    "editable": true
   },
   "source": [
    "__Exercise 3__ \n",
    "\n",
    "Write the code of the over-relaxed forward-backward iteration."
   ]
  },
  {
   "cell_type": "code",
   "execution_count": 25,
   "metadata": {
    "collapsed": true,
    "deletable": true,
    "editable": true
   },
   "outputs": [],
   "source": [
    "# Insert code here."
   ]
  },
  {
   "cell_type": "markdown",
   "metadata": {
    "deletable": true,
    "editable": true
   },
   "source": [
    "As we see, in this example, over-relaxation does not bring any speedup, because $\\gamma$ is lower than without over-relaxation. There are other setting parameters or other problems, for which over-relaxation does bring a significant speedup. "
   ]
  },
  {
   "cell_type": "markdown",
   "metadata": {
    "deletable": true,
    "editable": true
   },
   "source": [
    "FISTA-like Accelerated Forward-Backward Algorithm\n",
    "---------------------------\n",
    "We consider the FISTA algorithm introduced in:\n",
    "\n",
    "\n",
    "A. Beck and M. Teboulle,\n",
    "\"A Fast Iterative Shrinkage-Thresholding Algorithm for Linear Inverse Problems\",\n",
    "_SIAM Journal on Imaging Sciences_, 2009.\n",
    "\n",
    "More precisely, we consider a slightly modified version of FISTA, whose convergence is proved, see\n",
    "A. Chambolle and C. Dossal, \"On the convergence of the iterates of \"FISTA\"\", preprint, 2015."
   ]
  },
  {
   "cell_type": "markdown",
   "metadata": {
    "deletable": true,
    "editable": true
   },
   "source": [
    "Given an initial estimate $x^{(0)}$ of the solution and a parameter $a>2$, the algorithm sets $\\gamma=1/\\beta$, sets $z^{(0)}=x^{(0)} \\in \\RR^N$,\n",
    "and iterates, for $k=1,2,\\ldots$\n",
    "$$ x^{(k)} = \\text{prox}_{\\ga g}\\pa{\n",
    "              z^{(k-1)} - \\ga \\nabla f( z^{(k-1)} )  }.\n",
    "$$\n",
    "$$ \\alpha_k=(k-1)/(k+a) $$\n",
    "$$ z^{(k)} = x^{(k)} +\n",
    "      \\alpha_k\n",
    "  \\pa{ x^{(k)} - x^{(k-1)} } $$\n",
    "\n",
    "\n",
    "It is proved that the iterates $x^{(k)}$ converge to a solution $x^\\star$ of the problem. Moreover, \n",
    "the  optimal convergence rate for this class of problems is reached,\n",
    "namely\n",
    "$$ E_k - E^\\star = O(1/k^2), $$\n",
    "whereas the convergence rate for the normal forward-backward is only\n",
    "$O(1/k)$.\n",
    "\n",
    "Note the difference between the over-relaxed forward-backward and the accelerated forward-backward: the later is based on an inertia mechanism, of different nature than over-relaxation."
   ]
  },
  {
   "cell_type": "markdown",
   "metadata": {
    "deletable": true,
    "editable": true
   },
   "source": [
    "__Exercise 4__\n",
    "\n",
    "Write the code of the accelerated forward-backward iteration."
   ]
  },
  {
   "cell_type": "code",
   "execution_count": 26,
   "metadata": {
    "collapsed": false,
    "deletable": true,
    "editable": true
   },
   "outputs": [],
   "source": [
    "# Insert code here."
   ]
  },
  {
   "cell_type": "markdown",
   "metadata": {
    "deletable": true,
    "editable": true
   },
   "source": [
    "We can note that the accelerated forward-backward is not monotonic: the cost function E is not decreasing along with the iterations and some oscillations are present."
   ]
  }
 ],
 "metadata": {
  "kernelspec": {
   "display_name": "R",
   "language": "R",
   "name": "ir"
  },
  "language_info": {
   "codemirror_mode": "r",
   "file_extension": ".r",
   "mimetype": "text/x-r-source",
   "name": "R",
   "pygments_lexer": "r",
   "version": "3.3.1"
  }
 },
 "nbformat": 4,
 "nbformat_minor": 0
}
