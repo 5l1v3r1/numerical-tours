{
 "cells": [
  {
   "cell_type": "markdown",
   "metadata": {
    "deletable": true,
    "editable": true
   },
   "source": [
    "Fenchel-Rockafellar Duality\n",
    "===========================\n",
    "\n",
    "*Important:* Please read the [installation page](http://gpeyre.github.io/numerical-tours/installation_matlab/) for details about how to install the toolboxes.\n",
    "$\\newcommand{\\dotp}[2]{\\langle #1, #2 \\rangle}$\n",
    "$\\newcommand{\\enscond}[2]{\\lbrace #1, #2 \\rbrace}$\n",
    "$\\newcommand{\\pd}[2]{ \\frac{ \\partial #1}{\\partial #2} }$\n",
    "$\\newcommand{\\umin}[1]{\\underset{#1}{\\min}\\;}$\n",
    "$\\newcommand{\\umax}[1]{\\underset{#1}{\\max}\\;}$\n",
    "$\\newcommand{\\umin}[1]{\\underset{#1}{\\min}\\;}$\n",
    "$\\newcommand{\\uargmin}[1]{\\underset{#1}{argmin}\\;}$\n",
    "$\\newcommand{\\norm}[1]{\\|#1\\|}$\n",
    "$\\newcommand{\\abs}[1]{\\left|#1\\right|}$\n",
    "$\\newcommand{\\choice}[1]{ \\left\\{  \\begin{array}{l} #1 \\end{array} \\right. }$\n",
    "$\\newcommand{\\pa}[1]{\\left(#1\\right)}$\n",
    "$\\newcommand{\\diag}[1]{{diag}\\left( #1 \\right)}$\n",
    "$\\newcommand{\\qandq}{\\quad\\text{and}\\quad}$\n",
    "$\\newcommand{\\qwhereq}{\\quad\\text{where}\\quad}$\n",
    "$\\newcommand{\\qifq}{ \\quad \\text{if} \\quad }$\n",
    "$\\newcommand{\\qarrq}{ \\quad \\Longrightarrow \\quad }$\n",
    "$\\newcommand{\\ZZ}{\\mathbb{Z}}$\n",
    "$\\newcommand{\\CC}{\\mathbb{C}}$\n",
    "$\\newcommand{\\RR}{\\mathbb{R}}$\n",
    "$\\newcommand{\\EE}{\\mathbb{E}}$\n",
    "$\\newcommand{\\Zz}{\\mathcal{Z}}$\n",
    "$\\newcommand{\\Ww}{\\mathcal{W}}$\n",
    "$\\newcommand{\\Vv}{\\mathcal{V}}$\n",
    "$\\newcommand{\\Nn}{\\mathcal{N}}$\n",
    "$\\newcommand{\\NN}{\\mathcal{N}}$\n",
    "$\\newcommand{\\Hh}{\\mathcal{H}}$\n",
    "$\\newcommand{\\Bb}{\\mathcal{B}}$\n",
    "$\\newcommand{\\Ee}{\\mathcal{E}}$\n",
    "$\\newcommand{\\Cc}{\\mathcal{C}}$\n",
    "$\\newcommand{\\Gg}{\\mathcal{G}}$\n",
    "$\\newcommand{\\Ss}{\\mathcal{S}}$\n",
    "$\\newcommand{\\Pp}{\\mathcal{P}}$\n",
    "$\\newcommand{\\Ff}{\\mathcal{F}}$\n",
    "$\\newcommand{\\Xx}{\\mathcal{X}}$\n",
    "$\\newcommand{\\Mm}{\\mathcal{M}}$\n",
    "$\\newcommand{\\Ii}{\\mathcal{I}}$\n",
    "$\\newcommand{\\Dd}{\\mathcal{D}}$\n",
    "$\\newcommand{\\Ll}{\\mathcal{L}}$\n",
    "$\\newcommand{\\Tt}{\\mathcal{T}}$\n",
    "$\\newcommand{\\si}{\\sigma}$\n",
    "$\\newcommand{\\al}{\\alpha}$\n",
    "$\\newcommand{\\la}{\\lambda}$\n",
    "$\\newcommand{\\ga}{\\gamma}$\n",
    "$\\newcommand{\\Ga}{\\Gamma}$\n",
    "$\\newcommand{\\La}{\\Lambda}$\n",
    "$\\newcommand{\\si}{\\sigma}$\n",
    "$\\newcommand{\\Si}{\\Sigma}$\n",
    "$\\newcommand{\\be}{\\beta}$\n",
    "$\\newcommand{\\de}{\\delta}$\n",
    "$\\newcommand{\\De}{\\Delta}$\n",
    "$\\newcommand{\\phi}{\\varphi}$\n",
    "$\\newcommand{\\th}{\\theta}$\n",
    "$\\newcommand{\\om}{\\omega}$\n",
    "$\\newcommand{\\Om}{\\Omega}$\n"
   ]
  },
  {
   "cell_type": "code",
   "execution_count": 1,
   "metadata": {
    "collapsed": false,
    "deletable": true,
    "editable": true
   },
   "outputs": [
    {
     "name": "stderr",
     "output_type": "stream",
     "text": [
      "Warning message:\n",
      "\"package 'imager' was built under R version 3.3.2\"Loading required package: plyr\n",
      "Loading required package: magrittr\n",
      "\n",
      "Attaching package: 'magrittr'\n",
      "\n",
      "The following objects are masked from 'package:pracma':\n",
      "\n",
      "    and, mod, or\n",
      "\n",
      "\n",
      "Attaching package: 'imager'\n",
      "\n",
      "The following object is masked from 'package:magrittr':\n",
      "\n",
      "    add\n",
      "\n",
      "The following object is masked from 'package:plyr':\n",
      "\n",
      "    liply\n",
      "\n",
      "The following objects are masked from 'package:stats':\n",
      "\n",
      "    convolve, spectrum\n",
      "\n",
      "The following object is masked from 'package:graphics':\n",
      "\n",
      "    frame\n",
      "\n",
      "The following object is masked from 'package:base':\n",
      "\n",
      "    save.image\n",
      "\n",
      "Warning message:\n",
      "\"package 'tuneR' was built under R version 3.3.2\"\n",
      "Attaching package: 'tuneR'\n",
      "\n",
      "The following objects are masked from 'package:imager':\n",
      "\n",
      "    channel, play\n",
      "\n",
      "Warning message:\n",
      "\"package 'akima' was built under R version 3.3.2\"\n",
      "Attaching package: 'akima'\n",
      "\n",
      "The following object is masked from 'package:imager':\n",
      "\n",
      "    interp\n",
      "\n"
     ]
    }
   ],
   "source": [
    "library(pracma)\n",
    "library(imager)\n",
    "\n",
    "# Importing the libraries\n",
    "for (f in list.files(path=\"nt_toolbox/toolbox_general/\", pattern=\"*.R\")) {\n",
    "    source(paste(\"nt_toolbox/toolbox_general/\", f, sep=\"\"))\n",
    "}\n",
    "for (f in list.files(path=\"nt_toolbox/toolbox_signal/\", pattern=\"*.R\")) {\n",
    "    source(paste(\"nt_toolbox/toolbox_signal/\", f, sep=\"\"))\n",
    "}"
   ]
  },
  {
   "cell_type": "markdown",
   "metadata": {
    "deletable": true,
    "editable": true
   },
   "source": [
    "This numerical tour is an introduction to convex duality with an\n",
    "application to total variation denoising.\n",
    "\n",
    "Convex Duality\n",
    "--------------\n",
    "Given some convex, proper, and lower semi-continuous function $f(x)$ defined for $x \\in \\RR^N$, its\n",
    "Legendre-Fenchel dual function is defined as\n",
    "$$ \\forall u \\in \\RR^N, \\quad f^*(u) = \\umax{x \\in \\RR^N} \\dotp{x}{u} - f(x). $$\n",
    "\n",
    "\n",
    "One can show that $f^*$ is a convex function, and that it satisfies\n",
    "$(f^*)^* = f$.\n",
    "\n",
    "\n",
    "One can show if $f(x) = \\frac{1}{2} \\norm{A x - b}^2$ where $A \\in \\RR^{N \\times N}$\n",
    "is an invertible matrix, then\n",
    "$$f^*(u) = \\frac{1}{2} \\norm{\\tilde A u + b}^2\n",
    "\\qwhereq \\tilde A = (A^*)^{-1}. $$\n",
    "\n",
    "\n",
    "One can show that in the case of $\\ell^p$ norms\n",
    "$$ f(x) = \\norm{x}_p = \\pa{ \\sum_{i=1}^N \\abs{x_i}^p }^{1/p} $$\n",
    "with the usual extension to $p=+\\infty$\n",
    "$$ \\norm{x}_\\infty = \\umax{1 \\leq i \\leq N} \\abs{x_i}$$\n",
    "then one has\n",
    "$$ f^*(u) = \\iota_{\\norm{\\cdot}_q \\leq 1}\n",
    " \\qwhereq \\frac{1}{p}+\\frac{1}{q}=1, $$\n",
    "where $\\iota_{\\Cc}$ is the indicator function of the convex set\n",
    "$\\Cc$.\n",
    "\n",
    "FB on the Fenchel-Rockafellar Dual Problem\n",
    "------------------------------------------\n",
    "We are concerned with the minimization of composite problems of the form\n",
    "$$ \\umin{x \\in \\RR^N} f(x) + g(A(x)) $$\n",
    "where $ A \\in \\RR^{P \\times N} $ is a linear map (a matrix),\n",
    " $f : \\RR^N \\rightarrow \\RR $\n",
    "and $g : \\RR^P \\rightarrow \\RR $\n",
    "are convex functional.\n",
    "\n",
    "\n",
    "We now assume that $f$ is a $L$-strongly convex function.\n",
    "In this case, one can show that $f^*$ is a $C^1$ smooth function, and\n",
    "that its gradient is $L$-Lipschitz.\n",
    "\n",
    "\n",
    "In this case, the Fenchel-Rockafellar theorem shows that one can solve\n",
    "the following dual problem\n",
    "$$ \\umin{x \\in \\RR^N} f(x) + g(A(x)) =\n",
    "  - \\umin{u \\in \\RR^P} f^*( -A^* u ) + g^*(u) $$\n",
    "and recover the unique solution $x^\\star$\n",
    "of the primal problem from a (non-necessarily unique) solution $u^\\star$\n",
    "to the dual problem as\n",
    "$$ x^\\star = \\nabla f^*( -A^* u^\\star ). $$\n",
    "\n",
    "\n",
    "Denoting $F(u) = f^*( -A^* u )$ and $G(u) = g^*(u)$, one thus needs\n",
    "to solve the problem\n",
    "$$ \\umin{u \\in \\RR^P} F(u) + G(u). $$\n",
    "\n",
    "\n",
    "We assume that the function $g$ is simple, in the sense that\n",
    "one can compute in closed form\n",
    "the so-called proximal mapping, which is defined as\n",
    "$$ \\text{prox}_{\\ga g}(x) = \\uargmin{z \\in \\RR^N} \\frac{1}{2}\\norm{x-z}^2 + \\ga g(z). $$\n",
    "for any $\\ga > 0$.\n",
    "\n",
    "\n",
    "Note that $g$ being simple is equivalent to $g^*$ also being simple\n",
    "because of\n",
    "Moreau's identity:\n",
    "$$ x = \\text{prox}_{\\tau g^*}(x) + \\tau \\text{prox}_{g/\\tau}(x/\\tau). $$\n",
    "\n",
    "\n",
    "Since $F$ is smooth and $G$ is simple, one can apply the\n",
    "Foward-Backward algorithm, which reads,\n",
    "after initializing $u^{(0)} \\in \\RR^P$,\n",
    "$$ u^{(\\ell+1)} = \\text{prox}_{\\ga G}\\pa{ u^{(\\ell)} - \\ga \\nabla F( u^{(\\ell)} )  }. $$\n",
    "with $\\ga < 2/L$.\n",
    "\n",
    "\n",
    "The primal iterates are defined as\n",
    "$$ x^{(\\ell)} = \\nabla F( -A^* u^{(\\ell)} ). $$\n",
    "\n",
    "\n",
    "Total Variation\n",
    "---------------\n",
    "The total variation of a smooth function $ \\phi : \\RR^2 \\rightarrow \\RR $ is defined as\n",
    "$$ J(\\phi) = \\int \\norm{\\nabla \\phi(s)} d s$$\n",
    "The total variation of an image is also equal to the total length of its level sets.\n",
    "$$ J(\\phi) = \\int_{-\\infty}^{+\\infty} L( S_t(\\phi) ) dt. $$\n",
    "Where $S_t(\\phi)$ is the level set at $t$ of the function $\\phi$\n",
    "$$S_t(\\phi)= \\enscond{ s }{ \\phi(s)=t } . $$\n",
    "This shows that the total variation can be extended to functions having\n",
    "step discontinuities.\n",
    "\n",
    "\n",
    "We consider images $x = (x_{i,j})_{i,j}  \\in \\RR^N$ of $N=n\\times n$ pixels.\n",
    "\n",
    "\n",
    "We consider here a discretized gradient operator\n",
    "$ A : \\RR^N \\rightarrow \\RR^P $ where $P=2N$ defined as\n",
    "$$ A x  = u = (u^1,u^2)\n",
    "\\qwhereq   u^1 = ( x_{i+1,j}-x_{i,j} )_{ i,j } \\in \\RR^N\n",
    "\\qandq     u^2 = ( x_{i,j+1}-x_{i,j} )_{ i,j } \\in \\RR^N. $$\n",
    "where we assume periodic boundary conditions for simplicity."
   ]
  },
  {
   "cell_type": "markdown",
   "metadata": {
    "deletable": true,
    "editable": true
   },
   "source": [
    "The adjoint $A^*$ of the discrete gradient is minus the discrete divergence."
   ]
  },
  {
   "cell_type": "code",
   "execution_count": 2,
   "metadata": {
    "collapsed": false,
    "deletable": true,
    "editable": true
   },
   "outputs": [],
   "source": [
    "# Renaming the imported div_2 and grad_2 function\n",
    "div = div_2\n",
    "grad = grad_3\n",
    "\n",
    "As = function(u){-div(u)}\n",
    "A = function(u){grad(u)}"
   ]
  },
  {
   "cell_type": "markdown",
   "metadata": {
    "deletable": true,
    "editable": true
   },
   "source": [
    "In the following, while images $x \\in \\RR^{N}$ are stored as arrays of\n",
    "size |(n,n)|, gradient vector fields $u \\in \\RR^P$ are stored as arrays\n",
    "size |(n,n,2)|.\n",
    "\n",
    "\n",
    "The discrete total variation is defined as the $\\ell^1-\\ell^2$ norm of\n",
    "the discretized gradient\n",
    "$$ J(x) = \\norm{A x}_{1,2}\n",
    "    \\qwhereq\n",
    "  \\norm{u}_{1,2} = \\sum_{i,j} \\norm{u_{i,j}} $$\n",
    "where $u = (u_{i,j} \\in \\RR^2)_{i,j}$ is a vector field."
   ]
  },
  {
   "cell_type": "code",
   "execution_count": 3,
   "metadata": {
    "collapsed": false,
    "deletable": true,
    "editable": true
   },
   "outputs": [],
   "source": [
    "norm12 = function(u){sum(sum(sqrt((u^2)[,,1] + (u^2)[,,2])))}\n",
    "J = function(x){norm12(A(x))}"
   ]
  },
  {
   "cell_type": "markdown",
   "metadata": {
    "deletable": true,
    "editable": true
   },
   "source": [
    "Total Variation Regularization\n",
    "------------------------------\n",
    "We consider here denoising using total variation regularization. This was\n",
    "first introduced in:\n",
    "\n",
    "\n",
    "L.I. Rudin, S. Osher, E. Fatemi,\n",
    "_Nonlinear total variation based noise removal algorithms,_\n",
    "Physica D, vol. 60, pp. 259-268, 1992.\n",
    "\n",
    "\n",
    "Given a noisy image $y \\in \\RR^N$, it computes\n",
    "$$ x^\\star = \\uargmin{x \\in \\RR^N} \\frac{1}{2}\\norm{x-y}^2 + \\la J(x), $$\n",
    "where the regularization parameter $\\la \\geq 0$ should be adapted to\n",
    "the noise level.\n",
    "\n",
    "\n",
    "Number of pixels."
   ]
  },
  {
   "cell_type": "code",
   "execution_count": 4,
   "metadata": {
    "collapsed": false,
    "deletable": true,
    "editable": true
   },
   "outputs": [],
   "source": [
    "n = 256"
   ]
  },
  {
   "cell_type": "markdown",
   "metadata": {
    "deletable": true,
    "editable": true
   },
   "source": [
    "First we load an image $x_0 \\in \\RR^N$ of $N=n \\times n$ pixels."
   ]
  },
  {
   "cell_type": "code",
   "execution_count": 5,
   "metadata": {
    "collapsed": false,
    "deletable": true,
    "editable": true
   },
   "outputs": [],
   "source": [
    "name = \"nt_toolbox/data/hibiscus.png\"\n",
    "x0 = load_image(name, n)\n",
    "x0 = resize(x0, size_x=n, size_y=n)\n",
    "# Two dimensional\n",
    "x0 = x0[,,1,1]"
   ]
  },
  {
   "cell_type": "markdown",
   "metadata": {
    "deletable": true,
    "editable": true
   },
   "source": [
    "Display the original image $x_0$."
   ]
  },
  {
   "cell_type": "code",
   "execution_count": 6,
   "metadata": {
    "collapsed": false,
    "deletable": true,
    "editable": true
   },
   "outputs": [
    {
     "data": {
      "image/png": "[encoded data removed]",
      "text/plain": [
       "Plot with title \"\""
      ]
     },
     "metadata": {},
     "output_type": "display_data"
    }
   ],
   "source": [
    "imageplot(clamp(x0))"
   ]
  },
  {
   "cell_type": "markdown",
   "metadata": {
    "deletable": true,
    "editable": true
   },
   "source": [
    "Add some noise to the original image, to obtain $y=x_{0}+w$."
   ]
  },
  {
   "cell_type": "code",
   "execution_count": 7,
   "metadata": {
    "collapsed": false,
    "deletable": true,
    "editable": true
   },
   "outputs": [],
   "source": [
    "sigma = 0.1\n",
    "set.seed(1)\n",
    "y = x0 + randn(n,n) * sigma"
   ]
  },
  {
   "cell_type": "markdown",
   "metadata": {
    "deletable": true,
    "editable": true
   },
   "source": [
    "Display the noisy image $y$."
   ]
  },
  {
   "cell_type": "code",
   "execution_count": 8,
   "metadata": {
    "collapsed": false,
    "deletable": true,
    "editable": true
   },
   "outputs": [
    {
     "data": {
      "image/png": "[encoded data removed]",
      "text/plain": [
       "Plot with title \"\""
      ]
     },
     "metadata": {},
     "output_type": "display_data"
    }
   ],
   "source": [
    "imageplot(clamp(y))"
   ]
  },
  {
   "cell_type": "markdown",
   "metadata": {
    "deletable": true,
    "editable": true
   },
   "source": [
    "Set the regularization parameter $\\la$."
   ]
  },
  {
   "cell_type": "code",
   "execution_count": 9,
   "metadata": {
    "collapsed": false,
    "deletable": true,
    "editable": true
   },
   "outputs": [],
   "source": [
    "lambda = 0.2"
   ]
  },
  {
   "cell_type": "markdown",
   "metadata": {
    "deletable": true,
    "editable": true
   },
   "source": [
    "Chambolle Dual Algorithm \n",
    "-------------------------\n",
    "We consider here the application of FB on the dual of the ROF problem, as\n",
    "initially proposed in:\n",
    "\n",
    "\n",
    "Antonin Chambolle,\n",
    "_An Algorithm for Total Variation Minimization and Applications_,\n",
    "Journal of Mathematical Imaging and Vision, 20(1-2), 2004.\n",
    "\n",
    "\n",
    "An earlier version of this algorithm was proposed in:\n",
    "\n",
    "\n",
    "B. Mercier,\n",
    "_Inequations Variationnelles de la Mecanique_\n",
    "Publications Mathematiques d'Orsay,\n",
    "no. 80.01. Orsay, France, Universite de Paris-XI, 1980.\n",
    "\n",
    "\n",
    "For a description of a more general framework, see:\n",
    "\n",
    "\n",
    "P. L. Combettes, Dinh Dung, and B. C. Vu,\n",
    "_Dualization of signal recovery problems_,\n",
    "Set-Valued and Variational Analysis, vol. 18, pp. 373-404,\n",
    "December 2010\n",
    "\n",
    "\n",
    "The primal problem corresponds to minimizing $E(x) = f(x)+g(A(x))$ where\n",
    "$$ f(x) = \\frac{1}{2}\\norm{x-y}^2\n",
    "      \\qandq\n",
    "  g(u) = \\la \\norm{u}_{1,2}. $$"
   ]
  },
  {
   "cell_type": "code",
   "execution_count": 10,
   "metadata": {
    "collapsed": false,
    "deletable": true,
    "editable": true
   },
   "outputs": [],
   "source": [
    "f = function(x){0.5 * norm(x-y)^2}\n",
    "g = function(x){lambda * J(x)}\n",
    "E = function(x){f(x) + g(x)}"
   ]
  },
  {
   "cell_type": "markdown",
   "metadata": {
    "deletable": true,
    "editable": true
   },
   "source": [
    "The dual problem corresponds to minimzing $F(u)+ G(u)$\n",
    "where\n",
    "$$ F(u) = \\frac{1}{2} \\norm{y - A^* u}^2 - \\frac{1}{2}\\norm{y}^2\n",
    "      \\qandq\n",
    "   G(u) = \\iota_{\\Cc}(u)\n",
    "      \\qwhereq \\Cc = \\enscond{u}{\\norm{u}_{\\infty,2} \\leq \\la}. $$\n",
    "where\n",
    "$$ \\norm{u}_{\\infty,2} = \\umax{i,j} \\norm{u_{i,j}}  $$"
   ]
  },
  {
   "cell_type": "code",
   "execution_count": 11,
   "metadata": {
    "collapsed": false,
    "deletable": true,
    "editable": true
   },
   "outputs": [],
   "source": [
    "F = function(u){0.5 * norm(y - As(u))^2 - 0.5 * norm(y)^2}"
   ]
  },
  {
   "cell_type": "markdown",
   "metadata": {
    "deletable": true,
    "editable": true
   },
   "source": [
    "One can thus solves the ROF problem by computing\n",
    "$$ x^\\star = y - A^* u^\\star $$\n",
    "where\n",
    "$$ u^\\star  \\in \\uargmin{ \\norm{u}_{1,2} \\leq \\la } \\norm{y - A^* u}  $$\n",
    "\n",
    "\n",
    "One can compute explicitely the gradient of $F$:\n",
    "$$ \\nabla F(u) =  A (A^* u - y). $$"
   ]
  },
  {
   "cell_type": "code",
   "execution_count": 12,
   "metadata": {
    "collapsed": false,
    "deletable": true,
    "editable": true
   },
   "outputs": [],
   "source": [
    "nablaF = function(u){A(As(u) - y)}"
   ]
  },
  {
   "cell_type": "markdown",
   "metadata": {
    "deletable": true,
    "editable": true
   },
   "source": [
    "The proximal operator of $ G $ is the orthogonal projection on\n",
    "$\\Cc$, which is obtained as\n",
    "$$ \\text{prox}_{\\ga G}(u)_{i,j} = \\frac{u_{i,j}}{ \\max(1,\\norm{u_{i,j}}/\\lambda) }. $$\n",
    "Note that it does not depends on $\\ga$."
   ]
  },
  {
   "cell_type": "code",
   "execution_count": 13,
   "metadata": {
    "collapsed": false,
    "deletable": true,
    "editable": true
   },
   "outputs": [],
   "source": [
    "d = function(u)\n",
    "{\n",
    "    n = dim(u)[1]\n",
    "    p = dim(u)[2]\n",
    "\n",
    "    out = array(0, c(n, p, 2))\n",
    "    \n",
    "    for (i in 1:n)\n",
    "    {\n",
    "        for (j in 1:p)\n",
    "        {\n",
    "            out[i, j,] = norm(u[i, j,])\n",
    "        }\n",
    "    }\n",
    "    return (out)\n",
    "}\n",
    "\n",
    "proxG = function(u){u / pmax(d(u) / lambda, 1)}"
   ]
  },
  {
   "cell_type": "markdown",
   "metadata": {
    "deletable": true,
    "editable": true
   },
   "source": [
    "The gradient step size of the FB should satisfy\n",
    "$$ \\ga < \\frac{2}{\\norm{A^* A}} = \\frac{1}{4}. $$"
   ]
  },
  {
   "cell_type": "code",
   "execution_count": 14,
   "metadata": {
    "collapsed": false,
    "deletable": true,
    "editable": true
   },
   "outputs": [],
   "source": [
    "gamma = 1./5"
   ]
  },
  {
   "cell_type": "markdown",
   "metadata": {
    "deletable": true,
    "editable": true
   },
   "source": [
    "Initialize the FB with $u=0 \\in \\RR^P$."
   ]
  },
  {
   "cell_type": "code",
   "execution_count": 15,
   "metadata": {
    "collapsed": false,
    "deletable": true,
    "editable": true
   },
   "outputs": [],
   "source": [
    "u = array(0, c(n, n, 2))"
   ]
  },
  {
   "cell_type": "markdown",
   "metadata": {
    "deletable": true,
    "editable": true
   },
   "source": [
    "One step of FB."
   ]
  },
  {
   "cell_type": "code",
   "execution_count": 16,
   "metadata": {
    "collapsed": false,
    "deletable": true,
    "editable": true
   },
   "outputs": [],
   "source": [
    "u = proxG(u - gamma * nablaF(u))"
   ]
  },
  {
   "cell_type": "markdown",
   "metadata": {
    "deletable": true,
    "editable": true
   },
   "source": [
    "Update the solution using\n",
    "$$ x^{(\\ell)} = y - A^* u. $$"
   ]
  },
  {
   "cell_type": "code",
   "execution_count": 17,
   "metadata": {
    "collapsed": false,
    "deletable": true,
    "editable": true
   },
   "outputs": [],
   "source": [
    "x = y - As(u)"
   ]
  },
  {
   "cell_type": "markdown",
   "metadata": {
    "deletable": true,
    "editable": true
   },
   "source": [
    "__Exercise 1__\n",
    "\n",
    "Perform Chambolle algorithm to solve the ROF problem.\n",
    "Monitor the primal $E$ and dual $-F$ energies."
   ]
  },
  {
   "cell_type": "code",
   "execution_count": 18,
   "metadata": {
    "collapsed": false,
    "deletable": true,
    "editable": true
   },
   "outputs": [],
   "source": [
    "# Insert your code here."
   ]
  },
  {
   "cell_type": "markdown",
   "metadata": {
    "deletable": true,
    "editable": true
   },
   "source": [
    "Display the denoised image $x^\\star$."
   ]
  },
  {
   "cell_type": "code",
   "execution_count": 19,
   "metadata": {
    "collapsed": false,
    "deletable": true,
    "editable": true
   },
   "outputs": [
    {
     "data": {
      "image/png": "[encoded data removed]",
      "text/plain": [
       "Plot with title \"\""
      ]
     },
     "metadata": {},
     "output_type": "display_data"
    }
   ],
   "source": [
    "imageplot(clamp(x))"
   ]
  }
 ],
 "metadata": {
  "kernelspec": {
   "display_name": "R",
   "language": "R",
   "name": "ir"
  },
  "language_info": {
   "codemirror_mode": "r",
   "file_extension": ".r",
   "mimetype": "text/x-r-source",
   "name": "R",
   "pygments_lexer": "r",
   "version": "3.3.1"
  }
 },
 "nbformat": 4,
 "nbformat_minor": 0
}
