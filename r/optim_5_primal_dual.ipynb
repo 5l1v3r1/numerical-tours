{
 "cells": [
  {
   "cell_type": "markdown",
   "metadata": {
    "deletable": true,
    "editable": true
   },
   "source": [
    "Primal-Dual Proximal Splitting\n",
    "==============================\n",
    "$\\newcommand{\\dotp}[2]{\\langle #1, #2 \\rangle}$\n",
    "$\\newcommand{\\enscond}[2]{\\lbrace #1, #2 \\rbrace}$\n",
    "$\\newcommand{\\pd}[2]{ \\frac{ \\partial #1}{\\partial #2} }$\n",
    "$\\newcommand{\\umin}[1]{\\underset{#1}{\\min}\\;}$\n",
    "$\\newcommand{\\umax}[1]{\\underset{#1}{\\max}\\;}$\n",
    "$\\newcommand{\\umin}[1]{\\underset{#1}{\\min}\\;}$\n",
    "$\\newcommand{\\uargmin}[1]{\\underset{#1}{argmin}\\;}$\n",
    "$\\newcommand{\\norm}[1]{\\|#1\\|}$\n",
    "$\\newcommand{\\abs}[1]{\\left|#1\\right|}$\n",
    "$\\newcommand{\\choice}[1]{ \\left\\{  \\begin{array}{l} #1 \\end{array} \\right. }$\n",
    "$\\newcommand{\\pa}[1]{\\left(#1\\right)}$\n",
    "$\\newcommand{\\diag}[1]{{diag}\\left( #1 \\right)}$\n",
    "$\\newcommand{\\qandq}{\\quad\\text{and}\\quad}$\n",
    "$\\newcommand{\\qwhereq}{\\quad\\text{where}\\quad}$\n",
    "$\\newcommand{\\qifq}{ \\quad \\text{if} \\quad }$\n",
    "$\\newcommand{\\qarrq}{ \\quad \\Longrightarrow \\quad }$\n",
    "$\\newcommand{\\ZZ}{\\mathbb{Z}}$\n",
    "$\\newcommand{\\CC}{\\mathbb{C}}$\n",
    "$\\newcommand{\\RR}{\\mathbb{R}}$\n",
    "$\\newcommand{\\EE}{\\mathbb{E}}$\n",
    "$\\newcommand{\\Zz}{\\mathcal{Z}}$\n",
    "$\\newcommand{\\Ww}{\\mathcal{W}}$\n",
    "$\\newcommand{\\Vv}{\\mathcal{V}}$\n",
    "$\\newcommand{\\Nn}{\\mathcal{N}}$\n",
    "$\\newcommand{\\NN}{\\mathcal{N}}$\n",
    "$\\newcommand{\\Hh}{\\mathcal{H}}$\n",
    "$\\newcommand{\\Bb}{\\mathcal{B}}$\n",
    "$\\newcommand{\\Ee}{\\mathcal{E}}$\n",
    "$\\newcommand{\\Cc}{\\mathcal{C}}$\n",
    "$\\newcommand{\\Gg}{\\mathcal{G}}$\n",
    "$\\newcommand{\\Ss}{\\mathcal{S}}$\n",
    "$\\newcommand{\\Pp}{\\mathcal{P}}$\n",
    "$\\newcommand{\\Ff}{\\mathcal{F}}$\n",
    "$\\newcommand{\\Xx}{\\mathcal{X}}$\n",
    "$\\newcommand{\\Mm}{\\mathcal{M}}$\n",
    "$\\newcommand{\\Ii}{\\mathcal{I}}$\n",
    "$\\newcommand{\\Dd}{\\mathcal{D}}$\n",
    "$\\newcommand{\\Ll}{\\mathcal{L}}$\n",
    "$\\newcommand{\\Tt}{\\mathcal{T}}$\n",
    "$\\newcommand{\\si}{\\sigma}$\n",
    "$\\newcommand{\\al}{\\alpha}$\n",
    "$\\newcommand{\\la}{\\lambda}$\n",
    "$\\newcommand{\\ga}{\\gamma}$\n",
    "$\\newcommand{\\Ga}{\\Gamma}$\n",
    "$\\newcommand{\\La}{\\Lambda}$\n",
    "$\\newcommand{\\si}{\\sigma}$\n",
    "$\\newcommand{\\Si}{\\Sigma}$\n",
    "$\\newcommand{\\be}{\\beta}$\n",
    "$\\newcommand{\\de}{\\delta}$\n",
    "$\\newcommand{\\De}{\\Delta}$\n",
    "$\\newcommand{\\phi}{\\varphi}$\n",
    "$\\newcommand{\\th}{\\theta}$\n",
    "$\\newcommand{\\om}{\\omega}$\n",
    "$\\newcommand{\\Om}{\\Omega}$\n"
   ]
  },
  {
   "cell_type": "markdown",
   "metadata": {
    "deletable": true,
    "editable": true
   },
   "source": [
    "This tour explores a primal-dual proximal splitting algorithm,\n",
    "with application to imaging problems."
   ]
  },
  {
   "cell_type": "code",
   "execution_count": 25,
   "metadata": {
    "collapsed": false,
    "deletable": true,
    "editable": true
   },
   "outputs": [],
   "source": [
    "library(imager)\n",
    "library(pracma)\n",
    "library(plot3D)\n",
    "\n",
    "# Importing the libraries\n",
    "for (f in list.files(path=\"nt_toolbox/toolbox_general/\", pattern=\"*.R\")) {\n",
    "    source(paste(\"nt_toolbox/toolbox_general/\", f, sep=\"\"))\n",
    "}\n",
    "for (f in list.files(path=\"nt_toolbox/toolbox_signal/\", pattern=\"*.R\")) {\n",
    "    source(paste(\"nt_toolbox/toolbox_signal/\", f, sep=\"\"))\n",
    "}"
   ]
  },
  {
   "cell_type": "markdown",
   "metadata": {
    "deletable": true,
    "editable": true
   },
   "source": [
    "Convex Optimization with a Primal-Dual Scheme\n",
    "---------------------------------------------\n",
    "In this tour we use the\n",
    "primal-dual algorithm detailed in:\n",
    "\n",
    "\n",
    "Antonin Chambolle and Thomas Pock\n",
    "_A First-order primal-dual algorithm for convex problems with application to imaging,_\n",
    "Journal of Mathematical Imaging and Vision,\n",
    "Volume 40, Number 1 (2011), 120-145\n",
    "\n",
    "\n",
    "One should note that there exist many other primal-dual schemes.\n",
    "\n",
    "\n",
    "We consider general optimization problems of the form\n",
    "$$ \\umin{f} F(K(f)) + G(f) $$\n",
    "where $F$ and $G$ are convex functions and $K : f \\mapsto K(f)$\n",
    "is a linear operator.\n",
    "\n",
    "\n",
    "For the primal-dual algorithm to be applicable, one should be able to\n",
    "compute the proximal mapping of $F$ and $G$, defined as:\n",
    "$$ \\text{Prox}_{\\gamma F}(x) = \\uargmin{y} \\frac{1}{2}\\norm{x-y}^2 + \\ga F(y) $$\n",
    "(the same definition applies also for $G$).\n",
    "\n",
    "\n",
    "The algorithm reads:\n",
    "$$ g_{k+1} = \\text{Prox}_{\\sigma F^*}( g_k + \\sigma K(\\tilde f_k)) $$\n",
    "$$ f_{k+1} = \\text{Prox}_{\\tau G}(  f_k-\\tau K^*(g_k) ) $$\n",
    "$$ \\tilde f_{k+1} = f_{k+1} + \\theta (f_{k+1} - f_k) $$\n",
    "\n",
    "\n",
    "The dual functional is defined as\n",
    "$$ F^*(y) = \\umax{x} \\dotp{x}{y}-F(x). $$\n",
    "Note that being able to compute the proximal mapping of $F$ is\n",
    "equivalent to being able to compute the proximal mapping of $F^*$,\n",
    "thanks to Moreau's identity:\n",
    "$$ x = \\text{Prox}_{\\tau F^*}(x) + \\tau \\text{Prox}_{F/\\tau}(x/\\tau) $$\n",
    "\n",
    "\n",
    "It can be shown that in the case $\\theta=1$, if\n",
    "$\\sigma \\tau \\norm{K}^2<1$, then $f_k$ converges to a minimizer of\n",
    "the original minimization of $F(K(f)) + G(f)$.\n",
    "\n",
    "\n",
    "More general primal-dual schemes have been developped, see for instance\n",
    "\n",
    "\n",
    "L. Condat,\n",
    "_A primal-dual splitting method for convex optimization involving Lipschitzian, proximable and linear composite terms,_\n",
    "J. Optimization Theory and Applications, 2013, in press.\n",
    "\n",
    "\n",
    "Inpainting Problem\n",
    "------------------\n",
    "We consider a linear imaging operator $\\Phi : f \\mapsto \\Phi(f)$\n",
    "that maps high resolution images to low dimensional observations.\n",
    "Here we consider a pixel masking operator, that is diagonal over the\n",
    "spacial domain.\n",
    "\n",
    "\n",
    "Load an image."
   ]
  },
  {
   "cell_type": "code",
   "execution_count": 2,
   "metadata": {
    "collapsed": false,
    "deletable": true,
    "editable": true
   },
   "outputs": [],
   "source": [
    "name = \"nt_toolbox/data/lena.png\"\n",
    "n = 256\n",
    "f0 = load_image(name, n)\n",
    "f0 = rescale(crop(f0, n / 2))"
   ]
  },
  {
   "cell_type": "markdown",
   "metadata": {
    "deletable": true,
    "editable": true
   },
   "source": [
    "Display it."
   ]
  },
  {
   "cell_type": "code",
   "execution_count": 3,
   "metadata": {
    "collapsed": false,
    "deletable": true,
    "editable": true
   },
   "outputs": [
    {
     "data": {
      "image/png": "[encoded data removed]",
      "text/plain": [
       "Plot with title \"\""
      ]
     },
     "metadata": {},
     "output_type": "display_data"
    }
   ],
   "source": [
    "f0 = f0[,]\n",
    "imageplot(f0)"
   ]
  },
  {
   "cell_type": "markdown",
   "metadata": {
    "deletable": true,
    "editable": true
   },
   "source": [
    "We consider here the inpainting problem. This simply corresponds to a\n",
    "masking operator.\n",
    "\n",
    "\n",
    "Load a random mask $\\La$."
   ]
  },
  {
   "cell_type": "code",
   "execution_count": 4,
   "metadata": {
    "collapsed": false,
    "deletable": true,
    "editable": true
   },
   "outputs": [],
   "source": [
    "rho = .8\n",
    "Lambda = rand(n / 2, n / 2) > rho"
   ]
  },
  {
   "cell_type": "markdown",
   "metadata": {
    "deletable": true,
    "editable": true
   },
   "source": [
    "Masking operator $ \\Phi $."
   ]
  },
  {
   "cell_type": "code",
   "execution_count": 5,
   "metadata": {
    "collapsed": false,
    "deletable": true,
    "editable": true
   },
   "outputs": [],
   "source": [
    "Phi = function(f){f * Lambda}"
   ]
  },
  {
   "cell_type": "markdown",
   "metadata": {
    "deletable": true,
    "editable": true
   },
   "source": [
    "Compute the observations $y=\\Phi f_0$."
   ]
  },
  {
   "cell_type": "code",
   "execution_count": 6,
   "metadata": {
    "collapsed": false,
    "deletable": true,
    "editable": true
   },
   "outputs": [],
   "source": [
    "y = Phi(f0)"
   ]
  },
  {
   "cell_type": "markdown",
   "metadata": {
    "deletable": true,
    "editable": true
   },
   "source": [
    "Display it."
   ]
  },
  {
   "cell_type": "code",
   "execution_count": 7,
   "metadata": {
    "collapsed": false,
    "deletable": true,
    "editable": true
   },
   "outputs": [
    {
     "data": {
      "image/png": "[encoded data removed]",
      "text/plain": [
       "Plot with title \"\""
      ]
     },
     "metadata": {},
     "output_type": "display_data"
    }
   ],
   "source": [
    "imageplot(y)"
   ]
  },
  {
   "cell_type": "markdown",
   "metadata": {
    "deletable": true,
    "editable": true
   },
   "source": [
    "Total Variation Regularization under Constraints\n",
    "------------------------------------------------\n",
    "We want to solve the noiseless inverse problem $y=\\Phi f$ using a total\n",
    "variation regularization:\n",
    "$$ \\umin{ y=\\Phi f } \\norm{\\nabla f}_1 $$\n",
    "\n",
    "\n",
    "This can be recasted as the minimization of $F(K(f)) + G(f)$ by\n",
    "introducing\n",
    "$$ G(f)=i_H(f), \\quad F(u)=\\norm{u}_1 \\qandq K=\\nabla, $$\n",
    "where $H = \\enscond{x}{\\Phi(x)=y}$ is an affine space, and $i_H$ is the indicator\n",
    "function\n",
    "$$ i_H(x) = \\choice{ 0 \\qifq x \\in H, \\\\ +\\infty \\qifq x \\notin H. } $$\n",
    "\n",
    "\n",
    "Shorcut for the operators."
   ]
  },
  {
   "cell_type": "code",
   "execution_count": 8,
   "metadata": {
    "collapsed": false,
    "deletable": true,
    "editable": true
   },
   "outputs": [],
   "source": [
    "K  = function(f){grad_3(f)}\n",
    "KS = function(u){-div_2(u)}"
   ]
  },
  {
   "cell_type": "markdown",
   "metadata": {
    "deletable": true,
    "editable": true
   },
   "source": [
    "Shortcut for the TV norm."
   ]
  },
  {
   "cell_type": "code",
   "execution_count": 9,
   "metadata": {
    "collapsed": false,
    "deletable": true,
    "editable": true
   },
   "outputs": [],
   "source": [
    "Amplitude = function(u){sqrt(u[,,1]^2 + u[,,2]^2)}\n",
    "F = function(u){sum(sum(Amplitude(u)))}"
   ]
  },
  {
   "cell_type": "markdown",
   "metadata": {
    "deletable": true,
    "editable": true
   },
   "source": [
    "The proximal operator of the vectorial $\\ell^1$ norm reads\n",
    "$$ \\text{Prox}_{\\lambda F}(u) = \\max\\pa{0,1-\\frac{\\la}{\\norm{u_k}}} u_k $$"
   ]
  },
  {
   "cell_type": "code",
   "execution_count": 10,
   "metadata": {
    "collapsed": false,
    "deletable": true,
    "editable": true
   },
   "outputs": [],
   "source": [
    "ProxF = function(u,lambda)\n",
    "    {\n",
    "    return(pmax(0,1 - lambda / array(c(Amplitude(u), Amplitude(u)), dim=c(dim(u)[1],dim(u)[2],2))) * u)\n",
    "    }"
   ]
  },
  {
   "cell_type": "markdown",
   "metadata": {
    "deletable": true,
    "editable": true
   },
   "source": [
    "Display the thresholding on the vertical component of the vector."
   ]
  },
  {
   "cell_type": "code",
   "execution_count": 11,
   "metadata": {
    "collapsed": false,
    "deletable": true,
    "editable": true
   },
   "outputs": [
    {
     "data": {
      "image/png": "[encoded data removed]",
      "text/plain": [
       "Plot with title \"\""
      ]
     },
     "metadata": {},
     "output_type": "display_data"
    }
   ],
   "source": [
    "t = -linspace(-2,2, 201)\n",
    "Y = meshgrid(t,t)$Y\n",
    "X = meshgrid(t,t)$X\n",
    "U = array(c(X,Y), dim=c(201, 201, 2))\n",
    "V = ProxF(U,1.)\n",
    "\n",
    "persp3D(X, Y, V[,,1], theta=30, phi=50, ticktype=\"detailed\")"
   ]
  },
  {
   "cell_type": "markdown",
   "metadata": {
    "deletable": true,
    "editable": true
   },
   "source": [
    "For any 1-homogeneous convex\n",
    "functional, the dual function is the indicator of a convex set. For\n",
    "the $\\ell^1$ norm, it is the indicator of the $\\ell^\\infty$ ball\n",
    "$$ F^* = i_{\\norm{\\cdot}_\\infty \\leq 1}\n",
    " \\qwhereq  \\norm{u}_\\infty = \\umax{i} \\norm{u_i}. $$\n",
    "\n",
    "\n",
    "The proximal operator of the dual function is hence a projector (and it\n",
    "does not depend on $\\sigma$ )\n",
    "$$ \\text{Prox}_{\\sigma F^*}(u) = \\text{Proj}_{\\norm{\\cdot}_\\infty \\leq 1}(u). $$\n",
    "\n",
    "\n",
    "A simple way to compute the proximal operator of the dual function $F^*$, we\n",
    "make use of Moreau's identity:\n",
    "  $$ x = \\text{Prox}_{\\tau F^*}(x) + \\tau \\text{Prox}_{F/\\tau}(x/\\tau) $$"
   ]
  },
  {
   "cell_type": "code",
   "execution_count": 12,
   "metadata": {
    "collapsed": false,
    "deletable": true,
    "editable": true
   },
   "outputs": [],
   "source": [
    "ProxFS = function(y,sigma){y - sigma * ProxF(y / sigma, 1. / sigma)}"
   ]
  },
  {
   "cell_type": "markdown",
   "metadata": {
    "deletable": true,
    "editable": true
   },
   "source": [
    "Display this dual proximal on the vertical component of the vector."
   ]
  },
  {
   "cell_type": "code",
   "execution_count": 13,
   "metadata": {
    "collapsed": false,
    "deletable": true,
    "editable": true
   },
   "outputs": [
    {
     "data": {
      "image/png": "[encoded data removed]",
      "text/plain": [
       "Plot with title \"\""
      ]
     },
     "metadata": {},
     "output_type": "display_data"
    }
   ],
   "source": [
    "V = ProxFS(U,1)\n",
    "persp3D(X, Y, V[,,1], theta=20, phi=50, ticktype=\"detailed\")"
   ]
  },
  {
   "cell_type": "markdown",
   "metadata": {
    "deletable": true,
    "editable": true
   },
   "source": [
    "The proximal operator of $G = i_H$ is the projector on $H$. In our\n",
    "case, since $\\Phi$ is a diagonal so that the projection is simple to\n",
    "compute\n",
    "$$ \\text{Prox}_{\\tau G}(f) = \\text{Proj}_{H}(f) = f + \\Phi(y - \\Phi(f)) $$"
   ]
  },
  {
   "cell_type": "code",
   "execution_count": 14,
   "metadata": {
    "collapsed": false,
    "deletable": true,
    "editable": true
   },
   "outputs": [],
   "source": [
    "ProxG = function(f,tau){f + Phi(y - Phi(f))}"
   ]
  },
  {
   "cell_type": "markdown",
   "metadata": {
    "deletable": true,
    "editable": true
   },
   "source": [
    "Primal-dual Total Variation Regularization Algorithm\n",
    "----------------------------------------------------\n",
    "Now we can apply the primal dual scheme to the TV regularization problem.\n",
    "\n",
    "\n",
    "We set parameters for the algorithm.\n",
    "Note that in our case, $L=\\norm{K}^2=8$.\n",
    "One should has $L \\sigma \\tau < 1$."
   ]
  },
  {
   "cell_type": "code",
   "execution_count": 15,
   "metadata": {
    "collapsed": false,
    "deletable": true,
    "editable": true
   },
   "outputs": [],
   "source": [
    "L = 8\n",
    "sigma = 10\n",
    "tau = .9/(L * sigma)\n",
    "theta = 1"
   ]
  },
  {
   "cell_type": "markdown",
   "metadata": {
    "deletable": true,
    "editable": true
   },
   "source": [
    "Initialization, here |f| stands for the current iterate $f_k$,\n",
    "|g| for $g_k$ and |f1| for $\\tilde f_k$."
   ]
  },
  {
   "cell_type": "code",
   "execution_count": 16,
   "metadata": {
    "collapsed": false,
    "deletable": true,
    "editable": true
   },
   "outputs": [],
   "source": [
    "f = y\n",
    "g = K(y) * 0\n",
    "f1 = f"
   ]
  },
  {
   "cell_type": "markdown",
   "metadata": {
    "deletable": true,
    "editable": true
   },
   "source": [
    "Example of one iterations."
   ]
  },
  {
   "cell_type": "code",
   "execution_count": 17,
   "metadata": {
    "collapsed": false,
    "deletable": true,
    "editable": true
   },
   "outputs": [],
   "source": [
    "fold = f\n",
    "g = ProxFS(g + sigma * K(f1), sigma)\n",
    "f = ProxG(f - tau * KS(g), tau)\n",
    "f1 = f + theta * (f - fold)"
   ]
  },
  {
   "cell_type": "markdown",
   "metadata": {
    "deletable": true,
    "editable": true
   },
   "source": [
    "__Exercise 1__\n",
    "\n",
    "Implement the primal-dual algorithm.\n",
    "Monitor the evolution of the TV energy $F(K(f_k))$\n",
    "during the iterations.\n",
    "Note that one always has $ f_k \\in H $ so that the iterates\n",
    "satisfies the constraints."
   ]
  },
  {
   "cell_type": "code",
   "execution_count": 18,
   "metadata": {
    "collapsed": false,
    "deletable": true,
    "editable": true
   },
   "outputs": [],
   "source": [
    "# Insert code here"
   ]
  },
  {
   "cell_type": "markdown",
   "metadata": {
    "deletable": true,
    "editable": true
   },
   "source": [
    "Display inpainted image."
   ]
  },
  {
   "cell_type": "code",
   "execution_count": 19,
   "metadata": {
    "collapsed": false,
    "deletable": true,
    "editable": true
   },
   "outputs": [],
   "source": [
    "#imageplot(f)"
   ]
  },
  {
   "cell_type": "markdown",
   "metadata": {
    "deletable": true,
    "editable": true
   },
   "source": [
    "__Exercise 2__\n",
    "\n",
    "Use the primal dual scheme to perform regularization in the presence of\n",
    "noise\n",
    "$$ \\umin{\\norm{y-\\Phi(f)} \\leq \\epsilon} \\norm{\\nabla f}_1. $$"
   ]
  },
  {
   "cell_type": "code",
   "execution_count": 20,
   "metadata": {
    "collapsed": false,
    "deletable": true,
    "editable": true
   },
   "outputs": [],
   "source": [
    "# Solution not available"
   ]
  },
  {
   "cell_type": "markdown",
   "metadata": {
    "deletable": true,
    "editable": true
   },
   "source": [
    "Inpainting Large Missing Regions\n",
    "--------------------------------\n",
    "It is possible to consider a more challening problem of inpainting large\n",
    "missing regions.\n",
    "\n",
    "\n",
    "To emphasis the effect of the TV functional, we use a simple geometric\n",
    "image."
   ]
  },
  {
   "cell_type": "code",
   "execution_count": 21,
   "metadata": {
    "collapsed": false,
    "deletable": true,
    "editable": true
   },
   "outputs": [],
   "source": [
    "n = 64\n",
    "radius = 0.6\n",
    "t = linspace(-1,1,n)\n",
    "Y = meshgrid(t,t)$Y\n",
    "X = meshgrid(t,t)$X\n",
    "f0 = (pmax(abs(X),abs(Y) ) < radius) * 1.0"
   ]
  },
  {
   "cell_type": "markdown",
   "metadata": {
    "deletable": true,
    "editable": true
   },
   "source": [
    "We remove the central part of the image."
   ]
  },
  {
   "cell_type": "code",
   "execution_count": 22,
   "metadata": {
    "collapsed": false,
    "deletable": true,
    "editable": true
   },
   "outputs": [],
   "source": [
    "a = 4\n",
    "Lambda = matrix(1, n, n)\n",
    "Lambda[((n/2) - a):((n/2) + a),] = 0"
   ]
  },
  {
   "cell_type": "markdown",
   "metadata": {
    "deletable": true,
    "editable": true
   },
   "source": [
    "Display."
   ]
  },
  {
   "cell_type": "code",
   "execution_count": 23,
   "metadata": {
    "collapsed": false,
    "deletable": true,
    "editable": true
   },
   "outputs": [
    {
     "data": {
      "image/png": "[encoded data removed]",
      "text/plain": [
       "Plot with title \"Damaged\""
      ]
     },
     "metadata": {},
     "output_type": "display_data"
    }
   ],
   "source": [
    "imageplot(f0, 'Original', c(1,2,1))\n",
    "imageplot(Phi(f0), 'Damaged', c(1,2,2))"
   ]
  },
  {
   "cell_type": "markdown",
   "metadata": {
    "deletable": true,
    "editable": true
   },
   "source": [
    "__Exercise 3__\n",
    "\n",
    "Display the evolution of the inpainting process."
   ]
  },
  {
   "cell_type": "code",
   "execution_count": 24,
   "metadata": {
    "collapsed": false,
    "deletable": true,
    "editable": true
   },
   "outputs": [],
   "source": [
    "# Insert code here"
   ]
  }
 ],
 "metadata": {
  "kernelspec": {
   "display_name": "R",
   "language": "R",
   "name": "ir"
  },
  "language_info": {
   "codemirror_mode": "r",
   "file_extension": ".r",
   "mimetype": "text/x-r-source",
   "name": "R",
   "pygments_lexer": "r",
   "version": "3.3.1"
  }
 },
 "nbformat": 4,
 "nbformat_minor": 0
}
