{
 "cells": [
  {
   "cell_type": "markdown",
   "metadata": {
    "deletable": true,
    "editable": true
   },
   "source": [
    "Mesh Denoising\n",
    "==============\n",
    "\n",
    "*Important:* Please read the [installation page](http://gpeyre.github.io/numerical-tours/installation_python/) for details about how to install the toolboxes.\n",
    "$\\newcommand{\\dotp}[2]{\\langle #1, #2 \\rangle}$\n",
    "$\\newcommand{\\enscond}[2]{\\lbrace #1, #2 \\rbrace}$\n",
    "$\\newcommand{\\pd}[2]{ \\frac{ \\partial #1}{\\partial #2} }$\n",
    "$\\newcommand{\\umin}[1]{\\underset{#1}{\\min}\\;}$\n",
    "$\\newcommand{\\umax}[1]{\\underset{#1}{\\max}\\;}$\n",
    "$\\newcommand{\\umin}[1]{\\underset{#1}{\\min}\\;}$\n",
    "$\\newcommand{\\uargmin}[1]{\\underset{#1}{argmin}\\;}$\n",
    "$\\newcommand{\\norm}[1]{\\|#1\\|}$\n",
    "$\\newcommand{\\abs}[1]{\\left|#1\\right|}$\n",
    "$\\newcommand{\\choice}[1]{ \\left\\{  \\begin{array}{l} #1 \\end{array} \\right. }$\n",
    "$\\newcommand{\\pa}[1]{\\left(#1\\right)}$\n",
    "$\\newcommand{\\diag}[1]{{diag}\\left( #1 \\right)}$\n",
    "$\\newcommand{\\qandq}{\\quad\\text{and}\\quad}$\n",
    "$\\newcommand{\\qwhereq}{\\quad\\text{where}\\quad}$\n",
    "$\\newcommand{\\qifq}{ \\quad \\text{if} \\quad }$\n",
    "$\\newcommand{\\qarrq}{ \\quad \\Longrightarrow \\quad }$\n",
    "$\\newcommand{\\ZZ}{\\mathbb{Z}}$\n",
    "$\\newcommand{\\CC}{\\mathbb{C}}$\n",
    "$\\newcommand{\\RR}{\\mathbb{R}}$\n",
    "$\\newcommand{\\EE}{\\mathbb{E}}$\n",
    "$\\newcommand{\\Zz}{\\mathcal{Z}}$\n",
    "$\\newcommand{\\Ww}{\\mathcal{W}}$\n",
    "$\\newcommand{\\Vv}{\\mathcal{V}}$\n",
    "$\\newcommand{\\Nn}{\\mathcal{N}}$\n",
    "$\\newcommand{\\NN}{\\mathcal{N}}$\n",
    "$\\newcommand{\\Hh}{\\mathcal{H}}$\n",
    "$\\newcommand{\\Bb}{\\mathcal{B}}$\n",
    "$\\newcommand{\\Ee}{\\mathcal{E}}$\n",
    "$\\newcommand{\\Cc}{\\mathcal{C}}$\n",
    "$\\newcommand{\\Gg}{\\mathcal{G}}$\n",
    "$\\newcommand{\\Ss}{\\mathcal{S}}$\n",
    "$\\newcommand{\\Pp}{\\mathcal{P}}$\n",
    "$\\newcommand{\\Ff}{\\mathcal{F}}$\n",
    "$\\newcommand{\\Xx}{\\mathcal{X}}$\n",
    "$\\newcommand{\\Mm}{\\mathcal{M}}$\n",
    "$\\newcommand{\\Ii}{\\mathcal{I}}$\n",
    "$\\newcommand{\\Dd}{\\mathcal{D}}$\n",
    "$\\newcommand{\\Ll}{\\mathcal{L}}$\n",
    "$\\newcommand{\\Tt}{\\mathcal{T}}$\n",
    "$\\newcommand{\\si}{\\sigma}$\n",
    "$\\newcommand{\\al}{\\alpha}$\n",
    "$\\newcommand{\\la}{\\lambda}$\n",
    "$\\newcommand{\\ga}{\\gamma}$\n",
    "$\\newcommand{\\Ga}{\\Gamma}$\n",
    "$\\newcommand{\\La}{\\Lambda}$\n",
    "$\\newcommand{\\si}{\\sigma}$\n",
    "$\\newcommand{\\Si}{\\Sigma}$\n",
    "$\\newcommand{\\be}{\\beta}$\n",
    "$\\newcommand{\\de}{\\delta}$\n",
    "$\\newcommand{\\De}{\\Delta}$\n",
    "$\\newcommand{\\phi}{\\varphi}$\n",
    "$\\newcommand{\\th}{\\theta}$\n",
    "$\\newcommand{\\om}{\\omega}$\n",
    "$\\newcommand{\\Om}{\\Omega}$"
   ]
  },
  {
   "cell_type": "markdown",
   "metadata": {
    "deletable": true,
    "editable": true
   },
   "source": [
    "This tour explores denoising of 3-D meshes using linear filtering, heat\n",
    "diffusion and Sobolev regularization."
   ]
  },
  {
   "cell_type": "code",
   "execution_count": 7,
   "metadata": {
    "collapsed": false,
    "deletable": true,
    "editable": true
   },
   "outputs": [],
   "source": [
    "options(repr.plot.width=3.5, repr.plot.height=3.5)\n",
    "options(warn=-1) # turns off warnings, to turn on: \"options(warn=0)\"\n",
    "\n",
    "library(Matrix)\n",
    "library(rgl)\n",
    "library(geometry)\n",
    "library(akima)\n",
    "library(plot3D)\n",
    "library(network)\n",
    "\n",
    "# Importing the libraries\n",
    "for (f in list.files(path=\"nt_toolbox/toolbox_general/\", pattern=\"*.R\")) {\n",
    "    source(paste(\"nt_toolbox/toolbox_general/\", f, sep=\"\"))\n",
    "}\n",
    "for (f in list.files(path=\"nt_toolbox/toolbox_signal/\", pattern=\"*.R\")) {\n",
    "    source(paste(\"nt_toolbox/toolbox_signal/\", f, sep=\"\"))\n",
    "}"
   ]
  },
  {
   "cell_type": "markdown",
   "metadata": {
    "deletable": true,
    "editable": true
   },
   "source": [
    "3-D Triangulated Meshes\n",
    "-----------------------\n",
    "The topology of a triangulation is defined via a set of indexes $\\Vv = \\{1,\\ldots,n\\}$\n",
    "that indexes the $n$ vertices, a set of edges $\\Ee \\subset \\Vv \\times \\Vv$\n",
    "and a set of $m$ faces $\\Ff \\subset \\Vv  \\times \\Vv \\times \\Vv$.\n",
    "\n",
    "\n",
    "We load a mesh. The set of faces $\\Ff$ is stored in a matrix $F \\in\n",
    "\\{1,\\ldots,n\\}^{3 \\times m}$.\n",
    "The positions $x_i \\in \\RR^3$, for $i \\in V$, of the $n$ vertices\n",
    "are stored in a matrix $X_0 = (x_{0,i})_{i=1}^n \\in \\RR^{3 \\times n}$."
   ]
  },
  {
   "cell_type": "code",
   "execution_count": 8,
   "metadata": {
    "collapsed": false,
    "deletable": true,
    "editable": true
   },
   "outputs": [],
   "source": [
    "X0 = read_mesh(\"nt_toolbox/data/elephant-50kv.off\")$X0\n",
    "F = read_mesh(\"nt_toolbox/data/elephant-50kv.off\")$F0"
   ]
  },
  {
   "cell_type": "markdown",
   "metadata": {
    "deletable": true,
    "editable": true
   },
   "source": [
    "Number $n$ of vertices and number $m$ of faces."
   ]
  },
  {
   "cell_type": "code",
   "execution_count": 9,
   "metadata": {
    "collapsed": false,
    "deletable": true,
    "editable": true
   },
   "outputs": [],
   "source": [
    "n = dim(X0)[2]\n",
    "m = dim(F)[2]"
   ]
  },
  {
   "cell_type": "markdown",
   "metadata": {
    "deletable": true,
    "editable": true
   },
   "source": [
    "Display the mesh in 3-D."
   ]
  },
  {
   "cell_type": "code",
   "execution_count": 10,
   "metadata": {
    "collapsed": false,
    "deletable": true,
    "editable": true
   },
   "outputs": [
    {
     "data": {
      "image/png": "[encoded data removed]",
      "text/plain": [
       "plot without title"
      ]
     },
     "metadata": {},
     "output_type": "display_data"
    }
   ],
   "source": [
    "plot_mesh(X0, F)"
   ]
  },
  {
   "cell_type": "markdown",
   "metadata": {
    "deletable": true,
    "editable": true
   },
   "source": [
    "Noisy Mesh\n",
    "----------\n",
    "We generate artificially a noisy mesh by random normal displacement along the normal.\n",
    "We only perform normal displacements because tangencial displacements\n",
    "do not impact the geometry of the mesh.\n",
    "\n",
    "\n",
    "The parameter $\\rho>0$ controls the amount of noise."
   ]
  },
  {
   "cell_type": "code",
   "execution_count": 11,
   "metadata": {
    "collapsed": false,
    "deletable": true,
    "editable": true
   },
   "outputs": [],
   "source": [
    "rho = 0.015"
   ]
  },
  {
   "cell_type": "markdown",
   "metadata": {
    "deletable": true,
    "editable": true
   },
   "source": [
    "We compute the normals $N = (N_i)_{i=1}^n$ to the mesh.\n",
    "This is obtained by averaging the normal to the faces ajacent to each\n",
    "vertex."
   ]
  },
  {
   "cell_type": "code",
   "execution_count": null,
   "metadata": {
    "collapsed": false,
    "deletable": true,
    "editable": true
   },
   "outputs": [],
   "source": [
    "N = compute_normal(X0, F)"
   ]
  },
  {
   "cell_type": "markdown",
   "metadata": {
    "deletable": true,
    "editable": true
   },
   "source": [
    "We create a noisy mesh by displacement of the vertices along the\n",
    "normal direction\n",
    "$$ x_i = x_{0,i} + \\rho \\epsilon_i N_i \\in \\RR^3 $$\n",
    "where $\\epsilon_i \\sim \\Nn(0,1)$ is a realization of a Gaussian random\n",
    "variable,\n",
    "and where $N_i \\in \\RR^3$ is the normal of the mesh for each vertex index\n",
    "$i$."
   ]
  },
  {
   "cell_type": "code",
   "execution_count": null,
   "metadata": {
    "collapsed": false,
    "deletable": true,
    "editable": true
   },
   "outputs": [],
   "source": [
    "X = X0 + t(cbind(rho*replicate(1, rnorm(n)),rho*replicate(1, rnorm(n)),rho*replicate(1, rnorm(n))))*N"
   ]
  },
  {
   "cell_type": "markdown",
   "metadata": {
    "deletable": true,
    "editable": true
   },
   "source": [
    "Display the noisy mesh."
   ]
  },
  {
   "cell_type": "code",
   "execution_count": null,
   "metadata": {
    "collapsed": false,
    "deletable": true,
    "editable": true
   },
   "outputs": [],
   "source": [
    "plot_mesh(X, F)"
   ]
  },
  {
   "cell_type": "markdown",
   "metadata": {
    "deletable": true,
    "editable": true
   },
   "source": [
    "Adjacency Matrix\n",
    "----------------\n",
    "We define linear operators that compute local averages and differences on\n",
    "the mesh.\n",
    "\n",
    "\n",
    "First we compute the index of the edges that are in the mesh,\n",
    "by extracting pairs of index in the $F$ matrix."
   ]
  },
  {
   "cell_type": "code",
   "execution_count": null,
   "metadata": {
    "collapsed": false,
    "deletable": true,
    "editable": true
   },
   "outputs": [],
   "source": [
    "E = cbind(F[1:2,],F[2:3,],rbind(F[3,],F[1,]))"
   ]
  },
  {
   "cell_type": "markdown",
   "metadata": {
    "deletable": true,
    "editable": true
   },
   "source": [
    "Add the reversed edges. This defines the set of edges $\\Ee$\n",
    "that is stored in a matrix $E \\in \\{1,\\ldots,n\\}^{2 \\times p}$."
   ]
  },
  {
   "cell_type": "code",
   "execution_count": null,
   "metadata": {
    "collapsed": false,
    "deletable": true,
    "editable": true
   },
   "outputs": [],
   "source": [
    "E = unique_columns(cbind(E,rbind(E[2,],E[1,])))"
   ]
  },
  {
   "cell_type": "markdown",
   "metadata": {
    "deletable": true,
    "editable": true
   },
   "source": [
    "We keep only oriented pairs of index $(i,j)$ such that $i<j$,\n",
    "to avoid un-necessary computation."
   ]
  },
  {
   "cell_type": "code",
   "execution_count": null,
   "metadata": {
    "collapsed": false,
    "deletable": true,
    "editable": true
   },
   "outputs": [],
   "source": [
    "E0 = E[,E[1,]<E[2,]]"
   ]
  },
  {
   "cell_type": "markdown",
   "metadata": {
    "deletable": true,
    "editable": true
   },
   "source": [
    "This defines a matrix\n",
    "$E \\in \\{1,\\ldots,n\\}^{2 \\times p_0}$ where $p_0=p/2$."
   ]
  },
  {
   "cell_type": "code",
   "execution_count": null,
   "metadata": {
    "collapsed": false,
    "deletable": true,
    "editable": true
   },
   "outputs": [],
   "source": [
    "p0 = dim(E0)[2]"
   ]
  },
  {
   "cell_type": "markdown",
   "metadata": {
    "deletable": true,
    "editable": true
   },
   "source": [
    "Display statistics of the mesh."
   ]
  },
  {
   "cell_type": "code",
   "execution_count": null,
   "metadata": {
    "collapsed": false,
    "deletable": true,
    "editable": true
   },
   "outputs": [],
   "source": [
    "print(paste(\"#vertices =\" , n , \", #faces =\" ,m , \", #edges = \" , p0))"
   ]
  },
  {
   "cell_type": "markdown",
   "metadata": {
    "deletable": true,
    "editable": true
   },
   "source": [
    "The weight matrix $W$ is the adjacency matrix\n",
    "defined by\n",
    "$$\n",
    "      W_{i,j} = \\choice{\n",
    "          1 \\qifq (i,j) \\in \\Ee, \\\\\n",
    "          0 \\quad \\text{otherwise.}\n",
    "      }\n",
    "$$\n",
    "Since most of the entries of $W$ are zero, we store it as a sparse\n",
    "matrix."
   ]
  },
  {
   "cell_type": "code",
   "execution_count": null,
   "metadata": {
    "collapsed": false,
    "deletable": true,
    "editable": true
   },
   "outputs": [],
   "source": [
    "W = sparseMatrix(i=E[1,]+1, j=E[2,]+1, x=Matrix(1, nrow=dim(E)[2], ncol=dim(E)[2]))"
   ]
  },
  {
   "cell_type": "markdown",
   "metadata": {
    "deletable": true,
    "editable": true
   },
   "source": [
    "Compute the connectivity weight vector $ d \\in \\NN^n $\n",
    "$$ d_i = \\sum_{j} W_{i,j} $$\n",
    "i.e. $d_i$ is the number of edges connected to $i$."
   ]
  },
  {
   "cell_type": "code",
   "execution_count": null,
   "metadata": {
    "collapsed": false,
    "deletable": true,
    "editable": true
   },
   "outputs": [],
   "source": [
    "d = colSums(W)"
   ]
  },
  {
   "cell_type": "markdown",
   "metadata": {
    "deletable": true,
    "editable": true
   },
   "source": [
    "Display the statistics of mesh connectivity."
   ]
  },
  {
   "cell_type": "code",
   "execution_count": null,
   "metadata": {
    "collapsed": false,
    "deletable": true,
    "editable": true
   },
   "outputs": [],
   "source": [
    "h = hist(d, xlim=c(min(d),max(d)), col=\"DarkBlue\", main=\"\")\n"
   ]
  },
  {
   "cell_type": "markdown",
   "metadata": {
    "deletable": true,
    "editable": true
   },
   "source": [
    "Store in sparse diagonal matices $D$ and $iD$\n",
    "respectively $D=\\text{diag}_i(d_i)$ and $D^{-1} = \\text{diag}_i(1/d_i)$."
   ]
  },
  {
   "cell_type": "code",
   "execution_count": null,
   "metadata": {
    "collapsed": true,
    "deletable": true,
    "editable": true
   },
   "outputs": [],
   "source": [
    "D = sparseMatrix(i=seq(from=1, to=n), j=seq(from=1, to=n), x=d)\n",
    "iD = sparseMatrix(i=seq(from=1, to=n), j=seq(from=1, to=n), x=1/d)"
   ]
  },
  {
   "cell_type": "markdown",
   "metadata": {
    "deletable": true,
    "editable": true
   },
   "source": [
    "The normalized weight matrix is defined as\n",
    "$$ \\tilde W_{i,j} = \\frac{1}{d_i} W_{i,j}, $$\n",
    "and hence $\\tilde W = D^{-1} W$."
   ]
  },
  {
   "cell_type": "code",
   "execution_count": null,
   "metadata": {
    "collapsed": false,
    "deletable": true,
    "editable": true
   },
   "outputs": [],
   "source": [
    "tW = iD %*% W"
   ]
  },
  {
   "cell_type": "markdown",
   "metadata": {
    "deletable": true,
    "editable": true
   },
   "source": [
    "It satisfies\n",
    "$$ \\forall i , \\quad \\sum_j \\tilde W_{i,j} = 1, $$\n",
    "i.e. $\\tilde W \\text{I} = \\text{I}$ where $\\text{I} \\in \\RR^n$ is the vector\n",
    "constant equal to one.\n",
    "\n",
    "\n",
    "The operator $\\tilde W \\in \\RR^{n \\times n} $, viewed as an operator\n",
    "$\\tilde W : \\RR^n \\rightarrow \\RR^n$, can be thought as a low pass\n",
    "filter.\n",
    "\n",
    "\n",
    "Laplacian and Gradient Operators\n",
    "--------------------------------\n",
    "The un-normalized Laplacian is on the contrary a symmetric high pass\n",
    "operator\n",
    "$$ L = D-W \\in \\RR^{n \\times n}. $$\n",
    "It satisfies $L \\text{I} = 0$."
   ]
  },
  {
   "cell_type": "code",
   "execution_count": null,
   "metadata": {
    "collapsed": false,
    "deletable": true,
    "editable": true
   },
   "outputs": [],
   "source": [
    "L = D - W"
   ]
  },
  {
   "cell_type": "markdown",
   "metadata": {
    "deletable": true,
    "editable": true
   },
   "source": [
    "The gradient operator compute directional derivative along edges.\n",
    "It can be used to factor the Laplacian operator, but in practice\n",
    "it is never computed explicitely since it is never needed in numerical\n",
    "computation.\n",
    "\n",
    "To represent the gradient, we index the set of (oriented) edges $ \\Ee_0 = (e_k)_{k=1}^{p_0} $\n",
    "where each edge is $e_k = (i,j) \\in \\{1,\\ldots,n\\}^2$ with $i<j$.\n",
    "\n",
    "\n",
    "The gradient operator is a matrix $G \\in \\RR^{p_0 \\times n}$ defined\n",
    "as, for all $e_k=(i,j)$ and all $\\ell \\notin \\{i,j\\}$,\n",
    "$$ G_{k,i}=1, \\quad G_{k,j}=-1, \\quad G_{k,\\ell}=0. $$\n",
    "\n",
    "\n",
    "It is stored as a sparse matrix, and can be thought as a derivative\n",
    "operator $G : \\RR^n \\rightarrow \\RR^{p_0} $ that maps signal defined\n",
    "on vertices to differences located along directed edges."
   ]
  },
  {
   "cell_type": "code",
   "execution_count": null,
   "metadata": {
    "collapsed": false,
    "deletable": true,
    "editable": true
   },
   "outputs": [],
   "source": [
    "G = sparseMatrix( i = cbind(seq(from=0,to=p0, by=p0/(p0-1)), seq(from=0,to=p0, by=p0/(p0-1)))+1,  \n",
    "                   j = cbind(E0[1,],E0[2,])+1,\n",
    "                   x = cbind(Matrix(1,nrow=1,ncol=p0),Matrix((-1),nrow=1,ncol=p0)))"
   ]
  },
  {
   "cell_type": "markdown",
   "metadata": {
    "deletable": true,
    "editable": true
   },
   "source": [
    "Display the non-zero entries of $G$ and $W$."
   ]
  },
  {
   "cell_type": "code",
   "execution_count": null,
   "metadata": {
    "collapsed": false,
    "deletable": true,
    "editable": true
   },
   "outputs": [],
   "source": [
    "plot(E[1,]+1, E[2,]+1, col=\"DarkBlue\", xlim=c(0,max(E[1,]+1)), ylim=c(0,max(E[2,]+1)), xlab=\"\", ylab=\"\", type=\"p\", main=\"W\", pch=20)\n",
    "\n",
    "\n",
    "plot(cbind(seq(from=0,to=p0, by=p0/(p0-1)), seq(from=0,to=p0, by=p0/(p0-1)))+1, cbind(E0[1,],E0[2,])+1, xlab=\"\", ylab=\"\", type=\"p\",\n",
    "     col=\"Darkblue\", main=\"G\", pch=20)"
   ]
  },
  {
   "cell_type": "markdown",
   "metadata": {
    "deletable": true,
    "editable": true
   },
   "source": [
    "The Laplacian can be factored as follow\n",
    "$$ L = G^* G $$\n",
    "where $G^*$ is the transposed matrix (i.e. the adjoint operator, which\n",
    "can be thought as some kind of divergence).\n",
    "\n",
    "\n",
    "Check numerically that the factorization indeed hold."
   ]
  },
  {
   "cell_type": "code",
   "execution_count": null,
   "metadata": {
    "collapsed": false,
    "deletable": true,
    "editable": true
   },
   "outputs": [],
   "source": [
    "err = norm(t(G)%*%G - L)\n",
    "print(paste(\"Factorization error (should be 0) =\" , err))"
   ]
  },
  {
   "cell_type": "markdown",
   "metadata": {
    "deletable": true,
    "editable": true
   },
   "source": [
    "Note that this factorization shows that $L$ is a positive semi-definite\n",
    "operator, i.e. it satisfies\n",
    "\n",
    "$$ \\dotp{L f}{f} = \\norm{G f}^2 \\geq 0. $$\n",
    "\n",
    "If the mesh is connected, then only constant signals $f \\in \\RR^n$ satisfies\n",
    "$Lf=0$.\n",
    "\n",
    "\n",
    "Note that this convention is the contrary to the usual convention of\n",
    "differential calculus, in which a Laplacian is a negative operator.\n",
    "\n",
    "\n",
    "\n",
    "Function Denoising with Filtering\n",
    "---------------------------------\n",
    "A signal defined on the mesh is a vector $f \\in \\RR^n$, where $f_i \\in \\RR$\n",
    "is the value at vertex $1 \\leq i \\leq n$.\n",
    "\n",
    "\n",
    "Load a texture image $I$."
   ]
  },
  {
   "cell_type": "code",
   "execution_count": null,
   "metadata": {
    "collapsed": false,
    "deletable": true,
    "editable": true
   },
   "outputs": [],
   "source": [
    "M = load_image(\"nt_toolbox/data/lena.png\", n=256)"
   ]
  },
  {
   "cell_type": "markdown",
   "metadata": {
    "deletable": true,
    "editable": true
   },
   "source": [
    "Compute spherical coordinates $ (\\theta_i,\\phi_i)$ for each vertex $x_{0,i}$\n",
    "on the mesh."
   ]
  },
  {
   "cell_type": "code",
   "execution_count": null,
   "metadata": {
    "collapsed": false,
    "deletable": true,
    "editable": true
   },
   "outputs": [],
   "source": [
    "v = X0 - Matrix(rowMeans(X0), nrow=dim(X0)[1], ncol=dim(X0)[2])\n",
    "theta = acos(v[1,]/sqrt(colSums(v**2)))/pi\n",
    "phi = (atan2(v[2,], v[3,])/pi+1)/2 "
   ]
  },
  {
   "cell_type": "markdown",
   "metadata": {
    "deletable": true,
    "editable": true
   },
   "source": [
    "Interpolate the texture on the mesh."
   ]
  },
  {
   "cell_type": "code",
   "execution_count": null,
   "metadata": {
    "collapsed": false,
    "deletable": true,
    "editable": true
   },
   "outputs": [],
   "source": [
    "x = seq(from=0, to=1, by=1/(dim(M)[1]-1))\n",
    "f = rescale(bilinear(x, x,  t(as.matrix(M)), x0=theta, y0=phi)$z)\n",
    "my_cmap = cbind(f,f,f)"
   ]
  },
  {
   "cell_type": "markdown",
   "metadata": {
    "deletable": true,
    "editable": true
   },
   "source": [
    "Display the textured mesh."
   ]
  },
  {
   "cell_type": "code",
   "execution_count": null,
   "metadata": {
    "collapsed": false,
    "deletable": true,
    "editable": true
   },
   "outputs": [],
   "source": [
    "options(repr.plot.width=6, repr.plot.height=5)\n",
    "\n",
    "points3D(X0[1,], X0[2,], X0[3,], axis=FALSE, grid=FALSE, box=FALSE, type=\"p\", pch=19, color=as.color(my_cmap[,1]), scale.y=0)\n",
    "par(new=TRUE)"
   ]
  },
  {
   "cell_type": "markdown",
   "metadata": {
    "deletable": true,
    "editable": true
   },
   "source": [
    "The operator $\\tilde W : \\RR^n \\rightarrow \\RR^n$ can be used to smooth\n",
    "a function $f$, simply by computing $\\tilde W f \\in \\RR^n$.\n",
    "\n",
    "\n",
    "To further smooth the mesh, it is possible to iterate this process, by\n",
    "defining $f^{(0)} = f$ and\n",
    "\n",
    "$$ f^{(\\ell+1)} = \\tilde W f^{(\\ell)}.$$\n",
    "\n",
    "Note that one has $ f^{(\\ell)} = \\tilde W^{\\ell} f, $\n",
    "but it is preferable to use the iterative algorithm to do the\n",
    "computations."
   ]
  },
  {
   "cell_type": "markdown",
   "metadata": {
    "deletable": true,
    "editable": true
   },
   "source": [
    "__Exercise 1__\n",
    "\n",
    "Display the evolution of the image on the mesh as the number of\n",
    "iterations increases."
   ]
  },
  {
   "cell_type": "code",
   "execution_count": null,
   "metadata": {
    "collapsed": false,
    "deletable": true,
    "editable": true
   },
   "outputs": [],
   "source": [
    "## Insert your code here."
   ]
  },
  {
   "cell_type": "markdown",
   "metadata": {
    "deletable": true,
    "editable": true
   },
   "source": [
    "Mesh Denoising with Filtering\n",
    "-----------------------------\n",
    "The quality of a noisy mesh is improved by applying local averagings,\n",
    "that removes noise but also tends to smooth features.\n",
    "\n",
    "\n",
    "\n",
    "The operator $\\tilde W : \\RR^n \\rightarrow \\RR^n$ can be used to smooth\n",
    "a function, but it can also be applied to smooth the position $W \\in\n",
    "\\RR^{3 \\times n} $. Since they are stored as row of a matrix, one should\n",
    "applies $\\tilde W^*$ (transposed matrix) on the right side.\n",
    "$$ X^{(0)} = X \\qandq X^{(\\ell+1)} = X^{(\\ell)} W^* $$"
   ]
  },
  {
   "cell_type": "code",
   "execution_count": null,
   "metadata": {
    "collapsed": true,
    "deletable": true,
    "editable": true
   },
   "outputs": [],
   "source": [
    "niter <- 5\n",
    "X1 <- X\n",
    "for (i in (1:niter)){\n",
    "    X1 <- t(tW %*% t(X1))\n",
    "}"
   ]
  },
  {
   "cell_type": "markdown",
   "metadata": {
    "deletable": true,
    "editable": true
   },
   "source": [
    "We can compute the errors in dB with respect to the clean mesh, using\n",
    "\n",
    "$$ \\text{SNR}(X,Y) = -20 \\log_{10} \\pa{ \\norm{X-Y}/\\norm{Y} }. $$"
   ]
  },
  {
   "cell_type": "code",
   "execution_count": null,
   "metadata": {
    "collapsed": false,
    "deletable": true,
    "editable": true
   },
   "outputs": [],
   "source": [
    "pnoisy = snr(X0, X)\n",
    "pfilt  = snr(X0, X1)\n",
    "print(paste(\"Noisy =\", pnoisy, \"dB\", \"Denoised = \" , pfilt,\" dB\" ))"
   ]
  },
  {
   "cell_type": "markdown",
   "metadata": {
    "deletable": true,
    "editable": true
   },
   "source": [
    "Display the results."
   ]
  },
  {
   "cell_type": "code",
   "execution_count": null,
   "metadata": {
    "collapsed": false,
    "deletable": true,
    "editable": true
   },
   "outputs": [],
   "source": [
    "plot_mesh(X1, F)"
   ]
  },
  {
   "cell_type": "markdown",
   "metadata": {
    "deletable": true,
    "editable": true
   },
   "source": [
    "__Exercise 2__\n",
    "\n",
    "Determine the optimal number of iterations to maximize the SNR.\n",
    "Record, for each number $i$ of iteration, the SNR in $err(i)$."
   ]
  },
  {
   "cell_type": "code",
   "execution_count": null,
   "metadata": {
    "collapsed": false,
    "deletable": true,
    "editable": true
   },
   "outputs": [],
   "source": [
    "## Insert your code here."
   ]
  },
  {
   "cell_type": "markdown",
   "metadata": {
    "deletable": true,
    "editable": true
   },
   "source": [
    "Plot the error as a function of the number of iterations."
   ]
  },
  {
   "cell_type": "code",
   "execution_count": null,
   "metadata": {
    "collapsed": false,
    "deletable": true,
    "editable": true
   },
   "outputs": [],
   "source": [
    "plot(err, type=\"b\", col=\"blue\", xlab = \"Iteration\", ylab = \"SNR\")"
   ]
  },
  {
   "cell_type": "markdown",
   "metadata": {
    "deletable": true,
    "editable": true
   },
   "source": [
    "Mesh Denoising with Linear Heat Diffusion\n",
    "-----------------------------------------\n",
    "Iterative filtering is closely related to the heat diffusion. The heat\n",
    "diffusion is a linear partial differential equation (PDE) that compute a continuous denoising result for\n",
    "arbitrary time $t$. It is thus more precise than simple iterative\n",
    "filterings.\n",
    "\n",
    "\n",
    "This PDE defines a function $f_t \\in \\RR^n$ parameterized by the time\n",
    "$t>0$ as\n",
    "$$ \\forall t>0, \\quad \\pd{f_t}{t} = -\\tilde L f_t\n",
    "      \\qandq f_0 = f, $$\n",
    "where $ \\tilde L $ is the symetric normaled Laplacian defined as\n",
    "$$ \\tilde L = D^{-1} L = \\text{Id}_n - \\tilde W. $$"
   ]
  },
  {
   "cell_type": "code",
   "execution_count": null,
   "metadata": {
    "collapsed": false,
    "deletable": true,
    "editable": true
   },
   "outputs": [],
   "source": [
    "tL = iD %*% L"
   ]
  },
  {
   "cell_type": "markdown",
   "metadata": {
    "deletable": true,
    "editable": true
   },
   "source": [
    "This PDE is applied to the three components of a 3-D mesh to define a\n",
    "surface evolution\n",
    "$$ \\forall t>0, \\quad \\pd{X_t}{t} = -X_t \\tilde L^*\n",
    "      \\qandq f_0 = f. $$\n",
    "\n",
    "\n",
    "One can approximate the solution to this PDE using explicit finite\n",
    "difference in time (Euler explicit scheme)\n",
    "$$ X^{(\\ell+1)} = X^{(\\ell)} -  \\tau X^{(\\ell)} \\tilde L^*\n",
    "      = (1-\\tau) X^{(\\ell)} + \\tau  X^{(\\ell)} \\tilde W^* $$\n",
    "where $0 < \\tau < 1$ is a (small enough) time step and $f^{(\\ell)}$ is\n",
    "intended to be an approximation of $X_t$ at time $t=\\tau \\ell$.\n",
    "The smaller $\\tau$, the better the approximation.\n",
    "\n",
    "\n",
    "One can see that with $\\tau=1$, one recovers the iterative filtering\n",
    "method.\n",
    "\n",
    "\n",
    "Time step $\\tau$."
   ]
  },
  {
   "cell_type": "code",
   "execution_count": null,
   "metadata": {
    "collapsed": false,
    "deletable": true,
    "editable": true
   },
   "outputs": [],
   "source": [
    "tau = .2"
   ]
  },
  {
   "cell_type": "markdown",
   "metadata": {
    "deletable": true,
    "editable": true
   },
   "source": [
    "Maximum time of resolution."
   ]
  },
  {
   "cell_type": "code",
   "execution_count": null,
   "metadata": {
    "collapsed": false,
    "deletable": true,
    "editable": true
   },
   "outputs": [],
   "source": [
    "Tmax = 40"
   ]
  },
  {
   "cell_type": "markdown",
   "metadata": {
    "deletable": true,
    "editable": true
   },
   "source": [
    "Number of iterations needed to reach this time."
   ]
  },
  {
   "cell_type": "code",
   "execution_count": null,
   "metadata": {
    "collapsed": false,
    "deletable": true,
    "editable": true
   },
   "outputs": [],
   "source": [
    "niter = as.integer(ceiling(Tmax/tau))"
   ]
  },
  {
   "cell_type": "markdown",
   "metadata": {
    "deletable": true,
    "editable": true
   },
   "source": [
    "Initial solution at time $t=0$."
   ]
  },
  {
   "cell_type": "code",
   "execution_count": null,
   "metadata": {
    "collapsed": false,
    "deletable": true,
    "editable": true
   },
   "outputs": [],
   "source": [
    "Xt = X"
   ]
  },
  {
   "cell_type": "markdown",
   "metadata": {
    "deletable": true,
    "editable": true
   },
   "source": [
    "We use an explicit discretization in time of the PDE. Here is one\n",
    "iteration."
   ]
  },
  {
   "cell_type": "code",
   "execution_count": null,
   "metadata": {
    "collapsed": false,
    "deletable": true,
    "editable": true
   },
   "outputs": [],
   "source": [
    "Xt = Xt - tau*t(tL %*% t(Xt))"
   ]
  },
  {
   "cell_type": "markdown",
   "metadata": {
    "deletable": true,
    "editable": true
   },
   "source": [
    "__Exercise 3__\n",
    "\n",
    "Compute the linear heat diffusion.\n",
    "Monitor the denoising\n",
    "SNR $err(l)$ between $X_t$ and $X_0$ at iteration index $l$."
   ]
  },
  {
   "cell_type": "code",
   "execution_count": null,
   "metadata": {
    "collapsed": false,
    "deletable": true,
    "editable": true
   },
   "outputs": [],
   "source": [
    "## Insert your code here."
   ]
  },
  {
   "cell_type": "markdown",
   "metadata": {
    "deletable": true,
    "editable": true
   },
   "source": [
    "Plot the error as a function of time."
   ]
  },
  {
   "cell_type": "code",
   "execution_count": null,
   "metadata": {
    "collapsed": false,
    "deletable": true,
    "editable": true
   },
   "outputs": [],
   "source": [
    "plot(t, err, type=\"b\", col=\"blue\", xlab = \"Time\", ylab = \"SNR\")"
   ]
  },
  {
   "cell_type": "markdown",
   "metadata": {
    "deletable": true,
    "editable": true
   },
   "source": [
    "Mesh Denoising with Sobolev Regularization\n",
    "------------------------------------------\n",
    "Instead of solving an evolution PDE, it is possible to do denoising by\n",
    "solving a quadratic regularization.\n",
    "\n",
    "\n",
    "Denoting $G \\in \\RR^{p_0 \\times n}$ the gradient operator, the Soboleb\n",
    "norm of a signal $f \\in \\RR^n$ is defined as\n",
    "$$ J(f) = \\norm{G f}^2 = \\dotp{L f}{f}. $$\n",
    "It is extended to mesh poisition $X \\in \\RR^{3 \\times n}$ as\n",
    "$$ J(X) = \\norm{X G^*}^2 = \\dotp{X L}{X}, $$\n",
    "(remeber that $L$ is symmetric).\n",
    "\n",
    "\n",
    "\n",
    "Denoising of a noisy set of vertices $X$ is then defined as the solution of a quadratic minimization\n",
    "$$ X_\\mu = \\uargmin{Z \\in \\RR^{3 \\times n}} \\norm{Z-X}^2  + \\mu J(Z)^2. $$\n",
    "Here $\\mu \\geq 0$ controls the amount of denoising, and should be\n",
    "proportional to the noise level.\n",
    "\n",
    "\n",
    "The solution to this problem is obtained by solving the following\n",
    "symmetric linear system\n",
    "$$ X_\\mu^* = (\\text{Id}_n + \\mu L )^{-1} X^* $$\n",
    "(remember that the mesh vertex position are stored as rows, hence the transposed).\n",
    "\n",
    "\n",
    "We select a penalization weight $\\mu$. The larger, the smoother the result will\n",
    "be (more denoising)."
   ]
  },
  {
   "cell_type": "code",
   "execution_count": null,
   "metadata": {
    "collapsed": false,
    "deletable": true,
    "editable": true
   },
   "outputs": [],
   "source": [
    "mu <- 10"
   ]
  },
  {
   "cell_type": "markdown",
   "metadata": {
    "deletable": true,
    "editable": true
   },
   "source": [
    "We set up the matrix of the system.\n",
    "It is important to use sparse matrix to have fast resolution scheme."
   ]
  },
  {
   "cell_type": "code",
   "execution_count": null,
   "metadata": {
    "collapsed": true,
    "deletable": true,
    "editable": true
   },
   "outputs": [],
   "source": [
    "A = sparseDiagonal(x=1, n) + mu * L"
   ]
  },
  {
   "cell_type": "markdown",
   "metadata": {
    "deletable": true,
    "editable": true
   },
   "source": [
    "We solve the system for each coordinate of the mesh.\n",
    "Since the matrix is highly sparse, it is very interesting\n",
    "to use an iterative method to solve the system, so here\n",
    "we use a conjugate gradient descent (function cg from sparse.linalg)."
   ]
  },
  {
   "cell_type": "code",
   "execution_count": null,
   "metadata": {
    "collapsed": true,
    "deletable": true,
    "editable": true
   },
   "outputs": [],
   "source": [
    "library(pcg)\n",
    "\n",
    "Xmu = X\n",
    "for (i in (1:3)){\n",
    "    b = X[i,]\n",
    "    Xmu[i,] = t(pcg(as.matrix(A),b))\n",
    "}"
   ]
  },
  {
   "cell_type": "markdown",
   "metadata": {
    "deletable": true,
    "editable": true
   },
   "source": [
    "Display the result."
   ]
  },
  {
   "cell_type": "code",
   "execution_count": null,
   "metadata": {
    "collapsed": false,
    "deletable": true,
    "editable": true
   },
   "outputs": [],
   "source": [
    "plot_mesh(Xmu, F)"
   ]
  },
  {
   "cell_type": "markdown",
   "metadata": {
    "deletable": true,
    "editable": true
   },
   "source": [
    "__Exercise 4__\n",
    "\n",
    "Solve this problem for various $\\mu$ on a 3D mesh.\n",
    "Draw the evolution of the SNR denoising error as a function of $\\mu$."
   ]
  },
  {
   "cell_type": "code",
   "execution_count": null,
   "metadata": {
    "collapsed": false,
    "deletable": true,
    "editable": true
   },
   "outputs": [],
   "source": [
    "## Insert your code here."
   ]
  }
 ],
 "metadata": {
  "anaconda-cloud": {},
  "kernelspec": {
   "display_name": "R",
   "language": "R",
   "name": "ir"
  },
  "language_info": {
   "codemirror_mode": "r",
   "file_extension": ".r",
   "mimetype": "text/x-r-source",
   "name": "R",
   "pygments_lexer": "r",
   "version": "3.4.2"
  }
 },
 "nbformat": 4,
 "nbformat_minor": 0
}
