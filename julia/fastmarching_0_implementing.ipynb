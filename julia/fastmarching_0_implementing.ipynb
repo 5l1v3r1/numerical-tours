{
 "cells": [
  {
   "cell_type": "markdown",
   "metadata": {},
   "source": [
    "Dijkstra and Fast Marching Algorithms\n",
    "=====================================\n",
    "$\\newcommand{\\dotp}[2]{\\langle #1, #2 \\rangle}$\n",
    "$\\newcommand{\\enscond}[2]{\\lbrace #1, #2 \\rbrace}$\n",
    "$\\newcommand{\\pd}[2]{ \\frac{ \\partial #1}{\\partial #2} }$\n",
    "$\\newcommand{\\umin}[1]{\\underset{#1}{\\min}\\;}$\n",
    "$\\newcommand{\\umax}[1]{\\underset{#1}{\\max}\\;}$\n",
    "$\\newcommand{\\umin}[1]{\\underset{#1}{\\min}\\;}$\n",
    "$\\newcommand{\\uargmin}[1]{\\underset{#1}{argmin}\\;}$\n",
    "$\\newcommand{\\norm}[1]{\\|#1\\|}$\n",
    "$\\newcommand{\\abs}[1]{\\left|#1\\right|}$\n",
    "$\\newcommand{\\choice}[1]{ \\left\\{  \\begin{array}{l} #1 \\end{array} \\right. }$\n",
    "$\\newcommand{\\pa}[1]{\\left(#1\\right)}$\n",
    "$\\newcommand{\\diag}[1]{{diag}\\left( #1 \\right)}$\n",
    "$\\newcommand{\\qandq}{\\quad\\text{and}\\quad}$\n",
    "$\\newcommand{\\qwhereq}{\\quad\\text{where}\\quad}$\n",
    "$\\newcommand{\\qifq}{ \\quad \\text{if} \\quad }$\n",
    "$\\newcommand{\\qarrq}{ \\quad \\Longrightarrow \\quad }$\n",
    "$\\newcommand{\\ZZ}{\\mathbb{Z}}$\n",
    "$\\newcommand{\\CC}{\\mathbb{C}}$\n",
    "$\\newcommand{\\RR}{\\mathbb{R}}$\n",
    "$\\newcommand{\\EE}{\\mathbb{E}}$\n",
    "$\\newcommand{\\Zz}{\\mathcal{Z}}$\n",
    "$\\newcommand{\\Ww}{\\mathcal{W}}$\n",
    "$\\newcommand{\\Vv}{\\mathcal{V}}$\n",
    "$\\newcommand{\\Nn}{\\mathcal{N}}$\n",
    "$\\newcommand{\\NN}{\\mathcal{N}}$\n",
    "$\\newcommand{\\Hh}{\\mathcal{H}}$\n",
    "$\\newcommand{\\Bb}{\\mathcal{B}}$\n",
    "$\\newcommand{\\Ee}{\\mathcal{E}}$\n",
    "$\\newcommand{\\Cc}{\\mathcal{C}}$\n",
    "$\\newcommand{\\Gg}{\\mathcal{G}}$\n",
    "$\\newcommand{\\Ss}{\\mathcal{S}}$\n",
    "$\\newcommand{\\Pp}{\\mathcal{P}}$\n",
    "$\\newcommand{\\Ff}{\\mathcal{F}}$\n",
    "$\\newcommand{\\Xx}{\\mathcal{X}}$\n",
    "$\\newcommand{\\Mm}{\\mathcal{M}}$\n",
    "$\\newcommand{\\Ii}{\\mathcal{I}}$\n",
    "$\\newcommand{\\Dd}{\\mathcal{D}}$\n",
    "$\\newcommand{\\Ll}{\\mathcal{L}}$\n",
    "$\\newcommand{\\Tt}{\\mathcal{T}}$\n",
    "$\\newcommand{\\si}{\\sigma}$\n",
    "$\\newcommand{\\al}{\\alpha}$\n",
    "$\\newcommand{\\la}{\\lambda}$\n",
    "$\\newcommand{\\ga}{\\gamma}$\n",
    "$\\newcommand{\\Ga}{\\Gamma}$\n",
    "$\\newcommand{\\La}{\\Lambda}$\n",
    "$\\newcommand{\\si}{\\sigma}$\n",
    "$\\newcommand{\\Si}{\\Sigma}$\n",
    "$\\newcommand{\\be}{\\beta}$\n",
    "$\\newcommand{\\de}{\\delta}$\n",
    "$\\newcommand{\\De}{\\Delta}$\n",
    "$\\newcommand{\\phi}{\\varphi}$\n",
    "$\\newcommand{\\th}{\\theta}$\n",
    "$\\newcommand{\\om}{\\omega}$\n",
    "$\\newcommand{\\Om}{\\Omega}$\n"
   ]
  },
  {
   "cell_type": "markdown",
   "metadata": {},
   "source": [
    "This numerical tours details the implementations\n",
    "of Dijkstra and Fast Marching algorithms in 2-D.\n",
    "\n",
    "\n",
    "The implementation are performed in Matlab, and are hence quite slow."
   ]
  },
  {
   "cell_type": "code",
   "execution_count": 1,
   "metadata": {},
   "outputs": [
    {
     "name": "stderr",
     "output_type": "stream",
     "text": [
      "WARNING: Method definition ndgrid(AbstractArray{T<:Any, 1}) in module NtToolBox at /Users/quentin/.julia/v0.5/NtToolBox/src/ndgrid.jl:3 overwritten at /Users/quentin/.julia/v0.5/NtToolBox/src/ndgrid.jl:3.\n",
      "WARNING: Method definition ndgrid(AbstractArray{#T<:Any, 1}, AbstractArray{#T<:Any, 1}) in module NtToolBox at /Users/quentin/.julia/v0.5/NtToolBox/src/ndgrid.jl:6 overwritten at /Users/quentin/.julia/v0.5/NtToolBox/src/ndgrid.jl:6.\n",
      "WARNING: Method definition ndgrid_fill(Any, Any, Any, Any) in module NtToolBox at /Users/quentin/.julia/v0.5/NtToolBox/src/ndgrid.jl:13 overwritten at /Users/quentin/.julia/v0.5/NtToolBox/src/ndgrid.jl:13.\n",
      "WARNING: Method definition ndgrid(AbstractArray{#T<:Any, 1}...) in module NtToolBox at /Users/quentin/.julia/v0.5/NtToolBox/src/ndgrid.jl:19 overwritten at /Users/quentin/.julia/v0.5/NtToolBox/src/ndgrid.jl:19.\n",
      "WARNING: Method definition meshgrid(AbstractArray{T<:Any, 1}) in module NtToolBox at /Users/quentin/.julia/v0.5/NtToolBox/src/ndgrid.jl:33 overwritten at /Users/quentin/.julia/v0.5/NtToolBox/src/ndgrid.jl:33.\n",
      "WARNING: Method definition meshgrid(AbstractArray{#T<:Any, 1}, AbstractArray{#T<:Any, 1}) in module NtToolBox at /Users/quentin/.julia/v0.5/NtToolBox/src/ndgrid.jl:36 overwritten at /Users/quentin/.julia/v0.5/NtToolBox/src/ndgrid.jl:36.\n",
      "WARNING: Method definition meshgrid(AbstractArray{#T<:Any, 1}, AbstractArray{#T<:Any, 1}, AbstractArray{#T<:Any, 1}) in module NtToolBox at /Users/quentin/.julia/v0.5/NtToolBox/src/ndgrid.jl:44 overwritten at /Users/quentin/.julia/v0.5/NtToolBox/src/ndgrid.jl:44.\n"
     ]
    }
   ],
   "source": [
    "using PyPlot\n",
    "using NtToolBox"
   ]
  },
  {
   "cell_type": "markdown",
   "metadata": {},
   "source": [
    "Installation\n",
    "------------\n",
    "*Important:* Please read the [installation page](http://gpeyre.github.io/numerical-tours/installation_python/) for details about how to install the toolboxes."
   ]
  },
  {
   "cell_type": "markdown",
   "metadata": {},
   "source": [
    "Navigating on the Grid\n",
    "----------------------\n",
    "We use a cartesian grid of size $n \\times n$, and defines operators to navigate in the grid.\n",
    "\n",
    "\n",
    "We use a singe index $i \\in \\{1,\\ldots,n^2\\}$ to index a position on\n",
    "the 2-D grid.\n",
    "\n",
    "\n",
    "Size of the grid."
   ]
  },
  {
   "cell_type": "code",
   "execution_count": 2,
   "metadata": {},
   "outputs": [],
   "source": [
    "n = 40;"
   ]
  },
  {
   "cell_type": "markdown",
   "metadata": {},
   "source": [
    "The four displacement vector to go to the four neightbors."
   ]
  },
  {
   "cell_type": "code",
   "execution_count": 3,
   "metadata": {},
   "outputs": [],
   "source": [
    "neigh = [1 -1 0 0; 0 0  1 -1];"
   ]
  },
  {
   "cell_type": "markdown",
   "metadata": {},
   "source": [
    "For simplicity of implementation, we use periodic boundary conditions."
   ]
  },
  {
   "cell_type": "code",
   "execution_count": 4,
   "metadata": {},
   "outputs": [
    {
     "data": {
      "text/plain": [
       "(::#1) (generic function with 1 method)"
      ]
     },
     "execution_count": 4,
     "metadata": {},
     "output_type": "execute_result"
    }
   ],
   "source": [
    "boundary = x -> mod(x-1,n)+1"
   ]
  },
  {
   "cell_type": "markdown",
   "metadata": {},
   "source": [
    "For a given grid index |k|, and a given neighboring index k in ${1,2,3,4}$,\n",
    "|Neigh(k,i)| gives the corresponding grid neighboring index."
   ]
  },
  {
   "cell_type": "code",
   "execution_count": 5,
   "metadata": {},
   "outputs": [],
   "source": [
    "ind2sub1 = k -> Int.([rem(k-1, n)+1; (k - rem(k-1, n) - 1)/n + 1])\n",
    "sub2ind1 = u -> Int((u[2]-1)*n + u[1])\n",
    "Neigh = (k,i) -> sub2ind1(boundary(ind2sub1(k) + neigh[:,i]));"
   ]
  },
  {
   "cell_type": "markdown",
   "metadata": {},
   "source": [
    "Check that these functions are indeed bijections."
   ]
  },
  {
   "cell_type": "code",
   "execution_count": 6,
   "metadata": {},
   "outputs": [
    {
     "name": "stdout",
     "output_type": "stream",
     "text": [
      "[13,27]\n",
      "134\n"
     ]
    }
   ],
   "source": [
    "println( ind2sub1( sub2ind1([13, 27]) ) )\n",
    "println( sub2ind1( ind2sub1(134) ) )"
   ]
  },
  {
   "cell_type": "markdown",
   "metadata": {},
   "source": [
    "Dikstra Algorithm\n",
    "-----------------\n",
    "The Dijkstra algorithm compute the geodesic distance on a graph.\n",
    "We use here a graph whose nodes are the pixels, and whose edges defines the\n",
    "usual 4-connectity relationship.\n",
    "\n",
    "\n",
    "In the following, we use the notation $i \\sim j$ to indicate that an\n",
    "index $j$ is a neighbor of $i$ on the graph defined by the discrete\n",
    "grid.\n",
    "\n",
    "\n",
    "The metric $W(x)$. We use here a constant metric."
   ]
  },
  {
   "cell_type": "code",
   "execution_count": 7,
   "metadata": {},
   "outputs": [],
   "source": [
    "W = ones( (n,n) );"
   ]
  },
  {
   "cell_type": "markdown",
   "metadata": {},
   "source": [
    "Set $\\Ss = \\{x_0\\}$ of initial points."
   ]
  },
  {
   "cell_type": "code",
   "execution_count": 8,
   "metadata": {},
   "outputs": [],
   "source": [
    "x0 = [Base.div(n,2), Base.div(n,2)];"
   ]
  },
  {
   "cell_type": "markdown",
   "metadata": {},
   "source": [
    "Initialize the stack of available indexes."
   ]
  },
  {
   "cell_type": "code",
   "execution_count": 9,
   "metadata": {},
   "outputs": [],
   "source": [
    "I = [sub2ind1(x0)];"
   ]
  },
  {
   "cell_type": "markdown",
   "metadata": {},
   "source": [
    "Initialize the distance to $+\\infty$, excepted for the boundary conditions."
   ]
  },
  {
   "cell_type": "code",
   "execution_count": 10,
   "metadata": {},
   "outputs": [],
   "source": [
    "D = ones( n,n ) + Inf\n",
    "u = ind2sub1(I)\n",
    "D[u[1],u[2]] = 0;"
   ]
  },
  {
   "cell_type": "markdown",
   "metadata": {},
   "source": [
    "Initialize the state to 0 (unexplored), excepted for the boundary point $\\Ss$ (indexed by |I|)\n",
    "to $1$ (front)."
   ]
  },
  {
   "cell_type": "code",
   "execution_count": 11,
   "metadata": {},
   "outputs": [],
   "source": [
    "S = zeros(n,n)\n",
    "S[u[1],u[2]] = 1;"
   ]
  },
  {
   "cell_type": "markdown",
   "metadata": {},
   "source": [
    "Define a callbabk to use a 1-D indexing on a 2-D array."
   ]
  },
  {
   "cell_type": "code",
   "execution_count": 12,
   "metadata": {},
   "outputs": [],
   "source": [
    "extract   = (x,I) -> x[I]\n",
    "extract1d = (x,I) -> extract(vec(x),I);"
   ]
  },
  {
   "cell_type": "markdown",
   "metadata": {},
   "source": [
    "The first step of each iteration of the method is\n",
    "to pop the from stack the element $i$ with smallest current distance $D_i$."
   ]
  },
  {
   "cell_type": "code",
   "execution_count": 13,
   "metadata": {},
   "outputs": [],
   "source": [
    "j = sortperm( extract1d(D,I)  )\n",
    "if ndims(j)==0\n",
    "    j = [j]   # make sure that j is a list a not a singleton\n",
    "end\n",
    "j = j[1]\n",
    "i = I[j]         \n",
    "a = deleteat!(I,j);"
   ]
  },
  {
   "cell_type": "markdown",
   "metadata": {},
   "source": [
    "We update its state $S$ to be dead (-1)."
   ]
  },
  {
   "cell_type": "code",
   "execution_count": 14,
   "metadata": {},
   "outputs": [],
   "source": [
    "u = ind2sub1(i);\n",
    "S[u[1],u[2]] = -1;"
   ]
  },
  {
   "cell_type": "markdown",
   "metadata": {},
   "source": [
    "Retrieve the list of the neighbors that are not dead and add to I those that are not yet in it."
   ]
  },
  {
   "cell_type": "code",
   "execution_count": 15,
   "metadata": {},
   "outputs": [],
   "source": [
    "J = [] \n",
    "for k in 1:4\n",
    "    j = Neigh(i,k)\n",
    "    if extract1d(S,j)!= -1\n",
    "        # add to the list of point to update\n",
    "        append!(J,j)           \n",
    "        if extract1d(S,j)==0\n",
    "            # add to the front\n",
    "            u = ind2sub1(j)\n",
    "            S[u[1],u[2]] = 1\n",
    "            append!(I,j)\n",
    "        end\n",
    "    end\n",
    "end"
   ]
  },
  {
   "cell_type": "code",
   "execution_count": 16,
   "metadata": {},
   "outputs": [
    {
     "data": {
      "image/png": "[encoded data removed]",
      "text/plain": [
       "PyPlot.Figure(PyObject <matplotlib.figure.Figure object at 0x31190eb90>)"
      ]
     },
     "metadata": {},
     "output_type": "display_data"
    }
   ],
   "source": [
    "imageplot(S)"
   ]
  },
  {
   "cell_type": "markdown",
   "metadata": {},
   "source": [
    "Update neighbor values.\n",
    "For each neightbo $j$ of $i$, perform the update,\n",
    "assuming the length of the edge between $j$ and $k$ is $W_j$.\n",
    "$$ D_j \\leftarrow \\umin{k \\sim j} D_k + W_j. $$"
   ]
  },
  {
   "cell_type": "code",
   "execution_count": 17,
   "metadata": {},
   "outputs": [],
   "source": [
    "DNeigh = (D,k) -> extract1d(D,Neigh(j,k))\n",
    "dx = 0; dy = 0; w = 0\n",
    "for j in J\n",
    "    dx = min(DNeigh(D,1), DNeigh(D,2))\n",
    "    dy = min(DNeigh(D,3), DNeigh(D,4))\n",
    "    u = ind2sub1(j)\n",
    "    w = extract1d(W,j);\n",
    "    D[u[1],u[2]] = min(dx + w, dy + w)\n",
    "end"
   ]
  },
  {
   "cell_type": "markdown",
   "metadata": {},
   "source": [
    "__Exercise 1__\n",
    "\n",
    "Implement the Dijkstra algorithm by iterating these step while the\n",
    "stack |I| is non empty.\n",
    "Display from time to time the front that propagates."
   ]
  },
  {
   "cell_type": "code",
   "execution_count": 18,
   "metadata": {},
   "outputs": [
    {
     "data": {
      "image/png": "[encoded data removed]",
      "text/plain": [
       "PyPlot.Figure(PyObject <matplotlib.figure.Figure object at 0x318d40810>)"
      ]
     },
     "metadata": {},
     "output_type": "display_data"
    }
   ],
   "source": [
    "include(\"NtSolutions/fastmarching_0_implementing/exo1.jl\")"
   ]
  },
  {
   "cell_type": "code",
   "execution_count": 19,
   "metadata": {},
   "outputs": [],
   "source": [
    "## Insert your code here."
   ]
  },
  {
   "cell_type": "markdown",
   "metadata": {},
   "source": [
    "Display the geodesic distance map using a cosine modulation to make the\n",
    "level set appears more clearly."
   ]
  },
  {
   "cell_type": "code",
   "execution_count": 20,
   "metadata": {},
   "outputs": [
    {
     "data": {
      "image/png": "[encoded data removed]",
      "text/plain": [
       "PyPlot.Figure(PyObject <matplotlib.figure.Figure object at 0x31925bf50>)"
      ]
     },
     "metadata": {},
     "output_type": "display_data"
    }
   ],
   "source": [
    "displ = D -> cos(2*pi*5*D/maximum(D) )\n",
    "imageplot(displ(D))\n",
    "set_cmap(\"jet\")"
   ]
  },
  {
   "cell_type": "markdown",
   "metadata": {},
   "source": [
    "Fast Marching\n",
    "-------------\n",
    "The Dijstra algorithm suffers from a strong metrization problem, and it\n",
    "actually computes the $\\ell^1$ distance on the grid.\n",
    "\n",
    "\n",
    "The Fast Marching algorithm replace the graph update by a local\n",
    "resolution of the Eikonal equation. This reduces significantly the grid\n",
    "bias, and can be shown to converge to the underlying geodesic distance\n",
    "when the grid step size tends to zero.\n",
    "\n",
    "\n",
    "Over a continuous domain, the distance map $D(x)$ to a set of seed\n",
    "points $ \\Ss $ is the unique solution in the viscosity sense\n",
    "$$ \\forall x \\notin \\Ss, \\quad \\norm{\\nabla D(x)} = W(x)\n",
    "      \\qandq\n",
    "    \\forall y \\in \\Ss, \\quad D(y) = 0. $$\n",
    "\n",
    "\n",
    "The equation is then discretized on a grid of $n \\times n$ pixel, and a\n",
    "solution $ (D_{k,\\ell})_{k,\\ell=1}^n \\in \\RR^{n \\times n} $ is found by using\n",
    "an upwind finite difference approximation, that is faithful to the\n",
    "viscosity solution\n",
    "$$ \\forall (k,\\ell) \\notin \\tilde \\Ss,  \\quad\n",
    "     \\norm{ (\\nabla D)_{k,\\ell} } = W_{k,\\ell}$\n",
    "  \\qandq\n",
    "  \\forall (k,\\ell) \\notin \\tilde \\Ss, \\quad D_{k,\\ell}=0,\n",
    "$$\n",
    "where $\\tilde \\Ss$ is the set of discrete starting points (defined here\n",
    "by |x0|).\n",
    "\n",
    "\n",
    "To be consisten with the viscosity solution, one needs to use a\n",
    "non-linear upwind gradient derivative. This corresponds to computing\n",
    "the norm of the gradient as\n",
    "$$ \\norm{ (\\nabla D)_{k,\\ell} }^2 =\n",
    "      \\max( D_{k+1,\\ell}-D_{k,\\ell}, D_{k-1,\\ell}-D_{k,\\ell}, 0 )^2 +\n",
    "      \\max( D_{k,\\ell+1}-D_{k,\\ell}, D_{k,\\ell-1}-D_{k,\\ell}, 0 )^2.\n",
    "$$\n",
    "\n",
    "\n",
    "A each step of the FM propagation, one update $ D_{k,\\ell} \\leftarrow d $\n",
    "by solving the eikonal equation with respect to $D_{k,\\ell}$ alone.\n",
    "This is equivalent to solving the quadratic equation\n",
    "$$ (d-d_x)^2 + (d-d_y)^2 = w^2 \\qwhereq w=W_{k,\\ell}. $$\n",
    "and where\n",
    "$$ d_x = \\min(D_{k+1,\\ell},D_{k-1,\\ell}) \\qandq\n",
    "   d_y = \\min(D_{k,\\ell+1},D_{k,\\ell-1}). $$\n",
    "\n",
    "\n",
    "The update is thus defined as\n",
    "$$\n",
    "      d = \\choice{\n",
    "          \\frac{d_x+d_y+ \\sqrt{\\De}}{2} \\quad\\text{when}\\quad \\De \\geq 0, \\\\\n",
    "          \\min(d_x,d_y)+w \\quad \\text{otherwise.}$\n",
    "      }$\n",
    "      \\qwhereq\n",
    "      \\De = 2 w^2 - (d_x-d_y)^2.\n",
    "$$\n",
    "\n",
    "\n",
    "Note that in the case where $\\De<0$, one has to use the Dijkstra\n",
    "update.\n",
    "\n",
    "\n",
    "Once the Dijstra algorithm is implemented, the implementation of the Fast\n",
    "Marching is trivial. It just corresponds to replacing the graph udpate"
   ]
  },
  {
   "cell_type": "code",
   "execution_count": 21,
   "metadata": {},
   "outputs": [],
   "source": [
    "D[u[1],u[2]] = min(dx + w, dy + w);"
   ]
  },
  {
   "cell_type": "markdown",
   "metadata": {},
   "source": [
    "by the eikonal update."
   ]
  },
  {
   "cell_type": "code",
   "execution_count": 22,
   "metadata": {},
   "outputs": [],
   "source": [
    "Delta = 2*w - (dx-dy)^2\n",
    "if (Delta>=0)\n",
    "    D[u[1],u[2]] = (dx + dy + sqrt(Delta))/ 2\n",
    "else\n",
    "    D[u[1],u[2]] = min(dx + w, dy + w)\n",
    "    end;"
   ]
  },
  {
   "cell_type": "markdown",
   "metadata": {},
   "source": [
    "__Exercise 2__\n",
    "\n",
    "Implement the Fast Marching algorithm.\n",
    "Display from time to time the front that propagates."
   ]
  },
  {
   "cell_type": "code",
   "execution_count": 23,
   "metadata": {},
   "outputs": [
    {
     "data": {
      "image/png": "[encoded data removed]",
      "text/plain": [
       "PyPlot.Figure(PyObject <matplotlib.figure.Figure object at 0x319220f90>)"
      ]
     },
     "metadata": {},
     "output_type": "display_data"
    }
   ],
   "source": [
    "include(\"NtSolutions/fastmarching_0_implementing/exo2.jl\")"
   ]
  },
  {
   "cell_type": "code",
   "execution_count": 24,
   "metadata": {},
   "outputs": [],
   "source": [
    "## Insert your code here."
   ]
  },
  {
   "cell_type": "markdown",
   "metadata": {},
   "source": [
    "Display the geodesic distance map using a cosine modulation to make the\n",
    "level set appears more clearly."
   ]
  },
  {
   "cell_type": "code",
   "execution_count": 25,
   "metadata": {},
   "outputs": [
    {
     "data": {
      "image/png": "[encoded data removed]",
      "text/plain": [
       "PyPlot.Figure(PyObject <matplotlib.figure.Figure object at 0x31dbdf550>)"
      ]
     },
     "metadata": {},
     "output_type": "display_data"
    }
   ],
   "source": [
    "imageplot(displ(D))\n",
    "set_cmap(\"jet\")"
   ]
  },
  {
   "cell_type": "markdown",
   "metadata": {},
   "source": [
    "Computation of Geodesic Paths\n",
    "-----------------------------\n",
    "We use a more complicated, non-constant metric, with a bump in the\n",
    "middle."
   ]
  },
  {
   "cell_type": "code",
   "execution_count": 26,
   "metadata": {},
   "outputs": [],
   "source": [
    "n = 100\n",
    "x = collect(linspace(-1, 1, n))\n",
    "(Y, X) = meshgrid(x, x)\n",
    "sigma = .2\n",
    "W = 1 + 8 * exp(-(X.^2 + Y.^2) / (2*sigma^2));"
   ]
  },
  {
   "cell_type": "markdown",
   "metadata": {},
   "source": [
    "Display it."
   ]
  },
  {
   "cell_type": "code",
   "execution_count": 27,
   "metadata": {},
   "outputs": [
    {
     "data": {
      "image/png": "[encoded data removed]",
      "text/plain": [
       "PyPlot.Figure(PyObject <matplotlib.figure.Figure object at 0x31dd46d90>)"
      ]
     },
     "metadata": {},
     "output_type": "display_data"
    }
   ],
   "source": [
    "imageplot(W)"
   ]
  },
  {
   "cell_type": "markdown",
   "metadata": {},
   "source": [
    "Starting points."
   ]
  },
  {
   "cell_type": "code",
   "execution_count": 28,
   "metadata": {},
   "outputs": [],
   "source": [
    "x0 = Int.([round(.1*n); round(.1*n)]);"
   ]
  },
  {
   "cell_type": "markdown",
   "metadata": {},
   "source": [
    "__Exercise 3:__ \n",
    "\n",
    "Compute the distance map to these starting point using the FM algorithm. _Important:_ use symetric boundary conditions."
   ]
  },
  {
   "cell_type": "code",
   "execution_count": 29,
   "metadata": {},
   "outputs": [
    {
     "data": {
      "image/png": "[encoded data removed]",
      "text/plain": [
       "PyPlot.Figure(PyObject <matplotlib.figure.Figure object at 0x319244610>)"
      ]
     },
     "metadata": {},
     "output_type": "display_data"
    }
   ],
   "source": [
    "include(\"NtSolutions/fastmarching_0_implementing/exo3.jl\")"
   ]
  },
  {
   "cell_type": "code",
   "execution_count": 30,
   "metadata": {},
   "outputs": [],
   "source": [
    "## Insert your code here."
   ]
  },
  {
   "cell_type": "markdown",
   "metadata": {},
   "source": [
    "Once the geodesic distance map to $\\Ss$\n",
    "has been computed, the geodesic curve between any point $x_1$ and $\\Ss$\n",
    "extracted through gradient descent\n",
    "$$ \\ga'(t) = - \\eta_t \\nabla D(\\ga(t)) \\qandq \\ga(0)=x_1 $$\n",
    "where $\\eta_t>0$ controls the parameterization speed of the resulting\n",
    "curve.\n",
    "\n",
    "\n",
    "To obtain unit speed parameterization, one can use $\\eta_t =\n",
    "\\norm{\\nabla D(\\ga(t))}^{-1}$ (one need to be careful when\n",
    "$\\ga$ approaches $\\Ss$ since $D$ is not smooth on $\\Ss$).\n",
    "\n",
    "\n",
    "Compute the gradient $G_0(x) = \\nabla D(x) \\in \\RR^2$ of the distance map.\n",
    "Use centered differences."
   ]
  },
  {
   "cell_type": "code",
   "execution_count": 31,
   "metadata": {},
   "outputs": [],
   "source": [
    "G0 = grad(D);"
   ]
  },
  {
   "cell_type": "markdown",
   "metadata": {},
   "source": [
    "Normalize the gradient to obtained $G(x) = G_0(x)/\\norm{G_0(x)}$, in order to have unit speed geodesic curve (parameterized\n",
    "by arc length)."
   ]
  },
  {
   "cell_type": "code",
   "execution_count": 32,
   "metadata": {},
   "outputs": [],
   "source": [
    "d = sqrt(sum(G0.^2, 3))\n",
    "U = zeros(n,n,2)\n",
    "U[:,:,1] = d\n",
    "U[:,:,2] = d\n",
    "G = G0 ./ U;"
   ]
  },
  {
   "cell_type": "markdown",
   "metadata": {},
   "source": [
    "The geodesic is then numerically computed using a discretized gradient\n",
    "descent, which defines a discret curve $ (\\ga_k)_k $ using\n",
    "$$ \\ga_{k+1} = \\ga_k - \\tau G(\\ga_k) $$\n",
    "where $\\ga_k \\in \\RR^2$ is an approximation of $\\ga(t)$ at time\n",
    "$t=k\\tau$, and the step size $\\tau>0$ should be small enough.\n",
    "\n",
    "\n",
    "Step size $\\tau$ for the gradient descent."
   ]
  },
  {
   "cell_type": "code",
   "execution_count": 33,
   "metadata": {},
   "outputs": [],
   "source": [
    "tau = .8;"
   ]
  },
  {
   "cell_type": "markdown",
   "metadata": {},
   "source": [
    "Initialize the path with the ending point."
   ]
  },
  {
   "cell_type": "code",
   "execution_count": 34,
   "metadata": {},
   "outputs": [],
   "source": [
    "x1 = Int(round(.9*n)) + im*Int(round(.88*n))\n",
    "gamma = [x1];"
   ]
  },
  {
   "cell_type": "markdown",
   "metadata": {},
   "source": [
    "Define a shortcut to interpolate $G$ at a 2-D points.\n",
    "_Warning:_ the |interp2| switches the role of the axis ..."
   ]
  },
  {
   "cell_type": "code",
   "execution_count": 35,
   "metadata": {},
   "outputs": [],
   "source": [
    "Geval = (G,x) -> bilinear_interpolate(G[:,:,1], imag(x), real(x) ) + im * bilinear_interpolate(G[:,:,2],imag(x), real(x));"
   ]
  },
  {
   "cell_type": "markdown",
   "metadata": {},
   "source": [
    "Compute the gradient at the last point in the path, using interpolation."
   ]
  },
  {
   "cell_type": "markdown",
   "metadata": {},
   "source": [
    "Perform the descent and add the new point to the path."
   ]
  },
  {
   "cell_type": "code",
   "execution_count": 36,
   "metadata": {},
   "outputs": [
    {
     "data": {
      "text/plain": [
       "1×1 Array{Complex{Float64},2}:\n",
       " 0.32013+0.947373im"
      ]
     },
     "execution_count": 36,
     "metadata": {},
     "output_type": "execute_result"
    }
   ],
   "source": [
    "g = Geval(G, gamma[end] )"
   ]
  },
  {
   "cell_type": "code",
   "execution_count": 37,
   "metadata": {
    "collapsed": true
   },
   "outputs": [],
   "source": [
    "append!(float(gamma), gamma[end] - tau*g);"
   ]
  },
  {
   "cell_type": "markdown",
   "metadata": {},
   "source": [
    "__Exercise 4__\n",
    "\n",
    "Perform the full geodesic path extraction by iterating the gradient\n",
    "descent. You must be very careful when the path become close to\n",
    "$x_0$, because the distance function is not differentiable at this\n",
    "point. You must stop the iteration when the path is close to $x_0$."
   ]
  },
  {
   "cell_type": "code",
   "execution_count": 38,
   "metadata": {},
   "outputs": [],
   "source": [
    "include(\"NtSolutions/fastmarching_0_implementing/exo4.jl\");"
   ]
  },
  {
   "cell_type": "code",
   "execution_count": 39,
   "metadata": {},
   "outputs": [],
   "source": [
    "## Insert your code here."
   ]
  },
  {
   "cell_type": "markdown",
   "metadata": {},
   "source": [
    "Display the geodesic curve."
   ]
  },
  {
   "cell_type": "code",
   "execution_count": 40,
   "metadata": {},
   "outputs": [
    {
     "data": {
      "image/png": "[encoded data removed]",
      "text/plain": [
       "PyPlot.Figure(PyObject <matplotlib.figure.Figure object at 0x31f364950>)"
      ]
     },
     "metadata": {},
     "output_type": "display_data"
    }
   ],
   "source": [
    "imageplot(W) \n",
    "set_cmap(\"gray\")\n",
    "h = plot(imag(gamma), real(gamma), \".b\", linewidth=2)\n",
    "h = plot(x0[2], x0[1], \".r\", markersize=20)\n",
    "h = plot(imag(x1), real(x1), \".g\", markersize=20);"
   ]
  }
 ],
 "metadata": {
  "kernelspec": {
   "display_name": "Julia 0.5.0",
   "language": "julia",
   "name": "julia-0.5"
  },
  "language_info": {
   "file_extension": ".jl",
   "mimetype": "application/julia",
   "name": "julia",
   "version": "0.5.0"
  }
 },
 "nbformat": 4,
 "nbformat_minor": 1
}
