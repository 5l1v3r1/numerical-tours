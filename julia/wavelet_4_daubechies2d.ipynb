{
 "cells": [
  {
   "cell_type": "markdown",
   "metadata": {
    "deletable": true,
    "editable": true
   },
   "source": [
    "2-D Daubechies Wavelets\n",
    "=======================\n",
    "\n",
    "*Important:* Please read the [installation page](http://gpeyre.github.io/numerical-tours/installation_julia/) for details about how to install the toolboxes.\n",
    "$\\newcommand{\\dotp}[2]{\\langle #1, #2 \\rangle}$\n",
    "$\\newcommand{\\enscond}[2]{\\lbrace #1, #2 \\rbrace}$\n",
    "$\\newcommand{\\pd}[2]{ \\frac{ \\partial #1}{\\partial #2} }$\n",
    "$\\newcommand{\\umin}[1]{\\underset{#1}{\\min}\\;}$\n",
    "$\\newcommand{\\umax}[1]{\\underset{#1}{\\max}\\;}$\n",
    "$\\newcommand{\\umin}[1]{\\underset{#1}{\\min}\\;}$\n",
    "$\\newcommand{\\uargmin}[1]{\\underset{#1}{argmin}\\;}$\n",
    "$\\newcommand{\\norm}[1]{\\|#1\\|}$\n",
    "$\\newcommand{\\abs}[1]{\\left|#1\\right|}$\n",
    "$\\newcommand{\\choice}[1]{ \\left\\{  \\begin{array}{l} #1 \\end{array} \\right. }$\n",
    "$\\newcommand{\\pa}[1]{\\left(#1\\right)}$\n",
    "$\\newcommand{\\diag}[1]{{diag}\\left( #1 \\right)}$\n",
    "$\\newcommand{\\qandq}{\\quad\\text{and}\\quad}$\n",
    "$\\newcommand{\\qwhereq}{\\quad\\text{where}\\quad}$\n",
    "$\\newcommand{\\qifq}{ \\quad \\text{if} \\quad }$\n",
    "$\\newcommand{\\qarrq}{ \\quad \\Longrightarrow \\quad }$\n",
    "$\\newcommand{\\ZZ}{\\mathbb{Z}}$\n",
    "$\\newcommand{\\CC}{\\mathbb{C}}$\n",
    "$\\newcommand{\\RR}{\\mathbb{R}}$\n",
    "$\\newcommand{\\EE}{\\mathbb{E}}$\n",
    "$\\newcommand{\\Zz}{\\mathcal{Z}}$\n",
    "$\\newcommand{\\Ww}{\\mathcal{W}}$\n",
    "$\\newcommand{\\Vv}{\\mathcal{V}}$\n",
    "$\\newcommand{\\Nn}{\\mathcal{N}}$\n",
    "$\\newcommand{\\NN}{\\mathcal{N}}$\n",
    "$\\newcommand{\\Hh}{\\mathcal{H}}$\n",
    "$\\newcommand{\\Bb}{\\mathcal{B}}$\n",
    "$\\newcommand{\\Ee}{\\mathcal{E}}$\n",
    "$\\newcommand{\\Cc}{\\mathcal{C}}$\n",
    "$\\newcommand{\\Gg}{\\mathcal{G}}$\n",
    "$\\newcommand{\\Ss}{\\mathcal{S}}$\n",
    "$\\newcommand{\\Pp}{\\mathcal{P}}$\n",
    "$\\newcommand{\\Ff}{\\mathcal{F}}$\n",
    "$\\newcommand{\\Xx}{\\mathcal{X}}$\n",
    "$\\newcommand{\\Mm}{\\mathcal{M}}$\n",
    "$\\newcommand{\\Ii}{\\mathcal{I}}$\n",
    "$\\newcommand{\\Dd}{\\mathcal{D}}$\n",
    "$\\newcommand{\\Ll}{\\mathcal{L}}$\n",
    "$\\newcommand{\\Tt}{\\mathcal{T}}$\n",
    "$\\newcommand{\\si}{\\sigma}$\n",
    "$\\newcommand{\\al}{\\alpha}$\n",
    "$\\newcommand{\\la}{\\lambda}$\n",
    "$\\newcommand{\\ga}{\\gamma}$\n",
    "$\\newcommand{\\Ga}{\\Gamma}$\n",
    "$\\newcommand{\\La}{\\Lambda}$\n",
    "$\\newcommand{\\si}{\\sigma}$\n",
    "$\\newcommand{\\Si}{\\Sigma}$\n",
    "$\\newcommand{\\be}{\\beta}$\n",
    "$\\newcommand{\\de}{\\delta}$\n",
    "$\\newcommand{\\De}{\\Delta}$\n",
    "$\\newcommand{\\phi}{\\varphi}$\n",
    "$\\newcommand{\\th}{\\theta}$\n",
    "$\\newcommand{\\om}{\\omega}$\n",
    "$\\newcommand{\\Om}{\\Omega}$"
   ]
  },
  {
   "cell_type": "markdown",
   "metadata": {
    "deletable": true,
    "editable": true
   },
   "source": [
    "This numerical tour explores 2-D multiresolution analysis\n",
    "with Daubechies wavelet transform."
   ]
  },
  {
   "cell_type": "code",
   "execution_count": 46,
   "metadata": {
    "collapsed": false,
    "deletable": true,
    "editable": true
   },
   "outputs": [],
   "source": [
    "# using Autoreload\n",
    "# arequire(\"nt_toolbox/nt_signal.jl\")\n",
    "# arequire(\"nt_toolbox/nt_general.jl\")\n",
    "# using nt_signal\n",
    "# using nt_general\n",
    "using PyPlot\n",
    "using NtToolBox"
   ]
  },
  {
   "cell_type": "markdown",
   "metadata": {
    "deletable": true,
    "editable": true
   },
   "source": [
    "Wavelets Filters\n",
    "----------------\n",
    "The 2-D wavelet transform of a continuous image $f(x)$ computes the set\n",
    "of inner products\n",
    "$$ d_j^k[n] = \\dotp{f}{\\psi_{j,n}^k} $$\n",
    "for scales $ j \\in \\ZZ\n",
    "$, position $ n \\in \\ZZ^2 $ and orientation $ k \\in \\{H,V,D\\} $.\n",
    "\n",
    "\n",
    "The wavelet atoms are defined by scaling and translating three mother\n",
    "atoms $ \\{\\psi^H,\\psi^V,\\psi^D\\} $:\n",
    "$$ \\psi_{j,n}^k(x) = \\frac{1}{2^j}\\psi^k\\pa{\\frac{x-2^j n}{2^j}}  $$\n",
    "These oriented wavelets are defined by a tensor product of a 1-D wavelet\n",
    "function $\\psi(t)$ and a 1-D scaling function $\\phi(t)$\n",
    "$$ \\psi^H(x)=\\phi(x_1)\\psi(x_2), \\quad  \\psi^V(x)=\\psi(x_1)\\phi(x_2)\n",
    "\\qandq \\psi^D(x)=\\psi(x_1)\\psi(x_2).$$\n",
    "\n",
    "\n",
    "The fast wavelet transform algorithm does not make use of the wavelet and scaling functions,\n",
    "but of the filters $h$ and $g$ that caracterize their interaction:\n",
    "$$ g[n] = \\frac{1}{\\sqrt{2}}\\dotp{\\psi(t/2)}{\\phi(t-n)}\n",
    "\\qandq h[n] = \\frac{1}{\\sqrt{2}}\\dotp{\\phi(t/2)}{\\phi(t-n)}. $$\n",
    "\n",
    "\n",
    "The simplest filters are the Haar filters\n",
    "$$ h = [1, 1]/\\sqrt{2} \\qandq g = [-1, 1]/\\sqrt{2}. $$\n",
    "\n",
    "\n",
    "Daubechies wavelets extends the haar wavelets by using longer\n",
    "filters, that produce smoother scaling functions and wavelets.\n",
    "Furthermore, the larger the size $p=2k$ of the filter, the higher is the number\n",
    "$k$ of vanishing moment.\n",
    "\n",
    "\n",
    "A high number of vanishing moments allows to better compress regular\n",
    "parts of the signal. However, increasing the number of vanishing moments\n",
    "also inceases the size of the support of the wavelets, wich can be\n",
    "problematic in part where the signal is singular (for instance\n",
    "discontinuous).\n",
    "\n",
    "\n",
    "Choosing the _best_ wavelet, and thus choosing $k$, that is adapted to a\n",
    "given class of signals, thus corresponds to\n",
    "a tradeoff between efficiency in regular and singular parts.\n",
    "\n",
    "\n",
    "* The filter with $k=1$ vanishing moments corresponds to the Haar filter.\n",
    "* The filter with $k=2$ vanishing moments corresponds to the famous |D4| wavelet, which compresses perfectly linear signals.\n",
    "* The filter with $k=3$ vanishing moments compresses perfectly quadratic signals.\n",
    "\n",
    "\n",
    "Set the support size.\n",
    "To begin, we select the D4 filter."
   ]
  },
  {
   "cell_type": "code",
   "execution_count": 47,
   "metadata": {
    "collapsed": true,
    "deletable": true,
    "editable": true
   },
   "outputs": [],
   "source": [
    "p = 4;"
   ]
  },
  {
   "cell_type": "markdown",
   "metadata": {
    "deletable": true,
    "editable": true
   },
   "source": [
    "Create the low pass filter $h$ and the high pass $g$. We add a zero to ensure that it has a odd\n",
    "length. Note that the central value of $h$ corresponds to the 0 position."
   ]
  },
  {
   "cell_type": "code",
   "execution_count": 48,
   "metadata": {
    "collapsed": true,
    "deletable": true,
    "editable": true
   },
   "outputs": [],
   "source": [
    "h = [0, .482962913145, .836516303738, .224143868042, -.129409522551];\n",
    "h = h/norm(h);\n",
    "g = cat(1, 0, h[length(h):-1:2]) .* ( (-1).^(1:length(h)) );"
   ]
  },
  {
   "cell_type": "markdown",
   "metadata": {
    "deletable": true,
    "editable": true
   },
   "source": [
    "Note that the high pass filter $g$ is computed directly from the low\n",
    "pass filter as:\n",
    "$$g[n] = (-1)^{1-n}h[1-n]$$\n",
    "\n",
    "\n",
    "Display."
   ]
  },
  {
   "cell_type": "code",
   "execution_count": 49,
   "metadata": {
    "collapsed": false,
    "deletable": true,
    "editable": true
   },
   "outputs": [
    {
     "name": "stdout",
     "output_type": "stream",
     "text": [
      "h filter = [0.0,0.482963,0.836516,0.224144,-0.12941]\n",
      "g filter = [-0.0,-0.12941,-0.224144,0.836516,-0.482963]\n"
     ]
    }
   ],
   "source": [
    "println(\"h filter = \", h);\n",
    "println(\"g filter = \", g);"
   ]
  },
  {
   "cell_type": "markdown",
   "metadata": {
    "deletable": true,
    "editable": true
   },
   "source": [
    "Up and Down Filtering\n",
    "---------------------\n",
    "The basic wavelet operation is low/high filtering, followed by down\n",
    "sampling.\n",
    "\n",
    "\n",
    "Starting from some 1-D signal $f \\in \\RR^N$, one thus compute the\n",
    "low pass signal $a \\in \\RR^{N/2}$ and the high pass\n",
    "signal $d \\in \\RR^{N/2}$ as\n",
    "$$ a = (f \\star h) \\downarrow 2 \\qandq\n",
    "d = (f \\star g) \\downarrow 2$$\n",
    "where the sub-sampling is defined as\n",
    "$$ (u \\downarrow 2)[k] = u[2k]. $$\n",
    "\n",
    "\n",
    "Create a random signal $f \\in \\RR^N$."
   ]
  },
  {
   "cell_type": "code",
   "execution_count": 50,
   "metadata": {
    "collapsed": true,
    "deletable": true,
    "editable": true
   },
   "outputs": [],
   "source": [
    "N = 256;\n",
    "f = rand(N,1);"
   ]
  },
  {
   "cell_type": "markdown",
   "metadata": {
    "deletable": true,
    "editable": true
   },
   "source": [
    "Low/High pass filtering followed by sub-sampling."
   ]
  },
  {
   "cell_type": "code",
   "execution_count": 51,
   "metadata": {
    "collapsed": false,
    "deletable": true,
    "editable": true
   },
   "outputs": [
    {
     "ename": "LoadError",
     "evalue": "UndefVarError: subsampling not defined",
     "output_type": "error",
     "traceback": [
      "UndefVarError: subsampling not defined",
      ""
     ]
    }
   ],
   "source": [
    "a = subsampling( cconvol(f,h) );\n",
    "d = subsampling( cconvol(f,g) );"
   ]
  },
  {
   "cell_type": "markdown",
   "metadata": {
    "deletable": true,
    "editable": true
   },
   "source": [
    "For orthogonal filters, the reverse of this process is its dual\n",
    "(aka its transpose), which is upsampling followed by low/high pass\n",
    "filtering with the reversed filters and summing:\n",
    "$$ (a \\uparrow h) \\star \\tilde h + (d \\uparrow g) \\star \\tilde g = f $$\n",
    "where $\\tilde h[n]=h[-n]$ (computed modulo $N$) and\n",
    "$ (u \\uparrow 2)[2n]=u[n] $ and  $ (u \\uparrow 2)[2n+1]=0 $."
   ]
  },
  {
   "cell_type": "markdown",
   "metadata": {
    "deletable": true,
    "editable": true
   },
   "source": [
    "Test for energy conservation."
   ]
  },
  {
   "cell_type": "code",
   "execution_count": 10,
   "metadata": {
    "collapsed": false,
    "deletable": true,
    "editable": true
   },
   "outputs": [
    {
     "ename": "LoadError",
     "evalue": "UndefVarError: a not defined",
     "output_type": "error",
     "traceback": [
      "UndefVarError: a not defined",
      ""
     ]
    }
   ],
   "source": [
    "e0 = norm(f[:])^2;\n",
    "e1 = norm(a[:])^2 + norm(d[:])^2;\n",
    "println(\"Energy before : $e0\");\n",
    "println(\"Energy before : $e1\");"
   ]
  },
  {
   "cell_type": "markdown",
   "metadata": {
    "deletable": true,
    "editable": true
   },
   "source": [
    "Up-sampling followed by filtering."
   ]
  },
  {
   "cell_type": "code",
   "execution_count": 11,
   "metadata": {
    "collapsed": false,
    "deletable": true,
    "editable": true
   },
   "outputs": [
    {
     "ename": "LoadError",
     "evalue": "UndefVarError: cconvol not defined",
     "output_type": "error",
     "traceback": [
      "UndefVarError: cconvol not defined",
      ""
     ]
    }
   ],
   "source": [
    "f1 =  cconvol(upsampling(a),reverse(h)) + cconvol(upsampling(d),reverse(g));"
   ]
  },
  {
   "cell_type": "markdown",
   "metadata": {
    "deletable": true,
    "editable": true
   },
   "source": [
    "Check that we really recover the same signal."
   ]
  },
  {
   "cell_type": "code",
   "execution_count": 12,
   "metadata": {
    "collapsed": false,
    "deletable": true,
    "editable": true
   },
   "outputs": [
    {
     "ename": "LoadError",
     "evalue": "UndefVarError: f1 not defined",
     "output_type": "error",
     "traceback": [
      "UndefVarError: f1 not defined",
      ""
     ]
    }
   ],
   "source": [
    "println(\"Error |f-f1|/|f| = \", norm(f[:]-f1[:])/norm(f[:]) );"
   ]
  },
  {
   "cell_type": "markdown",
   "metadata": {
    "deletable": true,
    "editable": true
   },
   "source": [
    "Forward 2-D Wavelet transform\n",
    "-----------------------------\n",
    "The set of wavelet coefficients are computed with a fast algorithm that\n",
    "exploit the embedding of the approximation spaces $V_j$ spanned by the\n",
    "scaling function $ \\{ \\phi_{j,n} \\}_n $ defined as\n",
    "$$ \\phi_{j,n}(x) = \\frac{1}{2^j}\\phi^0\\pa{\\frac{x-2^j n}{2^j}}\n",
    "\\qwhereq \\phi^0(x)=\\phi(x_1)\\phi(x_2). $$\n",
    "\n",
    "\n",
    "The wavelet transform of $f$ is computed by using intermediate discretized low\n",
    "resolution images obtained by projection on the spaces $V_j$:\n",
    "$$ a_j[n] = \\dotp{f}{\\phi_{j,n}}. $$\n",
    "\n",
    "\n",
    "First we load an image of $N= n \\times n$ pixels."
   ]
  },
  {
   "cell_type": "code",
   "execution_count": 13,
   "metadata": {
    "collapsed": false,
    "deletable": true,
    "editable": true
   },
   "outputs": [
    {
     "ename": "LoadError",
     "evalue": "PyError (:PyObject_Call) <type 'exceptions.ValueError'>\nValueError(u\"Only know how to handle extensions: [u'png']; with Pillow installed matplotlib can handle more images\",)\n  File \"/Users/gpeyre/.julia/v0.5/Conda/deps/usr/lib/python2.7/site-packages/matplotlib/pyplot.py\", line 2314, in imread\n    return _imread(*args, **kwargs)\n  File \"/Users/gpeyre/.julia/v0.5/Conda/deps/usr/lib/python2.7/site-packages/matplotlib/image.py\", line 1282, in imread\n    'more images' % list(six.iterkeys(handlers)))\n",
     "output_type": "error",
     "traceback": [
      "PyError (:PyObject_Call) <type 'exceptions.ValueError'>\nValueError(u\"Only know how to handle extensions: [u'png']; with Pillow installed matplotlib can handle more images\",)\n  File \"/Users/gpeyre/.julia/v0.5/Conda/deps/usr/lib/python2.7/site-packages/matplotlib/pyplot.py\", line 2314, in imread\n    return _imread(*args, **kwargs)\n  File \"/Users/gpeyre/.julia/v0.5/Conda/deps/usr/lib/python2.7/site-packages/matplotlib/image.py\", line 1282, in imread\n    'more images' % list(six.iterkeys(handlers)))\n",
      "",
      " in pyerr_check at /Users/gpeyre/.julia/v0.5/PyCall/src/exception.jl:56 [inlined]",
      " in pyerr_check at /Users/gpeyre/.julia/v0.5/PyCall/src/exception.jl:61 [inlined]",
      " in macro expansion at /Users/gpeyre/.julia/v0.5/PyCall/src/exception.jl:81 [inlined]",
      " in #_pycall#66(::Array{Any,1}, ::Function, ::PyCall.PyObject, ::String, ::Vararg{String,N}) at /Users/gpeyre/.julia/v0.5/PyCall/src/PyCall.jl:620",
      " in _pycall(::PyCall.PyObject, ::String, ::Vararg{String,N}) at /Users/gpeyre/.julia/v0.5/PyCall/src/PyCall.jl:608",
      " in #pycall#70(::Array{Any,1}, ::Function, ::PyCall.PyObject, ::Type{PyCall.PyAny}, ::String, ::Vararg{String,N}) at /Users/gpeyre/.julia/v0.5/PyCall/src/PyCall.jl:642",
      " in pycall(::PyCall.PyObject, ::Type{PyCall.PyAny}, ::String, ::Vararg{String,N}) at /Users/gpeyre/.julia/v0.5/PyCall/src/PyCall.jl:642",
      " in #imread#65(::Array{Any,1}, ::Function, ::String, ::Vararg{String,N}) at /Users/gpeyre/.julia/v0.5/PyPlot/src/PyPlot.jl:172",
      " in load_image(::String, ::Int64, ::Int64, ::Int64, ::Int64) at /Users/gpeyre/.julia/v0.5/NtToolBox/src/signal.jl:12 (repeats 2 times)"
     ]
    }
   ],
   "source": [
    "n = 256;\n",
    "name = \"nt_toolbox/data/hibiscus.bmp\";\n",
    "f = load_image(name, N);\n",
    "f = rescale(sum(f,3));\n",
    "f = f[:,:,1];\n",
    "imageplot(f);"
   ]
  },
  {
   "cell_type": "markdown",
   "metadata": {
    "deletable": true,
    "editable": true
   },
   "source": [
    "The algorithm starts at the coarsest scale $ j=\\log_2(n)-1 $"
   ]
  },
  {
   "cell_type": "code",
   "execution_count": 14,
   "metadata": {
    "collapsed": true,
    "deletable": true,
    "editable": true
   },
   "outputs": [],
   "source": [
    "j = log2(n)-1;"
   ]
  },
  {
   "cell_type": "markdown",
   "metadata": {
    "deletable": true,
    "editable": true
   },
   "source": [
    "The first step of the algorithm perform filtering/downsampling in the\n",
    "horizontal direction.\n",
    "\n",
    "\n",
    "$$ \\tilde a_{j-1} = (a_j \\star^H h) \\downarrow^{2,H}  \\qandq\n",
    "   \\tilde d_{j-1} = (a_j \\star^H g) \\downarrow^{2,H}$$\n",
    "\n",
    "\n",
    "Here, the operator $\\star^H$ and $\\downarrow^{2,H}$\n",
    "are defined by applying $\\star$ and $\\downarrow^2$\n",
    "to each column of the matrix.\n",
    "\n",
    "\n",
    "The second step computes the filtering/downsampling in the vertical\n",
    "direction.\n",
    "\n",
    "\n",
    "$$ a_{j-1}   = (\\tilde a_j \\star^V h) \\downarrow^{2,V}  \\qandq\n",
    "   d_{j-1}^V = (\\tilde a_j \\star^V g) \\downarrow^{2,V},$$\n",
    "$$ d_{j-1}^H = (\\tilde d_j \\star^V h) \\downarrow^{2,V}  \\qandq\n",
    "   d_{j-1}^D = (\\tilde d_j \\star^V g) \\downarrow^{2,V}.$$\n",
    "\n",
    "\n",
    "\n",
    "A wavelet transform is\n",
    "computed by iterating high pass and loss pass filterings with |h| and |g|, followed by sub-samplings.\n",
    "Since we are in 2-D, we need to compute these filterings+subsamplings\n",
    "in the horizontal and then in the vertical direction (or\n",
    "in the reverse order, it does not mind).\n",
    "\n",
    "\n",
    "\n",
    "Initialize the transformed coefficients as the image itself and set the\n",
    "initial scale as the maximum one.\n",
    "|fW| will be iteratively transformated and will contains the\n",
    "coefficients."
   ]
  },
  {
   "cell_type": "code",
   "execution_count": 15,
   "metadata": {
    "collapsed": true,
    "deletable": true,
    "editable": true
   },
   "outputs": [],
   "source": [
    "fW = copy(f);"
   ]
  },
  {
   "cell_type": "markdown",
   "metadata": {
    "deletable": true,
    "editable": true
   },
   "source": [
    "Select the sub-part of the image to transform."
   ]
  },
  {
   "cell_type": "code",
   "execution_count": 16,
   "metadata": {
    "collapsed": false,
    "deletable": true,
    "editable": true
   },
   "outputs": [
    {
     "ename": "LoadError",
     "evalue": "BoundsError: attempt to access 256×1 Array{Float64,2} at index [1.0:1.0:256.0,1.0:1.0:256.0]",
     "output_type": "error",
     "traceback": [
      "BoundsError: attempt to access 256×1 Array{Float64,2} at index [1.0:1.0:256.0,1.0:1.0:256.0]",
      "",
      " in throw_boundserror(::Array{Float64,2}, ::Tuple{FloatRange{Float64},FloatRange{Float64}}) at ./abstractarray.jl:355",
      " in checkbounds at ./abstractarray.jl:284 [inlined]",
      " in _getindex at ./multidimensional.jl:270 [inlined]",
      " in getindex(::Array{Float64,2}, ::FloatRange{Float64}, ::FloatRange{Float64}) at ./abstractarray.jl:752"
     ]
    }
   ],
   "source": [
    "A = fW[1:2^(j+1),1:2^(j+1)];"
   ]
  },
  {
   "cell_type": "markdown",
   "metadata": {
    "deletable": true,
    "editable": true
   },
   "source": [
    "Apply high and low filtering+subsampling in the vertical direction (1st ooordinate),\n",
    "to get coarse and details."
   ]
  },
  {
   "cell_type": "code",
   "execution_count": 17,
   "metadata": {
    "collapsed": false,
    "deletable": true,
    "editable": true
   },
   "outputs": [
    {
     "ename": "LoadError",
     "evalue": "UndefVarError: subsampling not defined",
     "output_type": "error",
     "traceback": [
      "UndefVarError: subsampling not defined",
      ""
     ]
    }
   ],
   "source": [
    "Coarse = subsampling(cconvol(A,h,1),1);\n",
    "Detail = subsampling(cconvol(A,g,1),1);"
   ]
  },
  {
   "cell_type": "markdown",
   "metadata": {
    "deletable": true,
    "editable": true
   },
   "source": [
    "Check for energy conservation."
   ]
  },
  {
   "cell_type": "code",
   "execution_count": 18,
   "metadata": {
    "collapsed": false,
    "deletable": true,
    "editable": true
   },
   "outputs": [
    {
     "ename": "LoadError",
     "evalue": "UndefVarError: A not defined",
     "output_type": "error",
     "traceback": [
      "UndefVarError: A not defined",
      ""
     ]
    }
   ],
   "source": [
    "norm(A[:])^2 - norm(Coarse[:])^2 - norm(Detail[:])^2"
   ]
  },
  {
   "cell_type": "markdown",
   "metadata": {
    "deletable": true,
    "editable": true
   },
   "source": [
    "_Note:_ |subsamplling(A,1)| is equivalent to |A(1:2:end,:)| and\n",
    "|subsamplling(A,2)| is equivalent to |A(:,1:2:end)|.\n",
    "\n",
    "\n",
    "Concatenate them in the vertical direction to get the result."
   ]
  },
  {
   "cell_type": "code",
   "execution_count": 19,
   "metadata": {
    "collapsed": false,
    "deletable": true,
    "editable": true
   },
   "outputs": [
    {
     "ename": "LoadError",
     "evalue": "UndefVarError: Coarse not defined",
     "output_type": "error",
     "traceback": [
      "UndefVarError: Coarse not defined",
      ""
     ]
    }
   ],
   "source": [
    "A = cat(1, Coarse, Detail );"
   ]
  },
  {
   "cell_type": "markdown",
   "metadata": {
    "deletable": true,
    "editable": true
   },
   "source": [
    "Display the result of the vertical transform."
   ]
  },
  {
   "cell_type": "code",
   "execution_count": 20,
   "metadata": {
    "collapsed": false,
    "deletable": true,
    "editable": true
   },
   "outputs": [
    {
     "ename": "LoadError",
     "evalue": "MethodError: no method matching imageplot(::Array{Float64,2}, ::String, ::Int64, ::Int64, ::Int64)\u001b[0m\nClosest candidates are:\n  imageplot(::Any, ::Any, ::Any) at /Users/gpeyre/.julia/v0.5/NtToolBox/src/signal.jl:45\n  imageplot(::Any, ::Any) at /Users/gpeyre/.julia/v0.5/NtToolBox/src/signal.jl:45\n  imageplot(::Any) at /Users/gpeyre/.julia/v0.5/NtToolBox/src/signal.jl:45\u001b[0m",
     "output_type": "error",
     "traceback": [
      "MethodError: no method matching imageplot(::Array{Float64,2}, ::String, ::Int64, ::Int64, ::Int64)\u001b[0m\nClosest candidates are:\n  imageplot(::Any, ::Any, ::Any) at /Users/gpeyre/.julia/v0.5/NtToolBox/src/signal.jl:45\n  imageplot(::Any, ::Any) at /Users/gpeyre/.julia/v0.5/NtToolBox/src/signal.jl:45\n  imageplot(::Any) at /Users/gpeyre/.julia/v0.5/NtToolBox/src/signal.jl:45\u001b[0m",
      ""
     ]
    }
   ],
   "source": [
    "clf;\n",
    "imageplot(f,\"Original image\",1,2,1);\n",
    "imageplot(A,\"Vertical transform\",1,2,2);"
   ]
  },
  {
   "cell_type": "markdown",
   "metadata": {
    "deletable": true,
    "editable": true
   },
   "source": [
    "Apply high and low filtering+subsampling in the horizontal direction (2nd ooordinate),\n",
    "to get coarse and details."
   ]
  },
  {
   "cell_type": "code",
   "execution_count": 21,
   "metadata": {
    "collapsed": false,
    "deletable": true,
    "editable": true
   },
   "outputs": [
    {
     "ename": "LoadError",
     "evalue": "UndefVarError: subsampling not defined",
     "output_type": "error",
     "traceback": [
      "UndefVarError: subsampling not defined",
      ""
     ]
    }
   ],
   "source": [
    "Coarse = subsampling(cconvol(A,h,2),2);\n",
    "Detail = subsampling(cconvol(A,g,2),2);"
   ]
  },
  {
   "cell_type": "markdown",
   "metadata": {
    "deletable": true,
    "editable": true
   },
   "source": [
    "Concatenate them in the horizontal direction to get the result."
   ]
  },
  {
   "cell_type": "code",
   "execution_count": 22,
   "metadata": {
    "collapsed": false,
    "deletable": true,
    "editable": true
   },
   "outputs": [
    {
     "ename": "LoadError",
     "evalue": "UndefVarError: Coarse not defined",
     "output_type": "error",
     "traceback": [
      "UndefVarError: Coarse not defined",
      ""
     ]
    }
   ],
   "source": [
    "A = cat(2, Coarse, Detail );"
   ]
  },
  {
   "cell_type": "markdown",
   "metadata": {
    "deletable": true,
    "editable": true
   },
   "source": [
    "Assign the transformed data."
   ]
  },
  {
   "cell_type": "code",
   "execution_count": 23,
   "metadata": {
    "collapsed": false,
    "deletable": true,
    "editable": true
   },
   "outputs": [
    {
     "ename": "LoadError",
     "evalue": "UndefVarError: A not defined",
     "output_type": "error",
     "traceback": [
      "UndefVarError: A not defined",
      ""
     ]
    }
   ],
   "source": [
    "fW[1:2^(j+1),1:2^(j+1)] = A;"
   ]
  },
  {
   "cell_type": "markdown",
   "metadata": {
    "deletable": true,
    "editable": true
   },
   "source": [
    "Display the result of the horizontal transform."
   ]
  },
  {
   "cell_type": "code",
   "execution_count": 24,
   "metadata": {
    "collapsed": false,
    "deletable": true,
    "editable": true
   },
   "outputs": [
    {
     "ename": "LoadError",
     "evalue": "MethodError: no method matching imageplot(::Array{Float64,2}, ::String, ::Int64, ::Int64, ::Int64)\u001b[0m\nClosest candidates are:\n  imageplot(::Any, ::Any, ::Any) at /Users/gpeyre/.julia/v0.5/NtToolBox/src/signal.jl:45\n  imageplot(::Any, ::Any) at /Users/gpeyre/.julia/v0.5/NtToolBox/src/signal.jl:45\n  imageplot(::Any) at /Users/gpeyre/.julia/v0.5/NtToolBox/src/signal.jl:45\u001b[0m",
     "output_type": "error",
     "traceback": [
      "MethodError: no method matching imageplot(::Array{Float64,2}, ::String, ::Int64, ::Int64, ::Int64)\u001b[0m\nClosest candidates are:\n  imageplot(::Any, ::Any, ::Any) at /Users/gpeyre/.julia/v0.5/NtToolBox/src/signal.jl:45\n  imageplot(::Any, ::Any) at /Users/gpeyre/.julia/v0.5/NtToolBox/src/signal.jl:45\n  imageplot(::Any) at /Users/gpeyre/.julia/v0.5/NtToolBox/src/signal.jl:45\u001b[0m",
      ""
     ]
    }
   ],
   "source": [
    "clf;\n",
    "imageplot(f,\"Original image\",1,2,1);\n",
    "subplot(1,2,2);\n",
    "plot_wavelet(fW,log2(n)-1); \n",
    "title(\"Transformed\");"
   ]
  },
  {
   "cell_type": "code",
   "execution_count": 25,
   "metadata": {
    "collapsed": false,
    "deletable": true,
    "editable": true
   },
   "outputs": [
    {
     "name": "stdout",
     "output_type": "stream",
     "text": [
      "0.0"
     ]
    }
   ],
   "source": [
    "print( norm(f[:])-norm(fW[:]) )"
   ]
  },
  {
   "cell_type": "markdown",
   "metadata": {
    "deletable": true,
    "editable": true
   },
   "source": [
    "__Exercise 1__\n",
    "\n",
    "Implement a full wavelet transform that extract iteratively wavelet\n",
    "coefficients, by repeating these steps. Take care of choosing the\n",
    "correct number of steps."
   ]
  },
  {
   "cell_type": "code",
   "execution_count": 26,
   "metadata": {
    "collapsed": false,
    "deletable": true,
    "editable": true
   },
   "outputs": [
    {
     "ename": "LoadError",
     "evalue": "LoadError: BoundsError: attempt to access 256×1 Array{Float64,2} at index [1.0:1.0:256.0,1.0:1.0:256.0]\nwhile loading /Users/gpeyre/Dropbox/github/numerical-tours/julia/nt_solutions/wavelet_4_daubechies2d/exo1.jl, in expression starting on line 5",
     "output_type": "error",
     "traceback": [
      "LoadError: BoundsError: attempt to access 256×1 Array{Float64,2} at index [1.0:1.0:256.0,1.0:1.0:256.0]\nwhile loading /Users/gpeyre/Dropbox/github/numerical-tours/julia/nt_solutions/wavelet_4_daubechies2d/exo1.jl, in expression starting on line 5",
      "",
      " in throw_boundserror(::Array{Float64,2}, ::Tuple{FloatRange{Float64},FloatRange{Float64}}) at ./abstractarray.jl:355",
      " in checkbounds at ./abstractarray.jl:284 [inlined]",
      " in _getindex at ./multidimensional.jl:270 [inlined]",
      " in getindex(::Array{Float64,2}, ::FloatRange{Float64}, ::FloatRange{Float64}) at ./abstractarray.jl:752",
      " in macro expansion; at /Users/gpeyre/Dropbox/github/numerical-tours/julia/nt_solutions/wavelet_4_daubechies2d/exo1.jl:6 [inlined]",
      " in anonymous at ./<missing>:?",
      " in include_from_node1(::String) at ./loading.jl:488",
      " in include_from_node1(::String) at /Applications/Julia-0.5.app/Contents/Resources/julia/lib/julia/sys.dylib:?"
     ]
    }
   ],
   "source": [
    "include(\"nt_solutions/wavelet_4_daubechies2d/exo1.jl\");"
   ]
  },
  {
   "cell_type": "markdown",
   "metadata": {
    "deletable": true,
    "editable": true
   },
   "source": [
    "Check for orthogonality of the transform (conservation of energy)."
   ]
  },
  {
   "cell_type": "code",
   "execution_count": 27,
   "metadata": {
    "collapsed": false,
    "deletable": true,
    "editable": true
   },
   "outputs": [
    {
     "name": "stdout",
     "output_type": "stream",
     "text": [
      "Energy of the signal       = 81.92047340519909\n",
      "Energy of the coefficients = 81.92047340519909\n"
     ]
    }
   ],
   "source": [
    "e0 = norm(f[:])^2; \n",
    "e1 = norm(fW[:])^2; \n",
    "println(\"Energy of the signal       = $e0\");\n",
    "println(\"Energy of the coefficients = $e1\");"
   ]
  },
  {
   "cell_type": "markdown",
   "metadata": {
    "deletable": true,
    "editable": true
   },
   "source": [
    "Display the wavelet coefficients."
   ]
  },
  {
   "cell_type": "code",
   "execution_count": 28,
   "metadata": {
    "collapsed": false,
    "deletable": true,
    "editable": true
   },
   "outputs": [
    {
     "ename": "LoadError",
     "evalue": "MethodError: no method matching imageplot(::Array{Float64,2}, ::String, ::Int64, ::Int64, ::Int64)\u001b[0m\nClosest candidates are:\n  imageplot(::Any, ::Any, ::Any) at /Users/gpeyre/.julia/v0.5/NtToolBox/src/signal.jl:45\n  imageplot(::Any, ::Any) at /Users/gpeyre/.julia/v0.5/NtToolBox/src/signal.jl:45\n  imageplot(::Any) at /Users/gpeyre/.julia/v0.5/NtToolBox/src/signal.jl:45\u001b[0m",
     "output_type": "error",
     "traceback": [
      "MethodError: no method matching imageplot(::Array{Float64,2}, ::String, ::Int64, ::Int64, ::Int64)\u001b[0m\nClosest candidates are:\n  imageplot(::Any, ::Any, ::Any) at /Users/gpeyre/.julia/v0.5/NtToolBox/src/signal.jl:45\n  imageplot(::Any, ::Any) at /Users/gpeyre/.julia/v0.5/NtToolBox/src/signal.jl:45\n  imageplot(::Any) at /Users/gpeyre/.julia/v0.5/NtToolBox/src/signal.jl:45\u001b[0m",
      ""
     ]
    }
   ],
   "source": [
    "clf;\n",
    "imageplot(f, \"Original\", 1,2,1);\n",
    "subplot(1,2,2);\n",
    "plot_wavelet(fW, Jmin); \n",
    "title(\"Transformed\");"
   ]
  },
  {
   "cell_type": "markdown",
   "metadata": {
    "deletable": true,
    "editable": true
   },
   "source": [
    "Inverse 2-D Wavelet transform.\n",
    "------------------------------\n",
    "Inversing the wavelet transform means retrieving a signal |f1| from the\n",
    "coefficients |fW|. If |fW| are exactely the coefficients of |f|, then\n",
    "|f=f1| up to machine precision.\n",
    "\n",
    "\n",
    "Initialize the image to recover |f1| as the transformed coefficient, and\n",
    "select the smallest possible scale."
   ]
  },
  {
   "cell_type": "code",
   "execution_count": 29,
   "metadata": {
    "collapsed": true,
    "deletable": true,
    "editable": true
   },
   "outputs": [],
   "source": [
    "f1 = copy(fW);\n",
    "j = 0;"
   ]
  },
  {
   "cell_type": "markdown",
   "metadata": {
    "deletable": true,
    "editable": true
   },
   "source": [
    "Select the sub-coefficient to transform."
   ]
  },
  {
   "cell_type": "code",
   "execution_count": 30,
   "metadata": {
    "collapsed": false,
    "deletable": true,
    "editable": true
   },
   "outputs": [
    {
     "ename": "LoadError",
     "evalue": "BoundsError: attempt to access 256×1 Array{Float64,2} at index [1:2,1:2]",
     "output_type": "error",
     "traceback": [
      "BoundsError: attempt to access 256×1 Array{Float64,2} at index [1:2,1:2]",
      "",
      " in throw_boundserror(::Array{Float64,2}, ::Tuple{UnitRange{Int64},UnitRange{Int64}}) at ./abstractarray.jl:355",
      " in checkbounds at ./abstractarray.jl:284 [inlined]",
      " in _getindex at ./multidimensional.jl:270 [inlined]",
      " in getindex(::Array{Float64,2}, ::UnitRange{Int64}, ::UnitRange{Int64}) at ./abstractarray.jl:752"
     ]
    }
   ],
   "source": [
    "A = f1[1:2^(j+1),1:2^(j+1)];"
   ]
  },
  {
   "cell_type": "markdown",
   "metadata": {
    "deletable": true,
    "editable": true
   },
   "source": [
    "Retrieve coarse and detail coefficients in the vertical direction (you\n",
    "can begin by the other direction, this has no importance)."
   ]
  },
  {
   "cell_type": "code",
   "execution_count": 31,
   "metadata": {
    "collapsed": false,
    "deletable": true,
    "editable": true
   },
   "outputs": [
    {
     "ename": "LoadError",
     "evalue": "UndefVarError: A not defined",
     "output_type": "error",
     "traceback": [
      "UndefVarError: A not defined",
      ""
     ]
    }
   ],
   "source": [
    "Coarse = A[1:2^j,:];\n",
    "Detail = A[2^j+1:2^(j+1),:];"
   ]
  },
  {
   "cell_type": "markdown",
   "metadata": {
    "deletable": true,
    "editable": true
   },
   "source": [
    "Undo the transform by up-sampling and then dual filtering."
   ]
  },
  {
   "cell_type": "code",
   "execution_count": 32,
   "metadata": {
    "collapsed": true,
    "deletable": true,
    "editable": true
   },
   "outputs": [],
   "source": [
    "Coarse = cconvol(upsampling(Coarse,1),reverse(h),1);\n",
    "Detail = cconvol(upsampling(Detail,1),reverse(g),1);"
   ]
  },
  {
   "cell_type": "markdown",
   "metadata": {
    "deletable": true,
    "editable": true
   },
   "source": [
    "Recover the coefficient by summing."
   ]
  },
  {
   "cell_type": "code",
   "execution_count": 33,
   "metadata": {
    "collapsed": false,
    "deletable": true,
    "editable": true
   },
   "outputs": [
    {
     "ename": "LoadError",
     "evalue": "UndefVarError: Coarse not defined",
     "output_type": "error",
     "traceback": [
      "UndefVarError: Coarse not defined",
      ""
     ]
    }
   ],
   "source": [
    "A = Coarse + Detail;"
   ]
  },
  {
   "cell_type": "markdown",
   "metadata": {
    "deletable": true,
    "editable": true
   },
   "source": [
    "Retrieve coarse and detail coefficients in the vertical direction (you\n",
    "can begin by the other direction, this has no importance)."
   ]
  },
  {
   "cell_type": "code",
   "execution_count": 34,
   "metadata": {
    "collapsed": false,
    "deletable": true,
    "editable": true
   },
   "outputs": [
    {
     "ename": "LoadError",
     "evalue": "UndefVarError: A not defined",
     "output_type": "error",
     "traceback": [
      "UndefVarError: A not defined",
      ""
     ]
    }
   ],
   "source": [
    "Coarse = A[:,1:2^j];\n",
    "Detail = A[:,2^j+1:2^(j+1)];"
   ]
  },
  {
   "cell_type": "markdown",
   "metadata": {
    "deletable": true,
    "editable": true
   },
   "source": [
    "Undo the transform by up-sampling and then dual filtering."
   ]
  },
  {
   "cell_type": "code",
   "execution_count": 35,
   "metadata": {
    "collapsed": false,
    "deletable": true,
    "editable": true
   },
   "outputs": [
    {
     "ename": "LoadError",
     "evalue": "UndefVarError: cconvol not defined",
     "output_type": "error",
     "traceback": [
      "UndefVarError: cconvol not defined",
      ""
     ]
    }
   ],
   "source": [
    "Coarse = cconvol(upsampling(Coarse,2),reverse(h),2);\n",
    "Detail = cconvol(upsampling(Detail,2),reverse(g),2);"
   ]
  },
  {
   "cell_type": "markdown",
   "metadata": {
    "deletable": true,
    "editable": true
   },
   "source": [
    "Recover the coefficient by summing."
   ]
  },
  {
   "cell_type": "code",
   "execution_count": 36,
   "metadata": {
    "collapsed": false,
    "deletable": true,
    "editable": true
   },
   "outputs": [
    {
     "ename": "LoadError",
     "evalue": "UndefVarError: Coarse not defined",
     "output_type": "error",
     "traceback": [
      "UndefVarError: Coarse not defined",
      ""
     ]
    }
   ],
   "source": [
    "A = Coarse + Detail;"
   ]
  },
  {
   "cell_type": "markdown",
   "metadata": {
    "deletable": true,
    "editable": true
   },
   "source": [
    "Assign the result."
   ]
  },
  {
   "cell_type": "code",
   "execution_count": 37,
   "metadata": {
    "collapsed": false,
    "deletable": true,
    "editable": true
   },
   "outputs": [
    {
     "ename": "LoadError",
     "evalue": "UndefVarError: A not defined",
     "output_type": "error",
     "traceback": [
      "UndefVarError: A not defined",
      ""
     ]
    }
   ],
   "source": [
    "f1[1:2^(j+1),1:2^(j+1)] = A;"
   ]
  },
  {
   "cell_type": "markdown",
   "metadata": {
    "deletable": true,
    "editable": true
   },
   "source": [
    "__Exercise 2__\n",
    "\n",
    "Write the inverse wavelet transform that computes |f1| from the\n",
    "coefficients |fW|. Compare |f1| with |f|."
   ]
  },
  {
   "cell_type": "code",
   "execution_count": 38,
   "metadata": {
    "collapsed": false,
    "deletable": true,
    "editable": true
   },
   "outputs": [
    {
     "ename": "LoadError",
     "evalue": "LoadError: BoundsError: attempt to access 256×1 Array{Float64,2} at index [1.0:1.0:4.0,1.0:1.0:4.0]\nwhile loading /Users/gpeyre/Dropbox/github/numerical-tours/julia/nt_solutions/wavelet_4_daubechies2d/exo2.jl, in expression starting on line 3",
     "output_type": "error",
     "traceback": [
      "LoadError: BoundsError: attempt to access 256×1 Array{Float64,2} at index [1.0:1.0:4.0,1.0:1.0:4.0]\nwhile loading /Users/gpeyre/Dropbox/github/numerical-tours/julia/nt_solutions/wavelet_4_daubechies2d/exo2.jl, in expression starting on line 3",
      "",
      " in throw_boundserror(::Array{Float64,2}, ::Tuple{FloatRange{Float64},FloatRange{Float64}}) at ./abstractarray.jl:355",
      " in checkbounds at ./abstractarray.jl:284 [inlined]",
      " in _getindex at ./multidimensional.jl:270 [inlined]",
      " in getindex(::Array{Float64,2}, ::FloatRange{Float64}, ::FloatRange{Float64}) at ./abstractarray.jl:752",
      " in macro expansion; at /Users/gpeyre/Dropbox/github/numerical-tours/julia/nt_solutions/wavelet_4_daubechies2d/exo2.jl:4 [inlined]",
      " in anonymous at ./<missing>:?",
      " in include_from_node1(::String) at ./loading.jl:488",
      " in include_from_node1(::String) at /Applications/Julia-0.5.app/Contents/Resources/julia/lib/julia/sys.dylib:?"
     ]
    }
   ],
   "source": [
    "include(\"nt_solutions/wavelet_4_daubechies2d/exo2.jl\");"
   ]
  },
  {
   "cell_type": "markdown",
   "metadata": {
    "deletable": true,
    "editable": true
   },
   "source": [
    "Check that we recover exactly the original image."
   ]
  },
  {
   "cell_type": "code",
   "execution_count": 39,
   "metadata": {
    "collapsed": false,
    "deletable": true,
    "editable": true
   },
   "outputs": [
    {
     "name": "stdout",
     "output_type": "stream",
     "text": [
      "Error |f-f1|/|f| = 0.0"
     ]
    }
   ],
   "source": [
    "e = norm(f[:]-f1[:])/norm(f[:]);\n",
    "print(\"Error |f-f1|/|f| = $e\");"
   ]
  },
  {
   "cell_type": "markdown",
   "metadata": {
    "deletable": true,
    "editable": true
   },
   "source": [
    "Linear 2-D Wavelet Approximation\n",
    "--------------------------------\n",
    "Linear approximation is performed by setting to zero the fine scale wawelets coefficients\n",
    "and then performing the inverse wavelet transform.\n",
    "\n",
    "\n",
    "Here we keep only 1/16 of the wavelet coefficient, thus calculating an |m|\n",
    "term approximation with |m=n^2/16|."
   ]
  },
  {
   "cell_type": "code",
   "execution_count": 40,
   "metadata": {
    "collapsed": false,
    "deletable": true,
    "editable": true
   },
   "outputs": [
    {
     "ename": "LoadError",
     "evalue": "BoundsError: attempt to access 256×1 Array{Float64,2} at index [1.0:1.0:64.0,1.0:1.0:64.0]",
     "output_type": "error",
     "traceback": [
      "BoundsError: attempt to access 256×1 Array{Float64,2} at index [1.0:1.0:64.0,1.0:1.0:64.0]",
      "",
      " in throw_boundserror(::Array{Float64,2}, ::Tuple{FloatRange{Float64},FloatRange{Float64}}) at ./abstractarray.jl:355",
      " in checkbounds at ./abstractarray.jl:284 [inlined]",
      " in _getindex at ./multidimensional.jl:270 [inlined]",
      " in getindex(::Array{Float64,2}, ::FloatRange{Float64}, ::FloatRange{Float64}) at ./abstractarray.jl:752"
     ]
    }
   ],
   "source": [
    "eta = 4;\n",
    "fWLin = zeros(n,n);\n",
    "fWLin[1:n/eta,1:n/eta] = fW[1:n/eta,1:n/eta];"
   ]
  },
  {
   "cell_type": "markdown",
   "metadata": {
    "deletable": true,
    "editable": true
   },
   "source": [
    "__Exercise 3:__\n",
    "Compute and display the linear approximation |fLin| obtained from the\n",
    "coefficients |fWLin| by inverse wavelet transform."
   ]
  },
  {
   "cell_type": "code",
   "execution_count": 41,
   "metadata": {
    "collapsed": false,
    "deletable": true,
    "editable": true
   },
   "outputs": [
    {
     "ename": "LoadError",
     "evalue": "LoadError: BoundsError: attempt to access 256×1 Array{Float64,2} at index [1:256,1:256]\nwhile loading /Users/gpeyre/Dropbox/github/numerical-tours/julia/nt_solutions/wavelet_4_daubechies2d/exo3.jl, in expression starting on line 3",
     "output_type": "error",
     "traceback": [
      "LoadError: BoundsError: attempt to access 256×1 Array{Float64,2} at index [1:256,1:256]\nwhile loading /Users/gpeyre/Dropbox/github/numerical-tours/julia/nt_solutions/wavelet_4_daubechies2d/exo3.jl, in expression starting on line 3",
      "",
      " in throw_boundserror(::Array{Float64,2}, ::Tuple{UnitRange{Int64},UnitRange{Int64}}) at ./abstractarray.jl:355",
      " in checkbounds at ./abstractarray.jl:284 [inlined]",
      " in _getindex at ./multidimensional.jl:270 [inlined]",
      " in getindex at ./abstractarray.jl:752 [inlined]",
      " in subselect(::Array{Float64,2}, ::UnitRange{Int64}) at /Users/gpeyre/.julia/v0.5/NtToolBox/src/signal.jl:333",
      " in perform_wavortho_transf(::Array{Float64,2}, ::Int64, ::Int64, ::Array{Float64,1}) at /Users/gpeyre/.julia/v0.5/NtToolBox/src/signal.jl:364",
      " in include_from_node1(::String) at ./loading.jl:488",
      " in include_from_node1(::String) at /Applications/Julia-0.5.app/Contents/Resources/julia/lib/julia/sys.dylib:?"
     ]
    }
   ],
   "source": [
    "include(\"nt_solutions/wavelet_4_daubechies2d/exo3.jl\");"
   ]
  },
  {
   "cell_type": "markdown",
   "metadata": {
    "deletable": true,
    "editable": true
   },
   "source": [
    "Non-Linear 2-D Wavelet Approximation\n",
    "------------------------------------\n",
    "A non-linear |m|-term approximation is obtained by keeping only the |m|\n",
    "largest coefficients, which creates the smallest possible error.\n",
    "\n",
    "\n",
    "Removing the smallest coefficient, to keep the |m|-largest, is\n",
    "equivalently obtainedby thresholding the coefficients to\n",
    "set to 0 the smallest coefficients.\n",
    "\n",
    "\n",
    "First select a threshold value (the largest the threshold, the more\n",
    "agressive the approximation)."
   ]
  },
  {
   "cell_type": "code",
   "execution_count": 42,
   "metadata": {
    "collapsed": true,
    "deletable": true,
    "editable": true
   },
   "outputs": [],
   "source": [
    "T = .2;"
   ]
  },
  {
   "cell_type": "markdown",
   "metadata": {
    "deletable": true,
    "editable": true
   },
   "source": [
    "Then set to 0 coefficients with magnitude below the threshold."
   ]
  },
  {
   "cell_type": "code",
   "execution_count": 43,
   "metadata": {
    "collapsed": true,
    "deletable": true,
    "editable": true
   },
   "outputs": [],
   "source": [
    "fWT = fW .* float(abs(fW).>T);"
   ]
  },
  {
   "cell_type": "markdown",
   "metadata": {
    "deletable": true,
    "editable": true
   },
   "source": [
    "Display thresholded coefficients."
   ]
  },
  {
   "cell_type": "code",
   "execution_count": 44,
   "metadata": {
    "collapsed": false,
    "deletable": true,
    "editable": true
   },
   "outputs": [
    {
     "ename": "LoadError",
     "evalue": "BoundsError: attempt to access 256×1 Array{Float64,2} at index [1:2,1:2]",
     "output_type": "error",
     "traceback": [
      "BoundsError: attempt to access 256×1 Array{Float64,2} at index [1:2,1:2]",
      "",
      " in throw_boundserror(::Array{Float64,2}, ::Tuple{UnitRange{Int64},UnitRange{Int64}}) at ./abstractarray.jl:355",
      " in checkbounds at ./abstractarray.jl:284 [inlined]",
      " in _getindex at ./multidimensional.jl:270 [inlined]",
      " in getindex at ./abstractarray.jl:752 [inlined]",
      " in plot_wavelet(::Array{Float64,2}, ::Int64) at /Users/gpeyre/.julia/v0.5/NtToolBox/src/signal.jl:278"
     ]
    }
   ],
   "source": [
    "clf;\n",
    "subplot(1,2,1);\n",
    "plot_wavelet(fW,Jmin); \n",
    "title(\"Original coefficients\");\n",
    "subplot(1,2,2);\n",
    "plot_wavelet(fWT,Jmin); \n",
    "title(\"Thresholded coefficients\");"
   ]
  },
  {
   "cell_type": "markdown",
   "metadata": {
    "deletable": true,
    "editable": true
   },
   "source": [
    "__Exercise 4__\n",
    "\n",
    "Find the thresholds |T| so that the number |m| of remaining coefficients in\n",
    "|fWT| are |m=n^2/16|. Use this threshold to compute |fWT| and then display\n",
    "the corresponding approximation |Mnlin| of |f|. Compare this result with\n",
    "the linear approximation.\n",
    "umber of kept coefficients\n",
    "ompute the threshold T\n",
    "elect threshold\n",
    "nverse transform\n",
    "nverse\n",
    "isplay"
   ]
  },
  {
   "cell_type": "code",
   "execution_count": 45,
   "metadata": {
    "collapsed": false,
    "deletable": true,
    "editable": true
   },
   "outputs": [
    {
     "ename": "LoadError",
     "evalue": "LoadError: BoundsError: attempt to access 256×1 Array{Float64,2} at index [1:256,1:256]\nwhile loading /Users/gpeyre/Dropbox/github/numerical-tours/julia/nt_solutions/wavelet_4_daubechies2d/exo4.jl, in expression starting on line 5",
     "output_type": "error",
     "traceback": [
      "LoadError: BoundsError: attempt to access 256×1 Array{Float64,2} at index [1:256,1:256]\nwhile loading /Users/gpeyre/Dropbox/github/numerical-tours/julia/nt_solutions/wavelet_4_daubechies2d/exo4.jl, in expression starting on line 5",
      "",
      " in throw_boundserror(::Array{Float64,2}, ::Tuple{UnitRange{Int64},UnitRange{Int64}}) at ./abstractarray.jl:355",
      " in checkbounds at ./abstractarray.jl:284 [inlined]",
      " in _getindex at ./multidimensional.jl:270 [inlined]",
      " in getindex at ./abstractarray.jl:752 [inlined]",
      " in subselect(::Array{Float64,2}, ::UnitRange{Int64}) at /Users/gpeyre/.julia/v0.5/NtToolBox/src/signal.jl:333",
      " in perform_wavortho_transf(::Array{Float64,2}, ::Int64, ::Int64, ::Array{Float64,1}) at /Users/gpeyre/.julia/v0.5/NtToolBox/src/signal.jl:364",
      " in include_from_node1(::String) at ./loading.jl:488",
      " in include_from_node1(::String) at /Applications/Julia-0.5.app/Contents/Resources/julia/lib/julia/sys.dylib:?"
     ]
    }
   ],
   "source": [
    "include(\"nt_solutions/wavelet_4_daubechies2d/exo4.jl\");"
   ]
  }
 ],
 "metadata": {
  "kernelspec": {
   "display_name": "Julia 0.5.0",
   "language": "julia",
   "name": "julia-0.5"
  },
  "language_info": {
   "file_extension": ".jl",
   "mimetype": "application/julia",
   "name": "julia",
   "version": "0.5.0"
  }
 },
 "nbformat": 4,
 "nbformat_minor": 1
}
